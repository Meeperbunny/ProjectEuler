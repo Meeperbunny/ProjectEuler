{
 "cells": [
  {
   "cell_type": "code",
   "execution_count": 2,
   "metadata": {},
   "outputs": [],
   "source": [
    "from math import gcd"
   ]
  },
  {
   "cell_type": "code",
   "execution_count": 3,
   "metadata": {},
   "outputs": [],
   "source": [
    "from collections import Counter"
   ]
  },
  {
   "cell_type": "code",
   "execution_count": 4,
   "metadata": {},
   "outputs": [
    {
     "data": {
      "text/plain": [
       "26"
      ]
     },
     "execution_count": 4,
     "metadata": {},
     "output_type": "execute_result"
    }
   ],
   "source": [
    "4 * 7 - 2"
   ]
  },
  {
   "cell_type": "code",
   "execution_count": 6,
   "metadata": {},
   "outputs": [],
   "source": [
    "def pfs(n):\n",
    "    pfs = []\n",
    "    for i in range(2, n + 1):\n",
    "        while n % i == 0:\n",
    "            n //= i\n",
    "            pfs.append(i)\n",
    "    return pfs"
   ]
  },
  {
   "cell_type": "code",
   "execution_count": 17,
   "metadata": {},
   "outputs": [
    {
     "data": {
      "text/plain": [
       "(1931, 1233161128440)"
      ]
     },
     "execution_count": 17,
     "metadata": {},
     "output_type": "execute_result"
    }
   ],
   "source": [
    "N = 10000\n",
    "ls = []\n",
    "for p in range(2, N):\n",
    "    for q in list(range(p, 2 * p)): #+ [p * (p - 1) + 1]:\n",
    "        if gcd(p, q) == 1:\n",
    "            # print(p, q, (p * q - 1) / (1 / p + 1 / q))\n",
    "            upper = p * q * (p * q - 1)\n",
    "            lower = p + q\n",
    "            if upper % lower == 0:\n",
    "                num = upper // lower\n",
    "                r = num // (p * q)\n",
    "                # print(\"## PQR:\", \"({}, {}, {})\".format(p, q, r), num)\n",
    "                # print((p * q - 1), (p + q), (1 - p * q)/(p + q))\n",
    "                # print()\n",
    "                # ls.append((num, p, q, p * q, r))\n",
    "                ls.append(num)\n",
    "L = sorted(ls)\n",
    "len(L), max(L)\n",
    "# L"
   ]
  },
  {
   "cell_type": "code",
   "execution_count": null,
   "metadata": {},
   "outputs": [],
   "source": []
  },
  {
   "cell_type": "code",
   "execution_count": null,
   "metadata": {},
   "outputs": [],
   "source": []
  },
  {
   "cell_type": "code",
   "execution_count": null,
   "metadata": {},
   "outputs": [],
   "source": []
  },
  {
   "cell_type": "code",
   "execution_count": null,
   "metadata": {},
   "outputs": [
    {
     "data": {
      "text/plain": [
       "[(6, 2, 3, 1),\n",
       " (6, 3, 2, 1),\n",
       " (42, 3, 7, 2),\n",
       " (42, 7, 3, 2),\n",
       " (120, 5, 8, 3),\n",
       " (120, 8, 5, 3),\n",
       " (156, 4, 13, 3),\n",
       " (156, 13, 4, 3),\n",
       " (420, 5, 21, 4),\n",
       " (420, 21, 5, 4),\n",
       " (630, 7, 18, 5),\n",
       " (630, 18, 7, 5),\n",
       " (930, 6, 31, 5),\n",
       " (930, 31, 6, 5),\n",
       " (1428, 12, 17, 7),\n",
       " (1428, 17, 12, 7),\n",
       " (1806, 7, 43, 6),\n",
       " (1806, 43, 7, 6),\n",
       " (2016, 9, 32, 7),\n",
       " (2016, 32, 9, 7),\n",
       " (2184, 13, 21, 8),\n",
       " (2184, 21, 13, 8),\n",
       " (3192, 8, 57, 7),\n",
       " (3192, 57, 8, 7),\n",
       " (4950, 11, 50, 9),\n",
       " (4950, 50, 11, 9),\n",
       " (5256, 9, 73, 8),\n",
       " (5256, 73, 9, 8),\n",
       " (8190, 10, 91, 9),\n",
       " (8190, 91, 10, 9),\n",
       " (8364, 17, 41, 12),\n",
       " (8364, 41, 17, 12),\n",
       " (8970, 23, 30, 13),\n",
       " (8970, 30, 23, 13),\n",
       " (10296, 13, 72, 11),\n",
       " (10296, 72, 13, 11),\n",
       " (10998, 18, 47, 13),\n",
       " (10998, 47, 18, 13),\n",
       " (12210, 11, 111, 10),\n",
       " (12210, 111, 11, 10),\n",
       " (17556, 12, 133, 11),\n",
       " (17556, 133, 12, 11),\n",
       " (19110, 15, 98, 13),\n",
       " (19110, 98, 15, 13),\n",
       " (21114, 27, 46, 17),\n",
       " (21114, 46, 27, 17),\n",
       " (23994, 31, 43, 18),\n",
       " (23994, 43, 31, 18),\n",
       " (24492, 13, 157, 12)]"
      ]
     },
     "execution_count": 99,
     "metadata": {},
     "output_type": "execute_result"
    }
   ],
   "source": [
    "A = set()\n",
    "seen = set()\n",
    "N = 1000\n",
    "for p in range(1, N):\n",
    "    for q in range(1, N):\n",
    "        added = p + q\n",
    "        mult = p * q\n",
    "        r = (mult - 1) // added\n",
    "        if r * added == mult - 1:\n",
    "            # if p * q * r not in seen:\n",
    "                # print(\"FSEEN\", p, q, r)\n",
    "            A.add((p * q * r, p, q, r))\n",
    "sorted(list(A))[1:50]"
   ]
  },
  {
   "cell_type": "code",
   "execution_count": null,
   "metadata": {},
   "outputs": [],
   "source": []
  },
  {
   "cell_type": "code",
   "execution_count": null,
   "metadata": {},
   "outputs": [
    {
     "data": {
      "text/plain": [
       "[(6, 2, 3, 1),\n",
       " (42, 3, 7, 2),\n",
       " (120, 5, 8, 3),\n",
       " (156, 4, 13, 3),\n",
       " (420, 5, 21, 4),\n",
       " (630, 7, 18, 5),\n",
       " (930, 6, 31, 5),\n",
       " (1428, 12, 17, 7),\n",
       " (1806, 7, 43, 6),\n",
       " (2016, 9, 32, 7),\n",
       " (2184, 13, 21, 8),\n",
       " (3192, 8, 57, 7),\n",
       " (4950, 11, 50, 9),\n",
       " (5256, 9, 73, 8),\n",
       " (8190, 10, 91, 9),\n",
       " (8364, 17, 41, 12),\n",
       " (8970, 23, 30, 13),\n",
       " (10296, 13, 72, 11),\n",
       " (10998, 18, 47, 13),\n",
       " (12210, 11, 111, 10),\n",
       " (17556, 12, 133, 11),\n",
       " (19110, 15, 98, 13),\n",
       " (21114, 27, 46, 17),\n",
       " (23994, 31, 43, 18),\n",
       " (24492, 13, 157, 12),\n",
       " (28050, 22, 75, 17),\n",
       " (32640, 17, 128, 15),\n",
       " (33306, 14, 183, 13),\n",
       " (34362, 23, 83, 18),\n",
       " (37506, 38, 47, 21),\n",
       " (39270, 34, 55, 21),\n",
       " (44310, 15, 211, 14),\n",
       " (52326, 19, 162, 17),\n",
       " (57684, 33, 76, 23),\n",
       " (57840, 16, 241, 15),\n",
       " (70686, 27, 119, 22),\n",
       " (74256, 17, 273, 16),\n",
       " (79800, 21, 200, 19),\n",
       " (83076, 28, 129, 23),\n",
       " (93942, 18, 307, 17),\n",
       " (99900, 37, 100, 27),\n",
       " (116886, 23, 242, 21),\n",
       " (117030, 47, 83, 30),\n",
       " (117306, 19, 343, 18),\n",
       " (120156, 57, 68, 31),\n",
       " (133152, 57, 73, 32),\n",
       " (143220, 44, 105, 31),\n",
       " (144780, 20, 381, 19),\n",
       " (149472, 32, 173, 27)]"
      ]
     },
     "execution_count": 25,
     "metadata": {},
     "output_type": "execute_result"
    }
   ],
   "source": [
    "A = set()\n",
    "N = 1000\n",
    "for p in range(1, N):\n",
    "    for q in range(p, N):\n",
    "        added = p + q\n",
    "        mult = p * q\n",
    "        r = (mult - 1) // added\n",
    "        if r * added == mult - 1:\n",
    "            A.add((p * q * r, p, q, r))\n",
    "sorted(list(A))[1:50]"
   ]
  }
 ],
 "metadata": {
  "kernelspec": {
   "display_name": "Python 3",
   "language": "python",
   "name": "python3"
  },
  "language_info": {
   "codemirror_mode": {
    "name": "ipython",
    "version": 3
   },
   "file_extension": ".py",
   "mimetype": "text/x-python",
   "name": "python",
   "nbconvert_exporter": "python",
   "pygments_lexer": "ipython3",
   "version": "3.9.6"
  }
 },
 "nbformat": 4,
 "nbformat_minor": 2
}
