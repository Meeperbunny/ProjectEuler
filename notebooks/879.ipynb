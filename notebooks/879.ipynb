{
 "cells": [
  {
   "cell_type": "code",
   "execution_count": 198,
   "metadata": {},
   "outputs": [],
   "source": [
    "S = 5\n",
    "SQ = S * S"
   ]
  },
  {
   "cell_type": "code",
   "execution_count": 199,
   "metadata": {},
   "outputs": [
    {
     "ename": "KeyboardInterrupt",
     "evalue": "",
     "output_type": "error",
     "traceback": [
      "\u001b[1;31m---------------------------------------------------------------------------\u001b[0m",
      "\u001b[1;31mKeyboardInterrupt\u001b[0m                         Traceback (most recent call last)",
      "Cell \u001b[1;32mIn[199], line 1\u001b[0m\n\u001b[1;32m----> 1\u001b[0m nums \u001b[38;5;241m=\u001b[39m \u001b[38;5;28;43msorted\u001b[39;49m\u001b[43m(\u001b[49m\u001b[43m[\u001b[49m\u001b[43mi\u001b[49m\u001b[43m \u001b[49m\u001b[38;5;28;43;01mfor\u001b[39;49;00m\u001b[43m \u001b[49m\u001b[43mi\u001b[49m\u001b[43m \u001b[49m\u001b[38;5;129;43;01min\u001b[39;49;00m\u001b[43m \u001b[49m\u001b[38;5;28;43mrange\u001b[39;49m\u001b[43m(\u001b[49m\u001b[38;5;241;43m1\u001b[39;49m\u001b[43m,\u001b[49m\u001b[43m \u001b[49m\u001b[43m(\u001b[49m\u001b[38;5;241;43m1\u001b[39;49m\u001b[43m \u001b[49m\u001b[38;5;241;43m<<\u001b[39;49m\u001b[43m \u001b[49m\u001b[43mSQ\u001b[49m\u001b[43m)\u001b[49m\u001b[43m \u001b[49m\u001b[38;5;241;43m-\u001b[39;49m\u001b[43m \u001b[49m\u001b[38;5;241;43m1\u001b[39;49m\u001b[43m)\u001b[49m\u001b[43m]\u001b[49m\u001b[43m,\u001b[49m\u001b[43m \u001b[49m\u001b[43mkey\u001b[49m\u001b[38;5;241;43m=\u001b[39;49m\u001b[38;5;28;43;01mlambda\u001b[39;49;00m\u001b[43m \u001b[49m\u001b[43mx\u001b[49m\u001b[43m:\u001b[49m\u001b[43m \u001b[49m\u001b[38;5;28;43msum\u001b[39;49m\u001b[43m(\u001b[49m\u001b[43m[\u001b[49m\u001b[38;5;28;43mint\u001b[39;49m\u001b[43m(\u001b[49m\u001b[43me\u001b[49m\u001b[43m \u001b[49m\u001b[38;5;241;43m==\u001b[39;49m\u001b[43m \u001b[49m\u001b[38;5;124;43m'\u001b[39;49m\u001b[38;5;124;43m1\u001b[39;49m\u001b[38;5;124;43m'\u001b[39;49m\u001b[43m)\u001b[49m\u001b[43m \u001b[49m\u001b[38;5;28;43;01mfor\u001b[39;49;00m\u001b[43m \u001b[49m\u001b[43me\u001b[49m\u001b[43m \u001b[49m\u001b[38;5;129;43;01min\u001b[39;49;00m\u001b[43m \u001b[49m\u001b[38;5;28;43mbin\u001b[39;49m\u001b[43m(\u001b[49m\u001b[43mx\u001b[49m\u001b[43m)\u001b[49m\u001b[43m]\u001b[49m\u001b[43m)\u001b[49m\u001b[43m)\u001b[49m\n",
      "Cell \u001b[1;32mIn[199], line 1\u001b[0m, in \u001b[0;36m<lambda>\u001b[1;34m(x)\u001b[0m\n\u001b[1;32m----> 1\u001b[0m nums \u001b[38;5;241m=\u001b[39m \u001b[38;5;28msorted\u001b[39m([i \u001b[38;5;28;01mfor\u001b[39;00m i \u001b[38;5;129;01min\u001b[39;00m \u001b[38;5;28mrange\u001b[39m(\u001b[38;5;241m1\u001b[39m, (\u001b[38;5;241m1\u001b[39m \u001b[38;5;241m<<\u001b[39m SQ) \u001b[38;5;241m-\u001b[39m \u001b[38;5;241m1\u001b[39m)], key\u001b[38;5;241m=\u001b[39m\u001b[38;5;28;01mlambda\u001b[39;00m x: \u001b[38;5;28msum\u001b[39m([\u001b[38;5;28mint\u001b[39m(e \u001b[38;5;241m==\u001b[39m \u001b[38;5;124m'\u001b[39m\u001b[38;5;124m1\u001b[39m\u001b[38;5;124m'\u001b[39m) \u001b[38;5;28;01mfor\u001b[39;00m e \u001b[38;5;129;01min\u001b[39;00m \u001b[38;5;28mbin\u001b[39m(x)]))\n",
      "\u001b[1;31mKeyboardInterrupt\u001b[0m: "
     ]
    }
   ],
   "source": [
    "nums = sorted([i for i in range(1, (1 << SQ) - 1)], key=lambda x: sum([int(e == '1') for e in bin(x)]))"
   ]
  },
  {
   "cell_type": "code",
   "execution_count": null,
   "metadata": {},
   "outputs": [],
   "source": [
    "dp = [[0 for _ in range(SQ)] for _ in range(1 << SQ)]\n",
    "for i in range(SQ):\n",
    "    dp[1 << i][i] = 1"
   ]
  },
  {
   "cell_type": "code",
   "execution_count": null,
   "metadata": {},
   "outputs": [],
   "source": [
    "mask = [[0 for _ in range(SQ)] for _ in range(SQ)]\n",
    "tr = []\n",
    "for i in range(-1, 2):\n",
    "    for q in range(-1, 2):\n",
    "        if (i == 0 and q == 0):\n",
    "            pass\n",
    "        else:\n",
    "            tr.append((i, q))\n",
    "def TI(x, y):\n",
    "    return y * S + x\n",
    "for i in range(SQ):\n",
    "    for q in range(SQ):\n",
    "        mask[i][q] |= (1 << i) + (1 << q)\n",
    "for i in range(SQ):\n",
    "    x, y = i % S, i // S\n",
    "    for T in tr:\n",
    "        X = x\n",
    "        Y = y\n",
    "        j = 0\n",
    "        v = []\n",
    "        while True:\n",
    "            if X < 0 or X >= S or Y < 0 or Y >= S:\n",
    "                break\n",
    "            else:\n",
    "                cc = TI(X, Y)\n",
    "                v.append(cc)\n",
    "                for e in v:\n",
    "                    mask[i][cc] |= (1 << e)\n",
    "                X += T[0]\n",
    "                Y += T[1]"
   ]
  },
  {
   "cell_type": "code",
   "execution_count": null,
   "metadata": {},
   "outputs": [],
   "source": [
    "def subsets_of_bits(b):\n",
    "    bts = []\n",
    "    for i in range(SQ):\n",
    "        if (b >> i) & 1:\n",
    "            bts.append(i)\n",
    "    r = []\n",
    "    for q in range(1, 2**len(bts)):\n",
    "        c = 0\n",
    "        for i in range(len(bts)):\n",
    "            if (q >> i) & 1:\n",
    "                c |= (1 << bts[i])\n",
    "        r.append(c)\n",
    "    return r"
   ]
  },
  {
   "cell_type": "code",
   "execution_count": null,
   "metadata": {},
   "outputs": [
    {
     "data": {
      "text/plain": [
       "4350069824940"
      ]
     },
     "execution_count": 197,
     "metadata": {},
     "output_type": "execute_result"
    }
   ],
   "source": [
    "for n in nums:\n",
    "    for laston in range(0, SQ):\n",
    "        if (n >> laston) & 1:\n",
    "            # Get all that it is not on\n",
    "            for non in range(0, SQ):\n",
    "                if not ((n >> non) & 1):\n",
    "                    m = mask[laston][non]\n",
    "                    added_bits = m ^ (m & n)\n",
    "                    if added_bits.bit_count() != 1:\n",
    "                        continue\n",
    "                    new_covered = n | m\n",
    "                    dp[new_covered][non] += dp[n][laston]\n",
    "t = 0\n",
    "for e in dp:\n",
    "    t += sum(e)\n",
    "t - SQ"
   ]
  },
  {
   "cell_type": "code",
   "execution_count": 176,
   "metadata": {},
   "outputs": [
    {
     "data": {
      "text/plain": [
       "(1, 1)"
      ]
     },
     "execution_count": 176,
     "metadata": {},
     "output_type": "execute_result"
    }
   ],
   "source": [
    "dp[0b000000111][0], dp[0b000000111][0]"
   ]
  },
  {
   "cell_type": "code",
   "execution_count": null,
   "metadata": {},
   "outputs": [],
   "source": []
  }
 ],
 "metadata": {
  "kernelspec": {
   "display_name": "Python 3",
   "language": "python",
   "name": "python3"
  },
  "language_info": {
   "codemirror_mode": {
    "name": "ipython",
    "version": 3
   },
   "file_extension": ".py",
   "mimetype": "text/x-python",
   "name": "python",
   "nbconvert_exporter": "python",
   "pygments_lexer": "ipython3",
   "version": "3.12.4"
  }
 },
 "nbformat": 4,
 "nbformat_minor": 2
}
