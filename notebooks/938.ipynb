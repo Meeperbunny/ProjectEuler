{
 "cells": [
  {
   "cell_type": "code",
   "execution_count": null,
   "metadata": {},
   "outputs": [],
   "source": [
    "N = 10\n",
    "M = 9\n",
    "prob = [[0 for _ in range(M + 1)] for _ in range(N + 1)]\n",
    "prob[N][M] = 1\n",
    "\n",
    "for n in range(N, -1, -1):\n",
    "    for m in range(M, -1, -1):\n",
    "        t = n + m\n",
    "        if n == 0 or m == 0:\n",
    "            continue\n",
    "        if t <= 1:\n",
    "            continue\n",
    "        p_first_red = n / t\n",
    "        p_second_red = (n - 1) / (t - 1)\n",
    "        p_first_black = m / t\n",
    "        p_second_black = (m - 1) / (t - 1)\n",
    "        p_both_red = p_first_red * p_second_red\n",
    "        p_both_black = (p_first_black) * (p_second_black)\n",
    "        p_other = 1 - (p_both_red + p_both_black)\n",
    "        p_remove_two_reds = p_both_red / (p_both_red + p_other)\n",
    "        p_remove_one_black = p_other / (p_both_red + p_other)\n",
    "        prob[n - 2][m] += prob[n][m] * p_remove_two_reds\n",
    "        prob[n][m - 1] += prob[n][m] * p_remove_one_black\n",
    "T = 0\n",
    "for i in range(1, M):\n",
    "    print(prob[0][i])\n",
    "    T += prob[0][i]\n",
    "T\n"
   ]
  }
 ],
 "metadata": {
  "kernelspec": {
   "display_name": "Python 3",
   "language": "python",
   "name": "python3"
  },
  "language_info": {
   "codemirror_mode": {
    "name": "ipython",
    "version": 3
   },
   "file_extension": ".py",
   "mimetype": "text/x-python",
   "name": "python",
   "nbconvert_exporter": "python",
   "pygments_lexer": "ipython3",
   "version": "3.12.4"
  }
 },
 "nbformat": 4,
 "nbformat_minor": 2
}
