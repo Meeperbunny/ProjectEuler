{
 "cells": [
  {
   "cell_type": "code",
   "execution_count": 51,
   "id": "bd906ecb-ea26-4145-9237-05cdc45fbf0b",
   "metadata": {},
   "outputs": [],
   "source": [
    "def totient(n):\n",
    "    tot = [1 for i in range(n + 1)]\n",
    "    for p in range(2, n + 1):\n",
    "        if tot[p] == 1:\n",
    "            # is prime\n",
    "            k = 1\n",
    "            while True:\n",
    "                b = p**k\n",
    "                if b > n:\n",
    "                    break\n",
    "                j = p\n",
    "                if k == 1:\n",
    "                    j = p - 1\n",
    "                for q in range(b, n + 1, b):\n",
    "                    tot[q] *= j\n",
    "                k += 1\n",
    "    return tot\n",
    "tot = totient(100000)"
   ]
  },
  {
   "cell_type": "code",
   "execution_count": 3,
   "id": "e3dad3e1-f4f3-4626-adaf-ac3946dca867",
   "metadata": {},
   "outputs": [],
   "source": [
    "def gcd(a, b):\n",
    "    if b == 0:\n",
    "        return a\n",
    "    return gcd(b, a % b)"
   ]
  },
  {
   "cell_type": "code",
   "execution_count": 22,
   "id": "213d5065-89ca-4e13-814d-1c8accf7d2f8",
   "metadata": {},
   "outputs": [
    {
     "data": {
      "text/plain": [
       "112"
      ]
     },
     "execution_count": 22,
     "metadata": {},
     "output_type": "execute_result"
    }
   ],
   "source": [
    "pow(112, 181 + 216 * 4, 703)"
   ]
  },
  {
   "cell_type": "code",
   "execution_count": 11,
   "id": "c63af056-e106-469b-9508-51bc94a3df58",
   "metadata": {},
   "outputs": [
    {
     "data": {
      "text/plain": [
       "3039.7487"
      ]
     },
     "execution_count": 11,
     "metadata": {},
     "output_type": "execute_result"
    }
   ],
   "source": [
    "sum([e for e in totient(10000)]) / 10000"
   ]
  },
  {
   "cell_type": "code",
   "execution_count": 53,
   "id": "4a9f0dae-a40f-4149-9298-101107f0f595",
   "metadata": {
    "scrolled": true
   },
   "outputs": [
    {
     "name": "stdout",
     "output_type": "stream",
     "text": [
      "Trying e = 5 15\n",
      "Trying e = 7 49\n",
      "Trying e = 11 9\n",
      "Trying e = 13 91\n",
      "Trying e = 17 15\n",
      "Trying e = 19 361\n",
      "Trying e = 23 9\n",
      "Trying e = 25 91\n",
      "Trying e = 29 15\n",
      "Trying e = 31 49\n",
      "Trying e = 35 9\n",
      "Trying e = 37 703\n",
      "Trying e = 41 15\n",
      "Trying e = 43 49\n",
      "Trying e = 47 9\n",
      "Trying e = 49 91\n",
      "Trying e = 53 15\n",
      "Trying e = 55 361\n",
      "Trying e = 59 9\n",
      "Trying e = 61 91\n",
      "Trying e = 65 15\n",
      "Trying e = 67 49\n",
      "Trying e = 71 9\n",
      "Trying e = 73 703\n",
      "Trying e = 77 15\n",
      "Trying e = 79 49\n",
      "Trying e = 83 9\n",
      "Trying e = 85 91\n",
      "Trying e = 89 15\n",
      "Trying e = 91 361\n",
      "Trying e = 95 9\n",
      "Trying e = 97 91\n",
      "Trying e = 101 15\n",
      "Trying e = 103 49\n",
      "Trying e = 107 9\n",
      "Trying e = 109 703\n",
      "Trying e = 113 15\n",
      "Trying e = 115 49\n",
      "Trying e = 119 9\n",
      "Trying e = 121 91\n",
      "Trying e = 125 15\n",
      "Trying e = 127 361\n",
      "Trying e = 131 9\n",
      "Trying e = 133 91\n",
      "Trying e = 137 15\n",
      "Trying e = 139 49\n",
      "Trying e = 143 9\n",
      "Trying e = 145 703\n",
      "Trying e = 149 15\n",
      "Trying e = 151 49\n",
      "Trying e = 155 9\n",
      "Trying e = 157 91\n",
      "Trying e = 161 15\n",
      "Trying e = 163 361\n",
      "Trying e = 167 9\n",
      "Trying e = 169 91\n",
      "Trying e = 173 15\n",
      "Trying e = 175 49\n",
      "Trying e = 179 9\n",
      "Trying e = 181 703\n",
      "Trying e = 185 15\n",
      "Trying e = 187 49\n",
      "Trying e = 191 9\n",
      "Trying e = 193 91\n",
      "Trying e = 197 15\n",
      "Trying e = 199 361\n",
      "Trying e = 203 9\n",
      "Trying e = 205 91\n",
      "Trying e = 209 15\n",
      "Trying e = 211 49\n",
      "Trying e = 215 9\n",
      "Trying e = 217 703\n",
      "Trying e = 221 15\n",
      "Trying e = 223 49\n",
      "Trying e = 227 9\n",
      "Trying e = 229 91\n",
      "Trying e = 233 15\n",
      "Trying e = 235 361\n",
      "Trying e = 239 9\n",
      "Trying e = 241 91\n",
      "Trying e = 245 15\n",
      "Trying e = 247 49\n",
      "Trying e = 251 9\n",
      "Trying e = 253 703\n",
      "Trying e = 257 15\n",
      "Trying e = 259 49\n",
      "Trying e = 263 9\n",
      "Trying e = 265 91\n",
      "Trying e = 269 15\n",
      "Trying e = 271 361\n",
      "Trying e = 275 9\n",
      "Trying e = 277 91\n",
      "Trying e = 281 15\n",
      "Trying e = 283 49\n",
      "Trying e = 287 9\n",
      "Trying e = 289 703\n",
      "Trying e = 293 15\n",
      "Trying e = 295 49\n",
      "Trying e = 299 9\n",
      "Trying e = 301 91\n",
      "Trying e = 305 15\n",
      "Trying e = 307 361\n",
      "Trying e = 311 9\n",
      "Trying e = 313 91\n",
      "Trying e = 317 15\n",
      "Trying e = 319 49\n",
      "Trying e = 323 9\n",
      "Trying e = 325 703\n",
      "Trying e = 329 15\n",
      "Trying e = 331 49\n",
      "Trying e = 335 9\n",
      "Trying e = 337 91\n",
      "Trying e = 341 15\n",
      "Trying e = 343 361\n",
      "Trying e = 347 9\n",
      "Trying e = 349 91\n",
      "Trying e = 353 15\n",
      "Trying e = 355 49\n",
      "Trying e = 359 9\n",
      "Trying e = 361 703\n",
      "Trying e = 365 15\n",
      "Trying e = 367 49\n",
      "Trying e = 371 9\n",
      "Trying e = 373 91\n",
      "Trying e = 377 15\n",
      "Trying e = 379 361\n",
      "Trying e = 383 9\n",
      "Trying e = 385 91\n",
      "Trying e = 389 15\n",
      "Trying e = 391 49\n",
      "Trying e = 395 9\n",
      "Trying e = 397 703\n",
      "Trying e = 401 15\n",
      "Trying e = 403 49\n",
      "Trying e = 407 9\n",
      "Trying e = 409 91\n",
      "Trying e = 413 15\n",
      "Trying e = 415 361\n",
      "Trying e = 419 9\n",
      "Trying e = 421 91\n",
      "Trying e = 425 15\n",
      "Trying e = 427 49\n",
      "Trying e = 431 9\n",
      "Trying e = 433 703\n",
      "Trying e = 437 15\n",
      "Trying e = 439 49\n",
      "Trying e = 443 9\n",
      "Trying e = 445 91\n",
      "Trying e = 449 15\n",
      "Trying e = 451 361\n",
      "Trying e = 455 9\n",
      "Trying e = 457 91\n",
      "Trying e = 461 15\n",
      "Trying e = 463 49\n",
      "Trying e = 467 9\n",
      "Trying e = 469 703\n",
      "Trying e = 473 15\n",
      "Trying e = 475 49\n",
      "Trying e = 479 9\n",
      "Trying e = 481 91\n",
      "Trying e = 485 15\n",
      "Trying e = 487 361\n",
      "Trying e = 491 9\n",
      "Trying e = 493 91\n",
      "Trying e = 497 15\n",
      "Trying e = 499 49\n",
      "Trying e = 503 9\n",
      "Trying e = 505 703\n",
      "Trying e = 509 15\n",
      "Trying e = 511 49\n",
      "Trying e = 515 9\n",
      "Trying e = 517 91\n",
      "Trying e = 521 15\n",
      "Trying e = 523 361\n",
      "Trying e = 527 9\n",
      "Trying e = 529 91\n",
      "Trying e = 533 15\n",
      "Trying e = 535 49\n",
      "Trying e = 539 9\n",
      "Trying e = 541 703\n",
      "Trying e = 545 15\n",
      "Trying e = 547 49\n",
      "Trying e = 551 9\n",
      "Trying e = 553 91\n",
      "Trying e = 557 15\n",
      "Trying e = 559 361\n",
      "Trying e = 563 9\n",
      "Trying e = 565 91\n",
      "Trying e = 569 15\n",
      "Trying e = 571 49\n",
      "Trying e = 575 9\n",
      "Trying e = 577 703\n",
      "Trying e = 581 15\n",
      "Trying e = 583 49\n",
      "Trying e = 587 9\n",
      "Trying e = 589 91\n",
      "Trying e = 593 15\n",
      "Trying e = 595 361\n",
      "Trying e = 599 9\n",
      "Trying e = 601 91\n",
      "Trying e = 605 15\n",
      "Trying e = 607 49\n",
      "Trying e = 611 9\n",
      "Trying e = 613 703\n",
      "Trying e = 617 15\n",
      "Trying e = 619 49\n",
      "Trying e = 623 9\n",
      "Trying e = 625 91\n",
      "Trying e = 629 15\n",
      "Trying e = 631 361\n",
      "Trying e = 635 9\n",
      "Trying e = 637 91\n",
      "Trying e = 641 15\n",
      "Trying e = 643 49\n",
      "Trying e = 647 9\n"
     ]
    },
    {
     "data": {
      "text/plain": [
       "17766"
      ]
     },
     "execution_count": 53,
     "metadata": {},
     "output_type": "execute_result"
    }
   ],
   "source": [
    "def solve(p, q):\n",
    "    cnt = 0\n",
    "    n = p * q\n",
    "    phi = (p - 1) * (q - 1)\n",
    "    tot = totient(n)\n",
    "    car = lcm(tot[p], tot[q])\n",
    "    all_r = set()\n",
    "    for i in range(car, phi, car):\n",
    "        all_r.add(i + 1)\n",
    "    mav = 8000\n",
    "    tot = 0\n",
    "\n",
    "    munc = 20000\n",
    "    for e in range(2, phi):\n",
    "        if gcd(e, phi) == 1:\n",
    "            unc = 0\n",
    "            for i in range(0, n):\n",
    "                if pow(i, e, n) == i:\n",
    "                    unc += 1\n",
    "            print(\"Trying e =\", e, unc)\n",
    "            if unc < munc:\n",
    "                tot = 0\n",
    "                munc = unc\n",
    "                # print(\"RESETING\", unc)\n",
    "            if unc == munc:\n",
    "                # print(\"Adding\", e)\n",
    "                tot += e\n",
    "\n",
    "    # for e in range(11, phi, 12):\n",
    "    #     if gcd(e, phi) == 1 and e % 84 != 71:\n",
    "    #         if e in all_r:\n",
    "    #             print(\"OAIWNDOIAWD\")\n",
    "    #         # print(\"Adding\", e)\n",
    "    #         tot += e\n",
    "    return tot\n",
    "# solve(1009, 3643)\n",
    "solve(19, 37)"
   ]
  },
  {
   "cell_type": "code",
   "execution_count": null,
   "id": "eea35300-b9c5-454a-8dd7-ba764cacf78a",
   "metadata": {},
   "outputs": [],
   "source": [
    "17766"
   ]
  },
  {
   "cell_type": "code",
   "execution_count": null,
   "id": "f157d86a-46b3-4d00-9c66-06622bd06478",
   "metadata": {},
   "outputs": [],
   "source": [
    "17766"
   ]
  },
  {
   "cell_type": "code",
   "execution_count": null,
   "id": "5d4be2c2-3e9c-494e-a532-583d5ce4119b",
   "metadata": {},
   "outputs": [],
   "source": [
    "119257"
   ]
  },
  {
   "cell_type": "code",
   "execution_count": null,
   "id": "7db821d0-3a06-402c-82bf-313490a9397d",
   "metadata": {},
   "outputs": [],
   "source": [
    "Adding 11\n",
    "Adding 23\n",
    "Adding 47\n",
    "Adding 59\n",
    "[Adding 71]\n",
    "Adding 83\n",
    "Adding 95\n",
    "Adding 107\n",
    "Adding 131\n",
    "Adding 143\n",
    "[Adding 155]\n",
    "Adding 167\n",
    "Adding 179\n",
    "Adding 191"
   ]
  },
  {
   "cell_type": "code",
   "execution_count": 31,
   "id": "64bc0752-65e2-4a8b-972e-9ba74698df38",
   "metadata": {},
   "outputs": [],
   "source": [
    "from math import lcm"
   ]
  },
  {
   "cell_type": "code",
   "execution_count": 33,
   "id": "f31edb35-6470-44a2-af3a-1d294c045ceb",
   "metadata": {},
   "outputs": [
    {
     "data": {
      "text/plain": [
       "611856"
      ]
     },
     "execution_count": 33,
     "metadata": {},
     "output_type": "execute_result"
    }
   ],
   "source": [
    "lcm(tot[1009], tot[3643])"
   ]
  },
  {
   "cell_type": "code",
   "execution_count": 34,
   "id": "fd8fb27c-d4d1-47a6-905b-677a9b7036f7",
   "metadata": {},
   "outputs": [],
   "source": [
    "n = 19 * 37"
   ]
  },
  {
   "cell_type": "code",
   "execution_count": 41,
   "id": "9188978b-658d-41a4-9d38-c61b230814bd",
   "metadata": {},
   "outputs": [
    {
     "data": {
      "text/plain": [
       "22"
      ]
     },
     "execution_count": 41,
     "metadata": {},
     "output_type": "execute_result"
    }
   ],
   "source": [
    "k = 2\n",
    "pow(22, 36 * k + 1, n)"
   ]
  },
  {
   "cell_type": "code",
   "execution_count": null,
   "id": "1ef4fc6b-e9d3-4fed-adf8-901efa85b3b9",
   "metadata": {},
   "outputs": [],
   "source": []
  },
  {
   "cell_type": "code",
   "execution_count": 29,
   "id": "a51061db-d7c8-4b61-9636-0756e8831554",
   "metadata": {},
   "outputs": [],
   "source": [
    "from collections import Counter\n",
    "from math import lcm"
   ]
  },
  {
   "cell_type": "code",
   "execution_count": 63,
   "id": "32432636-d28d-40e6-ba13-7cbcb13f5c45",
   "metadata": {},
   "outputs": [],
   "source": [
    "def getdivs(n):\n",
    "    divs = []\n",
    "    for i in range(1, n + 1):\n",
    "        if n % i == 0:\n",
    "            divs.append(i)\n",
    "    return divs"
   ]
  },
  {
   "cell_type": "code",
   "execution_count": 72,
   "id": "91db62eb-9e66-46c5-8654-11da0cb1c35a",
   "metadata": {
    "scrolled": true
   },
   "outputs": [
    {
     "name": "stdout",
     "output_type": "stream",
     "text": [
      "Counter({37: 647, 73: 647, 109: 647, 145: 647, 181: 647, 217: 647, 253: 647, 289: 647, 325: 647, 361: 647, 397: 647, 433: 647, 469: 647, 505: 647, 541: 647, 577: 647, 613: 647, 19: 323, 55: 323, 91: 323, 127: 323, 163: 323, 199: 323, 235: 323, 271: 323, 307: 323, 343: 323, 379: 323, 415: 323, 451: 323, 487: 323, 523: 323, 559: 323, 595: 323, 631: 323, 10: 80, 28: 80, 46: 80, 64: 80, 82: 80, 100: 80, 118: 80, 136: 80, 154: 80, 172: 80, 190: 80, 208: 80, 226: 80, 244: 80, 262: 80, 280: 80, 298: 80, 316: 80, 334: 80, 352: 80, 370: 80, 388: 80, 406: 80, 424: 80, 442: 80, 460: 80, 478: 80, 496: 80, 514: 80, 532: 80, 550: 80, 568: 80, 586: 80, 604: 80, 622: 80, 640: 80, 13: 71, 25: 71, 49: 71, 61: 71, 85: 71, 97: 71, 121: 71, 133: 71, 157: 71, 169: 71, 193: 71, 205: 71, 229: 71, 241: 71, 265: 71, 277: 71, 301: 71, 313: 71, 337: 71, 349: 71, 373: 71, 385: 71, 409: 71, 421: 71, 445: 71, 457: 71, 481: 71, 493: 71, 517: 71, 529: 71, 553: 71, 565: 71, 589: 71, 601: 71, 625: 71, 637: 71, 7: 35, 31: 35, 43: 35, 67: 35, 79: 35, 103: 35, 115: 35, 139: 35, 151: 35, 175: 35, 187: 35, 211: 35, 223: 35, 247: 35, 259: 35, 283: 35, 295: 35, 319: 35, 331: 35, 355: 35, 367: 35, 391: 35, 403: 35, 427: 35, 439: 35, 463: 35, 475: 35, 499: 35, 511: 35, 535: 35, 547: 35, 571: 35, 583: 35, 607: 35, 619: 35, 643: 35, 4: 8, 16: 8, 22: 8, 34: 8, 40: 8, 52: 8, 58: 8, 70: 8, 76: 8, 88: 8, 94: 8, 106: 8, 112: 8, 124: 8, 130: 8, 142: 8, 148: 8, 160: 8, 166: 8, 178: 8, 184: 8, 196: 8, 202: 8, 214: 8, 220: 8, 232: 8, 238: 8, 250: 8, 256: 8, 268: 8, 274: 8, 286: 8, 292: 8, 304: 8, 310: 8, 322: 8, 328: 8, 340: 8, 346: 8, 358: 8, 364: 8, 376: 8, 382: 8, 394: 8, 400: 8, 412: 8, 418: 8, 430: 8, 436: 8, 448: 8, 454: 8, 466: 8, 472: 8, 484: 8, 490: 8, 502: 8, 508: 8, 520: 8, 526: 8, 538: 8, 544: 8, 556: 8, 562: 8, 574: 8, 580: 8, 592: 8, 598: 8, 610: 8, 616: 8, 628: 8, 634: 8, 646: 8, 5: 7, 9: 7, 17: 7, 21: 7, 29: 7, 33: 7, 41: 7, 45: 7, 53: 7, 57: 7, 65: 7, 69: 7, 77: 7, 81: 7, 89: 7, 93: 7, 101: 7, 105: 7, 113: 7, 117: 7, 125: 7, 129: 7, 137: 7, 141: 7, 149: 7, 153: 7, 161: 7, 165: 7, 173: 7, 177: 7, 185: 7, 189: 7, 197: 7, 201: 7, 209: 7, 213: 7, 221: 7, 225: 7, 233: 7, 237: 7, 245: 7, 249: 7, 257: 7, 261: 7, 269: 7, 273: 7, 281: 7, 285: 7, 293: 7, 297: 7, 305: 7, 309: 7, 317: 7, 321: 7, 329: 7, 333: 7, 341: 7, 345: 7, 353: 7, 357: 7, 365: 7, 369: 7, 377: 7, 381: 7, 389: 7, 393: 7, 401: 7, 405: 7, 413: 7, 417: 7, 425: 7, 429: 7, 437: 7, 441: 7, 449: 7, 453: 7, 461: 7, 465: 7, 473: 7, 477: 7, 485: 7, 489: 7, 497: 7, 501: 7, 509: 7, 513: 7, 521: 7, 525: 7, 533: 7, 537: 7, 545: 7, 549: 7, 557: 7, 561: 7, 569: 7, 573: 7, 581: 7, 585: 7, 593: 7, 597: 7, 605: 7, 609: 7, 617: 7, 621: 7, 629: 7, 633: 7, 641: 7, 645: 7, 3: 3, 11: 3, 15: 3, 23: 3, 27: 3, 35: 3, 39: 3, 47: 3, 51: 3, 59: 3, 63: 3, 71: 3, 75: 3, 83: 3, 87: 3, 95: 3, 99: 3, 107: 3, 111: 3, 119: 3, 123: 3, 131: 3, 135: 3, 143: 3, 147: 3, 155: 3, 159: 3, 167: 3, 171: 3, 179: 3, 183: 3, 191: 3, 195: 3, 203: 3, 207: 3, 215: 3, 219: 3, 227: 3, 231: 3, 239: 3, 243: 3, 251: 3, 255: 3, 263: 3, 267: 3, 275: 3, 279: 3, 287: 3, 291: 3, 299: 3, 303: 3, 311: 3, 315: 3, 323: 3, 327: 3, 335: 3, 339: 3, 347: 3, 351: 3, 359: 3, 363: 3, 371: 3, 375: 3, 383: 3, 387: 3, 395: 3, 399: 3, 407: 3, 411: 3, 419: 3, 423: 3, 431: 3, 435: 3, 443: 3, 447: 3, 455: 3, 459: 3, 467: 3, 471: 3, 479: 3, 483: 3, 491: 3, 495: 3, 503: 3, 507: 3, 515: 3, 519: 3, 527: 3, 531: 3, 539: 3, 543: 3, 551: 3, 555: 3, 563: 3, 567: 3, 575: 3, 579: 3, 587: 3, 591: 3, 599: 3, 603: 3, 611: 3, 615: 3, 623: 3, 627: 3, 635: 3, 639: 3, 647: 3})\n"
     ]
    },
    {
     "data": {
      "text/plain": [
       "17766"
      ]
     },
     "execution_count": 72,
     "metadata": {},
     "output_type": "execute_result"
    }
   ],
   "source": [
    "def solve(p, q):\n",
    "    cnt = 0\n",
    "    n = p * q\n",
    "    phi = (p - 1) * (q - 1)\n",
    "    periods = Counter()\n",
    "    pdivs = getdivs(p - 1)\n",
    "    qdivs = getdivs(q - 1)\n",
    "    for m in range(0, n):\n",
    "        if m % (n // 1000) == 0:\n",
    "            print(m / n)\n",
    "        if m == 0:\n",
    "            continue\n",
    "        r_p = -1\n",
    "        for p_div in pdivs:\n",
    "            if pow(m, p_div, p) == 1:\n",
    "                r_p = p_div\n",
    "                break\n",
    "        r_q = -1\n",
    "        for q_div in qdivs:\n",
    "            if pow(m, q_div, q) == 1:\n",
    "                r_q = q_div\n",
    "                break\n",
    "        if r_p == -1 or r_q == -1:\n",
    "            continue\n",
    "        period = lcm(r_q, r_p)\n",
    "        periods[period] += 1\n",
    "\n",
    "    evals = Counter()\n",
    "    for q, period in enumerate(periods):\n",
    "        if (q % (len(periods) // 10) == 0):\n",
    "            print(q / len(periods))\n",
    "        inc = periods[period]\n",
    "        if period <= 1:\n",
    "            continue\n",
    "        for i in range(period, phi, period):\n",
    "            evals[i + 1] += inc\n",
    "    tot = 0\n",
    "    miv = max(evals.values())\n",
    "    for e in range(2, phi):\n",
    "        if e % (phi // 100) == 0:\n",
    "            print(e / phi)\n",
    "        if gcd(e, phi) == 1:\n",
    "            if evals[e] < miv:\n",
    "                miv = evals[e]\n",
    "                tot = 0\n",
    "            if evals[e] == miv:\n",
    "                tot += e\n",
    "    return tot\n",
    "                  \n",
    "# print(solve(1009, 3643))\n",
    "solve(19, 37)"
   ]
  },
  {
   "cell_type": "code",
   "execution_count": null,
   "id": "7689a1fa-a3f9-4af8-ae08-5cee1ae87d18",
   "metadata": {},
   "outputs": [],
   "source": []
  }
 ],
 "metadata": {
  "kernelspec": {
   "display_name": "Python 3 (ipykernel)",
   "language": "python",
   "name": "python3"
  },
  "language_info": {
   "codemirror_mode": {
    "name": "ipython",
    "version": 3
   },
   "file_extension": ".py",
   "mimetype": "text/x-python",
   "name": "python",
   "nbconvert_exporter": "python",
   "pygments_lexer": "ipython3",
   "version": "3.12.4"
  }
 },
 "nbformat": 4,
 "nbformat_minor": 5
}
