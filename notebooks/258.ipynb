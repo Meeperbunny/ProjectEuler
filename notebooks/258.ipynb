{
 "cells": [
  {
   "cell_type": "code",
   "execution_count": null,
   "metadata": {},
   "outputs": [],
   "source": [
    "m = 200920010\n",
    "def mult(A, B):\n",
    "    res = [[0 for _ in range(len(B[0]))] for _ in range(len(A))]\n",
    "    assert(len(A[0]) == len(B))\n",
    "    for i in range(len(A)):\n",
    "        for q in range(len(B[0])):\n",
    "            for j in range(len(B)):\n",
    "                res[i][q] += A[i][j] * B[j][q]\n",
    "                res[i][q] %= m\n",
    "    return res\n",
    "def gen_transition():\n",
    "    transition = [[0 for _ in range(2000)] for _ in range(2000)]\n",
    "    for i in range(0, 1999):\n",
    "        transition[i + 1][i] = 1\n",
    "    transition[0][1999] = 1\n",
    "    transition[1][1999] = 1\n",
    "    return transition\n",
    "T = gen_transition()\n",
    "base = [[1 for _ in range(2000)]]\n",
    "M = mult(base, T)\n",
    "def solve(k):\n",
    "    B = base.copy()\n",
    "    M = gen_transition()\n",
    "    C = gen_transition()\n",
    "    k -= 1\n",
    "    while k:\n",
    "        print(k)\n",
    "        if k & 1:\n",
    "            M = mult(C, M)\n",
    "            k -= 1\n",
    "        else:\n",
    "            C = mult(C, C)\n",
    "            k //= 2\n",
    "    return mult(B, M)[0][0]\n",
    "solve(1999), solve(2000)"
   ]
  },
  {
   "cell_type": "code",
   "execution_count": 48,
   "metadata": {},
   "outputs": [
    {
     "data": {
      "text/plain": [
       "52432994"
      ]
     },
     "execution_count": 48,
     "metadata": {},
     "output_type": "execute_result"
    }
   ],
   "source": [
    "from functools import cache\n",
    "@cache\n",
    "def fib(n):\n",
    "    if n <= 1999:\n",
    "        return 1\n",
    "    return fib(n - 2000) + fib(n - 1999)\n",
    "fib(300_000) % m"
   ]
  },
  {
   "cell_type": "code",
   "execution_count": 41,
   "metadata": {},
   "outputs": [
    {
     "ename": "NameError",
     "evalue": "name 'x' is not defined",
     "output_type": "error",
     "traceback": [
      "\u001b[0;31m---------------------------------------------------------------------------\u001b[0m",
      "\u001b[0;31mNameError\u001b[0m                                 Traceback (most recent call last)",
      "Cell \u001b[0;32mIn[41], line 1\u001b[0m\n\u001b[0;32m----> 1\u001b[0m \u001b[43mx\u001b[49m\n",
      "\u001b[0;31mNameError\u001b[0m: name 'x' is not defined"
     ]
    }
   ],
   "source": [
    "x"
   ]
  },
  {
   "cell_type": "code",
   "execution_count": null,
   "metadata": {},
   "outputs": [],
   "source": []
  }
 ],
 "metadata": {
  "kernelspec": {
   "display_name": "Python 3",
   "language": "python",
   "name": "python3"
  },
  "language_info": {
   "codemirror_mode": {
    "name": "ipython",
    "version": 3
   },
   "file_extension": ".py",
   "mimetype": "text/x-python",
   "name": "python",
   "nbconvert_exporter": "python",
   "pygments_lexer": "ipython3",
   "version": "3.9.6"
  }
 },
 "nbformat": 4,
 "nbformat_minor": 2
}
