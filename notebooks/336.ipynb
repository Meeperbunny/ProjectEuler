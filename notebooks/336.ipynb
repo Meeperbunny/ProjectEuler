{
 "cells": [
  {
   "cell_type": "code",
   "execution_count": 2,
   "id": "592b2a13-90e0-45b7-8877-a323e0d9f247",
   "metadata": {},
   "outputs": [],
   "source": [
    "import itertools"
   ]
  },
  {
   "cell_type": "code",
   "execution_count": 95,
   "id": "15b69fb9-a1f3-46b8-8180-f50e74e7081e",
   "metadata": {},
   "outputs": [],
   "source": [
    "def p_to_n(p):\n",
    "    return \"\".join([chr(ord('A') + (len(p) - e)) for e in p])"
   ]
  },
  {
   "cell_type": "code",
   "execution_count": 7,
   "id": "5de215cd-e456-48be-806e-8bce70241939",
   "metadata": {},
   "outputs": [],
   "source": [
    "n = 6"
   ]
  },
  {
   "cell_type": "code",
   "execution_count": 72,
   "id": "65d45776-e983-4fb5-bc9d-1d077ed3ee11",
   "metadata": {},
   "outputs": [],
   "source": [
    "cnt = {}\n",
    "def get_cnt(p):\n",
    "    # print(p)\n",
    "    to_f = len(p)\n",
    "    if to_f == 0:\n",
    "        return 0\n",
    "    add = 2\n",
    "    for i in range(to_f):\n",
    "        # print(to_f, p[i])\n",
    "        if i == to_f - 1:\n",
    "            add -= 1\n",
    "        if p[i] == to_f:\n",
    "            # If it is at 0, then 0 + p[1:], etc...\n",
    "            if i == 0:\n",
    "                return 0 + get_cnt(p[1:])\n",
    "            return add + get_cnt(p[i + 1:] + list(reversed(p[:i])))"
   ]
  },
  {
   "cell_type": "code",
   "execution_count": 97,
   "id": "ff8a59b2-e011-4ff1-a6e6-6263cbeee1ff",
   "metadata": {},
   "outputs": [
    {
     "data": {
      "text/plain": [
       "(5, 'DACB')"
      ]
     },
     "execution_count": 97,
     "metadata": {},
     "output_type": "execute_result"
    }
   ],
   "source": [
    "t_p = [1, 4, 2, 3]\n",
    "get_cnt(t_p), p_to_n(t_p)"
   ]
  },
  {
   "cell_type": "code",
   "execution_count": 77,
   "id": "629cb5fe-3a14-478e-ba5f-c028223913a6",
   "metadata": {},
   "outputs": [],
   "source": [
    "mac = 0\n",
    "cnts = []\n",
    "for p in itertools.permutations([i for i in range(1, n + 1)]):\n",
    "    cnt = get_cnt(list(p))\n",
    "    if cnt > mac:\n",
    "        cnts = [p]\n",
    "        mac = cnt\n",
    "    elif cnt == mac:\n",
    "        cnts.append(p)"
   ]
  },
  {
   "cell_type": "code",
   "execution_count": 99,
   "id": "c03fbfe8-7d45-4068-859f-636512c8b9d0",
   "metadata": {
    "scrolled": true
   },
   "outputs": [
    {
     "data": {
      "text/plain": [
       "(9, 'DFAECB')"
      ]
     },
     "execution_count": 99,
     "metadata": {},
     "output_type": "execute_result"
    }
   ],
   "source": [
    "c_arr = [p_to_n(e) for e in cnts]\n",
    "c_arr.sort()\n",
    "mac, c_arr[9]"
   ]
  },
  {
   "cell_type": "code",
   "execution_count": 111,
   "id": "24d64906-9bbc-47f9-9e96-e5343323bd41",
   "metadata": {
    "scrolled": true
   },
   "outputs": [
    {
     "name": "stdout",
     "output_type": "stream",
     "text": [
      "0.0\n",
      "0.1\n",
      "0.2\n",
      "0.3\n",
      "0.4\n",
      "0.5\n",
      "0.6\n",
      "0.7\n",
      "0.8\n",
      "0.9\n",
      "13 CAEHDFBG\n"
     ]
    }
   ],
   "source": [
    "import itertools\n",
    "\n",
    "n, m = 8, 10\n",
    "\n",
    "def p_to_n(p):\n",
    "    return \"\".join([chr(ord('A') + (len(p) - e)) for e in p])\n",
    "\n",
    "cnt = {}\n",
    "def get_cnt(p):\n",
    "    # print(p)\n",
    "    to_f = len(p)\n",
    "    if to_f == 0:\n",
    "        return 0\n",
    "    add = 2\n",
    "    for i in range(to_f):\n",
    "        # print(to_f, p[i])\n",
    "        if i == to_f - 1:\n",
    "            add -= 1\n",
    "        if p[i] == to_f:\n",
    "            # If it is at 0, then 0 + p[1:], etc...\n",
    "            if i == 0:\n",
    "                return 0 + get_cnt(p[1:])\n",
    "            return add + get_cnt(p[i + 1:] + list(reversed(p[:i])))\n",
    "\n",
    "def fac(n):\n",
    "    return n * fac(n - 1) if n >= 1 else 1\n",
    "\n",
    "prog = 10\n",
    "max_n = fac(n)\n",
    "mac = 0\n",
    "cnts = []\n",
    "for i, p in enumerate(itertools.permutations([i for i in range(1, n + 1)])):\n",
    "    if i % (max_n // prog) == 0:\n",
    "        print(i / max_n)\n",
    "    cnt = get_cnt(list(p))\n",
    "    if cnt > mac:\n",
    "        cnts = [p]\n",
    "        mac = cnt\n",
    "    elif cnt == mac:\n",
    "        cnts.append(p)\n",
    "\n",
    "c_arr = [p_to_n(e) for e in cnts]\n",
    "c_arr.sort()\n",
    "print(mac, c_arr[m - 1])"
   ]
  }
 ],
 "metadata": {
  "kernelspec": {
   "display_name": "Python 3 (ipykernel)",
   "language": "python",
   "name": "python3"
  },
  "language_info": {
   "codemirror_mode": {
    "name": "ipython",
    "version": 3
   },
   "file_extension": ".py",
   "mimetype": "text/x-python",
   "name": "python",
   "nbconvert_exporter": "python",
   "pygments_lexer": "ipython3",
   "version": "3.12.4"
  }
 },
 "nbformat": 4,
 "nbformat_minor": 5
}
