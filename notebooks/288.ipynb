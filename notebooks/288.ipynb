{
 "cells": [
  {
   "cell_type": "code",
   "execution_count": 14,
   "metadata": {},
   "outputs": [],
   "source": [
    "n = 100\n",
    "S = [290797]\n",
    "m = 50515093\n",
    "def T(n, p):\n",
    "    while len(S) <= n:\n",
    "        S.append(S[-1] * S[-1] % m)\n",
    "    return S[n] % p"
   ]
  },
  {
   "cell_type": "code",
   "execution_count": 20,
   "metadata": {},
   "outputs": [
    {
     "name": "stdout",
     "output_type": "stream",
     "text": [
      "7\n",
      "30\n",
      "13\n",
      "59\n",
      "40\n",
      "50\n",
      "30\n",
      "31\n",
      "58\n"
     ]
    }
   ],
   "source": [
    "for i in range(1, 10):\n",
    "    print(T(i, 61))"
   ]
  },
  {
   "cell_type": "code",
   "execution_count": 32,
   "metadata": {},
   "outputs": [],
   "source": [
    "from tqdm.notebook import trange"
   ]
  },
  {
   "cell_type": "code",
   "execution_count": 34,
   "metadata": {},
   "outputs": [
    {
     "data": {
      "application/vnd.jupyter.widget-view+json": {
       "model_id": "dba0fe5110d34ef1b0dcd019cc91d264",
       "version_major": 2,
       "version_minor": 0
      },
      "text/plain": [
       "  0%|          | 0/10000001 [00:00<?, ?it/s]"
      ]
     },
     "metadata": {},
     "output_type": "display_data"
    },
    {
     "data": {
      "text/plain": [
       "605857431263981935"
      ]
     },
     "execution_count": 34,
     "metadata": {},
     "output_type": "execute_result"
    }
   ],
   "source": [
    "# mod = 61**10\n",
    "l = 10\n",
    "p = 61\n",
    "Q = 10**7\n",
    "mod = p**l\n",
    "A = 0\n",
    "cp = 1\n",
    "for n in trange(0, Q + 1):\n",
    "    for q in range(n + 1, min(n + l + 1, Q + 1)):\n",
    "        A += T(q, p) * p**(q - n - 1)\n",
    "        A %= mod\n",
    "A\n"
   ]
  },
  {
   "cell_type": "code",
   "execution_count": null,
   "metadata": {},
   "outputs": [],
   "source": []
  }
 ],
 "metadata": {
  "kernelspec": {
   "display_name": "Python 3",
   "language": "python",
   "name": "python3"
  },
  "language_info": {
   "codemirror_mode": {
    "name": "ipython",
    "version": 3
   },
   "file_extension": ".py",
   "mimetype": "text/x-python",
   "name": "python",
   "nbconvert_exporter": "python",
   "pygments_lexer": "ipython3",
   "version": "3.9.6"
  }
 },
 "nbformat": 4,
 "nbformat_minor": 2
}
