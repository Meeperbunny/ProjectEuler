{
 "cells": [
  {
   "cell_type": "code",
   "execution_count": 51,
   "id": "d5db0075-8a2a-4651-ba52-efaf6bd20a07",
   "metadata": {},
   "outputs": [],
   "source": [
    "def isp(n):\n",
    "    for q in range(2, n):\n",
    "        if n % q == 0:\n",
    "            return False\n",
    "    return True"
   ]
  },
  {
   "cell_type": "code",
   "execution_count": 59,
   "id": "c96cc432-3ae6-4da8-8dfd-6e1ce34506aa",
   "metadata": {},
   "outputs": [],
   "source": [
    "def S(n):\n",
    "    prods = [1 for _ in range(0, n + 1)]\n",
    "    for i in range(2, n):\n",
    "        if isp(i):\n",
    "            z = i\n",
    "            while z <= n:\n",
    "                for q in range(z * z, n + 1, z * z):\n",
    "                    prods[q] *= i * i\n",
    "                z *= i\n",
    "    prods[0] = 0\n",
    "    # print(prods)\n",
    "    # print(len(set(prods)))\n",
    "#     pp(Counter(prods))\n",
    "    return sum(prods)"
   ]
  },
  {
   "cell_type": "code",
   "execution_count": 60,
   "id": "8489c91d-f11e-4908-9698-4040a1700e1f",
   "metadata": {},
   "outputs": [
    {
     "data": {
      "text/plain": [
       "22910120"
      ]
     },
     "execution_count": 60,
     "metadata": {},
     "output_type": "execute_result"
    }
   ],
   "source": [
    "S(100000)"
   ]
  },
  {
   "cell_type": "code",
   "execution_count": null,
   "id": "d7aef41a-fbd7-47a4-ad74-88fce9f0b437",
   "metadata": {},
   "outputs": [],
   "source": [
    "from pprint import *"
   ]
  },
  {
   "cell_type": "code",
   "execution_count": null,
   "id": "3577ecc9-d8f6-4388-b78c-30597700ff12",
   "metadata": {},
   "outputs": [],
   "source": [
    "def ans(n):\n",
    "    s = Counter({1: n})\n",
    "    i = 2\n",
    "    while i * i <= n:\n",
    "        for e in s.copy():\n",
    "            l = lcm(e, i * i)\n",
    "            if l <= n:\n",
    "                to_s = n // l\n",
    "                print(i, e, l)\n",
    "                s[i * i] += (i * i - e) * to_s\n",
    "        i += 1\n",
    "    pp(s)\n",
    "    return sum(s.values())\n",
    "ans(20)"
   ]
  },
  {
   "cell_type": "code",
   "execution_count": null,
   "id": "145d5797-057a-4571-8fe2-19d2c4e4c24c",
   "metadata": {
    "scrolled": true
   },
   "outputs": [],
   "source": [
    "S(100)"
   ]
  },
  {
   "cell_type": "code",
   "execution_count": null,
   "id": "d9eeb6c4-725a-4519-914a-d5fa769d62e1",
   "metadata": {},
   "outputs": [],
   "source": [
    "from collections import Counter"
   ]
  },
  {
   "cell_type": "code",
   "execution_count": null,
   "id": "3b56c5ff-c82d-4817-ad54-3087325938da",
   "metadata": {},
   "outputs": [],
   "source": [
    "from math import lcm"
   ]
  },
  {
   "cell_type": "code",
   "execution_count": null,
   "id": "e193641f-e285-4e9a-b6ad-dc97ebfa4a08",
   "metadata": {},
   "outputs": [],
   "source": [
    "def ans(n):\n",
    "    i = 2\n",
    "    s = set([1])\n",
    "    while i * i <= n:\n",
    "        if isp(i):\n",
    "            sq = i * i\n",
    "            ns = set()\n",
    "            for e in s:\n",
    "                lc = lcm(e, sq)\n",
    "                if lc <= n:\n",
    "                    ns.add(lcm(e, sq))\n",
    "            ns.add(sq)\n",
    "            s = s.union(ns)\n",
    "        i += 1\n",
    "    print(len(s))\n",
    "ans(100000)"
   ]
  },
  {
   "cell_type": "code",
   "execution_count": null,
   "id": "004e229f-e181-4dd8-9f50-b042fb2e5ba0",
   "metadata": {},
   "outputs": [],
   "source": [
    "193**2"
   ]
  },
  {
   "cell_type": "code",
   "execution_count": null,
   "id": "e7cdb98c-b5c6-4405-85d9-1dcd9046b4b6",
   "metadata": {},
   "outputs": [],
   "source": [
    "# test()"
   ]
  },
  {
   "cell_type": "code",
   "execution_count": null,
   "id": "5a87353a-2161-44ed-9924-309d4aa89781",
   "metadata": {},
   "outputs": [],
   "source": [
    "def test():\n",
    "    for e in [100, 1000, 10000]:\n",
    "        assert(ans(e) == S(e))"
   ]
  },
  {
   "cell_type": "code",
   "execution_count": null,
   "id": "f1fa0021-e89e-4753-b791-dc1bfba6db9c",
   "metadata": {},
   "outputs": [],
   "source": []
  },
  {
   "cell_type": "code",
   "execution_count": null,
   "id": "94e05ba1-78c8-4b31-a540-60f67cbbe35e",
   "metadata": {},
   "outputs": [],
   "source": [
    "def g(n):\n",
    "    for i in range(n, 0, -1):\n",
    "        if n % i == 0:\n",
    "            if int(i**0.5)**2 == i:\n",
    "                return i"
   ]
  },
  {
   "cell_type": "code",
   "execution_count": null,
   "id": "dd004e42-5953-4b03-8bfd-e512df90a8b3",
   "metadata": {},
   "outputs": [],
   "source": [
    "S = [g(i) for i in range(1, 100)]"
   ]
  },
  {
   "cell_type": "code",
   "execution_count": null,
   "id": "58802786-aab1-4fda-899b-e49c44b30d13",
   "metadata": {
    "scrolled": true
   },
   "outputs": [],
   "source": [
    "S"
   ]
  },
  {
   "cell_type": "markdown",
   "id": "31ebd939",
   "metadata": {},
   "source": [
    "* Assume prime will only intersect with other primes at $p_1 * p_2$\n",
    "* For each composite, will only take away from largest divisor"
   ]
  },
  {
   "cell_type": "code",
   "execution_count": null,
   "id": "610fb637",
   "metadata": {},
   "outputs": [],
   "source": [
    "7, 14, 21\n",
    "7^2, 7^2 * 2^2, 7^2, 3^2"
   ]
  },
  {
   "cell_type": "code",
   "execution_count": 2,
   "id": "52b6019a-7c07-4941-ac1d-67b6fe849585",
   "metadata": {},
   "outputs": [],
   "source": [
    "from math import lcm, sqrt, ceil, gcd"
   ]
  },
  {
   "cell_type": "code",
   "execution_count": 3,
   "id": "0ef627ce-7074-40db-9204-8a753d347209",
   "metadata": {},
   "outputs": [],
   "source": [
    "def get_divs(n):\n",
    "    divs = [[] for _ in range(n + 1)]\n",
    "    for i in range(1, n + 1):\n",
    "        for q in range(i, n + 1, i):\n",
    "            divs[q].append(i)\n",
    "    return divs"
   ]
  },
  {
   "cell_type": "code",
   "execution_count": 4,
   "id": "69c9182e-d9a6-48d4-bca0-1ef95ae7b2df",
   "metadata": {},
   "outputs": [
    {
     "data": {
      "text/plain": [
       "(100, 10)"
      ]
     },
     "execution_count": 4,
     "metadata": {},
     "output_type": "execute_result"
    }
   ],
   "source": [
    "n = 10**2\n",
    "m = ceil(sqrt(n))\n",
    "n, m"
   ]
  },
  {
   "cell_type": "code",
   "execution_count": 5,
   "id": "70ae4aef-4d4f-41fb-9723-487f4359c4c6",
   "metadata": {
    "scrolled": true
   },
   "outputs": [
    {
     "name": "stdout",
     "output_type": "stream",
     "text": [
      "GOTTEN DIVS\n",
      "Const adj\n",
      "2 1\n",
      "3 1\n",
      "4 1\n",
      "5 1\n",
      "6 1\n",
      "7 1\n",
      "8 1\n",
      "9 1\n",
      "10 1\n",
      "3 2\n",
      "4 2\n",
      "5 2\n",
      "6 2\n",
      "7 2\n",
      "8 2\n",
      "9 2\n",
      "10 2\n",
      "4 2\n",
      "6 2\n",
      "8 2\n",
      "10 2\n",
      "4 3\n",
      "5 3\n",
      "6 3\n",
      "7 3\n",
      "8 3\n",
      "9 3\n",
      "10 3\n",
      "6 3\n",
      "9 3\n",
      "5 4\n",
      "6 4\n",
      "7 4\n",
      "8 4\n",
      "9 4\n",
      "10 4\n",
      "6 4\n",
      "8 4\n",
      "10 4\n",
      "8 4\n",
      "6 5\n",
      "7 5\n",
      "8 5\n",
      "9 5\n",
      "10 5\n",
      "10 5\n",
      "7 6\n",
      "8 6\n",
      "9 6\n",
      "10 6\n",
      "8 6\n",
      "10 6\n",
      "9 6\n",
      "8 7\n",
      "9 7\n",
      "10 7\n",
      "9 8\n",
      "10 8\n",
      "10 8\n",
      "10 9\n",
      "Const Done\n"
     ]
    }
   ],
   "source": [
    "# Squares based off divisors\n",
    "# For each number's divisor, take multiples of that divisor\n",
    "adj = [set()]\n",
    "divs = get_divs(m)\n",
    "print(\"GOTTEN DIVS\")\n",
    "i = 1\n",
    "while i * i <= n:\n",
    "    adj.append(set())\n",
    "    i += 1\n",
    "\n",
    "print(\"Const adj\")\n",
    "i = 1\n",
    "while i * i <= n:\n",
    "    # For each divisor of i, check all numbers above that have that div. For all numbers below sq, is good\n",
    "    for d in divs[i]:\n",
    "        # print(i, d)\n",
    "        q = 1\n",
    "        while q * q * d * d <= n:\n",
    "            if q * q * d * d > i * i:\n",
    "                # print(q * q * d * d)\n",
    "                print(q * d, i)\n",
    "                adj[q * d].add(i)\n",
    "            q += 1\n",
    "    i += 1\n",
    "print(\"Const Done\")"
   ]
  },
  {
   "cell_type": "code",
   "execution_count": null,
   "id": "2ff4809c-ae62-4c05-b219-c20a689a5231",
   "metadata": {},
   "outputs": [],
   "source": [
    "adj"
   ]
  },
  {
   "cell_type": "code",
   "execution_count": null,
   "id": "94636982-e25a-48e1-b57b-9428b507e8bb",
   "metadata": {},
   "outputs": [],
   "source": [
    "i = 1\n",
    "sqs = []\n",
    "while i * i <= n:\n",
    "    sqs.append(i * i)\n",
    "    i += 1"
   ]
  },
  {
   "cell_type": "code",
   "execution_count": null,
   "id": "6bff2188-2ecd-48b8-a9ca-a73d8ea5012b",
   "metadata": {},
   "outputs": [],
   "source": [
    "memo = {}\n",
    "def dfs(i, k, parity):\n",
    "    sq = i * i\n",
    "    if (sq, k) not in memo:\n",
    "        if k > n:\n",
    "            return 0\n",
    "        tot = parity * sq * (n // k)\n",
    "        print(sq, k, n // k, tot)\n",
    "        for i_e in adj[i]:\n",
    "            e = i_e * i_e\n",
    "            print(i, i_e)\n",
    "            tot += dfs(i_e, lcm(e, k), -1 * parity)\n",
    "        memo[(sq, k)] = parity * tot    \n",
    "    return parity * memo[(sq, k)]"
   ]
  },
  {
   "cell_type": "code",
   "execution_count": null,
   "id": "03c5c3cc-b3d7-452c-a08d-5717fa461e14",
   "metadata": {
    "scrolled": true
   },
   "outputs": [],
   "source": [
    "tot = 0\n",
    "i = 1\n",
    "while i * i <= n:\n",
    "    tot += dfs(i, i * i, 1)\n",
    "    print()\n",
    "    i += 1\n",
    "tot"
   ]
  },
  {
   "cell_type": "code",
   "execution_count": null,
   "id": "39be91f1-55da-4167-8904-4e7916edd13b",
   "metadata": {},
   "outputs": [],
   "source": [
    "def ans(n):\n",
    "    pastnums = []\n",
    "    num = 1\n",
    "    while num * num <= n:\n",
    "        sq = num * num\n",
    "\n",
    "        for e in pastnums:\n",
    "            per = lcm(sq, e)\n",
    "            if per > n:\n",
    "                continue\n",
    "            # print(sq, e, n // lcm(sq, e))\n",
    "\n",
    "        pastnums.append(sq)\n",
    "\n",
    "        num += 1\n",
    "    return pastnums\n",
    "pn = ans(100)"
   ]
  },
  {
   "cell_type": "code",
   "execution_count": 6,
   "id": "0d449260-3598-4184-8f98-b185c0017eb3",
   "metadata": {},
   "outputs": [],
   "source": [
    "def sieve(n):\n",
    "    s = [1 for _ in range(n + 1)]\n",
    "    primes = []\n",
    "    for q in range(2, n + 1):\n",
    "        if s[q]:\n",
    "            primes.append(q)\n",
    "            for i in range(2 * q, n + 1, q):\n",
    "                s[i] = 0\n",
    "    return primes"
   ]
  },
  {
   "cell_type": "code",
   "execution_count": 21,
   "id": "41013e27-7c3c-40ad-bac7-4e218632eeba",
   "metadata": {},
   "outputs": [],
   "source": [
    "def sieve(n):\n",
    "    s = [1 for _ in range(n + 1)]\n",
    "    primes = []\n",
    "    for q in range(2, n + 1):\n",
    "        if s[q]:\n",
    "            primes.append(q)\n",
    "            for i in range(2 * q, n + 1, q):\n",
    "                s[i] = 0\n",
    "    return primes\n",
    "\n",
    "def moebius(n):\n",
    "    primes = sieve(n)\n",
    "    m = [1 for _ in range(n + 1)]\n",
    "    for p in primes:\n",
    "        for i in range(p, n + 1, p):\n",
    "            m[i] *= -1\n",
    "        for i in range(p * p, n + 1, p * p):\n",
    "            m[i] = 0\n",
    "    return m\n",
    "\n",
    "tm = [1, -1, -1, 0, -1, 1, -1, 0, 0, 1]"
   ]
  },
  {
   "cell_type": "code",
   "execution_count": 40,
   "id": "09895fca-bf8d-4acb-8997-695883c5e295",
   "metadata": {},
   "outputs": [
    {
     "name": "stdout",
     "output_type": "stream",
     "text": [
      "11\n"
     ]
    }
   ],
   "source": [
    "\n",
    "\n",
    "num_squarefree(16)"
   ]
  },
  {
   "cell_type": "code",
   "execution_count": 43,
   "id": "ad74e5db-7b38-42bb-b00c-17118001e177",
   "metadata": {},
   "outputs": [],
   "source": [
    "N = 16"
   ]
  },
  {
   "cell_type": "code",
   "execution_count": 50,
   "id": "d89a896f-55ff-4de6-bc0b-7d715d2f1816",
   "metadata": {},
   "outputs": [
    {
     "ename": "KeyboardInterrupt",
     "evalue": "",
     "output_type": "error",
     "traceback": [
      "\u001b[1;31m---------------------------------------------------------------------------\u001b[0m",
      "\u001b[1;31mKeyboardInterrupt\u001b[0m                         Traceback (most recent call last)",
      "Cell \u001b[1;32mIn[50], line 1\u001b[0m\n\u001b[1;32m----> 1\u001b[0m \u001b[43msolve\u001b[49m\u001b[43m(\u001b[49m\u001b[38;5;241;43m10\u001b[39;49m\u001b[38;5;241;43m*\u001b[39;49m\u001b[38;5;241;43m*\u001b[39;49m\u001b[38;5;241;43m14\u001b[39;49m\u001b[43m)\u001b[49m\n",
      "Cell \u001b[1;32mIn[46], line 2\u001b[0m, in \u001b[0;36msolve\u001b[1;34m(N)\u001b[0m\n\u001b[0;32m      1\u001b[0m \u001b[38;5;28;01mdef\u001b[39;00m \u001b[38;5;21msolve\u001b[39m(N):\n\u001b[1;32m----> 2\u001b[0m     M \u001b[38;5;241m=\u001b[39m \u001b[43mmoebius\u001b[49m\u001b[43m(\u001b[49m\u001b[38;5;28;43mint\u001b[39;49m\u001b[43m(\u001b[49m\u001b[43mN\u001b[49m\u001b[38;5;241;43m*\u001b[39;49m\u001b[38;5;241;43m*\u001b[39;49m\u001b[38;5;241;43m0.5\u001b[39;49m\u001b[38;5;241;43m+\u001b[39;49m\u001b[38;5;241;43m1\u001b[39;49m\u001b[43m)\u001b[49m\u001b[43m)\u001b[49m\n\u001b[0;32m      4\u001b[0m     \u001b[38;5;28;01mdef\u001b[39;00m \u001b[38;5;21mnum_squarefree\u001b[39m(n):\n\u001b[0;32m      5\u001b[0m         tot \u001b[38;5;241m=\u001b[39m \u001b[38;5;241m0\u001b[39m\n",
      "Cell \u001b[1;32mIn[21], line 6\u001b[0m, in \u001b[0;36mmoebius\u001b[1;34m(n)\u001b[0m\n\u001b[0;32m      4\u001b[0m \u001b[38;5;28;01mfor\u001b[39;00m p \u001b[38;5;129;01min\u001b[39;00m primes:\n\u001b[0;32m      5\u001b[0m     \u001b[38;5;28;01mfor\u001b[39;00m i \u001b[38;5;129;01min\u001b[39;00m \u001b[38;5;28mrange\u001b[39m(p, n \u001b[38;5;241m+\u001b[39m \u001b[38;5;241m1\u001b[39m, p):\n\u001b[1;32m----> 6\u001b[0m         m[i] \u001b[38;5;241m*\u001b[39m\u001b[38;5;241m=\u001b[39m \u001b[38;5;241m-\u001b[39m\u001b[38;5;241m1\u001b[39m\n\u001b[0;32m      7\u001b[0m     \u001b[38;5;28;01mfor\u001b[39;00m i \u001b[38;5;129;01min\u001b[39;00m \u001b[38;5;28mrange\u001b[39m(p \u001b[38;5;241m*\u001b[39m p, n \u001b[38;5;241m+\u001b[39m \u001b[38;5;241m1\u001b[39m, p \u001b[38;5;241m*\u001b[39m p):\n\u001b[0;32m      8\u001b[0m         m[i] \u001b[38;5;241m=\u001b[39m \u001b[38;5;241m0\u001b[39m\n",
      "\u001b[1;31mKeyboardInterrupt\u001b[0m: "
     ]
    }
   ],
   "source": []
  },
  {
   "cell_type": "code",
   "execution_count": 46,
   "id": "91eeed6b-fccc-40f0-a11f-d85e53a07ad5",
   "metadata": {},
   "outputs": [],
   "source": [
    "def sieve(n):\n",
    "    s = [1 for _ in range(n + 1)]\n",
    "    primes = []\n",
    "    for q in range(2, n + 1):\n",
    "        if s[q]:\n",
    "            primes.append(q)\n",
    "            for i in range(2 * q, n + 1, q):\n",
    "                s[i] = 0\n",
    "    return primes\n",
    "\n",
    "def moebius(n):\n",
    "    primes = sieve(n)\n",
    "    m = [1 for _ in range(n + 1)]\n",
    "    for p in primes:\n",
    "        for i in range(p, n + 1, p):\n",
    "            m[i] *= -1\n",
    "        for i in range(p * p, n + 1, p * p):\n",
    "            m[i] = 0\n",
    "    return m\n",
    "\n",
    "tm = [1, -1, -1, 0, -1, 1, -1, 0, 0, 1]\n",
    "\n",
    "def solve(N):\n",
    "    M = moebius(int(N**0.5+1))\n",
    "\n",
    "    def num_squarefree(n):\n",
    "        tot = 0\n",
    "        for i in range(1, int(n**0.5+1)):\n",
    "            tot += (n // (i*i)) * M[i]\n",
    "        return tot\n",
    "\n",
    "    i = 1\n",
    "    ans = 0\n",
    "    while i * i <= N:\n",
    "        sq = i * i\n",
    "\n",
    "        new_n = N // sq\n",
    "        sq_cnt = new_n = num_squarefree(new_n)\n",
    "        cont = sq_cnt * sq\n",
    "\n",
    "        ans += cont\n",
    "        \n",
    "        i += 1\n",
    "    return ans\n",
    "print(solve(10**14))"
   ]
  }
 ],
 "metadata": {
  "kernelspec": {
   "display_name": "Python 3 (ipykernel)",
   "language": "python",
   "name": "python3"
  },
  "language_info": {
   "codemirror_mode": {
    "name": "ipython",
    "version": 3
   },
   "file_extension": ".py",
   "mimetype": "text/x-python",
   "name": "python",
   "nbconvert_exporter": "python",
   "pygments_lexer": "ipython3",
   "version": "3.12.4"
  }
 },
 "nbformat": 4,
 "nbformat_minor": 5
}
