{
 "cells": [
  {
   "cell_type": "code",
   "execution_count": 1,
   "id": "d5db0075-8a2a-4651-ba52-efaf6bd20a07",
   "metadata": {},
   "outputs": [],
   "source": [
    "def isp(n):\n",
    "    for q in range(2, n):\n",
    "        if n % q == 0:\n",
    "            return False\n",
    "    return True"
   ]
  },
  {
   "cell_type": "code",
   "execution_count": 5,
   "id": "c96cc432-3ae6-4da8-8dfd-6e1ce34506aa",
   "metadata": {},
   "outputs": [],
   "source": [
    "def S(n):\n",
    "    prods = [1 for _ in range(0, n + 1)]\n",
    "    for i in range(2, n):\n",
    "        if isp(i):\n",
    "            z = i\n",
    "            while z <= n:\n",
    "                for q in range(z * z, n + 1, z * z):\n",
    "                    prods[q] *= i * i\n",
    "                z *= i\n",
    "    print(prods)\n",
    "    print(len(set(prods)))\n",
    "#     pp(Counter(prods))\n",
    "    return sum(prods)"
   ]
  },
  {
   "cell_type": "code",
   "execution_count": 10,
   "id": "8489c91d-f11e-4908-9698-4040a1700e1f",
   "metadata": {},
   "outputs": [
    {
     "name": "stdout",
     "output_type": "stream",
     "text": [
      "[1, 1, 1, 1, 4, 1, 1, 1, 4, 9, 1, 1, 4, 1, 1, 1, 16, 1, 9, 1, 4, 1, 1, 1, 4, 25]\n",
      "5\n"
     ]
    },
    {
     "data": {
      "text/plain": [
       "96"
      ]
     },
     "execution_count": 10,
     "metadata": {},
     "output_type": "execute_result"
    }
   ],
   "source": [
    "S(25)"
   ]
  },
  {
   "cell_type": "code",
   "execution_count": 3,
   "id": "d7aef41a-fbd7-47a4-ad74-88fce9f0b437",
   "metadata": {},
   "outputs": [],
   "source": [
    "from pprint import *"
   ]
  },
  {
   "cell_type": "code",
   "execution_count": 12,
   "id": "3577ecc9-d8f6-4388-b78c-30597700ff12",
   "metadata": {},
   "outputs": [
    {
     "name": "stdout",
     "output_type": "stream",
     "text": [
      "2 1 4\n",
      "3 1 9\n",
      "4 1 16\n",
      "4 4 16\n",
      "Counter({16: 27, 1: 20, 9: 16, 4: 15})\n"
     ]
    },
    {
     "data": {
      "text/plain": [
       "78"
      ]
     },
     "execution_count": 12,
     "metadata": {},
     "output_type": "execute_result"
    }
   ],
   "source": [
    "def ans(n):\n",
    "    s = Counter({1: n})\n",
    "    i = 2\n",
    "    while i * i <= n:\n",
    "        for e in s.copy():\n",
    "            l = lcm(e, i * i)\n",
    "            if l <= n:\n",
    "                to_s = n // l\n",
    "                print(i, e, l)\n",
    "                s[i * i] += (i * i - e) * to_s\n",
    "        i += 1\n",
    "    pp(s)\n",
    "    return sum(s.values())\n",
    "ans(20)"
   ]
  },
  {
   "cell_type": "code",
   "execution_count": 13,
   "id": "145d5797-057a-4571-8fe2-19d2c4e4c24c",
   "metadata": {
    "scrolled": true
   },
   "outputs": [
    {
     "name": "stdout",
     "output_type": "stream",
     "text": [
      "[1, 1, 1, 1, 4, 1, 1, 1, 4, 9, 1, 1, 4, 1, 1, 1, 16, 1, 9, 1, 4]\n",
      "4\n",
      "Counter({1: 14, 4: 4, 9: 2, 16: 1})\n"
     ]
    },
    {
     "data": {
      "text/plain": [
       "64"
      ]
     },
     "execution_count": 13,
     "metadata": {},
     "output_type": "execute_result"
    }
   ],
   "source": [
    "S(20)"
   ]
  },
  {
   "cell_type": "code",
   "execution_count": 14,
   "id": "d9eeb6c4-725a-4519-914a-d5fa769d62e1",
   "metadata": {},
   "outputs": [],
   "source": [
    "from collections import Counter"
   ]
  },
  {
   "cell_type": "code",
   "execution_count": 15,
   "id": "3b56c5ff-c82d-4817-ad54-3087325938da",
   "metadata": {},
   "outputs": [],
   "source": [
    "from math import lcm"
   ]
  },
  {
   "cell_type": "code",
   "execution_count": 16,
   "id": "e193641f-e285-4e9a-b6ad-dc97ebfa4a08",
   "metadata": {},
   "outputs": [
    {
     "name": "stdout",
     "output_type": "stream",
     "text": [
      "193\n"
     ]
    }
   ],
   "source": [
    "def ans(n):\n",
    "    i = 2\n",
    "    s = set([1])\n",
    "    while i * i <= n:\n",
    "        if isp(i):\n",
    "            sq = i * i\n",
    "            ns = set()\n",
    "            for e in s:\n",
    "                lc = lcm(e, sq)\n",
    "                if lc <= n:\n",
    "                    ns.add(lcm(e, sq))\n",
    "            ns.add(sq)\n",
    "            s = s.union(ns)\n",
    "        i += 1\n",
    "    print(len(s))\n",
    "ans(100000)"
   ]
  },
  {
   "cell_type": "code",
   "execution_count": 17,
   "id": "004e229f-e181-4dd8-9f50-b042fb2e5ba0",
   "metadata": {},
   "outputs": [
    {
     "data": {
      "text/plain": [
       "37249"
      ]
     },
     "execution_count": 17,
     "metadata": {},
     "output_type": "execute_result"
    }
   ],
   "source": [
    "193**2"
   ]
  },
  {
   "cell_type": "code",
   "execution_count": 20,
   "id": "e7cdb98c-b5c6-4405-85d9-1dcd9046b4b6",
   "metadata": {},
   "outputs": [],
   "source": [
    "# test()"
   ]
  },
  {
   "cell_type": "code",
   "execution_count": 19,
   "id": "5a87353a-2161-44ed-9924-309d4aa89781",
   "metadata": {},
   "outputs": [],
   "source": [
    "def test():\n",
    "    for e in [100, 1000, 10000]:\n",
    "        assert(ans(e) == S(e))"
   ]
  },
  {
   "cell_type": "code",
   "execution_count": null,
   "id": "f1fa0021-e89e-4753-b791-dc1bfba6db9c",
   "metadata": {},
   "outputs": [],
   "source": []
  },
  {
   "cell_type": "code",
   "execution_count": 37,
   "id": "94e05ba1-78c8-4b31-a540-60f67cbbe35e",
   "metadata": {},
   "outputs": [],
   "source": [
    "def g(n):\n",
    "    for i in range(n, 0, -1):\n",
    "        if n % i == 0:\n",
    "            if int(i**0.5)**2 == i:\n",
    "                return i"
   ]
  },
  {
   "cell_type": "code",
   "execution_count": 42,
   "id": "dd004e42-5953-4b03-8bfd-e512df90a8b3",
   "metadata": {},
   "outputs": [],
   "source": [
    "S = [g(i) for i in range(1, 100)]"
   ]
  },
  {
   "cell_type": "code",
   "execution_count": 43,
   "id": "58802786-aab1-4fda-899b-e49c44b30d13",
   "metadata": {
    "scrolled": true
   },
   "outputs": [
    {
     "data": {
      "text/plain": [
       "[1,\n",
       " 1,\n",
       " 1,\n",
       " 4,\n",
       " 1,\n",
       " 1,\n",
       " 1,\n",
       " 4,\n",
       " 9,\n",
       " 1,\n",
       " 1,\n",
       " 4,\n",
       " 1,\n",
       " 1,\n",
       " 1,\n",
       " 16,\n",
       " 1,\n",
       " 9,\n",
       " 1,\n",
       " 4,\n",
       " 1,\n",
       " 1,\n",
       " 1,\n",
       " 4,\n",
       " 25,\n",
       " 1,\n",
       " 9,\n",
       " 4,\n",
       " 1,\n",
       " 1,\n",
       " 1,\n",
       " 16,\n",
       " 1,\n",
       " 1,\n",
       " 1,\n",
       " 36,\n",
       " 1,\n",
       " 1,\n",
       " 1,\n",
       " 4,\n",
       " 1,\n",
       " 1,\n",
       " 1,\n",
       " 4,\n",
       " 9,\n",
       " 1,\n",
       " 1,\n",
       " 16,\n",
       " 49,\n",
       " 25,\n",
       " 1,\n",
       " 4,\n",
       " 1,\n",
       " 9,\n",
       " 1,\n",
       " 4,\n",
       " 1,\n",
       " 1,\n",
       " 1,\n",
       " 4,\n",
       " 1,\n",
       " 1,\n",
       " 9,\n",
       " 64,\n",
       " 1,\n",
       " 1,\n",
       " 1,\n",
       " 4,\n",
       " 1,\n",
       " 1,\n",
       " 1,\n",
       " 36,\n",
       " 1,\n",
       " 1,\n",
       " 25,\n",
       " 4,\n",
       " 1,\n",
       " 1,\n",
       " 1,\n",
       " 16,\n",
       " 81,\n",
       " 1,\n",
       " 1,\n",
       " 4,\n",
       " 1,\n",
       " 1,\n",
       " 1,\n",
       " 4,\n",
       " 1,\n",
       " 9,\n",
       " 1,\n",
       " 4,\n",
       " 1,\n",
       " 1,\n",
       " 1,\n",
       " 16,\n",
       " 1,\n",
       " 49,\n",
       " 9]"
      ]
     },
     "execution_count": 43,
     "metadata": {},
     "output_type": "execute_result"
    }
   ],
   "source": [
    "S"
   ]
  },
  {
   "cell_type": "markdown",
   "id": "31ebd939",
   "metadata": {},
   "source": [
    "* Assume prime will only intersect with other primes at $p_1 * p_2$\n",
    "* For each composite, will only take away from largest divisor"
   ]
  },
  {
   "cell_type": "code",
   "execution_count": null,
   "id": "610fb637",
   "metadata": {},
   "outputs": [],
   "source": [
    "7, 14, 21\n",
    "7^2, 7^2 * 2^2, 7^2, 3^2"
   ]
  }
 ],
 "metadata": {
  "kernelspec": {
   "display_name": "Python 3 (ipykernel)",
   "language": "python",
   "name": "python3"
  },
  "language_info": {
   "codemirror_mode": {
    "name": "ipython",
    "version": 3
   },
   "file_extension": ".py",
   "mimetype": "text/x-python",
   "name": "python",
   "nbconvert_exporter": "python",
   "pygments_lexer": "ipython3",
   "version": "3.10.6"
  }
 },
 "nbformat": 4,
 "nbformat_minor": 5
}
