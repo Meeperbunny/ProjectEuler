{
 "cells": [
  {
   "cell_type": "code",
   "execution_count": 87,
   "metadata": {},
   "outputs": [],
   "source": [
    "# 0 1 1\n",
    "# 1 2\n",
    "\n",
    "tab = {}\n",
    "tab[(0, 0)] = 0\n",
    "tab[(0, 1)] = 1\n",
    "k = 5\n",
    "for i in range(1, k + 1):\n",
    "    for q in range(0, k + 1):\n",
    "        tab[(i, q)] = tab[(i - 1, q + 1)] + tab[(i - 1, q)]\n",
    "        tab[(i, q + 1)] = 2 * tab[(i, q)] + tab[(i - 1, q)]\n",
    "        tab[(i - 1, q + 2)] = tab[(i, q + 1)] - tab[(i - 1, q + 1)]"
   ]
  },
  {
   "cell_type": "code",
   "execution_count": 39,
   "metadata": {},
   "outputs": [
    {
     "data": {
      "text/plain": [
       "281"
      ]
     },
     "execution_count": 39,
     "metadata": {},
     "output_type": "execute_result"
    }
   ],
   "source": [
    "26 +2*59 +137"
   ]
  },
  {
   "cell_type": "code",
   "execution_count": 47,
   "metadata": {},
   "outputs": [
    {
     "data": {
      "text/plain": [
       "196"
      ]
     },
     "execution_count": 47,
     "metadata": {},
     "output_type": "execute_result"
    }
   ],
   "source": [
    "6 * 11 + 5 * 26"
   ]
  },
  {
   "cell_type": "code",
   "execution_count": 48,
   "metadata": {},
   "outputs": [
    {
     "data": {
      "text/plain": [
       "85"
      ]
     },
     "execution_count": 48,
     "metadata": {},
     "output_type": "execute_result"
    }
   ],
   "source": [
    "3 * 11 + 2 * 26"
   ]
  },
  {
   "cell_type": "code",
   "execution_count": 55,
   "metadata": {},
   "outputs": [
    {
     "data": {
      "text/plain": [
       "455"
      ]
     },
     "execution_count": 55,
     "metadata": {},
     "output_type": "execute_result"
    }
   ],
   "source": [
    "13 * 11 + 12 * 26"
   ]
  },
  {
   "cell_type": "code",
   "execution_count": 65,
   "metadata": {},
   "outputs": [
    {
     "data": {
      "text/plain": [
       "1039"
      ]
     },
     "execution_count": 65,
     "metadata": {},
     "output_type": "execute_result"
    }
   ],
   "source": [
    "33 * 11 + 26 * 26"
   ]
  },
  {
   "cell_type": "code",
   "execution_count": 142,
   "metadata": {},
   "outputs": [],
   "source": [
    "mod = 1123581313\n",
    "def mult(A, B):\n",
    "    res = [[0 for _ in range(len(B[0]))] for _ in range(len(A))]\n",
    "    assert(len(A[0]) == len(B))\n",
    "    for i in range(len(A)):\n",
    "        for q in range(len(B[0])):\n",
    "            for j in range(len(B)):\n",
    "                res[i][q] += A[i][j] * B[j][q]\n",
    "                res[i][q] %= mod\n",
    "    return res"
   ]
  },
  {
   "cell_type": "code",
   "execution_count": 173,
   "metadata": {},
   "outputs": [],
   "source": [
    "def matpow(m, k):\n",
    "    b = m.copy()\n",
    "    k -= 1\n",
    "    while k:\n",
    "        if k & 1:\n",
    "            m = mult(b, m)\n",
    "            k -= 1\n",
    "        else:\n",
    "            b = mult(b, b)\n",
    "            k //= 2\n",
    "    return m"
   ]
  },
  {
   "cell_type": "code",
   "execution_count": 174,
   "metadata": {},
   "outputs": [],
   "source": [
    "D = [\n",
    "    [1, 3],\n",
    "    [1, 2]\n",
    "]\n",
    "R = [\n",
    "    [0, 3],\n",
    "    [1, 1],\n",
    "]\n",
    "B = [\n",
    "    [0, 1],\n",
    "]\n",
    "def solve(x, y):\n",
    "    return mult(B, mult(matpow(R, x), matpow(D, y)))[0][0]"
   ]
  },
  {
   "cell_type": "code",
   "execution_count": 175,
   "metadata": {},
   "outputs": [
    {
     "name": "stdout",
     "output_type": "stream",
     "text": [
      "2 5 11 26 \n",
      "7 16 37 85 \n",
      "23 53 122 281 \n",
      "76 175 403 928 \n"
     ]
    }
   ],
   "source": [
    "for i in range(1, 5):\n",
    "    for q in range(1, 5):\n",
    "        print(tab[(i, q)], end=\" \")\n",
    "    print()"
   ]
  },
  {
   "cell_type": "code",
   "execution_count": 180,
   "metadata": {},
   "outputs": [
    {
     "data": {
      "text/plain": [
       "76"
      ]
     },
     "execution_count": 180,
     "metadata": {},
     "output_type": "execute_result"
    }
   ],
   "source": [
    "solve(1, 4)"
   ]
  },
  {
   "cell_type": "code",
   "execution_count": 154,
   "metadata": {},
   "outputs": [
    {
     "name": "stdout",
     "output_type": "stream",
     "text": [
      "1 1 2 2\n",
      "1 2 5 7\n",
      "1 3 11 23\n",
      "1 4 26 251\n",
      "1 5 59 251\n",
      "1 6 137 29867\n",
      "2 1 7 5\n",
      "2 2 16 16\n",
      "2 3 37 53\n",
      "2 4 85 578\n",
      "2 5 196 578\n",
      "2 6 451 68777\n",
      "1 7 314 2738\n",
      "3 1 23 11\n",
      "3 2 53 37\n",
      "3 3 122 122\n",
      "3 4 281 1331\n",
      "3 5 647 1331\n",
      "3 6 1490 158378\n",
      "2 7 1039 6305\n",
      "4 1 76 59\n",
      "4 2 175 196\n",
      "4 3 403 647\n",
      "4 4 928 7058\n",
      "4 5 2137 7058\n",
      "4 6 4921 839843\n",
      "3 7 3431 14519\n",
      "5 1 251 59\n",
      "5 2 578 196\n",
      "5 3 1331 647\n",
      "5 4 3065 7058\n",
      "5 5 7058 7058\n",
      "5 6 16253 839843\n",
      "4 7 11332 76991\n"
     ]
    }
   ],
   "source": [
    "for x, y in tab:\n",
    "    if x == 0 or y == 0:\n",
    "        continue\n",
    "    print(x, y, tab[(x, y)], solve(x, y))"
   ]
  },
  {
   "cell_type": "code",
   "execution_count": null,
   "metadata": {},
   "outputs": [],
   "source": [
    "1, 2, 3\n",
    "1, 2, 3"
   ]
  },
  {
   "cell_type": "code",
   "execution_count": 181,
   "metadata": {},
   "outputs": [
    {
     "data": {
      "text/plain": [
       "969134784"
      ]
     },
     "execution_count": 181,
     "metadata": {},
     "output_type": "execute_result"
    }
   ],
   "source": [
    "k = 50\n",
    "fib = [0, 1]\n",
    "while len(fib) != k + 1:\n",
    "    fib.append(fib[-1] + fib[-2])\n",
    "T = 0\n",
    "for i in range(2, k + 1):\n",
    "    for q in range(2, k + 1):\n",
    "        a = fib[i]\n",
    "        b = fib[q]\n",
    "        T += solve(a, b)\n",
    "T % mod"
   ]
  },
  {
   "cell_type": "code",
   "execution_count": 35,
   "metadata": {},
   "outputs": [
    {
     "data": {
      "text/plain": [
       "10396"
      ]
     },
     "execution_count": 35,
     "metadata": {},
     "output_type": "execute_result"
    }
   ],
   "source": [
    "T = 0\n",
    "for i in range(2, k + 1):\n",
    "    for q in range(2, k + 1):\n",
    "        T += tab[(fib[i], fib[q])]\n",
    "T % 1123581313"
   ]
  },
  {
   "cell_type": "code",
   "execution_count": null,
   "metadata": {},
   "outputs": [],
   "source": []
  }
 ],
 "metadata": {
  "kernelspec": {
   "display_name": "Python 3",
   "language": "python",
   "name": "python3"
  },
  "language_info": {
   "codemirror_mode": {
    "name": "ipython",
    "version": 3
   },
   "file_extension": ".py",
   "mimetype": "text/x-python",
   "name": "python",
   "nbconvert_exporter": "python",
   "pygments_lexer": "ipython3",
   "version": "3.9.6"
  }
 },
 "nbformat": 4,
 "nbformat_minor": 2
}
