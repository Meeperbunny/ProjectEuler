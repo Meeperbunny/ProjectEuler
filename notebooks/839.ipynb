{
 "cells": [
  {
   "cell_type": "code",
   "execution_count": null,
   "metadata": {},
   "outputs": [],
   "source": [
    "def S():\n",
    "    S = 290797\n",
    "    while True:\n",
    "        yield S\n",
    "        S = (S * S) % 50515093"
   ]
  },
  {
   "cell_type": "code",
   "execution_count": 20,
   "metadata": {},
   "outputs": [
    {
     "data": {
      "text/plain": [
       "150893234438294408"
      ]
     },
     "execution_count": 20,
     "metadata": {},
     "output_type": "execute_result"
    }
   ],
   "source": [
    "def ans(N):\n",
    "    s = S()\n",
    "    L = [next(s) for i in range(N)]\n",
    "    lasts = []\n",
    "    for i in range(N):\n",
    "        lasts.append((L[i], 1))\n",
    "        # If current avg total is less than last then combine the two\n",
    "        while len(lasts) >= 2:\n",
    "            t, c = lasts.pop()\n",
    "            l_t, l_c = lasts.pop()\n",
    "            if l_t * c > t * l_c:\n",
    "                lasts.append((l_t + t, l_c + c))\n",
    "            else:\n",
    "                lasts.append((l_t, l_c))\n",
    "                lasts.append((t, c))\n",
    "                break\n",
    "    A = 0\n",
    "    i = 0\n",
    "    # print(L)\n",
    "    for t, c in lasts:\n",
    "        tot = 0\n",
    "        for _ in range(c):\n",
    "            tot += L[i]\n",
    "            tot -= t // c\n",
    "            A += tot\n",
    "            # Upd\n",
    "            t -= t // c\n",
    "            c -= 1\n",
    "            i += 1\n",
    "    return A\n",
    "ans(10**7)"
   ]
  }
 ],
 "metadata": {
  "kernelspec": {
   "display_name": "Python 3",
   "language": "python",
   "name": "python3"
  },
  "language_info": {
   "codemirror_mode": {
    "name": "ipython",
    "version": 3
   },
   "file_extension": ".py",
   "mimetype": "text/x-python",
   "name": "python",
   "nbconvert_exporter": "python",
   "pygments_lexer": "ipython3",
   "version": "3.12.4"
  }
 },
 "nbformat": 4,
 "nbformat_minor": 2
}
