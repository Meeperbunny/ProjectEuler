{
 "cells": [
  {
   "cell_type": "code",
   "execution_count": null,
   "metadata": {},
   "outputs": [],
   "source": [
    "\"\"\"\n",
    "\n",
    "1 x  +  1 x^2  +  2 x^3  +  3 x^4  +  5 x^5  +  8 x^6  +  13 x^7  +  21 x^8\n",
    "\n",
    "1 x  +  1 x^2  +  2 x^3  +  3 x^4  +  x^4 (5 x^1  +  8 x^2  +  13 x^3  +  21 x^4)\n",
    "\n",
    "\n",
    "1 x  +  1 x^2  +  2 x^3  +  3 x^4  +  x^4 (5 x^1  +  8 x^2  +  13 x^3  +  21 x^4)\n",
    "\n",
    "5 5 10 15\n",
    "3 3 13 21\n",
    "\n",
    "\n",
    "1 x  +  1 x^2  +  2 x^3  +  3 x^4  +  5 x^1  +  8 x^2  +  13 x^3  +  21 x^4  + 34 x^5  +  55 x^6\n",
    "\n",
    "8 8 16 24 40\n",
    "0 5  5 10 15\n",
    "\n",
    "SUB LR\n",
    "SHFIT RIGHT\n",
    "MULT BY c_LR\n",
    "MULT BY x^R\n",
    "\n",
    "\"\"\""
   ]
  },
  {
   "cell_type": "code",
   "execution_count": 28,
   "metadata": {},
   "outputs": [],
   "source": [
    "from functools import cache\n",
    "@cache\n",
    "def fac(n):\n",
    "    return 1 if not n else n * fac(n - 1)"
   ]
  },
  {
   "cell_type": "code",
   "execution_count": 30,
   "metadata": {},
   "outputs": [],
   "source": [
    "mod = fac(15)"
   ]
  },
  {
   "cell_type": "code",
   "execution_count": 31,
   "metadata": {},
   "outputs": [],
   "source": [
    "def mult(A, B):\n",
    "    res = [[0 for _ in range(len(B[0]))] for _ in range(len(A))]\n",
    "    assert(len(A[0]) == len(B))\n",
    "    for i in range(len(A)):\n",
    "        for q in range(len(B[0])):\n",
    "            for j in range(len(B)):\n",
    "                res[i][q] += A[i][j] * B[j][q]\n",
    "                res[i][q] %= mod\n",
    "    return res"
   ]
  },
  {
   "cell_type": "code",
   "execution_count": 32,
   "metadata": {},
   "outputs": [],
   "source": [
    "def matpow(m, k):\n",
    "    b = m.copy()\n",
    "    k -= 1\n",
    "    while k:\n",
    "        if k & 1:\n",
    "            m = mult(b, m)\n",
    "            k -= 1\n",
    "        else:\n",
    "            b = mult(b, b)\n",
    "            k //= 2\n",
    "    return m"
   ]
  },
  {
   "cell_type": "code",
   "execution_count": 33,
   "metadata": {},
   "outputs": [],
   "source": [
    "def fibMod(n):\n",
    "    base = [[1, 1]]\n",
    "    fib = [\n",
    "        [0, 1],\n",
    "        [1, 1]\n",
    "    ]\n",
    "    if n == 1:\n",
    "        return 1\n",
    "    fib = matpow(fib, n - 1)\n",
    "    return mult(base, fib)[0][0]\n"
   ]
  },
  {
   "cell_type": "code",
   "execution_count": 79,
   "metadata": {},
   "outputs": [],
   "source": [
    "mod = fac(15)\n",
    "\n",
    "def F(R, x):\n",
    "    if R == 1:\n",
    "        return x % mod\n",
    "    if R == 2:\n",
    "        return (x + pow(x, 2)) % mod\n",
    "    if R & 1:\n",
    "        T = fibMod(R) * pow(x, R, mod)\n",
    "        return (T + F(R - 1, x)) % mod\n",
    "    else:\n",
    "        L = F(R // 2, x)\n",
    "        LR = fibMod(R // 2)\n",
    "        RL = fibMod(R // 2 + 1)\n",
    "        T = L\n",
    "        T += RL * L * pow(x, R // 2, mod)\n",
    "        L -= pow(x, R // 2, mod) * LR\n",
    "        L *= x\n",
    "        L *= LR\n",
    "        L *= pow(x, R // 2, mod)\n",
    "        T += L\n",
    "        return T % mod"
   ]
  },
  {
   "cell_type": "code",
   "execution_count": 81,
   "metadata": {},
   "outputs": [
    {
     "data": {
      "text/plain": [
       "252541322550"
      ]
     },
     "execution_count": 81,
     "metadata": {},
     "output_type": "execute_result"
    }
   ],
   "source": [
    "n = 10**15\n",
    "sum(F(n, x) for x in range(0, 100 + 1)) % mod"
   ]
  }
 ],
 "metadata": {
  "kernelspec": {
   "display_name": "Python 3",
   "language": "python",
   "name": "python3"
  },
  "language_info": {
   "codemirror_mode": {
    "name": "ipython",
    "version": 3
   },
   "file_extension": ".py",
   "mimetype": "text/x-python",
   "name": "python",
   "nbconvert_exporter": "python",
   "pygments_lexer": "ipython3",
   "version": "3.9.6"
  }
 },
 "nbformat": 4,
 "nbformat_minor": 2
}
