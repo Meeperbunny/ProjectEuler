{
 "cells": [
  {
   "cell_type": "code",
   "execution_count": 6,
   "id": "c46b7273-e423-4303-b2ee-927b3be83a7f",
   "metadata": {},
   "outputs": [
    {
     "name": "stdout",
     "output_type": "stream",
     "text": [
      "788554844796937\n"
     ]
    }
   ],
   "source": [
    "import numpy as np\n",
    "\n",
    "dp = np.zeros((31, 4, 4, 4, 16), dtype=np.int64)\n",
    "\n",
    "def TC():\n",
    "    dp[0][0][0][0][0] = 1\n",
    "    for i in range(1, 31):\n",
    "        for c1 in range(4):\n",
    "            for c2 in range(4):\n",
    "                for c3 in range(4):\n",
    "                    for c4 in range(4):\n",
    "                        free, fare, area, reef = False, False, False, False\n",
    "                        if i >= 4 and c1 == 2 and c2 == 3 and c3 == 1 and c4 == 1:\n",
    "                            free = True\n",
    "                        if i >= 4 and c1 == 2 and c2 == 0 and c3 == 3 and c4 == 1:\n",
    "                            fare = True\n",
    "                        if i >= 4 and c1 == 0 and c2 == 3 and c3 == 1 and c4 == 0:\n",
    "                            area = True\n",
    "                        if i >= 4 and c1 == 3 and c2 == 1 and c3 == 1 and c4 == 2:\n",
    "                            reef = True\n",
    "\n",
    "                        for c in range(16):\n",
    "                            mod = c\n",
    "                            if free:\n",
    "                                mod |= (1 << 0)\n",
    "                            if fare:\n",
    "                                mod |= (1 << 1)\n",
    "                            if area:\n",
    "                                mod |= (1 << 2)\n",
    "                            if reef:\n",
    "                                mod |= (1 << 3)\n",
    "                            dp[i][c2][c3][c4][mod] += dp[i - 1][c1][c2][c3][c]\n",
    "\n",
    "    tot = 0\n",
    "    for i in range(4):\n",
    "        for q in range(4):\n",
    "            for j in range(4):\n",
    "                tot += dp[30][i][q][j][15]\n",
    "    \n",
    "    print(tot)\n",
    "\n",
    "def main():\n",
    "    T = 1\n",
    "    for t in range(T):\n",
    "        TC()\n",
    "\n",
    "if __name__ == \"__main__\":\n",
    "    main()\n"
   ]
  },
  {
   "cell_type": "code",
   "execution_count": null,
   "id": "3a417d1a-8686-4278-9dff-8d4ec37dc379",
   "metadata": {},
   "outputs": [],
   "source": []
  }
 ],
 "metadata": {
  "kernelspec": {
   "display_name": "Python 3 (ipykernel)",
   "language": "python",
   "name": "python3"
  },
  "language_info": {
   "codemirror_mode": {
    "name": "ipython",
    "version": 3
   },
   "file_extension": ".py",
   "mimetype": "text/x-python",
   "name": "python",
   "nbconvert_exporter": "python",
   "pygments_lexer": "ipython3",
   "version": "3.12.4"
  }
 },
 "nbformat": 4,
 "nbformat_minor": 5
}
