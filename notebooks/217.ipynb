{
 "cells": [
  {
   "cell_type": "code",
   "execution_count": 35,
   "metadata": {},
   "outputs": [],
   "source": [
    "from tqdm.notebook import trange"
   ]
  },
  {
   "cell_type": "code",
   "execution_count": 38,
   "metadata": {},
   "outputs": [
    {
     "data": {
      "application/vnd.jupyter.widget-view+json": {
       "model_id": "4138de30e3ce409d9f1d9fe53f52c687",
       "version_major": 2,
       "version_minor": 0
      },
      "text/plain": [
       "  0%|          | 0/47 [00:00<?, ?it/s]"
      ]
     },
     "metadata": {},
     "output_type": "display_data"
    },
    {
     "data": {
      "text/plain": [
       "6273134"
      ]
     },
     "execution_count": 38,
     "metadata": {},
     "output_type": "execute_result"
    }
   ],
   "source": [
    "N = 47\n",
    "T = 0\n",
    "m = 3**15\n",
    "scnt = [[[(0, 0) for _ in range(10)] for _ in range(550)] for _ in range(N + 1)]\n",
    "scnt[0][0][0] = (0, 1)\n",
    "for d in range(0, 10):\n",
    "    scnt[1][d][d] = (d, 1)\n",
    "for k in range(2, N + 1):\n",
    "    for d in range(0, 10):\n",
    "        # Add digit d to left side\n",
    "        to_add = d * pow(10, k - 1)\n",
    "        for od in range(0, 10):\n",
    "            for j in range(0, 500):\n",
    "                ocnt = scnt[k - 1][j][od]\n",
    "                scnt[k][j + d][d] = ((scnt[k][j + d][d][0] + ocnt[0] + ocnt[1] * to_add) % m, \\\n",
    "                                     (scnt[k][j + d][d][1] + ocnt[1]) % m)\n",
    "for d in trange(1, N + 1):\n",
    "    TD = 0\n",
    "    if d & 1:\n",
    "        if d == 1:\n",
    "            T += 45\n",
    "            continue\n",
    "        hd = (d - 1) // 2\n",
    "        # For each on left side, add all on right side and add power to left\n",
    "        for ld in range(1, 10):\n",
    "            for rd in range(0, 10):\n",
    "                for j in range(0, 500):\n",
    "                    lc = scnt[hd][j][ld]\n",
    "                    rc = scnt[hd][j][rd]\n",
    "                    lsum = lc[0] * pow(10, hd + 1)\n",
    "                    rsum = rc[0]\n",
    "                    TD += 45 * pow(10, hd) * lc[1] * rc[1]\n",
    "                    TD += (lsum * rc[1] + rsum * lc[1]) * 10\n",
    "    else:\n",
    "        hd = d // 2\n",
    "        # For each on left side, add all on right side and add power to left\n",
    "        for ld in range(1, 10):\n",
    "            for rd in range(0, 10):\n",
    "                for j in range(0, 500):\n",
    "                    lc = scnt[hd][j][ld]\n",
    "                    rc = scnt[hd][j][rd]\n",
    "                    lsum = lc[0] * pow(10, hd)\n",
    "                    rsum = rc[0]\n",
    "                    TD += lsum * rc[1] + rsum * lc[1]\n",
    "    T += TD\n",
    "T % m"
   ]
  },
  {
   "cell_type": "code",
   "execution_count": null,
   "metadata": {},
   "outputs": [],
   "source": []
  }
 ],
 "metadata": {
  "kernelspec": {
   "display_name": "Python 3",
   "language": "python",
   "name": "python3"
  },
  "language_info": {
   "codemirror_mode": {
    "name": "ipython",
    "version": 3
   },
   "file_extension": ".py",
   "mimetype": "text/x-python",
   "name": "python",
   "nbconvert_exporter": "python",
   "pygments_lexer": "ipython3",
   "version": "3.9.6"
  }
 },
 "nbformat": 4,
 "nbformat_minor": 2
}
