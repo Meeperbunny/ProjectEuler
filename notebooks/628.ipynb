{
 "cells": [
  {
   "cell_type": "code",
   "execution_count": 15,
   "metadata": {},
   "outputs": [
    {
     "name": "stdout",
     "output_type": "stream",
     "text": [
      "[0, 0, 0, 2, 12, 96]\n"
     ]
    },
    {
     "data": {
      "text/plain": [
       "96"
      ]
     },
     "execution_count": 15,
     "metadata": {},
     "output_type": "execute_result"
    }
   ],
   "source": [
    "def solve(n):\n",
    "    lasts = [0, 0, 0, 2]\n",
    "    for i in range(4, n + 1):\n",
    "        gfl = lasts[i - 1] - lasts[i - 2]\n",
    "        pre = lasts[i - 2]\n",
    "        lasts.append(lasts[-1] * 2 * (i - 1))\n",
    "    print(lasts)\n",
    "    return lasts[-1]\n",
    "solve(5)  "
   ]
  },
  {
   "cell_type": "markdown",
   "metadata": {},
   "source": [
    "Count the ones that block it?"
   ]
  },
  {
   "cell_type": "code",
   "execution_count": 19,
   "metadata": {},
   "outputs": [],
   "source": [
    "def fac(n):\n",
    "    return 1 if n <= 1 else fac(n - 1) * n"
   ]
  },
  {
   "cell_type": "code",
   "execution_count": 29,
   "metadata": {},
   "outputs": [],
   "source": [
    "from tqdm import *"
   ]
  },
  {
   "cell_type": "code",
   "execution_count": 31,
   "metadata": {},
   "outputs": [],
   "source": [
    "mod = 1008691207"
   ]
  },
  {
   "cell_type": "code",
   "execution_count": null,
   "metadata": {},
   "outputs": [
    {
     "name": "stderr",
     "output_type": "stream",
     "text": [
      "100%|██████████| 99999997/99999997 [00:34<00:00, 2924332.12it/s]\n"
     ]
    },
    {
     "data": {
      "text/plain": [
       "712705127"
      ]
     },
     "execution_count": 80,
     "metadata": {},
     "output_type": "execute_result"
    }
   ],
   "source": [
    "N = 10**8\n",
    "blockCount = {3: 2}\n",
    "inc = 5\n",
    "for i in tqdm(range(4, N + 1)):\n",
    "    # Add Current, add two to next\n",
    "    blockCount[i] = (blockCount[i - 1] * inc) % mod\n",
    "    inc += 2\n",
    "# for i in range(3, N + 1):\n",
    "#     print(i, blockCount[i])\n",
    "blockCount[N]"
   ]
  },
  {
   "cell_type": "code",
   "execution_count": 90,
   "metadata": {},
   "outputs": [
    {
     "name": "stdout",
     "output_type": "stream",
     "text": [
      "3 1 4 4\n",
      "3 2 2 2\n",
      "4 1 12 2\n",
      "4 2 4 4\n",
      "4 3 2 2\n",
      "5 1 48 22\n",
      "5 2 12 2\n",
      "5 3 4 4\n",
      "5 4 2 2\n"
     ]
    },
    {
     "data": {
      "text/plain": [
       "[0, 1, 2, 1, 11, 37]"
      ]
     },
     "execution_count": 90,
     "metadata": {},
     "output_type": "execute_result"
    }
   ],
   "source": [
    "n = 5\n",
    "B = [0 for _ in range(n + 1)]\n",
    "B[1] = 1\n",
    "B[2] = 2\n",
    "for q in range(3, n + 1):\n",
    "    B[q] = 1\n",
    "    for i in range(1, q):\n",
    "        B[q] += 2 * fac(q - i)\n",
    "        B[q] -= 2 * B[q - i]\n",
    "        print(q, i, 2 * fac(q - i), 2 * B[q - i])\n",
    "B"
   ]
  },
  {
   "cell_type": "code",
   "execution_count": 78,
   "metadata": {},
   "outputs": [
    {
     "name": "stdout",
     "output_type": "stream",
     "text": [
      "6 4 2\n"
     ]
    }
   ],
   "source": [
    "B(3)"
   ]
  },
  {
   "cell_type": "code",
   "execution_count": null,
   "metadata": {},
   "outputs": [],
   "source": []
  }
 ],
 "metadata": {
  "kernelspec": {
   "display_name": "Python 3",
   "language": "python",
   "name": "python3"
  },
  "language_info": {
   "codemirror_mode": {
    "name": "ipython",
    "version": 3
   },
   "file_extension": ".py",
   "mimetype": "text/x-python",
   "name": "python",
   "nbconvert_exporter": "python",
   "pygments_lexer": "ipython3",
   "version": "3.12.4"
  }
 },
 "nbformat": 4,
 "nbformat_minor": 2
}
