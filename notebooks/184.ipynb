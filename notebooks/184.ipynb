{
 "cells": [
  {
   "cell_type": "code",
   "execution_count": null,
   "metadata": {},
   "outputs": [],
   "source": [
    "def get_points(r):\n",
    "    pnts = []\n",
    "    for x in range(-r, r + 1):\n",
    "        for y in range(-r, r + 1):\n",
    "            if x**2 + y**2 < r**2:\n",
    "                pnts.append((x, y))\n",
    "    return pnts"
   ]
  },
  {
   "cell_type": "code",
   "execution_count": 225,
   "metadata": {},
   "outputs": [
    {
     "data": {
      "text/plain": [
       "[(-1, -1), (-1, 0), (-1, 1), (0, -1), (0, 0), (0, 1), (1, -1), (1, 0), (1, 1)]"
      ]
     },
     "execution_count": 225,
     "metadata": {},
     "output_type": "execute_result"
    }
   ],
   "source": [
    "get_points(2)"
   ]
  },
  {
   "cell_type": "code",
   "execution_count": null,
   "metadata": {},
   "outputs": [],
   "source": [
    "def contains(triangle, point):\n",
    "    \"\"\"\n",
    "    Check if a point is strictly inside a triangle using cross products.\n",
    "    \n",
    "    A point is strictly inside if the cross products for all triangle edges\n",
    "    and the vector from the edge's starting vertex to the point have the same sign.\n",
    "    If any cross product is zero, the point lies on that edge and is not considered inside.\n",
    "    \n",
    "    Parameters:\n",
    "    triangle (tuple): A tuple of three (x, y) tuples representing the triangle's vertices.\n",
    "    point (tuple): The (x, y) coordinate of the point.\n",
    "    \n",
    "    Returns:\n",
    "    bool: True if the point is strictly inside the triangle, False otherwise.\n",
    "    \"\"\"\n",
    "    A, B, C = triangle\n",
    "    P = point\n",
    "    \n",
    "    # Helper function to compute the cross product of vectors AB and AP\n",
    "    def cross(o, a, b):\n",
    "        return (a[0] - o[0]) * (b[1] - o[1]) - (a[1] - o[1]) * (b[0] - o[0])\n",
    "    \n",
    "    cp1 = cross(A, B, P)\n",
    "    cp2 = cross(B, C, P)\n",
    "    cp3 = cross(C, A, P)\n",
    "    \n",
    "    # If any cross product is zero, the point lies on an edge.\n",
    "    if cp1 == 0 or cp2 == 0 or cp3 == 0:\n",
    "        return False\n",
    "    \n",
    "    # Check if all cross products have the same sign.\n",
    "    if (cp1 > 0 and cp2 > 0 and cp3 > 0) or (cp1 < 0 and cp2 < 0 and cp3 < 0):\n",
    "        return True\n",
    "    return False"
   ]
  },
  {
   "cell_type": "code",
   "execution_count": null,
   "metadata": {},
   "outputs": [],
   "source": [
    "def fac(n):\n",
    "    return 1 if n < 2 else n * fac(n - 1)"
   ]
  },
  {
   "cell_type": "code",
   "execution_count": 228,
   "metadata": {},
   "outputs": [],
   "source": [
    "S = set()"
   ]
  },
  {
   "cell_type": "code",
   "execution_count": 435,
   "metadata": {},
   "outputs": [],
   "source": [
    "def rotate(l):\n",
    "    l = list(l)\n",
    "    for i in range(len(l)):\n",
    "        l[i] = (l[i][1], -l[i][0])\n",
    "    return tuple(l)"
   ]
  },
  {
   "cell_type": "code",
   "execution_count": 438,
   "metadata": {},
   "outputs": [],
   "source": [
    "P = get_points(10)"
   ]
  },
  {
   "cell_type": "code",
   "execution_count": 439,
   "metadata": {},
   "outputs": [
    {
     "name": "stdout",
     "output_type": "stream",
     "text": [
      "DONE\n"
     ]
    },
    {
     "data": {
      "text/plain": [
       "1101232"
      ]
     },
     "execution_count": 439,
     "metadata": {},
     "output_type": "execute_result"
    }
   ],
   "source": [
    "m_s = set()\n",
    "cnt = 0\n",
    "for p_ur in P:\n",
    "    for p_ul in P:\n",
    "        for p_bot in P:\n",
    "            if p_ur[0] > 0 and p_ur[1] > 0:\n",
    "                if p_ul[0] <= 0 and p_ul[1] >= 0:\n",
    "                    if p_bot[0] <= 0 and p_bot[1] <= 0:\n",
    "                        if contains((p_ur, p_ul, p_bot), (0, 0)):\n",
    "                            # print((p_ur, p_ul=, p_bot))\n",
    "                            ss = tuple(sorted([p_ur, p_ul, p_bot]))\n",
    "                            cnt += 4\n",
    "print(\"DONE\")\n",
    "for p1 in P:\n",
    "    for p2 in P:\n",
    "        if p1[0] > 0 and p1[1] > 0:\n",
    "            if p2[0] > 0 and p2[1] > 0:\n",
    "                if p1 != p2:\n",
    "                    for p_other in P:\n",
    "                        if contains((p1, p2, p_other), (0, 0)):\n",
    "                            ss = tuple(sorted([p1, p2, p_other]))\n",
    "                            cnt += 2\n",
    "cnt"
   ]
  },
  {
   "cell_type": "code",
   "execution_count": 422,
   "metadata": {},
   "outputs": [],
   "source": [
    "K = 30\n",
    "P = get_points(K)"
   ]
  },
  {
   "cell_type": "code",
   "execution_count": 414,
   "metadata": {},
   "outputs": [],
   "source": [
    "from math import ceil, floor"
   ]
  },
  {
   "cell_type": "code",
   "execution_count": 415,
   "metadata": {},
   "outputs": [],
   "source": [
    "eps = 0.0000000001"
   ]
  },
  {
   "cell_type": "code",
   "execution_count": 416,
   "metadata": {},
   "outputs": [],
   "source": [
    "P.remove((0, 0))"
   ]
  },
  {
   "cell_type": "code",
   "execution_count": 417,
   "metadata": {},
   "outputs": [
    {
     "data": {
      "text/plain": [
       "270720"
      ]
     },
     "execution_count": 417,
     "metadata": {},
     "output_type": "execute_result"
    }
   ],
   "source": [
    "cnt = 0\n",
    "for a in P:\n",
    "    for b in P:\n",
    "        for c in P:\n",
    "            T = tuple(sorted([a, b, c]))\n",
    "            if contains(T, (0, 0)):\n",
    "                cnt += 1\n",
    "                S.add(T)\n",
    "cnt // fac(3)"
   ]
  },
  {
   "cell_type": "code",
   "execution_count": 429,
   "metadata": {},
   "outputs": [],
   "source": [
    "URP = [e for e in P if e[0] > 0 and e[1] > 0]\n",
    "ULP = [e for e in P if e[0] <= 0 and e[1] >= 0]"
   ]
  },
  {
   "cell_type": "code",
   "execution_count": 430,
   "metadata": {},
   "outputs": [
    {
     "name": "stdout",
     "output_type": "stream",
     "text": [
      "DONE\n"
     ]
    },
    {
     "data": {
      "text/plain": [
       "914790088"
      ]
     },
     "execution_count": 430,
     "metadata": {},
     "output_type": "execute_result"
    }
   ],
   "source": [
    "m_s = set()\n",
    "cnt = 0\n",
    "for p_ur in URP:\n",
    "    for p_ul in ULP:\n",
    "        for k in range(1, K):\n",
    "            rb, lb = 0, -K\n",
    "            if p_ul[0] == 0:\n",
    "                rb = -1\n",
    "            lb = max(lb, -int((K**2 - k**2 - eps)**0.5))\n",
    "            t = k / p_ur[1]\n",
    "            lb = max(lb, ceil(eps - (t * p_ur[0])))\n",
    "            cnt += 4 * max((rb - lb + 1), 0)\n",
    "print(\"DONE\")\n",
    "for p1 in P:\n",
    "    for p2 in P:\n",
    "        if p1[0] > 0 and p1[1] > 0:\n",
    "            if p2[0] > 0 and p2[1] > 0:\n",
    "                if p1[1] * p2[0] < p2[1] * p1[0]: \n",
    "                    for k in range(1, K):\n",
    "                        lb = -int((K**2 - k**2 - eps)**0.5)\n",
    "                        rb = 0\n",
    "                        bnds = []\n",
    "                        bnds.append(k / p1[1] * (-p1[0]))\n",
    "                        bnds.append(k / p2[1] * (-p2[0]))\n",
    "                        # print(bnds)\n",
    "                        bnds = [ceil(bnds[0] + eps), floor(bnds[1] - eps)]\n",
    "                        bnds[0] = max(bnds[0], lb)\n",
    "                        bnds[1] = bnds[1]\n",
    "                        if bnds[1] < bnds[0]:\n",
    "                            continue\n",
    "                        # print(p1, p2, k, \"BNDS\", bnds[0], bnds[1], 4 * max(bnds[1] - bnds[0] + 1, 0))\n",
    "                        cnt += 4 * max(bnds[1] - bnds[0] + 1, 0)\n",
    "cnt"
   ]
  },
  {
   "cell_type": "code",
   "execution_count": 360,
   "metadata": {},
   "outputs": [
    {
     "name": "stdout",
     "output_type": "stream",
     "text": [
      "DONE\n"
     ]
    },
    {
     "data": {
      "text/plain": [
       "270720"
      ]
     },
     "execution_count": 360,
     "metadata": {},
     "output_type": "execute_result"
    }
   ],
   "source": [
    "m_s = set()\n",
    "cnt = 0\n",
    "for p_ur in P:\n",
    "    for p_ul in P:\n",
    "        if p_ur[0] > 0 and p_ur[1] > 0:\n",
    "            if p_ul[0] <= 0 and p_ul[1] >= 0:\n",
    "                for k in range(1, K):\n",
    "                    rb, lb = 0, -K\n",
    "                    if p_ul[0] == 0:\n",
    "                        rb = -1\n",
    "                    lb = max(lb, -int((K**2 - k**2 - eps)**0.5))\n",
    "                    t = k / p_ur[1]\n",
    "                    lb = max(lb, ceil(eps - (t * p_ur[0])))\n",
    "                    cnt += 4 * max((rb - lb + 1), 0)\n",
    "print(\"DONE\")\n",
    "for p1 in P:\n",
    "    for p2 in P:\n",
    "        if p1[0] > 0 and p1[1] > 0:\n",
    "            if p2[0] > 0 and p2[1] > 0:\n",
    "                if p1 != p2:\n",
    "                    for p_other in P:\n",
    "                        if contains((p1, p2, p_other), (0, 0)):\n",
    "                            ss = tuple(sorted([p1, p2, p_other]))\n",
    "                            for i in range(4):\n",
    "                                m_s.add(tuple(sorted(ss)))\n",
    "                                ss = rotate(ss)\n",
    "                            cnt += 2\n",
    "cnt"
   ]
  },
  {
   "cell_type": "code",
   "execution_count": null,
   "metadata": {},
   "outputs": [],
   "source": []
  },
  {
   "cell_type": "code",
   "execution_count": null,
   "metadata": {},
   "outputs": [],
   "source": []
  },
  {
   "cell_type": "code",
   "execution_count": null,
   "metadata": {},
   "outputs": [],
   "source": []
  },
  {
   "cell_type": "code",
   "execution_count": null,
   "metadata": {},
   "outputs": [],
   "source": []
  },
  {
   "cell_type": "code",
   "execution_count": null,
   "metadata": {},
   "outputs": [],
   "source": [
    "K = 30\n",
    "P = get_points(K)\n",
    "from math import ceil, floor\n",
    "eps = 0.0000000001\n",
    "P.remove((0, 0))\n",
    "cnt = 0\n",
    "for a in P:\n",
    "    for b in P:\n",
    "        for c in P:\n",
    "            T = tuple(sorted([a, b, c]))\n",
    "            if contains(T, (0, 0)):\n",
    "                cnt += 1\n",
    "                S.add(T)\n",
    "cnt // fac(3)\n",
    "URP = [e for e in P if e[0] > 0 and e[1] > 0]\n",
    "ULP = [e for e in P if e[0] <= 0 and e[1] >= 0]\n",
    "m_s = set()\n",
    "cnt = 0\n",
    "for p_ur in URP:\n",
    "    for p_ul in ULP:\n",
    "        for k in range(1, K):\n",
    "            rb, lb = 0, -K\n",
    "            if p_ul[0] == 0:\n",
    "                rb = -1\n",
    "            lb = max(lb, -int((K**2 - k**2 - eps)**0.5))\n",
    "            t = k / p_ur[1]\n",
    "            lb = max(lb, ceil(eps - (t * p_ur[0])))\n",
    "            cnt += 4 * max((rb - lb + 1), 0)\n",
    "print(\"DONE\")\n",
    "for p1 in P:\n",
    "    for p2 in P:\n",
    "        if p1[0] > 0 and p1[1] > 0:\n",
    "            if p2[0] > 0 and p2[1] > 0:\n",
    "                if p1[1] * p2[0] < p2[1] * p1[0]: \n",
    "                    for k in range(1, K):\n",
    "                        lb = -int((K**2 - k**2 - eps)**0.5)\n",
    "                        rb = 0\n",
    "                        bnds = []\n",
    "                        bnds.append(k / p1[1] * (-p1[0]))\n",
    "                        bnds.append(k / p2[1] * (-p2[0]))\n",
    "                        # print(bnds)\n",
    "                        bnds = [ceil(bnds[0] + eps), floor(bnds[1] - eps)]\n",
    "                        bnds[0] = max(bnds[0], lb)\n",
    "                        bnds[1] = bnds[1]\n",
    "                        if bnds[1] < bnds[0]:\n",
    "                            continue\n",
    "                        # print(p1, p2, k, \"BNDS\", bnds[0], bnds[1], 4 * max(bnds[1] - bnds[0] + 1, 0))\n",
    "                        cnt += 4 * max(bnds[1] - bnds[0] + 1, 0)\n",
    "cnt\n",
    "m_s = set()\n",
    "cnt = 0\n",
    "for p_ur in P:\n",
    "    for p_ul in P:\n",
    "        if p_ur[0] > 0 and p_ur[1] > 0:\n",
    "            if p_ul[0] <= 0 and p_ul[1] >= 0:\n",
    "                for k in range(1, K):\n",
    "                    rb, lb = 0, -K\n",
    "                    if p_ul[0] == 0:\n",
    "                        rb = -1\n",
    "                    lb = max(lb, -int((K**2 - k**2 - eps)**0.5))\n",
    "                    t = k / p_ur[1]\n",
    "                    lb = max(lb, ceil(eps - (t * p_ur[0])))\n",
    "                    cnt += 4 * max((rb - lb + 1), 0)\n",
    "print(\"DONE\")\n",
    "for p1 in P:\n",
    "    for p2 in P:\n",
    "        if p1[0] > 0 and p1[1] > 0:\n",
    "            if p2[0] > 0 and p2[1] > 0:\n",
    "                if p1 != p2:\n",
    "                    for p_other in P:\n",
    "                        if contains((p1, p2, p_other), (0, 0)):\n",
    "                            ss = tuple(sorted([p1, p2, p_other]))\n",
    "                            for i in range(4):\n",
    "                                m_s.add(tuple(sorted(ss)))\n",
    "                                ss = rotate(ss)\n",
    "                            cnt += 2\n",
    "cnt"
   ]
  }
 ],
 "metadata": {
  "kernelspec": {
   "display_name": "Python 3",
   "language": "python",
   "name": "python3"
  },
  "language_info": {
   "codemirror_mode": {
    "name": "ipython",
    "version": 3
   },
   "file_extension": ".py",
   "mimetype": "text/x-python",
   "name": "python",
   "nbconvert_exporter": "python",
   "pygments_lexer": "ipython3",
   "version": "3.12.4"
  }
 },
 "nbformat": 4,
 "nbformat_minor": 2
}
