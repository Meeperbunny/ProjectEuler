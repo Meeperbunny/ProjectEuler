{
 "cells": [
  {
   "cell_type": "code",
   "execution_count": 2,
   "metadata": {},
   "outputs": [],
   "source": [
    "import numpy as np"
   ]
  },
  {
   "cell_type": "code",
   "execution_count": 24,
   "metadata": {},
   "outputs": [],
   "source": [
    "A = np.matrix([\n",
    "    [1, -2, 2],\n",
    "    [2, -1, 2],\n",
    "    [2, -2, 3],\n",
    "])\n",
    "\n",
    "B = ([\n",
    "    [1, 2, 2],\n",
    "    [2, 1, 2],\n",
    "    [2, 2, 3],\n",
    "])\n",
    "\n",
    "C = ([\n",
    "    [-1, 2, 2],\n",
    "    [-2, 1, 2],\n",
    "    [-2, 2, 3],\n",
    "])\n",
    "import sys\n",
    "triples = []\n",
    "def get_triples(k, t=np.matrix([[3],[4],[5]])):\n",
    "    if t[2, 0] * t[2, 0] > k:\n",
    "        return\n",
    "    triples.append(t)\n",
    "    get_triples(k, A @ t)\n",
    "    get_triples(k, B @ t)\n",
    "    get_triples(k, C @ t)"
   ]
  },
  {
   "cell_type": "code",
   "execution_count": 25,
   "metadata": {},
   "outputs": [],
   "source": [
    "get_triples(10000)"
   ]
  },
  {
   "cell_type": "code",
   "execution_count": 26,
   "metadata": {},
   "outputs": [
    {
     "name": "stdout",
     "output_type": "stream",
     "text": [
      "5\n",
      "13\n",
      "25\n",
      "41\n",
      "61\n",
      "85\n",
      "73\n",
      "53\n",
      "29\n",
      "89\n",
      "85\n",
      "17\n",
      "65\n",
      "97\n",
      "37\n",
      "65\n"
     ]
    }
   ],
   "source": [
    "for a, b, c in triples:\n",
    "    c = c[0, 0]\n",
    "    print(c)\n"
   ]
  },
  {
   "cell_type": "code",
   "execution_count": null,
   "metadata": {},
   "outputs": [],
   "source": []
  }
 ],
 "metadata": {
  "kernelspec": {
   "display_name": "Python 3",
   "language": "python",
   "name": "python3"
  },
  "language_info": {
   "codemirror_mode": {
    "name": "ipython",
    "version": 3
   },
   "file_extension": ".py",
   "mimetype": "text/x-python",
   "name": "python",
   "nbconvert_exporter": "python",
   "pygments_lexer": "ipython3",
   "version": "3.12.4"
  }
 },
 "nbformat": 4,
 "nbformat_minor": 2
}
