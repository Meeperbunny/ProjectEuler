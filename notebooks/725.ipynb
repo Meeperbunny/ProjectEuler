{
 "cells": [
  {
   "cell_type": "code",
   "execution_count": 16,
   "id": "bf5e832c",
   "metadata": {},
   "outputs": [],
   "source": [
    "from collections import Counter"
   ]
  },
  {
   "cell_type": "code",
   "execution_count": 17,
   "id": "f028ff36",
   "metadata": {},
   "outputs": [],
   "source": [
    "import unittest\n",
    "\n",
    "def mckay(n):\n",
    "    \"\"\"\n",
    "    Integer partitions of n, in reverse lexicographic order.\n",
    "    Note that the generated output consists of the same list object,\n",
    "    repeated the correct number of times; the caller must leave this\n",
    "    list unchanged, and must make a copy of any partition that is\n",
    "    intended to last longer than the next call into the generator.\n",
    "    The algorithm follows Knuth v4 fasc3 p38 in rough outline.\n",
    "    \"\"\"\n",
    "    if n == 0:\n",
    "        yield []\n",
    "    if n <= 0:\n",
    "        return\n",
    "    partition = [n]\n",
    "    last_nonunit = (n > 1) - 1\n",
    "    while True:\n",
    "        yield partition\n",
    "        if last_nonunit < 0:\n",
    "            return\n",
    "        if partition[last_nonunit] == 2:\n",
    "            partition[last_nonunit] = 1\n",
    "            partition.append(1)\n",
    "            last_nonunit -= 1\n",
    "            continue\n",
    "        replacement = partition[last_nonunit] - 1\n",
    "        total_replaced = replacement + len(partition) - last_nonunit\n",
    "        reps,rest = divmod(total_replaced,replacement)\n",
    "        partition[last_nonunit:] = reps*[replacement]\n",
    "        if rest:\n",
    "            partition.append(rest)\n",
    "        last_nonunit = len(partition) - (partition[-1]==1) - 1\n",
    "\n",
    "def integer_partition(n):\n",
    "    return [e.copy() for e in mckay(n)]"
   ]
  },
  {
   "cell_type": "code",
   "execution_count": 22,
   "id": "d61f8cef",
   "metadata": {},
   "outputs": [],
   "source": [
    "def fac(n):\n",
    "    return n * fac(n - 1) if n > 1 else 1"
   ]
  },
  {
   "cell_type": "code",
   "execution_count": 82,
   "id": "476448e0",
   "metadata": {},
   "outputs": [],
   "source": [
    "def multi(b, l):\n",
    "    l = l.copy()\n",
    "    zc = 0\n",
    "    if 0 in l:\n",
    "        zc = l[0]\n",
    "    del l[0]\n",
    "    base = 1\n",
    "    for i in range(b, zc, -1):\n",
    "        base = base * i\n",
    "    for e in l:\n",
    "        base //= fac(l[e])\n",
    "    return base"
   ]
  },
  {
   "cell_type": "code",
   "execution_count": 85,
   "id": "38b819e1",
   "metadata": {},
   "outputs": [
    {
     "data": {
      "text/plain": [
       "4598797036650685"
      ]
     },
     "execution_count": 85,
     "metadata": {},
     "output_type": "execute_result"
    }
   ],
   "source": [
    "mod = 10**16\n",
    "spart = set()\n",
    "def ans(s):\n",
    "    fac = [1 for _ in range(s)]\n",
    "    for i in range(1, s):\n",
    "        fac[i] = fac[i - 1] * i\n",
    "    \n",
    "    # s is size\n",
    "    tot = 0\n",
    "    for d in range(1, 9 + 1):\n",
    "        # Find each decom set\n",
    "        parts = integer_partition(d)\n",
    "        for part in parts:\n",
    "            part += [d]\n",
    "            to_pad = s - len(part)\n",
    "            if to_pad < 0:\n",
    "                continue\n",
    "            p_c = Counter(part)\n",
    "            if to_pad:\n",
    "                p_c[0] = to_pad\n",
    "            cont = 0\n",
    "            for el in p_c:\n",
    "                t_p_c = p_c.copy()\n",
    "                t_p_c[el] -= 1\n",
    "                for pos in range(0, s):\n",
    "                    prod = el * pow(10, pos, mod) * multi(s - 1, t_p_c) % mod\n",
    "                    cont += prod\n",
    "                    cont %= mod\n",
    "            tot += cont\n",
    "            tot %= mod\n",
    "    return tot\n",
    "ans(2020)"
   ]
  },
  {
   "cell_type": "code",
   "execution_count": null,
   "id": "89b86c29",
   "metadata": {},
   "outputs": [],
   "source": []
  }
 ],
 "metadata": {
  "kernelspec": {
   "display_name": "Python 3 (ipykernel)",
   "language": "python",
   "name": "python3"
  },
  "language_info": {
   "codemirror_mode": {
    "name": "ipython",
    "version": 3
   },
   "file_extension": ".py",
   "mimetype": "text/x-python",
   "name": "python",
   "nbconvert_exporter": "python",
   "pygments_lexer": "ipython3",
   "version": "3.10.6"
  }
 },
 "nbformat": 4,
 "nbformat_minor": 5
}
