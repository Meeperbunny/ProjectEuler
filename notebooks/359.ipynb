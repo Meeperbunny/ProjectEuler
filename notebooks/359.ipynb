{
 "cells": [
  {
   "cell_type": "code",
   "execution_count": 4,
   "id": "7bc128b5-c082-4e10-980d-86e88caaea27",
   "metadata": {},
   "outputs": [],
   "source": [
    "num = 71328803586048"
   ]
  },
  {
   "cell_type": "code",
   "execution_count": 5,
   "id": "eda1bb12-627d-4d9d-8036-1fcccb5f045e",
   "metadata": {},
   "outputs": [],
   "source": [
    "i = 1\n",
    "prs = set()\n",
    "while i * i <= num:\n",
    "    if num % i == 0:\n",
    "        prs.add((i, num // i))\n",
    "        prs.add((num // i, i))\n",
    "    i += 1\n",
    "divs = sorted(list(prs))"
   ]
  },
  {
   "cell_type": "code",
   "execution_count": 13,
   "id": "08f8af3b-6100-4050-b803-1f946ff7d44a",
   "metadata": {},
   "outputs": [
    {
     "data": {
      "text/plain": [
       "(364,\n",
       " [(1, 71328803586048),\n",
       "  (2, 35664401793024),\n",
       "  (3, 23776267862016),\n",
       "  (4, 17832200896512),\n",
       "  (6, 11888133931008)])"
      ]
     },
     "execution_count": 13,
     "metadata": {},
     "output_type": "execute_result"
    }
   ],
   "source": [
    "len(divs), divs[0:5]"
   ]
  },
  {
   "cell_type": "code",
   "execution_count": 35,
   "id": "57abb44c-8355-46c0-a5ac-84e15983e96d",
   "metadata": {},
   "outputs": [],
   "source": [
    "sq = set()\n",
    "for i in range(1, 200):\n",
    "    sq.add(i * i)"
   ]
  },
  {
   "cell_type": "code",
   "execution_count": 141,
   "id": "152a7fb8-8bb8-4fbf-8e70-266f35a2c3c0",
   "metadata": {},
   "outputs": [],
   "source": [
    "rec = []\n",
    "ls, diffs = [], []\n",
    "for i in range(1,144):\n",
    "    f = False\n",
    "    for j in range(len(rec)):\n",
    "        if rec[j][-1] + i in sq:\n",
    "            f = True\n",
    "            rec[j].append(i)\n",
    "            break\n",
    "    if not f:\n",
    "        if len(ls):\n",
    "            diffs.append(i - ls[-1])\n",
    "        ls.append(i)\n",
    "        rec.append([i])\n"
   ]
  },
  {
   "cell_type": "code",
   "execution_count": 142,
   "id": "42060ce8-e7a9-47e8-8657-cf8d8670751a",
   "metadata": {},
   "outputs": [
    {
     "ename": "SyntaxError",
     "evalue": "invalid syntax (720836296.py, line 1)",
     "output_type": "error",
     "traceback": [
      "\u001b[1;36m  Cell \u001b[1;32mIn[142], line 1\u001b[1;36m\u001b[0m\n\u001b[1;33m    2 3 3 5 5 7 7 9 9 11 11 13 13\u001b[0m\n\u001b[1;37m      ^\u001b[0m\n\u001b[1;31mSyntaxError\u001b[0m\u001b[1;31m:\u001b[0m invalid syntax\n"
     ]
    }
   ],
   "source": [
    "2 3 3 5 5 7 7 9 9 11 11 13 13 "
   ]
  },
  {
   "cell_type": "code",
   "execution_count": null,
   "id": "80e0c36d-fe1f-4930-bbc8-083190236a4c",
   "metadata": {},
   "outputs": [],
   "source": []
  },
  {
   "cell_type": "code",
   "execution_count": 143,
   "id": "9a393d97-22a5-40e8-8421-e2ed35b6d1f4",
   "metadata": {},
   "outputs": [
    {
     "data": {
      "text/plain": [
       "7"
      ]
     },
     "execution_count": 143,
     "metadata": {},
     "output_type": "execute_result"
    }
   ],
   "source": [
    "fsq(7)"
   ]
  },
  {
   "cell_type": "code",
   "execution_count": 146,
   "id": "39ed494e-d2d2-4e76-af2d-9e8d97f4b353",
   "metadata": {},
   "outputs": [
    {
     "name": "stdout",
     "output_type": "stream",
     "text": [
      "4\n",
      "9\n",
      "9\n",
      "25\n",
      "25\n",
      "49\n",
      "49\n",
      "81\n",
      "81\n",
      "121\n",
      "121\n",
      "169\n",
      "169\n",
      "225\n",
      "225\n"
     ]
    }
   ],
   "source": [
    "for i in range(len(rec) - 1):\n",
    "    print(rec[i][0] + rec[i][1])"
   ]
  },
  {
   "cell_type": "code",
   "execution_count": 195,
   "id": "f5958083-3364-4d05-8156-cd8f1f7e4b6c",
   "metadata": {},
   "outputs": [
    {
     "data": {
      "text/plain": [
       "[[1, 3, 6, 10, 15, 21, 28, 36, 45, 55, 66, 78, 91, 105, 120, 136],\n",
       " [2, 7, 9, 16, 20, 29, 35, 46, 54, 67, 77, 92, 104, 121, 135],\n",
       " [4, 5, 11, 14, 22, 27, 37, 44, 56, 65, 79, 90, 106, 119, 137],\n",
       " [8, 17, 19, 30, 34, 47, 53, 68, 76, 93, 103, 122, 134],\n",
       " [12, 13, 23, 26, 38, 43, 57, 64, 80, 89, 107, 118, 138],\n",
       " [18, 31, 33, 48, 52, 69, 75, 94, 102, 123, 133],\n",
       " [24, 25, 39, 42, 58, 63, 81, 88, 108, 117, 139],\n",
       " [32, 49, 51, 70, 74, 95, 101, 124, 132],\n",
       " [40, 41, 59, 62, 82, 87, 109, 116, 140],\n",
       " [50, 71, 73, 96, 100, 125, 131],\n",
       " [60, 61, 83, 86, 110, 115, 141],\n",
       " [72, 97, 99, 126, 130],\n",
       " [84, 85, 111, 114, 142],\n",
       " [98, 127, 129],\n",
       " [112, 113, 143],\n",
       " [128]]"
      ]
     },
     "execution_count": 195,
     "metadata": {},
     "output_type": "execute_result"
    }
   ],
   "source": [
    "rec"
   ]
  },
  {
   "cell_type": "code",
   "execution_count": null,
   "id": "4d844de5-4ea8-4c41-bea5-813b54bb8e28",
   "metadata": {},
   "outputs": [],
   "source": [
    "25 2 27 4"
   ]
  },
  {
   "cell_type": "code",
   "execution_count": 147,
   "id": "08a5d264-f941-4811-b1a6-9cf59a0df2f7",
   "metadata": {},
   "outputs": [],
   "source": [
    "def tri(n):\n",
    "    return n * (n + 1) // 2"
   ]
  },
  {
   "cell_type": "code",
   "execution_count": 152,
   "id": "8e4d050a-17b1-4516-8fe7-5d7d1f322b10",
   "metadata": {},
   "outputs": [],
   "source": [
    "# Gives first square for seq\n",
    "def fsq(i):\n",
    "    if i == 1:\n",
    "        return 2\n",
    "    return i // 2 * 2 + 1"
   ]
  },
  {
   "cell_type": "code",
   "execution_count": 153,
   "id": "d30597d8-cd96-420b-86e7-89911e9e541b",
   "metadata": {},
   "outputs": [],
   "source": [
    "# Gives first number in seq\n",
    "def c_start(n):\n",
    "    if n == 1:\n",
    "        return 1\n",
    "    base = 0\n",
    "    l = (n - 1) // 2\n",
    "    base += tri(l) * 2 * 2\n",
    "    if n % 2 == 0:\n",
    "        base += (n) // 2 * 2\n",
    "    return base"
   ]
  },
  {
   "cell_type": "code",
   "execution_count": 157,
   "id": "ee9461a0-4163-4c85-bd67-3c5d14bff19b",
   "metadata": {},
   "outputs": [],
   "source": [
    "def diffs(n):\n",
    "    a = c_start(n)\n",
    "    sq = fsq(n)\n",
    "    b = sq * sq - a\n",
    "    c = (sq + 1) * (sq + 1) - b\n",
    "    return b - a, c - b"
   ]
  },
  {
   "cell_type": "code",
   "execution_count": 192,
   "id": "6f40feeb-b515-4985-a8f7-21527dc93774",
   "metadata": {},
   "outputs": [],
   "source": [
    "def s_sum(a, b, n):\n",
    "    n -= 1\n",
    "    # For each, take sum and add 2's\n",
    "    f_s = (n + 1) // 2\n",
    "    s_s = n // 2\n",
    "    f_su = f_s * a + tri(f_s - 1) * 2\n",
    "    s_su = s_s * b + tri(s_s - 1) * 2\n",
    "    return f_su + s_su"
   ]
  },
  {
   "cell_type": "code",
   "execution_count": 193,
   "id": "b9333bca-f561-4b79-920f-9a8047e369cb",
   "metadata": {},
   "outputs": [],
   "source": [
    "def ans(n, k):\n",
    "    return c_start(n) + s_sum(*diffs(n), k)"
   ]
  },
  {
   "cell_type": "code",
   "execution_count": 198,
   "id": "d096bc41-826a-4896-b06e-2a9b5790ad5a",
   "metadata": {},
   "outputs": [
    {
     "ename": "TypeError",
     "evalue": "sum() missing 2 required positional arguments: 'b' and 'n'",
     "output_type": "error",
     "traceback": [
      "\u001b[1;31m---------------------------------------------------------------------------\u001b[0m",
      "\u001b[1;31mTypeError\u001b[0m                                 Traceback (most recent call last)",
      "Cell \u001b[1;32mIn[198], line 1\u001b[0m\n\u001b[1;32m----> 1\u001b[0m \u001b[38;5;28;43msum\u001b[39;49m\u001b[43m(\u001b[49m\u001b[43m[\u001b[49m\u001b[43mans\u001b[49m\u001b[43m(\u001b[49m\u001b[43mf\u001b[49m\u001b[43m,\u001b[49m\u001b[43m \u001b[49m\u001b[43mr\u001b[49m\u001b[43m)\u001b[49m\u001b[43m \u001b[49m\u001b[38;5;28;43;01mfor\u001b[39;49;00m\u001b[43m \u001b[49m\u001b[43mf\u001b[49m\u001b[43m,\u001b[49m\u001b[43m \u001b[49m\u001b[43mr\u001b[49m\u001b[43m \u001b[49m\u001b[38;5;129;43;01min\u001b[39;49;00m\u001b[43m \u001b[49m\u001b[43mdivs\u001b[49m\u001b[43m]\u001b[49m\u001b[43m)\u001b[49m \u001b[38;5;241m%\u001b[39m \u001b[38;5;241m10\u001b[39m\u001b[38;5;241m*\u001b[39m\u001b[38;5;241m*\u001b[39m\u001b[38;5;241m8\u001b[39m    \n",
      "\u001b[1;31mTypeError\u001b[0m: sum() missing 2 required positional arguments: 'b' and 'n'"
     ]
    }
   ],
   "source": [
    "sum([ans(f, r) for f, r in divs]) % 10**8    "
   ]
  }
 ],
 "metadata": {
  "kernelspec": {
   "display_name": "Python 3 (ipykernel)",
   "language": "python",
   "name": "python3"
  },
  "language_info": {
   "codemirror_mode": {
    "name": "ipython",
    "version": 3
   },
   "file_extension": ".py",
   "mimetype": "text/x-python",
   "name": "python",
   "nbconvert_exporter": "python",
   "pygments_lexer": "ipython3",
   "version": "3.12.6"
  }
 },
 "nbformat": 4,
 "nbformat_minor": 5
}
