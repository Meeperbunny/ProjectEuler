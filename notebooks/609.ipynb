{
 "cells": [
  {
   "cell_type": "code",
   "execution_count": 11,
   "id": "2e62185b-b823-4c7a-8813-e3953d419458",
   "metadata": {},
   "outputs": [],
   "source": [
    "from collections import Counter"
   ]
  },
  {
   "cell_type": "code",
   "execution_count": 37,
   "id": "71351881-9424-45d9-9f07-3f4ef90de4fb",
   "metadata": {},
   "outputs": [],
   "source": [
    "def prime_count(n):\n",
    "    s = [1 for _ in range(n + 1)]\n",
    "    pi = [0 for _ in range(n + 1)]\n",
    "    s[0], s[1] = 0, 0\n",
    "    primes = set()\n",
    "    for q in range(2, n + 1):\n",
    "        if s[q]:\n",
    "            primes.add(q)\n",
    "            for i in range(2 * q, n + 1, q):\n",
    "                s[i] = 0\n",
    "    \n",
    "    for i in range(1, n + 1):\n",
    "        pi[i] = pi[i - 1] + s[i]\n",
    "    return pi, primes"
   ]
  },
  {
   "cell_type": "code",
   "execution_count": 89,
   "id": "2bad73fb-7e44-4aaf-bada-f95596e1c3e6",
   "metadata": {},
   "outputs": [],
   "source": [
    "n = 100\n",
    "m = int(1e9 + 7)"
   ]
  },
  {
   "cell_type": "code",
   "execution_count": 90,
   "id": "f794f366-09d9-4a23-b4a4-2da5623cef3c",
   "metadata": {},
   "outputs": [],
   "source": [
    "pi, pset = prime_count(n)"
   ]
  },
  {
   "cell_type": "code",
   "execution_count": 91,
   "id": "0bb1ae07-c56b-4125-b684-10a71fc7e011",
   "metadata": {},
   "outputs": [],
   "source": [
    "cnts = [Counter() for _ in range(n + 1)]\n",
    "for i in range(1, n + 1):\n",
    "    prev = pi[i]\n",
    "    if i in pset:\n",
    "        # Do not add one to previous values\n",
    "        for e in cnts[prev]:\n",
    "            cnts[i][e] += cnts[prev][e]\n",
    "        cnts[i][0] += 1\n",
    "    else:\n",
    "        # Add 1 to previous values\n",
    "        for e in cnts[prev]:\n",
    "            cnts[i][e + 1] += cnts[prev][e]\n",
    "        cnts[i][1] += 1\n",
    "    # print(i, cnts[i], prev)"
   ]
  },
  {
   "cell_type": "code",
   "execution_count": 92,
   "id": "b2508d31-b9cd-4b7f-94f8-6ecefce2a2fe",
   "metadata": {},
   "outputs": [],
   "source": [
    "tot_cnts = Counter()\n",
    "for i in range(1, n + 1):\n",
    "    if i in pset:\n",
    "        cnts[i][0] -= 1\n",
    "    else:\n",
    "        cnts[i][1] -= 1\n",
    "    for e in cnts[i]:\n",
    "        tot_cnts[e] += cnts[i][e]\n",
    "# tot_cnts"
   ]
  },
  {
   "cell_type": "code",
   "execution_count": 93,
   "id": "8d9a3167-31af-4057-9940-ddd34cd804ce",
   "metadata": {},
   "outputs": [
    {
     "name": "stdout",
     "output_type": "stream",
     "text": [
      "38675815\n"
     ]
    }
   ],
   "source": [
    "b = 1\n",
    "for e in tot_cnts:\n",
    "    if tot_cnts[e]:\n",
    "        b = (b * tot_cnts[e]) % m\n",
    "print(b)"
   ]
  },
  {
   "cell_type": "code",
   "execution_count": null,
   "id": "4cc3c04f-7837-463b-a33a-de7a70e3f45e",
   "metadata": {},
   "outputs": [],
   "source": []
  },
  {
   "cell_type": "code",
   "execution_count": null,
   "id": "7bc824df-bbb8-4d8e-881b-092f63808a09",
   "metadata": {},
   "outputs": [],
   "source": []
  },
  {
   "cell_type": "code",
   "execution_count": null,
   "id": "87ee875e-3b21-468c-aefe-100318ae9fff",
   "metadata": {},
   "outputs": [],
   "source": []
  },
  {
   "cell_type": "code",
   "execution_count": 94,
   "id": "a66c264f-019c-4c51-90d8-8c269e1d3076",
   "metadata": {},
   "outputs": [
    {
     "name": "stdout",
     "output_type": "stream",
     "text": [
      "38675815\n"
     ]
    }
   ],
   "source": [
    "from collections import Counter\n",
    "\n",
    "def prime_count(n):\n",
    "    s = [1 for _ in range(n + 1)]\n",
    "    pi = [0 for _ in range(n + 1)]\n",
    "    s[0], s[1] = 0, 0\n",
    "    primes = set()\n",
    "    for q in range(2, n + 1):\n",
    "        if s[q]:\n",
    "            primes.add(q)\n",
    "            for i in range(2 * q, n + 1, q):\n",
    "                s[i] = 0\n",
    "    \n",
    "    for i in range(1, n + 1):\n",
    "        pi[i] = pi[i - 1] + s[i]\n",
    "    return pi, primes\n",
    "\n",
    "n = 100\n",
    "m = int(1e9 + 7)\n",
    "\n",
    "pi, pset = prime_count(n)\n",
    "\n",
    "cnts = [Counter() for _ in range(n + 1)]\n",
    "for i in range(1, n + 1):\n",
    "    prev = pi[i]\n",
    "    if i in pset:\n",
    "        # Do not add one to previous values\n",
    "        for e in cnts[prev]:\n",
    "            cnts[i][e] += cnts[prev][e]\n",
    "        cnts[i][0] += 1\n",
    "    else:\n",
    "        # Add 1 to previous values\n",
    "        for e in cnts[prev]:\n",
    "            cnts[i][e + 1] += cnts[prev][e]\n",
    "        cnts[i][1] += 1\n",
    "    # print(i, cnts[i], prev)\n",
    "\n",
    "tot_cnts = Counter()\n",
    "for i in range(1, n + 1):\n",
    "    if i in pset:\n",
    "        cnts[i][0] -= 1\n",
    "    else:\n",
    "        cnts[i][1] -= 1\n",
    "    for e in cnts[i]:\n",
    "        tot_cnts[e] += cnts[i][e]\n",
    "# tot_cnts\n",
    "\n",
    "b = 1\n",
    "for e in tot_cnts:\n",
    "    if tot_cnts[e]:\n",
    "        b = (b * tot_cnts[e]) % m\n",
    "print(b)"
   ]
  },
  {
   "cell_type": "code",
   "execution_count": null,
   "id": "fe528aef-9319-45c2-b635-14ab872bc2d5",
   "metadata": {},
   "outputs": [],
   "source": []
  }
 ],
 "metadata": {
  "kernelspec": {
   "display_name": "Python 3 (ipykernel)",
   "language": "python",
   "name": "python3"
  },
  "language_info": {
   "codemirror_mode": {
    "name": "ipython",
    "version": 3
   },
   "file_extension": ".py",
   "mimetype": "text/x-python",
   "name": "python",
   "nbconvert_exporter": "python",
   "pygments_lexer": "ipython3",
   "version": "3.12.4"
  }
 },
 "nbformat": 4,
 "nbformat_minor": 5
}
