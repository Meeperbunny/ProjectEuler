{
 "cells": [
  {
   "cell_type": "code",
   "execution_count": 22,
   "id": "d746bc97-d9f7-4245-8b6d-a65b570cd0e1",
   "metadata": {},
   "outputs": [],
   "source": [
    "def ans(n):\n",
    "    sieve = [1 for _ in range(n + 1)]\n",
    "    primes = []\n",
    "    for i in range(2, n + 1):\n",
    "        if sieve[i]:\n",
    "            primes.append(i)\n",
    "            for q in range(i * 2, n + 1, i):\n",
    "                sieve[q] = 0\n",
    "    pset = set(primes)\n",
    "    tot = 0\n",
    "    for i, p in enumerate(primes):\n",
    "        if (i % (len(primes) // 10) == 0):\n",
    "            print(i / len(primes))\n",
    "        for q in primes[i + 1:]:\n",
    "            P, Q = p + 1, q + 1\n",
    "            if (Q * Q) // P >= n:\n",
    "                break\n",
    "            if (Q * Q) % P == 0 and (Q * Q) // P - 1 in pset:\n",
    "                tot += p + q + (Q * Q) // P - 1\n",
    "    return tot"
   ]
  },
  {
   "cell_type": "code",
   "execution_count": 25,
   "id": "c6ac935b-08f0-47d7-9a0b-efd7f4fa9ce3",
   "metadata": {},
   "outputs": [
    {
     "name": "stdout",
     "output_type": "stream",
     "text": [
      "0.0\n",
      "0.0999791492910759\n",
      "0.1999582985821518\n",
      "0.2999374478732277\n",
      "0.3999165971643036\n",
      "0.4998957464553795\n",
      "0.5998748957464554\n",
      "0.6998540450375312\n",
      "0.7998331943286072\n",
      "0.8998123436196831\n",
      "0.999791492910759\n",
      "CPU times: total: 2.2 s\n",
      "Wall time: 2.2 s\n"
     ]
    },
    {
     "data": {
      "text/plain": [
       "249551109"
      ]
     },
     "execution_count": 25,
     "metadata": {},
     "output_type": "execute_result"
    }
   ],
   "source": [
    "%%time\n",
    "ans(100000)"
   ]
  },
  {
   "cell_type": "code",
   "execution_count": 26,
   "id": "880ad6ae-919a-4c77-afab-74d77099b9ac",
   "metadata": {},
   "outputs": [],
   "source": [
    "# 100000 -> 2.2"
   ]
  },
  {
   "cell_type": "code",
   "execution_count": 54,
   "id": "fcec048c-18f3-4ae5-8659-23fe368fcc15",
   "metadata": {},
   "outputs": [],
   "source": [
    "def ans(n):\n",
    "    print(\"Constructing\")\n",
    "    sieve = [1 for _ in range(n + 1)]\n",
    "    primes = []\n",
    "    print(\"Sieve\")\n",
    "    for i in range(2, n + 1):\n",
    "        if sieve[i]:\n",
    "            primes.append(i)\n",
    "            for q in range(i * 2, n + 1, i):\n",
    "                sieve[q] = 0\n",
    "    pset = set(primes)\n",
    "\n",
    "    divs = [[] for _ in range(n + 1)]\n",
    "    print(\"Getting Divs\")\n",
    "    for i in range(1, n + 1):\n",
    "        for q in range(i, n + 1, i):\n",
    "            divs[q].append(i)\n",
    "\n",
    "    print(\"Comuting Square Divs\")\n",
    "    tot = 0\n",
    "    addset = set()\n",
    "    for p in primes:\n",
    "        Q = p + 1\n",
    "        # Computer square divs for P\n",
    "        sqdivs = []\n",
    "        for i, a in enumerate(divs[Q]):\n",
    "            for b in divs[Q][i + 1:]:\n",
    "                S = a * b\n",
    "                if S >= Q:\n",
    "                    break\n",
    "                # sqdivs.append(s)\n",
    "                # If a * b - 1 is a prime,\n",
    "                if S - 1 in pset:\n",
    "                    R = Q * Q // S\n",
    "                    if R - 1 in pset:\n",
    "                        addset.add((S - 1, Q - 1, R - 1))\n",
    "    return sum([sum(e) for e in addset])"
   ]
  },
  {
   "cell_type": "code",
   "execution_count": 59,
   "id": "72ea31aa-5290-4f90-9d09-3edf1eea5982",
   "metadata": {},
   "outputs": [
    {
     "name": "stdout",
     "output_type": "stream",
     "text": [
      "Sieve\n",
      "Getting Divs\n",
      "Comuting Square Divs\n"
     ]
    },
    {
     "data": {
      "text/plain": [
       "17822459735"
      ]
     },
     "execution_count": 59,
     "metadata": {},
     "output_type": "execute_result"
    }
   ],
   "source": [
    "ans(1000000)"
   ]
  }
 ],
 "metadata": {
  "kernelspec": {
   "display_name": "Python 3 (ipykernel)",
   "language": "python",
   "name": "python3"
  },
  "language_info": {
   "codemirror_mode": {
    "name": "ipython",
    "version": 3
   },
   "file_extension": ".py",
   "mimetype": "text/x-python",
   "name": "python",
   "nbconvert_exporter": "python",
   "pygments_lexer": "ipython3",
   "version": "3.12.4"
  }
 },
 "nbformat": 4,
 "nbformat_minor": 5
}
