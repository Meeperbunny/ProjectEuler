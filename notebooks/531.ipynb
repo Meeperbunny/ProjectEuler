{
 "cells": [
  {
   "cell_type": "code",
   "execution_count": 15,
   "id": "ce3a624f-4869-4708-a9f2-d3690b8d0fe5",
   "metadata": {},
   "outputs": [],
   "source": [
    "def totient(n):\n",
    "    tot = [1 for i in range(n + 1)]\n",
    "    for p in range(2, n + 1):\n",
    "        if tot[p] == 1:\n",
    "            # is prime\n",
    "            k = 1\n",
    "            while True:\n",
    "                b = p**k\n",
    "                if b > n:\n",
    "                    break\n",
    "                j = p\n",
    "                if k == 1:\n",
    "                    j = p - 1\n",
    "                for q in range(b, n + 1, b):\n",
    "                    tot[q] *= j\n",
    "                k += 1\n",
    "    return tot"
   ]
  },
  {
   "cell_type": "code",
   "execution_count": 18,
   "id": "4d69d12b-9a20-4209-a9a0-56147b832611",
   "metadata": {},
   "outputs": [],
   "source": [
    "tot = totient(1005000)"
   ]
  },
  {
   "cell_type": "code",
   "execution_count": 22,
   "id": "552764c6-30b0-4e78-aebb-338159d0f31e",
   "metadata": {},
   "outputs": [],
   "source": [
    "from math import gcd"
   ]
  },
  {
   "cell_type": "code",
   "execution_count": 25,
   "id": "b1562f13-ece0-409a-80de-8778ebada5f0",
   "metadata": {},
   "outputs": [],
   "source": [
    "def bz_c(a, b):\n",
    "    old_r, r = a, b\n",
    "    old_s, s = 1, 0\n",
    "    old_t, t = 0, 1\n",
    "    \n",
    "    while r != 0:\n",
    "        quotient = old_r // r\n",
    "        old_r, r = r, old_r - quotient * r\n",
    "        old_s, s = s, old_s - quotient * s\n",
    "        old_t, t = t, old_t - quotient * t\n",
    "    \n",
    "    return old_s, old_t"
   ]
  },
  {
   "cell_type": "code",
   "execution_count": 30,
   "id": "141251f6-56fe-494c-bd1f-2a8177069c99",
   "metadata": {},
   "outputs": [],
   "source": [
    "from math import gcd, lcm"
   ]
  },
  {
   "cell_type": "code",
   "execution_count": 47,
   "id": "2be0a2d7-b0f7-4288-af6c-57702df59e74",
   "metadata": {},
   "outputs": [],
   "source": [
    "def g(a, m, b, n):\n",
    "    gc = gcd(m, n)\n",
    "    M = lcm(m, n)\n",
    "    if a % gc != b % gc:\n",
    "        return 0\n",
    "    u, v = bz_c(m, n)\n",
    "    x = (a * v * n + b * u * m) // gc\n",
    "    return ((x % M) + M) % M"
   ]
  },
  {
   "cell_type": "code",
   "execution_count": 50,
   "id": "aff484eb-64f9-445c-94cb-ecd37416f422",
   "metadata": {
    "scrolled": true
   },
   "outputs": [
    {
     "name": "stdout",
     "output_type": "stream",
     "text": [
      "1000000\n",
      "1000100\n",
      "1000200\n",
      "1000300\n",
      "1000400\n",
      "1000500\n",
      "1000600\n",
      "1000700\n",
      "1000800\n",
      "1000900\n",
      "1001000\n",
      "1001100\n",
      "1001200\n",
      "1001300\n",
      "1001400\n",
      "1001500\n",
      "1001600\n",
      "1001700\n",
      "1001800\n",
      "1001900\n",
      "1002000\n",
      "1002100\n",
      "1002200\n",
      "1002300\n",
      "1002400\n",
      "1002500\n",
      "1002600\n",
      "1002700\n",
      "1002800\n",
      "1002900\n",
      "1003000\n",
      "1003100\n",
      "1003200\n",
      "1003300\n",
      "1003400\n",
      "1003500\n",
      "1003600\n",
      "1003700\n",
      "1003800\n",
      "1003900\n"
     ]
    },
    {
     "ename": "KeyboardInterrupt",
     "evalue": "",
     "output_type": "error",
     "traceback": [
      "\u001b[1;31m---------------------------------------------------------------------------\u001b[0m",
      "\u001b[1;31mKeyboardInterrupt\u001b[0m                         Traceback (most recent call last)",
      "Cell \u001b[1;32mIn[50], line 6\u001b[0m\n\u001b[0;32m      4\u001b[0m         \u001b[38;5;28mprint\u001b[39m(n)\n\u001b[0;32m      5\u001b[0m     \u001b[38;5;28;01mfor\u001b[39;00m m \u001b[38;5;129;01min\u001b[39;00m \u001b[38;5;28mrange\u001b[39m(n \u001b[38;5;241m+\u001b[39m \u001b[38;5;241m1\u001b[39m, \u001b[38;5;241m1005000\u001b[39m):\n\u001b[1;32m----> 6\u001b[0m         s \u001b[38;5;241m+\u001b[39m\u001b[38;5;241m=\u001b[39m \u001b[43mg\u001b[49m\u001b[43m(\u001b[49m\u001b[43mtot\u001b[49m\u001b[43m[\u001b[49m\u001b[43mn\u001b[49m\u001b[43m]\u001b[49m\u001b[43m,\u001b[49m\u001b[43m \u001b[49m\u001b[43mn\u001b[49m\u001b[43m,\u001b[49m\u001b[43m \u001b[49m\u001b[43mtot\u001b[49m\u001b[43m[\u001b[49m\u001b[43mm\u001b[49m\u001b[43m]\u001b[49m\u001b[43m,\u001b[49m\u001b[43m \u001b[49m\u001b[43mm\u001b[49m\u001b[43m)\u001b[49m\n\u001b[0;32m      7\u001b[0m \u001b[38;5;28mprint\u001b[39m(s)\n",
      "Cell \u001b[1;32mIn[47], line 6\u001b[0m, in \u001b[0;36mg\u001b[1;34m(a, m, b, n)\u001b[0m\n\u001b[0;32m      4\u001b[0m \u001b[38;5;28;01mif\u001b[39;00m a \u001b[38;5;241m%\u001b[39m gc \u001b[38;5;241m!=\u001b[39m b \u001b[38;5;241m%\u001b[39m gc:\n\u001b[0;32m      5\u001b[0m     \u001b[38;5;28;01mreturn\u001b[39;00m \u001b[38;5;241m0\u001b[39m\n\u001b[1;32m----> 6\u001b[0m u, v \u001b[38;5;241m=\u001b[39m \u001b[43mbz_c\u001b[49m\u001b[43m(\u001b[49m\u001b[43mm\u001b[49m\u001b[43m,\u001b[49m\u001b[43m \u001b[49m\u001b[43mn\u001b[49m\u001b[43m)\u001b[49m\n\u001b[0;32m      7\u001b[0m x \u001b[38;5;241m=\u001b[39m (a \u001b[38;5;241m*\u001b[39m v \u001b[38;5;241m*\u001b[39m n \u001b[38;5;241m+\u001b[39m b \u001b[38;5;241m*\u001b[39m u \u001b[38;5;241m*\u001b[39m m) \u001b[38;5;241m/\u001b[39m\u001b[38;5;241m/\u001b[39m gc\n\u001b[0;32m      8\u001b[0m \u001b[38;5;28;01mreturn\u001b[39;00m ((x \u001b[38;5;241m%\u001b[39m M) \u001b[38;5;241m+\u001b[39m M) \u001b[38;5;241m%\u001b[39m M\n",
      "Cell \u001b[1;32mIn[25], line 6\u001b[0m, in \u001b[0;36mbz_c\u001b[1;34m(a, b)\u001b[0m\n\u001b[0;32m      3\u001b[0m old_s, s \u001b[38;5;241m=\u001b[39m \u001b[38;5;241m1\u001b[39m, \u001b[38;5;241m0\u001b[39m\n\u001b[0;32m      4\u001b[0m old_t, t \u001b[38;5;241m=\u001b[39m \u001b[38;5;241m0\u001b[39m, \u001b[38;5;241m1\u001b[39m\n\u001b[1;32m----> 6\u001b[0m \u001b[38;5;28;01mwhile\u001b[39;00m r \u001b[38;5;241m!=\u001b[39m \u001b[38;5;241m0\u001b[39m:\n\u001b[0;32m      7\u001b[0m     quotient \u001b[38;5;241m=\u001b[39m old_r \u001b[38;5;241m/\u001b[39m\u001b[38;5;241m/\u001b[39m r\n\u001b[0;32m      8\u001b[0m     old_r, r \u001b[38;5;241m=\u001b[39m r, old_r \u001b[38;5;241m-\u001b[39m quotient \u001b[38;5;241m*\u001b[39m r\n",
      "\u001b[1;31mKeyboardInterrupt\u001b[0m: "
     ]
    }
   ],
   "source": [
    "s = 0\n",
    "for n in range(1000000, 1005000):\n",
    "    if n % 100 == 0:\n",
    "        print(n)\n",
    "    for m in range(n + 1, 1005000):\n",
    "        s += g(tot[n], n, tot[m], m)\n",
    "print(s)"
   ]
  },
  {
   "cell_type": "code",
   "execution_count": null,
   "id": "02c12967-b300-443b-a9d5-c761f4b6b0a7",
   "metadata": {},
   "outputs": [],
   "source": []
  },
  {
   "cell_type": "code",
   "execution_count": null,
   "id": "760d4258-86d8-4f7f-a274-15a1554ba85a",
   "metadata": {},
   "outputs": [],
   "source": []
  },
  {
   "cell_type": "code",
   "execution_count": null,
   "id": "e51c97e5-a353-4e5a-96be-63f307c46baa",
   "metadata": {},
   "outputs": [],
   "source": []
  },
  {
   "cell_type": "code",
   "execution_count": null,
   "id": "58a05893-a8e7-4ce7-9d70-0cc538bca739",
   "metadata": {},
   "outputs": [],
   "source": []
  },
  {
   "cell_type": "code",
   "execution_count": null,
   "id": "287708a7-f255-44cd-a246-213a110c3dcb",
   "metadata": {},
   "outputs": [],
   "source": [
    "def totient(n):\n",
    "    tot = [1 for i in range(n + 1)]\n",
    "    for p in range(2, n + 1):\n",
    "        if tot[p] == 1:\n",
    "            # is prime\n",
    "            k = 1\n",
    "            while True:\n",
    "                b = p**k\n",
    "                if b > n:\n",
    "                    break\n",
    "                j = p\n",
    "                if k == 1:\n",
    "                    j = p - 1\n",
    "                for q in range(b, n + 1, b):\n",
    "                    tot[q] *= j\n",
    "                k += 1\n",
    "    return tot\n",
    "\n",
    "tot = totient(1005000)\n",
    "\n",
    "from math import gcd\n",
    "\n",
    "def bz_c(a, b):\n",
    "    old_r, r = a, b\n",
    "    old_s, s = 1, 0\n",
    "    old_t, t = 0, 1\n",
    "    \n",
    "    while r != 0:\n",
    "        quotient = old_r // r\n",
    "        old_r, r = r, old_r - quotient * r\n",
    "        old_s, s = s, old_s - quotient * s\n",
    "        old_t, t = t, old_t - quotient * t\n",
    "    \n",
    "    return old_s, old_t\n",
    "\n",
    "from math import gcd, lcm\n",
    "\n",
    "def g(a, m, b, n):\n",
    "    gc = gcd(m, n)\n",
    "    M = lcm(m, n)\n",
    "    if a % gc != b % gc:\n",
    "        return 0\n",
    "    u, v = bz_c(m, n)\n",
    "    x = (a * v * n + b * u * m) // gc\n",
    "    return ((x % M) + M) % M\n",
    "\n",
    "s = 0\n",
    "for n in range(1000000, 1005000):\n",
    "    if n % 100 == 0:\n",
    "        print(n)\n",
    "    for m in range(n + 1, 1005000):\n",
    "        s += g(tot[n], n, tot[m], m)\n",
    "print(s)"
   ]
  },
  {
   "cell_type": "code",
   "execution_count": null,
   "id": "9cb50811-e425-48a3-bfc9-9983c7e93c8e",
   "metadata": {},
   "outputs": [],
   "source": []
  }
 ],
 "metadata": {
  "kernelspec": {
   "display_name": "Python 3 (ipykernel)",
   "language": "python",
   "name": "python3"
  },
  "language_info": {
   "codemirror_mode": {
    "name": "ipython",
    "version": 3
   },
   "file_extension": ".py",
   "mimetype": "text/x-python",
   "name": "python",
   "nbconvert_exporter": "python",
   "pygments_lexer": "ipython3",
   "version": "3.12.4"
  }
 },
 "nbformat": 4,
 "nbformat_minor": 5
}
