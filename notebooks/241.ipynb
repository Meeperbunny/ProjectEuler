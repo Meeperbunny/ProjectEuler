{
 "cells": [
  {
   "cell_type": "code",
   "execution_count": null,
   "metadata": {},
   "outputs": [],
   "source": [
    "def divisors(n):\n",
    "    s = set()\n",
    "    for i in range(1, n + 1):\n",
    "        if i * i > n:\n",
    "            break\n",
    "        if n % i == 0:\n",
    "            s.add(i)\n",
    "            s.add(n // i)\n",
    "    return s\n",
    "def divisor_sum(n):\n",
    "    return sum(divisors(n))"
   ]
  },
  {
   "cell_type": "code",
   "execution_count": null,
   "metadata": {},
   "outputs": [],
   "source": [
    "from fractions import Fraction\n",
    "from tqdm.notebook import trange"
   ]
  },
  {
   "cell_type": "code",
   "execution_count": 56,
   "metadata": {},
   "outputs": [],
   "source": [
    "def abund(n):\n",
    "    return Fraction(divisor_sum(n), n)"
   ]
  },
  {
   "cell_type": "code",
   "execution_count": 48,
   "metadata": {},
   "outputs": [
    {
     "data": {
      "application/vnd.jupyter.widget-view+json": {
       "model_id": "40614f19c8da454ab0b467ad8a7e4acb",
       "version_major": 2,
       "version_minor": 0
      },
      "text/plain": [
       "  0%|          | 0/999999 [00:00<?, ?it/s]"
      ]
     },
     "metadata": {},
     "output_type": "display_data"
    },
    {
     "name": "stdout",
     "output_type": "stream",
     "text": [
      "3 2\n",
      "60 24\n",
      "15120 4320\n",
      "16380 4680\n",
      "91728 26208\n",
      "[2, 24, 4320, 4680, 26208]\n"
     ]
    }
   ],
   "source": [
    "gd = []\n",
    "for i in trange(1, 100_000_0):\n",
    "    s = divisor_sum(i)\n",
    "    f = Fraction(s, i)\n",
    "    if f.numerator % 2 == 1 and f.denominator == 2:\n",
    "        print(s, i)\n",
    "        gd.append(i)\n",
    "print(gd)"
   ]
  },
  {
   "cell_type": "code",
   "execution_count": null,
   "metadata": {},
   "outputs": [],
   "source": [
    "S / n = 1/2"
   ]
  },
  {
   "cell_type": "code",
   "execution_count": 25,
   "metadata": {},
   "outputs": [],
   "source": [
    "def pfs(n):\n",
    "    pfs = []\n",
    "    for i in range(2, n):\n",
    "        if i * i > n:\n",
    "            break\n",
    "        while n % i == 0:\n",
    "            n //= i\n",
    "            pfs.append(i)\n",
    "    if n - 1:\n",
    "        pfs.append(n)\n",
    "    return pfs"
   ]
  },
  {
   "cell_type": "code",
   "execution_count": 52,
   "metadata": {},
   "outputs": [],
   "source": [
    "def fac(n):\n",
    "    return 1 if n <= 1 else n * fac(n - 1)"
   ]
  },
  {
   "cell_type": "code",
   "execution_count": null,
   "metadata": {},
   "outputs": [],
   "source": []
  },
  {
   "cell_type": "code",
   "execution_count": 57,
   "metadata": {},
   "outputs": [
    {
     "name": "stdout",
     "output_type": "stream",
     "text": [
      "0 1 1\n",
      "1 1 1\n",
      "2 2 3/2\n",
      "3 6 2\n",
      "4 24 5/2\n",
      "5 120 3\n",
      "6 720 403/120\n",
      "7 5040 403/105\n",
      "8 40320 221/56\n",
      "9 362880 2057/504\n"
     ]
    }
   ],
   "source": [
    "for i in range(10):\n",
    "    print(i, fac(i), abund(fac(i)))"
   ]
  },
  {
   "cell_type": "code",
   "execution_count": 49,
   "metadata": {},
   "outputs": [],
   "source": [
    "gd = [2, 24, 4320, 4680, 26208, 8910720, 17428320, 20427264, 91963648, 197064960, 8583644160, 10200236032, 21857648640, 57575890944, 57629644800, 206166804480, 17116004505600, 1416963251404800, 15338300494970880]"
   ]
  },
  {
   "cell_type": "code",
   "execution_count": 70,
   "metadata": {},
   "outputs": [
    {
     "data": {
      "text/plain": [
       "Fraction(112, 39)"
      ]
     },
     "execution_count": 70,
     "metadata": {},
     "output_type": "execute_result"
    }
   ],
   "source": [
    "abund(1092)"
   ]
  },
  {
   "cell_type": "code",
   "execution_count": 71,
   "metadata": {},
   "outputs": [
    {
     "data": {
      "text/plain": [
       "Fraction(5, 2)"
      ]
     },
     "execution_count": 71,
     "metadata": {},
     "output_type": "execute_result"
    }
   ],
   "source": [
    "abund(24)"
   ]
  },
  {
   "cell_type": "code",
   "execution_count": 72,
   "metadata": {},
   "outputs": [
    {
     "data": {
      "text/plain": [
       "([7, 13], [2, 2, 2, 3])"
      ]
     },
     "execution_count": 72,
     "metadata": {},
     "output_type": "execute_result"
    }
   ],
   "source": [
    "pfs(7 * 13), pfs(24)"
   ]
  },
  {
   "cell_type": "code",
   "execution_count": 68,
   "metadata": {},
   "outputs": [
    {
     "data": {
      "text/plain": [
       "1092.0"
      ]
     },
     "execution_count": 68,
     "metadata": {},
     "output_type": "execute_result"
    }
   ],
   "source": [
    "26208 / 24"
   ]
  },
  {
   "cell_type": "code",
   "execution_count": 59,
   "metadata": {},
   "outputs": [
    {
     "name": "stdout",
     "output_type": "stream",
     "text": [
      "2 [2]\n",
      "24 [2, 2, 2, 3]\n",
      "4320 [2, 2, 2, 2, 2, 3, 3, 3, 5]\n",
      "4680 [2, 2, 2, 3, 3, 5, 13]\n",
      "26208 [2, 2, 2, 2, 2, 3, 3, 7, 13]\n",
      "8910720 [2, 2, 2, 2, 2, 2, 2, 3, 3, 5, 7, 13, 17]\n",
      "17428320 [2, 2, 2, 2, 2, 3, 3, 5, 7, 7, 13, 19]\n",
      "20427264 [2, 2, 2, 2, 2, 2, 2, 2, 2, 3, 3, 11, 13, 31]\n",
      "91963648 [2, 2, 2, 2, 2, 2, 2, 2, 7, 19, 37, 73]\n",
      "197064960 [2, 2, 2, 2, 2, 2, 2, 2, 3, 5, 19, 37, 73]\n",
      "8583644160 [2, 2, 2, 2, 2, 2, 2, 2, 2, 2, 3, 3, 5, 7, 13, 23, 89]\n",
      "10200236032 [2, 2, 2, 2, 2, 2, 2, 2, 2, 2, 2, 2, 2, 2, 7, 19, 31, 151]\n",
      "21857648640 [2, 2, 2, 2, 2, 2, 2, 2, 2, 2, 2, 2, 2, 2, 3, 5, 19, 31, 151]\n",
      "57575890944 [2, 2, 2, 2, 2, 2, 2, 2, 2, 2, 2, 2, 2, 3, 3, 11, 13, 43, 127]\n",
      "57629644800 [2, 2, 2, 2, 2, 2, 2, 2, 2, 2, 2, 3, 5, 5, 7, 7, 13, 19, 31]\n",
      "206166804480 [2, 2, 2, 2, 2, 2, 2, 2, 2, 2, 2, 3, 3, 5, 7, 13, 13, 31, 61]\n",
      "17116004505600 [2, 2, 2, 2, 2, 2, 2, 2, 2, 2, 2, 3, 3, 3, 3, 5, 5, 7, 7, 11, 13, 19, 31]\n",
      "1416963251404800 [2, 2, 2, 2, 2, 2, 2, 2, 2, 2, 2, 2, 2, 2, 2, 3, 3, 3, 5, 5, 11, 17, 31, 43, 257]\n",
      "15338300494970880 [2, 2, 2, 2, 2, 2, 2, 2, 2, 2, 2, 2, 2, 2, 2, 2, 2, 3, 3, 3, 5, 7, 19, 19, 37, 73, 127]\n"
     ]
    }
   ],
   "source": [
    "for e in gd:\n",
    "    print(e, pfs(e))"
   ]
  },
  {
   "cell_type": "code",
   "execution_count": 74,
   "metadata": {},
   "outputs": [],
   "source": [
    "def prod(n):\n",
    "    t = 1\n",
    "    for e in n:\n",
    "        t *= e\n",
    "    return t"
   ]
  },
  {
   "cell_type": "code",
   "execution_count": 83,
   "metadata": {},
   "outputs": [],
   "source": [
    "def sigma(n):\n",
    "    return divisor_sum(n)"
   ]
  },
  {
   "cell_type": "code",
   "execution_count": 84,
   "metadata": {},
   "outputs": [],
   "source": [
    "def antisigma(n):\n",
    "    t = Fraction(0)\n",
    "    for d in divisors(n):\n",
    "        t += Fraction(d, n)\n",
    "    return t"
   ]
  },
  {
   "cell_type": "code",
   "execution_count": null,
   "metadata": {},
   "outputs": [],
   "source": []
  },
  {
   "cell_type": "code",
   "execution_count": 88,
   "metadata": {},
   "outputs": [
    {
     "name": "stdout",
     "output_type": "stream",
     "text": [
      "30 72 12/5\n"
     ]
    }
   ],
   "source": [
    "k = 30\n",
    "print(k, sigma(k), antisigma(k))"
   ]
  },
  {
   "cell_type": "code",
   "execution_count": 82,
   "metadata": {},
   "outputs": [
    {
     "data": {
      "text/plain": [
       "Fraction(35, 12)"
      ]
     },
     "execution_count": 82,
     "metadata": {},
     "output_type": "execute_result"
    }
   ],
   "source": [
    "abund(prod((2, 2, 2, 2, 2, 3, 3, 3)))"
   ]
  },
  {
   "cell_type": "code",
   "execution_count": 77,
   "metadata": {},
   "outputs": [
    {
     "data": {
      "text/plain": [
       "Fraction(48545, 16384)"
      ]
     },
     "execution_count": 77,
     "metadata": {},
     "output_type": "execute_result"
    }
   ],
   "source": [
    "abund(prod((2, 2, 2, 2, 2, 2, 2, 2, 2, 2, 2, 2, 2, 2, 2, 2, 2, 3, 3, 3)))"
   ]
  },
  {
   "cell_type": "code",
   "execution_count": 75,
   "metadata": {},
   "outputs": [
    {
     "data": {
      "text/plain": [
       "Fraction(73728, 48545)"
      ]
     },
     "execution_count": 75,
     "metadata": {},
     "output_type": "execute_result"
    }
   ],
   "source": [
    "abund(prod((5, 7, 19, 19, 37, 73, 127)))"
   ]
  },
  {
   "cell_type": "code",
   "execution_count": 79,
   "metadata": {},
   "outputs": [
    {
     "data": {
      "text/plain": [
       "Fraction(9, 2)"
      ]
     },
     "execution_count": 79,
     "metadata": {},
     "output_type": "execute_result"
    }
   ],
   "source": [
    "Fraction(73728, 48545) * Fraction(48545, 16384)"
   ]
  },
  {
   "cell_type": "code",
   "execution_count": 78,
   "metadata": {},
   "outputs": [
    {
     "data": {
      "text/plain": [
       "15338300494970880"
      ]
     },
     "execution_count": 78,
     "metadata": {},
     "output_type": "execute_result"
    }
   ],
   "source": [
    "15338300494970880"
   ]
  },
  {
   "cell_type": "code",
   "execution_count": 60,
   "metadata": {},
   "outputs": [
    {
     "name": "stdout",
     "output_type": "stream",
     "text": [
      "127 127\n",
      "73 9271\n",
      "37 343027\n",
      "19 6517513\n",
      "19 123832747\n",
      "7 866829229\n",
      "5 4334146145\n",
      "3 13002438435\n",
      "3 39007315305\n",
      "3 117021945915\n"
     ]
    },
    {
     "data": {
      "text/plain": [
       "117021945915"
      ]
     },
     "execution_count": 60,
     "metadata": {},
     "output_type": "execute_result"
    }
   ],
   "source": [
    "t = 1\n",
    "for e in reversed([3, 3, 3, 5, 7, 19, 19, 37, 73, 127]):\n",
    "    t *= e\n",
    "    print(e, t)\n",
    "t"
   ]
  },
  {
   "cell_type": "code",
   "execution_count": 50,
   "metadata": {},
   "outputs": [
    {
     "data": {
      "text/plain": [
       "16772742100580482"
      ]
     },
     "execution_count": 50,
     "metadata": {},
     "output_type": "execute_result"
    }
   ],
   "source": [
    "N = 10**18\n",
    "sum([e for e in gd if e <= N])"
   ]
  },
  {
   "cell_type": "code",
   "execution_count": null,
   "metadata": {},
   "outputs": [
    {
     "name": "stdout",
     "output_type": "stream",
     "text": [
      "2 [2]\n",
      "24 [2, 2, 2, 3]\n",
      "4320 [2, 2, 2, 2, 2, 3, 3, 3, 5]\n",
      "4680 [2, 2, 2, 3, 3, 5, 13]\n",
      "26208 [2, 2, 2, 2, 2, 3, 3, 7, 13]\n"
     ]
    }
   ],
   "source": [
    "for i in gd:\n",
    "    print(i, pfs(i))"
   ]
  },
  {
   "cell_type": "code",
   "execution_count": null,
   "metadata": {},
   "outputs": [],
   "source": []
  },
  {
   "cell_type": "code",
   "execution_count": 46,
   "metadata": {},
   "outputs": [
    {
     "name": "stdout",
     "output_type": "stream",
     "text": [
      "13 13\n",
      "7 91\n",
      "3 273\n",
      "3 819\n",
      "2 1638\n",
      "2 3276\n",
      "2 6552\n",
      "2 13104\n",
      "2 26208\n"
     ]
    },
    {
     "data": {
      "text/plain": [
       "26208"
      ]
     },
     "execution_count": 46,
     "metadata": {},
     "output_type": "execute_result"
    }
   ],
   "source": [
    "t = 1\n",
    "for e in reversed([2, 2, 2, 2, 2, 3, 3, 7, 13]):\n",
    "    t *= e\n",
    "    print(e, t)\n",
    "t"
   ]
  },
  {
   "cell_type": "code",
   "execution_count": 45,
   "metadata": {},
   "outputs": [
    {
     "name": "stdout",
     "output_type": "stream",
     "text": [
      "13 13\n",
      "5 65\n",
      "3 195\n",
      "3 585\n",
      "2 1170\n",
      "2 2340\n",
      "2 4680\n"
     ]
    },
    {
     "data": {
      "text/plain": [
       "4680"
      ]
     },
     "execution_count": 45,
     "metadata": {},
     "output_type": "execute_result"
    }
   ],
   "source": [
    "t = 1\n",
    "for e in reversed([2, 2, 2, 3, 3, 5, 13]):\n",
    "    t *= e\n",
    "    print(e, t)\n",
    "t"
   ]
  },
  {
   "cell_type": "code",
   "execution_count": null,
   "metadata": {},
   "outputs": [],
   "source": []
  },
  {
   "cell_type": "code",
   "execution_count": 29,
   "metadata": {},
   "outputs": [],
   "source": [
    "from random import randint\n",
    "def miller_rabin(n, k=5):\n",
    "    if n <= 1:\n",
    "        return False\n",
    "    if n == 2 or n == 3:\n",
    "        return True\n",
    "    d = n - 1\n",
    "    s = 0\n",
    "    while d % 2 == 0:\n",
    "        d //= 2\n",
    "        s += 1\n",
    "    \n",
    "    y = 0\n",
    "    for _ in range(k):\n",
    "        a = randint(2, n - 2)\n",
    "        x = pow(a, d, n)\n",
    "        for _ in range(s):\n",
    "            y = pow(x, 2, n)\n",
    "            if y == 1 and x != 1 and x != n - 1:\n",
    "                return False\n",
    "            x = y\n",
    "        if y != 1:\n",
    "            return False\n",
    "    return True"
   ]
  },
  {
   "cell_type": "code",
   "execution_count": 33,
   "metadata": {},
   "outputs": [
    {
     "name": "stdout",
     "output_type": "stream",
     "text": [
      "1\n",
      "6\n",
      "120\n",
      "2016\n",
      "8386560\n",
      "2147450880\n",
      "34359607296\n",
      "576460751766552576\n"
     ]
    },
    {
     "data": {
      "text/plain": [
       "576460788281999455"
      ]
     },
     "execution_count": 33,
     "metadata": {},
     "output_type": "execute_result"
    }
   ],
   "source": [
    "num = 1\n",
    "p = 2\n",
    "N = 10**18\n",
    "T = 0\n",
    "for i in range(100):\n",
    "    K = num * (p - 1)\n",
    "    if K > N:\n",
    "        break\n",
    "    num *= 2\n",
    "    p *= 2\n",
    "    to_check = p - 1\n",
    "    if miller_rabin(to_check):\n",
    "        print(K)\n",
    "        T += K\n",
    "T\n"
   ]
  },
  {
   "cell_type": "code",
   "execution_count": 91,
   "metadata": {},
   "outputs": [],
   "source": [
    "def sieve(n):\n",
    "    s = [1 for _ in range(n + 1)]\n",
    "    primes = []\n",
    "    for q in range(2, n + 1):\n",
    "        if s[q]:\n",
    "            primes.append(q)\n",
    "            for i in range(2 * q, n + 1, q):\n",
    "                s[i] = 0\n",
    "    return primes"
   ]
  },
  {
   "cell_type": "code",
   "execution_count": 95,
   "metadata": {},
   "outputs": [
    {
     "data": {
      "text/plain": [
       "62"
      ]
     },
     "execution_count": 95,
     "metadata": {},
     "output_type": "execute_result"
    }
   ],
   "source": [
    "primes = sieve(300)\n",
    "len(primes)"
   ]
  },
  {
   "cell_type": "code",
   "execution_count": null,
   "metadata": {},
   "outputs": [],
   "source": []
  },
  {
   "cell_type": "code",
   "execution_count": 97,
   "metadata": {},
   "outputs": [
    {
     "name": "stdout",
     "output_type": "stream",
     "text": [
      "2 2 [2]\n",
      "24 3 [2, 2, 2, 3]\n",
      "4320 5 [2, 2, 2, 2, 2, 3, 3, 3, 5]\n",
      "4680 13 [2, 2, 2, 3, 3, 5, 13]\n",
      "26208 13 [2, 2, 2, 2, 2, 3, 3, 7, 13]\n",
      "8910720 17 [2, 2, 2, 2, 2, 2, 2, 3, 3, 5, 7, 13, 17]\n",
      "17428320 19 [2, 2, 2, 2, 2, 3, 3, 5, 7, 7, 13, 19]\n",
      "20427264 31 [2, 2, 2, 2, 2, 2, 2, 2, 2, 3, 3, 11, 13, 31]\n",
      "91963648 73 [2, 2, 2, 2, 2, 2, 2, 2, 7, 19, 37, 73]\n",
      "197064960 73 [2, 2, 2, 2, 2, 2, 2, 2, 3, 5, 19, 37, 73]\n",
      "8583644160 89 [2, 2, 2, 2, 2, 2, 2, 2, 2, 2, 3, 3, 5, 7, 13, 23, 89]\n",
      "10200236032 151 [2, 2, 2, 2, 2, 2, 2, 2, 2, 2, 2, 2, 2, 2, 7, 19, 31, 151]\n",
      "21857648640 151 [2, 2, 2, 2, 2, 2, 2, 2, 2, 2, 2, 2, 2, 2, 3, 5, 19, 31, 151]\n",
      "57575890944 127 [2, 2, 2, 2, 2, 2, 2, 2, 2, 2, 2, 2, 2, 3, 3, 11, 13, 43, 127]\n",
      "57629644800 31 [2, 2, 2, 2, 2, 2, 2, 2, 2, 2, 2, 3, 5, 5, 7, 7, 13, 19, 31]\n",
      "206166804480 61 [2, 2, 2, 2, 2, 2, 2, 2, 2, 2, 2, 3, 3, 5, 7, 13, 13, 31, 61]\n",
      "17116004505600 31 [2, 2, 2, 2, 2, 2, 2, 2, 2, 2, 2, 3, 3, 3, 3, 5, 5, 7, 7, 11, 13, 19, 31]\n",
      "1416963251404800 257 [2, 2, 2, 2, 2, 2, 2, 2, 2, 2, 2, 2, 2, 2, 2, 3, 3, 3, 5, 5, 11, 17, 31, 43, 257]\n",
      "15338300494970880 127 [2, 2, 2, 2, 2, 2, 2, 2, 2, 2, 2, 2, 2, 2, 2, 2, 2, 3, 3, 3, 5, 7, 19, 19, 37, 73, 127]\n"
     ]
    }
   ],
   "source": [
    "for e in gd:\n",
    "    print(e, max(pfs(e)), pfs(e))"
   ]
  },
  {
   "cell_type": "code",
   "execution_count": null,
   "metadata": {},
   "outputs": [],
   "source": []
  }
 ],
 "metadata": {
  "kernelspec": {
   "display_name": "Python 3",
   "language": "python",
   "name": "python3"
  },
  "language_info": {
   "codemirror_mode": {
    "name": "ipython",
    "version": 3
   },
   "file_extension": ".py",
   "mimetype": "text/x-python",
   "name": "python",
   "nbconvert_exporter": "python",
   "pygments_lexer": "ipython3",
   "version": "3.9.6"
  }
 },
 "nbformat": 4,
 "nbformat_minor": 2
}
