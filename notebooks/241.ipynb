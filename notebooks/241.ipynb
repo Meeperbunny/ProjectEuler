{
 "cells": [
  {
   "cell_type": "code",
   "execution_count": 1,
   "metadata": {},
   "outputs": [],
   "source": [
    "def divisors(n):\n",
    "    s = set()\n",
    "    for i in range(1, n + 1):\n",
    "        if i * i > n:\n",
    "            break\n",
    "        if n % i == 0:\n",
    "            s.add(i)\n",
    "            s.add(n // i)\n",
    "    return s\n",
    "def divisor_sum(n):\n",
    "    return sum(divisors(n))"
   ]
  },
  {
   "cell_type": "code",
   "execution_count": 2,
   "metadata": {},
   "outputs": [],
   "source": [
    "from fractions import Fraction\n",
    "from tqdm.notebook import trange"
   ]
  },
  {
   "cell_type": "code",
   "execution_count": 3,
   "metadata": {},
   "outputs": [],
   "source": [
    "def abund(n):\n",
    "    return Fraction(divisor_sum(n), n)"
   ]
  },
  {
   "cell_type": "code",
   "execution_count": null,
   "metadata": {},
   "outputs": [
    {
     "data": {
      "application/vnd.jupyter.widget-view+json": {
       "model_id": "54ad9e9a7df04873b9ea3138b7e60036",
       "version_major": 2,
       "version_minor": 0
      },
      "text/plain": [
       "  0%|          | 0/999999 [00:00<?, ?it/s]"
      ]
     },
     "metadata": {},
     "output_type": "display_data"
    },
    {
     "name": "stdout",
     "output_type": "stream",
     "text": [
      "3 2\n",
      "60 24\n",
      "15120 4320\n",
      "16380 4680\n",
      "91728 26208\n"
     ]
    },
    {
     "ename": "KeyboardInterrupt",
     "evalue": "",
     "output_type": "error",
     "traceback": [
      "\u001b[0;31m---------------------------------------------------------------------------\u001b[0m",
      "\u001b[0;31mKeyboardInterrupt\u001b[0m                         Traceback (most recent call last)",
      "Cell \u001b[0;32mIn[4], line 3\u001b[0m\n\u001b[1;32m      1\u001b[0m gd \u001b[38;5;241m=\u001b[39m []\n\u001b[1;32m      2\u001b[0m \u001b[38;5;28;01mfor\u001b[39;00m i \u001b[38;5;129;01min\u001b[39;00m trange(\u001b[38;5;241m1\u001b[39m, \u001b[38;5;241m100_000_0\u001b[39m):\n\u001b[0;32m----> 3\u001b[0m     s \u001b[38;5;241m=\u001b[39m \u001b[43mdivisor_sum\u001b[49m\u001b[43m(\u001b[49m\u001b[43mi\u001b[49m\u001b[43m)\u001b[49m\n\u001b[1;32m      4\u001b[0m     f \u001b[38;5;241m=\u001b[39m Fraction(s, i)\n\u001b[1;32m      5\u001b[0m     \u001b[38;5;28;01mif\u001b[39;00m f\u001b[38;5;241m.\u001b[39mnumerator \u001b[38;5;241m%\u001b[39m \u001b[38;5;241m2\u001b[39m \u001b[38;5;241m==\u001b[39m \u001b[38;5;241m1\u001b[39m \u001b[38;5;129;01mand\u001b[39;00m f\u001b[38;5;241m.\u001b[39mdenominator \u001b[38;5;241m==\u001b[39m \u001b[38;5;241m2\u001b[39m:\n",
      "Cell \u001b[0;32mIn[1], line 11\u001b[0m, in \u001b[0;36mdivisor_sum\u001b[0;34m(n)\u001b[0m\n\u001b[1;32m     10\u001b[0m \u001b[38;5;28;01mdef\u001b[39;00m\u001b[38;5;250m \u001b[39m\u001b[38;5;21mdivisor_sum\u001b[39m(n):\n\u001b[0;32m---> 11\u001b[0m     \u001b[38;5;28;01mreturn\u001b[39;00m \u001b[38;5;28msum\u001b[39m(\u001b[43mdivisors\u001b[49m\u001b[43m(\u001b[49m\u001b[43mn\u001b[49m\u001b[43m)\u001b[49m)\n",
      "Cell \u001b[0;32mIn[1], line 4\u001b[0m, in \u001b[0;36mdivisors\u001b[0;34m(n)\u001b[0m\n\u001b[1;32m      2\u001b[0m s \u001b[38;5;241m=\u001b[39m \u001b[38;5;28mset\u001b[39m()\n\u001b[1;32m      3\u001b[0m \u001b[38;5;28;01mfor\u001b[39;00m i \u001b[38;5;129;01min\u001b[39;00m \u001b[38;5;28mrange\u001b[39m(\u001b[38;5;241m1\u001b[39m, n \u001b[38;5;241m+\u001b[39m \u001b[38;5;241m1\u001b[39m):\n\u001b[0;32m----> 4\u001b[0m     \u001b[38;5;28;01mif\u001b[39;00m \u001b[43mi\u001b[49m\u001b[43m \u001b[49m\u001b[38;5;241;43m*\u001b[39;49m\u001b[43m \u001b[49m\u001b[43mi\u001b[49m \u001b[38;5;241m>\u001b[39m n:\n\u001b[1;32m      5\u001b[0m         \u001b[38;5;28;01mbreak\u001b[39;00m\n\u001b[1;32m      6\u001b[0m     \u001b[38;5;28;01mif\u001b[39;00m n \u001b[38;5;241m%\u001b[39m i \u001b[38;5;241m==\u001b[39m \u001b[38;5;241m0\u001b[39m:\n",
      "\u001b[0;31mKeyboardInterrupt\u001b[0m: "
     ]
    }
   ],
   "source": [
    "ddgd = []\n",
    "for i in trange(1, 100_000_0):\n",
    "    s = divisor_sum(i)\n",
    "    f = Fraction(s, i)\n",
    "    if f.numerator % 2 == 1 and f.denominator == 2:\n",
    "        print(s, i)\n",
    "        gd.append(i)\n",
    "print(gd)"
   ]
  },
  {
   "cell_type": "code",
   "execution_count": null,
   "metadata": {},
   "outputs": [],
   "source": [
    "S / n = 1/2"
   ]
  },
  {
   "cell_type": "code",
   "execution_count": 25,
   "metadata": {},
   "outputs": [],
   "source": [
    "def pfs(n):\n",
    "    pfs = []\n",
    "    for i in range(2, n):\n",
    "        if i * i > n:\n",
    "            break\n",
    "        while n % i == 0:\n",
    "            n //= i\n",
    "            pfs.append(i)\n",
    "    if n - 1:\n",
    "        pfs.append(n)\n",
    "    return pfs"
   ]
  },
  {
   "cell_type": "code",
   "execution_count": 52,
   "metadata": {},
   "outputs": [],
   "source": [
    "def fac(n):\n",
    "    return 1 if n <= 1 else n * fac(n - 1)"
   ]
  },
  {
   "cell_type": "code",
   "execution_count": null,
   "metadata": {},
   "outputs": [],
   "source": []
  },
  {
   "cell_type": "code",
   "execution_count": 57,
   "metadata": {},
   "outputs": [
    {
     "name": "stdout",
     "output_type": "stream",
     "text": [
      "0 1 1\n",
      "1 1 1\n",
      "2 2 3/2\n",
      "3 6 2\n",
      "4 24 5/2\n",
      "5 120 3\n",
      "6 720 403/120\n",
      "7 5040 403/105\n",
      "8 40320 221/56\n",
      "9 362880 2057/504\n"
     ]
    }
   ],
   "source": [
    "for i in range(10):\n",
    "    print(i, fac(i), abund(fac(i)))"
   ]
  },
  {
   "cell_type": "code",
   "execution_count": 5,
   "metadata": {},
   "outputs": [],
   "source": [
    "gd = [2, 24, 4320, 4680, 26208, 8910720, 17428320, 20427264, 91963648, 197064960, 8583644160, 10200236032, 21857648640, 57575890944, 57629644800, 206166804480, 17116004505600, 1416963251404800, 15338300494970880]"
   ]
  },
  {
   "cell_type": "code",
   "execution_count": 70,
   "metadata": {},
   "outputs": [
    {
     "data": {
      "text/plain": [
       "Fraction(112, 39)"
      ]
     },
     "execution_count": 70,
     "metadata": {},
     "output_type": "execute_result"
    }
   ],
   "source": [
    "abund(1092)"
   ]
  },
  {
   "cell_type": "code",
   "execution_count": 71,
   "metadata": {},
   "outputs": [
    {
     "data": {
      "text/plain": [
       "Fraction(5, 2)"
      ]
     },
     "execution_count": 71,
     "metadata": {},
     "output_type": "execute_result"
    }
   ],
   "source": [
    "abund(24)"
   ]
  },
  {
   "cell_type": "code",
   "execution_count": 72,
   "metadata": {},
   "outputs": [
    {
     "data": {
      "text/plain": [
       "([7, 13], [2, 2, 2, 3])"
      ]
     },
     "execution_count": 72,
     "metadata": {},
     "output_type": "execute_result"
    }
   ],
   "source": [
    "pfs(7 * 13), pfs(24)"
   ]
  },
  {
   "cell_type": "code",
   "execution_count": 68,
   "metadata": {},
   "outputs": [
    {
     "data": {
      "text/plain": [
       "1092.0"
      ]
     },
     "execution_count": 68,
     "metadata": {},
     "output_type": "execute_result"
    }
   ],
   "source": [
    "26208 / 24"
   ]
  },
  {
   "cell_type": "code",
   "execution_count": 19,
   "metadata": {},
   "outputs": [],
   "source": [
    "from utils.prime_factors import *\n",
    "from utils.sieve import *\n",
    "from collections import Counter"
   ]
  },
  {
   "cell_type": "code",
   "execution_count": 20,
   "metadata": {},
   "outputs": [
    {
     "data": {
      "text/plain": [
       "62"
      ]
     },
     "execution_count": 20,
     "metadata": {},
     "output_type": "execute_result"
    }
   ],
   "source": [
    "primes = sieve(300)\n",
    "len(primes)"
   ]
  },
  {
   "cell_type": "code",
   "execution_count": 119,
   "metadata": {},
   "outputs": [],
   "source": [
    "from utils.divisor import get_divs\n",
    "D = get_divs(10**5)\n",
    "def sigma(k):\n",
    "    return sum(D[k])"
   ]
  },
  {
   "cell_type": "code",
   "execution_count": 88,
   "metadata": {},
   "outputs": [
    {
     "data": {
      "text/plain": [
       "60"
      ]
     },
     "execution_count": 88,
     "metadata": {},
     "output_type": "execute_result"
    }
   ],
   "source": [
    "sigma(24)"
   ]
  },
  {
   "cell_type": "code",
   "execution_count": 89,
   "metadata": {},
   "outputs": [
    {
     "data": {
      "text/plain": [
       "(4, 13, 40)"
      ]
     },
     "execution_count": 89,
     "metadata": {},
     "output_type": "execute_result"
    }
   ],
   "source": [
    "sigma(3), sigma(9), sigma(27)"
   ]
  },
  {
   "cell_type": "code",
   "execution_count": 93,
   "metadata": {},
   "outputs": [
    {
     "data": {
      "text/plain": [
       "21.333333333333332"
      ]
     },
     "execution_count": 93,
     "metadata": {},
     "output_type": "execute_result"
    }
   ],
   "source": [
    "(3 + 1)**3 / 3"
   ]
  },
  {
   "cell_type": "code",
   "execution_count": null,
   "metadata": {},
   "outputs": [],
   "source": [
    "15 * 4"
   ]
  },
  {
   "cell_type": "code",
   "execution_count": 85,
   "metadata": {},
   "outputs": [
    {
     "data": {
      "text/plain": [
       "Fraction(5, 12)"
      ]
     },
     "execution_count": 85,
     "metadata": {},
     "output_type": "execute_result"
    }
   ],
   "source": [
    "from fractions import Fraction\n",
    "Fraction(2**5 * 3**3 * 5**1, 3 * 4 * 6 * (2**4) * 3**2)"
   ]
  },
  {
   "cell_type": "code",
   "execution_count": 18,
   "metadata": {},
   "outputs": [
    {
     "name": "stdout",
     "output_type": "stream",
     "text": [
      "2 [(2, 1)]\n",
      "24 [(2, 3), (3, 1)]\n",
      "4320 [(2, 5), (3, 3), (5, 1)]\n",
      "4680 [(2, 3), (3, 2), (5, 1), (13, 1)]\n",
      "26208 [(2, 5), (3, 2), (7, 1), (13, 1)]\n",
      "8910720 [(2, 7), (3, 2), (5, 1), (7, 1), (13, 1), (17, 1)]\n",
      "17428320 [(2, 5), (3, 2), (5, 1), (7, 2), (13, 1), (19, 1)]\n",
      "20427264 [(2, 9), (3, 2), (11, 1), (13, 1), (31, 1)]\n",
      "91963648 [(2, 8), (7, 1), (19, 1), (37, 1), (73, 1)]\n",
      "197064960 [(2, 8), (3, 1), (5, 1), (19, 1), (37, 1), (73, 1)]\n",
      "8583644160 [(2, 10), (3, 2), (5, 1), (7, 1), (13, 1), (23, 1), (89, 1)]\n",
      "10200236032 [(2, 14), (7, 1), (19, 1), (31, 1), (151, 1)]\n",
      "21857648640 [(2, 14), (3, 1), (5, 1), (19, 1), (31, 1), (151, 1)]\n",
      "57575890944 [(2, 13), (3, 2), (11, 1), (13, 1), (43, 1), (127, 1)]\n",
      "57629644800 [(2, 11), (3, 1), (5, 2), (7, 2), (13, 1), (19, 1), (31, 1)]\n",
      "206166804480 [(2, 11), (3, 2), (5, 1), (7, 1), (13, 2), (31, 1), (61, 1)]\n",
      "17116004505600 [(2, 11), (3, 4), (5, 2), (7, 2), (11, 1), (13, 1), (19, 1), (31, 1)]\n",
      "1416963251404800 [(2, 15), (3, 3), (5, 2), (11, 1), (17, 1), (31, 1), (43, 1), (257, 1)]\n",
      "15338300494970880 [(2, 17), (3, 3), (5, 1), (7, 1), (19, 2), (37, 1), (73, 1), (127, 1)]\n"
     ]
    }
   ],
   "source": [
    "for e in gd:\n",
    "    # print(e, pfs(e))\n",
    "    print(e, list(Counter(pfs(e)).items()))"
   ]
  },
  {
   "cell_type": "code",
   "execution_count": 139,
   "metadata": {},
   "outputs": [],
   "source": [
    "from itertools import combinations"
   ]
  },
  {
   "cell_type": "code",
   "execution_count": null,
   "metadata": {},
   "outputs": [
    {
     "name": "stdout",
     "output_type": "stream",
     "text": [
      "9\n",
      "2 1\n",
      "3 17\n",
      "5 85\n",
      "7 255\n",
      "11 765\n",
      "13 2295\n",
      "17 6885\n",
      "19 20655\n",
      "23 61965\n"
     ]
    },
    {
     "data": {
      "text/plain": [
       "185895"
      ]
     },
     "execution_count": 57,
     "metadata": {},
     "output_type": "execute_result"
    }
   ],
   "source": [
    "# primes = sieve(24)\n",
    "# print(len(primes))\n",
    "\n",
    "# inset = [(1, [])]\n",
    "# N = 10**5\n",
    "# for p in primes:\n",
    "#     print(p, len(inset))\n",
    "#     k = 0\n",
    "#     newset = []\n",
    "#     while p**k <= N:\n",
    "#         if p >= 3 and k >= 5:\n",
    "#             break\n",
    "#         if p >= 5 and k >= 3:\n",
    "#             break\n",
    "#         for e, l in inset:\n",
    "#             if k != 0:\n",
    "#                 newset.append((e * p**k, l + [p]))\n",
    "#             else:\n",
    "#                 newset.append((e * p**k, l))\n",
    "#         k += 1\n",
    "#     inset = newset.copy()\n",
    "# len(inset)"
   ]
  },
  {
   "cell_type": "code",
   "execution_count": null,
   "metadata": {},
   "outputs": [],
   "source": [
    "4194303"
   ]
  },
  {
   "cell_type": "code",
   "execution_count": 100,
   "metadata": {},
   "outputs": [
    {
     "data": {
      "text/plain": [
       "62"
      ]
     },
     "execution_count": 100,
     "metadata": {},
     "output_type": "execute_result"
    }
   ],
   "source": [
    "len(sieve(300))"
   ]
  },
  {
   "cell_type": "code",
   "execution_count": 106,
   "metadata": {},
   "outputs": [
    {
     "data": {
      "text/plain": [
       "2466048"
      ]
     },
     "execution_count": 106,
     "metadata": {},
     "output_type": "execute_result"
    }
   ],
   "source": [
    "sum(i if 2097151 % i == 0 else 0 for i in range(1, 2097151 + 1))"
   ]
  },
  {
   "cell_type": "code",
   "execution_count": 117,
   "metadata": {},
   "outputs": [
    {
     "ename": "IndexError",
     "evalue": "list index out of range",
     "output_type": "error",
     "traceback": [
      "\u001b[0;31m---------------------------------------------------------------------------\u001b[0m",
      "\u001b[0;31mIndexError\u001b[0m                                Traceback (most recent call last)",
      "Cell \u001b[0;32mIn[117], line 1\u001b[0m\n\u001b[0;32m----> 1\u001b[0m \u001b[43msigma\u001b[49m\u001b[43m(\u001b[49m\u001b[38;5;241;43m2097151\u001b[39;49m\u001b[43m)\u001b[49m\n",
      "Cell \u001b[0;32mIn[87], line 4\u001b[0m, in \u001b[0;36msigma\u001b[0;34m(k)\u001b[0m\n\u001b[1;32m      3\u001b[0m \u001b[38;5;28;01mdef\u001b[39;00m\u001b[38;5;250m \u001b[39m\u001b[38;5;21msigma\u001b[39m(k):\n\u001b[0;32m----> 4\u001b[0m     \u001b[38;5;28;01mreturn\u001b[39;00m \u001b[38;5;28msum\u001b[39m(\u001b[43mD\u001b[49m\u001b[43m[\u001b[49m\u001b[43mk\u001b[49m\u001b[43m]\u001b[49m)\n",
      "\u001b[0;31mIndexError\u001b[0m: list index out of range"
     ]
    }
   ],
   "source": [
    "sigma(2097151)"
   ]
  },
  {
   "cell_type": "code",
   "execution_count": 107,
   "metadata": {},
   "outputs": [
    {
     "name": "stdout",
     "output_type": "stream",
     "text": [
      "1\n",
      "7\n",
      "49\n",
      "127\n",
      "337\n",
      "889\n",
      "2359\n",
      "6223\n",
      "16513\n",
      "42799\n",
      "299593\n",
      "2097151\n"
     ]
    }
   ],
   "source": [
    "for i in range(1, 2097151 + 1):\n",
    "    if 2097151 % i == 0:\n",
    "        print(i)"
   ]
  },
  {
   "cell_type": "code",
   "execution_count": 16,
   "metadata": {},
   "outputs": [],
   "source": [
    "from utils.sieve import sieve\n",
    "from itertools import combinations\n",
    "from tqdm import tqdm\n",
    "from fractions import Fraction"
   ]
  },
  {
   "cell_type": "code",
   "execution_count": 9,
   "metadata": {},
   "outputs": [],
   "source": [
    "K = 42"
   ]
  },
  {
   "cell_type": "code",
   "execution_count": 10,
   "metadata": {},
   "outputs": [],
   "source": [
    "rprimes = sieve(600)\n",
    "for e in sieve(K):\n",
    "    rprimes.remove(e)"
   ]
  },
  {
   "cell_type": "code",
   "execution_count": 11,
   "metadata": {},
   "outputs": [
    {
     "name": "stdout",
     "output_type": "stream",
     "text": [
      "1\n",
      "2\n",
      "3\n",
      "4\n",
      "5\n"
     ]
    }
   ],
   "source": [
    "valid_psets = []\n",
    "for i in range(1, 5 + 1):\n",
    "    print(i)\n",
    "    valid_psets += list(combinations(rprimes, i))\n",
    "len(valid_psets)\n",
    "valid_psets.append(tuple())"
   ]
  },
  {
   "cell_type": "code",
   "execution_count": 12,
   "metadata": {},
   "outputs": [
    {
     "name": "stdout",
     "output_type": "stream",
     "text": [
      "13\n",
      "2 1\n",
      "3 60\n",
      "5 438\n",
      "7 1640\n",
      "11 6024\n",
      "13 21433\n",
      "17 74369\n",
      "19 247252\n",
      "23 780993\n",
      "29 2274530\n",
      "31 5953918\n",
      "37 12682424\n",
      "41 25436842\n"
     ]
    },
    {
     "data": {
      "text/plain": [
       "48389310"
      ]
     },
     "execution_count": 12,
     "metadata": {},
     "output_type": "execute_result"
    }
   ],
   "source": [
    "primes = sieve(K)\n",
    "print(len(primes))\n",
    "\n",
    "inset = [(1, 1)]\n",
    "N = 10**18\n",
    "for p in primes:\n",
    "    print(p, len(inset))\n",
    "    k = 0\n",
    "    newset = []\n",
    "    modifier = 1\n",
    "    while p**k <= N:\n",
    "        if p >= 3 and k >= 8:\n",
    "            break\n",
    "        if p >= 5 and k >= 4:\n",
    "            break\n",
    "        if p >= 7 and k >= 4:\n",
    "            break\n",
    "        if p >= 30 and k >= 3:\n",
    "            break\n",
    "        for e, l in inset:\n",
    "            if e * p**k < N:\n",
    "                newset.append((e * p**k, l * modifier))\n",
    "        k += 1\n",
    "        modifier += p**k\n",
    "    inset = newset.copy()\n",
    "len(inset)"
   ]
  },
  {
   "cell_type": "code",
   "execution_count": null,
   "metadata": {},
   "outputs": [],
   "source": [
    "# for e in pset_fracs:\n",
    "#     if len(pset_fracs[e]) != 1:\n",
    "#         print(\"BAD\")"
   ]
  },
  {
   "cell_type": "code",
   "execution_count": null,
   "metadata": {},
   "outputs": [
    {
     "name": "stderr",
     "output_type": "stream",
     "text": [
      "  0%|          | 20037/64593561 [00:12<05:22, 200355.86it/s]Exception ignored in: <bound method IPythonKernel._clean_thread_parent_frames of <ipykernel.ipkernel.IPythonKernel object at 0x10594f730>>\n",
      "Traceback (most recent call last):\n",
      "  File \"/Users/ianmckibben/Library/Python/3.9/lib/python/site-packages/ipykernel/ipkernel.py\", line 775, in _clean_thread_parent_frames\n",
      "    def _clean_thread_parent_frames(\n",
      "KeyboardInterrupt: \n",
      "  0%|          | 92753/64593561 [00:13<1:13:05, 14709.32it/s]"
     ]
    }
   ],
   "source": [
    "pset_fracs = {}\n",
    "for s in tqdm(valid_psets):\n",
    "    f = Fraction(1, 1)\n",
    "    num = 1\n",
    "    for p in s:\n",
    "        num *= p\n",
    "        f *= Fraction(p + 1, p)\n",
    "    pset_fracs[f] = num"
   ]
  },
  {
   "cell_type": "code",
   "execution_count": 246,
   "metadata": {},
   "outputs": [
    {
     "data": {
      "application/vnd.jupyter.widget-view+json": {
       "model_id": "a5d8621db5ed4a7b9b931b10fdacc9e5",
       "version_major": 2,
       "version_minor": 0
      },
      "text/plain": [
       "  0%|          | 0/889673 [00:00<?, ?it/s]"
      ]
     },
     "metadata": {},
     "output_type": "display_data"
    },
    {
     "name": "stdout",
     "output_type": "stream",
     "text": [
      "FOUND 3 2\n",
      "FOUND 5 24\n",
      "FOUND 7 4320\n",
      "FOUND 7 4680\n",
      "FOUND 7 26208\n",
      "FOUND 7 20427264\n",
      "FOUND 7 57575890944\n",
      "FOUND 9 206166804480\n",
      "FOUND 9 1416963251404800\n",
      "FOUND 9 8910720\n",
      "FOUND 7 197064960\n",
      "FOUND 7 21857648640\n",
      "FOUND 5 91963648\n",
      "FOUND 5 10200236032\n",
      "FOUND 9 17428320\n",
      "FOUND 9 57629644800\n",
      "FOUND 11 17116004505600\n",
      "FOUND 11 6219051710415667200\n",
      "FOUND 9 15338300494970880\n",
      "FOUND 9 8583644160\n"
     ]
    }
   ],
   "source": [
    "goods = set()\n",
    "for e, ds in tqdm(inset):\n",
    "    for tnum in range(3, 19, 2):\n",
    "        tfrac = Fraction(tnum, 2)\n",
    "        tcomp = tfrac / Fraction(ds, e)\n",
    "        if tcomp in pset_fracs:\n",
    "            num = pset_fracs[tcomp]\n",
    "            goods.add(e * num)\n",
    "            print(\"FOUND\", tnum, e * num)"
   ]
  },
  {
   "cell_type": "code",
   "execution_count": 240,
   "metadata": {},
   "outputs": [],
   "source": [
    "# \"\"\"\n",
    "# FOUND 3 2\n",
    "# FOUND 5 24\n",
    "# FOUND 7 4320\n",
    "# FOUND 7 4680\n",
    "# FOUND 7 26208\n",
    "# FOUND 7 57575890944\n",
    "# FOUND 9 8910720\n",
    "# FOUND 9 17428320\n",
    "# FOUND 9 8583644160\n",
    "# FOUND 7 20427264\n",
    "# FOUND 7 301183421949935616\n",
    "# FOUND 9 206166804480\n",
    "# FOUND 9 1416963251404800\n",
    "# FOUND 7 21857648640\n",
    "# FOUND 5 10200236032\n",
    "# FOUND 9 57629644800\n",
    "# FOUND 11 17116004505600\n",
    "# FOUND 9 200286975596707184640\n",
    "# FOUND 11 59485231752222033838080\n",
    "# FOUND 11 6219051710415667200\n",
    "# FOUND 7 197064960\n",
    "# FOUND 5 91963648\n",
    "# FOUND 9 15338300494970880\n",
    "# \"\"\""
   ]
  },
  {
   "cell_type": "code",
   "execution_count": null,
   "metadata": {},
   "outputs": [
    {
     "data": {
      "text/plain": [
       "16772742100580482"
      ]
     },
     "execution_count": 247,
     "metadata": {},
     "output_type": "execute_result"
    }
   ],
   "source": [
    "print(sum(e for e in goods if e <= N))"
   ]
  },
  {
   "cell_type": "code",
   "execution_count": null,
   "metadata": {},
   "outputs": [
    {
     "data": {
      "text/plain": [
       "[2,\n",
       " 24,\n",
       " 4320,\n",
       " 4680,\n",
       " 26208,\n",
       " 8910720,\n",
       " 17428320,\n",
       " 20427264,\n",
       " 91963648,\n",
       " 197064960,\n",
       " 8583644160,\n",
       " 10200236032,\n",
       " 21857648640,\n",
       " 57575890944,\n",
       " 57629644800,\n",
       " 206166804480,\n",
       " 17116004505600,\n",
       " 1416963251404800,\n",
       " 15338300494970880]"
      ]
     },
     "execution_count": 165,
     "metadata": {},
     "output_type": "execute_result"
    }
   ],
   "source": [
    "# With 400 as limit for prime: 317956164050516098"
   ]
  },
  {
   "cell_type": "code",
   "execution_count": 135,
   "metadata": {},
   "outputs": [
    {
     "data": {
      "text/plain": [
       "(13317754060800, 57393379327185)"
      ]
     },
     "execution_count": 135,
     "metadata": {},
     "output_type": "execute_result"
    }
   ],
   "source": [
    "t = list(inset)[2323]\n",
    "t"
   ]
  },
  {
   "cell_type": "code",
   "execution_count": 133,
   "metadata": {},
   "outputs": [
    {
     "data": {
      "text/plain": [
       "4268"
      ]
     },
     "execution_count": 133,
     "metadata": {},
     "output_type": "execute_result"
    }
   ],
   "source": [
    "len(inset)"
   ]
  },
  {
   "cell_type": "code",
   "execution_count": 132,
   "metadata": {},
   "outputs": [],
   "source": [
    "for e, ds in inset:\n",
    "    # print(e, ds)\n",
    "    f = Fraction(ds, e)\n",
    "    for p in reversed(primes):\n",
    "        if f.numerator % p == 0:\n",
    "            f *= Fraction(p + 1, p)\n",
    "    if f.denominator == 2:\n",
    "        print(e)\n",
    "    break"
   ]
  },
  {
   "cell_type": "code",
   "execution_count": null,
   "metadata": {},
   "outputs": [
    {
     "data": {
      "application/vnd.jupyter.widget-view+json": {
       "model_id": "5562522a507b4a80ab06c1f0c6915d2d",
       "version_major": 2,
       "version_minor": 0
      },
      "text/plain": [
       "  0%|          | 0/185895 [00:00<?, ?it/s]"
      ]
     },
     "metadata": {},
     "output_type": "display_data"
    },
    {
     "name": "stdout",
     "output_type": "stream",
     "text": [
      "Works for:  1 Counter() 0b0\n",
      "Works for:  2 Counter({2: 1}) 0b0\n",
      "Works for:  6 Counter({2: 1}) 0b10\n",
      "Works for:  14 Counter({2: 1}) 0b1000\n",
      "Works for:  42 Counter({2: 1}) 0b1010\n",
      "Works for:  6 Counter({3: 0}) 0b1\n",
      "Works for:  6 Counter({2: 1, 3: 0}) 0b1\n",
      "Works for:  15 Counter({2: 1, 3: 0}) 0b100\n",
      "Works for:  18 Counter({2: 1, 3: 0}) 0b11\n",
      "Works for:  45 Counter({2: 1, 3: 0}) 0b110\n",
      "Works for:  105 Counter({2: 1, 3: 0}) 0b1100\n",
      "Works for:  126 Counter({2: 1, 3: 0}) 0b1011\n",
      "Works for:  315 Counter({2: 1, 3: 0}) 0b1110\n",
      "Works for:  693 Counter({2: 1, 3: 0}) 0b11010\n",
      "Works for:  1449 Counter({2: 1, 3: 0}) 0b100001010\n",
      "Works for:  30 Counter({2: 1, 3: 0}) 0b101\n",
      "Works for:  66 Counter({2: 1, 3: 0}) 0b10001\n",
      "Works for:  90 Counter({2: 1, 3: 0}) 0b111\n",
      "Works for:  210 Counter({2: 1, 3: 0}) 0b1101\n",
      "Works for:  495 Counter({2: 1, 3: 0}) 0b10110\n",
      "Works for:  630 Counter({2: 1, 3: 0}) 0b1111\n",
      "Works for:  1386 Counter({2: 1, 3: 0}) 0b11011\n",
      "Works for:  3465 Counter({2: 1, 3: 0}) 0b11110\n",
      "Works for:  7245 Counter({2: 1, 3: 0}) 0b100001110\n",
      "Works for:  15939 Counter({2: 1, 3: 0}) 0b100011010\n",
      "Works for:  102 Counter({2: 1, 3: 0}) 0b1000001\n",
      "Works for:  255 Counter({2: 1, 3: 0}) 0b1000100\n",
      "Works for:  330 Counter({2: 1, 3: 0}) 0b10101\n",
      "Works for:  765 Counter({2: 1, 3: 0}) 0b1000110\n",
      "Works for:  990 Counter({2: 1, 3: 0}) 0b10111\n",
      "Works for:  2310 Counter({2: 1, 3: 0}) 0b11101\n",
      "Works for:  5355 Counter({2: 1, 3: 0}) 0b1001110\n",
      "Works for:  6930 Counter({2: 1, 3: 0}) 0b11111\n",
      "Works for:  14490 Counter({2: 1, 3: 0}) 0b100001111\n",
      "Works for:  31878 Counter({2: 1, 3: 0}) 0b100011011\n",
      "Works for:  79695 Counter({2: 1, 3: 0}) 0b100011110\n",
      "Works for:  510 Counter({2: 1, 3: 0}) 0b1000101\n",
      "Works for:  1122 Counter({2: 1, 3: 0}) 0b1010001\n",
      "Works for:  1530 Counter({2: 1, 3: 0}) 0b1000111\n",
      "Works for:  3570 Counter({2: 1, 3: 0}) 0b1001101\n",
      "Works for:  8415 Counter({2: 1, 3: 0}) 0b1010110\n",
      "Works for:  10710 Counter({2: 1, 3: 0}) 0b1001111\n",
      "Works for:  23562 Counter({2: 1, 3: 0}) 0b1011011\n",
      "Works for:  58905 Counter({2: 1, 3: 0}) 0b1011110\n",
      "Works for:  123165 Counter({2: 1, 3: 0}) 0b101001110\n",
      "Works for:  159390 Counter({2: 1, 3: 0}) 0b100011111\n",
      "Works for:  95 Counter({2: 1, 5: 0}) 0b10000000\n",
      "Works for:  285 Counter({2: 1, 5: 0}) 0b10000010\n",
      "Works for:  665 Counter({2: 1, 5: 0}) 0b10001000\n",
      "Works for:  1995 Counter({2: 1, 5: 0}) 0b10001010\n",
      "Works for:  190 Counter({2: 1, 3: 0, 5: 0}) 0b10000001\n",
      "Works for:  475 Counter({2: 1, 3: 0, 5: 0}) 0b10000100\n",
      "Works for:  570 Counter({2: 1, 3: 0, 5: 0}) 0b10000011\n",
      "Works for:  1425 Counter({2: 1, 3: 0, 5: 0}) 0b10000110\n",
      "Works for:  3325 Counter({2: 1, 3: 0, 5: 0}) 0b10001100\n",
      "Works for:  3990 Counter({2: 1, 3: 0, 5: 0}) 0b10001011\n",
      "Works for:  9975 Counter({2: 1, 3: 0, 5: 0}) 0b10001110\n",
      "Works for:  21945 Counter({2: 1, 3: 0, 5: 0}) 0b10011010\n",
      "Works for:  45885 Counter({2: 1, 3: 0, 5: 0}) 0b110001010\n",
      "Works for:  950 Counter({2: 1, 3: 0, 5: 0}) 0b10000101\n",
      "Works for:  2090 Counter({2: 1, 3: 0, 5: 0}) 0b10010001\n",
      "Works for:  2850 Counter({2: 1, 3: 0, 5: 0}) 0b10000111\n",
      "Works for:  6650 Counter({2: 1, 3: 0, 5: 0}) 0b10001101\n",
      "Works for:  15675 Counter({2: 1, 3: 0, 5: 0}) 0b10010110\n",
      "Works for:  19950 Counter({2: 1, 3: 0, 5: 0}) 0b10001111\n",
      "Works for:  43890 Counter({2: 1, 3: 0, 5: 0}) 0b10011011\n",
      "Works for:  109725 Counter({2: 1, 3: 0, 5: 0}) 0b10011110\n",
      "Works for:  229425 Counter({2: 1, 3: 0, 5: 0}) 0b110001110\n",
      "Works for:  504735 Counter({2: 1, 3: 0, 5: 0}) 0b110011010\n",
      "Works for:  3230 Counter({2: 1, 3: 0, 5: 0}) 0b11000001\n",
      "Works for:  8075 Counter({2: 1, 3: 0, 5: 0}) 0b11000100\n",
      "Works for:  10450 Counter({2: 1, 3: 0, 5: 0}) 0b10010101\n",
      "Works for:  24225 Counter({2: 1, 3: 0, 5: 0}) 0b11000110\n",
      "Works for:  31350 Counter({2: 1, 3: 0, 5: 0}) 0b10010111\n",
      "Works for:  73150 Counter({2: 1, 3: 0, 5: 0}) 0b10011101\n",
      "Works for:  169575 Counter({2: 1, 3: 0, 5: 0}) 0b11001110\n",
      "Works for:  219450 Counter({2: 1, 3: 0, 5: 0}) 0b10011111\n",
      "Works for:  458850 Counter({2: 1, 3: 0, 5: 0}) 0b110001111\n",
      "Works for:  1009470 Counter({2: 1, 3: 0, 5: 0}) 0b110011011\n",
      "Works for:  2523675 Counter({2: 1, 3: 0, 5: 0}) 0b110011110\n",
      "Works for:  16150 Counter({2: 1, 3: 0, 5: 0}) 0b11000101\n",
      "Works for:  35530 Counter({2: 1, 3: 0, 5: 0}) 0b11010001\n",
      "Works for:  48450 Counter({2: 1, 3: 0, 5: 0}) 0b11000111\n",
      "Works for:  113050 Counter({2: 1, 3: 0, 5: 0}) 0b11001101\n",
      "Works for:  266475 Counter({2: 1, 3: 0, 5: 0}) 0b11010110\n",
      "Works for:  339150 Counter({2: 1, 3: 0, 5: 0}) 0b11001111\n",
      "Works for:  746130 Counter({2: 1, 3: 0, 5: 0}) 0b11011011\n",
      "Works for:  1865325 Counter({2: 1, 3: 0, 5: 0}) 0b11011110\n",
      "Works for:  3900225 Counter({2: 1, 3: 0, 5: 0}) 0b111001110\n",
      "Works for:  5047350 Counter({2: 1, 3: 0, 5: 0}) 0b110011111\n",
      "Works for:  91 Counter({2: 1, 7: 0}) 0b100000\n",
      "Works for:  273 Counter({2: 1, 7: 0}) 0b100010\n",
      "Works for:  637 Counter({2: 1, 7: 0}) 0b101000\n",
      "Works for:  1911 Counter({2: 1, 7: 0}) 0b101010\n",
      "Works for:  182 Counter({2: 1, 3: 0, 7: 0}) 0b100001\n",
      "Works for:  455 Counter({2: 1, 3: 0, 7: 0}) 0b100100\n",
      "Works for:  546 Counter({2: 1, 3: 0, 7: 0}) 0b100011\n",
      "Works for:  1365 Counter({2: 1, 3: 0, 7: 0}) 0b100110\n",
      "Works for:  3185 Counter({2: 1, 3: 0, 7: 0}) 0b101100\n",
      "Works for:  3822 Counter({2: 1, 3: 0, 7: 0}) 0b101011\n",
      "Works for:  9555 Counter({2: 1, 3: 0, 7: 0}) 0b101110\n",
      "Works for:  21021 Counter({2: 1, 3: 0, 7: 0}) 0b111010\n",
      "Works for:  43953 Counter({2: 1, 3: 0, 7: 0}) 0b100101010\n",
      "Works for:  910 Counter({2: 1, 3: 0, 7: 0}) 0b100101\n",
      "Works for:  2002 Counter({2: 1, 3: 0, 7: 0}) 0b110001\n",
      "Works for:  2730 Counter({2: 1, 3: 0, 7: 0}) 0b100111\n",
      "Works for:  6370 Counter({2: 1, 3: 0, 7: 0}) 0b101101\n",
      "Works for:  15015 Counter({2: 1, 3: 0, 7: 0}) 0b110110\n",
      "Works for:  19110 Counter({2: 1, 3: 0, 7: 0}) 0b101111\n",
      "Works for:  42042 Counter({2: 1, 3: 0, 7: 0}) 0b111011\n",
      "Works for:  105105 Counter({2: 1, 3: 0, 7: 0}) 0b111110\n",
      "Works for:  219765 Counter({2: 1, 3: 0, 7: 0}) 0b100101110\n",
      "Works for:  483483 Counter({2: 1, 3: 0, 7: 0}) 0b100111010\n",
      "Works for:  3094 Counter({2: 1, 3: 0, 7: 0}) 0b1100001\n",
      "Works for:  7735 Counter({2: 1, 3: 0, 7: 0}) 0b1100100\n",
      "Works for:  10010 Counter({2: 1, 3: 0, 7: 0}) 0b110101\n",
      "Works for:  23205 Counter({2: 1, 3: 0, 7: 0}) 0b1100110\n",
      "Works for:  30030 Counter({2: 1, 3: 0, 7: 0}) 0b110111\n",
      "Works for:  70070 Counter({2: 1, 3: 0, 7: 0}) 0b111101\n",
      "Works for:  162435 Counter({2: 1, 3: 0, 7: 0}) 0b1101110\n",
      "Works for:  210210 Counter({2: 1, 3: 0, 7: 0}) 0b111111\n",
      "Works for:  439530 Counter({2: 1, 3: 0, 7: 0}) 0b100101111\n",
      "Works for:  966966 Counter({2: 1, 3: 0, 7: 0}) 0b100111011\n",
      "Works for:  2417415 Counter({2: 1, 3: 0, 7: 0}) 0b100111110\n",
      "Works for:  15470 Counter({2: 1, 3: 0, 7: 0}) 0b1100101\n",
      "Works for:  34034 Counter({2: 1, 3: 0, 7: 0}) 0b1110001\n",
      "Works for:  46410 Counter({2: 1, 3: 0, 7: 0}) 0b1100111\n",
      "Works for:  108290 Counter({2: 1, 3: 0, 7: 0}) 0b1101101\n",
      "Works for:  255255 Counter({2: 1, 3: 0, 7: 0}) 0b1110110\n",
      "Works for:  324870 Counter({2: 1, 3: 0, 7: 0}) 0b1101111\n",
      "Works for:  714714 Counter({2: 1, 3: 0, 7: 0}) 0b1111011\n",
      "Works for:  1786785 Counter({2: 1, 3: 0, 7: 0}) 0b1111110\n",
      "Works for:  3736005 Counter({2: 1, 3: 0, 7: 0}) 0b101101110\n",
      "Works for:  4834830 Counter({2: 1, 3: 0, 7: 0}) 0b100111111\n",
      "Works for:  1729 Counter({2: 1, 5: 0, 7: 0}) 0b10100000\n",
      "Works for:  5187 Counter({2: 1, 5: 0, 7: 0}) 0b10100010\n",
      "Works for:  12103 Counter({2: 1, 5: 0, 7: 0}) 0b10101000\n",
      "Works for:  36309 Counter({2: 1, 5: 0, 7: 0}) 0b10101010\n",
      "Works for:  3458 Counter({2: 1, 3: 0, 5: 0, 7: 0}) 0b10100001\n",
      "Works for:  8645 Counter({2: 1, 3: 0, 5: 0, 7: 0}) 0b10100100\n",
      "Works for:  10374 Counter({2: 1, 3: 0, 5: 0, 7: 0}) 0b10100011\n",
      "Works for:  25935 Counter({2: 1, 3: 0, 5: 0, 7: 0}) 0b10100110\n",
      "Works for:  60515 Counter({2: 1, 3: 0, 5: 0, 7: 0}) 0b10101100\n",
      "Works for:  72618 Counter({2: 1, 3: 0, 5: 0, 7: 0}) 0b10101011\n",
      "Works for:  181545 Counter({2: 1, 3: 0, 5: 0, 7: 0}) 0b10101110\n",
      "Works for:  399399 Counter({2: 1, 3: 0, 5: 0, 7: 0}) 0b10111010\n",
      "Works for:  835107 Counter({2: 1, 3: 0, 5: 0, 7: 0}) 0b110101010\n",
      "Works for:  17290 Counter({2: 1, 3: 0, 5: 0, 7: 0}) 0b10100101\n",
      "Works for:  38038 Counter({2: 1, 3: 0, 5: 0, 7: 0}) 0b10110001\n",
      "Works for:  51870 Counter({2: 1, 3: 0, 5: 0, 7: 0}) 0b10100111\n",
      "Works for:  121030 Counter({2: 1, 3: 0, 5: 0, 7: 0}) 0b10101101\n",
      "Works for:  285285 Counter({2: 1, 3: 0, 5: 0, 7: 0}) 0b10110110\n",
      "Works for:  363090 Counter({2: 1, 3: 0, 5: 0, 7: 0}) 0b10101111\n",
      "Works for:  798798 Counter({2: 1, 3: 0, 5: 0, 7: 0}) 0b10111011\n",
      "Works for:  1996995 Counter({2: 1, 3: 0, 5: 0, 7: 0}) 0b10111110\n",
      "Works for:  4175535 Counter({2: 1, 3: 0, 5: 0, 7: 0}) 0b110101110\n",
      "Works for:  9186177 Counter({2: 1, 3: 0, 5: 0, 7: 0}) 0b110111010\n",
      "Works for:  58786 Counter({2: 1, 3: 0, 5: 0, 7: 0}) 0b11100001\n",
      "Works for:  146965 Counter({2: 1, 3: 0, 5: 0, 7: 0}) 0b11100100\n",
      "Works for:  190190 Counter({2: 1, 3: 0, 5: 0, 7: 0}) 0b10110101\n",
      "Works for:  440895 Counter({2: 1, 3: 0, 5: 0, 7: 0}) 0b11100110\n",
      "Works for:  570570 Counter({2: 1, 3: 0, 5: 0, 7: 0}) 0b10110111\n",
      "Works for:  1331330 Counter({2: 1, 3: 0, 5: 0, 7: 0}) 0b10111101\n",
      "Works for:  3086265 Counter({2: 1, 3: 0, 5: 0, 7: 0}) 0b11101110\n",
      "Works for:  3993990 Counter({2: 1, 3: 0, 5: 0, 7: 0}) 0b10111111\n",
      "Works for:  8351070 Counter({2: 1, 3: 0, 5: 0, 7: 0}) 0b110101111\n",
      "Works for:  18372354 Counter({2: 1, 3: 0, 5: 0, 7: 0}) 0b110111011\n",
      "Works for:  45930885 Counter({2: 1, 3: 0, 5: 0, 7: 0}) 0b110111110\n",
      "Works for:  293930 Counter({2: 1, 3: 0, 5: 0, 7: 0}) 0b11100101\n",
      "Works for:  646646 Counter({2: 1, 3: 0, 5: 0, 7: 0}) 0b11110001\n",
      "Works for:  881790 Counter({2: 1, 3: 0, 5: 0, 7: 0}) 0b11100111\n",
      "Works for:  2057510 Counter({2: 1, 3: 0, 5: 0, 7: 0}) 0b11101101\n",
      "Works for:  4849845 Counter({2: 1, 3: 0, 5: 0, 7: 0}) 0b11110110\n",
      "Works for:  6172530 Counter({2: 1, 3: 0, 5: 0, 7: 0}) 0b11101111\n",
      "Works for:  13579566 Counter({2: 1, 3: 0, 5: 0, 7: 0}) 0b11111011\n",
      "Works for:  33948915 Counter({2: 1, 3: 0, 5: 0, 7: 0}) 0b11111110\n",
      "Works for:  70984095 Counter({2: 1, 3: 0, 5: 0, 7: 0}) 0b111101110\n",
      "Works for:  91861770 Counter({2: 1, 3: 0, 5: 0, 7: 0}) 0b110111111\n"
     ]
    },
    {
     "ename": "KeyboardInterrupt",
     "evalue": "",
     "output_type": "error",
     "traceback": [
      "\u001b[0;31m---------------------------------------------------------------------------\u001b[0m",
      "\u001b[0;31mKeyboardInterrupt\u001b[0m                         Traceback (most recent call last)",
      "Cell \u001b[0;32mIn[71], line 14\u001b[0m\n\u001b[1;32m     12\u001b[0m \u001b[38;5;28;01mfor\u001b[39;00m q \u001b[38;5;129;01min\u001b[39;00m \u001b[38;5;28mrange\u001b[39m(\u001b[38;5;28mlen\u001b[39m(primes)):\n\u001b[1;32m     13\u001b[0m     cp \u001b[38;5;241m=\u001b[39m primes[q]\n\u001b[0;32m---> 14\u001b[0m     \u001b[38;5;28;01mif\u001b[39;00m \u001b[43m(\u001b[49m\u001b[43mi\u001b[49m\u001b[43m \u001b[49m\u001b[38;5;241;43m>>\u001b[39;49m\u001b[43m \u001b[49m\u001b[43mq\u001b[49m\u001b[43m)\u001b[49m\u001b[43m \u001b[49m\u001b[38;5;241;43m&\u001b[39;49m\u001b[43m \u001b[49m\u001b[38;5;241;43m1\u001b[39;49m:\n\u001b[1;32m     15\u001b[0m         cm \u001b[38;5;241m*\u001b[39m\u001b[38;5;241m=\u001b[39m cp\n\u001b[1;32m     16\u001b[0m         \u001b[38;5;28;01mfor\u001b[39;00m el \u001b[38;5;129;01min\u001b[39;00m ppfs[cp]:\n",
      "\u001b[0;31mKeyboardInterrupt\u001b[0m: "
     ]
    }
   ],
   "source": [
    "from tqdm.notebook import tqdm\n",
    "\n",
    "sa = set()\n",
    "for e, pl in tqdm(inset):\n",
    "    base = Counter(pfs(e))\n",
    "    for i in range(0, 2**len(primes)):\n",
    "        tmp = base.copy()\n",
    "        cm = 1\n",
    "        for q in range(len(primes)):\n",
    "            cp = primes[q]\n",
    "            if (i >> q) & 1:\n",
    "                cm *= cp\n",
    "                for el in ppfs[cp]:\n",
    "                    tmp[el] -= ppfs[cp][el]\n",
    "                    \n",
    "        w = True\n",
    "        for e in tmp:\n",
    "            if e == 2:\n",
    "                if tmp[e] != 1:\n",
    "                    w = False\n",
    "                    break\n",
    "            else:\n",
    "                if tmp[e] != 0:\n",
    "                    w = False\n",
    "                    break\n",
    "        if w:\n",
    "            sa.add(e * cm)\n",
    "            print(\"Works for: \", e * cm, tmp, bin(i))\n",
    "            break"
   ]
  },
  {
   "cell_type": "code",
   "execution_count": 74,
   "metadata": {},
   "outputs": [],
   "source": [
    "def prod(n):\n",
    "    t = 1\n",
    "    for e in n:\n",
    "        t *= e\n",
    "    return t"
   ]
  },
  {
   "cell_type": "code",
   "execution_count": 83,
   "metadata": {},
   "outputs": [],
   "source": [
    "def sigma(n):\n",
    "    return divisor_sum(n)"
   ]
  },
  {
   "cell_type": "code",
   "execution_count": 84,
   "metadata": {},
   "outputs": [],
   "source": [
    "def antisigma(n):\n",
    "    t = Fraction(0)\n",
    "    for d in divisors(n):\n",
    "        t += Fraction(d, n)\n",
    "    return t"
   ]
  },
  {
   "cell_type": "code",
   "execution_count": null,
   "metadata": {},
   "outputs": [],
   "source": []
  },
  {
   "cell_type": "code",
   "execution_count": 88,
   "metadata": {},
   "outputs": [
    {
     "name": "stdout",
     "output_type": "stream",
     "text": [
      "30 72 12/5\n"
     ]
    }
   ],
   "source": [
    "k = 30\n",
    "print(k, sigma(k), antisigma(k))"
   ]
  },
  {
   "cell_type": "code",
   "execution_count": 82,
   "metadata": {},
   "outputs": [
    {
     "data": {
      "text/plain": [
       "Fraction(35, 12)"
      ]
     },
     "execution_count": 82,
     "metadata": {},
     "output_type": "execute_result"
    }
   ],
   "source": [
    "abund(prod((2, 2, 2, 2, 2, 3, 3, 3)))"
   ]
  },
  {
   "cell_type": "code",
   "execution_count": 77,
   "metadata": {},
   "outputs": [
    {
     "data": {
      "text/plain": [
       "Fraction(48545, 16384)"
      ]
     },
     "execution_count": 77,
     "metadata": {},
     "output_type": "execute_result"
    }
   ],
   "source": [
    "abund(prod((2, 2, 2, 2, 2, 2, 2, 2, 2, 2, 2, 2, 2, 2, 2, 2, 2, 3, 3, 3)))"
   ]
  },
  {
   "cell_type": "code",
   "execution_count": 75,
   "metadata": {},
   "outputs": [
    {
     "data": {
      "text/plain": [
       "Fraction(73728, 48545)"
      ]
     },
     "execution_count": 75,
     "metadata": {},
     "output_type": "execute_result"
    }
   ],
   "source": [
    "abund(prod((5, 7, 19, 19, 37, 73, 127)))"
   ]
  },
  {
   "cell_type": "code",
   "execution_count": 79,
   "metadata": {},
   "outputs": [
    {
     "data": {
      "text/plain": [
       "Fraction(9, 2)"
      ]
     },
     "execution_count": 79,
     "metadata": {},
     "output_type": "execute_result"
    }
   ],
   "source": [
    "Fraction(73728, 48545) * Fraction(48545, 16384)"
   ]
  },
  {
   "cell_type": "code",
   "execution_count": 78,
   "metadata": {},
   "outputs": [
    {
     "data": {
      "text/plain": [
       "15338300494970880"
      ]
     },
     "execution_count": 78,
     "metadata": {},
     "output_type": "execute_result"
    }
   ],
   "source": [
    "15338300494970880"
   ]
  },
  {
   "cell_type": "code",
   "execution_count": 60,
   "metadata": {},
   "outputs": [
    {
     "name": "stdout",
     "output_type": "stream",
     "text": [
      "127 127\n",
      "73 9271\n",
      "37 343027\n",
      "19 6517513\n",
      "19 123832747\n",
      "7 866829229\n",
      "5 4334146145\n",
      "3 13002438435\n",
      "3 39007315305\n",
      "3 117021945915\n"
     ]
    },
    {
     "data": {
      "text/plain": [
       "117021945915"
      ]
     },
     "execution_count": 60,
     "metadata": {},
     "output_type": "execute_result"
    }
   ],
   "source": [
    "t = 1\n",
    "for e in reversed([3, 3, 3, 5, 7, 19, 19, 37, 73, 127]):\n",
    "    t *= e\n",
    "    print(e, t)\n",
    "t"
   ]
  },
  {
   "cell_type": "code",
   "execution_count": 50,
   "metadata": {},
   "outputs": [
    {
     "data": {
      "text/plain": [
       "16772742100580482"
      ]
     },
     "execution_count": 50,
     "metadata": {},
     "output_type": "execute_result"
    }
   ],
   "source": [
    "N = 10**18\n",
    "sum([e for e in gd if e <= N])"
   ]
  },
  {
   "cell_type": "code",
   "execution_count": null,
   "metadata": {},
   "outputs": [
    {
     "name": "stdout",
     "output_type": "stream",
     "text": [
      "2 [2]\n",
      "24 [2, 2, 2, 3]\n",
      "4320 [2, 2, 2, 2, 2, 3, 3, 3, 5]\n",
      "4680 [2, 2, 2, 3, 3, 5, 13]\n",
      "26208 [2, 2, 2, 2, 2, 3, 3, 7, 13]\n"
     ]
    }
   ],
   "source": [
    "for i in gd:\n",
    "    print(i, pfs(i))"
   ]
  },
  {
   "cell_type": "code",
   "execution_count": null,
   "metadata": {},
   "outputs": [],
   "source": []
  },
  {
   "cell_type": "code",
   "execution_count": 46,
   "metadata": {},
   "outputs": [
    {
     "name": "stdout",
     "output_type": "stream",
     "text": [
      "13 13\n",
      "7 91\n",
      "3 273\n",
      "3 819\n",
      "2 1638\n",
      "2 3276\n",
      "2 6552\n",
      "2 13104\n",
      "2 26208\n"
     ]
    },
    {
     "data": {
      "text/plain": [
       "26208"
      ]
     },
     "execution_count": 46,
     "metadata": {},
     "output_type": "execute_result"
    }
   ],
   "source": [
    "t = 1\n",
    "for e in reversed([2, 2, 2, 2, 2, 3, 3, 7, 13]):\n",
    "    t *= e\n",
    "    print(e, t)\n",
    "t"
   ]
  },
  {
   "cell_type": "code",
   "execution_count": 45,
   "metadata": {},
   "outputs": [
    {
     "name": "stdout",
     "output_type": "stream",
     "text": [
      "13 13\n",
      "5 65\n",
      "3 195\n",
      "3 585\n",
      "2 1170\n",
      "2 2340\n",
      "2 4680\n"
     ]
    },
    {
     "data": {
      "text/plain": [
       "4680"
      ]
     },
     "execution_count": 45,
     "metadata": {},
     "output_type": "execute_result"
    }
   ],
   "source": [
    "t = 1\n",
    "for e in reversed([2, 2, 2, 3, 3, 5, 13]):\n",
    "    t *= e\n",
    "    print(e, t)\n",
    "t"
   ]
  },
  {
   "cell_type": "code",
   "execution_count": null,
   "metadata": {},
   "outputs": [],
   "source": []
  },
  {
   "cell_type": "code",
   "execution_count": 29,
   "metadata": {},
   "outputs": [],
   "source": [
    "from random import randint\n",
    "def miller_rabin(n, k=5):\n",
    "    if n <= 1:\n",
    "        return False\n",
    "    if n == 2 or n == 3:\n",
    "        return True\n",
    "    d = n - 1\n",
    "    s = 0\n",
    "    while d % 2 == 0:\n",
    "        d //= 2\n",
    "        s += 1\n",
    "    \n",
    "    y = 0\n",
    "    for _ in range(k):\n",
    "        a = randint(2, n - 2)\n",
    "        x = pow(a, d, n)\n",
    "        for _ in range(s):\n",
    "            y = pow(x, 2, n)\n",
    "            if y == 1 and x != 1 and x != n - 1:\n",
    "                return False\n",
    "            x = y\n",
    "        if y != 1:\n",
    "            return False\n",
    "    return True"
   ]
  },
  {
   "cell_type": "code",
   "execution_count": 33,
   "metadata": {},
   "outputs": [
    {
     "name": "stdout",
     "output_type": "stream",
     "text": [
      "1\n",
      "6\n",
      "120\n",
      "2016\n",
      "8386560\n",
      "2147450880\n",
      "34359607296\n",
      "576460751766552576\n"
     ]
    },
    {
     "data": {
      "text/plain": [
       "576460788281999455"
      ]
     },
     "execution_count": 33,
     "metadata": {},
     "output_type": "execute_result"
    }
   ],
   "source": [
    "num = 1\n",
    "p = 2\n",
    "N = 10**18\n",
    "T = 0\n",
    "for i in range(100):\n",
    "    K = num * (p - 1)\n",
    "    if K > N:\n",
    "        break\n",
    "    num *= 2\n",
    "    p *= 2\n",
    "    to_check = p - 1\n",
    "    if miller_rabin(to_check):\n",
    "        print(K)\n",
    "        T += K\n",
    "T\n"
   ]
  },
  {
   "cell_type": "code",
   "execution_count": 91,
   "metadata": {},
   "outputs": [],
   "source": [
    "def sieve(n):\n",
    "    s = [1 for _ in range(n + 1)]\n",
    "    primes = []\n",
    "    for q in range(2, n + 1):\n",
    "        if s[q]:\n",
    "            primes.append(q)\n",
    "            for i in range(2 * q, n + 1, q):\n",
    "                s[i] = 0\n",
    "    return primes"
   ]
  },
  {
   "cell_type": "code",
   "execution_count": 95,
   "metadata": {},
   "outputs": [
    {
     "data": {
      "text/plain": [
       "62"
      ]
     },
     "execution_count": 95,
     "metadata": {},
     "output_type": "execute_result"
    }
   ],
   "source": [
    "primes = sieve(300)\n",
    "len(primes)"
   ]
  },
  {
   "cell_type": "code",
   "execution_count": null,
   "metadata": {},
   "outputs": [],
   "source": []
  },
  {
   "cell_type": "code",
   "execution_count": 2,
   "metadata": {},
   "outputs": [],
   "source": [
    "from fractions import Fraction"
   ]
  },
  {
   "cell_type": "code",
   "execution_count": null,
   "metadata": {},
   "outputs": [
    {
     "data": {
      "text/plain": [
       "Fraction(15, 8)"
      ]
     },
     "execution_count": 7,
     "metadata": {},
     "output_type": "execute_result"
    }
   ],
   "source": [
    "Fraction(2**4 - 1, 2**3 * (2 - 1))"
   ]
  },
  {
   "cell_type": "code",
   "execution_count": 8,
   "metadata": {},
   "outputs": [
    {
     "data": {
      "text/plain": [
       "Fraction(4, 3)"
      ]
     },
     "execution_count": 8,
     "metadata": {},
     "output_type": "execute_result"
    }
   ],
   "source": [
    "Fraction(3**2 - 1, 3**1 * (3 - 1))"
   ]
  },
  {
   "cell_type": "code",
   "execution_count": 10,
   "metadata": {},
   "outputs": [
    {
     "data": {
      "text/plain": [
       "Fraction(5, 2)"
      ]
     },
     "execution_count": 10,
     "metadata": {},
     "output_type": "execute_result"
    }
   ],
   "source": [
    "Fraction(2**4 - 1, 2**3 * (2 - 1)) * Fraction(3**2 - 1, 3**1 * (3 - 1))"
   ]
  },
  {
   "cell_type": "code",
   "execution_count": null,
   "metadata": {},
   "outputs": [],
   "source": []
  },
  {
   "cell_type": "code",
   "execution_count": 97,
   "metadata": {},
   "outputs": [
    {
     "name": "stdout",
     "output_type": "stream",
     "text": [
      "2 2 [2]\n",
      "24 3 [2, 2, 2, 3]\n",
      "4320 5 [2, 2, 2, 2, 2, 3, 3, 3, 5]\n",
      "4680 13 [2, 2, 2, 3, 3, 5, 13]\n",
      "26208 13 [2, 2, 2, 2, 2, 3, 3, 7, 13]\n",
      "8910720 17 [2, 2, 2, 2, 2, 2, 2, 3, 3, 5, 7, 13, 17]\n",
      "17428320 19 [2, 2, 2, 2, 2, 3, 3, 5, 7, 7, 13, 19]\n",
      "20427264 31 [2, 2, 2, 2, 2, 2, 2, 2, 2, 3, 3, 11, 13, 31]\n",
      "91963648 73 [2, 2, 2, 2, 2, 2, 2, 2, 7, 19, 37, 73]\n",
      "197064960 73 [2, 2, 2, 2, 2, 2, 2, 2, 3, 5, 19, 37, 73]\n",
      "8583644160 89 [2, 2, 2, 2, 2, 2, 2, 2, 2, 2, 3, 3, 5, 7, 13, 23, 89]\n",
      "10200236032 151 [2, 2, 2, 2, 2, 2, 2, 2, 2, 2, 2, 2, 2, 2, 7, 19, 31, 151]\n",
      "21857648640 151 [2, 2, 2, 2, 2, 2, 2, 2, 2, 2, 2, 2, 2, 2, 3, 5, 19, 31, 151]\n",
      "57575890944 127 [2, 2, 2, 2, 2, 2, 2, 2, 2, 2, 2, 2, 2, 3, 3, 11, 13, 43, 127]\n",
      "57629644800 31 [2, 2, 2, 2, 2, 2, 2, 2, 2, 2, 2, 3, 5, 5, 7, 7, 13, 19, 31]\n",
      "206166804480 61 [2, 2, 2, 2, 2, 2, 2, 2, 2, 2, 2, 3, 3, 5, 7, 13, 13, 31, 61]\n",
      "17116004505600 31 [2, 2, 2, 2, 2, 2, 2, 2, 2, 2, 2, 3, 3, 3, 3, 5, 5, 7, 7, 11, 13, 19, 31]\n",
      "1416963251404800 257 [2, 2, 2, 2, 2, 2, 2, 2, 2, 2, 2, 2, 2, 2, 2, 3, 3, 3, 5, 5, 11, 17, 31, 43, 257]\n",
      "15338300494970880 127 [2, 2, 2, 2, 2, 2, 2, 2, 2, 2, 2, 2, 2, 2, 2, 2, 2, 3, 3, 3, 5, 7, 19, 19, 37, 73, 127]\n"
     ]
    }
   ],
   "source": [
    "for e in gd:\n",
    "    print(e, max(pfs(e)), pfs(e))"
   ]
  },
  {
   "cell_type": "code",
   "execution_count": null,
   "metadata": {},
   "outputs": [],
   "source": []
  },
  {
   "cell_type": "code",
   "execution_count": null,
   "metadata": {},
   "outputs": [],
   "source": []
  },
  {
   "cell_type": "code",
   "execution_count": null,
   "metadata": {},
   "outputs": [],
   "source": []
  },
  {
   "cell_type": "code",
   "execution_count": null,
   "metadata": {},
   "outputs": [
    {
     "name": "stdout",
     "output_type": "stream",
     "text": [
      "1\n",
      "2\n",
      "3\n",
      "4\n",
      "5\n",
      "8\n",
      "2 1\n",
      "3 60\n",
      "5 438\n",
      "7 1640\n",
      "11 6024\n",
      "13 21433\n",
      "17 74369\n",
      "19 247252\n"
     ]
    },
    {
     "name": "stderr",
     "output_type": "stream",
     "text": [
      "100%|██████████| 3505051/3505051 [00:28<00:00, 123990.29it/s]\n",
      "  1%|          | 8718/780993 [00:00<00:17, 43663.71it/s]"
     ]
    },
    {
     "name": "stdout",
     "output_type": "stream",
     "text": [
      "FOUND 3 2\n",
      "FOUND 5 24\n",
      "FOUND 7 4320\n"
     ]
    },
    {
     "name": "stderr",
     "output_type": "stream",
     "text": [
      "  4%|▍         | 30458/780993 [00:00<00:17, 43203.89it/s]"
     ]
    },
    {
     "name": "stdout",
     "output_type": "stream",
     "text": [
      "FOUND 7 4680\n",
      "FOUND 7 26208\n",
      "FOUND 9 8583644160\n",
      "FOUND 7 20427264\n",
      "FOUND 7 57575890944\n"
     ]
    },
    {
     "name": "stderr",
     "output_type": "stream",
     "text": [
      "  6%|▌         | 47453/780993 [00:01<00:17, 40778.80it/s]"
     ]
    },
    {
     "name": "stdout",
     "output_type": "stream",
     "text": [
      "FOUND 9 206166804480\n"
     ]
    },
    {
     "name": "stderr",
     "output_type": "stream",
     "text": [
      " 11%|█▏        | 88751/780993 [00:02<00:16, 41010.27it/s]"
     ]
    },
    {
     "name": "stdout",
     "output_type": "stream",
     "text": [
      "FOUND 9 1416963251404800\n",
      "FOUND 9 6275163455171297280\n"
     ]
    },
    {
     "name": "stderr",
     "output_type": "stream",
     "text": [
      " 13%|█▎        | 101534/780993 [00:02<00:16, 42088.41it/s]"
     ]
    },
    {
     "name": "stdout",
     "output_type": "stream",
     "text": [
      "FOUND 9 8910720\n"
     ]
    },
    {
     "name": "stderr",
     "output_type": "stream",
     "text": [
      " 33%|███▎      | 256403/780993 [00:06<00:12, 42438.98it/s]"
     ]
    },
    {
     "name": "stdout",
     "output_type": "stream",
     "text": [
      "FOUND 7 197064960\n",
      "FOUND 7 21857648640\n",
      "FOUND 5 91963648\n",
      "FOUND 5 10200236032\n"
     ]
    },
    {
     "name": "stderr",
     "output_type": "stream",
     "text": [
      " 36%|███▌      | 278469/780993 [00:06<00:11, 43629.91it/s]"
     ]
    },
    {
     "name": "stdout",
     "output_type": "stream",
     "text": [
      "FOUND 9 17428320\n",
      "FOUND 9 57629644800\n",
      "FOUND 11 17116004505600\n"
     ]
    },
    {
     "name": "stderr",
     "output_type": "stream",
     "text": [
      " 42%|████▏     | 330848/780993 [00:08<00:10, 42787.36it/s]"
     ]
    },
    {
     "name": "stdout",
     "output_type": "stream",
     "text": [
      "FOUND 11 6219051710415667200\n",
      "FOUND 11 14031414189615513600\n"
     ]
    },
    {
     "name": "stderr",
     "output_type": "stream",
     "text": [
      " 44%|████▍     | 344085/780993 [00:08<00:09, 43706.42it/s]"
     ]
    },
    {
     "name": "stdout",
     "output_type": "stream",
     "text": [
      "FOUND 11 835095457414213632000\n"
     ]
    },
    {
     "name": "stderr",
     "output_type": "stream",
     "text": [
      " 60%|█████▉    | 466238/780993 [00:11<00:07, 42007.12it/s]"
     ]
    },
    {
     "name": "stdout",
     "output_type": "stream",
     "text": [
      "FOUND 9 15338300494970880\n"
     ]
    },
    {
     "name": "stderr",
     "output_type": "stream",
     "text": [
      "100%|██████████| 780993/780993 [00:19<00:00, 40597.40it/s]"
     ]
    },
    {
     "name": "stdout",
     "output_type": "stream",
     "text": [
      "16772742100580482\n"
     ]
    },
    {
     "name": "stderr",
     "output_type": "stream",
     "text": [
      "\n"
     ]
    }
   ],
   "source": [
    "from utils.sieve import sieve\n",
    "from itertools import combinations\n",
    "from tqdm import tqdm\n",
    "from fractions import Fraction\n",
    "K = 20\n",
    "rprimes = sieve(300)\n",
    "for e in sieve(K):\n",
    "    rprimes.remove(e)\n",
    "valid_psets = []\n",
    "for i in range(1, 5 + 1):\n",
    "    print(i)\n",
    "    valid_psets += list(combinations(rprimes, i))\n",
    "len(valid_psets)\n",
    "valid_psets.append(tuple())\n",
    "primes = sieve(K)\n",
    "print(len(primes))\n",
    "\n",
    "inset = [(1, 1)]\n",
    "N = 10**18\n",
    "for p in primes:\n",
    "    print(p, len(inset))\n",
    "    k = 0\n",
    "    newset = []\n",
    "    modifier = 1\n",
    "    while p**k <= N:\n",
    "        if p >= 3 and k >= 8:\n",
    "            break\n",
    "        if p >= 5 and k >= 4:\n",
    "            break\n",
    "        if p >= 7 and k >= 4:\n",
    "            break\n",
    "        if p >= 30 and k >= 3:\n",
    "            break\n",
    "        for e, l in inset:\n",
    "            if e * p**k < N:\n",
    "                newset.append((e * p**k, l * modifier))\n",
    "        k += 1\n",
    "        modifier += p**k\n",
    "    inset = newset.copy()\n",
    "len(inset)\n",
    "# for e in pset_fracs:\n",
    "#     if len(pset_fracs[e]) != 1:\n",
    "#         print(\"BAD\")\n",
    "pset_fracs = {}\n",
    "for s in tqdm(valid_psets):\n",
    "    f = Fraction(1, 1)\n",
    "    num = 1\n",
    "    for p in s:\n",
    "        num *= p\n",
    "        f *= Fraction(p + 1, p)\n",
    "    pset_fracs[f] = num\n",
    "goods = set()\n",
    "for e, ds in tqdm(inset):\n",
    "    for tnum in range(3, 19, 2):\n",
    "        tfrac = Fraction(tnum, 2)\n",
    "        tcomp = tfrac / Fraction(ds, e)\n",
    "        if tcomp in pset_fracs:\n",
    "            num = pset_fracs[tcomp]\n",
    "            goods.add(e * num)\n",
    "            print(\"FOUND\", tnum, e * num)\n",
    "# \"\"\"\n",
    "# FOUND 3 2\n",
    "# FOUND 5 24\n",
    "# FOUND 7 4320\n",
    "# FOUND 7 4680\n",
    "# FOUND 7 26208\n",
    "# FOUND 7 57575890944\n",
    "# FOUND 9 8910720\n",
    "# FOUND 9 17428320\n",
    "# FOUND 9 8583644160\n",
    "# FOUND 7 20427264\n",
    "# FOUND 7 301183421949935616\n",
    "# FOUND 9 206166804480\n",
    "# FOUND 9 1416963251404800\n",
    "# FOUND 7 21857648640\n",
    "# FOUND 5 10200236032\n",
    "# FOUND 9 57629644800\n",
    "# FOUND 11 17116004505600\n",
    "# FOUND 9 200286975596707184640\n",
    "# FOUND 11 59485231752222033838080\n",
    "# FOUND 11 6219051710415667200\n",
    "# FOUND 7 197064960\n",
    "# FOUND 5 91963648\n",
    "# FOUND 9 15338300494970880\n",
    "# \"\"\"\n",
    "print(sum(e for e in goods if e <= N))"
   ]
  }
 ],
 "metadata": {
  "kernelspec": {
   "display_name": "Python 3",
   "language": "python",
   "name": "python3"
  },
  "language_info": {
   "codemirror_mode": {
    "name": "ipython",
    "version": 3
   },
   "file_extension": ".py",
   "mimetype": "text/x-python",
   "name": "python",
   "nbconvert_exporter": "python",
   "pygments_lexer": "ipython3",
   "version": "3.9.6"
  }
 },
 "nbformat": 4,
 "nbformat_minor": 2
}
