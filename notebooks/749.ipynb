{
 "cells": [
  {
   "cell_type": "code",
   "execution_count": 1,
   "metadata": {},
   "outputs": [],
   "source": [
    "DIGITS = 16\n",
    "N = 10**DIGITS"
   ]
  },
  {
   "cell_type": "code",
   "execution_count": 2,
   "metadata": {},
   "outputs": [],
   "source": [
    "import unittest\n",
    "\n",
    "def mckay(n):\n",
    "    \"\"\"\n",
    "    Integer partitions of n, in reverse lexicographic order.\n",
    "    Note that the generated output consists of the same list object,\n",
    "    repeated the correct number of times; the caller must leave this\n",
    "    list unchanged, and must make a copy of any partition that is\n",
    "    intended to last longer than the next call into the generator.\n",
    "    The algorithm follows Knuth v4 fasc3 p38 in rough outline.\n",
    "    \"\"\"\n",
    "    if n == 0:\n",
    "        yield []\n",
    "    if n <= 0:\n",
    "        return\n",
    "    partition = [n]\n",
    "    last_nonunit = (n > 1) - 1\n",
    "    while True:\n",
    "        yield partition\n",
    "        if last_nonunit < 0:\n",
    "            return\n",
    "        if partition[last_nonunit] == 2:\n",
    "            partition[last_nonunit] = 1\n",
    "            partition.append(1)\n",
    "            last_nonunit -= 1\n",
    "            continue\n",
    "        replacement = partition[last_nonunit] - 1\n",
    "        total_replaced = replacement + len(partition) - last_nonunit\n",
    "        reps,rest = divmod(total_replaced,replacement)\n",
    "        partition[last_nonunit:] = reps*[replacement]\n",
    "        if rest:\n",
    "            partition.append(rest)\n",
    "        last_nonunit = len(partition) - (partition[-1]==1) - 1\n",
    "\n",
    "def integer_partition(n):\n",
    "    return [e.copy() for e in mckay(n)]\n",
    "# print(len(integer_partition(80)))"
   ]
  },
  {
   "cell_type": "code",
   "execution_count": 3,
   "metadata": {},
   "outputs": [],
   "source": [
    "parts = integer_partition(DIGITS)\n",
    "parts = [e + [0] * (10 - len(e)) for e in parts if len(e) <= 10]"
   ]
  },
  {
   "cell_type": "code",
   "execution_count": 4,
   "metadata": {},
   "outputs": [],
   "source": [
    "from itertools import permutations"
   ]
  },
  {
   "cell_type": "code",
   "execution_count": 5,
   "metadata": {},
   "outputs": [],
   "source": [
    "from tqdm import tqdm"
   ]
  },
  {
   "cell_type": "code",
   "execution_count": 6,
   "metadata": {},
   "outputs": [
    {
     "name": "stderr",
     "output_type": "stream",
     "text": [
      "100%|██████████| 212/212 [00:37<00:00,  5.66it/s]\n"
     ]
    }
   ],
   "source": [
    "perm_set = set()\n",
    "for p in tqdm(parts):\n",
    "    perm_set.update(set(permutations(p)))"
   ]
  },
  {
   "cell_type": "code",
   "execution_count": 7,
   "metadata": {},
   "outputs": [],
   "source": [
    "def num_to_list(i: int):\n",
    "    l = [0 for _ in range(10)]\n",
    "    for c in str(i):\n",
    "        l[ord(c) - ord('0')] += 1\n",
    "    return l"
   ]
  },
  {
   "cell_type": "code",
   "execution_count": 8,
   "metadata": {},
   "outputs": [],
   "source": [
    "def is_eq(base_num, l):\n",
    "    for i in range(1, 10):\n",
    "        if l[i] != base_num[i]:\n",
    "            return False\n",
    "    return l[0] <= base_num[0]"
   ]
  },
  {
   "cell_type": "code",
   "execution_count": 9,
   "metadata": {},
   "outputs": [
    {
     "name": "stderr",
     "output_type": "stream",
     "text": [
      "100%|██████████| 2042975/2042975 [02:16<00:00, 15017.54it/s]\n"
     ]
    }
   ],
   "source": [
    "good_set = set()\n",
    "\n",
    "for perm in tqdm(perm_set):\n",
    "    # print(perm)\n",
    "    # If all 0's or 1's, dont consider\n",
    "    if perm[0] + perm[1] == DIGITS:\n",
    "        continue\n",
    "    k = 1\n",
    "    while True:\n",
    "        t = 0\n",
    "        for i in range(0, 10):\n",
    "            t += perm[i] * i**k\n",
    "        if t > N + 3:\n",
    "            break\n",
    "        # Turn sum into num + 1, num - 1. Check if it is eq to original perm. If so, add the num into the list for each.\n",
    "        lower = num_to_list(t - 1)\n",
    "        upper = num_to_list(t + 1)\n",
    "\n",
    "        if (is_eq(perm, lower)):\n",
    "            good_set.add(t - 1)\n",
    "        if (is_eq(perm, upper)):\n",
    "            good_set.add(t + 1)\n",
    "        \n",
    "        k += 1\n"
   ]
  },
  {
   "cell_type": "code",
   "execution_count": 10,
   "metadata": {},
   "outputs": [
    {
     "data": {
      "text/plain": [
       "{35,\n",
       " 75,\n",
       " 528757,\n",
       " 629643,\n",
       " 688722,\n",
       " 715469,\n",
       " 30405525,\n",
       " 31672867,\n",
       " 44936324,\n",
       " 63645890,\n",
       " 63645891,\n",
       " 71419078,\n",
       " 73495876,\n",
       " 116079879,\n",
       " 647045075,\n",
       " 1136483324,\n",
       " 83311557354,\n",
       " 310374095702,\n",
       " 785103993880,\n",
       " 785103993881,\n",
       " 989342580966,\n",
       " 23046269501054,\n",
       " 37434032885798,\n",
       " 50914873393416,\n",
       " 75759895149717,\n",
       " 637883611437063,\n",
       " 4020913800954247,\n",
       " 4023730658941129,\n",
       " 4586833243299785}"
      ]
     },
     "execution_count": 10,
     "metadata": {},
     "output_type": "execute_result"
    }
   ],
   "source": [
    "good_set"
   ]
  },
  {
   "cell_type": "code",
   "execution_count": 11,
   "metadata": {},
   "outputs": [
    {
     "data": {
      "text/plain": [
       "13459471903176422"
      ]
     },
     "execution_count": 11,
     "metadata": {},
     "output_type": "execute_result"
    }
   ],
   "source": [
    "sum(good_set)"
   ]
  }
 ],
 "metadata": {
  "kernelspec": {
   "display_name": "Python 3",
   "language": "python",
   "name": "python3"
  },
  "language_info": {
   "codemirror_mode": {
    "name": "ipython",
    "version": 3
   },
   "file_extension": ".py",
   "mimetype": "text/x-python",
   "name": "python",
   "nbconvert_exporter": "python",
   "pygments_lexer": "ipython3",
   "version": "3.12.4"
  }
 },
 "nbformat": 4,
 "nbformat_minor": 2
}
