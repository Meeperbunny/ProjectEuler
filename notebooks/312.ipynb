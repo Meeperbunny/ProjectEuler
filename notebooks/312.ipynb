{
 "cells": [
  {
   "cell_type": "code",
   "execution_count": 1,
   "metadata": {},
   "outputs": [
    {
     "ename": "NameError",
     "evalue": "name 'k' is not defined",
     "output_type": "error",
     "traceback": [
      "\u001b[1;31m---------------------------------------------------------------------------\u001b[0m",
      "\u001b[1;31mNameError\u001b[0m                                 Traceback (most recent call last)",
      "Cell \u001b[1;32mIn[1], line 7\u001b[0m\n\u001b[0;32m      1\u001b[0m {\n\u001b[0;32m      2\u001b[0m     \u001b[38;5;241m1\u001b[39m: \u001b[38;5;241m2\u001b[39m\u001b[38;5;241m*\u001b[39m\u001b[38;5;241m*\u001b[39m\u001b[38;5;241m0\u001b[39m \u001b[38;5;241m*\u001b[39m \u001b[38;5;241m3\u001b[39m\u001b[38;5;241m*\u001b[39m\u001b[38;5;241m*\u001b[39m\u001b[38;5;241m0\u001b[39m,\n\u001b[0;32m      3\u001b[0m     \u001b[38;5;241m2\u001b[39m: \u001b[38;5;241m2\u001b[39m\u001b[38;5;241m*\u001b[39m\u001b[38;5;241m*\u001b[39m\u001b[38;5;241m0\u001b[39m \u001b[38;5;241m*\u001b[39m \u001b[38;5;241m3\u001b[39m\u001b[38;5;241m*\u001b[39m\u001b[38;5;241m*\u001b[39m\u001b[38;5;241m0\u001b[39m,\n\u001b[0;32m      4\u001b[0m     \u001b[38;5;241m3\u001b[39m: \u001b[38;5;241m2\u001b[39m\u001b[38;5;241m*\u001b[39m\u001b[38;5;241m*\u001b[39m\u001b[38;5;241m3\u001b[39m \u001b[38;5;241m*\u001b[39m \u001b[38;5;241m3\u001b[39m\u001b[38;5;241m*\u001b[39m\u001b[38;5;241m*\u001b[39m\u001b[38;5;241m0\u001b[39m,\n\u001b[0;32m      5\u001b[0m     \u001b[38;5;241m4\u001b[39m: \u001b[38;5;241m2\u001b[39m\u001b[38;5;241m*\u001b[39m\u001b[38;5;241m*\u001b[39m\u001b[38;5;241m9\u001b[39m \u001b[38;5;241m*\u001b[39m \u001b[38;5;241m3\u001b[39m\u001b[38;5;241m*\u001b[39m\u001b[38;5;241m*\u001b[39m\u001b[38;5;241m3\u001b[39m,\n\u001b[0;32m      6\u001b[0m     \u001b[38;5;241m5\u001b[39m: \u001b[38;5;241m2\u001b[39m\u001b[38;5;241m*\u001b[39m\u001b[38;5;241m*\u001b[39m\u001b[38;5;241m27\u001b[39m \u001b[38;5;241m*\u001b[39m \u001b[38;5;241m3\u001b[39m\u001b[38;5;241m*\u001b[39m\u001b[38;5;241m*\u001b[39m\u001b[38;5;241m12\u001b[39m,\n\u001b[1;32m----> 7\u001b[0m     \u001b[43mk\u001b[49m: \u001b[38;5;241m2\u001b[39m\u001b[38;5;241m*\u001b[39m\u001b[38;5;241m*\u001b[39m(\u001b[38;5;241m3\u001b[39m\u001b[38;5;241m*\u001b[39m\u001b[38;5;241m*\u001b[39m(k\u001b[38;5;241m-\u001b[39m\u001b[38;5;241m2\u001b[39m)) \u001b[38;5;241m*\u001b[39m \u001b[38;5;241m3\u001b[39m\u001b[38;5;241m*\u001b[39m\u001b[38;5;241m*\u001b[39m\u001b[38;5;241m12\u001b[39m,\n\u001b[0;32m      8\u001b[0m }\n",
      "\u001b[1;31mNameError\u001b[0m: name 'k' is not defined"
     ]
    }
   ],
   "source": [
    "{\n",
    "    1: 2**0 * 3**0,\n",
    "    2: 2**0 * 3**0,\n",
    "    3: 2**3 * 3**0,\n",
    "    4: 2**9 * 3**3,\n",
    "    5: 2**27 * 3**12,\n",
    "    k: 2**(3**(k-2)) * 3**12,\n",
    "}"
   ]
  },
  {
   "cell_type": "code",
   "execution_count": 20,
   "metadata": {},
   "outputs": [],
   "source": [
    "mod = 10**8"
   ]
  },
  {
   "cell_type": "code",
   "execution_count": 38,
   "metadata": {},
   "outputs": [],
   "source": [
    "def first(i, t):\n",
    "    if i < 3:\n",
    "        return 0\n",
    "    return pow(3, i - 2, t)"
   ]
  },
  {
   "cell_type": "code",
   "execution_count": 64,
   "metadata": {},
   "outputs": [
    {
     "data": {
      "text/plain": [
       "512"
      ]
     },
     "execution_count": 64,
     "metadata": {},
     "output_type": "execute_result"
    }
   ],
   "source": [
    "2**(3**2)"
   ]
  },
  {
   "cell_type": "code",
   "execution_count": 119,
   "metadata": {},
   "outputs": [],
   "source": [
    "from collections import Counter"
   ]
  },
  {
   "cell_type": "code",
   "execution_count": 208,
   "metadata": {},
   "outputs": [],
   "source": [
    "def pfs(n):\n",
    "    c = Counter()\n",
    "    for i in [2, 3, 13]:\n",
    "        while n % i == 0:\n",
    "            n //= i\n",
    "            c[i] += 1\n",
    "    return c"
   ]
  },
  {
   "cell_type": "code",
   "execution_count": 186,
   "metadata": {},
   "outputs": [],
   "source": [
    "def totient(C: Counter):\n",
    "    t = 1\n",
    "    for p, k in C.items():\n",
    "        t *= (p - 1) * p**(k - 1)\n",
    "    return pfs(t)"
   ]
  },
  {
   "cell_type": "code",
   "execution_count": 166,
   "metadata": {},
   "outputs": [
    {
     "data": {
      "text/plain": [
       "617720485"
      ]
     },
     "execution_count": 166,
     "metadata": {},
     "output_type": "execute_result"
    }
   ],
   "source": [
    "mod = Counter({13: 8})\n",
    "\n",
    "def C(i, m, d = 2):\n",
    "    # Find totient of mod\n",
    "    M = 1\n",
    "    t = totient(m)\n",
    "    for p, k in m.items():\n",
    "        M *= p**k\n",
    "    ti = i - 2\n",
    "    p_1 = pow(3, ti, t) \n",
    "    p_2 = pow(3, ti, 2 * t)\n",
    "    p_2 = (p_2 - 3 + (2 * t)) % (2 * t)\n",
    "    p_2 //= 2\n",
    "    return pow(2, p_1, M) * pow(3, p_2, M) % M\n",
    "C(10_000, pfs(13**8))"
   ]
  },
  {
   "cell_type": "code",
   "execution_count": 190,
   "metadata": {},
   "outputs": [],
   "source": [
    "def to_num(C: Counter):\n",
    "    M = 1\n",
    "    for p, k in C.items():\n",
    "        M *= p**k\n",
    "    return M"
   ]
  },
  {
   "cell_type": "code",
   "execution_count": 191,
   "metadata": {},
   "outputs": [
    {
     "ename": "TypeError",
     "evalue": "unsupported operand type(s) for %: 'Counter' and 'int'",
     "output_type": "error",
     "traceback": [
      "\u001b[1;31m---------------------------------------------------------------------------\u001b[0m",
      "\u001b[1;31mTypeError\u001b[0m                                 Traceback (most recent call last)",
      "Cell \u001b[1;32mIn[191], line 1\u001b[0m\n\u001b[1;32m----> 1\u001b[0m pfs(totient(\u001b[43mpfs\u001b[49m\u001b[43m(\u001b[49m\u001b[43mtotient\u001b[49m\u001b[43m(\u001b[49m\u001b[43mpfs\u001b[49m\u001b[43m(\u001b[49m\u001b[38;5;241;43m13\u001b[39;49m\u001b[38;5;241;43m*\u001b[39;49m\u001b[38;5;241;43m*\u001b[39;49m\u001b[38;5;241;43m8\u001b[39;49m\u001b[43m)\u001b[49m\u001b[43m)\u001b[49m\u001b[43m)\u001b[49m))\n",
      "Cell \u001b[1;32mIn[148], line 4\u001b[0m, in \u001b[0;36mpfs\u001b[1;34m(n)\u001b[0m\n\u001b[0;32m      2\u001b[0m c \u001b[38;5;241m=\u001b[39m Counter()\n\u001b[0;32m      3\u001b[0m \u001b[38;5;28;01mfor\u001b[39;00m i \u001b[38;5;129;01min\u001b[39;00m [\u001b[38;5;241m2\u001b[39m, \u001b[38;5;241m3\u001b[39m, \u001b[38;5;241m13\u001b[39m]:\n\u001b[1;32m----> 4\u001b[0m     \u001b[38;5;28;01mwhile\u001b[39;00m \u001b[43mn\u001b[49m\u001b[43m \u001b[49m\u001b[38;5;241;43m%\u001b[39;49m\u001b[43m \u001b[49m\u001b[43mi\u001b[49m \u001b[38;5;241m==\u001b[39m \u001b[38;5;241m0\u001b[39m:\n\u001b[0;32m      5\u001b[0m         n \u001b[38;5;241m/\u001b[39m\u001b[38;5;241m/\u001b[39m\u001b[38;5;241m=\u001b[39m i\n\u001b[0;32m      6\u001b[0m         c[i] \u001b[38;5;241m+\u001b[39m\u001b[38;5;241m=\u001b[39m \u001b[38;5;241m1\u001b[39m\n",
      "\u001b[1;31mTypeError\u001b[0m: unsupported operand type(s) for %: 'Counter' and 'int'"
     ]
    }
   ],
   "source": [
    "pfs(totient(pfs(totient(pfs(13**8)))))"
   ]
  },
  {
   "cell_type": "code",
   "execution_count": null,
   "metadata": {},
   "outputs": [],
   "source": [
    "mod = Counter({13: 8})\n",
    "\n",
    "def C(i, m, d=2):\n",
    "    f_m = Counter({})\n",
    "    s_m = Counter({})\n",
    "    f_i = i\n",
    "    s_i = i\n",
    "    if d != 0:\n",
    "        f_m = totient(pfs(to_num(totient(m))))\n",
    "        s_m = totient(pfs(2 * to_num(totient(m))))\n",
    "        f_i = C(i, f_m, d-1)\n",
    "        s_i = C(i, s_m, d-1)\n",
    "    first_pow = pow(2, pow(3, f_i - 2, to_num(totient(m))), to_num(m))\n",
    "    assert(to_num(totient(m)) % 2 == 0)\n",
    "    assert((pow(3, s_i - 2, 2 * to_num(totient(m))) - 3) >= 0)\n",
    "    second_pow = pow(3, (pow(3, s_i - 2, 2 * to_num(totient(m))) - 3) // 2, to_num(m))\n",
    "    print(\"C({}, {}, d={}) = {}\".format(i, m, d, first_pow * second_pow % to_num(m)))\n",
    "    print(\"\\t f_i = {} mod {}, s_i = {} mod {}\".format(f_i, to_num(f_m), s_i, to_num(s_m)))\n",
    "    return first_pow * second_pow % to_num(m)"
   ]
  },
  {
   "cell_type": "code",
   "execution_count": 284,
   "metadata": {},
   "outputs": [],
   "source": [
    "mod = Counter({13: 8})\n",
    "\n",
    "def C(i, m, d=2):\n",
    "    f_i = i\n",
    "    s_i = i\n",
    "    if d != 0:\n",
    "        f_i = C(i, totient(pfs(to_num(totient(m)))), d-1)\n",
    "        s_i = C(i, totient(pfs(2 * to_num(totient(m)))), d-1)\n",
    "    first_pow = pow(2, pow(3, f_i - 2, to_num(totient(m))), to_num(m))\n",
    "    second_pow = pow(3, (pow(3, s_i - 2, 2 * to_num(totient(m))) - 3) // 2, to_num(m))\n",
    "    return first_pow * second_pow % to_num(m)"
   ]
  },
  {
   "cell_type": "code",
   "execution_count": 285,
   "metadata": {},
   "outputs": [
    {
     "data": {
      "text/plain": [
       "324681947"
      ]
     },
     "execution_count": 285,
     "metadata": {},
     "output_type": "execute_result"
    }
   ],
   "source": [
    "C(10_000, Counter({13: 8}), d=2)"
   ]
  },
  {
   "cell_type": "code",
   "execution_count": 280,
   "metadata": {},
   "outputs": [
    {
     "name": "stdout",
     "output_type": "stream",
     "text": [
      "C(10000, Counter({2: 8, 13: 4, 3: 1}), d=0) = 12084480\n",
      "\t f_i = 10000 mod 1, s_i = 10000 mod 1\n",
      "C(10000, Counter({2: 9, 13: 4, 3: 1}), d=0) = 34019328\n",
      "\t f_i = 10000 mod 1, s_i = 10000 mod 1\n",
      "C(10000, Counter({13: 6, 2: 4, 3: 1}), d=1) = 205518864\n",
      "\t f_i = 12084480 mod 21934848, s_i = 34019328 mod 43869696\n",
      "C(10000, Counter({2: 9, 13: 4, 3: 1}), d=0) = 34019328\n",
      "\t f_i = 10000 mod 1, s_i = 10000 mod 1\n",
      "C(10000, Counter({2: 10, 13: 4, 3: 1}), d=0) = 34019328\n",
      "\t f_i = 10000 mod 1, s_i = 10000 mod 1\n",
      "C(10000, Counter({13: 6, 2: 5, 3: 1}), d=1) = 437205696\n",
      "\t f_i = 34019328 mod 43869696, s_i = 34019328 mod 87739392\n",
      "C(10000, Counter({13: 8}), d=2) = 324681947\n",
      "\t f_i = 205518864 mod 231686832, s_i = 437205696 mod 463373664\n"
     ]
    },
    {
     "data": {
      "text/plain": [
       "324681947"
      ]
     },
     "execution_count": 280,
     "metadata": {},
     "output_type": "execute_result"
    }
   ],
   "source": [
    "C(10_000, pfs(13**8), d=2)"
   ]
  },
  {
   "cell_type": "code",
   "execution_count": 92,
   "metadata": {},
   "outputs": [
    {
     "data": {
      "text/plain": [
       "61209981"
      ]
     },
     "execution_count": 92,
     "metadata": {},
     "output_type": "execute_result"
    }
   ],
   "source": [
    "3**24 % tot"
   ]
  },
  {
   "cell_type": "code",
   "execution_count": 109,
   "metadata": {},
   "outputs": [],
   "source": [
    "mod = 13**8"
   ]
  },
  {
   "cell_type": "code",
   "execution_count": 114,
   "metadata": {},
   "outputs": [],
   "source": [
    "def first(i):\n",
    "    t = i - 2\n",
    "    p = 3 * (pow(3, t - 1, 2**2 * 13**7))\n",
    "    return pow(2, p, mod)"
   ]
  },
  {
   "cell_type": "code",
   "execution_count": 118,
   "metadata": {},
   "outputs": [
    {
     "data": {
      "text/plain": [
       "134217728"
      ]
     },
     "execution_count": 118,
     "metadata": {},
     "output_type": "execute_result"
    }
   ],
   "source": [
    "first(5)"
   ]
  },
  {
   "cell_type": "code",
   "execution_count": 94,
   "metadata": {},
   "outputs": [
    {
     "data": {
      "text/plain": [
       "61209981"
      ]
     },
     "execution_count": 94,
     "metadata": {},
     "output_type": "execute_result"
    }
   ],
   "source": [
    "3**23 % (tot // 3) * 3"
   ]
  },
  {
   "cell_type": "code",
   "execution_count": 47,
   "metadata": {},
   "outputs": [],
   "source": [
    "def corner_count(i):\n",
    "    if i < 3:\n",
    "        return 0\n",
    "    return (3**(i - 2) - 1) // 2 - 1"
   ]
  },
  {
   "cell_type": "code",
   "execution_count": 52,
   "metadata": {},
   "outputs": [
    {
     "data": {
      "text/plain": [
       "3"
      ]
     },
     "execution_count": 52,
     "metadata": {},
     "output_type": "execute_result"
    }
   ],
   "source": [
    "corner_count(4)"
   ]
  },
  {
   "cell_type": "code",
   "execution_count": null,
   "metadata": {},
   "outputs": [],
   "source": [
    "def corner_count(i, t):\n",
    "    if i < 3:\n",
    "        return 0\n",
    "    return pow(3, i - 2, t) - 1 // 2 - 1\n",
    "    return (3**(i - 2) - 1) // 2 - 1"
   ]
  },
  {
   "cell_type": "code",
   "execution_count": 33,
   "metadata": {},
   "outputs": [],
   "source": [
    "def totient(n):\n",
    "    tot = [1 for i in range(n + 1)]\n",
    "    tot[0] = 0\n",
    "    for p in range(2, n + 1):\n",
    "        if tot[p] == 1:\n",
    "            # is prime\n",
    "            k = 1\n",
    "            while True:\n",
    "                b = p**k\n",
    "                if b > n:\n",
    "                    break\n",
    "                j = p\n",
    "                if k == 1:\n",
    "                    j = p - 1\n",
    "                for q in range(b, n + 1, b):\n",
    "                    tot[q] *= j\n",
    "                k += 1\n",
    "    return tot"
   ]
  },
  {
   "cell_type": "code",
   "execution_count": 37,
   "metadata": {},
   "outputs": [],
   "source": [
    "mod = 13**8\n",
    "tot = 12 * 13**7"
   ]
  },
  {
   "cell_type": "code",
   "execution_count": null,
   "metadata": {},
   "outputs": [],
   "source": []
  },
  {
   "cell_type": "code",
   "execution_count": 32,
   "metadata": {},
   "outputs": [
    {
     "name": "stdout",
     "output_type": "stream",
     "text": [
      "1 0 0 1\n",
      "2 0 0 1\n",
      "3 3 0 8\n",
      "4 9 3 13824\n",
      "5 27 12 71328803586048\n",
      "6 81 39 9798477119793909670551703700100284084649984\n"
     ]
    }
   ],
   "source": [
    "for i in range(1, 7):\n",
    "    print(i, first(i), corner_count(i), 2**first(i) * 3**corner_count(i))"
   ]
  }
 ],
 "metadata": {
  "kernelspec": {
   "display_name": "Python 3",
   "language": "python",
   "name": "python3"
  },
  "language_info": {
   "codemirror_mode": {
    "name": "ipython",
    "version": 3
   },
   "file_extension": ".py",
   "mimetype": "text/x-python",
   "name": "python",
   "nbconvert_exporter": "python",
   "pygments_lexer": "ipython3",
   "version": "3.12.4"
  }
 },
 "nbformat": 4,
 "nbformat_minor": 2
}
