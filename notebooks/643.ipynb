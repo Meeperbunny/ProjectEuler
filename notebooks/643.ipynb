{
 "cells": [
  {
   "cell_type": "code",
   "execution_count": 1,
   "metadata": {},
   "outputs": [],
   "source": [
    "def totient(n):\n",
    "    tot = [1 for i in range(n + 1)]\n",
    "    for p in range(2, n + 1):\n",
    "        if tot[p] == 1:\n",
    "            # is prime\n",
    "            k = 1\n",
    "            while True:\n",
    "                b = p**k\n",
    "                if b > n:\n",
    "                    break\n",
    "                j = p\n",
    "                if k == 1:\n",
    "                    j = p - 1\n",
    "                for q in range(b, n + 1, b):\n",
    "                    tot[q] *= j\n",
    "                k += 1\n",
    "    return tot"
   ]
  },
  {
   "cell_type": "code",
   "execution_count": 119,
   "metadata": {},
   "outputs": [
    {
     "ename": "KeyboardInterrupt",
     "evalue": "",
     "output_type": "error",
     "traceback": [
      "\u001b[1;31m---------------------------------------------------------------------------\u001b[0m",
      "\u001b[1;31mKeyboardInterrupt\u001b[0m                         Traceback (most recent call last)",
      "Cell \u001b[1;32mIn[119], line 3\u001b[0m\n\u001b[0;32m      1\u001b[0m N \u001b[38;5;241m=\u001b[39m \u001b[38;5;241m10\u001b[39m\u001b[38;5;241m*\u001b[39m\u001b[38;5;241m*\u001b[39m\u001b[38;5;241m11\u001b[39m\n\u001b[0;32m      2\u001b[0m \u001b[38;5;66;03m# N = 10**6\u001b[39;00m\n\u001b[1;32m----> 3\u001b[0m phi \u001b[38;5;241m=\u001b[39m \u001b[43mtotient\u001b[49m\u001b[43m(\u001b[49m\u001b[43mN\u001b[49m\u001b[43m)\u001b[49m\n\u001b[0;32m      4\u001b[0m t \u001b[38;5;241m=\u001b[39m \u001b[38;5;241m0\u001b[39m\n\u001b[0;32m      5\u001b[0m k \u001b[38;5;241m=\u001b[39m \u001b[38;5;241m1\u001b[39m\n",
      "Cell \u001b[1;32mIn[1], line 2\u001b[0m, in \u001b[0;36mtotient\u001b[1;34m(n)\u001b[0m\n\u001b[0;32m      1\u001b[0m \u001b[38;5;28;01mdef\u001b[39;00m \u001b[38;5;21mtotient\u001b[39m(n):\n\u001b[1;32m----> 2\u001b[0m     tot \u001b[38;5;241m=\u001b[39m [\u001b[38;5;241m1\u001b[39m \u001b[38;5;28;01mfor\u001b[39;00m i \u001b[38;5;129;01min\u001b[39;00m \u001b[38;5;28mrange\u001b[39m(n \u001b[38;5;241m+\u001b[39m \u001b[38;5;241m1\u001b[39m)]\n\u001b[0;32m      3\u001b[0m     \u001b[38;5;28;01mfor\u001b[39;00m p \u001b[38;5;129;01min\u001b[39;00m \u001b[38;5;28mrange\u001b[39m(\u001b[38;5;241m2\u001b[39m, n \u001b[38;5;241m+\u001b[39m \u001b[38;5;241m1\u001b[39m):\n\u001b[0;32m      4\u001b[0m         \u001b[38;5;28;01mif\u001b[39;00m tot[p] \u001b[38;5;241m==\u001b[39m \u001b[38;5;241m1\u001b[39m:\n\u001b[0;32m      5\u001b[0m             \u001b[38;5;66;03m# is prime\u001b[39;00m\n",
      "\u001b[1;31mKeyboardInterrupt\u001b[0m: "
     ]
    }
   ],
   "source": [
    "N = 10**11\n",
    "# N = 10**6\n",
    "phi = totient(N)\n",
    "t = 0\n",
    "k = 1\n",
    "while k <= N:\n",
    "    k *= 2\n",
    "    tt = 0\n",
    "    # for q in range(2, N // k + 1):\n",
    "    #     tt += phi[q]\n",
    "    psum = max(S(N // k) - 1, 0)\n",
    "    print(N // k, psum)\n",
    "    t += psum\n",
    "    # print(tt, max(S(N // k) - 1, 0))\n",
    "    # t += tt\n",
    "t % int(1e9+7)"
   ]
  },
  {
   "cell_type": "code",
   "execution_count": 22,
   "metadata": {},
   "outputs": [
    {
     "data": {
      "text/plain": [
       "(1000000, 1000001, 303963552393)"
      ]
     },
     "execution_count": 22,
     "metadata": {},
     "output_type": "execute_result"
    }
   ],
   "source": [
    "N, len(phi), sum(phi)"
   ]
  },
  {
   "cell_type": "code",
   "execution_count": 85,
   "metadata": {},
   "outputs": [],
   "source": [
    "from functools import cache"
   ]
  },
  {
   "cell_type": "code",
   "execution_count": 116,
   "metadata": {},
   "outputs": [],
   "source": [
    "mod = int(1e9+7)"
   ]
  },
  {
   "cell_type": "code",
   "execution_count": 117,
   "metadata": {},
   "outputs": [],
   "source": [
    "\n",
    "s = totient(1000)\n",
    "for i in range(1, len(s)):\n",
    "    s[i] += s[i - 1]\n",
    "@cache\n",
    "def S(n):\n",
    "    if n == 1:\n",
    "        return 1\n",
    "    tri = (n * (n + 1) // 2) % mod\n",
    "    s1 = 0\n",
    "    m = 2\n",
    "    while m * m <= n:\n",
    "        s1 += S(n // m)\n",
    "        s1 %= mod\n",
    "        m += 1\n",
    "    s2 = 0\n",
    "    d = 1\n",
    "    while d * d <= n:\n",
    "        if d != n // d:\n",
    "            s2 += (n // d - n // (d + 1)) * S(d)\n",
    "        s2 %= mod\n",
    "        d += 1\n",
    "    return ((tri - s1 - s2) % mod + mod) % mod"
   ]
  },
  {
   "cell_type": "code",
   "execution_count": 120,
   "metadata": {},
   "outputs": [
    {
     "data": {
      "text/plain": [
       "(30397486, 30397486)"
      ]
     },
     "execution_count": 120,
     "metadata": {},
     "output_type": "execute_result"
    }
   ],
   "source": [
    "K = 10000\n",
    "S(K), sum(totient(K - 0)[1:])"
   ]
  },
  {
   "cell_type": "code",
   "execution_count": null,
   "metadata": {},
   "outputs": [],
   "source": []
  },
  {
   "cell_type": "code",
   "execution_count": null,
   "metadata": {},
   "outputs": [],
   "source": []
  },
  {
   "cell_type": "code",
   "execution_count": null,
   "metadata": {},
   "outputs": [],
   "source": [
    "def totient(n):\n",
    "    tot = [1 for i in range(n + 1)]\n",
    "    for p in range(2, n + 1):\n",
    "        if tot[p] == 1:\n",
    "            # is prime\n",
    "            k = 1\n",
    "            while True:\n",
    "                b = p**k\n",
    "                if b > n:\n",
    "                    break\n",
    "                j = p\n",
    "                if k == 1:\n",
    "                    j = p - 1\n",
    "                for q in range(b, n + 1, b):\n",
    "                    tot[q] *= j\n",
    "                k += 1\n",
    "    return tot\n",
    "N = 10**11\n",
    "# N = 10**6\n",
    "phi = totient(N)\n",
    "t = 0\n",
    "k = 1\n",
    "while k <= N:\n",
    "    k *= 2\n",
    "    tt = 0\n",
    "    # for q in range(2, N // k + 1):\n",
    "    #     tt += phi[q]\n",
    "    psum = max(S(N // k) - 1, 0)\n",
    "    print(N // k, psum)\n",
    "    t += psum\n",
    "    # print(tt, max(S(N // k) - 1, 0))\n",
    "    # t += tt\n",
    "t % int(1e9+7)\n",
    "N, len(phi), sum(phi)\n",
    "from functools import cache\n",
    "mod = int(1e9+7)\n",
    "\n",
    "s = totient(1000)\n",
    "for i in range(1, len(s)):\n",
    "    s[i] += s[i - 1]\n",
    "@cache\n",
    "def S(n):\n",
    "    if n == 1:\n",
    "        return 1\n",
    "    tri = (n * (n + 1) // 2) % mod\n",
    "    s1 = 0\n",
    "    m = 2\n",
    "    while m * m <= n:\n",
    "        s1 += S(n // m)\n",
    "        s1 %= mod\n",
    "        m += 1\n",
    "    s2 = 0\n",
    "    d = 1\n",
    "    while d * d <= n:\n",
    "        if d != n // d:\n",
    "            s2 += (n // d - n // (d + 1)) * S(d)\n",
    "        s2 %= mod\n",
    "        d += 1\n",
    "    return ((tri - s1 - s2) % mod + mod) % mod\n",
    "K = 10000\n",
    "S(K), sum(totient(K - 0)[1:])"
   ]
  },
  {
   "cell_type": "code",
   "execution_count": 121,
   "metadata": {},
   "outputs": [],
   "source": [
    "@cache\n",
    "def S(n, mod=None):\n",
    "    \"\"\"Computes the sum of totient from [1...n]\"\"\"\n",
    "    if n == 1:\n",
    "        return 1\n",
    "    tri = (n * (n + 1) // 2)\n",
    "    if mod:\n",
    "        tri %= mod\n",
    "    s1 = 0\n",
    "    m = 2\n",
    "    while m * m <= n:\n",
    "        s1 += S(n // m)\n",
    "        if mod:\n",
    "            s1 %= mod\n",
    "        m += 1\n",
    "    s2 = 0\n",
    "    d = 1\n",
    "    while d * d <= n:\n",
    "        if d != n // d:\n",
    "            s2 += (n // d - n // (d + 1)) * S(d)\n",
    "        if mod:\n",
    "            s2 %= mod\n",
    "        d += 1\n",
    "    ans = (tri - s1 - s2)\n",
    "    if mod:\n",
    "        ans = (ans % mod + mod) % mod\n",
    "    return ans"
   ]
  },
  {
   "cell_type": "code",
   "execution_count": 127,
   "metadata": {},
   "outputs": [
    {
     "data": {
      "text/plain": [
       "7600458"
      ]
     },
     "execution_count": 127,
     "metadata": {},
     "output_type": "execute_result"
    }
   ],
   "source": [
    "T = totient(5000)\n",
    "T[0] = 0\n",
    "sum(T)"
   ]
  },
  {
   "cell_type": "code",
   "execution_count": 126,
   "metadata": {},
   "outputs": [
    {
     "data": {
      "text/plain": [
       "7600458"
      ]
     },
     "execution_count": 126,
     "metadata": {},
     "output_type": "execute_result"
    }
   ],
   "source": [
    "S(5000)"
   ]
  }
 ],
 "metadata": {
  "kernelspec": {
   "display_name": "Python 3",
   "language": "python",
   "name": "python3"
  },
  "language_info": {
   "codemirror_mode": {
    "name": "ipython",
    "version": 3
   },
   "file_extension": ".py",
   "mimetype": "text/x-python",
   "name": "python",
   "nbconvert_exporter": "python",
   "pygments_lexer": "ipython3",
   "version": "3.12.4"
  }
 },
 "nbformat": 4,
 "nbformat_minor": 2
}
