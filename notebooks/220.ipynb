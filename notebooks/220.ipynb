{
 "cells": [
  {
   "cell_type": "code",
   "execution_count": 3,
   "metadata": {},
   "outputs": [],
   "source": [
    "m = {\n",
    "    \"U\": 0,\n",
    "    \"R\": 1,\n",
    "    \"D\": 2,\n",
    "    \"L\": 3,\n",
    "}\n",
    "rm = [\"U\", \"R\", \"D\", \"L\"]"
   ]
  },
  {
   "cell_type": "code",
   "execution_count": 16,
   "metadata": {},
   "outputs": [],
   "source": [
    "def rotate_right(coord):\n",
    "    return [coord[1], -coord[0]]"
   ]
  },
  {
   "cell_type": "code",
   "execution_count": 15,
   "metadata": {},
   "outputs": [],
   "source": [
    "def tr(d):\n",
    "    return rm[(m[d] + 1) % 4]\n",
    "def tl(d):\n",
    "    return rm[(m[d] + 3) % 4]\n",
    "def tri(d, i):\n",
    "    for _ in range(i):\n",
    "        d = tr(d)\n",
    "    return d\n",
    "def trl(d, i):\n",
    "    for _ in range(i):\n",
    "        d = tl(d)\n",
    "    return d"
   ]
  },
  {
   "cell_type": "code",
   "execution_count": 68,
   "metadata": {},
   "outputs": [],
   "source": [
    "def itod(i):\n",
    "    return rm[i]\n",
    "def dtoi(d):\n",
    "    m = {\n",
    "        \"U\": 0,\n",
    "        \"R\": 1,\n",
    "        \"D\": 2,\n",
    "        \"L\": 3,\n",
    "    }\n",
    "    return m[d]"
   ]
  },
  {
   "cell_type": "code",
   "execution_count": 69,
   "metadata": {},
   "outputs": [],
   "source": [
    "# Char at level facing up, SIZE, and the resulting direction\n",
    "lk = {}\n",
    "lk[('a', 1)] = (0, 0, 0, \"U\")\n",
    "lk[('b', 1)] = (0, 0, 0, \"U\")\n",
    "lk[('R', 1)] = (0, 0, 0, \"R\")\n",
    "lk[('L', 1)] = (0, 0, 0, \"L\")\n",
    "lk[('F', 1)] = (0, 1, 1, \"U\")\n",
    "\n",
    "expand = {\n",
    "    \"a\": \"aRbFR\",\n",
    "    \"b\": \"LFaLb\",\n",
    "}\n",
    "\n"
   ]
  },
  {
   "cell_type": "code",
   "execution_count": 76,
   "metadata": {},
   "outputs": [],
   "source": [
    "rep = {\n",
    "    \"a\": \"aRbFR\",\n",
    "    \"b\": \"LFaLb\",\n",
    "}"
   ]
  },
  {
   "cell_type": "code",
   "execution_count": 94,
   "metadata": {},
   "outputs": [],
   "source": [
    "def solve(left, D):\n",
    "    D += 1\n",
    "    for d in range(2, D + 1):\n",
    "        lk[('R', d)] = (0, 0, 0, \"R\")\n",
    "        lk[('L', d)] = (0, 0, 0, \"L\")\n",
    "        lk[('F', d)] = (0, 1, 1, \"U\")\n",
    "\n",
    "        la = lk[('a', d - 1)]\n",
    "        lb = lk[('b', d - 1)]\n",
    "        # Calc for a\n",
    "        pos = [la[0], la[1]]\n",
    "        sz = la[2] + lb[2] + 1\n",
    "        dir = la[3]\n",
    "        dir = tr(dir)\n",
    "        # Add b\n",
    "        # Turn 4 times. If it is up, then add it in.\n",
    "        added = False\n",
    "        for i in range(4):\n",
    "            if not added and dir == \"U\":\n",
    "                pos = [pos[0] + lb[0], pos[1] + lb[1]]\n",
    "                dir = tri(dir, dtoi(lb[3]))\n",
    "                added = True\n",
    "            dir = tr(dir)\n",
    "            pos = rotate_right(pos)\n",
    "        added = False\n",
    "        for i in range(4):\n",
    "            if not added and dir == \"U\":\n",
    "                pos = (pos[0], pos[1] + 1)\n",
    "                added = True\n",
    "            dir = tr(dir)\n",
    "            pos = rotate_right(pos)\n",
    "        dir = tr(dir)\n",
    "        lk[('a', d)] = (*pos, sz, dir)\n",
    "\n",
    "        # Calc for b\n",
    "        pos = [0, 0]\n",
    "        dir = \"U\"\n",
    "        dir = tl(dir)\n",
    "        pos = [-1, 0]\n",
    "\n",
    "        # ADD A\n",
    "        added = False\n",
    "        for i in range(4):\n",
    "            if not added and dir == \"U\":\n",
    "                pos = [pos[0] + la[0], pos[1] + la[1]]\n",
    "                dir = tri(dir, dtoi(la[3]))\n",
    "                added = True\n",
    "            dir = tr(dir)\n",
    "            pos = rotate_right(pos)\n",
    "        dir = tl(dir)\n",
    "\n",
    "        added = False\n",
    "        for i in range(4):\n",
    "            if not added and dir == \"U\":\n",
    "                pos = (pos[0] + lb[0], pos[1] + lb[1])\n",
    "                dir = tri(dir, dtoi(lb[3]))\n",
    "                added = True\n",
    "            dir = tr(dir)\n",
    "            pos = rotate_right(pos)\n",
    "        lk[('b', d)] = (*pos, sz, dir)\n",
    "    level = D\n",
    "\n",
    "    pos = [0, 0]\n",
    "    dir = \"U\"\n",
    "\n",
    "    s = \"Fa\"\n",
    "    i = 0\n",
    "    while left:\n",
    "        cc = s[i]\n",
    "        la = lk[(cc, level)]\n",
    "        sz = la[2]\n",
    "        \n",
    "        if sz <= left:\n",
    "            left -= sz\n",
    "            added = False\n",
    "            for _ in range(4):\n",
    "                if not added and dir == \"U\":\n",
    "                    pos = [pos[0] + la[0], pos[1] + la[1]]\n",
    "                    dir = tri(dir, dtoi(la[3]))\n",
    "                    added = True\n",
    "                dir = tr(dir)\n",
    "                pos = rotate_right(pos)\n",
    "            i += 1\n",
    "        else:\n",
    "            level -= 1\n",
    "            i = 0\n",
    "            s = rep[cc]\n",
    "    return pos"
   ]
  },
  {
   "cell_type": "code",
   "execution_count": 95,
   "metadata": {},
   "outputs": [
    {
     "data": {
      "text/plain": [
       "{('a', 1): (0, 0, 0, 'U'),\n",
       " ('b', 1): (0, 0, 0, 'U'),\n",
       " ('R', 1): (0, 0, 0, 'R'),\n",
       " ('L', 1): (0, 0, 0, 'L'),\n",
       " ('F', 1): (0, 1, 1, 'U'),\n",
       " ('R', 2): (0, 0, 0, 'R'),\n",
       " ('L', 2): (0, 0, 0, 'L'),\n",
       " ('F', 2): (0, 1, 1, 'U'),\n",
       " ('a', 2): (1, 0, 1, 'D'),\n",
       " ('b', 2): (-1, 0, 1, 'D'),\n",
       " ('R', 3): (0, 0, 0, 'R'),\n",
       " ('L', 3): (0, 0, 0, 'L'),\n",
       " ('F', 3): (0, 1, 1, 'U'),\n",
       " ('a', 3): (2, -1, 3, 'D'),\n",
       " ('b', 3): (-2, 1, 3, 'D')}"
      ]
     },
     "execution_count": 95,
     "metadata": {},
     "output_type": "execute_result"
    }
   ],
   "source": [
    "lk"
   ]
  },
  {
   "cell_type": "code",
   "execution_count": 104,
   "metadata": {},
   "outputs": [
    {
     "name": "stdout",
     "output_type": "stream",
     "text": [
      "139776,963904\n"
     ]
    }
   ],
   "source": [
    "print(\"{},{}\".format(*solve(10**12, 50)))"
   ]
  }
 ],
 "metadata": {
  "kernelspec": {
   "display_name": "Python 3",
   "language": "python",
   "name": "python3"
  },
  "language_info": {
   "codemirror_mode": {
    "name": "ipython",
    "version": 3
   },
   "file_extension": ".py",
   "mimetype": "text/x-python",
   "name": "python",
   "nbconvert_exporter": "python",
   "pygments_lexer": "ipython3",
   "version": "3.9.6"
  }
 },
 "nbformat": 4,
 "nbformat_minor": 2
}
