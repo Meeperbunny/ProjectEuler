{
 "cells": [
  {
   "cell_type": "code",
   "execution_count": 141,
   "metadata": {},
   "outputs": [],
   "source": [
    "def get_cnt(i):\n",
    "    return len([e for e in bin(i)[2:].split('0') if len(e)])"
   ]
  },
  {
   "cell_type": "code",
   "execution_count": 178,
   "metadata": {},
   "outputs": [],
   "source": [
    "from random import sample\n",
    "def random_permutation(n):\n",
    "    return sample(range(n), n)"
   ]
  },
  {
   "cell_type": "code",
   "execution_count": 182,
   "metadata": {},
   "outputs": [],
   "source": [
    "def trial(n):\n",
    "    p = random_permutation(n)\n",
    "    m = 0\n",
    "    i = 0\n",
    "    for e in p:\n",
    "        i |= (1 << e)\n",
    "        m = max(get_cnt(i), m)\n",
    "    return m"
   ]
  },
  {
   "cell_type": "code",
   "execution_count": 189,
   "metadata": {},
   "outputs": [],
   "source": [
    "from tqdm import trange"
   ]
  },
  {
   "cell_type": "code",
   "execution_count": null,
   "metadata": {},
   "outputs": [
    {
     "data": {
      "text/plain": [
       "3.400336"
      ]
     },
     "execution_count": 188,
     "metadata": {},
     "output_type": "execute_result"
    }
   ],
   "source": [
    "T = 10000000\n",
    "C = 0\n",
    "for _ in trange(T):\n",
    "    C += trial(40)\n",
    "C / T"
   ]
  },
  {
   "cell_type": "code",
   "execution_count": 142,
   "metadata": {},
   "outputs": [],
   "source": [
    "def popcnt(i):\n",
    "    return bin(i).count('1')"
   ]
  },
  {
   "cell_type": "code",
   "execution_count": 143,
   "metadata": {},
   "outputs": [],
   "source": [
    "def get_lcnt(i, half):\n",
    "    return int(i.bit_length() == half)\n",
    "def get_rcnt(i):\n",
    "    return i & 1"
   ]
  },
  {
   "cell_type": "code",
   "execution_count": 144,
   "metadata": {},
   "outputs": [],
   "source": [
    "from tqdm.notebook import tqdm"
   ]
  },
  {
   "cell_type": "code",
   "execution_count": 160,
   "metadata": {},
   "outputs": [
    {
     "data": {
      "application/vnd.jupyter.widget-view+json": {
       "model_id": "3e6179f4f4fe45509aa6f55a979d9ad6",
       "version_major": 2,
       "version_minor": 0
      },
      "text/plain": [
       "  0%|          | 0/32 [00:00<?, ?it/s]"
      ]
     },
     "metadata": {},
     "output_type": "display_data"
    }
   ],
   "source": [
    "n = 10\n",
    "MC = 2 * n + 2\n",
    "half = n // 2\n",
    "\n",
    "eval = [(popcnt(i), i) for i in range(2**half)]\n",
    "cnts = [[0 for _ in range(MC)] for _ in range(2**half)]\n",
    "cnts[0][0] = 1\n",
    "eval.sort()\n",
    "for _, e in tqdm(eval):\n",
    "    for q in range(half):\n",
    "        if not ((e >> q) & 1):\n",
    "            # For each, get cnts of hitting a certain max.\n",
    "            # Also for given size, chance of edge?\n",
    "\n",
    "            masked = (e | (1 << q))\n",
    "            cc = get_cnt(masked) * 2 - get_rcnt(masked) # Without is better.\n",
    "            for ma in range(0, MC):\n",
    "                cnts[masked][max(ma, cc)] += cnts[e][ma]"
   ]
  },
  {
   "cell_type": "code",
   "execution_count": 171,
   "metadata": {},
   "outputs": [],
   "source": [
    "def avg(l):\n",
    "    cc = 0\n",
    "    tc = 0\n",
    "    for i in range(len(l)):\n",
    "        cc += l[i]\n",
    "        tc += i * l[i]\n",
    "    return round(tc / cc, 6)\n",
    "\n",
    "def avgM(l):\n",
    "    cc = 0\n",
    "    tc = 0\n",
    "    for i in range(len(l)):\n",
    "        cc += l[i]\n",
    "        tc += ((i + 1) // 2) * l[i]\n",
    "    return round(tc / cc, 6)"
   ]
  },
  {
   "cell_type": "code",
   "execution_count": null,
   "metadata": {},
   "outputs": [],
   "source": [
    "# Chance that we have state S as the max?\n",
    "# -> (cnts)\n",
    "# -> tuple as the max"
   ]
  },
  {
   "cell_type": "code",
   "execution_count": 172,
   "metadata": {},
   "outputs": [],
   "source": [
    "CC = [0 for _ in range(MC)]\n",
    "G = cnts[2**half - 1]\n",
    "for i in range(MC):\n",
    "    valA = ((i + 1) // 2)\n",
    "    haslA = (i & 1)\n",
    "    for q in range(MC):\n",
    "        valB = ((q + 1) // 2)\n",
    "        haslB = (q & 1)\n",
    "\n",
    "        cc = valA + valB\n",
    "        if haslA and haslB:\n",
    "            cc -= 1\n",
    "        CC[cc] += G[i] * G[q]"
   ]
  },
  {
   "cell_type": "code",
   "execution_count": 173,
   "metadata": {},
   "outputs": [
    {
     "data": {
      "text/plain": [
       "3.639931"
      ]
     },
     "execution_count": 173,
     "metadata": {},
     "output_type": "execute_result"
    }
   ],
   "source": [
    "avg(CC)"
   ]
  },
  {
   "cell_type": "code",
   "execution_count": 137,
   "metadata": {},
   "outputs": [
    {
     "data": {
      "application/vnd.jupyter.widget-view+json": {
       "model_id": "07cf492691674203b6ed41ace089f455",
       "version_major": 2,
       "version_minor": 0
      },
      "text/plain": [
       "  0%|          | 0/32 [00:00<?, ?it/s]"
      ]
     },
     "metadata": {},
     "output_type": "display_data"
    }
   ],
   "source": [
    "from collections import Counter\n",
    "chances = Counter()\n",
    "for _, e in tqdm(eval):\n",
    "    cc = get_cnt(e)\n",
    "    hl = get_lcnt(e, half)\n",
    "    for i in range(0, MC):\n",
    "        chances[(cc, hl)] += cnts[e][i]\n",
    "tc = sum(chances.values())"
   ]
  },
  {
   "cell_type": "code",
   "execution_count": 138,
   "metadata": {},
   "outputs": [
    {
     "data": {
      "text/plain": [
       "Counter({(1, 1): 153,\n",
       "         (2, 1): 102,\n",
       "         (1, 0): 46,\n",
       "         (2, 0): 18,\n",
       "         (3, 1): 6,\n",
       "         (0, 0): 1})"
      ]
     },
     "execution_count": 138,
     "metadata": {},
     "output_type": "execute_result"
    }
   ],
   "source": [
    "chances"
   ]
  },
  {
   "cell_type": "code",
   "execution_count": 133,
   "metadata": {},
   "outputs": [
    {
     "data": {
      "application/vnd.jupyter.widget-view+json": {
       "model_id": "a174a419e9554c3da89c22f9cba82552",
       "version_major": 2,
       "version_minor": 0
      },
      "text/plain": [
       "  0%|          | 0/1024 [00:00<?, ?it/s]"
      ]
     },
     "metadata": {},
     "output_type": "display_data"
    }
   ],
   "source": [
    "l = {}\n",
    "for pc, e in tqdm(eval):\n",
    "    if pc not in l:\n",
    "        l[pc] = []\n",
    "    l[pc].append(e)"
   ]
  },
  {
   "cell_type": "code",
   "execution_count": null,
   "metadata": {},
   "outputs": [],
   "source": [
    "# Idea here is to "
   ]
  },
  {
   "cell_type": "code",
   "execution_count": null,
   "metadata": {},
   "outputs": [],
   "source": [
    "# Chance of encountering a certain cnt at a specific size"
   ]
  },
  {
   "cell_type": "code",
   "execution_count": 140,
   "metadata": {},
   "outputs": [
    {
     "data": {
      "text/plain": [
       "3.933334"
      ]
     },
     "execution_count": 140,
     "metadata": {},
     "output_type": "execute_result"
    }
   ],
   "source": [
    "avg(cnts[0b11111]) * 2"
   ]
  },
  {
   "cell_type": "code",
   "execution_count": null,
   "metadata": {},
   "outputs": [
    {
     "data": {
      "text/plain": [
       "3.400732"
      ]
     },
     "execution_count": 132,
     "metadata": {},
     "output_type": "execute_result"
    }
   ],
   "source": [
    "avg(cnts[0b1111111111])"
   ]
  },
  {
   "cell_type": "code",
   "execution_count": null,
   "metadata": {},
   "outputs": [],
   "source": []
  },
  {
   "cell_type": "code",
   "execution_count": null,
   "metadata": {},
   "outputs": [],
   "source": []
  },
  {
   "cell_type": "code",
   "execution_count": null,
   "metadata": {},
   "outputs": [],
   "source": []
  },
  {
   "cell_type": "code",
   "execution_count": 190,
   "metadata": {},
   "outputs": [
    {
     "name": "stderr",
     "output_type": "stream",
     "text": [
      "100%|██████████| 100000/100000 [00:04<00:00, 22565.92it/s]"
     ]
    },
    {
     "name": "stdout",
     "output_type": "stream",
     "text": [
      "11.49512\n"
     ]
    },
    {
     "name": "stderr",
     "output_type": "stream",
     "text": [
      "\n"
     ]
    }
   ],
   "source": [
    "def get_cnt(i):\n",
    "    return len([e for e in bin(i)[2:].split('0') if len(e)])\n",
    "from random import sample\n",
    "def random_permutation(n):\n",
    "    return sample(range(n), n)\n",
    "def trial(n):\n",
    "    p = random_permutation(n)\n",
    "    m = 0\n",
    "    i = 0\n",
    "    for e in p:\n",
    "        i |= (1 << e)\n",
    "        m = max(get_cnt(i), m)\n",
    "    return m\n",
    "from tqdm import trange\n",
    "T = 100000\n",
    "C = 0\n",
    "for _ in trange(T):\n",
    "    C += trial(40)\n",
    "print(C / T)"
   ]
  },
  {
   "cell_type": "code",
   "execution_count": null,
   "metadata": {},
   "outputs": [],
   "source": []
  }
 ],
 "metadata": {
  "kernelspec": {
   "display_name": "Python 3",
   "language": "python",
   "name": "python3"
  },
  "language_info": {
   "codemirror_mode": {
    "name": "ipython",
    "version": 3
   },
   "file_extension": ".py",
   "mimetype": "text/x-python",
   "name": "python",
   "nbconvert_exporter": "python",
   "pygments_lexer": "ipython3",
   "version": "3.9.6"
  }
 },
 "nbformat": 4,
 "nbformat_minor": 2
}
