{
 "cells": [
  {
   "cell_type": "code",
   "execution_count": 144,
   "id": "e6a0ad98-5bb5-45a1-bb12-8033b9dee329",
   "metadata": {},
   "outputs": [],
   "source": [
    "from math import log2"
   ]
  },
  {
   "cell_type": "code",
   "execution_count": 212,
   "id": "d53113c8-aefb-463c-84a3-39ffca0dc9de",
   "metadata": {},
   "outputs": [
    {
     "data": {
      "text/plain": [
       "(8, 4, 4)"
      ]
     },
     "execution_count": 212,
     "metadata": {},
     "output_type": "execute_result"
    }
   ],
   "source": [
    "n = 8\n",
    "m = 4\n",
    "mod = int(1e9 + 7)\n",
    "nimber_size = int(log2(n) + 1)\n",
    "n, m, nimber_size"
   ]
  },
  {
   "cell_type": "code",
   "execution_count": 213,
   "id": "26134e71-f23c-468e-8ce8-e126bfd15ac2",
   "metadata": {},
   "outputs": [],
   "source": [
    "from collections import Counter"
   ]
  },
  {
   "cell_type": "code",
   "execution_count": 214,
   "id": "17ab83a6-0eab-4f7f-b234-89716bf6bafa",
   "metadata": {},
   "outputs": [],
   "source": [
    "nimbers = [Counter() for _ in range(nimber_size)]\n",
    "nimbers[0][1] = 1\n",
    "\n",
    "s = [1 for _ in range(n)]\n",
    "nimber = 1\n",
    "for q in range(2, n):\n",
    "    if s[q]:\n",
    "        for i in range(q, n, q):\n",
    "            if s[i]:\n",
    "                if q == 2:\n",
    "                    nimbers[0][0] += 1\n",
    "                else:\n",
    "                    nimbers[0][nimber] += 1\n",
    "            s[i] = 0\n",
    "        nimber += 1"
   ]
  },
  {
   "cell_type": "code",
   "execution_count": 215,
   "id": "65c54115-ad33-453d-935e-65c6a91511fd",
   "metadata": {},
   "outputs": [
    {
     "data": {
      "text/plain": [
       "5"
      ]
     },
     "execution_count": 215,
     "metadata": {},
     "output_type": "execute_result"
    }
   ],
   "source": [
    "len(nimbers[0])"
   ]
  },
  {
   "cell_type": "code",
   "execution_count": 216,
   "id": "146ee690-b3cb-4a39-b586-1b69f3833664",
   "metadata": {},
   "outputs": [
    {
     "data": {
      "text/plain": [
       "5"
      ]
     },
     "execution_count": 216,
     "metadata": {},
     "output_type": "execute_result"
    }
   ],
   "source": [
    "len(nimbers[0])"
   ]
  },
  {
   "cell_type": "code",
   "execution_count": 217,
   "id": "10b53990-a8ff-4e30-8cd3-97f741d5c6ae",
   "metadata": {},
   "outputs": [
    {
     "name": "stdout",
     "output_type": "stream",
     "text": [
      "1\n",
      "2\n",
      "3\n"
     ]
    }
   ],
   "source": [
    "for i in range(1, nimber_size):\n",
    "    print(i)\n",
    "    for e in nimbers[i - 1]:\n",
    "        for q in nimbers[i - 1]:\n",
    "            nimbers[i][e ^ q] = (nimbers[i][e ^ q] + nimbers[i - 1][e] * nimbers[i - 1][q]) % mod"
   ]
  },
  {
   "cell_type": "code",
   "execution_count": 218,
   "id": "bd5192a4-35b0-40c8-b03a-f326c8937faa",
   "metadata": {},
   "outputs": [],
   "source": [
    "# base"
   ]
  },
  {
   "cell_type": "code",
   "execution_count": 221,
   "id": "3c8190f4-655b-42d0-b0c9-49f553051e9b",
   "metadata": {},
   "outputs": [
    {
     "data": {
      "text/plain": [
       "Counter({0: 3, 1: 1, 2: 1, 3: 1, 4: 1})"
      ]
     },
     "execution_count": 221,
     "metadata": {},
     "output_type": "execute_result"
    }
   ],
   "source": [
    "nimbers[0]"
   ]
  },
  {
   "cell_type": "code",
   "execution_count": 226,
   "id": "26dd8bce-0a5b-4ee5-8f6a-3706cd684201",
   "metadata": {},
   "outputs": [
    {
     "data": {
      "text/plain": [
       "2401"
      ]
     },
     "execution_count": 226,
     "metadata": {},
     "output_type": "execute_result"
    }
   ],
   "source": [
    "sum(nimbers[2].values())"
   ]
  },
  {
   "cell_type": "code",
   "execution_count": 222,
   "id": "8367ffd0-1ee8-4a39-a3fe-bcdd2b070e9c",
   "metadata": {},
   "outputs": [
    {
     "data": {
      "text/plain": [
       "Counter({0: 13, 1: 8, 3: 8, 2: 8, 4: 6, 5: 2, 6: 2, 7: 2})"
      ]
     },
     "execution_count": 222,
     "metadata": {},
     "output_type": "execute_result"
    }
   ],
   "source": [
    "nimbers[1]"
   ]
  },
  {
   "cell_type": "code",
   "execution_count": 220,
   "id": "e2f6d122-ce7b-44ea-9154-25b76eb0badf",
   "metadata": {
    "scrolled": true
   },
   "outputs": [
    {
     "name": "stdout",
     "output_type": "stream",
     "text": [
      "Taking 4\n",
      "409\n"
     ]
    }
   ],
   "source": [
    "base = Counter([0])\n",
    "left = m\n",
    "for i in range(nimber_size - 1, -1, -1):\n",
    "    take = 1 << i\n",
    "    while take <= left:\n",
    "        left -= take\n",
    "        print(\"Taking\", take)\n",
    "        new_base = Counter()\n",
    "        for e in base:\n",
    "            for q in nimbers[i]:\n",
    "                new_base[e ^ q] = (new_base[e ^ q] + base[e] * nimbers[i][q]) % mod\n",
    "        base = new_base\n",
    "# print(base)\n",
    "print(base[0] % mod)"
   ]
  },
  {
   "cell_type": "code",
   "execution_count": null,
   "id": "83688178-c5ca-4aed-950f-d2a832ccf1ff",
   "metadata": {},
   "outputs": [],
   "source": []
  },
  {
   "cell_type": "code",
   "execution_count": null,
   "id": "49b33107-00b3-4124-995e-db3b671d5e91",
   "metadata": {},
   "outputs": [],
   "source": []
  },
  {
   "cell_type": "code",
   "execution_count": null,
   "id": "077dc5bb-4b6f-4329-8687-c80b6805a7f4",
   "metadata": {},
   "outputs": [],
   "source": []
  },
  {
   "cell_type": "code",
   "execution_count": null,
   "id": "3ba3b250-2bd5-4389-b57b-4258c2cb536b",
   "metadata": {},
   "outputs": [],
   "source": []
  },
  {
   "cell_type": "code",
   "execution_count": 96,
   "id": "c8e20008-8974-4a5e-aa29-77a3aa9e01fa",
   "metadata": {},
   "outputs": [
    {
     "name": "stdout",
     "output_type": "stream",
     "text": [
      "Taking 2\n",
      "488006090\n"
     ]
    }
   ],
   "source": [
    "from math import log2\n",
    "\n",
    "n = 5\n",
    "m = 2\n",
    "mod = int(1e9 + 7)\n",
    "nimber_size = int(log2(n) + 1)\n",
    "n, nimber_size\n",
    "\n",
    "from collections import Counter\n",
    "\n",
    "nimbers = [Counter() for _ in range(nimber_size)]\n",
    "nimbers[0][1] = 1\n",
    "\n",
    "s = [1 for _ in range(n)]\n",
    "nimber = 1\n",
    "for q in range(2, n):\n",
    "    if s[q]:\n",
    "        for i in range(q, n, q):\n",
    "            if s[i]:\n",
    "                if q == 2:\n",
    "                    # print(i, 0)\n",
    "                    nimbers[0][0] += 1\n",
    "                else:\n",
    "                    # print(i, nimber)\n",
    "                    nimbers[0][nimber] += 1\n",
    "            s[i] = 0\n",
    "        nimber += 1\n",
    "\n",
    "for i in range(1, nimber_size):\n",
    "    for e in nimbers[i - 1]:\n",
    "        for q in nimbers[i - 1]:\n",
    "            nimbers[i][e ^ q] = (nimbers[i][e ^ q] + nimbers[i - 1][e] * nimbers[i - 1][q]) % mod\n",
    "\n",
    "base = Counter([0])\n",
    "left = m\n",
    "for i in range(nimber_size - 1, -1, -1):\n",
    "    take = 1 << i\n",
    "    while take <= left:\n",
    "        left -= take\n",
    "        print(\"Taking\", take)\n",
    "        new_base = Counter()\n",
    "        for e in base:\n",
    "            for q in nimbers[i]:\n",
    "                new_base[e ^ q] = (new_base[e ^ q] + base[e] * nimbers[i][q]) % mod\n",
    "    base = new_base\n",
    "print(base[0] % mod)"
   ]
  },
  {
   "cell_type": "code",
   "execution_count": null,
   "id": "53be4da4-480a-4d3e-b390-5502cac04cde",
   "metadata": {},
   "outputs": [],
   "source": []
  }
 ],
 "metadata": {
  "kernelspec": {
   "display_name": "Python 3 (ipykernel)",
   "language": "python",
   "name": "python3"
  },
  "language_info": {
   "codemirror_mode": {
    "name": "ipython",
    "version": 3
   },
   "file_extension": ".py",
   "mimetype": "text/x-python",
   "name": "python",
   "nbconvert_exporter": "python",
   "pygments_lexer": "ipython3",
   "version": "3.12.4"
  }
 },
 "nbformat": 4,
 "nbformat_minor": 5
}
