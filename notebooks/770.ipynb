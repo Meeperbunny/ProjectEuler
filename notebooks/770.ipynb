{
 "cells": [
  {
   "cell_type": "code",
   "execution_count": 296,
   "metadata": {},
   "outputs": [],
   "source": [
    "from fractions import Fraction"
   ]
  },
  {
   "cell_type": "code",
   "execution_count": 660,
   "metadata": {},
   "outputs": [],
   "source": [
    "def get_min_needed(n, t):\n",
    "    n += 1\n",
    "    g = [[0 for _ in range(n)] for _ in range(n)]\n",
    "    for i in range(0, n):\n",
    "        g[i][n - 1] = t\n",
    "    for i in range(n - 1, -1, -1):\n",
    "        for q in range(n - 2, -1, -1):\n",
    "            if (i == n - 1):\n",
    "                g[i][q] = g[i][q + 1] / 2\n",
    "            else:\n",
    "                g[i][q] = (g[i + 1][q] + g[i][q + 1]) / 2\n",
    "    return g[0][0]"
   ]
  },
  {
   "cell_type": "code",
   "execution_count": 670,
   "metadata": {},
   "outputs": [
    {
     "data": {
      "text/plain": [
       "0.5031987628098112"
      ]
     },
     "execution_count": 670,
     "metadata": {},
     "output_type": "execute_result"
    }
   ],
   "source": [
    "get_min_needed(7777, 1)"
   ]
  },
  {
   "cell_type": "code",
   "execution_count": 371,
   "metadata": {},
   "outputs": [
    {
     "data": {
      "text/plain": [
       "0.5880985260009766"
      ]
     },
     "execution_count": 371,
     "metadata": {},
     "output_type": "execute_result"
    }
   ],
   "source": [
    "get_min_needed(10, 1)"
   ]
  },
  {
   "cell_type": "code",
   "execution_count": 383,
   "metadata": {},
   "outputs": [
    {
     "data": {
      "text/plain": [
       "1.875"
      ]
     },
     "execution_count": 383,
     "metadata": {},
     "output_type": "execute_result"
    }
   ],
   "source": [
    "geo_sum(3, 1/2)"
   ]
  },
  {
   "cell_type": "code",
   "execution_count": 395,
   "metadata": {},
   "outputs": [],
   "source": [
    "def geo_sum(n, r):\n",
    "    return (r**(n+1) - 1) / (r - 1) - 1"
   ]
  },
  {
   "cell_type": "code",
   "execution_count": 399,
   "metadata": {},
   "outputs": [
    {
     "data": {
      "text/plain": [
       "0.9375"
      ]
     },
     "execution_count": 399,
     "metadata": {},
     "output_type": "execute_result"
    }
   ],
   "source": [
    "geo_sum(4, 0.5)"
   ]
  },
  {
   "cell_type": "code",
   "execution_count": 403,
   "metadata": {},
   "outputs": [
    {
     "data": {
      "text/plain": [
       "0.019512176513671875"
      ]
     },
     "execution_count": 403,
     "metadata": {},
     "output_type": "execute_result"
    }
   ],
   "source": [
    "def solve(n, t):\n",
    "    S = 0\n",
    "    C = 1\n",
    "    for i in range(n):\n",
    "        S = C * geo_sum(n, 1/2) + S / 2\n",
    "        C /= 2\n",
    "    return S\n",
    "solve(10, 1)"
   ]
  },
  {
   "cell_type": "code",
   "execution_count": 389,
   "metadata": {},
   "outputs": [
    {
     "data": {
      "text/plain": [
       "(384, 330, 336, 326, 319)"
      ]
     },
     "execution_count": 389,
     "metadata": {},
     "output_type": "execute_result"
    }
   ],
   "source": [
    "384, 330, 336, 326, 319"
   ]
  },
  {
   "cell_type": "code",
   "execution_count": 7,
   "metadata": {},
   "outputs": [],
   "source": [
    "from math import pi"
   ]
  },
  {
   "cell_type": "code",
   "execution_count": 334,
   "metadata": {},
   "outputs": [],
   "source": [
    "from decimal import Decimal "
   ]
  },
  {
   "cell_type": "code",
   "execution_count": 408,
   "metadata": {},
   "outputs": [],
   "source": [
    "pi = Decimal(3.1415926535897932384626433832795028841971693993751058209749445923078164062862089986280348253421170679)"
   ]
  },
  {
   "cell_type": "code",
   "execution_count": null,
   "metadata": {},
   "outputs": [],
   "source": [
    "import math\n",
    "\n",
    "def approx(n: int) -> float:\n",
    "    return 1 / math.sqrt(math.pi * n)\n",
    "def shift(last, n, i):\n",
    "    return last * 2 * (n - i) / (2 * n - i)\n",
    "def A(n):\n",
    "    T = shift(approx(n) / 2, n, 1)\n",
    "    B = approx(n - 1) / 2\n",
    "    for i in range(n):\n",
    "        # print(i, B)\n",
    "        T += B\n",
    "        B = shift(B, n - 1, i)\n",
    "    return T\n",
    "A(1000000000) * 1.9999"
   ]
  },
  {
   "cell_type": "code",
   "execution_count": 510,
   "metadata": {},
   "outputs": [
    {
     "data": {
      "text/plain": [
       "0.5"
      ]
     },
     "execution_count": 510,
     "metadata": {},
     "output_type": "execute_result"
    }
   ],
   "source": [
    "0.0009765625+0.0048828125+0.013427734375+0.02685546875+0.04364013671875+0.06109619140625+0.0763702392578125+0.0872802734375+0.09273529052734375+0.09273529052734375"
   ]
  },
  {
   "cell_type": "code",
   "execution_count": 533,
   "metadata": {},
   "outputs": [
    {
     "name": "stdout",
     "output_type": "stream",
     "text": [
      "0 0.5\n"
     ]
    }
   ],
   "source": [
    "C(1, 1)"
   ]
  },
  {
   "cell_type": "code",
   "execution_count": 574,
   "metadata": {},
   "outputs": [
    {
     "name": "stdout",
     "output_type": "stream",
     "text": [
      "0 0.0009765625\n",
      "1 0.0048828125\n",
      "2 0.013427734375\n",
      "3 0.02685546875\n",
      "4 0.04364013671875\n",
      "5 0.06109619140625\n",
      "6 0.0763702392578125\n",
      "7 0.0872802734375\n",
      "8 0.09273529052734375\n",
      "9 0.09273529052734375\n",
      "10 0.08809852600097656\n"
     ]
    },
    {
     "data": {
      "text/plain": [
       "1.1761382421493531"
      ]
     },
     "execution_count": 574,
     "metadata": {},
     "output_type": "execute_result"
    }
   ],
   "source": [
    "C(10) * 1.9999"
   ]
  },
  {
   "cell_type": "code",
   "execution_count": 561,
   "metadata": {},
   "outputs": [],
   "source": [
    "def C(n):\n",
    "    T = 0\n",
    "    for i in range(0, n + 1):\n",
    "        CC = get_contribution(n, i)\n",
    "        print(i, CC)\n",
    "        T += CC\n",
    "    return T"
   ]
  },
  {
   "cell_type": "code",
   "execution_count": 647,
   "metadata": {},
   "outputs": [],
   "source": [
    "from fractions import Fraction"
   ]
  },
  {
   "cell_type": "code",
   "execution_count": null,
   "metadata": {},
   "outputs": [],
   "source": [
    "def get_contribution(n, j):\n",
    "    n += 1\n",
    "    g = [[0 for _ in range(n)] for _ in range(n)]\n",
    "    g[j][n - 1] = 1\n",
    "    for i in range(n - 1, -1, -1):\n",
    "        for q in range(n - 2, -1, -1):\n",
    "            if (i == n - 1):\n",
    "                g[i][q] = g[i][q + 1] / 2\n",
    "            else:\n",
    "                g[i][q] = (g[i + 1][q] + g[i][q + 1]) / 2\n",
    "    return g[0][0]"
   ]
  },
  {
   "cell_type": "code",
   "execution_count": 626,
   "metadata": {},
   "outputs": [],
   "source": [
    "import math\n",
    "def approx(n: int) -> float:\n",
    "    return 1 / math.sqrt(math.pi * n)\n",
    "def shift(last, n, i):\n",
    "    return last * 2 * (n - i) / (2 * n - i)\n",
    "from tqdm import tqdm"
   ]
  },
  {
   "cell_type": "code",
   "execution_count": null,
   "metadata": {},
   "outputs": [],
   "source": [
    "def A(n):\n",
    "    T = shift(approx(n) / 2, n, 1)\n",
    "    B = approx(n - 1) / 2\n",
    "    for i in tqdm(range(n)):\n",
    "        # print(i, B)\n",
    "        T += B\n",
    "        B = shift(B, n - 1, i)\n",
    "    return T"
   ]
  },
  {
   "cell_type": "code",
   "execution_count": 644,
   "metadata": {},
   "outputs": [],
   "source": [
    "def A(n):\n",
    "    T = shift(approx(n) / 2, n, 1)\n",
    "    B = approx(n - 1) / 2\n",
    "    TT = 0\n",
    "    for i in tqdm(range(n)):\n",
    "        print(i, B)\n",
    "        T += B\n",
    "        TT += B\n",
    "        B = shift(B, n - 1, i)\n",
    "    print(TT)\n",
    "    return T"
   ]
  },
  {
   "cell_type": "code",
   "execution_count": 645,
   "metadata": {},
   "outputs": [
    {
     "data": {
      "text/plain": [
       "0.017841241161527712"
      ]
     },
     "execution_count": 645,
     "metadata": {},
     "output_type": "execute_result"
    }
   ],
   "source": [
    "approx(n)"
   ]
  },
  {
   "cell_type": "code",
   "execution_count": 646,
   "metadata": {},
   "outputs": [
    {
     "name": "stderr",
     "output_type": "stream",
     "text": [
      "100%|██████████| 10/10 [00:00<?, ?it/s]"
     ]
    },
    {
     "name": "stdout",
     "output_type": "stream",
     "text": [
      "0 0.09403159725795938\n",
      "1 0.09403159725795938\n",
      "2 0.0885003268310206\n",
      "3 0.07743778597714303\n",
      "4 0.061950228781714425\n",
      "5 0.0442501634155103\n",
      "6 0.027230869794160187\n",
      "7 0.013615434897080093\n",
      "8 0.004951067235301852\n",
      "9 0.0009902134470603703\n",
      "0.5069892848949096\n"
     ]
    },
    {
     "name": "stderr",
     "output_type": "stream",
     "text": [
      "\n"
     ]
    },
    {
     "data": {
      "text/plain": [
       "(0.5915004272389882, 1.00555072630628)"
      ]
     },
     "execution_count": 646,
     "metadata": {},
     "output_type": "execute_result"
    }
   ],
   "source": [
    "a = A(10)\n",
    "a, a * 1.7"
   ]
  }
 ],
 "metadata": {
  "kernelspec": {
   "display_name": "Python 3",
   "language": "python",
   "name": "python3"
  },
  "language_info": {
   "codemirror_mode": {
    "name": "ipython",
    "version": 3
   },
   "file_extension": ".py",
   "mimetype": "text/x-python",
   "name": "python",
   "nbconvert_exporter": "python",
   "pygments_lexer": "ipython3",
   "version": "3.12.4"
  }
 },
 "nbformat": 4,
 "nbformat_minor": 2
}
