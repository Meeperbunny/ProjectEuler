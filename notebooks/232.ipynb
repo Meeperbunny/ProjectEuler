{
 "cells": [
  {
   "cell_type": "code",
   "execution_count": 5,
   "id": "4af9af41-d367-4c35-8d79-656824d2d715",
   "metadata": {},
   "outputs": [],
   "source": [
    "from decimal import *"
   ]
  },
  {
   "cell_type": "code",
   "execution_count": 46,
   "id": "40ee00d4-1229-4aea-9ba9-9b1fd38b5d47",
   "metadata": {},
   "outputs": [],
   "source": [
    "chance = [[0 for _ in range(256)] for _ in range(256)]\n",
    "\n",
    "for i in range(256):\n",
    "    for q in range(256):\n",
    "        if q >= 100:\n",
    "            chance[i][q] = Decimal(1)\n",
    "        elif i >= 100:\n",
    "            chance[i][q] = Decimal(0)\n",
    "        else:\n",
    "            chance[i][q] = Decimal(0)"
   ]
  },
  {
   "cell_type": "code",
   "execution_count": 48,
   "id": "bfe8874a-207c-4f20-bb5e-3cd97bce47df",
   "metadata": {},
   "outputs": [
    {
     "data": {
      "text/plain": [
       "Decimal('0.9206182471798427655357844895')"
      ]
     },
     "execution_count": 48,
     "metadata": {},
     "output_type": "execute_result"
    }
   ],
   "source": [
    "for s_p1 in range(99, -1, -1):\n",
    "    for s_p2 in range(99, -1, -1):\n",
    "        for T in range(1, 9):\n",
    "            gain = int(pow(2, T - 1))\n",
    "            p_T_works = Decimal(1/2)**T\n",
    "            p_p1_good = Decimal(1/2)\n",
    "\n",
    "            p_T = Decimal(0)\n",
    "\n",
    "            p_T += (p_T_works * p_p1_good) * (chance[s_p1 + 1][s_p2 + gain])\n",
    "            p_T += (p_T_works * (Decimal(1) - p_p1_good)) * (chance[s_p1][s_p2 + gain])\n",
    "            p_T += ((Decimal(1) - p_T_works) * p_p1_good) * (chance[s_p1 + 1][s_p2])\n",
    "            extra = ((Decimal(1) - p_T_works) * (Decimal(1) - p_p1_good))\n",
    "            p_T /= (Decimal(1) - extra)\n",
    "\n",
    "            # print(p_T)\n",
    "\n",
    "            chance[s_p1][s_p2] = max(chance[s_p1][s_p2], p_T)\n",
    "(chance[0][0] + [1][0]) / 2"
   ]
  },
  {
   "cell_type": "code",
   "execution_count": null,
   "id": "fe42687b-dad5-4cf8-9bf3-3414bc4ba4d4",
   "metadata": {},
   "outputs": [],
   "source": []
  }
 ],
 "metadata": {
  "kernelspec": {
   "display_name": "Python 3 (ipykernel)",
   "language": "python",
   "name": "python3"
  },
  "language_info": {
   "codemirror_mode": {
    "name": "ipython",
    "version": 3
   },
   "file_extension": ".py",
   "mimetype": "text/x-python",
   "name": "python",
   "nbconvert_exporter": "python",
   "pygments_lexer": "ipython3",
   "version": "3.12.4"
  }
 },
 "nbformat": 4,
 "nbformat_minor": 5
}
