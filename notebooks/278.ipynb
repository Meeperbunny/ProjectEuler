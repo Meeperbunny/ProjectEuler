{
 "cells": [
  {
   "cell_type": "code",
   "execution_count": 1,
   "metadata": {},
   "outputs": [],
   "source": [
    "def sieve(n):\n",
    "    s = [1 for _ in range(n + 1)]\n",
    "    primes = []\n",
    "    for q in range(2, n + 1):\n",
    "        if s[q]:\n",
    "            primes.append(q)\n",
    "            for i in range(2 * q, n + 1, q):\n",
    "                s[i] = 0\n",
    "    return primes"
   ]
  },
  {
   "cell_type": "code",
   "execution_count": 4,
   "metadata": {},
   "outputs": [],
   "source": [
    "primes = sieve(5000)"
   ]
  },
  {
   "cell_type": "code",
   "execution_count": 60,
   "metadata": {},
   "outputs": [],
   "source": [
    "def f(nums, K=1000_000):\n",
    "    r = [0 for _ in range(K)]\n",
    "    r[0] = 1\n",
    "    for e in nums:\n",
    "        for i in range(K):\n",
    "            if i + e < K:\n",
    "                r[i + e] |= r[i]\n",
    "    lue = 0\n",
    "    for i in range(K):\n",
    "        if not r[i]:\n",
    "            lue = i\n",
    "    return lue\n"
   ]
  },
  {
   "cell_type": "markdown",
   "metadata": {},
   "source": [
    "## Notes\n",
    "* Seems that $\\frac{F}{pqr}$ is strictly increasing for some fixed tuple $(p, q)$?\n",
    "* Even if it was strictly increasing, too difficult to calculate\n",
    "\n",
    "## Questions\n",
    "* Is this true for all? That it is strictly increasing?\n",
    "\n",
    "## Examples\n",
    "$(3, 5, X) \\to 22X - 15$\n",
    "\n",
    "\n",
    "$(A, B, 0) \\to -AB$\n",
    "\n",
    "$(2, 3) \\implies X = 7$\n",
    "\n",
    "$(3, 5) \\implies X = 22$\n",
    "\n",
    "$(5, 7) \\implies X = 58$\n",
    "\n",
    "$(A, B) \\implies AB - (A+B)$"
   ]
  },
  {
   "cell_type": "code",
   "execution_count": null,
   "metadata": {},
   "outputs": [
    {
     "name": "stdout",
     "output_type": "stream",
     "text": [
      "5 7 11 385 603 -603\n",
      "5 7 13 455 719 -116\n",
      "5 7 17 595 951 -232\n",
      "5 7 19 665 1067 -116\n",
      "5 7 23 805 1299 -232\n",
      "5 7 29 1015 1647 -348\n",
      "5 7 31 1085 1763 -116\n",
      "5 7 37 1295 2111 -348\n",
      "5 7 41 1435 2343 -232\n",
      "5 7 43 1505 2459 -116\n"
     ]
    },
    {
     "ename": "KeyboardInterrupt",
     "evalue": "",
     "output_type": "error",
     "traceback": [
      "\u001b[0;31m---------------------------------------------------------------------------\u001b[0m",
      "\u001b[0;31mKeyboardInterrupt\u001b[0m                         Traceback (most recent call last)",
      "Cell \u001b[0;32mIn[57], line 6\u001b[0m\n\u001b[1;32m      4\u001b[0m \u001b[38;5;28;01mfor\u001b[39;00m r \u001b[38;5;129;01min\u001b[39;00m \u001b[38;5;28mrange\u001b[39m(q \u001b[38;5;241m+\u001b[39m \u001b[38;5;241m1\u001b[39m, \u001b[38;5;28mlen\u001b[39m(primes)):\n\u001b[1;32m      5\u001b[0m     P, Q, R \u001b[38;5;241m=\u001b[39m primes[p], primes[q], primes[r]\n\u001b[0;32m----> 6\u001b[0m     F \u001b[38;5;241m=\u001b[39m \u001b[43mf\u001b[49m\u001b[43m(\u001b[49m\u001b[43m(\u001b[49m\u001b[43mP\u001b[49m\u001b[38;5;241;43m*\u001b[39;49m\u001b[43mQ\u001b[49m\u001b[43m,\u001b[49m\u001b[43m \u001b[49m\u001b[43mP\u001b[49m\u001b[38;5;241;43m*\u001b[39;49m\u001b[43mR\u001b[49m\u001b[43m,\u001b[49m\u001b[43m \u001b[49m\u001b[43mQ\u001b[49m\u001b[38;5;241;43m*\u001b[39;49m\u001b[43mR\u001b[49m\u001b[43m)\u001b[49m\u001b[43m)\u001b[49m\n\u001b[1;32m      7\u001b[0m     \u001b[38;5;28mprint\u001b[39m(P, Q, R, P\u001b[38;5;241m*\u001b[39mQ\u001b[38;5;241m*\u001b[39mR, F, L_F \u001b[38;5;241m-\u001b[39m F)\n\u001b[1;32m      8\u001b[0m     L_F \u001b[38;5;241m=\u001b[39m F\n",
      "Cell \u001b[0;32mIn[35], line 7\u001b[0m, in \u001b[0;36mf\u001b[0;34m(nums, K)\u001b[0m\n\u001b[1;32m      5\u001b[0m     \u001b[38;5;28;01mfor\u001b[39;00m i \u001b[38;5;129;01min\u001b[39;00m \u001b[38;5;28mrange\u001b[39m(K):\n\u001b[1;32m      6\u001b[0m         \u001b[38;5;28;01mif\u001b[39;00m i \u001b[38;5;241m+\u001b[39m e \u001b[38;5;241m<\u001b[39m K:\n\u001b[0;32m----> 7\u001b[0m             r[i \u001b[38;5;241m+\u001b[39m e] \u001b[38;5;241m|\u001b[39m\u001b[38;5;241m=\u001b[39m r[i]\n\u001b[1;32m      8\u001b[0m lue \u001b[38;5;241m=\u001b[39m \u001b[38;5;241m0\u001b[39m\n\u001b[1;32m      9\u001b[0m \u001b[38;5;28;01mfor\u001b[39;00m i \u001b[38;5;129;01min\u001b[39;00m \u001b[38;5;28mrange\u001b[39m(K):\n",
      "\u001b[0;31mKeyboardInterrupt\u001b[0m: "
     ]
    }
   ],
   "source": [
    "L_F = 0\n",
    "for p in range(2, len(primes)):\n",
    "    for q in range(p + 1, len(primes)):\n",
    "        for r in range(q + 1, len(primes)):\n",
    "            P, Q, R = primes[p], primes[q], primes[r]\n",
    "            F = f((P*Q, P*R, Q*R))\n",
    "            print(P, Q, R, P*Q*R, F, L_F - F)\n",
    "            L_F = F"
   ]
  },
  {
   "cell_type": "code",
   "execution_count": null,
   "metadata": {},
   "outputs": [],
   "source": []
  },
  {
   "cell_type": "code",
   "execution_count": 70,
   "metadata": {},
   "outputs": [
    {
     "data": {
      "application/vnd.jupyter.widget-view+json": {
       "model_id": "e015b37263e74c4a897b67d2b58a2b60",
       "version_major": 2,
       "version_minor": 0
      },
      "text/plain": [
       "  0%|          | 0/669 [00:00<?, ?it/s]"
      ]
     },
     "metadata": {},
     "output_type": "display_data"
    },
    {
     "data": {
      "text/plain": [
       "1228215747273908452"
      ]
     },
     "execution_count": 70,
     "metadata": {},
     "output_type": "execute_result"
    }
   ],
   "source": [
    "from tqdm.notebook import trange\n",
    "\n",
    "def solve(t):\n",
    "    a, b, c = t\n",
    "    return 2*a*b*c - c*a - c*b - a*b\n",
    "\n",
    "T = 0\n",
    "for p in trange(len(primes)):\n",
    "    for q in range(p + 1, len(primes)):\n",
    "        for r in range(q + 1, len(primes)):\n",
    "            P, Q, R = primes[p], primes[q], primes[r]\n",
    "            T += solve((P, Q, R))\n",
    "T"
   ]
  },
  {
   "cell_type": "code",
   "execution_count": null,
   "metadata": {},
   "outputs": [],
   "source": []
  }
 ],
 "metadata": {
  "kernelspec": {
   "display_name": "Python 3",
   "language": "python",
   "name": "python3"
  },
  "language_info": {
   "codemirror_mode": {
    "name": "ipython",
    "version": 3
   },
   "file_extension": ".py",
   "mimetype": "text/x-python",
   "name": "python",
   "nbconvert_exporter": "python",
   "pygments_lexer": "ipython3",
   "version": "3.9.6"
  }
 },
 "nbformat": 4,
 "nbformat_minor": 2
}
