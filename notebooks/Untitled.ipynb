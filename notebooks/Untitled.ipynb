{
 "cells": [
  {
   "cell_type": "code",
   "execution_count": 14,
   "id": "10148a6d-22db-47e2-906d-24a50fcc0e70",
   "metadata": {},
   "outputs": [],
   "source": [
    "# sidecnt, topcnt, totcnt, target = 12, 10, 20, 70\n",
    "sidecnt, topcnt, totcnt, target = 6, 3, 5, 15"
   ]
  },
  {
   "cell_type": "code",
   "execution_count": 15,
   "id": "6339ce50-2c78-4bdb-95dd-b741e78e2011",
   "metadata": {},
   "outputs": [
    {
     "data": {
      "text/plain": [
       "[3, 0, 0, 0, 0, 0]"
      ]
     },
     "execution_count": 15,
     "metadata": {},
     "output_type": "execute_result"
    }
   ],
   "source": []
  },
  {
   "cell_type": "code",
   "execution_count": 16,
   "id": "3ffc00e3-ed60-43a1-98d3-8a9d17907269",
   "metadata": {},
   "outputs": [],
   "source": [
    "from copy import deepcopy"
   ]
  },
  {
   "cell_type": "code",
   "execution_count": 55,
   "id": "8cfbb26d-59cf-4e5d-b3f1-432f28ee531f",
   "metadata": {},
   "outputs": [
    {
     "data": {
      "text/plain": [
       "[3, 0, 0, 0, 0, 0]"
      ]
     },
     "execution_count": 55,
     "metadata": {},
     "output_type": "execute_result"
    }
   ],
   "source": [
    "extra = totcnt - topcnt\n",
    "\n",
    "base = [0 for _ in range(sidecnt)]\n",
    "base[0] = topcnt\n",
    "base"
   ]
  },
  {
   "cell_type": "code",
   "execution_count": 58,
   "id": "48be6ca2-87d4-4def-90d8-903873e712be",
   "metadata": {},
   "outputs": [],
   "source": [
    "seen = set()\n",
    "def dfs(t):\n",
    "    if tuple(t) in seen:\n",
    "        return 0\n",
    "    seen.add(tuple(t))\n",
    "    ret = 0\n",
    "    tot = 0\n",
    "    miel = 20\n",
    "    for i in range(sidecnt):\n",
    "        if t[i]:\n",
    "            tot += (sidecnt - i) * t[i]\n",
    "            miel = min(sidecnt - i, miel)\n",
    "    # Check tot\n",
    "    if tot == target:\n",
    "        print(miel, extra, pow(miel, extra))\n",
    "        ret += pow(miel, extra)\n",
    "    print(t, tot)\n",
    "    # Take some value, dec i by k and then push. \n",
    "    for i in range(sidecnt):\n",
    "        for q in range(1, t[i] + 1):\n",
    "            for dec in range(1, sidecnt - i):\n",
    "                if tot - q * dec >= target:\n",
    "                    new_t = deepcopy(t)\n",
    "                    new_t[i] -= q\n",
    "                    new_t[i + dec] += q\n",
    "                    ret += dfs(new_t)\n",
    "    return ret"
   ]
  },
  {
   "cell_type": "code",
   "execution_count": 59,
   "id": "bc8fcee6-f817-4309-b0a3-01e5aa8b97cb",
   "metadata": {},
   "outputs": [
    {
     "name": "stdout",
     "output_type": "stream",
     "text": [
      "[3, 0, 0, 0, 0, 0] 18\n",
      "[2, 1, 0, 0, 0, 0] 17\n",
      "[1, 2, 0, 0, 0, 0] 16\n",
      "5 2 25\n",
      "[0, 3, 0, 0, 0, 0] 15\n",
      "4 2 16\n",
      "[1, 1, 1, 0, 0, 0] 15\n",
      "[2, 0, 1, 0, 0, 0] 16\n",
      "3 2 9\n",
      "[2, 0, 0, 1, 0, 0] 15\n"
     ]
    },
    {
     "data": {
      "text/plain": [
       "50"
      ]
     },
     "execution_count": 59,
     "metadata": {},
     "output_type": "execute_result"
    }
   ],
   "source": [
    "dfs(base)"
   ]
  },
  {
   "cell_type": "code",
   "execution_count": null,
   "id": "653de3ac-e94b-44f9-94c2-7e90d8ba98a1",
   "metadata": {},
   "outputs": [],
   "source": [
    "\n"
   ]
  }
 ],
 "metadata": {
  "kernelspec": {
   "display_name": "Python 3 (ipykernel)",
   "language": "python",
   "name": "python3"
  },
  "language_info": {
   "codemirror_mode": {
    "name": "ipython",
    "version": 3
   },
   "file_extension": ".py",
   "mimetype": "text/x-python",
   "name": "python",
   "nbconvert_exporter": "python",
   "pygments_lexer": "ipython3",
   "version": "3.12.4"
  }
 },
 "nbformat": 4,
 "nbformat_minor": 5
}
