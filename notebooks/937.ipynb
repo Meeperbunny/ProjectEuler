{
 "cells": [
  {
   "cell_type": "code",
   "execution_count": 6,
   "metadata": {},
   "outputs": [],
   "source": [
    "th = (-2)**0.5"
   ]
  },
  {
   "cell_type": "code",
   "execution_count": 23,
   "metadata": {},
   "outputs": [
    {
     "data": {
      "text/plain": [
       "99"
      ]
     },
     "execution_count": 23,
     "metadata": {},
     "output_type": "execute_result"
    }
   ],
   "source": [
    "T = set()\n",
    "for a in range(0, 10):\n",
    "    for b in range(0, 10):\n",
    "        if (a > 0) or (a == 0 and b > 0):\n",
    "            T.add(a + b * th)\n",
    "len(T)"
   ]
  },
  {
   "cell_type": "code",
   "execution_count": 29,
   "metadata": {},
   "outputs": [],
   "source": [
    "from math import isclose\n",
    "def isc(a, b):\n",
    "    if isinstance(a, complex) and isinstance(b, complex):\n",
    "        return isclose(a.real, b.real) and isclose(a.imag, b.imag)\n",
    "    elif not isinstance(a, complex) and not isinstance(b, complex):\n",
    "        return isclose(a, b)\n",
    "    else:\n",
    "        if not isinstance(a, complex):\n",
    "            a, b = b, a\n",
    "        return isclose(a.imag, 0) and isclose(a.real, b)"
   ]
  },
  {
   "cell_type": "code",
   "execution_count": 37,
   "metadata": {},
   "outputs": [],
   "source": [
    "def sieve(n):\n",
    "    s = [1 for _ in range(n + 1)]\n",
    "    primes = []\n",
    "    for q in range(2, n + 1):\n",
    "        if s[q]:\n",
    "            primes.append(q)\n",
    "            for i in range(2 * q, n + 1, q):\n",
    "                s[i] = 0\n",
    "    return primes"
   ]
  },
  {
   "cell_type": "code",
   "execution_count": 39,
   "metadata": {},
   "outputs": [],
   "source": [
    "primes = sieve(100)"
   ]
  },
  {
   "cell_type": "code",
   "execution_count": 40,
   "metadata": {},
   "outputs": [],
   "source": [
    "mod = int(1e9+7)"
   ]
  },
  {
   "cell_type": "code",
   "execution_count": 41,
   "metadata": {},
   "outputs": [],
   "source": [
    "def fac(n):\n",
    "    return 1 if n <= 1 else (fac(n - 1) * n) % mod"
   ]
  },
  {
   "cell_type": "code",
   "execution_count": 42,
   "metadata": {},
   "outputs": [
    {
     "data": {
      "text/plain": [
       "745"
      ]
     },
     "execution_count": 42,
     "metadata": {},
     "output_type": "execute_result"
    }
   ],
   "source": [
    "fac(6) + fac(4) + fac(1)"
   ]
  },
  {
   "cell_type": "code",
   "execution_count": 58,
   "metadata": {},
   "outputs": [
    {
     "data": {
      "text/plain": [
       "663582821"
      ]
     },
     "execution_count": 58,
     "metadata": {},
     "output_type": "execute_result"
    }
   ],
   "source": [
    "T = 0\n",
    "for i in range(1, 100 + 1):\n",
    "    if i not in primes:\n",
    "        T += fac(i)\n",
    "T % mod"
   ]
  },
  {
   "cell_type": "code",
   "execution_count": null,
   "metadata": {},
   "outputs": [],
   "source": [
    "# A: 1, 4\n",
    "# B: 2, 3, 5, 7"
   ]
  },
  {
   "cell_type": "code",
   "execution_count": 83,
   "metadata": {},
   "outputs": [],
   "source": [
    "A, B = set(), set()\n",
    "A.add(1)"
   ]
  },
  {
   "cell_type": "code",
   "execution_count": 98,
   "metadata": {},
   "outputs": [],
   "source": [
    "def p(S, z):\n",
    "    c = 0\n",
    "    for e1 in S:\n",
    "        for e2 in S:\n",
    "            if e1 != e2 and e1 < e2:\n",
    "                if e1 * e2 == z:\n",
    "                    c += 1\n",
    "    return c"
   ]
  },
  {
   "cell_type": "code",
   "execution_count": 100,
   "metadata": {},
   "outputs": [
    {
     "data": {
      "text/plain": [
       "1"
      ]
     },
     "execution_count": 100,
     "metadata": {},
     "output_type": "execute_result"
    }
   ],
   "source": [
    "p({1, 2, 4}, 4)"
   ]
  },
  {
   "cell_type": "code",
   "execution_count": 101,
   "metadata": {},
   "outputs": [],
   "source": [
    "from tqdm import tqdm"
   ]
  },
  {
   "cell_type": "code",
   "execution_count": null,
   "metadata": {},
   "outputs": [],
   "source": []
  },
  {
   "cell_type": "code",
   "execution_count": 111,
   "metadata": {},
   "outputs": [
    {
     "name": "stderr",
     "output_type": "stream",
     "text": [
      "100%|██████████| 98/98 [00:00<00:00, 13997.68it/s]\n"
     ]
    }
   ],
   "source": [
    "A, B = set(), set()\n",
    "A.add(1)\n",
    "for i in tqdm(range(2, 100)):\n",
    "    specA = A.copy()\n",
    "    specA.add(i)\n",
    "    # print(i, p(specA, i), p(B, i))\n",
    "    if p(specA, i) == p(B, i):\n",
    "        A = specA.copy()\n",
    "        continue\n",
    "    else:\n",
    "        B.add(i)"
   ]
  },
  {
   "cell_type": "code",
   "execution_count": 112,
   "metadata": {},
   "outputs": [
    {
     "data": {
      "text/plain": [
       "{1,\n",
       " 6,\n",
       " 8,\n",
       " 10,\n",
       " 12,\n",
       " 14,\n",
       " 15,\n",
       " 18,\n",
       " 20,\n",
       " 21,\n",
       " 22,\n",
       " 26,\n",
       " 27,\n",
       " 28,\n",
       " 32,\n",
       " 33,\n",
       " 34,\n",
       " 35,\n",
       " 36,\n",
       " 38,\n",
       " 39,\n",
       " 44,\n",
       " 45,\n",
       " 46,\n",
       " 48,\n",
       " 50,\n",
       " 51,\n",
       " 52,\n",
       " 55,\n",
       " 57,\n",
       " 58,\n",
       " 62,\n",
       " 63,\n",
       " 64,\n",
       " 65,\n",
       " 68,\n",
       " 69,\n",
       " 74,\n",
       " 75,\n",
       " 76,\n",
       " 77,\n",
       " 80,\n",
       " 82,\n",
       " 85,\n",
       " 86,\n",
       " 87,\n",
       " 91,\n",
       " 92,\n",
       " 93,\n",
       " 94,\n",
       " 95,\n",
       " 98,\n",
       " 99}"
      ]
     },
     "execution_count": 112,
     "metadata": {},
     "output_type": "execute_result"
    }
   ],
   "source": [
    "A"
   ]
  },
  {
   "cell_type": "code",
   "execution_count": null,
   "metadata": {},
   "outputs": [],
   "source": [
    "(a + b*T) * (c - d*T)\n",
    "if a * d == c * b:\n",
    "    a * c + (b * d) * (-2)\n",
    "\n",
    "# pure imag^2 -> int\n",
    "# mixed and imag/mixed/int -> mixed or int or imag\n",
    "# int with imag -> imag\n",
    "# int with int -> int\n",
    "# Solve for mixed nums"
   ]
  },
  {
   "cell_type": "code",
   "execution_count": 114,
   "metadata": {},
   "outputs": [],
   "source": [
    "from collections import Counter"
   ]
  },
  {
   "cell_type": "code",
   "execution_count": 117,
   "metadata": {},
   "outputs": [
    {
     "name": "stdout",
     "output_type": "stream",
     "text": [
      "1 1\n",
      "2 2\n",
      "3 4\n",
      "4 3\n",
      "5 4\n",
      "6 8\n",
      "7 4\n",
      "8 6\n",
      "9 9\n",
      "10 8\n",
      "11 4\n",
      "12 12\n",
      "13 4\n",
      "14 8\n",
      "15 16\n",
      "16 11\n",
      "17 4\n",
      "18 18\n",
      "19 4\n",
      "20 12\n",
      "21 16\n",
      "22 8\n",
      "23 4\n",
      "24 24\n",
      "25 9\n",
      "26 8\n",
      "27 16\n",
      "28 12\n",
      "29 4\n",
      "30 32\n",
      "31 4\n",
      "32 18\n",
      "33 16\n",
      "34 8\n",
      "35 16\n",
      "36 27\n",
      "37 4\n",
      "38 8\n",
      "39 16\n",
      "40 24\n",
      "41 4\n",
      "42 32\n",
      "43 4\n",
      "44 12\n",
      "45 36\n",
      "46 8\n",
      "47 4\n",
      "48 44\n",
      "49 9\n",
      "50 16\n",
      "51 14\n",
      "52 10\n",
      "53 2\n",
      "54 30\n",
      "55 14\n",
      "56 22\n",
      "57 14\n",
      "58 6\n",
      "59 2\n",
      "60 46\n",
      "61 2\n",
      "62 6\n",
      "63 34\n",
      "64 25\n",
      "65 14\n",
      "66 30\n",
      "67 2\n",
      "68 10\n",
      "69 14\n",
      "70 30\n",
      "71 2\n",
      "72 52\n",
      "73 2\n",
      "74 6\n",
      "75 30\n",
      "76 10\n",
      "77 14\n",
      "78 26\n",
      "79 2\n",
      "80 42\n",
      "81 19\n",
      "82 6\n",
      "83 2\n",
      "84 42\n",
      "85 10\n",
      "86 6\n",
      "87 10\n",
      "88 22\n",
      "89 2\n",
      "90 58\n",
      "91 10\n",
      "92 10\n",
      "93 10\n",
      "94 6\n",
      "95 6\n",
      "96 66\n",
      "97 2\n",
      "98 8\n",
      "99 16\n"
     ]
    }
   ],
   "source": [
    "C = Counter()\n",
    "for a in range(1, 50):\n",
    "    for b in range(-50, 50):\n",
    "        for c in range(1, 50):\n",
    "            for d in range(-50, 50):\n",
    "                # (a + bT)(c - dT)\n",
    "                # a * c - adT + cbT - db(-2)\n",
    "                if c * b == a * d:\n",
    "                    C[a * c - d * b] += 1\n",
    "for i in range(1, 100):\n",
    "    if i in C:\n",
    "        print(i, C[i])"
   ]
  },
  {
   "cell_type": "code",
   "execution_count": null,
   "metadata": {},
   "outputs": [],
   "source": [
    "A: [1, 1 + T]\n",
    "B: [T, 1 - T]\n",
    "\n",
    "(1 + T, 1 + T)\n",
    "1 - T"
   ]
  },
  {
   "cell_type": "code",
   "execution_count": null,
   "metadata": {},
   "outputs": [],
   "source": [
    "A: [1]\n",
    "B: [T]\n",
    "\n",
    "1 + T\n",
    "1 - T\n",
    "2 + T\n",
    "2 - T"
   ]
  },
  {
   "cell_type": "code",
   "execution_count": null,
   "metadata": {},
   "outputs": [
    {
     "name": "stdout",
     "output_type": "stream",
     "text": [
      "1\n",
      "2\n",
      "6\n",
      "24\n",
      "120\n",
      "720\n",
      "5040\n"
     ]
    },
    {
     "data": {
      "text/plain": [
       "127"
      ]
     },
     "execution_count": 104,
     "metadata": {},
     "output_type": "execute_result"
    }
   ],
   "source": [
    "T = 0\n",
    "for i in range(1, 7 + 1):\n",
    "    print(fac(i))\n",
    "    if fac(i) in A:\n",
    "        T += fac(i)\n",
    "T"
   ]
  },
  {
   "cell_type": "code",
   "execution_count": 81,
   "metadata": {},
   "outputs": [
    {
     "data": {
      "text/plain": [
       "168637565"
      ]
     },
     "execution_count": 81,
     "metadata": {},
     "output_type": "execute_result"
    }
   ],
   "source": [
    "T = 0\n",
    "for e in A:\n",
    "    T += fac(e)\n",
    "T % mod"
   ]
  }
 ],
 "metadata": {
  "kernelspec": {
   "display_name": "Python 3",
   "language": "python",
   "name": "python3"
  },
  "language_info": {
   "codemirror_mode": {
    "name": "ipython",
    "version": 3
   },
   "file_extension": ".py",
   "mimetype": "text/x-python",
   "name": "python",
   "nbconvert_exporter": "python",
   "pygments_lexer": "ipython3",
   "version": "3.12.4"
  }
 },
 "nbformat": 4,
 "nbformat_minor": 2
}
