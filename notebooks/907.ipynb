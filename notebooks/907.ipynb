{
 "cells": [
  {
   "cell_type": "code",
   "execution_count": 108,
   "id": "6e0f347b-b385-4491-8d30-0f327a1afe45",
   "metadata": {},
   "outputs": [],
   "source": [
    "def ans(n):\n",
    "    # First is facing right\n",
    "    fill = [0 for _ in range(n + 1)]\n",
    "    fill[1] = 1\n",
    "    fill[2] = 1\n",
    "    fill[3] = 2\n",
    "    for i in range(4, n + 1):\n",
    "        fill[i] += fill[i - 1] + fill[i - 3]\n",
    "    print(fill)\n",
    "    return fill[n] * 2 + (2 * n - 4)\n"
   ]
  },
  {
   "cell_type": "code",
   "execution_count": 109,
   "id": "f7b735fc-d6dc-4da6-b79a-e2c29feb17b5",
   "metadata": {},
   "outputs": [
    {
     "name": "stdout",
     "output_type": "stream",
     "text": [
      "[0, 1, 1, 2, 3]\n",
      "[0, 1, 1, 2, 3, 4, 6, 9, 13]\n",
      "[0, 1, 1, 2, 3, 4, 6, 9, 13, 19, 28, 41, 60, 88, 129, 189, 277, 406, 595, 872, 1278]\n"
     ]
    },
    {
     "data": {
      "text/plain": [
       "(10, 38, 2592)"
      ]
     },
     "execution_count": 109,
     "metadata": {},
     "output_type": "execute_result"
    }
   ],
   "source": [
    "ans(4), ans(8), ans(20)"
   ]
  },
  {
   "cell_type": "code",
   "execution_count": null,
   "id": "436b3bea-30fd-4fb4-9166-1cadc0d5940b",
   "metadata": {},
   "outputs": [],
   "source": []
  }
 ],
 "metadata": {
  "kernelspec": {
   "display_name": "Python 3 (ipykernel)",
   "language": "python",
   "name": "python3"
  },
  "language_info": {
   "codemirror_mode": {
    "name": "ipython",
    "version": 3
   },
   "file_extension": ".py",
   "mimetype": "text/x-python",
   "name": "python",
   "nbconvert_exporter": "python",
   "pygments_lexer": "ipython3",
   "version": "3.12.6"
  }
 },
 "nbformat": 4,
 "nbformat_minor": 5
}
