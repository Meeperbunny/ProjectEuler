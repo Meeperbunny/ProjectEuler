{
 "cells": [
  {
   "cell_type": "code",
   "execution_count": 87,
   "metadata": {},
   "outputs": [],
   "source": [
    "def ans(n):\n",
    "    s = [0 for _ in range(n + 1)]\n",
    "    c = [0 for _ in range(n + 1)]\n",
    "    s[1] = 1\n",
    "    c[1] = 1\n",
    "    for i in range(2, n + 1):\n",
    "        if i < 10:\n",
    "            c[i] = 1\n",
    "            s[i] = i\n",
    "        for d in range(1, 10):\n",
    "            if i - d <= 0:\n",
    "                break\n",
    "            s[i] += s[i - d] * 10 + c[i - d] * d\n",
    "            c[i] += c[i - d]\n",
    "    return s[n]"
   ]
  },
  {
   "cell_type": "code",
   "execution_count": 88,
   "metadata": {},
   "outputs": [
    {
     "data": {
      "text/plain": [
       "17891"
      ]
     },
     "execution_count": 88,
     "metadata": {},
     "output_type": "execute_result"
    }
   ],
   "source": [
    "ans(5)"
   ]
  },
  {
   "cell_type": "code",
   "execution_count": 84,
   "metadata": {},
   "outputs": [],
   "source": [
    "def solve(n):\n",
    "    s = [0 for _ in range(n + 1)]\n",
    "    c = [0 for _ in range(n + 1)]\n",
    "    s[1] = 1\n",
    "    c[1] = 1\n",
    "    for i in range(2, n + 1):\n",
    "        if i < 10:\n",
    "            c[i] = 1\n",
    "            s[i] = i\n",
    "        for d in range(1, 10):\n",
    "            if i - d <= 0:\n",
    "                break\n",
    "            s[i] += s[i - d] * 10 + c[i - d] * d\n",
    "            c[i] += c[i - d]\n",
    "    return s, c"
   ]
  },
  {
   "cell_type": "code",
   "execution_count": 25,
   "metadata": {},
   "outputs": [],
   "source": [
    "s, c = solve(10)\n",
    "base = [[0 for _ in range(20)]]\n",
    "for i in range(10):\n",
    "    base[0][2 * i] = s[i]\n",
    "    base[0][2 * i + 1] = c[i]\n",
    "# base"
   ]
  },
  {
   "cell_type": "code",
   "execution_count": 3,
   "metadata": {},
   "outputs": [
    {
     "data": {
      "text/plain": [
       "3835856884757"
      ]
     },
     "execution_count": 3,
     "metadata": {},
     "output_type": "execute_result"
    }
   ],
   "source": [
    "solve(13)"
   ]
  },
  {
   "cell_type": "code",
   "execution_count": 18,
   "metadata": {},
   "outputs": [],
   "source": [
    "m = 1000_000_000"
   ]
  },
  {
   "cell_type": "code",
   "execution_count": null,
   "metadata": {},
   "outputs": [],
   "source": [
    "def mult(A, B):\n",
    "    res = [[0 for _ in range(len(B[0]))] for _ in range(len(A))]\n",
    "    assert(len(A[0]) == len(B))\n",
    "    for i in range(len(A)):\n",
    "        for q in range(len(B[0])):\n",
    "            for j in range(len(B)):\n",
    "                res[i][q] += A[i][j] * B[j][q]\n",
    "                res[i][q] %= m\n",
    "    return res"
   ]
  },
  {
   "cell_type": "code",
   "execution_count": null,
   "metadata": {},
   "outputs": [],
   "source": [
    "def solve(n):\n",
    "    s = [0 for _ in range(n + 1)]\n",
    "    c = [0 for _ in range(n + 1)]\n",
    "    s[1] = 1\n",
    "    c[1] = 1\n",
    "    for i in range(2, n + 1):\n",
    "        if i < 10:\n",
    "            c[i] = 1\n",
    "            s[i] = i\n",
    "        for d in range(1, 10):\n",
    "            if i - d <= 0:\n",
    "                break\n",
    "            s[i] += s[i - d] * 10 + c[i - d] * d\n",
    "            c[i] += c[i - d]\n",
    "    return s, c"
   ]
  },
  {
   "cell_type": "code",
   "execution_count": null,
   "metadata": {},
   "outputs": [
    {
     "data": {
      "text/plain": [
       "[[0,\n",
       "  0,\n",
       "  1,\n",
       "  1,\n",
       "  13,\n",
       "  2,\n",
       "  147,\n",
       "  4,\n",
       "  1625,\n",
       "  8,\n",
       "  17891,\n",
       "  16,\n",
       "  196833,\n",
       "  32,\n",
       "  2165227,\n",
       "  64,\n",
       "  23817625,\n",
       "  128,\n",
       "  261994131,\n",
       "  256]]"
      ]
     },
     "execution_count": 64,
     "metadata": {},
     "output_type": "execute_result"
    }
   ],
   "source": [
    "base"
   ]
  },
  {
   "cell_type": "code",
   "execution_count": 106,
   "metadata": {},
   "outputs": [
    {
     "data": {
      "text/plain": [
       "[[13,\n",
       "  2,\n",
       "  147,\n",
       "  4,\n",
       "  1625,\n",
       "  8,\n",
       "  17891,\n",
       "  16,\n",
       "  196833,\n",
       "  32,\n",
       "  2165227,\n",
       "  64,\n",
       "  23817625,\n",
       "  128,\n",
       "  261994131,\n",
       "  256,\n",
       "  2881935943,\n",
       "  511,\n",
       "  31701296375,\n",
       "  1021]]"
      ]
     },
     "execution_count": 106,
     "metadata": {},
     "output_type": "execute_result"
    }
   ],
   "source": [
    "mult(base, mult(gen_transition(),  gen_transition()))"
   ]
  },
  {
   "cell_type": "code",
   "execution_count": null,
   "metadata": {},
   "outputs": [],
   "source": [
    "def gen_transition():\n",
    "    transition = [[0 for _ in range(20)] for _ in range(20)]\n",
    "    for i in range(0, 18):\n",
    "        transition[i + 2][i] = 1\n",
    "    for d in range(0, 9):\n",
    "        transition[18 - 2 * d][18] = 10\n",
    "        transition[19 - 2 * d][18] = d + 1\n",
    "        transition[19 - 2 * d][19] = 1\n",
    "    return transition"
   ]
  },
  {
   "cell_type": "code",
   "execution_count": 93,
   "metadata": {},
   "outputs": [],
   "source": [
    "M = gen_transition()"
   ]
  },
  {
   "cell_type": "code",
   "execution_count": null,
   "metadata": {},
   "outputs": [],
   "source": [
    "def solve(k):\n",
    "    B = base.copy()\n",
    "    M = gen_transition()\n",
    "    C = gen_transition()\n",
    "    k -= 1\n",
    "    while k:\n",
    "        if k & 1:\n",
    "            M = mult(C, M)\n",
    "            k -= 1\n",
    "        else:\n",
    "            C = mult(C, C)\n",
    "            k //= 2\n",
    "    return mult(B, M)[0][0]"
   ]
  },
  {
   "cell_type": "code",
   "execution_count": 115,
   "metadata": {},
   "outputs": [
    {
     "data": {
      "text/plain": [
       "(2881935943, 881935943)"
      ]
     },
     "execution_count": 115,
     "metadata": {},
     "output_type": "execute_result"
    }
   ],
   "source": [
    "k = 10\n",
    "ans(k), solve(k)"
   ]
  },
  {
   "cell_type": "code",
   "execution_count": 116,
   "metadata": {},
   "outputs": [
    {
     "data": {
      "text/plain": [
       "732385277"
      ]
     },
     "execution_count": 116,
     "metadata": {},
     "output_type": "execute_result"
    }
   ],
   "source": [
    "T = 0\n",
    "for i in range(1, 17 + 1):\n",
    "    T += solve(pow(13, i))\n",
    "T % 10**9"
   ]
  },
  {
   "cell_type": "code",
   "execution_count": null,
   "metadata": {},
   "outputs": [
    {
     "data": {
      "text/plain": [
       "[[1,\n",
       "  1,\n",
       "  13,\n",
       "  2,\n",
       "  147,\n",
       "  4,\n",
       "  1625,\n",
       "  8,\n",
       "  17891,\n",
       "  16,\n",
       "  196833,\n",
       "  32,\n",
       "  2165227,\n",
       "  64,\n",
       "  23817625,\n",
       "  128,\n",
       "  261994131,\n",
       "  256,\n",
       "  881935432,\n",
       "  511]]"
      ]
     },
     "execution_count": 26,
     "metadata": {},
     "output_type": "execute_result"
    }
   ],
   "source": [
    "mult(base, M)"
   ]
  }
 ],
 "metadata": {
  "kernelspec": {
   "display_name": "Python 3",
   "language": "python",
   "name": "python3"
  },
  "language_info": {
   "codemirror_mode": {
    "name": "ipython",
    "version": 3
   },
   "file_extension": ".py",
   "mimetype": "text/x-python",
   "name": "python",
   "nbconvert_exporter": "python",
   "pygments_lexer": "ipython3",
   "version": "3.9.6"
  }
 },
 "nbformat": 4,
 "nbformat_minor": 2
}
