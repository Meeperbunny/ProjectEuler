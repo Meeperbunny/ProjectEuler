{
 "cells": [
  {
   "cell_type": "code",
   "execution_count": 15,
   "id": "1e4603d9-9936-4562-893d-7cf14e59b6c1",
   "metadata": {},
   "outputs": [],
   "source": [
    "def compositions(k, n, maxnum):\n",
    "    if k == 1:\n",
    "        if n <= maxnum:\n",
    "            return [(n,)]\n",
    "        else:\n",
    "            return []\n",
    "\n",
    "    comp = []\n",
    "    for i in range(maxnum + 1):\n",
    "        for t in compositions(k - 1, n - i, min(i, n)):\n",
    "            comp.append((i,) + t)\n",
    "    return comp"
   ]
  },
  {
   "cell_type": "code",
   "execution_count": 16,
   "id": "0911cc23-11ed-4e8a-bf97-fba02778757f",
   "metadata": {},
   "outputs": [],
   "source": [
    "sides = 6\n",
    "tot_dice = 5\n",
    "max_cnt = 3\n",
    "tot = 15"
   ]
  },
  {
   "cell_type": "code",
   "execution_count": 24,
   "id": "11234110-0184-4e8a-8360-091b4ddf02b0",
   "metadata": {},
   "outputs": [
    {
     "name": "stdout",
     "output_type": "stream",
     "text": [
      "(5, 5, 5) 5\n",
      "25\n",
      "(6, 5, 4) 4\n",
      "16\n",
      "(6, 6, 3) 3\n",
      "9\n"
     ]
    }
   ],
   "source": [
    "for comp in compositions(max_cnt, tot, sides):\n",
    "    min_num = comp[-1]\n",
    "    print(comp, min_num)\n",
    "    f_cnt = tot_dice - max_cnt\n",
    "    f_cnt_m = pow(min_num, f_cnt)\n",
    "    print(f_cnt_m)"
   ]
  },
  {
   "cell_type": "code",
   "execution_count": null,
   "id": "8f0e6a77-ca70-441c-b94f-88569e38a4ee",
   "metadata": {},
   "outputs": [],
   "source": []
  }
 ],
 "metadata": {
  "kernelspec": {
   "display_name": "Python 3 (ipykernel)",
   "language": "python",
   "name": "python3"
  },
  "language_info": {
   "codemirror_mode": {
    "name": "ipython",
    "version": 3
   },
   "file_extension": ".py",
   "mimetype": "text/x-python",
   "name": "python",
   "nbconvert_exporter": "python",
   "pygments_lexer": "ipython3",
   "version": "3.12.4"
  }
 },
 "nbformat": 4,
 "nbformat_minor": 5
}
