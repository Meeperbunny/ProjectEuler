{
 "cells": [
  {
   "cell_type": "code",
   "execution_count": 1,
   "id": "1e4603d9-9936-4562-893d-7cf14e59b6c1",
   "metadata": {},
   "outputs": [],
   "source": [
    "def compositions(k, n, maxnum):\n",
    "    if k == 1:\n",
    "        if n <= maxnum:\n",
    "            return [(n,)]\n",
    "        else:\n",
    "            return []\n",
    "\n",
    "    comp = []\n",
    "    for i in range(maxnum + 1):\n",
    "        for t in compositions(k - 1, n - i, min(i, n)):\n",
    "            comp.append((i,) + t)\n",
    "    return comp"
   ]
  },
  {
   "cell_type": "code",
   "execution_count": 2,
   "id": "0911cc23-11ed-4e8a-bf97-fba02778757f",
   "metadata": {},
   "outputs": [],
   "source": [
    "sides = 6\n",
    "tot_dice = 5\n",
    "max_cnt = 3\n",
    "tot = 15"
   ]
  },
  {
   "cell_type": "code",
   "execution_count": 3,
   "id": "11234110-0184-4e8a-8360-091b4ddf02b0",
   "metadata": {},
   "outputs": [
    {
     "name": "stdout",
     "output_type": "stream",
     "text": [
      "(5, 5, 5) 5\n",
      "25\n",
      "(6, 5, 4) 4\n",
      "16\n",
      "(6, 6, 3) 3\n",
      "9\n"
     ]
    }
   ],
   "source": [
    "for comp in compositions(max_cnt, tot, sides):\n",
    "    min_num = comp[-1]\n",
    "    print(comp, min_num)\n",
    "    f_cnt = tot_dice - max_cnt\n",
    "    f_cnt_m = pow(min_num, f_cnt)\n",
    "    print(f_cnt_m)"
   ]
  },
  {
   "cell_type": "code",
   "execution_count": 169,
   "id": "5b14a709",
   "metadata": {},
   "outputs": [],
   "source": [
    "sides, S, cnt, F = 12, 70, 10, 20"
   ]
  },
  {
   "cell_type": "code",
   "execution_count": 142,
   "id": "f9eab7a4",
   "metadata": {},
   "outputs": [],
   "source": [
    "sides, S, cnt, F = 6, 15, 3, 5"
   ]
  },
  {
   "cell_type": "code",
   "execution_count": 122,
   "id": "c5d09d72",
   "metadata": {},
   "outputs": [],
   "source": [
    "from collections import Counter"
   ]
  },
  {
   "cell_type": "code",
   "execution_count": 170,
   "id": "452589c5",
   "metadata": {},
   "outputs": [],
   "source": [
    "def W(mv):\n",
    "    ways = [[0 for _ in range(cnt + 1)] for _ in range(S + 1)]\n",
    "    lists = [[Counter() for _ in range(cnt + 1)] for _ in range(S + 1)]\n",
    "    ways[0][0] = 1\n",
    "    lists[0][0][tuple((0 for _ in range(sides)))] = 1\n",
    "\n",
    "\n",
    "    for i in range(0, S):\n",
    "        for q in range(0, cnt):\n",
    "            for dv in range(mv, sides + 1):\n",
    "                if i + dv <= S and q + 1 <= cnt:\n",
    "                    ways[i + dv][q + 1] += ways[i][q]\n",
    "                    for e, oc in lists[i][q].items():\n",
    "                        t = list(e)\n",
    "                        t[dv - 1] += 1\n",
    "                        lists[i + dv][q + 1][tuple(t)] += oc\n",
    "    return ways[S][cnt], lists[S][cnt]\n",
    "L = W(1)[1]"
   ]
  },
  {
   "cell_type": "code",
   "execution_count": 171,
   "id": "696fef96",
   "metadata": {},
   "outputs": [],
   "source": [
    "from scipy.special import factorial as f"
   ]
  },
  {
   "cell_type": "code",
   "execution_count": 172,
   "id": "e3104ebb",
   "metadata": {},
   "outputs": [],
   "source": [
    "def fac(n):\n",
    "    return int(f(n))"
   ]
  },
  {
   "cell_type": "code",
   "execution_count": 173,
   "id": "bebf38a3",
   "metadata": {},
   "outputs": [],
   "source": [
    "def binom(n, k):\n",
    "    return fac(n) // fac(n - k) // fac(k)"
   ]
  },
  {
   "cell_type": "code",
   "execution_count": 174,
   "id": "8024e168",
   "metadata": {},
   "outputs": [],
   "source": [
    "def ways(t):\n",
    "    b = 1\n",
    "    for e in t:\n",
    "        b *= fac(e)\n",
    "    return fac(F) // b"
   ]
  },
  {
   "cell_type": "code",
   "execution_count": 175,
   "id": "085c7dca",
   "metadata": {},
   "outputs": [
    {
     "data": {
      "text/plain": [
       "7448717393364181966"
      ]
     },
     "execution_count": 175,
     "metadata": {},
     "output_type": "execute_result"
    }
   ],
   "source": [
    "T = 0\n",
    "for t, c in L.items():\n",
    "    w = ways(t)\n",
    "    mv = 0\n",
    "    for i in range(0, 100):\n",
    "        if t[i]:\n",
    "            mv = i + 1\n",
    "            break\n",
    "    mvc = t[mv - 1]\n",
    "    # print(mvc)\n",
    "    maxmv = F - cnt + mvc\n",
    "    for lc in range(mvc, maxmv + 1):\n",
    "        lower = F - cnt - (lc - mvc)\n",
    "        # print(t, lc, lower)\n",
    "        a1 = (mv - 1)**lower # Need to place them still\n",
    "        tt = list(t) + [0]\n",
    "        tt[mv - 1] = lc\n",
    "        tt[-1] = lower\n",
    "        w = ways(tt)\n",
    "        # print(tt, ways(tt))\n",
    "        # print(w * a1)\n",
    "        T += w * a1\n",
    "T\n",
    "        \n",
    "T    "
   ]
  },
  {
   "cell_type": "code",
   "execution_count": 68,
   "id": "565ca807",
   "metadata": {},
   "outputs": [
    {
     "ename": "SyntaxError",
     "evalue": "invalid syntax (1153455814.py, line 1)",
     "output_type": "error",
     "traceback": [
      "\u001b[1;36m  Cell \u001b[1;32mIn[68], line 1\u001b[1;36m\u001b[0m\n\u001b[1;33m    4 5 6\u001b[0m\n\u001b[1;37m      ^\u001b[0m\n\u001b[1;31mSyntaxError\u001b[0m\u001b[1;31m:\u001b[0m invalid syntax\n"
     ]
    }
   ],
   "source": []
  },
  {
   "cell_type": "code",
   "execution_count": 42,
   "id": "6cb2b8be",
   "metadata": {},
   "outputs": [
    {
     "name": "stdout",
     "output_type": "stream",
     "text": [
      "1 0 1\n",
      "2 0 4\n",
      "3 1 9\n",
      "4 1 16\n",
      "5 1 25\n",
      "6 0 36\n"
     ]
    },
    {
     "data": {
      "text/plain": [
       "50"
      ]
     },
     "execution_count": 42,
     "metadata": {},
     "output_type": "execute_result"
    }
   ],
   "source": [
    "dp = [[[0 for _ in range(S + 1)] for _ in range(cnt + 1)] for _ in range(sides + 2)]\n",
    "dp[sides + 1][0][0] = 1\n",
    "\n",
    "for dice_val in range(sides, 0, -1):\n",
    "    for last_val in range(dice_val + 1, sides + 2):\n",
    "        # print(dice_val, last_val)\n",
    "            for c in range(0, cnt):\n",
    "                for n in range(1, cnt + 1):\n",
    "                    for i in range(0, S + 1):\n",
    "                        if c + n <= cnt and i - dice_val * n >= 0:\n",
    "                            # print(dice_val)\n",
    "                            # if last_val == 13 and c == 0 and i - dice_val * n == 0:\n",
    "                            #     print(\"Adding\")\n",
    "                            dp[dice_val][c + n][i] += dp[last_val][c][i - dice_val * n]\n",
    "T = 0\n",
    "for dv in range(1, sides + 1):\n",
    "    free = dv**2\n",
    "    print(dv, dp[dv][cnt][S], free)\n",
    "    T += dp[dv][cnt][S] * free\n",
    "T"
   ]
  },
  {
   "cell_type": "code",
   "execution_count": null,
   "id": "e338e812",
   "metadata": {},
   "outputs": [],
   "source": [
    "sides, S, cnt = 12, 70, 10"
   ]
  },
  {
   "cell_type": "code",
   "execution_count": 24,
   "id": "8f0e6a77-ca70-441c-b94f-88569e38a4ee",
   "metadata": {},
   "outputs": [
    {
     "name": "stdout",
     "output_type": "stream",
     "text": [
      "1 3712\n",
      "2 2724\n",
      "3 1667\n",
      "4 783\n",
      "5 239\n",
      "6 34\n",
      "7 1\n",
      "8 0\n",
      "9 0\n",
      "10 0\n",
      "11 0\n",
      "12 0\n"
     ]
    },
    {
     "data": {
      "text/plain": [
       "5594572387"
      ]
     },
     "execution_count": 24,
     "metadata": {},
     "output_type": "execute_result"
    }
   ],
   "source": [
    "dp = [[[0 for _ in range(S + 1)] for _ in range(cnt + 1)] for _ in range(sides + 2)]\n",
    "dp[sides + 1][0][0] = 1\n",
    "\n",
    "for dice_val in range(sides, 0, -1):\n",
    "    for last_val in range(dice_val + 1, sides + 2):\n",
    "        # print(dice_val, last_val)\n",
    "        for c in range(cnt, -1, -1):\n",
    "            for n in range(1, cnt + 1):\n",
    "                for i in range(0, S + 1):\n",
    "                    if c + n <= cnt and i - dice_val * n >= 0:\n",
    "                        # print(dice_val)\n",
    "                        # if last_val == 13 and c == 0 and i - dice_val * n == 0:\n",
    "                        #     print(\"Adding\")\n",
    "                        dp[dice_val][c + n][i] += dp[last_val][c][i - dice_val * n]\n",
    "T = 0\n",
    "for dv in range(1, sides + 1):\n",
    "    print(dv, dp[dv][cnt][S])\n",
    "    free = dv**10\n",
    "    T += dp[dv][cnt][S] * free\n",
    "T"
   ]
  },
  {
   "cell_type": "code",
   "execution_count": 12,
   "id": "196d0ded",
   "metadata": {},
   "outputs": [
    {
     "ename": "SyntaxError",
     "evalue": "invalid syntax. Perhaps you forgot a comma? (531116760.py, line 1)",
     "output_type": "error",
     "traceback": [
      "\u001b[1;36m  Cell \u001b[1;32mIn[12], line 1\u001b[1;36m\u001b[0m\n\u001b[1;33m    dp[dice used][current sum][last num]\u001b[0m\n\u001b[1;37m       ^\u001b[0m\n\u001b[1;31mSyntaxError\u001b[0m\u001b[1;31m:\u001b[0m invalid syntax. Perhaps you forgot a comma?\n"
     ]
    }
   ],
   "source": [
    "dp[dice used][current sum][last num]\n",
    "\n"
   ]
  }
 ],
 "metadata": {
  "kernelspec": {
   "display_name": "Python 3",
   "language": "python",
   "name": "python3"
  },
  "language_info": {
   "codemirror_mode": {
    "name": "ipython",
    "version": 3
   },
   "file_extension": ".py",
   "mimetype": "text/x-python",
   "name": "python",
   "nbconvert_exporter": "python",
   "pygments_lexer": "ipython3",
   "version": "3.12.4"
  }
 },
 "nbformat": 4,
 "nbformat_minor": 5
}
