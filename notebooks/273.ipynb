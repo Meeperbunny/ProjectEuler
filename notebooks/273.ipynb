{
 "cells": [
  {
   "cell_type": "code",
   "execution_count": 1,
   "metadata": {},
   "outputs": [],
   "source": [
    "from utils.sieve import *"
   ]
  },
  {
   "cell_type": "code",
   "execution_count": 2,
   "metadata": {},
   "outputs": [
    {
     "data": {
      "text/plain": [
       "[5, 13, 17, 29, 37, 41, 53, 61, 73, 89, 97, 101, 109, 113, 137, 149]"
      ]
     },
     "execution_count": 2,
     "metadata": {},
     "output_type": "execute_result"
    }
   ],
   "source": [
    "primes = [e for e in sieve(150) if (e - 1) % 4 == 0]\n",
    "primes"
   ]
  },
  {
   "cell_type": "code",
   "execution_count": 5,
   "metadata": {},
   "outputs": [],
   "source": [
    "to_check = []\n",
    "for i in range(1, 2**len(primes)):\n",
    "    m = 1\n",
    "    for q in range(len(primes)):\n",
    "        if (i >> q) & 1:\n",
    "            m *= primes[q]\n",
    "    to_check.append(m)"
   ]
  },
  {
   "cell_type": "code",
   "execution_count": 7,
   "metadata": {},
   "outputs": [
    {
     "data": {
      "text/plain": [
       "(65535, [5, 13, 65, 17, 85, 221, 1105, 29, 145, 377])"
      ]
     },
     "execution_count": 7,
     "metadata": {},
     "output_type": "execute_result"
    }
   ],
   "source": [
    "len(to_check), to_check[0:10]"
   ]
  },
  {
   "cell_type": "code",
   "execution_count": 8,
   "metadata": {},
   "outputs": [],
   "source": [
    "def get_square(n):\n",
    "    l = int(n**0.5)\n",
    "    if l * l == n:\n",
    "        return l\n",
    "    if (l + 1) * (l + 1) == n:\n",
    "        return l + 1\n",
    "    return -1"
   ]
  },
  {
   "cell_type": "code",
   "execution_count": null,
   "metadata": {},
   "outputs": [],
   "source": [
    "def S(n):\n",
    "    T = 0\n",
    "    for a in range(1, n // 2 + 1):\n",
    "        asq = a**2\n",
    "        diff = n - asq\n",
    "        if asq > n // 2:\n",
    "            break\n",
    "        # print(a, n, diff)\n",
    "        if diff <= 0:\n",
    "            break\n",
    "        b = get_square(diff)\n",
    "        if b == -1:\n",
    "            continue\n",
    "        if b < a:\n",
    "            break\n",
    "        if b != -1:\n",
    "            T += a\n",
    "    return T\n"
   ]
  },
  {
   "cell_type": "code",
   "execution_count": 25,
   "metadata": {},
   "outputs": [
    {
     "data": {
      "text/plain": [
       "5"
      ]
     },
     "execution_count": 25,
     "metadata": {},
     "output_type": "execute_result"
    }
   ],
   "source": [
    "S(65)"
   ]
  },
  {
   "cell_type": "code",
   "execution_count": 28,
   "metadata": {},
   "outputs": [
    {
     "data": {
      "application/vnd.jupyter.widget-view+json": {
       "model_id": "c378df393cde442bb583c5be0719a2d5",
       "version_major": 2,
       "version_minor": 0
      },
      "text/plain": [
       "  0%|          | 0/65535 [00:00<?, ?it/s]"
      ]
     },
     "metadata": {},
     "output_type": "display_data"
    },
    {
     "ename": "KeyboardInterrupt",
     "evalue": "",
     "output_type": "error",
     "traceback": [
      "\u001b[0;31m---------------------------------------------------------------------------\u001b[0m",
      "\u001b[0;31mKeyboardInterrupt\u001b[0m                         Traceback (most recent call last)",
      "Cell \u001b[0;32mIn[28], line 4\u001b[0m\n\u001b[1;32m      2\u001b[0m T \u001b[38;5;241m=\u001b[39m \u001b[38;5;241m0\u001b[39m\n\u001b[1;32m      3\u001b[0m \u001b[38;5;28;01mfor\u001b[39;00m e \u001b[38;5;129;01min\u001b[39;00m tqdm(to_check):\n\u001b[0;32m----> 4\u001b[0m     T \u001b[38;5;241m+\u001b[39m\u001b[38;5;241m=\u001b[39m \u001b[43mS\u001b[49m\u001b[43m(\u001b[49m\u001b[43me\u001b[49m\u001b[43m)\u001b[49m\n\u001b[1;32m      5\u001b[0m T\n",
      "Cell \u001b[0;32mIn[23], line 6\u001b[0m, in \u001b[0;36mS\u001b[0;34m(n)\u001b[0m\n\u001b[1;32m      4\u001b[0m asq \u001b[38;5;241m=\u001b[39m a\u001b[38;5;241m*\u001b[39m\u001b[38;5;241m*\u001b[39m\u001b[38;5;241m2\u001b[39m\n\u001b[1;32m      5\u001b[0m diff \u001b[38;5;241m=\u001b[39m n \u001b[38;5;241m-\u001b[39m asq\n\u001b[0;32m----> 6\u001b[0m \u001b[38;5;28;01mif\u001b[39;00m \u001b[43masq\u001b[49m\u001b[43m \u001b[49m\u001b[38;5;241;43m>\u001b[39;49m\u001b[43m \u001b[49m\u001b[43mn\u001b[49m\u001b[43m \u001b[49m\u001b[38;5;241;43m/\u001b[39;49m\u001b[38;5;241;43m/\u001b[39;49m\u001b[43m \u001b[49m\u001b[38;5;241;43m2\u001b[39;49m:\n\u001b[1;32m      7\u001b[0m     \u001b[38;5;28;01mbreak\u001b[39;00m\n\u001b[1;32m      9\u001b[0m \u001b[38;5;66;03m# print(a, n, diff)\u001b[39;00m\n",
      "\u001b[0;31mKeyboardInterrupt\u001b[0m: "
     ]
    }
   ],
   "source": [
    "from tqdm.notebook import tqdm\n",
    "T = 0\n",
    "for e in tqdm(to_check):\n",
    "    T += S(e)\n",
    "T"
   ]
  },
  {
   "cell_type": "code",
   "execution_count": null,
   "metadata": {},
   "outputs": [],
   "source": []
  },
  {
   "cell_type": "code",
   "execution_count": null,
   "metadata": {},
   "outputs": [],
   "source": []
  },
  {
   "cell_type": "code",
   "execution_count": null,
   "metadata": {},
   "outputs": [],
   "source": [
    "from utils.sieve import *\n",
    "primes = [e for e in sieve(150) if (e - 1) % 4 == 0]\n",
    "primes\n",
    "to_check = []\n",
    "for i in range(1, 2**len(primes)):\n",
    "    m = 1\n",
    "    for q in range(len(primes)):\n",
    "        if (i >> q) & 1:\n",
    "            m *= primes[q]\n",
    "    to_check.append(m)\n",
    "len(to_check), to_check[0:10]\n",
    "def get_square(n):\n",
    "    l = int(n**0.5)\n",
    "    if l * l == n:\n",
    "        return l\n",
    "    if (l + 1) * (l + 1) == n:\n",
    "        return l + 1\n",
    "    return -1\n",
    "def S(n):\n",
    "    T = 0\n",
    "    for a in range(1, n // 2 + 1):\n",
    "        asq = a**2\n",
    "        diff = n - asq\n",
    "        if asq > n // 2:\n",
    "            break\n",
    "        # print(a, n, diff)\n",
    "        if diff <= 0:\n",
    "            break\n",
    "        b = get_square(diff)\n",
    "        if b == -1:\n",
    "            continue\n",
    "        if b < a:\n",
    "            break\n",
    "        if b != -1:\n",
    "            T += a\n",
    "    return T\n",
    "\n",
    "S(65)\n",
    "from tqdm.notebook import tqdm\n",
    "T = 0\n",
    "for e in tqdm(to_check):\n",
    "    T += S(e)\n",
    "T"
   ]
  }
 ],
 "metadata": {
  "kernelspec": {
   "display_name": "Python 3",
   "language": "python",
   "name": "python3"
  },
  "language_info": {
   "codemirror_mode": {
    "name": "ipython",
    "version": 3
   },
   "file_extension": ".py",
   "mimetype": "text/x-python",
   "name": "python",
   "nbconvert_exporter": "python",
   "pygments_lexer": "ipython3",
   "version": "3.9.6"
  }
 },
 "nbformat": 4,
 "nbformat_minor": 2
}
