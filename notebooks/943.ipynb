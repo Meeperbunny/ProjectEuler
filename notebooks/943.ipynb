{
 "cells": [
  {
   "cell_type": "code",
   "execution_count": 20,
   "metadata": {},
   "outputs": [],
   "source": [
    "def solve(a, b, n):\n",
    "    s = [a for _ in range(a)]\n",
    "    onA = False\n",
    "    i = 1\n",
    "    while len(s) != n:\n",
    "        for _ in range(s[i]):\n",
    "            if len(s) == n:\n",
    "                break\n",
    "            s.append(a if onA else b)\n",
    "        onA = not onA\n",
    "        i += 1\n",
    "    return s"
   ]
  },
  {
   "cell_type": "code",
   "execution_count": 21,
   "metadata": {},
   "outputs": [],
   "source": [
    "def detect_cycle(l: list, k=3):\n",
    "    for c_len in range(1, len(l)):\n",
    "        isg = True\n",
    "        for z in range(1, k):\n",
    "            if l[0:c_len] != l[c_len * z: c_len * (z + 1)]:\n",
    "                isg = False\n",
    "                break\n",
    "        if isg:\n",
    "            return c_len\n",
    "    return -1"
   ]
  },
  {
   "cell_type": "code",
   "execution_count": null,
   "metadata": {},
   "outputs": [],
   "source": [
    "# 2, 2 -> \n",
    "# 3, 3, 3, 5, 5, 5, ?"
   ]
  },
  {
   "cell_type": "code",
   "execution_count": 26,
   "metadata": {},
   "outputs": [],
   "source": [
    "from collections import Counter"
   ]
  },
  {
   "cell_type": "code",
   "execution_count": 206,
   "metadata": {},
   "outputs": [
    {
     "data": {
      "text/plain": [
       "63"
      ]
     },
     "execution_count": 206,
     "metadata": {},
     "output_type": "execute_result"
    }
   ],
   "source": [
    "sum(solve(2, 3, 25))"
   ]
  },
  {
   "cell_type": "code",
   "execution_count": null,
   "metadata": {},
   "outputs": [],
   "source": [
    "# Sum of evens and sum of odds within some subseg"
   ]
  },
  {
   "cell_type": "code",
   "execution_count": 49,
   "metadata": {},
   "outputs": [
    {
     "data": {
      "text/plain": [
       "[2, 2, 3, 3, 2, 2, 2, 3, 3, 3]"
      ]
     },
     "execution_count": 49,
     "metadata": {},
     "output_type": "execute_result"
    }
   ],
   "source": [
    "solve(2, 3, 10)"
   ]
  },
  {
   "cell_type": "code",
   "execution_count": 75,
   "metadata": {},
   "outputs": [
    {
     "name": "stdout",
     "output_type": "stream",
     "text": [
      "[2, 2, 3, 3, 2, 2, 2, 3, 3, 3, 2, 2, 3, 3, 2, 2, 3, 3, 3, 2, 2, 2, 3, 3, 3, 2, 2, 3, 3, 2, 2, 2, 3, 3, 3, 2, 2, 3, 3, 2, 2, 2, 3, 3, 3, 2, 2, 2, 3, 3, 2, 2, 3, 3, 2, 2, 2, 3, 3, 3, 2, 2, 2, 3, 3, 2, 2, 3, 3, 3, 2, 2, 2, 3, 3, 2, 2, 3, 3, 2]\n",
      "2 4 -2\n",
      "4 10 0\n",
      "10 25 -1\n",
      "25 63 4\n",
      "63 155 0\n",
      "155 388 -1\n",
      "388 969 1\n",
      "969 2423 2\n",
      "2423 6058 -13\n",
      "6058 15153 13\n",
      "15153 37878 -3\n",
      "37878 94696 -6\n",
      "94696 236740 -8\n",
      "236740 591867 -15\n",
      "591867 1479681 2\n",
      "1479681 3699234 -47\n"
     ]
    }
   ],
   "source": [
    "ls = 0\n",
    "cs = 2\n",
    "print(solve(2, 3, 80))\n",
    "for _ in range(16):\n",
    "    ss = solve(2, 3, ls + cs)[ls:]\n",
    "    s = sum(ss)\n",
    "    ls = cs\n",
    "    cs = s\n",
    "    C = Counter(solve(2, 3, cs)[ls:])\n",
    "    print(ls, cs, C[2] - C[3])"
   ]
  },
  {
   "cell_type": "code",
   "execution_count": null,
   "metadata": {},
   "outputs": [
    {
     "data": {
      "text/plain": [
       "Counter({2: 195, 3: 193})"
      ]
     },
     "execution_count": 44,
     "metadata": {},
     "output_type": "execute_result"
    }
   ],
   "source": [
    "k = 4 + 6 + 15 + 38 + 93 + 232\n",
    "Counter(solve(2, 3, k))"
   ]
  },
  {
   "cell_type": "code",
   "execution_count": null,
   "metadata": {},
   "outputs": [],
   "source": [
    "2, 2, 3, 3, 2, 2, 2, 3, 3, 3, 2, 2, 3, 3, 2, 2, 3, 3, 3, 2, 2, 2, 3, 3, 3, 2, 2, 3, 3, 2\n",
    "\n",
    "2 2 3 3 2 2 2 3 3 3 "
   ]
  },
  {
   "cell_type": "code",
   "execution_count": null,
   "metadata": {},
   "outputs": [],
   "source": [
    "# Segment of a, b cnts -> next segment. Along lines of power of 2. Have some adiff. If We are in final, then we bisect?\n",
    "# assume 8. we know we have done X so far (prefix sum)\n",
    "# 2, 3\n",
    "# 4: (2, 2)\n",
    "# 6: (5, 5)\n",
    "# 15: (12, 13)\n",
    "# 38: (33, 30)\n",
    "# 93: (80, 76) \n",
    "# 232: 195, 193"
   ]
  },
  {
   "cell_type": "code",
   "execution_count": null,
   "metadata": {},
   "outputs": [
    {
     "data": {
      "text/plain": [
       "17"
      ]
     },
     "execution_count": 48,
     "metadata": {},
     "output_type": "execute_result"
    }
   ],
   "source": [
    "# Segment of a, b cnts -> next segment. Along lines of power of 2. Have some adiff. If We are in final, then we bisect?\n",
    "# assume 8. we know we have done X so far (prefix sum)\n",
    "# 2, 3\n",
    "# 4: (2, 2)\n",
    "# 6: (3, 3)\n",
    "# 15: (7, 8)\n",
    "# 38: (21, 17)\n",
    "# 93: (47, 46) \n",
    "# 232: (115, 117)"
   ]
  },
  {
   "cell_type": "code",
   "execution_count": null,
   "metadata": {},
   "outputs": [
    {
     "name": "stdout",
     "output_type": "stream",
     "text": [
      "[2, 2, 3, 3, 2, 2, 2, 3, 3, 3, 2, 2, 3, 3, 2, 2, 3, 3, 3, 2, 2, 2, 3, 3, 3, 2, 2, 3, 3, 2, 2, 2, 3, 3, 3, 2, 2, 3, 3, 2]\n"
     ]
    }
   ],
   "source": [
    "print(solve(2, 3, 40))"
   ]
  },
  {
   "cell_type": "code",
   "execution_count": null,
   "metadata": {},
   "outputs": [
    {
     "data": {
      "text/plain": [
       "[401, 1579, 3527]"
      ]
     },
     "execution_count": 65,
     "metadata": {},
     "output_type": "execute_result"
    }
   ],
   "source": [
    "from utils.prime_factors import pfs"
   ]
  },
  {
   "cell_type": "code",
   "execution_count": null,
   "metadata": {},
   "outputs": [],
   "source": [
    "# Given an ab count, how to get next k?"
   ]
  },
  {
   "cell_type": "code",
   "execution_count": 63,
   "metadata": {},
   "outputs": [
    {
     "name": "stdout",
     "output_type": "stream",
     "text": [
      "[1, 1, 0, 0, 1, 1, 1, 0, 0, 0, 1, 1, 0, 0, 1, 1, 0, 0, 0, 1, 1, 1, 0, 0, 0, 1, 1, 0, 0, 1, 1, 1, 0, 0, 0, 1, 1, 0, 0, 1]\n"
     ]
    }
   ],
   "source": [
    "tk = [1 if e == 2 else 0 for e in solve(2, 3, 40)]\n",
    "print(tk)"
   ]
  },
  {
   "cell_type": "code",
   "execution_count": 79,
   "metadata": {},
   "outputs": [
    {
     "name": "stdout",
     "output_type": "stream",
     "text": [
      "1 2\n",
      "2 2\n",
      "3 3\n",
      "4 3\n",
      "5 2\n",
      "6 2\n",
      "7 2\n",
      "8 3\n",
      "9 3\n",
      "10 3\n",
      "11 2\n",
      "12 2\n",
      "13 3\n",
      "14 3\n",
      "15 2\n",
      "16 2\n",
      "17 3\n",
      "18 3\n",
      "19 3\n",
      "20 2\n",
      "21 2\n",
      "22 2\n",
      "23 3\n",
      "24 3\n",
      "25 3\n",
      "26 2\n",
      "27 2\n",
      "28 3\n",
      "29 3\n",
      "30 2\n",
      "31 2\n",
      "32 2\n",
      "33 3\n",
      "34 3\n",
      "35 3\n",
      "36 2\n",
      "37 2\n",
      "38 3\n",
      "39 3\n",
      "40 2\n",
      "41 2\n",
      "42 2\n",
      "43 3\n",
      "44 3\n",
      "45 3\n",
      "46 2\n",
      "47 2\n",
      "48 2\n",
      "49 3\n",
      "50 3\n",
      "51 2\n",
      "52 2\n",
      "53 3\n",
      "54 3\n",
      "55 2\n",
      "56 2\n",
      "57 2\n",
      "58 3\n",
      "59 3\n",
      "60 3\n",
      "61 2\n",
      "62 2\n",
      "63 2\n",
      "64 3\n",
      "65 3\n",
      "66 2\n",
      "67 2\n",
      "68 3\n",
      "69 3\n",
      "70 3\n",
      "71 2\n",
      "72 2\n",
      "73 2\n",
      "74 3\n",
      "75 3\n",
      "76 2\n",
      "77 2\n",
      "78 3\n",
      "79 3\n",
      "80 2\n",
      "81 2\n",
      "82 2\n",
      "83 3\n",
      "84 3\n",
      "85 3\n",
      "86 2\n",
      "87 2\n",
      "88 2\n",
      "89 3\n",
      "90 3\n",
      "91 2\n",
      "92 2\n",
      "93 3\n",
      "94 3\n",
      "95 3\n",
      "96 2\n",
      "97 2\n",
      "98 2\n",
      "99 3\n",
      "100 3\n"
     ]
    }
   ],
   "source": [
    "for i, e in enumerate(solve(2, 3, 100)):\n",
    "    print(i+1, e)"
   ]
  },
  {
   "cell_type": "code",
   "execution_count": null,
   "metadata": {},
   "outputs": [],
   "source": [
    "# 1, 2, 4, 10, Covers some prefix"
   ]
  },
  {
   "cell_type": "code",
   "execution_count": null,
   "metadata": {},
   "outputs": [],
   "source": [
    "# 2 starting on 2, 2 starting on 3, 3 starting on 2, 3 starting on 3\n",
    "\"\"\"\n",
    "1: [1, 1, 1, 1]\n",
    "2: [2, 2, 3, 3]\n",
    "3: [4, ]\n",
    "4: []\n",
    "111 -> 22, 22\n",
    "\n",
    "\n",
    "25\n",
    "\"\"\""
   ]
  },
  {
   "cell_type": "code",
   "execution_count": null,
   "metadata": {},
   "outputs": [
    {
     "data": {
      "text/plain": [
       "'\\n1 : 2 2 2 2 \\n2 : 2\\n3 : 3 2\\n4 : 3\\n5 : 2 3 2\\n6 : 2\\n7 : 2\\n8 : 3 3\\n9 : 3\\n10: 3\\n11: 2 2 3 2\\n12: 2\\n13: 3 2\\n14: 3\\n15: 2 2\\n16: 2\\n17: 3 3 3\\n18: 3\\n19: 3\\n20: 2 3\\n21: 2\\n22: 2\\n23: 3 3\\n24: 3\\n25: 3\\n26: 2 2 2 3\\n27: 2\\n28: 3 2\\n29: 3\\n30: 2 3 2\\n31: 2\\n32: 2\\n33: 3 3\\n34: 3\\n35: 3\\n36: 2 2 2\\n37: 2\\n38: 3 2\\n39: 3\\n40: 2 3\\n41: 2\\n42: 2\\n43: 3\\n44: 3\\n45: 3\\n46: 2\\n'"
      ]
     },
     "execution_count": 81,
     "metadata": {},
     "output_type": "execute_result"
    }
   ],
   "source": [
    "\"\"\"\n",
    "1 : 2 2 2 2 2 2 2 2\n",
    "2 : 2\n",
    "3 : 3 2\n",
    "4 : 3\n",
    "5 : 2 3 2\n",
    "6 : 2\n",
    "7 : 2\n",
    "8 : 3 3\n",
    "9 : 3\n",
    "10: 3\n",
    "11: 2 2 3 2\n",
    "12: 2\n",
    "13: 3 2\n",
    "14: 3\n",
    "15: 2 2\n",
    "16: 2\n",
    "17: 3 3 3\n",
    "18: 3\n",
    "19: 3\n",
    "20: 2 3\n",
    "21: 2\n",
    "22: 2\n",
    "23: 3 3\n",
    "24: 3\n",
    "25: 3\n",
    "26: 2 2 2 3 3\n",
    "27: 2\n",
    "28: 3 2\n",
    "29: 3\n",
    "30: 2 3 2\n",
    "31: 2\n",
    "32: 2\n",
    "33: 3 3\n",
    "34: 3\n",
    "35: 3\n",
    "36: 2 2 2\n",
    "37: 2\n",
    "38: 3 2\n",
    "39: 3\n",
    "40: 2 3 3 3\n",
    "41: 2\n",
    "42: 2\n",
    "43: 3 3\n",
    "44: 3\n",
    "45: 3\n",
    "46: 2 3\n",
    "47: 2\n",
    "48: 2\n",
    "49: 3 2 3\n",
    "50: 3\n",
    "51: 2 2\n",
    "52: 2\n",
    "53: 3 2\n",
    "54: 3\n",
    "55: 2 3 3\n",
    "56: 2\n",
    "57: 2\n",
    "58: 3 3\n",
    "59: 3\n",
    "60: 3\n",
    "61: 2 3\n",
    "62: 2\n",
    "63: 2\n",
    "64: 3\n",
    "\"\"\""
   ]
  },
  {
   "cell_type": "code",
   "execution_count": 238,
   "metadata": {},
   "outputs": [],
   "source": [
    "def get_tables(a, b, n):\n",
    "    # Given a tuple t, give its \"lasts\"\n",
    "    lasts = {}\n",
    "    sizes = {}\n",
    "    sums = {}\n",
    "    # a = 2\n",
    "    # b = 3\n",
    "    def swap(k):\n",
    "        return b if k == a else a\n",
    "    def swap_all_but_last(t):\n",
    "        rt = []\n",
    "        for i in range(len(t)):\n",
    "            if i == len(t) - 1:\n",
    "                rt.append(t[i])\n",
    "            else:\n",
    "                rt.append(swap(t[i]))\n",
    "        return rt\n",
    "    def swap_last(t):\n",
    "        rt = []\n",
    "        for i in range(len(t)):\n",
    "            if i != len(t) - 1:\n",
    "                rt.append(t[i])\n",
    "            else:\n",
    "                rt.append(swap(t[i]))\n",
    "        return rt\n",
    "    bt = []\n",
    "    sz = 0\n",
    "    while True:\n",
    "        sz += 1\n",
    "        for q in range(0, 2**sz):\n",
    "            seq = tuple(a if (q >> i) & 1 else b for i in range(sz))\n",
    "            # print(bin(q), seq)\n",
    "            # To find lasts, repeat t[-1] times: \n",
    "            # Take the t[:-1], then find its lasts. Swap all but last\n",
    "            # Swap last\n",
    "            pre = seq[:-1]\n",
    "            cnt = 0\n",
    "            ss = 0\n",
    "            if len(pre):\n",
    "                # if seq == oi:\n",
    "                    # print(\"Starting with\", pre, seq)\n",
    "                for i in range(seq[-1]):\n",
    "                    cnt += sizes[tuple(pre)]\n",
    "                    ss += sums[tuple(pre)]\n",
    "                    # if seq == oi:\n",
    "                    #     print(f\"Starting with {i} with\", pre)\n",
    "                    pre = lasts[tuple(pre)] + (seq[-2],)\n",
    "                    # if seq == oi:\n",
    "                    #     print(f\"After lasts {i} with\", pre)\n",
    "                    pre = swap_all_but_last(pre)\n",
    "                    # if seq == oi:\n",
    "                        # print(f\"After swap {i} with\", pre)\n",
    "            else:\n",
    "                cnt = 1\n",
    "                ss = seq[0]\n",
    "            pre = swap_all_but_last(pre)\n",
    "            pre = tuple(pre)\n",
    "            lasts[seq] = pre\n",
    "            sizes[seq] = cnt\n",
    "            sums[seq] = ss\n",
    "        bt += [a]\n",
    "        if sizes[tuple(bt)] >= n:\n",
    "            return lasts, sizes, sums, bt"
   ]
  },
  {
   "cell_type": "code",
   "execution_count": 250,
   "metadata": {},
   "outputs": [
    {
     "data": {
      "text/plain": [
       "6499871"
      ]
     },
     "execution_count": 250,
     "metadata": {},
     "output_type": "execute_result"
    }
   ],
   "source": [
    "def answer(a, b, n):\n",
    "    def swap(k):\n",
    "        return b if k == a else a\n",
    "    def swap_all(t):\n",
    "        rt = []\n",
    "        for i in range(len(t)):\n",
    "            rt.append(swap(t[i]))\n",
    "        return rt\n",
    "    def swap_all_but_last(t):\n",
    "        rt = []\n",
    "        for i in range(len(t)):\n",
    "            if i == len(t) - 1:\n",
    "                rt.append(t[i])\n",
    "            else:\n",
    "                rt.append(swap(t[i]))\n",
    "        return rt\n",
    "    lasts, sizes, sums, ct = get_tables(a, b, n)\n",
    "    # If it is greater than our current, just use current and go to next.\n",
    "    csum = 0\n",
    "    while n:\n",
    "        # print(ct, n, sizes[tuple(ct)])\n",
    "        if n >= sizes[tuple(ct)]:\n",
    "            # Use all of ct. Go to next of ct.\n",
    "            # print(\"Adding\", ct, sums[tuple(ct)])\n",
    "            n -= sizes[tuple(ct)]\n",
    "            csum += sums[tuple(ct)]\n",
    "            nt = lasts[tuple(ct)]\n",
    "            nt = tuple(swap_all(nt) + [ct[-1]])\n",
    "            ct = list(nt)\n",
    "        else:\n",
    "            # Break current down by 1?\n",
    "            ct = ct[0:-1]\n",
    "    return csum\n",
    "answer(5, 8, 10**6)"
   ]
  },
  {
   "cell_type": "code",
   "execution_count": 252,
   "metadata": {},
   "outputs": [],
   "source": [
    "from tqdm.notebook import trange"
   ]
  },
  {
   "cell_type": "code",
   "execution_count": 255,
   "metadata": {},
   "outputs": [
    {
     "data": {
      "application/vnd.jupyter.widget-view+json": {
       "model_id": "77e0383788cd400c8bea84a1ee07cd0c",
       "version_major": 2,
       "version_minor": 0
      },
      "text/plain": [
       "  0%|          | 0/222 [00:00<?, ?it/s]"
      ]
     },
     "metadata": {},
     "output_type": "display_data"
    },
    {
     "data": {
      "application/vnd.jupyter.widget-view+json": {
       "model_id": "2932cfccbd5b4c5f8d307eee1033c267",
       "version_major": 2,
       "version_minor": 0
      },
      "text/plain": [
       "  0%|          | 0/222 [00:00<?, ?it/s]"
      ]
     },
     "metadata": {},
     "output_type": "display_data"
    },
    {
     "ename": "KeyboardInterrupt",
     "evalue": "",
     "output_type": "error",
     "traceback": [
      "\u001b[0;31m---------------------------------------------------------------------------\u001b[0m",
      "\u001b[0;31mKeyboardInterrupt\u001b[0m                         Traceback (most recent call last)",
      "Cell \u001b[0;32mIn[255], line 6\u001b[0m\n\u001b[1;32m      4\u001b[0m     \u001b[38;5;28;01mfor\u001b[39;00m b \u001b[38;5;129;01min\u001b[39;00m trange(\u001b[38;5;241m2\u001b[39m, \u001b[38;5;241m223\u001b[39m \u001b[38;5;241m+\u001b[39m \u001b[38;5;241m1\u001b[39m):\n\u001b[1;32m      5\u001b[0m         \u001b[38;5;28;01mif\u001b[39;00m a \u001b[38;5;241m!=\u001b[39m b:\n\u001b[0;32m----> 6\u001b[0m             T \u001b[38;5;241m+\u001b[39m\u001b[38;5;241m=\u001b[39m \u001b[43manswer\u001b[49m\u001b[43m(\u001b[49m\u001b[43ma\u001b[49m\u001b[43m,\u001b[49m\u001b[43m \u001b[49m\u001b[43mb\u001b[49m\u001b[43m,\u001b[49m\u001b[43m \u001b[49m\u001b[43mn\u001b[49m\u001b[43m)\u001b[49m\n\u001b[1;32m      7\u001b[0m \u001b[38;5;28mprint\u001b[39m(T \u001b[38;5;241m%\u001b[39m \u001b[38;5;241m2233222333\u001b[39m)\n",
      "Cell \u001b[0;32mIn[250], line 17\u001b[0m, in \u001b[0;36manswer\u001b[0;34m(a, b, n)\u001b[0m\n\u001b[1;32m     15\u001b[0m             rt\u001b[38;5;241m.\u001b[39mappend(swap(t[i]))\n\u001b[1;32m     16\u001b[0m     \u001b[38;5;28;01mreturn\u001b[39;00m rt\n\u001b[0;32m---> 17\u001b[0m lasts, sizes, sums, ct \u001b[38;5;241m=\u001b[39m \u001b[43mget_tables\u001b[49m\u001b[43m(\u001b[49m\u001b[43ma\u001b[49m\u001b[43m,\u001b[49m\u001b[43m \u001b[49m\u001b[43mb\u001b[49m\u001b[43m,\u001b[49m\u001b[43m \u001b[49m\u001b[43mn\u001b[49m\u001b[43m)\u001b[49m\n\u001b[1;32m     18\u001b[0m \u001b[38;5;66;03m# If it is greater than our current, just use current and go to next.\u001b[39;00m\n\u001b[1;32m     19\u001b[0m csum \u001b[38;5;241m=\u001b[39m \u001b[38;5;241m0\u001b[39m\n",
      "Cell \u001b[0;32mIn[238], line 31\u001b[0m, in \u001b[0;36mget_tables\u001b[0;34m(a, b, n)\u001b[0m\n\u001b[1;32m     29\u001b[0m sz \u001b[38;5;241m+\u001b[39m\u001b[38;5;241m=\u001b[39m \u001b[38;5;241m1\u001b[39m\n\u001b[1;32m     30\u001b[0m \u001b[38;5;28;01mfor\u001b[39;00m q \u001b[38;5;129;01min\u001b[39;00m \u001b[38;5;28mrange\u001b[39m(\u001b[38;5;241m0\u001b[39m, \u001b[38;5;241m2\u001b[39m\u001b[38;5;241m*\u001b[39m\u001b[38;5;241m*\u001b[39msz):\n\u001b[0;32m---> 31\u001b[0m     seq \u001b[38;5;241m=\u001b[39m \u001b[38;5;28;43mtuple\u001b[39;49m\u001b[43m(\u001b[49m\u001b[43ma\u001b[49m\u001b[43m \u001b[49m\u001b[38;5;28;43;01mif\u001b[39;49;00m\u001b[43m \u001b[49m\u001b[43m(\u001b[49m\u001b[43mq\u001b[49m\u001b[43m \u001b[49m\u001b[38;5;241;43m>>\u001b[39;49m\u001b[43m \u001b[49m\u001b[43mi\u001b[49m\u001b[43m)\u001b[49m\u001b[43m \u001b[49m\u001b[38;5;241;43m&\u001b[39;49m\u001b[43m \u001b[49m\u001b[38;5;241;43m1\u001b[39;49m\u001b[43m \u001b[49m\u001b[38;5;28;43;01melse\u001b[39;49;00m\u001b[43m \u001b[49m\u001b[43mb\u001b[49m\u001b[43m \u001b[49m\u001b[38;5;28;43;01mfor\u001b[39;49;00m\u001b[43m \u001b[49m\u001b[43mi\u001b[49m\u001b[43m \u001b[49m\u001b[38;5;129;43;01min\u001b[39;49;00m\u001b[43m \u001b[49m\u001b[38;5;28;43mrange\u001b[39;49m\u001b[43m(\u001b[49m\u001b[43msz\u001b[49m\u001b[43m)\u001b[49m\u001b[43m)\u001b[49m\n\u001b[1;32m     32\u001b[0m     \u001b[38;5;66;03m# print(bin(q), seq)\u001b[39;00m\n\u001b[1;32m     33\u001b[0m     \u001b[38;5;66;03m# To find lasts, repeat t[-1] times: \u001b[39;00m\n\u001b[1;32m     34\u001b[0m     \u001b[38;5;66;03m# Take the t[:-1], then find its lasts. Swap all but last\u001b[39;00m\n\u001b[1;32m     35\u001b[0m     \u001b[38;5;66;03m# Swap last\u001b[39;00m\n\u001b[1;32m     36\u001b[0m     pre \u001b[38;5;241m=\u001b[39m seq[:\u001b[38;5;241m-\u001b[39m\u001b[38;5;241m1\u001b[39m]\n",
      "\u001b[0;31mKeyboardInterrupt\u001b[0m: "
     ]
    }
   ],
   "source": [
    "T = 0\n",
    "n = 22332223332233\n",
    "for a in trange(2, 223 + 1):\n",
    "    for b in trange(2, 223 + 1):\n",
    "        if a != b:\n",
    "            T += answer(a, b, n)\n",
    "print(T % 2233222333)"
   ]
  },
  {
   "cell_type": "code",
   "execution_count": null,
   "metadata": {},
   "outputs": [],
   "source": []
  },
  {
   "cell_type": "code",
   "execution_count": null,
   "metadata": {},
   "outputs": [],
   "source": [
    "def get_tables(a, b, n):\n",
    "    # Given a tuple t, give its \"lasts\"\n",
    "    lasts = {}\n",
    "    sizes = {}\n",
    "    sums = {}\n",
    "    def get_sums(t):\n",
    "        return sums[t]\n",
    "    # a = 2\n",
    "    # b = 3\n",
    "    def swap(k):\n",
    "        return b if k == a else a\n",
    "    def swap_all_but_last(t):\n",
    "        rt = []\n",
    "        for i in range(len(t)):\n",
    "            if i == len(t) - 1:\n",
    "                rt.append(t[i])\n",
    "            else:\n",
    "                rt.append(swap(t[i]))\n",
    "        return rt\n",
    "    def swap_last(t):\n",
    "        rt = []\n",
    "        for i in range(len(t)):\n",
    "            if i != len(t) - 1:\n",
    "                rt.append(t[i])\n",
    "            else:\n",
    "                rt.append(swap(t[i]))\n",
    "        return rt\n",
    "    bt = []\n",
    "    sz = 0\n",
    "    while True:\n",
    "        sz += 1\n",
    "        for q in range(0, 2**sz):\n",
    "            seq = tuple(a if (q >> i) & 1 else b for i in range(sz))\n",
    "            # print(bin(q), seq)\n",
    "            # To find lasts, repeat t[-1] times: \n",
    "            # Take the t[:-1], then find its lasts. Swap all but last\n",
    "            # Swap last\n",
    "            pre = seq[:-1]\n",
    "            cnt = 0\n",
    "            ss = 0\n",
    "            if len(pre):\n",
    "                # if seq == oi:\n",
    "                    # print(\"Starting with\", pre, seq)\n",
    "                for i in range(seq[-1]):\n",
    "                    cnt += sizes[tuple(pre)]\n",
    "                    ss += sums[tuple(pre)]\n",
    "                    # if seq == oi:\n",
    "                    #     print(f\"Starting with {i} with\", pre)\n",
    "                    pre = lasts[tuple(pre)] + (seq[-2],)\n",
    "                    # if seq == oi:\n",
    "                    #     print(f\"After lasts {i} with\", pre)\n",
    "                    pre = swap_all_but_last(pre)\n",
    "                    # if seq == oi:\n",
    "                        # print(f\"After swap {i} with\", pre)\n",
    "            else:\n",
    "                cnt = 1\n",
    "                ss = seq[0]\n",
    "            pre = swap_all_but_last(pre)\n",
    "            pre = tuple(pre)\n",
    "            lasts[seq] = pre\n",
    "            sizes[seq] = cnt\n",
    "            sums[seq] = ss\n",
    "        bt += [a]\n",
    "        print(\"On size\", sz, n, sizes[tuple(bt)], float(sizes[tuple(bt)] / n))\n",
    "        if sizes[tuple(bt)] >= n:\n",
    "            return lasts, sizes, get_sums, bt\n",
    "def answer(a, b, n):\n",
    "    def swap(k):\n",
    "        return b if k == a else a\n",
    "    def swap_all(t):\n",
    "        rt = []\n",
    "        for i in range(len(t)):\n",
    "            rt.append(swap(t[i]))\n",
    "        return rt\n",
    "    def swap_all_but_last(t):\n",
    "        rt = []\n",
    "        for i in range(len(t)):\n",
    "            if i == len(t) - 1:\n",
    "                rt.append(t[i])\n",
    "            else:\n",
    "                rt.append(swap(t[i]))\n",
    "        return rt\n",
    "    lasts, sizes, get_sums, ct = get_tables(a, b, n)\n",
    "    # If it is greater than our current, just use current and go to next.\n",
    "    csum = 0\n",
    "    while n:\n",
    "        # print(ct, n, sizes[tuple(ct)])\n",
    "        if n >= sizes[tuple(ct)]:\n",
    "            # Use all of ct. Go to next of ct.\n",
    "            # print(\"Adding\", ct, sums[tuple(ct)])\n",
    "            n -= sizes[tuple(ct)]\n",
    "            csum += get_sums(tuple(ct))\n",
    "            nt = lasts[tuple(ct)]\n",
    "            nt = tuple(swap_all(nt) + [ct[-1]])\n",
    "            ct = list(nt)\n",
    "        else:\n",
    "            # Break current down by 1?\n",
    "            ct = ct[0:-1]\n",
    "    return csum\n",
    "print(answer(5, 8, 10**6))\n",
    "# from tqdm import trange\n",
    "T = 0\n",
    "# n = 22332223332233\n",
    "# for a in trange(2, 223 + 1):\n",
    "#     for b in trange(2, 223 + 1):\n",
    "#         if a != b:\n",
    "#             T += answer(a, b, n)\n",
    "print(T % 2233222333)"
   ]
  },
  {
   "cell_type": "code",
   "execution_count": 194,
   "metadata": {},
   "outputs": [
    {
     "data": {
      "text/plain": [
       "(3, 3, 3, 2)"
      ]
     },
     "execution_count": 194,
     "metadata": {},
     "output_type": "execute_result"
    }
   ],
   "source": [
    "oi = (2, 2, 2, 2, 2)\n",
    "lasts[oi]"
   ]
  },
  {
   "cell_type": "code",
   "execution_count": null,
   "metadata": {},
   "outputs": [],
   "source": []
  }
 ],
 "metadata": {
  "kernelspec": {
   "display_name": "Python 3",
   "language": "python",
   "name": "python3"
  },
  "language_info": {
   "codemirror_mode": {
    "name": "ipython",
    "version": 3
   },
   "file_extension": ".py",
   "mimetype": "text/x-python",
   "name": "python",
   "nbconvert_exporter": "python",
   "pygments_lexer": "ipython3",
   "version": "3.9.6"
  }
 },
 "nbformat": 4,
 "nbformat_minor": 2
}
