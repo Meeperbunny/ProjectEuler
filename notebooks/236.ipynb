{
 "cells": [
  {
   "cell_type": "code",
   "execution_count": 1,
   "metadata": {},
   "outputs": [],
   "source": [
    "from fractions import Fraction"
   ]
  },
  {
   "cell_type": "code",
   "execution_count": 3,
   "metadata": {},
   "outputs": [
    {
     "data": {
      "text/plain": [
       "Fraction(25, 36)"
      ]
     },
     "execution_count": 3,
     "metadata": {},
     "output_type": "execute_result"
    }
   ],
   "source": [
    "Fraction(1475 * 1312, 1476 * B)"
   ]
  },
  {
   "cell_type": "code",
   "execution_count": null,
   "metadata": {},
   "outputs": [],
   "source": [
    "\"\"\"\n",
    "m = p/q\n",
    "A, B\n",
    "\n",
    "a / b = Aq / pB\n",
    "\n",
    "\n",
    "\n",
    "\n",
    "\n",
    "\"\"\""
   ]
  },
  {
   "cell_type": "code",
   "execution_count": 5,
   "metadata": {},
   "outputs": [],
   "source": [
    "nums = [(5248, 640),\n",
    "(1312, 1888),\n",
    "(2624, 3776),\n",
    "(5760, 3776),\n",
    "(3936, 5664),\n",
    "]"
   ]
  },
  {
   "cell_type": "code",
   "execution_count": 6,
   "metadata": {},
   "outputs": [],
   "source": [
    "ASUM = sum(e[0] for e in nums)\n",
    "BSUM = sum(e[1] for e in nums)\n"
   ]
  },
  {
   "cell_type": "code",
   "execution_count": 9,
   "metadata": {},
   "outputs": [
    {
     "data": {
      "text/plain": [
       "(18880, 15744)"
      ]
     },
     "execution_count": 9,
     "metadata": {},
     "output_type": "execute_result"
    }
   ],
   "source": [
    "ASUM, BSUM"
   ]
  },
  {
   "cell_type": "code",
   "execution_count": 21,
   "metadata": {},
   "outputs": [],
   "source": [
    "def get_incs(m, a, b):\n",
    "    F = Fraction(Fraction(1, m) * Fraction(a, b))\n",
    "    return F.numerator, F.denominator"
   ]
  },
  {
   "cell_type": "code",
   "execution_count": 11,
   "metadata": {},
   "outputs": [],
   "source": [
    "def maxOrMin(a_i, b_i):\n",
    "    if a_i / ASUM > b_i / BSUM:\n",
    "        # If the spoilage increases with each i, then do the max, otherwise do the min\n",
    "        return \"MAX\"\n",
    "    return \"MIN\""
   ]
  },
  {
   "cell_type": "code",
   "execution_count": 57,
   "metadata": {},
   "outputs": [],
   "source": [
    "A, B = 1312, 1888\n",
    "\n",
    "m = Fraction(1476, 1475)\n",
    "\n",
    "mset = set()\n",
    "\n",
    "for a in range(1, A + 1):\n",
    "    for b in range(a + 1, B + 1):\n",
    "        a_f = Fraction(a, A)\n",
    "        b_f = Fraction(b, B)\n",
    "        mset.add(b_f / a_f)\n",
    "        # if a_f * m == b_f:\n",
    "        #     print(f\"{a}/{A}, {b}/{B}\")\n"
   ]
  },
  {
   "cell_type": "code",
   "execution_count": 26,
   "metadata": {},
   "outputs": [
    {
     "data": {
      "text/plain": [
       "982873"
      ]
     },
     "execution_count": 26,
     "metadata": {},
     "output_type": "execute_result"
    }
   ],
   "source": [
    "len(mset)"
   ]
  },
  {
   "cell_type": "code",
   "execution_count": 45,
   "metadata": {},
   "outputs": [],
   "source": [
    "mset = {Fraction(369, 59)}"
   ]
  },
  {
   "cell_type": "code",
   "execution_count": null,
   "metadata": {},
   "outputs": [],
   "source": [
    "a_1/b_1 * k_1 + "
   ]
  },
  {
   "cell_type": "code",
   "execution_count": 52,
   "metadata": {},
   "outputs": [],
   "source": [
    "pmset = set()"
   ]
  },
  {
   "cell_type": "code",
   "execution_count": 120,
   "metadata": {},
   "outputs": [
    {
     "data": {
      "text/plain": [
       "5837"
      ]
     },
     "execution_count": 120,
     "metadata": {},
     "output_type": "execute_result"
    }
   ],
   "source": [
    "mm = Fraction(0)\n",
    "for m in mset:\n",
    "    isgood = True\n",
    "    AT = 0\n",
    "    BT = 0\n",
    "    for a, b in nums:\n",
    "        a_i, b_i = get_incs(m, a, b)\n",
    "        # print(m, a, b)\n",
    "        # If either inc is greater, then cant do\n",
    "        if a_i > a or b_i > b:\n",
    "            isgood = False\n",
    "            break\n",
    "        type = maxOrMin(a_i, b_i)\n",
    "        ac, bc = a_i, b_i\n",
    "        if type == \"MAX\":\n",
    "            minc = min(a // a_i, b // b_i)\n",
    "            ac = a_i * minc\n",
    "            bc = b_i * minc\n",
    "        # print(\"ACBC\", ac, bc)\n",
    "        AT += ac\n",
    "        BT += bc\n",
    "    if AT * BSUM > BT * ASUM:\n",
    "        if isgood:\n",
    "            # print(\"### M for\", m)\n",
    "            # print(AT, BT, ASUM, BSUM)\n",
    "            # print(AT / ASUM, BT / BSUM)\n",
    "            mm = max(m, mm)\n",
    "            pmset.add(m)\n",
    "pmlist = list(sorted(pmset))\n",
    "len(pmlist)"
   ]
  },
  {
   "cell_type": "code",
   "execution_count": 121,
   "metadata": {},
   "outputs": [
    {
     "data": {
      "text/plain": [
       "3585"
      ]
     },
     "execution_count": 121,
     "metadata": {},
     "output_type": "execute_result"
    }
   ],
   "source": [
    "pmlist = pmlist[pmlist.index(Fraction(1476, 1475)):]\n",
    "len(pmlist)"
   ]
  },
  {
   "cell_type": "code",
   "execution_count": 71,
   "metadata": {},
   "outputs": [
    {
     "name": "stdout",
     "output_type": "stream",
     "text": [
      "5248 640 3358720\n",
      "1312 1888 2477056\n",
      "2624 3776 9908224\n",
      "5760 3776 21749760\n",
      "3936 5664 22293504\n"
     ]
    }
   ],
   "source": [
    "for a, b in nums:\n",
    "    print(a, b, a * b)"
   ]
  },
  {
   "cell_type": "code",
   "execution_count": null,
   "metadata": {},
   "outputs": [],
   "source": [
    "from tqdm import tqdm"
   ]
  },
  {
   "cell_type": "code",
   "execution_count": 123,
   "metadata": {},
   "outputs": [
    {
     "data": {
      "application/vnd.jupyter.widget-view+json": {
       "model_id": "9b03cfe48e094bf39bfd527514077933",
       "version_major": 2,
       "version_minor": 0
      },
      "text/plain": [
       "  0%|          | 0/3585 [00:00<?, ?it/s]"
      ]
     },
     "metadata": {},
     "output_type": "display_data"
    },
    {
     "name": "stdout",
     "output_type": "stream",
     "text": [
      "1 1476/1475\n",
      "2 1230/1229\n",
      "3 3485/3481\n",
      "4 738/737\n",
      "5 2009/2006\n",
      "6 615/614\n",
      "7 2542/2537\n",
      "8 3075/3068\n",
      "9 410/409\n",
      "10 3608/3599\n",
      "11 369/368\n",
      "12 615/613\n"
     ]
    },
    {
     "ename": "KeyboardInterrupt",
     "evalue": "",
     "output_type": "error",
     "traceback": [
      "\u001b[0;31m---------------------------------------------------------------------------\u001b[0m",
      "\u001b[0;31mKeyboardInterrupt\u001b[0m                         Traceback (most recent call last)",
      "Cell \u001b[0;32mIn[123], line 16\u001b[0m\n\u001b[1;32m     14\u001b[0m     \u001b[38;5;28;01mbreak\u001b[39;00m\n\u001b[1;32m     15\u001b[0m \u001b[38;5;28;01mfor\u001b[39;00m k \u001b[38;5;129;01min\u001b[39;00m \u001b[38;5;28mrange\u001b[39m(\u001b[38;5;241m0\u001b[39m, minc \u001b[38;5;241m+\u001b[39m \u001b[38;5;241m1\u001b[39m):\n\u001b[0;32m---> 16\u001b[0m     AA \u001b[38;5;241m=\u001b[39m e[\u001b[38;5;241m0\u001b[39m] \u001b[38;5;241m+\u001b[39m a_i \u001b[38;5;241m*\u001b[39m \u001b[43mk\u001b[49m\n\u001b[1;32m     17\u001b[0m     BB \u001b[38;5;241m=\u001b[39m e[\u001b[38;5;241m1\u001b[39m] \u001b[38;5;241m+\u001b[39m b_i \u001b[38;5;241m*\u001b[39m k\n\u001b[1;32m     18\u001b[0m     \u001b[38;5;28;01mif\u001b[39;00m AA \u001b[38;5;241m>\u001b[39m ASUM \u001b[38;5;129;01mand\u001b[39;00m BB \u001b[38;5;241m>\u001b[39m BSUM:\n",
      "\u001b[0;31mKeyboardInterrupt\u001b[0m: "
     ]
    }
   ],
   "source": [
    "ic = 0\n",
    "mm = Fraction(0)\n",
    "for m in tqdm(pmlist):\n",
    "    possible = {(0, 0)}\n",
    "    isg = False\n",
    "    for a, b in nums:\n",
    "        is_last = (a, b) == nums[-1]\n",
    "        to_add = set()\n",
    "        # print(len(possible))\n",
    "        a_i, b_i = get_incs(m, a, b)\n",
    "        minc = min(b // b_i, a // a_i)\n",
    "        for e in possible:\n",
    "            if isg:\n",
    "                break\n",
    "            for k in range(0, minc + 1):\n",
    "                AA = e[0] + a_i * k\n",
    "                BB = e[1] + b_i * k\n",
    "                if AA > ASUM and BB > BSUM:\n",
    "                    break\n",
    "                to_add.add((AA, BB))\n",
    "        possible.update(to_add)\n",
    "    \n",
    "    for a, b in possible:\n",
    "        if b:\n",
    "            if Fraction(b, a) == m:\n",
    "                mm = max(m, mm)\n",
    "                ic += 1\n",
    "                print(ic, m)\n",
    "                break\n",
    "mm"
   ]
  },
  {
   "cell_type": "code",
   "execution_count": null,
   "metadata": {},
   "outputs": [],
   "source": []
  },
  {
   "cell_type": "code",
   "execution_count": null,
   "metadata": {},
   "outputs": [],
   "source": []
  },
  {
   "cell_type": "code",
   "execution_count": null,
   "metadata": {},
   "outputs": [],
   "source": []
  },
  {
   "cell_type": "code",
   "execution_count": null,
   "metadata": {},
   "outputs": [],
   "source": []
  },
  {
   "cell_type": "code",
   "execution_count": null,
   "metadata": {},
   "outputs": [],
   "source": [
    "from fractions import Fraction\n",
    "nums = [(5248, 640),\n",
    "(1312, 1888),\n",
    "(2624, 3776),\n",
    "(5760, 3776),\n",
    "(3936, 5664),\n",
    "]\n",
    "ASUM = sum(e[0] for e in nums)\n",
    "BSUM = sum(e[1] for e in nums)\n",
    "def get_incs(m, a, b):\n",
    "    F = Fraction(Fraction(1, m) * Fraction(a, b))\n",
    "    return F.numerator, F.denominator\n",
    "def maxOrMin(a_i, b_i):\n",
    "    if a_i * BSUM > b_i * ASUM:\n",
    "        # If the spoilage increases with each i, then do the max, otherwise do the min\n",
    "        return \"MAX\"\n",
    "    return \"MIN\"\n",
    "\n",
    "mset = set()\n",
    "A, B = nums[1]\n",
    "\n",
    "for a in range(1, A + 1):\n",
    "    for b in range(a + 1, B + 1):\n",
    "        a_f = Fraction(a, A)\n",
    "        b_f = Fraction(b, B)\n",
    "        mset.add(b_f / a_f)\n",
    "        # if a_f * m == b_f:\n",
    "        #     print(f\"{a}/{A}, {b}/{B}\")\n",
    "\n",
    "pmset = set()\n",
    "mm = Fraction(0)\n",
    "for m in mset:\n",
    "    isgood = True\n",
    "    AT = 0\n",
    "    BT = 0\n",
    "    for a, b in nums:\n",
    "        a_i, b_i = get_incs(m, a, b)\n",
    "        # print(m, a, b)\n",
    "        # If either inc is greater, then cant do\n",
    "        if a_i > a or b_i > b:\n",
    "            isgood = False\n",
    "            break\n",
    "        type = maxOrMin(a_i, b_i)\n",
    "        ac, bc = a_i, b_i\n",
    "        if type == \"MAX\":\n",
    "            minc = min(a // a_i, b // b_i)\n",
    "            ac = a_i * minc\n",
    "            bc = b_i * minc\n",
    "        # print(\"ACBC\", ac, bc)\n",
    "        AT += ac\n",
    "        BT += bc\n",
    "    if AT * BSUM > BT * ASUM:\n",
    "        if isgood:\n",
    "            # print(\"### M for\", m)\n",
    "            # print(AT, BT, ASUM, BSUM)\n",
    "            # print(AT / ASUM, BT / BSUM)\n",
    "            mm = max(m, mm)\n",
    "            pmset.add(m)\n",
    "pmlist = list(sorted(pmset))\n",
    "pmlist = pmlist[pmlist.index(Fraction(1476, 1475)):]\n",
    "print(len(pmlist))\n",
    "from tqdm import tqdm\n",
    "ic = 0\n",
    "mm = Fraction(0)\n",
    "for m in tqdm(reversed(pmlist)):\n",
    "    fp = {(0, 0)}\n",
    "    isg = False\n",
    "    for a, b in nums[0:3]:\n",
    "        is_last = (a, b) == nums[-1]\n",
    "        to_add = set()\n",
    "        a_i, b_i = get_incs(m, a, b)\n",
    "        minc = min(b // b_i, a // a_i)\n",
    "        for e in fp:\n",
    "            for k in range(0, minc + 1):\n",
    "                AA = e[0] + a_i * k\n",
    "                BB = e[1] + b_i * k\n",
    "                if AA > ASUM and BB > BSUM:\n",
    "                    break\n",
    "                to_add.add((AA, BB))\n",
    "        fp.update(to_add)\n",
    "    sp = {(0, 0)}\n",
    "    isg = False\n",
    "    for a, b in nums[3:]:\n",
    "        is_last = (a, b) == nums[-1]\n",
    "        to_add = set()\n",
    "        a_i, b_i = get_incs(m, a, b)\n",
    "        minc = min(b // b_i, a // a_i)\n",
    "        for e in sp:\n",
    "            for k in range(0, minc + 1):\n",
    "                AA = e[0] + a_i * k\n",
    "                BB = e[1] + b_i * k\n",
    "                if AA > ASUM and BB > BSUM:\n",
    "                    break\n",
    "                to_add.add((AA, BB))\n",
    "        sp.update(to_add)\n",
    "\n",
    "\n",
    "    a = (m * ASUM) / BSUM * b\n",
    "\n",
    "    bmult = Fraction(m * ASUM, BSUM)\n",
    "    bd = bmult.denominator\n",
    "    binc = BSUM // bd\n",
    "    isg = False\n",
    "    for b in range(bd, BSUM, bmult.denominator):\n",
    "        if isg:\n",
    "            break\n",
    "        a = int(bmult * b)\n",
    "        if a > ASUM:\n",
    "            break\n",
    "        # print(a, b)\n",
    "        for e in sp:\n",
    "            lk = a - e[0], b - e[1]\n",
    "            if lk in fp:\n",
    "                isg = True\n",
    "                break\n",
    "    if isg:\n",
    "        mm = max(m, mm)\n",
    "        ic += 1\n",
    "        print(ic, end=\" \")\n",
    "        print(m)\n",
    "\n",
    "    # for a, b in possible:\n",
    "    #     if b:\n",
    "    #         if Fraction(a * BSUM, ASUM * b) == m:\n",
    "    #             mm = max(m, mm)\n",
    "    #             ic += 1\n",
    "    #             print(ic, end=\" \")\n",
    "    #             print(m)\n",
    "    #             break\n",
    "print(mm)\n",
    "\n",
    "\"\"\"\n",
    "3567/3481\n",
    "25/24\n",
    "\"\"\""
   ]
  },
  {
   "cell_type": "code",
   "execution_count": null,
   "metadata": {},
   "outputs": [],
   "source": [
    "from fractions import Fraction\n",
    "nums = [(5248, 640),\n",
    "(1312, 1888),\n",
    "(2624, 3776),\n",
    "(5760, 3776),\n",
    "(3936, 5664),\n",
    "]\n",
    "ASUM = sum(e[0] for e in nums)\n",
    "BSUM = sum(e[1] for e in nums)\n",
    "def get_incs(m, a, b):\n",
    "    F = Fraction(Fraction(1, m) * Fraction(a, b))\n",
    "    return F.numerator, F.denominator\n",
    "def maxOrMin(a_i, b_i):\n",
    "    if a_i / ASUM > b_i / BSUM:\n",
    "        # If the spoilage increases with each i, then do the max, otherwise do the min\n",
    "        return \"MAX\"\n",
    "    return \"MIN\"\n",
    "\n",
    "mset = set()\n",
    "A, B = nums[1]\n",
    "\n",
    "for a in range(1, A + 1):\n",
    "    for b in range(a + 1, B + 1):\n",
    "        a_f = Fraction(a, A)\n",
    "        b_f = Fraction(b, B)\n",
    "        mset.add(b_f / a_f)\n",
    "        # if a_f * m == b_f:\n",
    "        #     print(f\"{a}/{A}, {b}/{B}\")\n",
    "\n",
    "pmset = set()\n",
    "mm = Fraction(0)\n",
    "for m in mset:\n",
    "    isgood = True\n",
    "    AT = 0\n",
    "    BT = 0\n",
    "    for a, b in nums:\n",
    "        a_i, b_i = get_incs(m, a, b)\n",
    "        # print(m, a, b)\n",
    "        # If either inc is greater, then cant do\n",
    "        if a_i > a or b_i > b:\n",
    "            isgood = False\n",
    "            break\n",
    "        type = maxOrMin(a_i, b_i)\n",
    "        ac, bc = a_i, b_i\n",
    "        if type == \"MAX\":\n",
    "            minc = min(a // a_i, b // b_i)\n",
    "            ac = a_i * minc\n",
    "            bc = b_i * minc\n",
    "        # print(\"ACBC\", ac, bc)\n",
    "        AT += ac\n",
    "        BT += bc\n",
    "    if AT * BSUM > BT * ASUM:\n",
    "        if isgood:\n",
    "            # print(\"### M for\", m)\n",
    "            # print(AT, BT, ASUM, BSUM)\n",
    "            # print(AT / ASUM, BT / BSUM)\n",
    "            mm = max(m, mm)\n",
    "            pmset.add(m)\n",
    "pmlist = list(sorted(pmset))\n",
    "pmlist = pmlist[pmlist.index(Fraction(1476, 1475)):]\n",
    "print(len(pmlist))\n",
    "from tqdm import tqdm\n",
    "ic = 0\n",
    "mm = Fraction(0)\n",
    "for m in pmlist:\n",
    "    possible = {(0, 0)}\n",
    "    isg = False\n",
    "    for a, b in nums:\n",
    "        is_last = (a, b) == nums[-1]\n",
    "        to_add = set()\n",
    "        # print(len(possible))\n",
    "        a_i, b_i = get_incs(m, a, b)\n",
    "        minc = min(b // b_i, a // a_i)\n",
    "        for e in possible:\n",
    "            if isg:\n",
    "                break\n",
    "            for k in range(0, minc + 1):\n",
    "                AA = e[0] + a_i * k\n",
    "                BB = e[1] + b_i * k\n",
    "                if AA > ASUM and BB > BSUM:\n",
    "                    break\n",
    "                to_add.add((AA, BB))\n",
    "        possible.update(to_add)\n",
    "    \n",
    "    for a, b in possible:\n",
    "        if b:\n",
    "            if Fraction(a * BSUM, b * ASUM) == m:\n",
    "                print(a, b)\n",
    "                mm = max(m, mm)\n",
    "                ic += 1\n",
    "                print(ic, end=\" \")\n",
    "                print(m)\n",
    "                break\n",
    "mm\n",
    "\n",
    "\"\"\"\n",
    "25/24\n",
    "\n",
    "25/24\n",
    "\"\"\""
   ]
  }
 ],
 "metadata": {
  "kernelspec": {
   "display_name": "Python 3",
   "language": "python",
   "name": "python3"
  },
  "language_info": {
   "codemirror_mode": {
    "name": "ipython",
    "version": 3
   },
   "file_extension": ".py",
   "mimetype": "text/x-python",
   "name": "python",
   "nbconvert_exporter": "python",
   "pygments_lexer": "ipython3",
   "version": "3.9.6"
  }
 },
 "nbformat": 4,
 "nbformat_minor": 2
}
