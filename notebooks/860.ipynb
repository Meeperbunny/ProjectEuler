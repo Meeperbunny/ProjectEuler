{
 "cells": [
  {
   "cell_type": "code",
   "execution_count": 3,
   "id": "e3f33dc6-f55a-4c83-b8a7-1c39e91c9cc5",
   "metadata": {},
   "outputs": [],
   "source": [
    "from collections import Counter"
   ]
  },
  {
   "cell_type": "code",
   "execution_count": 30,
   "id": "8df3394e-c999-4c87-a975-31d009b1ce15",
   "metadata": {},
   "outputs": [
    {
     "name": "stdout",
     "output_type": "stream",
     "text": [
      "10\n",
      "5\n",
      "4\n",
      "2\n",
      "1\n"
     ]
    },
    {
     "data": {
      "text/plain": [
       "63594"
      ]
     },
     "execution_count": 30,
     "metadata": {},
     "output_type": "execute_result"
    }
   ],
   "source": [
    "def F(n):\n",
    "    a = Counter([0])\n",
    "    b = Counter([0])\n",
    "    new_b = Counter()\n",
    "    for e in b:\n",
    "        new_b[e + 4] += b[e]\n",
    "        new_b[e + 1] += b[e]\n",
    "        new_b[e - 1] += b[e]\n",
    "        new_b[e - 4] += b[e]\n",
    "    b = new_b\n",
    "\n",
    "    while n:\n",
    "        print(n)\n",
    "        if n & 1:\n",
    "            new_a = Counter()\n",
    "            for e_a in a:\n",
    "                for e_b in b:\n",
    "                    new_a[e_a + e_b] += a[e_a] * b[e_b]\n",
    "                    new_a[e_a + e_b] %= 989898989\n",
    "            a = new_a\n",
    "            n -= 1\n",
    "        else:\n",
    "            new_b = Counter()\n",
    "            for e_f in b:\n",
    "                for e_s in b:\n",
    "                    new_b[e_f + e_s] += b[e_f] * b[e_s]\n",
    "                    new_b[e_f + e_s] %= 989898989\n",
    "            b = new_b\n",
    "            n >>= 1\n",
    "    return a[0]\n",
    "F(10)"
   ]
  }
 ],
 "metadata": {
  "kernelspec": {
   "display_name": "Python 3 (ipykernel)",
   "language": "python",
   "name": "python3"
  },
  "language_info": {
   "codemirror_mode": {
    "name": "ipython",
    "version": 3
   },
   "file_extension": ".py",
   "mimetype": "text/x-python",
   "name": "python",
   "nbconvert_exporter": "python",
   "pygments_lexer": "ipython3",
   "version": "3.12.4"
  }
 },
 "nbformat": 4,
 "nbformat_minor": 5
}
