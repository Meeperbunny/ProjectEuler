{
 "cells": [
  {
   "cell_type": "code",
   "execution_count": 10,
   "metadata": {},
   "outputs": [],
   "source": [
    "from decimal import Decimal, getcontext\n",
    "from math import pi\n",
    "getcontext().prec = 30"
   ]
  },
  {
   "cell_type": "code",
   "execution_count": 27,
   "metadata": {},
   "outputs": [],
   "source": [
    "n = 10_000\n",
    "PI = Decimal(pi)"
   ]
  },
  {
   "cell_type": "code",
   "execution_count": 28,
   "metadata": {},
   "outputs": [],
   "source": [
    "l = [(Decimal(k / n).exp() - 1, [k]) for k in range(1, int(n * 1.2))]"
   ]
  },
  {
   "cell_type": "code",
   "execution_count": 29,
   "metadata": {},
   "outputs": [
    {
     "ename": "KeyboardInterrupt",
     "evalue": "",
     "output_type": "error",
     "traceback": [
      "\u001b[1;31m---------------------------------------------------------------------------\u001b[0m",
      "\u001b[1;31mKeyboardInterrupt\u001b[0m                         Traceback (most recent call last)",
      "Cell \u001b[1;32mIn[29], line 4\u001b[0m\n\u001b[0;32m      2\u001b[0m \u001b[38;5;28;01mfor\u001b[39;00m i, a \u001b[38;5;129;01min\u001b[39;00m \u001b[38;5;28menumerate\u001b[39m(l):\n\u001b[0;32m      3\u001b[0m     \u001b[38;5;28;01mfor\u001b[39;00m b \u001b[38;5;129;01min\u001b[39;00m l[i:]:\n\u001b[1;32m----> 4\u001b[0m         comb\u001b[38;5;241m.\u001b[39mappend((a[\u001b[38;5;241m0\u001b[39m] \u001b[38;5;241m+\u001b[39m b[\u001b[38;5;241m0\u001b[39m], a[\u001b[38;5;241m1\u001b[39m] \u001b[38;5;241m+\u001b[39m b[\u001b[38;5;241m1\u001b[39m]))\n\u001b[0;32m      5\u001b[0m comb\u001b[38;5;241m.\u001b[39msort(key\u001b[38;5;241m=\u001b[39m\u001b[38;5;28;01mlambda\u001b[39;00m x: x[\u001b[38;5;241m0\u001b[39m])\n\u001b[0;32m      6\u001b[0m comb[\u001b[38;5;241m0\u001b[39m:\u001b[38;5;241m5\u001b[39m]\n",
      "\u001b[1;31mKeyboardInterrupt\u001b[0m: "
     ]
    }
   ],
   "source": [
    "comb = []\n",
    "for i, a in enumerate(l):\n",
    "    for b in l[i:]:\n",
    "        comb.append((a[0] + b[0], a[1] + b[1]))\n",
    "comb.sort(key=lambda x: x[0])\n",
    "comb[0:5]"
   ]
  },
  {
   "cell_type": "code",
   "execution_count": null,
   "metadata": {},
   "outputs": [],
   "source": [
    "from bisect import *"
   ]
  },
  {
   "cell_type": "code",
   "execution_count": null,
   "metadata": {},
   "outputs": [],
   "source": [
    "best_error = PI\n",
    "best_indices = None"
   ]
  },
  {
   "cell_type": "code",
   "execution_count": null,
   "metadata": {},
   "outputs": [],
   "source": [
    "for e in comb:\n",
    "    comp = PI - e[0]\n",
    "    k = -1\n",
    "    j = len(comb)\n",
    "    while j >= 1:\n",
    "        while True:\n",
    "            nk = k + j\n",
    "            if nk >= len(comb):\n",
    "                break\n",
    "            if comb[nk][0] > comp:\n",
    "                break\n",
    "            k = nk\n",
    "        j //= 2\n",
    "    if k >= 0:\n",
    "        er = abs(e[0] + comb[k][0] - PI)\n",
    "        if er < best_error:\n",
    "            best_error = er\n",
    "            best_indices = e[1] + comb[k][1]\n",
    "    if k + 1 < len(comb):\n",
    "        er = abs(e[0] + comb[k + 1][0] - PI)\n",
    "        if er < best_error:\n",
    "            best_error = er\n",
    "            best_indices = e[1] + comb[k + 1][1]"
   ]
  },
  {
   "cell_type": "code",
   "execution_count": null,
   "metadata": {},
   "outputs": [
    {
     "data": {
      "text/plain": [
       "([6, 75, 89, 226], Decimal('9.06069703572767670537418516159E-9'))"
      ]
     },
     "execution_count": 26,
     "metadata": {},
     "output_type": "execute_result"
    }
   ],
   "source": [
    "best_indices, best_error"
   ]
  },
  {
   "cell_type": "code",
   "execution_count": null,
   "metadata": {},
   "outputs": [],
   "source": [
    "\n",
    "from decimal import Decimal, getcontext\n",
    "from math import pi\n",
    "from tqdm import tqdm\n",
    "getcontext().prec = 30\n",
    "\n",
    "n = 10_000\n",
    "PI = Decimal(pi)\n",
    "\n",
    "l = [(Decimal(k / n).exp() - 1, k * k) for k in range(1, int(n * 1.2))]\n",
    "\n",
    "comb = []\n",
    "print(\"adding\")\n",
    "for i, a in tqdm(enumerate()):\n",
    "    for b in l[i:]:\n",
    "        comb.append((a[0] + b[0], a[1] + b[1]))\n",
    "print(\"sortiung\")\n",
    "comb.sort(key=lambda x: x[0])\n",
    "comb[0:5]\n",
    "\n",
    "\n",
    "from bisect import *\n",
    "\n",
    "\n",
    "best_error = PI\n",
    "best_indices = None\n",
    "\n",
    "print(\"iterating\")\n",
    "\n",
    "for e in tqdm(comb):\n",
    "    comp = PI - e[0]\n",
    "    k = -1\n",
    "    j = len(comb)\n",
    "    while j >= 1:\n",
    "        while True:\n",
    "            nk = k + j\n",
    "            if nk >= len(comb):\n",
    "                break\n",
    "            if comb[nk][0] > comp:\n",
    "                break\n",
    "            k = nk\n",
    "        j //= 2\n",
    "    if k >= 0:\n",
    "        er = abs(e[0] + comb[k][0] - PI)\n",
    "        if er < best_error:\n",
    "            best_error = er\n",
    "            best_indices = e[1] + comb[k][1]\n",
    "    if k + 1 < len(comb):\n",
    "        er = abs(e[0] + comb[k + 1][0] - PI)\n",
    "        if er < best_error:\n",
    "            best_error = er\n",
    "            best_indices = e[1] + comb[k + 1][1]\n",
    "\n",
    "\n",
    "print(best_indices, best_error)\n",
    "t = 0\n",
    "for i in best_indices:\n",
    "    t += i * i\n",
    "print(t)\n",
    "\n",
    "\n",
    "\n",
    "\n",
    "\n"
   ]
  }
 ],
 "metadata": {
  "kernelspec": {
   "display_name": "Python 3",
   "language": "python",
   "name": "python3"
  },
  "language_info": {
   "codemirror_mode": {
    "name": "ipython",
    "version": 3
   },
   "file_extension": ".py",
   "mimetype": "text/x-python",
   "name": "python",
   "nbconvert_exporter": "python",
   "pygments_lexer": "ipython3",
   "version": "3.12.4"
  }
 },
 "nbformat": 4,
 "nbformat_minor": 2
}
