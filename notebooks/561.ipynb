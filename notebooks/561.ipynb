{
 "cells": [
  {
   "cell_type": "code",
   "execution_count": 31,
   "metadata": {},
   "outputs": [],
   "source": [
    "def get_divs(n):\n",
    "    divs = [[] for _ in range(n + 1)]\n",
    "    for i in range(1, n + 1):\n",
    "        for q in range(i, n + 1, i):\n",
    "            divs[q].append(i)\n",
    "    return divs\n",
    "D = get_divs(810000)"
   ]
  },
  {
   "cell_type": "code",
   "execution_count": null,
   "metadata": {},
   "outputs": [],
   "source": []
  },
  {
   "cell_type": "code",
   "execution_count": 32,
   "metadata": {},
   "outputs": [
    {
     "data": {
      "text/plain": [
       "189"
      ]
     },
     "execution_count": 32,
     "metadata": {},
     "output_type": "execute_result"
    }
   ],
   "source": [
    "19 * 10 - 1"
   ]
  },
  {
   "cell_type": "code",
   "execution_count": 109,
   "metadata": {},
   "outputs": [
    {
     "name": "stdout",
     "output_type": "stream",
     "text": [
      "30 27 8\n",
      "900 216 27\n",
      "27000 1000 64\n",
      "810000 3375 125\n"
     ]
    }
   ],
   "source": [
    "for k in range(1, 4 + 1):\n",
    "    num = 2 * 3 * 5\n",
    "    d = D[num**k]\n",
    "    c = 0\n",
    "    for e in d:\n",
    "        for q in d:\n",
    "            if q % e == 0 and e != q:\n",
    "                # print(e, q)\n",
    "                c += 1\n",
    "    print(num**k, c + len(d), len(d))"
   ]
  },
  {
   "cell_type": "code",
   "execution_count": 104,
   "metadata": {},
   "outputs": [],
   "source": [
    "P = 904961"
   ]
  },
  {
   "cell_type": "code",
   "execution_count": 119,
   "metadata": {},
   "outputs": [
    {
     "name": "stdout",
     "output_type": "stream",
     "text": [
      "936\n"
     ]
    }
   ],
   "source": [
    "def E(m, n):\n",
    "    c_n = 1\n",
    "    inc = 2\n",
    "    for k in range(0, n):\n",
    "        c_n += inc\n",
    "        inc += 1\n",
    "    print(c_n**m - (n+1)**m)\n",
    "    c_n += inc\n",
    "E(3, 3)"
   ]
  },
  {
   "cell_type": "code",
   "execution_count": null,
   "metadata": {},
   "outputs": [],
   "source": []
  }
 ],
 "metadata": {
  "kernelspec": {
   "display_name": "Python 3",
   "language": "python",
   "name": "python3"
  },
  "language_info": {
   "codemirror_mode": {
    "name": "ipython",
    "version": 3
   },
   "file_extension": ".py",
   "mimetype": "text/x-python",
   "name": "python",
   "nbconvert_exporter": "python",
   "pygments_lexer": "ipython3",
   "version": "3.12.4"
  }
 },
 "nbformat": 4,
 "nbformat_minor": 2
}
