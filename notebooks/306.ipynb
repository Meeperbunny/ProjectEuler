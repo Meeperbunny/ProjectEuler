{
 "cells": [
  {
   "cell_type": "code",
   "execution_count": 54,
   "id": "86aaa8b5-be3e-4854-a0b1-9f1888a8965e",
   "metadata": {},
   "outputs": [],
   "source": [
    "def gen_g(n):\n",
    "    grundy = [0 for _ in range(n + 1)]\n",
    "    for i in range(1, n + 1):\n",
    "        states = [0 for _ in range(n + 1)]\n",
    "        for q in range(0, i - 1):\n",
    "            states[(grundy[q] ^ grundy[i - q - 2])] = 1\n",
    "        for q in range(n + 1):\n",
    "            if not states[q]:\n",
    "                grundy[i] = q\n",
    "                break\n",
    "    m = {}\n",
    "    for i, e in enumerate(grundy):\n",
    "        if e not in m:\n",
    "            m[e] = []\n",
    "        m[e].append(i)\n",
    "    # for e in m:\n",
    "    #     print(e, len(m[e]))\n",
    "    return grundy\n",
    "g = gen_g(1000)"
   ]
  },
  {
   "cell_type": "code",
   "execution_count": 53,
   "id": "a9d40236-ae80-4e67-9352-5a09bda5f937",
   "metadata": {},
   "outputs": [
    {
     "name": "stdout",
     "output_type": "stream",
     "text": [
      "53 87 100 (3, 3, 0, 1, 1, 3, 0, 2, 1, 1, 0, 4, 5, 3, 7, 4, 8, 1, 1, 2, 0, 3, 1, 1, 0, 3, 3, 2, 2, 4, 4, 5, 5, 9, 3, 3, 0, 1, 1, 3, 0, 2, 1, 1, 0, 4, 5, 3, 7, 4, 8, 1, 1, 2, 0, 3, 1, 1, 0, 3, 3, 2, 2, 4, 4, 5, 5, 9, 3, 3, 0, 1, 1, 3, 0, 2, 1, 1, 0, 4, 5, 3, 7, 4, 8, 1, 1, 2, 0, 3, 1, 1, 0, 3, 3, 2, 2, 4, 4, 5)\n"
     ]
    }
   ],
   "source": [
    "f = False\n",
    "for sz in range(100, 1, -1):\n",
    "    for st in range(0, len(g) - sz + 1):\n",
    "        if f:\n",
    "            break\n",
    "        ls = tuple(g[st:st+sz])\n",
    "        if 9 not in ls:\n",
    "            continue\n",
    "        for st_2 in range(st + 1, len(g) - sz + 1):\n",
    "            if f:\n",
    "                break\n",
    "            if ls == tuple(g[st_2:st_2+sz]):\n",
    "                f = True\n",
    "                print(st, st_2, sz, ls)"
   ]
  },
  {
   "cell_type": "code",
   "execution_count": 63,
   "id": "a6ddc5a0-ec66-49ef-8b8a-9ac94e73bca4",
   "metadata": {},
   "outputs": [],
   "source": [
    "# maxn = 50\n",
    "maxn = 1_000_000\n",
    "p_start = 53\n",
    "p_len = 87 - 53"
   ]
  },
  {
   "cell_type": "code",
   "execution_count": 68,
   "id": "66b68531-73c5-4985-acbf-dac8bcd0121f",
   "metadata": {},
   "outputs": [],
   "source": [
    "winning = 0\n",
    "i = 1\n",
    "while i <= maxn:\n",
    "    if i < p_start:\n",
    "        if g[i]:\n",
    "            winning += 1\n",
    "        i += 1\n",
    "    elif i % p_len == p_start % p_len:\n",
    "        # Is a period\n",
    "        for q in range(0, p_len):\n",
    "            if i + q > maxn:\n",
    "                break\n",
    "            if g[p_start + q]:\n",
    "                winning += 1\n",
    "        i += p_len"
   ]
  },
  {
   "cell_type": "code",
   "execution_count": 67,
   "id": "e5471cec-5b36-4925-8639-82fab5a383b8",
   "metadata": {},
   "outputs": [
    {
     "data": {
      "text/plain": [
       "852961"
      ]
     },
     "execution_count": 67,
     "metadata": {},
     "output_type": "execute_result"
    }
   ],
   "source": [
    "winning"
   ]
  },
  {
   "cell_type": "code",
   "execution_count": 69,
   "id": "5346e602-3c62-4d9f-a3dd-e634ab0cb0f2",
   "metadata": {},
   "outputs": [
    {
     "data": {
      "text/plain": [
       "852938"
      ]
     },
     "execution_count": 69,
     "metadata": {},
     "output_type": "execute_result"
    }
   ],
   "source": [
    "winning"
   ]
  }
 ],
 "metadata": {
  "kernelspec": {
   "display_name": "Python 3 (ipykernel)",
   "language": "python",
   "name": "python3"
  },
  "language_info": {
   "codemirror_mode": {
    "name": "ipython",
    "version": 3
   },
   "file_extension": ".py",
   "mimetype": "text/x-python",
   "name": "python",
   "nbconvert_exporter": "python",
   "pygments_lexer": "ipython3",
   "version": "3.12.4"
  }
 },
 "nbformat": 4,
 "nbformat_minor": 5
}
