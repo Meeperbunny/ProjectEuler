{
 "cells": [
  {
   "cell_type": "code",
   "execution_count": 1,
   "id": "0922741c-4553-4376-aed2-3d1c101dc2ce",
   "metadata": {},
   "outputs": [],
   "source": [
    "import random"
   ]
  },
  {
   "cell_type": "code",
   "execution_count": 102,
   "id": "156ffcf1-ffb9-4d38-b3c6-3731ec4274d9",
   "metadata": {},
   "outputs": [],
   "source": [
    "def rperm(n, s=True):\n",
    "    l = [i for i in range(1, n + 1)]\n",
    "    if s:\n",
    "        random.shuffle(l)\n",
    "    return l"
   ]
  },
  {
   "cell_type": "code",
   "execution_count": 103,
   "id": "11e27e5f-25b5-4653-b77f-30d2f8bcdb8e",
   "metadata": {},
   "outputs": [],
   "source": [
    "def sim(n):\n",
    "    ls = [rperm(n, i!=0) for i in range(3)]\n",
    "    for i in range(n):\n",
    "        w = True\n",
    "        for q in range(n):\n",
    "            if i != q:\n",
    "                cnt = 0\n",
    "                cnt +=  ls[0][q] > ls[0][i]\n",
    "                cnt +=  ls[1][q] > ls[1][i]\n",
    "                cnt +=  ls[2][q] > ls[2][i]\n",
    "                if cnt < 2:\n",
    "                    w = False\n",
    "                    break\n",
    "        if w:\n",
    "            print(\"Index\", i)\n",
    "            return ls, True\n",
    "    return ls, False"
   ]
  },
  {
   "cell_type": "code",
   "execution_count": 105,
   "id": "937c7217-6507-4c1a-bd89-a004f6d1e201",
   "metadata": {},
   "outputs": [
    {
     "data": {
      "text/plain": [
       "0.9444444444444444"
      ]
     },
     "execution_count": 105,
     "metadata": {},
     "output_type": "execute_result"
    }
   ],
   "source": [
    "17/18"
   ]
  },
  {
   "cell_type": "code",
   "execution_count": 118,
   "id": "fa3f3130-c015-40ef-9888-0426c63453eb",
   "metadata": {},
   "outputs": [
    {
     "name": "stdout",
     "output_type": "stream",
     "text": [
      "Index 3\n"
     ]
    },
    {
     "data": {
      "text/plain": [
       "([[1, 2, 3, 4, 5, 6, 7, 8, 9, 10],\n",
       "  [4, 9, 7, 1, 6, 3, 2, 10, 5, 8],\n",
       "  [6, 10, 8, 2, 5, 3, 4, 9, 1, 7]],\n",
       " True)"
      ]
     },
     "execution_count": 118,
     "metadata": {},
     "output_type": "execute_result"
    }
   ],
   "source": [
    "sim(10)"
   ]
  },
  {
   "cell_type": "code",
   "execution_count": 125,
   "id": "9f9a65e2-51f7-4e39-b633-7a985084ad5d",
   "metadata": {},
   "outputs": [],
   "source": [
    "from scipy.special import binom"
   ]
  },
  {
   "cell_type": "code",
   "execution_count": 146,
   "id": "95490ebe-72ce-4dea-a93e-23547e81fd95",
   "metadata": {},
   "outputs": [
    {
     "data": {
      "text/plain": [
       "np.float64(1.0)"
      ]
     },
     "execution_count": 146,
     "metadata": {},
     "output_type": "execute_result"
    }
   ],
   "source": [
    "n = 10\n",
    "z = 0\n",
    "i = 1\n"
   ]
  },
  {
   "cell_type": "code",
   "execution_count": 122,
   "id": "1db71422-2abd-47fe-bbd0-e6a587237360",
   "metadata": {},
   "outputs": [],
   "source": [
    "n = 3"
   ]
  },
  {
   "cell_type": "code",
   "execution_count": 148,
   "id": "298dd20b-0857-468a-b51b-f1128521d004",
   "metadata": {},
   "outputs": [],
   "source": [
    "ps = [[0 for _ in range(n + 1)] for _ in range(n + 1)]"
   ]
  },
  {
   "cell_type": "code",
   "execution_count": 151,
   "id": "435a5e0f-a669-4a60-8c4f-bcb849fdfc10",
   "metadata": {},
   "outputs": [],
   "source": [
    "for z in range(n):\n",
    "    # iterate for i = p_z\n",
    "    for i in range(n):\n",
    "        # Chance that i satisfies left half\n",
    "        p_left = binom(n - 1 - i, z) / binom(n - 1, z)\n",
    "        # Given that it satisfies left, how many left on right?\n",
    "        left_r = n - 1 - i - z\n",
    "        if left_r < 0:\n",
    "            continue\n",
    "        ps[z][left_r] += p_left * 1 / n"
   ]
  },
  {
   "cell_type": "code",
   "execution_count": 164,
   "id": "aee7a938-ae03-4985-b1c5-b916d57bc019",
   "metadata": {},
   "outputs": [
    {
     "data": {
      "text/plain": [
       "np.float64(0.1)"
      ]
     },
     "execution_count": 164,
     "metadata": {},
     "output_type": "execute_result"
    }
   ],
   "source": [
    "ps[0][0]"
   ]
  }
 ],
 "metadata": {
  "kernelspec": {
   "display_name": "Python 3 (ipykernel)",
   "language": "python",
   "name": "python3"
  },
  "language_info": {
   "codemirror_mode": {
    "name": "ipython",
    "version": 3
   },
   "file_extension": ".py",
   "mimetype": "text/x-python",
   "name": "python",
   "nbconvert_exporter": "python",
   "pygments_lexer": "ipython3",
   "version": "3.12.6"
  }
 },
 "nbformat": 4,
 "nbformat_minor": 5
}
