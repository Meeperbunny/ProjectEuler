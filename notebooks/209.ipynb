{
 "cells": [
  {
   "cell_type": "code",
   "execution_count": 8,
   "metadata": {},
   "outputs": [],
   "source": [
    "def tti(t):\n",
    "    v = 0\n",
    "    for e in reversed(t):\n",
    "        v = v * 2 + e\n",
    "    return v"
   ]
  },
  {
   "cell_type": "code",
   "execution_count": 15,
   "metadata": {},
   "outputs": [],
   "source": [
    "from collections import Counter\n"
   ]
  },
  {
   "cell_type": "code",
   "execution_count": 22,
   "metadata": {},
   "outputs": [],
   "source": [
    "adj = [[] for _ in range(2**6)]\n",
    "def getcc():\n",
    "    ccs = []\n",
    "    C = 0\n",
    "    checked = [0] * len(adj)\n",
    "    for i in range(len(adj)):\n",
    "        if not checked[i]:\n",
    "            ccs.append([])\n",
    "            C += 1\n",
    "            ccs[-1].append(i)\n",
    "            checked[i] = True\n",
    "            Q = []\n",
    "            Q.insert(0, i)\n",
    "            while len(Q):\n",
    "                c = Q.pop()\n",
    "                for e in adj[c]:\n",
    "                    if not checked[e]:\n",
    "                        ccs[-1].append(e)\n",
    "                        checked[e] = True\n",
    "                        Q.insert(0, e)\n",
    "    return C, ccs"
   ]
  },
  {
   "cell_type": "code",
   "execution_count": 70,
   "metadata": {},
   "outputs": [],
   "source": [
    "from functools import cache\n",
    "@cache\n",
    "def fib(n):\n",
    "    if n <= 0:\n",
    "        return 0\n",
    "    if n <= 2:\n",
    "        return 1\n",
    "    return fib(n - 1) + fib(n - 2)"
   ]
  },
  {
   "cell_type": "code",
   "execution_count": 74,
   "metadata": {},
   "outputs": [],
   "source": [
    "def ways(n):\n",
    "    if n == 1:\n",
    "        return 1\n",
    "    n += 2\n",
    "    start_with_0_end_with_0 = fib(n - 2)\n",
    "    start_with_0_end_with_1 = fib(n - 3)\n",
    "    start_with_1_end_with_0 = fib(n - 3)\n",
    "    start_with_1_end_with_1 = fib(n - 4)\n",
    "    return fib(n) - fib(n - 4)\n"
   ]
  },
  {
   "cell_type": "code",
   "execution_count": 75,
   "metadata": {},
   "outputs": [
    {
     "data": {
      "text/plain": [
       "7"
      ]
     },
     "execution_count": 75,
     "metadata": {},
     "output_type": "execute_result"
    }
   ],
   "source": [
    "ways(4)"
   ]
  },
  {
   "cell_type": "code",
   "execution_count": 76,
   "metadata": {},
   "outputs": [
    {
     "ename": "SyntaxError",
     "evalue": "leading zeros in decimal integer literals are not permitted; use an 0o prefix for octal integers (3536624124.py, line 6)",
     "output_type": "error",
     "traceback": [
      "\u001b[0;36m  Cell \u001b[0;32mIn[76], line 6\u001b[0;36m\u001b[0m\n\u001b[0;31m    01\u001b[0m\n\u001b[0m     ^\u001b[0m\n\u001b[0;31mSyntaxError\u001b[0m\u001b[0;31m:\u001b[0m leading zeros in decimal integer literals are not permitted; use an 0o prefix for octal integers\n"
     ]
    }
   ],
   "source": [
    "0\n",
    "1\n",
    "\n",
    "00\n",
    "10\n",
    "01\n",
    "\n",
    "000\n",
    "001\n",
    "010\n",
    "100\n",
    "101\n",
    "\n",
    "\n",
    "0000\n",
    "0010\n",
    "0100\n",
    "0001\n",
    "0101\n",
    "1000\n",
    "1010\n",
    "\n",
    "\n"
   ]
  },
  {
   "cell_type": "code",
   "execution_count": 77,
   "metadata": {},
   "outputs": [
    {
     "name": "stdout",
     "output_type": "stream",
     "text": [
      "1 1\n",
      "6 18\n",
      "46 4106118243\n",
      "6 18\n",
      "3 4\n",
      "2 3\n"
     ]
    },
    {
     "data": {
      "text/plain": [
       "15964587728784"
      ]
     },
     "execution_count": 77,
     "metadata": {},
     "output_type": "execute_result"
    }
   ],
   "source": [
    "def count(loopSize):\n",
    "    return ways(loopSize)\n",
    "t = 1\n",
    "for e in CL:\n",
    "    print(len(e), count(len(e)))\n",
    "    t *= count(len(e))\n",
    "t"
   ]
  },
  {
   "cell_type": "code",
   "execution_count": 45,
   "metadata": {},
   "outputs": [
    {
     "name": "stdout",
     "output_type": "stream",
     "text": [
      "1 32\n",
      "2 1\n",
      "4 2\n",
      "8 4\n",
      "16 8\n",
      "32 16\n"
     ]
    }
   ],
   "source": [
    "C = Counter()\n",
    "for i in range(0, 2**6):\n",
    "    a, b, c, d, e, f = ((i>>k)&1 for k in range(6))\n",
    "    T_a = (a, b, c, d, e, f)\n",
    "    T_b = (b, c, d, e, f, a ^ (b & c))\n",
    "    T_a, T_b = tti(T_a), tti(T_b)\n",
    "    if T_a in CL[1]:\n",
    "        print(T_a, T_b)\n",
    "    adj[T_a].append(T_b)\n",
    "    adj[T_b].append(T_a)"
   ]
  },
  {
   "cell_type": "code",
   "execution_count": 44,
   "metadata": {},
   "outputs": [],
   "source": [
    "C, CL = getcc()"
   ]
  },
  {
   "cell_type": "code",
   "execution_count": 32,
   "metadata": {},
   "outputs": [
    {
     "data": {
      "text/plain": [
       "2"
      ]
     },
     "execution_count": 32,
     "metadata": {},
     "output_type": "execute_result"
    }
   ],
   "source": [
    "def set_bits(k: int):\n",
    "    return bin(k).count('1')\n",
    "set_bits(3)"
   ]
  },
  {
   "cell_type": "code",
   "execution_count": 35,
   "metadata": {},
   "outputs": [
    {
     "data": {
      "text/plain": [
       "[[0],\n",
       " [1, 32, 2, 16, 4, 8],\n",
       " [3,\n",
       "  33,\n",
       "  7,\n",
       "  48,\n",
       "  15,\n",
       "  24,\n",
       "  31,\n",
       "  12,\n",
       "  63,\n",
       "  6,\n",
       "  62,\n",
       "  35,\n",
       "  61,\n",
       "  49,\n",
       "  59,\n",
       "  56,\n",
       "  54,\n",
       "  28,\n",
       "  45,\n",
       "  14,\n",
       "  27,\n",
       "  39,\n",
       "  55,\n",
       "  19,\n",
       "  46,\n",
       "  41,\n",
       "  29,\n",
       "  52,\n",
       "  58,\n",
       "  26,\n",
       "  53,\n",
       "  13,\n",
       "  43,\n",
       "  38,\n",
       "  22,\n",
       "  51,\n",
       "  44,\n",
       "  57,\n",
       "  25,\n",
       "  60,\n",
       "  50,\n",
       "  30,\n",
       "  37,\n",
       "  47,\n",
       "  11,\n",
       "  23],\n",
       " [5, 34, 10, 17, 20, 40],\n",
       " [9, 36, 18],\n",
       " [21, 42]]"
      ]
     },
     "execution_count": 35,
     "metadata": {},
     "output_type": "execute_result"
    }
   ],
   "source": [
    "CL"
   ]
  },
  {
   "cell_type": "code",
   "execution_count": 34,
   "metadata": {},
   "outputs": [
    {
     "name": "stdout",
     "output_type": "stream",
     "text": [
      "1 {0}\n",
      "6 {1}\n",
      "46 {2, 3, 4, 5, 6}\n",
      "6 {2}\n",
      "3 {2}\n",
      "2 {3}\n"
     ]
    }
   ],
   "source": [
    "for e in CL:\n",
    "    print(len(e), set(set_bits(k) for k in e))"
   ]
  }
 ],
 "metadata": {
  "kernelspec": {
   "display_name": "Python 3",
   "language": "python",
   "name": "python3"
  },
  "language_info": {
   "codemirror_mode": {
    "name": "ipython",
    "version": 3
   },
   "file_extension": ".py",
   "mimetype": "text/x-python",
   "name": "python",
   "nbconvert_exporter": "python",
   "pygments_lexer": "ipython3",
   "version": "3.9.6"
  }
 },
 "nbformat": 4,
 "nbformat_minor": 2
}
