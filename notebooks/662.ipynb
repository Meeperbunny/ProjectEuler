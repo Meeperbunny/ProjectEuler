{
 "cells": [
  {
   "cell_type": "code",
   "execution_count": 31,
   "id": "07e2a4ae-fd72-455c-a23a-23d49641ed66",
   "metadata": {},
   "outputs": [],
   "source": [
    "maxn = 10\n",
    "m = int(1e9+7)"
   ]
  },
  {
   "cell_type": "code",
   "execution_count": 32,
   "id": "c4c76626-b7be-4647-bd64-a92ace1b87ad",
   "metadata": {},
   "outputs": [
    {
     "data": {
      "text/plain": [
       "[1, 1, 2, 3, 5, 8, 13, 21]"
      ]
     },
     "execution_count": 32,
     "metadata": {},
     "output_type": "execute_result"
    }
   ],
   "source": [
    "fibs = [1, 1]\n",
    "while fibs[-1] < maxn * 2:\n",
    "    fibs.append(fibs[-1] + fibs[-2])\n",
    "fibs"
   ]
  },
  {
   "cell_type": "code",
   "execution_count": 33,
   "id": "6bd176d7-384e-4d5e-82c5-defa02d6f38d",
   "metadata": {},
   "outputs": [],
   "source": [
    "fibsSq = set([e * e for e in fibs])"
   ]
  },
  {
   "cell_type": "code",
   "execution_count": 37,
   "id": "cc9313fa-e363-460f-a979-2ad985129b0f",
   "metadata": {},
   "outputs": [
    {
     "name": "stdout",
     "output_type": "stream",
     "text": [
      "0\n",
      "1\n",
      "2\n",
      "3\n",
      "4\n",
      "5\n",
      "6\n",
      "7\n",
      "8\n",
      "9\n",
      "10\n"
     ]
    }
   ],
   "source": [
    "paths = []\n",
    "\n",
    "for i in range(0, maxn + 1):\n",
    "    if i % (maxn // 10) == 0:\n",
    "        print(i)\n",
    "    for q in range(0, maxn + 1):\n",
    "        if i * i + q * q in fibsSq:\n",
    "            paths.append((i, q))"
   ]
  },
  {
   "cell_type": "code",
   "execution_count": 38,
   "id": "d60ac4ab-1baf-430b-a611-aa47ebaccae7",
   "metadata": {},
   "outputs": [
    {
     "data": {
      "text/plain": [
       "[(0, 1),\n",
       " (0, 2),\n",
       " (0, 3),\n",
       " (0, 5),\n",
       " (0, 8),\n",
       " (1, 0),\n",
       " (2, 0),\n",
       " (3, 0),\n",
       " (3, 4),\n",
       " (4, 3),\n",
       " (5, 0),\n",
       " (8, 0)]"
      ]
     },
     "execution_count": 38,
     "metadata": {},
     "output_type": "execute_result"
    }
   ],
   "source": [
    "paths"
   ]
  },
  {
   "cell_type": "code",
   "execution_count": 39,
   "id": "b62c70d2-f03f-42e2-af64-30d01be633e6",
   "metadata": {},
   "outputs": [
    {
     "data": {
      "text/plain": [
       "12"
      ]
     },
     "execution_count": 39,
     "metadata": {},
     "output_type": "execute_result"
    }
   ],
   "source": [
    "len(paths)"
   ]
  },
  {
   "cell_type": "code",
   "execution_count": 30,
   "id": "24baf591-0f87-423e-a301-ae1397cf64e7",
   "metadata": {
    "scrolled": true
   },
   "outputs": [
    {
     "data": {
      "text/plain": [
       "0"
      ]
     },
     "execution_count": 30,
     "metadata": {},
     "output_type": "execute_result"
    }
   ],
   "source": [
    "cnts = [[0 for _ in range(maxn + 1)] for _ in range(maxn + 1)]\n",
    "cnts[0][0] = 1\n",
    "for i in range(0, maxn + 1):\n",
    "    for q in range(0, maxn + 1):\n",
    "        for p in paths:\n",
    "            if i + p[0] <= maxn and q + p[1] <= maxn:\n",
    "                cnts[i + p[0]][q + p[1]] = (cnts[i + p[0]][q + p[1]] + cnts[i][q]) % m\n",
    "cnts[maxn][maxn]"
   ]
  },
  {
   "cell_type": "code",
   "execution_count": null,
   "id": "070f4907-2bc5-43b6-9d26-6c5ec1c32ba2",
   "metadata": {},
   "outputs": [],
   "source": []
  },
  {
   "cell_type": "code",
   "execution_count": null,
   "id": "80962123-e2f0-47c5-90fd-14dd62d500ca",
   "metadata": {},
   "outputs": [],
   "source": []
  },
  {
   "cell_type": "code",
   "execution_count": null,
   "id": "c1b4d6e5-9e5f-40cd-9188-2deb921dae4d",
   "metadata": {},
   "outputs": [],
   "source": []
  },
  {
   "cell_type": "code",
   "execution_count": null,
   "id": "cb317670-903c-428b-a4f2-54245fcd255b",
   "metadata": {},
   "outputs": [],
   "source": []
  },
  {
   "cell_type": "code",
   "execution_count": null,
   "id": "02949d93-db7e-4ece-a714-e4a40b0800ef",
   "metadata": {},
   "outputs": [],
   "source": [
    "maxn = 10\n",
    "m = int(1e9+7)\n",
    "\n",
    "fibs = [1, 1]\n",
    "while fibs[-1] < maxn * 2:\n",
    "    fibs.append(fibs[-1] + fibs[-2])\n",
    "fibs\n",
    "\n",
    "fibsSq = set([e * e for e in fibs])\n",
    "\n",
    "paths = []\n",
    "\n",
    "for i in range(0, maxn + 1):\n",
    "    if i % (maxn // 10) == 0:\n",
    "        print(i)\n",
    "    for q in range(0, maxn + 1):\n",
    "        if i * i + q * q in fibsSq:\n",
    "            paths.append((i, q))\n",
    "\n",
    "paths\n",
    "\n",
    "len(paths)\n",
    "\n",
    "cnts = [[0 for _ in range(maxn + 1)] for _ in range(maxn + 1)]\n",
    "cnts[0][0] = 1\n",
    "for i in range(0, maxn + 1):\n",
    "    for q in range(0, maxn + 1):\n",
    "        for p in paths:\n",
    "            if i + p[0] <= maxn and q + p[1] <= maxn:\n",
    "                cnts[i + p[0]][q + p[1]] = (cnts[i + p[0]][q + p[1]] + cnts[i][q]) % m\n",
    "cnts[maxn][maxn]"
   ]
  }
 ],
 "metadata": {
  "kernelspec": {
   "display_name": "Python 3 (ipykernel)",
   "language": "python",
   "name": "python3"
  },
  "language_info": {
   "codemirror_mode": {
    "name": "ipython",
    "version": 3
   },
   "file_extension": ".py",
   "mimetype": "text/x-python",
   "name": "python",
   "nbconvert_exporter": "python",
   "pygments_lexer": "ipython3",
   "version": "3.12.4"
  }
 },
 "nbformat": 4,
 "nbformat_minor": 5
}
