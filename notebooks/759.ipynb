{
 "cells": [
  {
   "cell_type": "code",
   "execution_count": 23,
   "metadata": {},
   "outputs": [
    {
     "name": "stdout",
     "output_type": "stream",
     "text": [
      "1000 36\n",
      "1001 49\n",
      "1002 49\n",
      "1003 64\n",
      "1004 49\n",
      "1005 64\n",
      "1006 64\n",
      "1007 81\n",
      "1008 36\n",
      "1009 49\n",
      "1010 49\n",
      "1011 64\n",
      "1012 49\n",
      "1013 64\n",
      "1014 64\n",
      "1015 81\n",
      "1016 49\n",
      "1017 64\n",
      "1018 64\n",
      "1019 81\n",
      "1020 64\n",
      "1021 81\n",
      "1022 81\n",
      "1023 100\n",
      "1024 1\n"
     ]
    }
   ],
   "source": [
    "# N = 100\n",
    "# f = [0] * N\n",
    "# for i in range(1, N):\n",
    "#     if i == 1:\n",
    "#         f[i] = 1\n",
    "#     elif i % 2 == 0:\n",
    "#         f[i] = 2 * f[i // 2]\n",
    "#     else:\n",
    "#         n = i // 2\n",
    "#         f[i] = 2 * n + 1 + 2 * f[n] + f[n] // n\n",
    "# print(\" \".join((str(e) for e in f)))\n",
    "for i in range(1000, 1025):\n",
    "        print(i, sum([e == '1' for e in bin(i)])**2)"
   ]
  },
  {
   "cell_type": "code",
   "execution_count": null,
   "metadata": {},
   "outputs": [],
   "source": [
    "for i in"
   ]
  },
  {
   "cell_type": "code",
   "execution_count": 22,
   "metadata": {},
   "outputs": [
    {
     "data": {
      "text/plain": [
       "(3232334, 3232334)"
      ]
     },
     "execution_count": 22,
     "metadata": {},
     "output_type": "execute_result"
    }
   ],
   "source": [
    "l = [1020, 1021, 1022]\n",
    "s = sum([e * e for e in l])\n",
    "c = len(l)\n",
    "f = 81 - 64\n",
    "ts = sum([(e+f)**2 for e in l])\n",
    "s + sum(l) * f * 2 + c * f * f, ts"
   ]
  },
  {
   "cell_type": "code",
   "execution_count": null,
   "metadata": {},
   "outputs": [],
   "source": [
    "def solve(l, r):\n",
    "    # Solves [l, r)\n",
    "    # Defined by tot, solve(l, r // 2), psq\n",
    "    \n",
    "    pass"
   ]
  },
  {
   "cell_type": "code",
   "execution_count": 60,
   "metadata": {},
   "outputs": [
    {
     "data": {
      "text/plain": [
       "157"
      ]
     },
     "execution_count": 60,
     "metadata": {},
     "output_type": "execute_result"
    }
   ],
   "source": [
    "sum([i**2 * sum([e == '1' for e in bin(i)])**2 for i in range(0, 5 + 1)])"
   ]
  },
  {
   "cell_type": "code",
   "execution_count": null,
   "metadata": {},
   "outputs": [],
   "source": [
    "from functools import cache\n",
    "@cache\n",
    "def S(P, R):\n",
    "    # L is a power of 2\n",
    "    if P == 0:\n",
    "        L = [(0, 0, int(i == 0)) for i in range(64)].copy()\n",
    "        return L\n",
    "    # assert(P * 2 > R)\n",
    "    T = [(0, 0, 0) for _ in range(64)].copy()\n",
    "    if R > P:\n",
    "        # Upper, everything on upper will have an extra set bit (+1 to all powers)\n",
    "        U = S(P, R - P).copy()\n",
    "        # TRASNSFORMS: Add P to nums (i^2 * b[i]^2) -> ((i + P)^2 * b[i]^2)\n",
    "        # C is cnt of elements\n",
    "        # L is the linear sum of P\n",
    "        # (S, L, C) for some i in b[i]\n",
    "        # 2:\n",
    "        # ()\n",
    "        # 1 + \n",
    "        # [(0, 0, 1), (1, 1, 1), (0, 0, 0) (2, 3)\n",
    "        # [(0, 0, 1), (4, 2, 1), (9, 3, 1)\n",
    "        # [(0, 0, 1), (5, 3, 2), (7, 3, 1)\n",
    "\n",
    "        for i in range(64):\n",
    "            U[i] = (\n",
    "                U[i][0] + 2 * P * U[i][1] + P * P * U[i][2],\n",
    "                U[i][1] + P * U[i][2],\n",
    "                U[i][2],\n",
    "            )\n",
    "        for i in range(63, 0, -1):\n",
    "            U[i] = U[i - 1]\n",
    "        U[0] = (0, 0, 0)\n",
    "        # S := S + 2 * P * L + P^2 * C\n",
    "        # L := L + P * C\n",
    "        # C := C\n",
    "        # TRANSFORMS: Add 1 to all b[i] ((i + P)^2 * b[i]^2) -> ((i + P)^2 * (b[i] + 1)^2)\n",
    "        # Shift right: b[i] := b[i - 1] for all i >= 1\n",
    "        \n",
    "        # Add with lower\n",
    "        for i in range(64):\n",
    "            T[i] = (T[i][0] + U[i][0], T[i][1] + U[i][1], T[i][2] + U[i][2])\n",
    "        # Lower\n",
    "        L = S(P, P).copy()\n",
    "        # Add with lower\n",
    "        for i in range(64):\n",
    "            T[i] = (T[i][0] + L[i][0], T[i][1] + L[i][1], T[i][2] + L[i][2])\n",
    "    else:\n",
    "        L = S(P // 2, R).copy()\n",
    "        for i in range(64):\n",
    "            T[i] = (T[i][0] + L[i][0], T[i][1] + L[i][1], T[i][2] + L[i][2])\n",
    "    # print(P, R)\n",
    "    # print(T[0:5])\n",
    "\n",
    "    return T\n",
    "        "
   ]
  },
  {
   "cell_type": "code",
   "execution_count": 83,
   "metadata": {},
   "outputs": [],
   "source": [
    "from math import log2"
   ]
  },
  {
   "cell_type": "code",
   "execution_count": 87,
   "metadata": {},
   "outputs": [],
   "source": [
    "from functools import cache\n",
    "@cache\n",
    "def S(P, R):\n",
    "    if P == 0:\n",
    "        L = [(0, 0, int(i == 0)) for i in range(64)].copy()\n",
    "        return L\n",
    "    T = [(0, 0, 0) for _ in range(64)].copy()\n",
    "    if R > P:\n",
    "        U = S(P, R - P).copy()\n",
    "        for i in range(64):\n",
    "            U[i] = (\n",
    "                U[i][0] + 2 * P * U[i][1] + P * P * U[i][2],\n",
    "                U[i][1] + P * U[i][2],\n",
    "                U[i][2],\n",
    "            )\n",
    "        for i in range(63, 0, -1):\n",
    "            U[i] = U[i - 1]\n",
    "        U[0] = (0, 0, 0)\n",
    "        for i in range(64):\n",
    "            T[i] = (T[i][0] + U[i][0], T[i][1] + U[i][1], T[i][2] + U[i][2])\n",
    "        L = S(P, P).copy()\n",
    "        for i in range(64):\n",
    "            T[i] = (T[i][0] + L[i][0], T[i][1] + L[i][1], T[i][2] + L[i][2])\n",
    "    else:\n",
    "        L = S(P // 2, R).copy()\n",
    "        for i in range(64):\n",
    "            T[i] = (T[i][0] + L[i][0], T[i][1] + L[i][1], T[i][2] + L[i][2])\n",
    "    return T"
   ]
  },
  {
   "cell_type": "code",
   "execution_count": 94,
   "metadata": {},
   "outputs": [
    {
     "data": {
      "text/plain": [
       "282771304"
      ]
     },
     "execution_count": 94,
     "metadata": {},
     "output_type": "execute_result"
    }
   ],
   "source": [
    "N = 10**16\n",
    "R = S(1 << int(log2(N)), N + 1)\n",
    "T = 0\n",
    "for i in range(1, 64):\n",
    "    T += R[i][0] * (i * i)\n",
    "T % int(1e9+7)"
   ]
  },
  {
   "cell_type": "code",
   "execution_count": 265,
   "metadata": {},
   "outputs": [
    {
     "name": "stdout",
     "output_type": "stream",
     "text": [
      "250000\n",
      "250250\n",
      "250750\n",
      "248752\n",
      "249736\n",
      "246804\n",
      "254996\n",
      "271380\n",
      "304148\n",
      "369684\n"
     ]
    },
    {
     "data": {
      "text/plain": [
       "2696500"
      ]
     },
     "execution_count": 265,
     "metadata": {},
     "output_type": "execute_result"
    }
   ],
   "source": [
    "def ans(N):\n",
    "    K = 1\n",
    "    T = 0\n",
    "    while K <= N:\n",
    "        TS = 0\n",
    "        c = 0\n",
    "        for i in range(1, N + 1):\n",
    "            c += 1\n",
    "            if c % (2 * K) >= K:\n",
    "                TS += i\n",
    "                T += i\n",
    "        print(TS)\n",
    "        K *= 2\n",
    "    return T\n",
    "ans(1000)"
   ]
  },
  {
   "cell_type": "code",
   "execution_count": 184,
   "metadata": {},
   "outputs": [],
   "source": [
    "def tri(n):\n",
    "    return n * (n + 1) // 2"
   ]
  },
  {
   "cell_type": "code",
   "execution_count": 261,
   "metadata": {},
   "outputs": [
    {
     "name": "stdout",
     "output_type": "stream",
     "text": [
      "0\n"
     ]
    }
   ],
   "source": [
    "def S(K, N):\n",
    "    # Starts on K\n",
    "    # Goes K long\n",
    "    # Repeats until N\n",
    "    bsum = tri(K) + K * (K - 1)\n",
    "    times = (N + 2 * K) // (2 * K)\n",
    "    transform = tri(times - 1) * (2 * K) * K\n",
    "    # Find the over\n",
    "    over = (times) * 2 * K\n",
    "    under = (times) * 2 * K - K\n",
    "    # print(\"OVER\", (times) * 2 * K, N)\n",
    "    # print(\"UNDER\", under, N)\n",
    "    c = 0\n",
    "    # print(times, transform, bsum)\n",
    "    # print(\"ORIG\", transform + bsum * times)\n",
    "    N = N if N >= under else under - 1\n",
    "    # Get rid of stuff\n",
    "    over = over - N - 1\n",
    "    # print(\"OVER\", over)\n",
    "    els = over\n",
    "    base = (K + (times - 1) * (2 * K) + (N - under + 1)) * els\n",
    "    c += base\n",
    "    # print(\"CC\", c)\n",
    "    c += tri(over - 1)        \n",
    "    return transform + bsum * times - c\n",
    "# print(S(4, 21), 96)\n",
    "# print(S(2, 20), 105)\n",
    "# print(S(16, 445), 96)\n",
    "print(S(4, 2))\n"
   ]
  },
  {
   "cell_type": "code",
   "execution_count": 188,
   "metadata": {},
   "outputs": [],
   "source": [
    "# 1 + 2 + 3 + 4 ...\n",
    "# 1 + 3 + 5 + 7 ...\n",
    "# How to calc:\n",
    "# 1 + 2 + 3 + 4 + [_ + _ + _ + _] len is power of 2\n",
    "# S(L, R) = 2 * S(L, L//2) + L//2 * Len? \n"
   ]
  }
 ],
 "metadata": {
  "kernelspec": {
   "display_name": "Python 3",
   "language": "python",
   "name": "python3"
  },
  "language_info": {
   "codemirror_mode": {
    "name": "ipython",
    "version": 3
   },
   "file_extension": ".py",
   "mimetype": "text/x-python",
   "name": "python",
   "nbconvert_exporter": "python",
   "pygments_lexer": "ipython3",
   "version": "3.12.4"
  }
 },
 "nbformat": 4,
 "nbformat_minor": 2
}
