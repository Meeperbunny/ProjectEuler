{
 "cells": [
  {
   "cell_type": "code",
   "execution_count": 26,
   "metadata": {},
   "outputs": [
    {
     "name": "stdout",
     "output_type": "stream",
     "text": [
      "##\n",
      ".#\n"
     ]
    },
    {
     "data": {
      "text/plain": [
       "9"
      ]
     },
     "execution_count": 26,
     "metadata": {},
     "output_type": "execute_result"
    }
   ],
   "source": [
    "def f(x, y, N):\n",
    "    return (x - 2**(N - 1))**2 + (y - 2**(N - 1))**2 <= 2**(2 * N - 2)\n",
    "N = 1\n",
    "n = 2**N\n",
    "for y in range(n - 1, -1, -1):\n",
    "    for x in range(n):\n",
    "        print(\"#\" if f(x, y, N) else \".\", end=\"\")\n",
    "    print()\n",
    "def describe(x1, y1, x2, y2, z):\n",
    "    # If four coner are same\n",
    "    # print(x1, y1, x2, y2, set(\n",
    "    #     f(x, y, N) for (x, y) in [\n",
    "    #         (x1, y1), (x2 - 1, y1), (x1, y2 - 1), (x2 - 1, y2 - 1)\n",
    "    #     ]\n",
    "    # ))\n",
    "    if not z and len(set(\n",
    "        f(x, y, N) for (x, y) in [\n",
    "            (x1, y1), (x2 - 1, y1), (x1, y2 - 1), (x2 - 1, y2 - 1)\n",
    "        ]\n",
    "    )) == 1:\n",
    "        return 2\n",
    "    else:\n",
    "        mx = (x2 - x1) // 2 + x1\n",
    "        my = (y2 - y1) // 2 + y1\n",
    "        return 1 + describe(x1, y1, mx, my, False) + \\\n",
    "                    + describe(x1, my, mx, y2, False) + \\\n",
    "                    + describe(mx, my, x2, y2, False) + \\\n",
    "                    + describe(mx, y1, x2, my, False)\n",
    "describe(0, 0, 2**N, 2**N, True)"
   ]
  },
  {
   "cell_type": "code",
   "execution_count": null,
   "metadata": {},
   "outputs": [],
   "source": []
  }
 ],
 "metadata": {
  "kernelspec": {
   "display_name": "Python 3",
   "language": "python",
   "name": "python3"
  },
  "language_info": {
   "codemirror_mode": {
    "name": "ipython",
    "version": 3
   },
   "file_extension": ".py",
   "mimetype": "text/x-python",
   "name": "python",
   "nbconvert_exporter": "python",
   "pygments_lexer": "ipython3",
   "version": "3.9.6"
  }
 },
 "nbformat": 4,
 "nbformat_minor": 2
}
