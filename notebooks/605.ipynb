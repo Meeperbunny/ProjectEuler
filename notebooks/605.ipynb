{
 "cells": [
  {
   "cell_type": "code",
   "execution_count": 47,
   "metadata": {},
   "outputs": [
    {
     "name": "stdout",
     "output_type": "stream",
     "text": [
      "0.15789473684210525\n",
      "0 0.3684210526315789 0.25 0.3684210526315789\n",
      "1 0.6608187134502923 0.3333333333333333 0.29239766081871343\n",
      "2 0.8557504873294346 0.3333333333333333 0.1949317738791423\n"
     ]
    }
   ],
   "source": [
    "def solve(n, k):\n",
    "    chance_2_wins = 1/4\n",
    "    chance_others_win = 2/6\n",
    "    p_comes_back = (2/6) / (3 * (1-(4/6)**n))\n",
    "    print(p_comes_back)\n",
    "    p_gets_to_go, p_win_on_first = None, None\n",
    "    t = 0\n",
    "    for i in range(n):\n",
    "        if i == 0:\n",
    "            p_win_on_first = 1/4\n",
    "            p_gets_to_go = 1\n",
    "        else:\n",
    "            p_gets_to_go *= 2/3\n",
    "            p_win_on_first = 1/3\n",
    "        p_lose_on_first = 1 - p_win_on_first\n",
    "        p_wins = p_gets_to_go * (p_win_on_first * 1 + p_lose_on_first * p_comes_back)\n",
    "        t += p_wins\n",
    "        print(i, t, p_win_on_first, p_wins)\n",
    "\n",
    "solve(3, 1)\n"
   ]
  },
  {
   "cell_type": "code",
   "execution_count": 42,
   "metadata": {},
   "outputs": [
    {
     "data": {
      "text/plain": [
       "0.24489795918367346"
      ]
     },
     "execution_count": 42,
     "metadata": {},
     "output_type": "execute_result"
    }
   ],
   "source": [
    "12/49"
   ]
  }
 ],
 "metadata": {
  "kernelspec": {
   "display_name": "Python 3",
   "language": "python",
   "name": "python3"
  },
  "language_info": {
   "codemirror_mode": {
    "name": "ipython",
    "version": 3
   },
   "file_extension": ".py",
   "mimetype": "text/x-python",
   "name": "python",
   "nbconvert_exporter": "python",
   "pygments_lexer": "ipython3",
   "version": "3.12.4"
  }
 },
 "nbformat": 4,
 "nbformat_minor": 2
}
