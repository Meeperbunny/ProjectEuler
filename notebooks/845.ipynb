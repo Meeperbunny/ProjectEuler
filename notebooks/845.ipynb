{
 "cells": [
  {
   "cell_type": "code",
   "execution_count": 14,
   "id": "dd74a3e9-4aab-4874-b28d-06ab7a176301",
   "metadata": {},
   "outputs": [],
   "source": [
    "from collections import Counter"
   ]
  },
  {
   "cell_type": "code",
   "execution_count": 15,
   "id": "26c6a36a-d4b7-44d1-be12-3daa3f1c6118",
   "metadata": {},
   "outputs": [],
   "source": [
    "def sieve(n):\n",
    "    s = [1 for _ in range(n + 1)]\n",
    "    primes = []\n",
    "    for q in range(2, n + 1):\n",
    "        if s[q]:\n",
    "            primes.append(q)\n",
    "            for i in range(2 * q, n + 1, q):\n",
    "                s[i] = 0\n",
    "    return primes"
   ]
  },
  {
   "cell_type": "code",
   "execution_count": 16,
   "id": "5597fb34-99d7-4d29-986f-5f57378a9355",
   "metadata": {},
   "outputs": [],
   "source": [
    "pset = set(sieve(500))"
   ]
  },
  {
   "cell_type": "code",
   "execution_count": 17,
   "id": "52fb8b6d-6990-43a6-aafc-1f643e52c481",
   "metadata": {},
   "outputs": [
    {
     "data": {
      "text/plain": [
       "861"
      ]
     },
     "execution_count": 17,
     "metadata": {},
     "output_type": "execute_result"
    }
   ],
   "source": [
    "861"
   ]
  },
  {
   "cell_type": "code",
   "execution_count": 90,
   "id": "c010020f-bc80-4fb5-8cf8-76bd42a06737",
   "metadata": {
    "scrolled": true
   },
   "outputs": [
    {
     "ename": "KeyboardInterrupt",
     "evalue": "",
     "output_type": "error",
     "traceback": [
      "\u001b[1;31m---------------------------------------------------------------------------\u001b[0m",
      "\u001b[1;31mKeyboardInterrupt\u001b[0m                         Traceback (most recent call last)",
      "Cell \u001b[1;32mIn[90], line 29\u001b[0m\n\u001b[0;32m     27\u001b[0m \u001b[38;5;28;01mwhile\u001b[39;00m \u001b[38;5;28;01mTrue\u001b[39;00m:\n\u001b[0;32m     28\u001b[0m     nn \u001b[38;5;241m=\u001b[39m k \u001b[38;5;241m+\u001b[39m j\n\u001b[1;32m---> 29\u001b[0m     \u001b[38;5;28;01mif\u001b[39;00m \u001b[43mcnt\u001b[49m\u001b[43m(\u001b[49m\u001b[43mnn\u001b[49m\u001b[43m,\u001b[49m\u001b[43m \u001b[49m\u001b[43mtarget\u001b[49m\u001b[43m)\u001b[49m:\n\u001b[0;32m     30\u001b[0m         k \u001b[38;5;241m+\u001b[39m\u001b[38;5;241m=\u001b[39m j\n\u001b[0;32m     31\u001b[0m     \u001b[38;5;28;01melse\u001b[39;00m:\n",
      "Cell \u001b[1;32mIn[90], line 9\u001b[0m, in \u001b[0;36mcnt\u001b[1;34m(n, target)\u001b[0m\n\u001b[0;32m      7\u001b[0m         \u001b[38;5;28;01mfor\u001b[39;00m j \u001b[38;5;129;01min\u001b[39;00m \u001b[38;5;28mrange\u001b[39m(\u001b[38;5;241m10\u001b[39m):\n\u001b[0;32m      8\u001b[0m             \u001b[38;5;28;01mfor\u001b[39;00m e \u001b[38;5;129;01min\u001b[39;00m cnts[i][q]:\n\u001b[1;32m----> 9\u001b[0m                 cnts[i \u001b[38;5;241m+\u001b[39m \u001b[38;5;241m1\u001b[39m][j][e \u001b[38;5;241m+\u001b[39m j] \u001b[38;5;241m+\u001b[39m\u001b[38;5;241m=\u001b[39m cnts[i][q][e]\n\u001b[0;32m     10\u001b[0m tc \u001b[38;5;241m=\u001b[39m Counter()\n\u001b[0;32m     11\u001b[0m base \u001b[38;5;241m=\u001b[39m \u001b[38;5;241m0\u001b[39m\n",
      "\u001b[1;31mKeyboardInterrupt\u001b[0m: "
     ]
    }
   ],
   "source": [
    "def cnt(n, target):\n",
    "    digits = len(str(n))\n",
    "    cnts = [[Counter() for _ in range(10)] for _ in range(digits + 1)]\n",
    "    cnts[0][0][0] = 1\n",
    "    for i in range(digits):\n",
    "        for q in range(10):\n",
    "            for j in range(10):\n",
    "                for e in cnts[i][q]:\n",
    "                    cnts[i + 1][j][e + j] += cnts[i][q][e]\n",
    "    tc = Counter()\n",
    "    base = 0\n",
    "    for ind, i in enumerate(str(n)):\n",
    "        v = int(i)\n",
    "        for q in range(int(i == 0), v):\n",
    "            for e in cnts[digits - ind][q]:\n",
    "                tc[e + base] += cnts[digits - ind][q][e]\n",
    "        base += v\n",
    "    tot = int(sum([int(c) for c in str(n)]) in pset)\n",
    "    for e in tc:\n",
    "        if e in pset:\n",
    "            tot += tc[e]\n",
    "    return tot < target\n",
    "k = -1\n",
    "target = 10**150\n",
    "j = 10**330\n",
    "while j:\n",
    "    while True:\n",
    "        nn = k + j\n",
    "        if cnt(nn, target):\n",
    "            k += j\n",
    "        else:\n",
    "            break\n",
    "    j >>= 1\n",
    "print(k + 1)"
   ]
  },
  {
   "cell_type": "code",
   "execution_count": null,
   "id": "c529e2d5-263b-4bef-a3f4-779093c029e2",
   "metadata": {},
   "outputs": [],
   "source": []
  }
 ],
 "metadata": {
  "kernelspec": {
   "display_name": "Python 3 (ipykernel)",
   "language": "python",
   "name": "python3"
  },
  "language_info": {
   "codemirror_mode": {
    "name": "ipython",
    "version": 3
   },
   "file_extension": ".py",
   "mimetype": "text/x-python",
   "name": "python",
   "nbconvert_exporter": "python",
   "pygments_lexer": "ipython3",
   "version": "3.12.4"
  }
 },
 "nbformat": 4,
 "nbformat_minor": 5
}
