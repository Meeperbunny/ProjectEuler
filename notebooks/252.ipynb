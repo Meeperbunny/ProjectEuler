{
 "cells": [
  {
   "cell_type": "code",
   "execution_count": 101,
   "metadata": {},
   "outputs": [
    {
     "data": {
      "text/plain": [
       "(20, [(527, 144), (-488, 732), (-454, -947)])"
      ]
     },
     "execution_count": 101,
     "metadata": {},
     "output_type": "execute_result"
    }
   ],
   "source": [
    "n, m = 20, 50515093\n",
    "s = 290797\n",
    "t = []\n",
    "for i in range(2 * n):\n",
    "    s = s * s % m\n",
    "    t.append(s % 2000 - 1000)\n",
    "pnts = []\n",
    "for i in range(n):\n",
    "    pnts.append((t[2 * i], t[2 * i + 1]))\n",
    "# make sure no dups\n",
    "assert(len(set(pnts)) == len(pnts))\n",
    "len(pnts), pnts[0:3]"
   ]
  },
  {
   "cell_type": "code",
   "execution_count": 102,
   "metadata": {},
   "outputs": [],
   "source": [
    "from math import atan2, pi"
   ]
  },
  {
   "cell_type": "code",
   "execution_count": 103,
   "metadata": {},
   "outputs": [],
   "source": [
    "def dist(p1, p2):\n",
    "    d = ((p1[0] - p2[0])**2 + (p1[1] - p2[1])**2)\n",
    "    if d <= 0:\n",
    "        return 0\n",
    "    return d**0.5"
   ]
  },
  {
   "cell_type": "code",
   "execution_count": 104,
   "metadata": {},
   "outputs": [],
   "source": [
    "def get_polar_angle(p, p_o):\n",
    "    d = p_o[1] - p[1], p_o[0] - p[0]\n",
    "    return atan2(d[1], d[0])"
   ]
  },
  {
   "cell_type": "code",
   "execution_count": 105,
   "metadata": {},
   "outputs": [],
   "source": [
    "def semiperimeter(a, b, c):\n",
    "    return (a + b + c) / 2\n",
    "def area(a, b, c):\n",
    "    s = semiperimeter(a, b, c)\n",
    "    if (s * (s - a) * (s - b) * (s - c)) <= 0:\n",
    "        return 0\n",
    "    return (s * (s - a) * (s - b) * (s - c))**0.5"
   ]
  },
  {
   "cell_type": "code",
   "execution_count": 106,
   "metadata": {},
   "outputs": [
    {
     "data": {
      "text/plain": [
       "-2.356194490192345"
      ]
     },
     "execution_count": 106,
     "metadata": {},
     "output_type": "execute_result"
    }
   ],
   "source": [
    "get_polar_angle((0, 0), (-1, -1))"
   ]
  },
  {
   "cell_type": "code",
   "execution_count": 107,
   "metadata": {},
   "outputs": [],
   "source": [
    "from tqdm.notebook import trange"
   ]
  },
  {
   "cell_type": "code",
   "execution_count": 108,
   "metadata": {},
   "outputs": [
    {
     "data": {
      "application/vnd.jupyter.widget-view+json": {
       "model_id": "bfd8a637695047118a5c8cb0f56c8a7a",
       "version_major": 2,
       "version_minor": 0
      },
      "text/plain": [
       "  0%|          | 0/20 [00:00<?, ?it/s]"
      ]
     },
     "metadata": {},
     "output_type": "display_data"
    },
    {
     "data": {
      "text/plain": [
       "1049694.500000003"
      ]
     },
     "execution_count": 108,
     "metadata": {},
     "output_type": "execute_result"
    }
   ],
   "source": [
    "M_A = 0\n",
    "for i in trange(n):\n",
    "    other_points = (pnts[0:i] + pnts[i + 1:]).copy()\n",
    "    p_i = pnts[i]\n",
    "    sort_angle = lambda x: get_polar_angle(p_i, x)\n",
    "    other_points.sort(key=sort_angle)\n",
    "    for q in range(len(other_points)):\n",
    "        # Take p_o as the furthest point, then sweep left and right and add if distance is less than the current max.\n",
    "        # Add this to total area.\n",
    "        A = 0\n",
    "        p_q = other_points[q]\n",
    "        last_index = q\n",
    "        p_last = other_points[q]\n",
    "        last_dist = dist(p_q, p_i)\n",
    "        c_angle = get_polar_angle(p_i, p_q)\n",
    "        # print(p_i, p_q)\n",
    "        for j in range(1, len(other_points)):\n",
    "            j = (q + j) % len(other_points)\n",
    "            p_j = other_points[j]\n",
    "            j_angle = get_polar_angle(p_i, p_j)\n",
    "            if (j_angle - c_angle) % (2 * pi) > pi / 2:\n",
    "                break\n",
    "            # Get dist, if smaller then use it.\n",
    "            j_dist = dist(p_i, p_j)\n",
    "            if j_dist < last_dist:\n",
    "                isgood = False\n",
    "                if last_index == q:\n",
    "                    isgood = True\n",
    "                else:\n",
    "                    if (get_polar_angle(p_last, p_j) - last_angle) % (2 * pi) < pi:\n",
    "                        isgood = True\n",
    "                # print(p_last, p_j)\n",
    "                if isgood:\n",
    "                    # print(\"\\t\", p_j)\n",
    "                    A += area(\n",
    "                        dist(p_i, p_j),\n",
    "                        dist(p_i, p_last),\n",
    "                        dist(p_last, p_j)\n",
    "                    )\n",
    "                    last_angle = get_polar_angle(p_last, other_points[j])\n",
    "                    last_dist = j_dist\n",
    "                    last_index = j\n",
    "                    p_last = other_points[j]\n",
    "\n",
    "        p_q = other_points[q]\n",
    "        last_index = q\n",
    "        p_last = other_points[q]\n",
    "        last_dist = dist(p_q, p_i)\n",
    "        c_angle = get_polar_angle(p_i, p_q)\n",
    "        # print(p_i, p_q)\n",
    "        for j in range(1, len(other_points)):\n",
    "            j = (q - j) % len(other_points)\n",
    "            p_j = other_points[j]\n",
    "            j_angle = get_polar_angle(p_i, p_j)\n",
    "            if (c_angle - j_angle) % (2 * pi) > pi / 2:\n",
    "                break\n",
    "            # Get dist, if smaller then use it.\n",
    "            j_dist = dist(p_i, p_j)\n",
    "            if j_dist < last_dist:\n",
    "                isgood = False\n",
    "                if last_index == q:\n",
    "                    isgood = True\n",
    "                else:\n",
    "                    if (get_polar_angle(p_last, p_j) - last_angle) % (2 * pi) > pi:\n",
    "                        isgood = True\n",
    "                if isgood:\n",
    "                    # print(\"\\t\", p_j)\n",
    "                    A += area(\n",
    "                        dist(p_i, p_j),\n",
    "                        dist(p_i, p_last),\n",
    "                        dist(p_last, p_j)\n",
    "                    )\n",
    "                    last_angle = get_polar_angle(p_last, other_points[j])\n",
    "                    last_dist = j_dist\n",
    "                    last_index = j\n",
    "                    p_last = other_points[j]\n",
    "        # print(\"AREA: \", A)\n",
    "        # print()\n",
    "        # print()\n",
    "        M_A = max(M_A, A)\n",
    "M_A"
   ]
  },
  {
   "cell_type": "code",
   "execution_count": null,
   "metadata": {},
   "outputs": [
    {
     "data": {
      "text/plain": [
       "1049694.500000003"
      ]
     },
     "execution_count": 109,
     "metadata": {},
     "output_type": "execute_result"
    }
   ],
   "source": [
    "ttt = M_A\n",
    "ttt"
   ]
  },
  {
   "cell_type": "code",
   "execution_count": null,
   "metadata": {},
   "outputs": [],
   "source": [
    "round(tt)"
   ]
  }
 ],
 "metadata": {
  "kernelspec": {
   "display_name": "Python 3",
   "language": "python",
   "name": "python3"
  },
  "language_info": {
   "codemirror_mode": {
    "name": "ipython",
    "version": 3
   },
   "file_extension": ".py",
   "mimetype": "text/x-python",
   "name": "python",
   "nbconvert_exporter": "python",
   "pygments_lexer": "ipython3",
   "version": "3.9.6"
  }
 },
 "nbformat": 4,
 "nbformat_minor": 2
}
