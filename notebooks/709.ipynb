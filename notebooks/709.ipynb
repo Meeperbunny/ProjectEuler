{
 "cells": [
  {
   "cell_type": "code",
   "execution_count": 21,
   "id": "c0174817",
   "metadata": {},
   "outputs": [],
   "source": [
    "n = 8\n",
    "m = 1020202009"
   ]
  },
  {
   "cell_type": "code",
   "execution_count": 24,
   "id": "4af8f76f-9c51-4fac-b88c-169b7819bd9e",
   "metadata": {},
   "outputs": [],
   "source": [
    "fac = [1 for _ in range(n + 1)]\n",
    "facinv = [1 for _ in range(n + 1)]\n",
    "for i in range(1, n + 1):\n",
    "    fac[i] = (fac[i - 1] * i) % m\n",
    "for i in range(0, n + 1):\n",
    "    facinv[i] = pow(fac[i], -1, m)"
   ]
  },
  {
   "cell_type": "code",
   "execution_count": 32,
   "id": "5f24e39a",
   "metadata": {},
   "outputs": [],
   "source": [
    "def binom(n, k):\n",
    "    return (fac[n] * facinv[n - k] * facinv[k]) % m"
   ]
  },
  {
   "cell_type": "code",
   "execution_count": 35,
   "id": "cb701d1f",
   "metadata": {},
   "outputs": [
    {
     "data": {
      "text/plain": [
       "1385"
      ]
     },
     "execution_count": 35,
     "metadata": {},
     "output_type": "execute_result"
    }
   ],
   "source": [
    "ways = [0 for _ in range(n + 1)]\n",
    "ways[0] = 1\n",
    "\n",
    "for i in range(1, n + 1):\n",
    "    for q in range(0, i, 2):\n",
    "        ways[i] = (ways[i] + binom(i - 1, q) * ways[q] * ways[i - 1 - q]) % m\n",
    "ways[n]"
   ]
  },
  {
   "cell_type": "code",
   "execution_count": null,
   "id": "be475e04",
   "metadata": {},
   "outputs": [],
   "source": []
  },
  {
   "cell_type": "code",
   "execution_count": null,
   "id": "6e7842c4",
   "metadata": {},
   "outputs": [],
   "source": []
  },
  {
   "cell_type": "code",
   "execution_count": null,
   "id": "573bf408",
   "metadata": {},
   "outputs": [],
   "source": [
    "n = 8\n",
    "m = 1020202009\n",
    "\n",
    "fac = [1 for _ in range(n + 1)]\n",
    "facinv = [1 for _ in range(n + 1)]\n",
    "for i in range(1, n + 1):\n",
    "    fac[i] = (fac[i - 1] * i) % m\n",
    "for i in range(0, n + 1):\n",
    "    facinv[i] = pow(fac[i], -1, m)\n",
    "\n",
    "def binom(n, k):\n",
    "    return (fac[n] * facinv[n - k] * facinv[k]) % m\n",
    "\n",
    "ways = [0 for _ in range(n + 1)]\n",
    "ways[0] = 1\n",
    "\n",
    "for i in range(1, n + 1):\n",
    "    for q in range(0, i, 2):\n",
    "        ways[i] = (ways[i] + binom(i - 1, q) * ways[q] * ways[i - 1 - q]) % m\n",
    "ways[n]"
   ]
  }
 ],
 "metadata": {
  "kernelspec": {
   "display_name": "Python 3 (ipykernel)",
   "language": "python",
   "name": "python3"
  },
  "language_info": {
   "codemirror_mode": {
    "name": "ipython",
    "version": 3
   },
   "file_extension": ".py",
   "mimetype": "text/x-python",
   "name": "python",
   "nbconvert_exporter": "python",
   "pygments_lexer": "ipython3",
   "version": "3.10.6"
  }
 },
 "nbformat": 4,
 "nbformat_minor": 5
}
