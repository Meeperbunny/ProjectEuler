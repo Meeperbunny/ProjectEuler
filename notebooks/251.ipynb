{
 "cells": [
  {
   "cell_type": "code",
   "execution_count": 42,
   "metadata": {},
   "outputs": [],
   "source": [
    "from math import isclose"
   ]
  },
  {
   "cell_type": "code",
   "execution_count": 41,
   "metadata": {},
   "outputs": [],
   "source": [
    "def cube_root(x):\n",
    "  \"\"\"Calculates the cube root of a number, handling negative numbers correctly.\"\"\"\n",
    "  if x >= 0:\n",
    "    return x**(1/3)\n",
    "  else:\n",
    "    return -(-x)**(1/3)"
   ]
  },
  {
   "cell_type": "code",
   "execution_count": 27,
   "metadata": {},
   "outputs": [
    {
     "data": {
      "text/plain": [
       "0.9999999999999999"
      ]
     },
     "execution_count": 27,
     "metadata": {},
     "output_type": "execute_result"
    }
   ],
   "source": [
    "cube_root((2 + 5**0.5)) + cube_root((2 - 5**0.5))"
   ]
  },
  {
   "cell_type": "code",
   "execution_count": 32,
   "metadata": {},
   "outputs": [],
   "source": [
    "from tqdm.notebook import trange"
   ]
  },
  {
   "cell_type": "code",
   "execution_count": null,
   "metadata": {},
   "outputs": [],
   "source": [
    "N = 100"
   ]
  },
  {
   "cell_type": "code",
   "execution_count": 52,
   "metadata": {},
   "outputs": [],
   "source": [
    "from utils.prime_factors import pfs"
   ]
  },
  {
   "cell_type": "code",
   "execution_count": 111,
   "metadata": {},
   "outputs": [
    {
     "data": {
      "text/plain": [
       "[5, 5, 5]"
      ]
     },
     "execution_count": 111,
     "metadata": {},
     "output_type": "execute_result"
    }
   ],
   "source": [
    "pfs(125)"
   ]
  },
  {
   "cell_type": "code",
   "execution_count": null,
   "metadata": {},
   "outputs": [],
   "source": [
    "b * b * c * 3 / (a + 1) * b = b * b * c"
   ]
  },
  {
   "cell_type": "code",
   "execution_count": null,
   "metadata": {},
   "outputs": [],
   "source": []
  },
  {
   "cell_type": "code",
   "execution_count": 117,
   "metadata": {},
   "outputs": [
    {
     "data": {
      "text/plain": [
       "[2, 2, 2, 2]"
      ]
     },
     "metadata": {},
     "output_type": "display_data"
    },
    {
     "data": {
      "text/plain": [
       "[5, 5, 5]"
      ]
     },
     "metadata": {},
     "output_type": "display_data"
    },
    {
     "data": {
      "text/plain": [
       "[2, 2, 5]"
      ]
     },
     "metadata": {},
     "output_type": "display_data"
    },
    {
     "data": {
      "text/plain": [
       "[2, 2, 2, 2, 5]"
      ]
     },
     "metadata": {},
     "output_type": "display_data"
    },
    {
     "data": {
      "text/plain": [
       "[2, 2, 2, 5]"
      ]
     },
     "metadata": {},
     "output_type": "display_data"
    },
    {
     "data": {
      "text/plain": [
       "[2, 2, 5]"
      ]
     },
     "metadata": {},
     "output_type": "display_data"
    },
    {
     "data": {
      "text/plain": [
       "[2, 2, 2, 2, 5]"
      ]
     },
     "metadata": {},
     "output_type": "display_data"
    },
    {
     "data": {
      "text/plain": [
       "[5]"
      ]
     },
     "metadata": {},
     "output_type": "display_data"
    }
   ],
   "source": [
    "# 47 16 125 32000 32000\n",
    "# 47 20 80 32000 32000\n",
    "# 47 40 20 32000 32000\n",
    "# 47 80 5 32000 32000\n",
    "display(pfs(16), pfs(125))\n",
    "display(pfs(20), pfs(80))\n",
    "display(pfs(40), pfs(20))\n",
    "display(pfs(80), pfs(5))"
   ]
  },
  {
   "cell_type": "code",
   "execution_count": 2,
   "metadata": {},
   "outputs": [],
   "source": [
    "from tqdm.notebook import trange"
   ]
  },
  {
   "cell_type": "code",
   "execution_count": null,
   "metadata": {},
   "outputs": [],
   "source": [
    "# def get_pfs(n):\n",
    "#     pfs = [[] for _ in range(n + 1)]\n",
    "#     for i in trange(2, n + 1):\n",
    "#         if len(pfs[i]) == 0:\n",
    "#             k = 1\n",
    "#             while i**k <= n:\n",
    "#                 inc = i**k\n",
    "#                 for q in range(inc, n + 1, inc):\n",
    "#                     pfs[q].append(i)\n",
    "#                 k += 1\n",
    "#     return pfs"
   ]
  },
  {
   "cell_type": "code",
   "execution_count": 9,
   "metadata": {},
   "outputs": [
    {
     "data": {
      "application/vnd.jupyter.widget-view+json": {
       "model_id": "c04610dd8e4247fd8e5816a560569a19",
       "version_major": 2,
       "version_minor": 0
      },
      "text/plain": [
       "  0%|          | 0/73333340 [00:00<?, ?it/s]"
      ]
     },
     "metadata": {},
     "output_type": "display_data"
    }
   ],
   "source": [
    "P = get_pfs(c)"
   ]
  },
  {
   "cell_type": "code",
   "execution_count": null,
   "metadata": {},
   "outputs": [],
   "source": [
    "a + b + c <= n?\n",
    "b * b * c is constant"
   ]
  },
  {
   "cell_type": "code",
   "execution_count": 21,
   "metadata": {},
   "outputs": [],
   "source": [
    "from collections import Counter"
   ]
  },
  {
   "cell_type": "code",
   "execution_count": 54,
   "metadata": {},
   "outputs": [
    {
     "name": "stdout",
     "output_type": "stream",
     "text": [
      "(152, 81, 160)\n",
      "(47, 200, 0)\n",
      "(47, 400, 0)\n",
      "(233, 351, 30)\n",
      "(395, 324, 174)\n",
      "(71, 216, 2)\n",
      "(71, 54, 37)\n",
      "(233, 702, 7)\n",
      "(47, 50, 12)\n",
      "(47, 25, 51)\n",
      "(314, 189, 258)\n",
      "(314, 135, 506)\n",
      "(47, 100, 3)\n",
      "(71, 27, 149)\n",
      "(71, 108, 9)\n"
     ]
    }
   ],
   "source": [
    "for e in ss:\n",
    "    if e not in SS:\n",
    "        print(e)"
   ]
  },
  {
   "cell_type": "code",
   "execution_count": null,
   "metadata": {},
   "outputs": [],
   "source": []
  },
  {
   "cell_type": "code",
   "execution_count": null,
   "metadata": {},
   "outputs": [
    {
     "data": {
      "application/vnd.jupyter.widget-view+json": {
       "model_id": "3697f1547e32403985832d2010e07243",
       "version_major": 2,
       "version_minor": 0
      },
      "text/plain": [
       "  0%|          | 0/36666667 [00:00<?, ?it/s]"
      ]
     },
     "metadata": {},
     "output_type": "display_data"
    },
    {
     "data": {
      "text/plain": [
       "0"
      ]
     },
     "execution_count": 70,
     "metadata": {},
     "output_type": "execute_result"
    }
   ],
   "source": [
    "N = 110_000_000\n",
    "# N = 1000\n",
    "C = 0\n",
    "msz = 0\n",
    "asz = 0\n",
    "ss = set()\n",
    "for a in trange(2, N + 1, 3):\n",
    "    b = (a + 1) // 3\n",
    "    c = b * 8 - 3\n",
    "    # if a + b + c > N:\n",
    "    #     break\n",
    "    sqpfs = P[b].copy()\n",
    "    i = 0\n",
    "    while i < len(P[c]) - 1:\n",
    "        if P[c][i] == P[c][i + 1]:\n",
    "            sqpfs.append(P[c][i])\n",
    "            i += 1\n",
    "        i += 1\n",
    "    s = set({1})\n",
    "    for e in sqpfs:\n",
    "        cc = set()\n",
    "        for el in s:\n",
    "            cc.add(e * el)\n",
    "        s.update(cc)\n",
    "    \n",
    "    bbc = b * b * c\n",
    "    for pb in s:\n",
    "        pc = bbc // (pb * pb)\n",
    "        if a + pb + pc <= N:\n",
    "            # print(a, pb, pc)\n",
    "            # ss.add((a, pb, pc))\n",
    "            C += 1\n",
    "\n",
    "    # C += 1\n",
    "    # print(a, b, c)\n",
    "C"
   ]
  },
  {
   "cell_type": "code",
   "execution_count": 71,
   "metadata": {},
   "outputs": [
    {
     "data": {
      "text/plain": [
       "293333333"
      ]
     },
     "execution_count": 71,
     "metadata": {},
     "output_type": "execute_result"
    }
   ],
   "source": [
    "c"
   ]
  },
  {
   "cell_type": "code",
   "execution_count": 60,
   "metadata": {},
   "outputs": [
    {
     "data": {
      "text/plain": [
       "73333349"
      ]
     },
     "execution_count": 60,
     "metadata": {},
     "output_type": "execute_result"
    }
   ],
   "source": [
    "c"
   ]
  },
  {
   "cell_type": "code",
   "execution_count": 59,
   "metadata": {},
   "outputs": [
    {
     "data": {
      "text/plain": [
       "73333349"
      ]
     },
     "execution_count": 59,
     "metadata": {},
     "output_type": "execute_result"
    }
   ],
   "source": [
    "c"
   ]
  },
  {
   "cell_type": "code",
   "execution_count": 20,
   "metadata": {},
   "outputs": [
    {
     "data": {
      "text/plain": [
       "(96316506, 52, 10.507254817918007)"
      ]
     },
     "execution_count": 20,
     "metadata": {},
     "output_type": "execute_result"
    }
   ],
   "source": [
    "asz, msz, asz / 9166667"
   ]
  },
  {
   "cell_type": "code",
   "execution_count": 112,
   "metadata": {},
   "outputs": [
    {
     "data": {
      "text/plain": [
       "[2, 2, 2, 2, 2, 2, 2, 2, 5, 5, 5]"
      ]
     },
     "execution_count": 112,
     "metadata": {},
     "output_type": "execute_result"
    }
   ],
   "source": [
    "pfs(32000)"
   ]
  },
  {
   "cell_type": "code",
   "execution_count": null,
   "metadata": {},
   "outputs": [],
   "source": []
  },
  {
   "cell_type": "code",
   "execution_count": 49,
   "metadata": {},
   "outputs": [],
   "source": [
    "def divs(n):\n",
    "    divs = []\n",
    "    for i in range(1, n + 1):\n",
    "        if i * i > n:\n",
    "            break\n",
    "        if n % i == 0:\n",
    "            divs.append(i)\n",
    "            if i * i != n:\n",
    "                divs.append(n // i)\n",
    "    return divs"
   ]
  },
  {
   "cell_type": "code",
   "execution_count": 52,
   "metadata": {},
   "outputs": [
    {
     "data": {
      "application/vnd.jupyter.widget-view+json": {
       "model_id": "adea3d64577f46e5ae2f6dc433b5f9b1",
       "version_major": 2,
       "version_minor": 0
      },
      "text/plain": [
       "  0%|          | 0/333 [00:00<?, ?it/s]"
      ]
     },
     "metadata": {},
     "output_type": "display_data"
    },
    {
     "data": {
      "text/plain": [
       "2463"
      ]
     },
     "execution_count": 52,
     "metadata": {},
     "output_type": "execute_result"
    }
   ],
   "source": [
    "N = 1000\n",
    "SS = set()\n",
    "C = 0\n",
    "for a in trange(2, N + 1, 3):\n",
    "    b = (a + 1) // 3\n",
    "    c = 8 * b - 3\n",
    "    bbc = b * b * c\n",
    "    for b in divs(bbc):\n",
    "        c = bbc // (b * b)\n",
    "        res = cube_root(a + b * c**0.5) + cube_root(a - b * c**0.5)\n",
    "        if isclose(1, res, rel_tol=1e-7):\n",
    "            if a + b + c <= N:\n",
    "                SS.add((a, b, c))\n",
    "            # print(a, b * b * c)\n",
    "            A = a\n",
    "            B = (a + 1) // 3\n",
    "            # print(a, b, c, b * b * c, b * b * c)\n",
    "            C += 1\n",
    "C"
   ]
  },
  {
   "cell_type": "code",
   "execution_count": 53,
   "metadata": {},
   "outputs": [
    {
     "data": {
      "text/plain": [
       "149"
      ]
     },
     "execution_count": 53,
     "metadata": {},
     "output_type": "execute_result"
    }
   ],
   "source": [
    "len(SS)"
   ]
  },
  {
   "cell_type": "code",
   "execution_count": 58,
   "metadata": {},
   "outputs": [],
   "source": [
    "# (a + b c^0.5)^0.66 + (a - b c^0.5)^0.33 (a + b c^0.5)^0.33 + (a - b c^0.5)^0.66"
   ]
  },
  {
   "cell_type": "code",
   "execution_count": null,
   "metadata": {},
   "outputs": [],
   "source": [
    "# (a + Z)^(2/3) + (a - Z)^(2/3) + (a^2 - Z^2)(1/3)\n",
    "\n",
    "# 2*a + (a - Z)^(2/3)(a + Z)^(1/3) + (a^2 - Z^2)(1/3)(a + Z)^(1/3) +\n",
    "# (a + Z)^(2/3)(a - Z)^(1/3) + (a^2 - Z^2)(1/3)(a - Z)^(1/3)\n",
    "\n",
    "\n",
    "# 2*a + (a - Z)^(2/3)(a + Z)^(1/3) + (a^2 - Z^2)(1/3)(a + Z)^(1/3) +\n",
    "# (a + Z)^(2/3)(a - Z)^(1/3) + (a^2 - Z^2)(1/3)(a - Z)^(1/3)\n",
    "\n",
    "# (a^2 - Z^2)^(1/3)  (a + Z)^(1/3)\n",
    "\n",
    "# (a^3 - Z^2a + Za^2 - Z^3)^(1/3)"
   ]
  },
  {
   "cell_type": "code",
   "execution_count": null,
   "metadata": {},
   "outputs": [],
   "source": []
  },
  {
   "cell_type": "code",
   "execution_count": null,
   "metadata": {},
   "outputs": [],
   "source": [
    "from tqdm import trange\n",
    "from sympy import primefactors\n",
    "def get_pfs(n):\n",
    "    pfs = [[] for _ in range(n + 1)]\n",
    "    for i in trange(2, n + 1):\n",
    "        if len(pfs[i]) == 0:\n",
    "            k = 1\n",
    "            while i**k <= n:\n",
    "                inc = i**k\n",
    "                for q in range(inc, n + 1, inc):\n",
    "                    pfs[q].append(i)\n",
    "                k += 1\n",
    "    return pfs\n",
    "# N = 100_000\n",
    "# P = get_pfs(int(N * 8 / 3 + 10))\n",
    "N = 110_000_000\n",
    "\n",
    "C = 0\n",
    "msz = 0\n",
    "asz = 0\n",
    "ss = set()\n",
    "for a in trange(2, N + 1, 3):\n",
    "    b = (a + 1) // 3\n",
    "    c = b * 8 - 3\n",
    "    sqpfs = P[b].copy()\n",
    "    i = 0\n",
    "    # print(a, c)\n",
    "    while i < len(P[c]) - 1:\n",
    "        if P[c][i] == P[c][i + 1]:\n",
    "            sqpfs.append(P[c][i])\n",
    "            i += 1\n",
    "        i += 1\n",
    "    s = set({1})\n",
    "    for e in sqpfs:\n",
    "        cc = set()\n",
    "        for el in s:\n",
    "            cc.add(e * el)\n",
    "        s.update(cc)\n",
    "    bbc = b * b * c\n",
    "    for pb in s:\n",
    "        pc = bbc // (pb * pb)\n",
    "        if a + pb + pc <= N:\n",
    "            C += 1\n",
    "print(N, c)\n",
    "print(C)"
   ]
  }
 ],
 "metadata": {
  "kernelspec": {
   "display_name": "Python 3",
   "language": "python",
   "name": "python3"
  },
  "language_info": {
   "codemirror_mode": {
    "name": "ipython",
    "version": 3
   },
   "file_extension": ".py",
   "mimetype": "text/x-python",
   "name": "python",
   "nbconvert_exporter": "python",
   "pygments_lexer": "ipython3",
   "version": "3.9.6"
  }
 },
 "nbformat": 4,
 "nbformat_minor": 2
}
