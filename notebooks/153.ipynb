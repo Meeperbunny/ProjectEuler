{
 "cells": [
  {
   "cell_type": "code",
   "execution_count": 2,
   "id": "6c5d3146-9911-408b-a237-1f1270118d09",
   "metadata": {},
   "outputs": [],
   "source": [
    "from math import gcd"
   ]
  },
  {
   "cell_type": "code",
   "execution_count": 3,
   "id": "e4a6c41d-4540-4144-97d3-c3b3edb104c6",
   "metadata": {},
   "outputs": [
    {
     "name": "stdout",
     "output_type": "stream",
     "text": [
      "1 1 5 2\n",
      "1 2 5 5\n",
      "2 1 5 5\n"
     ]
    },
    {
     "data": {
      "text/plain": [
       "5"
      ]
     },
     "execution_count": 3,
     "metadata": {},
     "output_type": "execute_result"
    }
   ],
   "source": [
    "t = 0\n",
    "n = 5\n",
    "a = 1\n",
    "while a * a <= n:\n",
    "    b = 1\n",
    "    while a * a + b * b <= n:\n",
    "        c = a * a + b * b\n",
    "        print(a, b, n, c)\n",
    "        t += a * (n // c) * gcd(a, b)\n",
    "        b += 1\n",
    "    a += 1\n",
    "t"
   ]
  },
  {
   "cell_type": "code",
   "execution_count": 26,
   "id": "a6303973-c52d-434a-b72c-9a217fa15f32",
   "metadata": {},
   "outputs": [
    {
     "data": {
      "text/plain": [
       "14"
      ]
     },
     "execution_count": 26,
     "metadata": {},
     "output_type": "execute_result"
    }
   ],
   "source": [
    "def ans(n):\n",
    "    t = 0\n",
    "    a = 1\n",
    "    tots = [0 for _ in range(n + 1)]\n",
    "    while a * a <= n:\n",
    "        b = 1\n",
    "        while a + b <= n:\n",
    "            c = a*a+b*b\n",
    "            g = gcd(a, b)\n",
    "            c //= g\n",
    "            # print(a, b, c, g)\n",
    "            for i in range(c, n + 1, c):\n",
    "                tots[i] += a * 2\n",
    "            b += 1\n",
    "        a += 1\n",
    "    return sum(tots)\n",
    "# ans(100000)\n",
    "ans(5)"
   ]
  },
  {
   "cell_type": "markdown",
   "id": "d7ef6f16-b078-412b-a0cf-9546ed49acb5",
   "metadata": {},
   "source": [
    "### Optimizations\n",
    "\n",
    "* Can group the adding to tots\n",
    "* Instead of interating $b + 1$, find all divisors of $a$. Then, for each divisor, iterate on $b = a + dk$ for $\\displaystyle \\frac{a^2 + b^2}{g} \\leq n$\n",
    "* Time comlexity is $O(\\sqrt{n}\\sqrt{n}\\sqrt[3]{n}) = O(n\\sqrt[3]{n})$\n",
    "* NEED TO ADD $\\sigma_1(n)$"
   ]
  }
 ],
 "metadata": {
  "kernelspec": {
   "display_name": "Python 3 (ipykernel)",
   "language": "python",
   "name": "python3"
  },
  "language_info": {
   "codemirror_mode": {
    "name": "ipython",
    "version": 3
   },
   "file_extension": ".py",
   "mimetype": "text/x-python",
   "name": "python",
   "nbconvert_exporter": "python",
   "pygments_lexer": "ipython3",
   "version": "3.12.4"
  }
 },
 "nbformat": 4,
 "nbformat_minor": 5
}
