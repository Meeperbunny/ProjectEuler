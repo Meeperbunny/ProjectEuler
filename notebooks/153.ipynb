{
 "cells": [
  {
   "cell_type": "code",
   "execution_count": 2,
   "id": "6c5d3146-9911-408b-a237-1f1270118d09",
   "metadata": {},
   "outputs": [],
   "source": [
    "from math import gcd"
   ]
  },
  {
   "cell_type": "code",
   "execution_count": 3,
   "id": "e4a6c41d-4540-4144-97d3-c3b3edb104c6",
   "metadata": {},
   "outputs": [
    {
     "name": "stdout",
     "output_type": "stream",
     "text": [
      "1 1 5 2\n",
      "1 2 5 5\n",
      "2 1 5 5\n"
     ]
    },
    {
     "data": {
      "text/plain": [
       "5"
      ]
     },
     "execution_count": 3,
     "metadata": {},
     "output_type": "execute_result"
    }
   ],
   "source": [
    "t = 0\n",
    "n = 5\n",
    "a = 1\n",
    "while a * a <= n:\n",
    "    b = 1\n",
    "    while a * a + b * b <= n:\n",
    "        c = a * a + b * b\n",
    "        print(a, b, n, c)\n",
    "        t += a * (n // c) * gcd(a, b)\n",
    "        b += 1\n",
    "    a += 1\n",
    "t"
   ]
  },
  {
   "cell_type": "code",
   "execution_count": 118,
   "id": "a6303973-c52d-434a-b72c-9a217fa15f32",
   "metadata": {},
   "outputs": [
    {
     "name": "stdout",
     "output_type": "stream",
     "text": [
      "CPU times: total: 10.1 s\n",
      "Wall time: 10.1 s\n"
     ]
    },
    {
     "data": {
      "text/plain": [
       "290647456"
      ]
     },
     "execution_count": 118,
     "metadata": {},
     "output_type": "execute_result"
    }
   ],
   "source": [
    "%%time\n",
    "def ans(n):\n",
    "    t = 0\n",
    "    a = 1\n",
    "    tots = [0 for _ in range(n + 1)]\n",
    "    while a * a <= n:\n",
    "        b = 1\n",
    "        while a + b <= n:\n",
    "            c = a*a+b*b\n",
    "            g = gcd(a, b)\n",
    "            c //= g\n",
    "            # print(a, b, c, g)\n",
    "            for i in range(c, n + 1, c):\n",
    "                tots[i] += a * 2\n",
    "            b += 1\n",
    "        a += 1\n",
    "    return sum(tots)\n",
    "# ans(100000)\n",
    "ans(100000)"
   ]
  },
  {
   "cell_type": "markdown",
   "id": "d7ef6f16-b078-412b-a0cf-9546ed49acb5",
   "metadata": {},
   "source": [
    "### Optimizations\n",
    "\n",
    "* Can group the adding to tots\n",
    "* Instead of interating $b + 1$, find all divisors of $a$. Then, for each divisor, iterate on $b = a + dk$ for $\\displaystyle \\frac{a^2 + b^2}{g} \\leq n$\n",
    "* Time comlexity is $O(\\sqrt{n}\\sqrt{n}\\sqrt[3]{n}) = O(n\\sqrt[3]{n})$\n",
    "* NEED TO ADD $\\sigma_1(n)$"
   ]
  },
  {
   "cell_type": "code",
   "execution_count": null,
   "id": "c684c841",
   "metadata": {},
   "outputs": [],
   "source": [
    "a = b = g\n",
    "g = n"
   ]
  },
  {
   "cell_type": "code",
   "execution_count": null,
   "id": "6b22c2c6",
   "metadata": {},
   "outputs": [],
   "source": [
    "3, 3 -> 18k = 3 * n"
   ]
  },
  {
   "cell_type": "code",
   "execution_count": 157,
   "id": "718a3ab4",
   "metadata": {},
   "outputs": [
    {
     "name": "stdout",
     "output_type": "stream",
     "text": [
      "CPU times: total: 2.66 s\n",
      "Wall time: 3.14 s\n"
     ]
    },
    {
     "data": {
      "text/plain": [
       "1304302582"
      ]
     },
     "execution_count": 157,
     "metadata": {},
     "output_type": "execute_result"
    }
   ],
   "source": [
    "%%time\n",
    "from math import gcd\n",
    "def ans(n):\n",
    "    seen = set()\n",
    "    g = 1\n",
    "    tot = [0 for _ in range(n + 1)]\n",
    "    while g * g <= n:\n",
    "        a = g\n",
    "        while a * a  <= n * g:\n",
    "            b = g\n",
    "            while a * a + b * b <= n * g:\n",
    "                imp_d = (a * a + b * b) // g\n",
    "                for imp_n in range(imp_d, n + 1, imp_d):\n",
    "                    if (a, b, imp_n) not in seen:\n",
    "#                         print('\\t', a, b, imp_n)\n",
    "                        tot[imp_n] += 2 * a\n",
    "                        seen.add((a, b, imp_n))\n",
    "                b += g\n",
    "            a += g\n",
    "        g += 1\n",
    "    return sum(tot)\n",
    "ans(100000)"
   ]
  },
  {
   "cell_type": "code",
   "execution_count": 99,
   "id": "cc371764",
   "metadata": {},
   "outputs": [
    {
     "ename": "SyntaxError",
     "evalue": "invalid syntax (1522754708.py, line 1)",
     "output_type": "error",
     "traceback": [
      "\u001b[1;36m  Cell \u001b[1;32mIn[99], line 1\u001b[1;36m\u001b[0m\n\u001b[1;33m    8 -> 6\u001b[0m\n\u001b[1;37m      ^\u001b[0m\n\u001b[1;31mSyntaxError\u001b[0m\u001b[1;31m:\u001b[0m invalid syntax\n"
     ]
    }
   ],
   "source": [
    "10 -> 20\n",
    "10 -> 28"
   ]
  },
  {
   "cell_type": "code",
   "execution_count": 113,
   "id": "0a63199d",
   "metadata": {},
   "outputs": [
    {
     "ename": "SyntaxError",
     "evalue": "cannot assign to literal here. Maybe you meant '==' instead of '='? (832418568.py, line 1)",
     "output_type": "error",
     "traceback": [
      "\u001b[1;36m  Cell \u001b[1;32mIn[113], line 1\u001b[1;36m\u001b[0m\n\u001b[1;33m    1, 1 = 2 -> 10 (2)\u001b[0m\n\u001b[1;37m       ^\u001b[0m\n\u001b[1;31mSyntaxError\u001b[0m\u001b[1;31m:\u001b[0m cannot assign to literal here. Maybe you meant '==' instead of '='?\n"
     ]
    }
   ],
   "source": [
    "1, 1 = 2 -> 10 (2)\n",
    "1, 3 = 10 -> 10 (2)\n",
    "3, 1 = 10 -> 10 (6)\n",
    "2, 1 = 5 -> 10 (4)\n",
    "1, 2 = 5 -> 10 (2)\n",
    "2, 4 = 20 -> 20 (4)\n",
    "4, 2 = 20 -> 20 (8)"
   ]
  },
  {
   "cell_type": "code",
   "execution_count": 156,
   "id": "170a2290",
   "metadata": {},
   "outputs": [
    {
     "name": "stdout",
     "output_type": "stream",
     "text": [
      "711794796\n"
     ]
    }
   ],
   "source": [
    "divsum(10000000)"
   ]
  },
  {
   "cell_type": "code",
   "execution_count": 153,
   "id": "702832d2",
   "metadata": {},
   "outputs": [],
   "source": [
    "def divsum(n):\n",
    "    maxn = int(n)\n",
    "    max_sq = int(maxn**0.5)\n",
    "    mod = int(1e9)\n",
    "    # def sq_sum(n):\n",
    "    #     return n * (n + 1) * (2 * n + 1) // 6\n",
    "    def norm_sum(n):\n",
    "        return n * (n + 1) // 2\n",
    "    tot = 0\n",
    "    for i in range(1, max_sq + 1):\n",
    "    #     if i % (max_sq // 10) == 0:\n",
    "    #         a = i // (max_sq // 10)\n",
    "    #         print(\"#\" * a + '.' * (10 - a))\n",
    "        # Definer lower part\n",
    "        cnt = maxn // i\n",
    "        lower = (maxn // i - i + 1) * (i)\n",
    "        # Define upper part\n",
    "    #     print(cnt, i, sq_sum(cnt), sq_sum(i))\n",
    "        upper = (norm_sum(cnt) - norm_sum(i))\n",
    "    #     print(i, lower, upper)\n",
    "        tot += lower + upper\n",
    "        tot %= mod\n",
    "    print(tot)"
   ]
  }
 ],
 "metadata": {
  "kernelspec": {
   "display_name": "Python 3 (ipykernel)",
   "language": "python",
   "name": "python3"
  },
  "language_info": {
   "codemirror_mode": {
    "name": "ipython",
    "version": 3
   },
   "file_extension": ".py",
   "mimetype": "text/x-python",
   "name": "python",
   "nbconvert_exporter": "python",
   "pygments_lexer": "ipython3",
   "version": "3.10.6"
  }
 },
 "nbformat": 4,
 "nbformat_minor": 5
}
