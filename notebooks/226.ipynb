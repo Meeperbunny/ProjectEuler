{
 "cells": [
  {
   "cell_type": "code",
   "execution_count": null,
   "metadata": {},
   "outputs": [],
   "source": [
    "# Find the intersection point"
   ]
  },
  {
   "cell_type": "code",
   "execution_count": 1,
   "metadata": {},
   "outputs": [],
   "source": [
    "def s(n):\n",
    "    return abs(round(n) - n)"
   ]
  },
  {
   "cell_type": "code",
   "execution_count": 8,
   "metadata": {},
   "outputs": [],
   "source": [
    "def blanc(x):\n",
    "    T = 0\n",
    "    for n in range(0, 50):\n",
    "        T += s(2**n * x) / (2**n)\n",
    "    return T"
   ]
  },
  {
   "cell_type": "code",
   "execution_count": 9,
   "metadata": {},
   "outputs": [],
   "source": [
    "circle = (1/4, 1/2)\n",
    "rad = 1/4"
   ]
  },
  {
   "cell_type": "code",
   "execution_count": 10,
   "metadata": {},
   "outputs": [],
   "source": [
    "def is_inside_circle(p):\n",
    "    return (p[0] - circle[0])**2 + (p[1] - circle[1])**2 <= rad**2"
   ]
  },
  {
   "cell_type": "code",
   "execution_count": 90,
   "metadata": {},
   "outputs": [
    {
     "name": "stdout",
     "output_type": "stream",
     "text": [
      "0.0789077879744582 0.3177160046761856\n"
     ]
    }
   ],
   "source": [
    "inc = 0.1\n",
    "b = 0\n",
    "while inc > 0.00000000001:\n",
    "    while True:\n",
    "        x = b + inc\n",
    "        y = blanc(x)\n",
    "        if not is_inside_circle((x, y)):\n",
    "            b = x\n",
    "        else:\n",
    "            break\n",
    "    inc /= 2\n",
    "print(x, blanc(x))"
   ]
  },
  {
   "cell_type": "code",
   "execution_count": 89,
   "metadata": {},
   "outputs": [
    {
     "ename": "SyntaxError",
     "evalue": "cannot assign to function call (2321813705.py, line 1)",
     "output_type": "error",
     "traceback": [
      "\u001b[0;36m  Cell \u001b[0;32mIn[89], line 1\u001b[0;36m\u001b[0m\n\u001b[0;31m    H(0, 1) = 0.5 * 1 / 2 + 2 H(0, 0.5)\u001b[0m\n\u001b[0m    ^\u001b[0m\n\u001b[0;31mSyntaxError\u001b[0m\u001b[0;31m:\u001b[0m cannot assign to function call\n"
     ]
    }
   ],
   "source": [
    "H(0, 1) = 0.5 * 1 / 2 + 2 H(0, 0.5)"
   ]
  },
  {
   "cell_type": "code",
   "execution_count": 96,
   "metadata": {},
   "outputs": [],
   "source": [
    "from functools import cache\n",
    "@cache\n",
    "def area(R, p=0.5, l=0, r=1, d = -80):\n",
    "    if d == 0:\n",
    "        return 0\n",
    "    m = (l+r)/2\n",
    "    A = 0\n",
    "    if R > m:\n",
    "        A += (p + p - (R - m)) / 2 * (R - m)\n",
    "        A += area(R - m, p / 2, l, r / 2, d + 1)\n",
    "        R = m\n",
    "    A += R * (R / m * p) / 2\n",
    "    A += area(R, p / 2, l, r / 2, d + 1)\n",
    "    return A\n",
    "    \n"
   ]
  },
  {
   "cell_type": "code",
   "execution_count": null,
   "metadata": {},
   "outputs": [],
   "source": [
    "integral[0.0789077879, 0.5]  y =  sqrt(1/16 - (x-1/4)^2) + 0.5\n"
   ]
  },
  {
   "cell_type": "code",
   "execution_count": null,
   "metadata": {},
   "outputs": [],
   "source": [
    "integral[0.0789077879, 0.5] "
   ]
  },
  {
   "cell_type": "code",
   "execution_count": 101,
   "metadata": {},
   "outputs": [],
   "source": [
    "from scipy.integrate import quad\n",
    "import numpy as np\n",
    "\n",
    "def compute_integral(a=0.0789077879, b=0.5):\n",
    "    def f(x):\n",
    "        return np.sqrt(1/16 - (x - 1/4)**2) + 0.5\n",
    "    result, _ = quad(f, a, b)\n",
    "    return result\n"
   ]
  },
  {
   "cell_type": "code",
   "execution_count": 100,
   "metadata": {},
   "outputs": [
    {
     "name": "stdout",
     "output_type": "stream",
     "text": [
      "Defaulting to user installation because normal site-packages is not writeable\n",
      "Collecting scipy\n",
      "  Downloading scipy-1.13.1-cp39-cp39-macosx_12_0_arm64.whl (30.3 MB)\n",
      "\u001b[K     |████████████████████████████████| 30.3 MB 7.6 MB/s eta 0:00:01\n",
      "\u001b[?25hRequirement already satisfied: numpy<2.3,>=1.22.4 in /Users/ianmckibben/Library/Python/3.9/lib/python/site-packages (from scipy) (2.0.2)\n",
      "Installing collected packages: scipy\n",
      "Successfully installed scipy-1.13.1\n",
      "\u001b[33mWARNING: You are using pip version 21.2.4; however, version 25.0.1 is available.\n",
      "You should consider upgrading via the '/Library/Developer/CommandLineTools/usr/bin/python3 -m pip install --upgrade pip' command.\u001b[0m\n"
     ]
    }
   ],
   "source": [
    "!/Library/Developer/CommandLineTools/usr/bin/python3 -m pip install scipy\n"
   ]
  },
  {
   "cell_type": "code",
   "execution_count": 116,
   "metadata": {},
   "outputs": [],
   "source": [
    "from scipy.integrate import quad\n",
    "import numpy as np\n",
    "\n",
    "def compute_integral(a=0.0789077879, b=0.5):\n",
    "    def f(x):\n",
    "        return -np.sqrt(1/16 - (x - 1/4)**2) + 0.5\n",
    "    result, _ = quad(f, a, b)\n",
    "    return result\n"
   ]
  },
  {
   "cell_type": "code",
   "execution_count": null,
   "metadata": {},
   "outputs": [
    {
     "data": {
      "text/plain": [
       "0.25"
      ]
     },
     "execution_count": 114,
     "metadata": {},
     "output_type": "execute_result"
    }
   ],
   "source": []
  },
  {
   "cell_type": "code",
   "execution_count": null,
   "metadata": {},
   "outputs": [
    {
     "data": {
      "text/plain": [
       "0.04639811593418358"
      ]
     },
     "execution_count": 117,
     "metadata": {},
     "output_type": "execute_result"
    }
   ],
   "source": [
    "compute_integral(a=0.0789077879744582, b=0.25)"
   ]
  },
  {
   "cell_type": "code",
   "execution_count": 118,
   "metadata": {},
   "outputs": [
    {
     "data": {
      "text/plain": [
       "0.11316017"
      ]
     },
     "execution_count": 118,
     "metadata": {},
     "output_type": "execute_result"
    }
   ],
   "source": [
    "round(0.25 - area(0.0789077879744582) - compute_integral(a=0.0789077879744582, b=0.5), 8)"
   ]
  },
  {
   "cell_type": "code",
   "execution_count": 93,
   "metadata": {},
   "outputs": [],
   "source": [
    "def area(L, R, md = 3, bp = 0, p=0.5, l=0, r=1):\n",
    "    if md == 0:\n",
    "        return 0\n",
    "    w = r - l\n",
    "    m = (l + r) / 2\n",
    "    if r < L or R < l:\n",
    "        return 0\n",
    "    A = 0\n",
    "    # Left side\n",
    "    ls = max(L, l)\n",
    "    rs = min(R, m)\n",
    "    # Trapezoid\n",
    "    if ls < rs:\n",
    "        A += (ls + rs - bp * 2) / 2 * (rs - ls)\n",
    "        print(\"AH\", bp, (ls + rs), ls, rs, A)\n",
    "    # Right side\n",
    "    ls = max(L, m)\n",
    "    rs = min(R, r)\n",
    "    if ls < rs:\n",
    "        # Trapezoid\n",
    "        A += (ls + rs - 2 * p - bp * 2) / 2 * (rs - ls)\n",
    "        print(\"AH\", (ls + rs), l, r, A)\n",
    "    # Recurse\n",
    "    A += area(L, R, md - 1, bp, p / 2, l, m)\n",
    "    A += area(L, R, md - 1, bp + p / 2, p / 2, m, r)\n",
    "    return A"
   ]
  },
  {
   "cell_type": "code",
   "execution_count": 71,
   "metadata": {},
   "outputs": [
    {
     "name": "stdout",
     "output_type": "stream",
     "text": [
      "AH 0 0.5 0 0.5 0.125\n",
      "AH 1.5 0 1 0.25\n",
      "AH 0 0.25 0 0.25 0.03125\n",
      "AH 0.75 0 0.5 0.0625\n",
      "AH 0 0.125 0 0.125 0.0078125\n",
      "AH 0.375 0 0.25 0.015625\n",
      "AH 0.125 0.625 0.25 0.375 0.0234375\n",
      "AH 0.875 0.25 0.5 0.046875\n",
      "AH 0.25 1.25 0.5 0.75 0.09375\n",
      "AH 1.75 0.5 1 0.1875\n",
      "AH 0.25 1.125 0.5 0.625 0.0390625\n",
      "AH 1.375 0.5 0.75 0.078125\n",
      "AH 0.375 1.625 0.75 0.875 0.0546875\n",
      "AH 1.875 0.75 1 0.109375\n"
     ]
    },
    {
     "data": {
      "text/plain": [
       "0.75"
      ]
     },
     "execution_count": 71,
     "metadata": {},
     "output_type": "execute_result"
    }
   ],
   "source": [
    "area(0, 1)"
   ]
  }
 ],
 "metadata": {
  "kernelspec": {
   "display_name": "Python 3",
   "language": "python",
   "name": "python3"
  },
  "language_info": {
   "codemirror_mode": {
    "name": "ipython",
    "version": 3
   },
   "file_extension": ".py",
   "mimetype": "text/x-python",
   "name": "python",
   "nbconvert_exporter": "python",
   "pygments_lexer": "ipython3",
   "version": "3.9.6"
  }
 },
 "nbformat": 4,
 "nbformat_minor": 2
}
