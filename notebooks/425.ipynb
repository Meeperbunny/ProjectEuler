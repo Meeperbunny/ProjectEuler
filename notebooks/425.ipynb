{
 "cells": [
  {
   "cell_type": "code",
   "execution_count": 152,
   "id": "f2801cb9-54c6-4645-a936-41778d7858a5",
   "metadata": {},
   "outputs": [],
   "source": [
    "maxn = 10000"
   ]
  },
  {
   "cell_type": "code",
   "execution_count": 153,
   "id": "22253248-cf08-4e6b-8901-0d2050508127",
   "metadata": {},
   "outputs": [],
   "source": [
    "primes = set()\n",
    "sieve = [1 for _ in range(maxn + 1)]\n",
    "for i in range(2, maxn + 1):\n",
    "    if sieve[i]:\n",
    "        primes.add(i)\n",
    "        for q in range(i * 2, maxn + 1, i):\n",
    "            sieve[q] = 0"
   ]
  },
  {
   "cell_type": "code",
   "execution_count": 169,
   "id": "a62f0dca-8261-4cfc-a6eb-06cefd3a0955",
   "metadata": {},
   "outputs": [],
   "source": [
    "def getCon(p):\n",
    "    con = set()\n",
    "    s = str(p)\n",
    "    for i in range(len(s)):\n",
    "        for q in range(10):\n",
    "            t = s\n",
    "            t = t[:i] + str(q) + t[i + 1:]\n",
    "            sl = len(t)\n",
    "            t = int(t)\n",
    "            if len(s) == len(str(t)) and t in primes and t != p:\n",
    "                con.add(t)\n",
    "    for q in range(10):\n",
    "        t = s\n",
    "        tf = str(q) + t\n",
    "        # tl = t + str(q)\n",
    "        tf = int(tf)\n",
    "        # tl = int(tl)\n",
    "        if tf in primes and tf != p:\n",
    "            con.add(tf)\n",
    "        # if tl in primes and tl != p:\n",
    "        #     con.add(tl)\n",
    "    return con"
   ]
  },
  {
   "cell_type": "code",
   "execution_count": 170,
   "id": "8b38cf01-39d9-45a5-bbf9-87515733b3a2",
   "metadata": {},
   "outputs": [],
   "source": [
    "adj = {}\n",
    "\n",
    "for p in primes:\n",
    "    # Check primes and connect\n",
    "    for e in getCon(p):\n",
    "        if p not in adj:\n",
    "            adj[p] = set()\n",
    "        if e not in adj:\n",
    "            adj[e] = set()\n",
    "        adj[e].add(p)\n",
    "        adj[p].add(e)"
   ]
  },
  {
   "cell_type": "code",
   "execution_count": 173,
   "id": "687f53b7-d01d-4437-b549-43f5317369a2",
   "metadata": {},
   "outputs": [
    {
     "data": {
      "text/plain": [
       "{3, 13, 29, 43, 53, 73, 83, 223, 523, 823}"
      ]
     },
     "execution_count": 173,
     "metadata": {},
     "output_type": "execute_result"
    }
   ],
   "source": [
    "adj[23]"
   ]
  },
  {
   "cell_type": "code",
   "execution_count": 174,
   "id": "ed6d23ab-f61d-4484-be6d-a9e0fc1e0bd2",
   "metadata": {},
   "outputs": [],
   "source": [
    "mael = {}\n",
    "for p in primes:\n",
    "    mael[p] = maxn + 1\n",
    "mael[2] = 2\n",
    "\n",
    "Q = []\n",
    "Q.insert(0, (2, 2))\n",
    "while len(Q):\n",
    "    c, mav = Q.pop()\n",
    "    for e in adj[c]:\n",
    "        n_mav = max(mav, e)\n",
    "\n",
    "        if n_mav < mael[e]:\n",
    "            mael[e] = n_mav\n",
    "            Q.insert(0, (e, n_mav))\n",
    "    # Pass along the max element in the chain"
   ]
  },
  {
   "cell_type": "code",
   "execution_count": 176,
   "id": "c291d17b-be81-4d11-9d51-f7a308e0de18",
   "metadata": {},
   "outputs": [
    {
     "data": {
      "text/plain": [
       "78728"
      ]
     },
     "execution_count": 176,
     "metadata": {},
     "output_type": "execute_result"
    }
   ],
   "source": [
    "tot = sum(primes)\n",
    "for e in mael:\n",
    "    if e == mael[e]:\n",
    "        tot -= e\n",
    "    # else:\n",
    "    #     print(\"P\", e)\n",
    "tot"
   ]
  },
  {
   "cell_type": "code",
   "execution_count": null,
   "id": "b6fda290-511b-4779-b287-db8c8e8041d1",
   "metadata": {},
   "outputs": [],
   "source": []
  },
  {
   "cell_type": "code",
   "execution_count": null,
   "id": "e9b3658c-be78-4429-9af3-a2b86ba8f624",
   "metadata": {},
   "outputs": [],
   "source": []
  },
  {
   "cell_type": "code",
   "execution_count": null,
   "id": "a0a0fb88-ce8e-46a1-8602-81e825d58d0e",
   "metadata": {},
   "outputs": [],
   "source": []
  },
  {
   "cell_type": "code",
   "execution_count": null,
   "id": "7162ba96-817e-4724-af2d-7eca62cb6bfe",
   "metadata": {},
   "outputs": [],
   "source": []
  },
  {
   "cell_type": "code",
   "execution_count": null,
   "id": "6c36ee2e-4e04-4d17-96f2-bd961cffb713",
   "metadata": {},
   "outputs": [],
   "source": [
    "maxn = 10000\n",
    "\n",
    "primes = set()\n",
    "sieve = [1 for _ in range(maxn + 1)]\n",
    "for i in range(2, maxn + 1):\n",
    "    if sieve[i]:\n",
    "        primes.add(i)\n",
    "        for q in range(i * 2, maxn + 1, i):\n",
    "            sieve[q] = 0\n",
    "\n",
    "def getCon(p):\n",
    "    con = set()\n",
    "    s = str(p)\n",
    "    for i in range(len(s)):\n",
    "        for q in range(10):\n",
    "            t = s\n",
    "            t = t[:i] + str(q) + t[i + 1:]\n",
    "            sl = len(t)\n",
    "            t = int(t)\n",
    "            if len(s) == len(str(t)) and t in primes and t != p:\n",
    "                con.add(t)\n",
    "    for q in range(10):\n",
    "        t = s\n",
    "        tf = str(q) + t\n",
    "        # tl = t + str(q)\n",
    "        tf = int(tf)\n",
    "        # tl = int(tl)\n",
    "        if tf in primes and tf != p:\n",
    "            con.add(tf)\n",
    "        # if tl in primes and tl != p:\n",
    "        #     con.add(tl)\n",
    "    return con\n",
    "\n",
    "adj = {}\n",
    "\n",
    "for p in primes:\n",
    "    # Check primes and connect\n",
    "    for e in getCon(p):\n",
    "        if p not in adj:\n",
    "            adj[p] = set()\n",
    "        if e not in adj:\n",
    "            adj[e] = set()\n",
    "        adj[e].add(p)\n",
    "        adj[p].add(e)\n",
    "\n",
    "adj[23]\n",
    "\n",
    "mael = {}\n",
    "for p in primes:\n",
    "    mael[p] = maxn + 1\n",
    "mael[2] = 2\n",
    "\n",
    "Q = []\n",
    "Q.insert(0, (2, 2))\n",
    "while len(Q):\n",
    "    c, mav = Q.pop()\n",
    "    for e in adj[c]:\n",
    "        n_mav = max(mav, e)\n",
    "\n",
    "        if n_mav < mael[e]:\n",
    "            mael[e] = n_mav\n",
    "            Q.insert(0, (e, n_mav))\n",
    "    # Pass along the max element in the chain\n",
    "\n",
    "tot = sum(primes)\n",
    "for e in mael:\n",
    "    if e == mael[e]:\n",
    "        tot -= e\n",
    "    # else:\n",
    "    #     print(\"P\", e)\n",
    "tot"
   ]
  },
  {
   "cell_type": "code",
   "execution_count": null,
   "id": "bbcc4206-ac5f-4bce-9129-915337ef508f",
   "metadata": {},
   "outputs": [],
   "source": []
  },
  {
   "cell_type": "code",
   "execution_count": null,
   "id": "28ce66ed-3714-4002-89f2-d4af2678896d",
   "metadata": {},
   "outputs": [],
   "source": []
  }
 ],
 "metadata": {
  "kernelspec": {
   "display_name": "Python 3 (ipykernel)",
   "language": "python",
   "name": "python3"
  },
  "language_info": {
   "codemirror_mode": {
    "name": "ipython",
    "version": 3
   },
   "file_extension": ".py",
   "mimetype": "text/x-python",
   "name": "python",
   "nbconvert_exporter": "python",
   "pygments_lexer": "ipython3",
   "version": "3.12.4"
  }
 },
 "nbformat": 4,
 "nbformat_minor": 5
}
