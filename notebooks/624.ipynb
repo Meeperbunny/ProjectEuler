{
 "cells": [
  {
   "cell_type": "code",
   "execution_count": 25,
   "metadata": {},
   "outputs": [],
   "source": [
    "F = [0, 1]\n",
    "def fib(n):\n",
    "    while len(F) <= n:\n",
    "        F.append(F[-1] + F[-2])\n",
    "    # print(F, n)\n",
    "    return F[n] "
   ]
  },
  {
   "cell_type": "code",
   "execution_count": 85,
   "metadata": {},
   "outputs": [],
   "source": [
    "from fractions import Fraction"
   ]
  },
  {
   "cell_type": "code",
   "execution_count": 86,
   "metadata": {},
   "outputs": [],
   "source": [
    "def p(n):\n",
    "    return Fraction(fib(n - 1), 2**n)"
   ]
  },
  {
   "cell_type": "code",
   "execution_count": 87,
   "metadata": {},
   "outputs": [],
   "source": [
    "def ans(n):\n",
    "    print(fib(2 * n - 1), fib(fib(n * 3) - 3))\n",
    "    return (fib(2 * n - 1) + 1) / (fib(n * 3) - 3)"
   ]
  },
  {
   "cell_type": "code",
   "execution_count": 88,
   "metadata": {},
   "outputs": [
    {
     "name": "stdout",
     "output_type": "stream",
     "text": [
      "5 1346269\n"
     ]
    },
    {
     "data": {
      "text/plain": [
       "0.1935483870967742"
      ]
     },
     "execution_count": 88,
     "metadata": {},
     "output_type": "execute_result"
    }
   ],
   "source": [
    "ans(3)"
   ]
  },
  {
   "cell_type": "code",
   "execution_count": 92,
   "metadata": {},
   "outputs": [
    {
     "name": "stdout",
     "output_type": "stream",
     "text": [
      "10 17/512\n",
      "20 4181/1048576\n",
      "30 514229/1073741824\n",
      "40 31622993/549755813888\n",
      "50 7778742049/1125899906842624\n",
      "60 956722026041/1152921504606846976\n",
      "70 58834515230497/590295810358705651712\n",
      "80 14472334024676221/1208925819614629174706176\n",
      "90 1779979416004714189/1237940039285380274899124224\n"
     ]
    },
    {
     "data": {
      "text/plain": [
       "Fraction(46713325829611322601755341, 1237940039285380274899124224)"
      ]
     },
     "execution_count": 92,
     "metadata": {},
     "output_type": "execute_result"
    }
   ],
   "source": [
    "T = 0\n",
    "k = 10\n",
    "for i in range(k, 100, k):\n",
    "    print(i, p(i))\n",
    "    T += p(i)\n",
    "T"
   ]
  },
  {
   "cell_type": "code",
   "execution_count": null,
   "metadata": {},
   "outputs": [],
   "source": []
  }
 ],
 "metadata": {
  "kernelspec": {
   "display_name": "Python 3",
   "language": "python",
   "name": "python3"
  },
  "language_info": {
   "codemirror_mode": {
    "name": "ipython",
    "version": 3
   },
   "file_extension": ".py",
   "mimetype": "text/x-python",
   "name": "python",
   "nbconvert_exporter": "python",
   "pygments_lexer": "ipython3",
   "version": "3.12.4"
  }
 },
 "nbformat": 4,
 "nbformat_minor": 2
}
