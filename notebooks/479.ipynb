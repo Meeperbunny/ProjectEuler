{
 "cells": [
  {
   "cell_type": "code",
   "execution_count": 18,
   "metadata": {},
   "outputs": [],
   "source": [
    "def find_cubic_roots(a, b, c, d):\n",
    "    d_0 = b**2 - 3*a*c\n",
    "    d_1 = 2*b**3 - 9*a*b*c + 27*a**2*d\n",
    "\n",
    "    inner = (d_1**2 - 4*d_0**3)**(1/2)\n",
    "    outer_pos = ((d_1 + inner) / 2)**(1/3)\n",
    "    C = outer_pos\n",
    "    roots = []\n",
    "    # roots.append(-1/(3*a)*(b+outer_pos+(d_0/outer_pos)))\n",
    "    # roots.append(-1/(3*a)*(b+outer_neg+(d_0/outer_neg)))\n",
    "    xi = (-1 - (-3)**0.5) / 2\n",
    "    for k in range(0, 3):\n",
    "        roots.append((-1/(3*a)*(b+xi**k*C+d_0/(xi**k*C))))\n",
    "    return roots"
   ]
  },
  {
   "cell_type": "code",
   "execution_count": null,
   "metadata": {},
   "outputs": [],
   "source": []
  },
  {
   "cell_type": "code",
   "execution_count": 50,
   "metadata": {},
   "outputs": [],
   "source": [
    "def S(n):\n",
    "    T = 0\n",
    "    for p in range(1, n + 1):\n",
    "        for k in range(1, n + 1):\n",
    "            a, b, c = find_cubic_roots(k, -k**2, 1, -k**3)\n",
    "            if p == 1:\n",
    "                print(k, round(((a + b)**p * (b + c)**p * (a + c)**p).real))\n",
    "            T += (a + b)**p * (b + c)**p * (a + c)**p\n",
    "    return round(T.real)"
   ]
  },
  {
   "cell_type": "code",
   "execution_count": 51,
   "metadata": {},
   "outputs": [
    {
     "ename": "SyntaxError",
     "evalue": "incomplete input (1859589958.py, line 5)",
     "output_type": "error",
     "traceback": [
      "\u001b[1;36m  Cell \u001b[1;32mIn[51], line 5\u001b[1;36m\u001b[0m\n\u001b[1;33m    \u001b[0m\n\u001b[1;37m    ^\u001b[0m\n\u001b[1;31mSyntaxError\u001b[0m\u001b[1;31m:\u001b[0m incomplete input\n"
     ]
    }
   ],
   "source": [
    "def ans(n):\n",
    "    T = 0\n",
    "    for p in range(1, n + 1):\n",
    "        for k in range(1, n + 1):\n",
    "            "
   ]
  },
  {
   "cell_type": "code",
   "execution_count": 62,
   "metadata": {},
   "outputs": [],
   "source": [
    "def ser(k, n, m):\n",
    "    return (pow(k, n + 1, m) - k + m) * (pow(k - 1, -1, m)) % m"
   ]
  },
  {
   "cell_type": "code",
   "execution_count": null,
   "metadata": {},
   "outputs": [],
   "source": [
    "def ans(N):\n",
    "    T = 0\n",
    "    m = int(1e9+7)\n",
    "    for i in range(1, N + 1):\n",
    "        k = 1 - i * i\n",
    "        T += (pow(k, N + 1, m) - k) * pow(k - 1, -1, m) % m\n",
    "    return T % m"
   ]
  },
  {
   "cell_type": "code",
   "execution_count": 5,
   "metadata": {},
   "outputs": [
    {
     "data": {
      "text/plain": [
       "191541795"
      ]
     },
     "execution_count": 5,
     "metadata": {},
     "output_type": "execute_result"
    }
   ],
   "source": [
    "ans(10**6)"
   ]
  },
  {
   "cell_type": "code",
   "execution_count": 6,
   "metadata": {},
   "outputs": [
    {
     "ename": "NameError",
     "evalue": "name 'S' is not defined",
     "output_type": "error",
     "traceback": [
      "\u001b[1;31m---------------------------------------------------------------------------\u001b[0m",
      "\u001b[1;31mNameError\u001b[0m                                 Traceback (most recent call last)",
      "Cell \u001b[1;32mIn[6], line 2\u001b[0m\n\u001b[0;32m      1\u001b[0m m \u001b[38;5;241m=\u001b[39m (\u001b[38;5;28mint\u001b[39m(\u001b[38;5;241m1e9\u001b[39m\u001b[38;5;241m+\u001b[39m\u001b[38;5;241m7\u001b[39m))\n\u001b[1;32m----> 2\u001b[0m (\u001b[43mS\u001b[49m(\u001b[38;5;241m12\u001b[39m) \u001b[38;5;241m+\u001b[39m m) \u001b[38;5;241m%\u001b[39m m\n",
      "\u001b[1;31mNameError\u001b[0m: name 'S' is not defined"
     ]
    }
   ],
   "source": [
    "m = (int(1e9+7))\n",
    "(S(12) + m) % m"
   ]
  },
  {
   "cell_type": "code",
   "execution_count": 80,
   "metadata": {},
   "outputs": [
    {
     "data": {
      "text/plain": [
       "503680495"
      ]
     },
     "execution_count": 80,
     "metadata": {},
     "output_type": "execute_result"
    }
   ],
   "source": [
    "82403401799819048064647168 % (int(1e9+7))"
   ]
  },
  {
   "cell_type": "code",
   "execution_count": 78,
   "metadata": {},
   "outputs": [
    {
     "data": {
      "text/plain": [
       "933011256"
      ]
     },
     "execution_count": 78,
     "metadata": {},
     "output_type": "execute_result"
    }
   ],
   "source": [
    "ans(12)"
   ]
  },
  {
   "cell_type": "code",
   "execution_count": 53,
   "metadata": {},
   "outputs": [
    {
     "name": "stdout",
     "output_type": "stream",
     "text": [
      "1 0\n",
      "2 -3\n",
      "3 -8\n",
      "4 -15\n",
      "5 -24\n",
      "6 -35\n",
      "7 -48\n",
      "8 -63\n",
      "9 -80\n",
      "10 -99\n",
      "11 -120\n",
      "12 -143\n",
      "13 -168\n",
      "14 -195\n",
      "15 -224\n"
     ]
    },
    {
     "data": {
      "text/plain": [
       "-203471446476623614937463089149247488"
      ]
     },
     "execution_count": 53,
     "metadata": {},
     "output_type": "execute_result"
    }
   ],
   "source": [
    "S(15)"
   ]
  }
 ],
 "metadata": {
  "kernelspec": {
   "display_name": "Python 3",
   "language": "python",
   "name": "python3"
  },
  "language_info": {
   "codemirror_mode": {
    "name": "ipython",
    "version": 3
   },
   "file_extension": ".py",
   "mimetype": "text/x-python",
   "name": "python",
   "nbconvert_exporter": "python",
   "pygments_lexer": "ipython3",
   "version": "3.12.4"
  }
 },
 "nbformat": 4,
 "nbformat_minor": 2
}
