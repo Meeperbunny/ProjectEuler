{
 "cells": [
  {
   "cell_type": "code",
   "execution_count": 1,
   "id": "fa54cf61-734b-4854-a37f-7ffb5e68fe33",
   "metadata": {},
   "outputs": [],
   "source": [
    "cards = [1, 1, 1, 1, 2, 2, 2, 2]"
   ]
  },
  {
   "cell_type": "code",
   "execution_count": 2,
   "id": "26684f19-a421-4d9f-a251-fc0bbfbaa9db",
   "metadata": {},
   "outputs": [],
   "source": [
    "from itertools import permutations"
   ]
  },
  {
   "cell_type": "code",
   "execution_count": 6,
   "id": "733713c3-e913-49c0-9af8-ed2ac3c6729b",
   "metadata": {},
   "outputs": [
    {
     "data": {
      "text/plain": [
       "1.9714285714285715"
      ]
     },
     "execution_count": 6,
     "metadata": {},
     "output_type": "execute_result"
    }
   ],
   "source": [
    "t = 0\n",
    "for p in set(permutations(cards)):\n",
    "    if p == (1, 1, 1, 1, 2, 2, 2, 2):\n",
    "        t += 1\n",
    "        continue\n",
    "    if p == (2, 2, 2, 2, 1, 1, 1, 1):\n",
    "        t += 1\n",
    "        continue\n",
    "    t += 2\n",
    "t / (len(set(permutations(cards))))"
   ]
  },
  {
   "cell_type": "code",
   "execution_count": null,
   "id": "58efb024-6f99-43c5-894b-e6046188460d",
   "metadata": {},
   "outputs": [],
   "source": [
    "c = 2\n",
    "cc = 4 * c\n",
    "cards = [0 for _ in range(cc)]\n",
    "for a in range(cc):\n",
    "    for b in range(a + 1, cc):\n",
    "        for c in range(b + 1, cc)"
   ]
  }
 ],
 "metadata": {
  "kernelspec": {
   "display_name": "Python 3 (ipykernel)",
   "language": "python",
   "name": "python3"
  },
  "language_info": {
   "codemirror_mode": {
    "name": "ipython",
    "version": 3
   },
   "file_extension": ".py",
   "mimetype": "text/x-python",
   "name": "python",
   "nbconvert_exporter": "python",
   "pygments_lexer": "ipython3",
   "version": "3.12.4"
  }
 },
 "nbformat": 4,
 "nbformat_minor": 5
}
