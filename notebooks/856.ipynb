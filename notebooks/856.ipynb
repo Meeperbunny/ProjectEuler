{
 "cells": [
  {
   "cell_type": "code",
   "execution_count": 33,
   "id": "a096c4df",
   "metadata": {},
   "outputs": [],
   "source": [
    "from random import shuffle"
   ]
  },
  {
   "cell_type": "code",
   "execution_count": 61,
   "id": "072830ae",
   "metadata": {},
   "outputs": [],
   "source": [
    "# lk is the ev of starting at some state X\n",
    "lk = {\n",
    "    (0, 0, 0, 0, -1): 0,\n",
    "}"
   ]
  },
  {
   "cell_type": "code",
   "execution_count": 157,
   "id": "cd86c9e8-8ff9-43c5-b691-c9b4cc7d667e",
   "metadata": {},
   "outputs": [
    {
     "name": "stdout",
     "output_type": "stream",
     "text": [
      "0 0 0.3333333333333333 0.0 ev 0.3333333333333333\n",
      "(0, 1, 0, 0, -1) 2.0\n",
      "1 0 0 0.6666666666666666 ev 1.6666666666666665\n",
      "(2, 0, 0, 0, 0) 1.5\n"
     ]
    }
   ],
   "source": [
    "for four_count in range(0, 13 + 1):\n",
    "    for three_count in range(0, 13 + 1):\n",
    "        for two_count in range(0, 13 + 1):\n",
    "            for one_count in range(0, 13 + 1):\n",
    "                for last_in in range(-1, 4):\n",
    "                    ev = 0\n",
    "                    for next_draw in range(0, 4):\n",
    "                        # If last_in is -1, there was no last.\n",
    "                        c = (one_count, two_count, three_count, four_count)\n",
    "                        p = (one_count == 1 and two_count == 1 and three_count + four_count == 0 and last_in == 0)\n",
    "                        if sum(c) > 13:\n",
    "                            continue\n",
    "                        if c[next_draw] == 0:\n",
    "                            continue\n",
    "                        if last_in >= 0 and c[last_in] == 0:\n",
    "                            continue\n",
    "                        tot_cards = one_count * 1 + two_count * 2 + three_count * 3 + four_count * 4\n",
    "\n",
    "                        p_done = 0\n",
    "                        if last_in != -1 and last_in == next_draw:\n",
    "                            p_done = (last_in + 1) / tot_cards\n",
    "                        p_norm = c[next_draw] * (next_draw + 1) / tot_cards\n",
    "                        if last_in == next_draw:\n",
    "                            p_norm -= p_done\n",
    "                        \n",
    "                        cc = list(c)\n",
    "                        cc[next_draw] -= 1\n",
    "                        if next_draw:\n",
    "                            cc[next_draw - 1] += 1\n",
    "                        \n",
    "                        next_last = next_draw - 1\n",
    "\n",
    "                        cc = tuple(cc + [next_last])\n",
    "                        # print(next_draw, last_in, c, cc)\n",
    "                        ev += p_done * (1) + p_norm * (1 + lk[cc])\n",
    "\n",
    "                        if p:\n",
    "                            print(next_draw, last_in, p_done, p_norm, \"ev\", p_done * (1) + p_norm * (1 + lk[cc]))\n",
    "                            print(cc, lk[cc])\n",
    "                    lk[tuple(list(c) + [last_in])] = ev"
   ]
  },
  {
   "cell_type": "code",
   "execution_count": 216,
   "id": "3db026ea",
   "metadata": {},
   "outputs": [
    {
     "data": {
      "text/plain": [
       "17.096615010101154"
      ]
     },
     "execution_count": 216,
     "metadata": {},
     "output_type": "execute_result"
    }
   ],
   "source": [
    "lk[(0, 0, 0, 13, -1)]"
   ]
  },
  {
   "cell_type": "code",
   "execution_count": null,
   "id": "5b2c3aee",
   "metadata": {},
   "outputs": [],
   "source": [
    "3 4 3 -> 3\n",
    "4 3 3 -> 2\n",
    "3 3 4 -> 1"
   ]
  },
  {
   "cell_type": "code",
   "execution_count": null,
   "id": "4dc3bbbf",
   "metadata": {},
   "outputs": [],
   "source": [
    "deck = [1m 2m"
   ]
  },
  {
   "cell_type": "code",
   "execution_count": null,
   "id": "314d4b7d",
   "metadata": {},
   "outputs": [
    {
     "data": {
      "text/plain": [
       "8.01069"
      ]
     },
     "execution_count": 207,
     "metadata": {},
     "output_type": "execute_result"
    }
   ],
   "source": [
    "sim(deck)"
   ]
  },
  {
   "cell_type": "code",
   "execution_count": 217,
   "id": "70ecb7f4",
   "metadata": {},
   "outputs": [
    {
     "data": {
      "text/plain": [
       "17.02984"
      ]
     },
     "execution_count": 217,
     "metadata": {},
     "output_type": "execute_result"
    }
   ],
   "source": [
    "suit = [1, 2, 3, 4, 5, 6, 7, 8, 9, 10, 11, 12, 13]\n",
    "deck = suit + suit + suit + suit\n",
    "sim(deck)\n"
   ]
  },
  {
   "cell_type": "code",
   "execution_count": 183,
   "id": "f8c3b78c",
   "metadata": {},
   "outputs": [],
   "source": [
    "def sim(deck):\n",
    "    trials = 100000\n",
    "    ev = 0\n",
    "    for t in range(trials):\n",
    "        shuffle(deck)\n",
    "        l = -1\n",
    "        cnt = 0\n",
    "        for c in deck:\n",
    "            cnt += 1\n",
    "            if c == l:\n",
    "                break\n",
    "            l = c\n",
    "        ev += cnt\n",
    "        # print(deck, cnt)\n",
    "    return ev / trials"
   ]
  },
  {
   "cell_type": "code",
   "execution_count": 28,
   "id": "d6716df6",
   "metadata": {},
   "outputs": [
    {
     "data": {
      "text/plain": [
       "13.53846153846154"
      ]
     },
     "execution_count": 28,
     "metadata": {},
     "output_type": "execute_result"
    }
   ],
   "source": [
    "lk[(12, 1, 0, 0)]"
   ]
  }
 ],
 "metadata": {
  "kernelspec": {
   "display_name": "Python 3",
   "language": "python",
   "name": "python3"
  },
  "language_info": {
   "codemirror_mode": {
    "name": "ipython",
    "version": 3
   },
   "file_extension": ".py",
   "mimetype": "text/x-python",
   "name": "python",
   "nbconvert_exporter": "python",
   "pygments_lexer": "ipython3",
   "version": "3.12.4"
  }
 },
 "nbformat": 4,
 "nbformat_minor": 5
}
