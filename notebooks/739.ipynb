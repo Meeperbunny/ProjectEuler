{
 "cells": [
  {
   "cell_type": "code",
   "execution_count": 8,
   "metadata": {},
   "outputs": [
    {
     "name": "stdout",
     "output_type": "stream",
     "text": [
      "0 [0, 2, 2, 1, 0, 0, 0, 0, 0, 0] 5\n",
      "1 [0, 5, 5, 3, 1, 0, 0, 0, 0, 0] 14\n",
      "2 [0, 9, 9, 6, 3, 1, 0, 0, 0, 0] 28\n",
      "3 [0, 14, 14, 10, 6, 3, 1, 0, 0, 0] 48\n",
      "4 [0, 20, 20, 15, 10, 6, 3, 1, 0, 0] 75\n",
      "5 [0, 27, 27, 21, 15, 10, 6, 3, 1, 0] 110\n",
      "6 [0, 35, 35, 28, 21, 15, 10, 6, 3, 1] 154\n",
      "7 [0, 44, 44, 36, 28, 21, 15, 10, 6, 3] 207\n",
      "8 [0, 53, 53, 44, 35, 27, 20, 14, 9, 5] 260\n",
      "9 [0, 53, 53, 44, 35, 27, 20, 14, 9, 5] 260\n"
     ]
    }
   ],
   "source": [
    "n = 10\n",
    "a = [i for i in range(n)]\n",
    "cnts = [[[0 for _ in range(n)] for _ in range(n)] for _ in range(n)]\n",
    "for i in range(n):\n",
    "    cnts[0][i][i] = 1\n",
    "\n",
    "for i in range(1, n):\n",
    "    for k in range(0, n):\n",
    "        for q in range(1, min(n, k + 2)):\n",
    "            for j in range(0, 10):\n",
    "                cnts[i][k][j] += cnts[i - 1][q][j]\n",
    "level = 3\n",
    "for i in range(n):\n",
    "    print(i, cnts[level][i], sum(cnts[level][i]))"
   ]
  },
  {
   "cell_type": "code",
   "execution_count": 13,
   "metadata": {},
   "outputs": [],
   "source": [
    "def fac(n):\n",
    "    return fac(n - 1) * n if n else 1"
   ]
  },
  {
   "cell_type": "code",
   "execution_count": 15,
   "metadata": {},
   "outputs": [],
   "source": [
    "def comb(n, k):\n",
    "    return fac(n) // fac(n - k) // fac(k)"
   ]
  },
  {
   "cell_type": "code",
   "execution_count": null,
   "metadata": {},
   "outputs": [
    {
     "data": {
      "text/plain": [
       "6"
      ]
     },
     "execution_count": 29,
     "metadata": {},
     "output_type": "execute_result"
    }
   ],
   "source": [
    "def P(n, k):\n",
    "    if n <= 0 or k <= 0:\n",
    "        return 0\n",
    "    return comb(n + k - 2, k - 1)\n",
    "P(3, 3)"
   ]
  },
  {
   "cell_type": "code",
   "execution_count": 41,
   "metadata": {},
   "outputs": [
    {
     "data": {
      "text/plain": [
       "14"
      ]
     },
     "execution_count": 41,
     "metadata": {},
     "output_type": "execute_result"
    }
   ],
   "source": [
    "def C(a, b):\n",
    "    if b < a:\n",
    "        return 0\n",
    "    return P(a, b) - P(a - 1, b + 1)\n",
    "C(5, 5)"
   ]
  },
  {
   "cell_type": "code",
   "execution_count": 44,
   "metadata": {},
   "outputs": [
    {
     "name": "stdout",
     "output_type": "stream",
     "text": [
      "0 14\n",
      "1 14\n",
      "2 9\n",
      "3 4\n",
      "4 1\n"
     ]
    }
   ],
   "source": [
    "def cont(i, n):\n",
    "    return C(n - i, n)\n",
    "for i in range(5):\n",
    "    print(i, cont(i, 5))"
   ]
  },
  {
   "cell_type": "code",
   "execution_count": 56,
   "metadata": {},
   "outputs": [
    {
     "data": {
      "text/plain": [
       "2663"
      ]
     },
     "execution_count": 56,
     "metadata": {},
     "output_type": "execute_result"
    }
   ],
   "source": [
    "N = 8\n",
    "a, b = 1, 3\n",
    "t = 0\n",
    "la = cont(0, N)\n",
    "for i in range(1, N + 1):\n",
    "    nx = cont(i, N)\n",
    "    diff = la - nx\n",
    "    la = nx\n",
    "    t += a * diff\n",
    "    a, b = b, a + b\n",
    "t"
   ]
  },
  {
   "cell_type": "code",
   "execution_count": 106,
   "metadata": {},
   "outputs": [],
   "source": [
    "N = 10**8"
   ]
  },
  {
   "cell_type": "code",
   "execution_count": null,
   "metadata": {},
   "outputs": [],
   "source": [
    "mod = int(1e9+7)\n",
    "fac = [1 for _ in range(2 * N + 10)]\n",
    "ifac = [1 for _ in range(2 * N + 10)]\n",
    "for i in range(1, len(fac)):\n",
    "    fac[i] = (fac[i - 1] * i) % mod\n",
    "    ifac[i] = pow(fac[i], -1, mod)\n",
    "def comb(n, k):\n",
    "    return (fac[n] * ifac[n - k] * ifac[k]) % mod"
   ]
  },
  {
   "cell_type": "code",
   "execution_count": null,
   "metadata": {},
   "outputs": [
    {
     "name": "stdout",
     "output_type": "stream",
     "text": [
      "4 2 2\n"
     ]
    },
    {
     "data": {
      "text/plain": [
       "6"
      ]
     },
     "execution_count": 102,
     "metadata": {},
     "output_type": "execute_result"
    }
   ],
   "source": [
    "def P(n, k):\n",
    "    if n <= 0 or k <= 0:\n",
    "        return 0\n",
    "    return comb(n + k - 2, k - 1)\n",
    "P(3, 3)"
   ]
  },
  {
   "cell_type": "code",
   "execution_count": null,
   "metadata": {},
   "outputs": [
    {
     "name": "stdout",
     "output_type": "stream",
     "text": [
      "8 4 4\n",
      "8 5 3\n"
     ]
    },
    {
     "data": {
      "text/plain": [
       "14"
      ]
     },
     "execution_count": 103,
     "metadata": {},
     "output_type": "execute_result"
    }
   ],
   "source": [
    "def C(a, b):\n",
    "    if b < a:\n",
    "        return 0\n",
    "    return (P(a, b) - P(a - 1, b + 1) + mod) % mod\n",
    "C(5, 5)"
   ]
  },
  {
   "cell_type": "code",
   "execution_count": null,
   "metadata": {},
   "outputs": [],
   "source": [
    "def cont(i, n):\n",
    "    return C(n - i, n)"
   ]
  },
  {
   "cell_type": "code",
   "execution_count": null,
   "metadata": {},
   "outputs": [
    {
     "name": "stdout",
     "output_type": "stream",
     "text": [
      "199999998 99999999 99999999\n"
     ]
    },
    {
     "ename": "IndexError",
     "evalue": "list index out of range",
     "output_type": "error",
     "traceback": [
      "\u001b[1;31m---------------------------------------------------------------------------\u001b[0m",
      "\u001b[1;31mIndexError\u001b[0m                                Traceback (most recent call last)",
      "Cell \u001b[1;32mIn[108], line 3\u001b[0m\n\u001b[0;32m      1\u001b[0m a, b \u001b[38;5;241m=\u001b[39m \u001b[38;5;241m1\u001b[39m, \u001b[38;5;241m3\u001b[39m\n\u001b[0;32m      2\u001b[0m t \u001b[38;5;241m=\u001b[39m \u001b[38;5;241m0\u001b[39m\n\u001b[1;32m----> 3\u001b[0m la \u001b[38;5;241m=\u001b[39m \u001b[43mcont\u001b[49m\u001b[43m(\u001b[49m\u001b[38;5;241;43m0\u001b[39;49m\u001b[43m,\u001b[49m\u001b[43m \u001b[49m\u001b[43mN\u001b[49m\u001b[43m)\u001b[49m\n\u001b[0;32m      4\u001b[0m \u001b[38;5;28;01mfor\u001b[39;00m i \u001b[38;5;129;01min\u001b[39;00m \u001b[38;5;28mrange\u001b[39m(\u001b[38;5;241m1\u001b[39m, N \u001b[38;5;241m+\u001b[39m \u001b[38;5;241m1\u001b[39m):\n\u001b[0;32m      5\u001b[0m     nx \u001b[38;5;241m=\u001b[39m cont(i, N)\n",
      "Cell \u001b[1;32mIn[104], line 2\u001b[0m, in \u001b[0;36mcont\u001b[1;34m(i, n)\u001b[0m\n\u001b[0;32m      1\u001b[0m \u001b[38;5;28;01mdef\u001b[39;00m \u001b[38;5;21mcont\u001b[39m(i, n):\n\u001b[1;32m----> 2\u001b[0m     \u001b[38;5;28;01mreturn\u001b[39;00m \u001b[43mC\u001b[49m\u001b[43m(\u001b[49m\u001b[43mn\u001b[49m\u001b[43m \u001b[49m\u001b[38;5;241;43m-\u001b[39;49m\u001b[43m \u001b[49m\u001b[43mi\u001b[49m\u001b[43m,\u001b[49m\u001b[43m \u001b[49m\u001b[43mn\u001b[49m\u001b[43m)\u001b[49m\n",
      "Cell \u001b[1;32mIn[103], line 4\u001b[0m, in \u001b[0;36mC\u001b[1;34m(a, b)\u001b[0m\n\u001b[0;32m      2\u001b[0m \u001b[38;5;28;01mif\u001b[39;00m b \u001b[38;5;241m<\u001b[39m a:\n\u001b[0;32m      3\u001b[0m     \u001b[38;5;28;01mreturn\u001b[39;00m \u001b[38;5;241m0\u001b[39m\n\u001b[1;32m----> 4\u001b[0m \u001b[38;5;28;01mreturn\u001b[39;00m (\u001b[43mP\u001b[49m\u001b[43m(\u001b[49m\u001b[43ma\u001b[49m\u001b[43m,\u001b[49m\u001b[43m \u001b[49m\u001b[43mb\u001b[49m\u001b[43m)\u001b[49m \u001b[38;5;241m-\u001b[39m P(a \u001b[38;5;241m-\u001b[39m \u001b[38;5;241m1\u001b[39m, b \u001b[38;5;241m+\u001b[39m \u001b[38;5;241m1\u001b[39m) \u001b[38;5;241m+\u001b[39m mod) \u001b[38;5;241m%\u001b[39m mod\n",
      "Cell \u001b[1;32mIn[102], line 4\u001b[0m, in \u001b[0;36mP\u001b[1;34m(n, k)\u001b[0m\n\u001b[0;32m      2\u001b[0m \u001b[38;5;28;01mif\u001b[39;00m n \u001b[38;5;241m<\u001b[39m\u001b[38;5;241m=\u001b[39m \u001b[38;5;241m0\u001b[39m \u001b[38;5;129;01mor\u001b[39;00m k \u001b[38;5;241m<\u001b[39m\u001b[38;5;241m=\u001b[39m \u001b[38;5;241m0\u001b[39m:\n\u001b[0;32m      3\u001b[0m     \u001b[38;5;28;01mreturn\u001b[39;00m \u001b[38;5;241m0\u001b[39m\n\u001b[1;32m----> 4\u001b[0m \u001b[38;5;28;01mreturn\u001b[39;00m \u001b[43mcomb\u001b[49m\u001b[43m(\u001b[49m\u001b[43mn\u001b[49m\u001b[43m \u001b[49m\u001b[38;5;241;43m+\u001b[39;49m\u001b[43m \u001b[49m\u001b[43mk\u001b[49m\u001b[43m \u001b[49m\u001b[38;5;241;43m-\u001b[39;49m\u001b[43m \u001b[49m\u001b[38;5;241;43m2\u001b[39;49m\u001b[43m,\u001b[49m\u001b[43m \u001b[49m\u001b[43mk\u001b[49m\u001b[43m \u001b[49m\u001b[38;5;241;43m-\u001b[39;49m\u001b[43m \u001b[49m\u001b[38;5;241;43m1\u001b[39;49m\u001b[43m)\u001b[49m\n",
      "Cell \u001b[1;32mIn[107], line 9\u001b[0m, in \u001b[0;36mcomb\u001b[1;34m(n, k)\u001b[0m\n\u001b[0;32m      7\u001b[0m \u001b[38;5;28;01mdef\u001b[39;00m \u001b[38;5;21mcomb\u001b[39m(n, k):\n\u001b[0;32m      8\u001b[0m     \u001b[38;5;28mprint\u001b[39m(n, k, n \u001b[38;5;241m-\u001b[39m k)\n\u001b[1;32m----> 9\u001b[0m     \u001b[38;5;28;01mreturn\u001b[39;00m (fac[n] \u001b[38;5;241m*\u001b[39m \u001b[43mifac\u001b[49m\u001b[43m[\u001b[49m\u001b[43mn\u001b[49m\u001b[43m \u001b[49m\u001b[38;5;241;43m-\u001b[39;49m\u001b[43m \u001b[49m\u001b[43mk\u001b[49m\u001b[43m]\u001b[49m \u001b[38;5;241m*\u001b[39m ifac[k]) \u001b[38;5;241m%\u001b[39m mod\n",
      "\u001b[1;31mIndexError\u001b[0m: list index out of range"
     ]
    }
   ],
   "source": [
    "a, b = 1, 3\n",
    "t = 0\n",
    "la = cont(0, N)\n",
    "for i in range(1, N + 1):\n",
    "    nx = cont(i, N)\n",
    "    diff = (la - nx + mod) % mod\n",
    "    la = nx\n",
    "    t = (t + a * diff) % mod\n",
    "    a, b = b, (a + b) % mod\n",
    "t"
   ]
  },
  {
   "cell_type": "code",
   "execution_count": null,
   "metadata": {},
   "outputs": [],
   "source": []
  },
  {
   "cell_type": "code",
   "execution_count": null,
   "metadata": {},
   "outputs": [],
   "source": []
  },
  {
   "cell_type": "code",
   "execution_count": null,
   "metadata": {},
   "outputs": [],
   "source": []
  },
  {
   "cell_type": "code",
   "execution_count": null,
   "metadata": {},
   "outputs": [],
   "source": [
    "N = 10**8\n",
    "mod = int(1e9+7)\n",
    "fac = [1 for _ in range(2 * N + 10)]\n",
    "ifac = [1 for _ in range(2 * N + 10)]\n",
    "for i in range(1, len(fac)):\n",
    "    fac[i] = (fac[i - 1] * i) % mod\n",
    "    ifac[i] = pow(fac[i], -1, mod)\n",
    "def comb(n, k):\n",
    "    return (fac[n] * ifac[n - k] * ifac[k]) % mod\n",
    "def P(n, k):\n",
    "    if n <= 0 or k <= 0:\n",
    "        return 0\n",
    "    return comb(n + k - 2, k - 1)\n",
    "P(3, 3)\n",
    "def C(a, b):\n",
    "    if b < a:\n",
    "        return 0\n",
    "    return (P(a, b) - P(a - 1, b + 1) + mod) % mod\n",
    "C(5, 5)\n",
    "def cont(i, n):\n",
    "    return C(n - i, n)\n",
    "a, b = 1, 3\n",
    "t = 0\n",
    "la = cont(0, N)\n",
    "for i in range(1, N + 1):\n",
    "    nx = cont(i, N)\n",
    "    diff = (la - nx + mod) % mod\n",
    "    la = nx\n",
    "    t = (t + a * diff) % mod\n",
    "    a, b = b, (a + b) % mod\n",
    "t\n"
   ]
  }
 ],
 "metadata": {
  "kernelspec": {
   "display_name": "Python 3",
   "language": "python",
   "name": "python3"
  },
  "language_info": {
   "codemirror_mode": {
    "name": "ipython",
    "version": 3
   },
   "file_extension": ".py",
   "mimetype": "text/x-python",
   "name": "python",
   "nbconvert_exporter": "python",
   "pygments_lexer": "ipython3",
   "version": "3.12.4"
  }
 },
 "nbformat": 4,
 "nbformat_minor": 2
}
