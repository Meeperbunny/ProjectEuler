{
 "cells": [
  {
   "cell_type": "code",
   "execution_count": 1,
   "metadata": {},
   "outputs": [],
   "source": [
    "from tqdm.notebook import trange"
   ]
  },
  {
   "cell_type": "code",
   "execution_count": 48,
   "metadata": {},
   "outputs": [],
   "source": [
    "from math import gcd"
   ]
  },
  {
   "cell_type": "code",
   "execution_count": null,
   "metadata": {},
   "outputs": [
    {
     "data": {
      "application/vnd.jupyter.widget-view+json": {
       "model_id": "c6a93c73200d433187d2d255e6053d32",
       "version_major": 2,
       "version_minor": 0
      },
      "text/plain": [
       "  0%|          | 0/7999 [00:00<?, ?it/s]"
      ]
     },
     "metadata": {},
     "output_type": "display_data"
    }
   ],
   "source": [
    "s = {}\n",
    "for x in trange(1, 8000):\n",
    "    for y in range(1, x):\n",
    "        # if gcd(x, y) ==1 and (x+y)^1:\n",
    "        #     print(x, y, (x**4-y**4)// (x**3 + y**3), 2*x - 2*y - 1)\n",
    "        n, d = (x**4-y**4), (x**3 + y**3)\n",
    "        if n % d == 0:\n",
    "            if n * d > 0:\n",
    "                num = n // d\n",
    "                # print(x, y, num)\n",
    "                if num not in s:\n",
    "                    s[num] = []\n",
    "                s[num].append((x, y))\n"
   ]
  },
  {
   "cell_type": "code",
   "execution_count": null,
   "metadata": {},
   "outputs": [],
   "source": [
    "from random import randint\n",
    "def miller_rabin(n, k=5):\n",
    "    if n <= 1:\n",
    "        return False\n",
    "    if n == 2 or n == 3:\n",
    "        return True\n",
    "    d = n - 1\n",
    "    s = 0\n",
    "    while d % 2 == 0:\n",
    "        d //= 2\n",
    "        s += 1\n",
    "    \n",
    "    y = 0\n",
    "    for _ in range(k):\n",
    "        a = randint(2, n - 2)\n",
    "        x = pow(a, d, n)\n",
    "        for _ in range(s):\n",
    "            y = pow(x, 2, n)\n",
    "            if y == 1 and x != 1 and x != n - 1:\n",
    "                return False\n",
    "            x = y\n",
    "        if y != 1:\n",
    "            return False\n",
    "    return True"
   ]
  },
  {
   "cell_type": "code",
   "execution_count": null,
   "metadata": {},
   "outputs": [],
   "source": []
  },
  {
   "cell_type": "code",
   "execution_count": 155,
   "metadata": {},
   "outputs": [
    {
     "name": "stdout",
     "output_type": "stream",
     "text": [
      "5\n",
      "(6, 3) 5 3 1.0\n",
      "13\n",
      "(21, 14) 13 7 2.0\n",
      "41\n",
      "(105, 84) 41 21 4.0\n",
      "61\n",
      "(186, 155) 61 31 5.0\n",
      "113\n",
      "(456, 399) 113 57 7.0\n",
      "181\n",
      "(910, 819) 181 91 9.0\n",
      "313\n",
      "(2041, 1884) 313 157 12.0\n",
      "421\n",
      "(3165, 2954) 421 211 14.0\n",
      "613\n",
      "(5526, 5219) 613 307 17.0\n",
      "761\n",
      "(7620, 7239) 761 381 19.0\n"
     ]
    }
   ],
   "source": [
    "from fractions import Fraction\n",
    "v_f = {}\n",
    "for e in s:\n",
    "    if not miller_rabin(e):\n",
    "        continue\n",
    "    print(e)\n",
    "    for q in s[e]:\n",
    "        F = Fraction(q[0], q[1])\n",
    "        if F not in v_f:\n",
    "            v_f[F] = (q[0], q[1])\n",
    "        if q[0] < v_f[F][0]:\n",
    "            v_f[F] = (q[0], q[1])\n",
    "        x,y =q\n",
    "        nu = (x**4-y**4)// (x**3 + y**3)\n",
    "        print(q, nu, x - y, y / (x - y))"
   ]
  },
  {
   "cell_type": "code",
   "execution_count": null,
   "metadata": {},
   "outputs": [
    {
     "name": "stdout",
     "output_type": "stream",
     "text": [
      "Done at k = 158119\n"
     ]
    },
    {
     "data": {
      "text/plain": [
       "19308"
      ]
     },
     "execution_count": 181,
     "metadata": {},
     "output_type": "execute_result"
    }
   ],
   "source": [
    "from random import randint\n",
    "def miller_rabin(n, k=5):\n",
    "    if n <= 1:\n",
    "        return False\n",
    "    if n == 2 or n == 3:\n",
    "        return True\n",
    "    d = n - 1\n",
    "    s = 0\n",
    "    while d % 2 == 0:\n",
    "        d //= 2\n",
    "        s += 1\n",
    "    \n",
    "    y = 0\n",
    "    for _ in range(k):\n",
    "        a = randint(2, n - 2)\n",
    "        x = pow(a, d, n)\n",
    "        for _ in range(s):\n",
    "            y = pow(x, 2, n)\n",
    "            if y == 1 and x != 1 and x != n - 1:\n",
    "                return False\n",
    "            x = y\n",
    "        if y != 1:\n",
    "            return False\n",
    "    return True\n",
    "ma = 5 * 10**10\n",
    "nums = []\n",
    "k = 1\n",
    "C = 0\n",
    "while True:\n",
    "    if miller_rabin(k**2 + (k+1)**2):\n",
    "        b = (k) * (k + 1) + 1\n",
    "        dub = b * 2 - 2\n",
    "        x, y = b * k + b, b * k\n",
    "        num = (x**4 - y**4) / (x**3 + y**3)\n",
    "        if num > ma:\n",
    "            print(\"Done at k = {}\".format(k))\n",
    "            break\n",
    "        C += 1\n",
    "    k += 1\n",
    "C"
   ]
  },
  {
   "cell_type": "code",
   "execution_count": null,
   "metadata": {},
   "outputs": [],
   "source": []
  },
  {
   "cell_type": "code",
   "execution_count": null,
   "metadata": {},
   "outputs": [],
   "source": []
  },
  {
   "cell_type": "code",
   "execution_count": 150,
   "metadata": {},
   "outputs": [
    {
     "data": {
      "text/plain": [
       "12.0"
      ]
     },
     "execution_count": 150,
     "metadata": {},
     "output_type": "execute_result"
    }
   ],
   "source": [
    "1884 / 157"
   ]
  },
  {
   "cell_type": "code",
   "execution_count": null,
   "metadata": {},
   "outputs": [],
   "source": [
    "Y > X\n",
    "D = Y - X\n",
    "4x + 2d - 1"
   ]
  },
  {
   "cell_type": "code",
   "execution_count": null,
   "metadata": {},
   "outputs": [],
   "source": []
  },
  {
   "cell_type": "code",
   "execution_count": null,
   "metadata": {},
   "outputs": [],
   "source": []
  },
  {
   "cell_type": "code",
   "execution_count": 130,
   "metadata": {},
   "outputs": [
    {
     "name": "stdout",
     "output_type": "stream",
     "text": [
      "7 13\n",
      "21 41\n",
      "31 61\n",
      "57 113\n",
      "91 181\n",
      "157 313\n",
      "211 421\n",
      "FFS 9282 8736 1090\n",
      "FFS 8736 8190 1089\n"
     ]
    }
   ],
   "source": [
    "cm = 2\n",
    "for d in range(7, 100000):\n",
    "    y = d * cm\n",
    "    x = y + d\n",
    "    N, D = x**4 - y**4, x**3 + y**3\n",
    "    if d == 546:\n",
    "        print(\"FFS\", x, y, N // D)\n",
    "    if N % D == 0 and miller_rabin(N // D):\n",
    "        print(d, N // D)\n",
    "        cm += 2\n",
    "    else:\n",
    "        x = d * cm\n",
    "        y = x - d\n",
    "        N, D = x**4 - y**4, x**3 + y**3\n",
    "        if d == 546:\n",
    "            print(\"FFS\", x, y, N // D)\n",
    "        if N % D == 0 and miller_rabin(N // D):\n",
    "            print(d, N // D)\n",
    "            cm += 2"
   ]
  },
  {
   "cell_type": "code",
   "execution_count": 134,
   "metadata": {},
   "outputs": [
    {
     "data": {
      "text/plain": [
       "(1598383592966160, 1466406966024, 1090.0)"
      ]
     },
     "execution_count": 134,
     "metadata": {},
     "output_type": "execute_result"
    }
   ],
   "source": [
    "NN = 9282**4 - 8736**4\n",
    "DD = 9282**3 + 8736**3\n",
    "NN, DD, NN / DD"
   ]
  },
  {
   "cell_type": "code",
   "execution_count": 123,
   "metadata": {},
   "outputs": [
    {
     "data": {
      "text/plain": [
       "8736"
      ]
     },
     "execution_count": 123,
     "metadata": {},
     "output_type": "execute_result"
    }
   ],
   "source": [
    "546 * 16"
   ]
  },
  {
   "cell_type": "code",
   "execution_count": null,
   "metadata": {},
   "outputs": [],
   "source": [
    "9282 8736"
   ]
  },
  {
   "cell_type": "code",
   "execution_count": 135,
   "metadata": {},
   "outputs": [
    {
     "name": "stdout",
     "output_type": "stream",
     "text": [
      "2 13 21 14 13.0 7 -7\n",
      "3 41 105 84 41.0 21 -21\n",
      "4 61 155 186 -61.0 31 31\n",
      "5 113 399 456 -113.0 57 57\n",
      "6 181 819 910 -181.0 91 91\n",
      "7 313 2041 1884 313.0 157 -157\n",
      "8 421 3165 2954 421.0 211 -211\n",
      "9 1091 9282 8736 1090.0 546 -546\n",
      "10 4297 36533 38682 -4291.0 2149 2149\n",
      "11 5051 53046 50520 5046.0 2526 -2526\n",
      "12 6481 68061 71302 -6475.0 3241 3241\n",
      "13 7211 90150 86544 7206.0 3606 -3606\n",
      "14 11717 146475 152334 -11709.0 5859 5859\n",
      "15 13007 188616 182112 13000.0 6504 -6504\n",
      "16 13033 202027 195510 13027.0 6517 -6517\n",
      "17 13901 215481 222432 -13895.0 6951 6951\n",
      "18 16673 291795 283458 16667.0 8337 -8337\n",
      "19 18661 345247 335916 18655.0 9331 -9331\n",
      "20 19697 364413 374262 -19691.0 9849 9849\n",
      "21 22973 470967 459480 22967.0 11487 -11487\n",
      "22 24121 494501 506562 -24115.0 12061 12061\n",
      "23 26501 569793 583044 -26495.0 13251 13251\n",
      "24 34607 813288 795984 34600.0 17304 -17304\n",
      "25 45139 1060790 1083360 -45130.0 22570 22570\n",
      "26 49019 1200990 1225500 -49010.0 24510 24510\n",
      "27 63671 1623636 1655472 -63660.0 31836 31836\n",
      "28 68711 1820868 1855224 -68700.0 34356 34356\n",
      "29 73943 2033460 2070432 -73932.0 36972 36972\n",
      "30 79367 2261988 2301672 -79356.0 39684 39684\n",
      "31 109829 3349815 3294900 109815.0 54915 -54915\n",
      "32 113489 3461445 3518190 -113475.0 56745 56745\n",
      "33 116507 3786510 3728256 116494.0 58254 -58254\n",
      "34 132689 4445115 4378770 132675.0 66345 -66345\n",
      "35 136709 4579785 4648140 -136695.0 68355 68355\n",
      "36 139187 4941174 4871580 139174.0 69594 -69594\n",
      "37 189251 6907698 6813072 189234.0 94626 -94626\n",
      "38 194507 7099542 7196796 -194490.0 97254 97254\n",
      "39 239441 8979075 9098796 -239421.0 119721 119721\n",
      "40 252293 9713319 9839466 -252273.0 126147 126147\n",
      "41 272201 11024181 10888080 272181.0 136101 -136101\n",
      "42 318863 12913992 13073424 -318840.0 159432 159432\n",
      "43 390487 16205252 16400496 -390460.0 195244 195244\n",
      "44 404081 17577567 17375526 404055.0 202041 -202041\n",
      "45 413477 17986293 18193032 -413451.0 206739 206739\n",
      "46 496681 22102349 22350690 -496651.0 248341 248341\n",
      "47 513419 23874030 23617320 513390.0 256710 -256710\n",
      "48 535859 25453350 25185420 535830.0 267930 -267930\n",
      "49 614657 29810913 29503584 614625.0 307329 -307329\n",
      "50 779573 37809339 38199126 -779533.0 389787 389787\n",
      "51 831683 41168358 41584200 -831642.0 415842 415842\n",
      "52 882587 45453282 45011988 882546.0 441294 -441294\n",
      "53 899891 46344438 46794384 -899850.0 449946 449946\n",
      "54 935003 49087710 49555212 -934962.0 467502 467502\n",
      "55 941839 51330280 50859360 941800.0 470920 -470920\n",
      "56 959279 52280760 52760400 -959240.0 479640 479640\n"
     ]
    }
   ],
   "source": [
    "cm = 1\n",
    "la = 0\n",
    "for i in range(13, 1000000):\n",
    "    cc = 0\n",
    "    if miller_rabin(i):\n",
    "        y = (i + 1) * cm\n",
    "        x = y + (i + 1) // 2\n",
    "        n, d = x**4 - y**4, x**3 + y**3\n",
    "        # print(n, d)\n",
    "        if n % d == 0:\n",
    "            cc = i\n",
    "            cm += 1\n",
    "        else:\n",
    "            y = (i + 1) * cm\n",
    "            x = y - (i + 1) // 2\n",
    "            n, d = x**4 - y**4, x**3 + y**3\n",
    "            # print(n, d)\n",
    "            if n % d == 0:\n",
    "                cc = i\n",
    "                cm += 1\n",
    "    if cc:\n",
    "        print(cm, i, x, y, n / d, gcd(x, y), y - x)\n",
    "        la = i"
   ]
  },
  {
   "cell_type": "code",
   "execution_count": 89,
   "metadata": {},
   "outputs": [
    {
     "data": {
      "text/plain": [
       "28"
      ]
     },
     "execution_count": 89,
     "metadata": {},
     "output_type": "execute_result"
    }
   ],
   "source": [
    "(13+1)*2"
   ]
  },
  {
   "cell_type": "code",
   "execution_count": null,
   "metadata": {},
   "outputs": [],
   "source": []
  },
  {
   "cell_type": "code",
   "execution_count": null,
   "metadata": {},
   "outputs": [],
   "source": [
    "6**4 - "
   ]
  },
  {
   "cell_type": "code",
   "execution_count": 39,
   "metadata": {},
   "outputs": [
    {
     "data": {
      "text/plain": [
       "9261"
      ]
     },
     "execution_count": 39,
     "metadata": {},
     "output_type": "execute_result"
    }
   ],
   "source": [
    "21**3"
   ]
  },
  {
   "cell_type": "code",
   "execution_count": 46,
   "metadata": {},
   "outputs": [
    {
     "data": {
      "text/plain": [
       "159"
      ]
     },
     "execution_count": 46,
     "metadata": {},
     "output_type": "execute_result"
    }
   ],
   "source": [
    "len(v_f)"
   ]
  },
  {
   "cell_type": "code",
   "execution_count": 48,
   "metadata": {},
   "outputs": [
    {
     "name": "stdout",
     "output_type": "stream",
     "text": [
      "2 5\n",
      "3 20\n",
      "3/2 13\n",
      "4/3 25\n",
      "4 51\n",
      "5/2 87\n",
      "5/3 68\n",
      "7/6 85\n",
      "5 104\n",
      "5/4 41\n",
      "9/8 145\n",
      "6 185\n",
      "6/5 61\n",
      "7/4 195\n",
      "7/3 232\n",
      "7/2 265\n",
      "12/11 265\n",
      "9/7 260\n",
      "7/5 148\n",
      "7 300\n",
      "11/10 221\n",
      "8/3 365\n",
      "14/13 365\n",
      "8/5 267\n",
      "8 455\n",
      "8/7 113\n",
      "9/4 485\n",
      "9/5 424\n",
      "11/8 555\n",
      "9/2 595\n",
      "13/11 580\n",
      "17/16 545\n",
      "9 656\n",
      "11/7 680\n",
      "16/15 481\n",
      "10/3 763\n",
      "10/7 447\n",
      "19/18 685\n",
      "10 909\n",
      "10/9 181\n",
      "11/6 785\n",
      "11/5 876\n",
      "11/4 959\n",
      "11/3 1040\n",
      "13/9 1000\n",
      "11/2 1125\n",
      "11/9 404\n",
      "12/7 965\n",
      "11 1220\n",
      "16/13 1275\n",
      "12/5 1183\n",
      "19/17 1300\n",
      "13/8 1165\n",
      "12 1595\n",
      "17/14 1455\n",
      "13/6 1435\n",
      "13/7 1308\n",
      "14/9 1385\n",
      "13/4 1665\n",
      "13/5 1552\n",
      "13/3 1780\n",
      "13/10 807\n",
      "13/2 1903\n",
      "14/5 1989\n",
      "13 2040\n",
      "13/12 313\n",
      "16/11 1885\n",
      "14/3 2255\n",
      "14/11 951\n",
      "15/7 2192\n",
      "15/8 2023\n",
      "14 2561\n",
      "17/11 2460\n",
      "17/12 2165\n",
      "15/4 2651\n",
      "15/11 1384\n",
      "18/13 2465\n",
      "17/9 2960\n",
      "15/2 2977\n",
      "15/13 788\n",
      "22/19 2535\n",
      "21/17 2920\n",
      "16/7 2745\n",
      "16/9 2359\n",
      "15 3164\n",
      "15/14 421\n",
      "16/5 3091\n",
      "19/13 3180\n",
      "20/17 2067\n",
      "19/14 2785\n",
      "16/3 3445\n",
      "17/7 3380\n",
      "17/8 3177\n",
      "17/10 2723\n",
      "18/11 3115\n",
      "17/6 3575\n",
      "16 3855\n",
      "17/5 3768\n",
      "17/4 3965\n",
      "17/13 1832\n",
      "21/16 3485\n",
      "17/3 4172\n",
      "19/12 3535\n",
      "17/2 4395\n",
      "17/15 1028\n",
      "18/7 4103\n",
      "22/17 3865\n",
      "17 4640\n",
      "19/9 4420\n",
      "18/5 4537\n",
      "21/13 4880\n",
      "19/10 4149\n",
      "19/7 4920\n",
      "19/8 4675\n",
      "19/11 3856\n",
      "19/6 5161\n",
      "18 5525\n",
      "18/17 613\n",
      "19/5 5404\n",
      "19/4 5655\n",
      "19/15 2344\n",
      "21/11 5620\n",
      "19/3 5920\n",
      "19/16 1851\n",
      "20/9 5291\n",
      "20/11 4689\n",
      "23/15 6032\n",
      "20/7 5837\n",
      "20/13 3983\n",
      "19/2 6205\n",
      "19 6516\n",
      "23/16 5495\n",
      "21/10 5951\n",
      "20/3 6953\n",
      "21/8 6565\n",
      "23/14 6525\n",
      "23/13 6980\n",
      "21/5 7456\n",
      "20 7619\n",
      "20/19 761\n",
      "23/11 7800\n",
      "21/4 7769\n",
      "22/9 7345\n",
      "22/13 5877\n",
      "22/7 7995\n",
      "22/15 4963\n",
      "21/2 8455\n",
      "21/19 1604\n",
      "23/9 8540\n",
      "22/5 8653\n",
      "21 8840\n",
      "21/20 841\n",
      "23/12 7403\n",
      "23/10 8177\n",
      "22/3 9367\n",
      "23/8 8895\n",
      "23/7 9248\n",
      "23/6 9605\n",
      "23/17 4908\n"
     ]
    }
   ],
   "source": [
    "for e in v_f:\n",
    "    x, y= v_f[e]\n",
    "    print(e, (x**4-y**4)//(x**3 + y**3))"
   ]
  },
  {
   "cell_type": "code",
   "execution_count": null,
   "metadata": {},
   "outputs": [],
   "source": [
    "(x^2 - xy + y^2)"
   ]
  },
  {
   "cell_type": "code",
   "execution_count": 27,
   "metadata": {},
   "outputs": [],
   "source": [
    "A = 0.5 - (-3)**0.5\n",
    "A = -A**0.5"
   ]
  },
  {
   "cell_type": "code",
   "execution_count": 28,
   "metadata": {},
   "outputs": [],
   "source": [
    "B = 1 / A"
   ]
  },
  {
   "cell_type": "code",
   "execution_count": null,
   "metadata": {},
   "outputs": [
    {
     "data": {
      "text/plain": [
       "((1+1.2519798875176661e-17j), (0.6538461538461542-1.1991120975476839j))"
      ]
     },
     "execution_count": 29,
     "metadata": {},
     "output_type": "execute_result"
    }
   ],
   "source": [
    "A * B, A**2 + B**2"
   ]
  },
  {
   "cell_type": "code",
   "execution_count": 32,
   "metadata": {},
   "outputs": [],
   "source": [
    "A = (1/2 + (1 - 4)**0.5/2)**0.5\n",
    "B = 1/A"
   ]
  },
  {
   "cell_type": "code",
   "execution_count": 33,
   "metadata": {},
   "outputs": [
    {
     "data": {
      "text/plain": [
       "((1+4.0636983087920376e-17j), (1.0000000000000004+1.1102230246251565e-16j))"
      ]
     },
     "execution_count": 33,
     "metadata": {},
     "output_type": "execute_result"
    }
   ],
   "source": [
    "A * B, A**2 + B**2"
   ]
  },
  {
   "cell_type": "code",
   "execution_count": 36,
   "metadata": {},
   "outputs": [],
   "source": [
    "from math import gcd"
   ]
  },
  {
   "cell_type": "code",
   "execution_count": 40,
   "metadata": {},
   "outputs": [],
   "source": [
    "for x in range(1, 100):\n",
    "    for y in range(x + 1, 100):\n",
    "        n, d = x**2 + y**2, x**2 - x*y + y**2\n",
    "        # if gcd(n, d) != 1:\n",
    "        #     print(gcd(n, d))\n",
    "        if n % d == 0:\n",
    "            print(x, y)"
   ]
  },
  {
   "cell_type": "code",
   "execution_count": null,
   "metadata": {},
   "outputs": [
    {
     "data": {
      "text/plain": [
       "5.0"
      ]
     },
     "execution_count": 43,
     "metadata": {},
     "output_type": "execute_result"
    }
   ],
   "source": [
    "x, y = 6, 3\n",
    "p = x  - y**3 / (x**2 - x*y + y**2)"
   ]
  },
  {
   "cell_type": "code",
   "execution_count": null,
   "metadata": {},
   "outputs": [],
   "source": [
    "\"\"\"\n",
    "x^4 - y^4\n",
    "(x^2 + y^2) * (x-y) * (x + y) / (x^2 - xy + y^2) (x + y) = p\n",
    "(x^2 + y^2) * (x-y) / (x^2 - xy + y^2) = p\n",
    "\n",
    "(x^2 + y^2) * (x-y) / (x^2 - xy + y^2) = p\n",
    "\n",
    "x^3 + xy^2 - x^2y - y^3\n",
    "\n",
    "x  - y^3 / (x^2 - xy + y^2) = p\n",
    "\n",
    "\n",
    "\n",
    "2*x - 2*y - 1 = x  - y^3 / (x^2 - xy + y^2)\n",
    "\n",
    "\n",
    "\n",
    "\n",
    "\"\"\""
   ]
  }
 ],
 "metadata": {
  "kernelspec": {
   "display_name": "Python 3",
   "language": "python",
   "name": "python3"
  },
  "language_info": {
   "codemirror_mode": {
    "name": "ipython",
    "version": 3
   },
   "file_extension": ".py",
   "mimetype": "text/x-python",
   "name": "python",
   "nbconvert_exporter": "python",
   "pygments_lexer": "ipython3",
   "version": "3.9.6"
  }
 },
 "nbformat": 4,
 "nbformat_minor": 2
}
