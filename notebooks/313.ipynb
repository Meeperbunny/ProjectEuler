{
 "cells": [
  {
   "cell_type": "code",
   "execution_count": 1,
   "id": "ee6be174-7a56-4bee-a23f-268c36a57c4a",
   "metadata": {},
   "outputs": [],
   "source": [
    "def sieve(n):\n",
    "    s = [1 for _ in range(n + 1)]\n",
    "    primes = []\n",
    "    for q in range(2, n + 1):\n",
    "        if s[q]:\n",
    "            primes.append(q)\n",
    "            for i in range(2 * q, n + 1, q):\n",
    "                s[i] = 0\n",
    "    return primes"
   ]
  },
  {
   "cell_type": "code",
   "execution_count": 7,
   "id": "998884dc",
   "metadata": {},
   "outputs": [],
   "source": [
    "def get_divs(n):\n",
    "    divs = [[] for _ in range(n + 1)]\n",
    "    for i in range(1, n + 1):\n",
    "        for q in range(i, n + 1, i):\n",
    "            divs[q].append(i)\n",
    "    return divs"
   ]
  },
  {
   "cell_type": "code",
   "execution_count": null,
   "id": "a0393e37",
   "metadata": {},
   "outputs": [],
   "source": [
    "(2, 4) -> 15 \n",
    "(3, 4) -> 19 4 \n",
    "(4, 4) -> 21 2 \n",
    "(5, 4) -> 25 4\n",
    "(6, 4) -> 31 6\n",
    "(7, 4) -> 39 8"
   ]
  },
  {
   "cell_type": "code",
   "execution_count": 36,
   "id": "d695e399-90ca-4853-9b2d-cb343caa08c8",
   "metadata": {},
   "outputs": [
    {
     "data": {
      "text/plain": [
       "24"
      ]
     },
     "execution_count": 36,
     "metadata": {},
     "output_type": "execute_result"
    }
   ],
   "source": [
    "def ways(a, b):\n",
    "    return (a + b - 3) + 3 * (a + b - 3)\n",
    "ways(5, 4)"
   ]
  },
  {
   "cell_type": "code",
   "execution_count": 40,
   "id": "28b63214",
   "metadata": {},
   "outputs": [
    {
     "data": {
      "text/plain": [
       "29"
      ]
     },
     "execution_count": 40,
     "metadata": {},
     "output_type": "execute_result"
    }
   ],
   "source": [
    "def cnt(a, b):\n",
    "    return 4 * (a + b) - 11\n",
    "cnt(6, 4)"
   ]
  },
  {
   "cell_type": "code",
   "execution_count": 12,
   "id": "e09c3863",
   "metadata": {},
   "outputs": [],
   "source": [
    "D = get_divs(100_000)"
   ]
  },
  {
   "cell_type": "code",
   "execution_count": 21,
   "id": "2b93f887",
   "metadata": {},
   "outputs": [
    {
     "name": "stdout",
     "output_type": "stream",
     "text": [
      "7 2 [1, 7]\n",
      "12 6 [1, 2, 3, 4, 6, 12]\n",
      "28 6 [1, 2, 4, 7, 14, 28]\n",
      "52 6 [1, 2, 4, 13, 26, 52]\n",
      "124 6 [1, 2, 4, 31, 62, 124]\n",
      "172 6 [1, 2, 4, 43, 86, 172]\n",
      "292 6 [1, 2, 4, 73, 146, 292]\n",
      "364 12 [1, 2, 4, 7, 13, 14, 26, 28, 52, 91, 182, 364]\n",
      "532 12 [1, 2, 4, 7, 14, 19, 28, 38, 76, 133, 266, 532]\n",
      "844 6 [1, 2, 4, 211, 422, 844]\n",
      "964 6 [1, 2, 4, 241, 482, 964]\n",
      "1372 12 [1, 2, 4, 7, 14, 28, 49, 98, 196, 343, 686, 1372]\n",
      "1684 6 [1, 2, 4, 421, 842, 1684]\n",
      "1852 6 [1, 2, 4, 463, 926, 1852]\n",
      "2212 12 [1, 2, 4, 7, 14, 28, 79, 158, 316, 553, 1106, 2212]\n",
      "2812 12 [1, 2, 4, 19, 37, 38, 74, 76, 148, 703, 1406, 2812]\n",
      "3484 12 [1, 2, 4, 13, 26, 52, 67, 134, 268, 871, 1742, 3484]\n",
      "3724 18 [1, 2, 4, 7, 14, 19, 28, 38, 49, 76, 98, 133, 196, 266, 532, 931, 1862, 3724]\n",
      "4492 6 [1, 2, 4, 1123, 2246, 4492]\n",
      "5044 12 [1, 2, 4, 13, 26, 52, 97, 194, 388, 1261, 2522, 5044]\n",
      "5332 12 [1, 2, 4, 31, 43, 62, 86, 124, 172, 1333, 2666, 5332]\n",
      "6244 12 [1, 2, 4, 7, 14, 28, 223, 446, 892, 1561, 3122, 6244]\n",
      "6892 6 [1, 2, 4, 1723, 3446, 6892]\n",
      "7924 12 [1, 2, 4, 7, 14, 28, 283, 566, 1132, 1981, 3962, 7924]\n",
      "9412 12 [1, 2, 4, 13, 26, 52, 181, 362, 724, 2353, 4706, 9412]\n"
     ]
    },
    {
     "data": {
      "text/plain": [
       "224"
      ]
     },
     "execution_count": 21,
     "metadata": {},
     "output_type": "execute_result"
    }
   ],
   "source": [
    "primes = sieve(99)\n",
    "\n",
    "G = 0\n",
    "for p in primes:\n",
    "    d = D[p * p + 3]\n",
    "    # print(d, (len(d) + 1) // 2)\n",
    "    print(p * p + 3, len(d), d)\n",
    "    G += len(d)\n",
    "G"
   ]
  },
  {
   "cell_type": "code",
   "execution_count": 3,
   "id": "0ced9281-1aca-46f5-b424-5ce7c0302f6f",
   "metadata": {},
   "outputs": [],
   "source": [
    "def cnt(a, b):\n",
    "    return 4 * (a + b) - 11"
   ]
  },
  {
   "cell_type": "code",
   "execution_count": 4,
   "id": "7c4c180f-667e-421e-9c98-3669995ace36",
   "metadata": {},
   "outputs": [],
   "source": [
    "primes = sieve(10)"
   ]
  },
  {
   "cell_type": "code",
   "execution_count": 21,
   "id": "66e7df71-0382-4888-89d0-3237e7b633c5",
   "metadata": {},
   "outputs": [
    {
     "name": "stdout",
     "output_type": "stream",
     "text": [
      "9 2\n",
      "25 6\n",
      "49 12\n"
     ]
    },
    {
     "data": {
      "text/plain": [
       "20"
      ]
     },
     "execution_count": 21,
     "metadata": {},
     "output_type": "execute_result"
    }
   ],
   "source": [
    "tot = 0\n",
    "for p in primes:\n",
    "    if (p * p + 11) % 4 == 0:\n",
    "        tot += (p * p + 11) // 4 - 3\n",
    "        print(p * p, (p * p + 11) // 4 - 3)\n",
    "tot"
   ]
  },
  {
   "cell_type": "code",
   "execution_count": null,
   "id": "e4e92a07-ac0e-480a-8b19-48133295e84f",
   "metadata": {},
   "outputs": [],
   "source": []
  }
 ],
 "metadata": {
  "kernelspec": {
   "display_name": "Python 3",
   "language": "python",
   "name": "python3"
  },
  "language_info": {
   "codemirror_mode": {
    "name": "ipython",
    "version": 3
   },
   "file_extension": ".py",
   "mimetype": "text/x-python",
   "name": "python",
   "nbconvert_exporter": "python",
   "pygments_lexer": "ipython3",
   "version": "3.12.4"
  }
 },
 "nbformat": 4,
 "nbformat_minor": 5
}
