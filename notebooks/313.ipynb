{
 "cells": [
  {
   "cell_type": "code",
   "execution_count": 6,
   "id": "ee6be174-7a56-4bee-a23f-268c36a57c4a",
   "metadata": {},
   "outputs": [],
   "source": [
    "def sieve(n):\n",
    "    s = [1 for _ in range(n + 1)]\n",
    "    primes = []\n",
    "    for q in range(2, n + 1):\n",
    "        if s[q]:\n",
    "            primes.append(q)\n",
    "            for i in range(2 * q, n + 1, q):\n",
    "                s[i] = 0\n",
    "    return primes"
   ]
  },
  {
   "cell_type": "code",
   "execution_count": 7,
   "id": "d695e399-90ca-4853-9b2d-cb343caa08c8",
   "metadata": {},
   "outputs": [],
   "source": [
    "def ways(ab):\n",
    "    return ab - 3"
   ]
  },
  {
   "cell_type": "code",
   "execution_count": 8,
   "id": "0ced9281-1aca-46f5-b424-5ce7c0302f6f",
   "metadata": {},
   "outputs": [],
   "source": [
    "def cnt(a, b):\n",
    "    return 4 * (a + b) - 11"
   ]
  },
  {
   "cell_type": "code",
   "execution_count": 19,
   "id": "7c4c180f-667e-421e-9c98-3669995ace36",
   "metadata": {},
   "outputs": [],
   "source": [
    "primes = sieve(10)"
   ]
  },
  {
   "cell_type": "code",
   "execution_count": 21,
   "id": "66e7df71-0382-4888-89d0-3237e7b633c5",
   "metadata": {},
   "outputs": [
    {
     "name": "stdout",
     "output_type": "stream",
     "text": [
      "9 2\n",
      "25 6\n",
      "49 12\n"
     ]
    },
    {
     "data": {
      "text/plain": [
       "20"
      ]
     },
     "execution_count": 21,
     "metadata": {},
     "output_type": "execute_result"
    }
   ],
   "source": [
    "tot = 0\n",
    "for p in primes:\n",
    "    if (p * p + 11) % 4 == 0:\n",
    "        tot += (p * p + 11) // 4 - 3\n",
    "        print(p * p, (p * p + 11) // 4 - 3)\n",
    "tot"
   ]
  },
  {
   "cell_type": "code",
   "execution_count": null,
   "id": "e4e92a07-ac0e-480a-8b19-48133295e84f",
   "metadata": {},
   "outputs": [],
   "source": []
  }
 ],
 "metadata": {
  "kernelspec": {
   "display_name": "Python 3 (ipykernel)",
   "language": "python",
   "name": "python3"
  },
  "language_info": {
   "codemirror_mode": {
    "name": "ipython",
    "version": 3
   },
   "file_extension": ".py",
   "mimetype": "text/x-python",
   "name": "python",
   "nbconvert_exporter": "python",
   "pygments_lexer": "ipython3",
   "version": "3.12.4"
  }
 },
 "nbformat": 4,
 "nbformat_minor": 5
}
