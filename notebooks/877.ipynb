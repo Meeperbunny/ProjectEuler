{
 "cells": [
  {
   "cell_type": "code",
   "execution_count": 1,
   "id": "78fab09a-1744-46bc-86d7-b6a9f0b9fad1",
   "metadata": {},
   "outputs": [],
   "source": [
    "def add(a, b):\n",
    "    return a ^ b"
   ]
  },
  {
   "cell_type": "code",
   "execution_count": 2,
   "id": "0bc6f94a-9b9b-4631-b9a2-177ed7502f11",
   "metadata": {},
   "outputs": [],
   "source": [
    "def mul(a, b):\n",
    "    t = 0\n",
    "    for i in range(0, 60):\n",
    "        if (a >> i) & 1:\n",
    "            t ^= b << i\n",
    "    return t"
   ]
  },
  {
   "cell_type": "code",
   "execution_count": 38,
   "id": "b1f34668-9a8e-45a7-8673-9864e9b32016",
   "metadata": {},
   "outputs": [],
   "source": [
    "def ans(N, m):\n",
    "    ma = {}\n",
    "    tot = 0\n",
    "    for a in range(0, N + 1):\n",
    "        for b in range(a, N + 1):\n",
    "            k = add(add(mul(a, a), mul(mul(2, a), b)), mul(b, b))\n",
    "            if k == 5:\n",
    "                # print(a, b, k, bin(a), bin(b), bin(k))\n",
    "                if k not in ma:\n",
    "                    ma[k] = []\n",
    "                ma[k].append((a, b))\n",
    "                tot += 1\n",
    "    return tot, ma"
   ]
  },
  {
   "cell_type": "code",
   "execution_count": 39,
   "id": "10f92813-06df-45e6-becb-3cd82f98cfa6",
   "metadata": {},
   "outputs": [],
   "source": [
    "t, m = ans(1000, 1000)"
   ]
  },
  {
   "cell_type": "code",
   "execution_count": 40,
   "id": "97087147-eabd-43e2-b902-19d3b6ea54ad",
   "metadata": {},
   "outputs": [
    {
     "name": "stdout",
     "output_type": "stream",
     "text": [
      "5 0b101 [(0, 3), (3, 6), (6, 15), (15, 24), (24, 63), (63, 102), (102, 243), (243, 384)]\n"
     ]
    }
   ],
   "source": [
    "for e in m:\n",
    "    print(e, bin(e), m[e])"
   ]
  },
  {
   "cell_type": "code",
   "execution_count": 48,
   "id": "dd2898d3-c1de-4c82-9b4e-3389ccb8bc1f",
   "metadata": {},
   "outputs": [
    {
     "data": {
      "text/plain": [
       "5"
      ]
     },
     "execution_count": 48,
     "metadata": {},
     "output_type": "execute_result"
    }
   ],
   "source": [
    "3 ^ 6"
   ]
  },
  {
   "cell_type": "code",
   "execution_count": null,
   "id": "0eeab6fd-c4f6-40f1-8930-fe4f703eed7b",
   "metadata": {},
   "outputs": [],
   "source": [
    "      0\n",
    "     11\n",
    "    110\n",
    "   1111\n",
    "  11000\n",
    " 111111\n",
    "1100110"
   ]
  },
  {
   "cell_type": "code",
   "execution_count": 54,
   "id": "8d5b1552-c4be-48cc-89bf-55c34e42e7de",
   "metadata": {},
   "outputs": [
    {
     "name": "stdout",
     "output_type": "stream",
     "text": [
      "3\n",
      "6\n",
      "15\n",
      "24\n",
      "63\n",
      "102\n",
      "243\n",
      "384\n",
      "1011\n",
      "1638\n",
      "3903\n",
      "6168\n",
      "16143\n",
      "26118\n",
      "62211\n",
      "98304\n",
      "258819\n",
      "419334\n",
      "999183\n",
      "1579032\n",
      "4132671\n",
      "6686310\n",
      "15926259\n",
      "25166208\n",
      "66257139\n",
      "107348070\n",
      "255787071\n",
      "404226072\n",
      "1057947663\n",
      "1711669254\n",
      "4077060099\n",
      "6442450944\n",
      "16961961987\n",
      "27481473030\n",
      "65482457103\n",
      "103483441176\n",
      "270838726719\n",
      "438194012262\n",
      "1043743310067\n",
      "1649292607872\n",
      "4342227862515\n",
      "7035163117158\n",
      "16763261488959\n",
      "26491359860760\n",
      "69333658058511\n",
      "112175956256262\n",
      "267194210710275\n",
      "422212465164288\n",
      "1111619140645635\n",
      "1801025816126982\n",
      "4291458307735311\n",
      "6781890799343640\n",
      "17749686790131519\n",
      "28717482780919398\n",
      "68402761552626675\n",
      "108088040324333952\n",
      "284572245131526387\n",
      "461056449938718822\n"
     ]
    },
    {
     "data": {
      "text/plain": [
       "336785000760344621"
      ]
     },
     "execution_count": 54,
     "metadata": {},
     "output_type": "execute_result"
    }
   ],
   "source": [
    "ans(10**18)"
   ]
  },
  {
   "cell_type": "code",
   "execution_count": 52,
   "id": "76d2f40e-d434-4e7e-89cf-6505a7dab71f",
   "metadata": {},
   "outputs": [],
   "source": [
    "def ans(N):\n",
    "    x = 0\n",
    "    a, b = 0, 3\n",
    "    while b <= N:\n",
    "        c = (b << 1) ^ a\n",
    "        print(b)\n",
    "        x ^= b\n",
    "        a, b = b, c\n",
    "    return x"
   ]
  },
  {
   "cell_type": "code",
   "execution_count": 33,
   "id": "5f20e774-f3a3-4590-a1db-c2d1f1f3108b",
   "metadata": {},
   "outputs": [
    {
     "data": {
      "text/plain": [
       "189"
      ]
     },
     "execution_count": 33,
     "metadata": {},
     "output_type": "execute_result"
    }
   ],
   "source": [
    "0\n",
    "11\n",
    "110\n",
    "1111\n",
    "11000\n",
    "111111\n",
    "1100110"
   ]
  }
 ],
 "metadata": {
  "kernelspec": {
   "display_name": "Python 3 (ipykernel)",
   "language": "python",
   "name": "python3"
  },
  "language_info": {
   "codemirror_mode": {
    "name": "ipython",
    "version": 3
   },
   "file_extension": ".py",
   "mimetype": "text/x-python",
   "name": "python",
   "nbconvert_exporter": "python",
   "pygments_lexer": "ipython3",
   "version": "3.12.4"
  }
 },
 "nbformat": 4,
 "nbformat_minor": 5
}
