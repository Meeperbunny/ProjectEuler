{
 "cells": [
  {
   "cell_type": "code",
   "execution_count": null,
   "id": "7bff017b-3b1f-4e46-8251-ff179935179d",
   "metadata": {},
   "outputs": [],
   "source": [
    "def dfs(x, y, grid):\n",
    "    if x >= len(grid):\n",
    "        return dfs(0, y + 1, grid)\n",
    "    if y >= len(grid[0]):\n",
    "        return 0\n",
    "    if grid[x][y]:\n",
    "        dfs(x + 1, y, grid)\n",
    "    else:\n",
    "        "
   ]
  }
 ],
 "metadata": {
  "kernelspec": {
   "display_name": "Python 3 (ipykernel)",
   "language": "python",
   "name": "python3"
  },
  "language_info": {
   "codemirror_mode": {
    "name": "ipython",
    "version": 3
   },
   "file_extension": ".py",
   "mimetype": "text/x-python",
   "name": "python",
   "nbconvert_exporter": "python",
   "pygments_lexer": "ipython3",
   "version": "3.12.4"
  }
 },
 "nbformat": 4,
 "nbformat_minor": 5
}
