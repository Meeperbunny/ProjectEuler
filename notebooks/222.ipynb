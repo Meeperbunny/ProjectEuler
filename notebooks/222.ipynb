{
 "cells": [
  {
   "cell_type": "code",
   "execution_count": 15,
   "metadata": {},
   "outputs": [],
   "source": [
    "from decimal import Decimal\n",
    "def solve(balls):\n",
    "    m = 1000\n",
    "    balls = list(Decimal(e * m) for e in balls)\n",
    "    lc = (balls[0], balls[0], balls[0])\n",
    "    side = \"R\"\n",
    "    # print(\"(x+{})^2+(y-{})^2=({})^2\".format(lc[0], round(lc[1], 2), lc[2]))\n",
    "    for l in balls[1:]:\n",
    "        x = None\n",
    "        if side == \"L\":\n",
    "            x = l\n",
    "        else:\n",
    "            x = Decimal(100 * m) - l\n",
    "\n",
    "        lx, ly, lr = lc\n",
    "\n",
    "\n",
    "        ny = ((lr+l)**Decimal(2) - (x-lx)**Decimal(2))**Decimal(0.5) + ly\n",
    "        lc = (x, ny, l)\n",
    "        side = \"R\" if side == \"L\" else \"L\"\n",
    "        # print(\"(x+{})^2+(y-{})^2=({})^2\".format(lc[0], round(lc[1], 2), lc[2]))\n",
    "    return lc[1] + lc[2]"
   ]
  },
  {
   "cell_type": "code",
   "execution_count": 19,
   "metadata": {},
   "outputs": [
    {
     "data": {
      "application/vnd.jupyter.widget-view+json": {
       "model_id": "92ff83a4a2ca4c4eb058bb09743d190d",
       "version_major": 2,
       "version_minor": 0
      },
      "text/plain": [
       "  0%|          | 0/40320 [00:00<?, ?it/s]"
      ]
     },
     "metadata": {},
     "output_type": "display_data"
    },
    {
     "name": "stdout",
     "output_type": "stream",
     "text": [
      "(43, 44, 45, 46, 47, 48, 49, 50) 100000000000000000000\n",
      "(44, 43, 45, 46, 47, 48, 49, 50) 741447.7739895305537134112336\n",
      "(45, 43, 44, 46, 47, 48, 49, 50) 741308.1441970655562105104460\n",
      "(46, 43, 44, 45, 47, 48, 49, 50) 741197.0119156829778011393110\n",
      "(46, 44, 43, 45, 47, 48, 49, 50) 741126.8602155946186019103623\n",
      "(47, 43, 44, 45, 46, 48, 49, 50) 741112.3408598427404077360943\n",
      "(47, 44, 43, 45, 46, 48, 49, 50) 741094.2935259823151759598157\n",
      "(47, 45, 43, 44, 46, 48, 49, 50) 741065.7960148998960824301629\n",
      "(48, 45, 43, 44, 46, 47, 49, 50) 741052.3262512599515390818903\n",
      "(48, 46, 44, 43, 45, 47, 49, 50) 741027.9003835164459167966153\n",
      "(49, 46, 44, 43, 45, 47, 48, 50) 741015.3595691877620895418400\n",
      "(49, 47, 45, 43, 44, 46, 48, 50) 741011.7138617780105979872413\n"
     ]
    },
    {
     "data": {
      "text/plain": [
       "Decimal('740999.9999143982326013149923')"
      ]
     },
     "execution_count": 19,
     "metadata": {},
     "output_type": "execute_result"
    }
   ],
   "source": [
    "from itertools import permutations\n",
    "from tqdm.notebook import tqdm\n",
    "b = list(range(43, 50 + 1))\n",
    "mi = Decimal(10**20)\n",
    "ps = list(permutations(b))\n",
    "for balls in tqdm(ps):\n",
    "    s = solve(balls)\n",
    "    if s < mi:\n",
    "        print(balls, mi)\n",
    "        mi = s\n",
    "mi"
   ]
  },
  {
   "cell_type": "code",
   "execution_count": 21,
   "metadata": {},
   "outputs": [
    {
     "name": "stdout",
     "output_type": "stream",
     "text": [
      "[49, 47, 45, 43, 41, 39, 37, 35, 33, 31, 30, 32, 34, 36, 38, 40, 42, 44, 46, 48, 50]\n"
     ]
    },
    {
     "data": {
      "text/plain": [
       "Decimal('1590933.116150961976721270711')"
      ]
     },
     "execution_count": 21,
     "metadata": {},
     "output_type": "execute_result"
    }
   ],
   "source": [
    "b = list(range(49, 29, -2)) + list(range(30, 51, 2))\n",
    "print(b)\n",
    "solve(b)"
   ]
  },
  {
   "cell_type": "code",
   "execution_count": null,
   "metadata": {},
   "outputs": [],
   "source": []
  }
 ],
 "metadata": {
  "kernelspec": {
   "display_name": "Python 3",
   "language": "python",
   "name": "python3"
  },
  "language_info": {
   "codemirror_mode": {
    "name": "ipython",
    "version": 3
   },
   "file_extension": ".py",
   "mimetype": "text/x-python",
   "name": "python",
   "nbconvert_exporter": "python",
   "pygments_lexer": "ipython3",
   "version": "3.9.6"
  }
 },
 "nbformat": 4,
 "nbformat_minor": 2
}
