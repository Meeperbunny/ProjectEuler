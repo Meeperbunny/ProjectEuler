{
 "cells": [
  {
   "cell_type": "code",
   "execution_count": 1,
   "id": "8db11e60-bcb5-4361-a4c0-1c7bb838e2a9",
   "metadata": {},
   "outputs": [],
   "source": [
    "def sieve(n):\n",
    "    s = [1 for _ in range(n + 1)]\n",
    "    primes = []\n",
    "    for q in range(2, n + 1):\n",
    "        if s[q]:\n",
    "            primes.append(q)\n",
    "            for i in range(2 * q, n + 1, q):\n",
    "                s[i] = 0\n",
    "    return primes"
   ]
  },
  {
   "cell_type": "code",
   "execution_count": 9,
   "id": "cef0fa8a-dfe6-42c3-a381-3204a72c72cd",
   "metadata": {},
   "outputs": [],
   "source": [
    "# sieve(1000000)"
   ]
  },
  {
   "cell_type": "code",
   "execution_count": 17,
   "id": "40a287ea-1992-49cd-95ae-f2a279f70a7c",
   "metadata": {},
   "outputs": [
    {
     "data": {
      "text/plain": [
       "1000000000"
      ]
     },
     "execution_count": 17,
     "metadata": {},
     "output_type": "execute_result"
    }
   ],
   "source": [
    "len(c)"
   ]
  },
  {
   "cell_type": "code",
   "execution_count": 16,
   "id": "db395f4b-ef7e-4238-b45c-8f656fa54713",
   "metadata": {},
   "outputs": [
    {
     "ename": "MemoryError",
     "evalue": "",
     "output_type": "error",
     "traceback": [
      "\u001b[1;31m---------------------------------------------------------------------------\u001b[0m",
      "\u001b[1;31mMemoryError\u001b[0m                               Traceback (most recent call last)",
      "File \u001b[1;32m<timed exec>:1\u001b[0m\n",
      "\u001b[1;31mMemoryError\u001b[0m: "
     ]
    }
   ],
   "source": [
    "%%time\n",
    "c = [0] * 10000000000"
   ]
  }
 ],
 "metadata": {
  "kernelspec": {
   "display_name": "Python 3 (ipykernel)",
   "language": "python",
   "name": "python3"
  },
  "language_info": {
   "codemirror_mode": {
    "name": "ipython",
    "version": 3
   },
   "file_extension": ".py",
   "mimetype": "text/x-python",
   "name": "python",
   "nbconvert_exporter": "python",
   "pygments_lexer": "ipython3",
   "version": "3.12.4"
  }
 },
 "nbformat": 4,
 "nbformat_minor": 5
}
