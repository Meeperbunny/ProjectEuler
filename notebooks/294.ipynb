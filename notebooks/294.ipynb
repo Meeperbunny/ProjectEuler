{
 "cells": [
  {
   "cell_type": "code",
   "execution_count": 9,
   "metadata": {},
   "outputs": [],
   "source": [
    "from utils.matrix import *"
   ]
  },
  {
   "cell_type": "code",
   "execution_count": 10,
   "metadata": {},
   "outputs": [],
   "source": [
    "from tqdm.notebook import trange"
   ]
  },
  {
   "cell_type": "code",
   "execution_count": 11,
   "metadata": {},
   "outputs": [],
   "source": [
    "m = 10**9\n",
    "def mult(A, B):\n",
    "    res = [[0 for _ in range(len(B[0]))] for _ in range(len(A))]\n",
    "    assert(len(A[0]) == len(B))\n",
    "    for i in trange(len(A)):\n",
    "        for q in range(len(B[0])):\n",
    "            for j in range(len(B)):\n",
    "                res[i][q] += A[i][j] * B[j][q]\n",
    "                res[i][q] %= m\n",
    "    return res"
   ]
  },
  {
   "cell_type": "code",
   "execution_count": 12,
   "metadata": {},
   "outputs": [
    {
     "data": {
      "text/plain": [
       "12"
      ]
     },
     "execution_count": 12,
     "metadata": {},
     "output_type": "execute_result"
    }
   ],
   "source": [
    "11**12 % 23"
   ]
  },
  {
   "cell_type": "code",
   "execution_count": 13,
   "metadata": {},
   "outputs": [],
   "source": [
    "B = [[0 for _ in range(23 * 24)]]\n",
    "B[0][0] = 1\n",
    "# B[digit sum * 23][remainder]\n",
    "\n",
    "T = [[0 for _ in range(23 * 24)] for _ in range(23 * 24)]\n",
    "for remainder in range(0, 23):\n",
    "    for dsum in range(0, 23 + 1):\n",
    "        for digit in range(0, 10):\n",
    "            last_rem = (remainder - digit) % 23\n",
    "            last_dsum = dsum - digit\n",
    "            if last_dsum < 0:\n",
    "                continue\n",
    "            T[last_dsum * 23 + last_rem][dsum * 23 + remainder] += 1\n",
    "\n",
    "DS = [[0 for _ in range(23 * 24)] for _ in range(23 * 24)]\n",
    "for remainder in range(0, 23):\n",
    "    for dsum in range(0, 23 + 1):\n",
    "        nu = (remainder * 10) % 23\n",
    "        DS[dsum * 23 + remainder][dsum * 23 + nu] += 1"
   ]
  },
  {
   "cell_type": "code",
   "execution_count": 27,
   "metadata": {},
   "outputs": [
    {
     "name": "stdout",
     "output_type": "stream",
     "text": [
      "1\n",
      "23\n",
      "45\n",
      "67\n",
      "89\n"
     ]
    }
   ],
   "source": [
    "for k in range(1, 100):\n",
    "    if 10**1 % 23 == 10**k % 23:\n",
    "        print(k)"
   ]
  },
  {
   "cell_type": "code",
   "execution_count": null,
   "metadata": {},
   "outputs": [],
   "source": [
    "def solve(m, k):\n",
    "    d = DS.copy()\n",
    "    b = m.copy()\n",
    "    k -= 1\n",
    "    while k:\n",
    "        print(k)\n",
    "        if k & 1:\n",
    "            m = mult(b, m)\n",
    "            k -= 1\n",
    "        else:\n",
    "            b = mult(b, b)\n",
    "            b = mult(b, b)\n",
    "            k //= 2\n",
    "    return m"
   ]
  },
  {
   "cell_type": "code",
   "execution_count": 15,
   "metadata": {},
   "outputs": [
    {
     "ename": "KeyboardInterrupt",
     "evalue": "",
     "output_type": "error",
     "traceback": [
      "\u001b[0;31m---------------------------------------------------------------------------\u001b[0m",
      "\u001b[0;31mKeyboardInterrupt\u001b[0m                         Traceback (most recent call last)",
      "Cell \u001b[0;32mIn[15], line 1\u001b[0m\n\u001b[0;32m----> 1\u001b[0m PP \u001b[38;5;241m=\u001b[39m \u001b[43mmatpow\u001b[49m\u001b[43m(\u001b[49m\u001b[43mT\u001b[49m\u001b[43m,\u001b[49m\u001b[43m \u001b[49m\u001b[38;5;241;43m2\u001b[39;49m\u001b[43m)\u001b[49m\n\u001b[1;32m      2\u001b[0m R \u001b[38;5;241m=\u001b[39m mult(B, PP)[\u001b[38;5;241m0\u001b[39m]\n\u001b[1;32m      3\u001b[0m \u001b[38;5;28;01mfor\u001b[39;00m i \u001b[38;5;129;01min\u001b[39;00m \u001b[38;5;28mrange\u001b[39m(\u001b[38;5;28mlen\u001b[39m(R)):\n",
      "File \u001b[0;32m~/ProjectEuler/utils/matrix.py:17\u001b[0m, in \u001b[0;36mmatpow\u001b[0;34m(m, k, mod)\u001b[0m\n\u001b[1;32m     15\u001b[0m \u001b[38;5;28;01mwhile\u001b[39;00m k:\n\u001b[1;32m     16\u001b[0m     \u001b[38;5;28;01mif\u001b[39;00m k \u001b[38;5;241m&\u001b[39m \u001b[38;5;241m1\u001b[39m:\n\u001b[0;32m---> 17\u001b[0m         m \u001b[38;5;241m=\u001b[39m \u001b[43mmult\u001b[49m\u001b[43m(\u001b[49m\u001b[43mb\u001b[49m\u001b[43m,\u001b[49m\u001b[43m \u001b[49m\u001b[43mm\u001b[49m\u001b[43m,\u001b[49m\u001b[43m \u001b[49m\u001b[43mmod\u001b[49m\u001b[43m)\u001b[49m\n\u001b[1;32m     18\u001b[0m         k \u001b[38;5;241m-\u001b[39m\u001b[38;5;241m=\u001b[39m \u001b[38;5;241m1\u001b[39m\n\u001b[1;32m     19\u001b[0m     \u001b[38;5;28;01melse\u001b[39;00m:\n",
      "File \u001b[0;32m~/ProjectEuler/utils/matrix.py:7\u001b[0m, in \u001b[0;36mmult\u001b[0;34m(A, B, mod)\u001b[0m\n\u001b[1;32m      5\u001b[0m \u001b[38;5;28;01mfor\u001b[39;00m q \u001b[38;5;129;01min\u001b[39;00m \u001b[38;5;28mrange\u001b[39m(\u001b[38;5;28mlen\u001b[39m(B[\u001b[38;5;241m0\u001b[39m])):\n\u001b[1;32m      6\u001b[0m     \u001b[38;5;28;01mfor\u001b[39;00m j \u001b[38;5;129;01min\u001b[39;00m \u001b[38;5;28mrange\u001b[39m(\u001b[38;5;28mlen\u001b[39m(B)):\n\u001b[0;32m----> 7\u001b[0m         res[i][q] \u001b[38;5;241m+\u001b[39m\u001b[38;5;241m=\u001b[39m A[i][j] \u001b[38;5;241m*\u001b[39m B[j][q]\n\u001b[1;32m      8\u001b[0m         \u001b[38;5;28;01mif\u001b[39;00m mod:\n\u001b[1;32m      9\u001b[0m             res[i][q] \u001b[38;5;241m%\u001b[39m\u001b[38;5;241m=\u001b[39m mod\n",
      "\u001b[0;31mKeyboardInterrupt\u001b[0m: "
     ]
    }
   ],
   "source": [
    "PP = matpow(T, 2)\n",
    "R = mult(B, PP)[0]\n",
    "for i in range(len(R)):\n",
    "    if (R[i]):\n",
    "        print(i, R[i], i //23, i%23)"
   ]
  },
  {
   "cell_type": "code",
   "execution_count": 8,
   "metadata": {},
   "outputs": [
    {
     "ename": "NameError",
     "evalue": "name 'matpow' is not defined",
     "output_type": "error",
     "traceback": [
      "\u001b[0;31m---------------------------------------------------------------------------\u001b[0m",
      "\u001b[0;31mNameError\u001b[0m                                 Traceback (most recent call last)",
      "Cell \u001b[0;32mIn[8], line 2\u001b[0m\n\u001b[1;32m      1\u001b[0m N \u001b[38;5;241m=\u001b[39m \u001b[38;5;241m9\u001b[39m\n\u001b[0;32m----> 2\u001b[0m P \u001b[38;5;241m=\u001b[39m \u001b[43mmatpow\u001b[49m(T, \u001b[38;5;241m9\u001b[39m)\n",
      "\u001b[0;31mNameError\u001b[0m: name 'matpow' is not defined"
     ]
    }
   ],
   "source": [
    "N = 9\n",
    "P = matpow(T, 9)"
   ]
  },
  {
   "cell_type": "code",
   "execution_count": 1,
   "metadata": {},
   "outputs": [
    {
     "ename": "NameError",
     "evalue": "name 'mult' is not defined",
     "output_type": "error",
     "traceback": [
      "\u001b[0;31m---------------------------------------------------------------------------\u001b[0m",
      "\u001b[0;31mNameError\u001b[0m                                 Traceback (most recent call last)",
      "Cell \u001b[0;32mIn[1], line 1\u001b[0m\n\u001b[0;32m----> 1\u001b[0m \u001b[43mmult\u001b[49m(B, PP)[\u001b[38;5;241m0\u001b[39m][\u001b[38;5;241m1\u001b[39m \u001b[38;5;241m*\u001b[39m \u001b[38;5;241m0\u001b[39m \u001b[38;5;241m+\u001b[39m \u001b[38;5;241m1\u001b[39m]\n",
      "\u001b[0;31mNameError\u001b[0m: name 'mult' is not defined"
     ]
    }
   ],
   "source": [
    "mult(B, PP)[0][1 * 0 + 1]"
   ]
  },
  {
   "cell_type": "code",
   "execution_count": null,
   "metadata": {},
   "outputs": [],
   "source": []
  },
  {
   "cell_type": "code",
   "execution_count": null,
   "metadata": {},
   "outputs": [],
   "source": []
  },
  {
   "cell_type": "code",
   "execution_count": null,
   "metadata": {},
   "outputs": [],
   "source": []
  },
  {
   "cell_type": "code",
   "execution_count": null,
   "metadata": {},
   "outputs": [],
   "source": []
  },
  {
   "cell_type": "code",
   "execution_count": 28,
   "metadata": {},
   "outputs": [],
   "source": [
    "# Each has a unique transition. We go in circles. Do we need to wrap? 22 is same as 1. Dont think so\n",
    "# Just define the addition and the dsum delta"
   ]
  },
  {
   "cell_type": "code",
   "execution_count": 34,
   "metadata": {},
   "outputs": [
    {
     "data": {
      "text/plain": [
       "1"
      ]
     },
     "execution_count": 34,
     "metadata": {},
     "output_type": "execute_result"
    }
   ],
   "source": [
    "11**12 % 21"
   ]
  },
  {
   "cell_type": "code",
   "execution_count": null,
   "metadata": {},
   "outputs": [],
   "source": [
    "def transition():\n",
    "    dims = 23 * 23 # We only add combos of 10s that are powers of 23?\n",
    "    print(dims)\n",
    "    # Defined as adding each individual power. Can add combinations of 1-22?\n",
    "    transition = [[0 for _ in range(dims)] for _ in range(dims)]\n",
    "\n",
    "    return transition\n",
    "# transition()"
   ]
  },
  {
   "cell_type": "code",
   "execution_count": 45,
   "metadata": {},
   "outputs": [
    {
     "name": "stdout",
     "output_type": "stream",
     "text": [
      "441\n",
      "441\n"
     ]
    },
    {
     "data": {
      "application/vnd.jupyter.widget-view+json": {
       "model_id": "0d273546d6b54a1aab1028b39fee4511",
       "version_major": 2,
       "version_minor": 0
      },
      "text/plain": [
       "  0%|          | 0/441 [00:00<?, ?it/s]"
      ]
     },
     "metadata": {},
     "output_type": "display_data"
    }
   ],
   "source": [
    "mult(transition(), transition())\n",
    "pass"
   ]
  }
 ],
 "metadata": {
  "kernelspec": {
   "display_name": "Python 3",
   "language": "python",
   "name": "python3"
  },
  "language_info": {
   "codemirror_mode": {
    "name": "ipython",
    "version": 3
   },
   "file_extension": ".py",
   "mimetype": "text/x-python",
   "name": "python",
   "nbconvert_exporter": "python",
   "pygments_lexer": "ipython3",
   "version": "3.9.6"
  }
 },
 "nbformat": 4,
 "nbformat_minor": 2
}
