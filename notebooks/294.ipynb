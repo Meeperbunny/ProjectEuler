{
 "cells": [
  {
   "cell_type": "code",
   "execution_count": 13,
   "metadata": {},
   "outputs": [],
   "source": [
    "from tqdm.notebook import trange"
   ]
  },
  {
   "cell_type": "code",
   "execution_count": 14,
   "metadata": {},
   "outputs": [],
   "source": [
    "m = 10**9\n",
    "def mult(A, B):\n",
    "    res = [[0 for _ in range(len(B[0]))] for _ in range(len(A))]\n",
    "    assert(len(A[0]) == len(B))\n",
    "    for i in trange(len(A)):\n",
    "        for q in range(len(B[0])):\n",
    "            for j in range(len(B)):\n",
    "                res[i][q] += A[i][j] * B[j][q]\n",
    "                res[i][q] %= m\n",
    "    return res"
   ]
  },
  {
   "cell_type": "code",
   "execution_count": 34,
   "metadata": {},
   "outputs": [
    {
     "data": {
      "text/plain": [
       "12"
      ]
     },
     "execution_count": 34,
     "metadata": {},
     "output_type": "execute_result"
    }
   ],
   "source": [
    "11**12 % 23"
   ]
  },
  {
   "cell_type": "code",
   "execution_count": null,
   "metadata": {},
   "outputs": [],
   "source": []
  },
  {
   "cell_type": "code",
   "execution_count": 37,
   "metadata": {},
   "outputs": [],
   "source": [
    "B = [[0 for _ in range(23 * 24)]]\n",
    "B[0][0] = 1\n",
    "# B[digit sum * 23][remainder]\n",
    "\n",
    "T = [[0 for _ in range(23 * 24)] for _ in range(23 * 24)]\n",
    "for remainder in range(0, 23):\n",
    "    for dsum in range(0, 23 + 1):\n",
    "        for digit in range(0, 10):\n",
    "            last_rem = (remainder - digit) % 23\n",
    "            last_dsum = dsum - digit\n",
    "            if last_dsum < 0:\n",
    "                continue\n",
    "            T[last_dsum * 23 + last_rem][dsum * 23 + remainder] += 1\n",
    "\n",
    "DS = [[0 for _ in range(23 * 24)] for _ in range(23 * 24)]\n",
    "for remainder in range(0, 23):\n",
    "    for dsum in range(0, 23 + 1):\n",
    "        nu = (remainder * 10) % 23\n",
    "        DS[dsum * 23 + remainder][dsum * 23 + nu] += 1"
   ]
  },
  {
   "cell_type": "code",
   "execution_count": null,
   "metadata": {},
   "outputs": [],
   "source": [
    "def solve(m, k):\n",
    "    d = DS.copy()\n",
    "    b = m.copy()\n",
    "    k -= 1\n",
    "    while k:\n",
    "        print(k)\n",
    "        if k & 1:\n",
    "            m = mult(b, m)\n",
    "            k -= 1\n",
    "        else:\n",
    "            b = mult(b, b)\n",
    "            b = mult(b, b)\n",
    "            k //= 2\n",
    "    return m"
   ]
  },
  {
   "cell_type": "code",
   "execution_count": null,
   "metadata": {},
   "outputs": [],
   "source": []
  },
  {
   "cell_type": "code",
   "execution_count": 33,
   "metadata": {},
   "outputs": [
    {
     "name": "stdout",
     "output_type": "stream",
     "text": [
      "1\n"
     ]
    },
    {
     "data": {
      "application/vnd.jupyter.widget-view+json": {
       "model_id": "7dde05405b114195950c272d2799608a",
       "version_major": 2,
       "version_minor": 0
      },
      "text/plain": [
       "  0%|          | 0/552 [00:00<?, ?it/s]"
      ]
     },
     "metadata": {},
     "output_type": "display_data"
    },
    {
     "data": {
      "application/vnd.jupyter.widget-view+json": {
       "model_id": "3545eba86ac64cfa9486615489f03c3d",
       "version_major": 2,
       "version_minor": 0
      },
      "text/plain": [
       "  0%|          | 0/1 [00:00<?, ?it/s]"
      ]
     },
     "metadata": {},
     "output_type": "display_data"
    },
    {
     "name": "stdout",
     "output_type": "stream",
     "text": [
      "0 1 0 0\n",
      "24 2 1 1\n",
      "48 3 2 2\n",
      "72 4 3 3\n",
      "96 5 4 4\n",
      "120 6 5 5\n",
      "144 7 6 6\n",
      "168 8 7 7\n",
      "192 9 8 8\n",
      "216 10 9 9\n",
      "240 9 10 10\n",
      "264 8 11 11\n",
      "288 7 12 12\n",
      "312 6 13 13\n",
      "336 5 14 14\n",
      "360 4 15 15\n",
      "384 3 16 16\n",
      "408 2 17 17\n",
      "432 1 18 18\n"
     ]
    }
   ],
   "source": [
    "PP = matpow(T, 2)\n",
    "R = mult(B, PP)[0]\n",
    "for i in range(len(R)):\n",
    "    if (R[i]):\n",
    "        print(i, R[i], i //23, i%23)"
   ]
  },
  {
   "cell_type": "code",
   "execution_count": null,
   "metadata": {},
   "outputs": [],
   "source": []
  },
  {
   "cell_type": "code",
   "execution_count": 16,
   "metadata": {},
   "outputs": [
    {
     "name": "stdout",
     "output_type": "stream",
     "text": [
      "8\n"
     ]
    },
    {
     "data": {
      "application/vnd.jupyter.widget-view+json": {
       "model_id": "b3b24f99e1454671a5f0e3a59645c3cb",
       "version_major": 2,
       "version_minor": 0
      },
      "text/plain": [
       "  0%|          | 0/552 [00:00<?, ?it/s]"
      ]
     },
     "metadata": {},
     "output_type": "display_data"
    },
    {
     "name": "stdout",
     "output_type": "stream",
     "text": [
      "4\n"
     ]
    },
    {
     "data": {
      "application/vnd.jupyter.widget-view+json": {
       "model_id": "410e02e2fb844180ba43474f8b0f575a",
       "version_major": 2,
       "version_minor": 0
      },
      "text/plain": [
       "  0%|          | 0/552 [00:00<?, ?it/s]"
      ]
     },
     "metadata": {},
     "output_type": "display_data"
    },
    {
     "name": "stdout",
     "output_type": "stream",
     "text": [
      "2\n"
     ]
    },
    {
     "data": {
      "application/vnd.jupyter.widget-view+json": {
       "model_id": "caa6aebc0f5b413e91888c07ab75fd55",
       "version_major": 2,
       "version_minor": 0
      },
      "text/plain": [
       "  0%|          | 0/552 [00:00<?, ?it/s]"
      ]
     },
     "metadata": {},
     "output_type": "display_data"
    },
    {
     "name": "stdout",
     "output_type": "stream",
     "text": [
      "1\n"
     ]
    },
    {
     "data": {
      "application/vnd.jupyter.widget-view+json": {
       "model_id": "a1f4091a4cd54e6bb990c7e78afd33ba",
       "version_major": 2,
       "version_minor": 0
      },
      "text/plain": [
       "  0%|          | 0/552 [00:00<?, ?it/s]"
      ]
     },
     "metadata": {},
     "output_type": "display_data"
    }
   ],
   "source": [
    "N = 9\n",
    "P = matpow(T, 9)"
   ]
  },
  {
   "cell_type": "code",
   "execution_count": 26,
   "metadata": {},
   "outputs": [
    {
     "data": {
      "application/vnd.jupyter.widget-view+json": {
       "model_id": "6608ff574b874aa590acd6452233f8e2",
       "version_major": 2,
       "version_minor": 0
      },
      "text/plain": [
       "  0%|          | 0/1 [00:00<?, ?it/s]"
      ]
     },
     "metadata": {},
     "output_type": "display_data"
    },
    {
     "data": {
      "text/plain": [
       "0"
      ]
     },
     "execution_count": 26,
     "metadata": {},
     "output_type": "execute_result"
    }
   ],
   "source": [
    "mult(B, PP)[0][1 * 0 + 1]"
   ]
  }
 ],
 "metadata": {
  "kernelspec": {
   "display_name": "Python 3",
   "language": "python",
   "name": "python3"
  },
  "language_info": {
   "codemirror_mode": {
    "name": "ipython",
    "version": 3
   },
   "file_extension": ".py",
   "mimetype": "text/x-python",
   "name": "python",
   "nbconvert_exporter": "python",
   "pygments_lexer": "ipython3",
   "version": "3.9.6"
  }
 },
 "nbformat": 4,
 "nbformat_minor": 2
}
