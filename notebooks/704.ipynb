{
 "cells": [
  {
   "cell_type": "code",
   "execution_count": 1,
   "id": "59b104de-8b1b-45c1-bb2c-d0c5e6957094",
   "metadata": {},
   "outputs": [],
   "source": [
    "from scipy.special import binom"
   ]
  },
  {
   "cell_type": "code",
   "execution_count": 29,
   "id": "9ffa6a80-48c3-42c3-8125-05fb2886525d",
   "metadata": {},
   "outputs": [],
   "source": [
    "def TCF(n):\n",
    "    b = 2\n",
    "    t = 0\n",
    "    while b <= n:\n",
    "        t += n // b\n",
    "        b *= 2\n",
    "    return t"
   ]
  },
  {
   "cell_type": "code",
   "execution_count": 35,
   "id": "ab75d3f6-b9d7-4b5b-8b96-d1fc8a188710",
   "metadata": {},
   "outputs": [
    {
     "data": {
      "text/plain": [
       "10"
      ]
     },
     "execution_count": 35,
     "metadata": {},
     "output_type": "execute_result"
    }
   ],
   "source": []
  },
  {
   "cell_type": "code",
   "execution_count": 36,
   "id": "439c04b4-068d-475c-92fd-c5161d64bb54",
   "metadata": {},
   "outputs": [],
   "source": [
    "def g(n, m):\n",
    "    return TCF(n) - (TCF(n - m) + TCF(m))"
   ]
  },
  {
   "cell_type": "code",
   "execution_count": 58,
   "id": "bfe203b5-acb3-4ec4-8897-91f15ca5df98",
   "metadata": {},
   "outputs": [],
   "source": [
    "def F(n):\n",
    "    ma = -1\n",
    "    mind = -1\n",
    "    for m in range(0, n + 1):\n",
    "        # print(n, m, g(n, m))\n",
    "        G = g(n, m)\n",
    "        if G > ma:\n",
    "            ma = G\n",
    "            mind = m\n",
    "    return ma, mind"
   ]
  },
  {
   "cell_type": "code",
   "execution_count": 59,
   "id": "d214a5c3-b46d-4ecd-95cd-9b54e11cce30",
   "metadata": {},
   "outputs": [],
   "source": [
    "def S(n):\n",
    "    return sum([F(i)[0] for i in range(1, n + 1)])"
   ]
  },
  {
   "cell_type": "code",
   "execution_count": 61,
   "id": "71617789-5b8d-40e9-806e-78a0ce714836",
   "metadata": {},
   "outputs": [
    {
     "name": "stdout",
     "output_type": "stream",
     "text": [
      "1 (0, 0)\n",
      "2 (1, 1)\n",
      "3 (0, 0)\n",
      "4 (2, 1)\n",
      "5 (1, 2)\n",
      "6 (2, 3)\n",
      "7 (0, 0)\n",
      "8 (3, 1)\n",
      "9 (2, 2)\n",
      "10 (3, 3)\n"
     ]
    }
   ],
   "source": [
    "for i in range(1, 10 + 1):\n",
    "    print(i, F(i))"
   ]
  },
  {
   "cell_type": "code",
   "execution_count": 55,
   "id": "f93d9d38-e050-4982-a240-db38b91b1d5d",
   "metadata": {},
   "outputs": [
    {
     "data": {
      "text/plain": [
       "14"
      ]
     },
     "execution_count": 55,
     "metadata": {},
     "output_type": "execute_result"
    }
   ],
   "source": [
    "S(10)"
   ]
  },
  {
   "cell_type": "code",
   "execution_count": 240,
   "id": "f4ab8dae-658b-461b-9bcc-728b4dc51de2",
   "metadata": {},
   "outputs": [],
   "source": [
    "a = sum([TCF(i) for i in range(10 + 1)])"
   ]
  },
  {
   "cell_type": "code",
   "execution_count": 241,
   "id": "743ca9ad-048a-468e-87ce-a87381db298c",
   "metadata": {},
   "outputs": [],
   "source": [
    "b = sum([TCF(i) for i in range(2)]) + sum([TCF(i) for i in range(4)]) + sum([TCF(i) for i in range(4)]) + TCF(1) * 2 + TCF(3)*4+TCF(7)*4"
   ]
  },
  {
   "cell_type": "code",
   "execution_count": 242,
   "id": "c221a159-4e57-4a60-a835-eda0a3088f23",
   "metadata": {},
   "outputs": [
    {
     "data": {
      "text/plain": [
       "38"
      ]
     },
     "execution_count": 242,
     "metadata": {},
     "output_type": "execute_result"
    }
   ],
   "source": [
    "a"
   ]
  },
  {
   "cell_type": "code",
   "execution_count": 244,
   "id": "1b77f00a-c22d-4501-b93b-d101e00453a1",
   "metadata": {},
   "outputs": [
    {
     "data": {
      "text/plain": [
       "20"
      ]
     },
     "execution_count": 244,
     "metadata": {},
     "output_type": "execute_result"
    }
   ],
   "source": [
    "TCF(1) * 2 + TCF(3)*4+TCF(7)*4"
   ]
  },
  {
   "cell_type": "code",
   "execution_count": 243,
   "id": "96346ca3-5213-4fe4-8f10-592d022aadcc",
   "metadata": {},
   "outputs": [
    {
     "data": {
      "text/plain": [
       "24"
      ]
     },
     "execution_count": 243,
     "metadata": {},
     "output_type": "execute_result"
    }
   ],
   "source": [
    "b"
   ]
  },
  {
   "cell_type": "code",
   "execution_count": 69,
   "id": "8c8f4766-4db3-488d-81a2-af20d1821e95",
   "metadata": {},
   "outputs": [
    {
     "data": {
      "text/plain": [
       "14"
      ]
     },
     "execution_count": 69,
     "metadata": {},
     "output_type": "execute_result"
    }
   ],
   "source": [
    "a - b"
   ]
  },
  {
   "cell_type": "markdown",
   "id": "d6e05906-923e-4cb5-9976-1f020e5a9000",
   "metadata": {},
   "source": [
    "Sum is given as sum of TCF from range of $[1, n]$ subtracted by TCF of right side of $F(i)$"
   ]
  },
  {
   "cell_type": "code",
   "execution_count": 70,
   "id": "4ad60fe0-1d9a-4412-828d-d4fdcee5f1f4",
   "metadata": {},
   "outputs": [],
   "source": [
    "# def TCF_r(a, b):\n",
    "#     return sum([TCF(i) for i in range(a, b + 1)])"
   ]
  },
  {
   "cell_type": "code",
   "execution_count": 77,
   "id": "560aec51-b354-4deb-a087-242176c04b97",
   "metadata": {},
   "outputs": [],
   "source": [
    "def tri(i):\n",
    "    return i * (i + 1) // 2"
   ]
  },
  {
   "cell_type": "code",
   "execution_count": 207,
   "id": "327ac2e6-6d82-4c6d-95ef-76c9e16b58dc",
   "metadata": {},
   "outputs": [],
   "source": [
    "def TCF_p(i):\n",
    "    if i <= 1:\n",
    "        return 0\n",
    "    i -= 1\n",
    "    b = 2\n",
    "    tot = 0\n",
    "    while b <= i + 1:\n",
    "        mn = (i + b - 1 - (b - 2)) // b\n",
    "        s = tri(mn) * b\n",
    "        mv = (b - 2) + mn * b\n",
    "        over = mv - i\n",
    "        # print(f\"b is {over} over with MN: {mn}\")\n",
    "        s -= over * mn\n",
    "        tot += s\n",
    "        # print(b, s)\n",
    "        b *= 2\n",
    "    return tot"
   ]
  },
  {
   "cell_type": "code",
   "execution_count": 208,
   "id": "edd88073-7a9d-4bfd-9f1e-e4ae731b7df2",
   "metadata": {},
   "outputs": [
    {
     "data": {
      "text/plain": [
       "(76111147, 76111147)"
      ]
     },
     "execution_count": 208,
     "metadata": {},
     "output_type": "execute_result"
    }
   ],
   "source": [
    "j = 12344\n",
    "TCF_r(1, j), TCF_p(j)"
   ]
  },
  {
   "cell_type": "code",
   "execution_count": 209,
   "id": "bcd22169-ebdb-44b1-bf32-c9a37283b3e4",
   "metadata": {},
   "outputs": [],
   "source": [
    "def TCF_r(a, b):\n",
    "    return TCF_p(b) - TCF_p(a - 1)"
   ]
  },
  {
   "cell_type": "code",
   "execution_count": 252,
   "id": "b71a2c10-352a-4896-91f5-669adc2b86ef",
   "metadata": {},
   "outputs": [
    {
     "data": {
      "text/plain": [
       "3292501994201735904605019982183059029077174644552854300508593835148720376006404992614211894583815570179"
      ]
     },
     "execution_count": 252,
     "metadata": {},
     "output_type": "execute_result"
    }
   ],
   "source": [
    "n = 10**100\n",
    "a = TCF_r(1, n)\n",
    "c = 1\n",
    "inc = 2\n",
    "nx = 2\n",
    "b = 0\n",
    "while c < n:\n",
    "    if nx >= n:\n",
    "        nx = n\n",
    "    base = TCF(c)\n",
    "    # print(\"Starting:\", c, nx)\n",
    "    ra = nx - c + 1\n",
    "    b += base * ra\n",
    "    # print(\"\\t\", base, ra, base*ra)\n",
    "    b += TCF_r(1, ra - 1)\n",
    "    # print(\"\\t\", TCF_r(1, ra - 1))\n",
    "    c = nx + 1\n",
    "    inc *= 2\n",
    "    nx = c + inc - 1\n",
    "a-b"
   ]
  },
  {
   "cell_type": "code",
   "execution_count": null,
   "id": "47a9183e-6fb0-48d5-9977-739337f1e674",
   "metadata": {},
   "outputs": [],
   "source": []
  }
 ],
 "metadata": {
  "kernelspec": {
   "display_name": "Python 3 (ipykernel)",
   "language": "python",
   "name": "python3"
  },
  "language_info": {
   "codemirror_mode": {
    "name": "ipython",
    "version": 3
   },
   "file_extension": ".py",
   "mimetype": "text/x-python",
   "name": "python",
   "nbconvert_exporter": "python",
   "pygments_lexer": "ipython3",
   "version": "3.12.6"
  }
 },
 "nbformat": 4,
 "nbformat_minor": 5
}
