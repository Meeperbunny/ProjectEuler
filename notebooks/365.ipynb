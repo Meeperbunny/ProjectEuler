{
 "cells": [
  {
   "cell_type": "code",
   "execution_count": 2,
   "id": "9d2615f5-e2bf-4639-9f2e-e817b0441b98",
   "metadata": {},
   "outputs": [],
   "source": [
    "def isp(n):\n",
    "    for i in range(2, int(n**0.5+1)):\n",
    "        if n % i == 0:\n",
    "            return False\n",
    "    return True"
   ]
  },
  {
   "cell_type": "code",
   "execution_count": 4,
   "id": "0bc8e7cc-f491-4d4b-84d7-459be675458f",
   "metadata": {},
   "outputs": [],
   "source": [
    "primes = [i for i in range(1000, 5000 + 1) if isp(i)]"
   ]
  },
  {
   "cell_type": "code",
   "execution_count": null,
   "id": "992f6329-56fc-42df-8f6f-3de2c3e51ee0",
   "metadata": {},
   "outputs": [],
   "source": []
  }
 ],
 "metadata": {
  "kernelspec": {
   "display_name": "Python 3 (ipykernel)",
   "language": "python",
   "name": "python3"
  },
  "language_info": {
   "codemirror_mode": {
    "name": "ipython",
    "version": 3
   },
   "file_extension": ".py",
   "mimetype": "text/x-python",
   "name": "python",
   "nbconvert_exporter": "python",
   "pygments_lexer": "ipython3",
   "version": "3.12.4"
  }
 },
 "nbformat": 4,
 "nbformat_minor": 5
}
