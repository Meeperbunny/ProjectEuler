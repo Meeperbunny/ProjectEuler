{
 "cells": [
  {
   "cell_type": "code",
   "execution_count": 2,
   "metadata": {},
   "outputs": [],
   "source": [
    "def mckay(n):\n",
    "    \"\"\"\n",
    "    Integer partitions of n, in reverse lexicographic order.\n",
    "    Note that the generated output consists of the same list object,\n",
    "    repeated the correct number of times; the caller must leave this\n",
    "    list unchanged, and must make a copy of any partition that is\n",
    "    intended to last longer than the next call into the generator.\n",
    "    The algorithm follows Knuth v4 fasc3 p38 in rough outline.\n",
    "    \"\"\"\n",
    "    if n == 0:\n",
    "        yield []\n",
    "    if n <= 0:\n",
    "        return\n",
    "    partition = [n]\n",
    "    last_nonunit = (n > 1) - 1\n",
    "    while True:\n",
    "        yield partition\n",
    "        if last_nonunit < 0:\n",
    "            return\n",
    "        if partition[last_nonunit] == 2:\n",
    "            partition[last_nonunit] = 1\n",
    "            partition.append(1)\n",
    "            last_nonunit -= 1\n",
    "            continue\n",
    "        replacement = partition[last_nonunit] - 1\n",
    "        total_replaced = replacement + len(partition) - last_nonunit\n",
    "        reps,rest = divmod(total_replaced,replacement)\n",
    "        partition[last_nonunit:] = reps*[replacement]\n",
    "        if rest:\n",
    "            partition.append(rest)\n",
    "        last_nonunit = len(partition) - (partition[-1]==1) - 1\n",
    "\n",
    "def integer_partition(n):\n",
    "    return [e.copy() for e in mckay(n)]"
   ]
  },
  {
   "cell_type": "code",
   "execution_count": 9,
   "metadata": {},
   "outputs": [],
   "source": [
    "from itertools import permutations"
   ]
  },
  {
   "cell_type": "code",
   "execution_count": 14,
   "metadata": {},
   "outputs": [
    {
     "data": {
      "text/plain": [
       "256"
      ]
     },
     "execution_count": 14,
     "metadata": {},
     "output_type": "execute_result"
    }
   ],
   "source": [
    "pset = set()\n",
    "for el in integer_partition(9):\n",
    "    for perm in permutations(el):\n",
    "        pset.add(perm)\n",
    "len(pset)"
   ]
  },
  {
   "cell_type": "code",
   "execution_count": 16,
   "metadata": {},
   "outputs": [
    {
     "data": {
      "text/plain": [
       "256"
      ]
     },
     "execution_count": 16,
     "metadata": {},
     "output_type": "execute_result"
    }
   ],
   "source": [
    "nums = []\n",
    "for e in pset:\n",
    "    c = 1\n",
    "    cs = []\n",
    "    for sz in e:\n",
    "        t = 0\n",
    "        for i in range(sz):\n",
    "            t = t * 10 + c\n",
    "            c += 1\n",
    "        cs.append(t)\n",
    "    nums.append(cs)\n",
    "len(nums)    "
   ]
  },
  {
   "cell_type": "code",
   "execution_count": null,
   "metadata": {},
   "outputs": [
    {
     "data": {
      "text/plain": [
       "[12, 3, 456, 7, 89]"
      ]
     },
     "execution_count": 17,
     "metadata": {},
     "output_type": "execute_result"
    }
   ],
   "source": []
  },
  {
   "cell_type": "code",
   "execution_count": 21,
   "metadata": {},
   "outputs": [],
   "source": [
    "from fractions import Fraction"
   ]
  },
  {
   "cell_type": "code",
   "execution_count": null,
   "metadata": {},
   "outputs": [
    {
     "name": "stdout",
     "output_type": "stream",
     "text": [
      "[12, 3, 456, 7, 89]\n"
     ]
    },
    {
     "data": {
      "text/plain": [
       "set()"
      ]
     },
     "execution_count": 25,
     "metadata": {},
     "output_type": "execute_result"
    }
   ],
   "source": [
    "def solve(seq):\n",
    "    s = set()\n",
    "    n = len(seq)\n",
    "    lk = {}\n",
    "    for sz in range(1, n + 1):\n",
    "        for l in range(0, n):\n",
    "            r = l + sz\n",
    "            if sz == 1:\n",
    "                lk[(l, r)] = set({Fraction(seq[l])})\n",
    "            else:\n",
    "                for mid in range(l + 1, r):\n",
    "                    l1, r1 = l, mid\n",
    "                    l2, r2 = mid, r\n",
    "\n",
    "        \n",
    "\n",
    "    return s\n",
    "\n",
    "print(nums[0])\n",
    "solve(nums[0])"
   ]
  }
 ],
 "metadata": {
  "kernelspec": {
   "display_name": "Python 3",
   "language": "python",
   "name": "python3"
  },
  "language_info": {
   "codemirror_mode": {
    "name": "ipython",
    "version": 3
   },
   "file_extension": ".py",
   "mimetype": "text/x-python",
   "name": "python",
   "nbconvert_exporter": "python",
   "pygments_lexer": "ipython3",
   "version": "3.9.6"
  }
 },
 "nbformat": 4,
 "nbformat_minor": 2
}
