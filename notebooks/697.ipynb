{
 "cells": [
  {
   "cell_type": "code",
   "execution_count": null,
   "metadata": {},
   "outputs": [],
   "source": [
    "# Irwin-hall dist\n",
    "# 0.25 = 1/n! * (sum_{k=0}^{floor(x)} (-1)^k * binom(n, k) * (x - k)^n)\n",
    "# c * x = 1"
   ]
  }
 ],
 "metadata": {
  "language_info": {
   "name": "python"
  }
 },
 "nbformat": 4,
 "nbformat_minor": 2
}
