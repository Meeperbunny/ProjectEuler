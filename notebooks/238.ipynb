{
 "cells": [
  {
   "cell_type": "code",
   "execution_count": 1,
   "metadata": {},
   "outputs": [],
   "source": [
    "s_i = 14025256\n",
    "def S():\n",
    "    global s_i\n",
    "    ts = s_i\n",
    "    s_i = s_i**2 % 20300713\n",
    "    return ts\n",
    "ss = []\n",
    "def num(n):\n",
    "    global ss\n",
    "    while len(ss) <= n:\n",
    "        ss += [ord(c) - ord('0') for c in str(S())]\n",
    "    return ss[n]"
   ]
  },
  {
   "cell_type": "code",
   "execution_count": 94,
   "metadata": {},
   "outputs": [
    {
     "data": {
      "text/plain": [
       "20273576"
      ]
     },
     "execution_count": 94,
     "metadata": {},
     "output_type": "execute_result"
    }
   ],
   "source": [
    "2534197 * 8"
   ]
  },
  {
   "cell_type": "code",
   "execution_count": 32,
   "metadata": {},
   "outputs": [
    {
     "name": "stdout",
     "output_type": "stream",
     "text": [
      "2534197\n",
      "5068395\n",
      "7602593\n"
     ]
    }
   ],
   "source": [
    "for i in range(10000_000):\n",
    "    if S(i + 1) == 14025256:\n",
    "        print(i)"
   ]
  },
  {
   "cell_type": "code",
   "execution_count": 10,
   "metadata": {},
   "outputs": [],
   "source": [
    "def string(n):\n",
    "    st = \"\"\n",
    "    for i in range(0, n):\n",
    "        st += str(S(i))\n",
    "    return [ord(e) - ord('0') for e in st]"
   ]
  },
  {
   "cell_type": "code",
   "execution_count": 21,
   "metadata": {},
   "outputs": [],
   "source": [
    "def k(i):\n",
    "    cc = 0\n",
    "    for sta in range(0, N + 1):\n",
    "        T = 0\n",
    "        for q in range(0, len(st)):\n",
    "            T += st[sta + q]\n",
    "            if T > i:\n",
    "                break\n",
    "            if T == i:\n",
    "                cc = sta + 1\n",
    "                break\n",
    "        if cc:\n",
    "            break\n",
    "    return cc"
   ]
  },
  {
   "cell_type": "code",
   "execution_count": null,
   "metadata": {},
   "outputs": [],
   "source": []
  },
  {
   "cell_type": "code",
   "execution_count": 35,
   "metadata": {},
   "outputs": [
    {
     "data": {
      "text/plain": [
       "(98860, 80)"
      ]
     },
     "execution_count": 35,
     "metadata": {},
     "output_type": "execute_result"
    }
   ],
   "source": [
    "TT = 0\n",
    "mcc = 0\n",
    "N = 20000\n",
    "st = string(N // 2)\n",
    "for i in range(1, N + 1):\n",
    "    K = k(i)\n",
    "    TT += K\n",
    "    # print(i, cc)\n",
    "    mcc  = max(mcc, K)\n",
    "TT, mcc"
   ]
  },
  {
   "cell_type": "code",
   "execution_count": 39,
   "metadata": {},
   "outputs": [
    {
     "data": {
      "text/plain": [
       "5847003"
      ]
     },
     "execution_count": 39,
     "metadata": {},
     "output_type": "execute_result"
    }
   ],
   "source": []
  },
  {
   "cell_type": "code",
   "execution_count": 3,
   "metadata": {},
   "outputs": [],
   "source": [
    "from tqdm.notebook import trange"
   ]
  },
  {
   "cell_type": "code",
   "execution_count": 19,
   "metadata": {},
   "outputs": [
    {
     "data": {
      "text/plain": [
       "428072426"
      ]
     },
     "execution_count": 19,
     "metadata": {},
     "output_type": "execute_result"
    }
   ],
   "source": [
    "max(lks)"
   ]
  },
  {
   "cell_type": "code",
   "execution_count": 25,
   "metadata": {},
   "outputs": [
    {
     "data": {
      "application/vnd.jupyter.widget-view+json": {
       "model_id": "5f006c01a00c4a0bb1686c425333c44c",
       "version_major": 2,
       "version_minor": 0
      },
      "text/plain": [
       "  0%|          | 0/100000001 [00:00<?, ?it/s]"
      ]
     },
     "metadata": {},
     "output_type": "display_data"
    }
   ],
   "source": [
    "# Get the cyclicalities for starting positions 1 to 80\n",
    "\n",
    "N = 10**8\n",
    "K = 80\n",
    "lks = [100 for _ in range(428072426 + 1)]\n",
    "nums = [0 for _ in range(K + 1)]\n",
    "seens = [[] for _ in range(K + 1)]\n",
    "for i in trange(0, N + 1):\n",
    "    n = num(i)\n",
    "    for k in range(0, min(i + 1, K + 1)):\n",
    "        nums[k] += n\n",
    "        # if nums[k] not in lks:\n",
    "        #     lks[nums[k]] = k + 1\n",
    "        lks[nums[k]] = min(lks[nums[k]], k + 1)"
   ]
  },
  {
   "cell_type": "code",
   "execution_count": 28,
   "metadata": {},
   "outputs": [
    {
     "data": {
      "application/vnd.jupyter.widget-view+json": {
       "model_id": "3538ca6751b0446dbdac2aa2fddb8958",
       "version_major": 2,
       "version_minor": 0
      },
      "text/plain": [
       "  0%|          | 0/100000000 [00:00<?, ?it/s]"
      ]
     },
     "metadata": {},
     "output_type": "display_data"
    }
   ],
   "source": [
    "inds = [[] for _ in range(K + 1)]\n",
    "for i in trange(1, N + 1):\n",
    "    if lks[i] != 100:\n",
    "        inds[lks[i]].append(i)"
   ]
  },
  {
   "cell_type": "code",
   "execution_count": 29,
   "metadata": {},
   "outputs": [],
   "source": [
    "def diff(a):\n",
    "    return [a[i + 1] - a[i] for i in range(len(a) - 1)]"
   ]
  },
  {
   "cell_type": "code",
   "execution_count": 32,
   "metadata": {},
   "outputs": [
    {
     "data": {
      "application/vnd.jupyter.widget-view+json": {
       "model_id": "fc4afb63338840f4b088938b4a105697",
       "version_major": 2,
       "version_minor": 0
      },
      "text/plain": [
       "  0%|          | 0/21283700 [00:00<?, ?it/s]"
      ]
     },
     "metadata": {},
     "output_type": "display_data"
    },
    {
     "name": "stdout",
     "output_type": "stream",
     "text": [
      "CYC AT K = 17207333\n",
      "[4, 2, 5, 2, 5, 6, 7, 4, 1, 1]\n"
     ]
    },
    {
     "data": {
      "application/vnd.jupyter.widget-view+json": {
       "model_id": "ab1267c56b574ce08d94b6c2aac79783",
       "version_major": 2,
       "version_minor": 0
      },
      "text/plain": [
       "  0%|          | 0/17539779 [00:00<?, ?it/s]"
      ]
     },
     "metadata": {},
     "output_type": "display_data"
    },
    {
     "name": "stdout",
     "output_type": "stream",
     "text": [
      "CYC AT K = 14180281\n",
      "[2, 5, 2, 5, 6, 7, 4, 6, 9, 5]\n"
     ]
    },
    {
     "data": {
      "application/vnd.jupyter.widget-view+json": {
       "model_id": "cb3077cfe61b4880a3338ae63e70fca7",
       "version_major": 2,
       "version_minor": 0
      },
      "text/plain": [
       "  0%|          | 0/14671233 [00:00<?, ?it/s]"
      ]
     },
     "metadata": {},
     "output_type": "display_data"
    },
    {
     "name": "stdout",
     "output_type": "stream",
     "text": [
      "CYC AT K = 11861035\n",
      "[7, 11, 7, 6, 13, 13, 11, 3, 8, 8]\n"
     ]
    },
    {
     "data": {
      "application/vnd.jupyter.widget-view+json": {
       "model_id": "fd303a9fdd4044008fc9894533fdf110",
       "version_major": 2,
       "version_minor": 0
      },
      "text/plain": [
       "0it [00:00, ?it/s]"
      ]
     },
     "metadata": {},
     "output_type": "display_data"
    },
    {
     "name": "stdout",
     "output_type": "stream",
     "text": [
      "[]\n"
     ]
    },
    {
     "data": {
      "application/vnd.jupyter.widget-view+json": {
       "model_id": "bcab1ed44cf3452da29578dc359ea056",
       "version_major": 2,
       "version_minor": 0
      },
      "text/plain": [
       "  0%|          | 0/11199597 [00:00<?, ?it/s]"
      ]
     },
     "metadata": {},
     "output_type": "display_data"
    },
    {
     "name": "stdout",
     "output_type": "stream",
     "text": [
      "CYC AT K = 9054765\n",
      "[1, 14, 5, 8, 4, 10, 8, 5, 3, 10]\n"
     ]
    },
    {
     "data": {
      "application/vnd.jupyter.widget-view+json": {
       "model_id": "7037941d9020499ba9cd98e051314682",
       "version_major": 2,
       "version_minor": 0
      },
      "text/plain": [
       "  0%|          | 0/8411352 [00:00<?, ?it/s]"
      ]
     },
     "metadata": {},
     "output_type": "display_data"
    },
    {
     "name": "stdout",
     "output_type": "stream",
     "text": [
      "CYC AT K = 6801136\n",
      "[13, 13, 14, 16, 6, 4, 6, 9, 9, 6]\n"
     ]
    },
    {
     "data": {
      "application/vnd.jupyter.widget-view+json": {
       "model_id": "e2f53fc22ced4a91a4bee82723661185",
       "version_major": 2,
       "version_minor": 0
      },
      "text/plain": [
       "  0%|          | 0/5614149 [00:00<?, ?it/s]"
      ]
     },
     "metadata": {},
     "output_type": "display_data"
    },
    {
     "name": "stdout",
     "output_type": "stream",
     "text": [
      "CYC AT K = 4539807\n",
      "[1, 5, 26, 18, 8, 16, 24, 12, 15, 12]\n"
     ]
    },
    {
     "data": {
      "application/vnd.jupyter.widget-view+json": {
       "model_id": "1c12b24e5ecb48c4bc1f841995b2dabe",
       "version_major": 2,
       "version_minor": 0
      },
      "text/plain": [
       "  0%|          | 0/4873981 [00:00<?, ?it/s]"
      ]
     },
     "metadata": {},
     "output_type": "display_data"
    },
    {
     "name": "stdout",
     "output_type": "stream",
     "text": [
      "CYC AT K = 3939820\n",
      "[28, 70, 42, 29, 15, 1, 59, 9, 45, 4]\n"
     ]
    },
    {
     "data": {
      "application/vnd.jupyter.widget-view+json": {
       "model_id": "be8f4247382d4354801adde3de3ce591",
       "version_major": 2,
       "version_minor": 0
      },
      "text/plain": [
       "  0%|          | 0/3728363 [00:00<?, ?it/s]"
      ]
     },
     "metadata": {},
     "output_type": "display_data"
    },
    {
     "name": "stdout",
     "output_type": "stream",
     "text": [
      "CYC AT K = 3014497\n",
      "[10, 16, 37, 7, 82, 32, 15, 7, 16, 48]\n"
     ]
    },
    {
     "data": {
      "application/vnd.jupyter.widget-view+json": {
       "model_id": "9a215ee75b2c40e59e958b2560dc129b",
       "version_major": 2,
       "version_minor": 0
      },
      "text/plain": [
       "  0%|          | 0/2715005 [00:00<?, ?it/s]"
      ]
     },
     "metadata": {},
     "output_type": "display_data"
    },
    {
     "name": "stdout",
     "output_type": "stream",
     "text": [
      "CYC AT K = 2194740\n",
      "[52, 40, 9, 78, 14, 103, 1, 28, 10, 56]\n"
     ]
    },
    {
     "data": {
      "application/vnd.jupyter.widget-view+json": {
       "model_id": "9ae7ab7693544154a134ee523353a93e",
       "version_major": 2,
       "version_minor": 0
      },
      "text/plain": [
       "  0%|          | 0/2306220 [00:00<?, ?it/s]"
      ]
     },
     "metadata": {},
     "output_type": "display_data"
    },
    {
     "name": "stdout",
     "output_type": "stream",
     "text": [
      "CYC AT K = 1864707\n",
      "[43, 25, 42, 106, 23, 86, 42, 109, 32, 1]\n"
     ]
    },
    {
     "data": {
      "application/vnd.jupyter.widget-view+json": {
       "model_id": "dd922d805e0743d49d475eaa7ff7c184",
       "version_major": 2,
       "version_minor": 0
      },
      "text/plain": [
       "  0%|          | 0/1831739 [00:00<?, ?it/s]"
      ]
     },
     "metadata": {},
     "output_type": "display_data"
    },
    {
     "name": "stdout",
     "output_type": "stream",
     "text": [
      "CYC AT K = 1481220\n",
      "[155, 16, 159, 40, 11, 22, 128, 91, 58, 49]\n"
     ]
    },
    {
     "data": {
      "application/vnd.jupyter.widget-view+json": {
       "model_id": "acb07bc3f80143d3b2e63404eb44ca04",
       "version_major": 2,
       "version_minor": 0
      },
      "text/plain": [
       "0it [00:00, ?it/s]"
      ]
     },
     "metadata": {},
     "output_type": "display_data"
    },
    {
     "name": "stdout",
     "output_type": "stream",
     "text": [
      "[]\n"
     ]
    },
    {
     "data": {
      "application/vnd.jupyter.widget-view+json": {
       "model_id": "d5a615d0c99247fc9b6106675bc21324",
       "version_major": 2,
       "version_minor": 0
      },
      "text/plain": [
       "  0%|          | 0/1552510 [00:00<?, ?it/s]"
      ]
     },
     "metadata": {},
     "output_type": "display_data"
    },
    {
     "name": "stdout",
     "output_type": "stream",
     "text": [
      "CYC AT K = 1254690\n",
      "[8, 60, 27, 15, 86, 27, 36, 48, 48, 35]\n"
     ]
    },
    {
     "data": {
      "application/vnd.jupyter.widget-view+json": {
       "model_id": "2ba0a2b1c2b24ada8c9e1dd3dcca47a3",
       "version_major": 2,
       "version_minor": 0
      },
      "text/plain": [
       "  0%|          | 0/1108773 [00:00<?, ?it/s]"
      ]
     },
     "metadata": {},
     "output_type": "display_data"
    },
    {
     "name": "stdout",
     "output_type": "stream",
     "text": [
      "CYC AT K = 896258\n",
      "[124, 83, 270, 180, 205, 20, 25, 13, 193, 199]\n"
     ]
    },
    {
     "data": {
      "application/vnd.jupyter.widget-view+json": {
       "model_id": "a2103b54e6a64414817ee6c858a9bb3e",
       "version_major": 2,
       "version_minor": 0
      },
      "text/plain": [
       "  0%|          | 0/621490 [00:00<?, ?it/s]"
      ]
     },
     "metadata": {},
     "output_type": "display_data"
    },
    {
     "name": "stdout",
     "output_type": "stream",
     "text": [
      "CYC AT K = 502280\n",
      "[163, 18, 200, 20, 22, 124, 41, 7, 109, 345]\n"
     ]
    },
    {
     "data": {
      "application/vnd.jupyter.widget-view+json": {
       "model_id": "e9578b5443db43f88e24b236381be076",
       "version_major": 2,
       "version_minor": 0
      },
      "text/plain": [
       "  0%|          | 0/573361 [00:00<?, ?it/s]"
      ]
     },
     "metadata": {},
     "output_type": "display_data"
    },
    {
     "name": "stdout",
     "output_type": "stream",
     "text": [
      "CYC AT K = 463390\n",
      "[210, 246, 769, 114, 269, 16, 94, 169, 504, 13]\n"
     ]
    },
    {
     "data": {
      "application/vnd.jupyter.widget-view+json": {
       "model_id": "e80dca25b66e4c12a7d49566a5237631",
       "version_major": 2,
       "version_minor": 0
      },
      "text/plain": [
       "  0%|          | 0/408013 [00:00<?, ?it/s]"
      ]
     },
     "metadata": {},
     "output_type": "display_data"
    },
    {
     "name": "stdout",
     "output_type": "stream",
     "text": [
      "CYC AT K = 329661\n",
      "[451, 219, 197, 319, 183, 91, 695, 251, 197, 128]\n"
     ]
    },
    {
     "data": {
      "application/vnd.jupyter.widget-view+json": {
       "model_id": "ad87cb740e5e48438feda50d58adb9e3",
       "version_major": 2,
       "version_minor": 0
      },
      "text/plain": [
       "  0%|          | 0/356375 [00:00<?, ?it/s]"
      ]
     },
     "metadata": {},
     "output_type": "display_data"
    },
    {
     "name": "stdout",
     "output_type": "stream",
     "text": [
      "CYC AT K = 288110\n",
      "[81, 105, 443, 360, 69, 220, 394, 151, 37, 7]\n"
     ]
    },
    {
     "data": {
      "application/vnd.jupyter.widget-view+json": {
       "model_id": "78d9ae31482043bd97edf5e5af92ad11",
       "version_major": 2,
       "version_minor": 0
      },
      "text/plain": [
       "  0%|          | 0/263068 [00:00<?, ?it/s]"
      ]
     },
     "metadata": {},
     "output_type": "display_data"
    },
    {
     "name": "stdout",
     "output_type": "stream",
     "text": [
      "CYC AT K = 212753\n",
      "[13, 343, 802, 36, 18, 17, 215, 311, 118, 1310]\n"
     ]
    },
    {
     "data": {
      "application/vnd.jupyter.widget-view+json": {
       "model_id": "473bfa87fd27432ba5f10d441f9c7d4a",
       "version_major": 2,
       "version_minor": 0
      },
      "text/plain": [
       "0it [00:00, ?it/s]"
      ]
     },
     "metadata": {},
     "output_type": "display_data"
    },
    {
     "name": "stdout",
     "output_type": "stream",
     "text": [
      "[]\n"
     ]
    },
    {
     "data": {
      "application/vnd.jupyter.widget-view+json": {
       "model_id": "a0e76119bb7240189712a5432798d074",
       "version_major": 2,
       "version_minor": 0
      },
      "text/plain": [
       "0it [00:00, ?it/s]"
      ]
     },
     "metadata": {},
     "output_type": "display_data"
    },
    {
     "name": "stdout",
     "output_type": "stream",
     "text": [
      "[]\n"
     ]
    },
    {
     "data": {
      "application/vnd.jupyter.widget-view+json": {
       "model_id": "22acaf9649314aaa814749dacd7f1189",
       "version_major": 2,
       "version_minor": 0
      },
      "text/plain": [
       "  0%|          | 0/224197 [00:00<?, ?it/s]"
      ]
     },
     "metadata": {},
     "output_type": "display_data"
    },
    {
     "name": "stdout",
     "output_type": "stream",
     "text": [
      "CYC AT K = 181386\n",
      "[994, 84, 5, 138, 559, 545, 372, 5, 476, 69]\n"
     ]
    },
    {
     "data": {
      "application/vnd.jupyter.widget-view+json": {
       "model_id": "84e9a657fcca462f8925da64c71fe3b0",
       "version_major": 2,
       "version_minor": 0
      },
      "text/plain": [
       "  0%|          | 0/149651 [00:00<?, ?it/s]"
      ]
     },
     "metadata": {},
     "output_type": "display_data"
    },
    {
     "name": "stdout",
     "output_type": "stream",
     "text": [
      "CYC AT K = 120976\n",
      "[1287, 231, 412, 12, 222, 169, 343, 80, 1492, 445]\n"
     ]
    },
    {
     "data": {
      "application/vnd.jupyter.widget-view+json": {
       "model_id": "6d4a902bb21e40b7b39077f4645b3110",
       "version_major": 2,
       "version_minor": 0
      },
      "text/plain": [
       "0it [00:00, ?it/s]"
      ]
     },
     "metadata": {},
     "output_type": "display_data"
    },
    {
     "name": "stdout",
     "output_type": "stream",
     "text": [
      "[]\n"
     ]
    },
    {
     "data": {
      "application/vnd.jupyter.widget-view+json": {
       "model_id": "5db41a9b6cbf424cb738abacabeffafc",
       "version_major": 2,
       "version_minor": 0
      },
      "text/plain": [
       "  0%|          | 0/125847 [00:00<?, ?it/s]"
      ]
     },
     "metadata": {},
     "output_type": "display_data"
    },
    {
     "name": "stdout",
     "output_type": "stream",
     "text": [
      "CYC AT K = 101785\n",
      "[2317, 1201, 121, 130, 1765, 81, 1273, 713, 479, 175]\n"
     ]
    },
    {
     "data": {
      "application/vnd.jupyter.widget-view+json": {
       "model_id": "bf08cf3d9f7c43cab0935a68b751cb43",
       "version_major": 2,
       "version_minor": 0
      },
      "text/plain": [
       "  0%|          | 0/97330 [00:00<?, ?it/s]"
      ]
     },
     "metadata": {},
     "output_type": "display_data"
    },
    {
     "name": "stdout",
     "output_type": "stream",
     "text": [
      "CYC AT K = 78726\n",
      "[1349, 1923, 538, 146, 196, 657, 2239, 1972, 4154, 384]\n"
     ]
    },
    {
     "data": {
      "application/vnd.jupyter.widget-view+json": {
       "model_id": "aa605152a1404994a6e0a0f2fd4eef6a",
       "version_major": 2,
       "version_minor": 0
      },
      "text/plain": [
       "  0%|          | 0/67355 [00:00<?, ?it/s]"
      ]
     },
     "metadata": {},
     "output_type": "display_data"
    },
    {
     "name": "stdout",
     "output_type": "stream",
     "text": [
      "CYC AT K = 54493\n",
      "[1413, 23, 239, 1344, 2460, 3085, 377, 1770, 601, 1619]\n"
     ]
    },
    {
     "data": {
      "application/vnd.jupyter.widget-view+json": {
       "model_id": "d91c88c6b0544780b25d17c6b3610b39",
       "version_major": 2,
       "version_minor": 0
      },
      "text/plain": [
       "  0%|          | 0/64064 [00:00<?, ?it/s]"
      ]
     },
     "metadata": {},
     "output_type": "display_data"
    },
    {
     "name": "stdout",
     "output_type": "stream",
     "text": [
      "CYC AT K = 51736\n",
      "[213, 1279, 386, 451, 920, 329, 1288, 966, 3263, 521]\n"
     ]
    },
    {
     "data": {
      "application/vnd.jupyter.widget-view+json": {
       "model_id": "bd5544ccc58f47f8a7cff7bccf500ca2",
       "version_major": 2,
       "version_minor": 0
      },
      "text/plain": [
       "  0%|          | 0/46810 [00:00<?, ?it/s]"
      ]
     },
     "metadata": {},
     "output_type": "display_data"
    },
    {
     "name": "stdout",
     "output_type": "stream",
     "text": [
      "CYC AT K = 37951\n",
      "[2188, 884, 4955, 2774, 4348, 8178, 7091, 345, 2328, 702]\n"
     ]
    },
    {
     "data": {
      "application/vnd.jupyter.widget-view+json": {
       "model_id": "26721f353bd94f9fa91a4fa3443e7361",
       "version_major": 2,
       "version_minor": 0
      },
      "text/plain": [
       "  0%|          | 0/32043 [00:00<?, ?it/s]"
      ]
     },
     "metadata": {},
     "output_type": "display_data"
    },
    {
     "name": "stdout",
     "output_type": "stream",
     "text": [
      "CYC AT K = 26005\n",
      "[1525, 1993, 733, 3403, 6397, 2131, 4592, 1486, 8852, 5992]\n"
     ]
    },
    {
     "data": {
      "application/vnd.jupyter.widget-view+json": {
       "model_id": "835354a4280c44a780c7e88cd24c0a14",
       "version_major": 2,
       "version_minor": 0
      },
      "text/plain": [
       "  0%|          | 0/29503 [00:00<?, ?it/s]"
      ]
     },
     "metadata": {},
     "output_type": "display_data"
    },
    {
     "name": "stdout",
     "output_type": "stream",
     "text": [
      "CYC AT K = 23851\n",
      "[205, 10463, 5196, 2936, 14690, 3371, 84, 2272, 3226, 3616]\n"
     ]
    },
    {
     "data": {
      "application/vnd.jupyter.widget-view+json": {
       "model_id": "b1d7eb81490749bb993aa821824dc6a1",
       "version_major": 2,
       "version_minor": 0
      },
      "text/plain": [
       "  0%|          | 0/21481 [00:00<?, ?it/s]"
      ]
     },
     "metadata": {},
     "output_type": "display_data"
    },
    {
     "name": "stdout",
     "output_type": "stream",
     "text": [
      "CYC AT K = 17372\n",
      "[2047, 13786, 8392, 1754, 8629, 5950, 4015, 688, 11172, 3093]\n"
     ]
    },
    {
     "data": {
      "application/vnd.jupyter.widget-view+json": {
       "model_id": "b20be19272a0419f9c62b27c041b3464",
       "version_major": 2,
       "version_minor": 0
      },
      "text/plain": [
       "  0%|          | 0/18882 [00:00<?, ?it/s]"
      ]
     },
     "metadata": {},
     "output_type": "display_data"
    },
    {
     "name": "stdout",
     "output_type": "stream",
     "text": [
      "CYC AT K = 15290\n",
      "[419, 1632, 7416, 3949, 2281, 9012, 3477, 680, 12877, 14232]\n"
     ]
    },
    {
     "data": {
      "application/vnd.jupyter.widget-view+json": {
       "model_id": "47680f7eab0f447ab9b63bcdbac48546",
       "version_major": 2,
       "version_minor": 0
      },
      "text/plain": [
       "  0%|          | 0/15115 [00:00<?, ?it/s]"
      ]
     },
     "metadata": {},
     "output_type": "display_data"
    },
    {
     "name": "stdout",
     "output_type": "stream",
     "text": [
      "CYC AT K = 12309\n",
      "[1901, 5598, 1070, 49, 7645, 141, 3970, 342, 7916, 3269]\n"
     ]
    },
    {
     "data": {
      "application/vnd.jupyter.widget-view+json": {
       "model_id": "b9c3acda054f4e07b406c98b502e77d6",
       "version_major": 2,
       "version_minor": 0
      },
      "text/plain": [
       "  0%|          | 0/11282 [00:00<?, ?it/s]"
      ]
     },
     "metadata": {},
     "output_type": "display_data"
    },
    {
     "name": "stdout",
     "output_type": "stream",
     "text": [
      "CYC AT K = 9146\n",
      "[2506, 901, 7699, 34514, 18582, 7816, 16723, 3247, 4983, 2616]\n"
     ]
    },
    {
     "data": {
      "application/vnd.jupyter.widget-view+json": {
       "model_id": "b794466f5f1e4b46b22d477ebb234126",
       "version_major": 2,
       "version_minor": 0
      },
      "text/plain": [
       "  0%|          | 0/8629 [00:00<?, ?it/s]"
      ]
     },
     "metadata": {},
     "output_type": "display_data"
    },
    {
     "name": "stdout",
     "output_type": "stream",
     "text": [
      "CYC AT K = 7008\n",
      "[5194, 572, 12154, 1992, 5898, 350, 4092, 23333, 25727, 5881]\n"
     ]
    },
    {
     "data": {
      "application/vnd.jupyter.widget-view+json": {
       "model_id": "f8b8cbf5b53f4c789702a6f3b38f2479",
       "version_major": 2,
       "version_minor": 0
      },
      "text/plain": [
       "  0%|          | 0/6229 [00:00<?, ?it/s]"
      ]
     },
     "metadata": {},
     "output_type": "display_data"
    },
    {
     "name": "stdout",
     "output_type": "stream",
     "text": [
      "CYC AT K = 5078\n",
      "[25273, 29757, 12722, 526, 10863, 1573, 22823, 1664, 7587, 10256]\n"
     ]
    },
    {
     "data": {
      "application/vnd.jupyter.widget-view+json": {
       "model_id": "b67fb49ac22a434ea767669d1d2278ad",
       "version_major": 2,
       "version_minor": 0
      },
      "text/plain": [
       "  0%|          | 0/4964 [00:00<?, ?it/s]"
      ]
     },
     "metadata": {},
     "output_type": "display_data"
    },
    {
     "name": "stdout",
     "output_type": "stream",
     "text": [
      "CYC AT K = 4057\n",
      "[17138, 7534, 19751, 16130, 39904, 335, 19606, 5030, 26819, 116998]\n"
     ]
    },
    {
     "data": {
      "application/vnd.jupyter.widget-view+json": {
       "model_id": "c8afd570e67548238970a36f4b11c2b2",
       "version_major": 2,
       "version_minor": 0
      },
      "text/plain": [
       "  0%|          | 0/3655 [00:00<?, ?it/s]"
      ]
     },
     "metadata": {},
     "output_type": "display_data"
    },
    {
     "name": "stdout",
     "output_type": "stream",
     "text": [
      "CYC AT K = 2976\n",
      "[6596, 24533, 28365, 29515, 8060, 88507, 12938, 26722, 67611, 54084]\n"
     ]
    },
    {
     "data": {
      "application/vnd.jupyter.widget-view+json": {
       "model_id": "49f4147718bf485ba4cc2e40e96e59d2",
       "version_major": 2,
       "version_minor": 0
      },
      "text/plain": [
       "  0%|          | 0/2960 [00:00<?, ?it/s]"
      ]
     },
     "metadata": {},
     "output_type": "display_data"
    },
    {
     "name": "stdout",
     "output_type": "stream",
     "text": [
      "CYC AT K = 2450\n",
      "[13887, 26036, 12139, 11983, 15856, 49127, 18290, 50523, 54403, 17548]\n"
     ]
    },
    {
     "data": {
      "application/vnd.jupyter.widget-view+json": {
       "model_id": "03a7a0f302f44176b4f0c0aa0b216c64",
       "version_major": 2,
       "version_minor": 0
      },
      "text/plain": [
       "0it [00:00, ?it/s]"
      ]
     },
     "metadata": {},
     "output_type": "display_data"
    },
    {
     "name": "stdout",
     "output_type": "stream",
     "text": [
      "[]\n"
     ]
    },
    {
     "data": {
      "application/vnd.jupyter.widget-view+json": {
       "model_id": "88d2ca859362404e88f1518dbced2ec4",
       "version_major": 2,
       "version_minor": 0
      },
      "text/plain": [
       "  0%|          | 0/1851 [00:00<?, ?it/s]"
      ]
     },
     "metadata": {},
     "output_type": "display_data"
    },
    {
     "name": "stdout",
     "output_type": "stream",
     "text": [
      "CYC AT K = 1549\n",
      "[62221, 28444, 576, 33601, 5655, 85223, 13011, 16850, 51069, 37503]\n"
     ]
    },
    {
     "data": {
      "application/vnd.jupyter.widget-view+json": {
       "model_id": "924e612651da4a39b990d66355fe597f",
       "version_major": 2,
       "version_minor": 0
      },
      "text/plain": [
       "  0%|          | 0/1484 [00:00<?, ?it/s]"
      ]
     },
     "metadata": {},
     "output_type": "display_data"
    },
    {
     "name": "stdout",
     "output_type": "stream",
     "text": [
      "CYC AT K = 1241\n",
      "[22602, 174682, 51753, 143958, 39709, 124305, 59926, 54651, 24621, 58965]\n"
     ]
    },
    {
     "data": {
      "application/vnd.jupyter.widget-view+json": {
       "model_id": "e91a9229d4864d60bba7b050cfac3084",
       "version_major": 2,
       "version_minor": 0
      },
      "text/plain": [
       "  0%|          | 0/1206 [00:00<?, ?it/s]"
      ]
     },
     "metadata": {},
     "output_type": "display_data"
    },
    {
     "name": "stdout",
     "output_type": "stream",
     "text": [
      "CYC AT K = 1019\n",
      "[93220, 265728, 10528, 153885, 20532, 683, 153069, 121207, 129543, 82191]\n"
     ]
    },
    {
     "data": {
      "application/vnd.jupyter.widget-view+json": {
       "model_id": "3b98a6e47a03486abc2744488da391a9",
       "version_major": 2,
       "version_minor": 0
      },
      "text/plain": [
       "  0%|          | 0/917 [00:00<?, ?it/s]"
      ]
     },
     "metadata": {},
     "output_type": "display_data"
    },
    {
     "name": "stdout",
     "output_type": "stream",
     "text": [
      "CYC AT K = 792\n",
      "[198717, 115929, 45223, 8608, 111168, 29557, 83332, 34998, 132943, 86102]\n"
     ]
    },
    {
     "data": {
      "application/vnd.jupyter.widget-view+json": {
       "model_id": "faee092530034225b7b2fd2cc2a7d0fb",
       "version_major": 2,
       "version_minor": 0
      },
      "text/plain": [
       "0it [00:00, ?it/s]"
      ]
     },
     "metadata": {},
     "output_type": "display_data"
    },
    {
     "name": "stdout",
     "output_type": "stream",
     "text": [
      "[]\n"
     ]
    },
    {
     "data": {
      "application/vnd.jupyter.widget-view+json": {
       "model_id": "d50d819972a748458999bccbec6245ef",
       "version_major": 2,
       "version_minor": 0
      },
      "text/plain": [
       "  0%|          | 0/888 [00:00<?, ?it/s]"
      ]
     },
     "metadata": {},
     "output_type": "display_data"
    },
    {
     "name": "stdout",
     "output_type": "stream",
     "text": [
      "CYC AT K = 751\n",
      "[9152, 287434, 21058, 66185, 16009, 159180, 30610, 14858, 320724, 43413]\n"
     ]
    },
    {
     "data": {
      "application/vnd.jupyter.widget-view+json": {
       "model_id": "56eb2604671c4661ae5c194c59014633",
       "version_major": 2,
       "version_minor": 0
      },
      "text/plain": [
       "  0%|          | 0/681 [00:00<?, ?it/s]"
      ]
     },
     "metadata": {},
     "output_type": "display_data"
    },
    {
     "name": "stdout",
     "output_type": "stream",
     "text": [
      "CYC AT K = 585\n",
      "[368470, 23916, 95182, 78494, 46931, 6007, 22788, 11094, 179538, 229682]\n"
     ]
    },
    {
     "data": {
      "application/vnd.jupyter.widget-view+json": {
       "model_id": "4e5178c1c27b41d696f4dae7acafc920",
       "version_major": 2,
       "version_minor": 0
      },
      "text/plain": [
       "  0%|          | 0/417 [00:00<?, ?it/s]"
      ]
     },
     "metadata": {},
     "output_type": "display_data"
    },
    {
     "name": "stdout",
     "output_type": "stream",
     "text": [
      "CYC AT K = 378\n",
      "[315497, 141757, 198804, 37815, 13978, 299374, 89692, 71410, 321861, 202905]\n"
     ]
    },
    {
     "data": {
      "application/vnd.jupyter.widget-view+json": {
       "model_id": "3536728fa5eb4f03b93b3c39fc316a35",
       "version_major": 2,
       "version_minor": 0
      },
      "text/plain": [
       "  0%|          | 0/278 [00:00<?, ?it/s]"
      ]
     },
     "metadata": {},
     "output_type": "display_data"
    },
    {
     "name": "stdout",
     "output_type": "stream",
     "text": [
      "CYC AT K = 271\n",
      "[498322, 491753, 422690, 669907, 44644, 77391, 138851, 628658, 306507, 466999]\n"
     ]
    },
    {
     "data": {
      "application/vnd.jupyter.widget-view+json": {
       "model_id": "b2de160b665e43eaafe298c7b18da713",
       "version_major": 2,
       "version_minor": 0
      },
      "text/plain": [
       "  0%|          | 0/271 [00:00<?, ?it/s]"
      ]
     },
     "metadata": {},
     "output_type": "display_data"
    },
    {
     "name": "stdout",
     "output_type": "stream",
     "text": [
      "CYC AT K = 260\n",
      "[54217, 181025, 73536, 14572, 358417, 239529, 239508, 132253, 456927, 14298]\n"
     ]
    },
    {
     "data": {
      "application/vnd.jupyter.widget-view+json": {
       "model_id": "fddcb0290ce94ebcb92b742436b1ccfa",
       "version_major": 2,
       "version_minor": 0
      },
      "text/plain": [
       "  0%|          | 0/217 [00:00<?, ?it/s]"
      ]
     },
     "metadata": {},
     "output_type": "display_data"
    },
    {
     "name": "stdout",
     "output_type": "stream",
     "text": [
      "CYC AT K = 210\n",
      "[14025, 332416, 105639, 53394, 27507, 348530, 131974, 188026, 89763, 78475]\n"
     ]
    },
    {
     "data": {
      "application/vnd.jupyter.widget-view+json": {
       "model_id": "bcde3f7a9e6f4e8e8d9136f80cb3e515",
       "version_major": 2,
       "version_minor": 0
      },
      "text/plain": [
       "  0%|          | 0/73 [00:00<?, ?it/s]"
      ]
     },
     "metadata": {},
     "output_type": "display_data"
    },
    {
     "name": "stdout",
     "output_type": "stream",
     "text": [
      "[128376, 767224, 454107, 1187169, 674407, 775949, 524580, 363202, 721184, 206930]\n"
     ]
    },
    {
     "data": {
      "application/vnd.jupyter.widget-view+json": {
       "model_id": "fa018953708a4ca5b4258e737ee9ee4b",
       "version_major": 2,
       "version_minor": 0
      },
      "text/plain": [
       "  0%|          | 0/86 [00:00<?, ?it/s]"
      ]
     },
     "metadata": {},
     "output_type": "display_data"
    },
    {
     "name": "stdout",
     "output_type": "stream",
     "text": [
      "[246903, 418510, 745695, 1330259, 2550579, 568693, 730457, 194265, 295596, 709267]\n"
     ]
    },
    {
     "data": {
      "application/vnd.jupyter.widget-view+json": {
       "model_id": "331ccbce9dfd4fd3bac64938fc04584e",
       "version_major": 2,
       "version_minor": 0
      },
      "text/plain": [
       "0it [00:00, ?it/s]"
      ]
     },
     "metadata": {},
     "output_type": "display_data"
    },
    {
     "name": "stdout",
     "output_type": "stream",
     "text": [
      "[]\n"
     ]
    },
    {
     "data": {
      "application/vnd.jupyter.widget-view+json": {
       "model_id": "da3e4e8357be4c3196033a6e79c8a861",
       "version_major": 2,
       "version_minor": 0
      },
      "text/plain": [
       "  0%|          | 0/27 [00:00<?, ?it/s]"
      ]
     },
     "metadata": {},
     "output_type": "display_data"
    },
    {
     "name": "stdout",
     "output_type": "stream",
     "text": [
      "[4253723, 1051367, 1571583, 1207953, 528228, 2125854, 232768, 508212, 3955668, 569819]\n"
     ]
    },
    {
     "data": {
      "application/vnd.jupyter.widget-view+json": {
       "model_id": "62cfb1141c6c452c938234a3cf4206be",
       "version_major": 2,
       "version_minor": 0
      },
      "text/plain": [
       "  0%|          | 0/33 [00:00<?, ?it/s]"
      ]
     },
     "metadata": {},
     "output_type": "display_data"
    },
    {
     "name": "stdout",
     "output_type": "stream",
     "text": [
      "[208937, 546275, 626988, 800610, 3164585, 892057, 1083013, 1242954, 1258100, 285868]\n"
     ]
    },
    {
     "data": {
      "application/vnd.jupyter.widget-view+json": {
       "model_id": "4d4c272b263545a5bfb3aa17ca0fb9b6",
       "version_major": 2,
       "version_minor": 0
      },
      "text/plain": [
       "0it [00:00, ?it/s]"
      ]
     },
     "metadata": {},
     "output_type": "display_data"
    },
    {
     "name": "stdout",
     "output_type": "stream",
     "text": [
      "[2256379, 47833, 187526, 3066328, 881454, 874833, 499398, 384103, 1693077, 93881]\n"
     ]
    },
    {
     "data": {
      "application/vnd.jupyter.widget-view+json": {
       "model_id": "ee044b97229d4bd1ba16d97f4632dcad",
       "version_major": 2,
       "version_minor": 0
      },
      "text/plain": [
       "0it [00:00, ?it/s]"
      ]
     },
     "metadata": {},
     "output_type": "display_data"
    },
    {
     "name": "stdout",
     "output_type": "stream",
     "text": [
      "[812172, 736064, 3684002, 1263596, 3023106, 227477, 2154443, 341877, 113016, 843553]\n"
     ]
    },
    {
     "data": {
      "application/vnd.jupyter.widget-view+json": {
       "model_id": "3ec07541262340e6a3c9fb7c204d858c",
       "version_major": 2,
       "version_minor": 0
      },
      "text/plain": [
       "0it [00:00, ?it/s]"
      ]
     },
     "metadata": {},
     "output_type": "display_data"
    },
    {
     "name": "stdout",
     "output_type": "stream",
     "text": [
      "[1155755, 1953890, 4639782, 2242452, 2157643, 1149355, 4610030, 194200, 1530099, 413712]\n"
     ]
    },
    {
     "data": {
      "application/vnd.jupyter.widget-view+json": {
       "model_id": "f2902b20aa824dbd97a881d6eed4c040",
       "version_major": 2,
       "version_minor": 0
      },
      "text/plain": [
       "0it [00:00, ?it/s]"
      ]
     },
     "metadata": {},
     "output_type": "display_data"
    },
    {
     "name": "stdout",
     "output_type": "stream",
     "text": [
      "[1948844, 928660, 440616, 11890631, 478465, 3355806, 82071, 810983, 4974082, 770936]\n"
     ]
    },
    {
     "data": {
      "application/vnd.jupyter.widget-view+json": {
       "model_id": "c4cfaa937ca54edcae3cddba4c259283",
       "version_major": 2,
       "version_minor": 0
      },
      "text/plain": [
       "0it [00:00, ?it/s]"
      ]
     },
     "metadata": {},
     "output_type": "display_data"
    },
    {
     "name": "stdout",
     "output_type": "stream",
     "text": [
      "[2113897, 22132, 5017015, 6629496, 1389989, 1380436, 1994745, 10760268, 491862, 1324520]\n"
     ]
    },
    {
     "data": {
      "application/vnd.jupyter.widget-view+json": {
       "model_id": "60bbd3356d86459b9cff4a3c7bf36c66",
       "version_major": 2,
       "version_minor": 0
      },
      "text/plain": [
       "0it [00:00, ?it/s]"
      ]
     },
     "metadata": {},
     "output_type": "display_data"
    },
    {
     "name": "stdout",
     "output_type": "stream",
     "text": [
      "[3195100, 6052907, 2758088, 1636216, 1796364, 2238585, 1248306, 15223884, 8328515, 15831106]\n"
     ]
    },
    {
     "data": {
      "application/vnd.jupyter.widget-view+json": {
       "model_id": "d5858bdf2fb74195959857e6ac3598d1",
       "version_major": 2,
       "version_minor": 0
      },
      "text/plain": [
       "0it [00:00, ?it/s]"
      ]
     },
     "metadata": {},
     "output_type": "display_data"
    },
    {
     "name": "stdout",
     "output_type": "stream",
     "text": [
      "[23048908, 4539895, 27014232, 3320432, 18676691, 4246533]\n"
     ]
    },
    {
     "data": {
      "application/vnd.jupyter.widget-view+json": {
       "model_id": "cbe14c07551f4e1c82905b219bfbac0b",
       "version_major": 2,
       "version_minor": 0
      },
      "text/plain": [
       "0it [00:00, ?it/s]"
      ]
     },
     "metadata": {},
     "output_type": "display_data"
    },
    {
     "name": "stdout",
     "output_type": "stream",
     "text": [
      "[19399693, 4750695, 18045479, 2586227, 16071514, 5188063, 14805020]\n"
     ]
    },
    {
     "data": {
      "application/vnd.jupyter.widget-view+json": {
       "model_id": "9d855302b2a54c20a12bb4dfd88dd1b3",
       "version_major": 2,
       "version_minor": 0
      },
      "text/plain": [
       "0it [00:00, ?it/s]"
      ]
     },
     "metadata": {},
     "output_type": "display_data"
    },
    {
     "name": "stdout",
     "output_type": "stream",
     "text": [
      "[12440026, 1368928, 3008560, 12844807, 19893360, 11330447, 3616481, 16344082, 12440026]\n"
     ]
    },
    {
     "data": {
      "application/vnd.jupyter.widget-view+json": {
       "model_id": "31896b2a63c44388bb07de9f7fa42383",
       "version_major": 2,
       "version_minor": 0
      },
      "text/plain": [
       "0it [00:00, ?it/s]"
      ]
     },
     "metadata": {},
     "output_type": "display_data"
    },
    {
     "name": "stdout",
     "output_type": "stream",
     "text": [
      "[4680716, 14296592, 51619838, 10249545, 4680716]\n"
     ]
    },
    {
     "data": {
      "application/vnd.jupyter.widget-view+json": {
       "model_id": "538c455c1c9447f2a3ff42d53b3de901",
       "version_major": 2,
       "version_minor": 0
      },
      "text/plain": [
       "0it [00:00, ?it/s]"
      ]
     },
     "metadata": {},
     "output_type": "display_data"
    },
    {
     "name": "stdout",
     "output_type": "stream",
     "text": [
      "[56094313, 1367427]\n"
     ]
    },
    {
     "data": {
      "application/vnd.jupyter.widget-view+json": {
       "model_id": "eee2f5c90df8494c981874e5ec1f0228",
       "version_major": 2,
       "version_minor": 0
      },
      "text/plain": [
       "0it [00:00, ?it/s]"
      ]
     },
     "metadata": {},
     "output_type": "display_data"
    },
    {
     "name": "stdout",
     "output_type": "stream",
     "text": [
      "[13122901, 40385550, 27338240]\n"
     ]
    },
    {
     "data": {
      "application/vnd.jupyter.widget-view+json": {
       "model_id": "36df46acfe7247d6886329e3a9103848",
       "version_major": 2,
       "version_minor": 0
      },
      "text/plain": [
       "0it [00:00, ?it/s]"
      ]
     },
     "metadata": {},
     "output_type": "display_data"
    },
    {
     "name": "stdout",
     "output_type": "stream",
     "text": [
      "[18055426, 2686885, 60104380]\n"
     ]
    },
    {
     "data": {
      "application/vnd.jupyter.widget-view+json": {
       "model_id": "4169c721cbda49b7b05b0cf9fc7c9b02",
       "version_major": 2,
       "version_minor": 0
      },
      "text/plain": [
       "0it [00:00, ?it/s]"
      ]
     },
     "metadata": {},
     "output_type": "display_data"
    },
    {
     "name": "stdout",
     "output_type": "stream",
     "text": [
      "[]\n"
     ]
    },
    {
     "data": {
      "application/vnd.jupyter.widget-view+json": {
       "model_id": "161d366025dc4fbbbd263c8f3df15c20",
       "version_major": 2,
       "version_minor": 0
      },
      "text/plain": [
       "0it [00:00, ?it/s]"
      ]
     },
     "metadata": {},
     "output_type": "display_data"
    },
    {
     "name": "stdout",
     "output_type": "stream",
     "text": [
      "[2453614]\n"
     ]
    },
    {
     "data": {
      "application/vnd.jupyter.widget-view+json": {
       "model_id": "92adfe53abbc467d90410d71411c961c",
       "version_major": 2,
       "version_minor": 0
      },
      "text/plain": [
       "0it [00:00, ?it/s]"
      ]
     },
     "metadata": {},
     "output_type": "display_data"
    },
    {
     "name": "stdout",
     "output_type": "stream",
     "text": [
      "[]\n"
     ]
    },
    {
     "data": {
      "application/vnd.jupyter.widget-view+json": {
       "model_id": "f2e4b30d10db497dae1cdfc752625934",
       "version_major": 2,
       "version_minor": 0
      },
      "text/plain": [
       "0it [00:00, ?it/s]"
      ]
     },
     "metadata": {},
     "output_type": "display_data"
    },
    {
     "name": "stdout",
     "output_type": "stream",
     "text": [
      "[80846691]\n"
     ]
    },
    {
     "data": {
      "application/vnd.jupyter.widget-view+json": {
       "model_id": "85e15c358af54dcfa68652aca5dd3903",
       "version_major": 2,
       "version_minor": 0
      },
      "text/plain": [
       "0it [00:00, ?it/s]"
      ]
     },
     "metadata": {},
     "output_type": "display_data"
    },
    {
     "name": "stdout",
     "output_type": "stream",
     "text": [
      "[]\n"
     ]
    },
    {
     "data": {
      "application/vnd.jupyter.widget-view+json": {
       "model_id": "852f997512754bdb8e35d8465bec06eb",
       "version_major": 2,
       "version_minor": 0
      },
      "text/plain": [
       "0it [00:00, ?it/s]"
      ]
     },
     "metadata": {},
     "output_type": "display_data"
    },
    {
     "name": "stdout",
     "output_type": "stream",
     "text": [
      "[37048112, 1579207]\n"
     ]
    },
    {
     "data": {
      "application/vnd.jupyter.widget-view+json": {
       "model_id": "ca725bad629a4c49bcc23d54223eb1f6",
       "version_major": 2,
       "version_minor": 0
      },
      "text/plain": [
       "0it [00:00, ?it/s]"
      ]
     },
     "metadata": {},
     "output_type": "display_data"
    },
    {
     "name": "stdout",
     "output_type": "stream",
     "text": [
      "[]\n"
     ]
    },
    {
     "data": {
      "application/vnd.jupyter.widget-view+json": {
       "model_id": "6c87fefff7bc4bf1b95e493e7817be4c",
       "version_major": 2,
       "version_minor": 0
      },
      "text/plain": [
       "0it [00:00, ?it/s]"
      ]
     },
     "metadata": {},
     "output_type": "display_data"
    },
    {
     "name": "stdout",
     "output_type": "stream",
     "text": [
      "[]\n"
     ]
    },
    {
     "data": {
      "application/vnd.jupyter.widget-view+json": {
       "model_id": "4ecd94aa75f14958922860f2bcb3e239",
       "version_major": 2,
       "version_minor": 0
      },
      "text/plain": [
       "0it [00:00, ?it/s]"
      ]
     },
     "metadata": {},
     "output_type": "display_data"
    },
    {
     "name": "stdout",
     "output_type": "stream",
     "text": [
      "[80846691]\n"
     ]
    }
   ],
   "source": [
    "cc = {}\n",
    "for i in range(1, K + 1):\n",
    "    d = diff(inds[i])\n",
    "    v = 50\n",
    "    for k in trange(1, len(d) - v):\n",
    "        if d[:v] == d[k:k+v]:\n",
    "            print(\"CYC AT K =\", k)\n",
    "            cc[i] = k\n",
    "            break\n",
    "    print(d[0:10])"
   ]
  },
  {
   "cell_type": "code",
   "execution_count": null,
   "metadata": {},
   "outputs": [],
   "source": []
  },
  {
   "cell_type": "code",
   "execution_count": 105,
   "metadata": {},
   "outputs": [
    {
     "name": "stdout",
     "output_type": "stream",
     "text": [
      "CYC AT K = 18886317\n",
      "[3, -4, 2, 3, -3, 3, 1, 1, -3, -3]\n"
     ]
    }
   ],
   "source": [
    "for i in range(1, 1 + 1):\n",
    "    d = diff(ss)\n",
    "    v = 10\n",
    "    for k in range(201, len(d) - v):\n",
    "        if d[200:200+v] == d[k:k+v]:\n",
    "            print(\"CYC AT K =\", k)\n",
    "            break\n",
    "    print(d[0:10])"
   ]
  },
  {
   "cell_type": "code",
   "execution_count": 114,
   "metadata": {},
   "outputs": [
    {
     "data": {
      "text/plain": [
       "49999984"
      ]
     },
     "execution_count": 114,
     "metadata": {},
     "output_type": "execute_result"
    }
   ],
   "source": [
    "inds[1][-4]"
   ]
  },
  {
   "cell_type": "code",
   "execution_count": null,
   "metadata": {},
   "outputs": [],
   "source": []
  },
  {
   "cell_type": "code",
   "execution_count": null,
   "metadata": {},
   "outputs": [],
   "source": []
  },
  {
   "cell_type": "code",
   "execution_count": null,
   "metadata": {},
   "outputs": [],
   "source": []
  },
  {
   "cell_type": "code",
   "execution_count": null,
   "metadata": {},
   "outputs": [],
   "source": [
    "s_i = 14025256\n",
    "def S():\n",
    "    global s_i\n",
    "    ts = s_i\n",
    "    s_i = s_i**2 % 20300713\n",
    "    return ts\n",
    "ss = []\n",
    "def num(n):\n",
    "    global ss\n",
    "    while len(ss) <= n:\n",
    "        ss += [ord(c) - ord('0') for c in str(S())]\n",
    "    return ss[n]\n",
    "2534197 * 8\n",
    "for i in range(10000_000):\n",
    "    if S(i + 1) == 14025256:\n",
    "        print(i)\n",
    "def string(n):\n",
    "    st = \"\"\n",
    "    for i in range(0, n):\n",
    "        st += str(S(i))\n",
    "    return [ord(e) - ord('0') for e in st]\n",
    "def k(i):\n",
    "    cc = 0\n",
    "    for sta in range(0, N + 1):\n",
    "        T = 0\n",
    "        for q in range(0, len(st)):\n",
    "            T += st[sta + q]\n",
    "            if T > i:\n",
    "                break\n",
    "            if T == i:\n",
    "                cc = sta + 1\n",
    "                break\n",
    "        if cc:\n",
    "            break\n",
    "    return cc\n",
    "\n",
    "TT = 0\n",
    "mcc = 0\n",
    "N = 20000\n",
    "st = string(N // 2)\n",
    "for i in range(1, N + 1):\n",
    "    K = k(i)\n",
    "    TT += K\n",
    "    # print(i, cc)\n",
    "    mcc  = max(mcc, K)\n",
    "TT, mcc\n",
    "\n",
    "from tqdm.notebook import trange\n",
    "max(lks)\n",
    "# Get the cyclicalities for starting positions 1 to 80\n",
    "\n",
    "N = 10**8\n",
    "K = 80\n",
    "lks = [100 for _ in range(428072426 + 1)]\n",
    "nums = [0 for _ in range(K + 1)]\n",
    "seens = [[] for _ in range(K + 1)]\n",
    "for i in trange(0, N + 1):\n",
    "    n = num(i)\n",
    "    for k in range(0, min(i + 1, K + 1)):\n",
    "        nums[k] += n\n",
    "        # if nums[k] not in lks:\n",
    "        #     lks[nums[k]] = k + 1\n",
    "        lks[nums[k]] = min(lks[nums[k]], k + 1)\n",
    "inds = [[] for _ in range(K + 1)]\n",
    "for i in trange(1, N + 1):\n",
    "    if lks[i] != 100:\n",
    "        inds[lks[i]].append(i)\n",
    "def diff(a):\n",
    "    return [a[i + 1] - a[i] for i in range(len(a) - 1)]\n",
    "cc = {}\n",
    "for i in range(1, K + 1):\n",
    "    d = diff(inds[i])\n",
    "    v = 50\n",
    "    for k in trange(1, len(d) - v):\n",
    "        if d[:v] == d[k:k+v]:\n",
    "            print(\"CYC AT K =\", k)\n",
    "            cc[i] = k\n",
    "            break\n",
    "    print(d[0:10])\n"
   ]
  },
  {
   "cell_type": "code",
   "execution_count": null,
   "metadata": {},
   "outputs": [
    {
     "name": "stderr",
     "output_type": "stream",
     "text": [
      "  0%|          | 36028/500000001 [00:01<4:53:21, 28404.38it/s]\n"
     ]
    }
   ],
   "source": [
    "s_i = 14025256\n",
    "def S():\n",
    "    global s_i\n",
    "    ts = s_i\n",
    "    s_i = s_i**2 % 20300713\n",
    "    return ts\n",
    "ss = []\n",
    "def num(n):\n",
    "    global ss\n",
    "    while len(ss) <= n:\n",
    "        ss += [ord(c) - ord('0') for c in str(S())]\n",
    "    return ss[n]\n",
    "\n",
    "from tqdm import trange\n",
    "# Get the cyclicalities for starting positions 1 to 80\n",
    "\n",
    "N = 5 * 10**8\n",
    "K = 200\n",
    "lks = [300 for _ in range(428072426 * 5 + 200_000)]\n",
    "nums = [0 for _ in range(K + 1)]\n",
    "seens = [[] for _ in range(K + 1)]\n",
    "for i in trange(0, N + 1):\n",
    "    n = num(i)\n",
    "    for k in range(0, min(i + 1, K + 1)):\n",
    "        nums[k] += n\n",
    "        # if nums[k] not in lks:\n",
    "        #     lks[nums[k]] = k + 1\n",
    "        lks[nums[k]] = min(lks[nums[k]], k + 1)\n",
    "inds = [[] for _ in range(K + 1)]\n",
    "for i in trange(1, N + 1):\n",
    "    if lks[i] != 300:\n",
    "        inds[lks[i]].append(i)\n",
    "def diff(a):\n",
    "    return [a[i + 1] - a[i] for i in range(len(a) - 1)]\n",
    "cc = {}\n",
    "for i in range(1, K + 1):\n",
    "    d = diff(inds[i])\n",
    "    v = min(len(d) // 3, 50)\n",
    "    for k in range(1, len(d) - v):\n",
    "        if d[:v] == d[k:k+v]:\n",
    "            cc[i] = k\n",
    "            break\n",
    "TAR = 1 * 10**3\n",
    "T = 0\n",
    "for e in cc:\n",
    "    print(\"CYC\", e)\n",
    "    d = diff(inds[e])\n",
    "    start = inds[e][0]\n",
    "    length = sum(inds[e][0:cc[e]])\n",
    "\n",
    "    times = max((TAR - start) // length, 0)\n",
    "    T += times * cc[e] * e\n",
    "\n",
    "    curr = start + length * times\n",
    "    for i in range(0, cc[e]):\n",
    "        if curr > TAR:\n",
    "            break\n",
    "        T += e\n",
    "        curr += inds[e][i]\n",
    "    # print(\"CYC START\", inds[e][0], cc[e])\n",
    "    # print(d[0:10])\n",
    "print(\"LOWER\", T)\n",
    "\n",
    "TAR = 2 * 10**15\n",
    "T = 0\n",
    "for e in cc:\n",
    "    print(\"CYC\", e)\n",
    "    d = diff(inds[e])\n",
    "    start = inds[e][0]\n",
    "    length = sum(inds[e][0:cc[e]])\n",
    "\n",
    "    times = max((TAR - start) // length, 0)\n",
    "    T += times * cc[e] * e\n",
    "\n",
    "    curr = start + length * times\n",
    "    for i in range(0, cc[e]):\n",
    "        if curr > TAR:\n",
    "            break\n",
    "        T += e\n",
    "        curr += inds[e][i]\n",
    "    # print(\"CYC START\", inds[e][0], cc[e])\n",
    "    # print(d[0:10])\n",
    "print(\"UPPER\", T)\n"
   ]
  },
  {
   "cell_type": "code",
   "execution_count": null,
   "metadata": {},
   "outputs": [],
   "source": []
  }
 ],
 "metadata": {
  "kernelspec": {
   "display_name": "Python 3",
   "language": "python",
   "name": "python3"
  },
  "language_info": {
   "codemirror_mode": {
    "name": "ipython",
    "version": 3
   },
   "file_extension": ".py",
   "mimetype": "text/x-python",
   "name": "python",
   "nbconvert_exporter": "python",
   "pygments_lexer": "ipython3",
   "version": "3.9.6"
  }
 },
 "nbformat": 4,
 "nbformat_minor": 2
}
