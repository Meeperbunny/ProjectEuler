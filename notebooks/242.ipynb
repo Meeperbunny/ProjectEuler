{
 "cells": [
  {
   "cell_type": "code",
   "execution_count": 206,
   "metadata": {},
   "outputs": [],
   "source": [
    "from itertools import combinations\n",
    "def sss(n, k):\n",
    "    r = (i + 1 for i in range(n))\n",
    "    cnts = [[0, 0] for _ in range(k + 1)]\n",
    "    cnts[0][0] = 1\n",
    "    for e in r:\n",
    "        for i in range(k, 0, -1):\n",
    "            cnts[i][0] += cnts[i - 1][0 ^ (e & 1)]\n",
    "            cnts[i][1] += cnts[i - 1][1 ^ (e & 1)]\n",
    "            cnts[i][0] %= 2\n",
    "            cnts[i][1] %= 2\n",
    "    return cnts[k][1]"
   ]
  },
  {
   "cell_type": "code",
   "execution_count": 207,
   "metadata": {},
   "outputs": [],
   "source": [
    "from tqdm import trange"
   ]
  },
  {
   "cell_type": "code",
   "execution_count": 208,
   "metadata": {},
   "outputs": [
    {
     "name": "stderr",
     "output_type": "stream",
     "text": [
      "100%|██████████| 10000000/10000000 [00:01<00:00, 9205494.36it/s]"
     ]
    },
    {
     "name": "stdout",
     "output_type": "stream",
     "text": [
      "4\n"
     ]
    },
    {
     "name": "stderr",
     "output_type": "stream",
     "text": [
      "\n"
     ]
    }
   ],
   "source": [
    "i = 3\n",
    "for i in trange(10**7):\n",
    "    i = (i * 2) % 7\n",
    "print(i)"
   ]
  },
  {
   "cell_type": "code",
   "execution_count": 209,
   "metadata": {},
   "outputs": [
    {
     "ename": "SyntaxError",
     "evalue": "invalid syntax (1262065952.py, line 1)",
     "output_type": "error",
     "traceback": [
      "\u001b[0;36m  Cell \u001b[0;32mIn[209], line 1\u001b[0;36m\u001b[0m\n\u001b[0;31m    13 29 61\u001b[0m\n\u001b[0m       ^\u001b[0m\n\u001b[0;31mSyntaxError\u001b[0m\u001b[0;31m:\u001b[0m invalid syntax\n"
     ]
    }
   ],
   "source": [
    "13 29 61"
   ]
  },
  {
   "cell_type": "code",
   "execution_count": null,
   "metadata": {},
   "outputs": [
    {
     "name": "stdout",
     "output_type": "stream",
     "text": [
      "77 77 77 1\n",
      "93 16 77 190406744438146119\n",
      "109 16 77 1889762276946870399021197067\n",
      "125 16 77 52230121068173316350574883468820925\n"
     ]
    }
   ],
   "source": [
    "q = 77\n",
    "d = 0\n",
    "for i in range(5, 61 * 2 + 4, 4):\n",
    "    for k in range(q, q + 1):\n",
    "    # for k in range(1, i + 1, 4):\n",
    "        S = sss(i, k)\n",
    "        if S & 1:\n",
    "            print(i, i - d, k, S)\n",
    "            d = i"
   ]
  },
  {
   "cell_type": "code",
   "execution_count": null,
   "metadata": {},
   "outputs": [
    {
     "name": "stdout",
     "output_type": "stream",
     "text": [
      "0b1100\n",
      "49     49      49 1\n",
      "53     4      49 146575\n",
      "57     4      49 826215975\n",
      "61     4      49 871029782025\n",
      "113     52      49 144539094175694061623015959683675\n",
      "117     4      49 1315802974251507496094082410205525\n",
      "121     4      49 10865468895970994334538994483827725\n",
      "125     4      49 82075904535700925666052721887180675\n",
      "177     52      49 74667382819900913573688796985379159544886325\n",
      "181     4      49 267286333037948581224998208127711075517547675\n",
      "185     4      49 926103799097024343707780851443707233117943475\n",
      "189     4      49 3110938176507061228880862025517047260771643965\n"
     ]
    }
   ],
   "source": [
    "j = 13\n",
    "q = -3 + j * 4\n",
    "print(bin((q - 1) // 4))\n",
    "d = 0\n",
    "for i in range(5, 200 + 4, 4):\n",
    "    for k in range(q, q + 1):\n",
    "        S = sss(i, k)\n",
    "        if S & 1:\n",
    "            print(i, \"   \", i - d, \"    \", k, S)\n",
    "            d = i"
   ]
  },
  {
   "cell_type": "code",
   "execution_count": 212,
   "metadata": {},
   "outputs": [
    {
     "name": "stdout",
     "output_type": "stream",
     "text": [
      "0b101010\n",
      "169     169      169 1\n",
      "173     4      169 1\n",
      "185     12      169 1\n",
      "189     4      169 1\n",
      "233     44      169 1\n",
      "237     4      169 1\n",
      "249     12      169 1\n",
      "253     4      169 1\n",
      "425     172      169 1\n",
      "429     4      169 1\n",
      "441     12      169 1\n",
      "445     4      169 1\n",
      "489     44      169 1\n",
      "493     4      169 1\n"
     ]
    }
   ],
   "source": [
    "j = 43\n",
    "q = -3 + j * 4\n",
    "print(bin((q - 1) // 4))\n",
    "d = 0\n",
    "for i in range(5, 500 + 4, 4):\n",
    "    for k in range(q, q + 1):\n",
    "        S = sss(i, k)\n",
    "        if S & 1:\n",
    "            print(i, \"   \", i - d, \"    \", k, S)\n",
    "            d = i"
   ]
  },
  {
   "cell_type": "code",
   "execution_count": null,
   "metadata": {},
   "outputs": [],
   "source": []
  },
  {
   "cell_type": "code",
   "execution_count": null,
   "metadata": {},
   "outputs": [],
   "source": [
    "# Cont(2n + 3) = 2 * Cont(n)"
   ]
  },
  {
   "cell_type": "code",
   "execution_count": null,
   "metadata": {},
   "outputs": [],
   "source": []
  }
 ],
 "metadata": {
  "kernelspec": {
   "display_name": "Python 3",
   "language": "python",
   "name": "python3"
  },
  "language_info": {
   "codemirror_mode": {
    "name": "ipython",
    "version": 3
   },
   "file_extension": ".py",
   "mimetype": "text/x-python",
   "name": "python",
   "nbconvert_exporter": "python",
   "pygments_lexer": "ipython3",
   "version": "3.9.6"
  }
 },
 "nbformat": 4,
 "nbformat_minor": 2
}
