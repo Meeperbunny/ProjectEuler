{
 "cells": [
  {
   "cell_type": "code",
   "execution_count": 22,
   "metadata": {},
   "outputs": [],
   "source": [
    "from itertools import combinations\n",
    "def sss(n, k):\n",
    "    r = (i + 1 for i in range(n))\n",
    "    cnts = [[0, 0] for _ in range(k + 1)]\n",
    "    cnts[0][0] = 1\n",
    "    for e in r:\n",
    "        for i in range(k, 0, -1):\n",
    "            cnts[i][0] += cnts[i - 1][0 ^ (e & 1)]\n",
    "            cnts[i][1] += cnts[i - 1][1 ^ (e & 1)]\n",
    "            cnts[i][0] %= 2\n",
    "            cnts[i][1] %= 2\n",
    "    return cnts[k][1]"
   ]
  },
  {
   "cell_type": "code",
   "execution_count": 3,
   "metadata": {},
   "outputs": [],
   "source": [
    "from tqdm import trange"
   ]
  },
  {
   "cell_type": "code",
   "execution_count": 4,
   "metadata": {},
   "outputs": [
    {
     "name": "stderr",
     "output_type": "stream",
     "text": [
      "100%|██████████| 10000000/10000000 [00:00<00:00, 10213461.46it/s]"
     ]
    },
    {
     "name": "stdout",
     "output_type": "stream",
     "text": [
      "4\n"
     ]
    },
    {
     "name": "stderr",
     "output_type": "stream",
     "text": [
      "\n"
     ]
    }
   ],
   "source": [
    "i = 3\n",
    "for i in trange(10**7):\n",
    "    i = (i * 2) % 7\n",
    "print(i)"
   ]
  },
  {
   "cell_type": "code",
   "execution_count": 5,
   "metadata": {},
   "outputs": [
    {
     "ename": "SyntaxError",
     "evalue": "invalid syntax (1262065952.py, line 1)",
     "output_type": "error",
     "traceback": [
      "\u001b[0;36m  Cell \u001b[0;32mIn[5], line 1\u001b[0;36m\u001b[0m\n\u001b[0;31m    13 29 61\u001b[0m\n\u001b[0m       ^\u001b[0m\n\u001b[0;31mSyntaxError\u001b[0m\u001b[0;31m:\u001b[0m invalid syntax\n"
     ]
    }
   ],
   "source": [
    "13 29 61"
   ]
  },
  {
   "cell_type": "code",
   "execution_count": null,
   "metadata": {},
   "outputs": [
    {
     "name": "stdout",
     "output_type": "stream",
     "text": [
      "77 77 77 1\n",
      "93 16 77 190406744438146119\n",
      "109 16 77 1889762276946870399021197067\n",
      "125 16 77 52230121068173316350574883468820925\n"
     ]
    }
   ],
   "source": [
    "q = 77\n",
    "d = 0\n",
    "for i in range(5, 61 * 2 + 4, 4):\n",
    "    for k in range(q, q + 1):\n",
    "    # for k in range(1, i + 1, 4):\n",
    "        S = sss(i, k)\n",
    "        if S & 1:\n",
    "            print(i, i - d, k, S)\n",
    "            d = i"
   ]
  },
  {
   "cell_type": "code",
   "execution_count": null,
   "metadata": {},
   "outputs": [
    {
     "name": "stdout",
     "output_type": "stream",
     "text": [
      "0b1100\n",
      "49     49      49 1\n",
      "53     4      49 146575\n",
      "57     4      49 826215975\n",
      "61     4      49 871029782025\n",
      "113     52      49 144539094175694061623015959683675\n",
      "117     4      49 1315802974251507496094082410205525\n",
      "121     4      49 10865468895970994334538994483827725\n",
      "125     4      49 82075904535700925666052721887180675\n",
      "177     52      49 74667382819900913573688796985379159544886325\n",
      "181     4      49 267286333037948581224998208127711075517547675\n",
      "185     4      49 926103799097024343707780851443707233117943475\n",
      "189     4      49 3110938176507061228880862025517047260771643965\n"
     ]
    }
   ],
   "source": [
    "j = 13\n",
    "q = -3 + j * 4\n",
    "print(bin((q - 1) // 4))\n",
    "d = 0\n",
    "for i in range(5, 200 + 4, 4):\n",
    "    for k in range(q, q + 1):\n",
    "        S = sss(i, k)\n",
    "        if S & 1:\n",
    "            print(i, \"   \", i - d, \"    \", k, S)\n",
    "            d = i"
   ]
  },
  {
   "cell_type": "code",
   "execution_count": 30,
   "metadata": {},
   "outputs": [],
   "source": [
    "def popcnt(n):\n",
    "    return bin(n).count('1')"
   ]
  },
  {
   "cell_type": "code",
   "execution_count": 43,
   "metadata": {},
   "outputs": [],
   "source": [
    "from tqdm import trange"
   ]
  },
  {
   "cell_type": "code",
   "execution_count": 53,
   "metadata": {},
   "outputs": [
    {
     "name": "stderr",
     "output_type": "stream",
     "text": [
      "100%|██████████| 3/3 [00:00<00:00, 12595.51it/s]\n"
     ]
    },
    {
     "data": {
      "text/plain": [
       "5"
      ]
     },
     "execution_count": 53,
     "metadata": {},
     "output_type": "execute_result"
    }
   ],
   "source": [
    "T = 0\n",
    "for n in trange(1, 10 + 1, 4):\n",
    "    C = 0\n",
    "    for k in range(1, n + 1, 4):\n",
    "        if sss(n, k) & 1:\n",
    "            C += 1\n",
    "    T += C\n",
    "    # print(n, C)\n",
    "T"
   ]
  },
  {
   "cell_type": "code",
   "execution_count": 41,
   "metadata": {},
   "outputs": [
    {
     "ename": "KeyboardInterrupt",
     "evalue": "",
     "output_type": "error",
     "traceback": [
      "\u001b[0;31m---------------------------------------------------------------------------\u001b[0m",
      "\u001b[0;31mKeyboardInterrupt\u001b[0m                         Traceback (most recent call last)",
      "Cell \u001b[0;32mIn[41], line 4\u001b[0m\n\u001b[1;32m      2\u001b[0m T \u001b[38;5;241m=\u001b[39m \u001b[38;5;241m0\u001b[39m\n\u001b[1;32m      3\u001b[0m \u001b[38;5;28;01mfor\u001b[39;00m k \u001b[38;5;129;01min\u001b[39;00m \u001b[38;5;28mrange\u001b[39m(\u001b[38;5;241m1\u001b[39m, n, \u001b[38;5;241m2\u001b[39m):\n\u001b[0;32m----> 4\u001b[0m     \u001b[38;5;28;01mif\u001b[39;00m \u001b[43msss\u001b[49m\u001b[43m(\u001b[49m\u001b[43mn\u001b[49m\u001b[43m,\u001b[49m\u001b[43m \u001b[49m\u001b[43mk\u001b[49m\u001b[43m)\u001b[49m \u001b[38;5;241m&\u001b[39m \u001b[38;5;241m1\u001b[39m:\n\u001b[1;32m      5\u001b[0m         T \u001b[38;5;241m+\u001b[39m\u001b[38;5;241m=\u001b[39m \u001b[38;5;241m1\u001b[39m\n\u001b[1;32m      6\u001b[0m b \u001b[38;5;241m=\u001b[39m (n\u001b[38;5;241m-\u001b[39m\u001b[38;5;241m1\u001b[39m)\u001b[38;5;241m/\u001b[39m\u001b[38;5;241m/\u001b[39m\u001b[38;5;241m4\u001b[39m\n",
      "Cell \u001b[0;32mIn[22], line 9\u001b[0m, in \u001b[0;36msss\u001b[0;34m(n, k)\u001b[0m\n\u001b[1;32m      7\u001b[0m \u001b[38;5;28;01mfor\u001b[39;00m i \u001b[38;5;129;01min\u001b[39;00m \u001b[38;5;28mrange\u001b[39m(k, \u001b[38;5;241m0\u001b[39m, \u001b[38;5;241m-\u001b[39m\u001b[38;5;241m1\u001b[39m):\n\u001b[1;32m      8\u001b[0m     cnts[i][\u001b[38;5;241m0\u001b[39m] \u001b[38;5;241m+\u001b[39m\u001b[38;5;241m=\u001b[39m cnts[i \u001b[38;5;241m-\u001b[39m \u001b[38;5;241m1\u001b[39m][\u001b[38;5;241m0\u001b[39m \u001b[38;5;241m^\u001b[39m (e \u001b[38;5;241m&\u001b[39m \u001b[38;5;241m1\u001b[39m)]\n\u001b[0;32m----> 9\u001b[0m     cnts[i][\u001b[38;5;241m1\u001b[39m] \u001b[38;5;241m+\u001b[39m\u001b[38;5;241m=\u001b[39m cnts[i \u001b[38;5;241m-\u001b[39m \u001b[38;5;241m1\u001b[39m][\u001b[38;5;241;43m1\u001b[39;49m\u001b[43m \u001b[49m\u001b[38;5;241;43m^\u001b[39;49m\u001b[43m \u001b[49m\u001b[43m(\u001b[49m\u001b[43me\u001b[49m\u001b[43m \u001b[49m\u001b[38;5;241;43m&\u001b[39;49m\u001b[43m \u001b[49m\u001b[38;5;241;43m1\u001b[39;49m\u001b[43m)\u001b[49m]\n\u001b[1;32m     10\u001b[0m     cnts[i][\u001b[38;5;241m0\u001b[39m] \u001b[38;5;241m%\u001b[39m\u001b[38;5;241m=\u001b[39m \u001b[38;5;241m2\u001b[39m\n\u001b[1;32m     11\u001b[0m     cnts[i][\u001b[38;5;241m1\u001b[39m] \u001b[38;5;241m%\u001b[39m\u001b[38;5;241m=\u001b[39m \u001b[38;5;241m2\u001b[39m\n",
      "\u001b[0;31mKeyboardInterrupt\u001b[0m: "
     ]
    }
   ],
   "source": [
    "for n in range(5, 1000, 4):\n",
    "    T = 0\n",
    "    for k in range(1, n, 2):\n",
    "        if sss(n, k) & 1:\n",
    "            T += 1\n",
    "    b = (n-1)//4\n",
    "    if T != 2**popcnt(b)-1:\n",
    "        print(\"BAD\")\n",
    "    # print((n-1)//4, 2**popcnt(b)-1, T)"
   ]
  },
  {
   "cell_type": "code",
   "execution_count": null,
   "metadata": {},
   "outputs": [],
   "source": []
  },
  {
   "cell_type": "code",
   "execution_count": 25,
   "metadata": {},
   "outputs": [
    {
     "name": "stdout",
     "output_type": "stream",
     "text": [
      "0b110101\n",
      "213     213      213\n",
      "221     8      213\n",
      "245     24      213\n",
      "253     8      213\n",
      "469     216      213\n",
      "477     8      213\n",
      "501     24      213\n"
     ]
    }
   ],
   "source": [
    "j = 54\n",
    "q = -3 + j * 4\n",
    "print(bin((q - 1) // 4))\n",
    "d = 0\n",
    "for i in range(5, 500 + 4, 4):\n",
    "    for k in range(q, q + 1):\n",
    "        if sss(i, k) & 1:\n",
    "            print(i, \"   \", i - d, \"    \", k)\n",
    "            d = i"
   ]
  },
  {
   "cell_type": "code",
   "execution_count": null,
   "metadata": {},
   "outputs": [],
   "source": []
  },
  {
   "cell_type": "code",
   "execution_count": 7,
   "metadata": {},
   "outputs": [],
   "source": [
    "# Cont(2n + 3) = 2 * Cont(n)"
   ]
  },
  {
   "cell_type": "code",
   "execution_count": null,
   "metadata": {},
   "outputs": [],
   "source": []
  },
  {
   "cell_type": "code",
   "execution_count": null,
   "metadata": {},
   "outputs": [],
   "source": []
  }
 ],
 "metadata": {
  "kernelspec": {
   "display_name": "Python 3",
   "language": "python",
   "name": "python3"
  },
  "language_info": {
   "codemirror_mode": {
    "name": "ipython",
    "version": 3
   },
   "file_extension": ".py",
   "mimetype": "text/x-python",
   "name": "python",
   "nbconvert_exporter": "python",
   "pygments_lexer": "ipython3",
   "version": "3.9.6"
  }
 },
 "nbformat": 4,
 "nbformat_minor": 2
}
