{
 "cells": [
  {
   "cell_type": "code",
   "execution_count": 77,
   "id": "7e3b6cc1-0588-49cd-b13e-d669e886e42b",
   "metadata": {},
   "outputs": [],
   "source": [
    "def bf_ans(n):\n",
    "    s = [290797]\n",
    "    while len(s) < n:\n",
    "        s.append(s[-1] * s[-1] % 50515093)\n",
    "    l = []\n",
    "    for i in range(0, n):\n",
    "        for q in range(i + 1, n):\n",
    "            l.append(s[i] * s[q])\n",
    "    l.sort()\n",
    "    # print(l)\n",
    "    return l[len(l) // 2]"
   ]
  },
  {
   "cell_type": "code",
   "execution_count": 78,
   "id": "c062e23b-ca8e-4379-b952-893d1ec03d35",
   "metadata": {},
   "outputs": [
    {
     "data": {
      "text/plain": [
       "14232379780931"
      ]
     },
     "execution_count": 78,
     "metadata": {},
     "output_type": "execute_result"
    }
   ],
   "source": [
    "bf_ans(7)"
   ]
  },
  {
   "cell_type": "code",
   "execution_count": 79,
   "id": "ce6e0ca8-4339-4595-9e4e-967cf47f37ff",
   "metadata": {
    "scrolled": true
   },
   "outputs": [
    {
     "data": {
      "text/plain": [
       "14232379780931"
      ]
     },
     "execution_count": 79,
     "metadata": {},
     "output_type": "execute_result"
    }
   ],
   "source": [
    "def ans(n):\n",
    "    s = [290797]\n",
    "    while len(s) < n:\n",
    "        s.append(s[-1] * s[-1] % 50515093)\n",
    "    s.sort()\n",
    "    # Binary search. For each s, check how many are above m. Our goal should be to always be less than or eq to ((n) * (n - 1) - 1) // 2.\n",
    "    l = -1\n",
    "    m = 5000000000000000\n",
    "    tar = ((n * (n - 1)) // 2  - 1) // 2\n",
    "    while m >= 1:\n",
    "        while True:\n",
    "            cnt = 0\n",
    "            n_med = l + m\n",
    "            # Iterate through, at each el see what count is\n",
    "            for i in range(n):\n",
    "                ind_c = -1\n",
    "                inc = n\n",
    "                while inc >= 1:\n",
    "                    while True:\n",
    "                        n_lower = ind_c + inc\n",
    "                        if n_lower >= i:\n",
    "                            break\n",
    "                        if s[n_lower] * s[i] <= n_med:\n",
    "                            ind_c += inc\n",
    "                        else:\n",
    "                            break\n",
    "                    inc //= 2\n",
    "                # print(i, n_med, ind_c + 1)\n",
    "                cnt += ind_c + 1\n",
    "\n",
    "            # print(n_med, cnt, tar)\n",
    "            \n",
    "            if cnt <= tar:\n",
    "                l = n_med\n",
    "            else:\n",
    "                break\n",
    "        m //= 2\n",
    "    return l + 1\n",
    "ans(7)"
   ]
  },
  {
   "cell_type": "code",
   "execution_count": 80,
   "id": "11c5fdb8-e023-423e-9fbc-8604332c7932",
   "metadata": {},
   "outputs": [
    {
     "data": {
      "text/plain": [
       "14232379780931"
      ]
     },
     "execution_count": 80,
     "metadata": {},
     "output_type": "execute_result"
    }
   ],
   "source": [
    "bf_ans(7)"
   ]
  },
  {
   "cell_type": "code",
   "execution_count": 81,
   "id": "8f43b645-33c4-4478-b8d7-48a043e61675",
   "metadata": {},
   "outputs": [],
   "source": [
    "assert(ans(3) == bf_ans(3))\n",
    "assert(ans(103) == bf_ans(103))"
   ]
  },
  {
   "cell_type": "code",
   "execution_count": null,
   "id": "5f1b5597-f93b-4922-8a62-0937c15b96b0",
   "metadata": {},
   "outputs": [],
   "source": []
  }
 ],
 "metadata": {
  "kernelspec": {
   "display_name": "Python 3 (ipykernel)",
   "language": "python",
   "name": "python3"
  },
  "language_info": {
   "codemirror_mode": {
    "name": "ipython",
    "version": 3
   },
   "file_extension": ".py",
   "mimetype": "text/x-python",
   "name": "python",
   "nbconvert_exporter": "python",
   "pygments_lexer": "ipython3",
   "version": "3.12.4"
  }
 },
 "nbformat": 4,
 "nbformat_minor": 5
}
