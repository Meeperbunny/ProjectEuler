{
 "cells": [
  {
   "cell_type": "code",
   "execution_count": 37,
   "id": "ec0648c1-766c-4656-860d-0e7f1d2b16ca",
   "metadata": {},
   "outputs": [],
   "source": [
    "E = [[0 for _ in range(2)] for _ in range(500)]\n",
    "for p in range(499, -1, -1):\n",
    "    for f in range(1, -1, -1):\n",
    "        # Get a 500\n",
    "        C = 0\n",
    "        if f == 1:\n",
    "            C += 1/1000 * (1 + 0)\n",
    "        else:\n",
    "            C += 1/1000 * (1 + E[p][f + 1])\n",
    "\n",
    "        # Get a new number\n",
    "        if p == 499:\n",
    "            C += 499/500 * 0\n",
    "        else:\n",
    "            C += 499/500 * (499 - p) / 499 * (1 + E[p + 1][f])\n",
    "\n",
    "        # Get a compliment\n",
    "        C += 499/500 * (p / 499) * (1/2) * (1 + 0)\n",
    "\n",
    "        E[p][f] = (1000 * C + p + 1) / (1000 - 1 - p)"
   ]
  },
  {
   "cell_type": "code",
   "execution_count": 38,
   "id": "7a4f25c1-0bb8-41e0-a852-48090388f8f3",
   "metadata": {},
   "outputs": [
    {
     "data": {
      "text/plain": [
       "40.66368097"
      ]
     },
     "execution_count": 38,
     "metadata": {},
     "output_type": "execute_result"
    }
   ],
   "source": [
    "round(E[0][0], 8)"
   ]
  },
  {
   "cell_type": "code",
   "execution_count": 10,
   "id": "b4600e9f-2616-4877-83f7-3b64d91cf480",
   "metadata": {},
   "outputs": [],
   "source": [
    "from random import randint"
   ]
  },
  {
   "cell_type": "code",
   "execution_count": 17,
   "id": "ab88a6c4-b85a-45f3-9240-333778b0e2ff",
   "metadata": {},
   "outputs": [
    {
     "data": {
      "text/plain": [
       "523"
      ]
     },
     "execution_count": 17,
     "metadata": {},
     "output_type": "execute_result"
    }
   ],
   "source": []
  },
  {
   "cell_type": "code",
   "execution_count": 53,
   "id": "7734615e-fc18-4f91-91d3-360629d4e820",
   "metadata": {},
   "outputs": [
    {
     "data": {
      "text/plain": [
       "39.37"
      ]
     },
     "execution_count": 53,
     "metadata": {},
     "output_type": "execute_result"
    }
   ],
   "source": [
    "t = 1000\n",
    "ev = 0\n",
    "while t:\n",
    "    t -= 1\n",
    "    s = set()\n",
    "    c = 0\n",
    "    while True:\n",
    "        ta = randint(0, 999)\n",
    "        s.add(ta)\n",
    "        c += 1\n",
    "        if 1000 - ta in s:\n",
    "            break\n",
    "    ev += c\n",
    "ev / 1000"
   ]
  },
  {
   "cell_type": "code",
   "execution_count": null,
   "id": "669fdb21-e63c-4445-bb81-b82cccc8b0c9",
   "metadata": {},
   "outputs": [],
   "source": []
  }
 ],
 "metadata": {
  "kernelspec": {
   "display_name": "Python 3 (ipykernel)",
   "language": "python",
   "name": "python3"
  },
  "language_info": {
   "codemirror_mode": {
    "name": "ipython",
    "version": 3
   },
   "file_extension": ".py",
   "mimetype": "text/x-python",
   "name": "python",
   "nbconvert_exporter": "python",
   "pygments_lexer": "ipython3",
   "version": "3.12.4"
  }
 },
 "nbformat": 4,
 "nbformat_minor": 5
}
