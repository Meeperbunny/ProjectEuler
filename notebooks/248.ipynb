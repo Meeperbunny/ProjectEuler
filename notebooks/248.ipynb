{
 "cells": [
  {
   "cell_type": "code",
   "execution_count": 14,
   "metadata": {},
   "outputs": [],
   "source": [
    "from utils.factorial import *\n",
    "from utils.prime_factors import *\n",
    "from utils.miller_rabin import *\n",
    "from tqdm.notebook import trange\n",
    "from sortedcontainers import SortedDict, SortedSet"
   ]
  },
  {
   "cell_type": "code",
   "execution_count": 15,
   "metadata": {},
   "outputs": [
    {
     "data": {
      "text/plain": [
       "[2, 2, 2, 2, 2, 2, 2, 2, 2, 2, 3, 3, 3, 3, 3, 5, 5, 7, 11, 13]"
      ]
     },
     "execution_count": 15,
     "metadata": {},
     "output_type": "execute_result"
    }
   ],
   "source": [
    "C = pfs(factorial(13))\n",
    "C"
   ]
  },
  {
   "cell_type": "code",
   "execution_count": 16,
   "metadata": {},
   "outputs": [
    {
     "data": {
      "application/vnd.jupyter.widget-view+json": {
       "model_id": "bf519d68d8b84b6b99e4e2e43e731b99",
       "version_major": 2,
       "version_minor": 0
      },
      "text/plain": [
       "  0%|          | 0/1048576 [00:00<?, ?it/s]"
      ]
     },
     "metadata": {},
     "output_type": "display_data"
    },
    {
     "ename": "KeyboardInterrupt",
     "evalue": "",
     "output_type": "error",
     "traceback": [
      "\u001b[0;31m---------------------------------------------------------------------------\u001b[0m",
      "\u001b[0;31mKeyboardInterrupt\u001b[0m                         Traceback (most recent call last)",
      "Cell \u001b[0;32mIn[16], line 7\u001b[0m\n\u001b[1;32m      5\u001b[0m     \u001b[38;5;28;01mif\u001b[39;00m (i \u001b[38;5;241m>>\u001b[39m q) \u001b[38;5;241m&\u001b[39m \u001b[38;5;241m1\u001b[39m:\n\u001b[1;32m      6\u001b[0m         cm \u001b[38;5;241m*\u001b[39m\u001b[38;5;241m=\u001b[39m C[q]\n\u001b[0;32m----> 7\u001b[0m \u001b[38;5;28;01mif\u001b[39;00m \u001b[43mmiller_rabin\u001b[49m\u001b[43m(\u001b[49m\u001b[43mcm\u001b[49m\u001b[43m \u001b[49m\u001b[38;5;241;43m+\u001b[39;49m\u001b[43m \u001b[49m\u001b[38;5;241;43m1\u001b[39;49m\u001b[43m)\u001b[49m:\n\u001b[1;32m      8\u001b[0m     v\u001b[38;5;241m.\u001b[39madd(cm \u001b[38;5;241m+\u001b[39m \u001b[38;5;241m1\u001b[39m)\n",
      "File \u001b[0;32m~/ProjectEuler/utils/miller_rabin.py:18\u001b[0m, in \u001b[0;36mmiller_rabin\u001b[0;34m(n, k)\u001b[0m\n\u001b[1;32m     16\u001b[0m x \u001b[38;5;241m=\u001b[39m \u001b[38;5;28mpow\u001b[39m(a, d, n)\n\u001b[1;32m     17\u001b[0m \u001b[38;5;28;01mfor\u001b[39;00m _ \u001b[38;5;129;01min\u001b[39;00m \u001b[38;5;28mrange\u001b[39m(s):\n\u001b[0;32m---> 18\u001b[0m     y \u001b[38;5;241m=\u001b[39m \u001b[38;5;28;43mpow\u001b[39;49m\u001b[43m(\u001b[49m\u001b[43mx\u001b[49m\u001b[43m,\u001b[49m\u001b[43m \u001b[49m\u001b[38;5;241;43m2\u001b[39;49m\u001b[43m,\u001b[49m\u001b[43m \u001b[49m\u001b[43mn\u001b[49m\u001b[43m)\u001b[49m\n\u001b[1;32m     19\u001b[0m     \u001b[38;5;28;01mif\u001b[39;00m y \u001b[38;5;241m==\u001b[39m \u001b[38;5;241m1\u001b[39m \u001b[38;5;129;01mand\u001b[39;00m x \u001b[38;5;241m!=\u001b[39m \u001b[38;5;241m1\u001b[39m \u001b[38;5;129;01mand\u001b[39;00m x \u001b[38;5;241m!=\u001b[39m n \u001b[38;5;241m-\u001b[39m \u001b[38;5;241m1\u001b[39m:\n\u001b[1;32m     20\u001b[0m         \u001b[38;5;28;01mreturn\u001b[39;00m \u001b[38;5;28;01mFalse\u001b[39;00m\n",
      "\u001b[0;31mKeyboardInterrupt\u001b[0m: "
     ]
    }
   ],
   "source": [
    "v = set()\n",
    "for i in trange(0, 2**len(C)):\n",
    "    cm = 1\n",
    "    for q in range(len(C)):\n",
    "        if (i >> q) & 1:\n",
    "            cm *= C[q]\n",
    "    if miller_rabin(cm + 1):\n",
    "        v.add(cm + 1)"
   ]
  },
  {
   "cell_type": "code",
   "execution_count": null,
   "metadata": {},
   "outputs": [
    {
     "ename": "NameError",
     "evalue": "name 'factorial' is not defined",
     "output_type": "error",
     "traceback": [
      "\u001b[0;31m---------------------------------------------------------------------------\u001b[0m",
      "\u001b[0;31mNameError\u001b[0m                                 Traceback (most recent call last)",
      "Cell \u001b[0;32mIn[2], line 2\u001b[0m\n\u001b[1;32m      1\u001b[0m \u001b[38;5;66;03m# Idea is enumerate primes, take power and increase set for each el\u001b[39;00m\n\u001b[0;32m----> 2\u001b[0m f13 \u001b[38;5;241m=\u001b[39m \u001b[43mfactorial\u001b[49m(\u001b[38;5;241m13\u001b[39m)\n\u001b[1;32m      3\u001b[0m cap \u001b[38;5;241m=\u001b[39m \u001b[38;5;241m2\u001b[39m\u001b[38;5;241m*\u001b[39m\u001b[38;5;241m*\u001b[39m\u001b[38;5;241m63\u001b[39m \u001b[38;5;66;03m# 6227180929\u001b[39;00m\n\u001b[1;32m      4\u001b[0m v \u001b[38;5;66;03m# V is set of valid usable primes.\u001b[39;00m\n",
      "\u001b[0;31mNameError\u001b[0m: name 'factorial' is not defined"
     ]
    }
   ],
   "source": [
    "# Idea is enumerate primes, take power and increase set for each el\n",
    "f13 = factorial(13)\n",
    "cap = 2**63 # 6227180929\n",
    "v # V is set of valid usable primes.\n",
    "cset = SortedDict({\n",
    "    1: SortedSet({1}),\n",
    "    f13: SortedSet({})\n",
    "})\n",
    "# Idea is add current product\n",
    "for p in reversed(sorted(v)):\n",
    "    print(p, len(cset), len(cset[f13]))\n",
    "    new_cset = SortedDict({})\n",
    "    k = 0\n",
    "    tchange = 1\n",
    "    mchange = 1\n",
    "    while p**k <= cap:\n",
    "        for ptot in cset:\n",
    "            for cm in cset[ptot]:\n",
    "                if tchange * ptot not in new_cset:\n",
    "                    new_cset[tchange * ptot] = SortedSet()\n",
    "                if cm * mchange > cap:\n",
    "                    break\n",
    "                new_cset[tchange * ptot].add(cm * mchange)\n",
    "        k += 1\n",
    "        mchange *= p\n",
    "        if k == 1:\n",
    "            tchange *= (p - 1)\n",
    "        else:\n",
    "            tchange *= p\n",
    "    for ptot in new_cset:\n",
    "        for el in new_cset[ptot]:\n",
    "            if ptot not in cset:\n",
    "                cset[ptot] = SortedSet()\n",
    "            cset[ptot].add(el)\n",
    "\n",
    "\n",
    "\"\"\"\n",
    "2 1\n",
    "3 32\n",
    "5 641\n",
    "7 9014\n",
    "11 99870\n",
    "13 909026\n",
    "\"\"\""
   ]
  },
  {
   "cell_type": "code",
   "execution_count": null,
   "metadata": {},
   "outputs": [],
   "source": []
  },
  {
   "cell_type": "code",
   "execution_count": null,
   "metadata": {},
   "outputs": [
    {
     "data": {
      "text/plain": [
       "[2, 2, 2, 2, 2, 2, 2, 2, 2, 2, 3, 3, 3, 3, 3, 5, 5, 7, 11, 13]"
      ]
     },
     "execution_count": 37,
     "metadata": {},
     "output_type": "execute_result"
    }
   ],
   "source": [
    "P = pfs(factorial(13))\n",
    "P"
   ]
  },
  {
   "cell_type": "code",
   "execution_count": null,
   "metadata": {},
   "outputs": [],
   "source": [
    "from random import randint\n",
    "def miller_rabin(n, k=5):\n",
    "    if n <= 1:\n",
    "        return False\n",
    "    if n == 2 or n == 3:\n",
    "        return True\n",
    "    d = n - 1\n",
    "    s = 0\n",
    "    while d % 2 == 0:\n",
    "        d //= 2\n",
    "        s += 1\n",
    "    \n",
    "    y = 0\n",
    "    for _ in range(k):\n",
    "        a = randint(2, n - 2)\n",
    "        x = pow(a, d, n)\n",
    "        for _ in range(s):\n",
    "            y = pow(x, 2, n)\n",
    "            if y == 1 and x != 1 and x != n - 1:\n",
    "                return False\n",
    "            x = y\n",
    "        if y != 1:\n",
    "            return False\n",
    "    return True"
   ]
  },
  {
   "cell_type": "code",
   "execution_count": null,
   "metadata": {},
   "outputs": [],
   "source": [
    "s = set()"
   ]
  },
  {
   "cell_type": "code",
   "execution_count": null,
   "metadata": {},
   "outputs": [],
   "source": [
    "from tqdm.notebook import trange"
   ]
  },
  {
   "cell_type": "code",
   "execution_count": null,
   "metadata": {},
   "outputs": [
    {
     "data": {
      "application/vnd.jupyter.widget-view+json": {
       "model_id": "01fd6f8c4c1d4c63aa547a012a58bd36",
       "version_major": 2,
       "version_minor": 0
      },
      "text/plain": [
       "  0%|          | 0/1048576 [00:00<?, ?it/s]"
      ]
     },
     "metadata": {},
     "output_type": "display_data"
    }
   ],
   "source": [
    "for i in trange(0, 2**len(P)):\n",
    "    m = 1\n",
    "    for q in range(len(P)):\n",
    "        if (i >> q) & 1:\n",
    "            m *= P[q]\n",
    "    if miller_rabin(m + 1):\n",
    "        s.add(m + 1)"
   ]
  },
  {
   "cell_type": "code",
   "execution_count": null,
   "metadata": {},
   "outputs": [],
   "source": []
  },
  {
   "cell_type": "code",
   "execution_count": null,
   "metadata": {},
   "outputs": [
    {
     "data": {
      "text/plain": [
       "461"
      ]
     },
     "execution_count": 26,
     "metadata": {},
     "output_type": "execute_result"
    }
   ],
   "source": [
    "len(s)"
   ]
  },
  {
   "cell_type": "code",
   "execution_count": null,
   "metadata": {},
   "outputs": [
    {
     "name": "stdout",
     "output_type": "stream",
     "text": [
      "Object `powers` not found.\n"
     ]
    }
   ],
   "source": [
    "Check that the bitmask is prime. If it is then is valid to be multiplied. What about powers?"
   ]
  },
  {
   "cell_type": "code",
   "execution_count": null,
   "metadata": {},
   "outputs": [
    {
     "data": {
      "text/plain": [
       "[66529, 93601]"
      ]
     },
     "execution_count": 18,
     "metadata": {},
     "output_type": "execute_result"
    }
   ],
   "source": [
    "pfs(6227180929)"
   ]
  },
  {
   "cell_type": "code",
   "execution_count": null,
   "metadata": {},
   "outputs": [],
   "source": []
  },
  {
   "cell_type": "code",
   "execution_count": null,
   "metadata": {},
   "outputs": [],
   "source": []
  },
  {
   "cell_type": "code",
   "execution_count": null,
   "metadata": {},
   "outputs": [
    {
     "data": {
      "application/vnd.jupyter.widget-view+json": {
       "model_id": "d7ad11b8e1da4a029823abe364a2bc8a",
       "version_major": 2,
       "version_minor": 0
      },
      "text/plain": [
       "  0%|          | 0/1048576 [00:00<?, ?it/s]"
      ]
     },
     "metadata": {},
     "output_type": "display_data"
    },
    {
     "ename": "KeyboardInterrupt",
     "evalue": "",
     "output_type": "error",
     "traceback": [
      "\u001b[0;31m---------------------------------------------------------------------------\u001b[0m",
      "\u001b[0;31mKeyboardInterrupt\u001b[0m                         Traceback (most recent call last)",
      "Cell \u001b[0;32mIn[19], line 15\u001b[0m\n\u001b[1;32m     13\u001b[0m         \u001b[38;5;28;01mif\u001b[39;00m (i \u001b[38;5;241m>>\u001b[39m q) \u001b[38;5;241m&\u001b[39m \u001b[38;5;241m1\u001b[39m:\n\u001b[1;32m     14\u001b[0m             cm \u001b[38;5;241m*\u001b[39m\u001b[38;5;241m=\u001b[39m C[q]\n\u001b[0;32m---> 15\u001b[0m     \u001b[38;5;28;01mif\u001b[39;00m \u001b[43mmiller_rabin\u001b[49m\u001b[43m(\u001b[49m\u001b[43mcm\u001b[49m\u001b[43m \u001b[49m\u001b[38;5;241;43m+\u001b[39;49m\u001b[43m \u001b[49m\u001b[38;5;241;43m1\u001b[39;49m\u001b[43m)\u001b[49m:\n\u001b[1;32m     16\u001b[0m         v\u001b[38;5;241m.\u001b[39madd(cm \u001b[38;5;241m+\u001b[39m \u001b[38;5;241m1\u001b[39m)\n\u001b[1;32m     17\u001b[0m \u001b[38;5;66;03m# Idea is enumerate primes, take power and increase set for each el\u001b[39;00m\n",
      "File \u001b[0;32m~/ProjectEuler/utils/miller_rabin.py:16\u001b[0m, in \u001b[0;36mmiller_rabin\u001b[0;34m(n, k)\u001b[0m\n\u001b[1;32m     14\u001b[0m \u001b[38;5;28;01mfor\u001b[39;00m _ \u001b[38;5;129;01min\u001b[39;00m \u001b[38;5;28mrange\u001b[39m(k):\n\u001b[1;32m     15\u001b[0m     a \u001b[38;5;241m=\u001b[39m randint(\u001b[38;5;241m2\u001b[39m, n \u001b[38;5;241m-\u001b[39m \u001b[38;5;241m2\u001b[39m)\n\u001b[0;32m---> 16\u001b[0m     x \u001b[38;5;241m=\u001b[39m \u001b[38;5;28;43mpow\u001b[39;49m\u001b[43m(\u001b[49m\u001b[43ma\u001b[49m\u001b[43m,\u001b[49m\u001b[43m \u001b[49m\u001b[43md\u001b[49m\u001b[43m,\u001b[49m\u001b[43m \u001b[49m\u001b[43mn\u001b[49m\u001b[43m)\u001b[49m\n\u001b[1;32m     17\u001b[0m     \u001b[38;5;28;01mfor\u001b[39;00m _ \u001b[38;5;129;01min\u001b[39;00m \u001b[38;5;28mrange\u001b[39m(s):\n\u001b[1;32m     18\u001b[0m         y \u001b[38;5;241m=\u001b[39m \u001b[38;5;28mpow\u001b[39m(x, \u001b[38;5;241m2\u001b[39m, n)\n",
      "\u001b[0;31mKeyboardInterrupt\u001b[0m: "
     ]
    }
   ],
   "source": [
    "from utils.factorial import *\n",
    "from utils.prime_factors import *\n",
    "from utils.miller_rabin import *\n",
    "from tqdm.notebook import trange\n",
    "from sortedcontainers import SortedDict, SortedSet\n",
    "C = pfs(factorial(13))\n",
    "C\n",
    "T = 150_000\n",
    "v = set()\n",
    "for i in trange(0, 2**len(C)):\n",
    "    cm = 1\n",
    "    for q in range(len(C)):\n",
    "        if (i >> q) & 1:\n",
    "            cm *= C[q]\n",
    "    if miller_rabin(cm + 1):\n",
    "        v.add(cm + 1)\n",
    "# Idea is enumerate primes, take power and increase set for each el\n",
    "f13 = factorial(13)\n",
    "cap = 2**63 # 6227180929\n",
    "v # V is set of valid usable primes.\n",
    "cset = SortedDict({\n",
    "    1: SortedSet({1}),\n",
    "    f13: SortedSet({})\n",
    "})\n",
    "# Idea is add current product\n",
    "for p in reversed(sorted(v)):\n",
    "    print(p, len(cset), len(cset[f13]))\n",
    "    if len(cset[f13] > T):\n",
    "        break\n",
    "    new_cset = SortedDict({})\n",
    "    k = 0\n",
    "    tchange = 1\n",
    "    mchange = 1\n",
    "    while p**k <= cap:\n",
    "        for ptot in cset:\n",
    "            for cm in cset[ptot]:\n",
    "                if tchange * ptot not in new_cset:\n",
    "                    new_cset[tchange * ptot] = SortedSet()\n",
    "                if cm * mchange > cap:\n",
    "                    break\n",
    "                new_cset[tchange * ptot].add(cm * mchange)\n",
    "        k += 1\n",
    "        mchange *= p\n",
    "        if k == 1:\n",
    "            tchange *= (p - 1)\n",
    "        else:\n",
    "            tchange *= p\n",
    "    for ptot in new_cset:\n",
    "        for el in new_cset[ptot]:\n",
    "            if ptot not in cset:\n",
    "                cset[ptot] = SortedSet()\n",
    "            cset[ptot].add(el)\n",
    "print(\"Answer: {}\".format(\n",
    "    sorted(cset[f13])[T - 1]\n",
    "))"
   ]
  },
  {
   "cell_type": "code",
   "execution_count": null,
   "metadata": {},
   "outputs": [],
   "source": []
  },
  {
   "cell_type": "code",
   "execution_count": null,
   "metadata": {},
   "outputs": [],
   "source": [
    "from utils.factorial import *\n",
    "from utils.prime_factors import *\n",
    "from utils.miller_rabin import *\n",
    "from tqdm import trange\n",
    "from sortedcontainers import SortedDict, SortedSet\n",
    "C = pfs(factorial(13))\n",
    "C\n",
    "T = 150_000\n",
    "v = set()\n",
    "for i in trange(0, 2**len(C)):\n",
    "    cm = 1\n",
    "    for q in range(len(C)):\n",
    "        if (i >> q) & 1:\n",
    "            cm *= C[q]\n",
    "    if miller_rabin(cm + 1):\n",
    "        v.add(cm + 1)\n",
    "# Idea is enumerate primes, take power and increase set for each el\n",
    "f13 = factorial(13)\n",
    "cap = 2**63 # 6227180929\n",
    "cap = 2**40 # 6227180929\n",
    "v # V is set of valid usable primes.\n",
    "cset = SortedDict({\n",
    "    1: SortedSet({1}),\n",
    "    f13: SortedSet({})\n",
    "})\n",
    "# Idea is add current product\n",
    "for p in reversed(sorted(v)):\n",
    "    print(p, len(cset), len(cset[f13]))\n",
    "    if len(cset[f13]) > T:\n",
    "        break\n",
    "    new_cset = SortedDict({})\n",
    "    k = 0\n",
    "    tchange = 1\n",
    "    mchange = 1\n",
    "    while p**k <= cap:\n",
    "        for ptot in cset:\n",
    "            for cm in cset[ptot]:\n",
    "                if tchange * ptot not in new_cset:\n",
    "                    new_cset[tchange * ptot] = SortedSet()\n",
    "                if cm * mchange > cap:\n",
    "                    break\n",
    "                new_cset[tchange * ptot].add(cm * mchange)\n",
    "        k += 1\n",
    "        mchange *= p\n",
    "        if k == 1:\n",
    "            tchange *= (p - 1)\n",
    "        else:\n",
    "            tchange *= p\n",
    "    for ptot in new_cset:\n",
    "        for el in new_cset[ptot]:\n",
    "            if ptot not in cset:\n",
    "                cset[ptot] = SortedSet()\n",
    "            cset[ptot].add(el)\n",
    "print(\"Answer: {}\".format(\n",
    "    sorted(cset[f13])[T - 1]\n",
    "))"
   ]
  },
  {
   "cell_type": "code",
   "execution_count": null,
   "metadata": {},
   "outputs": [],
   "source": []
  },
  {
   "cell_type": "code",
   "execution_count": null,
   "metadata": {},
   "outputs": [],
   "source": []
  },
  {
   "cell_type": "code",
   "execution_count": 21,
   "metadata": {},
   "outputs": [
    {
     "name": "stderr",
     "output_type": "stream",
     "text": [
      "100%|██████████| 2048/2048 [00:00<00:00, 30662.90it/s]\n"
     ]
    },
    {
     "name": "stdout",
     "output_type": "stream",
     "text": [
      "Getting first prime list\n"
     ]
    },
    {
     "name": "stderr",
     "output_type": "stream",
     "text": [
      "100%|██████████| 8/8 [00:00<00:00, 63.85it/s]\n"
     ]
    },
    {
     "name": "stdout",
     "output_type": "stream",
     "text": [
      "Getting second prime list\n"
     ]
    },
    {
     "name": "stderr",
     "output_type": "stream",
     "text": [
      "100%|██████████| 32/32 [00:00<00:00, 399.25it/s]"
     ]
    },
    {
     "name": "stdout",
     "output_type": "stream",
     "text": [
      "348\n",
      "Trimmed\n",
      "348\n"
     ]
    },
    {
     "name": "stderr",
     "output_type": "stream",
     "text": [
      "\n"
     ]
    }
   ],
   "source": [
    "from utils.factorial import *\n",
    "from utils.prime_factors import *\n",
    "from utils.miller_rabin import *\n",
    "from tqdm import trange, tqdm\n",
    "from sortedcontainers import SortedDict, SortedSet\n",
    "C = pfs(factorial(8))\n",
    "C\n",
    "T = 150_000\n",
    "v = set()\n",
    "for i in trange(0, 2**len(C)):\n",
    "    cm = 1\n",
    "    for q in range(len(C)):\n",
    "        if (i >> q) & 1:\n",
    "            cm *= C[q]\n",
    "    if miller_rabin(cm + 1):\n",
    "        v.add(cm + 1)\n",
    "# Idea is enumerate primes, take power and increase set for each el\n",
    "f13 = factorial(8)\n",
    "cap = 2**30 # 6227180929\n",
    "\n",
    "cap = 83936 # 6227180929\n",
    "lpcap = 83936\n",
    "v # V is set of valid usable primes.\n",
    "PL = sorted(v)\n",
    "div = 8\n",
    "FPL = PL[:div]\n",
    "SPL = PL[div:]\n",
    "\n",
    "Fcset = {\n",
    "    1: SortedSet({1}),\n",
    "    f13: SortedSet({})\n",
    "}\n",
    "print(\"Getting first prime list\")\n",
    "for p in tqdm(FPL):\n",
    "    new_cset = SortedDict({})\n",
    "    k = 0\n",
    "    tchange = 1\n",
    "    mchange = 1\n",
    "    while p**k <= lpcap:\n",
    "        for ptot in Fcset:\n",
    "            for cm in Fcset[ptot]:\n",
    "                if tchange * ptot not in new_cset:\n",
    "                    new_cset[tchange * ptot] = SortedSet()\n",
    "                if cm * mchange > lpcap:\n",
    "                    break\n",
    "                new_cset[tchange * ptot].add(cm * mchange)\n",
    "        k += 1\n",
    "        mchange *= p\n",
    "        if k == 1:\n",
    "            tchange *= (p - 1)\n",
    "        else:\n",
    "            tchange *= p\n",
    "    for ptot in new_cset:\n",
    "        for el in new_cset[ptot]:\n",
    "            if ptot not in Fcset:\n",
    "                Fcset[ptot] = SortedSet()\n",
    "            Fcset[ptot].add(el)\n",
    "\n",
    "Scset = {\n",
    "    1: SortedSet({1}),\n",
    "    f13: SortedSet({})\n",
    "}\n",
    "print(\"Getting second prime list\")\n",
    "for p in tqdm(SPL):\n",
    "    new_cset = SortedDict({})\n",
    "    k = 0\n",
    "    tchange = 1\n",
    "    mchange = 1\n",
    "    while p**k <= cap:\n",
    "        for ptot in Scset:\n",
    "            for cm in Scset[ptot]:\n",
    "                if tchange * ptot not in new_cset:\n",
    "                    new_cset[tchange * ptot] = SortedSet()\n",
    "                if cm * mchange > cap:\n",
    "                    break\n",
    "                new_cset[tchange * ptot].add(cm * mchange)\n",
    "        k += 1\n",
    "        mchange *= p\n",
    "        if k == 1:\n",
    "            tchange *= (p - 1)\n",
    "        else:\n",
    "            tchange *= p\n",
    "    for ptot in new_cset:\n",
    "        for el in new_cset[ptot]:\n",
    "            if ptot not in Scset:\n",
    "                Scset[ptot] = SortedSet()\n",
    "            Scset[ptot].add(el)\n",
    "\n",
    "ans = set()\n",
    "for ctot in Fcset:\n",
    "    if f13 % ctot == 0:\n",
    "        comp = f13 // ctot\n",
    "        if comp in Scset:\n",
    "            for e1 in Fcset[ctot]:\n",
    "                for e2 in Scset[comp]:\n",
    "                    ans.add(e1 * e2)\n",
    "print(len(ans))\n",
    "S = sorted(ans)\n",
    "if len(ans) > T:\n",
    "    print(S[0])\n",
    "    print(S[T - 1])\n",
    "\n",
    "S = [e for e in S if e <= cap]\n",
    "print(\"Trimmed\")\n",
    "print(len(ans))\n",
    "if len(ans) > T:\n",
    "    print(S[0])\n",
    "    print(S[T - 1])"
   ]
  },
  {
   "cell_type": "code",
   "execution_count": 20,
   "metadata": {},
   "outputs": [],
   "source": [
    "SS = S.copy()"
   ]
  },
  {
   "cell_type": "code",
   "execution_count": 22,
   "metadata": {},
   "outputs": [
    {
     "data": {
      "text/plain": [
       "True"
      ]
     },
     "execution_count": 22,
     "metadata": {},
     "output_type": "execute_result"
    }
   ],
   "source": [
    "S[0:100] == SS[0:100]"
   ]
  },
  {
   "cell_type": "code",
   "execution_count": 13,
   "metadata": {},
   "outputs": [
    {
     "data": {
      "text/plain": [
       "83936"
      ]
     },
     "execution_count": 13,
     "metadata": {},
     "output_type": "execute_result"
    }
   ],
   "source": [
    "S[100]"
   ]
  },
  {
   "cell_type": "code",
   "execution_count": null,
   "metadata": {},
   "outputs": [
    {
     "ename": "NameError",
     "evalue": "name 'Counter' is not defined",
     "output_type": "error",
     "traceback": [
      "\u001b[0;31m---------------------------------------------------------------------------\u001b[0m",
      "\u001b[0;31mNameError\u001b[0m                                 Traceback (most recent call last)",
      "Cell \u001b[0;32mIn[25], line 1\u001b[0m\n\u001b[0;32m----> 1\u001b[0m \u001b[43mCounter\u001b[49m(pfs(factorial(\u001b[38;5;241m13\u001b[39m)))\n",
      "\u001b[0;31mNameError\u001b[0m: name 'Counter' is not defined"
     ]
    }
   ],
   "source": []
  },
  {
   "cell_type": "code",
   "execution_count": null,
   "metadata": {},
   "outputs": [],
   "source": [
    "from collections import Counter\n",
    "plimits = Counter(pfs(factorial(13)))"
   ]
  },
  {
   "cell_type": "code",
   "execution_count": null,
   "metadata": {},
   "outputs": [
    {
     "name": "stderr",
     "output_type": "stream",
     "text": [
      " 16%|█▋        | 171235/1048576 [00:01<00:08, 103949.89it/s]\n"
     ]
    },
    {
     "ename": "KeyboardInterrupt",
     "evalue": "",
     "output_type": "error",
     "traceback": [
      "\u001b[0;31m---------------------------------------------------------------------------\u001b[0m",
      "\u001b[0;31mKeyboardInterrupt\u001b[0m                         Traceback (most recent call last)",
      "Cell \u001b[0;32mIn[28], line 14\u001b[0m\n\u001b[1;32m     12\u001b[0m \u001b[38;5;28;01mfor\u001b[39;00m q \u001b[38;5;129;01min\u001b[39;00m \u001b[38;5;28mrange\u001b[39m(\u001b[38;5;28mlen\u001b[39m(C)):\n\u001b[1;32m     13\u001b[0m     \u001b[38;5;28;01mif\u001b[39;00m (i \u001b[38;5;241m>>\u001b[39m q) \u001b[38;5;241m&\u001b[39m \u001b[38;5;241m1\u001b[39m:\n\u001b[0;32m---> 14\u001b[0m         cm \u001b[38;5;241m*\u001b[39m\u001b[38;5;241m=\u001b[39m C[q]\n\u001b[1;32m     15\u001b[0m \u001b[38;5;28;01mif\u001b[39;00m miller_rabin(cm \u001b[38;5;241m+\u001b[39m \u001b[38;5;241m1\u001b[39m):\n\u001b[1;32m     16\u001b[0m     v\u001b[38;5;241m.\u001b[39madd(cm \u001b[38;5;241m+\u001b[39m \u001b[38;5;241m1\u001b[39m)\n",
      "\u001b[0;31mKeyboardInterrupt\u001b[0m: "
     ]
    }
   ],
   "source": [
    "from utils.factorial import *\n",
    "from utils.prime_factors import *\n",
    "from utils.miller_rabin import *\n",
    "from tqdm import trange, tqdm\n",
    "from sortedcontainers import SortedDict, SortedSet\n",
    "C = pfs(factorial(13))\n",
    "C\n",
    "T = 150_000\n",
    "v = set()\n",
    "for i in trange(0, 2**len(C)):\n",
    "    cm = 1\n",
    "    for q in range(len(C)):\n",
    "        if (i >> q) & 1:\n",
    "            cm *= C[q]\n",
    "    if miller_rabin(cm + 1):\n",
    "        v.add(cm + 1)\n",
    "# Idea is enumerate primes, take power and increase set for each el\n",
    "f13 = factorial(13)\n",
    "pf13 = set(pfs(f13))\n",
    "cap = 2**63 # 6227180929\n",
    "\n",
    "cap = 2**46 # 6227180929\n",
    "# cap = 6227180929\n",
    "lpcap = cap\n",
    "v # V is set of valid usable primes.\n",
    "PL = sorted(v)\n",
    "div = 60\n",
    "FPL = PL[:div]\n",
    "SPL = PL[div:]\n",
    "\n",
    "Fcset = {\n",
    "    1: SortedSet({1}),\n",
    "    f13: SortedSet({})\n",
    "}\n",
    "print(\"Getting first prime list\")\n",
    "for p in tqdm(FPL):\n",
    "    new_cset = {}\n",
    "    k = 0\n",
    "    tchange = 1\n",
    "    mchange = 1\n",
    "    while p**k <= lpcap:\n",
    "        for ptot in Fcset:\n",
    "            for cm in Fcset[ptot]:\n",
    "                if tchange * ptot not in new_cset:\n",
    "                    new_cset[tchange * ptot] = set()\n",
    "                if cm * mchange <= lpcap:\n",
    "                    new_cset[tchange * ptot].add(cm * mchange)\n",
    "        k += 1\n",
    "        \n",
    "        if p not in pf13 and k > 1:\n",
    "            break\n",
    "        if p in plimits and plimits[p] < k:\n",
    "            break\n",
    "        mchange *= p\n",
    "        if k == 1:\n",
    "            tchange *= (p - 1)\n",
    "        else:\n",
    "            tchange *= p\n",
    "    for ptot in new_cset:\n",
    "        if ptot not in Fcset:\n",
    "            Fcset[ptot] = set()\n",
    "        Fcset[ptot].update(new_cset[ptot])\n",
    "\n",
    "Scset = {\n",
    "    1: set({1}),\n",
    "    f13: set({})\n",
    "}\n",
    "print(\"Getting second prime list\")\n",
    "for p in tqdm(SPL):\n",
    "    new_cset = {}\n",
    "    k = 0\n",
    "    tchange = 1\n",
    "    mchange = 1\n",
    "    while p**k <= cap:\n",
    "        for ptot in Scset:\n",
    "            for cm in Scset[ptot]:\n",
    "                if tchange * ptot not in new_cset:\n",
    "                    new_cset[tchange * ptot] = set()\n",
    "                if cm * mchange <= cap:\n",
    "                    new_cset[tchange * ptot].add(cm * mchange)\n",
    "        k += 1\n",
    "        if p not in pf13 and k > 1:\n",
    "            break\n",
    "        if p in plimits and plimits[p] < k:\n",
    "            break\n",
    "        mchange *= p\n",
    "        if k == 1:\n",
    "            tchange *= (p - 1)\n",
    "        else:\n",
    "            tchange *= p\n",
    "    for ptot in new_cset:\n",
    "        if ptot not in Scset:\n",
    "            Scset[ptot] = set()\n",
    "        Scset[ptot].update(new_cset[ptot])\n",
    "\n",
    "ans = set()\n",
    "for ctot in Fcset:\n",
    "    if f13 % ctot == 0:\n",
    "        comp = f13 // ctot\n",
    "        if comp in Scset:\n",
    "            for e1 in Fcset[ctot]:\n",
    "                for e2 in Scset[comp]:\n",
    "                    ans.add(e1 * e2)\n",
    "print(len(ans))\n",
    "S = sorted(ans)\n",
    "if len(ans) > T:\n",
    "    print(S[0])\n",
    "    print(S[T - 1])\n",
    "\n",
    "S = [e for e in S if e <= cap]\n",
    "print(\"Trimmed\")\n",
    "print(len(ans))\n",
    "if len(ans) > T:\n",
    "    print(S[0])\n",
    "    print(S[T - 1])\n",
    "\n"
   ]
  },
  {
   "cell_type": "code",
   "execution_count": 34,
   "metadata": {},
   "outputs": [
    {
     "data": {
      "text/plain": [
       "Counter({2: 10, 3: 5, 5: 2, 7: 1, 11: 1, 13: 1})"
      ]
     },
     "execution_count": 34,
     "metadata": {},
     "output_type": "execute_result"
    }
   ],
   "source": [
    "Counter(pfs(factorial(13)))"
   ]
  },
  {
   "cell_type": "code",
   "execution_count": null,
   "metadata": {},
   "outputs": [],
   "source": [
    "def maxPow(n, p):\n",
    "    k = 0\n",
    "    while n % p**(k + 1) == 0:\n",
    "        k += 1\n",
    "    return k\n",
    "mc = Counter(pfs(factorial(13)))\n",
    "def ntoi(n):\n",
    "    t = 0\n",
    "    for p in mc:\n",
    "        mp = maxPow(n, p)\n",
    "        if mp > mc[p]:\n",
    "            return -1\n",
    "        t = t * (mc[p] + 1) + mp\n",
    "        n //= p**mp\n",
    "    if n != 1:\n",
    "        return -1\n",
    "    return t\n",
    "bm = 1\n",
    "for e in mc.values():\n",
    "    bm *= e + 1\n",
    "def iton(i):\n",
    "    bb = 1\n",
    "    t = 1\n",
    "    for p in reversed(mc):\n",
    "        # cc[p] = (i // bb) % (mc[p] + 1)\n",
    "        t *= p**((i // bb) % (mc[p] + 1))\n",
    "        bb *= (mc[p] + 1)\n",
    "    # return cc\n",
    "    return t"
   ]
  },
  {
   "cell_type": "code",
   "execution_count": 84,
   "metadata": {},
   "outputs": [
    {
     "data": {
      "text/plain": [
       "(1144, 435)"
      ]
     },
     "execution_count": 84,
     "metadata": {},
     "output_type": "execute_result"
    }
   ],
   "source": [
    "13 * 11 * 2**3, ntoi(13 * 11 * 2**3)"
   ]
  },
  {
   "cell_type": "code",
   "execution_count": 85,
   "metadata": {},
   "outputs": [
    {
     "data": {
      "text/plain": [
       "1144"
      ]
     },
     "execution_count": 85,
     "metadata": {},
     "output_type": "execute_result"
    }
   ],
   "source": [
    "iton(435)"
   ]
  },
  {
   "cell_type": "code",
   "execution_count": 106,
   "metadata": {},
   "outputs": [
    {
     "data": {
      "text/plain": [
       "0"
      ]
     },
     "execution_count": 106,
     "metadata": {},
     "output_type": "execute_result"
    }
   ],
   "source": [
    "ntoi(1)"
   ]
  },
  {
   "cell_type": "code",
   "execution_count": null,
   "metadata": {},
   "outputs": [],
   "source": []
  },
  {
   "cell_type": "code",
   "execution_count": 123,
   "metadata": {},
   "outputs": [
    {
     "name": "stdout",
     "output_type": "stream",
     "text": [
      "13\n",
      "21\n",
      "26\n",
      "28\n",
      "36\n",
      "42\n"
     ]
    }
   ],
   "source": [
    "for i in range(1, 1000):\n",
    "    if totient(i) == 12:\n",
    "        print(i)"
   ]
  },
  {
   "cell_type": "code",
   "execution_count": 122,
   "metadata": {},
   "outputs": [
    {
     "data": {
      "text/plain": [
       "{13, 21, 26, 28, 36, 42}"
      ]
     },
     "execution_count": 122,
     "metadata": {},
     "output_type": "execute_result"
    }
   ],
   "source": [
    "lk[ntoi(12)]"
   ]
  },
  {
   "cell_type": "code",
   "execution_count": 164,
   "metadata": {},
   "outputs": [
    {
     "data": {
      "text/plain": [
       "[2, 3, 5, 7, 11, 13, 17, 19, 23, 29]"
      ]
     },
     "execution_count": 164,
     "metadata": {},
     "output_type": "execute_result"
    }
   ],
   "source": [
    "sorted(v)[0:10]"
   ]
  },
  {
   "cell_type": "code",
   "execution_count": 175,
   "metadata": {},
   "outputs": [],
   "source": [
    "vv = v.copy()"
   ]
  },
  {
   "cell_type": "code",
   "execution_count": 180,
   "metadata": {},
   "outputs": [
    {
     "name": "stdout",
     "output_type": "stream",
     "text": [
      "BAD 665281\n",
      "BAD 1891\n",
      "BAD 49141\n"
     ]
    }
   ],
   "source": [
    "for e in vv:\n",
    "    if e not in v:\n",
    "        print(\"BAD\", e)\n",
    "for e in v:\n",
    "    if e not in vv:\n",
    "        print(\"BAD\", e)"
   ]
  },
  {
   "cell_type": "code",
   "execution_count": 4,
   "metadata": {},
   "outputs": [],
   "source": [
    "from tqdm import trange, tqdm\n",
    "from collections import Counter\n",
    "from utils.miller_rabin import miller_rabin\n",
    "from utils.prime_factors import pfs\n",
    "\n",
    "def inverse_phi(num):\n",
    "    def maxPow(n, p):\n",
    "        k = 0\n",
    "        while n % p**(k + 1) == 0:\n",
    "            k += 1\n",
    "        return k\n",
    "    mc = Counter(pfs(num))\n",
    "    def ntoi(n):\n",
    "        t = 0\n",
    "        for p in mc:\n",
    "            mp = maxPow(n, p)\n",
    "            if mp > mc[p]:\n",
    "                return -1\n",
    "            t = t * (mc[p] + 1) + mp\n",
    "            n //= p**mp\n",
    "        if n != 1:\n",
    "            return -1\n",
    "        return t\n",
    "    bm = 1\n",
    "    for e in mc.values():\n",
    "        bm *= e + 1\n",
    "    def iton(i):\n",
    "        bb = 1\n",
    "        t = 1\n",
    "        for p in reversed(mc):\n",
    "            # cc[p] = (i // bb) % (mc[p] + 1)\n",
    "            t *= p**((i // bb) % (mc[p] + 1))\n",
    "            bb *= (mc[p] + 1)\n",
    "        # return cc\n",
    "        return t\n",
    "    \n",
    "    C = pfs(num)\n",
    "    C\n",
    "    v = set()\n",
    "    for i in trange(0, 2**len(C)):\n",
    "        cm = 1\n",
    "        for q in range(len(C)):\n",
    "            if (i >> q) & 1:\n",
    "                cm *= C[q]\n",
    "        if miller_rabin(cm + 1, k=10):\n",
    "            v.add(cm + 1)\n",
    "    \n",
    "    mnum = ntoi(num)\n",
    "    lk = [set() for _ in range(mnum + 1)]\n",
    "    lk[0] = set({1})\n",
    "    for p in tqdm(reversed(sorted(v))):\n",
    "        # print(\"Working on p = {}\".format(p))\n",
    "        nlk = [set() for _ in range(mnum + 1)]\n",
    "        k = 0\n",
    "        ctot = 1\n",
    "        m = 1\n",
    "        while True:\n",
    "            ci = ntoi(ctot)\n",
    "            if ci == -1:\n",
    "                break\n",
    "            # print(p, ctot, ci)\n",
    "            # Iter through each lk and mult myself with each, adding through.\n",
    "            for q in range(0, mnum + 1):\n",
    "                ttot = iton(q) # Get current tot\n",
    "                ntot = ctot * ttot\n",
    "                # Get index of new totient\n",
    "                utot = ntoi(ntot)\n",
    "                if utot != -1: # If new totient is valid, then propagate.\n",
    "                    for el in lk[q]:\n",
    "                        nlk[utot].add(el * m)\n",
    "                    \n",
    "            k += 1\n",
    "            if k == 1:\n",
    "                ctot *= p - 1\n",
    "            else:\n",
    "                ctot *= p\n",
    "            m *= p\n",
    "        for i in range(0, mnum + 1):\n",
    "            lk[i].update(nlk[i])\n",
    "    mind = ntoi(num)\n",
    "    # print(\"Len of {}\".format(len(lk[mind])))\n",
    "    return sorted(lk[mind])"
   ]
  },
  {
   "cell_type": "code",
   "execution_count": 5,
   "metadata": {},
   "outputs": [
    {
     "name": "stderr",
     "output_type": "stream",
     "text": [
      "100%|██████████| 4/4 [00:00<00:00, 4744.69it/s]\n",
      "3it [00:00, 5256.02it/s]\n"
     ]
    },
    {
     "data": {
      "text/plain": [
       "[7, 9, 14, 18]"
      ]
     },
     "execution_count": 5,
     "metadata": {},
     "output_type": "execute_result"
    }
   ],
   "source": [
    "inverse_phi(6)"
   ]
  },
  {
   "cell_type": "code",
   "execution_count": 201,
   "metadata": {},
   "outputs": [
    {
     "data": {
      "text/plain": [
       "23507044290"
      ]
     },
     "execution_count": 201,
     "metadata": {},
     "output_type": "execute_result"
    }
   ],
   "source": [
    "ip[T - 1]"
   ]
  },
  {
   "cell_type": "code",
   "execution_count": 184,
   "metadata": {},
   "outputs": [
    {
     "ename": "SyntaxError",
     "evalue": "'return' outside function (3797733095.py, line 36)",
     "output_type": "error",
     "traceback": [
      "\u001b[0;36m  Cell \u001b[0;32mIn[184], line 36\u001b[0;36m\u001b[0m\n\u001b[0;31m    return sorted(lk[mind])[0], sorted(lk[mind])\u001b[0m\n\u001b[0m    ^\u001b[0m\n\u001b[0;31mSyntaxError\u001b[0m\u001b[0;31m:\u001b[0m 'return' outside function\n"
     ]
    }
   ],
   "source": [
    "mnum = ntoi(factorial(13))\n",
    "lk = [set() for _ in range(mnum + 1)]\n",
    "lk[0] = set({1})\n",
    "for p in reversed(sorted(v)):\n",
    "    print(\"Working on p = {}\".format(p))\n",
    "    nlk = [set() for _ in range(mnum + 1)]\n",
    "    k = 0\n",
    "    ctot = 1\n",
    "    m = 1\n",
    "    while True:\n",
    "        ci = ntoi(ctot)\n",
    "        if ci == -1:\n",
    "            break\n",
    "        # print(p, ctot, ci)\n",
    "        # Iter through each lk and mult myself with each, adding through.\n",
    "        for q in range(0, mnum + 1):\n",
    "            ttot = iton(q) # Get current tot\n",
    "            ntot = ctot * ttot\n",
    "            # Get index of new totient\n",
    "            utot = ntoi(ntot)\n",
    "            if utot != -1: # If new totient is valid, then propagate.\n",
    "                for el in lk[q]:\n",
    "                    nlk[utot].add(el * m)\n",
    "                \n",
    "        k += 1\n",
    "        if k == 1:\n",
    "            ctot *= p - 1\n",
    "        else:\n",
    "            ctot *= p\n",
    "        m *= p\n",
    "    for i in range(0, mnum + 1):\n",
    "        lk[i].update(nlk[i])\n",
    "    # lk = nlk.copy()\n",
    "    mind = ntoi(num)\n",
    "    # print(\"Len of {}\".format(len(lk[mind])))\n",
    "    return sorted(lk[mind])[0], sorted(lk[mind])"
   ]
  },
  {
   "cell_type": "code",
   "execution_count": null,
   "metadata": {},
   "outputs": [],
   "source": []
  },
  {
   "cell_type": "code",
   "execution_count": 183,
   "metadata": {},
   "outputs": [
    {
     "name": "stdout",
     "output_type": "stream",
     "text": [
      "Len of 182752\n"
     ]
    },
    {
     "data": {
      "text/plain": [
       "(6227180929, 23507044290)"
      ]
     },
     "execution_count": 183,
     "metadata": {},
     "output_type": "execute_result"
    }
   ],
   "source": [
    "mind = ntoi(totient(factorial(13)))\n",
    "print(\"Len of {}\".format(len(lk[mind])))\n",
    "T = 150_000\n",
    "sorted(lk[mind])[0], sorted(lk[mind])[T - 1]"
   ]
  }
 ],
 "metadata": {
  "kernelspec": {
   "display_name": "Python 3",
   "language": "python",
   "name": "python3"
  },
  "language_info": {
   "codemirror_mode": {
    "name": "ipython",
    "version": 3
   },
   "file_extension": ".py",
   "mimetype": "text/x-python",
   "name": "python",
   "nbconvert_exporter": "python",
   "pygments_lexer": "ipython3",
   "version": "3.9.6"
  }
 },
 "nbformat": 4,
 "nbformat_minor": 2
}
