{
 "cells": [
  {
   "cell_type": "code",
   "execution_count": 6,
   "metadata": {},
   "outputs": [],
   "source": [
    "def Ulam(a, b, n=100):\n",
    "    seq = [a, b]\n",
    "    seen = set(seq)\n",
    "    to_check = max(a, b) + 1\n",
    "    for _ in range(n):\n",
    "        while True:\n",
    "            # Try to check\n",
    "            works = True\n",
    "            sum_cnts = 0\n",
    "\n",
    "            for i in range(1, (to_check+1) // 2):\n",
    "                comp = to_check - i\n",
    "                if i in seen and comp in seen:\n",
    "                    sum_cnts += 1\n",
    "\n",
    "            if sum_cnts == 1:\n",
    "                seq.append(to_check)\n",
    "                seen.add(to_check)\n",
    "                to_check += 1\n",
    "                break\n",
    "            else:\n",
    "                to_check += 1\n",
    "    return seq[0:n]"
   ]
  },
  {
   "cell_type": "code",
   "execution_count": 7,
   "metadata": {},
   "outputs": [],
   "source": [
    "def diff(s):\n",
    "    return [s[i + 1] - s[i] for i in range(len(s) - 1)]\n"
   ]
  },
  {
   "cell_type": "code",
   "execution_count": 15,
   "metadata": {},
   "outputs": [
    {
     "data": {
      "text/plain": [
       "[2, 5, 7, 9, 11, 12, 13, 15, 19, 23, 27, 29, 35, 37, 41, 43, 45, 49, 51, 55]"
      ]
     },
     "execution_count": 15,
     "metadata": {},
     "output_type": "execute_result"
    }
   ],
   "source": [
    "Ulam(2, 5, 20)"
   ]
  },
  {
   "cell_type": "code",
   "execution_count": null,
   "metadata": {},
   "outputs": [
    {
     "data": {
      "text/plain": [
       "[3, 2, 2, 2, 1, 1, 2, 4, 4, 4, 2, 6, 2, 4, 2, 2, 4, 2, 4]"
      ]
     },
     "execution_count": 8,
     "metadata": {},
     "output_type": "execute_result"
    }
   ],
   "source": [
    "diff(Ulam(2, 5, 20))"
   ]
  },
  {
   "cell_type": "code",
   "execution_count": 9,
   "metadata": {},
   "outputs": [
    {
     "data": {
      "text/plain": [
       "11789"
      ]
     },
     "execution_count": 9,
     "metadata": {},
     "output_type": "execute_result"
    }
   ],
   "source": [
    "Ulam(2, 5, 3000)[-1]"
   ]
  },
  {
   "cell_type": "code",
   "execution_count": 10,
   "metadata": {},
   "outputs": [],
   "source": [
    "def solve(a, b, k):\n",
    "    # For Ulam(2, 2k + 1) {k >= 2}, there is periodicity.\n",
    "    assert(a == 2 and b & 1 and b >= 5)\n",
    "\n",
    "    to_try, times_to_check, max_p_len = 2_000, 5, 300\n",
    "    seq = Ulam(a, b, n=to_try) \n",
    "    d = diff(seq)\n",
    "    rdiff = list(reversed(d))\n",
    "    # Try different period lengths until we find 5 in a row. From this extrapolate to k = 10^11\n",
    "    # print(d)\n",
    "    p_len, inc = None, None\n",
    "    while True:\n",
    "        for p_len in range(1, max_p_len):\n",
    "            w = True\n",
    "            for q in range(times_to_check):\n",
    "                # print(rdiff[q * p_len:(q+1) * p_len], rdiff[(q+1) * p_len:(q+2) * p_len])\n",
    "                if rdiff[q * p_len:(q+1) * p_len] != rdiff[(q+1) * p_len:(q+2) * p_len]:\n",
    "                    w = False\n",
    "            if w:\n",
    "                inc = sum(rdiff[q * p_len:(q+1) * p_len])\n",
    "                break\n",
    "        if inc == None:\n",
    "            # If didnt find anything mult all params and retry\n",
    "            print(\"Period not found under to_try: {} and max_p_len: {}\".format(to_try, max_p_len))\n",
    "            to_try *= 2\n",
    "            max_p_len *= 2\n",
    "            seq = Ulam(a, b, n=to_try) \n",
    "            d = diff(seq)\n",
    "            rdiff = list(reversed(d))\n",
    "        else:\n",
    "            print(\"Found p_len: {} and inc: {}\".format(p_len, inc))\n",
    "            break\n",
    "    final_el = seq[-1]\n",
    "    curr_pos = len(seq)\n",
    "    times = (k - curr_pos) // p_len\n",
    "    final_el, curr_pos = final_el + inc * times, curr_pos + times * p_len\n",
    "    i = len(d) - p_len\n",
    "    while curr_pos != k:\n",
    "        final_el += d[i]\n",
    "        curr_pos += 1\n",
    "        i += 1\n",
    "    return final_el\n"
   ]
  },
  {
   "cell_type": "code",
   "execution_count": 14,
   "metadata": {},
   "outputs": [
    {
     "name": "stdout",
     "output_type": "stream",
     "text": [
      "Solving U(2, 5)\n",
      "Found p_len: 32 and inc: 126\n",
      "Got 393749999981\n",
      "Solving U(2, 7)\n",
      "Found p_len: 26 and inc: 126\n",
      "Got 484615384605\n",
      "878365384586\n"
     ]
    }
   ],
   "source": [
    "tot = 0\n",
    "for n in range(2, 3 + 1):\n",
    "    print(\"Solving U(2, {})\".format(2 * n + 1))\n",
    "    T = solve(2, 2 * n + 1, 10**11)\n",
    "    tot += T\n",
    "    print(\"Got\", T)\n",
    "print(tot)"
   ]
  },
  {
   "cell_type": "code",
   "execution_count": 132,
   "metadata": {},
   "outputs": [
    {
     "name": "stdout",
     "output_type": "stream",
     "text": [
      "79460\n"
     ]
    }
   ],
   "source": [
    "import heapq\n",
    "\n",
    "def fast_ulam(u, v, n, active_window=2000):\n",
    "    \"\"\"\n",
    "    Generate n terms of the (u,v)-Ulam sequence.\n",
    "    \n",
    "    Parameters:\n",
    "      u, v : starting integers with u < v\n",
    "      n    : number of Ulam numbers to generate\n",
    "      active_window : maximum size of the active set used for candidate updates\n",
    "      \n",
    "    Returns:\n",
    "      A list containing the first n Ulam numbers.\n",
    "    \"\"\"\n",
    "    if u >= v:\n",
    "        raise ValueError(\"u must be less than v\")\n",
    "    \n",
    "    # Initial Ulam sequence\n",
    "    U = [u, v]\n",
    "    \n",
    "    # active set: heuristically, keep only the last few Ulam numbers that are likely to contribute\n",
    "    active = [u, v]\n",
    "    \n",
    "    # candidate dictionary: candidate sum -> count of representations\n",
    "    candidate = {}\n",
    "    # heap for candidate sums (to get the minimum candidate quickly)\n",
    "    candidate_heap = []\n",
    "    \n",
    "    # Initialize with the only candidate from the first two numbers\n",
    "    s = u + v\n",
    "    candidate[s] = 1\n",
    "    heapq.heappush(candidate_heap, s)\n",
    "    \n",
    "    while len(U) < n:\n",
    "        # Find the next Ulam number: the smallest candidate > last Ulam number with unique representation.\n",
    "        next_ulam = None\n",
    "        while candidate_heap:\n",
    "            s = heapq.heappop(candidate_heap)\n",
    "            # Skip if the candidate is not strictly greater than the last Ulam or if its count is not 1.\n",
    "            if s <= U[-1] or candidate[s] != 1:\n",
    "                continue\n",
    "            next_ulam = s\n",
    "            break\n",
    "        \n",
    "        if next_ulam is None:\n",
    "            raise RuntimeError(\"No valid candidate found. Consider increasing candidate range.\")\n",
    "        \n",
    "        # Append the next Ulam number\n",
    "        U.append(next_ulam)\n",
    "        \n",
    "        # Update candidate sums using only the active window:\n",
    "        for x in active:\n",
    "            newsum = x + next_ulam\n",
    "            # Update count for this sum\n",
    "            candidate[newsum] = candidate.get(newsum, 0) + 1\n",
    "            # Push to heap if it’s a new candidate sum\n",
    "            if candidate[newsum] == 1:\n",
    "                heapq.heappush(candidate_heap, newsum)\n",
    "        \n",
    "        # Add the new Ulam number to the active set\n",
    "        active.append(next_ulam)\n",
    "        # Prune the active set to keep it within the desired window size.\n",
    "        if len(active) > active_window:\n",
    "            active = active[-active_window:]\n",
    "    \n",
    "    return U\n",
    "\n",
    "ulam_seq = fast_ulam(2, 19, 3000)[-1]\n",
    "print(ulam_seq)\n"
   ]
  },
  {
   "cell_type": "code",
   "execution_count": null,
   "metadata": {},
   "outputs": [],
   "source": [
    "def ulam(a, b, n):\n",
    "  upper = n\n",
    "  upper *= 2\n",
    "  V = [0]*upper\n",
    "  W = [1]*upper\n",
    "  V[a - 1] = 1\n",
    "  V[b - 1] = 1\n",
    "  W[a - 1] = 0\n",
    "  W[b - 1] = 0\n",
    "  k=2\n",
    "\n",
    "  while True and k < upper/2:\n",
    "    V[k:2*k-1] = [((not a) and b and c) or (a and (not b) and (not c)) or (a and (not b) and c) for a,b,c in zip(V[k:2*k-1], V[0:k-1], W[k:2*k-1])]\n",
    "    W[k:2*k-1] = [(not a) and b for a,b in zip(V[0:k-1], W[k:2*k-1])]\n",
    "    # print(V)\n",
    "    L = [j for j in range(k+1,upper) if V[j-1] == 1]\n",
    "    if L == []:\n",
    "      break\n",
    "    else:\n",
    "      k = min(L)\n",
    "  ls = [i+1 for i in range(0, len(V)) if V[i]==1]\n",
    "  ls = ls[0:len(ls)//2]\n",
    "  return ls"
   ]
  },
  {
   "cell_type": "code",
   "execution_count": 144,
   "metadata": {},
   "outputs": [
    {
     "name": "stdout",
     "output_type": "stream",
     "text": [
      "Solving U(2, 5)\n",
      "Period not found under to_try: 500 and max_p_len: 80\n",
      "Period not found under to_try: 1000 and max_p_len: 160\n",
      "Found p_len: 32 and inc: 126\n",
      "Solving U(2, 7)\n",
      "Period not found under to_try: 500 and max_p_len: 80\n",
      "Period not found under to_try: 1000 and max_p_len: 160\n",
      "Found p_len: 26 and inc: 126\n",
      "Solving U(2, 9)\n",
      "Period not found under to_try: 500 and max_p_len: 80\n",
      "Period not found under to_try: 1000 and max_p_len: 160\n",
      "Period not found under to_try: 2000 and max_p_len: 320\n",
      "Period not found under to_try: 4000 and max_p_len: 640\n",
      "Period not found under to_try: 8000 and max_p_len: 1280\n"
     ]
    },
    {
     "ename": "KeyboardInterrupt",
     "evalue": "",
     "output_type": "error",
     "traceback": [
      "\u001b[1;31m---------------------------------------------------------------------------\u001b[0m",
      "\u001b[1;31mKeyboardInterrupt\u001b[0m                         Traceback (most recent call last)",
      "Cell \u001b[1;32mIn[144], line 73\u001b[0m\n\u001b[0;32m     71\u001b[0m \u001b[38;5;28;01mfor\u001b[39;00m n \u001b[38;5;129;01min\u001b[39;00m \u001b[38;5;28mrange\u001b[39m(\u001b[38;5;241m2\u001b[39m, \u001b[38;5;241m10\u001b[39m \u001b[38;5;241m+\u001b[39m \u001b[38;5;241m1\u001b[39m):\n\u001b[0;32m     72\u001b[0m     \u001b[38;5;28mprint\u001b[39m(\u001b[38;5;124m\"\u001b[39m\u001b[38;5;124mSolving U(2, \u001b[39m\u001b[38;5;132;01m{}\u001b[39;00m\u001b[38;5;124m)\u001b[39m\u001b[38;5;124m\"\u001b[39m\u001b[38;5;241m.\u001b[39mformat(\u001b[38;5;241m2\u001b[39m \u001b[38;5;241m*\u001b[39m n \u001b[38;5;241m+\u001b[39m \u001b[38;5;241m1\u001b[39m))\n\u001b[1;32m---> 73\u001b[0m     tot \u001b[38;5;241m+\u001b[39m\u001b[38;5;241m=\u001b[39m \u001b[43msolve\u001b[49m\u001b[43m(\u001b[49m\u001b[38;5;241;43m2\u001b[39;49m\u001b[43m,\u001b[49m\u001b[43m \u001b[49m\u001b[38;5;241;43m2\u001b[39;49m\u001b[43m \u001b[49m\u001b[38;5;241;43m*\u001b[39;49m\u001b[43m \u001b[49m\u001b[43mn\u001b[49m\u001b[43m \u001b[49m\u001b[38;5;241;43m+\u001b[39;49m\u001b[43m \u001b[49m\u001b[38;5;241;43m1\u001b[39;49m\u001b[43m,\u001b[49m\u001b[43m \u001b[49m\u001b[38;5;241;43m10\u001b[39;49m\u001b[38;5;241;43m*\u001b[39;49m\u001b[38;5;241;43m*\u001b[39;49m\u001b[38;5;241;43m11\u001b[39;49m\u001b[43m)\u001b[49m\n\u001b[0;32m     74\u001b[0m \u001b[38;5;28mprint\u001b[39m(tot)\n",
      "Cell \u001b[1;32mIn[144], line 53\u001b[0m, in \u001b[0;36msolve\u001b[1;34m(a, b, k)\u001b[0m\n\u001b[0;32m     51\u001b[0m to_try \u001b[38;5;241m*\u001b[39m\u001b[38;5;241m=\u001b[39m \u001b[38;5;241m2\u001b[39m\n\u001b[0;32m     52\u001b[0m max_p_len \u001b[38;5;241m*\u001b[39m\u001b[38;5;241m=\u001b[39m \u001b[38;5;241m2\u001b[39m\n\u001b[1;32m---> 53\u001b[0m seq \u001b[38;5;241m=\u001b[39m \u001b[43mulam\u001b[49m\u001b[43m(\u001b[49m\u001b[43ma\u001b[49m\u001b[43m,\u001b[49m\u001b[43m \u001b[49m\u001b[43mb\u001b[49m\u001b[43m,\u001b[49m\u001b[43m \u001b[49m\u001b[43mn\u001b[49m\u001b[38;5;241;43m=\u001b[39;49m\u001b[43mto_try\u001b[49m\u001b[43m)\u001b[49m \n\u001b[0;32m     54\u001b[0m d \u001b[38;5;241m=\u001b[39m diff(seq)\n\u001b[0;32m     55\u001b[0m rdiff \u001b[38;5;241m=\u001b[39m \u001b[38;5;28mlist\u001b[39m(\u001b[38;5;28mreversed\u001b[39m(d))\n",
      "Cell \u001b[1;32mIn[144], line 16\u001b[0m, in \u001b[0;36mulam\u001b[1;34m(a, b, n)\u001b[0m\n\u001b[0;32m     14\u001b[0m W[k:\u001b[38;5;241m2\u001b[39m\u001b[38;5;241m*\u001b[39mk\u001b[38;5;241m-\u001b[39m\u001b[38;5;241m1\u001b[39m] \u001b[38;5;241m=\u001b[39m [(\u001b[38;5;129;01mnot\u001b[39;00m a) \u001b[38;5;129;01mand\u001b[39;00m b \u001b[38;5;28;01mfor\u001b[39;00m a,b \u001b[38;5;129;01min\u001b[39;00m \u001b[38;5;28mzip\u001b[39m(V[\u001b[38;5;241m0\u001b[39m:k\u001b[38;5;241m-\u001b[39m\u001b[38;5;241m1\u001b[39m], W[k:\u001b[38;5;241m2\u001b[39m\u001b[38;5;241m*\u001b[39mk\u001b[38;5;241m-\u001b[39m\u001b[38;5;241m1\u001b[39m])]\n\u001b[0;32m     15\u001b[0m \u001b[38;5;66;03m# print(V)\u001b[39;00m\n\u001b[1;32m---> 16\u001b[0m L \u001b[38;5;241m=\u001b[39m [j \u001b[38;5;28;01mfor\u001b[39;00m j \u001b[38;5;129;01min\u001b[39;00m \u001b[38;5;28mrange\u001b[39m(k\u001b[38;5;241m+\u001b[39m\u001b[38;5;241m1\u001b[39m,upper) \u001b[38;5;28;01mif\u001b[39;00m V[j\u001b[38;5;241m-\u001b[39m\u001b[38;5;241m1\u001b[39m] \u001b[38;5;241m==\u001b[39m \u001b[38;5;241m1\u001b[39m]\n\u001b[0;32m     17\u001b[0m \u001b[38;5;28;01mif\u001b[39;00m L \u001b[38;5;241m==\u001b[39m []:\n\u001b[0;32m     18\u001b[0m   \u001b[38;5;28;01mbreak\u001b[39;00m\n",
      "\u001b[1;31mKeyboardInterrupt\u001b[0m: "
     ]
    }
   ],
   "source": [
    "def ulam(a, b, n):\n",
    "  upper = n\n",
    "  upper *= 2\n",
    "  V = [0]*upper\n",
    "  W = [1]*upper\n",
    "  V[a - 1] = 1\n",
    "  V[b - 1] = 1\n",
    "  W[a - 1] = 0\n",
    "  W[b - 1] = 0\n",
    "  k=2\n",
    "\n",
    "  while True and k < upper/2:\n",
    "    V[k:2*k-1] = [((not a) and b and c) or (a and (not b) and (not c)) or (a and (not b) and c) for a,b,c in zip(V[k:2*k-1], V[0:k-1], W[k:2*k-1])]\n",
    "    W[k:2*k-1] = [(not a) and b for a,b in zip(V[0:k-1], W[k:2*k-1])]\n",
    "    # print(V)\n",
    "    L = [j for j in range(k+1,upper) if V[j-1] == 1]\n",
    "    if L == []:\n",
    "      break\n",
    "    else:\n",
    "      k = min(L)\n",
    "  ls = [i+1 for i in range(0, len(V)) if V[i]==1]\n",
    "  ls = ls[0:len(ls)//2]\n",
    "  return ls\n",
    "def solve(a, b, k):\n",
    "    # For Ulam(2, 2k + 1) {k >= 2}, there is periodicity.\n",
    "    assert(a == 2 and b & 1 and b >= 5)\n",
    "\n",
    "    to_try, times_to_check, max_p_len = 500, 5, 80\n",
    "    seq = ulam(a, b, n=to_try) \n",
    "    d = diff(seq)\n",
    "    rdiff = list(reversed(d))\n",
    "    # Try different period lengths until we find 5 in a row. From this extrapolate to k = 10^11\n",
    "    # print(d)\n",
    "    p_len, inc = None, None\n",
    "    while True:\n",
    "        last_p_len = 1\n",
    "        for p_len in range(last_p_len, max_p_len + 1):\n",
    "            w = True\n",
    "            for q in range(times_to_check):\n",
    "                # print(rdiff[q * p_len:(q+1) * p_len], rdiff[(q+1) * p_len:(q+2) * p_len])\n",
    "                if rdiff[q * p_len:(q+1) * p_len] != rdiff[(q+1) * p_len:(q+2) * p_len]:\n",
    "                    w = False\n",
    "                    break\n",
    "            if w:\n",
    "                inc = sum(rdiff[q * p_len:(q+1) * p_len])\n",
    "                break\n",
    "        if inc == None:\n",
    "            # If didnt find anything mult all params and retry\n",
    "            print(\"Period not found under to_try: {} and max_p_len: {}\".format(to_try, max_p_len))\n",
    "            last_p_len = max_p_len\n",
    "            to_try *= 2\n",
    "            max_p_len *= 2\n",
    "            seq = ulam(a, b, n=to_try) \n",
    "            d = diff(seq)\n",
    "            rdiff = list(reversed(d))\n",
    "        else:\n",
    "            print(\"Found p_len: {} and inc: {}\".format(p_len, inc))\n",
    "            break\n",
    "    final_el = seq[-1]\n",
    "    curr_pos = len(seq)\n",
    "    times = (k - curr_pos) // p_len\n",
    "    final_el, curr_pos = final_el + inc * times, curr_pos + times * p_len\n",
    "    i = len(d) - p_len\n",
    "    while curr_pos != k:\n",
    "        final_el += d[i]\n",
    "        curr_pos += 1\n",
    "        i += 1\n",
    "    return final_el\n",
    "\n",
    "tot = 0\n",
    "for n in range(2, 10 + 1):\n",
    "    print(\"Solving U(2, {})\".format(2 * n + 1))\n",
    "    tot += solve(2, 2 * n + 1, 10**11)\n",
    "print(tot)"
   ]
  },
  {
   "cell_type": "code",
   "execution_count": null,
   "metadata": {},
   "outputs": [],
   "source": [
    "def ulam_bit(a, b, n):\n",
    "    v = [0 for _ in range(n)]\n",
    "    v[a - 1], v[b - 1] = 1, 1\n",
    "    k = b\n",
    "\n",
    "    while k < n:\n",
    "        for i in range(min(k - 1, n - k)):\n",
    "            v[i+k] += v[i] == 1\n",
    "        k += 1\n",
    "        while k - 1 < n and v[k - 1] != 1:\n",
    "            k += 1\n",
    "\n",
    "    return [i+1 for i in range(n) if v[i] == 1]\n",
    "U = ulam_bit(2, 19, 100_000)\n",
    "len(U)"
   ]
  },
  {
   "cell_type": "code",
   "execution_count": 169,
   "metadata": {},
   "outputs": [
    {
     "ename": "KeyboardInterrupt",
     "evalue": "",
     "output_type": "error",
     "traceback": [
      "\u001b[1;31m---------------------------------------------------------------------------\u001b[0m",
      "\u001b[1;31mKeyboardInterrupt\u001b[0m                         Traceback (most recent call last)",
      "Cell \u001b[1;32mIn[169], line 1\u001b[0m\n\u001b[1;32m----> 1\u001b[0m U \u001b[38;5;241m=\u001b[39m \u001b[43mulam_bit\u001b[49m\u001b[43m(\u001b[49m\u001b[38;5;241;43m2\u001b[39;49m\u001b[43m,\u001b[49m\u001b[43m \u001b[49m\u001b[38;5;241;43m19\u001b[39;49m\u001b[43m,\u001b[49m\u001b[43m \u001b[49m\u001b[38;5;241;43m100_000\u001b[39;49m\u001b[43m)\u001b[49m\n\u001b[0;32m      2\u001b[0m \u001b[38;5;28mlen\u001b[39m(U)\n",
      "Cell \u001b[1;32mIn[162], line 8\u001b[0m, in \u001b[0;36mulam_bit\u001b[1;34m(a, b, n)\u001b[0m\n\u001b[0;32m      6\u001b[0m \u001b[38;5;28;01mwhile\u001b[39;00m k \u001b[38;5;241m<\u001b[39m n:\n\u001b[0;32m      7\u001b[0m     \u001b[38;5;28;01mfor\u001b[39;00m i \u001b[38;5;129;01min\u001b[39;00m \u001b[38;5;28mrange\u001b[39m(\u001b[38;5;28mmin\u001b[39m(k \u001b[38;5;241m-\u001b[39m \u001b[38;5;241m1\u001b[39m, n \u001b[38;5;241m-\u001b[39m k)):\n\u001b[1;32m----> 8\u001b[0m         v[i\u001b[38;5;241m+\u001b[39mk] \u001b[38;5;241m+\u001b[39m\u001b[38;5;241m=\u001b[39m v[i] \u001b[38;5;241m==\u001b[39m \u001b[38;5;241m1\u001b[39m\n\u001b[0;32m      9\u001b[0m     k \u001b[38;5;241m+\u001b[39m\u001b[38;5;241m=\u001b[39m \u001b[38;5;241m1\u001b[39m\n\u001b[0;32m     10\u001b[0m     \u001b[38;5;28;01mwhile\u001b[39;00m k \u001b[38;5;241m-\u001b[39m \u001b[38;5;241m1\u001b[39m \u001b[38;5;241m<\u001b[39m n \u001b[38;5;129;01mand\u001b[39;00m v[k \u001b[38;5;241m-\u001b[39m \u001b[38;5;241m1\u001b[39m] \u001b[38;5;241m!=\u001b[39m \u001b[38;5;241m1\u001b[39m:\n",
      "\u001b[1;31mKeyboardInterrupt\u001b[0m: "
     ]
    }
   ],
   "source": [
    "\n",
    "U = ulam_bit(2, 19, 100_000)\n",
    "len(U)"
   ]
  }
 ],
 "metadata": {
  "kernelspec": {
   "display_name": "Python 3",
   "language": "python",
   "name": "python3"
  },
  "language_info": {
   "codemirror_mode": {
    "name": "ipython",
    "version": 3
   },
   "file_extension": ".py",
   "mimetype": "text/x-python",
   "name": "python",
   "nbconvert_exporter": "python",
   "pygments_lexer": "ipython3",
   "version": "3.12.4"
  }
 },
 "nbformat": 4,
 "nbformat_minor": 2
}
