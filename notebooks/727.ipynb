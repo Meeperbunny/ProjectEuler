{
 "cells": [
  {
   "cell_type": "code",
   "execution_count": 2,
   "metadata": {},
   "outputs": [],
   "source": [
    "from math import cos, sin"
   ]
  },
  {
   "cell_type": "code",
   "execution_count": 3,
   "metadata": {},
   "outputs": [],
   "source": [
    "from math import acos\n",
    "def find_A(a, b, c):\n",
    "    num = a * a + a * c + a * b - b * c\n",
    "    den = a * a + a * b + a * c + b * c\n",
    "    return acos(num / den)"
   ]
  },
  {
   "cell_type": "code",
   "execution_count": null,
   "metadata": {},
   "outputs": [],
   "source": [
    "# https://en.wikipedia.org/wiki/Descartes%27_theorem#:~:text=In%20geometry%2C%20Descartes'%20theorem%20states,three%20given%2C%20mutually%20tangent%20circles.\n",
    "def find_internal_radius(r_1, r_2, r_3):\n",
    "    \"k_i is the curvature. This assumes all are externally \"\n",
    "    k_1, k_2, k_3 = 1 / r_1, 1 / r_2, 1 / r_3\n",
    "    first = k_1 + k_2 + k_3\n",
    "    second = k_1 * k_2 + k_2 * k_3 + k_3 * k_1\n",
    "    k_ans_1, k_ans_2 = first + 2 * second**0.5, first - 2 * second**0.5\n",
    "    return 1 / k_ans_1\n",
    "    # r_1, r_2 = 1 / k_ans_1, 1 / k_ans_2\n",
    "    # return r_1"
   ]
  },
  {
   "cell_type": "code",
   "execution_count": null,
   "metadata": {},
   "outputs": [],
   "source": [
    "# k_i is the curvature, k_i = 1 / r_i\n",
    "def find_internal_circle(r_1, r_2, r_3, P_1, P_2, P_3):\n",
    "    k_1, k_2, k_3 = 1 / r_1, 1 / r_2, 1 / r_3\n",
    "    r = find_internal_radius(r_1, r_2, r_3)\n",
    "    k_4 = 1 / r\n",
    "    # Converts cartesian to imaginary (x, y) -> x + iy\n",
    "    z_1 = P_1[0] + P_1[1] * 1j\n",
    "    z_2 = P_2[0] + P_2[1] * 1j\n",
    "    z_3 = P_3[0] + P_3[1] * 1j\n",
    "    first = z_1 * k_1 + z_2 * k_2 + z_3 * k_3\n",
    "    second = k_1 * k_2 * z_1 * z_2 + k_2 * k_3 * z_2 * z_3 + k_1 * k_3 * z_1 * z_3\n",
    "    z_ans_1 = (first + 2 * second**0.5) / k_4\n",
    "    z_ans_2 = (first - 2 * second**0.5) / k_4\n",
    "    p_1, p_2 = (z_ans_1.real, z_ans_1.imag), (z_ans_2.real, z_ans_2.imag)\n",
    "    return p_1, r"
   ]
  },
  {
   "cell_type": "code",
   "execution_count": 68,
   "metadata": {},
   "outputs": [],
   "source": [
    "import numpy as np\n",
    "\n",
    "def get_circumcircle_of_triangle(A, B, C):\n",
    "    \"\"\"Given points A, B, and C, returns the circumcircule\"\"\"\n",
    "    S_x = 1/2 * np.linalg.det(np.matrix([\n",
    "        [np.linalg.norm(A)**2, A[1], 1],\n",
    "        [np.linalg.norm(B)**2, B[1], 1],\n",
    "        [np.linalg.norm(C)**2, C[1], 1],\n",
    "    ]))\n",
    "    S_y = 1/2 * np.linalg.det(np.matrix([\n",
    "        [A[0], np.linalg.norm(A)**2, 1],\n",
    "        [B[0], np.linalg.norm(B)**2, 1],\n",
    "        [C[0], np.linalg.norm(C)**2, 1],\n",
    "    ]))\n",
    "    a = np.linalg.det(np.matrix([\n",
    "        [A[0], A[1], 1],\n",
    "        [B[0], B[1], 1],\n",
    "        [C[0], C[1], 1],\n",
    "    ]))\n",
    "    b = np.linalg.det(np.matrix([\n",
    "        [A[0], A[1], np.linalg.norm(A)**2],\n",
    "        [B[0], B[1], np.linalg.norm(B)**2],\n",
    "        [C[0], C[1], np.linalg.norm(C)**2],\n",
    "    ]))\n",
    "    return (S_x / a, S_y / a), (b / a + np.linalg.norm((S_x, S_y))**2 / a**2)**0.5, "
   ]
  },
  {
   "cell_type": "code",
   "execution_count": 69,
   "metadata": {},
   "outputs": [],
   "source": [
    "from tqdm import *"
   ]
  },
  {
   "cell_type": "code",
   "execution_count": 71,
   "metadata": {},
   "outputs": [],
   "source": [
    "from math import gcd"
   ]
  },
  {
   "cell_type": "code",
   "execution_count": 73,
   "metadata": {},
   "outputs": [
    {
     "name": "stderr",
     "output_type": "stream",
     "text": [
      "100%|██████████| 100/100 [00:10<00:00,  9.20it/s]\n"
     ]
    },
    {
     "data": {
      "text/plain": [
       "np.float64(3.640391406429808)"
      ]
     },
     "execution_count": 73,
     "metadata": {},
     "output_type": "execute_result"
    }
   ],
   "source": [
    "D = False\n",
    "EV, EV_C = 0, 0\n",
    "for a in tqdm(range(1, 100 + 1)):\n",
    "    for b in range(a + 1, 100 + 1):\n",
    "        for c in range(b + 1, 100 + 1):\n",
    "            if gcd(a, b, c) != 1:\n",
    "                continue\n",
    "            # if D:\n",
    "            #     break\n",
    "            # D = True\n",
    "            # a, b, c = 1, 3, 2\n",
    "            A = find_A(a, b, c)\n",
    "            P_a = (0, 0)\n",
    "            P_b = (a + b, 0)\n",
    "            P_c = ((a + c) * cos(A), (a + c) * sin(A))\n",
    "            p_a = (a * cos(A), a * sin(A))\n",
    "            p_b = (a, 0)\n",
    "            B = find_A(b, a, c)\n",
    "            p_c = (a + b - b * cos(B), b * sin(B))\n",
    "            # print(a, b, c, P_a, P_b, P_c)\n",
    "            center_c, rad_c = get_circumcircle_of_triangle(p_a, p_b, p_c)\n",
    "            center_i, rad_i = find_internal_circle(a, b, c, P_a, P_b, P_c)\n",
    "            # print(center_i)\n",
    "            # print(rad_i)\n",
    "            EV_C += 1\n",
    "            EV += np.linalg.norm(np.array(center_c) - np.array(center_i))\n",
    "EV / EV_C"
   ]
  },
  {
   "cell_type": "code",
   "execution_count": null,
   "metadata": {},
   "outputs": [],
   "source": []
  }
 ],
 "metadata": {
  "kernelspec": {
   "display_name": "Python 3",
   "language": "python",
   "name": "python3"
  },
  "language_info": {
   "codemirror_mode": {
    "name": "ipython",
    "version": 3
   },
   "file_extension": ".py",
   "mimetype": "text/x-python",
   "name": "python",
   "nbconvert_exporter": "python",
   "pygments_lexer": "ipython3",
   "version": "3.12.4"
  }
 },
 "nbformat": 4,
 "nbformat_minor": 2
}
