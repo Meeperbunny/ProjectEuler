{
 "cells": [
  {
   "cell_type": "code",
   "execution_count": 1,
   "id": "7aec9797-a031-405b-9fe0-611758474cd0",
   "metadata": {},
   "outputs": [],
   "source": [
    "def getproperdivs(n):\n",
    "    pdivs = []\n",
    "    for i in range(1, n):\n",
    "        if n % i == 0:\n",
    "            pdivs.append(i)\n",
    "    return pdivs"
   ]
  },
  {
   "cell_type": "code",
   "execution_count": 9,
   "id": "dd08cd7a-9e17-4eec-a276-8b11898f6e46",
   "metadata": {},
   "outputs": [],
   "source": [
    "def geng(n):\n",
    "    grundy = [0 for _ in range(n + 1)]\n",
    "    for i in range(2, n + 1):\n",
    "        s = set()\n",
    "        for d in getproperdivs(n):\n",
    "            s.add(grundy[i - d])\n",
    "        for q in range(n + 1):\n",
    "            if q not in s:\n",
    "                grundy[i] = q\n",
    "                break\n",
    "    return grundy"
   ]
  },
  {
   "cell_type": "code",
   "execution_count": 13,
   "id": "5e108ea3-c6f1-4d78-abb9-46113766fbce",
   "metadata": {},
   "outputs": [],
   "source": [
    "from collections import Counter"
   ]
  },
  {
   "cell_type": "code",
   "execution_count": 24,
   "id": "b3434526-f079-40bb-bd55-d31c5a96cd70",
   "metadata": {},
   "outputs": [
    {
     "data": {
      "text/plain": [
       "Counter({1: 33, 2: 33, 0: 18, 3: 16})"
      ]
     },
     "execution_count": 24,
     "metadata": {},
     "output_type": "execute_result"
    }
   ],
   "source": [
    "nims = Counter(geng(100)[1:])\n",
    "nims"
   ]
  },
  {
   "cell_type": "code",
   "execution_count": 33,
   "id": "2f470959-4855-43ba-9b2f-a273c973cdf6",
   "metadata": {},
   "outputs": [
    {
     "data": {
      "text/plain": [
       "[0, 1, 0, 1, 0]"
      ]
     },
     "execution_count": 33,
     "metadata": {},
     "output_type": "execute_result"
    }
   ],
   "source": [
    "nims = geng(5)[1:]\n",
    "nims"
   ]
  },
  {
   "cell_type": "code",
   "execution_count": null,
   "id": "130a612a-34c2-4d2a-92b7-958068246607",
   "metadata": {},
   "outputs": [],
   "source": []
  }
 ],
 "metadata": {
  "kernelspec": {
   "display_name": "Python 3 (ipykernel)",
   "language": "python",
   "name": "python3"
  },
  "language_info": {
   "codemirror_mode": {
    "name": "ipython",
    "version": 3
   },
   "file_extension": ".py",
   "mimetype": "text/x-python",
   "name": "python",
   "nbconvert_exporter": "python",
   "pygments_lexer": "ipython3",
   "version": "3.12.4"
  }
 },
 "nbformat": 4,
 "nbformat_minor": 5
}
