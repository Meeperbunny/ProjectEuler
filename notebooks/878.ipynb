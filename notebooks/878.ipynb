{
 "cells": [
  {
   "cell_type": "code",
   "execution_count": 1,
   "id": "99f5b163-63d6-416b-b15a-13b7cebb78dc",
   "metadata": {},
   "outputs": [],
   "source": [
    "def of_form(k):\n",
    "    for i in range(1, 60, 2):\n",
    "        if (k >> i) & 1:\n",
    "            return False\n",
    "    return True"
   ]
  },
  {
   "cell_type": "code",
   "execution_count": 2,
   "id": "c210f3db-a8a0-4b06-b048-3473c3243547",
   "metadata": {},
   "outputs": [],
   "source": [
    "def get_sq(k):\n",
    "    a = 0\n",
    "    for i in range(0, 60, 2):\n",
    "        if (k >> i) & 1:\n",
    "            a |= (1 << (i // 2))\n",
    "    return a"
   ]
  },
  {
   "cell_type": "code",
   "execution_count": 45,
   "id": "ac97607a-63f3-40e2-a7e3-3428f7761e08",
   "metadata": {},
   "outputs": [],
   "source": [
    "def ans(N, m):\n",
    "    tot = 0\n",
    "    for k in range(0, m + 1):\n",
    "        # Check if k is of form\n",
    "        if of_form(k):\n",
    "            tot += 1\n",
    "            a = get_sq(k)\n",
    "            if (a << 1) <= N:\n",
    "                # tot += 1\n",
    "                pass\n",
    "                # print(a, (a << 1), k)\n",
    "    return tot"
   ]
  },
  {
   "cell_type": "code",
   "execution_count": 46,
   "id": "8b86e7fb-2c66-4d4c-9bb6-2863e29b14cb",
   "metadata": {},
   "outputs": [
    {
     "data": {
      "text/plain": [
       "1024"
      ]
     },
     "execution_count": 46,
     "metadata": {},
     "output_type": "execute_result"
    }
   ],
   "source": [
    "ans(1000, 1000_000)"
   ]
  },
  {
   "cell_type": "code",
   "execution_count": null,
   "id": "e5213fea-5f48-408a-b723-7d6ff7dcc604",
   "metadata": {},
   "outputs": [],
   "source": []
  },
  {
   "cell_type": "code",
   "execution_count": 2,
   "id": "05cb4e5e-1023-4ec1-921b-fd322a29cd95",
   "metadata": {},
   "outputs": [],
   "source": [
    "def add(a, b):\n",
    "    return a ^ b"
   ]
  },
  {
   "cell_type": "code",
   "execution_count": 3,
   "id": "9dcde03c-1e30-4388-9ea3-d86d96730d04",
   "metadata": {},
   "outputs": [],
   "source": [
    "def mul(a, b):\n",
    "    t = 0\n",
    "    for i in range(0, 60):\n",
    "        if (a >> i) & 1:\n",
    "            t ^= b << i\n",
    "    return t"
   ]
  },
  {
   "cell_type": "code",
   "execution_count": 4,
   "id": "f9c90c0d-95d6-4be3-8732-c332df1b957e",
   "metadata": {},
   "outputs": [],
   "source": [
    "def ans(N, m):\n",
    "    ma = {}\n",
    "    tot = 0\n",
    "    for a in range(0, N + 1):\n",
    "        for b in range(a, N + 1):\n",
    "            k = add(add(mul(a, a), mul(mul(2, a), b)), mul(b, b))\n",
    "            if k <= m:\n",
    "                # print(a, b, k, bin(a), bin(b), bin(k))\n",
    "                if k not in ma:\n",
    "                    ma[k] = []\n",
    "                ma[k].append((bin(a), bin(b)))\n",
    "                tot += 1\n",
    "    return tot, ma"
   ]
  },
  {
   "cell_type": "code",
   "execution_count": 5,
   "id": "cf66c5e8-6cbf-4b01-ab29-2c9f5a4001ac",
   "metadata": {},
   "outputs": [],
   "source": [
    "t, m = ans(100, 100)"
   ]
  },
  {
   "cell_type": "code",
   "execution_count": 6,
   "id": "402f3827-0ad2-4916-a94f-856123fb1903",
   "metadata": {},
   "outputs": [
    {
     "name": "stdout",
     "output_type": "stream",
     "text": [
      "0 0b0 ('0b0', '0b0')\n",
      "1 0b1 ('0b0', '0b1')\n",
      "4 0b100 ('0b0', '0b10')\n",
      "5 0b101 ('0b0', '0b11')\n",
      "16 0b10000 ('0b0', '0b100')\n",
      "17 0b10001 ('0b0', '0b101')\n",
      "20 0b10100 ('0b0', '0b110')\n",
      "21 0b10101 ('0b0', '0b111')\n",
      "64 0b1000000 ('0b0', '0b1000')\n",
      "65 0b1000001 ('0b0', '0b1001')\n",
      "68 0b1000100 ('0b0', '0b1010')\n",
      "69 0b1000101 ('0b0', '0b1011')\n",
      "80 0b1010000 ('0b0', '0b1100')\n",
      "81 0b1010001 ('0b0', '0b1101')\n",
      "84 0b1010100 ('0b0', '0b1110')\n",
      "85 0b1010101 ('0b0', '0b1111')\n",
      "2 0b10 ('0b1', '0b1')\n",
      "25 0b11001 ('0b1', '0b100')\n",
      "26 0b11010 ('0b1', '0b101')\n",
      "82 0b1010010 ('0b1', '0b1001')\n",
      "73 0b1001001 ('0b1', '0b1100')\n",
      "74 0b1001010 ('0b1', '0b1101')\n",
      "8 0b1000 ('0b10', '0b10')\n",
      "13 0b1101 ('0b10', '0b11')\n",
      "100 0b1100100 ('0b10', '0b1000')\n",
      "97 0b1100001 ('0b10', '0b1001')\n",
      "10 0b1010 ('0b11', '0b11')\n",
      "32 0b100000 ('0b100', '0b100')\n",
      "41 0b101001 ('0b100', '0b101')\n",
      "52 0b110100 ('0b100', '0b110')\n",
      "61 0b111101 ('0b100', '0b111')\n",
      "34 0b100010 ('0b101', '0b101')\n",
      "57 0b111001 ('0b101', '0b110')\n",
      "50 0b110010 ('0b101', '0b111')\n",
      "40 0b101000 ('0b110', '0b110')\n",
      "37 0b100101 ('0b110', '0b111')\n",
      "42 0b101010 ('0b111', '0b111')\n"
     ]
    }
   ],
   "source": [
    "for e in m:\n",
    "    print(e, bin(e), m[e][0])"
   ]
  },
  {
   "cell_type": "code",
   "execution_count": 7,
   "id": "fb13f2e6-4337-49ae-94a3-9d52baba5184",
   "metadata": {
    "scrolled": true
   },
   "outputs": [
    {
     "name": "stdout",
     "output_type": "stream",
     "text": [
      "0b1 ('0b0', '0b1')\n",
      "0b100 ('0b0', '0b10')\n",
      "0b101 ('0b0', '0b11')\n",
      "0b10000 ('0b0', '0b100')\n",
      "0b10001 ('0b0', '0b101')\n",
      "0b10100 ('0b0', '0b110')\n",
      "0b10101 ('0b0', '0b111')\n",
      "0b1000000 ('0b0', '0b1000')\n",
      "0b1000001 ('0b0', '0b1001')\n",
      "0b1000100 ('0b0', '0b1010')\n",
      "0b1000101 ('0b0', '0b1011')\n",
      "0b1010000 ('0b0', '0b1100')\n",
      "0b1010001 ('0b0', '0b1101')\n",
      "0b10 ('0b1', '0b1')\n",
      "0b11001 ('0b1', '0b100')\n",
      "0b11010 ('0b1', '0b101')\n",
      "0b1010010 ('0b1', '0b1001')\n",
      "0b1001001 ('0b1', '0b1100')\n",
      "0b1001010 ('0b1', '0b1101')\n",
      "0b1000 ('0b10', '0b10')\n",
      "0b1101 ('0b10', '0b11')\n",
      "0b1100100 ('0b10', '0b1000')\n",
      "0b1100001 ('0b10', '0b1001')\n",
      "0b1010 ('0b11', '0b11')\n",
      "0b100000 ('0b100', '0b100')\n",
      "0b101001 ('0b100', '0b101')\n",
      "0b110100 ('0b100', '0b110')\n",
      "0b111101 ('0b100', '0b111')\n",
      "0b100010 ('0b101', '0b101')\n",
      "0b111001 ('0b101', '0b110')\n",
      "0b110010 ('0b101', '0b111')\n",
      "0b101000 ('0b110', '0b110')\n",
      "0b100101 ('0b110', '0b111')\n",
      "0b101010 ('0b111', '0b111')\n"
     ]
    }
   ],
   "source": [
    "for e in m:\n",
    "    if len(m[e]) > 3:\n",
    "        print(bin(e), m[e][0])\n",
    "        # print(bin(e), m[e][0], m[e][1], m[e][2], m[e][3], m[e][4])\n"
   ]
  },
  {
   "cell_type": "code",
   "execution_count": 38,
   "id": "533bc91d-bb47-4845-8580-4fe68c5800fa",
   "metadata": {},
   "outputs": [
    {
     "name": "stdout",
     "output_type": "stream",
     "text": [
      "0 6\n",
      "1 6\n",
      "2 6\n",
      "3 6\n",
      "4 6\n",
      "5 6\n",
      "6 6\n",
      "7 6\n",
      "8 6\n",
      "9 6\n",
      "10 6\n",
      "11 6\n",
      "12 6\n",
      "13 6\n",
      "14 6\n",
      "15 6\n"
     ]
    },
    {
     "data": {
      "text/plain": [
       "16"
      ]
     },
     "execution_count": 38,
     "metadata": {},
     "output_type": "execute_result"
    }
   ],
   "source": [
    "def ans(N, m):\n",
    "    tot = 0\n",
    "    for k in range(0, m + 1):\n",
    "        # Check if k is of form\n",
    "        if of_form(k):\n",
    "            a, b = 0, get_sq(k)\n",
    "    return tot\n",
    "ans(1000, 100)"
   ]
  },
  {
   "cell_type": "code",
   "execution_count": null,
   "id": "c8cf36cf-0d44-4541-baa4-57f1fdc36cbc",
   "metadata": {},
   "outputs": [],
   "source": []
  }
 ],
 "metadata": {
  "kernelspec": {
   "display_name": "Python 3 (ipykernel)",
   "language": "python",
   "name": "python3"
  },
  "language_info": {
   "codemirror_mode": {
    "name": "ipython",
    "version": 3
   },
   "file_extension": ".py",
   "mimetype": "text/x-python",
   "name": "python",
   "nbconvert_exporter": "python",
   "pygments_lexer": "ipython3",
   "version": "3.12.4"
  }
 },
 "nbformat": 4,
 "nbformat_minor": 5
}
