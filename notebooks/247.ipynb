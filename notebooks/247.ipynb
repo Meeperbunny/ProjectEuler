{
 "cells": [
  {
   "cell_type": "code",
   "execution_count": 1,
   "metadata": {},
   "outputs": [],
   "source": [
    "from heapq import *\n",
    "from decimal import Decimal, getcontext\n",
    "getcontext().prec = 100\n",
    "def inter(x, y):\n",
    "    X = ((x - y) + ((y - x)**Decimal(2) + Decimal(4))**Decimal(0.5)) / Decimal(2)\n",
    "    Y = Decimal(1) / X\n",
    "    return X, Y\n",
    "def GAAP(x: Decimal, y: Decimal):\n",
    "    upper = inter(x, y)\n",
    "    area = (upper[1] - y) * (upper[0] - x)\n",
    "    return (area, upper)\n",
    "def fac(n):\n",
    "    return 1 if n <= 1 else fac(n - 1) * n\n",
    "def binom(n, k):\n",
    "    return fac(n) // fac(n - k) // fac(k)\n",
    "h = []\n",
    "bp = (Decimal(1), Decimal(0))\n",
    "area, upper = GAAP(*bp)\n",
    "heappush(h, (-area, bp, upper, (0, 0)))\n",
    "k = 3\n",
    "OOC = binom(2 * k, k)\n",
    "for i in range(1, 10000 + 1):\n",
    "    A, B, U, C = heappop(h)\n",
    "    A = -A\n",
    "    # print(i, A, float(B[0]), float(B[1]))\n",
    "    if C == (k, k):\n",
    "        OOC -= 1\n",
    "    if OOC == 0:\n",
    "        print(\"Done at\", i)\n",
    "        break\n",
    "    pnts = [(U[0], B[1], 1, 0), (B[0], U[1], 0, 1)]\n",
    "    for x, y, ld, rd in pnts:\n",
    "        cc = (C[0] + ld, C[1] + rd)\n",
    "        area, upper = GAAP(x, y)\n",
    "        heappush(h, (-area, (x, y), upper, cc))"
   ]
  },
  {
   "cell_type": "code",
   "execution_count": null,
   "metadata": {},
   "outputs": [],
   "source": []
  }
 ],
 "metadata": {
  "kernelspec": {
   "display_name": "Python 3",
   "language": "python",
   "name": "python3"
  },
  "language_info": {
   "codemirror_mode": {
    "name": "ipython",
    "version": 3
   },
   "file_extension": ".py",
   "mimetype": "text/x-python",
   "name": "python",
   "nbconvert_exporter": "python",
   "pygments_lexer": "ipython3",
   "version": "3.9.6"
  }
 },
 "nbformat": 4,
 "nbformat_minor": 2
}
