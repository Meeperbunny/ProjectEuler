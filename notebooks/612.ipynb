{
 "cells": [
  {
   "cell_type": "code",
   "execution_count": 101,
   "metadata": {},
   "outputs": [],
   "source": [
    "def A(n):\n",
    "    T = 0\n",
    "    for i in range(1, n):\n",
    "        for q in range(i + 1, n):\n",
    "            A = Counter(list(str(i)))\n",
    "            B = Counter(list(str(q)))\n",
    "            t = 0\n",
    "            for e in A:\n",
    "                if e in B:\n",
    "                    t = 1\n",
    "            T += t\n",
    "    return T"
   ]
  },
  {
   "cell_type": "code",
   "execution_count": 130,
   "metadata": {},
   "outputs": [
    {
     "data": {
      "text/plain": [
       "(1539, 289665)"
      ]
     },
     "execution_count": 130,
     "metadata": {},
     "output_type": "execute_result"
    }
   ],
   "source": [
    "A(100), A(1000)"
   ]
  },
  {
   "cell_type": "code",
   "execution_count": 135,
   "metadata": {},
   "outputs": [],
   "source": [
    "def ntom(i):\n",
    "    return 1 << (i + 1)"
   ]
  },
  {
   "cell_type": "code",
   "execution_count": 136,
   "metadata": {},
   "outputs": [],
   "source": [
    "from collections import Counter"
   ]
  },
  {
   "cell_type": "code",
   "execution_count": 171,
   "metadata": {},
   "outputs": [
    {
     "name": "stdout",
     "output_type": "stream",
     "text": [
      "1 9\n",
      "2 54\n",
      "3 174\n",
      "4 384\n",
      "5 636\n",
      "6 846\n",
      "7 966\n",
      "8 1011\n",
      "9 1021\n",
      "10 1022\n",
      "11 1022\n",
      "12 1022\n",
      "13 1022\n",
      "14 1022\n",
      "15 1022\n",
      "16 1022\n",
      "17 1022\n",
      "18 1022\n",
      "18 999999992395877145456877772099096610\n"
     ]
    },
    {
     "data": {
      "text/plain": [
       "819963842"
      ]
     },
     "execution_count": 171,
     "metadata": {},
     "output_type": "execute_result"
    }
   ],
   "source": [
    "D = 18\n",
    "C = [Counter() for _ in range(D + 1)]\n",
    "C[0] = ({0: 1})\n",
    "C[1] = Counter({ntom(i): 1 for i in range(0, 10)})\n",
    "C[1]\n",
    "for d in range(2, D + 1):\n",
    "    # Idea is that we add all digits to all the ones before.\n",
    "    for dd in range(0, 10):\n",
    "        myd = ntom(dd)\n",
    "        for k, v in C[d - 1].items():\n",
    "            # C[d][k] += v\n",
    "            C[d][k | myd] += v\n",
    "C[1]\n",
    "T = 0\n",
    "tc = Counter()\n",
    "zec = Counter()\n",
    "for LD in range(1, D + 1):\n",
    "    TT = 0\n",
    "    for ld in range(1, 10):\n",
    "        myd = ntom(ld)\n",
    "        for k, v in C[LD - 1].items():\n",
    "            tc[k | myd] += v\n",
    "    print(LD, len(tc))\n",
    "for a in tc:\n",
    "    for b in tc:\n",
    "        if a == b:\n",
    "            TT += tc[a] * (tc[b] - 1)\n",
    "        else:\n",
    "            if a & b:\n",
    "                TT += (tc[a] * tc[b])\n",
    "print(LD, TT)\n",
    "T += TT\n",
    "(T // 2) % 1000267129"
   ]
  },
  {
   "cell_type": "code",
   "execution_count": 157,
   "metadata": {},
   "outputs": [],
   "source": [
    "ec = [[] for _ in range(2**12)]\n",
    "M = Counter()\n",
    "for i in range(1, 100):\n",
    "    t = 0\n",
    "    for c in str(i):\n",
    "        c = int(c)\n",
    "        t |= ntom(c)\n",
    "    ec[t].append(i)\n",
    "    M[t] += 1"
   ]
  },
  {
   "cell_type": "code",
   "execution_count": 164,
   "metadata": {},
   "outputs": [],
   "source": [
    "for e in tc:\n",
    "    if M[e] != tc[e]:\n",
    "        print(e, M[e], C[2][e], ec[e])"
   ]
  },
  {
   "cell_type": "code",
   "execution_count": null,
   "metadata": {},
   "outputs": [
    {
     "name": "stdout",
     "output_type": "stream",
     "text": [
      "4 2 1 [1, 11]\n",
      "8 2 1 [2, 22]\n",
      "16 2 1 [3, 33]\n",
      "32 2 1 [4, 44]\n",
      "64 2 1 [5, 55]\n",
      "128 2 1 [6, 66]\n",
      "256 2 1 [7, 77]\n",
      "512 2 1 [8, 88]\n",
      "1024 2 1 [9, 99]\n",
      "6 1 2 [10]\n",
      "10 1 2 [20]\n",
      "18 1 2 [30]\n",
      "34 1 2 [40]\n",
      "66 1 2 [50]\n",
      "130 1 2 [60]\n",
      "258 1 2 [70]\n",
      "514 1 2 [80]\n",
      "1026 1 2 [90]\n"
     ]
    }
   ],
   "source": [
    "for e in M:\n",
    "    if M[e] != C[2][e]:\n",
    "        print(e, M[e], C[2][e], ec[e])"
   ]
  }
 ],
 "metadata": {
  "kernelspec": {
   "display_name": "Python 3",
   "language": "python",
   "name": "python3"
  },
  "language_info": {
   "codemirror_mode": {
    "name": "ipython",
    "version": 3
   },
   "file_extension": ".py",
   "mimetype": "text/x-python",
   "name": "python",
   "nbconvert_exporter": "python",
   "pygments_lexer": "ipython3",
   "version": "3.12.4"
  }
 },
 "nbformat": 4,
 "nbformat_minor": 2
}
