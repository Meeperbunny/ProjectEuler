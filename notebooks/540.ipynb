{
 "cells": [
  {
   "cell_type": "code",
   "execution_count": 1,
   "metadata": {},
   "outputs": [],
   "source": [
    "import numpy as np"
   ]
  },
  {
   "cell_type": "code",
   "execution_count": 60,
   "metadata": {},
   "outputs": [],
   "source": [
    "import sys\n",
    "sys.setrecursionlimit(50_000)"
   ]
  },
  {
   "cell_type": "code",
   "execution_count": 81,
   "metadata": {},
   "outputs": [],
   "source": [
    "A = np.matrix([\n",
    "    [1, -2, 2],\n",
    "    [2, -1, 2],\n",
    "    [2, -2, 3],\n",
    "])\n",
    "\n",
    "B = ([\n",
    "    [1, 2, 2],\n",
    "    [2, 1, 2],\n",
    "    [2, 2, 3],\n",
    "])\n",
    "\n",
    "C = ([\n",
    "    [-1, 2, 2],\n",
    "    [-2, 1, 2],\n",
    "    [-2, 2, 3],\n",
    "])"
   ]
  },
  {
   "cell_type": "code",
   "execution_count": 82,
   "metadata": {},
   "outputs": [],
   "source": [
    "M = 3141592653589793"
   ]
  },
  {
   "cell_type": "code",
   "execution_count": 83,
   "metadata": {},
   "outputs": [],
   "source": [
    "import sys\n",
    "def get_triples(k, t=np.matrix([[3],[4],[5]])):\n",
    "    if t[2, 0] > k:\n",
    "        return\n",
    "    triples.append(t)\n",
    "    get_triples(k, A @ t)\n",
    "    get_triples(k, B @ t)\n",
    "    get_triples(k, C @ t)"
   ]
  },
  {
   "cell_type": "code",
   "execution_count": 84,
   "metadata": {},
   "outputs": [
    {
     "data": {
      "text/plain": [
       "(None, 50002)"
      ]
     },
     "execution_count": 84,
     "metadata": {},
     "output_type": "execute_result"
    }
   ],
   "source": [
    "triples = []\n",
    "get_triples(314159), len(triples)"
   ]
  },
  {
   "cell_type": "code",
   "execution_count": 13,
   "metadata": {},
   "outputs": [
    {
     "data": {
      "text/plain": [
       "159139"
      ]
     },
     "execution_count": 13,
     "metadata": {},
     "output_type": "execute_result"
    }
   ],
   "source": []
  },
  {
   "cell_type": "code",
   "execution_count": 14,
   "metadata": {},
   "outputs": [],
   "source": [
    "K = 3141592653589793\n",
    "K = 10**6\n"
   ]
  },
  {
   "cell_type": "code",
   "execution_count": 15,
   "metadata": {},
   "outputs": [],
   "source": [
    "def totient(n):\n",
    "    tot = [1 for i in range(n + 1)]\n",
    "    tot[0] = 0\n",
    "    for p in range(2, n + 1):\n",
    "        if tot[p] == 1:\n",
    "            # is prime\n",
    "            k = 1\n",
    "            while True:\n",
    "                b = p**k\n",
    "                if b > n:\n",
    "                    break\n",
    "                j = p\n",
    "                if k == 1:\n",
    "                    j = p - 1\n",
    "                for q in range(b, n + 1, b):\n",
    "                    tot[q] *= j\n",
    "                k += 1\n",
    "    return tot\n",
    "TOT = totient(int(K**0.5+1))"
   ]
  },
  {
   "cell_type": "code",
   "execution_count": 16,
   "metadata": {},
   "outputs": [],
   "source": [
    "def even_totient(n):\n",
    "    tot = [1 for i in range(n + 1)]\n",
    "    tot[0] = 0\n",
    "    for p in range(2, n + 1):\n",
    "        if tot[p] == 1:\n",
    "            # is prime\n",
    "            k = 1\n",
    "            while True:\n",
    "                b = p**k\n",
    "                if b > n:\n",
    "                    break\n",
    "                j = p\n",
    "                if k == 1:\n",
    "                    j = p - 1\n",
    "                for q in range(b, n + 1, b):\n",
    "                    tot[q] *= j\n",
    "                k += 1\n",
    "    return tot\n",
    "TOT = totient(int(K**0.5+1))"
   ]
  },
  {
   "cell_type": "code",
   "execution_count": 19,
   "metadata": {},
   "outputs": [],
   "source": [
    "from math import gcd"
   ]
  },
  {
   "cell_type": "code",
   "execution_count": 114,
   "metadata": {},
   "outputs": [],
   "source": [
    "K = 31415926535"
   ]
  },
  {
   "cell_type": "code",
   "execution_count": 115,
   "metadata": {},
   "outputs": [
    {
     "data": {
      "text/plain": [
       "499999994"
      ]
     },
     "execution_count": 115,
     "metadata": {},
     "output_type": "execute_result"
    }
   ],
   "source": [
    "5\n",
    "50\n",
    "499\n",
    "4995\n",
    "50002\n",
    "500007\n",
    "4999977i\n",
    "50000030\n",
    "499999994\n",
    "4999999997\n",
    "50000000106\n",
    "\n",
    "500000000000000\n",
    "3333333333333333"
   ]
  },
  {
   "cell_type": "code",
   "execution_count": 119,
   "metadata": {},
   "outputs": [
    {
     "data": {
      "text/plain": [
       "499999999700000"
      ]
     },
     "execution_count": 119,
     "metadata": {},
     "output_type": "execute_result"
    }
   ],
   "source": [
    "100000 * 4999999997"
   ]
  },
  {
   "cell_type": "code",
   "execution_count": null,
   "metadata": {},
   "outputs": [],
   "source": [
    "499999999999999\n",
    "499999999700000\n",
    "500000000000000"
   ]
  },
  {
   "cell_type": "code",
   "execution_count": 118,
   "metadata": {},
   "outputs": [
    {
     "data": {
      "text/plain": [
       "100000.0000028582"
      ]
     },
     "execution_count": 118,
     "metadata": {},
     "output_type": "execute_result"
    }
   ],
   "source": [
    "3141592653589793 / K"
   ]
  },
  {
   "cell_type": "code",
   "execution_count": 171,
   "metadata": {},
   "outputs": [],
   "source": [
    "from random import randint\n",
    "def isprime(n, k=5):\n",
    "    if n <= 1:\n",
    "        return False\n",
    "    if n == 2 or n == 3:\n",
    "        return True\n",
    "    d = n - 1\n",
    "    s = 0\n",
    "    while d % 2 == 0:\n",
    "        d //= 2\n",
    "        s += 1\n",
    "    \n",
    "    y = 0\n",
    "    for _ in range(k):\n",
    "        a = randint(2, n - 2)\n",
    "        x = pow(a, d, n)\n",
    "        for _ in range(s):\n",
    "            y = pow(x, 2, n)\n",
    "            if y == 1 and x != 1 and x != n - 1:\n",
    "                return False\n",
    "            x = y\n",
    "        if y != 1:\n",
    "            return False\n",
    "    return True"
   ]
  },
  {
   "cell_type": "code",
   "execution_count": 203,
   "metadata": {},
   "outputs": [],
   "source": [
    "def ans(K):\n",
    "    C = 0\n",
    "    n = 1\n",
    "    cnts = {}\n",
    "    while n * n < K:\n",
    "        if n & 1:\n",
    "            cc = 0\n",
    "            cnts[n] = 0\n",
    "            for q in range(2, n, 2):\n",
    "                if n * n + q * q > K:\n",
    "                    break\n",
    "                if gcd(q, n) == 1:\n",
    "                    cc += 1\n",
    "                    cnts[n] += 1\n",
    "            cnts[n] = cc\n",
    "        else:\n",
    "            cc = 0\n",
    "            cnts[n] = 0\n",
    "            for q in range(1, n, 2):\n",
    "                if n * n + q * q > K:\n",
    "                    break\n",
    "                if gcd(q, n) == 1:\n",
    "                    cc += 1\n",
    "                    cnts[n] += 1\n",
    "            cnts[n] = cc\n",
    "        C += cnts[n]\n",
    "        n += 1\n",
    "    return C"
   ]
  },
  {
   "cell_type": "code",
   "execution_count": 260,
   "metadata": {},
   "outputs": [
    {
     "data": {
      "text/plain": [
       "-2004"
      ]
     },
     "execution_count": 260,
     "metadata": {},
     "output_type": "execute_result"
    }
   ],
   "source": [
    "ans(314159 * 1000)- ans(314159) * 1000\n"
   ]
  },
  {
   "cell_type": "code",
   "execution_count": 205,
   "metadata": {},
   "outputs": [
    {
     "data": {
      "text/plain": [
       "50002"
      ]
     },
     "execution_count": 205,
     "metadata": {},
     "output_type": "execute_result"
    }
   ],
   "source": [
    "ans(314159)"
   ]
  },
  {
   "cell_type": "code",
   "execution_count": 192,
   "metadata": {},
   "outputs": [
    {
     "data": {
      "text/plain": [
       "2"
      ]
     },
     "execution_count": 192,
     "metadata": {},
     "output_type": "execute_result"
    }
   ],
   "source": [
    "TOT[6]"
   ]
  },
  {
   "cell_type": "code",
   "execution_count": 199,
   "metadata": {},
   "outputs": [
    {
     "data": {
      "text/plain": [
       "(8, 48)"
      ]
     },
     "execution_count": 199,
     "metadata": {},
     "output_type": "execute_result"
    }
   ],
   "source": [
    "cnts[17 * 1], cnts[17 * 9]"
   ]
  },
  {
   "cell_type": "code",
   "execution_count": null,
   "metadata": {},
   "outputs": [],
   "source": []
  },
  {
   "cell_type": "code",
   "execution_count": 180,
   "metadata": {},
   "outputs": [
    {
     "name": "stdout",
     "output_type": "stream",
     "text": [
      "1 0 1\n",
      "887 886 884\n",
      "888 576 573\n",
      "889 756 751\n",
      "890 704 698\n",
      "891 540 534\n",
      "892 888 876\n",
      "893 828 815\n",
      "894 592 581\n",
      "895 712 698\n",
      "896 768 751\n",
      "897 528 515\n",
      "898 896 872\n",
      "899 840 816\n",
      "900 480 465\n",
      "901 832 805\n",
      "902 800 772\n",
      "903 504 485\n",
      "904 896 860\n",
      "905 720 690\n",
      "906 600 573\n",
      "907 906 864\n",
      "908 904 860\n",
      "909 600 569\n",
      "910 576 546\n",
      "911 910 860\n",
      "912 576 543\n",
      "913 820 772\n",
      "914 912 856\n",
      "915 480 450\n",
      "916 912 851\n",
      "917 780 726\n",
      "918 576 536\n",
      "919 918 851\n",
      "920 704 651\n",
      "921 612 565\n",
      "922 920 847\n",
      "923 840 772\n",
      "924 480 440\n",
      "925 720 659\n",
      "926 924 843\n",
      "927 612 557\n",
      "928 896 813\n",
      "929 928 840\n",
      "930 480 433\n",
      "931 756 681\n",
      "932 928 834\n",
      "933 620 556\n",
      "934 932 834\n",
      "935 640 571\n",
      "936 576 512\n",
      "937 936 831\n",
      "938 792 702\n",
      "939 624 551\n",
      "940 736 649\n",
      "941 940 827\n",
      "942 624 548\n",
      "943 880 771\n",
      "944 928 810\n",
      "945 432 376\n",
      "946 840 730\n",
      "947 946 820\n",
      "948 624 540\n",
      "949 864 746\n",
      "950 720 620\n",
      "951 632 542\n",
      "952 768 658\n",
      "953 952 813\n",
      "954 624 532\n",
      "955 760 647\n",
      "956 952 807\n",
      "957 560 473\n",
      "958 956 806\n",
      "959 816 687\n",
      "960 512 430\n",
      "961 930 779\n",
      "962 864 721\n",
      "963 636 530\n",
      "964 960 798\n",
      "965 768 637\n",
      "966 528 437\n",
      "967 966 796\n",
      "968 880 724\n",
      "969 576 472\n",
      "970 768 629\n",
      "971 970 791\n",
      "972 648 527\n",
      "973 828 672\n",
      "974 972 787\n",
      "975 480 387\n",
      "976 960 773\n",
      "977 976 784\n",
      "978 648 520\n",
      "979 880 704\n",
      "980 672 535\n",
      "981 648 515\n",
      "982 980 777\n",
      "983 982 777\n",
      "984 640 504\n",
      "985 784 617\n",
      "986 896 703\n",
      "987 552 432\n",
      "988 864 674\n",
      "989 924 720\n",
      "990 480 372\n",
      "991 990 766\n",
      "992 960 741\n",
      "993 660 509\n",
      "994 840 645\n",
      "995 792 607\n",
      "996 656 501\n",
      "997 996 758\n",
      "998 996 756\n",
      "999 648 492\n",
      "1000 800 605\n",
      "1001 720 541\n",
      "1002 664 499\n",
      "1003 928 696\n",
      "1004 1000 747\n",
      "1005 528 393\n",
      "1006 1004 747\n",
      "1007 936 694\n",
      "1008 576 426\n",
      "1009 1008 742\n",
      "1010 800 588\n",
      "1011 672 493\n",
      "1012 880 643\n",
      "1013 1012 737\n",
      "1014 624 453\n",
      "1015 672 487\n",
      "1016 1008 728\n",
      "1017 672 484\n",
      "1018 1016 730\n",
      "1019 1018 729\n",
      "1020 512 365\n",
      "1021 1020 726\n",
      "1022 864 612\n",
      "1023 600 425\n",
      "1024 1024 723\n",
      "1025 800 563\n",
      "1026 648 455\n",
      "1027 936 655\n",
      "1028 1024 714\n",
      "1029 588 409\n",
      "1030 816 565\n",
      "1031 1030 712\n",
      "1032 672 463\n",
      "1033 1032 709\n",
      "1034 920 630\n",
      "1035 528 360\n",
      "1036 864 588\n",
      "1037 960 652\n",
      "1038 688 465\n",
      "1039 1038 700\n",
      "1040 768 516\n",
      "1041 692 464\n",
      "1042 1040 695\n",
      "1043 888 592\n",
      "1044 672 446\n",
      "1045 720 477\n",
      "1046 1044 689\n",
      "1047 696 458\n",
      "1048 1040 682\n",
      "1049 1048 685\n",
      "1050 480 313\n",
      "1051 1050 682\n",
      "1052 1048 678\n",
      "1053 648 418\n",
      "1054 960 617\n",
      "1055 840 540\n",
      "1056 640 409\n",
      "1057 900 574\n",
      "1058 1012 643\n",
      "1059 704 446\n",
      "1060 832 525\n",
      "1061 1060 666\n",
      "1062 696 437\n",
      "1063 1062 663\n",
      "1064 864 537\n",
      "1065 560 348\n",
      "1066 960 593\n",
      "1067 960 592\n",
      "1068 704 432\n",
      "1069 1068 653\n",
      "1070 848 517\n",
      "1071 576 350\n",
      "1072 1056 639\n",
      "1073 1008 609\n",
      "1074 712 428\n",
      "1075 840 503\n",
      "1076 1072 641\n",
      "1077 716 426\n",
      "1078 840 498\n",
      "1079 984 582\n",
      "1080 576 339\n",
      "1081 1012 594\n",
      "1082 1080 632\n",
      "1083 684 399\n",
      "1084 1080 627\n",
      "1085 720 416\n",
      "1086 720 415\n",
      "1087 1086 623\n",
      "1088 1024 585\n",
      "1089 660 376\n",
      "1090 864 490\n",
      "1091 1090 616\n",
      "1092 576 325\n",
      "1093 1092 612\n",
      "1094 1092 611\n",
      "1095 576 322\n",
      "1096 1088 604\n",
      "1097 1096 605\n",
      "1098 720 396\n",
      "1099 936 513\n",
      "1100 800 437\n",
      "1101 732 398\n",
      "1102 1008 546\n",
      "1103 1102 594\n",
      "1104 704 378\n",
      "1105 768 411\n",
      "1106 936 500\n",
      "1107 720 383\n",
      "1108 1104 584\n",
      "1109 1108 583\n",
      "1110 576 302\n",
      "1111 1000 522\n",
      "1112 1104 574\n",
      "1113 624 323\n",
      "1114 1112 573\n",
      "1115 888 456\n",
      "1116 720 368\n",
      "1117 1116 567\n",
      "1118 1008 510\n",
      "1119 744 375\n",
      "1120 768 386\n",
      "1121 1044 522\n",
      "1122 640 318\n",
      "1123 1122 556\n",
      "1124 1120 552\n",
      "1125 600 295\n",
      "1126 1124 549\n",
      "1127 924 449\n",
      "1128 736 356\n",
      "1129 1128 544\n",
      "1130 896 430\n",
      "1131 672 320\n",
      "1132 1128 536\n",
      "1133 1020 482\n",
      "1134 648 305\n",
      "1135 904 424\n",
      "1136 1120 522\n",
      "1137 756 350\n",
      "1138 1136 524\n",
      "1139 1056 484\n",
      "1140 576 263\n",
      "1141 972 442\n",
      "1142 1140 515\n",
      "1143 756 340\n",
      "1144 960 430\n",
      "1145 912 406\n",
      "1146 760 336\n",
      "1147 1080 475\n",
      "1148 960 421\n",
      "1149 764 333\n",
      "1150 880 380\n",
      "1151 1150 496\n",
      "1152 768 329\n",
      "1153 1152 491\n",
      "1154 1152 488\n",
      "1155 480 202\n",
      "1156 1088 456\n",
      "1157 1056 440\n",
      "1158 768 318\n",
      "1159 1080 444\n",
      "1160 896 367\n",
      "1161 756 308\n",
      "1162 984 398\n",
      "1163 1162 467\n",
      "1164 768 307\n",
      "1165 928 368\n",
      "1166 1040 410\n",
      "1167 776 304\n",
      "1168 1152 449\n",
      "1169 996 384\n",
      "1170 576 221\n",
      "1171 1170 447\n",
      "1172 1168 442\n",
      "1173 704 265\n",
      "1174 1172 438\n",
      "1175 920 342\n",
      "1176 672 248\n",
      "1177 1060 388\n",
      "1178 1080 392\n",
      "1179 780 281\n",
      "1180 928 332\n",
      "1181 1180 420\n",
      "1182 784 277\n",
      "1183 936 328\n",
      "1184 1152 400\n",
      "1185 624 215\n",
      "1186 1184 404\n",
      "1187 1186 402\n",
      "1188 720 242\n",
      "1189 1120 372\n",
      "1190 768 253\n",
      "1191 792 259\n",
      "1192 1184 384\n",
      "1193 1192 384\n",
      "1194 792 253\n",
      "1195 952 300\n",
      "1196 1056 331\n",
      "1197 648 201\n",
      "1198 1196 367\n",
      "1199 1080 329\n",
      "1200 640 193\n",
      "1201 1200 358\n",
      "1202 1200 354\n",
      "1203 800 234\n",
      "1204 1008 291\n",
      "1205 960 275\n",
      "1206 792 224\n",
      "1207 1120 313\n",
      "1208 1200 332\n",
      "1209 720 197\n",
      "1210 880 238\n",
      "1211 1032 275\n",
      "1212 800 211\n",
      "1213 1212 315\n",
      "1214 1212 310\n",
      "1215 648 164\n",
      "1216 1152 288\n",
      "1217 1216 300\n",
      "1218 672 163\n",
      "1219 1144 273\n",
      "1220 960 226\n",
      "1221 720 168\n",
      "1222 1104 251\n",
      "1223 1222 274\n",
      "1224 768 168\n",
      "1225 840 182\n",
      "1226 1224 260\n",
      "1227 816 169\n",
      "1228 1224 250\n",
      "1229 1228 246\n",
      "1230 640 126\n",
      "1231 1230 235\n",
      "1232 960 179\n",
      "1233 816 149\n",
      "1234 1232 219\n",
      "1235 864 149\n",
      "1236 816 138\n",
      "1237 1236 202\n",
      "1238 1236 195\n",
      "1239 696 106\n",
      "1240 960 141\n",
      "1241 1152 163\n",
      "1242 792 107\n",
      "1243 1120 144\n",
      "1244 1240 153\n",
      "1245 656 76\n",
      "1246 1056 114\n",
      "1247 1176 119\n",
      "1248 768 71\n",
      "1249 1248 104\n",
      "1250 1000 73\n",
      "1251 828 50\n",
      "1252 1248 57\n",
      "1253 1068 24\n"
     ]
    },
    {
     "ename": "KeyError",
     "evalue": "2508",
     "output_type": "error",
     "traceback": [
      "\u001b[1;31m---------------------------------------------------------------------------\u001b[0m",
      "\u001b[1;31mKeyError\u001b[0m                                  Traceback (most recent call last)",
      "Cell \u001b[1;32mIn[180], line 2\u001b[0m\n\u001b[0;32m      1\u001b[0m \u001b[38;5;28;01mfor\u001b[39;00m i \u001b[38;5;129;01min\u001b[39;00m \u001b[38;5;28mrange\u001b[39m(\u001b[38;5;241m1\u001b[39m, \u001b[38;5;241m10000000\u001b[39m):\n\u001b[1;32m----> 2\u001b[0m     \u001b[38;5;28;01mif\u001b[39;00m cnts[i] \u001b[38;5;241m*\u001b[39m \u001b[38;5;241m2\u001b[39m \u001b[38;5;241m!=\u001b[39m \u001b[43mcnts\u001b[49m\u001b[43m[\u001b[49m\u001b[43mi\u001b[49m\u001b[43m \u001b[49m\u001b[38;5;241;43m*\u001b[39;49m\u001b[43m \u001b[49m\u001b[38;5;241;43m2\u001b[39;49m\u001b[43m]\u001b[49m:\n\u001b[0;32m      3\u001b[0m         \u001b[38;5;28mprint\u001b[39m(i, cnts[i] \u001b[38;5;241m*\u001b[39m \u001b[38;5;241m2\u001b[39m, cnts[i \u001b[38;5;241m*\u001b[39m \u001b[38;5;241m2\u001b[39m])\n",
      "\u001b[1;31mKeyError\u001b[0m: 2508"
     ]
    }
   ],
   "source": [
    "for i in range(1, 10000000):\n",
    "    if cnts[i] * 2 != cnts[i * 2]:\n",
    "        print(i, cnts[i] * 2, cnts[i * 2])"
   ]
  },
  {
   "cell_type": "code",
   "execution_count": 142,
   "metadata": {},
   "outputs": [
    {
     "data": {
      "text/plain": [
       "(12, 6, 24, 48, 96, 78)"
      ]
     },
     "execution_count": 142,
     "metadata": {},
     "output_type": "execute_result"
    }
   ],
   "source": [
    "cnts[26], cnts[13], cnts[52], cnts[104], cnts[208], cnts[169]"
   ]
  },
  {
   "cell_type": "code",
   "execution_count": 129,
   "metadata": {},
   "outputs": [
    {
     "data": {
      "text/plain": [
       "999977"
      ]
     },
     "execution_count": 129,
     "metadata": {},
     "output_type": "execute_result"
    }
   ],
   "source": [
    "K = 3141592 * 2\n",
    "C = 0\n",
    "n = 1\n",
    "while n * n < K:\n",
    "    if n & 1:\n",
    "        for q in range(2, n, 2):\n",
    "            if n * n + q * q > K:\n",
    "                break\n",
    "            if gcd(q, n) == 1:\n",
    "                C += 1 \n",
    "    else:\n",
    "        for q in range(1, n, 2):\n",
    "            if n * n + q * q > K:\n",
    "                break\n",
    "            if gcd(q, n) == 1:\n",
    "                C += 1 \n",
    "        # Just get number that are coprime to this?\n",
    "        # C += TOT[n]\n",
    "        pass\n",
    "    n += 1\n",
    "C"
   ]
  },
  {
   "cell_type": "code",
   "execution_count": null,
   "metadata": {},
   "outputs": [],
   "source": [
    "500000000000015\n"
   ]
  }
 ],
 "metadata": {
  "kernelspec": {
   "display_name": "Python 3",
   "language": "python",
   "name": "python3"
  },
  "language_info": {
   "codemirror_mode": {
    "name": "ipython",
    "version": 3
   },
   "file_extension": ".py",
   "mimetype": "text/x-python",
   "name": "python",
   "nbconvert_exporter": "python",
   "pygments_lexer": "ipython3",
   "version": "3.12.4"
  }
 },
 "nbformat": 4,
 "nbformat_minor": 2
}
