{
 "cells": [
  {
   "cell_type": "code",
   "execution_count": 10,
   "metadata": {},
   "outputs": [],
   "source": [
    "from functools import cache\n",
    "@cache\n",
    "def fac(n):\n",
    "    return 1 if n <= 1 else n * fac(n - 1)"
   ]
  },
  {
   "cell_type": "code",
   "execution_count": 12,
   "metadata": {},
   "outputs": [],
   "source": [
    "def multi(tup):\n",
    "    s = sum(tup)\n",
    "    return fac(s) // fac(tup[0]) // fac(tup[1]) // fac(tup[2])"
   ]
  },
  {
   "cell_type": "code",
   "execution_count": 72,
   "metadata": {},
   "outputs": [
    {
     "name": "stdout",
     "output_type": "stream",
     "text": [
      "38 25465451830845482 30\n",
      "0 1 25465451830845483 28201602701850060\n",
      "USING 1\n",
      "1 1 25465451830845483 8911469248366440\n",
      "1 2 16553982582479043 9645066726741810\n",
      "1 3 6908915855737233 9645066726741810\n",
      "USING 3\n",
      "13 1 6908915855737233 3129131092444560\n",
      "13 2 3779784763292673 3386804541852690\n",
      "13 3 392980221439983 3129131092444560\n",
      "USING 3\n",
      "133 1 392980221439983 1043229843499270\n",
      "USING 1\n",
      "1331 1 392980221439983 328110651387842\n",
      "1331 2 64869570052141 387008540723586\n",
      "USING 2\n",
      "13312 1 64869570052141 125227999205169\n",
      "USING 1\n",
      "133121 1 64869570052141 37963517887680\n",
      "133121 2 26906052164461 45517514104416\n",
      "USING 2\n",
      "1331212 1 26906052164461 14225835964230\n",
      "1331212 2 12680216200231 15645839070093\n",
      "USING 2\n",
      "13312122 1 12680216200231 5047331004330\n",
      "13312122 2 7632885195901 5047331004330\n",
      "13312122 3 2585554191571 5551177061433\n",
      "USING 3\n",
      "133121223 1 2585554191571 1850392353811\n",
      "133121223 2 735161837760 1850392353811\n",
      "USING 2\n",
      "1331212232 1 735161837760 638059422000\n",
      "1331212232 2 97102415760 574273509811\n",
      "USING 2\n",
      "13312122322 1 97102415760 205092995250\n",
      "USING 1\n",
      "133121223221 1 97102415760 68365154000\n",
      "133121223221 2 28737261760 60770030750\n",
      "USING 2\n",
      "1331212232212 1 28737261760 21036032875\n",
      "1331212232212 2 7701228885 16362363875\n",
      "USING 2\n",
      "13312122322122 1 7701228885 5890521835\n",
      "13312122322122 2 1810707050 3927784520\n",
      "USING 2\n",
      "133121223221222 1 1810707050 1472936905\n",
      "133121223221222 2 337770145 818833235\n",
      "USING 2\n",
      "1331212232212222 1 337770145 320416855\n",
      "1331212232212222 2 17353290 142761080\n",
      "USING 2\n",
      "13312122322122222 1 17353290 58402960\n",
      "USING 1\n",
      "133121223221222221 1 17353290 22249380\n",
      "USING 1\n",
      "1331212232212222211 1 17353290 7787853\n",
      "1331212232212222211 2 9565437 3376167\n",
      "1331212232212222211 3 6189270 11085360\n",
      "USING 3\n",
      "13312122322122222113 1 6189270 4084080\n",
      "13312122322122222113 2 2105190 1750320\n",
      "13312122322122222113 3 354870 5250960\n",
      "USING 3\n",
      "133121223221222221133 1 354870 2042040\n",
      "USING 1\n",
      "1331212232212222211331 1 354870 720720\n",
      "USING 1\n",
      "13312122322122222113311 1 354870 225225\n",
      "13312122322122222113311 2 129645 135135\n",
      "USING 2\n",
      "133121223221222221133112 1 129645 45045\n",
      "133121223221222221133112 2 84600 18018\n",
      "133121223221222221133112 3 66582 72072\n",
      "USING 3\n",
      "1331212232212222211331123 1 66582 25740\n",
      "1331212232212222211331123 2 40842 10296\n",
      "1331212232212222211331123 3 30546 36036\n",
      "USING 3\n",
      "13312122322122222113311233 1 30546 13860\n",
      "13312122322122222113311233 2 16686 5544\n",
      "13312122322122222113311233 3 11142 16632\n",
      "USING 3\n",
      "133121223221222221133112333 1 11142 6930\n",
      "133121223221222221133112333 2 4212 2772\n",
      "133121223221222221133112333 3 1440 6930\n",
      "USING 3\n",
      "1331212232212222211331123333 1 1440 3150\n",
      "USING 1\n",
      "13312122322122222113311233331 1 1440 1260\n",
      "13312122322122222113311233331 2 180 630\n",
      "USING 2\n",
      "133121223221222221133112333312 1 180 280\n",
      "USING 1\n",
      "1331212232212222211331123333121 1 180 105\n",
      "1331212232212222211331123333121 2 75 35\n",
      "1331212232212222211331123333121 3 40 140\n",
      "USING 3\n",
      "13312122322122222113311233331213 1 40 60\n",
      "USING 1\n",
      "133121223221222221133112333312131 1 40 20\n",
      "133121223221222221133112333312131 2 20 10\n",
      "133121223221222221133112333312131 3 10 30\n",
      "USING 3\n",
      "1331212232212222211331123333121313 1 10 12\n",
      "USING 1\n",
      "13312122322122222113311233331213131 1 10 3\n",
      "13312122322122222113311233331213131 2 7 3\n",
      "13312122322122222113311233331213131 3 4 6\n",
      "USING 3\n",
      "133121223221222221133112333312131313 1 4 2\n",
      "133121223221222221133112333312131313 2 2 2\n",
      "USING 2\n",
      "1331212232212222211331123333121313132 1 2 1\n",
      "1331212232212222211331123333121313132 2 1 0\n",
      "1331212232212222211331123333121313132 3 1 1\n",
      "USING 3\n",
      "13312122322122222113311233331213131323 1 1 0\n",
      "13312122322122222113311233331213131323 2 1 0\n",
      "13312122322122222113311233331213131323 3 1 0\n"
     ]
    },
    {
     "ename": "IndexError",
     "evalue": "list index out of range",
     "output_type": "error",
     "traceback": [
      "\u001b[0;31m---------------------------------------------------------------------------\u001b[0m",
      "\u001b[0;31mIndexError\u001b[0m                                Traceback (most recent call last)",
      "Cell \u001b[0;32mIn[72], line 44\u001b[0m\n\u001b[1;32m     42\u001b[0m cnts \u001b[38;5;241m=\u001b[39m [\u001b[38;5;241m0\u001b[39m, \u001b[38;5;28mstr\u001b[39m(currnum)\u001b[38;5;241m.\u001b[39mcount(\u001b[38;5;124m'\u001b[39m\u001b[38;5;124m1\u001b[39m\u001b[38;5;124m'\u001b[39m), \u001b[38;5;28mstr\u001b[39m(currnum)\u001b[38;5;241m.\u001b[39mcount(\u001b[38;5;124m'\u001b[39m\u001b[38;5;124m2\u001b[39m\u001b[38;5;124m'\u001b[39m), \u001b[38;5;28mstr\u001b[39m(currnum)\u001b[38;5;241m.\u001b[39mcount(\u001b[38;5;124m'\u001b[39m\u001b[38;5;124m3\u001b[39m\u001b[38;5;124m'\u001b[39m)]\n\u001b[1;32m     43\u001b[0m \u001b[38;5;66;03m# Check spec\u001b[39;00m\n\u001b[0;32m---> 44\u001b[0m cnts[spec] \u001b[38;5;241m+\u001b[39m\u001b[38;5;241m=\u001b[39m \u001b[38;5;241m1\u001b[39m\n\u001b[1;32m     45\u001b[0m CC \u001b[38;5;241m=\u001b[39m \u001b[38;5;241m0\u001b[39m\n\u001b[1;32m     46\u001b[0m \u001b[38;5;28;01mfor\u001b[39;00m e \u001b[38;5;129;01min\u001b[39;00m ways[the_ways]:\n",
      "\u001b[0;31mIndexError\u001b[0m: list index out of range"
     ]
    }
   ],
   "source": [
    "N = 111_111_111_111_222_333\n",
    "# N = 6000\n",
    "# N = 1000\n",
    "\n",
    "numbers = [0, 1, 2, 3, 11, 12, 13, 21, 22, 23, 31, 32, 33, 111, 112, 113, 121, 122, 123, 131]\n",
    "nl = len(numbers)\n",
    "max_size = 50\n",
    "ways = [[] for _ in range(max_size + 1)]\n",
    "for on_c in range(nl):\n",
    "    for tw_c in range(nl):\n",
    "        for th_c in range(nl):\n",
    "            ONC = numbers[on_c]\n",
    "            TWC = numbers[tw_c]\n",
    "            THC = numbers[th_c]\n",
    "            tup = (ONC, TWC, THC)\n",
    "            t = sum(tup)\n",
    "            if t <= max_size:\n",
    "                ways[t].append(tup)\n",
    "# print(\"WAYS\")\n",
    "# for i in range(8):\n",
    "#     print(i, ways[i])\n",
    "\n",
    "the_ways = 0\n",
    "NC = N\n",
    "for i in range(max_size + 1):\n",
    "    TC = 0\n",
    "    for e in ways[i]:\n",
    "        TC += multi(e)\n",
    "    if TC >= NC:\n",
    "        the_ways = i\n",
    "        break\n",
    "    NC -= TC\n",
    "    # print(i, TC)\n",
    "print(the_ways, NC, len(ways[the_ways]))\n",
    "\n",
    "# Go 1 by on and \"assume a digit\"? Keep track of current digit count. See how many can be made with given prefix\n",
    "# If count is less than or equal to NC, then use it and go to next (and sub). Otherwise go to next and sub the prev\n",
    "currnum = 0\n",
    "spec = 1\n",
    "NC += 1\n",
    "while NC:\n",
    "    cnts = [0, str(currnum).count('1'), str(currnum).count('2'), str(currnum).count('3')]\n",
    "    # Check spec\n",
    "    cnts[spec] += 1\n",
    "    CC = 0\n",
    "    for e in ways[the_ways]:\n",
    "        nc = (e[0] - cnts[1], e[1] - cnts[2], e[2] - cnts[3])\n",
    "        if nc[0] < 0 or nc[1] < 0 or nc[2] < 0:\n",
    "            continue\n",
    "        CC += multi(nc)\n",
    "        # print(e, nc, multi(nc))\n",
    "    print(currnum, spec, NC, CC)\n",
    "    if NC <= CC:\n",
    "        currnum = currnum * 10 + spec\n",
    "        print(\"USING\", spec)\n",
    "        spec = 1 # Use it and sub\n",
    "    else:\n",
    "        spec += 1\n",
    "        NC -= CC\n",
    "currnum"
   ]
  },
  {
   "cell_type": "code",
   "execution_count": 73,
   "metadata": {},
   "outputs": [
    {
     "data": {
      "text/plain": [
       "57808202"
      ]
     },
     "execution_count": 73,
     "metadata": {},
     "output_type": "execute_result"
    }
   ],
   "source": [
    "13312122322122222113311233331213131323 % 123123123"
   ]
  },
  {
   "cell_type": "code",
   "execution_count": 54,
   "metadata": {},
   "outputs": [
    {
     "name": "stdout",
     "output_type": "stream",
     "text": [
      "[(0, 0, 13), (0, 1, 12), (0, 2, 11), (0, 11, 2), (0, 12, 1), (0, 13, 0), (1, 0, 12), (1, 1, 11), (1, 11, 1), (1, 12, 0), (2, 0, 11), (2, 11, 0), (11, 0, 2), (11, 1, 1), (11, 2, 0), (12, 0, 1), (12, 1, 0), (13, 0, 0)]\n"
     ]
    }
   ],
   "source": [
    "print(ways[the_ways])"
   ]
  },
  {
   "cell_type": "code",
   "execution_count": null,
   "metadata": {},
   "outputs": [
    {
     "name": "stdout",
     "output_type": "stream",
     "text": [
      "0 1 674 339\n",
      "USING 1\n",
      "1 1 335 245\n",
      "USING 1\n",
      "11 1 90 201\n",
      "11 2 -111 22\n",
      "11 3 -133 22\n"
     ]
    },
    {
     "ename": "IndexError",
     "evalue": "list index out of range",
     "output_type": "error",
     "traceback": [
      "\u001b[0;31m---------------------------------------------------------------------------\u001b[0m",
      "\u001b[0;31mIndexError\u001b[0m                                Traceback (most recent call last)",
      "Cell \u001b[0;32mIn[55], line 8\u001b[0m\n\u001b[1;32m      6\u001b[0m cnts \u001b[38;5;241m=\u001b[39m [\u001b[38;5;241m0\u001b[39m, \u001b[38;5;28mstr\u001b[39m(currnum)\u001b[38;5;241m.\u001b[39mcount(\u001b[38;5;124m'\u001b[39m\u001b[38;5;124m1\u001b[39m\u001b[38;5;124m'\u001b[39m), \u001b[38;5;28mstr\u001b[39m(currnum)\u001b[38;5;241m.\u001b[39mcount(\u001b[38;5;124m'\u001b[39m\u001b[38;5;124m2\u001b[39m\u001b[38;5;124m'\u001b[39m), \u001b[38;5;28mstr\u001b[39m(currnum)\u001b[38;5;241m.\u001b[39mcount(\u001b[38;5;124m'\u001b[39m\u001b[38;5;124m3\u001b[39m\u001b[38;5;124m'\u001b[39m)]\n\u001b[1;32m      7\u001b[0m \u001b[38;5;66;03m# Check spec\u001b[39;00m\n\u001b[0;32m----> 8\u001b[0m cnts[spec] \u001b[38;5;241m+\u001b[39m\u001b[38;5;241m=\u001b[39m \u001b[38;5;241m1\u001b[39m\n\u001b[1;32m      9\u001b[0m CC \u001b[38;5;241m=\u001b[39m \u001b[38;5;241m0\u001b[39m\n\u001b[1;32m     10\u001b[0m \u001b[38;5;28;01mfor\u001b[39;00m e \u001b[38;5;129;01min\u001b[39;00m ways[the_ways]:\n",
      "\u001b[0;31mIndexError\u001b[0m: list index out of range"
     ]
    }
   ],
   "source": []
  },
  {
   "cell_type": "code",
   "execution_count": null,
   "metadata": {},
   "outputs": [
    {
     "data": {
      "text/plain": [
       "1"
      ]
     },
     "execution_count": 41,
     "metadata": {},
     "output_type": "execute_result"
    }
   ],
   "source": []
  }
 ],
 "metadata": {
  "kernelspec": {
   "display_name": "Python 3",
   "language": "python",
   "name": "python3"
  },
  "language_info": {
   "codemirror_mode": {
    "name": "ipython",
    "version": 3
   },
   "file_extension": ".py",
   "mimetype": "text/x-python",
   "name": "python",
   "nbconvert_exporter": "python",
   "pygments_lexer": "ipython3",
   "version": "3.9.6"
  }
 },
 "nbformat": 4,
 "nbformat_minor": 2
}
