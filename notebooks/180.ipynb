{
 "cells": [
  {
   "cell_type": "code",
   "execution_count": 37,
   "metadata": {},
   "outputs": [],
   "source": [
    "def f_1(n, x, y, z):\n",
    "    return x**(n + 1) + y**(n + 1) - z**(n + 1)\n",
    "def f_2(n, x, y, z):\n",
    "    return (x * y + y * z + z * x) * f_1(n - 2, x, y, z)\n",
    "def f_3(n, x, y, z):\n",
    "    return x * y * z * f_1(n - 3, x, y, z)\n",
    "def f_n(n, x, y, z):\n",
    "    return f_1(n, x, y, z) + f_2(n, x, y, z) - f_3(n, x, y, z)"
   ]
  },
  {
   "cell_type": "code",
   "execution_count": 38,
   "metadata": {},
   "outputs": [],
   "source": [
    "from fractions import Fraction"
   ]
  },
  {
   "cell_type": "code",
   "execution_count": 97,
   "metadata": {},
   "outputs": [
    {
     "data": {
      "text/plain": [
       "383"
      ]
     },
     "execution_count": 97,
     "metadata": {},
     "output_type": "execute_result"
    }
   ],
   "source": [
    "K = 35\n",
    "fractions = set()\n",
    "for a in range(1, K + 1):\n",
    "    for b in range(a + 1, K + 1):\n",
    "        fractions.add(Fraction(a, b))\n",
    "len(fractions)"
   ]
  },
  {
   "cell_type": "code",
   "execution_count": 81,
   "metadata": {},
   "outputs": [],
   "source": [
    "from tqdm import tqdm"
   ]
  },
  {
   "cell_type": "code",
   "execution_count": 85,
   "metadata": {},
   "outputs": [
    {
     "name": "stderr",
     "output_type": "stream",
     "text": [
      " 13%|█▎        | 4/31 [00:00<00:01, 13.93it/s]"
     ]
    },
    {
     "name": "stdout",
     "output_type": "stream",
     "text": [
      "1/2 1/2 1/4 -1\n",
      "1/2 1/4 3/4 1\n",
      "1/2 1/4 1/6 -1\n",
      "1/2 1/8 5/8 1\n",
      "1/2 1/8 1/10 -1\n",
      "1/2 3/4 3/10 -1\n",
      "1/2 3/8 5/8 2\n",
      "1/2 3/8 7/8 1\n",
      "1/2 3/8 3/10 -2\n",
      "1/2 1/5 7/10 1\n",
      "1/2 1/5 1/7 -1\n",
      "1/2 1/6 1/8 -1\n",
      "1/2 1/6 2/3 1\n",
      "1/2 2/3 2/5 -2\n",
      "1/2 2/3 5/6 2\n",
      "1/2 2/3 2/7 -1\n",
      "1/2 2/5 9/10 1\n",
      "1/2 2/5 2/9 -1\n",
      "1/2 1/10 3/5 1\n",
      "1/2 1/3 1/5 -1\n",
      "1/2 1/3 5/6 1\n",
      "1/2 3/10 4/5 1\n",
      "1/2 1/7 1/9 -1\n",
      "1/4 1/2 3/4 1\n",
      "1/4 1/2 1/6 -1\n",
      "1/4 1/4 1/2 1\n",
      "1/4 1/4 1/8 -1\n",
      "1/4 1/8 3/8 1\n",
      "1/4 3/8 5/8 1\n",
      "1/4 5/8 7/8 1\n",
      "1/4 1/5 1/9 -1\n",
      "1/4 1/6 1/10 -1\n",
      "1/4 1/3 1/5 -2\n",
      "1/4 1/3 1/7 -1\n",
      "1/8 1/2 5/8 1\n",
      "1/8 1/2 1/10 -1\n",
      "1/8 1/4 3/8 1\n",
      "1/8 1/8 1/4 1\n",
      "1/8 3/4 7/8 1\n",
      "1/8 3/8 1/2 1\n",
      "1/8 5/8 3/4 1\n",
      "1/8 1/6 1/10 -2\n",
      "3/4 1/2 3/10 -1\n",
      "3/4 1/8 7/8 1\n",
      "3/4 3/4 3/8 -1\n",
      "3/4 3/8 1/4 -1\n",
      "3/4 6/7 2/5 -1\n",
      "3/4 3/5 1/3 -1\n"
     ]
    },
    {
     "name": "stderr",
     "output_type": "stream",
     "text": [
      " 26%|██▌       | 8/31 [00:00<00:01, 13.75it/s]"
     ]
    },
    {
     "name": "stdout",
     "output_type": "stream",
     "text": [
      "3/8 1/2 5/8 2\n",
      "3/8 1/2 7/8 1\n",
      "3/8 1/2 3/10 -2\n",
      "3/8 1/4 5/8 1\n",
      "3/8 1/8 1/2 1\n",
      "3/8 3/4 1/4 -1\n",
      "3/8 3/8 3/4 1\n",
      "3/8 3/7 1/5 -1\n",
      "3/8 3/10 1/6 -1\n",
      "5/8 1/4 7/8 1\n",
      "5/8 1/8 3/4 1\n",
      "5/8 5/7 1/3 -1\n",
      "5/8 5/6 1/2 -2\n",
      "8/9 8/9 4/9 -1\n",
      "6/7 3/4 2/5 -1\n",
      "6/7 6/7 3/7 -1\n",
      "6/7 2/3 3/8 -1\n",
      "6/7 3/7 2/7 -1\n",
      "6/7 3/10 2/9 -1\n",
      "1/5 1/2 7/10 1\n",
      "1/5 1/2 1/7 -1\n",
      "1/5 1/4 1/9 -1\n",
      "1/5 1/5 2/5 1\n",
      "1/5 1/5 1/10 -1\n",
      "1/5 7/10 9/10 1\n",
      "1/5 2/5 3/5 1\n",
      "1/5 1/10 3/10 1\n",
      "1/5 3/5 4/5 1\n",
      "1/5 1/3 1/8 -1\n",
      "1/5 3/10 1/2 1\n"
     ]
    },
    {
     "name": "stderr",
     "output_type": "stream",
     "text": [
      " 39%|███▊      | 12/31 [00:00<00:01, 13.73it/s]"
     ]
    },
    {
     "name": "stdout",
     "output_type": "stream",
     "text": [
      "7/10 1/5 9/10 1\n",
      "7/10 1/10 4/5 1\n",
      "7/9 1/9 8/9 1\n",
      "5/7 5/8 1/3 -1\n",
      "5/7 1/7 6/7 1\n",
      "1/6 1/2 1/8 -1\n",
      "1/6 1/2 2/3 1\n",
      "1/6 1/4 1/10 -1\n",
      "1/6 1/8 1/10 -2\n",
      "1/6 1/6 1/3 1\n",
      "1/6 2/3 5/6 1\n",
      "1/6 1/3 1/2 1\n",
      "1/6 1/3 1/9 -1\n"
     ]
    },
    {
     "name": "stderr",
     "output_type": "stream",
     "text": [
      " 52%|█████▏    | 16/31 [00:01<00:01, 13.93it/s]"
     ]
    },
    {
     "name": "stdout",
     "output_type": "stream",
     "text": [
      "2/3 1/2 2/5 -2\n",
      "2/3 1/2 5/6 2\n",
      "2/3 1/2 2/7 -1\n",
      "2/3 6/7 3/8 -1\n",
      "2/3 1/6 5/6 1\n",
      "2/3 2/3 1/3 -1\n",
      "2/3 2/5 1/4 -1\n",
      "2/3 1/3 2/9 -1\n",
      "2/3 2/7 1/5 -1\n",
      "2/3 2/9 8/9 1\n",
      "2/3 2/9 1/6 -1\n",
      "2/3 1/9 7/9 1\n",
      "2/5 1/2 9/10 1\n",
      "2/5 1/2 2/9 -1\n",
      "2/5 1/5 3/5 1\n",
      "2/5 2/3 1/4 -1\n",
      "2/5 2/5 1/5 -1\n",
      "2/5 2/5 4/5 1\n",
      "2/5 1/10 1/2 1\n",
      "2/5 2/7 1/6 -1\n",
      "2/5 2/9 1/7 -1\n",
      "2/5 3/10 1/2 2\n",
      "2/5 3/10 7/10 1\n",
      "4/7 4/7 2/7 -1\n",
      "4/7 4/9 1/4 -1\n",
      "4/7 3/7 5/7 2\n",
      "4/7 2/7 6/7 1\n",
      "4/7 4/5 1/3 -1\n",
      "4/7 1/7 5/7 1\n"
     ]
    },
    {
     "name": "stderr",
     "output_type": "stream",
     "text": [
      " 65%|██████▍   | 20/31 [00:01<00:00, 13.42it/s]"
     ]
    },
    {
     "name": "stdout",
     "output_type": "stream",
     "text": [
      "5/9 1/3 8/9 1\n",
      "5/9 5/6 1/3 -1\n",
      "5/9 2/9 7/9 1\n",
      "5/9 1/9 2/3 1\n",
      "4/9 4/7 1/4 -1\n",
      "4/9 4/9 8/9 1\n",
      "4/9 4/9 2/9 -1\n",
      "4/9 1/3 7/9 1\n",
      "4/9 1/3 5/9 2\n",
      "4/9 2/9 2/3 1\n",
      "4/9 4/5 2/7 -1\n",
      "4/9 1/9 5/9 1\n",
      "3/7 3/8 1/5 -1\n",
      "3/7 6/7 2/7 -1\n",
      "3/7 4/7 5/7 2\n",
      "3/7 3/7 6/7 1\n",
      "3/7 3/5 1/4 -1\n",
      "3/7 2/7 5/7 1\n",
      "3/7 1/7 4/7 1\n",
      "1/10 1/2 3/5 1\n",
      "1/10 1/5 3/10 1\n",
      "1/10 7/10 4/5 1\n",
      "1/10 2/5 1/2 1\n",
      "1/10 1/10 1/5 1\n",
      "1/10 3/5 7/10 1\n"
     ]
    },
    {
     "name": "stderr",
     "output_type": "stream",
     "text": [
      " 77%|███████▋  | 24/31 [00:01<00:00, 13.77it/s]"
     ]
    },
    {
     "name": "stdout",
     "output_type": "stream",
     "text": [
      "1/10 3/10 2/5 1\n",
      "1/10 4/5 9/10 1\n",
      "3/5 3/4 1/3 -1\n",
      "3/5 1/5 4/5 1\n",
      "3/5 3/7 1/4 -1\n",
      "3/5 1/10 7/10 1\n",
      "3/5 3/5 3/10 -1\n",
      "3/5 3/10 1/5 -1\n",
      "3/5 3/10 9/10 1\n",
      "1/3 1/2 1/5 -1\n",
      "1/3 1/2 5/6 1\n",
      "1/3 1/4 1/5 -2\n",
      "1/3 1/4 1/7 -1\n",
      "1/3 1/5 1/8 -1\n",
      "1/3 1/6 1/2 1\n",
      "1/3 1/6 1/9 -1\n",
      "1/3 2/3 2/9 -1\n",
      "1/3 5/9 8/9 1\n",
      "1/3 4/9 7/9 1\n",
      "1/3 4/9 5/9 2\n",
      "1/3 1/3 1/6 -1\n",
      "1/3 1/3 2/3 1\n",
      "1/3 2/9 5/9 1\n",
      "1/3 1/7 1/10 -1\n",
      "1/3 1/9 4/9 1\n",
      "5/6 5/8 1/2 -2\n",
      "5/6 5/9 1/3 -1\n",
      "2/7 2/3 1/5 -1\n",
      "2/7 2/5 1/6 -1\n",
      "2/7 4/7 6/7 1\n",
      "2/7 3/7 5/7 1\n",
      "2/7 2/7 4/7 1\n",
      "2/7 2/7 1/7 -1\n",
      "2/7 2/9 1/8 -1\n"
     ]
    },
    {
     "name": "stderr",
     "output_type": "stream",
     "text": [
      " 90%|█████████ | 28/31 [00:02<00:00, 13.74it/s]"
     ]
    },
    {
     "name": "stdout",
     "output_type": "stream",
     "text": [
      "2/7 1/7 3/7 1\n",
      "2/9 2/3 8/9 1\n",
      "2/9 2/3 1/6 -1\n",
      "2/9 2/5 1/7 -1\n",
      "2/9 5/9 7/9 1\n",
      "2/9 4/9 2/3 1\n",
      "2/9 1/3 5/9 1\n",
      "2/9 2/7 1/8 -1\n",
      "2/9 2/9 4/9 1\n",
      "2/9 2/9 1/9 -1\n",
      "2/9 1/9 1/3 1\n",
      "3/10 1/2 4/5 1\n",
      "3/10 3/8 1/6 -1\n",
      "3/10 6/7 2/9 -1\n",
      "3/10 1/5 1/2 1\n",
      "3/10 2/5 1/2 2\n",
      "3/10 2/5 7/10 1\n",
      "3/10 1/10 2/5 1\n",
      "3/10 3/5 1/5 -1\n",
      "3/10 3/5 9/10 1\n",
      "3/10 3/10 3/5 1\n",
      "4/5 4/7 1/3 -1\n",
      "4/5 4/9 2/7 -1\n",
      "4/5 1/10 9/10 1\n"
     ]
    },
    {
     "name": "stderr",
     "output_type": "stream",
     "text": [
      "100%|██████████| 31/31 [00:02<00:00, 13.76it/s]"
     ]
    },
    {
     "name": "stdout",
     "output_type": "stream",
     "text": [
      "4/5 4/5 2/5 -1\n",
      "1/7 1/2 1/9 -1\n",
      "1/7 5/7 6/7 1\n",
      "1/7 4/7 5/7 1\n",
      "1/7 3/7 4/7 1\n",
      "1/7 1/3 1/10 -1\n",
      "1/7 2/7 3/7 1\n",
      "1/7 1/7 2/7 1\n",
      "1/9 7/9 8/9 1\n",
      "1/9 2/3 7/9 1\n",
      "1/9 5/9 2/3 1\n",
      "1/9 4/9 5/9 1\n",
      "1/9 1/3 4/9 1\n",
      "1/9 2/9 1/3 1\n",
      "1/9 1/9 2/9 1\n"
     ]
    },
    {
     "name": "stderr",
     "output_type": "stream",
     "text": [
      "\n"
     ]
    }
   ],
   "source": [
    "good = set()\n",
    "for x in tqdm(fractions):\n",
    "    for y in fractions:\n",
    "        for z in fractions:\n",
    "            for n in range(-2, 3):\n",
    "                if (f_n(n, x, y, z) == 0):\n",
    "                    good.add(x + y + z)\n",
    "                    print(x, y, z, n)"
   ]
  },
  {
   "cell_type": "code",
   "execution_count": 86,
   "metadata": {},
   "outputs": [
    {
     "data": {
      "text/plain": [
       "12519"
      ]
     },
     "execution_count": 86,
     "metadata": {},
     "output_type": "execute_result"
    }
   ],
   "source": [
    "tot = 0\n",
    "for e in good:\n",
    "    tot += e\n",
    "tot.numerator + tot.denominator"
   ]
  },
  {
   "cell_type": "code",
   "execution_count": 22,
   "metadata": {},
   "outputs": [],
   "source": [
    "def get_square(x):\n",
    "    l = int(x**0.5)\n",
    "    if l * l == x:\n",
    "        return l\n",
    "    elif (l + 1) * (l + 1) == x:\n",
    "        return l + 1\n",
    "    assert(False)"
   ]
  },
  {
   "cell_type": "code",
   "execution_count": 27,
   "metadata": {},
   "outputs": [],
   "source": [
    "def is_square(x):\n",
    "    if x < 0:\n",
    "        return False\n",
    "    l = int(x**0.5)\n",
    "    return l * l == x or (l + 1) * (l + 1) == x "
   ]
  },
  {
   "cell_type": "code",
   "execution_count": 28,
   "metadata": {},
   "outputs": [],
   "source": [
    "def is_sq(f):\n",
    "    return is_square(f.numerator) and is_square(f.denominator)"
   ]
  },
  {
   "cell_type": "code",
   "execution_count": 29,
   "metadata": {},
   "outputs": [
    {
     "data": {
      "text/plain": [
       "(True, False)"
      ]
     },
     "execution_count": 29,
     "metadata": {},
     "output_type": "execute_result"
    }
   ],
   "source": [
    "is_sq(Fraction(1, 4)), is_sq(Fraction(1, -4))"
   ]
  },
  {
   "cell_type": "code",
   "execution_count": 98,
   "metadata": {},
   "outputs": [],
   "source": [
    "K = 35\n",
    "def in_range(f: Fraction):\n",
    "    return 0 < f.numerator < f.denominator <= K "
   ]
  },
  {
   "cell_type": "code",
   "execution_count": 99,
   "metadata": {},
   "outputs": [
    {
     "name": "stderr",
     "output_type": "stream",
     "text": [
      "100%|██████████| 383/383 [00:04<00:00, 80.56it/s]\n"
     ]
    }
   ],
   "source": [
    "s = set()\n",
    "for x in tqdm(fractions):\n",
    "    for y in fractions:\n",
    "        # n = 1\n",
    "        xy_sq = (x + y)**2\n",
    "        if is_sq(xy_sq):\n",
    "            z = Fraction(get_square(xy_sq.numerator), get_square(xy_sq.denominator))\n",
    "            if in_range(z):\n",
    "                s.add(x + y + z)\n",
    "        # n = -1\n",
    "        # Let z = x\n",
    "        a, b, c = x - y, y * x + x**2 - y**2, x * y**2 + y * x**2\n",
    "        r = b**2 - 4 * a * c\n",
    "        if is_sq(r):\n",
    "            r_sqr = z = Fraction(get_square(r.numerator), get_square(r.denominator))\n",
    "            if a != 0:\n",
    "                fir = (-b + r_sqr) / (2 * a)\n",
    "                sec = (-b - r_sqr) / (2 * a)\n",
    "                for z in [fir, sec]:\n",
    "                    if in_range(z):\n",
    "                        s.add(x + y + z)\n",
    "        # n = -2\n",
    "        inv = 1 / ((1 / x**2) + (1 / y**2))\n",
    "        if is_sq(inv):\n",
    "            z = Fraction(get_square(inv.numerator), get_square(inv.denominator))\n",
    "            if in_range(z):\n",
    "                s.add(x + y + z)\n",
    "        # n = 2\n",
    "        z_sq = x**2 + y**2\n",
    "        if is_sq(z_sq):\n",
    "            z = Fraction(get_square(z_sq.numerator), get_square(z_sq.denominator))\n",
    "            if in_range(z):\n",
    "                s.add(x + y + z)"
   ]
  },
  {
   "cell_type": "code",
   "execution_count": 101,
   "metadata": {},
   "outputs": [
    {
     "data": {
      "text/plain": [
       "285196020571078987"
      ]
     },
     "execution_count": 101,
     "metadata": {},
     "output_type": "execute_result"
    }
   ],
   "source": [
    "tot = 0\n",
    "for e in s:\n",
    "    tot += e\n",
    "tot.numerator + tot.denominator"
   ]
  },
  {
   "cell_type": "code",
   "execution_count": 88,
   "metadata": {},
   "outputs": [
    {
     "name": "stdout",
     "output_type": "stream",
     "text": [
      "Not in good: 13/8\n",
      "Not in s: 7/4\n",
      "Not in s: 3/4\n",
      "Not in s: 61/42\n",
      "Not in s: 59/70\n",
      "Not in s: 1/2\n",
      "Not in s: 15/8\n",
      "Not in s: 101/180\n",
      "Not in s: 241/315\n",
      "Not in s: 482/315\n",
      "Not in s: 47/120\n",
      "Not in s: 121/210\n",
      "Not in s: 101/120\n",
      "Not in s: 6/7\n",
      "Not in s: 101/90\n",
      "Not in s: 16/9\n",
      "Not in s: 5/7\n",
      "Not in s: 12/7\n",
      "Not in s: 11/12\n",
      "Not in s: 19/24\n",
      "Not in s: 2/3\n",
      "Not in s: 2/5\n",
      "Not in s: 4/7\n",
      "Not in s: 11/7\n",
      "Not in s: 19/18\n",
      "Not in s: 179/210\n",
      "Not in s: 5/9\n",
      "Not in s: 319/168\n",
      "Not in s: 319/504\n",
      "Not in s: 61/84\n",
      "Not in s: 4/9\n",
      "Not in s: 10/7\n",
      "Not in s: 29/40\n",
      "Not in s: 3/5\n",
      "Not in s: 47/24\n",
      "Not in s: 5/6\n",
      "Not in s: 869/630\n",
      "Not in s: 95/126\n",
      "Not in s: 281/280\n",
      "Not in s: 11/9\n",
      "Not in s: 31/18\n",
      "Not in s: 31/20\n",
      "Not in s: 47/40\n",
      "Not in s: 8/7\n",
      "Not in s: 15/7\n",
      "Not in s: 79/120\n",
      "Not in s: 11/18\n",
      "Not in s: 10/9\n",
      "Not in s: 31/60\n",
      "Not in s: 281/168\n",
      "Not in s: 319/252\n"
     ]
    }
   ],
   "source": [
    "for e in s:\n",
    "    if e not in good:\n",
    "        print(\"Not in good:\", e)\n",
    "for e in good:\n",
    "    if e not in s:\n",
    "        print(\"Not in s:\", e)"
   ]
  }
 ],
 "metadata": {
  "kernelspec": {
   "display_name": "Python 3",
   "language": "python",
   "name": "python3"
  },
  "language_info": {
   "codemirror_mode": {
    "name": "ipython",
    "version": 3
   },
   "file_extension": ".py",
   "mimetype": "text/x-python",
   "name": "python",
   "nbconvert_exporter": "python",
   "pygments_lexer": "ipython3",
   "version": "3.12.4"
  }
 },
 "nbformat": 4,
 "nbformat_minor": 2
}
