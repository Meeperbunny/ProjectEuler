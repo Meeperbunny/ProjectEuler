{
 "cells": [
  {
   "cell_type": "code",
   "execution_count": 104,
   "id": "259b8470",
   "metadata": {},
   "outputs": [],
   "source": [
    "m = 7\n",
    "mod = 1000000000"
   ]
  },
  {
   "cell_type": "code",
   "execution_count": 105,
   "id": "4d99853d",
   "metadata": {},
   "outputs": [
    {
     "data": {
      "text/plain": [
       "13"
      ]
     },
     "execution_count": 105,
     "metadata": {},
     "output_type": "execute_result"
    }
   ],
   "source": [
    "fib = [0, 1]\n",
    "while len(fib) <= m:\n",
    "    fib.append(fib[-1] + fib[-2])\n",
    "fib[m]"
   ]
  },
  {
   "cell_type": "code",
   "execution_count": 106,
   "id": "dcbf643d",
   "metadata": {},
   "outputs": [],
   "source": [
    "sieve = [1 for _ in range(fib[m] + 1)]\n",
    "primes = []\n",
    "for i in range(2, fib[m] + 1):\n",
    "    if sieve[i]:\n",
    "        primes.append(i)\n",
    "        for q in range(i * 2, fib[m] + 1, i):\n",
    "            sieve[q] = 0"
   ]
  },
  {
   "cell_type": "code",
   "execution_count": 107,
   "id": "c455fca2",
   "metadata": {},
   "outputs": [],
   "source": [
    "ans = [0 for _ in range(fib[m] + 1)]\n",
    "ans[0] = 1\n",
    "for p in primes:\n",
    "    for i in range(p, fib[m] + 1):\n",
    "        ans[i] = (ans[i] + ans[i - p] * p) % mod"
   ]
  },
  {
   "cell_type": "code",
   "execution_count": 108,
   "id": "8898a579",
   "metadata": {},
   "outputs": [
    {
     "data": {
      "text/plain": [
       "[1, 0, 2, 3, 4, 11, 17, 29, 49, 85, 144, 226, 404, 603]"
      ]
     },
     "execution_count": 108,
     "metadata": {},
     "output_type": "execute_result"
    }
   ],
   "source": [
    "ans"
   ]
  },
  {
   "cell_type": "code",
   "execution_count": 110,
   "id": "ae820c17",
   "metadata": {},
   "outputs": [
    {
     "data": {
      "text/plain": [
       "668"
      ]
     },
     "execution_count": 110,
     "metadata": {},
     "output_type": "execute_result"
    }
   ],
   "source": [
    "sum([ans[fib[i]] for i in range(2, m + 1)]) % mod"
   ]
  },
  {
   "cell_type": "code",
   "execution_count": null,
   "id": "44a1a0e1",
   "metadata": {},
   "outputs": [],
   "source": []
  },
  {
   "cell_type": "code",
   "execution_count": null,
   "id": "81f59b2d",
   "metadata": {},
   "outputs": [],
   "source": []
  },
  {
   "cell_type": "code",
   "execution_count": null,
   "id": "8cad6621",
   "metadata": {},
   "outputs": [],
   "source": []
  },
  {
   "cell_type": "code",
   "execution_count": null,
   "id": "34dcbbc1",
   "metadata": {},
   "outputs": [],
   "source": [
    "m = 2\n",
    "mod = 1000000000\n",
    "\n",
    "fib = [0, 1]\n",
    "while len(fib) <= m:\n",
    "    fib.append(fib[-1] + fib[-2])\n",
    "fib[m]\n",
    "\n",
    "sieve = [1 for _ in range(fib[m] + 1)]\n",
    "primes = []\n",
    "for i in range(2, fib[m] + 1):\n",
    "    if sieve[i]:\n",
    "        primes.append(i)\n",
    "        for q in range(i * 2, fib[m] + 1, i):\n",
    "            sieve[q] = 0\n",
    "\n",
    "ans = [0 for _ in range(fib[m] + 1)]\n",
    "ans[0] = 1\n",
    "for p in primes:\n",
    "    for i in range(p, fib[m] + 1):\n",
    "        ans[i] = (ans[i] + ans[i - p] * p) % mod\n",
    "\n",
    "sum([ans[fib[i]] for i in range(2, m + 1)]) % mod"
   ]
  },
  {
   "cell_type": "code",
   "execution_count": null,
   "id": "cdb9e194",
   "metadata": {},
   "outputs": [],
   "source": []
  }
 ],
 "metadata": {
  "kernelspec": {
   "display_name": "Python 3 (ipykernel)",
   "language": "python",
   "name": "python3"
  },
  "language_info": {
   "codemirror_mode": {
    "name": "ipython",
    "version": 3
   },
   "file_extension": ".py",
   "mimetype": "text/x-python",
   "name": "python",
   "nbconvert_exporter": "python",
   "pygments_lexer": "ipython3",
   "version": "3.10.6"
  }
 },
 "nbformat": 4,
 "nbformat_minor": 5
}
