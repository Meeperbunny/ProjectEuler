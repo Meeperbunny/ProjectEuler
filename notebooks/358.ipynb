{
 "cells": [
  {
   "cell_type": "code",
   "execution_count": 5,
   "metadata": {},
   "outputs": [
    {
     "name": "stdout",
     "output_type": "stream",
     "text": [
      "00056789\n",
      "00113578\n",
      "00170367\n",
      "00227156\n",
      "00283945\n",
      "00340734\n",
      "00397523\n",
      "00454312\n",
      "00511101\n",
      "00567890\n",
      "00624679\n",
      "00681468\n",
      "00738257\n",
      "00795046\n",
      "00851835\n",
      "00908624\n"
     ]
    }
   ],
   "source": [
    "num = 56789\n",
    "for i in range(1, 16 + 1):\n",
    "    s = str(num * i)\n",
    "    s = (8 - len(s)) * \"0\" + s\n",
    "    print(s)"
   ]
  },
  {
   "cell_type": "code",
   "execution_count": 41,
   "metadata": {},
   "outputs": [],
   "source": [
    "def smult(s, c):\n",
    "    r = str(int(s) * c)\n",
    "    r = \"0\" * (len(s) - len(r)) + r\n",
    "    return r"
   ]
  },
  {
   "cell_type": "code",
   "execution_count": null,
   "metadata": {},
   "outputs": [],
   "source": [
    "def isprime(k):\n",
    "    for i in range(2, k):\n",
    "        if i * i > k:\n",
    "            break\n",
    "        if k % i == 0:\n",
    "            return False\n",
    "    return True"
   ]
  },
  {
   "cell_type": "code",
   "execution_count": null,
   "metadata": {},
   "outputs": [],
   "source": [
    "def last_digits(p):\n",
    "    b = 1\n",
    "    digits = []\n",
    "    for i in range(p - 1):\n",
    "        b *= 10\n",
    "        c = b // p\n",
    "        digits.append(c)\n",
    "        b -= c * p\n",
    "    return digits"
   ]
  },
  {
   "cell_type": "code",
   "execution_count": null,
   "metadata": {},
   "outputs": [
    {
     "name": "stdout",
     "output_type": "stream",
     "text": [
      "72\n"
     ]
    }
   ],
   "source": [
    "def last_digits(p):\n",
    "    b = 1\n",
    "    digits = []\n",
    "    for i in range(p - 1):\n",
    "        b *= 10\n",
    "        c = b // p\n",
    "        digits.append(c)\n",
    "        b -= c * p\n",
    "    return digits\n",
    "\n",
    "for k in range(720009891, 729909891 + 1):\n",
    "    if k % 100000 != 9891:\n",
    "        continue\n",
    "    if isprime(k):\n",
    "        dl = last_digits(k)\n",
    "        if dl[-5:] == [5, 6, 7, 8, 9]:\n",
    "            print(sum(dl))"
   ]
  },
  {
   "cell_type": "code",
   "execution_count": null,
   "metadata": {},
   "outputs": [],
   "source": [
    "def isprime(k):\n",
    "    for i in range(2, k):\n",
    "        if i * i > k:\n",
    "            break\n",
    "        if k % i == 0:\n",
    "            return False\n",
    "    return True\n",
    "\n",
    "def last_digits(p):\n",
    "    b = 1\n",
    "    digits = []\n",
    "    for i in range(p - 1):\n",
    "        b *= 10\n",
    "        c = b // p\n",
    "        digits.append(c)\n",
    "        b -= c * p\n",
    "    return digits\n",
    "\n",
    "def last_digits(p):\n",
    "    b = 1\n",
    "    digits = []\n",
    "    for i in range(p - 1):\n",
    "        b *= 10\n",
    "        c = b // p\n",
    "        digits.append(c)\n",
    "        b -= c * p\n",
    "    return digits\n",
    "\n",
    "for k in range(720009891, 729909891 + 1):\n",
    "    if k % 100000 == 9891:\n",
    "        if isprime(k):\n",
    "            print(\"Checking\", k)\n",
    "            dl = last_digits(k)\n",
    "            if dl[-5:] == [5, 6, 7, 8, 9]:\n",
    "                print(sum(dl))"
   ]
  },
  {
   "cell_type": "code",
   "execution_count": 213,
   "metadata": {},
   "outputs": [
    {
     "data": {
      "text/plain": [
       "('986413550670', '992893639689')"
      ]
     },
     "execution_count": 213,
     "metadata": {},
     "output_type": "execute_result"
    }
   ],
   "source": [
    "X = 720009891\n",
    "smult(\"000000001370\", X), smult(\"000000001379\", X)"
   ]
  },
  {
   "cell_type": "code",
   "execution_count": 40,
   "metadata": {},
   "outputs": [
    {
     "data": {
      "text/plain": [
       "9999999999999999"
      ]
     },
     "execution_count": 40,
     "metadata": {},
     "output_type": "execute_result"
    }
   ],
   "source": [
    "588235294117647 * 17"
   ]
  },
  {
   "cell_type": "code",
   "execution_count": null,
   "metadata": {},
   "outputs": [],
   "source": [
    "\"0000000006X\"\n",
    "\"00000000137\"\n",
    "\"00000000274\"\n"
   ]
  }
 ],
 "metadata": {
  "kernelspec": {
   "display_name": "Python 3",
   "language": "python",
   "name": "python3"
  },
  "language_info": {
   "codemirror_mode": {
    "name": "ipython",
    "version": 3
   },
   "file_extension": ".py",
   "mimetype": "text/x-python",
   "name": "python",
   "nbconvert_exporter": "python",
   "pygments_lexer": "ipython3",
   "version": "3.12.4"
  }
 },
 "nbformat": 4,
 "nbformat_minor": 2
}
