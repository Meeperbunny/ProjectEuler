{
 "cells": [
  {
   "cell_type": "code",
   "execution_count": 3,
   "metadata": {},
   "outputs": [
    {
     "data": {
      "text/plain": [
       "1.4142135623730951"
      ]
     },
     "execution_count": 3,
     "metadata": {},
     "output_type": "execute_result"
    }
   ],
   "source": [
    "r2 = 2**0.5\n",
    "r2"
   ]
  },
  {
   "cell_type": "code",
   "execution_count": 21,
   "metadata": {},
   "outputs": [],
   "source": [
    "def first_player_wins(l):\n",
    "    if l < 1:\n",
    "        return False\n",
    "    if l < 2 + r2:\n",
    "        return True\n",
    "    if l < 3 + r2:\n",
    "        return False"
   ]
  },
  {
   "cell_type": "code",
   "execution_count": 22,
   "metadata": {},
   "outputs": [],
   "source": [
    "import numpy as np"
   ]
  },
  {
   "cell_type": "code",
   "execution_count": 41,
   "metadata": {},
   "outputs": [
    {
     "name": "stdout",
     "output_type": "stream",
     "text": [
      "1.1197483999636655\n"
     ]
    }
   ],
   "source": [
    "\n",
    "T = 0\n",
    "sz = 4\n",
    "for S in [1.0, r2]:\n",
    "    rb = sz - S\n",
    "    I = 10000000\n",
    "    for ls in np.linspace(0, rb, I):\n",
    "        # print(ls)\n",
    "        L = ls\n",
    "        R = 4 - (ls + S)\n",
    "        if not (first_player_wins(L) ^ first_player_wins(R)):\n",
    "            T += 1 / (2 * I)\n",
    "        else:\n",
    "            T += 0\n",
    "print(sz * T)"
   ]
  },
  {
   "cell_type": "code",
   "execution_count": 43,
   "metadata": {},
   "outputs": [],
   "source": [
    "from collections import OrderedDict"
   ]
  },
  {
   "cell_type": "code",
   "execution_count": 44,
   "metadata": {},
   "outputs": [],
   "source": [
    "from random import random"
   ]
  },
  {
   "cell_type": "code",
   "execution_count": 50,
   "metadata": {},
   "outputs": [
    {
     "name": "stdout",
     "output_type": "stream",
     "text": [
      "0.7477403933271094 0.4950905450992831\n",
      "0.29425349341460294 0.07798979926861971\n",
      "0.661872333873817 0.0053724033133439875\n",
      "0.847051692186402 0.20804972017687706\n",
      "0.5371039947680885 0.16233097474002756\n",
      "0.8110657890675611 0.2931450812943006\n",
      "0.21898472471107322 0.3912273488409356\n",
      "0.484288858154835 0.8844462805272343\n",
      "0.6891193864459524 0.17442797085031214\n",
      "0.8215608387487406 0.6662635431269438\n"
     ]
    }
   ],
   "source": [
    "D = OrderedDict()\n",
    "for i in range(10):\n",
    "    D[random()] = random()\n",
    "for key, value in D.items():\n",
    "    print(key, value)"
   ]
  }
 ],
 "metadata": {
  "kernelspec": {
   "display_name": "Python 3",
   "language": "python",
   "name": "python3"
  },
  "language_info": {
   "codemirror_mode": {
    "name": "ipython",
    "version": 3
   },
   "file_extension": ".py",
   "mimetype": "text/x-python",
   "name": "python",
   "nbconvert_exporter": "python",
   "pygments_lexer": "ipython3",
   "version": "3.12.4"
  }
 },
 "nbformat": 4,
 "nbformat_minor": 2
}
