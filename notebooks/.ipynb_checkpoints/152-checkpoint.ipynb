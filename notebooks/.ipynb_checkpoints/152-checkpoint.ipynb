{
 "cells": [
  {
   "cell_type": "code",
   "execution_count": 72,
   "id": "6eb2f707-24bf-41ae-b5a8-1b3d529ea198",
   "metadata": {},
   "outputs": [],
   "source": [
    "import itertools\n",
    "from math import lcm\n",
    "from collections import Counter"
   ]
  },
  {
   "cell_type": "code",
   "execution_count": 73,
   "id": "658bdd15-83b8-4347-a0fe-4b920b98ddb0",
   "metadata": {},
   "outputs": [],
   "source": [
    "maxn = 45"
   ]
  },
  {
   "cell_type": "code",
   "execution_count": 60,
   "id": "0a57f52a-15bc-4116-a168-7aaedccee207",
   "metadata": {},
   "outputs": [],
   "source": [
    "def gen_primes(n):\n",
    "    sieve = [1 for _ in range(n + 1)]\n",
    "    primes = []\n",
    "    for i in range(2, n + 1):\n",
    "        if sieve[i]:\n",
    "            primes.append(i)\n",
    "            for q in range(2 * i, n + 1, i):\n",
    "                sieve[q] = 0\n",
    "    return primes"
   ]
  },
  {
   "cell_type": "code",
   "execution_count": 61,
   "id": "3ddb29d2-94ff-4a1c-8ede-47461a498c35",
   "metadata": {
    "scrolled": true
   },
   "outputs": [
    {
     "data": {
      "text/plain": [
       "[2,\n",
       " 3,\n",
       " 5,\n",
       " 7,\n",
       " 11,\n",
       " 13,\n",
       " 17,\n",
       " 19,\n",
       " 23,\n",
       " 29,\n",
       " 31,\n",
       " 37,\n",
       " 41,\n",
       " 43,\n",
       " 47,\n",
       " 53,\n",
       " 59,\n",
       " 61,\n",
       " 67,\n",
       " 71,\n",
       " 73,\n",
       " 79]"
      ]
     },
     "execution_count": 61,
     "metadata": {},
     "output_type": "execute_result"
    }
   ],
   "source": [
    "primes = gen_primes(maxn)\n",
    "primes"
   ]
  },
  {
   "cell_type": "code",
   "execution_count": 62,
   "id": "03d7bc18-adfb-427e-b08b-8ced8813c2f2",
   "metadata": {},
   "outputs": [],
   "source": [
    "def get_groups(p, n, plist):\n",
    "    cands = list(range(p, n + 1, p))\n",
    "    cands = [e for e in cands if e in plist]\n",
    "    valid_cands = []\n",
    "    for n_g in range(2, len(cands) + 1):\n",
    "        for cand in itertools.combinations(cands, n_g):\n",
    "            n, d = 0, 1\n",
    "            for el in cand:\n",
    "                n = d + el * el * n\n",
    "                d = d * el * el\n",
    "            if n % pow(p, 2 * len(cand)) == 0:\n",
    "                # print(n, d, cand)\n",
    "                valid_cands.append(cand)\n",
    "    return valid_cands\n",
    "# _ = get_groups(7, maxn)"
   ]
  },
  {
   "cell_type": "code",
   "execution_count": 64,
   "id": "16cb3aee-53f4-462e-b6c5-25da28e03f16",
   "metadata": {},
   "outputs": [
    {
     "name": "stdout",
     "output_type": "stream",
     "text": [
      "79 0 True\n",
      "73 0 True\n",
      "71 0 True\n",
      "67 0 True\n",
      "61 0 True\n",
      "59 0 True\n",
      "53 0 True\n",
      "47 0 True\n",
      "43 0 True\n",
      "41 0 True\n",
      "37 0 True\n",
      "31 0 True\n",
      "29 0 True\n",
      "23 0 True\n",
      "19 0 True\n",
      "17 0 True\n",
      "13 1 False\n",
      "11 0 False\n",
      "7 23 False\n",
      "5 33130 False\n",
      "3 8097335 False\n",
      "CPU times: total: 12.5 s\n",
      "Wall time: 12.5 s\n"
     ]
    }
   ],
   "source": [
    "%%time\n",
    "g = {}\n",
    "n_list = list(range(2, maxn + 1))\n",
    "\n",
    "fnd = False\n",
    "\n",
    "for p in reversed(primes[1:]):\n",
    "    groups = get_groups(p, maxn, n_list)\n",
    "    g[p] = groups\n",
    "    opr = False\n",
    "    if not len(groups) and not fnd:\n",
    "        opr = True\n",
    "        for el in range(p, maxn + 1, p):\n",
    "            if el in n_list:\n",
    "                n_list.remove(el)\n",
    "    else:\n",
    "        opr = False\n",
    "        fnd = True\n",
    "    print(p, len(groups), opr)\n"
   ]
  },
  {
   "cell_type": "code",
   "execution_count": 65,
   "id": "872dc051-587e-4ed6-816a-ab94e8cc18d4",
   "metadata": {},
   "outputs": [
    {
     "data": {
      "text/plain": [
       "52"
      ]
     },
     "execution_count": 65,
     "metadata": {},
     "output_type": "execute_result"
    }
   ],
   "source": [
    "len(n_list)"
   ]
  },
  {
   "cell_type": "code",
   "execution_count": 66,
   "id": "dbcb890d-b265-48e5-86a1-4804c274d765",
   "metadata": {},
   "outputs": [],
   "source": [
    "from math import lcm\n",
    "from collections import Counter"
   ]
  },
  {
   "cell_type": "code",
   "execution_count": 67,
   "id": "0dce7305-ea28-4291-8c2b-32d2b440e6c7",
   "metadata": {},
   "outputs": [],
   "source": [
    "l_a = 1\n",
    "for e in n_list:\n",
    "    l_a = lcm(l_a, e * e)\n",
    "l_a\n",
    "tar = l_a // 2"
   ]
  },
  {
   "cell_type": "code",
   "execution_count": 68,
   "id": "10f0e8fa-3572-4a8e-9a32-157d2d5a8a74",
   "metadata": {},
   "outputs": [],
   "source": [
    "n_list_f, n_list_s = n_list[:len(n_list)//2], n_list[len(n_list)//2:]\n",
    "# n_list_f, n_list_s"
   ]
  },
  {
   "cell_type": "code",
   "execution_count": 69,
   "id": "d2cb2a5c-bc95-4b5e-a946-280e0bd52819",
   "metadata": {},
   "outputs": [
    {
     "name": "stdout",
     "output_type": "stream",
     "text": [
      "2\n",
      "3\n",
      "4\n",
      "5\n",
      "6\n",
      "7\n",
      "8\n",
      "9\n",
      "10\n",
      "11\n",
      "12\n",
      "13\n",
      "14\n",
      "15\n",
      "16\n",
      "18\n",
      "20\n",
      "21\n",
      "22\n",
      "24\n",
      "25\n",
      "26\n",
      "27\n",
      "28\n"
     ]
    },
    {
     "name": "stderr",
     "output_type": "stream",
     "text": [
      "\n",
      "KeyboardInterrupt\n",
      "\n"
     ]
    }
   ],
   "source": [
    "ways_f, ways_s = Counter(), Counter()\n",
    "ways_f[0], ways_s[0] = 1, 1\n",
    "\n",
    "for e in n_list_f:\n",
    "    print(e)\n",
    "    for b_v in ways_f.copy():\n",
    "        cnt = ways_f[b_v]\n",
    "        t_a = l_a // (e * e)\n",
    "        ways_f[b_v + t_a] += cnt\n",
    "for e in n_list_s:\n",
    "    print(e)\n",
    "    for b_v in ways_s.copy():\n",
    "        cnt = ways_s[b_v]\n",
    "        t_a = l_a // (e * e)\n",
    "        ways_s[b_v + t_a] += cnt"
   ]
  },
  {
   "cell_type": "code",
   "execution_count": 57,
   "id": "12dbfc2f-8fff-42c2-b4a1-319102135ec0",
   "metadata": {},
   "outputs": [
    {
     "name": "stdout",
     "output_type": "stream",
     "text": [
      "3\n"
     ]
    }
   ],
   "source": [
    "# MEET IN THE MIDDLE\n",
    "tot = 0\n",
    "for e in ways_f:\n",
    "    cnt_f = ways_f[e]\n",
    "    t_s = tar - e\n",
    "    cnt_s = ways_s[t_s]\n",
    "    tot += cnt_f * cnt_s\n",
    "print(tot)"
   ]
  },
  {
   "cell_type": "code",
   "execution_count": null,
   "id": "09c4d73b-312c-40f1-9d16-533a8880bdd4",
   "metadata": {},
   "outputs": [],
   "source": []
  },
  {
   "cell_type": "code",
   "execution_count": 58,
   "id": "f8fb46aa-aa18-478d-b970-1f491476247f",
   "metadata": {
    "scrolled": true
   },
   "outputs": [
    {
     "name": "stdout",
     "output_type": "stream",
     "text": [
      "43 0\n",
      "41 0\n",
      "37 0\n",
      "31 0\n",
      "29 0\n",
      "23 0\n",
      "19 0\n",
      "17 0\n",
      "13 0\n",
      "11 0\n",
      "7 3\n",
      "5 13\n",
      "3 6683\n",
      "2\n",
      "3\n",
      "4\n",
      "5\n",
      "6\n",
      "7\n",
      "8\n",
      "9\n",
      "10\n",
      "12\n",
      "14\n",
      "15\n",
      "16\n",
      "18\n",
      "20\n",
      "21\n",
      "24\n",
      "25\n",
      "27\n",
      "28\n",
      "30\n",
      "32\n",
      "35\n",
      "36\n",
      "40\n",
      "42\n",
      "45\n",
      "3\n"
     ]
    }
   ],
   "source": [
    "import itertools\n",
    "\n",
    "maxn = 45\n",
    "\n",
    "def gen_primes(n):\n",
    "    sieve = [1 for _ in range(n + 1)]\n",
    "    primes = []\n",
    "    for i in range(2, n + 1):\n",
    "        if sieve[i]:\n",
    "            primes.append(i)\n",
    "            for q in range(2 * i, n + 1, i):\n",
    "                sieve[q] = 0\n",
    "    return primes\n",
    "\n",
    "primes = gen_primes(maxn)\n",
    "primes\n",
    "\n",
    "def get_groups(p, n, plist):\n",
    "    cands = list(range(p, n + 1, p))\n",
    "    cands = [e for e in cands if e in plist]\n",
    "    valid_cands = []\n",
    "    for n_g in range(2, len(cands) + 1):\n",
    "        for cand in itertools.combinations(cands, n_g):\n",
    "            n, d = 0, 1\n",
    "            for el in cand:\n",
    "                n = d + el * el * n\n",
    "                d = d * el * el\n",
    "            if n % pow(p, 2 * len(cand)) == 0:\n",
    "                # print(n, d, cand)\n",
    "                valid_cands.append(cand)\n",
    "    return valid_cands\n",
    "\n",
    "g = {}\n",
    "n_list = list(range(2, maxn + 1))\n",
    "for p in reversed(primes[1:]):\n",
    "    groups = get_groups(p, maxn, n_list)\n",
    "    g[p] = groups\n",
    "    if not len(groups):\n",
    "        for el in range(p, maxn + 1, p):\n",
    "            if el in n_list:\n",
    "                n_list.remove(el)\n",
    "    print(p, len(groups))\n",
    "\n",
    "len(n_list)\n",
    "\n",
    "from math import lcm\n",
    "from collections import Counter\n",
    "\n",
    "l_a = 1\n",
    "for e in n_list:\n",
    "    l_a = lcm(l_a, e * e)\n",
    "l_a\n",
    "tar = l_a // 2\n",
    "\n",
    "n_list_f, n_list_s = n_list[:len(n_list)//2], n_list[len(n_list)//2:]\n",
    "# n_list_f, n_list_s\n",
    "\n",
    "ways_f, ways_s = Counter(), Counter()\n",
    "ways_f[0], ways_s[0] = 1, 1\n",
    "\n",
    "for e in n_list_f:\n",
    "    print(e)\n",
    "    for b_v in ways_f.copy():\n",
    "        cnt = ways_f[b_v]\n",
    "        t_a = l_a // (e * e)\n",
    "        ways_f[b_v + t_a] += cnt\n",
    "for e in n_list_s:\n",
    "    print(e)\n",
    "    for b_v in ways_s.copy():\n",
    "        cnt = ways_s[b_v]\n",
    "        t_a = l_a // (e * e)\n",
    "        ways_s[b_v + t_a] += cnt\n",
    "\n",
    "# MEET IN THE MIDDLE\n",
    "tot = 0\n",
    "for e in ways_f:\n",
    "    cnt_f = ways_f[e]\n",
    "    t_s = tar - e\n",
    "    cnt_s = ways_s[t_s]\n",
    "    tot += cnt_f * cnt_s\n",
    "print(\"Answer:\", tot)"
   ]
  },
  {
   "cell_type": "code",
   "execution_count": 70,
   "id": "7519fb8d-11aa-454f-859d-8c2498c22e7f",
   "metadata": {},
   "outputs": [],
   "source": [
    "# Try just based on proximity"
   ]
  }
 ],
 "metadata": {
  "kernelspec": {
   "display_name": "Python 3 (ipykernel)",
   "language": "python",
   "name": "python3"
  },
  "language_info": {
   "codemirror_mode": {
    "name": "ipython",
    "version": 3
   },
   "file_extension": ".py",
   "mimetype": "text/x-python",
   "name": "python",
   "nbconvert_exporter": "python",
   "pygments_lexer": "ipython3",
   "version": "3.12.4"
  }
 },
 "nbformat": 4,
 "nbformat_minor": 5
}
