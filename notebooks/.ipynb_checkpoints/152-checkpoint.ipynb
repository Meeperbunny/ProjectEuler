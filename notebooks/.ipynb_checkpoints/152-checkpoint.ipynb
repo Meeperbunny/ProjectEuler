{
 "cells": [
  {
   "cell_type": "code",
<<<<<<< HEAD
   "execution_count": 1,
   "id": "47c4acd9",
   "metadata": {},
   "outputs": [],
   "source": [
    "current_ways = [\n",
    "    {2, 3, 4, 5, 7, 12, 15, 20, 28, 35},\n",
    "    {2, 3, 4, 6, 7, 9, 10, 20, 28, 35, 36, 45},\n",
    "    {2, 3, 4, 6, 7, 9, 12, 15, 28, 30, 35, 36, 45},\n",
    "]"
=======
   "execution_count": 72,
   "id": "6eb2f707-24bf-41ae-b5a8-1b3d529ea198",
   "metadata": {},
   "outputs": [],
   "source": [
    "import itertools\n",
    "from math import lcm\n",
    "from collections import Counter"
>>>>>>> d47d4db39cdbe0754597c1a2e8910c816a6b173b
   ]
  },
  {
   "cell_type": "code",
<<<<<<< HEAD
   "execution_count": 5,
   "id": "333bf809",
   "metadata": {},
   "outputs": [
    {
     "name": "stdout",
     "output_type": "stream",
     "text": [
      "0.49999999999999994\n",
      "0.5000000000000001\n",
      "0.5\n"
     ]
    }
   ],
   "source": [
    "for way in current_ways:\n",
    "    t = 0\n",
    "    for e in way:\n",
    "        t += 1 / (e * e)\n",
    "    print(t)"
   ]
  },
  {
   "cell_type": "code",
   "execution_count": 15,
   "id": "c85096f8",
   "metadata": {},
   "outputs": [
    {
     "data": {
      "text/plain": [
       "(10.230246244422453, 0.009554936940219414)"
      ]
     },
     "execution_count": 15,
     "metadata": {},
     "output_type": "execute_result"
    }
   ],
   "source": [
    "s = sum([1 / (i * i) for i in range(46, 80 + 1)])\n",
    "(1 / s)**0.5, s\n",
    "# Can replace anything below 10."
   ]
  },
  {
   "cell_type": "markdown",
   "id": "b922ea15",
   "metadata": {},
   "source": [
    "### Thoughts\n",
    "* Can you ask the question of \"Can i replace X with Y\"?\n",
    "* If this question is answered then sol is easy to find assuming replacements are quite small.\n",
    "* How to number as sum of recip?\n",
    "* Given 1 / (n * n), what squares go into it?\n",
    "##### Examples\n",
    "* 5, 12, 15 = 6, 9, 10, 36, 45\n",
    "* 10, 20 = 12, 15, 30"
   ]
  },
  {
   "cell_type": "code",
   "execution_count": 34,
   "id": "b4b06dac",
   "metadata": {},
   "outputs": [],
   "source": [
    "1 / a + 1 / b = (a + b) / (ab)"
=======
   "execution_count": 73,
   "id": "658bdd15-83b8-4347-a0fe-4b920b98ddb0",
   "metadata": {},
   "outputs": [],
   "source": [
    "maxn = 45"
>>>>>>> d47d4db39cdbe0754597c1a2e8910c816a6b173b
   ]
  },
  {
   "cell_type": "code",
<<<<<<< HEAD
   "execution_count": 36,
   "id": "dd0c76a0",
   "metadata": {},
   "outputs": [],
   "source": [
    "### Brute force"
   ]
  },
  {
   "cell_type": "code",
   "execution_count": 37,
   "id": "fb823a0c",
   "metadata": {},
   "outputs": [],
   "source": [
    "from math import lcm"
   ]
  },
  {
   "cell_type": "code",
   "execution_count": 40,
   "id": "7b256624",
   "metadata": {},
   "outputs": [
    {
     "data": {
      "text/plain": [
       "20852386088294732932920960000"
      ]
     },
     "execution_count": 40,
     "metadata": {},
     "output_type": "execute_result"
    }
   ],
   "source": [
    "c_div = 1\n",
    "for i in range(2, 35 + 1):\n",
    "    c_div = lcm(c_div, i * i)\n",
    "c_div"
   ]
  },
  {
   "cell_type": "markdown",
   "id": "3c51f86f",
   "metadata": {},
   "source": [
    "### Thoughts\n",
    "* Theory: Given some 1 / (n * n), lets say n = 7, need to add it with another number with 7 in the divisor. Is this true? What can you add to 1 / 7 to make it not have a divisor of 7 when simplified? \n",
    "1 / 7 + 2 / 3 = (a + b) / ab, add 6? 1 + 6 / 7 * 8 = 7 / 56 = 1/8. Can you do this with 1?\n",
    "\n",
    "Say you have some divisor d in the divisor. Can be rewritten as: (abc + abd + acd + bcd) / abcd\n",
    "or (abc + d (ab + ac + bc)) / abcd. Right side (+ ...) is multiple of d, but will abc ever be a factor of d? Given that d is some prime, abc cannot. Thus, WHEN MULTIPLYING BY some 1 / p (p is prime), must multiply by some other 1 / q such that p and q share a prime factor. So if multiplying by 1 / (7 * 7), must find another number, perhas 1 / (14 * 14). Check if this is true in the examples, rather check the prime factor counts."
   ]
  },
  {
   "cell_type": "code",
   "execution_count": 43,
   "id": "43fc84fd",
   "metadata": {},
   "outputs": [],
   "source": [
    "from collections import Counter\n",
    "def getpfc(n):\n",
    "    c = Counter()\n",
    "    for i in range(2, n + 1):\n",
    "        while n % i == 0:\n",
    "            n //= i\n",
    "            c[i] += 1\n",
    "    return c"
=======
   "execution_count": 60,
   "id": "0a57f52a-15bc-4116-a168-7aaedccee207",
   "metadata": {},
   "outputs": [],
   "source": [
    "def gen_primes(n):\n",
    "    sieve = [1 for _ in range(n + 1)]\n",
    "    primes = []\n",
    "    for i in range(2, n + 1):\n",
    "        if sieve[i]:\n",
    "            primes.append(i)\n",
    "            for q in range(2 * i, n + 1, i):\n",
    "                sieve[q] = 0\n",
    "    return primes"
>>>>>>> d47d4db39cdbe0754597c1a2e8910c816a6b173b
   ]
  },
  {
   "cell_type": "code",
<<<<<<< HEAD
   "execution_count": 49,
   "id": "f8ae6869",
=======
   "execution_count": 61,
   "id": "3ddb29d2-94ff-4a1c-8ede-47461a498c35",
   "metadata": {
    "scrolled": true
   },
   "outputs": [
    {
     "data": {
      "text/plain": [
       "[2,\n",
       " 3,\n",
       " 5,\n",
       " 7,\n",
       " 11,\n",
       " 13,\n",
       " 17,\n",
       " 19,\n",
       " 23,\n",
       " 29,\n",
       " 31,\n",
       " 37,\n",
       " 41,\n",
       " 43,\n",
       " 47,\n",
       " 53,\n",
       " 59,\n",
       " 61,\n",
       " 67,\n",
       " 71,\n",
       " 73,\n",
       " 79]"
      ]
     },
     "execution_count": 61,
     "metadata": {},
     "output_type": "execute_result"
    }
   ],
   "source": [
    "primes = gen_primes(maxn)\n",
    "primes"
   ]
  },
  {
   "cell_type": "code",
   "execution_count": 62,
   "id": "03d7bc18-adfb-427e-b08b-8ced8813c2f2",
   "metadata": {},
   "outputs": [],
   "source": [
    "def get_groups(p, n, plist):\n",
    "    cands = list(range(p, n + 1, p))\n",
    "    cands = [e for e in cands if e in plist]\n",
    "    valid_cands = []\n",
    "    for n_g in range(2, len(cands) + 1):\n",
    "        for cand in itertools.combinations(cands, n_g):\n",
    "            n, d = 0, 1\n",
    "            for el in cand:\n",
    "                n = d + el * el * n\n",
    "                d = d * el * el\n",
    "            if n % pow(p, 2 * len(cand)) == 0:\n",
    "                # print(n, d, cand)\n",
    "                valid_cands.append(cand)\n",
    "    return valid_cands\n",
    "# _ = get_groups(7, maxn)"
   ]
  },
  {
   "cell_type": "code",
   "execution_count": 64,
   "id": "16cb3aee-53f4-462e-b6c5-25da28e03f16",
>>>>>>> d47d4db39cdbe0754597c1a2e8910c816a6b173b
   "metadata": {},
   "outputs": [
    {
     "name": "stdout",
     "output_type": "stream",
     "text": [
<<<<<<< HEAD
      "Counter({2: 9, 5: 4, 7: 3, 3: 3})\n",
      "Counter({2: 11, 3: 8, 5: 4, 7: 3})\n",
      "Counter({2: 11, 3: 11, 5: 4, 7: 3})\n"
=======
      "79 0 True\n",
      "73 0 True\n",
      "71 0 True\n",
      "67 0 True\n",
      "61 0 True\n",
      "59 0 True\n",
      "53 0 True\n",
      "47 0 True\n",
      "43 0 True\n",
      "41 0 True\n",
      "37 0 True\n",
      "31 0 True\n",
      "29 0 True\n",
      "23 0 True\n",
      "19 0 True\n",
      "17 0 True\n",
      "13 1 False\n",
      "11 0 False\n",
      "7 23 False\n",
      "5 33130 False\n",
      "3 8097335 False\n",
      "CPU times: total: 12.5 s\n",
      "Wall time: 12.5 s\n"
>>>>>>> d47d4db39cdbe0754597c1a2e8910c816a6b173b
     ]
    }
   ],
   "source": [
<<<<<<< HEAD
    "for way in current_ways:\n",
    "    c = Counter()\n",
    "    for e in way:\n",
    "        c += getpfc(e)\n",
    "    print(c)"
=======
    "%%time\n",
    "g = {}\n",
    "n_list = list(range(2, maxn + 1))\n",
    "\n",
    "fnd = False\n",
    "\n",
    "for p in reversed(primes[1:]):\n",
    "    groups = get_groups(p, maxn, n_list)\n",
    "    g[p] = groups\n",
    "    opr = False\n",
    "    if not len(groups) and not fnd:\n",
    "        opr = True\n",
    "        for el in range(p, maxn + 1, p):\n",
    "            if el in n_list:\n",
    "                n_list.remove(el)\n",
    "    else:\n",
    "        opr = False\n",
    "        fnd = True\n",
    "    print(p, len(groups), opr)\n"
>>>>>>> d47d4db39cdbe0754597c1a2e8910c816a6b173b
   ]
  },
  {
   "cell_type": "code",
<<<<<<< HEAD
   "execution_count": 50,
   "id": "a09c2ce4",
   "metadata": {},
   "outputs": [],
   "source": [
    "# I see lots of numbers ST they are in the set, and two other numbers that share PFS are also in the \n",
    "# set, for example: 7, 28, 35. How many numbers of a pf do you need to \"cancel the base out?\""
=======
   "execution_count": 65,
   "id": "872dc051-587e-4ed6-816a-ab94e8cc18d4",
   "metadata": {},
   "outputs": [
    {
     "data": {
      "text/plain": [
       "52"
      ]
     },
     "execution_count": 65,
     "metadata": {},
     "output_type": "execute_result"
    }
   ],
   "source": [
    "len(n_list)"
   ]
  },
  {
   "cell_type": "code",
   "execution_count": 66,
   "id": "dbcb890d-b265-48e5-86a1-4804c274d765",
   "metadata": {},
   "outputs": [],
   "source": [
    "from math import lcm\n",
    "from collections import Counter"
   ]
  },
  {
   "cell_type": "code",
   "execution_count": 67,
   "id": "0dce7305-ea28-4291-8c2b-32d2b440e6c7",
   "metadata": {},
   "outputs": [],
   "source": [
    "l_a = 1\n",
    "for e in n_list:\n",
    "    l_a = lcm(l_a, e * e)\n",
    "l_a\n",
    "tar = l_a // 2"
   ]
  },
  {
   "cell_type": "code",
   "execution_count": 68,
   "id": "10f0e8fa-3572-4a8e-9a32-157d2d5a8a74",
   "metadata": {},
   "outputs": [],
   "source": [
    "n_list_f, n_list_s = n_list[:len(n_list)//2], n_list[len(n_list)//2:]\n",
    "# n_list_f, n_list_s"
   ]
  },
  {
   "cell_type": "code",
   "execution_count": 69,
   "id": "d2cb2a5c-bc95-4b5e-a946-280e0bd52819",
   "metadata": {},
   "outputs": [
    {
     "name": "stdout",
     "output_type": "stream",
     "text": [
      "2\n",
      "3\n",
      "4\n",
      "5\n",
      "6\n",
      "7\n",
      "8\n",
      "9\n",
      "10\n",
      "11\n",
      "12\n",
      "13\n",
      "14\n",
      "15\n",
      "16\n",
      "18\n",
      "20\n",
      "21\n",
      "22\n",
      "24\n",
      "25\n",
      "26\n",
      "27\n",
      "28\n"
     ]
    },
    {
     "name": "stderr",
     "output_type": "stream",
     "text": [
      "\n",
      "KeyboardInterrupt\n",
      "\n"
     ]
    }
   ],
   "source": [
    "ways_f, ways_s = Counter(), Counter()\n",
    "ways_f[0], ways_s[0] = 1, 1\n",
    "\n",
    "for e in n_list_f:\n",
    "    print(e)\n",
    "    for b_v in ways_f.copy():\n",
    "        cnt = ways_f[b_v]\n",
    "        t_a = l_a // (e * e)\n",
    "        ways_f[b_v + t_a] += cnt\n",
    "for e in n_list_s:\n",
    "    print(e)\n",
    "    for b_v in ways_s.copy():\n",
    "        cnt = ways_s[b_v]\n",
    "        t_a = l_a // (e * e)\n",
    "        ways_s[b_v + t_a] += cnt"
   ]
  },
  {
   "cell_type": "code",
   "execution_count": 57,
   "id": "12dbfc2f-8fff-42c2-b4a1-319102135ec0",
   "metadata": {},
   "outputs": [
    {
     "name": "stdout",
     "output_type": "stream",
     "text": [
      "3\n"
     ]
    }
   ],
   "source": [
    "# MEET IN THE MIDDLE\n",
    "tot = 0\n",
    "for e in ways_f:\n",
    "    cnt_f = ways_f[e]\n",
    "    t_s = tar - e\n",
    "    cnt_s = ways_s[t_s]\n",
    "    tot += cnt_f * cnt_s\n",
    "print(tot)"
>>>>>>> d47d4db39cdbe0754597c1a2e8910c816a6b173b
   ]
  },
  {
   "cell_type": "code",
   "execution_count": null,
<<<<<<< HEAD
   "id": "cae81455",
   "metadata": {},
   "outputs": [],
   "source": []
=======
   "id": "09c4d73b-312c-40f1-9d16-533a8880bdd4",
   "metadata": {},
   "outputs": [],
   "source": []
  },
  {
   "cell_type": "code",
   "execution_count": 58,
   "id": "f8fb46aa-aa18-478d-b970-1f491476247f",
   "metadata": {
    "scrolled": true
   },
   "outputs": [
    {
     "name": "stdout",
     "output_type": "stream",
     "text": [
      "43 0\n",
      "41 0\n",
      "37 0\n",
      "31 0\n",
      "29 0\n",
      "23 0\n",
      "19 0\n",
      "17 0\n",
      "13 0\n",
      "11 0\n",
      "7 3\n",
      "5 13\n",
      "3 6683\n",
      "2\n",
      "3\n",
      "4\n",
      "5\n",
      "6\n",
      "7\n",
      "8\n",
      "9\n",
      "10\n",
      "12\n",
      "14\n",
      "15\n",
      "16\n",
      "18\n",
      "20\n",
      "21\n",
      "24\n",
      "25\n",
      "27\n",
      "28\n",
      "30\n",
      "32\n",
      "35\n",
      "36\n",
      "40\n",
      "42\n",
      "45\n",
      "3\n"
     ]
    }
   ],
   "source": [
    "import itertools\n",
    "\n",
    "maxn = 45\n",
    "\n",
    "def gen_primes(n):\n",
    "    sieve = [1 for _ in range(n + 1)]\n",
    "    primes = []\n",
    "    for i in range(2, n + 1):\n",
    "        if sieve[i]:\n",
    "            primes.append(i)\n",
    "            for q in range(2 * i, n + 1, i):\n",
    "                sieve[q] = 0\n",
    "    return primes\n",
    "\n",
    "primes = gen_primes(maxn)\n",
    "primes\n",
    "\n",
    "def get_groups(p, n, plist):\n",
    "    cands = list(range(p, n + 1, p))\n",
    "    cands = [e for e in cands if e in plist]\n",
    "    valid_cands = []\n",
    "    for n_g in range(2, len(cands) + 1):\n",
    "        for cand in itertools.combinations(cands, n_g):\n",
    "            n, d = 0, 1\n",
    "            for el in cand:\n",
    "                n = d + el * el * n\n",
    "                d = d * el * el\n",
    "            if n % pow(p, 2 * len(cand)) == 0:\n",
    "                # print(n, d, cand)\n",
    "                valid_cands.append(cand)\n",
    "    return valid_cands\n",
    "\n",
    "g = {}\n",
    "n_list = list(range(2, maxn + 1))\n",
    "for p in reversed(primes[1:]):\n",
    "    groups = get_groups(p, maxn, n_list)\n",
    "    g[p] = groups\n",
    "    if not len(groups):\n",
    "        for el in range(p, maxn + 1, p):\n",
    "            if el in n_list:\n",
    "                n_list.remove(el)\n",
    "    print(p, len(groups))\n",
    "\n",
    "len(n_list)\n",
    "\n",
    "from math import lcm\n",
    "from collections import Counter\n",
    "\n",
    "l_a = 1\n",
    "for e in n_list:\n",
    "    l_a = lcm(l_a, e * e)\n",
    "l_a\n",
    "tar = l_a // 2\n",
    "\n",
    "n_list_f, n_list_s = n_list[:len(n_list)//2], n_list[len(n_list)//2:]\n",
    "# n_list_f, n_list_s\n",
    "\n",
    "ways_f, ways_s = Counter(), Counter()\n",
    "ways_f[0], ways_s[0] = 1, 1\n",
    "\n",
    "for e in n_list_f:\n",
    "    print(e)\n",
    "    for b_v in ways_f.copy():\n",
    "        cnt = ways_f[b_v]\n",
    "        t_a = l_a // (e * e)\n",
    "        ways_f[b_v + t_a] += cnt\n",
    "for e in n_list_s:\n",
    "    print(e)\n",
    "    for b_v in ways_s.copy():\n",
    "        cnt = ways_s[b_v]\n",
    "        t_a = l_a // (e * e)\n",
    "        ways_s[b_v + t_a] += cnt\n",
    "\n",
    "# MEET IN THE MIDDLE\n",
    "tot = 0\n",
    "for e in ways_f:\n",
    "    cnt_f = ways_f[e]\n",
    "    t_s = tar - e\n",
    "    cnt_s = ways_s[t_s]\n",
    "    tot += cnt_f * cnt_s\n",
    "print(\"Answer:\", tot)"
   ]
  },
  {
   "cell_type": "code",
   "execution_count": 70,
   "id": "7519fb8d-11aa-454f-859d-8c2498c22e7f",
   "metadata": {},
   "outputs": [],
   "source": [
    "# Try just based on proximity"
   ]
>>>>>>> d47d4db39cdbe0754597c1a2e8910c816a6b173b
  }
 ],
 "metadata": {
  "kernelspec": {
   "display_name": "Python 3 (ipykernel)",
   "language": "python",
   "name": "python3"
  },
  "language_info": {
   "codemirror_mode": {
    "name": "ipython",
    "version": 3
   },
   "file_extension": ".py",
   "mimetype": "text/x-python",
   "name": "python",
   "nbconvert_exporter": "python",
   "pygments_lexer": "ipython3",
<<<<<<< HEAD
   "version": "3.10.6"
=======
   "version": "3.12.4"
>>>>>>> d47d4db39cdbe0754597c1a2e8910c816a6b173b
  }
 },
 "nbformat": 4,
 "nbformat_minor": 5
}
