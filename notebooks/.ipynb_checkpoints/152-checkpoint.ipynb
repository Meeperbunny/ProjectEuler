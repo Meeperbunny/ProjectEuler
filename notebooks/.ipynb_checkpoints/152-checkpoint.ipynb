{
 "cells": [
  {
   "cell_type": "code",
   "execution_count": 1,
   "id": "47c4acd9",
   "metadata": {},
   "outputs": [],
   "source": [
    "current_ways = [\n",
    "    {2, 3, 4, 5, 7, 12, 15, 20, 28, 35},\n",
    "    {2, 3, 4, 6, 7, 9, 10, 20, 28, 35, 36, 45},\n",
    "    {2, 3, 4, 6, 7, 9, 12, 15, 28, 30, 35, 36, 45},\n",
    "]"
   ]
  },
  {
   "cell_type": "code",
   "execution_count": 5,
   "id": "333bf809",
   "metadata": {},
   "outputs": [
    {
     "name": "stdout",
     "output_type": "stream",
     "text": [
      "0.49999999999999994\n",
      "0.5000000000000001\n",
      "0.5\n"
     ]
    }
   ],
   "source": [
    "for way in current_ways:\n",
    "    t = 0\n",
    "    for e in way:\n",
    "        t += 1 / (e * e)\n",
    "    print(t)"
   ]
  },
  {
   "cell_type": "code",
   "execution_count": 15,
   "id": "c85096f8",
   "metadata": {},
   "outputs": [
    {
     "data": {
      "text/plain": [
       "(10.230246244422453, 0.009554936940219414)"
      ]
     },
     "execution_count": 15,
     "metadata": {},
     "output_type": "execute_result"
    }
   ],
   "source": [
    "s = sum([1 / (i * i) for i in range(46, 80 + 1)])\n",
    "(1 / s)**0.5, s\n",
    "# Can replace anything below 10."
   ]
  },
  {
   "cell_type": "markdown",
   "id": "b922ea15",
   "metadata": {},
   "source": [
    "### Thoughts\n",
    "* Can you ask the question of \"Can i replace X with Y\"?\n",
    "* If this question is answered then sol is easy to find assuming replacements are quite small.\n",
    "* How to number as sum of recip?\n",
    "* Given 1 / (n * n), what squares go into it?\n",
    "##### Examples\n",
    "* 5, 12, 15 = 6, 9, 10, 36, 45\n",
    "* 10, 20 = 12, 15, 30"
   ]
  },
  {
   "cell_type": "code",
   "execution_count": 34,
   "id": "b4b06dac",
   "metadata": {},
   "outputs": [],
   "source": [
    "1 / a + 1 / b = (a + b) / (ab)"
   ]
  },
  {
   "cell_type": "code",
   "execution_count": 36,
   "id": "dd0c76a0",
   "metadata": {},
   "outputs": [],
   "source": [
    "### Brute force"
   ]
  },
  {
   "cell_type": "code",
   "execution_count": 37,
   "id": "fb823a0c",
   "metadata": {},
   "outputs": [],
   "source": [
    "from math import lcm"
   ]
  },
  {
   "cell_type": "code",
   "execution_count": 40,
   "id": "7b256624",
   "metadata": {},
   "outputs": [
    {
     "data": {
      "text/plain": [
       "20852386088294732932920960000"
      ]
     },
     "execution_count": 40,
     "metadata": {},
     "output_type": "execute_result"
    }
   ],
   "source": [
    "c_div = 1\n",
    "for i in range(2, 35 + 1):\n",
    "    c_div = lcm(c_div, i * i)\n",
    "c_div"
   ]
  },
  {
   "cell_type": "markdown",
   "id": "3c51f86f",
   "metadata": {},
   "source": [
    "### Thoughts\n",
    "* Theory: Given some 1 / (n * n), lets say n = 7, need to add it with another number with 7 in the divisor. Is this true? What can you add to 1 / 7 to make it not have a divisor of 7 when simplified? \n",
    "1 / 7 + 2 / 3 = (a + b) / ab, add 6? 1 + 6 / 7 * 8 = 7 / 56 = 1/8. Can you do this with 1?\n",
    "\n",
    "Say you have some divisor d in the divisor. Can be rewritten as: (abc + abd + acd + bcd) / abcd\n",
    "or (abc + d (ab + ac + bc)) / abcd. Right side (+ ...) is multiple of d, but will abc ever be a factor of d? Given that d is some prime, abc cannot. Thus, WHEN MULTIPLYING BY some 1 / p (p is prime), must multiply by some other 1 / q such that p and q share a prime factor. So if multiplying by 1 / (7 * 7), must find another number, perhas 1 / (14 * 14). Check if this is true in the examples, rather check the prime factor counts."
   ]
  },
  {
   "cell_type": "code",
   "execution_count": 43,
   "id": "43fc84fd",
   "metadata": {},
   "outputs": [],
   "source": [
    "from collections import Counter\n",
    "def getpfc(n):\n",
    "    c = Counter()\n",
    "    for i in range(2, n + 1):\n",
    "        while n % i == 0:\n",
    "            n //= i\n",
    "            c[i] += 1\n",
    "    return c"
   ]
  },
  {
   "cell_type": "code",
   "execution_count": 49,
   "id": "f8ae6869",
   "metadata": {},
   "outputs": [
    {
     "name": "stdout",
     "output_type": "stream",
     "text": [
      "Counter({2: 9, 5: 4, 7: 3, 3: 3})\n",
      "Counter({2: 11, 3: 8, 5: 4, 7: 3})\n",
      "Counter({2: 11, 3: 11, 5: 4, 7: 3})\n"
     ]
    }
   ],
   "source": [
    "for way in current_ways:\n",
    "    c = Counter()\n",
    "    for e in way:\n",
    "        c += getpfc(e)\n",
    "    print(c)"
   ]
  },
  {
   "cell_type": "code",
   "execution_count": 50,
   "id": "a09c2ce4",
   "metadata": {},
   "outputs": [],
   "source": [
    "# I see lots of numbers ST they are in the set, and two other numbers that share PFS are also in the \n",
    "# set, for example: 7, 28, 35. How many numbers of a pf do you need to \"cancel the base out?\""
   ]
  },
  {
   "cell_type": "code",
   "execution_count": null,
   "id": "cae81455",
   "metadata": {},
   "outputs": [],
   "source": []
  }
 ],
 "metadata": {
  "kernelspec": {
   "display_name": "Python 3 (ipykernel)",
   "language": "python",
   "name": "python3"
  },
  "language_info": {
   "codemirror_mode": {
    "name": "ipython",
    "version": 3
   },
   "file_extension": ".py",
   "mimetype": "text/x-python",
   "name": "python",
   "nbconvert_exporter": "python",
   "pygments_lexer": "ipython3",
   "version": "3.10.6"
  }
 },
 "nbformat": 4,
 "nbformat_minor": 5
}
