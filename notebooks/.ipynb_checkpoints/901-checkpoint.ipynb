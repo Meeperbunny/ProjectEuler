{
 "cells": [
  {
   "cell_type": "code",
   "execution_count": 62,
   "id": "68bcc2b4-62d8-4911-8e0f-b63233d03862",
   "metadata": {},
   "outputs": [],
   "source": [
    "import numpy as np"
   ]
  },
  {
   "cell_type": "code",
   "execution_count": 69,
   "id": "0270f7cc-5ac5-4a90-8105-a2f67e679318",
   "metadata": {},
   "outputs": [],
   "source": [
    "def isless(x):\n",
    "    return 1 - np.exp(-x)"
   ]
  },
  {
   "cell_type": "code",
   "execution_count": 70,
   "id": "7369bc84-39b9-40a7-8aec-e25a02b6e913",
   "metadata": {},
   "outputs": [
    {
     "data": {
      "text/plain": [
       "np.float64(0.6321205588285577)"
      ]
     },
     "execution_count": 70,
     "metadata": {},
     "output_type": "execute_result"
    }
   ],
   "source": [
    "isless(1)"
   ]
  },
  {
   "cell_type": "code",
   "execution_count": null,
   "id": "99fa948a-e897-463c-a96d-16a4798a9e01",
   "metadata": {},
   "outputs": [],
   "source": []
  }
 ],
 "metadata": {
  "kernelspec": {
   "display_name": "Python 3 (ipykernel)",
   "language": "python",
   "name": "python3"
  },
  "language_info": {
   "codemirror_mode": {
    "name": "ipython",
    "version": 3
   },
   "file_extension": ".py",
   "mimetype": "text/x-python",
   "name": "python",
   "nbconvert_exporter": "python",
   "pygments_lexer": "ipython3",
   "version": "3.12.6"
  }
 },
 "nbformat": 4,
 "nbformat_minor": 5
}
