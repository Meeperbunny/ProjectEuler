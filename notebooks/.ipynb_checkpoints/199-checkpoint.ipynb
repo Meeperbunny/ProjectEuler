{
 "cells": [
  {
   "cell_type": "code",
   "execution_count": 7,
   "id": "d1903ce3-8637-4b92-ba9c-74021d461a15",
   "metadata": {},
   "outputs": [],
   "source": [
    "from math import cos, sin, pi"
   ]
  },
  {
   "cell_type": "code",
   "execution_count": 10,
   "id": "ff36a387-54d5-4e7f-a9ac-15368eadfd05",
   "metadata": {},
   "outputs": [],
   "source": [
    "class Circle:\n",
    "    def __init__(self, x, y, r, is_outer=False):\n",
    "        self.is_outer = is_outer\n",
    "        self.x = x\n",
    "        self.y = y\n",
    "        self.r = r\n",
    "    def area(self):\n",
    "        return pi * self.r**2"
   ]
  },
  {
   "cell_type": "code",
   "execution_count": 16,
   "id": "18502dea-17c9-4d6b-9967-e78a60e7b5ec",
   "metadata": {},
   "outputs": [],
   "source": [
    "outer = Circle(0, 0, 2 / 3**0.5 + 1, True)\n",
    "s1 = Circle(cos(0 * pi / 3) * 2 * 3**0.5, sin(0 * pi / 3) * 2 * 3**0.5, 1)\n",
    "s2 = Circle(cos(2 * pi / 3) * 2 * 3**0.5, sin(2 * pi / 3) * 2 * 3**0.5, 1)\n",
    "s3 = Circle(cos(4 * pi / 3) * 2 * 3**0.5, sin(4 * pi / 3) * 2 * 3**0.5, 1)\n",
    "circles = [outer, s1, s2, s3]"
   ]
  },
  {
   "cell_type": "code",
   "execution_count": 24,
   "id": "f19e8940-e6ed-4eba-9943-c3f8a9be872e",
   "metadata": {},
   "outputs": [],
   "source": [
    "# c1 will always be outer\n",
    "def comb_area(c1, c2, c3, d=3):\n",
    "    if not d:\n",
    "        return 0\n",
    "    return 0"
   ]
  },
  {
   "cell_type": "code",
   "execution_count": 22,
   "id": "726ed528-5994-4b61-92b7-5b7d2c078228",
   "metadata": {},
   "outputs": [],
   "source": [
    "t_area = comb_area(outer, s1, s2) * 3 + comb_area(s1, s2, s3)"
   ]
  },
  {
   "cell_type": "code",
   "execution_count": 23,
   "id": "e65ee565-9b71-4eee-8adc-7932558491df",
   "metadata": {},
   "outputs": [
    {
     "data": {
      "text/plain": [
       "0.6461709275204175"
      ]
     },
     "execution_count": 23,
     "metadata": {},
     "output_type": "execute_result"
    }
   ],
   "source": [
    "(t_area + s1.area() + s2.area() + s3.area()) / outer.area()"
   ]
  },
  {
   "cell_type": "code",
   "execution_count": null,
   "id": "204b1571-a6ba-488e-859d-068fa978cb69",
   "metadata": {},
   "outputs": [],
   "source": []
  }
 ],
 "metadata": {
  "kernelspec": {
   "display_name": "Python 3 (ipykernel)",
   "language": "python",
   "name": "python3"
  },
  "language_info": {
   "codemirror_mode": {
    "name": "ipython",
    "version": 3
   },
   "file_extension": ".py",
   "mimetype": "text/x-python",
   "name": "python",
   "nbconvert_exporter": "python",
   "pygments_lexer": "ipython3",
   "version": "3.12.4"
  }
 },
 "nbformat": 4,
 "nbformat_minor": 5
}
