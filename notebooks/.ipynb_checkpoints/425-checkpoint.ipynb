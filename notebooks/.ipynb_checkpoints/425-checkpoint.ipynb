{
 "cells": [
  {
   "cell_type": "code",
   "execution_count": 7,
   "id": "f2801cb9-54c6-4645-a936-41778d7858a5",
   "metadata": {},
   "outputs": [],
   "source": [
    "maxn = 30"
   ]
  },
  {
   "cell_type": "code",
   "execution_count": 20,
   "id": "22253248-cf08-4e6b-8901-0d2050508127",
   "metadata": {},
   "outputs": [],
   "source": [
    "primes = set()\n",
    "sieve = [1 for _ in range(maxn + 1)]\n",
    "for i in range(2, maxn + 1):\n",
    "    if sieve[i]:\n",
    "        primes.add(i)\n",
    "        for q in range(i * 2, maxn + 1, i):\n",
    "            sieve[q] = 0"
   ]
  },
  {
   "cell_type": "code",
   "execution_count": 32,
   "id": "a62f0dca-8261-4cfc-a6eb-06cefd3a0955",
   "metadata": {},
   "outputs": [],
   "source": [
    "def getCon(p):\n",
    "    con = set()\n",
    "    s = str(p)\n",
    "    for i in range(len(s)):\n",
    "        for q in range(10):\n",
    "            t = s\n",
    "            t = t[:i] + str(q) + t[i + 1:]\n",
    "            t = int(t)\n",
    "            if t in primes and t != p:\n",
    "                con.add(t)\n",
    "    for q in range(10):\n",
    "        t = s\n",
    "        tf = str(q) + t\n",
    "        tl = t + str(q)\n",
    "        tf = int(tf)\n",
    "        tl = int(tl)\n",
    "        if tf in primes and tf != p:\n",
    "            con.add(tf)\n",
    "        if tl in primes and tl != p:\n",
    "            con.add(tl)\n",
    "    return con"
   ]
  },
  {
   "cell_type": "code",
   "execution_count": 34,
   "id": "8b38cf01-39d9-45a5-bbf9-87515733b3a2",
   "metadata": {},
   "outputs": [
    {
     "name": "stdout",
     "output_type": "stream",
     "text": [
      "2 {3, 5, 7, 23, 29}\n",
      "3 {2, 5, 7, 13, 23}\n",
      "5 {2, 3, 7}\n",
      "7 {17, 2, 3, 5}\n",
      "11 {17, 19, 13}\n",
      "13 {3, 11, 17, 19, 23}\n",
      "17 {19, 11, 13, 7}\n",
      "19 {17, 13, 11, 29}\n",
      "23 {29, 3, 13}\n",
      "29 {19, 23}\n"
     ]
    }
   ],
   "source": [
    "adj = [[] for _ in primes]\n",
    "\n",
    "for p in primes:\n",
    "    # Check primes and connect\n",
    "    for e in getCon(p):\n",
    "        adj[e].append(p)\n",
    "        adj[p].append(e)"
   ]
  },
  {
   "cell_type": "code",
   "execution_count": null,
   "id": "687f53b7-d01d-4437-b549-43f5317369a2",
   "metadata": {},
   "outputs": [],
   "source": []
  }
 ],
 "metadata": {
  "kernelspec": {
   "display_name": "Python 3 (ipykernel)",
   "language": "python",
   "name": "python3"
  },
  "language_info": {
   "codemirror_mode": {
    "name": "ipython",
    "version": 3
   },
   "file_extension": ".py",
   "mimetype": "text/x-python",
   "name": "python",
   "nbconvert_exporter": "python",
   "pygments_lexer": "ipython3",
   "version": "3.12.4"
  }
 },
 "nbformat": 4,
 "nbformat_minor": 5
}
