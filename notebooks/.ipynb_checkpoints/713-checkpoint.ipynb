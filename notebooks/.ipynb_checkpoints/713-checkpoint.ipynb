{
 "cells": [
  {
   "cell_type": "code",
   "execution_count": 6,
   "id": "7da67419-cfea-40f9-ac4e-f3b8a6b8ca32",
   "metadata": {},
   "outputs": [],
   "source": [
    "from scipy.special import binom"
   ]
  },
  {
   "cell_type": "code",
   "execution_count": 11,
   "id": "ab4cb37f-21b6-47c5-965f-3aae76823af0",
   "metadata": {},
   "outputs": [],
   "source": [
    "def T(n, k):\n",
    "    # Divide n into k - 1 parts.\n",
    "    d = k - 1\n",
    "    # Find number of \"Upper number\" and number of \"lower\"\n",
    "    low_val = n // d\n",
    "    upper_c = n - low_val * d\n",
    "    lower_c = d - upper_c\n",
    "    upper_s = low_val + 1\n",
    "    lower_s = low_val\n",
    "    # print(upper_c, lower_c)\n",
    "    tot = 0\n",
    "    tot += binom(upper_s, 2) * upper_c + binom(lower_s, 2) * lower_c\n",
    "    return tot"
   ]
  },
  {
   "cell_type": "code",
   "execution_count": 13,
   "id": "76bb7e2d-658f-4f4b-96ed-4779991752b2",
   "metadata": {},
   "outputs": [
    {
     "data": {
      "text/plain": [
       "np.float64(788626351539895.0)"
      ]
     },
     "execution_count": 13,
     "metadata": {},
     "output_type": "execute_result"
    }
   ],
   "source": [
    "N = 10**7\n",
    "tot = 0\n",
    "for m in range(2, N + 1):\n",
    "    tot += T(N, m)\n",
    "tot"
   ]
  }
 ],
 "metadata": {
  "kernelspec": {
   "display_name": "Python 3 (ipykernel)",
   "language": "python",
   "name": "python3"
  },
  "language_info": {
   "codemirror_mode": {
    "name": "ipython",
    "version": 3
   },
   "file_extension": ".py",
   "mimetype": "text/x-python",
   "name": "python",
   "nbconvert_exporter": "python",
   "pygments_lexer": "ipython3",
   "version": "3.12.6"
  }
 },
 "nbformat": 4,
 "nbformat_minor": 5
}
