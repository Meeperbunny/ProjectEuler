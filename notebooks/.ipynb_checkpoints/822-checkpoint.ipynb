{
 "cells": [
  {
   "cell_type": "code",
   "execution_count": 1,
   "id": "e7a9ef6b-abbd-4b2e-8b61-60f6f249f339",
   "metadata": {},
   "outputs": [],
   "source": [
    "# For each index, try to get it such that it is the smallest. There will be some equal to it, and make sure that all are either equal or above,\n",
    "# given that the current one has undergone X operations. Once you do this, wiggle room is (# Equal - 1), and range of acceptable is: [K, K + WR].\n",
    "# If 1e16 is in this range, then is good."
   ]
  },
  {
   "cell_type": "code",
   "execution_count": 166,
   "id": "5f9ee72b-5627-49e7-80f9-07e535fa6649",
   "metadata": {},
   "outputs": [],
   "source": [
    "# n, t = 5, 7\n",
    "n, t = 10, 11\n",
    "# n, target = 10**4, 10**16\n",
    "m = 1234567891"
   ]
  },
  {
   "cell_type": "code",
   "execution_count": 167,
   "id": "842be5af-29cb-4cd0-a210-beb102bcd1fd",
   "metadata": {},
   "outputs": [],
   "source": [
    "def c_ops(b, pa):\n",
    "    a, ops = pa\n",
    "    t = 0\n",
    "    while a < b:\n",
    "        t -= 1\n",
    "        a = a * a\n",
    "    while b < a:\n",
    "        t += 1\n",
    "        b = b * b\n",
    "    return max(0, t + ops)"
   ]
  },
  {
   "cell_type": "code",
   "execution_count": 168,
   "id": "5e7dfc59-7d06-4522-a4b0-ca920f2e34fe",
   "metadata": {},
   "outputs": [],
   "source": [
    "def tryIndex(i, l, t):\n",
    "    # Binary search for Just below or equal to\n",
    "    # If not in range, then is bad, otherwise return sum\n",
    "    b_ops = -1\n",
    "    toadd = 10**14\n",
    "    opcnt = [0 for _ in l]\n",
    "    goc = []\n",
    "    while toadd >= 1:\n",
    "        while True:\n",
    "            m_ops = b_ops + toadd\n",
    "            t_ops = 0\n",
    "            val = (l[i], m_ops)\n",
    "            for ind, e in enumerate(l):\n",
    "                # print(i, e, c_ops(e, val), val, m_ops)\n",
    "                opcnt[ind] = c_ops(e, val)\n",
    "                t_ops += opcnt[ind]\n",
    "            # print(i, m_ops, t_ops, opcnt)\n",
    "            if t_ops <= t:\n",
    "                b_ops += toadd\n",
    "                goc = opcnt.copy()\n",
    "            else:\n",
    "                break\n",
    "        toadd //= 2\n",
    "    # TODO, get number that are the same\n",
    "    m_v = (l[i], b_ops)\n",
    "    s_cnt = 0\n",
    "    # print(i, b_ops, goc)\n",
    "    for ind, el in enumerate(goc):\n",
    "        bv = [l[i], b_ops]\n",
    "        nv = [l[ind], goc[ind]]\n",
    "        while nv[0] < bv[0]:\n",
    "            nv[0] = nv[0] * nv[0]\n",
    "            nv[1] -= 1\n",
    "        while bv[0] < nv[0]:\n",
    "            bv[0] = bv[0] * bv[0]\n",
    "            bv[1] -= 1\n",
    "        s_cnt += bv[0] == nv[0] and bv[1] == nv[1]\n",
    "    lower = sum(goc)\n",
    "    upper = lower + s_cnt - 1\n",
    "    print(i, b_ops, goc, lower, upper)\n",
    "    if lower <= t and t <= upper:\n",
    "        # Get sum\n",
    "        total = 0\n",
    "        for ind, el in enumerate(goc):\n",
    "            total += pow(l[ind], pow(2, el, m - 1), m)\n",
    "        total += (t - lower) * (pow(l[i], pow(2, b_ops + 1, m - 1), m) - pow(l[i], pow(2, b_ops, m - 1), m))\n",
    "        return total\n",
    "    else:\n",
    "        return False"
   ]
  },
  {
   "cell_type": "code",
   "execution_count": 169,
   "id": "fd2f5e9e-174e-4bca-a104-3ebfd1a1b2c5",
   "metadata": {},
   "outputs": [
    {
     "name": "stdout",
     "output_type": "stream",
     "text": [
      "0\n",
      "0 2 [2, 2, 1, 1, 1, 1, 1, 1, 1] 11 12\n",
      "468\n"
     ]
    }
   ],
   "source": [
    "l = list(range(2, n + 1))\n",
    "for i in range(len(l)):\n",
    "    print(i)\n",
    "    s = tryIndex(i, l, t)\n",
    "    if s:\n",
    "        print(s)\n",
    "        break"
   ]
  },
  {
   "cell_type": "code",
   "execution_count": 172,
   "id": "17f8e970-5fdd-4282-a876-6f47cae3623f",
   "metadata": {},
   "outputs": [],
   "source": [
    "n, m = 10, 10"
   ]
  },
  {
   "cell_type": "code",
   "execution_count": 173,
   "id": "a60c0c0f-66a5-4130-b025-cff210ae52b8",
   "metadata": {},
   "outputs": [
    {
     "data": {
      "text/plain": [
       "([16, 81, 16, 25, 36, 49, 64, 81, 10], 8)"
      ]
     },
     "execution_count": 173,
     "metadata": {},
     "output_type": "execute_result"
    }
   ],
   "source": [
    "l = list(range(2, n + 1))\n",
    "for k in range(m):\n",
    "    for i, q in enumerate(l):\n",
    "        if q == min(l):\n",
    "            l[i] = q * q\n",
    "            break\n",
    "l, sum(l) % m"
   ]
  },
  {
   "cell_type": "code",
   "execution_count": null,
   "id": "a5a3f2b5-3ea3-4d22-aa35-08117d92ccbe",
   "metadata": {},
   "outputs": [],
   "source": []
  }
 ],
 "metadata": {
  "kernelspec": {
   "display_name": "Python 3 (ipykernel)",
   "language": "python",
   "name": "python3"
  },
  "language_info": {
   "codemirror_mode": {
    "name": "ipython",
    "version": 3
   },
   "file_extension": ".py",
   "mimetype": "text/x-python",
   "name": "python",
   "nbconvert_exporter": "python",
   "pygments_lexer": "ipython3",
   "version": "3.12.4"
  }
 },
 "nbformat": 4,
 "nbformat_minor": 5
}
