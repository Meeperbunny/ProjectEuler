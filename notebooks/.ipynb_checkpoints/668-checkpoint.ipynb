{
 "cells": [
  {
   "cell_type": "code",
   "execution_count": 79,
   "id": "c01f0d4e-fd4f-4012-9045-49851e4cb346",
   "metadata": {},
   "outputs": [],
   "source": [
    "from random import randint\n",
    "def miller_rabin(n, k=4):\n",
    "    if n <= 1:\n",
    "        return False\n",
    "    if n == 2 or n == 3:\n",
    "        return True\n",
    "    d = n - 1\n",
    "    s = 0\n",
    "    while d % 2 == 0:\n",
    "        d //= 2\n",
    "        s += 1\n",
    "    \n",
    "    y = 0\n",
    "    for _ in range(k):\n",
    "        a = randint(2, n - 2)\n",
    "        x = pow(a, d, n)\n",
    "        for _ in range(s):\n",
    "            y = pow(x, 2, n)\n",
    "            if y == 1 and x != 1 and x != n - 1:\n",
    "                return False\n",
    "            x = y\n",
    "        if y != 1:\n",
    "            return False\n",
    "    return True"
   ]
  },
  {
   "cell_type": "code",
   "execution_count": 70,
   "id": "9bdfb636-df95-4792-b207-0dc55db6f05b",
   "metadata": {},
   "outputs": [],
   "source": [
    "def ans(n):\n",
    "    cnt = 0\n",
    "    isbad = set()\n",
    "    for i in range(2, n + 1):\n",
    "        if (miller_rabin(i)):\n",
    "            for q in range(1, i + 1):\n",
    "                if i * q > n:\n",
    "                    break\n",
    "                isbad.add(i * q)\n",
    "    return n - len(isbad)"
   ]
  },
  {
   "cell_type": "code",
   "execution_count": 71,
   "id": "8c620253-c7e0-43e9-bf5b-ecee75d0c31c",
   "metadata": {},
   "outputs": [
    {
     "name": "stdout",
     "output_type": "stream",
     "text": [
      "CPU times: total: 188 ms\n",
      "Wall time: 191 ms\n"
     ]
    },
    {
     "data": {
      "text/plain": [
       "26613"
      ]
     },
     "execution_count": 71,
     "metadata": {},
     "output_type": "execute_result"
    }
   ],
   "source": [
    "%%time\n",
    "ans(100000)"
   ]
  },
  {
   "cell_type": "code",
   "execution_count": null,
   "id": "536a10e6-a647-4c20-94ee-762bdd8a1919",
   "metadata": {},
   "outputs": [],
   "source": []
  },
  {
   "cell_type": "code",
   "execution_count": 80,
   "id": "14423857-b664-45cb-b5cc-2a46d6f98b07",
   "metadata": {},
   "outputs": [],
   "source": [
    "def ans_f(n):\n",
    "    cnt = 0\n",
    "    isbad = set()\n",
    "    for i in range(2, n + 1):\n",
    "        if (miller_rabin(i)):\n",
    "            max_val = min(n, i * i)\n",
    "            min_val = i\n",
    "            cnt += (max_val - min_val + i) // i\n",
    "    return n - cnt"
   ]
  },
  {
   "cell_type": "code",
   "execution_count": 81,
   "id": "36f529a4-fb38-4ee2-9103-e91202f9f06f",
   "metadata": {},
   "outputs": [],
   "source": [
    "n = 10000000"
   ]
  },
  {
   "cell_type": "code",
   "execution_count": 77,
   "id": "539b1613-72e1-4354-969e-aaa777153fc2",
   "metadata": {},
   "outputs": [
    {
     "name": "stdout",
     "output_type": "stream",
     "text": [
      "CPU times: total: 20.2 s\n",
      "Wall time: 20.2 s\n"
     ]
    },
    {
     "data": {
      "text/plain": [
       "2719288"
      ]
     },
     "execution_count": 77,
     "metadata": {},
     "output_type": "execute_result"
    }
   ],
   "source": [
    "%%time\n",
    "ans(n)"
   ]
  },
  {
   "cell_type": "code",
   "execution_count": 82,
   "id": "e5138e13-f940-432b-98f7-fb1638e18956",
   "metadata": {},
   "outputs": [
    {
     "name": "stdout",
     "output_type": "stream",
     "text": [
      "CPU times: total: 18.9 s\n",
      "Wall time: 18.9 s\n"
     ]
    },
    {
     "data": {
      "text/plain": [
       "2719288"
      ]
     },
     "execution_count": 82,
     "metadata": {},
     "output_type": "execute_result"
    }
   ],
   "source": [
    "%%time\n",
    "ans_f(n)"
   ]
  },
  {
   "cell_type": "code",
   "execution_count": null,
   "id": "387596ce-3911-4cc3-8b0b-f151601b630e",
   "metadata": {},
   "outputs": [],
   "source": [
    "1e6 -> 268172\n",
    "1e7 -> 2719288"
   ]
  },
  {
   "cell_type": "code",
   "execution_count": null,
   "id": "c8ed20f0-de0b-4ed1-8eaf-95ee3c340296",
   "metadata": {},
   "outputs": [],
   "source": []
  },
  {
   "cell_type": "code",
   "execution_count": null,
   "id": "91471ae1-d6ad-4084-b389-ed8ca4feaf62",
   "metadata": {},
   "outputs": [],
   "source": []
  },
  {
   "cell_type": "code",
   "execution_count": null,
   "id": "bcd28069-e00d-48d0-b666-260bc9617f14",
   "metadata": {},
   "outputs": [],
   "source": []
  },
  {
   "cell_type": "code",
   "execution_count": null,
   "id": "10e348f1-8c99-486e-b23a-a71fa6f86ef1",
   "metadata": {},
   "outputs": [],
   "source": [
    "def ans_f(n):\n",
    "    cnt = 0\n",
    "    isbad = set()\n",
    "    for i in range(2, n + 1):\n",
    "        if (miller_rabin(i)):\n",
    "            max_val = min(n, i * i)\n",
    "            min_val = i\n",
    "            cnt += (max_val - min_val + i) // i\n",
    "    return n - cnt"
   ]
  }
 ],
 "metadata": {
  "kernelspec": {
   "display_name": "Python 3 (ipykernel)",
   "language": "python",
   "name": "python3"
  },
  "language_info": {
   "codemirror_mode": {
    "name": "ipython",
    "version": 3
   },
   "file_extension": ".py",
   "mimetype": "text/x-python",
   "name": "python",
   "nbconvert_exporter": "python",
   "pygments_lexer": "ipython3",
   "version": "3.12.4"
  }
 },
 "nbformat": 4,
 "nbformat_minor": 5
}
