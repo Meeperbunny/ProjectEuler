{
 "cells": [
  {
   "cell_type": "code",
   "execution_count": 1,
   "id": "2f828525-a9bb-4d93-85d2-a54ab31a3b9a",
   "metadata": {},
   "outputs": [],
   "source": [
    "from copy import deepcopy"
   ]
  },
  {
   "cell_type": "code",
   "execution_count": 12,
   "id": "f46526cd-df62-4ec7-be4b-d44633f962ff",
   "metadata": {},
   "outputs": [],
   "source": [
    "def get_dist(n, k):\n",
    "    b = [0 for _ in range(n * k + 1)]\n",
    "    b[0] = 1\n",
    "    for d in range(n):\n",
    "        nxt = [0 for _ in range(n * k + 1)]\n",
    "        for i in range(0, k * n + 1):\n",
    "            # Mult through\n",
    "            if b[i]:\n",
    "                for z in range(1, k + 1):\n",
    "                    nxt[i + z] += b[i] * (1 / k)\n",
    "        b = deepcopy(nxt)\n",
    "    return b"
   ]
  },
  {
   "cell_type": "code",
   "execution_count": 13,
   "id": "c47c9382-252e-41f6-b224-db9e2558e7c4",
   "metadata": {},
   "outputs": [
    {
     "data": {
      "text/plain": [
       "[0, 0, 0.25, 0.5, 0.25]"
      ]
     },
     "execution_count": 13,
     "metadata": {},
     "output_type": "execute_result"
    }
   ],
   "source": [
    "get_dist(2, 2)"
   ]
  },
  {
   "cell_type": "code",
   "execution_count": null,
   "id": "7b333781-6a7a-4e6b-a562-d953a3d17cc4",
   "metadata": {},
   "outputs": [],
   "source": []
  }
 ],
 "metadata": {
  "kernelspec": {
   "display_name": "Python 3 (ipykernel)",
   "language": "python",
   "name": "python3"
  },
  "language_info": {
   "codemirror_mode": {
    "name": "ipython",
    "version": 3
   },
   "file_extension": ".py",
   "mimetype": "text/x-python",
   "name": "python",
   "nbconvert_exporter": "python",
   "pygments_lexer": "ipython3",
   "version": "3.12.6"
  }
 },
 "nbformat": 4,
 "nbformat_minor": 5
}
