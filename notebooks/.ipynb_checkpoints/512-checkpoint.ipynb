{
 "cells": [
  {
   "cell_type": "code",
   "execution_count": 110,
   "id": "e24c45b8-651d-4f1c-9291-2bff0bce3fa6",
   "metadata": {},
   "outputs": [],
   "source": [
    "def extended_gcd(a, b):\n",
    "    old_r, r = a, b\n",
    "    old_s, s = 1, 0\n",
    "    old_t, t = 0, 1\n",
    "\n",
    "    while r:\n",
    "        quotient = old_r // r\n",
    "        old_r, r = r, old_r - quotient * r\n",
    "        old_s, s = s, old_s - quotient * s\n",
    "        old_t, t = t, old_t - quotient * t\n",
    "    # Bezout\n",
    "    return old_s, old_t\n",
    "    # GCD\n",
    "    # return old_r\n",
    "    # Quotients by gcd\n",
    "    # return t, s\n",
    "\n",
    "# Arr is a list of pairs [(a_1, n_1), (a_2, n_2),...]\n",
    "def chinese_remainder(arr):\n",
    "    a1, n1 = 0, 1\n",
    "    for a2, n2 in arr:\n",
    "        # Extended gcd for bezout constants\n",
    "        m1, m2 = extended_gcd(n1, n2)\n",
    "        a1, n1 = a1 * m2 * n2 + a2 * m1 * n1, n1 * n2\n",
    "    return a1"
   ]
  },
  {
   "cell_type": "code",
   "execution_count": 111,
   "id": "db467877-832f-4d5e-b707-92e23e05e9c7",
   "metadata": {},
   "outputs": [
    {
     "data": {
      "text/plain": [
       "33"
      ]
     },
     "execution_count": 111,
     "metadata": {},
     "output_type": "execute_result"
    }
   ],
   "source": [
    "chinese_remainder([(3, 5), (5, 7)])"
   ]
  },
  {
   "cell_type": "code",
   "execution_count": 134,
   "id": "b8750caf-647f-4a3d-a3c1-77576a6e0d61",
   "metadata": {},
   "outputs": [
    {
     "name": "stdout",
     "output_type": "stream",
     "text": [
      "[{}, {1: 1}, {2: 1}, {3: 1}, {2: 2}, {5: 1}, {2: 1, 3: 1}, {7: 1}, {2: 3}, {3: 2}, {2: 1, 5: 1}]\n"
     ]
    },
    {
     "data": {
      "text/plain": [
       "[[],\n",
       " [(1, 1)],\n",
       " [(2, 1)],\n",
       " [(3, 1)],\n",
       " [(2, 2)],\n",
       " [(5, 1)],\n",
       " [(2, 1), (3, 1)],\n",
       " [(7, 1)],\n",
       " [(2, 3)],\n",
       " [(3, 2)],\n",
       " [(2, 1), (5, 1)]]"
      ]
     },
     "execution_count": 134,
     "metadata": {},
     "output_type": "execute_result"
    }
   ],
   "source": [
    "prime_power_list(10)"
   ]
  },
  {
   "cell_type": "code",
   "execution_count": 131,
   "id": "02cd557c-a017-4b6a-bd4b-15270f93dcfb",
   "metadata": {},
   "outputs": [],
   "source": [
    "def prime_power_list(n):\n",
    "    ppl = [{} for _ in range(n + 1)]\n",
    "    ppl[1] = { 1: 1} \n",
    "    for p in range(2, n + 1):\n",
    "        if len(ppl[p]) == 0:\n",
    "            # is prime\n",
    "            i = 1\n",
    "            while True:\n",
    "                pp = p**i\n",
    "                if pp > n:\n",
    "                    break\n",
    "                for q in range(pp, n + 1, pp):\n",
    "                    if i == 1:\n",
    "                        ppl[q][p] = 1\n",
    "                    else:\n",
    "                        ppl[q][p] += 1\n",
    "                i += 1\n",
    "    print(ppl)\n",
    "    return [list(e.items()) for e in ppl]"
   ]
  },
  {
   "cell_type": "code",
   "execution_count": 82,
   "id": "a6c9cc7b-3b97-49cc-9541-6e8232c6ee76",
   "metadata": {},
   "outputs": [],
   "source": [
    "def totient(n):\n",
    "    tot = [1 for i in range(n + 1)]\n",
    "    for p in range(2, n + 1):\n",
    "        if tot[p] == 1:\n",
    "            # is prime\n",
    "            k = 1\n",
    "            while True:\n",
    "                b = p**k\n",
    "                if b > n:\n",
    "                    break\n",
    "                j = p\n",
    "                if k == 1:\n",
    "                    j = p - 1\n",
    "                for q in range(b, n + 1, b):\n",
    "                    tot[q] *= j\n",
    "                k += 1\n",
    "    return tot"
   ]
  },
  {
   "cell_type": "code",
   "execution_count": 86,
   "id": "4a08d96c-9ae0-4c37-a54c-ce15b8920392",
   "metadata": {},
   "outputs": [],
   "source": [
    "def geo(n, mod):\n",
    "    power = n\n",
    "    base = 0\n",
    "    curr_p = 1\n",
    "    new, last = 0, 0\n",
    "    while power:\n",
    "        if curr_p == 1:\n",
    "            new = 1\n",
    "        else:\n",
    "            new = (last + (last * pow(n, curr_p >> 1, mod))) % mod\n",
    "        if power & 1:\n",
    "            base = (base * pow(n, curr_p, mod) + new) % mod\n",
    "        power >>= 1\n",
    "        curr_p *= 2\n",
    "        last = new\n",
    "    return 0"
   ]
  },
  {
   "cell_type": "code",
   "execution_count": 88,
   "id": "18d00462-96c5-4c03-9546-883ab72157c1",
   "metadata": {},
   "outputs": [
    {
     "data": {
      "text/plain": [
       "2007"
      ]
     },
     "execution_count": 88,
     "metadata": {},
     "output_type": "execute_result"
    }
   ],
   "source": [
    "def ans(maxn):\n",
    "    tot = totient(maxn)\n",
    "    ans = 0\n",
    "    for n in range(1, maxn + 1):\n",
    "        mod = n + 1\n",
    "        base = geo(n, mod)\n",
    "        ans += (base * tot[n]) % mod\n",
    "    return ans\n",
    "ans(100)"
   ]
  },
  {
   "cell_type": "code",
   "execution_count": null,
   "id": "28a13dad-adfe-457e-acb9-56dbb0d739c0",
   "metadata": {},
   "outputs": [],
   "source": []
  },
  {
   "cell_type": "code",
   "execution_count": null,
   "id": "ab39df1c-1d48-4d95-8b04-5bba6d527514",
   "metadata": {},
   "outputs": [],
   "source": []
  },
  {
   "cell_type": "code",
   "execution_count": null,
   "id": "c79aba81-6d76-40ca-bc4b-c6fad4353922",
   "metadata": {},
   "outputs": [],
   "source": []
  },
  {
   "cell_type": "code",
   "execution_count": null,
   "id": "ced1f22f-6dbb-48e6-878f-53c8180ad587",
   "metadata": {},
   "outputs": [],
   "source": []
  },
  {
   "cell_type": "code",
   "execution_count": 194,
   "id": "020d218c-c986-45ae-9d5b-6261ae2fa7fa",
   "metadata": {},
   "outputs": [
    {
     "data": {
      "text/plain": [
       "202661"
      ]
     },
     "execution_count": 194,
     "metadata": {},
     "output_type": "execute_result"
    }
   ],
   "source": [
    "def totient(n):\n",
    "    tot = [1 for i in range(n + 1)]\n",
    "    for p in range(2, n + 1):\n",
    "        if tot[p] == 1:\n",
    "            # is prime\n",
    "            k = 1\n",
    "            while True:\n",
    "                b = p**k\n",
    "                if b > n:\n",
    "                    break\n",
    "                j = p\n",
    "                if k == 1:\n",
    "                    j = p - 1\n",
    "                for q in range(b, n + 1, b):\n",
    "                    tot[q] *= j\n",
    "                k += 1\n",
    "    return tot\n",
    "\n",
    "def geo(n, mod):\n",
    "    power = n\n",
    "    base = 0\n",
    "    curr_p = 1\n",
    "    ma = {}\n",
    "    while power:\n",
    "        if curr_p == 1:\n",
    "            ma[curr_p] = 1\n",
    "        else:\n",
    "            ma[curr_p] = (ma[curr_p >> 1] + (ma[curr_p >> 1] * pow(n, curr_p >> 1, mod))) % mod\n",
    "        if power & 1:\n",
    "            base = (base * pow(n, curr_p, mod) + ma[curr_p]) % mod\n",
    "        power >>= 1\n",
    "        curr_p *= 2\n",
    "    return base\n",
    "\n",
    "def ans(maxn):\n",
    "    tot = totient(maxn)\n",
    "    ans = 0\n",
    "    for n in range(1, maxn + 1):\n",
    "        mod = n + 1\n",
    "        base = geo(n, mod)\n",
    "        ans += (base * tot[n]) % mod\n",
    "    return ans\n",
    "ans(1000)"
   ]
  },
  {
   "cell_type": "markdown",
   "id": "e07bf161-5ec6-40ba-bcd2-17a916047eea",
   "metadata": {},
   "source": [
    "# New Approach: CRT and PPL"
   ]
  },
  {
   "cell_type": "code",
   "execution_count": 135,
   "id": "e37f02ad-6300-4399-b13f-c0c9b669189a",
   "metadata": {},
   "outputs": [],
   "source": [
    "def extended_gcd(a, b):\n",
    "    old_r, r = a, b\n",
    "    old_s, s = 1, 0\n",
    "    old_t, t = 0, 1\n",
    "\n",
    "    while r:\n",
    "        quotient = old_r // r\n",
    "        old_r, r = r, old_r - quotient * r\n",
    "        old_s, s = s, old_s - quotient * s\n",
    "        old_t, t = t, old_t - quotient * t\n",
    "    # Bezout\n",
    "    return old_s, old_t\n",
    "    # GCD\n",
    "    # return old_r\n",
    "    # Quotients by gcd\n",
    "    # return t, s\n",
    "\n",
    "# Arr is a list of pairs [(a_1, n_1), (a_2, n_2),...]\n",
    "def chinese_remainder(arr):\n",
    "    a1, n1 = 0, 1\n",
    "    for a2, n2 in arr:\n",
    "        # Extended gcd for bezout constants\n",
    "        m1, m2 = extended_gcd(n1, n2)\n",
    "        a1, n1 = a1 * m2 * n2 + a2 * m1 * n1, n1 * n2\n",
    "    return a1"
   ]
  },
  {
   "cell_type": "code",
   "execution_count": 161,
   "id": "c6100bfc-7f4e-4e91-ba94-d682ccbc07a3",
   "metadata": {},
   "outputs": [],
   "source": [
    "def prime_power_list(n):\n",
    "    ppl = [{} for _ in range(n + 1)]\n",
    "    ppl[1] = { 1: 1} \n",
    "    for p in range(2, n + 1):\n",
    "        if len(ppl[p]) == 0:\n",
    "            # is prime\n",
    "            i = 1\n",
    "            while True:\n",
    "                pp = p**i\n",
    "                if pp > n:\n",
    "                    break\n",
    "                for q in range(pp, n + 1, pp):\n",
    "                    if i == 1:\n",
    "                        ppl[q][p] = p\n",
    "                    else:\n",
    "                        ppl[q][p] *= p\n",
    "                i += 1\n",
    "    return [list(e.items()) for e in ppl]"
   ]
  },
  {
   "cell_type": "code",
   "execution_count": 141,
   "id": "e29b710c-1026-4786-bad2-f10dfe77f64f",
   "metadata": {},
   "outputs": [],
   "source": [
    "def totient(n):\n",
    "    tot = [1 for i in range(n + 1)]\n",
    "    for p in range(2, n + 1):\n",
    "        if tot[p] == 1:\n",
    "            # is prime\n",
    "            k = 1\n",
    "            while True:\n",
    "                b = p**k\n",
    "                if b > n:\n",
    "                    break\n",
    "                j = p\n",
    "                if k == 1:\n",
    "                    j = p - 1\n",
    "                for q in range(b, n + 1, b):\n",
    "                    tot[q] *= j\n",
    "                k += 1\n",
    "    return tot"
   ]
  },
  {
   "cell_type": "code",
   "execution_count": 189,
   "id": "3baf5165-c1f7-4e3a-9148-9162ca7036bf",
   "metadata": {},
   "outputs": [],
   "source": [
    "def geo(n, mod, ppl):\n",
    "    # For each prime power,\n",
    "    # print(n, mod, ppl)\n",
    "    crt_list = []\n",
    "    for p, pp in ppl:\n",
    "        biggestdiv = 0\n",
    "        base = 1\n",
    "        while (n - 1) % (base * p) == 0:\n",
    "            base *= p\n",
    "        t_m = base * pp\n",
    "        res = pow(n, n, t_m) - 1\n",
    "        if res == -1:\n",
    "            res += tm\n",
    "        # Have new res\n",
    "        new_num = res // base\n",
    "        new_den = (n - 1) // base\n",
    "        # print(pp, (n - 1), base, new_den)\n",
    "        sol = (new_num * pow(new_den, -1, pp)) % pp\n",
    "        crt_list.append(((new_num * pow(new_den, -1, pp)) % pp, pp))\n",
    "    return chinese_remainder(crt_list)"
   ]
  },
  {
   "cell_type": "code",
   "execution_count": 193,
   "id": "8a838bc3-97db-4142-897e-72f1b69f7047",
   "metadata": {},
   "outputs": [
    {
     "data": {
      "text/plain": [
       "202661"
      ]
     },
     "execution_count": 193,
     "metadata": {},
     "output_type": "execute_result"
    }
   ],
   "source": [
    "def ans(maxn):\n",
    "    tot = totient(maxn)\n",
    "    ppl = prime_power_list(maxn + 1)\n",
    "    ans = 0\n",
    "    for n in range(2, maxn + 1):\n",
    "        mod = n + 1\n",
    "        base = geo(n, mod, ppl[mod])\n",
    "        ans += (base * tot[n]) % mod\n",
    "    return 1 + ans\n",
    "ans(1000)"
   ]
  },
  {
   "cell_type": "code",
   "execution_count": null,
   "id": "4be9ff74-79da-4aac-994f-29de0180d862",
   "metadata": {},
   "outputs": [],
   "source": []
  },
  {
   "cell_type": "code",
   "execution_count": null,
   "id": "b0799e4d-061c-407a-ada6-f110cd5dc6ca",
   "metadata": {},
   "outputs": [],
   "source": []
  },
  {
   "cell_type": "code",
   "execution_count": null,
   "id": "9ad01469-ded0-4897-9e8f-d9b2176a8e95",
   "metadata": {},
   "outputs": [],
   "source": []
  },
  {
   "cell_type": "code",
   "execution_count": null,
   "id": "a72a6ac0-72c1-4ff7-87cf-9372e7d456a4",
   "metadata": {},
   "outputs": [],
   "source": []
  },
  {
   "cell_type": "code",
   "execution_count": 196,
   "id": "11720049-bfbb-4c02-b544-d9383b3bf595",
   "metadata": {},
   "outputs": [
    {
     "data": {
      "text/plain": [
       "2026413875"
      ]
     },
     "execution_count": 196,
     "metadata": {},
     "output_type": "execute_result"
    }
   ],
   "source": [
    "def extended_gcd(a, b):\n",
    "    old_r, r = a, b\n",
    "    old_s, s = 1, 0\n",
    "    old_t, t = 0, 1\n",
    "\n",
    "    while r:\n",
    "        quotient = old_r // r\n",
    "        old_r, r = r, old_r - quotient * r\n",
    "        old_s, s = s, old_s - quotient * s\n",
    "        old_t, t = t, old_t - quotient * t\n",
    "    # Bezout\n",
    "    return old_s, old_t\n",
    "    # GCD\n",
    "    # return old_r\n",
    "    # Quotients by gcd\n",
    "    # return t, s\n",
    "\n",
    "# Arr is a list of pairs [(a_1, n_1), (a_2, n_2),...]\n",
    "def chinese_remainder(arr):\n",
    "    a1, n1 = 0, 1\n",
    "    for a2, n2 in arr:\n",
    "        # Extended gcd for bezout constants\n",
    "        m1, m2 = extended_gcd(n1, n2)\n",
    "        a1, n1 = a1 * m2 * n2 + a2 * m1 * n1, n1 * n2\n",
    "    return a1\n",
    "\n",
    "def prime_power_list(n):\n",
    "    ppl = [{} for _ in range(n + 1)]\n",
    "    ppl[1] = { 1: 1} \n",
    "    for p in range(2, n + 1):\n",
    "        if len(ppl[p]) == 0:\n",
    "            # is prime\n",
    "            i = 1\n",
    "            while True:\n",
    "                pp = p**i\n",
    "                if pp > n:\n",
    "                    break\n",
    "                for q in range(pp, n + 1, pp):\n",
    "                    if i == 1:\n",
    "                        ppl[q][p] = p\n",
    "                    else:\n",
    "                        ppl[q][p] *= p\n",
    "                i += 1\n",
    "    return [list(e.items()) for e in ppl]\n",
    "\n",
    "def totient(n):\n",
    "    tot = [1 for i in range(n + 1)]\n",
    "    for p in range(2, n + 1):\n",
    "        if tot[p] == 1:\n",
    "            # is prime\n",
    "            k = 1\n",
    "            while True:\n",
    "                b = p**k\n",
    "                if b > n:\n",
    "                    break\n",
    "                j = p\n",
    "                if k == 1:\n",
    "                    j = p - 1\n",
    "                for q in range(b, n + 1, b):\n",
    "                    tot[q] *= j\n",
    "                k += 1\n",
    "    return tot\n",
    "\n",
    "def geo(n, mod, ppl):\n",
    "    # For each prime power,\n",
    "    # print(n, mod, ppl)\n",
    "    crt_list = []\n",
    "    for p, pp in ppl:\n",
    "        base = 1\n",
    "        while (n - 1) % (base * p) == 0:\n",
    "            base *= p\n",
    "        t_m = base * pp\n",
    "        res = pow(n, n, t_m) - 1\n",
    "        if res == -1:\n",
    "            res += tm\n",
    "        # Have new res\n",
    "        new_num = res // base\n",
    "        new_den = (n - 1) // base\n",
    "        # print(pp, (n - 1), base, new_den)\n",
    "        sol = (new_num * pow(new_den, -1, pp)) % pp\n",
    "        crt_list.append(((new_num * pow(new_den, -1, pp)) % pp, pp))\n",
    "    return chinese_remainder(crt_list)\n",
    "\n",
    "def ans(maxn):\n",
    "    tot = totient(maxn)\n",
    "    ppl = prime_power_list(maxn + 1)\n",
    "    ans = 0\n",
    "    for n in range(2, maxn + 1):\n",
    "        mod = n + 1\n",
    "        base = geo(n, mod, ppl[mod])\n",
    "        ans += (base * tot[n]) % mod\n",
    "    return 1 + ans\n",
    "ans(100000)"
   ]
  },
  {
   "cell_type": "code",
   "execution_count": null,
   "id": "2e1352e4-79f9-4732-94a3-7c83c1a6e566",
   "metadata": {},
   "outputs": [],
   "source": []
  }
 ],
 "metadata": {
  "kernelspec": {
   "display_name": "Python 3 (ipykernel)",
   "language": "python",
   "name": "python3"
  },
  "language_info": {
   "codemirror_mode": {
    "name": "ipython",
    "version": 3
   },
   "file_extension": ".py",
   "mimetype": "text/x-python",
   "name": "python",
   "nbconvert_exporter": "python",
   "pygments_lexer": "ipython3",
   "version": "3.12.4"
  }
 },
 "nbformat": 4,
 "nbformat_minor": 5
}
