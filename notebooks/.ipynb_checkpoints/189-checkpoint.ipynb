{
 "cells": [
  {
   "cell_type": "code",
   "execution_count": 7,
   "id": "89bb5e66-f06b-4bd7-a10b-16fc4fd948db",
   "metadata": {
    "scrolled": true
   },
   "outputs": [
    {
     "name": "stdout",
     "output_type": "stream",
     "text": [
      "0\n",
      "1\n",
      "2\n",
      "3\n",
      "4\n",
      "5\n",
      "6\n",
      "7\n",
      "10834893628237824\n"
     ]
    }
   ],
   "source": [
    "dp = [[[0 for _ in range(6562)] for _ in range(2)] for _ in range(8)]\n",
    "\n",
    "def itov(i, v):\n",
    "    ind = 0\n",
    "    while i:\n",
    "        v[ind] = i % 3\n",
    "        i //= 3\n",
    "        ind += 1\n",
    "\n",
    "def iscomp(lc, uc, ls, us):\n",
    "    c1 = [0] * us\n",
    "    c2 = [0] * ls\n",
    "    itov(uc, c1)\n",
    "    itov(lc, c2)\n",
    "\n",
    "    if ls == us:\n",
    "        for i in range(ls):\n",
    "            if c1[i] == c2[i]:\n",
    "                return False\n",
    "    else:\n",
    "        for i in range(us):\n",
    "            if c1[i] == c2[i] or c1[i] == c2[i + 1]:\n",
    "                return False\n",
    "    return True\n",
    "\n",
    "def TC():\n",
    "    global dp\n",
    "    dp = [[[0 for _ in range(6562)] for _ in range(2)] for _ in range(8)]\n",
    "\n",
    "    for i in range(8):\n",
    "        print(i)\n",
    "        # Upper part\n",
    "        if i == 0:\n",
    "            dp[i][0][0] = 1\n",
    "            dp[i][0][1] = 1\n",
    "            dp[i][0][2] = 1\n",
    "        else:\n",
    "            for bot in range(int(pow(3, i + 1))):\n",
    "                for top in range(int(pow(3, i))):\n",
    "                    if iscomp(bot, top, i + 1, i):\n",
    "                        dp[i][0][bot] += dp[i - 1][1][top]\n",
    "\n",
    "        if i == 7:\n",
    "            break\n",
    "\n",
    "        # Lower part\n",
    "        for lc in range(int(pow(3, i + 1))):\n",
    "            for uc in range(int(pow(3, i + 1))):\n",
    "                if iscomp(lc, uc, i + 1, i + 1):\n",
    "                    dp[i][1][lc] += dp[i][0][uc]\n",
    "\n",
    "    tot = sum(dp[7][0])\n",
    "    print(tot)\n",
    "TC()"
   ]
  }
 ],
 "metadata": {
  "kernelspec": {
   "display_name": "Python 3 (ipykernel)",
   "language": "python",
   "name": "python3"
  },
  "language_info": {
   "codemirror_mode": {
    "name": "ipython",
    "version": 3
   },
   "file_extension": ".py",
   "mimetype": "text/x-python",
   "name": "python",
   "nbconvert_exporter": "python",
   "pygments_lexer": "ipython3",
   "version": "3.12.4"
  }
 },
 "nbformat": 4,
 "nbformat_minor": 5
}
