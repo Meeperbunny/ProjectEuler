{
 "cells": [
  {
   "cell_type": "code",
   "execution_count": 4,
   "id": "88a2ebf0-f0e6-42a7-bd95-919908112d89",
   "metadata": {},
   "outputs": [],
   "source": [
    "from fractions import Fraction\n",
    "from tqdm import tqdm\n",
    "from decimal import Decimal"
   ]
  },
  {
   "cell_type": "code",
   "execution_count": 5,
   "id": "e4f871af-4b11-4114-af1c-173e0a83ec92",
   "metadata": {},
   "outputs": [],
   "source": [
    "def sieve(n):\n",
    "    s = [1 for _ in range(n + 1)]\n",
    "    primes = []\n",
    "    for q in range(2, n + 1):\n",
    "        if s[q]:\n",
    "            primes.append(q)\n",
    "            for i in range(2 * q, n + 1, q):\n",
    "                s[i] = 0\n",
    "    return primes"
   ]
  },
  {
   "cell_type": "code",
   "execution_count": 6,
   "id": "f05a2505-5840-4c01-ba93-0bd504dcbf00",
   "metadata": {},
   "outputs": [],
   "source": [
    "def amnt(n):\n",
    "    primes = sieve(n)\n",
    "    s, la = Fraction(1), 1\n",
    "    ret = []\n",
    "    for p in primes:\n",
    "        s = s * (1 - (1 / Fraction(p)))\n",
    "        ret.append((p, la - s))\n",
    "        la = s\n",
    "    return ret"
   ]
  },
  {
   "cell_type": "code",
   "execution_count": 7,
   "id": "ce2f0eeb-4050-40e6-975d-97ab69e3fd60",
   "metadata": {},
   "outputs": [
    {
     "name": "stderr",
     "output_type": "stream",
     "text": [
      " 13%|██████████▏                                                                      | 30/239 [00:01<00:11, 18.86it/s]\n"
     ]
    },
    {
     "ename": "KeyboardInterrupt",
     "evalue": "",
     "output_type": "error",
     "traceback": [
      "\u001b[1;31m---------------------------------------------------------------------------\u001b[0m",
      "\u001b[1;31mKeyboardInterrupt\u001b[0m                         Traceback (most recent call last)",
      "Cell \u001b[1;32mIn[7], line 10\u001b[0m\n\u001b[0;32m      8\u001b[0m ra \u001b[38;5;241m=\u001b[39m Fraction(R)\n\u001b[0;32m      9\u001b[0m \u001b[38;5;28;01mfor\u001b[39;00m po \u001b[38;5;129;01min\u001b[39;00m \u001b[38;5;28mrange\u001b[39m(\u001b[38;5;241m1\u001b[39m, pm):\n\u001b[1;32m---> 10\u001b[0m     curr \u001b[38;5;241m=\u001b[39m ra \u001b[38;5;241m-\u001b[39m (\u001b[43mra\u001b[49m\u001b[38;5;241;43m/\u001b[39;49m\u001b[43mp\u001b[49m)\n\u001b[0;32m     11\u001b[0m     ra \u001b[38;5;241m=\u001b[39m ra \u001b[38;5;241m/\u001b[39m p\n\u001b[0;32m     12\u001b[0m     F \u001b[38;5;241m=\u001b[39m curr \u001b[38;5;241m*\u001b[39m (po \u001b[38;5;241m-\u001b[39m \u001b[38;5;241m1\u001b[39m) \u001b[38;5;241m/\u001b[39m p\u001b[38;5;241m*\u001b[39m\u001b[38;5;241m*\u001b[39mK\n",
      "File \u001b[1;32m~\\AppData\\Local\\Programs\\Python\\Python312\\Lib\\fractions.py:613\u001b[0m, in \u001b[0;36mFraction._operator_fallbacks.<locals>.forward\u001b[1;34m(a, b)\u001b[0m\n\u001b[0;32m    533\u001b[0m \u001b[38;5;28;01mdef\u001b[39;00m \u001b[38;5;21m_operator_fallbacks\u001b[39m(monomorphic_operator, fallback_operator):\n\u001b[0;32m    534\u001b[0m \u001b[38;5;250m    \u001b[39m\u001b[38;5;124;03m\"\"\"Generates forward and reverse operators given a purely-rational\u001b[39;00m\n\u001b[0;32m    535\u001b[0m \u001b[38;5;124;03m    operator and a function from the operator module.\u001b[39;00m\n\u001b[0;32m    536\u001b[0m \n\u001b[1;32m   (...)\u001b[0m\n\u001b[0;32m    611\u001b[0m \n\u001b[0;32m    612\u001b[0m \u001b[38;5;124;03m    \"\"\"\u001b[39;00m\n\u001b[1;32m--> 613\u001b[0m     \u001b[38;5;28;01mdef\u001b[39;00m \u001b[38;5;21mforward\u001b[39m(a, b):\n\u001b[0;32m    614\u001b[0m         \u001b[38;5;28;01mif\u001b[39;00m \u001b[38;5;28misinstance\u001b[39m(b, Fraction):\n\u001b[0;32m    615\u001b[0m             \u001b[38;5;28;01mreturn\u001b[39;00m monomorphic_operator(a, b)\n",
      "\u001b[1;31mKeyboardInterrupt\u001b[0m: "
     ]
    }
   ],
   "source": [
    "ans = 0\n",
    "n, k, pm = 2000, 120, 100\n",
    "A = amnt(n)\n",
    "ans = Decimal(0)\n",
    "for p, R in tqdm(A):\n",
    "    p = Fraction(p)\n",
    "    for K in range(1, k + 1):\n",
    "        ra = Fraction(R)\n",
    "        for po in range(1, pm):\n",
    "            curr = ra - (ra/p)\n",
    "            ra = ra / p\n",
    "            F = curr * (po - 1) / p**K\n",
    "            ans += Decimal(F.numerator) / Decimal(F.denominator)\n",
    "print(ans)"
   ]
  },
  {
   "cell_type": "code",
   "execution_count": null,
   "id": "de910e76-2437-4d48-a28c-770402b92da3",
   "metadata": {},
   "outputs": [],
   "source": [
    "0.547326100445\n",
    "0.54732610182824547632\n",
    "0.5473261026356292159067616144\n",
    "0.547326102765\n",
    "0.547326103404 [[Waited a long time]]\n",
    "0.547326103695 [[With auto cutoff]]\n",
    "0.547326103761 [[larger and auto cutoff]]\n",
    "0.547326103761171426434715126327\n",
    "0.547326103804\n",
    "0.547326103813"
   ]
  },
  {
   "cell_type": "code",
   "execution_count": null,
   "id": "96136b1d-3d18-4ed5-a332-c70e12af2ca3",
   "metadata": {},
   "outputs": [],
   "source": [
    "def density_list(n):\n",
    "    l2 = [1]\n",
    "    l1 = [0.5]\n",
    "    while len(l1) != n:\n",
    "        l2.append(1 - sum(l1))\n",
    "        l1.append(l2[len(l1)] - l2[len(l1)]"
   ]
  },
  {
   "cell_type": "code",
   "execution_count": null,
   "id": "52a1c91f-711f-45fe-b504-2f45e86a54df",
   "metadata": {},
   "outputs": [],
   "source": []
  },
  {
   "cell_type": "code",
   "execution_count": null,
   "id": "3cb7ba05-71c0-4a58-b927-03fa1c10cf90",
   "metadata": {},
   "outputs": [],
   "source": []
  },
  {
   "cell_type": "code",
   "execution_count": null,
   "id": "6fd9214a-ace4-4858-8c38-8af88f68b835",
   "metadata": {},
   "outputs": [],
   "source": [
    "from fractions import Fraction\n",
    "from tqdm import tqdm\n",
    "from decimal import Decimal\n",
    "\n",
    "def sieve(n):\n",
    "    s = [1 for _ in range(n + 1)]\n",
    "    primes = []\n",
    "    for q in range(2, n + 1):\n",
    "        if s[q]:\n",
    "            primes.append(q)\n",
    "            for i in range(2 * q, n + 1, q):\n",
    "                s[i] = 0\n",
    "    return primes\n",
    "\n",
    "def amnt(n):\n",
    "    primes = sieve(n)\n",
    "    s, la = Fraction(1), 1\n",
    "    ret = []\n",
    "    for p in primes:\n",
    "        s = s * (1 - (1 / Fraction(p)))\n",
    "        ret.append((p, la - s))\n",
    "        la = s\n",
    "    return ret\n",
    "\n",
    "ans = 0\n",
    "n, k, pm = 2000, 120, 100\n",
    "A = amnt(n)\n",
    "ans = Decimal(0)\n",
    "for p, R in tqdm(A):\n",
    "    p = Fraction(p)\n",
    "    for K in range(1, k + 1):\n",
    "        ra = Fraction(R)\n",
    "        for po in range(1, pm):\n",
    "            curr = ra - (ra/p)\n",
    "            ra = ra / p\n",
    "            F = curr * (po - 1) / p**K\n",
    "            ans += Decimal(F.numerator) / Decimal(F.denominator)\n",
    "print(ans)"
   ]
  }
 ],
 "metadata": {
  "kernelspec": {
   "display_name": "Python 3 (ipykernel)",
   "language": "python",
   "name": "python3"
  },
  "language_info": {
   "codemirror_mode": {
    "name": "ipython",
    "version": 3
   },
   "file_extension": ".py",
   "mimetype": "text/x-python",
   "name": "python",
   "nbconvert_exporter": "python",
   "pygments_lexer": "ipython3",
   "version": "3.12.4"
  }
 },
 "nbformat": 4,
 "nbformat_minor": 5
}
