{
 "cells": [
  {
   "cell_type": "code",
   "execution_count": 1,
   "id": "861e0a57",
   "metadata": {},
   "outputs": [],
   "source": [
    "import unittest\n",
    "\n",
    "def mckay(n):\n",
    "    \"\"\"\n",
    "    Integer partitions of n, in reverse lexicographic order.\n",
    "    Note that the generated output consists of the same list object,\n",
    "    repeated the correct number of times; the caller must leave this\n",
    "    list unchanged, and must make a copy of any partition that is\n",
    "    intended to last longer than the next call into the generator.\n",
    "    The algorithm follows Knuth v4 fasc3 p38 in rough outline.\n",
    "    \"\"\"\n",
    "    if n == 0:\n",
    "        yield []\n",
    "    if n <= 0:\n",
    "        return\n",
    "    partition = [n]\n",
    "    last_nonunit = (n > 1) - 1\n",
    "    while True:\n",
    "        yield partition\n",
    "        if last_nonunit < 0:\n",
    "            return\n",
    "        if partition[last_nonunit] == 2:\n",
    "            partition[last_nonunit] = 1\n",
    "            partition.append(1)\n",
    "            last_nonunit -= 1\n",
    "            continue\n",
    "        replacement = partition[last_nonunit] - 1\n",
    "        total_replaced = replacement + len(partition) - last_nonunit\n",
    "        reps,rest = divmod(total_replaced,replacement)\n",
    "        partition[last_nonunit:] = reps*[replacement]\n",
    "        if rest:\n",
    "            partition.append(rest)\n",
    "        last_nonunit = len(partition) - (partition[-1]==1) - 1\n",
    "\n",
    "def integer_partition(n):\n",
    "    return [e.copy() for e in mckay(n)]"
   ]
  },
  {
   "cell_type": "code",
   "execution_count": 4,
   "id": "0a8aed17",
   "metadata": {},
   "outputs": [],
   "source": [
    "def fac(n):\n",
    "    return n * fac(n - 1) if n > 1 else 1"
   ]
  },
  {
   "cell_type": "code",
   "execution_count": 13,
   "id": "ec7fa0d8",
   "metadata": {},
   "outputs": [],
   "source": [
    "def binom(n, k):\n",
    "    return fac(n) // fac(k)"
   ]
  },
  {
   "cell_type": "code",
   "execution_count": 14,
   "id": "e55d6a9c",
   "metadata": {},
   "outputs": [],
   "source": [
    "def multi(l):\n",
    "    base = fac(sum(l))\n",
    "    for e in l:\n",
    "        base //= fac(e)\n",
    "    return base"
   ]
  },
  {
   "cell_type": "code",
   "execution_count": 15,
   "id": "c0cbac35",
   "metadata": {},
   "outputs": [
    {
     "data": {
      "text/plain": [
       "12"
      ]
     },
     "execution_count": 15,
     "metadata": {},
     "output_type": "execute_result"
    }
   ],
   "source": [
    "multi([2, 1, 1])"
   ]
  },
  {
   "cell_type": "code",
   "execution_count": 28,
   "id": "a3c9316c",
   "metadata": {},
   "outputs": [],
   "source": [
    "def t(n):\n",
    "    return n * (n - 1) // 2"
   ]
  },
  {
   "cell_type": "code",
   "execution_count": 36,
   "id": "ebe84be0",
   "metadata": {},
   "outputs": [],
   "source": [
    "def ans(n):\n",
    "    for e in mckay(n):\n",
    "        print(t(multi(e)), e, t(multi(e)) * multi([10 - sum(e), *e]))\n",
    "        "
   ]
  },
  {
   "cell_type": "code",
   "execution_count": 38,
   "id": "e2c2b4c5",
   "metadata": {},
   "outputs": [
    {
     "name": "stdout",
     "output_type": "stream",
     "text": [
      "0 [3] 0\n",
      "3 [2, 1] 1080\n",
      "15 [1, 1, 1] 10800\n"
     ]
    }
   ],
   "source": [
    "ans(3)"
   ]
  },
  {
   "cell_type": "code",
   "execution_count": null,
   "id": "ac9a8974",
   "metadata": {},
   "outputs": [],
   "source": []
  }
 ],
 "metadata": {
  "kernelspec": {
   "display_name": "Python 3 (ipykernel)",
   "language": "python",
   "name": "python3"
  },
  "language_info": {
   "codemirror_mode": {
    "name": "ipython",
    "version": 3
   },
   "file_extension": ".py",
   "mimetype": "text/x-python",
   "name": "python",
   "nbconvert_exporter": "python",
   "pygments_lexer": "ipython3",
   "version": "3.10.6"
  }
 },
 "nbformat": 4,
 "nbformat_minor": 5
}
