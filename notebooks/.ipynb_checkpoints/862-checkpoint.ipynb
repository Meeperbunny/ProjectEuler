{
 "cells": [
  {
   "cell_type": "code",
   "execution_count": 1,
   "id": "861e0a57",
   "metadata": {},
   "outputs": [],
   "source": [
    "import unittest\n",
    "\n",
    "def mckay(n):\n",
    "    \"\"\"\n",
    "    Integer partitions of n, in reverse lexicographic order.\n",
    "    Note that the generated output consists of the same list object,\n",
    "    repeated the correct number of times; the caller must leave this\n",
    "    list unchanged, and must make a copy of any partition that is\n",
    "    intended to last longer than the next call into the generator.\n",
    "    The algorithm follows Knuth v4 fasc3 p38 in rough outline.\n",
    "    \"\"\"\n",
    "    if n == 0:\n",
    "        yield []\n",
    "    if n <= 0:\n",
    "        return\n",
    "    partition = [n]\n",
    "    last_nonunit = (n > 1) - 1\n",
    "    while True:\n",
    "        yield partition\n",
    "        if last_nonunit < 0:\n",
    "            return\n",
    "        if partition[last_nonunit] == 2:\n",
    "            partition[last_nonunit] = 1\n",
    "            partition.append(1)\n",
    "            last_nonunit -= 1\n",
    "            continue\n",
    "        replacement = partition[last_nonunit] - 1\n",
    "        total_replaced = replacement + len(partition) - last_nonunit\n",
    "        reps,rest = divmod(total_replaced,replacement)\n",
    "        partition[last_nonunit:] = reps*[replacement]\n",
    "        if rest:\n",
    "            partition.append(rest)\n",
    "        last_nonunit = len(partition) - (partition[-1]==1) - 1\n",
    "\n",
    "def integer_partition(n):\n",
    "    return [e.copy() for e in mckay(n)]"
   ]
  },
  {
   "cell_type": "code",
   "execution_count": 2,
   "id": "0a8aed17",
   "metadata": {},
   "outputs": [],
   "source": [
    "def fac(n):\n",
    "    return n * fac(n - 1) if n > 1 else 1"
   ]
  },
  {
   "cell_type": "code",
   "execution_count": 3,
   "id": "ec7fa0d8",
   "metadata": {},
   "outputs": [],
   "source": [
    "def binom(n, k):\n",
    "    return fac(n) // fac(k) // fac(n - k)"
   ]
  },
  {
   "cell_type": "code",
   "execution_count": 38,
   "id": "e55d6a9c",
   "metadata": {},
   "outputs": [],
   "source": [
    "def multi(l):\n",
    "    if len(l) == 0:\n",
    "        return 0\n",
    "    base = fac(sum(l))\n",
    "    for e in l:\n",
    "        base //= fac(e)\n",
    "    return base"
   ]
  },
  {
   "cell_type": "code",
   "execution_count": 39,
   "id": "a3c9316c",
   "metadata": {},
   "outputs": [],
   "source": [
    "def t(n):\n",
    "    return n * (n - 1) // 2"
   ]
  },
  {
   "cell_type": "code",
   "execution_count": 40,
   "id": "41093026-e267-4ef0-8f05-fb6300a94b64",
   "metadata": {},
   "outputs": [],
   "source": [
    "from collections import Counter"
   ]
  },
  {
   "cell_type": "code",
   "execution_count": 48,
   "id": "ebe84be0",
   "metadata": {},
   "outputs": [
    {
     "name": "stdout",
     "output_type": "stream",
     "text": [
      "[3] dict_keys([3])\n",
      "3 []\n",
      "ZPerm: [] 0\n",
      "[2, 1] dict_keys([2, 1])\n",
      "2 [1]\n",
      "ZPerm: [1] 27\n",
      "1 [2]\n",
      "ZPerm: [2] 27\n",
      "[1, 1, 1] dict_keys([1])\n",
      "1 [1, 1]\n",
      "ZPerm: [1, 1] 540\n"
     ]
    },
    {
     "data": {
      "text/plain": [
       "2070"
      ]
     },
     "execution_count": 48,
     "metadata": {},
     "output_type": "execute_result"
    }
   ],
   "source": [
    "def ans(n):\n",
    "    tot = 0\n",
    "    for e in mckay(n):\n",
    "        ec = list(Counter(e).values())\n",
    "        us = 9 - sum(ec)\n",
    "        nl = [us, *ec]\n",
    "        wtc = multi(nl)\n",
    "        pc = multi(e)\n",
    "        tot += wtc * t(pc)\n",
    "        # Do it for zeros now\n",
    "        print(e, Counter(e).keys())\n",
    "        for zc in Counter(e).keys():\n",
    "            cc = e.copy()\n",
    "            cc.remove(zc)\n",
    "            print(zc, cc)\n",
    "            ec = list(Counter(cc).values())\n",
    "            us = 9 - sum(ec)\n",
    "            nl = [us, *ec]\n",
    "            wtc = multi(nl)\n",
    "    \n",
    "            pc_wo = multi(cc)\n",
    "            pc_w = binom(pc_wo + zc - 1, zc)\n",
    "            tot += t(pc_w)\n",
    "              \n",
    "    return tot\n",
    "ans(3)"
   ]
  }
 ],
 "metadata": {
  "kernelspec": {
   "display_name": "Python 3 (ipykernel)",
   "language": "python",
   "name": "python3"
  },
  "language_info": {
   "codemirror_mode": {
    "name": "ipython",
    "version": 3
   },
   "file_extension": ".py",
   "mimetype": "text/x-python",
   "name": "python",
   "nbconvert_exporter": "python",
   "pygments_lexer": "ipython3",
   "version": "3.12.4"
  }
 },
 "nbformat": 4,
 "nbformat_minor": 5
}
