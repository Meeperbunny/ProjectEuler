{
 "cells": [
  {
   "cell_type": "code",
   "execution_count": 110,
   "id": "aa76eb47-ec8e-4508-b442-e6a7ce2633b3",
   "metadata": {},
   "outputs": [],
   "source": [
    "def xormul(a, b, mod):\n",
    "    m = len(a)\n",
    "    c = [0] * m\n",
    "    \n",
    "    if m == 1:\n",
    "        c[0] = a[0] * b[0] % mod\n",
    "        return c\n",
    "    \n",
    "    inv2 = pow(2, mod - 2, mod)  # Modular multiplicative inverse of 2 under mod\n",
    "    \n",
    "    ap, bp, an, bn = [], [], [], []\n",
    "    \n",
    "    for i in range(m // 2):\n",
    "        ap.append((a[i] + a[i + m // 2]) % mod)\n",
    "        bp.append((b[i] + b[i + m // 2]) % mod)\n",
    "        an.append((a[i] - a[i + m // 2] + mod) % mod)\n",
    "        bn.append((b[i] - b[i + m // 2] + mod) % mod)\n",
    "    \n",
    "    d0 = xormul(ap, bp, mod)\n",
    "    d1 = xormul(an, bn, mod)\n",
    "    \n",
    "    for i in range(m // 2):\n",
    "        c[i] = (d0[i] + d1[i]) * inv2 % mod\n",
    "        c[i + m // 2] = (d0[i] - d1[i] + mod) * inv2 % mod\n",
    "    \n",
    "    return c"
   ]
  },
  {
   "cell_type": "code",
   "execution_count": 111,
   "id": "e6a0ad98-5bb5-45a1-bb12-8033b9dee329",
   "metadata": {},
   "outputs": [],
   "source": [
    "from math import log2"
   ]
  },
  {
   "cell_type": "code",
   "execution_count": 112,
   "id": "d53113c8-aefb-463c-84a3-39ffca0dc9de",
   "metadata": {},
   "outputs": [
    {
     "data": {
      "text/plain": [
       "(10000000, 10000000, 24)"
      ]
     },
     "execution_count": 112,
     "metadata": {},
     "output_type": "execute_result"
    }
   ],
   "source": [
    "n = 10**7\n",
    "m = 10**7\n",
    "mod = int(1e9 + 7)\n",
    "nimber_size = int(log2(n) + 1)\n",
    "n, m, nimber_size"
   ]
  },
  {
   "cell_type": "code",
   "execution_count": 113,
   "id": "26134e71-f23c-468e-8ce8-e126bfd15ac2",
   "metadata": {},
   "outputs": [],
   "source": [
    "from collections import Counter"
   ]
  },
  {
   "cell_type": "code",
   "execution_count": 114,
   "id": "17ab83a6-0eab-4f7f-b234-89716bf6bafa",
   "metadata": {},
   "outputs": [],
   "source": [
    "nimbers = [[0 for  _ in range(2**nimber_size)] for _ in range(nimber_size)]\n",
    "nimbers[0][1] = 1\n",
    "\n",
    "s = [1 for _ in range(n)]\n",
    "nimber = 1\n",
    "for q in range(2, n):\n",
    "    if s[q]:\n",
    "        for i in range(q, n, q):\n",
    "            if s[i]:\n",
    "                if q == 2:\n",
    "                    nimbers[0][0] += 1\n",
    "                else:\n",
    "                    nimbers[0][nimber] += 1\n",
    "            s[i] = 0\n",
    "        nimber += 1"
   ]
  },
  {
   "cell_type": "code",
   "execution_count": 116,
   "id": "10b53990-a8ff-4e30-8cd3-97f741d5c6ae",
   "metadata": {},
   "outputs": [
    {
     "name": "stdout",
     "output_type": "stream",
     "text": [
      "1\n"
     ]
    },
    {
     "ename": "KeyboardInterrupt",
     "evalue": "",
     "output_type": "error",
     "traceback": [
      "\u001b[1;31m---------------------------------------------------------------------------\u001b[0m",
      "\u001b[1;31mKeyboardInterrupt\u001b[0m                         Traceback (most recent call last)",
      "Cell \u001b[1;32mIn[116], line 3\u001b[0m\n\u001b[0;32m      1\u001b[0m \u001b[38;5;28;01mfor\u001b[39;00m i \u001b[38;5;129;01min\u001b[39;00m \u001b[38;5;28mrange\u001b[39m(\u001b[38;5;241m1\u001b[39m, nimber_size):\n\u001b[0;32m      2\u001b[0m     \u001b[38;5;28mprint\u001b[39m(i)\n\u001b[1;32m----> 3\u001b[0m     nimbers[i] \u001b[38;5;241m=\u001b[39m \u001b[43mxormul\u001b[49m\u001b[43m(\u001b[49m\u001b[43mnimbers\u001b[49m\u001b[43m[\u001b[49m\u001b[43mi\u001b[49m\u001b[43m \u001b[49m\u001b[38;5;241;43m-\u001b[39;49m\u001b[43m \u001b[49m\u001b[38;5;241;43m1\u001b[39;49m\u001b[43m]\u001b[49m\u001b[43m,\u001b[49m\u001b[43m \u001b[49m\u001b[43mnimbers\u001b[49m\u001b[43m[\u001b[49m\u001b[43mi\u001b[49m\u001b[43m \u001b[49m\u001b[38;5;241;43m-\u001b[39;49m\u001b[43m \u001b[49m\u001b[38;5;241;43m1\u001b[39;49m\u001b[43m]\u001b[49m\u001b[43m,\u001b[49m\u001b[43m \u001b[49m\u001b[43mmod\u001b[49m\u001b[43m)\u001b[49m\n",
      "Cell \u001b[1;32mIn[110], line 17\u001b[0m, in \u001b[0;36mxormul\u001b[1;34m(a, b, mod)\u001b[0m\n\u001b[0;32m     15\u001b[0m     bp\u001b[38;5;241m.\u001b[39mappend((b[i] \u001b[38;5;241m+\u001b[39m b[i \u001b[38;5;241m+\u001b[39m m \u001b[38;5;241m/\u001b[39m\u001b[38;5;241m/\u001b[39m \u001b[38;5;241m2\u001b[39m]) \u001b[38;5;241m%\u001b[39m mod)\n\u001b[0;32m     16\u001b[0m     an\u001b[38;5;241m.\u001b[39mappend((a[i] \u001b[38;5;241m-\u001b[39m a[i \u001b[38;5;241m+\u001b[39m m \u001b[38;5;241m/\u001b[39m\u001b[38;5;241m/\u001b[39m \u001b[38;5;241m2\u001b[39m] \u001b[38;5;241m+\u001b[39m mod) \u001b[38;5;241m%\u001b[39m mod)\n\u001b[1;32m---> 17\u001b[0m     bn\u001b[38;5;241m.\u001b[39mappend((b[i] \u001b[38;5;241m-\u001b[39m b[i \u001b[38;5;241m+\u001b[39m m \u001b[38;5;241m/\u001b[39m\u001b[38;5;241m/\u001b[39m \u001b[38;5;241m2\u001b[39m] \u001b[38;5;241m+\u001b[39m mod) \u001b[38;5;241m%\u001b[39m mod)\n\u001b[0;32m     19\u001b[0m d0 \u001b[38;5;241m=\u001b[39m xormul(ap, bp, mod)\n\u001b[0;32m     20\u001b[0m d1 \u001b[38;5;241m=\u001b[39m xormul(an, bn, mod)\n",
      "\u001b[1;31mKeyboardInterrupt\u001b[0m: "
     ]
    }
   ],
   "source": [
    "for i in range(1, nimber_size):\n",
    "    print(i)\n",
    "    nimbers[i] = xormul(nimbers[i - 1], nimbers[i - 1], mod)"
   ]
  },
  {
   "cell_type": "code",
   "execution_count": 107,
   "id": "2ad7d457-7be2-4612-a031-ba06e3ad3d3f",
   "metadata": {},
   "outputs": [
    {
     "data": {
      "text/plain": [
       "[5, 6, 7, 8]"
      ]
     },
     "execution_count": 107,
     "metadata": {},
     "output_type": "execute_result"
    }
   ],
   "source": [
    "b"
   ]
  },
  {
   "cell_type": "code",
   "execution_count": 109,
   "id": "e2f6d122-ce7b-44ea-9154-25b76eb0badf",
   "metadata": {
    "scrolled": true
   },
   "outputs": [
    {
     "name": "stdout",
     "output_type": "stream",
     "text": [
      "Taking 8\n",
      "Taking 1\n",
      "472400303\n"
     ]
    }
   ],
   "source": [
    "base = nimbers[0]\n",
    "left = m - 1\n",
    "for i in range(nimber_size - 1, -1, -1):\n",
    "    take = 1 << i\n",
    "    while take <= left:\n",
    "        left -= take\n",
    "        print(\"Taking\", take)\n",
    "        res = xormul(base, nimbers[i], mod)\n",
    "        base = res.copy()\n",
    "# print(base)\n",
    "print(base[0] % mod)"
   ]
  },
  {
   "cell_type": "code",
   "execution_count": null,
   "id": "83688178-c5ca-4aed-950f-d2a832ccf1ff",
   "metadata": {},
   "outputs": [],
   "source": []
  },
  {
   "cell_type": "code",
   "execution_count": null,
   "id": "49b33107-00b3-4124-995e-db3b671d5e91",
   "metadata": {},
   "outputs": [],
   "source": []
  },
  {
   "cell_type": "code",
   "execution_count": null,
   "id": "077dc5bb-4b6f-4329-8687-c80b6805a7f4",
   "metadata": {},
   "outputs": [],
   "source": []
  },
  {
   "cell_type": "code",
   "execution_count": null,
   "id": "3ba3b250-2bd5-4389-b57b-4258c2cb536b",
   "metadata": {},
   "outputs": [],
   "source": []
  },
  {
   "cell_type": "code",
   "execution_count": 96,
   "id": "c8e20008-8974-4a5e-aa29-77a3aa9e01fa",
   "metadata": {},
   "outputs": [
    {
     "name": "stdout",
     "output_type": "stream",
     "text": [
      "Taking 2\n",
      "488006090\n"
     ]
    }
   ],
   "source": [
    "from math import log2\n",
    "\n",
    "n = 5\n",
    "m = 2\n",
    "mod = int(1e9 + 7)\n",
    "nimber_size = int(log2(n) + 1)\n",
    "n, nimber_size\n",
    "\n",
    "from collections import Counter\n",
    "\n",
    "nimbers = [Counter() for _ in range(nimber_size)]\n",
    "nimbers[0][1] = 1\n",
    "\n",
    "s = [1 for _ in range(n)]\n",
    "nimber = 1\n",
    "for q in range(2, n):\n",
    "    if s[q]:\n",
    "        for i in range(q, n, q):\n",
    "            if s[i]:\n",
    "                if q == 2:\n",
    "                    # print(i, 0)\n",
    "                    nimbers[0][0] += 1\n",
    "                else:\n",
    "                    # print(i, nimber)\n",
    "                    nimbers[0][nimber] += 1\n",
    "            s[i] = 0\n",
    "        nimber += 1\n",
    "\n",
    "for i in range(1, nimber_size):\n",
    "    for e in nimbers[i - 1]:\n",
    "        for q in nimbers[i - 1]:\n",
    "            nimbers[i][e ^ q] = (nimbers[i][e ^ q] + nimbers[i - 1][e] * nimbers[i - 1][q]) % mod\n",
    "\n",
    "base = Counter([0])\n",
    "left = m\n",
    "for i in range(nimber_size - 1, -1, -1):\n",
    "    take = 1 << i\n",
    "    while take <= left:\n",
    "        left -= take\n",
    "        print(\"Taking\", take)\n",
    "        new_base = Counter()\n",
    "        for e in base:\n",
    "            for q in nimbers[i]:\n",
    "                new_base[e ^ q] = (new_base[e ^ q] + base[e] * nimbers[i][q]) % mod\n",
    "    base = new_base\n",
    "print(base[0] % mod)"
   ]
  },
  {
   "cell_type": "code",
   "execution_count": 2,
   "id": "53be4da4-480a-4d3e-b390-5502cac04cde",
   "metadata": {
    "jupyter": {
     "source_hidden": true
    }
   },
   "outputs": [
    {
     "name": "stdout",
     "output_type": "stream",
     "text": [
      "[70, 68, 62, 60]\n"
     ]
    }
   ],
   "source": [
    "def xormul(a, b, mod):\n",
    "    m = len(a)\n",
    "    c = [0] * m\n",
    "    \n",
    "    if m == 1:\n",
    "        c[0] = a[0] * b[0] % mod\n",
    "        return c\n",
    "    \n",
    "    inv2 = pow(2, mod - 2, mod)  # Modular multiplicative inverse of 2 under mod\n",
    "    \n",
    "    ap, bp, an, bn = [], [], [], []\n",
    "    \n",
    "    for i in range(m // 2):\n",
    "        ap.append((a[i] + a[i + m // 2]) % mod)\n",
    "        bp.append((b[i] + b[i + m // 2]) % mod)\n",
    "        an.append((a[i] - a[i + m // 2] + mod) % mod)\n",
    "        bn.append((b[i] - b[i + m // 2] + mod) % mod)\n",
    "    \n",
    "    d0 = xormul(ap, bp, mod)\n",
    "    d1 = xormul(an, bn, mod)\n",
    "    \n",
    "    for i in range(m // 2):\n",
    "        c[i] = (d0[i] + d1[i]) * inv2 % mod\n",
    "        c[i + m // 2] = (d0[i] - d1[i] + mod) * inv2 % mod\n",
    "    \n",
    "    return c\n",
    "\n",
    "# Example usage:\n",
    "a = [1, 2, 3, 4]\n",
    "b = [5, 6, 7, 8]\n",
    "mod = 1000000007\n",
    "\n",
    "c = xormul(a, b, mod)\n",
    "print(c)  # Outputs the result of the XOR convolution"
   ]
  },
  {
   "cell_type": "code",
   "execution_count": null,
   "id": "d09ce01d-08e9-42ea-a5e6-9d899e6929cf",
   "metadata": {},
   "outputs": [],
   "source": []
  },
  {
   "cell_type": "code",
   "execution_count": null,
   "id": "2b020363-fd0c-4b3b-9525-3da182c820f7",
   "metadata": {},
   "outputs": [],
   "source": []
  },
  {
   "cell_type": "code",
   "execution_count": null,
   "id": "b011f25b-5b5a-4cf6-b00e-5c3d58e1af06",
   "metadata": {},
   "outputs": [],
   "source": [
    "def xormul(a, b, mod):\n",
    "    m = len(a)\n",
    "    c = [0] * m\n",
    "    \n",
    "    if m == 1:\n",
    "        c[0] = a[0] * b[0] % mod\n",
    "        return c\n",
    "    \n",
    "    inv2 = pow(2, mod - 2, mod)  # Modular multiplicative inverse of 2 under mod\n",
    "    \n",
    "    ap, bp, an, bn = [], [], [], []\n",
    "    \n",
    "    for i in range(m // 2):\n",
    "        ap.append((a[i] + a[i + m // 2]) % mod)\n",
    "        bp.append((b[i] + b[i + m // 2]) % mod)\n",
    "        an.append((a[i] - a[i + m // 2] + mod) % mod)\n",
    "        bn.append((b[i] - b[i + m // 2] + mod) % mod)\n",
    "    \n",
    "    d0 = xormul(ap, bp, mod)\n",
    "    d1 = xormul(an, bn, mod)\n",
    "    \n",
    "    for i in range(m // 2):\n",
    "        c[i] = (d0[i] + d1[i]) * inv2 % mod\n",
    "        c[i + m // 2] = (d0[i] - d1[i] + mod) * inv2 % mod\n",
    "    \n",
    "    return c\n",
    "\n",
    "from math import log2\n",
    "\n",
    "n = 10**7\n",
    "m = 10**7\n",
    "mod = int(1e9 + 7)\n",
    "nimber_size = int(log2(n) + 1)\n",
    "n, m, nimber_size\n",
    "\n",
    "from collections import Counter\n",
    "\n",
    "nimbers = [[0 for  _ in range(2**nimber_size)] for _ in range(nimber_size)]\n",
    "nimbers[0][1] = 1\n",
    "\n",
    "s = [1 for _ in range(n)]\n",
    "nimber = 1\n",
    "for q in range(2, n):\n",
    "    if s[q]:\n",
    "        for i in range(q, n, q):\n",
    "            if s[i]:\n",
    "                if q == 2:\n",
    "                    nimbers[0][0] += 1\n",
    "                else:\n",
    "                    nimbers[0][nimber] += 1\n",
    "            s[i] = 0\n",
    "        nimber += 1\n",
    "\n",
    "for i in range(1, nimber_size):\n",
    "    print(i)\n",
    "    nimbers[i] = xormul(nimbers[i - 1], nimbers[i - 1], mod)\n",
    "\n",
    "b\n",
    "\n",
    "base = nimbers[0]\n",
    "left = m - 1\n",
    "for i in range(nimber_size - 1, -1, -1):\n",
    "    take = 1 << i\n",
    "    while take <= left:\n",
    "        left -= take\n",
    "        print(\"Taking\", take)\n",
    "        res = xormul(base, nimbers[i], mod)\n",
    "        base = res.copy()\n",
    "# print(base)\n",
    "print(base[0] % mod)"
   ]
  }
 ],
 "metadata": {
  "kernelspec": {
   "display_name": "Python 3 (ipykernel)",
   "language": "python",
   "name": "python3"
  },
  "language_info": {
   "codemirror_mode": {
    "name": "ipython",
    "version": 3
   },
   "file_extension": ".py",
   "mimetype": "text/x-python",
   "name": "python",
   "nbconvert_exporter": "python",
   "pygments_lexer": "ipython3",
   "version": "3.12.4"
  }
 },
 "nbformat": 4,
 "nbformat_minor": 5
}
