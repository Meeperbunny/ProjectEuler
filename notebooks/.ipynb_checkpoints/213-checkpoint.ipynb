{
 "cells": [
  {
   "cell_type": "code",
   "execution_count": 75,
   "id": "e6709329-d6a5-4908-8764-a6ea8add5ee5",
   "metadata": {},
   "outputs": [],
   "source": [
    "from decimal import *"
   ]
  },
  {
   "cell_type": "code",
   "execution_count": 76,
   "id": "f65e45b1-89ef-4d3b-b2ee-7e35b7adb595",
   "metadata": {},
   "outputs": [],
   "source": [
    "size = 10\n",
    "steps = 10"
   ]
  },
  {
   "cell_type": "code",
   "execution_count": 77,
   "id": "a0a6dbf6-04d3-4b67-8b69-c52dfa66337f",
   "metadata": {},
   "outputs": [],
   "source": [
    "def step(grid):\n",
    "    new_grid = [[Decimal(0) for _ in range(size)] for _ in range(size)]\n",
    "    for y in range(size):\n",
    "        for x in range(size):\n",
    "            to_dist = []\n",
    "            curr = grid[y][x]\n",
    "            if x > 0:\n",
    "                to_dist.append((y, x - 1))\n",
    "            if y > 0:\n",
    "                to_dist.append((y - 1, x))\n",
    "            if x < size - 1:\n",
    "                to_dist.append((y, x + 1))\n",
    "            if y < size - 1:\n",
    "                to_dist.append((y + 1, x))\n",
    "            sz = len(to_dist)\n",
    "            for el in to_dist:\n",
    "                new_grid[el[0]][el[1]] += curr / Decimal(sz)\n",
    "    return new_grid"
   ]
  },
  {
   "cell_type": "code",
   "execution_count": 78,
   "id": "a8dbb472",
   "metadata": {},
   "outputs": [],
   "source": [
    "def get_prob(x, y):\n",
    "    base = [[Decimal(0) for _ in range(size)] for _ in range(size)]\n",
    "    base[y][x] = Decimal(1)\n",
    "    for s in range(steps):\n",
    "        base = step(base)\n",
    "    return base"
   ]
  },
  {
   "cell_type": "raw",
   "id": "ec1a0bc1-2703-479a-8340-ae3760f30ddf",
   "metadata": {},
   "source": [
    "probs = [[get_prob(i, j) for j in range(size)] for i in range(size)]"
   ]
  },
  {
   "cell_type": "code",
   "execution_count": 79,
   "id": "d60ca574-db3e-4f00-a8f6-460a309da5b8",
   "metadata": {},
   "outputs": [
    {
     "data": {
      "text/plain": [
       "Decimal('36.13562988158573498521662560')"
      ]
     },
     "execution_count": 79,
     "metadata": {},
     "output_type": "execute_result"
    }
   ],
   "source": [
    "ev = Decimal(0)\n",
    "for i in range(size):\n",
    "    for q in range(size):\n",
    "        base_p = 1\n",
    "        for y in range(size):\n",
    "            for x in range(size):\n",
    "                base_p *= Decimal(1) - probs[y][x][i][q]\n",
    "        ev += base_p\n",
    "ev"
   ]
  }
 ],
 "metadata": {
  "kernelspec": {
   "display_name": "Python 3 (ipykernel)",
   "language": "python",
   "name": "python3"
  },
  "language_info": {
   "codemirror_mode": {
    "name": "ipython",
    "version": 3
   },
   "file_extension": ".py",
   "mimetype": "text/x-python",
   "name": "python",
   "nbconvert_exporter": "python",
   "pygments_lexer": "ipython3",
   "version": "3.12.4"
  }
 },
 "nbformat": 4,
 "nbformat_minor": 5
}
