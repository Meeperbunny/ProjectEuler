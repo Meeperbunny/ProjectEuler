{
 "cells": [
  {
   "cell_type": "code",
   "execution_count": 1,
   "id": "e4a319ff-cdfe-4760-8de8-be141c08900e",
   "metadata": {},
   "outputs": [],
   "source": [
    "ma = 100\n",
    "m = int(1e9+7)\n"
   ]
  },
  {
   "cell_type": "code",
   "execution_count": 2,
   "id": "69de01d8-4a88-45a8-b6cd-c14086d73a5e",
   "metadata": {},
   "outputs": [],
   "source": [
    "fac = [1 for _ in range(ma)]\n",
    "ifac = [1 for _ in range(ma)]\n",
    "\n",
    "for i in range(1, ma):\n",
    "    fac[i] = fac[i - 1] * i\n",
    "    ifac[i] = pow(fac[i], -1, m)"
   ]
  },
  {
   "cell_type": "code",
   "execution_count": 4,
   "id": "74bbdaf6-ee99-4327-a136-2d594f11f5ff",
   "metadata": {},
   "outputs": [],
   "source": [
    "def binom(n, k):\n",
    "    return (fac[n] * ifac[n - k] * ifac[k]) % m"
   ]
  },
  {
   "cell_type": "code",
   "execution_count": 6,
   "id": "7960d1cd-1ebe-410c-b6b9-ee1f5ad30640",
   "metadata": {},
   "outputs": [],
   "source": [
    "def ways(x, y, A, B):\n",
    "    return (binom(x + y, x) * binom((A - 1 - x) + (B - y), (B - y))) % m"
   ]
  },
  {
   "cell_type": "code",
   "execution_count": 19,
   "id": "cd181eab-5fb6-4947-b8b9-f1ffa77f4c6c",
   "metadata": {},
   "outputs": [],
   "source": [
    "from collections import Counter"
   ]
  },
  {
   "cell_type": "code",
   "execution_count": 210,
   "id": "f3176fcd-aeeb-400f-902f-55a71c299605",
   "metadata": {},
   "outputs": [
    {
     "name": "stdout",
     "output_type": "stream",
     "text": [
      "Counter({(0, 0): 1, (1, 1): 1, (2, 2): 1, (3, 3): 1})\n",
      "Counter({(0, 0): 1, (1, 1): 1, (1, 2): 1, (2, 2): 1, (2, 3): 1, (2, 4): 1, (3, 3): 1, (3, 4): 1, (3, 5): 1, (3, 6): 1})\n",
      "Counter({(2, 4): 2, (3, 5): 2, (3, 6): 2, (3, 7): 2, (0, 0): 1, (1, 1): 1, (1, 2): 1, (1, 3): 1, (2, 2): 1, (2, 3): 1, (2, 5): 1, (2, 6): 1, (3, 3): 1, (3, 4): 1, (3, 8): 1, (3, 9): 1})\n"
     ]
    },
    {
     "data": {
      "text/plain": [
       "33880"
      ]
     },
     "execution_count": 210,
     "metadata": {},
     "output_type": "execute_result"
    }
   ],
   "source": [
    "cnts = Counter({(0, 0): 1})\n",
    "n = 3\n",
    "for i in range(n):\n",
    "    nc = Counter()\n",
    "    for q in range(n + 1):\n",
    "        for e in cnts:\n",
    "            if e[0] <= q:\n",
    "                nc[(q, e[1] + q)] += cnts[e]\n",
    "    cnts = nc.copy()\n",
    "    print(nc)\n",
    "res = Counter()\n",
    "for e in cnts:\n",
    "    res[e[1]] += cnts[e]\n",
    "\n",
    "tot = 0\n",
    "for e in res:\n",
    "    tot += res[e] * 3**e\n",
    "tot"
   ]
  },
  {
   "cell_type": "code",
   "execution_count": null,
   "id": "9370986e-0510-4837-8a73-7e47f144cc93",
   "metadata": {},
   "outputs": [],
   "source": []
  },
  {
   "cell_type": "code",
   "execution_count": 192,
   "id": "871053ce-fb1f-419c-8318-b70e0e7fb86b",
   "metadata": {},
   "outputs": [],
   "source": []
  },
  {
   "cell_type": "code",
   "execution_count": 183,
   "id": "431690b5-5947-4c0d-8120-8d90ff27a573",
   "metadata": {},
   "outputs": [],
   "source": [
    "def gauss_binom_q(n):\n",
    "    n, k = n * 2, n\n",
    "    return (qfac[n] * qfacinv[n - k] * qfacinv[k]) % m"
   ]
  },
  {
   "cell_type": "code",
   "execution_count": 188,
   "id": "d1f894a8-3ad2-4900-9e5f-64a769b23eae",
   "metadata": {},
   "outputs": [
    {
     "data": {
      "text/plain": [
       "109221651"
      ]
     },
     "execution_count": 188,
     "metadata": {},
     "output_type": "execute_result"
    }
   ],
   "source": [
    "gauss_binom_q(5)"
   ]
  },
  {
   "cell_type": "code",
   "execution_count": 3,
   "id": "b5cc5d4a-b96b-44c2-b75b-4f192b2757a8",
   "metadata": {},
   "outputs": [],
   "source": [
    "m = int(1e9+7)"
   ]
  },
  {
   "cell_type": "code",
   "execution_count": 4,
   "id": "bb23b210-dfb2-4404-8a40-fdb933700820",
   "metadata": {},
   "outputs": [],
   "source": [
    "def ans(q, n):\n",
    "    if (q == 1):\n",
    "        # Handle normal case\n",
    "        fac = [1 for _ in range(n * 2 + 1)]\n",
    "        ifac = [1 for _ in range(n * 2 + 1)]\n",
    "        \n",
    "        for i in range(1, n * 2 + 1):\n",
    "            fac[i] = (fac[i - 1] * i) % m\n",
    "            ifac[i] = pow(fac[i], -1, m)\n",
    "        # Return gaussian for normal case\n",
    "        return (fac[n * 2] * ifac[n] * ifac[n]) % m\n",
    "    \n",
    "    qnums = [0 for _ in range(n * 2 + 1)]\n",
    "    qfac = [1 for _ in range(n * 2 + 1)]\n",
    "    qfacinv = [1 for _ in range(n * 2 + 1)]\n",
    "    \n",
    "    for i in range(n * 2 + 1):\n",
    "        qnums[i] = ((1 - pow(q, i, m) + m) * pow(1 - q + m, -1, m)) % m\n",
    "        if i >= 2:\n",
    "            qfac[i] = (qnums[i] * qfac[i - 1]) % m\n",
    "        if i >= 1:\n",
    "            qfacinv[i] = pow(qfac[i], -1, m)\n",
    "    \n",
    "    return (qfac[n * 2] * qfacinv[n] * qfacinv[n]) % m"
   ]
  },
  {
   "cell_type": "code",
   "execution_count": 6,
   "id": "ca457836-1937-45bc-b88f-6275badcf7fc",
   "metadata": {},
   "outputs": [
    {
     "data": {
      "text/plain": [
       "395913804"
      ]
     },
     "execution_count": 6,
     "metadata": {},
     "output_type": "execute_result"
    }
   ],
   "source": [
    "ans(4, 10_000)"
   ]
  },
  {
   "cell_type": "code",
   "execution_count": 217,
   "id": "407f08f7-cbd0-4598-ac0b-f081985c1013",
   "metadata": {},
   "outputs": [
    {
     "name": "stdout",
     "output_type": "stream",
     "text": [
      "610979915\n"
     ]
    }
   ],
   "source": [
    "tot = 0\n",
    "for k in range(1, 2 + 1):\n",
    "    tot = (tot + ans(k, 10**k + k)) % m\n",
    "print(tot)"
   ]
  },
  {
   "cell_type": "code",
   "execution_count": null,
   "id": "7584660d-f987-4af4-8dce-77f96b6dc009",
   "metadata": {},
   "outputs": [],
   "source": []
  }
 ],
 "metadata": {
  "kernelspec": {
   "display_name": "Python 3 (ipykernel)",
   "language": "python",
   "name": "python3"
  },
  "language_info": {
   "codemirror_mode": {
    "name": "ipython",
    "version": 3
   },
   "file_extension": ".py",
   "mimetype": "text/x-python",
   "name": "python",
   "nbconvert_exporter": "python",
   "pygments_lexer": "ipython3",
   "version": "3.12.4"
  }
 },
 "nbformat": 4,
 "nbformat_minor": 5
}
