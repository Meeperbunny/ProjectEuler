{
 "cells": [
  {
   "cell_type": "code",
   "execution_count": 2,
   "metadata": {},
   "outputs": [],
   "source": [
    "def pfs(n):\n",
    "    pfs = []\n",
    "    for i in range(2, n):\n",
    "        if i * i > n:\n",
    "            break\n",
    "        while n % i == 0:\n",
    "            n //= i\n",
    "            pfs.append(i)\n",
    "    if n - 1:\n",
    "        pfs.append(n)\n",
    "    return pfs"
   ]
  },
  {
   "cell_type": "code",
   "execution_count": 7,
   "metadata": {},
   "outputs": [
    {
     "data": {
      "text/plain": [
       "[7, 13]"
      ]
     },
     "execution_count": 7,
     "metadata": {},
     "output_type": "execute_result"
    }
   ],
   "source": [
    "pfs(91)"
   ]
  },
  {
   "cell_type": "code",
   "execution_count": 10,
   "metadata": {},
   "outputs": [
    {
     "name": "stdout",
     "output_type": "stream",
     "text": [
      "1 1\n",
      "2 8\n",
      "3 1\n",
      "4 12\n",
      "5 8\n",
      "6 8\n",
      "7 5\n",
      "8 5\n",
      "9 1\n",
      "10 12\n",
      "11 5\n",
      "12 12\n"
     ]
    }
   ],
   "source": [
    "k = 13\n",
    "for i in range(1, k):\n",
    "    print(i, i**3 % k)"
   ]
  },
  {
   "cell_type": "code",
   "execution_count": null,
   "metadata": {},
   "outputs": [
    {
     "name": "stdout",
     "output_type": "stream",
     "text": [
      "1 1\n",
      "2 1\n",
      "3 6\n",
      "4 1\n",
      "5 6\n",
      "6 6\n"
     ]
    }
   ],
   "source": [
    "for i in range(1, 7):\n",
    "    print(i, i**3 % 7)"
   ]
  },
  {
   "cell_type": "code",
   "execution_count": null,
   "metadata": {},
   "outputs": [],
   "source": [
    "def extended_gcd(a, b):\n",
    "    old_r, r = a, b\n",
    "    old_s, s = 1, 0\n",
    "    old_t, t = 0, 1\n",
    "\n",
    "    while r:\n",
    "        quotient = old_r // r\n",
    "        old_r, r = r, old_r - quotient * r\n",
    "        old_s, s = s, old_s - quotient * s\n",
    "        old_t, t = t, old_t - quotient * t\n",
    "    # Bezout\n",
    "    return old_s, old_t\n",
    "    # GCD\n",
    "    # return old_r\n",
    "    # Quotients by gcd\n",
    "    # return t, s\n",
    "\n",
    "# Arr is a list of pairs [(a_1, n_1), (a_2, n_2),...]\n",
    "def chinese_remainder(arr):\n",
    "    a1, n1 = 0, 1\n",
    "    for a2, n2 in arr:\n",
    "        # Extended gcd for bezout constants\n",
    "        m1, m2 = extended_gcd(n1, n2)\n",
    "        a1, n1 = a1 * m2 * n2 + a2 * m1 * n1, n1 * n2\n",
    "    return a1"
   ]
  },
  {
   "cell_type": "code",
   "execution_count": null,
   "metadata": {},
   "outputs": [
    {
     "data": {
      "text/plain": [
       "74"
      ]
     },
     "execution_count": 21,
     "metadata": {},
     "output_type": "execute_result"
    }
   ],
   "source": [
    "chinese_remainder([\n",
    "    (4, 7),\n",
    "    (9, 13),\n",
    "])"
   ]
  },
  {
   "cell_type": "code",
   "execution_count": 40,
   "metadata": {},
   "outputs": [
    {
     "data": {
      "text/plain": [
       "[(2, [1]),\n",
       " (3, [1]),\n",
       " (5, [1]),\n",
       " (7, [1, 2, 4]),\n",
       " (11, [1]),\n",
       " (13, [1, 3, 9]),\n",
       " (17, [1]),\n",
       " (19, [1, 7, 11]),\n",
       " (23, [1]),\n",
       " (29, [1]),\n",
       " (31, [1, 5, 25]),\n",
       " (37, [1, 10, 26]),\n",
       " (41, [1]),\n",
       " (43, [1, 6, 36])]"
      ]
     },
     "execution_count": 40,
     "metadata": {},
     "output_type": "execute_result"
    }
   ],
   "source": [
    "n = 13082761331670030\n",
    "# n = 91\n",
    "ps = pfs(n)\n",
    "ones = {}\n",
    "for p in ps:\n",
    "    ones[p] = []\n",
    "    for i in range(1, p):\n",
    "        if i**3 % p == 1:\n",
    "            ones[p].append(i)\n",
    "lk = list(ones.items())\n",
    "lk"
   ]
  },
  {
   "cell_type": "code",
   "execution_count": 41,
   "metadata": {},
   "outputs": [
    {
     "data": {
      "text/plain": [
       "4617456485273129588"
      ]
     },
     "execution_count": 41,
     "metadata": {},
     "output_type": "execute_result"
    }
   ],
   "source": [
    "def dfs(i, a: list):\n",
    "    if i == len(lk):\n",
    "        p = 1\n",
    "        for e in a:\n",
    "            p *= e[1]\n",
    "        # print(a, chinese_remainder(a) % p)\n",
    "        return chinese_remainder(a) % p\n",
    "    T = 0\n",
    "    for q in lk[i][1]:\n",
    "        a.append((q, lk[i][0]))\n",
    "        T += dfs(i + 1, a)\n",
    "        a.pop()\n",
    "    return T\n",
    "dfs(0, []) - 1"
   ]
  }
 ],
 "metadata": {
  "kernelspec": {
   "display_name": "Python 3",
   "language": "python",
   "name": "python3"
  },
  "language_info": {
   "codemirror_mode": {
    "name": "ipython",
    "version": 3
   },
   "file_extension": ".py",
   "mimetype": "text/x-python",
   "name": "python",
   "nbconvert_exporter": "python",
   "pygments_lexer": "ipython3",
   "version": "3.9.6"
  }
 },
 "nbformat": 4,
 "nbformat_minor": 2
}
