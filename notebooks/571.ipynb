{
 "cells": [
  {
   "cell_type": "code",
   "execution_count": 8,
   "metadata": {},
   "outputs": [],
   "source": [
    "def to_base(n, k):\n",
    "    t = []\n",
    "    while n:\n",
    "        t.append(n % k)\n",
    "        n //= k\n",
    "    return tuple(t)"
   ]
  },
  {
   "cell_type": "code",
   "execution_count": 9,
   "metadata": {},
   "outputs": [],
   "source": [
    "def to_num(t, b):\n",
    "    n = 0\n",
    "    for e in t:\n",
    "        n = n * b + e\n",
    "    return n"
   ]
  },
  {
   "cell_type": "code",
   "execution_count": 11,
   "metadata": {},
   "outputs": [],
   "source": [
    "from itertools import permutations"
   ]
  },
  {
   "cell_type": "code",
   "execution_count": 14,
   "metadata": {},
   "outputs": [],
   "source": [
    "def is_pandigital(t, b):\n",
    "    cnts = [0 for _ in range(b)]\n",
    "    for e in t:\n",
    "        cnts[e] += 1\n",
    "    return min(cnts) != 0"
   ]
  },
  {
   "cell_type": "code",
   "execution_count": 21,
   "metadata": {},
   "outputs": [],
   "source": [
    "from tqdm.notebook import tqdm"
   ]
  },
  {
   "cell_type": "code",
   "execution_count": null,
   "metadata": {},
   "outputs": [
    {
     "data": {
      "application/vnd.jupyter.widget-view+json": {
       "model_id": "ffcdbf52472144ef8390d901eb591977",
       "version_major": 2,
       "version_minor": 0
      },
      "text/plain": [
       "  0%|          | 0/3628800 [00:00<?, ?it/s]"
      ]
     },
     "metadata": {},
     "output_type": "display_data"
    },
    {
     "name": "stdout",
     "output_type": "stream",
     "text": [
      "20319792309\n"
     ]
    }
   ],
   "source": [
    "sz = 12\n",
    "C = 10\n",
    "T = 0\n",
    "tp = tuple(i for i in range(sz))\n",
    "ps = list(permutations(tp))\n",
    "for perm in tqdm(ps):\n",
    "    if perm[0] == 0:\n",
    "        continue\n",
    "    num = to_num(perm, sz)\n",
    "    w = True\n",
    "    for b in range(2, sz + 1):\n",
    "        t = to_base(num, b)\n",
    "        if not is_pandigital(t, b):\n",
    "            w = False\n",
    "            break\n",
    "    if w:\n",
    "        C -= 1\n",
    "        T += num\n",
    "        if C == 0:\n",
    "            break\n",
    "print(T)"
   ]
  },
  {
   "cell_type": "code",
   "execution_count": null,
   "metadata": {},
   "outputs": [],
   "source": []
  },
  {
   "cell_type": "code",
   "execution_count": null,
   "metadata": {},
   "outputs": [],
   "source": []
  },
  {
   "cell_type": "code",
   "execution_count": null,
   "metadata": {},
   "outputs": [],
   "source": []
  },
  {
   "cell_type": "code",
   "execution_count": null,
   "metadata": {},
   "outputs": [],
   "source": [
    "def to_base(n, k):\n",
    "    t = []\n",
    "    while n:\n",
    "        t.append(n % k)\n",
    "        n //= k\n",
    "    return tuple(t)\n",
    "def to_num(t, b):\n",
    "    n = 0\n",
    "    for e in t:\n",
    "        n = n * b + e\n",
    "    return n\n",
    "from itertools import permutations\n",
    "def is_pandigital(t, b):\n",
    "    cnts = [0 for _ in range(b)]\n",
    "    for e in t:\n",
    "        cnts[e] += 1\n",
    "    return min(cnts) != 0\n",
    "from tqdm.notebook import tqdm\n",
    "sz = 12\n",
    "C = 10\n",
    "T = 0\n",
    "tp = tuple(i for i in range(sz))\n",
    "ps = list(permutations(tp))\n",
    "for perm in tqdm(ps):\n",
    "    if perm[0] == 0:\n",
    "        continue\n",
    "    num = to_num(perm, sz)\n",
    "    w = True\n",
    "    for b in range(2, sz + 1):\n",
    "        t = to_base(num, b)\n",
    "        if not is_pandigital(t, b):\n",
    "            w = False\n",
    "            break\n",
    "    if w:\n",
    "        C -= 1\n",
    "        T += num\n",
    "        if C == 0:\n",
    "            break\n",
    "print(T)"
   ]
  }
 ],
 "metadata": {
  "kernelspec": {
   "display_name": "Python 3",
   "language": "python",
   "name": "python3"
  },
  "language_info": {
   "codemirror_mode": {
    "name": "ipython",
    "version": 3
   },
   "file_extension": ".py",
   "mimetype": "text/x-python",
   "name": "python",
   "nbconvert_exporter": "python",
   "pygments_lexer": "ipython3",
   "version": "3.9.6"
  }
 },
 "nbformat": 4,
 "nbformat_minor": 2
}
