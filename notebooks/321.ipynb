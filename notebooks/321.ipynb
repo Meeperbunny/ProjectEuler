{
 "cells": [
  {
   "cell_type": "code",
   "execution_count": 57,
   "metadata": {},
   "outputs": [],
   "source": [
    "s = \"abcb\""
   ]
  },
  {
   "cell_type": "code",
   "execution_count": 58,
   "metadata": {},
   "outputs": [],
   "source": [
    "def A(n):\n",
    "    s = \"A\" * n + \"_\" + \"B\" * n\n",
    "    t = \"B\" * n + \"_\" + \"A\" * n\n",
    "    q = [(s, 0)]\n",
    "    seen = set()\n",
    "    while True:\n",
    "        e, d = q.pop()\n",
    "        upos = e.find(\"_\")\n",
    "        ts = [c for c in e]\n",
    "        tr = [-2, -1, 1, 2]\n",
    "        seen.add(e)\n",
    "        if e == t:\n",
    "            return d\n",
    "        for tra in tr:\n",
    "            opos = upos + tra\n",
    "            if opos >= 0 and opos < len(ts):\n",
    "                ts[upos], ts[opos] = ts[opos], ts[upos]\n",
    "                ta = \"\".join(ts)\n",
    "                if ta not in seen:\n",
    "                    q.insert(0, (ta, d + 1))\n",
    "                    seen.add(ta)\n",
    "                ts[upos], ts[opos] = ts[opos], ts[upos]"
   ]
  },
  {
   "cell_type": "code",
   "execution_count": 59,
   "metadata": {},
   "outputs": [
    {
     "data": {
      "text/plain": [
       "8"
      ]
     },
     "execution_count": 59,
     "metadata": {},
     "output_type": "execute_result"
    }
   ],
   "source": [
    "A(2)"
   ]
  },
  {
   "cell_type": "code",
   "execution_count": 63,
   "metadata": {},
   "outputs": [],
   "source": [
    "def tri(n):\n",
    "    return (n * n + n) // 2"
   ]
  },
  {
   "cell_type": "code",
   "execution_count": 68,
   "metadata": {},
   "outputs": [],
   "source": [
    "def spec_add(s, i):\n",
    "    return s * i + tri(i - 1) * 2"
   ]
  },
  {
   "cell_type": "code",
   "execution_count": 62,
   "metadata": {},
   "outputs": [
    {
     "name": "stdout",
     "output_type": "stream",
     "text": [
      "1 3\n",
      "2 8\n",
      "3 15\n",
      "4 24\n",
      "5 35\n",
      "6 48\n",
      "7 63\n",
      "8 80\n",
      "9 99\n"
     ]
    }
   ],
   "source": [
    "for i in range(1, 10):\n",
    "    print(i, A(i))"
   ]
  },
  {
   "cell_type": "code",
   "execution_count": 80,
   "metadata": {},
   "outputs": [
    {
     "data": {
      "text/plain": [
       "True"
      ]
     },
     "execution_count": 80,
     "metadata": {},
     "output_type": "execute_result"
    }
   ],
   "source": [
    "def is_tri(k):\n",
    "    sqr = 1 - 4 * (- 2 * k)\n",
    "    v1 = (-1 + sqr**0.5) / 2\n",
    "    cands = round(v1)\n",
    "    return cands * (cands + 1) // 2 == k\n",
    "is_tri(28)"
   ]
  },
  {
   "cell_type": "code",
   "execution_count": 98,
   "metadata": {},
   "outputs": [
    {
     "name": "stdout",
     "output_type": "stream",
     "text": [
      "Appending 1 1 1.0\n",
      "Appending 2 3 3.0\n",
      "Appending 3 10 3.3333333333333335\n",
      "Appending 4 22 2.2\n",
      "Appending 5 63 2.8636363636363638\n",
      "Appending 6 133 2.111111111111111\n",
      "Appending 7 372 2.7969924812030076\n",
      "Appending 8 780 2.096774193548387\n",
      "Appending 9 2173 2.7858974358974358\n",
      "Appending 10 4551 2.0943396226415096\n",
      "Appending 11 12670 2.784003515710833\n",
      "Appending 12 26530 2.0939226519337018\n",
      "Appending 13 73851 2.783678854127403\n",
      "Appending 14 154633 2.0938511326860842\n",
      "Appending 15 430440 2.783623159351497\n",
      "Appending 16 901272 2.0938388625592417\n",
      "Appending 17 2508793 2.783613603884288\n",
      "Appending 18 5253003 2.093836757357024\n",
      "Appending 19 14622322 2.7836119644325352\n",
      "Appending 20 30616750 2.0938363961619775\n",
      "Appending 21 85225143 2.783611683147297\n",
      "Appending 22 178447501 2.0938363341907213\n",
      "Appending 23 496728540 2.783611634886386\n",
      "Appending 24 1040068260 2.093836323558135\n",
      "Appending 25 2895146101 2.783611626606123\n",
      "Appending 26 6061962063 2.0938363217338716\n",
      "Appending 27 16874148070 2.7836116251854546\n",
      "Appending 28 35331704122 2.0938363214208775\n",
      "Appending 29 98349742323 2.7836116249417064\n",
      "Appending 30 205928262673 2.093836321367176\n",
      "Appending 31 573224305872 2.7836116248998857\n",
      "Appending 32 1200237871920 2.0938363213579625\n",
      "Appending 33 3340996092913 2.7836116248927105\n",
      "Appending 34 6995498968851 2.0938363213563815\n",
      "Appending 35 19472752251610 2.7836116248914795\n",
      "Appending 36 40772755941190 2.0938363213561106\n",
      "Appending 37 113495517416751 2.783611624891268\n",
      "Appending 38 237641036678293 2.093836321356064\n",
      "Appending 39 661500352248900 2.7836116248912317\n",
      "Appending 40 1385073464128572 2.093836321356056\n"
     ]
    },
    {
     "data": {
      "text/plain": [
       "(True, 2470433131948040)"
      ]
     },
     "execution_count": 98,
     "metadata": {},
     "output_type": "execute_result"
    }
   ],
   "source": [
    "s = 3\n",
    "inc = 5\n",
    "i = 1\n",
    "tt = []\n",
    "N = 40\n",
    "la = 1\n",
    "odd_c, even_c = 2.0938363, 2.7836116\n",
    "while len(tt) != N:\n",
    "    if is_tri(s):\n",
    "        tt.append(i)\n",
    "        print(\"Appending\", len(tt), i, i / la)\n",
    "        la = i\n",
    "        # handle spec add\n",
    "        if i < 10:    \n",
    "            s += inc\n",
    "            i += 1\n",
    "            inc += 2\n",
    "            continue\n",
    "        C = odd_c if len(tt) % 2 == 1 else even_c\n",
    "        tar = int(C * i)\n",
    "        diff = tar - i\n",
    "        # print(\"TARGET\", tar, i)\n",
    "        s += spec_add(inc, diff)\n",
    "        i = tar\n",
    "        inc += diff * 2\n",
    "        continue\n",
    "    # Add until we think we are close to the next\n",
    "    s += inc\n",
    "    i += 1\n",
    "    inc += 2\n",
    "len(tt) == N, sum(tt)"
   ]
  },
  {
   "cell_type": "code",
   "execution_count": null,
   "metadata": {},
   "outputs": [
    {
     "name": "stdout",
     "output_type": "stream",
     "text": [
      "1 3\n",
      "2 8\n",
      "3 15\n",
      "4 24\n",
      "5 35\n",
      "6 48\n",
      "7 63\n",
      "8 80\n",
      "9 99\n"
     ]
    }
   ],
   "source": [
    "for i in range(1, 10):\n",
    "    print(i, A(i))"
   ]
  }
 ],
 "metadata": {
  "kernelspec": {
   "display_name": "Python 3",
   "language": "python",
   "name": "python3"
  },
  "language_info": {
   "codemirror_mode": {
    "name": "ipython",
    "version": 3
   },
   "file_extension": ".py",
   "mimetype": "text/x-python",
   "name": "python",
   "nbconvert_exporter": "python",
   "pygments_lexer": "ipython3",
   "version": "3.12.4"
  }
 },
 "nbformat": 4,
 "nbformat_minor": 2
}
