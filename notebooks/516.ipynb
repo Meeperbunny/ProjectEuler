{
 "cells": [
  {
   "cell_type": "code",
   "execution_count": 7,
   "id": "66cfba25-81e1-48c0-a09f-1c667076edd8",
   "metadata": {},
   "outputs": [],
   "source": [
    "def totient(n):\n",
    "    tot = [1 for i in range(n + 1)]\n",
    "    for p in range(2, n + 1):\n",
    "        if tot[p] == 1:\n",
    "            # is prime\n",
    "            k = 1\n",
    "            while True:\n",
    "                b = p**k\n",
    "                if b > n:\n",
    "                    break\n",
    "                j = p\n",
    "                if k == 1:\n",
    "                    j = p - 1\n",
    "                for q in range(b, n + 1, b):\n",
    "                    tot[q] *= j\n",
    "                k += 1\n",
    "    return tot"
   ]
  },
  {
   "cell_type": "code",
   "execution_count": 8,
   "id": "b849a849-7e8f-455c-9858-c721aae055f8",
   "metadata": {},
   "outputs": [],
   "source": [
    "def issmooth(n, k):\n",
    "    for p in pfs(n):\n",
    "        if p > k:\n",
    "            return False\n",
    "    return True"
   ]
  },
  {
   "cell_type": "code",
   "execution_count": 10,
   "id": "0beaa056-b7b1-49a5-ab08-405a88a982bf",
   "metadata": {},
   "outputs": [],
   "source": [
    "# issmooth(25, 5)"
   ]
  },
  {
   "cell_type": "code",
   "execution_count": 11,
   "id": "fad10037-d4e5-4aed-ad7b-ca1e01af0f23",
   "metadata": {},
   "outputs": [],
   "source": [
    "def pfs(n):\n",
    "    pfs = []\n",
    "    for i in range(2, n + 1):\n",
    "        while n % i == 0:\n",
    "            n //= i\n",
    "            pfs.append(i)\n",
    "    return pfs"
   ]
  },
  {
   "cell_type": "code",
   "execution_count": 12,
   "id": "59c45a88-a0a7-4aa3-bc65-ae80c6146041",
   "metadata": {},
   "outputs": [
    {
     "data": {
      "text/plain": [
       "[2, 3, 7]"
      ]
     },
     "execution_count": 12,
     "metadata": {},
     "output_type": "execute_result"
    }
   ],
   "source": [
    "pfs(42)"
   ]
  },
  {
   "cell_type": "code",
   "execution_count": 13,
   "id": "cad92787-acf0-4a9c-8fc5-8bd2fbaf3ce8",
   "metadata": {},
   "outputs": [
    {
     "data": {
      "text/plain": [
       "[(0, 1),\n",
       " (1, 1),\n",
       " (2, 1),\n",
       " (3, 2),\n",
       " (4, 2),\n",
       " (5, 4),\n",
       " (6, 2),\n",
       " (7, 6),\n",
       " (8, 4),\n",
       " (9, 6),\n",
       " (10, 4),\n",
       " (11, 10),\n",
       " (12, 4),\n",
       " (13, 12),\n",
       " (14, 6),\n",
       " (15, 8),\n",
       " (16, 8),\n",
       " (17, 16),\n",
       " (18, 6),\n",
       " (19, 18),\n",
       " (20, 8),\n",
       " (21, 12),\n",
       " (22, 10),\n",
       " (23, 22),\n",
       " (24, 8),\n",
       " (25, 20),\n",
       " (26, 12),\n",
       " (27, 18),\n",
       " (28, 12),\n",
       " (29, 28),\n",
       " (30, 8),\n",
       " (31, 30),\n",
       " (32, 16),\n",
       " (33, 20),\n",
       " (34, 16),\n",
       " (35, 24),\n",
       " (36, 12),\n",
       " (37, 36),\n",
       " (38, 18),\n",
       " (39, 24),\n",
       " (40, 16),\n",
       " (41, 40),\n",
       " (42, 12),\n",
       " (43, 42),\n",
       " (44, 20),\n",
       " (45, 24),\n",
       " (46, 22),\n",
       " (47, 46),\n",
       " (48, 16),\n",
       " (49, 42),\n",
       " (50, 20),\n",
       " (51, 32),\n",
       " (52, 24),\n",
       " (53, 52),\n",
       " (54, 18),\n",
       " (55, 40),\n",
       " (56, 24),\n",
       " (57, 36),\n",
       " (58, 28),\n",
       " (59, 58),\n",
       " (60, 16),\n",
       " (61, 60),\n",
       " (62, 30),\n",
       " (63, 36),\n",
       " (64, 32),\n",
       " (65, 48),\n",
       " (66, 20),\n",
       " (67, 66),\n",
       " (68, 32),\n",
       " (69, 44),\n",
       " (70, 24),\n",
       " (71, 70),\n",
       " (72, 24),\n",
       " (73, 72),\n",
       " (74, 36),\n",
       " (75, 40),\n",
       " (76, 36),\n",
       " (77, 60),\n",
       " (78, 24),\n",
       " (79, 78),\n",
       " (80, 32),\n",
       " (81, 54),\n",
       " (82, 40),\n",
       " (83, 82),\n",
       " (84, 24),\n",
       " (85, 64),\n",
       " (86, 42),\n",
       " (87, 56),\n",
       " (88, 40),\n",
       " (89, 88),\n",
       " (90, 24),\n",
       " (91, 72),\n",
       " (92, 44),\n",
       " (93, 60),\n",
       " (94, 46),\n",
       " (95, 72),\n",
       " (96, 32),\n",
       " (97, 96),\n",
       " (98, 42),\n",
       " (99, 60)]"
      ]
     },
     "execution_count": 13,
     "metadata": {},
     "output_type": "execute_result"
    }
   ],
   "source": [
    "list(zip(range(100), totient(100)))"
   ]
  },
  {
   "cell_type": "code",
   "execution_count": 14,
   "id": "7b9d6c17-632f-453f-9474-2f3c33a97509",
   "metadata": {},
   "outputs": [
    {
     "data": {
      "text/plain": [
       "9586559"
      ]
     },
     "execution_count": 14,
     "metadata": {},
     "output_type": "execute_result"
    }
   ],
   "source": [
    "sum([i if issmooth(e, 5) else 0 for i, e in enumerate(totient(10000))])"
   ]
  },
  {
   "cell_type": "code",
   "execution_count": 23,
   "id": "7252fc40-0bfd-4903-99c0-de6060489e20",
   "metadata": {},
   "outputs": [],
   "source": [
    "def abc(n):\n",
    "    a, b, c = 0, 0, 0\n",
    "    while n % 2 == 0:\n",
    "        n //= 2\n",
    "        a += 1\n",
    "    while n % 3 == 0:\n",
    "        n //= 3\n",
    "        b += 1\n",
    "    while n % 5 == 0:\n",
    "        n //= 5\n",
    "        c += 1\n",
    "    if n != 1:\n",
    "        return -1, -1, -1\n",
    "    return a, b, c"
   ]
  },
  {
   "cell_type": "code",
   "execution_count": 24,
   "id": "12a983f8-a54c-42d1-bb5b-a44e1b962d5f",
   "metadata": {},
   "outputs": [
    {
     "data": {
      "text/plain": [
       "(1, 1, 0)"
      ]
     },
     "execution_count": 24,
     "metadata": {},
     "output_type": "execute_result"
    }
   ],
   "source": [
    "abc(6)"
   ]
  },
  {
   "cell_type": "code",
   "execution_count": 15,
   "id": "0b4e5a3d-0891-4d75-a1f8-f5b55bd4341b",
   "metadata": {},
   "outputs": [
    {
     "ename": "ModuleNotFoundError",
     "evalue": "No module named 'ordered_set'",
     "output_type": "error",
     "traceback": [
      "\u001b[1;31m---------------------------------------------------------------------------\u001b[0m",
      "\u001b[1;31mModuleNotFoundError\u001b[0m                       Traceback (most recent call last)",
      "Cell \u001b[1;32mIn[15], line 1\u001b[0m\n\u001b[1;32m----> 1\u001b[0m \u001b[38;5;28;01mfrom\u001b[39;00m \u001b[38;5;21;01mordered_set\u001b[39;00m \u001b[38;5;28;01mimport\u001b[39;00m OrderedSet\n",
      "\u001b[1;31mModuleNotFoundError\u001b[0m: No module named 'ordered_set'"
     ]
    }
   ],
   "source": [
    "def ans(n):\n",
    "    tot = 1\n",
    "    seen = set([1])\n",
    "    Q = [(1, 1)]\n",
    "    "
   ]
  },
  {
   "cell_type": "code",
   "execution_count": null,
   "id": "08b40fae-f441-4d59-a111-73d4fbf35f66",
   "metadata": {},
   "outputs": [],
   "source": []
  },
  {
   "cell_type": "code",
   "execution_count": 25,
   "id": "df7d4030-d1ab-484c-91bc-f05ba0070f50",
   "metadata": {},
   "outputs": [],
   "source": [
    "from random import randint\n",
    "def miller_rabin(n, k=5):\n",
    "    d = n - 1\n",
    "    s = 0\n",
    "    while d % 2 == 0:\n",
    "        d //= 2\n",
    "        s += 1\n",
    "    \n",
    "    y = 0\n",
    "    for _ in range(k):\n",
    "        a = randint(2, n - 2)\n",
    "        x = pow(a, d, n)\n",
    "        for _ in range(s):\n",
    "            y = pow(x, 2, n)\n",
    "            if y == 1 and x != 1 and x != n - 1:\n",
    "                return False\n",
    "            x = y\n",
    "        if y != 1:\n",
    "            return False\n",
    "    return True"
   ]
  },
  {
   "cell_type": "code",
   "execution_count": 95,
   "id": "28c216d5-101e-4240-958e-494ec15b76da",
   "metadata": {},
   "outputs": [],
   "source": [
    "n = 10**8"
   ]
  },
  {
   "cell_type": "code",
   "execution_count": 96,
   "id": "f992fa55-a336-4209-bf1d-864a23bceaf0",
   "metadata": {},
   "outputs": [
    {
     "data": {
      "text/plain": [
       "1105"
      ]
     },
     "execution_count": 96,
     "metadata": {},
     "output_type": "execute_result"
    }
   ],
   "source": [
    "# Find all numbers of the form 2^a * 3^b * 5^c.\n",
    "nums = set([1])\n",
    "for p in [2, 3, 5]:\n",
    "    powers = []\n",
    "    i = 1\n",
    "    while i <= n:\n",
    "        powers.append(i)\n",
    "        i *= p\n",
    "    n_nums = set()\n",
    "    for e1 in nums:\n",
    "        for e2 in powers:\n",
    "            if e1 * e2 <= n:\n",
    "                n_nums.add(e1 * e2)\n",
    "    nums = n_nums\n",
    "len(nums)"
   ]
  },
  {
   "cell_type": "code",
   "execution_count": 97,
   "id": "a520b803-7e54-44ba-94aa-c8b3d4808cea",
   "metadata": {},
   "outputs": [
    {
     "data": {
      "text/plain": [
       "38406"
      ]
     },
     "execution_count": 97,
     "metadata": {},
     "output_type": "execute_result"
    }
   ],
   "source": [
    "# For each el, check if e + 1 is prime. If so, then can mult at least once.\n",
    "canreach = set([1])\n",
    "for e in nums:\n",
    "    if e <= 5 or e + 1 > n:\n",
    "        continue\n",
    "    if miller_rabin(e + 1):\n",
    "        # print(e + 1)\n",
    "        n_nums = set()\n",
    "        for e1 in canreach:\n",
    "            if e1 * (e + 1) <= n:\n",
    "                n_nums.add(e1 * (e + 1))\n",
    "        for e in n_nums:\n",
    "            canreach.add(e)\n",
    "len(canreach)"
   ]
  },
  {
   "cell_type": "code",
   "execution_count": 98,
   "id": "6d2cd118-795c-47a4-9ac5-030f12dfc88c",
   "metadata": {},
   "outputs": [],
   "source": [
    "# Find all numbers of the form 2^a * 3^b * 5^c.\n",
    "nums = set(canreach)\n",
    "for p in [2, 3, 5]:\n",
    "    powers = []\n",
    "    i = 1\n",
    "    while i <= n:\n",
    "        powers.append(i)\n",
    "        i *= p\n",
    "    n_nums = set()\n",
    "    for e1 in nums:\n",
    "        for e2 in powers:\n",
    "            if e1 * e2 <= n:\n",
    "                n_nums.add(e1 * e2)\n",
    "    nums = n_nums"
   ]
  },
  {
   "cell_type": "code",
   "execution_count": 99,
   "id": "dcfcc8f5-6c24-48ba-b201-ca4954ae4110",
   "metadata": {},
   "outputs": [
    {
     "data": {
      "text/plain": [
       "3620613805"
      ]
     },
     "execution_count": 99,
     "metadata": {},
     "output_type": "execute_result"
    }
   ],
   "source": [
    "sum(nums) % 4294967296"
   ]
  },
  {
   "cell_type": "code",
   "execution_count": null,
   "id": "4ab96b50-bb10-4aaa-92fb-c13b61ac8f8a",
   "metadata": {},
   "outputs": [],
   "source": []
  },
  {
   "cell_type": "code",
   "execution_count": null,
   "id": "aac9d311-f40f-4bad-894e-9880ed22488d",
   "metadata": {},
   "outputs": [],
   "source": []
  },
  {
   "cell_type": "code",
   "execution_count": null,
   "id": "5d1a8074-3f8d-4838-a165-a51c6d45fd53",
   "metadata": {},
   "outputs": [],
   "source": [
    "n = 10**8\n",
    "\n",
    "# Find all numbers of the form 2^a * 3^b * 5^c.\n",
    "nums = set([1])\n",
    "for p in [2, 3, 5]:\n",
    "    powers = []\n",
    "    i = 1\n",
    "    while i <= n:\n",
    "        powers.append(i)\n",
    "        i *= p\n",
    "    n_nums = set()\n",
    "    for e1 in nums:\n",
    "        for e2 in powers:\n",
    "            if e1 * e2 <= n:\n",
    "                n_nums.add(e1 * e2)\n",
    "    nums = n_nums\n",
    "len(nums)\n",
    "\n",
    "# For each el, check if e + 1 is prime. If so, then can mult at least once.\n",
    "canreach = set([1])\n",
    "for e in nums:\n",
    "    if e <= 5 or e + 1 > n:\n",
    "        continue\n",
    "    if miller_rabin(e + 1):\n",
    "        # print(e + 1)\n",
    "        n_nums = set()\n",
    "        for e1 in canreach:\n",
    "            if e1 * (e + 1) <= n:\n",
    "                n_nums.add(e1 * (e + 1))\n",
    "        for e in n_nums:\n",
    "            canreach.add(e)\n",
    "len(canreach)\n",
    "\n",
    "# Find all numbers of the form 2^a * 3^b * 5^c.\n",
    "nums = set(canreach)\n",
    "for p in [2, 3, 5]:\n",
    "    powers = []\n",
    "    i = 1\n",
    "    while i <= n:\n",
    "        powers.append(i)\n",
    "        i *= p\n",
    "    n_nums = set()\n",
    "    for e1 in nums:\n",
    "        for e2 in powers:\n",
    "            if e1 * e2 <= n:\n",
    "                n_nums.add(e1 * e2)\n",
    "    nums = n_nums\n",
    "\n",
    "sum(nums) % 4294967296"
   ]
  }
 ],
 "metadata": {
  "kernelspec": {
   "display_name": "Python 3 (ipykernel)",
   "language": "python",
   "name": "python3"
  },
  "language_info": {
   "codemirror_mode": {
    "name": "ipython",
    "version": 3
   },
   "file_extension": ".py",
   "mimetype": "text/x-python",
   "name": "python",
   "nbconvert_exporter": "python",
   "pygments_lexer": "ipython3",
   "version": "3.12.4"
  }
 },
 "nbformat": 4,
 "nbformat_minor": 5
}
