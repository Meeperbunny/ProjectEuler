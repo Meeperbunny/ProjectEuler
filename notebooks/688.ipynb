{
 "cells": [
  {
   "cell_type": "code",
   "execution_count": 24,
   "metadata": {},
   "outputs": [],
   "source": [
    "def tri(t):\n",
    "    return t * (t + 1) // 2\n",
    "def stri(t):\n",
    "    return t * (t - 1) // 2"
   ]
  },
  {
   "cell_type": "code",
   "execution_count": 25,
   "metadata": {},
   "outputs": [],
   "source": [
    "def f(n, k):\n",
    "    # print((n - tri(k)), k)\n",
    "    return max((n - stri(k)) // k, 0)"
   ]
  },
  {
   "cell_type": "code",
   "execution_count": 28,
   "metadata": {},
   "outputs": [],
   "source": [
    "from tqdm.notebook import trange"
   ]
  },
  {
   "cell_type": "code",
   "execution_count": 60,
   "metadata": {},
   "outputs": [
    {
     "data": {
      "application/vnd.jupyter.widget-view+json": {
       "model_id": "bcf2cb3e893644a5bcb666eee3cc70d9",
       "version_major": 2,
       "version_minor": 0
      },
      "text/plain": [
       "  0%|          | 0/144543976 [00:00<?, ?it/s]"
      ]
     },
     "metadata": {},
     "output_type": "display_data"
    },
    {
     "data": {
      "text/plain": [
       "110941813"
      ]
     },
     "execution_count": 60,
     "metadata": {},
     "output_type": "execute_result"
    }
   ],
   "source": [
    "def ans(n):\n",
    "    m = int(1e9+7)\n",
    "    T = 0\n",
    "    for k in trange(1, int(n**0.51)):\n",
    "        start = tri(k)\n",
    "        end = n\n",
    "        cnt = (end - start + k) // k\n",
    "        if cnt <= 0:\n",
    "            break\n",
    "        T += k * tri(cnt) % m\n",
    "        T -= cnt * (cnt * k - (end - start + 1)) % m\n",
    "        T %= m\n",
    "    return T % m\n",
    "ans(10**16)"
   ]
  },
  {
   "cell_type": "code",
   "execution_count": null,
   "metadata": {},
   "outputs": [],
   "source": []
  },
  {
   "cell_type": "code",
   "execution_count": null,
   "metadata": {},
   "outputs": [],
   "source": []
  },
  {
   "cell_type": "code",
   "execution_count": 26,
   "metadata": {},
   "outputs": [
    {
     "name": "stdout",
     "output_type": "stream",
     "text": [
      "15 5 1\n",
      "16 5 1\n",
      "17 5 1\n",
      "18 5 1\n",
      "19 5 1\n",
      "20 5 2\n",
      "21 5 2\n",
      "22 5 2\n",
      "23 5 2\n",
      "24 5 2\n",
      "25 5 3\n",
      "26 5 3\n",
      "27 5 3\n",
      "28 5 3\n",
      "29 5 3\n",
      "30 5 4\n",
      "31 5 4\n",
      "32 5 4\n",
      "33 5 4\n",
      "34 5 4\n",
      "35 5 5\n",
      "36 5 5\n",
      "37 5 5\n",
      "38 5 5\n",
      "39 5 5\n",
      "40 5 6\n",
      "41 5 6\n",
      "42 5 6\n",
      "43 5 6\n",
      "44 5 6\n",
      "45 5 7\n",
      "46 5 7\n",
      "47 5 7\n",
      "48 5 7\n",
      "49 5 7\n",
      "50 5 8\n",
      "51 5 8\n",
      "52 5 8\n",
      "53 5 8\n",
      "54 5 8\n",
      "55 5 9\n",
      "56 5 9\n",
      "57 5 9\n",
      "58 5 9\n",
      "59 5 9\n",
      "60 5 10\n",
      "61 5 10\n",
      "62 5 10\n",
      "63 5 10\n",
      "64 5 10\n",
      "65 5 11\n",
      "66 5 11\n",
      "67 5 11\n",
      "68 5 11\n",
      "69 5 11\n",
      "70 5 12\n",
      "71 5 12\n",
      "72 5 12\n",
      "73 5 12\n",
      "74 5 12\n",
      "75 5 13\n",
      "76 5 13\n",
      "77 5 13\n",
      "78 5 13\n",
      "79 5 13\n",
      "80 5 14\n",
      "81 5 14\n",
      "82 5 14\n",
      "83 5 14\n",
      "84 5 14\n",
      "85 5 15\n",
      "86 5 15\n",
      "87 5 15\n",
      "88 5 15\n",
      "89 5 15\n",
      "90 5 16\n",
      "91 5 16\n",
      "92 5 16\n",
      "93 5 16\n",
      "94 5 16\n",
      "95 5 17\n",
      "96 5 17\n",
      "97 5 17\n",
      "98 5 17\n",
      "99 5 17\n",
      "100 5 18\n"
     ]
    },
    {
     "data": {
      "text/plain": [
       "0"
      ]
     },
     "execution_count": 26,
     "metadata": {},
     "output_type": "execute_result"
    }
   ],
   "source": [
    "T = 0\n",
    "for n in range(1, 100 + 1):\n",
    "    TF = 0\n",
    "    for k in range(5, 6):\n",
    "        TF += f(n, k)\n",
    "        if f(n, k):\n",
    "            print(n, k, f(n, k))\n",
    "T"
   ]
  },
  {
   "cell_type": "code",
   "execution_count": null,
   "metadata": {},
   "outputs": [],
   "source": []
  }
 ],
 "metadata": {
  "kernelspec": {
   "display_name": "Python 3",
   "language": "python",
   "name": "python3"
  },
  "language_info": {
   "codemirror_mode": {
    "name": "ipython",
    "version": 3
   },
   "file_extension": ".py",
   "mimetype": "text/x-python",
   "name": "python",
   "nbconvert_exporter": "python",
   "pygments_lexer": "ipython3",
   "version": "3.9.6"
  }
 },
 "nbformat": 4,
 "nbformat_minor": 2
}
