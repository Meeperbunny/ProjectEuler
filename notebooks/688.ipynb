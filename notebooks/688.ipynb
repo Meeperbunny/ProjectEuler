{
 "cells": [
  {
   "cell_type": "code",
   "execution_count": 24,
   "metadata": {},
   "outputs": [],
   "source": [
    "def tri(t):\n",
    "    return t * (t + 1) // 2\n",
    "def stri(t):\n",
    "    return t * (t - 1) // 2"
   ]
  },
  {
   "cell_type": "code",
   "execution_count": 25,
   "metadata": {},
   "outputs": [],
   "source": [
    "def f(n, k):\n",
    "    # print((n - tri(k)), k)\n",
    "    return max((n - stri(k)) // k, 0)"
   ]
  },
  {
   "cell_type": "code",
   "execution_count": 28,
   "metadata": {},
   "outputs": [],
   "source": [
    "from tqdm.notebook import trange"
   ]
  },
  {
   "cell_type": "code",
   "execution_count": null,
   "metadata": {},
   "outputs": [
    {
     "data": {
      "application/vnd.jupyter.widget-view+json": {
       "model_id": "797a4689f8e1496bb140c4ab7399e21a",
       "version_major": 2,
       "version_minor": 0
      },
      "text/plain": [
       "  0%|          | 0/144543976 [00:00<?, ?it/s]"
      ]
     },
     "metadata": {},
     "output_type": "display_data"
    },
    {
     "ename": "KeyboardInterrupt",
     "evalue": "",
     "output_type": "error",
     "traceback": [
      "\u001b[0;31m---------------------------------------------------------------------------\u001b[0m",
      "\u001b[0;31mKeyboardInterrupt\u001b[0m                         Traceback (most recent call last)",
      "Cell \u001b[0;32mIn[59], line 13\u001b[0m\n\u001b[1;32m     11\u001b[0m         T \u001b[38;5;241m-\u001b[39m\u001b[38;5;241m=\u001b[39m cnt \u001b[38;5;241m*\u001b[39m (cnt \u001b[38;5;241m*\u001b[39m k \u001b[38;5;241m-\u001b[39m (end \u001b[38;5;241m-\u001b[39m start \u001b[38;5;241m+\u001b[39m \u001b[38;5;241m1\u001b[39m)) \u001b[38;5;241m%\u001b[39m m\n\u001b[1;32m     12\u001b[0m     \u001b[38;5;28;01mreturn\u001b[39;00m T \u001b[38;5;241m%\u001b[39m m\n\u001b[0;32m---> 13\u001b[0m \u001b[43mans\u001b[49m\u001b[43m(\u001b[49m\u001b[38;5;241;43m10\u001b[39;49m\u001b[38;5;241;43m*\u001b[39;49m\u001b[38;5;241;43m*\u001b[39;49m\u001b[38;5;241;43m16\u001b[39;49m\u001b[43m)\u001b[49m\n",
      "Cell \u001b[0;32mIn[59], line 4\u001b[0m, in \u001b[0;36mans\u001b[0;34m(n)\u001b[0m\n\u001b[1;32m      2\u001b[0m m \u001b[38;5;241m=\u001b[39m \u001b[38;5;28mint\u001b[39m(\u001b[38;5;241m1e9\u001b[39m\u001b[38;5;241m+\u001b[39m\u001b[38;5;241m7\u001b[39m)\n\u001b[1;32m      3\u001b[0m T \u001b[38;5;241m=\u001b[39m \u001b[38;5;241m0\u001b[39m\n\u001b[0;32m----> 4\u001b[0m \u001b[38;5;28;01mfor\u001b[39;00m k \u001b[38;5;129;01min\u001b[39;00m trange(\u001b[38;5;241m1\u001b[39m, \u001b[38;5;28mint\u001b[39m(n\u001b[38;5;241m*\u001b[39m\u001b[38;5;241m*\u001b[39m\u001b[38;5;241m0.51\u001b[39m)):\n\u001b[1;32m      5\u001b[0m     start \u001b[38;5;241m=\u001b[39m tri(k)\n\u001b[1;32m      6\u001b[0m     end \u001b[38;5;241m=\u001b[39m n\n",
      "File \u001b[0;32m~/Library/Python/3.9/lib/python/site-packages/tqdm/notebook.py:250\u001b[0m, in \u001b[0;36mtqdm_notebook.__iter__\u001b[0;34m(self)\u001b[0m\n\u001b[1;32m    248\u001b[0m \u001b[38;5;28;01mtry\u001b[39;00m:\n\u001b[1;32m    249\u001b[0m     it \u001b[38;5;241m=\u001b[39m \u001b[38;5;28msuper\u001b[39m()\u001b[38;5;241m.\u001b[39m\u001b[38;5;21m__iter__\u001b[39m()\n\u001b[0;32m--> 250\u001b[0m     \u001b[38;5;28;01mfor\u001b[39;00m obj \u001b[38;5;129;01min\u001b[39;00m it:\n\u001b[1;32m    251\u001b[0m         \u001b[38;5;66;03m# return super(tqdm...) will not catch exception\u001b[39;00m\n\u001b[1;32m    252\u001b[0m         \u001b[38;5;28;01myield\u001b[39;00m obj\n\u001b[1;32m    253\u001b[0m \u001b[38;5;66;03m# NB: except ... [ as ...] breaks IPython async KeyboardInterrupt\u001b[39;00m\n",
      "File \u001b[0;32m~/Library/Python/3.9/lib/python/site-packages/tqdm/std.py:1187\u001b[0m, in \u001b[0;36mtqdm.__iter__\u001b[0;34m(self)\u001b[0m\n\u001b[1;32m   1183\u001b[0m \u001b[38;5;66;03m# Update and possibly print the progressbar.\u001b[39;00m\n\u001b[1;32m   1184\u001b[0m \u001b[38;5;66;03m# Note: does not call self.update(1) for speed optimisation.\u001b[39;00m\n\u001b[1;32m   1185\u001b[0m n \u001b[38;5;241m+\u001b[39m\u001b[38;5;241m=\u001b[39m \u001b[38;5;241m1\u001b[39m\n\u001b[0;32m-> 1187\u001b[0m \u001b[38;5;28;01mif\u001b[39;00m \u001b[43mn\u001b[49m\u001b[43m \u001b[49m\u001b[38;5;241;43m-\u001b[39;49m\u001b[43m \u001b[49m\u001b[43mlast_print_n\u001b[49m\u001b[43m \u001b[49m\u001b[38;5;241;43m>\u001b[39;49m\u001b[38;5;241;43m=\u001b[39;49m\u001b[43m \u001b[49m\u001b[38;5;28;43mself\u001b[39;49m\u001b[38;5;241;43m.\u001b[39;49m\u001b[43mminiters\u001b[49m:\n\u001b[1;32m   1188\u001b[0m     cur_t \u001b[38;5;241m=\u001b[39m time()\n\u001b[1;32m   1189\u001b[0m     dt \u001b[38;5;241m=\u001b[39m cur_t \u001b[38;5;241m-\u001b[39m last_print_t\n",
      "\u001b[0;31mKeyboardInterrupt\u001b[0m: "
     ]
    }
   ],
   "source": [
    "def ans(n):\n",
    "    m = int(1e9+7)\n",
    "    T = 0\n",
    "    for k in trange(1, int(n**0.51)):\n",
    "        start = tri(k)\n",
    "        end = n\n",
    "        cnt = (end - start + k) // k\n",
    "        if cnt <= 0:\n",
    "            break\n",
    "        T += k * tri(cnt) % m\n",
    "        T -= cnt * (cnt * k - (end - start + 1)) % m\n",
    "        T %= m\n",
    "    return T % m\n",
    "ans(10**16)"
   ]
  },
  {
   "cell_type": "code",
   "execution_count": null,
   "metadata": {},
   "outputs": [],
   "source": []
  },
  {
   "cell_type": "code",
   "execution_count": 26,
   "metadata": {},
   "outputs": [
    {
     "name": "stdout",
     "output_type": "stream",
     "text": [
      "15 5 1\n",
      "16 5 1\n",
      "17 5 1\n",
      "18 5 1\n",
      "19 5 1\n",
      "20 5 2\n",
      "21 5 2\n",
      "22 5 2\n",
      "23 5 2\n",
      "24 5 2\n",
      "25 5 3\n",
      "26 5 3\n",
      "27 5 3\n",
      "28 5 3\n",
      "29 5 3\n",
      "30 5 4\n",
      "31 5 4\n",
      "32 5 4\n",
      "33 5 4\n",
      "34 5 4\n",
      "35 5 5\n",
      "36 5 5\n",
      "37 5 5\n",
      "38 5 5\n",
      "39 5 5\n",
      "40 5 6\n",
      "41 5 6\n",
      "42 5 6\n",
      "43 5 6\n",
      "44 5 6\n",
      "45 5 7\n",
      "46 5 7\n",
      "47 5 7\n",
      "48 5 7\n",
      "49 5 7\n",
      "50 5 8\n",
      "51 5 8\n",
      "52 5 8\n",
      "53 5 8\n",
      "54 5 8\n",
      "55 5 9\n",
      "56 5 9\n",
      "57 5 9\n",
      "58 5 9\n",
      "59 5 9\n",
      "60 5 10\n",
      "61 5 10\n",
      "62 5 10\n",
      "63 5 10\n",
      "64 5 10\n",
      "65 5 11\n",
      "66 5 11\n",
      "67 5 11\n",
      "68 5 11\n",
      "69 5 11\n",
      "70 5 12\n",
      "71 5 12\n",
      "72 5 12\n",
      "73 5 12\n",
      "74 5 12\n",
      "75 5 13\n",
      "76 5 13\n",
      "77 5 13\n",
      "78 5 13\n",
      "79 5 13\n",
      "80 5 14\n",
      "81 5 14\n",
      "82 5 14\n",
      "83 5 14\n",
      "84 5 14\n",
      "85 5 15\n",
      "86 5 15\n",
      "87 5 15\n",
      "88 5 15\n",
      "89 5 15\n",
      "90 5 16\n",
      "91 5 16\n",
      "92 5 16\n",
      "93 5 16\n",
      "94 5 16\n",
      "95 5 17\n",
      "96 5 17\n",
      "97 5 17\n",
      "98 5 17\n",
      "99 5 17\n",
      "100 5 18\n"
     ]
    },
    {
     "data": {
      "text/plain": [
       "0"
      ]
     },
     "execution_count": 26,
     "metadata": {},
     "output_type": "execute_result"
    }
   ],
   "source": [
    "T = 0\n",
    "for n in range(1, 100 + 1):\n",
    "    TF = 0\n",
    "    for k in range(5, 6):\n",
    "        TF += f(n, k)\n",
    "        if f(n, k):\n",
    "            print(n, k, f(n, k))\n",
    "T"
   ]
  },
  {
   "cell_type": "code",
   "execution_count": null,
   "metadata": {},
   "outputs": [],
   "source": []
  }
 ],
 "metadata": {
  "kernelspec": {
   "display_name": "Python 3",
   "language": "python",
   "name": "python3"
  },
  "language_info": {
   "codemirror_mode": {
    "name": "ipython",
    "version": 3
   },
   "file_extension": ".py",
   "mimetype": "text/x-python",
   "name": "python",
   "nbconvert_exporter": "python",
   "pygments_lexer": "ipython3",
   "version": "3.9.6"
  }
 },
 "nbformat": 4,
 "nbformat_minor": 2
}
