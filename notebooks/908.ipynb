{
 "cells": [
  {
   "cell_type": "code",
   "execution_count": 228,
   "id": "0cfab6de-3e24-43c1-8f08-efb9bdb856f4",
   "metadata": {},
   "outputs": [],
   "source": [
    "def get_divs(n):\n",
    "    divs = [[] for _ in range(n + 1)]\n",
    "    for i in range(1, n + 1):\n",
    "        for q in range(i, n + 1, i):\n",
    "            if i == 1:\n",
    "                continue\n",
    "            divs[q].append(i)\n",
    "    return divs"
   ]
  },
  {
   "cell_type": "code",
   "execution_count": 229,
   "id": "db3728ba-e4fd-4397-8ec5-f69032e4133a",
   "metadata": {},
   "outputs": [],
   "source": [
    "n = 4\n",
    "ways = [[0 for _ in range(n + 1)] for _ in range(n + 1)]\n",
    "divs = get_divs(n)"
   ]
  },
  {
   "cell_type": "code",
   "execution_count": 230,
   "id": "b4c01eac-195d-4edf-9e53-56d5e8dcd41d",
   "metadata": {},
   "outputs": [],
   "source": [
    "for i in range(1, n + 1):\n",
    "    ways[i][1] = 1"
   ]
  },
  {
   "cell_type": "code",
   "execution_count": 231,
   "id": "641762f3-0f5d-49cf-9c65-8f3a8d73d7e8",
   "metadata": {},
   "outputs": [],
   "source": [
    "def fft(a, b):\n",
    "    c = [0 for _ in range(len(a) + len(b))]\n",
    "    for i in range(len(a)):\n",
    "        for q in range(len(b)):\n",
    "            c[i + q] += a[i] * b[q]\n",
    "    return c"
   ]
  },
  {
   "cell_type": "code",
   "execution_count": 232,
   "id": "fc305989-e0d8-4949-8fad-d50c766a5109",
   "metadata": {},
   "outputs": [
    {
     "name": "stdout",
     "output_type": "stream",
     "text": [
      "2 [2] 1\n",
      "2 [0, 1, 0, 0, 0]\n",
      "3 [3] 1\n",
      "3 [0, 1, 2, 0, 0]\n",
      "2 [2, 4] 0\n",
      "4 [2, 4] 1\n",
      "4 [0, 1, 3, 4, 0]\n"
     ]
    }
   ],
   "source": [
    "for i in range(2, n + 1):\n",
    "    for q in range(1, i):\n",
    "        l, r = q, i - q\n",
    "        b = fft(ways[l], ways[r])\n",
    "        # print(i, l, r, b)\n",
    "        for j in range(0, n + 1):\n",
    "            ways[i][j] += b[j]\n",
    "    for d in divs[i]:\n",
    "        print(d, divs[i], ways[i // d][i // d])\n",
    "        ways[i][i] -= ways[i // d][i // d]\n",
    "    ways[i][i] = 0\n",
    "        \n",
    "        \n",
    "    print(i, ways[i])"
   ]
  },
  {
   "cell_type": "code",
   "execution_count": 233,
   "id": "a0d5673f-b0a7-4cc4-9b90-e63f2c6c71d3",
   "metadata": {},
   "outputs": [
    {
     "name": "stdout",
     "output_type": "stream",
     "text": [
      "[0, 0, 0, 0, 1, 5, 10, 8, 0, 0, 0, 0, 0, 0, 0, 0, 0, 0, 0, 0, 0, 0, 0, 0, 0, 0, 0, 0, 0, 0, 0, 0]\n"
     ]
    }
   ],
   "source": [
    "base = [1, 0, 0, 0, 0, 0, 0, 0, 0, 0, 0, 0]\n",
    "for i in range(1, n + 1):\n",
    "    base = fft(base, ways[i])\n",
    "    # print(ways[i])\n",
    "    # print('\\t', base)\n",
    "print(base)"
   ]
  },
  {
   "cell_type": "code",
   "execution_count": null,
   "id": "647f1f36-0f17-4518-b00a-a75c56d65001",
   "metadata": {},
   "outputs": [],
   "source": []
  }
 ],
 "metadata": {
  "kernelspec": {
   "display_name": "Python 3 (ipykernel)",
   "language": "python",
   "name": "python3"
  },
  "language_info": {
   "codemirror_mode": {
    "name": "ipython",
    "version": 3
   },
   "file_extension": ".py",
   "mimetype": "text/x-python",
   "name": "python",
   "nbconvert_exporter": "python",
   "pygments_lexer": "ipython3",
   "version": "3.12.6"
  }
 },
 "nbformat": 4,
 "nbformat_minor": 5
}
