{
 "cells": [
  {
   "cell_type": "code",
   "execution_count": 6,
   "id": "6c788153-5e40-4e2d-95eb-59c5f6846f9f",
   "metadata": {},
   "outputs": [],
   "source": [
    "def is_r(n):\n",
    "    n_s = str(n)\n",
    "    n_s = int(n_s[1:] + n_s[0])\n",
    "    return n_s % n == 0"
   ]
  },
  {
   "cell_type": "markdown",
   "id": "af33abf2-7cd1-4009-abc9-08b5a3802c72",
   "metadata": {},
   "source": [
    "# Thoughts\n",
    "\n",
    "When # digits mod 6 == 0, then 142857 and 285714 work. \n",
    "Take 2 summations: 111111, 222222 etc... and 142857 + 285714 for each digit mod 6."
   ]
  },
  {
   "cell_type": "code",
   "execution_count": 47,
   "id": "f5fed1cb-72f3-44e3-8eef-fbe7293e6a7e",
   "metadata": {},
   "outputs": [],
   "source": [
    "# rep_m = {1: 1}\n",
    "# def repunit_mod(n, m):\n",
    "#     if n not in rep_m:\n",
    "#         l_n = n // 2\n",
    "#         c = (repunit_mod(l_n, m) + repunit_mod(l_n, m) * pow(10, l_n, m)) % m\n",
    "#         if n & 1:\n",
    "#             c = (c * 10 + 1) % m\n",
    "#         rep_m[n] = c\n",
    "#     return rep_m[n]"
   ]
  },
  {
   "cell_type": "code",
   "execution_count": 48,
   "id": "23a5519f-7e98-42bf-a773-1abf17d1d37c",
   "metadata": {},
   "outputs": [],
   "source": [
    "# repunit_mod(13, 10)"
   ]
  },
  {
   "cell_type": "code",
   "execution_count": 62,
   "id": "461d7e48-6cec-4454-a265-97729465fab5",
   "metadata": {},
   "outputs": [],
   "source": [
    "from collections import Counter"
   ]
  },
  {
   "cell_type": "code",
   "execution_count": 64,
   "id": "1ceba805-41b2-4306-ba79-40e20b2d70bd",
   "metadata": {},
   "outputs": [
    {
     "data": {
      "text/plain": [
       "Counter({5: 99995, 4: 49995, 6: 28566, 3: 4995, 2: 495})"
      ]
     },
     "execution_count": 64,
     "metadata": {},
     "output_type": "execute_result"
    }
   ],
   "source": [
    "m = 100000\n",
    "t = 0\n",
    "added = Counter()\n",
    "for i in range(10, 1000000):\n",
    "    if is_r(i):\n",
    "        added[len(str(i))] += i\n",
    "        added[len(str(i))] %= m\n",
    "added"
   ]
  },
  {
   "cell_type": "code",
   "execution_count": 67,
   "id": "907894b2-c51a-4b65-8ce6-0736839608bc",
   "metadata": {},
   "outputs": [
    {
     "data": {
      "text/plain": [
       "12141"
      ]
     },
     "execution_count": 67,
     "metadata": {},
     "output_type": "execute_result"
    }
   ],
   "source": [
    "t = 0\n",
    "for d in range(2, 101):\n",
    "    if d in added:\n",
    "        t += added[d]\n",
    "    elif d % 6 == 0:\n",
    "        t += added[6]\n",
    "    else:\n",
    "        t += added[5]\n",
    "t % 100000"
   ]
  },
  {
   "cell_type": "code",
   "execution_count": 11,
   "id": "0e068865-6199-4923-aa3d-ec860dd0ae6a",
   "metadata": {},
   "outputs": [],
   "source": [
    "cyclic = [\n",
    "    \"142857\",\n",
    "    \"0588235294117647\",\n",
    "    \"052631578947368421\",\n",
    "    \"0434782608695652173913\",\n",
    "    \"0344827586206896551724137931\",\n",
    "    \"0212765957446808510638297872340425531914893617\",\n",
    "    \"0169491525423728813559322033898305084745762711864406779661\",\n",
    "    \"016393442622950819672131147540983606557377049180327868852459\",\n",
    "    \"010309278350515463917525773195876288659793814432989690721649484536082474226804123711340206185567\",\n",
    "]"
   ]
  },
  {
   "cell_type": "code",
   "execution_count": 57,
   "id": "0b3c22b6-bf14-49c2-9e8a-e880876de59c",
   "metadata": {},
   "outputs": [],
   "source": [
    "nc = []"
   ]
  },
  {
   "cell_type": "code",
   "execution_count": 58,
   "id": "f4dc2bfb-1faf-4628-8ef0-a818e939a2e8",
   "metadata": {},
   "outputs": [],
   "source": [
    "for i in range(len(cyclic)):\n",
    "    bs = \"\"\n",
    "    while True:\n",
    "        bs += cyclic[i]\n",
    "        if len(bs) > 100:\n",
    "            break\n",
    "        nc.append(bs)"
   ]
  },
  {
   "cell_type": "code",
   "execution_count": 12,
   "id": "8ce068cb-ef86-4865-be86-f1f24a23d767",
   "metadata": {},
   "outputs": [],
   "source": [
    "def rep(n):\n",
    "    return (10**(n) - 1) // 9"
   ]
  },
  {
   "cell_type": "code",
   "execution_count": 60,
   "id": "a5679dd7-7392-401f-b263-56ad8322e26b",
   "metadata": {},
   "outputs": [],
   "source": [
    "def is_r(n):\n",
    "    n_s = str(n)\n",
    "    n_s = int(n_s[-1] + n_s[:-1])\n",
    "    # print(n, n_s)\n",
    "    return n_s % n == 0"
   ]
  },
  {
   "cell_type": "code",
   "execution_count": 74,
   "id": "a131d192-1070-4294-bd3b-908bee823aea",
   "metadata": {},
   "outputs": [],
   "source": [
    "mad = 6"
   ]
  },
  {
   "cell_type": "code",
   "execution_count": 79,
   "id": "caa54fb0-20e2-4412-8e51-d89215d9e2ef",
   "metadata": {},
   "outputs": [
    {
     "data": {
      "text/plain": [
       "128205"
      ]
     },
     "execution_count": 79,
     "metadata": {},
     "output_type": "execute_result"
    }
   ],
   "source": [
    "128205"
   ]
  },
  {
   "cell_type": "code",
   "execution_count": 104,
   "id": "4fe8388b-b36c-48c9-8741-370b5ca4681a",
   "metadata": {},
   "outputs": [
    {
     "data": {
      "text/plain": [
       "3692"
      ]
     },
     "execution_count": 104,
     "metadata": {},
     "output_type": "execute_result"
    }
   ],
   "source": [
    "4 * 3\n",
    "4 * 23\n",
    "4 * 923"
   ]
  },
  {
   "cell_type": "code",
   "execution_count": 95,
   "id": "e7ac1136-536a-4eb9-b3c2-add7237b4159",
   "metadata": {},
   "outputs": [
    {
     "data": {
      "text/plain": [
       "0.25"
      ]
     },
     "execution_count": 95,
     "metadata": {},
     "output_type": "execute_result"
    }
   ],
   "source": [
    "179487 / 717948"
   ]
  },
  {
   "cell_type": "code",
   "execution_count": 78,
   "id": "e41d18d7-b332-4d82-a18f-47f8a890e521",
   "metadata": {},
   "outputs": [
    {
     "name": "stdout",
     "output_type": "stream",
     "text": [
      "11\n",
      "22\n",
      "33\n",
      "44\n",
      "55\n",
      "66\n",
      "77\n",
      "88\n",
      "99\n",
      "111\n",
      "222\n",
      "333\n",
      "444\n",
      "555\n",
      "666\n",
      "777\n",
      "888\n",
      "999\n",
      "1111\n",
      "2222\n",
      "3333\n",
      "4444\n",
      "5555\n",
      "6666\n",
      "7777\n",
      "8888\n",
      "9999\n",
      "11111\n",
      "22222\n",
      "33333\n",
      "44444\n",
      "55555\n",
      "66666\n",
      "77777\n",
      "88888\n",
      "99999\n",
      "102564\n",
      "111111\n",
      "128205\n",
      "142857\n",
      "153846\n",
      "179487\n",
      "205128\n",
      "222222\n",
      "230769\n",
      "333333\n",
      "444444\n",
      "555555\n",
      "666666\n",
      "777777\n",
      "888888\n",
      "999999\n"
     ]
    },
    {
     "data": {
      "text/plain": [
       "6698331"
      ]
     },
     "execution_count": 78,
     "metadata": {},
     "output_type": "execute_result"
    }
   ],
   "source": [
    "tot = 0\n",
    "for i in range(10, 10**mad):\n",
    "    if is_r(i):\n",
    "        tot += i\n",
    "        print(i)\n",
    "tot"
   ]
  },
  {
   "cell_type": "code",
   "execution_count": 77,
   "id": "6c0bb4d3-e898-424d-b096-ab9d4de6bc7a",
   "metadata": {},
   "outputs": [
    {
     "name": "stdout",
     "output_type": "stream",
     "text": [
      "11\n",
      "22\n",
      "33\n",
      "44\n",
      "55\n",
      "66\n",
      "77\n",
      "88\n",
      "99\n",
      "111\n",
      "222\n",
      "333\n",
      "444\n",
      "555\n",
      "666\n",
      "777\n",
      "888\n",
      "999\n",
      "1111\n",
      "2222\n",
      "3333\n",
      "4444\n",
      "5555\n",
      "6666\n",
      "7777\n",
      "8888\n",
      "9999\n",
      "11111\n",
      "22222\n",
      "33333\n",
      "44444\n",
      "55555\n",
      "66666\n",
      "77777\n",
      "88888\n",
      "99999\n",
      "111111\n",
      "222222\n",
      "333333\n",
      "444444\n",
      "555555\n",
      "666666\n",
      "777777\n",
      "888888\n",
      "999999\n",
      "142857\n"
     ]
    },
    {
     "data": {
      "text/plain": [
       "98332"
      ]
     },
     "execution_count": 77,
     "metadata": {},
     "output_type": "execute_result"
    }
   ],
   "source": [
    "t = 0\n",
    "for d in range(2, mad + 1):\n",
    "    # Consider all of same digit\n",
    "    for i in range(1, 10):\n",
    "        t += i * rep(min(d, 6))\n",
    "        print(i * rep(min(d, 6)))\n",
    "    for cyc in nc:\n",
    "        if d == len(cyc):\n",
    "            # print(len(cyc))\n",
    "            # Consider all rotations\n",
    "            for q in range(len(cyc)):\n",
    "                z = int(cyc[q:] + cyc[0:q])\n",
    "                if (is_r(z)):\n",
    "                    print(z)\n",
    "                    t += z % 100000\n",
    "t % 100000"
   ]
  },
  {
   "cell_type": "code",
   "execution_count": 83,
   "id": "93fe6d0b-4fe7-44c7-9fd8-4618651703b2",
   "metadata": {},
   "outputs": [],
   "source": [
    "def q_bp(p, b=10):\n",
    "    return (b**(p - 1) - 1) / p"
   ]
  },
  {
   "cell_type": "code",
   "execution_count": 94,
   "id": "b0452cb8-a28e-48d8-80fe-3e2bc7bb9ba1",
   "metadata": {},
   "outputs": [
    {
     "data": {
      "text/plain": [
       "2.2857140046939137"
      ]
     },
     "execution_count": 94,
     "metadata": {},
     "output_type": "execute_result"
    }
   ],
   "source": [
    "941176475882352 / 411764758823529"
   ]
  },
  {
   "cell_type": "code",
   "execution_count": 90,
   "id": "f418b8c6-3e0f-4e64-91a2-ae5b407fabb0",
   "metadata": {},
   "outputs": [
    {
     "data": {
      "text/plain": [
       "588235294117647.0"
      ]
     },
     "execution_count": 90,
     "metadata": {},
     "output_type": "execute_result"
    }
   ],
   "source": [
    "q_bp(17)"
   ]
  }
 ],
 "metadata": {
  "kernelspec": {
   "display_name": "Python 3 (ipykernel)",
   "language": "python",
   "name": "python3"
  },
  "language_info": {
   "codemirror_mode": {
    "name": "ipython",
    "version": 3
   },
   "file_extension": ".py",
   "mimetype": "text/x-python",
   "name": "python",
   "nbconvert_exporter": "python",
   "pygments_lexer": "ipython3",
   "version": "3.12.4"
  }
 },
 "nbformat": 4,
 "nbformat_minor": 5
}
