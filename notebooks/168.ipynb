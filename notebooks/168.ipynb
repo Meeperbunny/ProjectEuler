{
 "cells": [
  {
   "cell_type": "code",
   "execution_count": 6,
   "id": "6c788153-5e40-4e2d-95eb-59c5f6846f9f",
   "metadata": {},
   "outputs": [],
   "source": [
    "def is_r(n):\n",
    "    n_s = str(n)\n",
    "    n_s = int(n_s[1:] + n_s[0])\n",
    "    return n_s % n == 0"
   ]
  },
  {
   "cell_type": "markdown",
   "id": "af33abf2-7cd1-4009-abc9-08b5a3802c72",
   "metadata": {},
   "source": [
    "# Thoughts\n",
    "\n",
    "When # digits mod 6 == 0, then 142857 and 285714 work. \n",
    "Take 2 summations: 111111, 222222 etc... and 142857 + 285714 for each digit mod 6."
   ]
  },
  {
   "cell_type": "code",
   "execution_count": 47,
   "id": "f5fed1cb-72f3-44e3-8eef-fbe7293e6a7e",
   "metadata": {},
   "outputs": [],
   "source": [
    "# rep_m = {1: 1}\n",
    "# def repunit_mod(n, m):\n",
    "#     if n not in rep_m:\n",
    "#         l_n = n // 2\n",
    "#         c = (repunit_mod(l_n, m) + repunit_mod(l_n, m) * pow(10, l_n, m)) % m\n",
    "#         if n & 1:\n",
    "#             c = (c * 10 + 1) % m\n",
    "#         rep_m[n] = c\n",
    "#     return rep_m[n]"
   ]
  },
  {
   "cell_type": "code",
   "execution_count": 48,
   "id": "23a5519f-7e98-42bf-a773-1abf17d1d37c",
   "metadata": {},
   "outputs": [],
   "source": [
    "# repunit_mod(13, 10)"
   ]
  },
  {
   "cell_type": "code",
   "execution_count": 62,
   "id": "461d7e48-6cec-4454-a265-97729465fab5",
   "metadata": {},
   "outputs": [],
   "source": [
    "from collections import Counter"
   ]
  },
  {
   "cell_type": "code",
   "execution_count": 64,
   "id": "1ceba805-41b2-4306-ba79-40e20b2d70bd",
   "metadata": {},
   "outputs": [
    {
     "data": {
      "text/plain": [
       "Counter({5: 99995, 4: 49995, 6: 28566, 3: 4995, 2: 495})"
      ]
     },
     "execution_count": 64,
     "metadata": {},
     "output_type": "execute_result"
    }
   ],
   "source": [
    "m = 100000\n",
    "t = 0\n",
    "added = Counter()\n",
    "for i in range(10, 1000000):\n",
    "    if is_r(i):\n",
    "        added[len(str(i))] += i\n",
    "        added[len(str(i))] %= m\n",
    "added"
   ]
  },
  {
   "cell_type": "code",
   "execution_count": 67,
   "id": "907894b2-c51a-4b65-8ce6-0736839608bc",
   "metadata": {},
   "outputs": [
    {
     "data": {
      "text/plain": [
       "12141"
      ]
     },
     "execution_count": 67,
     "metadata": {},
     "output_type": "execute_result"
    }
   ],
   "source": [
    "t = 0\n",
    "for d in range(2, 101):\n",
    "    if d in added:\n",
    "        t += added[d]\n",
    "    elif d % 6 == 0:\n",
    "        t += added[6]\n",
    "    else:\n",
    "        t += added[5]\n",
    "t % 100000"
   ]
  },
  {
   "cell_type": "code",
   "execution_count": 11,
   "id": "0e068865-6199-4923-aa3d-ec860dd0ae6a",
   "metadata": {},
   "outputs": [],
   "source": [
    "cyclic = [\n",
    "    \"142857\",\n",
    "    \"0588235294117647\",\n",
    "    \"052631578947368421\",\n",
    "    \"0434782608695652173913\",\n",
    "    \"0344827586206896551724137931\",\n",
    "    \"0212765957446808510638297872340425531914893617\",\n",
    "    \"0169491525423728813559322033898305084745762711864406779661\",\n",
    "    \"016393442622950819672131147540983606557377049180327868852459\",\n",
    "    \"010309278350515463917525773195876288659793814432989690721649484536082474226804123711340206185567\",\n",
    "]"
   ]
  },
  {
   "cell_type": "code",
   "execution_count": 57,
   "id": "0b3c22b6-bf14-49c2-9e8a-e880876de59c",
   "metadata": {},
   "outputs": [],
   "source": [
    "nc = []"
   ]
  },
  {
   "cell_type": "code",
   "execution_count": 58,
   "id": "f4dc2bfb-1faf-4628-8ef0-a818e939a2e8",
   "metadata": {},
   "outputs": [],
   "source": [
    "for i in range(len(cyclic)):\n",
    "    bs = \"\"\n",
    "    while True:\n",
    "        bs += cyclic[i]\n",
    "        if len(bs) > 100:\n",
    "            break\n",
    "        nc.append(bs)"
   ]
  },
  {
   "cell_type": "code",
   "execution_count": null,
   "id": "8ce068cb-ef86-4865-be86-f1f24a23d767",
   "metadata": {},
   "outputs": [],
   "source": [
    "def rep(n):\n",
    "    return (10**(n) - 1) // 9"
   ]
  },
  {
   "cell_type": "code",
   "execution_count": 60,
   "id": "a5679dd7-7392-401f-b263-56ad8322e26b",
   "metadata": {},
   "outputs": [],
   "source": [
    "def is_r(n):\n",
    "    n_s = str(n)\n",
    "    n_s = int(n_s[-1] + n_s[:-1])\n",
    "    # print(n, n_s)\n",
    "    return n_s % n == 0"
   ]
  },
  {
   "cell_type": "code",
   "execution_count": 74,
   "id": "a131d192-1070-4294-bd3b-908bee823aea",
   "metadata": {},
   "outputs": [],
   "source": [
    "mad = 6"
   ]
  },
  {
   "cell_type": "code",
   "execution_count": 79,
   "id": "caa54fb0-20e2-4412-8e51-d89215d9e2ef",
   "metadata": {},
   "outputs": [
    {
     "data": {
      "text/plain": [
       "128205"
      ]
     },
     "execution_count": 79,
     "metadata": {},
     "output_type": "execute_result"
    }
   ],
   "source": [
    "128205"
   ]
  },
  {
   "cell_type": "code",
   "execution_count": 104,
   "id": "4fe8388b-b36c-48c9-8741-370b5ca4681a",
   "metadata": {},
   "outputs": [
    {
     "data": {
      "text/plain": [
       "3692"
      ]
     },
     "execution_count": 104,
     "metadata": {},
     "output_type": "execute_result"
    }
   ],
   "source": [
    "4 * 3\n",
    "4 * 23\n",
    "4 * 923"
   ]
  },
  {
   "cell_type": "code",
   "execution_count": 95,
   "id": "e7ac1136-536a-4eb9-b3c2-add7237b4159",
   "metadata": {},
   "outputs": [
    {
     "data": {
      "text/plain": [
       "0.25"
      ]
     },
     "execution_count": 95,
     "metadata": {},
     "output_type": "execute_result"
    }
   ],
   "source": [
    "179487 / 717948"
   ]
  },
  {
   "cell_type": "code",
   "execution_count": 78,
   "id": "e41d18d7-b332-4d82-a18f-47f8a890e521",
   "metadata": {},
   "outputs": [
    {
     "name": "stdout",
     "output_type": "stream",
     "text": [
      "11\n",
      "22\n",
      "33\n",
      "44\n",
      "55\n",
      "66\n",
      "77\n",
      "88\n",
      "99\n",
      "111\n",
      "222\n",
      "333\n",
      "444\n",
      "555\n",
      "666\n",
      "777\n",
      "888\n",
      "999\n",
      "1111\n",
      "2222\n",
      "3333\n",
      "4444\n",
      "5555\n",
      "6666\n",
      "7777\n",
      "8888\n",
      "9999\n",
      "11111\n",
      "22222\n",
      "33333\n",
      "44444\n",
      "55555\n",
      "66666\n",
      "77777\n",
      "88888\n",
      "99999\n",
      "102564\n",
      "111111\n",
      "128205\n",
      "142857\n",
      "153846\n",
      "179487\n",
      "205128\n",
      "222222\n",
      "230769\n",
      "333333\n",
      "444444\n",
      "555555\n",
      "666666\n",
      "777777\n",
      "888888\n",
      "999999\n"
     ]
    },
    {
     "data": {
      "text/plain": [
       "6698331"
      ]
     },
     "execution_count": 78,
     "metadata": {},
     "output_type": "execute_result"
    }
   ],
   "source": [
    "tot = 0\n",
    "for i in range(10, 10**mad):\n",
    "    if is_r(i):\n",
    "        tot += i\n",
    "        print(i)\n",
    "tot"
   ]
  },
  {
   "cell_type": "code",
   "execution_count": 77,
   "id": "6c0bb4d3-e898-424d-b096-ab9d4de6bc7a",
   "metadata": {},
   "outputs": [
    {
     "name": "stdout",
     "output_type": "stream",
     "text": [
      "11\n",
      "22\n",
      "33\n",
      "44\n",
      "55\n",
      "66\n",
      "77\n",
      "88\n",
      "99\n",
      "111\n",
      "222\n",
      "333\n",
      "444\n",
      "555\n",
      "666\n",
      "777\n",
      "888\n",
      "999\n",
      "1111\n",
      "2222\n",
      "3333\n",
      "4444\n",
      "5555\n",
      "6666\n",
      "7777\n",
      "8888\n",
      "9999\n",
      "11111\n",
      "22222\n",
      "33333\n",
      "44444\n",
      "55555\n",
      "66666\n",
      "77777\n",
      "88888\n",
      "99999\n",
      "111111\n",
      "222222\n",
      "333333\n",
      "444444\n",
      "555555\n",
      "666666\n",
      "777777\n",
      "888888\n",
      "999999\n",
      "142857\n"
     ]
    },
    {
     "data": {
      "text/plain": [
       "98332"
      ]
     },
     "execution_count": 77,
     "metadata": {},
     "output_type": "execute_result"
    }
   ],
   "source": [
    "t = 0\n",
    "for d in range(2, mad + 1):\n",
    "    # Consider all of same digit\n",
    "    for i in range(1, 10):\n",
    "        t += i * rep(min(d, 6))\n",
    "        print(i * rep(min(d, 6)))\n",
    "    for cyc in nc:\n",
    "        if d == len(cyc):\n",
    "            # print(len(cyc))\n",
    "            # Consider all rotations\n",
    "            for q in range(len(cyc)):\n",
    "                z = int(cyc[q:] + cyc[0:q])\n",
    "                if (is_r(z)):\n",
    "                    print(z)\n",
    "                    t += z % 100000\n",
    "t % 100000"
   ]
  },
  {
   "cell_type": "code",
   "execution_count": 83,
   "id": "93fe6d0b-4fe7-44c7-9fd8-4618651703b2",
   "metadata": {},
   "outputs": [],
   "source": [
    "def q_bp(p, b=10):\n",
    "    return (b**(p - 1) - 1) / p"
   ]
  },
  {
   "cell_type": "code",
   "execution_count": 94,
   "id": "b0452cb8-a28e-48d8-80fe-3e2bc7bb9ba1",
   "metadata": {},
   "outputs": [
    {
     "data": {
      "text/plain": [
       "2.2857140046939137"
      ]
     },
     "execution_count": 94,
     "metadata": {},
     "output_type": "execute_result"
    }
   ],
   "source": [
    "941176475882352 / 411764758823529"
   ]
  },
  {
   "cell_type": "code",
   "execution_count": 90,
   "id": "f418b8c6-3e0f-4e64-91a2-ae5b407fabb0",
   "metadata": {},
   "outputs": [
    {
     "data": {
      "text/plain": [
       "588235294117647.0"
      ]
     },
     "execution_count": 90,
     "metadata": {},
     "output_type": "execute_result"
    }
   ],
   "source": [
    "q_bp(17)"
   ]
  },
  {
   "cell_type": "code",
   "execution_count": 1,
   "id": "b5e06bb0",
   "metadata": {},
   "outputs": [],
   "source": [
    "# Picking back up on 3/22"
   ]
  },
  {
   "cell_type": "code",
   "execution_count": 2,
   "id": "04d6aa6d",
   "metadata": {},
   "outputs": [],
   "source": [
    "s = \"142857\""
   ]
  },
  {
   "cell_type": "code",
   "execution_count": 38,
   "id": "199a6f8a",
   "metadata": {},
   "outputs": [],
   "source": [
    "def get_divs(n):\n",
    "    divs = [[] for _ in range(n + 1)]\n",
    "    for i in range(1, n + 1):\n",
    "        for q in range(i, n + 1, i):\n",
    "            divs[q].append(i)\n",
    "    return divs\n",
    "D = get_divs(10**6)"
   ]
  },
  {
   "cell_type": "code",
   "execution_count": 39,
   "id": "7a2255d9",
   "metadata": {},
   "outputs": [],
   "source": [
    "def rot(s, i):\n",
    "    return s[i:] + s[0:i]"
   ]
  },
  {
   "cell_type": "code",
   "execution_count": 40,
   "id": "33917d8b",
   "metadata": {},
   "outputs": [
    {
     "name": "stdout",
     "output_type": "stream",
     "text": [
      "142857 714285\n",
      "True\n",
      "428571 142857\n",
      "False\n",
      "285714 428571\n",
      "False\n",
      "857142 285714\n",
      "False\n",
      "571428 857142\n",
      "False\n",
      "714285 571428\n",
      "False\n"
     ]
    }
   ],
   "source": [
    "for i in range(len(s)):\n",
    "    S = rot(s, i)\n",
    "    R = rot(S, len(s) - 1)\n",
    "    S, R = int(S), int(R)\n",
    "    print(S, R)\n",
    "    print(S in D[R])"
   ]
  },
  {
   "cell_type": "code",
   "execution_count": 98,
   "id": "5b2e1c79",
   "metadata": {},
   "outputs": [],
   "source": [
    "DC = 100\n"
   ]
  },
  {
   "cell_type": "code",
   "execution_count": 229,
   "id": "ff9fc2d7",
   "metadata": {},
   "outputs": [
    {
     "name": "stdout",
     "output_type": "stream",
     "text": [
      "11\n",
      "22\n",
      "33\n",
      "44\n",
      "55\n",
      "66\n",
      "77\n",
      "88\n",
      "99\n",
      "111\n",
      "222\n",
      "333\n",
      "444\n",
      "555\n",
      "666\n",
      "777\n",
      "888\n",
      "999\n",
      "1111\n",
      "2222\n",
      "3333\n",
      "4444\n",
      "5555\n",
      "6666\n",
      "7777\n",
      "8888\n",
      "9999\n",
      "11111\n",
      "22222\n",
      "33333\n",
      "44444\n",
      "55555\n",
      "66666\n",
      "77777\n",
      "88888\n",
      "99999\n",
      "102564\n",
      "111111\n",
      "128205\n",
      "142857\n",
      "153846\n",
      "179487\n",
      "205128\n",
      "222222\n",
      "230769\n",
      "333333\n",
      "444444\n",
      "555555\n",
      "666666\n",
      "777777\n",
      "888888\n",
      "999999\n"
     ]
    },
    {
     "data": {
      "text/plain": [
       "98331"
      ]
     },
     "execution_count": 229,
     "metadata": {},
     "output_type": "execute_result"
    }
   ],
   "source": [
    "# D = get_divs(10**DC)\n",
    "N = 10**DC\n",
    "T = 0\n",
    "for i in range(10, N):\n",
    "    si = str(i)\n",
    "    ir = int(rot(si, len(si) - 1))\n",
    "    if ir % i == 0:\n",
    "        T += i\n",
    "        print(i)\n",
    "T % 10**5"
   ]
  },
  {
   "cell_type": "code",
   "execution_count": null,
   "id": "438e547d",
   "metadata": {},
   "outputs": [
    {
     "data": {
      "text/plain": [
       "475555005"
      ]
     },
     "execution_count": 104,
     "metadata": {},
     "output_type": "execute_result"
    }
   ],
   "source": [
    "T = 0\n",
    "for i in range(1, 10):\n",
    "    for l in range(1, DC + 1):\n",
    "        T += modr(l, i, 10**8)\n",
    "        # print(modr(l, i, 10**8))\n",
    "T -= 45\n",
    "T"
   ]
  },
  {
   "cell_type": "code",
   "execution_count": 105,
   "id": "4df771ea",
   "metadata": {},
   "outputs": [
    {
     "data": {
      "text/plain": [
       "475555005"
      ]
     },
     "execution_count": 105,
     "metadata": {},
     "output_type": "execute_result"
    }
   ],
   "source": [
    "T"
   ]
  },
  {
   "cell_type": "code",
   "execution_count": 108,
   "id": "f36fce73",
   "metadata": {},
   "outputs": [
    {
     "data": {
      "text/plain": [
       "3103448275862068965517241379"
      ]
     },
     "execution_count": 108,
     "metadata": {},
     "output_type": "execute_result"
    }
   ],
   "source": [
    "1034482758620689655172413793 * 3"
   ]
  },
  {
   "cell_type": "code",
   "execution_count": null,
   "id": "6471110b",
   "metadata": {},
   "outputs": [],
   "source": []
  },
  {
   "cell_type": "code",
   "execution_count": 139,
   "id": "e125b080",
   "metadata": {},
   "outputs": [],
   "source": [
    "def genparasitic(n, k, d):\n",
    "    l = []\n",
    "    c = k\n",
    "    for i in range(d):\n",
    "        # print(n, c, n * c)\n",
    "        s = n * c\n",
    "        t = str(c)\n",
    "        if rot(t, len(t) - 1) == str(s):\n",
    "            print(c)\n",
    "        dig = int(str(s)[1])\n",
    "        # print(\"C\", c, dig, 10**(i + 1))\n",
    "        c += dig * 10**(i + 1)\n",
    "\n",
    "genparasitic(2, 6, 100)"
   ]
  },
  {
   "cell_type": "code",
   "execution_count": 226,
   "id": "1f9e38ed",
   "metadata": {},
   "outputs": [
    {
     "name": "stdout",
     "output_type": "stream",
     "text": [
      "1 1 6 83563\n",
      "2 1 6 83575\n",
      "3 1 6 83593\n",
      "4 1 6 83617\n",
      "5 1 6 83647\n",
      "6 1 6 83683\n",
      "7 1 6 83725\n",
      "8 1 6 83773\n",
      "9 1 6 83827\n",
      "11 2 3 83860\n",
      "22 2 3 83926\n",
      "33 2 3 84025\n",
      "44 2 3 84157\n",
      "55 2 3 84322\n",
      "66 2 3 84520\n",
      "77 2 3 84751\n",
      "88 2 3 85015\n",
      "99 2 3 85312\n",
      "111 3 2 85534\n",
      "222 3 2 85978\n",
      "333 3 2 86644\n",
      "444 3 2 87532\n",
      "555 3 2 88642\n",
      "666 3 2 89974\n",
      "777 3 2 91528\n",
      "888 3 2 93304\n",
      "999 3 2 95302\n",
      "1111 4 1 96413\n",
      "2222 4 1 98635\n",
      "3333 4 1 1968\n",
      "4444 4 1 6412\n",
      "5555 4 1 11967\n",
      "6666 4 1 18633\n",
      "7777 4 1 26410\n",
      "8888 4 1 35298\n",
      "9999 4 1 45297\n",
      "11111 5 1 56408\n",
      "22222 5 1 78630\n",
      "33333 5 1 11963\n",
      "44444 5 1 56407\n",
      "55555 5 1 11962\n",
      "66666 5 1 78628\n",
      "77777 5 1 56405\n",
      "88888 5 1 45293\n",
      "99999 5 1 45292\n",
      "102564 6 1 47856\n",
      "111111 6 1 58967\n",
      "128205 6 1 87172\n",
      "142857 6 1 30029\n",
      "153846 6 1 83875\n",
      "179487 6 1 63362\n",
      "205128 6 1 68490\n",
      "222222 6 1 90712\n",
      "230769 6 1 21481\n",
      "333333 6 1 54814\n",
      "444444 6 1 99258\n",
      "555555 6 1 54813\n",
      "666666 6 1 21479\n",
      "777777 6 1 99256\n",
      "888888 6 1 88144\n",
      "999999 6 1 88143\n"
     ]
    },
    {
     "data": {
      "text/plain": [
       "88143"
      ]
     },
     "execution_count": 226,
     "metadata": {},
     "output_type": "execute_result"
    }
   ],
   "source": [
    "DC = 6\n",
    "N = 10**DC\n",
    "for i in range(1, N):\n",
    "    si = str(i)\n",
    "    dc = len(str(i))\n",
    "    ir = int(rot(si, dc - 1))\n",
    "    if ir % i == 0:\n",
    "        # if len(set(si)) == 1:\n",
    "        #     continue\n",
    "        cont = DC // dc\n",
    "        T += (i * cont)\n",
    "        T %= 10**5\n",
    "        print(i, dc, cont, T)\n",
    "T"
   ]
  },
  {
   "cell_type": "code",
   "execution_count": 24,
   "id": "0e0a7806",
   "metadata": {},
   "outputs": [],
   "source": [
    "mod = 10**5"
   ]
  },
  {
   "cell_type": "code",
   "execution_count": 28,
   "id": "1d0a9b68",
   "metadata": {},
   "outputs": [],
   "source": [
    "def rep(n):\n",
    "    return (10**(n) - 1) // 9"
   ]
  },
  {
   "cell_type": "code",
   "execution_count": 29,
   "id": "8fdc3867",
   "metadata": {},
   "outputs": [],
   "source": [
    "def modr(n, d, m):\n",
    "    n = min(n, 6)\n",
    "    return d * rep(n) % m"
   ]
  },
  {
   "cell_type": "code",
   "execution_count": 30,
   "id": "f8effea4",
   "metadata": {},
   "outputs": [
    {
     "data": {
      "text/plain": [
       "33333"
      ]
     },
     "execution_count": 30,
     "metadata": {},
     "output_type": "execute_result"
    }
   ],
   "source": [
    "modr(6, 3, 10**5)"
   ]
  },
  {
   "cell_type": "code",
   "execution_count": 141,
   "id": "598a78f7",
   "metadata": {},
   "outputs": [],
   "source": [
    "# https://en.wikipedia.org/wiki/Parasitic_number"
   ]
  },
  {
   "cell_type": "code",
   "execution_count": 142,
   "id": "24106b80",
   "metadata": {},
   "outputs": [
    {
     "data": {
      "text/plain": [
       "'023234'"
      ]
     },
     "execution_count": 142,
     "metadata": {},
     "output_type": "execute_result"
    }
   ],
   "source": [
    "def fill(s: str, n: int):\n",
    "    s += str(n)\n",
    "    return s\n",
    "fill(\"02323\", 4)"
   ]
  },
  {
   "cell_type": "code",
   "execution_count": 148,
   "id": "ae32dc78",
   "metadata": {},
   "outputs": [
    {
     "data": {
      "text/plain": [
       "('0564', '20564')"
      ]
     },
     "execution_count": 148,
     "metadata": {},
     "output_type": "execute_result"
    }
   ],
   "source": [
    "def shift(s: str, n: int, trunc=True):\n",
    "    \"\"\"Shifts the string left once, and fills in n to the right side.\"\"\"\n",
    "    s = fill(s, n)\n",
    "    return s[(1 if trunc else 0):]\n",
    "shift(\"2056\", 4, True), shift(\"2056\", 4, False)"
   ]
  },
  {
   "cell_type": "code",
   "execution_count": 150,
   "id": "6c01a3b8",
   "metadata": {},
   "outputs": [
    {
     "data": {
      "text/plain": [
       "'010256'"
      ]
     },
     "execution_count": 150,
     "metadata": {},
     "output_type": "execute_result"
    }
   ],
   "source": [
    "def mult(s: str, n: int):\n",
    "    \"\"\"Multiplies s by n and preserves leading 0's\"\"\"\n",
    "    lzc = 0\n",
    "    while lzc < len(s) and s[lzc] == '0':\n",
    "        lzc += 1\n",
    "    return \"0\" * lzc + str(int(s) * n)\n",
    "mult(\"02564\", 4)"
   ]
  },
  {
   "cell_type": "code",
   "execution_count": 191,
   "id": "90436b28",
   "metadata": {},
   "outputs": [
    {
     "data": {
      "text/plain": [
       "'51234'"
      ]
     },
     "execution_count": 191,
     "metadata": {},
     "output_type": "execute_result"
    }
   ],
   "source": [
    "def clshift(s: str):\n",
    "    return s[-1] + s[0:-1]\n",
    "clshift(\"12345\")"
   ]
  },
  {
   "cell_type": "code",
   "execution_count": 215,
   "id": "fd2567cf",
   "metadata": {},
   "outputs": [],
   "source": [
    "def gen_parasitic(n, k):\n",
    "    l = []\n",
    "    R = str(k)\n",
    "    for i in range(101):\n",
    "        N_R = mult(R, n)\n",
    "        S_R = shift(N_R, k)\n",
    "        if S_R == R:\n",
    "            S_R = shift(N_R, k, False)\n",
    "        if clshift(R) == N_R:\n",
    "            l.append(R)\n",
    "        # print(\"{} x {} = {} - Shift = {}\".format(n, R, N_R, S_R))\n",
    "        R = S_R\n",
    "    return l"
   ]
  },
  {
   "cell_type": "code",
   "execution_count": null,
   "id": "2ef86026",
   "metadata": {},
   "outputs": [
    {
     "name": "stdout",
     "output_type": "stream",
     "text": [
      "2 2 105263157894736842\n",
      "2 3 157894736842105263\n",
      "2 4 210526315789473684\n",
      "2 5 263157894736842105\n",
      "2 6 315789473684210526\n",
      "2 7 368421052631578947\n",
      "2 8 421052631578947368\n",
      "2 9 473684210526315789\n",
      "3 3 1034482758620689655172413793\n",
      "3 4 1379310344827586206896551724\n",
      "3 5 1724137931034482758620689655\n",
      "3 6 2068965517241379310344827586\n",
      "3 7 2413793103448275862068965517\n",
      "3 8 2758620689655172413793103448\n",
      "3 9 3103448275862068965517241379\n",
      "4 4 102564\n",
      "4 5 128205\n",
      "4 6 153846\n",
      "4 7 179487\n",
      "4 8 205128\n",
      "4 9 230769\n",
      "5 5 102040816326530612244897959183673469387755\n",
      "5 6 122448979591836734693877551020408163265306\n",
      "5 7 142857\n",
      "5 8 163265306122448979591836734693877551020408\n",
      "5 9 183673469387755102040816326530612244897959\n",
      "6 6 1016949152542372881355932203389830508474576271186440677966\n",
      "6 7 1186440677966101694915254237288135593220338983050847457627\n",
      "6 8 1355932203389830508474576271186440677966101694915254237288\n",
      "6 9 1525423728813559322033898305084745762711864406779661016949\n",
      "7 7 1014492753623188405797\n",
      "7 8 1159420289855072463768\n",
      "7 9 1304347826086956521739\n",
      "8 8 1012658227848\n",
      "8 9 1139240506329\n",
      "9 9 10112359550561797752808988764044943820224719\n"
     ]
    }
   ],
   "source": [
    "for i in range(2, 10):\n",
    "    for q in range(i, 10):\n",
    "        print(i, q, gen_parasitic(i, q)[0])"
   ]
  },
  {
   "cell_type": "code",
   "execution_count": 237,
   "id": "4a8a7bab",
   "metadata": {},
   "outputs": [
    {
     "data": {
      "text/plain": [
       "59206"
      ]
     },
     "execution_count": 237,
     "metadata": {},
     "output_type": "execute_result"
    }
   ],
   "source": [
    "def ans(DC):\n",
    "    # Sum repunits\n",
    "    T = 0\n",
    "    for i in range(1, 10):\n",
    "        for l in range(1, min(DC + 1, 6)):\n",
    "            T += modr(l, i, 10**8)\n",
    "            # print(modr(l, i, 10**8))\n",
    "    if DC > 5:\n",
    "        S = 0\n",
    "        for i in range(1, 10):\n",
    "             S += modr(6, i, 10**8)\n",
    "        T += (DC - 5) * S\n",
    "    T -= 45\n",
    "    pset = []\n",
    "    for i in range(2, 10):\n",
    "        for q in range(i, 10):\n",
    "            pset.append(gen_parasitic(i, q)[0])\n",
    "    for p in pset:\n",
    "            cont = DC // len(p)\n",
    "            T += (int(p) * cont)\n",
    "            T %= 10**5\n",
    "    return T\n",
    "ans(100)"
   ]
  },
  {
   "cell_type": "code",
   "execution_count": null,
   "id": "1747a426",
   "metadata": {},
   "outputs": [],
   "source": []
  }
 ],
 "metadata": {
  "kernelspec": {
   "display_name": "Python 3",
   "language": "python",
   "name": "python3"
  },
  "language_info": {
   "codemirror_mode": {
    "name": "ipython",
    "version": 3
   },
   "file_extension": ".py",
   "mimetype": "text/x-python",
   "name": "python",
   "nbconvert_exporter": "python",
   "pygments_lexer": "ipython3",
   "version": "3.12.4"
  }
 },
 "nbformat": 4,
 "nbformat_minor": 5
}
