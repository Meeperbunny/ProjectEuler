{
 "cells": [
  {
   "cell_type": "code",
   "execution_count": 6,
   "id": "6c788153-5e40-4e2d-95eb-59c5f6846f9f",
   "metadata": {},
   "outputs": [],
   "source": [
    "def is_r(n):\n",
    "    n_s = str(n)\n",
    "    n_s = int(n_s[1:] + n_s[0])\n",
    "    return n_s % n == 0"
   ]
  },
  {
   "cell_type": "code",
   "execution_count": 71,
   "id": "9808c18f-3cac-4ebb-a417-d1c5d560423b",
   "metadata": {},
   "outputs": [
    {
     "name": "stdout",
     "output_type": "stream",
     "text": [
      "142857142857142857142857142857142857\n",
      "285714285714285714285714285714285714\n"
     ]
    }
   ],
   "source": [
    "for i in range(142857142857142857142857142857142857, 142857142857142857142857142857142858 * 3, 142857142857142857142857142857142857):\n",
    "    if is_r(i):\n",
    "        print(i)"
   ]
  },
  {
   "cell_type": "markdown",
   "id": "af33abf2-7cd1-4009-abc9-08b5a3802c72",
   "metadata": {},
   "source": [
    "# Thoughts\n",
    "\n",
    "When # digits mod 6 == 0, then 142857 and 285714 work. \n",
    "Take 2 summations: 111111, 222222 etc... and 142857 + 285714 for each digit mod 6."
   ]
  },
  {
   "cell_type": "code",
   "execution_count": 47,
   "id": "f5fed1cb-72f3-44e3-8eef-fbe7293e6a7e",
   "metadata": {},
   "outputs": [],
   "source": [
    "# rep_m = {1: 1}\n",
    "# def repunit_mod(n, m):\n",
    "#     if n not in rep_m:\n",
    "#         l_n = n // 2\n",
    "#         c = (repunit_mod(l_n, m) + repunit_mod(l_n, m) * pow(10, l_n, m)) % m\n",
    "#         if n & 1:\n",
    "#             c = (c * 10 + 1) % m\n",
    "#         rep_m[n] = c\n",
    "#     return rep_m[n]"
   ]
  },
  {
   "cell_type": "code",
   "execution_count": 48,
   "id": "23a5519f-7e98-42bf-a773-1abf17d1d37c",
   "metadata": {},
   "outputs": [],
   "source": [
    "# repunit_mod(13, 10)"
   ]
  },
  {
   "cell_type": "code",
   "execution_count": 62,
   "id": "461d7e48-6cec-4454-a265-97729465fab5",
   "metadata": {},
   "outputs": [],
   "source": [
    "from collections import Counter"
   ]
  },
  {
   "cell_type": "code",
   "execution_count": 64,
   "id": "1ceba805-41b2-4306-ba79-40e20b2d70bd",
   "metadata": {},
   "outputs": [
    {
     "data": {
      "text/plain": [
       "Counter({5: 99995, 4: 49995, 6: 28566, 3: 4995, 2: 495})"
      ]
     },
     "execution_count": 64,
     "metadata": {},
     "output_type": "execute_result"
    }
   ],
   "source": [
    "m = 100000\n",
    "t = 0\n",
    "added = Counter()\n",
    "for i in range(10, 1000000):\n",
    "    if is_r(i):\n",
    "        added[len(str(i))] += i\n",
    "        added[len(str(i))] %= m\n",
    "added"
   ]
  },
  {
   "cell_type": "code",
   "execution_count": 67,
   "id": "907894b2-c51a-4b65-8ce6-0736839608bc",
   "metadata": {},
   "outputs": [
    {
     "data": {
      "text/plain": [
       "12141"
      ]
     },
     "execution_count": 67,
     "metadata": {},
     "output_type": "execute_result"
    }
   ],
   "source": [
    "t = 0\n",
    "for d in range(2, 101):\n",
    "    if d in added:\n",
    "        t += added[d]\n",
    "    elif d % 6 == 0:\n",
    "        t += added[6]\n",
    "    else:\n",
    "        t += added[5]\n",
    "t % 100000"
   ]
  }
 ],
 "metadata": {
  "kernelspec": {
   "display_name": "Python 3 (ipykernel)",
   "language": "python",
   "name": "python3"
  },
  "language_info": {
   "codemirror_mode": {
    "name": "ipython",
    "version": 3
   },
   "file_extension": ".py",
   "mimetype": "text/x-python",
   "name": "python",
   "nbconvert_exporter": "python",
   "pygments_lexer": "ipython3",
   "version": "3.12.4"
  }
 },
 "nbformat": 4,
 "nbformat_minor": 5
}
