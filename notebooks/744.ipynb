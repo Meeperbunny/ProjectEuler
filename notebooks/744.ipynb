{
 "cells": [
  {
   "cell_type": "code",
   "execution_count": 1,
   "id": "300a78b2-373d-464a-8530-dcf11762f597",
   "metadata": {},
   "outputs": [],
   "source": [
    "from scipy.stats import binom"
   ]
  },
  {
   "cell_type": "code",
   "execution_count": 8,
   "id": "4db9f5c4-e10d-4b24-9842-e2ff86c46384",
   "metadata": {
    "scrolled": true
   },
   "outputs": [
    {
     "name": "stdout",
     "output_type": "stream",
     "text": [
      "0.28515625\n",
      "0.2330040743\n",
      "0.2857499982\n"
     ]
    }
   ],
   "source": [
    "def ans(n, p):\n",
    "    tot = 0\n",
    "    std = (p * (1 - p) * (2 * n + 1))**0.5\n",
    "    mean = n / max(p, 1 - p)\n",
    "    stdmul = 8\n",
    "    # print(int(min(2 * n - 1, mean + stdmul * std)), int(max(0, mean - stdmul * std)))\n",
    "    for i in range(int(min(2 * n - 1, mean + stdmul * std)), int(max(0, mean - stdmul * std)), -1):\n",
    "        A = (p) * (binom.pmf(n - 1, i - 1, p)) * (2 * n + 1 - i) / (2 * n + 1)\n",
    "        B = (1 - p) * (binom.pmf(n - 1, i - 1, (1 - p))) * (2 * n + 1 - i) / (2 * n + 1)\n",
    "        tot += A\n",
    "        tot += B\n",
    "    return round(tot, 10)\n",
    "print(ans(6, 1/2))\n",
    "print(ans(10, 3/7))\n",
    "print(ans(10000, 0.3))"
   ]
  },
  {
   "cell_type": "code",
   "execution_count": 13,
   "id": "a0ed86bf-c838-4db2-a80a-dce68ef08a79",
   "metadata": {},
   "outputs": [],
   "source": [
    "from tqdm import tqdm"
   ]
  },
  {
   "cell_type": "code",
   "execution_count": 22,
   "id": "72b30bea-67da-4a1f-be11-be3585472fae",
   "metadata": {},
   "outputs": [
    {
     "name": "stderr",
     "output_type": "stream",
     "text": [
      "100%|███████████████████████████████████████████████████████████████████████| 894427/894427 [00:50<00:00, 17837.32it/s]"
     ]
    },
    {
     "name": "stdout",
     "output_type": "stream",
     "text": [
      "0.0001365401\n"
     ]
    },
    {
     "name": "stderr",
     "output_type": "stream",
     "text": [
      "\n"
     ]
    }
   ],
   "source": [
    "def ans(n, p):\n",
    "    tot = 0\n",
    "    std = (p * (1 - p) * (2 * n + 1))**0.5\n",
    "    mean = n / max(p, 1 - p)\n",
    "    stdmul = 2\n",
    "    # print(int(min(2 * n - 1, mean + stdmul * std)), int(max(0, mean - stdmul * std)))\n",
    "    ub = int(min(2 * n - 1, mean + stdmul * std))\n",
    "    lb = int(max(0, mean - stdmul * std))\n",
    "    ip = 1 - p\n",
    "    for i in tqdm(range(ub, lb, -1)):\n",
    "        u = (2 * n + 1 - i) / (2 * n + 1)\n",
    "        B = (ip) * (binom.pmf(n - 1, i - 1, (ip))) * u\n",
    "        tot += B\n",
    "    return round(tot, 10)\n",
    "\n",
    "print(ans(100000000000, 0.4999))"
   ]
  },
  {
   "cell_type": "code",
   "execution_count": null,
   "id": "ac5489bd-4cfc-405e-b337-707647e4ae5f",
   "metadata": {},
   "outputs": [],
   "source": [
    "8STD:  0.0001999481\n",
    "12STD: 0.0001999607\n",
    "20std: 0.0001999607"
   ]
  },
  {
   "cell_type": "code",
   "execution_count": null,
   "id": "b1530b52-5651-423c-9386-f2ae8b1d4c73",
   "metadata": {},
   "outputs": [],
   "source": [
    "ML8: 0.0001999474\n",
    "ML20: 0.0001999600"
   ]
  }
 ],
 "metadata": {
  "kernelspec": {
   "display_name": "Python 3 (ipykernel)",
   "language": "python",
   "name": "python3"
  },
  "language_info": {
   "codemirror_mode": {
    "name": "ipython",
    "version": 3
   },
   "file_extension": ".py",
   "mimetype": "text/x-python",
   "name": "python",
   "nbconvert_exporter": "python",
   "pygments_lexer": "ipython3",
   "version": "3.12.4"
  }
 },
 "nbformat": 4,
 "nbformat_minor": 5
}
