{
 "cells": [
  {
   "cell_type": "code",
   "execution_count": 2,
   "id": "4db9f5c4-e10d-4b24-9842-e2ff86c46384",
   "metadata": {
    "scrolled": true
   },
   "outputs": [
    {
     "name": "stdout",
     "output_type": "stream",
     "text": [
      "0.28515625\n",
      "0.2330040743\n",
      "0.2857499982\n"
     ]
    }
   ],
   "source": [
    "from scipy.stats import binom\n",
    "def ans(n, p):\n",
    "    tot = 0\n",
    "    std = (p * (1 - p) * (2 * n + 1))**0.5\n",
    "    mean = n / max(p, 1 - p)\n",
    "    stdmul = 8\n",
    "    # print(int(min(2 * n - 1, mean + stdmul * std)), int(max(0, mean - stdmul * std)))\n",
    "    for i in range(int(min(2 * n - 1, mean + stdmul * std)), int(max(0, mean - stdmul * std)), -1):\n",
    "        A = (p) * (binom.pmf(n - 1, i - 1, p)) * (2 * n + 1 - i) / (2 * n + 1)\n",
    "        B = (1 - p) * (binom.pmf(n - 1, i - 1, (1 - p))) * (2 * n + 1 - i) / (2 * n + 1)\n",
    "        tot += A\n",
    "        tot += B\n",
    "    return round(tot, 10)\n",
    "print(ans(6, 1/2))\n",
    "print(ans(10, 3/7))\n",
    "print(ans(10000, 0.3))"
   ]
  },
  {
   "cell_type": "code",
   "execution_count": 1,
   "id": "7fb9d181",
   "metadata": {},
   "outputs": [],
   "source": [
    "p = 0.45\n",
    "q = 1 - p\n",
    "n = 100"
   ]
  },
  {
   "cell_type": "code",
   "execution_count": 2,
   "id": "ec5483a0",
   "metadata": {},
   "outputs": [],
   "source": [
    "from scipy.special import binom as comb"
   ]
  },
  {
   "cell_type": "code",
   "execution_count": null,
   "id": "8f431fcf",
   "metadata": {},
   "outputs": [
    {
     "data": {
      "text/plain": [
       "np.float64(0.10040482351523905)"
      ]
     },
     "execution_count": 8,
     "metadata": {},
     "output_type": "execute_result"
    }
   ],
   "source": [
    "1 - sum([comb(i+j,i) * p**i * q**j for i in range(n) for j in range(n)]) / (2*n+1)"
   ]
  },
  {
   "cell_type": "code",
   "execution_count": null,
   "id": "a0ed86bf-c838-4db2-a80a-dce68ef08a79",
   "metadata": {},
   "outputs": [
    {
     "name": "stderr",
     "output_type": "stream",
     "text": [
      " 18%|█▊        | 1609919/8944272 [01:35<07:15, 16847.88it/s]\n"
     ]
    },
    {
     "ename": "KeyboardInterrupt",
     "evalue": "",
     "output_type": "error",
     "traceback": [
      "\u001b[1;31m---------------------------------------------------------------------------\u001b[0m",
      "\u001b[1;31mKeyboardInterrupt\u001b[0m                         Traceback (most recent call last)",
      "Cell \u001b[1;32mIn[8], line 17\u001b[0m\n\u001b[0;32m     14\u001b[0m         tot \u001b[38;5;241m+\u001b[39m\u001b[38;5;241m=\u001b[39m B\n\u001b[0;32m     15\u001b[0m     \u001b[38;5;28;01mreturn\u001b[39;00m \u001b[38;5;28mround\u001b[39m(tot, \u001b[38;5;241m10\u001b[39m)\n\u001b[1;32m---> 17\u001b[0m \u001b[38;5;28mprint\u001b[39m(\u001b[43mans\u001b[49m\u001b[43m(\u001b[49m\u001b[38;5;241;43m100000000000\u001b[39;49m\u001b[43m,\u001b[49m\u001b[43m \u001b[49m\u001b[38;5;241;43m0.4999\u001b[39;49m\u001b[43m)\u001b[49m)\n",
      "Cell \u001b[1;32mIn[8], line 13\u001b[0m, in \u001b[0;36mans\u001b[1;34m(n, p)\u001b[0m\n\u001b[0;32m     11\u001b[0m \u001b[38;5;28;01mfor\u001b[39;00m i \u001b[38;5;129;01min\u001b[39;00m tqdm(\u001b[38;5;28mrange\u001b[39m(ub, lb, \u001b[38;5;241m-\u001b[39m\u001b[38;5;241m1\u001b[39m)):\n\u001b[0;32m     12\u001b[0m     u \u001b[38;5;241m=\u001b[39m (\u001b[38;5;241m2\u001b[39m \u001b[38;5;241m*\u001b[39m n \u001b[38;5;241m+\u001b[39m \u001b[38;5;241m1\u001b[39m \u001b[38;5;241m-\u001b[39m i) \u001b[38;5;241m/\u001b[39m (\u001b[38;5;241m2\u001b[39m \u001b[38;5;241m*\u001b[39m n \u001b[38;5;241m+\u001b[39m \u001b[38;5;241m1\u001b[39m)\n\u001b[1;32m---> 13\u001b[0m     B \u001b[38;5;241m=\u001b[39m (ip) \u001b[38;5;241m*\u001b[39m (\u001b[43mbinom\u001b[49m\u001b[38;5;241;43m.\u001b[39;49m\u001b[43mpmf\u001b[49m\u001b[43m(\u001b[49m\u001b[43mn\u001b[49m\u001b[43m \u001b[49m\u001b[38;5;241;43m-\u001b[39;49m\u001b[43m \u001b[49m\u001b[38;5;241;43m1\u001b[39;49m\u001b[43m,\u001b[49m\u001b[43m \u001b[49m\u001b[43mi\u001b[49m\u001b[43m \u001b[49m\u001b[38;5;241;43m-\u001b[39;49m\u001b[43m \u001b[49m\u001b[38;5;241;43m1\u001b[39;49m\u001b[43m,\u001b[49m\u001b[43m \u001b[49m\u001b[43m(\u001b[49m\u001b[43mip\u001b[49m\u001b[43m)\u001b[49m\u001b[43m)\u001b[49m) \u001b[38;5;241m*\u001b[39m u\n\u001b[0;32m     14\u001b[0m     tot \u001b[38;5;241m+\u001b[39m\u001b[38;5;241m=\u001b[39m B\n\u001b[0;32m     15\u001b[0m \u001b[38;5;28;01mreturn\u001b[39;00m \u001b[38;5;28mround\u001b[39m(tot, \u001b[38;5;241m10\u001b[39m)\n",
      "File \u001b[1;32mc:\\Users\\Ian McKibben\\AppData\\Local\\Programs\\Python\\Python312\\Lib\\site-packages\\scipy\\stats\\_distn_infrastructure.py:3462\u001b[0m, in \u001b[0;36mrv_discrete.pmf\u001b[1;34m(self, k, *args, **kwds)\u001b[0m\n\u001b[0;32m   3460\u001b[0m cond \u001b[38;5;241m=\u001b[39m cond0 \u001b[38;5;241m&\u001b[39m cond1\n\u001b[0;32m   3461\u001b[0m output \u001b[38;5;241m=\u001b[39m zeros(shape(cond), \u001b[38;5;124m'\u001b[39m\u001b[38;5;124md\u001b[39m\u001b[38;5;124m'\u001b[39m)\n\u001b[1;32m-> 3462\u001b[0m \u001b[43mplace\u001b[49m\u001b[43m(\u001b[49m\u001b[43moutput\u001b[49m\u001b[43m,\u001b[49m\u001b[43m \u001b[49m\u001b[43m(\u001b[49m\u001b[38;5;241;43m1\u001b[39;49m\u001b[38;5;241;43m-\u001b[39;49m\u001b[43mcond0\u001b[49m\u001b[43m)\u001b[49m\u001b[43m \u001b[49m\u001b[38;5;241;43m+\u001b[39;49m\u001b[43m \u001b[49m\u001b[43mnp\u001b[49m\u001b[38;5;241;43m.\u001b[39;49m\u001b[43misnan\u001b[49m\u001b[43m(\u001b[49m\u001b[43mk\u001b[49m\u001b[43m)\u001b[49m\u001b[43m,\u001b[49m\u001b[43m \u001b[49m\u001b[38;5;28;43mself\u001b[39;49m\u001b[38;5;241;43m.\u001b[39;49m\u001b[43mbadvalue\u001b[49m\u001b[43m)\u001b[49m\n\u001b[0;32m   3463\u001b[0m \u001b[38;5;28;01mif\u001b[39;00m np\u001b[38;5;241m.\u001b[39many(cond):\n\u001b[0;32m   3464\u001b[0m     goodargs \u001b[38;5;241m=\u001b[39m argsreduce(cond, \u001b[38;5;241m*\u001b[39m((k,)\u001b[38;5;241m+\u001b[39margs))\n",
      "File \u001b[1;32mc:\\Users\\Ian McKibben\\AppData\\Local\\Programs\\Python\\Python312\\Lib\\site-packages\\numpy\\lib\\_function_base_impl.py:1957\u001b[0m, in \u001b[0;36mplace\u001b[1;34m(arr, mask, vals)\u001b[0m\n\u001b[0;32m   1920\u001b[0m \u001b[38;5;129m@array_function_dispatch\u001b[39m(_place_dispatcher)\n\u001b[0;32m   1921\u001b[0m \u001b[38;5;28;01mdef\u001b[39;00m \u001b[38;5;21mplace\u001b[39m(arr, mask, vals):\n\u001b[0;32m   1922\u001b[0m \u001b[38;5;250m    \u001b[39m\u001b[38;5;124;03m\"\"\"\u001b[39;00m\n\u001b[0;32m   1923\u001b[0m \u001b[38;5;124;03m    Change elements of an array based on conditional and input values.\u001b[39;00m\n\u001b[0;32m   1924\u001b[0m \n\u001b[1;32m   (...)\u001b[0m\n\u001b[0;32m   1955\u001b[0m \n\u001b[0;32m   1956\u001b[0m \u001b[38;5;124;03m    \"\"\"\u001b[39;00m\n\u001b[1;32m-> 1957\u001b[0m     \u001b[38;5;28;01mreturn\u001b[39;00m \u001b[43m_place\u001b[49m\u001b[43m(\u001b[49m\u001b[43marr\u001b[49m\u001b[43m,\u001b[49m\u001b[43m \u001b[49m\u001b[43mmask\u001b[49m\u001b[43m,\u001b[49m\u001b[43m \u001b[49m\u001b[43mvals\u001b[49m\u001b[43m)\u001b[49m\n",
      "\u001b[1;31mKeyboardInterrupt\u001b[0m: "
     ]
    }
   ],
   "source": [
    "from tqdm import tqdm\n",
    "from scipy.stats import binom\n",
    "def ans(n, p):\n",
    "    tot = 0\n",
    "    std = (p * (1 - p) * (2 * n + 1))**0.5\n",
    "    mean = n / max(p, 1 - p)\n",
    "    stdmul = 20\n",
    "    ub = int(min(2 * n - 1, mean + stdmul * std))\n",
    "    lb = int(max(0, mean - stdmul * std))\n",
    "    ip = 1 - p\n",
    "    for i in tqdm(range(ub, lb, -1)):\n",
    "        u = (2 * n + 1 - i) / (2 * n + 1)\n",
    "        B = (ip) * (binom.pmf(n - 1, i - 1, (ip))) * u\n",
    "        tot += B\n",
    "    return round(tot, 10)\n",
    "\n",
    "print(ans(100000000000, 0.4999))"
   ]
  },
  {
   "cell_type": "code",
   "execution_count": null,
   "id": "ac5489bd-4cfc-405e-b337-707647e4ae5f",
   "metadata": {},
   "outputs": [],
   "source": [
    "8STD:  0.0001999481\n",
    "12STD: 0.0001999607\n",
    "20std: 0.0001999607"
   ]
  },
  {
   "cell_type": "code",
   "execution_count": null,
   "id": "b1530b52-5651-423c-9386-f2ae8b1d4c73",
   "metadata": {},
   "outputs": [],
   "source": [
    "ML8: 0.0001999474\n",
    "ML20: 0.0001999600"
   ]
  }
 ],
 "metadata": {
  "kernelspec": {
   "display_name": "Python 3",
   "language": "python",
   "name": "python3"
  },
  "language_info": {
   "codemirror_mode": {
    "name": "ipython",
    "version": 3
   },
   "file_extension": ".py",
   "mimetype": "text/x-python",
   "name": "python",
   "nbconvert_exporter": "python",
   "pygments_lexer": "ipython3",
   "version": "3.12.4"
  }
 },
 "nbformat": 4,
 "nbformat_minor": 5
}
