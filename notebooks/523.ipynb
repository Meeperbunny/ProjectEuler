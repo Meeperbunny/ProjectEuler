{
 "cells": [
  {
   "cell_type": "code",
   "execution_count": 105,
   "metadata": {},
   "outputs": [],
   "source": [
    "def cost(l):\n",
    "    c = 0\n",
    "    n = len(l)\n",
    "    while True:\n",
    "        for i in range(n - 1):\n",
    "            if l[i] > l[i + 1]:\n",
    "                e = l[i + 1]\n",
    "                l.remove(e)\n",
    "                l = [e] + l\n",
    "                c += 1\n",
    "                break\n",
    "            if i == n - 2:\n",
    "                return c"
   ]
  },
  {
   "cell_type": "code",
   "execution_count": 72,
   "metadata": {},
   "outputs": [],
   "source": [
    "def issubpart(p1, p):\n",
    "    if p == None:\n",
    "        return False\n",
    "    q = 0\n",
    "    for i in range(len(p1)):\n",
    "        if p1[i] == p[q]:\n",
    "            q += 1\n",
    "        if q == len(p):\n",
    "            return True\n",
    "    return False"
   ]
  },
  {
   "cell_type": "code",
   "execution_count": 85,
   "metadata": {},
   "outputs": [],
   "source": [
    "from itertools import permutations\n",
    "from random import shuffle\n",
    "def P(n, pp = None):\n",
    "    EV = 0\n",
    "    P = list(permutations(list(i + 1 for i in range(n))))\n",
    "    i = 0\n",
    "    for p in P:\n",
    "        i += 1\n",
    "        C = cost(list(p))\n",
    "        if issubpart(p, pp):\n",
    "            print(p, C)\n",
    "            EV += C\n",
    "        if pp == None:\n",
    "            EV += C\n",
    "    return EV"
   ]
  },
  {
   "cell_type": "code",
   "execution_count": null,
   "metadata": {},
   "outputs": [],
   "source": [
    "# IF right of last, then dont add any. Will never be out of order"
   ]
  },
  {
   "cell_type": "code",
   "execution_count": 104,
   "metadata": {},
   "outputs": [
    {
     "name": "stdout",
     "output_type": "stream",
     "text": [
      "[2, 3, 5, 4, 1]\n",
      "[4, 2, 3, 5, 1]\n",
      "[2, 4, 3, 5, 1]\n",
      "[3, 2, 4, 5, 1]\n",
      "[2, 3, 4, 5, 1]\n",
      "[1, 2, 3, 4, 5]\n"
     ]
    },
    {
     "data": {
      "text/plain": [
       "5"
      ]
     },
     "execution_count": 104,
     "metadata": {},
     "output_type": "execute_result"
    }
   ],
   "source": [
    "cost(list((2, 3, 5, 4, 1)))"
   ]
  },
  {
   "cell_type": "code",
   "execution_count": 107,
   "metadata": {},
   "outputs": [
    {
     "name": "stdout",
     "output_type": "stream",
     "text": [
      "(1, 2, 3, 4, 5) 0\n",
      "(1, 2, 3, 4, 5, 6) 0\n",
      "(1, 2, 3, 4, 6, 5) 16\n",
      "(1, 2, 3, 6, 4, 5) 24\n",
      "(1, 2, 6, 3, 4, 5) 28\n",
      "(1, 6, 2, 3, 4, 5) 30\n",
      "(6, 1, 2, 3, 4, 5) 31\n"
     ]
    },
    {
     "data": {
      "text/plain": [
       "(0, 129)"
      ]
     },
     "execution_count": 107,
     "metadata": {},
     "output_type": "execute_result"
    }
   ],
   "source": [
    "from fractions import Fraction\n",
    "TO = (1, 2, 3, 4, 5)\n",
    "P(5, TO), P(6, TO)"
   ]
  },
  {
   "cell_type": "code",
   "execution_count": null,
   "metadata": {},
   "outputs": [],
   "source": []
  },
  {
   "cell_type": "code",
   "execution_count": 92,
   "metadata": {},
   "outputs": [
    {
     "name": "stdout",
     "output_type": "stream",
     "text": [
      "2 1\n",
      "3 9\n",
      "4 78\n",
      "5 750\n",
      "6 8220\n",
      "7 102900\n",
      "8 1463280\n",
      "9 23451120\n"
     ]
    }
   ],
   "source": [
    "for i in range(2, 10):\n",
    "    print(i, P(i))"
   ]
  },
  {
   "cell_type": "code",
   "execution_count": null,
   "metadata": {},
   "outputs": [],
   "source": []
  },
  {
   "cell_type": "code",
   "execution_count": null,
   "metadata": {},
   "outputs": [],
   "source": []
  },
  {
   "cell_type": "code",
   "execution_count": 32,
   "metadata": {},
   "outputs": [
    {
     "data": {
      "text/plain": [
       "Fraction(517, 8)"
      ]
     },
     "execution_count": 32,
     "metadata": {},
     "output_type": "execute_result"
    }
   ],
   "source": [
    "Fraction(2, 4)\n",
    "Fraction(26, 8)\n",
    "Fraction(137, 12)\n",
    "Fraction(1034, 16)"
   ]
  },
  {
   "cell_type": "code",
   "execution_count": 16,
   "metadata": {},
   "outputs": [
    {
     "data": {
      "text/plain": [
       "Fraction(6427011968226645, 562949953421312)"
      ]
     },
     "execution_count": 16,
     "metadata": {},
     "output_type": "execute_result"
    }
   ],
   "source": [
    "Fraction(11.4166666666666666666666666666666)"
   ]
  }
 ],
 "metadata": {
  "kernelspec": {
   "display_name": "Python 3",
   "language": "python",
   "name": "python3"
  },
  "language_info": {
   "codemirror_mode": {
    "name": "ipython",
    "version": 3
   },
   "file_extension": ".py",
   "mimetype": "text/x-python",
   "name": "python",
   "nbconvert_exporter": "python",
   "pygments_lexer": "ipython3",
   "version": "3.9.6"
  }
 },
 "nbformat": 4,
 "nbformat_minor": 2
}
