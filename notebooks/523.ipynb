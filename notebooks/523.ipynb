{
 "cells": [
  {
   "cell_type": "code",
   "execution_count": 3,
   "metadata": {},
   "outputs": [],
   "source": [
    "def cost(l):\n",
    "    c = 0\n",
    "    n = len(l)\n",
    "    while True:\n",
    "        for i in range(n - 1):\n",
    "            if l[i] > l[i + 1]:\n",
    "                e = l[i + 1]\n",
    "                l.remove(e)\n",
    "                l = [e] + l\n",
    "                c += 1\n",
    "                break\n",
    "            if i == n - 2:\n",
    "                return c"
   ]
  },
  {
   "cell_type": "code",
   "execution_count": 13,
   "metadata": {},
   "outputs": [],
   "source": [
    "from itertools import permutations\n",
    "def P(n):\n",
    "    perms = list(permutations(list(i + 1 for i in range(n))))\n",
    "    for p in perms:\n",
    "        print(p, cost(list(p)))"
   ]
  },
  {
   "cell_type": "code",
   "execution_count": 16,
   "metadata": {},
   "outputs": [
    {
     "name": "stdout",
     "output_type": "stream",
     "text": [
      "(1, 2) 0\n",
      "(2, 1) 1\n",
      "(1, 2, 3) 0\n",
      "(1, 3, 2) 2\n",
      "(2, 1, 3) 1\n",
      "(2, 3, 1) 1\n",
      "(3, 1, 2) 3\n",
      "(3, 2, 1) 2\n",
      "(1, 2, 3, 4) 0\n",
      "(1, 2, 4, 3) 4\n",
      "(1, 3, 2, 4) 2\n",
      "(1, 3, 4, 2) 2\n",
      "(1, 4, 2, 3) 6\n",
      "(1, 4, 3, 2) 4\n",
      "(2, 1, 3, 4) 1\n",
      "(2, 1, 4, 3) 5\n",
      "(2, 3, 1, 4) 1\n",
      "(2, 3, 4, 1) 1\n",
      "(2, 4, 1, 3) 5\n",
      "(2, 4, 3, 1) 3\n",
      "(3, 1, 2, 4) 3\n",
      "(3, 1, 4, 2) 3\n",
      "(3, 2, 1, 4) 2\n",
      "(3, 2, 4, 1) 2\n",
      "(3, 4, 1, 2) 3\n",
      "(3, 4, 2, 1) 2\n",
      "(4, 1, 2, 3) 7\n",
      "(4, 1, 3, 2) 5\n",
      "(4, 2, 1, 3) 6\n",
      "(4, 2, 3, 1) 4\n",
      "(4, 3, 1, 2) 4\n",
      "(4, 3, 2, 1) 3\n"
     ]
    }
   ],
   "source": [
    "P(2)\n",
    "P(3)\n",
    "P(4)"
   ]
  }
 ],
 "metadata": {
  "kernelspec": {
   "display_name": "Python 3",
   "language": "python",
   "name": "python3"
  },
  "language_info": {
   "codemirror_mode": {
    "name": "ipython",
    "version": 3
   },
   "file_extension": ".py",
   "mimetype": "text/x-python",
   "name": "python",
   "nbconvert_exporter": "python",
   "pygments_lexer": "ipython3",
   "version": "3.12.4"
  }
 },
 "nbformat": 4,
 "nbformat_minor": 2
}
