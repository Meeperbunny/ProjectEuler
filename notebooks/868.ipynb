{
 "cells": [
  {
   "cell_type": "code",
   "execution_count": null,
   "metadata": {},
   "outputs": [],
   "source": [
    "def fac(n):\n",
    "    if n == 1:\n",
    "        return 1\n",
    "    return fac(n - 1) * n"
   ]
  },
  {
   "cell_type": "code",
   "execution_count": 417,
   "metadata": {},
   "outputs": [],
   "source": [
    "def next(s):\n",
    "    global seen\n",
    "    seen.add(s)\n",
    "    largest = list(reversed(sorted([c for c in s])))\n",
    "    for c in largest:\n",
    "        ts = list(s)\n",
    "        cpos = s.find(c)\n",
    "        if cpos != 0:\n",
    "            ts[cpos], ts[cpos - 1] = ts[cpos - 1], ts[cpos]\n",
    "            to_str = \"\".join(ts)\n",
    "            if to_str not in seen:\n",
    "                seen.add(to_str)\n",
    "                return to_str\n",
    "            ts[cpos], ts[cpos - 1] = ts[cpos - 1], ts[cpos]\n",
    "        if cpos != len(s) - 1:\n",
    "            ts[cpos], ts[cpos + 1] = ts[cpos + 1], ts[cpos]\n",
    "            to_str = \"\".join(ts)\n",
    "            if to_str not in seen:\n",
    "                seen.add(to_str)\n",
    "                return to_str\n",
    "            ts[cpos], ts[cpos + 1] = ts[cpos + 1], ts[cpos]\n",
    "    return \"\""
   ]
  },
  {
   "cell_type": "code",
   "execution_count": 517,
   "metadata": {},
   "outputs": [
    {
     "name": "stdout",
     "output_type": "stream",
     "text": [
      "AB\n",
      "BA\n"
     ]
    }
   ],
   "source": [
    "seen = set()\n",
    "\n",
    "ma = {}\n",
    "b = \"\".join(sorted(\"AB\"))\n",
    "cnt = 0\n",
    "while True:\n",
    "    print(b)\n",
    "    b = next(b)\n",
    "    cnt += 1\n",
    "    if b == \"\":\n",
    "        break\n",
    "    ma[b] = cnt"
   ]
  },
  {
   "cell_type": "code",
   "execution_count": 430,
   "metadata": {},
   "outputs": [
    {
     "name": "stdout",
     "output_type": "stream",
     "text": [
      "[(3, 4), (1, 4), (0, 3), (0, 1)]\n",
      "STARTING\n",
      "(0, 1) 0 24 0\n",
      "STARTING\n",
      "(0, 3) 0 12 0\n",
      "STARTING\n",
      "(1, 4) 0 4 0\n",
      "STARTING\n",
      "(3, 4) 4 1 1\n"
     ]
    },
    {
     "data": {
      "text/plain": [
       "7"
      ]
     },
     "execution_count": 430,
     "metadata": {},
     "output_type": "execute_result"
    }
   ],
   "source": [
    "def solve(s):\n",
    "    ans = 0\n",
    "    rev = \"\".join(list(reversed(sorted(s))))\n",
    "    ts = s\n",
    "    poss = []\n",
    "    for c in rev:\n",
    "        # Get pos \n",
    "        pos = len(ts) - ts.find(c) - 1, len(ts) + ts.find(c)\n",
    "        # print(pos, len(ts) - ts.find(c), c, ts)\n",
    "        poss.append(pos)\n",
    "        ts = ts.replace(c, \"\")\n",
    "    print(poss)\n",
    "\n",
    "    cm = fac(len(s))\n",
    "    low, high = 0, cm - 1\n",
    "    for i in range(0, len(poss)):\n",
    "        print(\"STARTING\")\n",
    "        nx = i + 1\n",
    "        snx = 2 * nx\n",
    "        cm //= nx\n",
    "        cp = poss[len(poss) - i - 1]\n",
    "\n",
    "        if not cm:\n",
    "            return low\n",
    "\n",
    "        rside = 0\n",
    "        tl = low\n",
    "        tl %= (snx * cm)\n",
    "        if (tl >= (snx * cm) // 2):\n",
    "            rside = 1\n",
    "        print(cp, low, cm, rside)\n",
    "        rside = (low // cm) & 1\n",
    "        ta = cp[rside] - nx * rside\n",
    "        \n",
    "        low = low + ta * cm\n",
    "        \n",
    "    return low\n",
    "solve(\"DACB\")"
   ]
  },
  {
   "cell_type": "code",
   "execution_count": 420,
   "metadata": {},
   "outputs": [
    {
     "name": "stdout",
     "output_type": "stream",
     "text": [
      "Failed DACB 4 7\n",
      "Failed ADCB 5 6\n",
      "Failed ACDB 6 5\n",
      "Failed ACBD 7 4\n",
      "Failed DCBA 12 15\n",
      "Failed CDBA 13 14\n",
      "Failed CBDA 14 13\n",
      "Failed CBAD 15 12\n",
      "Failed DBAC 20 23\n",
      "Failed BDAC 21 22\n",
      "Failed BADC 22 21\n",
      "Failed BACD 23 20\n"
     ]
    }
   ],
   "source": [
    "for s, c in ma.items():\n",
    "    if solve(s) != c:\n",
    "        print(\"Failed\", s, c, solve(s))"
   ]
  },
  {
   "cell_type": "code",
   "execution_count": 423,
   "metadata": {},
   "outputs": [],
   "source": [
    "X = 4"
   ]
  },
  {
   "cell_type": "code",
   "execution_count": 424,
   "metadata": {},
   "outputs": [
    {
     "data": {
      "text/plain": [
       "0"
      ]
     },
     "execution_count": 424,
     "metadata": {},
     "output_type": "execute_result"
    }
   ],
   "source": [
    "(X // 720) % 2 # Will "
   ]
  },
  {
   "cell_type": "code",
   "execution_count": 425,
   "metadata": {},
   "outputs": [
    {
     "data": {
      "text/plain": [
       "0"
      ]
     },
     "execution_count": 425,
     "metadata": {},
     "output_type": "execute_result"
    }
   ],
   "source": [
    "(X // 360) % 4 # [0, 359]"
   ]
  },
  {
   "cell_type": "code",
   "execution_count": 426,
   "metadata": {},
   "outputs": [
    {
     "data": {
      "text/plain": [
       "0"
      ]
     },
     "execution_count": 426,
     "metadata": {},
     "output_type": "execute_result"
    }
   ],
   "source": [
    "(X // 120) % 6 # [0, 119]"
   ]
  },
  {
   "cell_type": "code",
   "execution_count": 427,
   "metadata": {},
   "outputs": [
    {
     "data": {
      "text/plain": [
       "0"
      ]
     },
     "execution_count": 427,
     "metadata": {},
     "output_type": "execute_result"
    }
   ],
   "source": [
    "(X // 30) % 8 # [30, 59]"
   ]
  },
  {
   "cell_type": "code",
   "execution_count": 428,
   "metadata": {},
   "outputs": [
    {
     "data": {
      "text/plain": [
       "0"
      ]
     },
     "execution_count": 428,
     "metadata": {},
     "output_type": "execute_result"
    }
   ],
   "source": [
    "(X // 6) % 10 # [54, 59]"
   ]
  },
  {
   "cell_type": "code",
   "execution_count": 429,
   "metadata": {},
   "outputs": [
    {
     "data": {
      "text/plain": [
       "4"
      ]
     },
     "execution_count": 429,
     "metadata": {},
     "output_type": "execute_result"
    }
   ],
   "source": [
    "(X // 1) % 12 # [59]\n",
    "\n",
    "# 48, add 11 * 1\n",
    "# 0 add 6 * 9, 6 * (9 + 1) - 1\n",
    "# "
   ]
  },
  {
   "cell_type": "code",
   "execution_count": 195,
   "metadata": {},
   "outputs": [],
   "source": [
    "rms = [(0, 11), (0, 9), (1, 6), (0, 5), (0, 3), (0, 1)]"
   ]
  },
  {
   "cell_type": "code",
   "execution_count": 205,
   "metadata": {},
   "outputs": [
    {
     "name": "stdout",
     "output_type": "stream",
     "text": [
      "0 (0, 1) 360\n",
      "2\n",
      "1 (0, 3) 120\n",
      "4\n",
      "2 (0, 5) 30\n",
      "6\n",
      "3 (1, 6) 6\n",
      "8\n",
      "4 (0, 9) 1\n",
      "10\n",
      "5 (0, 11) 0\n",
      "12\n"
     ]
    }
   ],
   "source": [
    "last_add = 0\n",
    "f = fac(6)\n",
    "cn = 0\n",
    "for i, e in enumerate(reversed(rms)):\n",
    "    f //= (i+2)\n",
    "    print(i, e, f)\n",
    "    print((i+1)*2)\n",
    "    if last_add:\n",
    "        tot += last_add\n",
    "        last_add = 0\n",
    "    \n"
   ]
  },
  {
   "cell_type": "code",
   "execution_count": 541,
   "metadata": {},
   "outputs": [
    {
     "data": {
      "text/plain": [
       "[0, 0, 1, 2]"
      ]
     },
     "execution_count": 541,
     "metadata": {},
     "output_type": "execute_result"
    }
   ],
   "source": [
    "s = \"BCDA\" # D C B A\n",
    "rev = \"\".join(list(reversed(sorted(s))))\n",
    "ts = s\n",
    "poss = []\n",
    "for c in rev:\n",
    "    poss.append(ts.find(c))\n",
    "    ts = ts.replace(c, \"\")\n",
    "poss = list(reversed(poss))\n",
    "poss"
   ]
  },
  {
   "cell_type": "code",
   "execution_count": 553,
   "metadata": {},
   "outputs": [],
   "source": [
    "def solve(s):\n",
    "    rev = \"\".join(list(reversed(sorted(s))))\n",
    "    ts = s\n",
    "    poss = []\n",
    "    for c in rev:\n",
    "        poss.append(ts.find(c))\n",
    "        ts = ts.replace(c, \"\")\n",
    "    poss = list(reversed(poss))\n",
    "    poss\n",
    "    i = 0\n",
    "    for ind, p in enumerate(poss):\n",
    "        j = ind + 1\n",
    "        # 0 -> 1, 1 -> 1, 2 -> 2\n",
    "        # print(\"START\")\n",
    "        # print(p, j, ind, i)\n",
    "        if ind == 1:\n",
    "            if p == 0:\n",
    "                i = 1\n",
    "            else:\n",
    "                i = 0\n",
    "        else:\n",
    "            if i & 1:\n",
    "                # is going right\n",
    "                i = i * j + p\n",
    "            else:\n",
    "                # is going left\n",
    "                i = i * j + (j - 1 - p)\n",
    "        # print(p, j, ind, \"I\", i)\n",
    "    return i"
   ]
  },
  {
   "cell_type": "code",
   "execution_count": null,
   "metadata": {},
   "outputs": [
    {
     "data": {
      "text/plain": [
       "12"
      ]
     },
     "execution_count": 555,
     "metadata": {},
     "output_type": "execute_result"
    }
   ],
   "source": []
  },
  {
   "cell_type": "code",
   "execution_count": 558,
   "metadata": {},
   "outputs": [],
   "source": [
    "# seen = set()\n",
    "# c = \"ABCDE\"\n",
    "# cnt = 0\n",
    "# while c != \"\":\n",
    "#     print(c, solve(c), cnt)\n",
    "#     cnt += 1\n",
    "#     c = next(c)"
   ]
  },
  {
   "cell_type": "code",
   "execution_count": 559,
   "metadata": {},
   "outputs": [
    {
     "data": {
      "text/plain": [
       "3832914911887589"
      ]
     },
     "execution_count": 559,
     "metadata": {},
     "output_type": "execute_result"
    }
   ],
   "source": [
    "\n",
    "solve(\"NOWPICKBELFRYMATHS\")"
   ]
  }
 ],
 "metadata": {
  "kernelspec": {
   "display_name": "Python 3",
   "language": "python",
   "name": "python3"
  },
  "language_info": {
   "codemirror_mode": {
    "name": "ipython",
    "version": 3
   },
   "file_extension": ".py",
   "mimetype": "text/x-python",
   "name": "python",
   "nbconvert_exporter": "python",
   "pygments_lexer": "ipython3",
   "version": "3.12.4"
  }
 },
 "nbformat": 4,
 "nbformat_minor": 2
}
