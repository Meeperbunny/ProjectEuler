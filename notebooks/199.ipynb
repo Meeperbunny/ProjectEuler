{
 "cells": [
  {
   "cell_type": "code",
   "execution_count": 6,
   "id": "d1903ce3-8637-4b92-ba9c-74021d461a15",
   "metadata": {},
   "outputs": [],
   "source": [
    "from math import cos, sin, pi, acos"
   ]
  },
  {
   "cell_type": "code",
   "execution_count": 8,
   "id": "ff36a387-54d5-4e7f-a9ac-15368eadfd05",
   "metadata": {},
   "outputs": [],
   "source": [
    "class Circle:\n",
    "    def __init__(self, x, y, r):\n",
    "        self.pos = (x, y)\n",
    "        self.r = r\n",
    "    def area(self):\n",
    "        return pi * self.r**2"
   ]
  },
  {
   "cell_type": "code",
   "execution_count": 11,
   "id": "18502dea-17c9-4d6b-9967-e78a60e7b5ec",
   "metadata": {},
   "outputs": [],
   "source": [
    "outer = Circle(0, 0, 2 / 3**0.5 + 1)\n",
    "s1 = Circle(cos(0 * pi / 3) * 2 / 3**0.5, sin(0 * pi / 3) * 2 / 3**0.5, 1)\n",
    "s2 = Circle(cos(2 * pi / 3) * 2 / 3**0.5, sin(2 * pi / 3) * 2 / 3**0.5, 1)\n",
    "s3 = Circle(cos(4 * pi / 3) * 2 / 3**0.5, sin(4 * pi / 3) * 2 / 3**0.5, 1)\n",
    "circles = [outer, s1, s2, s3]"
   ]
  },
  {
   "cell_type": "markdown",
   "id": "0e55506a",
   "metadata": {},
   "source": [
    "Solved a problem that involved finding an incircle, am going to use this here:"
   ]
  },
  {
   "cell_type": "code",
   "execution_count": 34,
   "id": "df93a0af",
   "metadata": {},
   "outputs": [],
   "source": [
    "# https://en.wikipedia.org/wiki/Descartes%27_theorem#:~:text=In%20geometry%2C%20Descartes'%20theorem%20states,three%20given%2C%20mutually%20tangent%20circles.\n",
    "# k_i is the curvature, k_i = 1 / r_i\n",
    "def find_internal_curvature(k_1, k_2, k_3):\n",
    "    first = k_1 + k_2 + k_3\n",
    "    second = k_1 * k_2 + k_2 * k_3 + k_3 * k_1\n",
    "    k_ans_1, k_ans_2 = first + 2 * second**0.5, first - 2 * second**0.5\n",
    "    return k_ans_1 #k_ans_2 # Empirically don't use the second answer. Unsure when it is useful\n",
    "\n",
    "# https://en.wikipedia.org/wiki/Descartes%27_theorem#:~:text=In%20geometry%2C%20Descartes'%20theorem%20states,three%20given%2C%20mutually%20tangent%20circles.\n",
    "# k_i is the curvature, k_i = 1 / r_i\n",
    "# P_1 is a tuple given in cartesian coordinates\n",
    "def find_internal_circle(k_1, k_2, k_3, P_1, P_2, P_3):\n",
    "    k_4 = find_internal_curvature(k_1, k_2, k_3)\n",
    "    r = 1 / k_4\n",
    "    # Converts cartesian to imaginary (x, y) -> x + iy\n",
    "    z_1 = P_1[0] + P_1[1] * 1j\n",
    "    z_2 = P_2[0] + P_2[1] * 1j\n",
    "    z_3 = P_3[0] + P_3[1] * 1j\n",
    "    first = z_1 * k_1 + z_2 * k_2 + z_3 * k_3\n",
    "    second = k_1 * k_2 * z_1 * z_2 + k_2 * k_3 * z_2 * z_3 + k_1 * k_3 * z_1 * z_3\n",
    "    z_ans_1 = (first + 2 * second**0.5) / k_4\n",
    "    z_ans_2 = (first - 2 * second**0.5) / k_4\n",
    "    p_1, p_2 = (z_ans_1.real, z_ans_1.imag), (z_ans_2.real, z_ans_2.imag)\n",
    "    return p_1, r # Empirically don't use the second answer. Unsure when it is useful"
   ]
  },
  {
   "cell_type": "code",
   "execution_count": 35,
   "id": "83b00d97",
   "metadata": {},
   "outputs": [
    {
     "data": {
      "text/plain": [
       "14.585580315313054"
      ]
     },
     "execution_count": 35,
     "metadata": {},
     "output_type": "execute_result"
    }
   ],
   "source": [
    "outer.area()"
   ]
  },
  {
   "cell_type": "code",
   "execution_count": 39,
   "id": "a31a2a13",
   "metadata": {},
   "outputs": [
    {
     "name": "stdout",
     "output_type": "stream",
     "text": [
      "0.003960869448080384\n"
     ]
    }
   ],
   "source": [
    "MD = 10\n",
    "def dfs(c1, c2, c3, depth, has_outer=False):\n",
    "    # If depth is greater than I (10) then break\n",
    "    if depth >= MD:\n",
    "        return 0\n",
    "    k_1 = 1 / c1.r\n",
    "    k_2 = 1 / c2.r\n",
    "    k_3 = 1 / c3.r\n",
    "    if (has_outer):\n",
    "        k_1 = -k_1\n",
    "    # Find center circle\n",
    "    C = find_internal_circle(k_1, k_2, k_3, c1.pos, c2.pos, c3.pos)\n",
    "    C = Circle(*C[0], C[1])\n",
    "    # Add area\n",
    "    T = C.area()\n",
    "    # Dfs 3 times, replacing center with c_i\n",
    "    T += dfs(c1, c2, C, depth+1, has_outer=has_outer)\n",
    "    T += dfs(c1, C, c3, depth+1, has_outer=has_outer)\n",
    "    T += dfs(C, c2, c3, depth+1, has_outer=False)\n",
    "    return T\n",
    "\n",
    "T = 0\n",
    "T += s1.area() * 3\n",
    "T += 3 * dfs(outer, s1, s2, 0, True)\n",
    "T += dfs(s1, s2, s3, 0, False)\n",
    "print(1 - (T / outer.area()))\n",
    "\n",
    "# Find area of normal circle\n",
    "# T := A * 3\n",
    "# DFS on C_1, C_2, OUTER\n",
    "# T := T + R * 3\n",
    "# T := T + DFS(*C_i)\n",
    "# Should be 1 - T?"
   ]
  },
  {
   "cell_type": "code",
   "execution_count": 228,
   "id": "dd4f10a6-15b7-43c6-8290-487d7924af45",
   "metadata": {},
   "outputs": [],
   "source": [
    "def get_coords(c1, c2, rn):\n",
    "    r1, r2 = c1.r, c2.r\n",
    "    a = (r1**2+r1*rn+r1*r2-r2*rn)/(r1+r2)\n",
    "    b = ((r1+rn)**2-a**2)**0.5\n",
    "    # print(a, b)\n",
    "    v1 = (r1+r2, 0)\n",
    "    v2 = (c2.x-c1.x, c2.y-c1.y)\n",
    "    X = r1+r2\n",
    "    th = acos(v2[0] / X)\n",
    "    # print(th / pi * 180)\n",
    "    d = (r1+rn)\n",
    "    si = acos(a / d) # + cos(a / d)\n",
    "    r_th = si + th\n",
    "    # print(d * cos(r_th), d * sin(r_th))\n",
    "    return c1.x + d * cos(r_th), c1.y + d * sin(r_th) * (-1 if v2[1] < 0 else 1)"
   ]
  },
  {
   "cell_type": "code",
   "execution_count": 230,
   "id": "7fb65a8b-9c6e-4258-8a08-58e55746bb3e",
   "metadata": {},
   "outputs": [
    {
     "data": {
      "text/plain": [
       "(-0.5773502691896255, -1.0000000000000002)"
      ]
     },
     "execution_count": 230,
     "metadata": {},
     "output_type": "execute_result"
    }
   ],
   "source": [
    "get_coords(s1, s2, 1)"
   ]
  },
  {
   "cell_type": "code",
   "execution_count": 233,
   "id": "f19e8940-e6ed-4eba-9943-c3f8a9be872e",
   "metadata": {},
   "outputs": [],
   "source": [
    "# c1 will always be outer\n",
    "def comb_area(c1, c2, c3, d=3):\n",
    "    if not d:\n",
    "        return 0\n",
    "    hasouter = c1.is_outer\n",
    "    # Pick 2 circles, binary search on radius of last circle. Check if new circle intersects with last circle.\n",
    "    n_r = 0\n",
    "    n = 2\n",
    "    new_c = None\n",
    "    print(c1.c(), c2.c(), c3.c(), d)\n",
    "    while n > 0.000001:\n",
    "        while True:\n",
    "            t_r = n_r + n\n",
    "            n_c = get_coords(c2, c3, t_r)\n",
    "            new_c = Circle(*n_c, t_r)\n",
    "            if new_c.intersects(c1):\n",
    "                break\n",
    "            else:\n",
    "                n_r = t_r\n",
    "        n /= 2\n",
    "    print(\"New circle is:\", new_c.c())\n",
    "\n",
    "    return new_c.area() + comb_area(c1, c2, new_c, d - 1) + comb_area(c1, c3, new_c, d - 1) + comb_area(c2, c3, new_c, d - 1)"
   ]
  },
  {
   "cell_type": "code",
   "execution_count": 235,
   "id": "726ed528-5994-4b61-92b7-5b7d2c078228",
   "metadata": {},
   "outputs": [
    {
     "name": "stdout",
     "output_type": "stream",
     "text": [
      "(0, 0, 2.1547005383792515) (-0.5773502691896255, 1.0000000000000002, 1) (-0.5773502691896263, -0.9999999999999999, 1) 3\n",
      "New circle is: (-1.6720288236682928, 8.881784197001252e-16, 0.48267364501953125)\n",
      "(0, 0, 2.1547005383792515) (-0.5773502691896255, 1.0000000000000002, 1) (-1.6720288236682928, 8.881784197001252e-16, 0.48267364501953125) 2\n",
      "New circle is: (-1.780512991034026, 0.7116792707179129, 0.2372264862060547)\n",
      "(0, 0, 2.1547005383792515) (-0.5773502691896255, 1.0000000000000002, 1) (-1.780512991034026, 0.7116792707179129, 0.2372264862060547) 1\n",
      "New circle is: (-1.7093378900072596, 1.076606368584791, 0.13457679748535156)\n",
      "(0, 0, 2.1547005383792515) (-1.6720288236682928, 8.881784197001252e-16, 0.48267364501953125) (-1.780512991034026, 0.7116792707179129, 0.2372264862060547) 1\n",
      "New circle is: (-2.0065415672933575, 0.4696534568003638, 0.09393119812011719)\n",
      "(-0.5773502691896255, 1.0000000000000002, 1) (-1.6720288236682928, 8.881784197001252e-16, 0.48267364501953125) (-1.780512991034026, 0.7116792707179129, 0.2372264862060547) 1\n"
     ]
    },
    {
     "ename": "KeyboardInterrupt",
     "evalue": "",
     "output_type": "error",
     "traceback": [
      "\u001b[1;31m---------------------------------------------------------------------------\u001b[0m",
      "\u001b[1;31mKeyboardInterrupt\u001b[0m                         Traceback (most recent call last)",
      "Cell \u001b[1;32mIn[235], line 1\u001b[0m\n\u001b[1;32m----> 1\u001b[0m t_area \u001b[38;5;241m=\u001b[39m \u001b[43mcomb_area\u001b[49m\u001b[43m(\u001b[49m\u001b[43mouter\u001b[49m\u001b[43m,\u001b[49m\u001b[43m \u001b[49m\u001b[43ms2\u001b[49m\u001b[43m,\u001b[49m\u001b[43m \u001b[49m\u001b[43ms3\u001b[49m\u001b[43m)\u001b[49m \u001b[38;5;66;03m#* 3 + comb_area(s1, s2, s3)\u001b[39;00m\n",
      "Cell \u001b[1;32mIn[233], line 23\u001b[0m, in \u001b[0;36mcomb_area\u001b[1;34m(c1, c2, c3, d)\u001b[0m\n\u001b[0;32m     20\u001b[0m     n \u001b[38;5;241m/\u001b[39m\u001b[38;5;241m=\u001b[39m \u001b[38;5;241m2\u001b[39m\n\u001b[0;32m     21\u001b[0m \u001b[38;5;28mprint\u001b[39m(\u001b[38;5;124m\"\u001b[39m\u001b[38;5;124mNew circle is:\u001b[39m\u001b[38;5;124m\"\u001b[39m, new_c\u001b[38;5;241m.\u001b[39mc())\n\u001b[1;32m---> 23\u001b[0m \u001b[38;5;28;01mreturn\u001b[39;00m new_c\u001b[38;5;241m.\u001b[39marea() \u001b[38;5;241m+\u001b[39m \u001b[43mcomb_area\u001b[49m\u001b[43m(\u001b[49m\u001b[43mc1\u001b[49m\u001b[43m,\u001b[49m\u001b[43m \u001b[49m\u001b[43mc2\u001b[49m\u001b[43m,\u001b[49m\u001b[43m \u001b[49m\u001b[43mnew_c\u001b[49m\u001b[43m,\u001b[49m\u001b[43m \u001b[49m\u001b[43md\u001b[49m\u001b[43m \u001b[49m\u001b[38;5;241;43m-\u001b[39;49m\u001b[43m \u001b[49m\u001b[38;5;241;43m1\u001b[39;49m\u001b[43m)\u001b[49m \u001b[38;5;241m+\u001b[39m comb_area(c1, c3, new_c, d \u001b[38;5;241m-\u001b[39m \u001b[38;5;241m1\u001b[39m) \u001b[38;5;241m+\u001b[39m comb_area(c2, c3, new_c, d \u001b[38;5;241m-\u001b[39m \u001b[38;5;241m1\u001b[39m)\n",
      "Cell \u001b[1;32mIn[233], line 23\u001b[0m, in \u001b[0;36mcomb_area\u001b[1;34m(c1, c2, c3, d)\u001b[0m\n\u001b[0;32m     20\u001b[0m     n \u001b[38;5;241m/\u001b[39m\u001b[38;5;241m=\u001b[39m \u001b[38;5;241m2\u001b[39m\n\u001b[0;32m     21\u001b[0m \u001b[38;5;28mprint\u001b[39m(\u001b[38;5;124m\"\u001b[39m\u001b[38;5;124mNew circle is:\u001b[39m\u001b[38;5;124m\"\u001b[39m, new_c\u001b[38;5;241m.\u001b[39mc())\n\u001b[1;32m---> 23\u001b[0m \u001b[38;5;28;01mreturn\u001b[39;00m new_c\u001b[38;5;241m.\u001b[39marea() \u001b[38;5;241m+\u001b[39m comb_area(c1, c2, new_c, d \u001b[38;5;241m-\u001b[39m \u001b[38;5;241m1\u001b[39m) \u001b[38;5;241m+\u001b[39m comb_area(c1, c3, new_c, d \u001b[38;5;241m-\u001b[39m \u001b[38;5;241m1\u001b[39m) \u001b[38;5;241m+\u001b[39m \u001b[43mcomb_area\u001b[49m\u001b[43m(\u001b[49m\u001b[43mc2\u001b[49m\u001b[43m,\u001b[49m\u001b[43m \u001b[49m\u001b[43mc3\u001b[49m\u001b[43m,\u001b[49m\u001b[43m \u001b[49m\u001b[43mnew_c\u001b[49m\u001b[43m,\u001b[49m\u001b[43m \u001b[49m\u001b[43md\u001b[49m\u001b[43m \u001b[49m\u001b[38;5;241;43m-\u001b[39;49m\u001b[43m \u001b[49m\u001b[38;5;241;43m1\u001b[39;49m\u001b[43m)\u001b[49m\n",
      "Cell \u001b[1;32mIn[233], line 14\u001b[0m, in \u001b[0;36mcomb_area\u001b[1;34m(c1, c2, c3, d)\u001b[0m\n\u001b[0;32m     12\u001b[0m \u001b[38;5;28;01mwhile\u001b[39;00m \u001b[38;5;28;01mTrue\u001b[39;00m:\n\u001b[0;32m     13\u001b[0m     t_r \u001b[38;5;241m=\u001b[39m n_r \u001b[38;5;241m+\u001b[39m n\n\u001b[1;32m---> 14\u001b[0m     n_c \u001b[38;5;241m=\u001b[39m \u001b[43mget_coords\u001b[49m\u001b[43m(\u001b[49m\u001b[43mc2\u001b[49m\u001b[43m,\u001b[49m\u001b[43m \u001b[49m\u001b[43mc3\u001b[49m\u001b[43m,\u001b[49m\u001b[43m \u001b[49m\u001b[43mt_r\u001b[49m\u001b[43m)\u001b[49m\n\u001b[0;32m     15\u001b[0m     new_c \u001b[38;5;241m=\u001b[39m Circle(\u001b[38;5;241m*\u001b[39mn_c, t_r)\n\u001b[0;32m     16\u001b[0m     \u001b[38;5;28;01mif\u001b[39;00m new_c\u001b[38;5;241m.\u001b[39mintersects(c1):\n",
      "Cell \u001b[1;32mIn[228], line 12\u001b[0m, in \u001b[0;36mget_coords\u001b[1;34m(c1, c2, rn)\u001b[0m\n\u001b[0;32m     10\u001b[0m \u001b[38;5;66;03m# print(th / pi * 180)\u001b[39;00m\n\u001b[0;32m     11\u001b[0m d \u001b[38;5;241m=\u001b[39m (r1\u001b[38;5;241m+\u001b[39mrn)\n\u001b[1;32m---> 12\u001b[0m si \u001b[38;5;241m=\u001b[39m \u001b[43macos\u001b[49m\u001b[43m(\u001b[49m\u001b[43ma\u001b[49m\u001b[43m \u001b[49m\u001b[38;5;241;43m/\u001b[39;49m\u001b[43m \u001b[49m\u001b[43md\u001b[49m\u001b[43m)\u001b[49m \u001b[38;5;66;03m# + cos(a / d)\u001b[39;00m\n\u001b[0;32m     13\u001b[0m r_th \u001b[38;5;241m=\u001b[39m si \u001b[38;5;241m+\u001b[39m th\n\u001b[0;32m     14\u001b[0m \u001b[38;5;66;03m# print(d * cos(r_th), d * sin(r_th))\u001b[39;00m\n",
      "\u001b[1;31mKeyboardInterrupt\u001b[0m: "
     ]
    }
   ],
   "source": [
    "t_area = comb_area(outer, s2, s3) #* 3 + comb_area(s1, s2, s3)"
   ]
  },
  {
   "cell_type": "code",
   "execution_count": 103,
   "id": "e65ee565-9b71-4eee-8adc-7932558491df",
   "metadata": {},
   "outputs": [
    {
     "data": {
      "text/plain": [
       "0.6461709275204175"
      ]
     },
     "execution_count": 103,
     "metadata": {},
     "output_type": "execute_result"
    }
   ],
   "source": [
    "(t_area + s1.area() + s2.area() + s3.area()) / outer.area()"
   ]
  },
  {
   "cell_type": "code",
   "execution_count": null,
   "id": "8ccefad3-16fc-459e-abfc-8083df87467a",
   "metadata": {},
   "outputs": [],
   "source": []
  }
 ],
 "metadata": {
  "kernelspec": {
   "display_name": "Python 3",
   "language": "python",
   "name": "python3"
  },
  "language_info": {
   "codemirror_mode": {
    "name": "ipython",
    "version": 3
   },
   "file_extension": ".py",
   "mimetype": "text/x-python",
   "name": "python",
   "nbconvert_exporter": "python",
   "pygments_lexer": "ipython3",
   "version": "3.12.4"
  }
 },
 "nbformat": 4,
 "nbformat_minor": 5
}
