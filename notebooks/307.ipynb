{
 "cells": [
  {
   "cell_type": "code",
   "execution_count": 6,
   "id": "afbda81f-4d41-4715-bab6-361a3b8600da",
   "metadata": {},
   "outputs": [],
   "source": [
    "from scipy.special import binom"
   ]
  },
  {
   "cell_type": "code",
   "execution_count": 11,
   "id": "c5d96dff-770e-4279-92ec-991c80332916",
   "metadata": {},
   "outputs": [],
   "source": [
    "def binomial(n, k, p):\n",
    "    return p**k * (1 - p)**(n - k) * binom(n, k)"
   ]
  },
  {
   "cell_type": "code",
   "execution_count": 19,
   "id": "31b83978-baa1-4337-83b2-9dc28af474a6",
   "metadata": {},
   "outputs": [],
   "source": [
    "def p(k, n):\n",
    "    p_is_good = binomial(k, 0, 1/n) + binomial(k, 1, 1/n) + binomial(k, 2, 1/n)\n",
    "    return 1 - p_is_good**n"
   ]
  },
  {
   "cell_type": "code",
   "execution_count": 22,
   "id": "f2f99076-269a-4ae6-bae8-47ef7d516961",
   "metadata": {},
   "outputs": [
    {
     "data": {
      "text/plain": [
       "np.float64(0.7310688317976757)"
      ]
     },
     "execution_count": 22,
     "metadata": {},
     "output_type": "execute_result"
    }
   ],
   "source": [
    "# p(20_000, 1_000_000)\n",
    "p(20_000, 1_000_000)"
   ]
  },
  {
   "cell_type": "code",
   "execution_count": null,
   "id": "ef1f351c-76f8-417a-9030-0e458988d310",
   "metadata": {},
   "outputs": [],
   "source": []
  },
  {
   "cell_type": "code",
   "execution_count": null,
   "id": "2801b781-c925-48d0-9dff-4c1f68c11d32",
   "metadata": {},
   "outputs": [],
   "source": []
  },
  {
   "cell_type": "code",
   "execution_count": null,
   "id": "85f0820a-1e83-451f-bb88-5666a80db75e",
   "metadata": {},
   "outputs": [],
   "source": [
    "from scipy.special import binom\n",
    "\n",
    "def binomial(n, k, p):\n",
    "    return p**k * (1 - p)**(n - k) * binom(n, k)\n",
    "\n",
    "def p(k, n):\n",
    "    p_is_good = binomial(k, 0, 1/n) + binomial(k, 1, 1/n) + binomial(k, 2, 1/n)\n",
    "    return 1 - p_is_good**n\n",
    "\n",
    "# p(20_000, 1_000_000)\n",
    "p(20_000, 1_000_000)"
   ]
  }
 ],
 "metadata": {
  "kernelspec": {
   "display_name": "Python 3 (ipykernel)",
   "language": "python",
   "name": "python3"
  },
  "language_info": {
   "codemirror_mode": {
    "name": "ipython",
    "version": 3
   },
   "file_extension": ".py",
   "mimetype": "text/x-python",
   "name": "python",
   "nbconvert_exporter": "python",
   "pygments_lexer": "ipython3",
   "version": "3.12.4"
  }
 },
 "nbformat": 4,
 "nbformat_minor": 5
}
