{
 "cells": [
  {
   "cell_type": "code",
   "execution_count": 6,
   "id": "afbda81f-4d41-4715-bab6-361a3b8600da",
   "metadata": {},
   "outputs": [],
   "source": [
    "from scipy.special import binom"
   ]
  },
  {
   "cell_type": "code",
   "execution_count": 11,
   "id": "c5d96dff-770e-4279-92ec-991c80332916",
   "metadata": {},
   "outputs": [],
   "source": [
    "def binomial(n, k, p):\n",
    "    return p**k * (1 - p)**(n - k) * binom(n, k)"
   ]
  },
  {
   "cell_type": "code",
   "execution_count": 19,
   "id": "31b83978-baa1-4337-83b2-9dc28af474a6",
   "metadata": {},
   "outputs": [],
   "source": [
    "def p(k, n):\n",
    "    p_is_good = binomial(k, 0, 1/n) + binomial(k, 1, 1/n) + binomial(k, 2, 1/n)\n",
    "    return 1 - p_is_good**n"
   ]
  },
  {
   "cell_type": "code",
   "execution_count": 22,
   "id": "f2f99076-269a-4ae6-bae8-47ef7d516961",
   "metadata": {},
   "outputs": [
    {
     "data": {
      "text/plain": [
       "np.float64(0.7310688317976757)"
      ]
     },
     "execution_count": 22,
     "metadata": {},
     "output_type": "execute_result"
    }
   ],
   "source": [
    "# p(20_000, 1_000_000)\n",
    "p(20_000, 1_000_000)"
   ]
  },
  {
   "cell_type": "code",
   "execution_count": null,
   "id": "ef1f351c-76f8-417a-9030-0e458988d310",
   "metadata": {},
   "outputs": [],
   "source": []
  },
  {
   "cell_type": "code",
   "execution_count": null,
   "id": "2801b781-c925-48d0-9dff-4c1f68c11d32",
   "metadata": {},
   "outputs": [],
   "source": []
  },
  {
   "cell_type": "code",
   "execution_count": 1,
   "id": "85f0820a-1e83-451f-bb88-5666a80db75e",
   "metadata": {},
   "outputs": [
    {
     "data": {
      "text/plain": [
       "np.float64(0.7310688317976757)"
      ]
     },
     "execution_count": 1,
     "metadata": {},
     "output_type": "execute_result"
    }
   ],
   "source": [
    "from scipy.special import binom\n",
    "\n",
    "def binomial(n, k, p):\n",
    "    return p**k * (1 - p)**(n - k) * binom(n, k)\n",
    "\n",
    "def p(k, n):\n",
    "    p_is_good = binomial(k, 0, 1/n) + binomial(k, 1, 1/n) + binomial(k, 2, 1/n)\n",
    "    return 1 - p_is_good**n\n",
    "\n",
    "# p(20_000, 1_000_000)\n",
    "p(20_000, 1_000_000)"
   ]
  },
  {
   "cell_type": "code",
   "execution_count": 93,
   "id": "c9a8bbc0-a52c-44f7-a469-3d0ed4ce5a65",
   "metadata": {},
   "outputs": [],
   "source": [
    "def pg(k):\n",
    "    return 1 - 1 / ((1/k)-1)"
   ]
  },
  {
   "cell_type": "code",
   "execution_count": 94,
   "id": "bb867830-ffec-4120-9fa6-b884b7555721",
   "metadata": {},
   "outputs": [
    {
     "data": {
      "text/plain": [
       "0.0"
      ]
     },
     "execution_count": 94,
     "metadata": {},
     "output_type": "execute_result"
    }
   ],
   "source": [
    "pg(1/2)"
   ]
  },
  {
   "cell_type": "code",
   "execution_count": 54,
   "id": "c68c442b-5718-421b-a248-95e2b9f89861",
   "metadata": {},
   "outputs": [
    {
     "data": {
      "text/plain": [
       "0.5022062412266494"
      ]
     },
     "execution_count": 54,
     "metadata": {},
     "output_type": "execute_result"
    }
   ],
   "source": []
  },
  {
   "cell_type": "code",
   "execution_count": 73,
   "id": "be35bb59-c371-4c83-ad68-8bd533fbf9c9",
   "metadata": {},
   "outputs": [
    {
     "data": {
      "text/plain": [
       "0.16666666666666666"
      ]
     },
     "execution_count": 73,
     "metadata": {},
     "output_type": "execute_result"
    }
   ],
   "source": [
    "pg(1/7, 999)"
   ]
  },
  {
   "cell_type": "code",
   "execution_count": 103,
   "id": "4ae50016-2708-4d3d-b55e-85dbdd876410",
   "metadata": {},
   "outputs": [],
   "source": [
    "from scipy.special import binom"
   ]
  },
  {
   "cell_type": "code",
   "execution_count": 109,
   "id": "92154f46-8e19-4e7b-b1c2-6b539f2efc26",
   "metadata": {},
   "outputs": [
    {
     "data": {
      "text/plain": [
       "np.float64(0.020408163265305368)"
      ]
     },
     "execution_count": 109,
     "metadata": {},
     "output_type": "execute_result"
    }
   ],
   "source": [
    "def p(k, n):\n",
    "    dp = [[0 for _ in range(k + 1)] for _ in range(n + 1)]\n",
    "    dp[0][k] = 1\n",
    "    for i in tqdm(range(1, n + 1)):\n",
    "        p = 1 / (n - i + 1)\n",
    "        for q in range(k, -1, -1):\n",
    "            tp = 0\n",
    "            for j in range(0, 3):\n",
    "                # Take away 0\n",
    "                if j == 0 and i != n:\n",
    "                    # print(p, pg(p), i)\n",
    "                    dp[i][q] += dp[i - 1][q] * ((1-p)**q)\n",
    "                    tp += pg(p)\n",
    "                else:\n",
    "                    if q + j <= k:\n",
    "                        dp[i][q] += dp[i - 1][q + j] * binom(q + j, j) * (p**j * (1-p)**(q))\n",
    "                        tp += p**j\n",
    "    return 1 - dp[n][0]\n",
    "p(3000, 70000)"
   ]
  }
 ],
 "metadata": {
  "kernelspec": {
   "display_name": "Python 3 (ipykernel)",
   "language": "python",
   "name": "python3"
  },
  "language_info": {
   "codemirror_mode": {
    "name": "ipython",
    "version": 3
   },
   "file_extension": ".py",
   "mimetype": "text/x-python",
   "name": "python",
   "nbconvert_exporter": "python",
   "pygments_lexer": "ipython3",
   "version": "3.12.4"
  }
 },
 "nbformat": 4,
 "nbformat_minor": 5
}
