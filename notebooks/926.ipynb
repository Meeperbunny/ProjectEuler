{
 "cells": [
  {
   "cell_type": "code",
   "execution_count": 19,
   "metadata": {},
   "outputs": [],
   "source": [
    "def R(n):\n",
    "    t = 0\n",
    "    for b in range(2, n + 1):\n",
    "        k = 0\n",
    "        while n % b**(k+1) == 0:\n",
    "            k += 1\n",
    "        t += k\n",
    "    return t"
   ]
  },
  {
   "cell_type": "code",
   "execution_count": null,
   "metadata": {},
   "outputs": [],
   "source": []
  },
  {
   "cell_type": "code",
   "execution_count": 44,
   "metadata": {},
   "outputs": [
    {
     "name": "stdout",
     "output_type": "stream",
     "text": [
      "1 6 3 1\n",
      "2 12 6 3\n",
      "3 24 9 5\n",
      "4 48 13 8\n",
      "5 96 16 10\n",
      "6 192 21 14\n",
      "7 384 24 16\n",
      "8 768 29 20\n",
      "9 1536 33 23\n",
      "10 3072 38 27\n",
      "11 6144 41 29\n",
      "12 12288 48 35\n",
      "13 24576 51 37\n",
      "14 49152 56 41\n",
      "15 98304 61 45\n",
      "16 196608 67 50\n",
      "17 393216 70 52\n",
      "18 786432 77 58\n",
      "19 1572864 80 60\n",
      "20 3145728 87 66\n"
     ]
    }
   ],
   "source": [
    "k = 1\n",
    "for i in range(20):\n",
    "    print(k, 3 * 2**k, R(3 * 2**k), R(2**k))\n",
    "    k += 1"
   ]
  },
  {
   "cell_type": "code",
   "execution_count": 21,
   "metadata": {},
   "outputs": [
    {
     "name": "stdout",
     "output_type": "stream",
     "text": [
      "1 0\n",
      "2 1\n",
      "3 1\n",
      "4 3\n",
      "5 1\n",
      "6 3\n",
      "7 1\n",
      "8 5\n",
      "9 3\n",
      "10 3\n",
      "11 1\n",
      "12 6\n",
      "13 1\n",
      "14 3\n",
      "15 3\n",
      "16 8\n",
      "17 1\n",
      "18 6\n",
      "19 1\n",
      "20 6\n"
     ]
    }
   ],
   "source": [
    "f = 1\n",
    "for i in range(1, 21):\n",
    "    print(i,R(i))"
   ]
  },
  {
   "cell_type": "code",
   "execution_count": 2,
   "metadata": {},
   "outputs": [],
   "source": [
    "# 8 4 2 1"
   ]
  },
  {
   "cell_type": "code",
   "execution_count": null,
   "metadata": {},
   "outputs": [],
   "source": [
    "2 1"
   ]
  },
  {
   "cell_type": "code",
   "execution_count": 33,
   "metadata": {},
   "outputs": [
    {
     "name": "stdout",
     "output_type": "stream",
     "text": [
      "1 4\n",
      "1 10 1\n",
      "2 3\n",
      "2 6 3\n",
      "3 2\n",
      "3 3 6\n",
      "4 2\n",
      "4 3 10\n",
      "5 1\n",
      "5 1 15\n",
      "6 1\n",
      "6 1 21\n",
      "7 1\n",
      "7 1 28\n",
      "8 1\n",
      "8 1 36\n"
     ]
    },
    {
     "data": {
      "text/plain": [
       "176"
      ]
     },
     "execution_count": 33,
     "metadata": {},
     "output_type": "execute_result"
    }
   ],
   "source": [
    "# l = [0, 2, 1]\n",
    "l = [0, 4, 3, 2, 2, 1, 1, 1, 1]\n",
    "ts = 0\n",
    "for i in range(1, len(l)):\n",
    "    print(i, l[i])\n",
    "    tri = lambda x: (x * x + x) // 2\n",
    "    cont = tri(i)\n",
    "    t = tri(l[i])\n",
    "    print(i, t, cont)\n",
    "    ts += t * cont\n",
    "ts\n"
   ]
  }
 ],
 "metadata": {
  "kernelspec": {
   "display_name": "Python 3",
   "language": "python",
   "name": "python3"
  },
  "language_info": {
   "codemirror_mode": {
    "name": "ipython",
    "version": 3
   },
   "file_extension": ".py",
   "mimetype": "text/x-python",
   "name": "python",
   "nbconvert_exporter": "python",
   "pygments_lexer": "ipython3",
   "version": "3.12.4"
  }
 },
 "nbformat": 4,
 "nbformat_minor": 2
}
