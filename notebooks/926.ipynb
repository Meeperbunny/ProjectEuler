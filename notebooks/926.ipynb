{
 "cells": [
  {
   "cell_type": "code",
   "execution_count": null,
   "metadata": {},
   "outputs": [],
   "source": [
    "def R(n):\n",
    "    t = 0\n",
    "    for b in range(2, n + 1):\n",
    "        k = 0\n",
    "        while n % b**(k+1) == 0:\n",
    "            k += 1\n",
    "        t += k\n",
    "    return t"
   ]
  },
  {
   "cell_type": "code",
   "execution_count": null,
   "metadata": {},
   "outputs": [],
   "source": [
    "def fac(N):\n",
    "    return 1 if N <= 1 else fac(N - 1) * N"
   ]
  },
  {
   "cell_type": "code",
   "execution_count": null,
   "metadata": {},
   "outputs": [],
   "source": [
    "\n",
    "def get_divs(n):\n",
    "    divs = [[] for _ in range(n + 1)]\n",
    "    for i in range(1, n + 1):\n",
    "        for q in range(i, n + 1, i):\n",
    "            divs[q].append(i)\n",
    "    return divs"
   ]
  },
  {
   "cell_type": "code",
   "execution_count": null,
   "metadata": {},
   "outputs": [],
   "source": [
    "D = get_divs(100)"
   ]
  },
  {
   "cell_type": "code",
   "execution_count": 1,
   "metadata": {},
   "outputs": [
    {
     "data": {
      "text/plain": [
       "Counter({2: 2, 3: 1})"
      ]
     },
     "execution_count": 1,
     "metadata": {},
     "output_type": "execute_result"
    }
   ],
   "source": [
    "from collections import Counter\n",
    "def sieve(n):\n",
    "    sieve = [1 for _ in range(n + 1)]\n",
    "    primes = []\n",
    "    for i in range(2, n + 1):\n",
    "        if sieve[i]:\n",
    "            primes.append(i)\n",
    "            for q in range(2 * i, n + 1, i):\n",
    "                sieve[q] = 0\n",
    "    return primes\n",
    "primes = sieve(100)\n",
    "def get_pfs(n):\n",
    "    cnt = Counter()\n",
    "    for p in primes:\n",
    "        while n % p == 0:\n",
    "            n //= p\n",
    "            cnt[p] += 1\n",
    "    return cnt\n",
    "get_pfs(12)"
   ]
  },
  {
   "cell_type": "code",
   "execution_count": 2,
   "metadata": {},
   "outputs": [],
   "source": [
    "from tqdm.notebook import trange"
   ]
  },
  {
   "cell_type": "code",
   "execution_count": 5,
   "metadata": {},
   "outputs": [
    {
     "name": "stdout",
     "output_type": "stream",
     "text": [
      "Getting sivee\n",
      "getting Counts\n"
     ]
    },
    {
     "data": {
      "application/vnd.jupyter.widget-view+json": {
       "model_id": "1594ed1385394d98b500d70855e31403",
       "version_major": 2,
       "version_minor": 0
      },
      "text/plain": [
       "  0%|          | 0/9999992 [00:00<?, ?it/s]"
      ]
     },
     "metadata": {},
     "output_type": "display_data"
    },
    {
     "ename": "KeyboardInterrupt",
     "evalue": "",
     "output_type": "error",
     "traceback": [
      "\u001b[0;31m---------------------------------------------------------------------------\u001b[0m",
      "\u001b[0;31mKeyboardInterrupt\u001b[0m                         Traceback (most recent call last)",
      "Cell \u001b[0;32mIn[5], line 36\u001b[0m\n\u001b[1;32m     34\u001b[0m         T \u001b[38;5;241m+\u001b[39m\u001b[38;5;241m=\u001b[39m cc\n\u001b[1;32m     35\u001b[0m     \u001b[38;5;28;01mreturn\u001b[39;00m T \u001b[38;5;241m%\u001b[39m mod\n\u001b[0;32m---> 36\u001b[0m \u001b[43mans\u001b[49m\u001b[43m(\u001b[49m\u001b[38;5;241;43m10_000_000\u001b[39;49m\u001b[43m)\u001b[49m\n",
      "Cell \u001b[0;32mIn[5], line 20\u001b[0m, in \u001b[0;36mans\u001b[0;34m(N)\u001b[0m\n\u001b[1;32m     18\u001b[0m t_c \u001b[38;5;241m=\u001b[39m Counter()\n\u001b[1;32m     19\u001b[0m to_rm \u001b[38;5;241m=\u001b[39m \u001b[38;5;28mset\u001b[39m()\n\u001b[0;32m---> 20\u001b[0m \u001b[38;5;28;01mfor\u001b[39;00m e \u001b[38;5;129;01min\u001b[39;00m pfc:\n\u001b[1;32m     21\u001b[0m     \u001b[38;5;28;01mif\u001b[39;00m pfc[e] \u001b[38;5;241m/\u001b[39m\u001b[38;5;241m/\u001b[39m sqc:\n\u001b[1;32m     22\u001b[0m         t_c[e] \u001b[38;5;241m=\u001b[39m pfc[e] \u001b[38;5;241m/\u001b[39m\u001b[38;5;241m/\u001b[39m sqc\n",
      "\u001b[0;31mKeyboardInterrupt\u001b[0m: "
     ]
    }
   ],
   "source": [
    "from collections import Counter\n",
    "def ans(N):\n",
    "    pfc = Counter()\n",
    "    print(\"Getting sivee\")\n",
    "    primes = sieve(N)\n",
    "    print(\"getting Counts\")\n",
    "    for p in primes:\n",
    "        k = 1\n",
    "        pc = 0\n",
    "        while p**k <= N:\n",
    "            pc += N // p**k\n",
    "            k += 1\n",
    "        pfc[p] = pc\n",
    "    T = 0\n",
    "    mod = int(1e9 + 7)\n",
    "    sqc = 0\n",
    "    for sqc in trange(1, max(pfc.values()) + 1):\n",
    "        t_c = Counter()\n",
    "        to_rm = set()\n",
    "        for e in pfc:\n",
    "            if pfc[e] // sqc:\n",
    "                t_c[e] = pfc[e] // sqc\n",
    "            else:\n",
    "                to_rm.add(e)\n",
    "        for e in to_rm:\n",
    "            del pfc[e]\n",
    "        cc = 1\n",
    "        if len(t_c) == 0:\n",
    "            continue\n",
    "        for e in t_c.values():\n",
    "            cc *= (e + 1)\n",
    "            cc %= mod\n",
    "        cc -= 1\n",
    "        T += cc\n",
    "    return T % mod\n",
    "ans(10_000_000)"
   ]
  },
  {
   "cell_type": "code",
   "execution_count": null,
   "metadata": {},
   "outputs": [],
   "source": [
    "R(fac(5))"
   ]
  },
  {
   "cell_type": "code",
   "execution_count": null,
   "metadata": {},
   "outputs": [],
   "source": []
  },
  {
   "cell_type": "code",
   "execution_count": null,
   "metadata": {},
   "outputs": [],
   "source": [
    "for i in range(2, 100):\n",
    "    cnts = get_pfs(i)\n",
    "    lc = 0\n",
    "    T = 0\n",
    "    for sqc in range(10, 0, -1):\n",
    "        c = 0\n",
    "        t_c = Counter()\n",
    "        for e in cnts:\n",
    "            if cnts[e] // sqc:  \n",
    "                t_c[e] = cnts[e] // sqc\n",
    "        cc = 1\n",
    "        if len(t_c) == 0:\n",
    "            continue\n",
    "        for e in t_c.values():\n",
    "            cc *= (e + 1)\n",
    "        cc -= 1\n",
    "        lc = cc\n",
    "        T += cc\n",
    "    print(i, R(i), T)\n",
    "a"
   ]
  },
  {
   "cell_type": "code",
   "execution_count": null,
   "metadata": {},
   "outputs": [],
   "source": [
    "k = 16\n",
    "print(R(k), R(k * 2))"
   ]
  },
  {
   "cell_type": "code",
   "execution_count": null,
   "metadata": {},
   "outputs": [],
   "source": []
  },
  {
   "cell_type": "code",
   "execution_count": null,
   "metadata": {},
   "outputs": [],
   "source": [
    "c = 0\n",
    "la = 0\n",
    "for i in range(1, 14):\n",
    "    c = R(fac(i))\n",
    "    print(i, fac(i), c, c - la)\n",
    "    la = c"
   ]
  },
  {
   "cell_type": "code",
   "execution_count": null,
   "metadata": {},
   "outputs": [],
   "source": [
    "30 * 9"
   ]
  },
  {
   "cell_type": "code",
   "execution_count": null,
   "metadata": {},
   "outputs": [],
   "source": []
  },
  {
   "cell_type": "code",
   "execution_count": null,
   "metadata": {},
   "outputs": [],
   "source": [
    "k = 1\n",
    "for i in range(20):\n",
    "    print(k, 3 * 2**k, R(3 * 2**k), R(2**k))\n",
    "    k += 1"
   ]
  },
  {
   "cell_type": "code",
   "execution_count": null,
   "metadata": {},
   "outputs": [],
   "source": [
    "f = 1\n",
    "for i in range(1, 21):\n",
    "    print(i,R(i))"
   ]
  },
  {
   "cell_type": "code",
   "execution_count": null,
   "metadata": {},
   "outputs": [],
   "source": [
    "# 8 4 2 1"
   ]
  },
  {
   "cell_type": "code",
   "execution_count": null,
   "metadata": {},
   "outputs": [],
   "source": [
    "2 1"
   ]
  },
  {
   "cell_type": "code",
   "execution_count": null,
   "metadata": {},
   "outputs": [],
   "source": [
    "# l = [0, 2, 1]\n",
    "l = [0, 4, 3, 2, 2, 1, 1, 1, 1]\n",
    "ts = 0\n",
    "for i in range(1, len(l)):\n",
    "    print(i, l[i])\n",
    "    tri = lambda x: (x * x + x) // 2\n",
    "    cont = tri(i)\n",
    "    t = tri(l[i])\n",
    "    print(i, t, cont)\n",
    "    ts += t * cont\n",
    "ts\n"
   ]
  },
  {
   "cell_type": "code",
   "execution_count": null,
   "metadata": {},
   "outputs": [],
   "source": []
  },
  {
   "cell_type": "code",
   "execution_count": null,
   "metadata": {},
   "outputs": [
    {
     "data": {
      "text/plain": [
       "Counter({2: 2, 3: 1})"
      ]
     },
     "metadata": {},
     "output_type": "display_data"
    }
   ],
   "source": [
    "from collections import Counter\n",
    "def sieve(n):\n",
    "    sieve = [1 for _ in range(n + 1)]\n",
    "    primes = []\n",
    "    for i in range(2, n + 1):\n",
    "        if sieve[i]:\n",
    "            primes.append(i)\n",
    "            for q in range(2 * i, n + 1, i):\n",
    "                sieve[q] = 0\n",
    "    return primes\n",
    "primes = sieve(100)\n",
    "def get_pfs(n):\n",
    "    cnt = Counter()\n",
    "    for p in primes:\n",
    "        while n % p == 0:\n",
    "            n //= p\n",
    "            cnt[p] += 1\n",
    "    return cnt\n",
    "get_pfs(12)\n",
    "from tqdm.notebook import trange\n",
    "from collections import Counter\n",
    "def ans(N):\n",
    "    pfc = Counter()\n",
    "    print(\"Getting sivee\")\n",
    "    primes = sieve(N)\n",
    "    print(\"getting Counts\")\n",
    "    for p in primes:\n",
    "        k = 1\n",
    "        pc = 0\n",
    "        while p**k <= N:\n",
    "            pc += N // p**k\n",
    "            k += 1\n",
    "        pfc[p] = pc\n",
    "    T = 0\n",
    "    mod = int(1e9 + 7)\n",
    "    sqc = 0\n",
    "    for sqc in trange(1, max(pfc.values()) + 1):\n",
    "        t_c = Counter()\n",
    "        to_rm = set()\n",
    "        for e in pfc:\n",
    "            if pfc[e] // sqc:\n",
    "                t_c[e] = pfc[e] // sqc\n",
    "            else:\n",
    "                to_rm.add(e)\n",
    "        for e in to_rm:\n",
    "            del pfc[e]\n",
    "        cc = 1\n",
    "        if len(t_c) == 0:\n",
    "            continue\n",
    "        for e in t_c.values():\n",
    "            cc *= (e + 1)\n",
    "            cc %= mod\n",
    "        cc -= 1\n",
    "        T += cc\n",
    "    return T % mod\n",
    "ans(10_000_000)"
   ]
  }
 ],
 "metadata": {
  "kernelspec": {
   "display_name": "Python 3",
   "language": "python",
   "name": "python3"
  },
  "language_info": {
   "codemirror_mode": {
    "name": "ipython",
    "version": 3
   },
   "file_extension": ".py",
   "mimetype": "text/x-python",
   "name": "python",
   "nbconvert_exporter": "python",
   "pygments_lexer": "ipython3",
   "version": "3.9.6"
  }
 },
 "nbformat": 4,
 "nbformat_minor": 2
}
