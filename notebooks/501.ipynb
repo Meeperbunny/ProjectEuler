{
 "cells": [
  {
   "cell_type": "code",
   "execution_count": 8,
   "metadata": {},
   "outputs": [],
   "source": [
    "from sympy import divisor_count, primepi as pi"
   ]
  },
  {
   "cell_type": "code",
   "execution_count": 9,
   "metadata": {},
   "outputs": [],
   "source": [
    "from utils.sieve import sieve"
   ]
  },
  {
   "cell_type": "code",
   "execution_count": 10,
   "metadata": {},
   "outputs": [
    {
     "data": {
      "text/latex": [
       "$\\displaystyle 8$"
      ],
      "text/plain": [
       "8"
      ]
     },
     "execution_count": 10,
     "metadata": {},
     "output_type": "execute_result"
    }
   ],
   "source": [
    "divisor_count(2**7)"
   ]
  },
  {
   "cell_type": "code",
   "execution_count": 13,
   "metadata": {},
   "outputs": [
    {
     "data": {
      "text/plain": [
       "78498"
      ]
     },
     "execution_count": 13,
     "metadata": {},
     "output_type": "execute_result"
    }
   ],
   "source": [
    "primes = sieve(10**6)\n",
    "len(primes)"
   ]
  },
  {
   "cell_type": "code",
   "execution_count": null,
   "metadata": {},
   "outputs": [],
   "source": [
    "# Eights idvs = 8, 4 * 2, 2 * 2 * 2\n",
    "\"\"\"\n",
    "p^7 \n",
    "p^3 * p\n",
    "p * p * p\n",
    "\"\"\""
   ]
  },
  {
   "cell_type": "code",
   "execution_count": 19,
   "metadata": {},
   "outputs": [],
   "source": [
    "from bisect import bisect_left"
   ]
  },
  {
   "cell_type": "code",
   "execution_count": 26,
   "metadata": {},
   "outputs": [
    {
     "data": {
      "text/plain": [
       "(5, 13)"
      ]
     },
     "execution_count": 26,
     "metadata": {},
     "output_type": "execute_result"
    }
   ],
   "source": [
    "bisect_left(primes, 12), primes[5]"
   ]
  },
  {
   "cell_type": "code",
   "execution_count": null,
   "metadata": {},
   "outputs": [],
   "source": [
    "from tqdm import tqdm"
   ]
  },
  {
   "cell_type": "code",
   "execution_count": 47,
   "metadata": {},
   "outputs": [],
   "source": [
    "def pi(n):\n",
    "    r = int(n ** 0.5)\n",
    "    assert r * r <= n and (r + 1) ** 2 > n\n",
    "    V = [n // i for i in range(1, r + 1)]\n",
    "    V += list(range(V[-1] - 1, 0, -1))\n",
    "    D = {v: v - 1 for v in V}\n",
    "    for p in range(2, r + 1):\n",
    "        if D[p] > D[p - 1]:\n",
    "            for v in V:\n",
    "                if v < p * p:\n",
    "                    break\n",
    "                D[v] -= D[v // p] - D[p - 1]\n",
    "    return D"
   ]
  },
  {
   "cell_type": "code",
   "execution_count": null,
   "metadata": {},
   "outputs": [
    {
     "data": {
      "application/vnd.jupyter.widget-view+json": {
       "model_id": "56e80fb70c554295846f06672144f091",
       "version_major": 2,
       "version_minor": 0
      },
      "text/plain": [
       "  0%|          | 0/78498 [00:00<?, ?it/s]"
      ]
     },
     "metadata": {},
     "output_type": "display_data"
    }
   ],
   "source": [
    "N = 10**6\n",
    "D = pi(N)\n",
    "# p^7\n",
    "T = 0\n",
    "for p in tqdm(primes):\n",
    "    if p**7 < N:\n",
    "        T += 1\n",
    "    else:\n",
    "        break\n",
    "for i, p in tqdm(enumerate(primes)):\n",
    "    bp = p**3\n",
    "    if bp > N:\n",
    "        break\n",
    "    # Find the number of primes that this is good for. If our prime is in it, subtract 1.\n",
    "    goodprimes = D[N // bp]\n",
    "    if goodprimes > i:\n",
    "        goodprimes -= 1\n",
    "    # print(\"G\", p, N // bp, goodprimes)\n",
    "    T += goodprimes\n",
    "\n",
    "for i, p1 in tqdm(enumerate(primes)):\n",
    "    for q, p2 in enumerate(primes[i+1:]):\n",
    "        num = p1 * p2\n",
    "        d = N // num\n",
    "        if d <= p2:\n",
    "            break\n",
    "        # if  pi(d) - (i + q + 2):\n",
    "        #     print(p1, p2, d, pi(d), (q + 1), pi(d) - (i + q + 2))\n",
    "        T += D[d] - (i + q + 2)\n",
    "print(T)"
   ]
  },
  {
   "cell_type": "code",
   "execution_count": null,
   "metadata": {},
   "outputs": [
    {
     "data": {
      "application/vnd.jupyter.widget-view+json": {
       "model_id": "0b24f83a08e94613bdea64d0864bb4fb",
       "version_major": 2,
       "version_minor": 0
      },
      "text/plain": [
       "0it [00:00, ?it/s]"
      ]
     },
     "metadata": {},
     "output_type": "display_data"
    },
    {
     "data": {
      "application/vnd.jupyter.widget-view+json": {
       "model_id": "fce5faaa61a644bf81dd9c6d39acec36",
       "version_major": 2,
       "version_minor": 0
      },
      "text/plain": [
       "0it [00:00, ?it/s]"
      ]
     },
     "metadata": {},
     "output_type": "display_data"
    },
    {
     "data": {
      "text/plain": [
       "224427"
      ]
     },
     "execution_count": 51,
     "metadata": {},
     "output_type": "execute_result"
    }
   ],
   "source": []
  },
  {
   "cell_type": "code",
   "execution_count": null,
   "metadata": {},
   "outputs": [],
   "source": [
    "from utils.sieve import sieve\n",
    "primes = sieve(10**6)\n",
    "from tqdm import tqdm\n",
    "def pi(n):\n",
    "    r = int(n ** 0.5)\n",
    "    assert r * r <= n and (r + 1) ** 2 > n\n",
    "    V = [n // i for i in range(1, r + 1)]\n",
    "    V += list(range(V[-1] - 1, 0, -1))\n",
    "    D = {v: v - 1 for v in V}\n",
    "    for p in range(2, r + 1):\n",
    "        if D[p] > D[p - 1]:\n",
    "            for v in V:\n",
    "                if v < p * p:\n",
    "                    break\n",
    "                D[v] -= D[v // p] - D[p - 1]\n",
    "    return D\n",
    "N = 10**6\n",
    "D = pi(N)\n",
    "# p^7\n",
    "T = 0\n",
    "for p in tqdm(primes):\n",
    "    if p**7 < N:\n",
    "        T += 1\n",
    "    else:\n",
    "        break\n",
    "for i, p in tqdm(enumerate(primes)):\n",
    "    bp = p**3\n",
    "    if bp > N:\n",
    "        break\n",
    "    # Find the number of primes that this is good for. If our prime is in it, subtract 1.\n",
    "    goodprimes = D[N // bp]\n",
    "    if goodprimes > i:\n",
    "        goodprimes -= 1\n",
    "    # print(\"G\", p, N // bp, goodprimes)\n",
    "    T += goodprimes\n",
    "\n",
    "for i, p1 in tqdm(enumerate(primes)):\n",
    "    for q, p2 in enumerate(primes[i+1:]):\n",
    "        num = p1 * p2\n",
    "        d = N // num\n",
    "        if d <= p2:\n",
    "            break\n",
    "        # if  pi(d) - (i + q + 2):\n",
    "        #     print(p1, p2, d, pi(d), (q + 1), pi(d) - (i + q + 2))\n",
    "        T += D[d] - (i + q + 2)\n",
    "print(T)"
   ]
  }
 ],
 "metadata": {
  "kernelspec": {
   "display_name": "Python 3",
   "language": "python",
   "name": "python3"
  },
  "language_info": {
   "codemirror_mode": {
    "name": "ipython",
    "version": 3
   },
   "file_extension": ".py",
   "mimetype": "text/x-python",
   "name": "python",
   "nbconvert_exporter": "python",
   "pygments_lexer": "ipython3",
   "version": "3.9.6"
  }
 },
 "nbformat": 4,
 "nbformat_minor": 2
}
