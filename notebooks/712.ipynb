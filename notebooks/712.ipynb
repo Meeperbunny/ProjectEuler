{
 "cells": [
  {
   "cell_type": "code",
   "execution_count": null,
   "metadata": {},
   "outputs": [],
   "source": [
    "def sieve(n):\n",
    "    s = [1 for _ in range(n + 1)]\n",
    "    primes = []\n",
    "    for q in range(2, n + 1):\n",
    "        if s[q]:\n",
    "            primes.append(q)\n",
    "            for i in range(2 * q, n + 1, q):\n",
    "                s[i] = 0\n",
    "    return primes\n",
    "primes = sieve(10**6)"
   ]
  },
  {
   "cell_type": "code",
   "execution_count": 4,
   "metadata": {},
   "outputs": [],
   "source": [
    "def v(n, p):\n",
    "    ma = 0\n",
    "    for k in range(0, n):\n",
    "        if n % p**k == 0:\n",
    "            ma = k + 1\n",
    "        else:\n",
    "            return ma"
   ]
  },
  {
   "cell_type": "code",
   "execution_count": 6,
   "metadata": {},
   "outputs": [],
   "source": [
    "def D(n, m):\n",
    "    t = 0\n",
    "    for p in primes:\n",
    "        t += abs(v(n, p) - v(m, p))\n",
    "    return t"
   ]
  },
  {
   "cell_type": "code",
   "execution_count": 7,
   "metadata": {},
   "outputs": [
    {
     "data": {
      "text/plain": [
       "4"
      ]
     },
     "execution_count": 7,
     "metadata": {},
     "output_type": "execute_result"
    }
   ],
   "source": [
    "D(14, 24)"
   ]
  },
  {
   "cell_type": "code",
   "execution_count": null,
   "metadata": {},
   "outputs": [],
   "source": [
    "def cnts(N, p):\n",
    "    k = 0\n",
    "    c = []\n",
    "    while p**k <= N:\n",
    "        c.append(N // (p**k))\n",
    "        k += 1\n",
    "    rt = 0\n",
    "    for i in range(0, len(c)):\n",
    "        c[len(c) - i - 1] -= rt\n",
    "        rt += c[len(c) - i - 1]\n",
    "    return c"
   ]
  },
  {
   "cell_type": "code",
   "execution_count": 25,
   "metadata": {},
   "outputs": [
    {
     "data": {
      "text/plain": [
       "[5, 3, 1, 1]"
      ]
     },
     "execution_count": 25,
     "metadata": {},
     "output_type": "execute_result"
    }
   ],
   "source": [
    "cnts(10, 2)"
   ]
  },
  {
   "cell_type": "code",
   "execution_count": 26,
   "metadata": {},
   "outputs": [
    {
     "data": {
      "text/plain": [
       "100"
      ]
     },
     "execution_count": 26,
     "metadata": {},
     "output_type": "execute_result"
    }
   ],
   "source": [
    "15 + 3 + 6 + 15 + 10 + 15 + 10 + 3 + 1 + 1 + 6 + 15"
   ]
  },
  {
   "cell_type": "code",
   "execution_count": 100,
   "metadata": {},
   "outputs": [],
   "source": [
    "from functools import cache"
   ]
  },
  {
   "cell_type": "code",
   "execution_count": null,
   "metadata": {},
   "outputs": [],
   "source": [
    "@cache\n",
    "def pi(n):\n",
    "    r = int(n ** 0.5)\n",
    "    assert r * r <= n and (r + 1) ** 2 > n\n",
    "    V = [n // i for i in range(1, r + 1)]\n",
    "    V += list(range(V[-1] - 1, 0, -1))\n",
    "    D = {v: v - 1 for v in V}\n",
    "    for p in range(2, r + 1):\n",
    "        if D[p] > D[p - 1]:  # this indicates that p is prime\n",
    "            # For each v in V with v >= p*p, update D[v]\n",
    "            for v in V:\n",
    "                if v < p * p:\n",
    "                    break\n",
    "                D[v] -= D[v // p] - D[p - 1]\n",
    "    return D[n]"
   ]
  },
  {
   "cell_type": "code",
   "execution_count": 97,
   "metadata": {},
   "outputs": [],
   "source": [
    "N = 10**12\n",
    "r = int(N ** 0.5)\n",
    "V = [N // i for i in range(1, r + 1)]\n"
   ]
  },
  {
   "cell_type": "code",
   "execution_count": 87,
   "metadata": {},
   "outputs": [],
   "source": [
    "from tqdm import *"
   ]
  },
  {
   "cell_type": "code",
   "execution_count": 117,
   "metadata": {},
   "outputs": [],
   "source": [
    "pset = set(primes)"
   ]
  },
  {
   "cell_type": "code",
   "execution_count": null,
   "metadata": {},
   "outputs": [],
   "source": [
    "@cache\n",
    "def S(v, p):\n",
    "    if p <= 1:\n",
    "        return v - 1\n",
    "    if p not in pset:\n",
    "        return S(v, p - 1)\n",
    "    if p * p > v:\n",
    "        return S(v, p - 1)\n",
    "    return S(v, p - 1) - (S(v // p, p - 1) - S(p - 1, p - 1))\n",
    "def PI(N):\n",
    "    return S(N, int(N**0.5))"
   ]
  },
  {
   "cell_type": "code",
   "execution_count": 176,
   "metadata": {},
   "outputs": [
    {
     "data": {
      "text/plain": [
       "(77779, -30641)"
      ]
     },
     "execution_count": 176,
     "metadata": {},
     "output_type": "execute_result"
    }
   ],
   "source": [
    "K = 990020\n",
    "pi(K), PI(K)"
   ]
  },
  {
   "cell_type": "code",
   "execution_count": null,
   "metadata": {},
   "outputs": [
    {
     "data": {
      "text/plain": [
       "168"
      ]
     },
     "execution_count": 132,
     "metadata": {},
     "output_type": "execute_result"
    }
   ],
   "source": []
  },
  {
   "cell_type": "code",
   "execution_count": 183,
   "metadata": {},
   "outputs": [
    {
     "name": "stderr",
     "output_type": "stream",
     "text": [
      "100%|██████████| 999999/999999 [01:54<00:00, 8748.59it/s]   \n",
      "100%|██████████| 78498/78498 [00:00<00:00, 481474.05it/s]\n",
      "100%|██████████| 999999/999999 [00:00<00:00, 1697401.63it/s]\n"
     ]
    },
    {
     "data": {
      "text/plain": [
       "7571791796889109621082430"
      ]
     },
     "execution_count": 183,
     "metadata": {},
     "output_type": "execute_result"
    }
   ],
   "source": [
    "N = 10**12\n",
    "A = 0\n",
    "r = int(N ** 0.5)\n",
    "assert r * r <= N and (r + 1) ** 2 > N\n",
    "V = [N // i for i in range(1, r + 1)]\n",
    "V += list(range(V[-1] - 1, 0, -1))\n",
    "D = {v: v - 1 for v in V}\n",
    "for p in tqdm(range(2, r + 1)):\n",
    "    if D[p] > D[p - 1]:  # this indicates that p is prime\n",
    "        # For each v in V with v >= p*p, update D[v]\n",
    "        for v in V:\n",
    "            if v < p * p:\n",
    "                break\n",
    "            D[v] -= D[v // p] - D[p - 1]\n",
    "for p in tqdm(primes):\n",
    "    if p * p >= N:\n",
    "        break\n",
    "    else:\n",
    "        T = 0\n",
    "        c = cnts(N, p)\n",
    "        l = 0\n",
    "        lt = 0\n",
    "        for i, e in enumerate(c):\n",
    "            T += e * lt\n",
    "            l += e\n",
    "            lt += l\n",
    "        T *= 2\n",
    "        # print(\"PRime\", p, \"is adding\", T)\n",
    "        A += T\n",
    "for i in tqdm(range(int(N**0.5-1), 0, -1)):\n",
    "    lower = (N + 1 + i) // (i + 1)\n",
    "    upper = (N) // (i)\n",
    "    if upper < lower:\n",
    "        continue\n",
    "    # print(\"IUL\", i, upper, lower)\n",
    "    to_add = (N - i) * i\n",
    "    cnt = D[upper] - D[lower - 1]\n",
    "    # print(upper, lower - 1)\n",
    "    # print(\"CC\", cnt, to_add, cnt * to_add)\n",
    "    A += 2 * cnt * to_add\n",
    "A"
   ]
  },
  {
   "cell_type": "code",
   "execution_count": null,
   "metadata": {},
   "outputs": [],
   "source": [
    "# PRime 2 is adding 100\n",
    "# PRime 3 is adding 60\n",
    "# PRime 5 is adding 32\n",
    "# PRime 7 is adding 18"
   ]
  },
  {
   "cell_type": "code",
   "execution_count": null,
   "metadata": {},
   "outputs": [],
   "source": []
  },
  {
   "cell_type": "code",
   "execution_count": null,
   "metadata": {},
   "outputs": [],
   "source": []
  },
  {
   "cell_type": "code",
   "execution_count": null,
   "metadata": {},
   "outputs": [],
   "source": []
  },
  {
   "cell_type": "code",
   "execution_count": 101,
   "metadata": {},
   "outputs": [
    {
     "name": "stderr",
     "output_type": "stream",
     "text": [
      "100%|██████████| 78498/78498 [00:00<00:00, 503078.84it/s]\n",
      "  0%|          | 753/999999 [00:02<52:14, 318.78it/s]\n"
     ]
    },
    {
     "ename": "KeyboardInterrupt",
     "evalue": "",
     "output_type": "error",
     "traceback": [
      "\u001b[1;31m---------------------------------------------------------------------------\u001b[0m",
      "\u001b[1;31mKeyboardInterrupt\u001b[0m                         Traceback (most recent call last)",
      "Cell \u001b[1;32mIn[101], line 46\u001b[0m\n\u001b[0;32m     44\u001b[0m \u001b[38;5;66;03m# print(\"IUL\", i, upper, lower)\u001b[39;00m\n\u001b[0;32m     45\u001b[0m to_add \u001b[38;5;241m=\u001b[39m (N \u001b[38;5;241m-\u001b[39m i) \u001b[38;5;241m*\u001b[39m i\n\u001b[1;32m---> 46\u001b[0m cnt \u001b[38;5;241m=\u001b[39m \u001b[43mpi\u001b[49m\u001b[43m(\u001b[49m\u001b[43mupper\u001b[49m\u001b[43m)\u001b[49m \u001b[38;5;241m-\u001b[39m pi(lower \u001b[38;5;241m-\u001b[39m \u001b[38;5;241m1\u001b[39m)\n\u001b[0;32m     47\u001b[0m \u001b[38;5;66;03m# print(upper, lower - 1)\u001b[39;00m\n\u001b[0;32m     48\u001b[0m \u001b[38;5;66;03m# print(\"CC\", cnt, to_add, cnt * to_add)\u001b[39;00m\n\u001b[0;32m     49\u001b[0m A \u001b[38;5;241m+\u001b[39m\u001b[38;5;241m=\u001b[39m \u001b[38;5;241m2\u001b[39m \u001b[38;5;241m*\u001b[39m cnt \u001b[38;5;241m*\u001b[39m to_add\n",
      "Cell \u001b[1;32mIn[101], line 15\u001b[0m, in \u001b[0;36mpi\u001b[1;34m(n)\u001b[0m\n\u001b[0;32m     13\u001b[0m             \u001b[38;5;28;01mif\u001b[39;00m v \u001b[38;5;241m<\u001b[39m p \u001b[38;5;241m*\u001b[39m p:\n\u001b[0;32m     14\u001b[0m                 \u001b[38;5;28;01mbreak\u001b[39;00m\n\u001b[1;32m---> 15\u001b[0m             D[v] \u001b[38;5;241m-\u001b[39m\u001b[38;5;241m=\u001b[39m D[v \u001b[38;5;241m/\u001b[39m\u001b[38;5;241m/\u001b[39m p] \u001b[38;5;241m-\u001b[39m D[p \u001b[38;5;241m-\u001b[39m \u001b[38;5;241m1\u001b[39m]\n\u001b[0;32m     16\u001b[0m \u001b[38;5;28;01mreturn\u001b[39;00m D[n]\n",
      "\u001b[1;31mKeyboardInterrupt\u001b[0m: "
     ]
    }
   ],
   "source": [
    "from functools import cache\n",
    "@cache\n",
    "def pi(n):\n",
    "    r = int(n ** 0.5)\n",
    "    assert r * r <= n and (r + 1) ** 2 > n\n",
    "    V = [n // i for i in range(1, r + 1)]\n",
    "    V += list(range(V[-1] - 1, 0, -1))\n",
    "    D = {v: v - 1 for v in V}\n",
    "    for p in range(2, r + 1):\n",
    "        if D[p] > D[p - 1]:  # this indicates that p is prime\n",
    "            # For each v in V with v >= p*p, update D[v]\n",
    "            for v in V:\n",
    "                if v < p * p:\n",
    "                    break\n",
    "                D[v] -= D[v // p] - D[p - 1]\n",
    "    return D[n]\n",
    "N = 10**12\n",
    "r = int(N ** 0.5)\n",
    "V = [N // i for i in range(1, r + 1)]\n",
    "\n",
    "from tqdm import *\n",
    "N = 10**12\n",
    "A = 0\n",
    "for p in tqdm(primes):\n",
    "    if p * p >= N:\n",
    "        break\n",
    "    else:\n",
    "        T = 0\n",
    "        c = cnts(N, p)\n",
    "        l = 0\n",
    "        lt = 0\n",
    "        for i, e in enumerate(c):\n",
    "            T += e * lt\n",
    "            l += e\n",
    "            lt += l\n",
    "        T *= 2\n",
    "        # print(\"PRime\", p, \"is adding\", T)\n",
    "        A += T\n",
    "for i in tqdm(range(int(N**0.5-1), 0, -1)):\n",
    "    lower = (N + 1 + i) // (i + 1)\n",
    "    upper = (N) // (i)\n",
    "    if upper < lower:\n",
    "        continue\n",
    "    # print(\"IUL\", i, upper, lower)\n",
    "    to_add = (N - i) * i\n",
    "    cnt = pi(upper) - pi(lower - 1)\n",
    "    # print(upper, lower - 1)\n",
    "    # print(\"CC\", cnt, to_add, cnt * to_add)\n",
    "    A += 2 * cnt * to_add\n",
    "A"
   ]
  }
 ],
 "metadata": {
  "kernelspec": {
   "display_name": "Python 3",
   "language": "python",
   "name": "python3"
  },
  "language_info": {
   "codemirror_mode": {
    "name": "ipython",
    "version": 3
   },
   "file_extension": ".py",
   "mimetype": "text/x-python",
   "name": "python",
   "nbconvert_exporter": "python",
   "pygments_lexer": "ipython3",
   "version": "3.12.4"
  }
 },
 "nbformat": 4,
 "nbformat_minor": 2
}
