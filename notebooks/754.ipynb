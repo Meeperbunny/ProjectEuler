{
 "cells": [
  {
   "cell_type": "code",
   "execution_count": 3,
   "metadata": {},
   "outputs": [],
   "source": [
    "def cnt_rel(n, p):\n",
    "    return n - n // p"
   ]
  },
  {
   "cell_type": "code",
   "execution_count": 4,
   "metadata": {},
   "outputs": [
    {
     "data": {
      "text/plain": [
       "12"
      ]
     },
     "execution_count": 4,
     "metadata": {},
     "output_type": "execute_result"
    }
   ],
   "source": [
    "cnt_rel(18, 3)"
   ]
  },
  {
   "cell_type": "code",
   "execution_count": null,
   "metadata": {},
   "outputs": [],
   "source": [
    "maxn = 10**8+1\n",
    "maxn = 9+1\n"
   ]
  },
  {
   "cell_type": "code",
   "execution_count": 241,
   "metadata": {},
   "outputs": [],
   "source": [
    "def tri(n):\n",
    "    return (n * n + n) // 2"
   ]
  },
  {
   "cell_type": "code",
   "execution_count": 306,
   "metadata": {},
   "outputs": [],
   "source": [
    "def ans(N, mod):\n",
    "    nums = [i for i in range(N + 1)]\n",
    "    g_mult = 1\n",
    "    for n in range(2, N + 1):\n",
    "        if nums[n] != 0:\n",
    "            # Is prime and hasn't been done yet\n",
    "            k = n\n",
    "            c = 1\n",
    "            while k <= N:\n",
    "                for q in range(k, N + 1, n):\n",
    "                    t = q // k\n",
    "                    g_mult = (g_mult * pow(n, t, mod)) % mod\n",
    "                    print(n, t)\n",
    "                    nums[q] = 0\n",
    "                k *= n\n",
    "    t_mult = 1\n",
    "    for i in range(1, N + 1):\n",
    "        mm = N - i + 1\n",
    "        t_mult = (t_mult * pow(i, mm, mod)) % mod\n",
    "    print(t_mult)\n",
    "    return (t_mult // g_mult)\n",
    "    # return (t_mult * pow(g_mult, -1, mod)) % mod"
   ]
  },
  {
   "cell_type": "code",
   "execution_count": 304,
   "metadata": {},
   "outputs": [
    {
     "data": {
      "text/plain": [
       "6"
      ]
     },
     "execution_count": 304,
     "metadata": {},
     "output_type": "execute_result"
    }
   ],
   "source": [
    "(1 * 2 * 3 * 4 * 1 * 2 * 3 * 1 * 2 * 1) // (1 * 2 * 3 * 2 * 4)"
   ]
  },
  {
   "cell_type": "code",
   "execution_count": 334,
   "metadata": {},
   "outputs": [
    {
     "data": {
      "text/plain": [
       "315"
      ]
     },
     "execution_count": 334,
     "metadata": {},
     "output_type": "execute_result"
    }
   ],
   "source": [
    "163296000//518400"
   ]
  },
  {
   "cell_type": "code",
   "execution_count": null,
   "metadata": {},
   "outputs": [],
   "source": [
    "2 4 6 8"
   ]
  },
  {
   "cell_type": "code",
   "execution_count": 333,
   "metadata": {},
   "outputs": [
    {
     "name": "stdout",
     "output_type": "stream",
     "text": [
      "2 1\n",
      "2 2\n",
      "2 3\n",
      "2 4\n",
      "2 1\n",
      "2 1\n",
      "2 2\n",
      "2 1\n",
      "3 1\n",
      "3 2\n",
      "5 1\n",
      "7 1\n",
      "5056584744960000\n"
     ]
    },
    {
     "data": {
      "text/plain": [
       "163296000"
      ]
     },
     "execution_count": 333,
     "metadata": {},
     "output_type": "execute_result"
    }
   ],
   "source": [
    "ans(8, 10**100)"
   ]
  },
  {
   "cell_type": "code",
   "execution_count": 331,
   "metadata": {},
   "outputs": [
    {
     "data": {
      "text/plain": [
       "54432000"
      ]
     },
     "execution_count": 331,
     "metadata": {},
     "output_type": "execute_result"
    }
   ],
   "source": [
    "from math import gcd\n",
    "def A(n):\n",
    "    t = 1\n",
    "    for i in range(1, n + 1):\n",
    "        for q in range(1, i + 1):\n",
    "            if gcd(i, q) == 1:\n",
    "                t *= q\n",
    "    return t\n",
    "A(8)"
   ]
  },
  {
   "cell_type": "code",
   "execution_count": null,
   "metadata": {},
   "outputs": [
    {
     "ename": "SyntaxError",
     "evalue": "invalid syntax (707013093.py, line 1)",
     "output_type": "error",
     "traceback": [
      "\u001b[1;36m  Cell \u001b[1;32mIn[301], line 1\u001b[1;36m\u001b[0m\n\u001b[1;33m    1 [2] 3 [4] 5 [6] 7 [8]\\\u001b[0m\n\u001b[1;37m          ^\u001b[0m\n\u001b[1;31mSyntaxError\u001b[0m\u001b[1;31m:\u001b[0m invalid syntax\n"
     ]
    }
   ],
   "source": [
    "1 [2] 3 [4] 5 [6] 7 [8]\\\n",
    "1 2 3 4 5 6 [7]\\\n",
    "1 [2] [3] [4] 5 [6]\\\n",
    "1 2 3 4 [5]\\\n",
    "1 [2] 3 [4]\\\n",
    "1 2 [3]\\\n",
    "1 [2]\\\n",
    "1\\"
   ]
  },
  {
   "cell_type": "code",
   "execution_count": 211,
   "metadata": {},
   "outputs": [
    {
     "data": {
      "text/plain": [
       "157"
      ]
     },
     "execution_count": 211,
     "metadata": {},
     "output_type": "execute_result"
    }
   ],
   "source": [
    "163296000 // 1036800"
   ]
  },
  {
   "cell_type": "code",
   "execution_count": 178,
   "metadata": {},
   "outputs": [
    {
     "data": {
      "text/plain": [
       "13440"
      ]
     },
     "execution_count": 178,
     "metadata": {},
     "output_type": "execute_result"
    }
   ],
   "source": [
    "731566080000 // 54432000"
   ]
  },
  {
   "cell_type": "code",
   "execution_count": 157,
   "metadata": {},
   "outputs": [],
   "source": [
    "mod = int(1e9+7)\n",
    "mod = 10**1000\n",
    "g_mult = 1\n",
    "for n in range(2, maxn):\n",
    "    if n != 0:\n",
    "        # Is prime and hasn't been done yet\n",
    "        pr = (maxn-1) // n\n",
    "        for q in range(n, maxn, n):\n",
    "            if nums[q] != 0:\n",
    "                print(n, q, pr)\n",
    "                po = pow(q, pr)#, mod)\n",
    "                g_mult = (g_mult * po)#  % mod\n",
    "                nums[q] = 0\n",
    "            pr -= 1 "
   ]
  },
  {
   "cell_type": "code",
   "execution_count": null,
   "metadata": {},
   "outputs": [],
   "source": [
    "t_mult = 1\n",
    "for i in range(1, maxn):\n",
    "    mm = maxn - i\n",
    "    t_mult = (t_mult * pow(i, mm, mod)) % mod"
   ]
  },
  {
   "cell_type": "code",
   "execution_count": 146,
   "metadata": {},
   "outputs": [
    {
     "data": {
      "text/plain": [
       "731566080000"
      ]
     },
     "execution_count": 146,
     "metadata": {},
     "output_type": "execute_result"
    }
   ],
   "source": [
    "t_mult // g_mult\n",
    "# (t_mult * pow(g_mult, -1, mod)) % mod"
   ]
  },
  {
   "cell_type": "code",
   "execution_count": null,
   "metadata": {},
   "outputs": [],
   "source": [
    "731566080000/"
   ]
  },
  {
   "cell_type": "code",
   "execution_count": null,
   "metadata": {},
   "outputs": [],
   "source": []
  }
 ],
 "metadata": {
  "kernelspec": {
   "display_name": "Python 3",
   "language": "python",
   "name": "python3"
  },
  "language_info": {
   "codemirror_mode": {
    "name": "ipython",
    "version": 3
   },
   "file_extension": ".py",
   "mimetype": "text/x-python",
   "name": "python",
   "nbconvert_exporter": "python",
   "pygments_lexer": "ipython3",
   "version": "3.12.4"
  }
 },
 "nbformat": 4,
 "nbformat_minor": 2
}
