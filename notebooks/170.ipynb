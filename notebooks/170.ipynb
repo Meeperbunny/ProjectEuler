{
 "cells": [
  {
   "cell_type": "code",
   "execution_count": 1,
   "metadata": {},
   "outputs": [],
   "source": [
    "from itertools import permutations"
   ]
  },
  {
   "cell_type": "code",
   "execution_count": 2,
   "metadata": {},
   "outputs": [],
   "source": [
    "nums = [[] for _ in range(100)]"
   ]
  },
  {
   "cell_type": "code",
   "execution_count": 3,
   "metadata": {},
   "outputs": [],
   "source": [
    "from tqdm import tqdm"
   ]
  },
  {
   "cell_type": "code",
   "execution_count": 4,
   "metadata": {},
   "outputs": [
    {
     "name": "stderr",
     "output_type": "stream",
     "text": [
      "100%|██████████| 1022/1022 [00:37<00:00, 27.29it/s] \n"
     ]
    }
   ],
   "source": [
    "for i in tqdm(range(1, 2**10 - 1)):\n",
    "    s = []\n",
    "    for q in range(10):\n",
    "        if (i >> q) & 1:\n",
    "            s.append(q)\n",
    "    for p in permutations(s):\n",
    "        if p[0] == 0:\n",
    "            continue\n",
    "        num = int(\"\".join([str(e) for e in p]))\n",
    "        # Try to divide it by 0 through k\n",
    "        for div in range(1, 100):\n",
    "            if num % div == 0:\n",
    "                nums[div].append((num // div, i))"
   ]
  },
  {
   "cell_type": "code",
   "execution_count": 5,
   "metadata": {},
   "outputs": [
    {
     "data": {
      "text/plain": [
       "'0b1011110'"
      ]
     },
     "execution_count": 5,
     "metadata": {},
     "output_type": "execute_result"
    }
   ],
   "source": [
    "def num_to_bitmask(n):\n",
    "    m = 0\n",
    "    for c in str(n):\n",
    "        m |= (1 << int(c))\n",
    "    return m\n",
    "bin(num_to_bitmask(12346))"
   ]
  },
  {
   "cell_type": "code",
   "execution_count": 6,
   "metadata": {},
   "outputs": [],
   "source": [
    "maxes = None"
   ]
  },
  {
   "cell_type": "code",
   "execution_count": null,
   "metadata": {},
   "outputs": [],
   "source": [
    "for k in range(9, 1, -1):\n",
    "    print(k)\n",
    "    maxes = [set() for _ in range(0, 2**10)]\n",
    "    for e in nums[k]:\n",
    "        maxes[e[1]].add(tuple([e[0]]))\n",
    "    # Combine masks and create some max num given the masks.\n",
    "    mask = (2**10 - 1)\n",
    "    for i in tqdm(range(1, 2**10)):\n",
    "        for q in range(1, 2**10):\n",
    "            if ((q & i) == q) and q != i:\n",
    "                j = i ^ q\n",
    "                # Combine elements in j and q\n",
    "                for s_j in maxes[j]:\n",
    "                    for s_q in maxes[q]:\n",
    "                        combined = tuple(sorted(list(s_j) + list(s_q)))\n",
    "                        cnts = [0 for _ in range(10)]\n",
    "                        w = True\n",
    "                        for e in combined:\n",
    "                            for c in str(e):\n",
    "                                cnts[int(c)] += 1\n",
    "                                if cnts[int(c)] > 1:\n",
    "                                    w = False\n",
    "                                    break\n",
    "                            if not w:\n",
    "                                break\n",
    "                        if w:\n",
    "                            maxes[i].add(combined)\n",
    "    best = 0\n",
    "    for combine in tqdm(maxes[mask]):\n",
    "        # Check that elements are pandigital\n",
    "        cnts = [0 for _ in range(10)]\n",
    "        for c in str(k):\n",
    "            cnts[int(c)] += 1\n",
    "        w = True\n",
    "        for e in combined:\n",
    "            for c in str(e):\n",
    "                cnts[int(c)] += 1\n",
    "        if sum(cnts) == 10 and min(cnts) == 1:\n",
    "            for p in permutations(e):\n",
    "                num = int(str(k) + \"\".join([str(el) for el in p]))\n",
    "                best = max(best, num)\n",
    "                print(best)\n",
    "    print(\"BEST FOR {} IS: {}\".format(k, best))\n",
    "    if best:\n",
    "        break\n",
    "    maxes = None\n",
    "    "
   ]
  },
  {
   "cell_type": "code",
   "execution_count": 8,
   "metadata": {},
   "outputs": [
    {
     "name": "stdout",
     "output_type": "stream",
     "text": [
      "9\n"
     ]
    },
    {
     "name": "stderr",
     "output_type": "stream",
     "text": [
      "100%|██████████| 1023/1023 [00:09<00:00, 106.41it/s]\n",
      "100%|██████████| 28787/28787 [00:00<00:00, 417107.74it/s]\n"
     ]
    },
    {
     "name": "stdout",
     "output_type": "stream",
     "text": [
      "BEST FOR 9 IS: 9786105234 (26, 1087345)\n",
      "10\n"
     ]
    },
    {
     "name": "stderr",
     "output_type": "stream",
     "text": [
      "100%|██████████| 1023/1023 [00:00<00:00, 4427.59it/s]\n",
      "0it [00:00, ?it/s]\n"
     ]
    },
    {
     "name": "stdout",
     "output_type": "stream",
     "text": [
      "BEST FOR 10 IS: 0 None\n",
      "11\n"
     ]
    },
    {
     "name": "stderr",
     "output_type": "stream",
     "text": [
      "100%|██████████| 1023/1023 [00:00<00:00, 1273.69it/s]\n",
      "100%|██████████| 2175/2175 [00:00<00:00, 362411.06it/s]\n"
     ]
    },
    {
     "name": "stdout",
     "output_type": "stream",
     "text": [
      "BEST FOR 11 IS: 0 None\n",
      "12\n"
     ]
    },
    {
     "name": "stderr",
     "output_type": "stream",
     "text": [
      "100%|██████████| 1023/1023 [00:01<00:00, 671.11it/s] \n",
      "100%|██████████| 6331/6331 [00:00<00:00, 351645.24it/s]\n"
     ]
    },
    {
     "name": "stdout",
     "output_type": "stream",
     "text": [
      "BEST FOR 12 IS: 9716832540 (45, 809736)\n",
      "13\n"
     ]
    },
    {
     "name": "stderr",
     "output_type": "stream",
     "text": [
      "100%|██████████| 1023/1023 [00:00<00:00, 1196.22it/s]\n",
      "100%|██████████| 2019/2019 [00:00<00:00, 403790.76it/s]\n"
     ]
    },
    {
     "name": "stdout",
     "output_type": "stream",
     "text": [
      "BEST FOR 13 IS: 0 None\n",
      "14\n"
     ]
    },
    {
     "name": "stderr",
     "output_type": "stream",
     "text": [
      "100%|██████████| 1023/1023 [00:00<00:00, 1418.55it/s]\n",
      "100%|██████████| 1574/1574 [00:00<00:00, 393481.61it/s]\n"
     ]
    },
    {
     "name": "stdout",
     "output_type": "stream",
     "text": [
      "BEST FOR 14 IS: 0 None\n",
      "15\n"
     ]
    },
    {
     "name": "stderr",
     "output_type": "stream",
     "text": [
      "100%|██████████| 1023/1023 [00:00<00:00, 1276.87it/s]\n",
      "100%|██████████| 2672/2672 [00:00<00:00, 381637.96it/s]\n"
     ]
    },
    {
     "name": "stdout",
     "output_type": "stream",
     "text": [
      "BEST FOR 15 IS: 9724618530 (2, 6483079)\n",
      "16\n"
     ]
    },
    {
     "name": "stderr",
     "output_type": "stream",
     "text": [
      "100%|██████████| 1023/1023 [00:00<00:00, 1955.58it/s]\n",
      "100%|██████████| 925/925 [00:00<00:00, 462368.16it/s]\n"
     ]
    },
    {
     "name": "stdout",
     "output_type": "stream",
     "text": [
      "BEST FOR 16 IS: 0 None\n",
      "17\n"
     ]
    },
    {
     "name": "stderr",
     "output_type": "stream",
     "text": [
      "100%|██████████| 1023/1023 [00:00<00:00, 1963.09it/s]\n",
      "100%|██████████| 1110/1110 [00:00<00:00, 221942.01it/s]\n"
     ]
    },
    {
     "name": "stdout",
     "output_type": "stream",
     "text": [
      "BEST FOR 17 IS: 0 None\n",
      "18\n"
     ]
    },
    {
     "name": "stderr",
     "output_type": "stream",
     "text": [
      "100%|██████████| 1023/1023 [00:01<00:00, 595.67it/s]\n",
      "100%|██████████| 7769/7769 [00:00<00:00, 408806.38it/s]\n"
     ]
    },
    {
     "name": "stdout",
     "output_type": "stream",
     "text": [
      "BEST FOR 18 IS: 9847150236 (2, 5470639)\n",
      "19\n"
     ]
    },
    {
     "name": "stderr",
     "output_type": "stream",
     "text": [
      "100%|██████████| 1023/1023 [00:00<00:00, 2373.02it/s]\n",
      "100%|██████████| 810/810 [00:00<00:00, 404836.30it/s]\n"
     ]
    },
    {
     "name": "stdout",
     "output_type": "stream",
     "text": [
      "BEST FOR 19 IS: 0 None\n",
      "20\n"
     ]
    },
    {
     "name": "stderr",
     "output_type": "stream",
     "text": [
      "100%|██████████| 1023/1023 [00:00<00:00, 6198.64it/s]\n",
      "0it [00:00, ?it/s]"
     ]
    },
    {
     "name": "stdout",
     "output_type": "stream",
     "text": [
      "BEST FOR 20 IS: 0 None\n",
      "21\n"
     ]
    },
    {
     "name": "stderr",
     "output_type": "stream",
     "text": [
      "\n",
      "100%|██████████| 1023/1023 [00:00<00:00, 1676.67it/s]\n",
      "100%|██████████| 2556/2556 [00:00<00:00, 365069.84it/s]\n"
     ]
    },
    {
     "name": "stdout",
     "output_type": "stream",
     "text": [
      "BEST FOR 21 IS: 9470512863 (3, 4509768)\n",
      "22\n"
     ]
    },
    {
     "name": "stderr",
     "output_type": "stream",
     "text": [
      "100%|██████████| 1023/1023 [00:00<00:00, 3874.12it/s]\n",
      "100%|██████████| 616/616 [00:00<00:00, 307838.83it/s]\n"
     ]
    },
    {
     "name": "stdout",
     "output_type": "stream",
     "text": [
      "BEST FOR 22 IS: 0 None\n",
      "23\n"
     ]
    },
    {
     "name": "stderr",
     "output_type": "stream",
     "text": [
      "100%|██████████| 1023/1023 [00:00<00:00, 2981.85it/s]\n",
      "100%|██████████| 773/773 [00:00<00:00, 386481.94it/s]\n"
     ]
    },
    {
     "name": "stdout",
     "output_type": "stream",
     "text": [
      "BEST FOR 23 IS: 0 None\n",
      "24\n"
     ]
    },
    {
     "name": "stderr",
     "output_type": "stream",
     "text": [
      "100%|██████████| 1023/1023 [00:00<00:00, 2345.81it/s]\n",
      "100%|██████████| 1606/1606 [00:00<00:00, 321192.65it/s]\n"
     ]
    },
    {
     "name": "stdout",
     "output_type": "stream",
     "text": [
      "BEST FOR 24 IS: 9517684320 (180, 39657)\n",
      "25\n"
     ]
    },
    {
     "name": "stderr",
     "output_type": "stream",
     "text": [
      "100%|██████████| 1023/1023 [00:00<00:00, 9648.80it/s]\n",
      "0it [00:00, ?it/s]\n"
     ]
    },
    {
     "name": "stdout",
     "output_type": "stream",
     "text": [
      "BEST FOR 25 IS: 0 None\n",
      "26\n"
     ]
    },
    {
     "name": "stderr",
     "output_type": "stream",
     "text": [
      "100%|██████████| 1023/1023 [00:00<00:00, 3639.75it/s]\n",
      "100%|██████████| 494/494 [00:00<00:00, 494035.81it/s]\n"
     ]
    },
    {
     "name": "stdout",
     "output_type": "stream",
     "text": [
      "BEST FOR 26 IS: 0 None\n",
      "27\n"
     ]
    },
    {
     "name": "stderr",
     "output_type": "stream",
     "text": [
      "100%|██████████| 1023/1023 [00:00<00:00, 1193.43it/s]\n",
      "100%|██████████| 4659/4659 [00:00<00:00, 388139.32it/s]\n"
     ]
    },
    {
     "name": "stdout",
     "output_type": "stream",
     "text": [
      "BEST FOR 27 IS: 9857164023 (149, 36508)\n",
      "28\n"
     ]
    },
    {
     "name": "stderr",
     "output_type": "stream",
     "text": [
      "100%|██████████| 1023/1023 [00:00<00:00, 4446.83it/s]\n",
      "100%|██████████| 388/388 [00:00<00:00, 387750.76it/s]\n"
     ]
    },
    {
     "name": "stdout",
     "output_type": "stream",
     "text": [
      "BEST FOR 28 IS: 0 None\n",
      "29\n"
     ]
    },
    {
     "name": "stderr",
     "output_type": "stream",
     "text": [
      "100%|██████████| 1023/1023 [00:00<00:00, 4042.56it/s]\n",
      "100%|██████████| 476/476 [00:00<00:00, 475807.60it/s]\n"
     ]
    },
    {
     "name": "stdout",
     "output_type": "stream",
     "text": [
      "BEST FOR 29 IS: 0 None\n",
      "30\n"
     ]
    },
    {
     "name": "stderr",
     "output_type": "stream",
     "text": [
      "100%|██████████| 1023/1023 [00:00<00:00, 9051.10it/s]\n",
      "0it [00:00, ?it/s]\n"
     ]
    },
    {
     "name": "stdout",
     "output_type": "stream",
     "text": [
      "BEST FOR 30 IS: 0 None\n",
      "31\n"
     ]
    },
    {
     "name": "stderr",
     "output_type": "stream",
     "text": [
      "100%|██████████| 1023/1023 [00:00<00:00, 4735.07it/s]\n",
      "100%|██████████| 408/408 [00:00<00:00, 407640.79it/s]\n"
     ]
    },
    {
     "name": "stdout",
     "output_type": "stream",
     "text": [
      "BEST FOR 31 IS: 0 None\n",
      "32\n"
     ]
    },
    {
     "name": "stderr",
     "output_type": "stream",
     "text": [
      "100%|██████████| 1023/1023 [00:00<00:00, 5326.94it/s]\n",
      "100%|██████████| 323/323 [00:00<00:00, 322869.45it/s]\n"
     ]
    },
    {
     "name": "stdout",
     "output_type": "stream",
     "text": [
      "BEST FOR 32 IS: 0 None\n",
      "33\n"
     ]
    },
    {
     "name": "stderr",
     "output_type": "stream",
     "text": [
      "100%|██████████| 1023/1023 [00:00<00:00, 4670.20it/s]\n",
      "100%|██████████| 836/836 [00:00<00:00, 417930.65it/s]\n"
     ]
    },
    {
     "name": "stdout",
     "output_type": "stream",
     "text": [
      "BEST FOR 33 IS: 0 None\n",
      "34\n"
     ]
    },
    {
     "name": "stderr",
     "output_type": "stream",
     "text": [
      "100%|██████████| 1023/1023 [00:00<00:00, 5440.26it/s]\n",
      "100%|██████████| 526/526 [00:00<00:00, 525787.39it/s]\n"
     ]
    },
    {
     "name": "stdout",
     "output_type": "stream",
     "text": [
      "BEST FOR 34 IS: 0 None\n",
      "35\n"
     ]
    },
    {
     "name": "stderr",
     "output_type": "stream",
     "text": [
      "100%|██████████| 1023/1023 [00:00<00:00, 6641.37it/s]\n",
      "100%|██████████| 350/350 [00:00<00:00, 349691.85it/s]\n"
     ]
    },
    {
     "name": "stdout",
     "output_type": "stream",
     "text": [
      "BEST FOR 35 IS: 0 None\n",
      "36\n"
     ]
    },
    {
     "name": "stderr",
     "output_type": "stream",
     "text": [
      "100%|██████████| 1023/1023 [00:00<00:00, 2378.53it/s]\n",
      "100%|██████████| 2535/2535 [00:00<00:00, 362058.11it/s]\n"
     ]
    },
    {
     "name": "stdout",
     "output_type": "stream",
     "text": [
      "BEST FOR 36 IS: 9726501384 (27, 180594)\n",
      "37\n"
     ]
    },
    {
     "name": "stderr",
     "output_type": "stream",
     "text": [
      "100%|██████████| 1023/1023 [00:00<00:00, 6124.36it/s]\n",
      "100%|██████████| 265/265 [00:00<00:00, 265019.21it/s]"
     ]
    },
    {
     "name": "stdout",
     "output_type": "stream",
     "text": [
      "BEST FOR 37 IS: 0 None\n",
      "38\n"
     ]
    },
    {
     "name": "stderr",
     "output_type": "stream",
     "text": [
      "\n",
      "100%|██████████| 1023/1023 [00:00<00:00, 6352.63it/s] \n",
      "100%|██████████| 337/337 [00:00<00:00, 337346.17it/s]\n"
     ]
    },
    {
     "name": "stdout",
     "output_type": "stream",
     "text": [
      "BEST FOR 38 IS: 0 None\n",
      "39\n"
     ]
    },
    {
     "name": "stderr",
     "output_type": "stream",
     "text": [
      "100%|██████████| 1023/1023 [00:00<00:00, 4226.32it/s]\n",
      "100%|██████████| 1025/1025 [00:00<00:00, 512476.05it/s]\n"
     ]
    },
    {
     "name": "stdout",
     "output_type": "stream",
     "text": [
      "BEST FOR 39 IS: 9635184702 (18, 247056)\n",
      "40\n"
     ]
    },
    {
     "name": "stderr",
     "output_type": "stream",
     "text": [
      "100%|██████████| 1023/1023 [00:00<00:00, 10997.50it/s]\n",
      "0it [00:00, ?it/s]\n"
     ]
    },
    {
     "name": "stdout",
     "output_type": "stream",
     "text": [
      "BEST FOR 40 IS: 0 None\n",
      "41\n"
     ]
    },
    {
     "name": "stderr",
     "output_type": "stream",
     "text": [
      "100%|██████████| 1023/1023 [00:00<00:00, 6818.49it/s] \n",
      "100%|██████████| 352/352 [00:00<00:00, 351941.60it/s]\n"
     ]
    },
    {
     "name": "stdout",
     "output_type": "stream",
     "text": [
      "BEST FOR 41 IS: 0 None\n",
      "42\n"
     ]
    },
    {
     "name": "stderr",
     "output_type": "stream",
     "text": [
      "100%|██████████| 1023/1023 [00:00<00:00, 5272.00it/s] \n",
      "100%|██████████| 896/896 [00:00<00:00, 298735.80it/s]\n"
     ]
    },
    {
     "name": "stdout",
     "output_type": "stream",
     "text": [
      "BEST FOR 42 IS: 0 None\n",
      "43\n"
     ]
    },
    {
     "name": "stderr",
     "output_type": "stream",
     "text": [
      "100%|██████████| 1023/1023 [00:00<00:00, 6864.25it/s] \n",
      "100%|██████████| 280/280 [00:00<00:00, 280087.08it/s]\n"
     ]
    },
    {
     "name": "stdout",
     "output_type": "stream",
     "text": [
      "BEST FOR 43 IS: 0 None\n",
      "44\n"
     ]
    },
    {
     "name": "stderr",
     "output_type": "stream",
     "text": [
      "100%|██████████| 1023/1023 [00:00<00:00, 8594.64it/s]\n",
      "100%|██████████| 157/157 [00:00<?, ?it/s]\n"
     ]
    },
    {
     "name": "stdout",
     "output_type": "stream",
     "text": [
      "BEST FOR 44 IS: 0 None\n",
      "45\n"
     ]
    },
    {
     "name": "stderr",
     "output_type": "stream",
     "text": [
      "100%|██████████| 1023/1023 [00:00<00:00, 4107.51it/s]\n",
      "100%|██████████| 1867/1867 [00:00<00:00, 373355.85it/s]\n"
     ]
    },
    {
     "name": "stdout",
     "output_type": "stream",
     "text": [
      "BEST FOR 45 IS: 9421658370 (186, 20937)\n",
      "46\n"
     ]
    },
    {
     "name": "stderr",
     "output_type": "stream",
     "text": [
      "100%|██████████| 1023/1023 [00:00<00:00, 7689.97it/s] \n",
      "100%|██████████| 245/245 [00:00<00:00, 244900.97it/s]\n"
     ]
    },
    {
     "name": "stdout",
     "output_type": "stream",
     "text": [
      "BEST FOR 46 IS: 0 None\n",
      "47\n"
     ]
    },
    {
     "name": "stderr",
     "output_type": "stream",
     "text": [
      "100%|██████████| 1023/1023 [00:00<00:00, 7358.07it/s] \n",
      "100%|██████████| 325/325 [00:00<00:00, 324868.64it/s]\n"
     ]
    },
    {
     "name": "stdout",
     "output_type": "stream",
     "text": [
      "BEST FOR 47 IS: 0 None\n",
      "48\n"
     ]
    },
    {
     "name": "stderr",
     "output_type": "stream",
     "text": [
      "100%|██████████| 1023/1023 [00:00<00:00, 6016.28it/s]\n",
      "100%|██████████| 643/643 [00:00<00:00, 321408.35it/s]\n"
     ]
    },
    {
     "name": "stdout",
     "output_type": "stream",
     "text": [
      "BEST FOR 48 IS: 9683475120 (2, 1739065)\n",
      "49\n"
     ]
    },
    {
     "name": "stderr",
     "output_type": "stream",
     "text": [
      "100%|██████████| 1023/1023 [00:00<00:00, 7748.24it/s]\n",
      "100%|██████████| 319/319 [00:00<00:00, 318947.07it/s]\n"
     ]
    },
    {
     "name": "stdout",
     "output_type": "stream",
     "text": [
      "BEST FOR 49 IS: 0 None\n",
      "50\n"
     ]
    },
    {
     "name": "stderr",
     "output_type": "stream",
     "text": [
      "100%|██████████| 1023/1023 [00:00<00:00, 13636.96it/s]\n",
      "0it [00:00, ?it/s]\n"
     ]
    },
    {
     "name": "stdout",
     "output_type": "stream",
     "text": [
      "BEST FOR 50 IS: 0 None\n",
      "51\n"
     ]
    },
    {
     "name": "stderr",
     "output_type": "stream",
     "text": [
      "100%|██████████| 1023/1023 [00:00<00:00, 6392.36it/s] \n",
      "100%|██████████| 1004/1004 [00:00<00:00, 501976.54it/s]\n"
     ]
    },
    {
     "name": "stdout",
     "output_type": "stream",
     "text": [
      "BEST FOR 51 IS: 0 None\n",
      "52\n"
     ]
    },
    {
     "name": "stderr",
     "output_type": "stream",
     "text": [
      "100%|██████████| 1023/1023 [00:00<00:00, 8971.63it/s]\n",
      "100%|██████████| 249/249 [00:00<00:00, 248840.05it/s]\n"
     ]
    },
    {
     "name": "stdout",
     "output_type": "stream",
     "text": [
      "BEST FOR 52 IS: 0 None\n",
      "53\n"
     ]
    },
    {
     "name": "stderr",
     "output_type": "stream",
     "text": [
      "100%|██████████| 1023/1023 [00:00<00:00, 7867.42it/s] \n",
      "100%|██████████| 227/227 [00:00<?, ?it/s]\n"
     ]
    },
    {
     "name": "stdout",
     "output_type": "stream",
     "text": [
      "BEST FOR 53 IS: 0 None\n",
      "54\n"
     ]
    },
    {
     "name": "stderr",
     "output_type": "stream",
     "text": [
      "100%|██████████| 1023/1023 [00:00<00:00, 4107.51it/s]\n",
      "100%|██████████| 1813/1813 [00:00<00:00, 362487.99it/s]\n"
     ]
    },
    {
     "name": "stdout",
     "output_type": "stream",
     "text": [
      "BEST FOR 54 IS: 0 None\n",
      "55\n"
     ]
    },
    {
     "name": "stderr",
     "output_type": "stream",
     "text": [
      "100%|██████████| 1023/1023 [00:00<00:00, 10330.97it/s]\n",
      "100%|██████████| 105/105 [00:00<?, ?it/s]\n"
     ]
    },
    {
     "name": "stdout",
     "output_type": "stream",
     "text": [
      "BEST FOR 55 IS: 0 None\n",
      "56\n"
     ]
    },
    {
     "name": "stderr",
     "output_type": "stream",
     "text": [
      "100%|██████████| 1023/1023 [00:00<00:00, 7358.09it/s]\n",
      "100%|██████████| 210/210 [00:00<00:00, 209965.16it/s]\n"
     ]
    },
    {
     "name": "stdout",
     "output_type": "stream",
     "text": [
      "BEST FOR 56 IS: 0 None\n",
      "57\n"
     ]
    },
    {
     "name": "stderr",
     "output_type": "stream",
     "text": [
      "100%|██████████| 1023/1023 [00:00<00:00, 7358.09it/s]\n",
      "100%|██████████| 618/618 [00:00<00:00, 309022.40it/s]\n"
     ]
    },
    {
     "name": "stdout",
     "output_type": "stream",
     "text": [
      "BEST FOR 57 IS: 0 None\n",
      "58\n"
     ]
    },
    {
     "name": "stderr",
     "output_type": "stream",
     "text": [
      "100%|██████████| 1023/1023 [00:00<00:00, 9051.06it/s]\n",
      "100%|██████████| 166/166 [00:00<00:00, 165932.90it/s]\n"
     ]
    },
    {
     "name": "stdout",
     "output_type": "stream",
     "text": [
      "BEST FOR 58 IS: 0 None\n",
      "59\n"
     ]
    },
    {
     "name": "stderr",
     "output_type": "stream",
     "text": [
      "100%|██████████| 1023/1023 [00:00<00:00, 8971.69it/s]\n",
      "100%|██████████| 212/212 [00:00<00:00, 211813.35it/s]\n"
     ]
    },
    {
     "name": "stdout",
     "output_type": "stream",
     "text": [
      "BEST FOR 59 IS: 0 None\n",
      "60\n"
     ]
    },
    {
     "name": "stderr",
     "output_type": "stream",
     "text": [
      "100%|██████████| 1023/1023 [00:00<00:00, 12472.74it/s]\n",
      "0it [00:00, ?it/s]\n"
     ]
    },
    {
     "name": "stdout",
     "output_type": "stream",
     "text": [
      "BEST FOR 60 IS: 0 None\n",
      "61\n"
     ]
    },
    {
     "name": "stderr",
     "output_type": "stream",
     "text": [
      "100%|██████████| 1023/1023 [00:00<00:00, 9383.17it/s]\n",
      "100%|██████████| 193/193 [00:00<00:00, 192646.52it/s]\n"
     ]
    },
    {
     "name": "stdout",
     "output_type": "stream",
     "text": [
      "BEST FOR 61 IS: 0 None\n",
      "62\n"
     ]
    },
    {
     "name": "stderr",
     "output_type": "stream",
     "text": [
      "100%|██████████| 1023/1023 [00:00<00:00, 10126.43it/s]\n",
      "100%|██████████| 182/182 [00:00<?, ?it/s]\n"
     ]
    },
    {
     "name": "stdout",
     "output_type": "stream",
     "text": [
      "BEST FOR 62 IS: 0 None\n",
      "63\n"
     ]
    },
    {
     "name": "stderr",
     "output_type": "stream",
     "text": [
      "100%|██████████| 1023/1023 [00:00<00:00, 4940.91it/s]\n",
      "100%|██████████| 1854/1854 [00:00<00:00, 463450.72it/s]\n"
     ]
    },
    {
     "name": "stdout",
     "output_type": "stream",
     "text": [
      "BEST FOR 63 IS: 0 None\n",
      "64\n"
     ]
    },
    {
     "name": "stderr",
     "output_type": "stream",
     "text": [
      "100%|██████████| 1023/1023 [00:00<00:00, 10126.43it/s]\n",
      "100%|██████████| 221/221 [00:00<00:00, 220910.67it/s]\n"
     ]
    },
    {
     "name": "stdout",
     "output_type": "stream",
     "text": [
      "BEST FOR 64 IS: 0 None\n",
      "65\n"
     ]
    },
    {
     "name": "stderr",
     "output_type": "stream",
     "text": [
      "100%|██████████| 1023/1023 [00:00<00:00, 10126.43it/s]\n",
      "100%|██████████| 110/110 [00:00<?, ?it/s]\n"
     ]
    },
    {
     "name": "stdout",
     "output_type": "stream",
     "text": [
      "BEST FOR 65 IS: 0 None\n",
      "66\n"
     ]
    },
    {
     "name": "stderr",
     "output_type": "stream",
     "text": [
      "100%|██████████| 1023/1023 [00:00<00:00, 9648.80it/s]\n",
      "100%|██████████| 331/331 [00:00<00:00, 330708.58it/s]\n"
     ]
    },
    {
     "name": "stdout",
     "output_type": "stream",
     "text": [
      "BEST FOR 66 IS: 0 None\n",
      "67\n"
     ]
    },
    {
     "name": "stderr",
     "output_type": "stream",
     "text": [
      "100%|██████████| 1023/1023 [00:00<00:00, 9740.73it/s]\n",
      "100%|██████████| 250/250 [00:00<00:00, 249958.52it/s]\n"
     ]
    },
    {
     "name": "stdout",
     "output_type": "stream",
     "text": [
      "BEST FOR 67 IS: 0 None\n",
      "68\n"
     ]
    },
    {
     "name": "stderr",
     "output_type": "stream",
     "text": [
      "100%|██████████| 1023/1023 [00:00<00:00, 10227.69it/s]\n",
      "100%|██████████| 209/209 [00:00<00:00, 208965.32it/s]\n"
     ]
    },
    {
     "name": "stdout",
     "output_type": "stream",
     "text": [
      "BEST FOR 68 IS: 0 None\n",
      "69\n"
     ]
    },
    {
     "name": "stderr",
     "output_type": "stream",
     "text": [
      "100%|██████████| 1023/1023 [00:00<00:00, 8741.64it/s]\n",
      "100%|██████████| 610/610 [00:00<00:00, 304985.75it/s]\n"
     ]
    },
    {
     "name": "stdout",
     "output_type": "stream",
     "text": [
      "BEST FOR 69 IS: 0 None\n",
      "70\n"
     ]
    },
    {
     "name": "stderr",
     "output_type": "stream",
     "text": [
      "100%|██████████| 1023/1023 [00:00<00:00, 12472.85it/s]\n",
      "0it [00:00, ?it/s]\n"
     ]
    },
    {
     "name": "stdout",
     "output_type": "stream",
     "text": [
      "BEST FOR 70 IS: 0 None\n",
      "71\n"
     ]
    },
    {
     "name": "stderr",
     "output_type": "stream",
     "text": [
      "100%|██████████| 1023/1023 [00:00<00:00, 8594.75it/s] \n",
      "100%|██████████| 204/204 [00:00<00:00, 204063.44it/s]\n"
     ]
    },
    {
     "name": "stdout",
     "output_type": "stream",
     "text": [
      "BEST FOR 71 IS: 0 None\n",
      "72\n"
     ]
    },
    {
     "name": "stderr",
     "output_type": "stream",
     "text": [
      "100%|██████████| 1023/1023 [00:00<00:00, 6161.29it/s]\n",
      "100%|██████████| 1376/1376 [00:00<00:00, 344086.47it/s]\n"
     ]
    },
    {
     "name": "stdout",
     "output_type": "stream",
     "text": [
      "BEST FOR 72 IS: 0 None\n",
      "73\n"
     ]
    },
    {
     "name": "stderr",
     "output_type": "stream",
     "text": [
      "100%|██████████| 1023/1023 [00:00<00:00, 10544.10it/s]\n",
      "100%|██████████| 174/174 [00:00<?, ?it/s]\n"
     ]
    },
    {
     "name": "stdout",
     "output_type": "stream",
     "text": [
      "BEST FOR 73 IS: 0 None\n",
      "74\n"
     ]
    },
    {
     "name": "stderr",
     "output_type": "stream",
     "text": [
      "100%|██████████| 1023/1023 [00:00<00:00, 9834.39it/s]\n",
      "100%|██████████| 121/121 [00:00<?, ?it/s]\n"
     ]
    },
    {
     "name": "stdout",
     "output_type": "stream",
     "text": [
      "BEST FOR 74 IS: 0 None\n",
      "75\n"
     ]
    },
    {
     "name": "stderr",
     "output_type": "stream",
     "text": [
      "100%|██████████| 1023/1023 [00:00<00:00, 13636.87it/s]\n",
      "0it [00:00, ?it/s]\n"
     ]
    },
    {
     "name": "stdout",
     "output_type": "stream",
     "text": [
      "BEST FOR 75 IS: 0 None\n",
      "76\n"
     ]
    },
    {
     "name": "stderr",
     "output_type": "stream",
     "text": [
      "100%|██████████| 1023/1023 [00:00<00:00, 10997.50it/s]\n",
      "100%|██████████| 187/187 [00:00<00:00, 187013.55it/s]\n"
     ]
    },
    {
     "name": "stdout",
     "output_type": "stream",
     "text": [
      "BEST FOR 76 IS: 0 None\n",
      "77\n"
     ]
    },
    {
     "name": "stderr",
     "output_type": "stream",
     "text": [
      "100%|██████████| 1023/1023 [00:00<00:00, 11491.80it/s]\n",
      "100%|██████████| 155/155 [00:00<?, ?it/s]\n"
     ]
    },
    {
     "name": "stdout",
     "output_type": "stream",
     "text": [
      "BEST FOR 77 IS: 0 None\n",
      "78\n"
     ]
    },
    {
     "name": "stderr",
     "output_type": "stream",
     "text": [
      "100%|██████████| 1023/1023 [00:00<00:00, 9297.91it/s]\n",
      "100%|██████████| 556/556 [00:00<00:00, 555378.19it/s]\n"
     ]
    },
    {
     "name": "stdout",
     "output_type": "stream",
     "text": [
      "BEST FOR 78 IS: 0 None\n",
      "79\n"
     ]
    },
    {
     "name": "stderr",
     "output_type": "stream",
     "text": [
      "100%|██████████| 1023/1023 [00:00<00:00, 11239.22it/s]\n",
      "100%|██████████| 168/168 [00:00<?, ?it/s]\n"
     ]
    },
    {
     "name": "stdout",
     "output_type": "stream",
     "text": [
      "BEST FOR 79 IS: 0 None\n",
      "80\n"
     ]
    },
    {
     "name": "stderr",
     "output_type": "stream",
     "text": [
      "100%|██████████| 1023/1023 [00:00<00:00, 13457.45it/s]\n",
      "0it [00:00, ?it/s]\n"
     ]
    },
    {
     "name": "stdout",
     "output_type": "stream",
     "text": [
      "BEST FOR 80 IS: 0 None\n",
      "81\n"
     ]
    },
    {
     "name": "stderr",
     "output_type": "stream",
     "text": [
      "100%|██████████| 1023/1023 [00:00<00:00, 5713.80it/s]\n",
      "100%|██████████| 1886/1886 [00:00<00:00, 377083.48it/s]\n"
     ]
    },
    {
     "name": "stdout",
     "output_type": "stream",
     "text": [
      "BEST FOR 81 IS: 0 None\n",
      "82\n"
     ]
    },
    {
     "name": "stderr",
     "output_type": "stream",
     "text": [
      "100%|██████████| 1023/1023 [00:00<00:00, 11755.86it/s]\n",
      "100%|██████████| 148/148 [00:00<?, ?it/s]\n"
     ]
    },
    {
     "name": "stdout",
     "output_type": "stream",
     "text": [
      "BEST FOR 82 IS: 0 None\n",
      "83\n"
     ]
    },
    {
     "name": "stderr",
     "output_type": "stream",
     "text": [
      "100%|██████████| 1023/1023 [00:00<00:00, 11755.93it/s]\n",
      "100%|██████████| 139/139 [00:00<?, ?it/s]\n"
     ]
    },
    {
     "name": "stdout",
     "output_type": "stream",
     "text": [
      "BEST FOR 83 IS: 0 None\n",
      "84\n"
     ]
    },
    {
     "name": "stderr",
     "output_type": "stream",
     "text": [
      "100%|██████████| 1023/1023 [00:00<00:00, 9740.64it/s]\n",
      "100%|██████████| 443/443 [00:00<00:00, 442926.50it/s]\n"
     ]
    },
    {
     "name": "stdout",
     "output_type": "stream",
     "text": [
      "BEST FOR 84 IS: 0 None\n",
      "85\n"
     ]
    },
    {
     "name": "stderr",
     "output_type": "stream",
     "text": [
      "100%|██████████| 1023/1023 [00:00<00:00, 12175.83it/s]\n",
      "100%|██████████| 95/95 [00:00<?, ?it/s]\n"
     ]
    },
    {
     "name": "stdout",
     "output_type": "stream",
     "text": [
      "BEST FOR 85 IS: 0 None\n",
      "86\n"
     ]
    },
    {
     "name": "stderr",
     "output_type": "stream",
     "text": [
      "100%|██████████| 1023/1023 [00:00<00:00, 11755.93it/s]\n",
      "100%|██████████| 124/124 [00:00<?, ?it/s]\n"
     ]
    },
    {
     "name": "stdout",
     "output_type": "stream",
     "text": [
      "BEST FOR 86 IS: 0 None\n",
      "87\n"
     ]
    },
    {
     "name": "stderr",
     "output_type": "stream",
     "text": [
      "100%|██████████| 1023/1023 [00:00<00:00, 9051.04it/s]\n",
      "100%|██████████| 626/626 [00:00<00:00, 312910.77it/s]\n"
     ]
    },
    {
     "name": "stdout",
     "output_type": "stream",
     "text": [
      "BEST FOR 87 IS: 0 None\n",
      "88\n"
     ]
    },
    {
     "name": "stderr",
     "output_type": "stream",
     "text": [
      "100%|██████████| 1023/1023 [00:00<00:00, 12472.85it/s]\n",
      "100%|██████████| 100/100 [00:00<?, ?it/s]\n"
     ]
    },
    {
     "name": "stdout",
     "output_type": "stream",
     "text": [
      "BEST FOR 88 IS: 0 None\n",
      "89\n"
     ]
    },
    {
     "name": "stderr",
     "output_type": "stream",
     "text": [
      "100%|██████████| 1023/1023 [00:00<00:00, 11491.71it/s]\n",
      "100%|██████████| 171/171 [00:00<00:00, 171053.18it/s]\n"
     ]
    },
    {
     "name": "stdout",
     "output_type": "stream",
     "text": [
      "BEST FOR 89 IS: 0 None\n",
      "90\n"
     ]
    },
    {
     "name": "stderr",
     "output_type": "stream",
     "text": [
      "100%|██████████| 1023/1023 [00:00<00:00, 13637.00it/s]\n",
      "0it [00:00, ?it/s]\n"
     ]
    },
    {
     "name": "stdout",
     "output_type": "stream",
     "text": [
      "BEST FOR 90 IS: 0 None\n",
      "91\n"
     ]
    },
    {
     "name": "stderr",
     "output_type": "stream",
     "text": [
      "100%|██████████| 1023/1023 [00:00<00:00, 10331.07it/s]\n",
      "100%|██████████| 166/166 [00:00<?, ?it/s]\n"
     ]
    },
    {
     "name": "stdout",
     "output_type": "stream",
     "text": [
      "BEST FOR 91 IS: 0 None\n",
      "92\n"
     ]
    },
    {
     "name": "stderr",
     "output_type": "stream",
     "text": [
      "100%|██████████| 1023/1023 [00:00<00:00, 12322.51it/s]\n",
      "100%|██████████| 108/108 [00:00<?, ?it/s]\n"
     ]
    },
    {
     "name": "stdout",
     "output_type": "stream",
     "text": [
      "BEST FOR 92 IS: 0 None\n",
      "93\n"
     ]
    },
    {
     "name": "stderr",
     "output_type": "stream",
     "text": [
      "100%|██████████| 1023/1023 [00:00<00:00, 10331.15it/s]\n",
      "100%|██████████| 501/501 [00:00<00:00, 501275.36it/s]\n"
     ]
    },
    {
     "name": "stdout",
     "output_type": "stream",
     "text": [
      "BEST FOR 93 IS: 0 None\n",
      "94\n"
     ]
    },
    {
     "name": "stderr",
     "output_type": "stream",
     "text": [
      "100%|██████████| 1023/1023 [00:00<00:00, 11892.58it/s]\n",
      "100%|██████████| 143/143 [00:00<00:00, 143112.73it/s]\n"
     ]
    },
    {
     "name": "stdout",
     "output_type": "stream",
     "text": [
      "BEST FOR 94 IS: 0 None\n",
      "95\n"
     ]
    },
    {
     "name": "stderr",
     "output_type": "stream",
     "text": [
      "100%|██████████| 1023/1023 [00:00<00:00, 11892.68it/s]\n",
      "100%|██████████| 108/108 [00:00<00:00, 108059.36it/s]\n"
     ]
    },
    {
     "name": "stdout",
     "output_type": "stream",
     "text": [
      "BEST FOR 95 IS: 0 None\n",
      "96\n"
     ]
    },
    {
     "name": "stderr",
     "output_type": "stream",
     "text": [
      "100%|██████████| 1023/1023 [00:00<00:00, 10880.51it/s]\n",
      "100%|██████████| 430/430 [00:00<00:00, 429826.20it/s]\n"
     ]
    },
    {
     "name": "stdout",
     "output_type": "stream",
     "text": [
      "BEST FOR 96 IS: 0 None\n",
      "97\n"
     ]
    },
    {
     "name": "stderr",
     "output_type": "stream",
     "text": [
      "100%|██████████| 1023/1023 [00:00<00:00, 11892.65it/s]\n",
      "100%|██████████| 156/156 [00:00<00:00, 156011.31it/s]\n"
     ]
    },
    {
     "name": "stdout",
     "output_type": "stream",
     "text": [
      "BEST FOR 97 IS: 0 None\n",
      "98\n"
     ]
    },
    {
     "name": "stderr",
     "output_type": "stream",
     "text": [
      "100%|██████████| 1023/1023 [00:00<00:00, 10126.43it/s]\n",
      "100%|██████████| 123/123 [00:00<?, ?it/s]\n"
     ]
    },
    {
     "name": "stdout",
     "output_type": "stream",
     "text": [
      "BEST FOR 98 IS: 0 None\n",
      "99\n"
     ]
    },
    {
     "name": "stderr",
     "output_type": "stream",
     "text": [
      "100%|██████████| 1023/1023 [00:00<00:00, 9051.04it/s]\n",
      "100%|██████████| 1245/1245 [00:00<00:00, 311124.19it/s]"
     ]
    },
    {
     "name": "stdout",
     "output_type": "stream",
     "text": [
      "BEST FOR 99 IS: 0 None\n"
     ]
    },
    {
     "name": "stderr",
     "output_type": "stream",
     "text": [
      "\n"
     ]
    }
   ],
   "source": [
    "maa = 0\n",
    "for k in range(9, 100):\n",
    "    print(k)\n",
    "    maxes = [set() for _ in range(0, 2**10)]\n",
    "    for e in nums[k]:\n",
    "        maxes[e[1]].add(tuple([e[0]]))\n",
    "    # Combine masks and create some max num given the masks.\n",
    "    mask = (2**10 - 1)\n",
    "    for i in tqdm(range(1, 2**10)):\n",
    "        for q in range(1, 2**10):\n",
    "            if ((q & i) == q) and q != i:\n",
    "                j = i ^ q\n",
    "                # Combine elements in j and q\n",
    "                for s_j in maxes[j]:\n",
    "                    for s_q in maxes[q]:\n",
    "                        combined = tuple(sorted(list(s_j) + list(s_q)))\n",
    "                        cnts = [0 for _ in range(10)]\n",
    "                        w = True\n",
    "                        for e in combined:\n",
    "                            for c in str(e):\n",
    "                                cnts[int(c)] += 1\n",
    "                                if cnts[int(c)] > 1:\n",
    "                                    w = False\n",
    "                                    break\n",
    "                            if not w:\n",
    "                                break\n",
    "                        if w:\n",
    "                            maxes[i].add(combined)\n",
    "    best = 0\n",
    "    ee = None\n",
    "    for combine in tqdm(maxes[mask]):\n",
    "        if len(combine) == 1:\n",
    "            continue\n",
    "        # Check that elements are pandigital\n",
    "        cnts = [0 for _ in range(10)]\n",
    "        for c in str(k):\n",
    "            cnts[int(c)] += 1\n",
    "        w = True\n",
    "        for e in combine:\n",
    "            for c in str(e):\n",
    "                # print(c, e)\n",
    "                cnts[int(c)] += 1\n",
    "        # print(cnts)\n",
    "        if sum(cnts) == 10 and min(cnts) == 1:\n",
    "            for p in permutations(combine):\n",
    "                num = int(\"\".join([str(k * el) for el in p]))\n",
    "                if num > best:\n",
    "                    ee = combine\n",
    "                best = max(best, num)\n",
    "                # print(\"B\", best)\n",
    "    maa = max(best, maa)\n",
    "    print(\"BEST FOR {} IS: {}\".format(k, best), ee)"
   ]
  },
  {
   "cell_type": "code",
   "execution_count": 9,
   "metadata": {},
   "outputs": [
    {
     "data": {
      "text/plain": [
       "9857164023"
      ]
     },
     "execution_count": 9,
     "metadata": {},
     "output_type": "execute_result"
    }
   ],
   "source": [
    "maa"
   ]
  },
  {
   "cell_type": "code",
   "execution_count": null,
   "metadata": {},
   "outputs": [],
   "source": [
    "9786105234\n",
    "9564172380"
   ]
  },
  {
   "cell_type": "code",
   "execution_count": null,
   "metadata": {},
   "outputs": [],
   "source": [
    "9 * 1026, 9 * 87345"
   ]
  },
  {
   "cell_type": "code",
   "execution_count": null,
   "metadata": {},
   "outputs": [],
   "source": [
    "9873602145"
   ]
  },
  {
   "cell_type": "code",
   "execution_count": null,
   "metadata": {},
   "outputs": [],
   "source": [
    "9 * 873602145"
   ]
  }
 ],
 "metadata": {
  "kernelspec": {
   "display_name": "Python 3",
   "language": "python",
   "name": "python3"
  },
  "language_info": {
   "codemirror_mode": {
    "name": "ipython",
    "version": 3
   },
   "file_extension": ".py",
   "mimetype": "text/x-python",
   "name": "python",
   "nbconvert_exporter": "python",
   "pygments_lexer": "ipython3",
   "version": "3.12.4"
  }
 },
 "nbformat": 4,
 "nbformat_minor": 2
}
