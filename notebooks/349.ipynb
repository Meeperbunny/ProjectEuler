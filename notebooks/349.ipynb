{
 "cells": [
  {
   "cell_type": "code",
   "execution_count": null,
   "metadata": {},
   "outputs": [],
   "source": [
    "lk = {}\n",
    "def get_color(x, y):\n",
    "    global lk\n",
    "    t = (x, y)\n",
    "    if t not in lk:\n",
    "        lk[t] = \"W\"\n",
    "    return lk[t]\n",
    "\n",
    "bc = 0\n",
    "def flip_color(x, y):\n",
    "    global bc\n",
    "    cc = get_color(x, y)\n",
    "    if cc == \"W\":\n",
    "        bc += 1\n",
    "    else:\n",
    "        bc -= 1\n",
    "    lk[(x, y)] = \"W\" if cc == \"B\" else \"B\"\n",
    "    return lk[(x, y)]"
   ]
  },
  {
   "cell_type": "code",
   "execution_count": 2,
   "metadata": {},
   "outputs": [],
   "source": [
    "def r_right(d):\n",
    "    return (d + 1) % 4\n",
    "def r_left(d):\n",
    "    return (d + 3) % 4"
   ]
  },
  {
   "cell_type": "code",
   "execution_count": 3,
   "metadata": {},
   "outputs": [],
   "source": [
    "def get_delta(d):\n",
    "    return [(0, 1), (1, 0), (0, -1), (-1, 0)][d]"
   ]
  },
  {
   "cell_type": "code",
   "execution_count": 16,
   "metadata": {},
   "outputs": [
    {
     "data": {
      "text/plain": [
       "-1"
      ]
     },
     "execution_count": 16,
     "metadata": {},
     "output_type": "execute_result"
    }
   ],
   "source": [
    "def detect_cycle(l: list, k=4):\n",
    "    for c_len in range(1, len(l)):\n",
    "        isg = True\n",
    "        for z in range(1, k):\n",
    "            if l[0:c_len] != l[c_len * z: c_len * (z + 1)]:\n",
    "                isg = False\n",
    "                break\n",
    "        if isg:\n",
    "            return c_len\n",
    "    return -1\n",
    "detect_cycle([1, 2, 3, 1, 2, 3, 7, 1, 2, 3, 1, 2, 3, 7, 1, 2, 3, 1, 2, 3, 7, 1])"
   ]
  },
  {
   "cell_type": "code",
   "execution_count": 8,
   "metadata": {},
   "outputs": [],
   "source": [
    "def diff(s):\n",
    "    return [s[i + 1] - s[i] for i in range(len(s) - 1)]"
   ]
  },
  {
   "cell_type": "code",
   "execution_count": 46,
   "metadata": {},
   "outputs": [],
   "source": [
    "ans = {\n",
    "    100_000: 11108, \n",
    "}"
   ]
  },
  {
   "cell_type": "code",
   "execution_count": 258,
   "metadata": {},
   "outputs": [],
   "source": [
    "N = 299976 + 203"
   ]
  },
  {
   "cell_type": "code",
   "execution_count": 259,
   "metadata": {},
   "outputs": [
    {
     "data": {
      "text/plain": [
       "34201"
      ]
     },
     "execution_count": 259,
     "metadata": {},
     "output_type": "execute_result"
    }
   ],
   "source": [
    "a = []\n",
    "p = (0, 0)\n",
    "d = 0\n",
    "bc = 0\n",
    "lk = {}\n",
    "for i in range(1, N + 1):\n",
    "    c = get_color(*p)\n",
    "    flip_color(*p)\n",
    "    if c == \"W\":\n",
    "        d = r_right(d)\n",
    "    else:\n",
    "        d = r_left(d)\n",
    "    delta = get_delta(d)\n",
    "    p = (p[0] + delta[0], p[1] + delta[1])\n",
    "    a.append(bc)\n",
    "bc"
   ]
  },
  {
   "cell_type": "code",
   "execution_count": 263,
   "metadata": {},
   "outputs": [],
   "source": [
    "N = 10**18"
   ]
  },
  {
   "cell_type": "code",
   "execution_count": 264,
   "metadata": {},
   "outputs": [
    {
     "data": {
      "text/plain": [
       "115384615384614952"
      ]
     },
     "execution_count": 264,
     "metadata": {},
     "output_type": "execute_result"
    }
   ],
   "source": [
    "K = 12_000-1\n",
    "T = a[K]\n",
    "cl = detect_cycle(diff(a)[K:])\n",
    "cchange = sum(diff(a)[K:K+cl])\n",
    "rem = (N - (K + 1)) % cl\n",
    "rc = sum(diff(a)[K:K+rem])\n",
    "up = ((N - (K + 1)) // cl * cl + K)\n",
    "# print(cchange, rem, rc)\n",
    "T += cchange * ((N - (K + 1)) // cl) + rc\n",
    "T"
   ]
  },
  {
   "cell_type": "code",
   "execution_count": null,
   "metadata": {},
   "outputs": [],
   "source": []
  }
 ],
 "metadata": {
  "kernelspec": {
   "display_name": "Python 3",
   "language": "python",
   "name": "python3"
  },
  "language_info": {
   "codemirror_mode": {
    "name": "ipython",
    "version": 3
   },
   "file_extension": ".py",
   "mimetype": "text/x-python",
   "name": "python",
   "nbconvert_exporter": "python",
   "pygments_lexer": "ipython3",
   "version": "3.9.6"
  }
 },
 "nbformat": 4,
 "nbformat_minor": 2
}
