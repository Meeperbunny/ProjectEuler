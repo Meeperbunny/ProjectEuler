{
 "cells": [
  {
   "cell_type": "code",
   "execution_count": 1,
   "id": "06553f66-1baf-4d2b-bde6-453b11f18e8f",
   "metadata": {},
   "outputs": [],
   "source": [
    "def sieve(n):\n",
    "    s = [1 for _ in range(n + 1)]\n",
    "    primes = []\n",
    "    for q in range(2, n + 1):\n",
    "        if s[q]:\n",
    "            primes.append(q)\n",
    "            for i in range(2 * q, n + 1, q):\n",
    "                s[i] = 0\n",
    "    return primes"
   ]
  },
  {
   "cell_type": "code",
   "execution_count": 35,
   "id": "cc15c69b-7c8e-42d1-8649-cd74823eb815",
   "metadata": {},
   "outputs": [],
   "source": [
    "def concat(n):\n",
    "    primes = sieve(n)\n",
    "    s = \"\".join([str(p).replace('0', '') for p in primes])\n",
    "    # print(s)\n",
    "    return s"
   ]
  },
  {
   "cell_type": "code",
   "execution_count": 36,
   "id": "6c4cf816-88f4-4d51-921a-b5b0c3c6d8dd",
   "metadata": {},
   "outputs": [],
   "source": [
    "def get_divs(n):\n",
    "    divs = [[] for _ in range(n + 1)]\n",
    "    for i in range(1, n + 1):\n",
    "        for q in range(i, n + 1, i):\n",
    "            divs[q].append(i)\n",
    "    return divs"
   ]
  },
  {
   "cell_type": "code",
   "execution_count": 37,
   "id": "9c3cdf98-fc04-4c0c-a4cd-fe567f3f62bc",
   "metadata": {},
   "outputs": [],
   "source": [
    "def solve(n):\n",
    "    s = concat(n)\n",
    "    divs = get_divs(10)\n",
    "    d = {}\n",
    "    for i in range(1, 10):\n",
    "        d[chr(i + ord('0'))] = divs[i]\n",
    "    mod = int(1e9+7)\n",
    "    cnts = [0 for _ in range(10)]\n",
    "    seq_cnt = 1\n",
    "    ans = 0\n",
    "    for c in s:\n",
    "        t_divs = d[c]\n",
    "        # Multiplies each by # of divs\n",
    "        div_cnt = len(t_divs)\n",
    "        next_cnts = [cnts[i] * div_cnt for i in range(10)]\n",
    "        ans *= div_cnt\n",
    "        for div in t_divs:\n",
    "            # Adds itself by seq cnt\n",
    "            next_cnts[div] += seq_cnt\n",
    "            # Adds num of inversions of all greater than it\n",
    "            ans += sum(cnts[div+1:10])\n",
    "        # Mults seq cnt by # of divs\n",
    "        ans = ans % mod\n",
    "        # print(next_cnts, ans)\n",
    "        seq_cnt *= div_cnt\n",
    "        for i in range(len(next_cnts)):\n",
    "            next_cnts[i] = next_cnts[i] % mod\n",
    "        cnts = next_cnts.copy()\n",
    "    return ans"
   ]
  },
  {
   "cell_type": "code",
   "execution_count": 39,
   "id": "a4d3851a-95b2-4bb2-ad0f-41a7852d6009",
   "metadata": {},
   "outputs": [
    {
     "ename": "KeyboardInterrupt",
     "evalue": "",
     "output_type": "error",
     "traceback": [
      "\u001b[1;31m---------------------------------------------------------------------------\u001b[0m",
      "\u001b[1;31mKeyboardInterrupt\u001b[0m                         Traceback (most recent call last)",
      "Cell \u001b[1;32mIn[39], line 1\u001b[0m\n\u001b[1;32m----> 1\u001b[0m \u001b[43msolve\u001b[49m\u001b[43m(\u001b[49m\u001b[38;5;241;43m10\u001b[39;49m\u001b[38;5;241;43m*\u001b[39;49m\u001b[38;5;241;43m*\u001b[39;49m\u001b[38;5;241;43m6\u001b[39;49m\u001b[43m)\u001b[49m\n",
      "Cell \u001b[1;32mIn[37], line 27\u001b[0m, in \u001b[0;36msolve\u001b[1;34m(n)\u001b[0m\n\u001b[0;32m     25\u001b[0m     seq_cnt \u001b[38;5;241m*\u001b[39m\u001b[38;5;241m=\u001b[39m div_cnt\n\u001b[0;32m     26\u001b[0m     \u001b[38;5;28;01mfor\u001b[39;00m i \u001b[38;5;129;01min\u001b[39;00m \u001b[38;5;28mrange\u001b[39m(\u001b[38;5;28mlen\u001b[39m(next_cnts)):\n\u001b[1;32m---> 27\u001b[0m         next_cnts[i] \u001b[38;5;241m=\u001b[39m next_cnts[i] \u001b[38;5;241m%\u001b[39m mod\n\u001b[0;32m     28\u001b[0m     cnts \u001b[38;5;241m=\u001b[39m next_cnts\u001b[38;5;241m.\u001b[39mcopy()\n\u001b[0;32m     29\u001b[0m \u001b[38;5;28;01mreturn\u001b[39;00m ans\n",
      "\u001b[1;31mKeyboardInterrupt\u001b[0m: "
     ]
    }
   ],
   "source": [
    "solve(10**8)"
   ]
  },
  {
   "cell_type": "code",
   "execution_count": null,
   "id": "efbcfe32-536c-48e3-aef8-1dfe2c35a369",
   "metadata": {},
   "outputs": [],
   "source": [
    "1 2\n",
    "1 3\n",
    "\n",
    "5 1\n",
    "\n",
    "111\n",
    "131\n",
    "211\n",
    "231\n",
    "115\n",
    "135\n",
    "215\n",
    "235"
   ]
  },
  {
   "cell_type": "code",
   "execution_count": null,
   "id": "a0e57492-76a2-4809-9281-a8df4d1b8e43",
   "metadata": {},
   "outputs": [],
   "source": []
  },
  {
   "cell_type": "code",
   "execution_count": null,
   "id": "ad118a8a-4abd-4d46-b1d0-4230e9050eff",
   "metadata": {},
   "outputs": [],
   "source": [
    "def sieve(n):\n",
    "    s = [1 for _ in range(n + 1)]\n",
    "    primes = []\n",
    "    for q in range(2, n + 1):\n",
    "        if s[q]:\n",
    "            primes.append(q)\n",
    "            for i in range(2 * q, n + 1, q):\n",
    "                s[i] = 0\n",
    "    return primes\n",
    "\n",
    "def concat(n):\n",
    "    primes = sieve(n)\n",
    "    s = \"\".join([str(p).replace('0', '') for p in primes])\n",
    "    # print(s)\n",
    "    return s\n",
    "\n",
    "def get_divs(n):\n",
    "    divs = [[] for _ in range(n + 1)]\n",
    "    for i in range(1, n + 1):\n",
    "        for q in range(i, n + 1, i):\n",
    "            divs[q].append(i)\n",
    "    return divs\n",
    "\n",
    "def solve(n):\n",
    "    s = concat(n)\n",
    "    divs = get_divs(10)\n",
    "    d = {}\n",
    "    for i in range(1, 10):\n",
    "        d[chr(i + ord('0'))] = divs[i]\n",
    "    mod = int(1e9+7)\n",
    "    cnts = [0 for _ in range(10)]\n",
    "    seq_cnt = 1\n",
    "    ans = 0\n",
    "    for c in s:\n",
    "        t_divs = d[c]\n",
    "        # Multiplies each by # of divs\n",
    "        div_cnt = len(t_divs)\n",
    "        next_cnts = [cnts[i] * div_cnt for i in range(10)]\n",
    "        ans *= div_cnt\n",
    "        for div in t_divs:\n",
    "            # Adds itself by seq cnt\n",
    "            next_cnts[div] += seq_cnt\n",
    "            # Adds num of inversions of all greater than it\n",
    "            ans += sum(cnts[div+1:10])\n",
    "        # Mults seq cnt by # of divs\n",
    "        ans = ans % mod\n",
    "        # print(next_cnts, ans)\n",
    "        seq_cnt *= div_cnt\n",
    "        for i in range(len(next_cnts)):\n",
    "            next_cnts[i] = next_cnts[i] % mod\n",
    "        cnts = next_cnts.copy()\n",
    "    return ans\n",
    "\n",
    "solve(10**8)"
   ]
  }
 ],
 "metadata": {
  "kernelspec": {
   "display_name": "Python 3 (ipykernel)",
   "language": "python",
   "name": "python3"
  },
  "language_info": {
   "codemirror_mode": {
    "name": "ipython",
    "version": 3
   },
   "file_extension": ".py",
   "mimetype": "text/x-python",
   "name": "python",
   "nbconvert_exporter": "python",
   "pygments_lexer": "ipython3",
   "version": "3.12.4"
  }
 },
 "nbformat": 4,
 "nbformat_minor": 5
}
