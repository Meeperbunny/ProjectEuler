{
 "cells": [
  {
   "cell_type": "code",
   "execution_count": 2,
   "metadata": {},
   "outputs": [],
   "source": [
    "sqs = {}\n",
    "for i in range(1, 100_000):\n",
    "    sqs[i**2] = i"
   ]
  },
  {
   "cell_type": "code",
   "execution_count": null,
   "metadata": {},
   "outputs": [
    {
     "data": {
      "text/plain": [
       "1046"
      ]
     },
     "execution_count": 31,
     "metadata": {},
     "output_type": "execute_result"
    }
   ],
   "source": [
    "mac = 0\n",
    "ma = 0\n",
    "ss = set()\n",
    "for a in range(1, 1000):\n",
    "    for b in range(a, 20_000):\n",
    "        csq = a**2 + b**2 - 1\n",
    "        if csq in sqs:\n",
    "            c = sqs[csq]\n",
    "            # print(a, b, c)\n",
    "            if a + b + c <= 1000:\n",
    "                ss.add((a, b, c))\n",
    "len(ss)"
   ]
  },
  {
   "cell_type": "code",
   "execution_count": null,
   "metadata": {},
   "outputs": [
    {
     "ename": "KeyboardInterrupt",
     "evalue": "",
     "output_type": "error",
     "traceback": [
      "\u001b[0;31m---------------------------------------------------------------------------\u001b[0m",
      "\u001b[0;31mKeyboardInterrupt\u001b[0m                         Traceback (most recent call last)",
      "Cell \u001b[0;32mIn[68], line 16\u001b[0m\n\u001b[1;32m     14\u001b[0m \u001b[38;5;28;01mfrom\u001b[39;00m\u001b[38;5;250m \u001b[39m\u001b[38;5;21;01mtqdm\u001b[39;00m\u001b[38;5;21;01m.\u001b[39;00m\u001b[38;5;21;01mnotebook\u001b[39;00m\u001b[38;5;250m \u001b[39m\u001b[38;5;28;01mimport\u001b[39;00m trange\n\u001b[1;32m     15\u001b[0m N \u001b[38;5;241m=\u001b[39m \u001b[38;5;241m25_000_000\u001b[39m\n\u001b[0;32m---> 16\u001b[0m D \u001b[38;5;241m=\u001b[39m \u001b[43mget_divs\u001b[49m\u001b[43m(\u001b[49m\u001b[43mN\u001b[49m\u001b[43m \u001b[49m\u001b[38;5;241;43m+\u001b[39;49m\u001b[43m \u001b[49m\u001b[38;5;241;43m2\u001b[39;49m\u001b[43m)\u001b[49m\n\u001b[1;32m     17\u001b[0m s \u001b[38;5;241m=\u001b[39m \u001b[38;5;28mset\u001b[39m()\n\u001b[1;32m     18\u001b[0m \u001b[38;5;28;01mfor\u001b[39;00m k \u001b[38;5;129;01min\u001b[39;00m trange(\u001b[38;5;241m1\u001b[39m, N \u001b[38;5;241m+\u001b[39m \u001b[38;5;241m1\u001b[39m):\n",
      "Cell \u001b[0;32mIn[68], line 5\u001b[0m, in \u001b[0;36mget_divs\u001b[0;34m(n)\u001b[0m\n\u001b[1;32m      3\u001b[0m \u001b[38;5;28;01mfor\u001b[39;00m i \u001b[38;5;129;01min\u001b[39;00m \u001b[38;5;28mrange\u001b[39m(\u001b[38;5;241m1\u001b[39m, n \u001b[38;5;241m+\u001b[39m \u001b[38;5;241m1\u001b[39m):\n\u001b[1;32m      4\u001b[0m     \u001b[38;5;28;01mfor\u001b[39;00m q \u001b[38;5;129;01min\u001b[39;00m \u001b[38;5;28mrange\u001b[39m(i, n \u001b[38;5;241m+\u001b[39m \u001b[38;5;241m1\u001b[39m, i):\n\u001b[0;32m----> 5\u001b[0m         \u001b[43mdivs\u001b[49m\u001b[43m[\u001b[49m\u001b[43mq\u001b[49m\u001b[43m]\u001b[49m\u001b[38;5;241;43m.\u001b[39;49m\u001b[43mappend\u001b[49m\u001b[43m(\u001b[49m\u001b[43mi\u001b[49m\u001b[43m)\u001b[49m\n\u001b[1;32m      6\u001b[0m \u001b[38;5;28;01mreturn\u001b[39;00m divs\n",
      "\u001b[0;31mKeyboardInterrupt\u001b[0m: "
     ]
    }
   ],
   "source": [
    "\n",
    "def get_divs(n):\n",
    "    divs = [[] for _ in range(n + 1)]\n",
    "    for i in range(1, n + 1):\n",
    "        for q in range(i, n + 1, i):\n",
    "            divs[q].append(i)\n",
    "    return divs\n",
    "\n",
    "def combine_divs(A, B):\n",
    "    d = set()\n",
    "    for d1 in A:\n",
    "        for d2 in B:\n",
    "            d.add(d1 * d2)\n",
    "    return list(d)\n",
    "from tqdm.notebook import trange\n",
    "N = 1000\n",
    "D = get_divs(N + 2)\n",
    "s = set()\n",
    "C = 0\n",
    "for k in trange(1, N + 1):\n",
    "    if 2 * k + 1 <= N:  \n",
    "        s.add((1, k, k))\n",
    "    A = D[k - 1]\n",
    "    B = D[k + 1]\n",
    "    comb = combine_divs(A, B)\n",
    "    for d in comb:\n",
    "        if d % 2 == 0:\n",
    "            j = d // 2\n",
    "            i = (k**2 - 1) // (2 * j) - j\n",
    "            rt = round((2 * j**2 + 2 * i * j + 1)**0.5)\n",
    "            a_u = j + rt\n",
    "            b_u = a_u + i\n",
    "            c_u = a_u + i + j\n",
    "            # print(\"LL\", a_l, b_l, c_l)\n",
    "            # print(\"UU\", a_u, b_u, c_u)\n",
    "            # if a_l + b_l + c_l <= N:\n",
    "            #     s.add((a_l, b_l, c_l))\n",
    "            if a_u >= 1 and a_u <= b_u and a_u + b_u + c_u <= N and a_u**2 + b_u**2 == c_u**2 + 1:\n",
    "                s.add((a_u, b_u, c_u))\n",
    "print(len(s))"
   ]
  },
  {
   "cell_type": "code",
   "execution_count": 57,
   "metadata": {},
   "outputs": [
    {
     "name": "stdout",
     "output_type": "stream",
     "text": [
      "(1, 1, 1)\n"
     ]
    }
   ],
   "source": [
    "for e in ss:\n",
    "    if e not in s:\n",
    "        print(e)"
   ]
  },
  {
   "cell_type": "code",
   "execution_count": 18,
   "metadata": {},
   "outputs": [
    {
     "data": {
      "text/plain": [
       "[1, 2, 5, 10]"
      ]
     },
     "execution_count": 18,
     "metadata": {},
     "output_type": "execute_result"
    }
   ],
   "source": [
    "get_divs(10)"
   ]
  },
  {
   "cell_type": "code",
   "execution_count": null,
   "metadata": {},
   "outputs": [],
   "source": [
    "\n",
    "def get_divs(n):\n",
    "    divs = [[] for _ in range(n + 1)]\n",
    "    for i in trange(1, n + 1):\n",
    "        for q in range(i, n + 1, i):\n",
    "            divs[q].append(i)\n",
    "    return divs\n",
    "\n",
    "def combine_divs(A, B):\n",
    "    d = set()\n",
    "    for d1 in A:\n",
    "        for d2 in B:\n",
    "            if d1 & 1 and d2 & 1:\n",
    "                pass\n",
    "            else:\n",
    "                d.add(d1 * d2)\n",
    "    return list(d)\n",
    "from tqdm import trange\n",
    "N = 25_000_000\n",
    "N = 1000\n",
    "D = get_divs(N + 2)\n",
    "C = (N - 1) // 2\n",
    "for k in trange(1, N + 1):\n",
    "    A = D[k - 1]\n",
    "    B = D[k + 1]\n",
    "    comb = combine_divs(A, B)\n",
    "    for d in comb:\n",
    "        if d % 2 == 0:\n",
    "            j = d // 2\n",
    "            i = (k**2 - 1) // (2 * j) - j\n",
    "            rt = round((2 * j**2 + 2 * i * j + 1)**0.5)\n",
    "            a_u = j + rt\n",
    "            b_u = a_u + i\n",
    "            c_u = a_u + i + j\n",
    "            if a_u >= 1 and a_u <= b_u and a_u + b_u + c_u <= N:\n",
    "                C += 1\n",
    "print(C)"
   ]
  },
  {
   "cell_type": "code",
   "execution_count": null,
   "metadata": {},
   "outputs": [
    {
     "name": "stderr",
     "output_type": "stream",
     "text": [
      "  0%|          | 54942/25000000 [00:03<24:39, 16864.43it/s]\n"
     ]
    },
    {
     "ename": "KeyboardInterrupt",
     "evalue": "",
     "output_type": "error",
     "traceback": [
      "\u001b[0;31m---------------------------------------------------------------------------\u001b[0m",
      "\u001b[0;31mKeyboardInterrupt\u001b[0m                         Traceback (most recent call last)",
      "Cell \u001b[0;32mIn[7], line 30\u001b[0m\n\u001b[1;32m     28\u001b[0m \u001b[38;5;28;01mfor\u001b[39;00m d \u001b[38;5;129;01min\u001b[39;00m comb:\n\u001b[1;32m     29\u001b[0m     \u001b[38;5;28;01mif\u001b[39;00m d \u001b[38;5;241m%\u001b[39m \u001b[38;5;241m2\u001b[39m \u001b[38;5;241m==\u001b[39m \u001b[38;5;241m0\u001b[39m:\n\u001b[0;32m---> 30\u001b[0m         j \u001b[38;5;241m=\u001b[39m d \u001b[38;5;241m/\u001b[39m\u001b[38;5;241m/\u001b[39m \u001b[38;5;241m2\u001b[39m\n\u001b[1;32m     31\u001b[0m         i \u001b[38;5;241m=\u001b[39m (k\u001b[38;5;241m*\u001b[39m\u001b[38;5;241m*\u001b[39m\u001b[38;5;241m2\u001b[39m \u001b[38;5;241m-\u001b[39m \u001b[38;5;241m1\u001b[39m) \u001b[38;5;241m/\u001b[39m\u001b[38;5;241m/\u001b[39m (\u001b[38;5;241m2\u001b[39m \u001b[38;5;241m*\u001b[39m j) \u001b[38;5;241m-\u001b[39m j\n\u001b[1;32m     32\u001b[0m         rt \u001b[38;5;241m=\u001b[39m \u001b[38;5;28mround\u001b[39m((\u001b[38;5;241m2\u001b[39m \u001b[38;5;241m*\u001b[39m j\u001b[38;5;241m*\u001b[39m\u001b[38;5;241m*\u001b[39m\u001b[38;5;241m2\u001b[39m \u001b[38;5;241m+\u001b[39m \u001b[38;5;241m2\u001b[39m \u001b[38;5;241m*\u001b[39m i \u001b[38;5;241m*\u001b[39m j \u001b[38;5;241m+\u001b[39m \u001b[38;5;241m1\u001b[39m)\u001b[38;5;241m*\u001b[39m\u001b[38;5;241m*\u001b[39m\u001b[38;5;241m0.5\u001b[39m)\n",
      "\u001b[0;31mKeyboardInterrupt\u001b[0m: "
     ]
    }
   ],
   "source": [
    "def get_divs(n):\n",
    "    divs = []\n",
    "    for i in range(1, n + 1):\n",
    "        if i * i > n:\n",
    "            break\n",
    "        if n % i == 0:\n",
    "            if i * i != n:\n",
    "                divs.append(i)\n",
    "            divs.append(n // i)\n",
    "    return divs\n",
    "\n",
    "def combine_divs(A, B):\n",
    "    d = set()\n",
    "    for d1 in A:\n",
    "        for d2 in B:\n",
    "            if d1 & 1 and d2 & 1:\n",
    "                pass\n",
    "            else:\n",
    "                d.add(d1 * d2)\n",
    "    return list(d)\n",
    "from tqdm import trange\n",
    "N = 25_000_000\n",
    "C = (N - 1) // 2\n",
    "for k in trange(1, N + 1):\n",
    "    A = get_divs(k - 1)\n",
    "    B = get_divs(k + 1)\n",
    "    comb = combine_divs(A, B)\n",
    "    for d in comb:\n",
    "        if d % 2 == 0:\n",
    "            j = d // 2\n",
    "            i = (k**2 - 1) // (2 * j) - j\n",
    "            rt = round((2 * j**2 + 2 * i * j + 1)**0.5)\n",
    "            a_u = j + rt\n",
    "            b_u = a_u + i\n",
    "            c_u = a_u + i + j\n",
    "            if a_u >= 1 and a_u <= b_u and a_u + b_u + c_u <= N:\n",
    "                C += 1\n",
    "print(C)"
   ]
  }
 ],
 "metadata": {
  "kernelspec": {
   "display_name": "Python 3",
   "language": "python",
   "name": "python3"
  },
  "language_info": {
   "codemirror_mode": {
    "name": "ipython",
    "version": 3
   },
   "file_extension": ".py",
   "mimetype": "text/x-python",
   "name": "python",
   "nbconvert_exporter": "python",
   "pygments_lexer": "ipython3",
   "version": "3.9.6"
  }
 },
 "nbformat": 4,
 "nbformat_minor": 2
}
