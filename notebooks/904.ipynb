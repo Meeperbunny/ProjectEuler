{
 "cells": [
  {
   "cell_type": "code",
   "execution_count": 77,
   "id": "072e7c41-8d46-406f-8e06-594c99697dae",
   "metadata": {},
   "outputs": [],
   "source": [
    "# def f(alpha, L):\n",
    "#     a = 1\n",
    "#     while a * a + 1 <= L * L:\n",
    "#         b = 1\n",
    "#         while a * a + b * b <= L * L:\n",
    "#             area = a * b / 2\n",
    "#             theta = ...\n",
    "#             if abs(alpha - theta) < mindiff:\n",
    "#                 mindiff = abs(alpha - theta)\n",
    "#                 bestarea = area\n",
    "#             elif abs(alpha - theta) == mindiff:\n",
    "#                 bestarea = area\n",
    "#             b += 1\n",
    "#         a += 1"
   ]
  },
  {
   "cell_type": "code",
   "execution_count": 78,
   "id": "3c5164df-1319-4f7e-888c-6589d3190a02",
   "metadata": {},
   "outputs": [],
   "source": [
    "# f(30, 100)"
   ]
  },
  {
   "cell_type": "code",
   "execution_count": 79,
   "id": "8fda35d0-cbef-4445-b67e-c0e47905efb8",
   "metadata": {},
   "outputs": [],
   "source": [
    "from math import pi, atan, gcd"
   ]
  },
  {
   "cell_type": "code",
   "execution_count": 75,
   "id": "14236e61-fbf5-4c5b-a317-32d84bf1b233",
   "metadata": {},
   "outputs": [],
   "source": [
    "def genthetas(L):\n",
    "    thetas = []\n",
    "    n = 1\n",
    "    while n * n + 1 <= L:\n",
    "        m = 1\n",
    "        while m < n and n * n + m * m <= L:\n",
    "            if (m + n) & 1 and gcd(m, n) == 1:\n",
    "                a = n * n - m * m\n",
    "                b = 2 * m * n\n",
    "                c = n * n + m * m\n",
    "                # print(a, b, (n * n + m * m))\n",
    "                # Find the max triple you can get given this primative\n",
    "                # Add the angle theta and the side lengths\n",
    "                mult = L // c\n",
    "                max_a = a * mult\n",
    "                max_b = b * mult\n",
    "                max_c = c * mult\n",
    "                # Calc everything\n",
    "                theta_p = 2 * pi - (pi / 2 + atan(2 * max_b / max_a) + atan(2 * max_a / max_b))\n",
    "                theta = pi - theta_p\n",
    "                side_len = max_a + max_b + max_c\n",
    "                thetas.append((theta / pi * 180, side_len))\n",
    "            m += 1\n",
    "        n += 1\n",
    "    return thetas"
   ]
  },
  {
   "cell_type": "code",
   "execution_count": 76,
   "id": "10d74dac-aa77-42eb-99e6-41aa08545998",
   "metadata": {},
   "outputs": [
    {
     "name": "stdout",
     "output_type": "stream",
     "text": [
      "[(0.12164672469438378, 1997982), (0.12181914991339345, 1992332), (0.12199206462470481, 1986690), (0.12216547091562686, 1981056), (0.12233937088547836, 1975430)]\n"
     ]
    },
    {
     "data": {
      "text/plain": [
       "16684370"
      ]
     },
     "execution_count": 76,
     "metadata": {},
     "output_type": "execute_result"
    }
   ],
   "source": [
    "def ans(N, L):\n",
    "    t = genthetas(L)\n",
    "    t.sort()\n",
    "    print(t[0:5])\n",
    "    # Create solve list\n",
    "    to_solve = []\n",
    "    for n in range(1, N + 1):\n",
    "        to_solve.append(n**(1/3))\n",
    "\n",
    "    sp, tp = 0, 0\n",
    "    tot = 0\n",
    "    # Check if sp is at a minimum between both. If this is the case, then it is best between one of the two.\n",
    "    while sp != len(to_solve):\n",
    "        s = to_solve[sp]\n",
    "        solved = False\n",
    "        if tp == 0:\n",
    "            if s <= t[tp][0]:\n",
    "                solved = True\n",
    "                tot += t[tp][1]\n",
    "        elif tp == len(t) - 1:\n",
    "            if s >= t[tp][0]:\n",
    "                solved = True\n",
    "                tot += t[tp][1]\n",
    "        else:\n",
    "            if s >= t[tp][0] and s <= t[tp + 1][0]:\n",
    "                solved = True\n",
    "                # Is good here\n",
    "                if s - t[tp][0] < t[tp + 1][0] - s:\n",
    "                    tot += t[tp][1]\n",
    "                if s - t[tp][0] > t[tp + 1][0] - s:\n",
    "                    tot += t[tp + 1][1]\n",
    "                if s - t[tp][0] == t[tp + 1][0] - s:\n",
    "                    tot += max(t[tp + 1][0], t[tp + 1][1])\n",
    "        if solved:\n",
    "            sp += 1\n",
    "        else:\n",
    "            tp += 1\n",
    "    return tot\n",
    "        \n",
    "ans(10, 10**6)"
   ]
  },
  {
   "cell_type": "code",
   "execution_count": null,
   "id": "d9128383-1b47-43e7-80c5-6403cc34632f",
   "metadata": {},
   "outputs": [],
   "source": []
  },
  {
   "cell_type": "code",
   "execution_count": null,
   "id": "405aa35a-4794-435a-973e-ab033cf4dea2",
   "metadata": {},
   "outputs": [],
   "source": []
  },
  {
   "cell_type": "code",
   "execution_count": null,
   "id": "f9cd15b7-3f98-4168-9dfb-0acdc314a4f2",
   "metadata": {},
   "outputs": [],
   "source": []
  },
  {
   "cell_type": "code",
   "execution_count": null,
   "id": "07de66f2-658c-40d0-ae63-c51fc8231a73",
   "metadata": {},
   "outputs": [],
   "source": [
    "from math import pi, atan, gcd\n",
    "\n",
    "def genthetas(L):\n",
    "    thetas = []\n",
    "    n = 1\n",
    "    while n * n + 1 <= L:\n",
    "        m = 1\n",
    "        while m < n and n * n + m * m <= L:\n",
    "            if (m + n) & 1 and gcd(m, n) == 1:\n",
    "                a = n * n - m * m\n",
    "                b = 2 * m * n\n",
    "                c = n * n + m * m\n",
    "                # print(a, b, (n * n + m * m))\n",
    "                # Find the max triple you can get given this primative\n",
    "                # Add the angle theta and the side lengths\n",
    "                mult = L // c\n",
    "                max_a = a * mult\n",
    "                max_b = b * mult\n",
    "                max_c = c * mult\n",
    "                # Calc everything\n",
    "                theta_p = 2 * pi - (pi / 2 + atan(2 * max_b / max_a) + atan(2 * max_a / max_b))\n",
    "                theta = pi - theta_p\n",
    "                side_len = max_a + max_b + max_c\n",
    "                thetas.append((theta / pi * 180, side_len))\n",
    "            m += 1\n",
    "        n += 1\n",
    "    return thetas\n",
    "\n",
    "def ans(N, L):\n",
    "    t = genthetas(L)\n",
    "    t.sort()\n",
    "    print(t[0:5])\n",
    "    # Create solve list\n",
    "    to_solve = []\n",
    "    for n in range(1, N + 1):\n",
    "        to_solve.append(n**(1/3))\n",
    "\n",
    "    sp, tp = 0, 0\n",
    "    tot = 0\n",
    "    # Check if sp is at a minimum between both. If this is the case, then it is best between one of the two.\n",
    "    while sp != len(to_solve):\n",
    "        s = to_solve[sp]\n",
    "        solved = False\n",
    "        if tp == 0:\n",
    "            if s <= t[tp][0]:\n",
    "                solved = True\n",
    "                tot += t[tp][1]\n",
    "        elif tp == len(t) - 1:\n",
    "            if s >= t[tp][0]:\n",
    "                solved = True\n",
    "                tot += t[tp][1]\n",
    "        else:\n",
    "            if s >= t[tp][0] and s <= t[tp + 1][0]:\n",
    "                solved = True\n",
    "                # Is good here\n",
    "                if s - t[tp][0] < t[tp + 1][0] - s:\n",
    "                    tot += t[tp][1]\n",
    "                if s - t[tp][0] > t[tp + 1][0] - s:\n",
    "                    tot += t[tp + 1][1]\n",
    "                if s - t[tp][0] == t[tp + 1][0] - s:\n",
    "                    tot += max(t[tp + 1][0], t[tp + 1][1])\n",
    "        if solved:\n",
    "            sp += 1\n",
    "        else:\n",
    "            tp += 1\n",
    "    return tot\n",
    "        \n",
    "ans(10, 10**6)"
   ]
  }
 ],
 "metadata": {
  "kernelspec": {
   "display_name": "Python 3 (ipykernel)",
   "language": "python",
   "name": "python3"
  },
  "language_info": {
   "codemirror_mode": {
    "name": "ipython",
    "version": 3
   },
   "file_extension": ".py",
   "mimetype": "text/x-python",
   "name": "python",
   "nbconvert_exporter": "python",
   "pygments_lexer": "ipython3",
   "version": "3.12.4"
  }
 },
 "nbformat": 4,
 "nbformat_minor": 5
}
