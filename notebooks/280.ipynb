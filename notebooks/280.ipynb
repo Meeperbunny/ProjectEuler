{
 "cells": [
  {
   "cell_type": "code",
   "execution_count": 2,
   "metadata": {},
   "outputs": [],
   "source": [
    "N = 5"
   ]
  },
  {
   "cell_type": "code",
   "execution_count": 3,
   "metadata": {},
   "outputs": [],
   "source": [
    "adj = [[[] for _ in range(N)] for _ in range(N)]\n",
    "for i in range(N):\n",
    "    for q in range(N):\n",
    "        for dy, dx in [\n",
    "            (-1, 0),\n",
    "            (1, 0),\n",
    "            (0, 1),\n",
    "            (0, -1)\n",
    "        ]:\n",
    "            ny, nx = i + dy, q + dx\n",
    "            if nx >= 0 and nx < N and ny >= 0 and ny < N:\n",
    "                adj[i][q].append((ny, nx))"
   ]
  },
  {
   "cell_type": "code",
   "execution_count": 51,
   "metadata": {},
   "outputs": [],
   "source": [
    "# Given some starting position at the top, approximate the probability of landing at the corresponding bottom mask\n",
    "def simStart():\n",
    "    probs = [[0 for _ in range(N)] for _ in range(N)]\n",
    "    probs[2][2] = 1\n",
    "    prob_lower = [0 for _ in range(N)]\n",
    "    ev_lower = [0 for _ in range(N)]\n",
    "    for step in range(10_000):\n",
    "        nxt = [[0 for _ in range(N)] for _ in range(N)]\n",
    "        for i in range(N):\n",
    "            for q in range(N):\n",
    "                for y, x in adj[i][q]:\n",
    "                    nxt[y][x] += probs[i][q] / len(adj[i][q])\n",
    "        # Extract probs\n",
    "        for i in range(N):\n",
    "            prob_lower[i] += nxt[0][i]\n",
    "            ev_lower[i] += nxt[0][i] * (step + 1)\n",
    "            nxt[0][i] = 0\n",
    "        probs = nxt.copy()\n",
    "    return prob_lower, ev_lower"
   ]
  },
  {
   "cell_type": "code",
   "execution_count": 70,
   "metadata": {},
   "outputs": [],
   "source": [
    "# Given some starting position at the top, approximate the probability of landing at the corresponding bottom mask\n",
    "from functools import cache\n",
    "@cache\n",
    "def simTop(topPos, botMask):\n",
    "    probs = [[0 for _ in range(N)] for _ in range(N)]\n",
    "    probs[0][topPos] = 1\n",
    "    prob_lower = [0 for _ in range(N)]\n",
    "    ev_lower = [0 for _ in range(N)]\n",
    "    for step in range(10_000):\n",
    "        nxt = [[0 for _ in range(N)] for _ in range(N)]\n",
    "        for i in range(N):\n",
    "            for q in range(N):\n",
    "                for y, x in adj[i][q]:\n",
    "                    nxt[y][x] += probs[i][q] / len(adj[i][q])\n",
    "        # Extract probs\n",
    "        for i in range(N):\n",
    "            if botMask[i]:\n",
    "                prob_lower[i] += nxt[4][i]\n",
    "                ev_lower[i] += nxt[4][i] * (step + 1)\n",
    "                nxt[4][i] = 0\n",
    "        probs = nxt.copy()\n",
    "    return prob_lower, ev_lower"
   ]
  },
  {
   "cell_type": "code",
   "execution_count": 258,
   "metadata": {},
   "outputs": [],
   "source": [
    "# Given some starting position at the top, approximate the probability of landing at the corresponding bottom mask\n",
    "@cache\n",
    "def simBot(botPos, topMask):\n",
    "    probs = [[0 for _ in range(N)] for _ in range(N)]\n",
    "    probs[4][botPos] = 1\n",
    "    prob_lower = [0 for _ in range(N)]\n",
    "    ev_lower = [0 for _ in range(N)]\n",
    "    for step in range(10_000):\n",
    "        nxt = [[0 for _ in range(N)] for _ in range(N)]\n",
    "        for i in range(N):\n",
    "            for q in range(N):\n",
    "                for y, x in adj[i][q]:\n",
    "                    nxt[y][x] += probs[i][q] / len(adj[i][q])\n",
    "        # Extract probs\n",
    "        for i in range(N):\n",
    "            if topMask[i]:\n",
    "                prob_lower[i] += nxt[0][i]\n",
    "                ev_lower[i] += nxt[0][i] * (step + 1)\n",
    "                nxt[0][i] = 0\n",
    "        probs = nxt.copy()\n",
    "    return prob_lower, ev_lower"
   ]
  },
  {
   "cell_type": "code",
   "execution_count": 259,
   "metadata": {},
   "outputs": [],
   "source": [
    "from itertools import permutations\n",
    "def getcnt(c):\n",
    "    return set(permutations((1 if i < c else 0 for i in range(N))))"
   ]
  },
  {
   "cell_type": "code",
   "execution_count": 317,
   "metadata": {},
   "outputs": [],
   "source": [
    "lk = {} # tup (topm) + (botm) to totalProb, cEV\n",
    "PP = {}\n",
    "EE = {}\n",
    "# Get base\n",
    "p, ev = simStart()\n",
    "for i in range(N):\n",
    "    tt = tuple(1 if q != i else 0 for q in range(5)) + (1, 1, 1, 1, 1)\n",
    "    PP[tt] = [0 for _ in range(N)]\n",
    "    EE[tt] = [0 for _ in range(N)]\n",
    "    PP[tt][i] = p[i]\n",
    "    EE[tt][i] = ev[i]"
   ]
  },
  {
   "cell_type": "code",
   "execution_count": 318,
   "metadata": {},
   "outputs": [
    {
     "name": "stdout",
     "output_type": "stream",
     "text": [
      "4 5\n",
      "4 4\n",
      "3 4\n",
      "3 3\n",
      "2 3\n",
      "2 2\n",
      "1 2\n",
      "1 1\n",
      "0 1\n"
     ]
    }
   ],
   "source": [
    "uc, lc = 4, 5\n",
    "while uc or lc:\n",
    "    print(uc, lc)\n",
    "    ou = getcnt(uc)\n",
    "    nl = getcnt(lc)\n",
    "    tc = []\n",
    "    for e in ou:\n",
    "        for e2 in nl:\n",
    "            tc.append((e, e2))\n",
    "    if lc > uc:\n",
    "        # Go through and such\n",
    "        for umask, lmask in tc:\n",
    "            probs = PP[tuple(umask + lmask)]\n",
    "            for i in range(5):\n",
    "                if not umask[i]:\n",
    "                    nprob, nev = simTop(i, lmask)\n",
    "                    for q in range(5):\n",
    "                        if lmask[q]:\n",
    "                            ulmask = tuple(lmask[j] if j != q else 0 for j in range(N))\n",
    "                            # Prob of going from i to q\n",
    "                            if umask + ulmask not in PP:\n",
    "                                PP[umask + ulmask] = [0 for _ in range(N)]\n",
    "                                EE[umask + ulmask] = [0 for _ in range(N)]\n",
    "                            PP[umask + ulmask][q] += probs[i] * nprob[q]\n",
    "                            # EE[umask + ulmask][q] += probs[i] * nev[q]\n",
    "                            # probs[i] * nprob[q]\n",
    "        lc -= 1\n",
    "    else:\n",
    "        # Take from upper\n",
    "        # Go through and such\n",
    "        for umask, lmask in tc:\n",
    "            probs = PP[tuple(umask + lmask)]\n",
    "            for i in range(5):\n",
    "                if not lmask[i]:\n",
    "                    nprob, nev = simBot(i, umask)\n",
    "                    for q in range(5):\n",
    "                        if umask[q]:\n",
    "                            uumask = tuple(umask[j] if j != q else 0 for j in range(N))\n",
    "                            # Prob of going from i to q\n",
    "                            if uumask + lmask not in PP:\n",
    "                                PP[uumask + lmask] = [0 for _ in range(N)]\n",
    "                                EE[uumask + lmask] = [0 for _ in range(N)]\n",
    "                            PP[uumask + lmask][q] += probs[i] * nprob[q]\n",
    "                            # EE[uumask + lmask][q] += probs[i] * nev[q]\n",
    "                            # probs[i] * nprob[q]\n",
    "        uc -= 1"
   ]
  },
  {
   "cell_type": "code",
   "execution_count": 319,
   "metadata": {},
   "outputs": [
    {
     "name": "stdout",
     "output_type": "stream",
     "text": [
      "4 5\n",
      "4 4\n",
      "3 4\n",
      "3 3\n",
      "2 3\n",
      "2 2\n",
      "1 2\n",
      "1 1\n",
      "0 1\n"
     ]
    }
   ],
   "source": [
    "uc, lc = 4, 5\n",
    "while uc or lc:\n",
    "    print(uc, lc)\n",
    "    ou = getcnt(uc)\n",
    "    nl = getcnt(lc)\n",
    "    tc = []\n",
    "    for e in ou:\n",
    "        for e2 in nl:\n",
    "            tc.append((e, e2))\n",
    "    if lc > uc:\n",
    "        # Go through and such\n",
    "        for umask, lmask in tc:\n",
    "            probs = PP[tuple(umask + lmask)]\n",
    "            evs = EE[tuple(umask + lmask)]\n",
    "            for i in range(5):\n",
    "                if not umask[i]:\n",
    "                    nprob, nev = simTop(i, lmask)\n",
    "                    for q in range(5):\n",
    "                        if lmask[q]:\n",
    "                            ulmask = tuple(lmask[j] if j != q else 0 for j in range(N))\n",
    "                            # Prob of going from i to q\n",
    "                            if umask + ulmask not in PP:\n",
    "                                PP[umask + ulmask] = [0 for _ in range(N)]\n",
    "                                EE[umask + ulmask] = [0 for _ in range(N)]\n",
    "                            if PP[umask + ulmask][q]:\n",
    "                                cev = nev[q] + evs[i]\n",
    "                                EE[umask + ulmask][q] += (probs[i] * nev[q]) + nprob[q] * evs[i]\n",
    "                            # probs[i] * nprob[q]\n",
    "        lc -= 1\n",
    "    else:\n",
    "        # Take from upper\n",
    "        # Go through and such\n",
    "        for umask, lmask in tc:\n",
    "            probs = PP[tuple(umask + lmask)]\n",
    "            evs = EE[tuple(umask + lmask)]\n",
    "            for i in range(5):\n",
    "                if not lmask[i]:\n",
    "                    nprob, nev = simBot(i, umask)\n",
    "                    for q in range(5):\n",
    "                        if umask[q]:\n",
    "                            uumask = tuple(umask[j] if j != q else 0 for j in range(N))\n",
    "                            # Prob of going from i to q\n",
    "                            if uumask + lmask not in PP:\n",
    "                                PP[uumask + lmask] = [0 for _ in range(N)]\n",
    "                                EE[uumask + lmask] = [0 for _ in range(N)]\n",
    "                            if PP[uumask + lmask][q]:\n",
    "                                EE[uumask + lmask][q] += (probs[i] * nev[q]) + nprob[q] * evs[i]\n",
    "                            # probs[i] * nprob[q]\n",
    "        uc -= 1"
   ]
  },
  {
   "cell_type": "code",
   "execution_count": 323,
   "metadata": {},
   "outputs": [
    {
     "data": {
      "text/plain": [
       "426.0117061321183"
      ]
     },
     "execution_count": 323,
     "metadata": {},
     "output_type": "execute_result"
    }
   ],
   "source": [
    "E = 0\n",
    "for i in range(N):\n",
    "    A = EE[(0, 0, 0, 0, 0, 0, 0, 0, 0, 0)][i] * (1 / (PP[(0, 0, 0, 0, 0, 0, 0, 0, 0, 0)][i]))\n",
    "    E += A\n",
    "E / 5"
   ]
  },
  {
   "cell_type": "code",
   "execution_count": 327,
   "metadata": {},
   "outputs": [
    {
     "data": {
      "text/plain": [
       "430.08824671668674"
      ]
     },
     "execution_count": 327,
     "metadata": {},
     "output_type": "execute_result"
    }
   ],
   "source": [
    "sum(EE[(0, 0, 0, 0, 0, 0, 0, 0, 0, 0)])"
   ]
  },
  {
   "cell_type": "code",
   "execution_count": 310,
   "metadata": {},
   "outputs": [
    {
     "data": {
      "text/plain": [
       "([0, 0, 4.916697347118621, 0, 0], [0, 0, 2.9523153748504947, 0, 0])"
      ]
     },
     "execution_count": 310,
     "metadata": {},
     "output_type": "execute_result"
    }
   ],
   "source": [
    "EE[(1, 1, 0, 1, 1, 1, 1, 1, 1, 1)], EE[(1, 1, 0, 1, 1, 1, 1, 0, 1, 1)]"
   ]
  },
  {
   "cell_type": "code",
   "execution_count": 311,
   "metadata": {},
   "outputs": [
    {
     "data": {
      "text/plain": [
       "([0, 0, 0.25657853874660935, 0, 0], [0, 0, 0.05301982143702841, 0, 0])"
      ]
     },
     "execution_count": 311,
     "metadata": {},
     "output_type": "execute_result"
    }
   ],
   "source": [
    "PP[(1, 1, 0, 1, 1, 1, 1, 1, 1, 1)], PP[(1, 1, 0, 1, 1, 1, 1, 0, 1, 1)]"
   ]
  },
  {
   "cell_type": "code",
   "execution_count": 312,
   "metadata": {},
   "outputs": [
    {
     "data": {
      "text/plain": [
       "(19.16254325531969, 55.68323873661017)"
      ]
     },
     "execution_count": 312,
     "metadata": {},
     "output_type": "execute_result"
    }
   ],
   "source": [
    "EE[(1, 1, 0, 1, 1, 1, 1, 1, 1, 1)][2] * (1 / PP[(1, 1, 0, 1, 1, 1, 1, 1, 1, 1)][2]),\\\n",
    "EE[(1, 1, 0, 1, 1, 1, 1, 0, 1, 1)][2] * (1 / PP[(1, 1, 0, 1, 1, 1, 1, 0, 1, 1)][2])"
   ]
  },
  {
   "cell_type": "code",
   "execution_count": 80,
   "metadata": {},
   "outputs": [],
   "source": [
    "# [5, 5 -> 4, (5)] -> 4, 4"
   ]
  },
  {
   "cell_type": "code",
   "execution_count": 316,
   "metadata": {},
   "outputs": [
    {
     "data": {
      "text/plain": [
       "51.148684712161646"
      ]
     },
     "execution_count": 316,
     "metadata": {},
     "output_type": "execute_result"
    }
   ],
   "source": [
    "from random import randint\n",
    "def sim():\n",
    "    lk = [\n",
    "        [0, 0, 0, 0, 0],\n",
    "        [0, 0, 0, 0, 0],\n",
    "        [0, 0, 0, 0, 0],\n",
    "        [0, 0, 0, 0, 0],\n",
    "        [1, 1, 1, 1, 1],\n",
    "    ]\n",
    "    x = 2\n",
    "    y = 2\n",
    "    c = 0\n",
    "    hasSeed = False\n",
    "    for M in range(200_000):\n",
    "        if sum(lk[0]) == 1 and sum(lk[4]) == 4:\n",
    "            if lk[0][2] == 1 and lk[4][2] == 0:\n",
    "                return M\n",
    "            return -1\n",
    "        y, x = adj[y][x][randint(0, len(adj[y][x]) - 1)]\n",
    "        if hasSeed and y == 0 and lk[y][x] == 0:\n",
    "            lk[y][x] = 1\n",
    "            hasSeed = False\n",
    "        if not hasSeed and y == 4 and lk[y][x] == 1:\n",
    "            lk[y][x] = 0\n",
    "            hasSeed = True\n",
    "    return M\n",
    "data = tuple(e for e in [sim() for _ in range(100_000)] if e != -1)\n",
    "sum(data) / len(data)"
   ]
  },
  {
   "cell_type": "code",
   "execution_count": 326,
   "metadata": {},
   "outputs": [
    {
     "data": {
      "text/plain": [
       "429.6127"
      ]
     },
     "execution_count": 326,
     "metadata": {},
     "output_type": "execute_result"
    }
   ],
   "source": [
    "from random import randint\n",
    "def sim():\n",
    "    lk = [\n",
    "        [0, 0, 0, 0, 0],\n",
    "        [0, 0, 0, 0, 0],\n",
    "        [0, 0, 0, 0, 0],\n",
    "        [0, 0, 0, 0, 0],\n",
    "        [1, 1, 1, 1, 1],\n",
    "    ]\n",
    "    x = 2\n",
    "    y = 2\n",
    "    c = 0\n",
    "    hasSeed = False\n",
    "    for M in range(100_000):\n",
    "        if sum(lk[0]) == 5:\n",
    "            return M\n",
    "        y, x = adj[y][x][randint(0, len(adj[y][x]) - 1)]\n",
    "        if hasSeed and y == 0 and lk[y][x] == 0:\n",
    "            lk[y][x] = 1\n",
    "            hasSeed = False\n",
    "        if not hasSeed and y == 4 and lk[y][x] == 1:\n",
    "            lk[y][x] = 0\n",
    "            hasSeed = True\n",
    "sum(sim() for _ in range(10_000)) / 10_000"
   ]
  },
  {
   "cell_type": "code",
   "execution_count": 197,
   "metadata": {},
   "outputs": [],
   "source": [
    "from random import randint\n",
    "def verify():\n",
    "    TT = [0 for _ in range(5)]\n",
    "    SS = [0 for _ in range(5)]\n",
    "    for _ in range(100_000):\n",
    "        lk = [\n",
    "            [0, 0, 0, 0, 0],\n",
    "            [0, 0, 0, 0, 0],\n",
    "            [0, 0, 0, 0, 0],\n",
    "            [0, 0, 0, 0, 0],\n",
    "            [1, 1, 1, 1, 1],\n",
    "        ]\n",
    "        x = 3\n",
    "        y = 0\n",
    "        c = 0\n",
    "        hasSeed = False\n",
    "        for M in range(100_000):\n",
    "            y, x = adj[y][x][randint(0, len(adj[y][x]) - 1)]\n",
    "            if not hasSeed and y == 4 and lk[y][x] == 1:\n",
    "                TT[x] += 1\n",
    "                SS[x] += (M + 1)\n",
    "                break\n",
    "    return TT, SS"
   ]
  },
  {
   "cell_type": "code",
   "execution_count": null,
   "metadata": {},
   "outputs": [],
   "source": []
  }
 ],
 "metadata": {
  "kernelspec": {
   "display_name": "Python 3",
   "language": "python",
   "name": "python3"
  },
  "language_info": {
   "codemirror_mode": {
    "name": "ipython",
    "version": 3
   },
   "file_extension": ".py",
   "mimetype": "text/x-python",
   "name": "python",
   "nbconvert_exporter": "python",
   "pygments_lexer": "ipython3",
   "version": "3.9.6"
  }
 },
 "nbformat": 4,
 "nbformat_minor": 2
}
