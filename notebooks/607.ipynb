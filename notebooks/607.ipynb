{
 "cells": [
  {
   "cell_type": "code",
   "execution_count": null,
   "id": "656f4755-1910-48c4-8df6-6310e23ca1f0",
   "metadata": {},
   "outputs": [],
   "source": [
    "from scipy.optimize import *"
   ]
  },
  {
   "cell_type": "code",
   "execution_count": null,
   "id": "f7fd4c60-c723-42ba-a909-acde83a4bac3",
   "metadata": {},
   "outputs": [],
   "source": [
    "def days(a, b, r):\n",
    "    x1, y1 = a\n",
    "    x2, y2 = b\n",
    "    return ((x1 - x2)**2 + (y1 - y2)**2)**0.5 / r"
   ]
  },
  {
   "cell_type": "code",
   "execution_count": 37,
   "id": "273f7c02-ab2a-483e-a256-62c74c7173d3",
   "metadata": {},
   "outputs": [],
   "source": [
    "def calc(z):\n",
    "    wid = (100*100 // 2)**0.5\n",
    "    x = [0, *[(wid - 50) / 2 + 10 * i for i in range(6)], wid]\n",
    "    y = [0, *z, wid]\n",
    "    dist = 0\n",
    "    for i in range(len(x) - 1):\n",
    "        r = 10 - i\n",
    "        if i == 0 or i == len(x) - 2:\n",
    "            r = 10\n",
    "        # print(i, r)\n",
    "        dist += days((x[i], y[i]), (x[i + 1], y[i + 1]), r)\n",
    "    return dist"
   ]
  },
  {
   "cell_type": "code",
   "execution_count": 38,
   "id": "514e52f1-1341-4832-9d12-d43cce325b71",
   "metadata": {},
   "outputs": [
    {
     "data": {
      "text/plain": [
       "  message: Optimization terminated successfully.\n",
       "  success: True\n",
       "   status: 0\n",
       "      fun: 13.12651086848939\n",
       "        x: [ 1.612e+01  2.771e+01  3.681e+01  4.410e+01  4.995e+01\n",
       "             5.459e+01]\n",
       "      nit: 51\n",
       "      jac: [ 7.033e-06 -2.503e-06 -7.510e-06  1.311e-06  2.384e-07\n",
       "             7.153e-07]\n",
       " hess_inv: [[ 4.367e+02  3.497e+02 ...  2.379e+02  2.108e+02]\n",
       "            [ 3.497e+02  4.449e+02 ...  3.015e+02  2.715e+02]\n",
       "            ...\n",
       "            [ 2.379e+02  3.015e+02 ...  4.541e+02  4.186e+02]\n",
       "            [ 2.108e+02  2.715e+02 ...  4.186e+02  4.398e+02]]\n",
       "     nfev: 371\n",
       "     njev: 53"
      ]
     },
     "execution_count": 38,
     "metadata": {},
     "output_type": "execute_result"
    }
   ],
   "source": [
    "minimize(calc, [21, 25, 29, 33, 35, 39])"
   ]
  },
  {
   "cell_type": "code",
   "execution_count": null,
   "id": "ed320a13-2e8a-44b4-8ce9-92501b944490",
   "metadata": {},
   "outputs": [],
   "source": [
    "#Matlab\n",
    "13.1265108586"
   ]
  },
  {
   "cell_type": "code",
   "execution_count": null,
   "id": "d090047d-6947-44aa-95db-b23fb42276f6",
   "metadata": {},
   "outputs": [],
   "source": [
    "13.12651086848939"
   ]
  },
  {
   "cell_type": "code",
   "execution_count": null,
   "id": "b22a711b-22af-49bd-90ef-d42e4b8b4a58",
   "metadata": {},
   "outputs": [],
   "source": [
    "from scipy.optimize import *\n",
    "\n",
    "def days(a, b, r):\n",
    "    x1, y1 = a\n",
    "    x2, y2 = b\n",
    "    return ((x1 - x2)**2 + (y1 - y2)**2)**0.5 / r\n",
    "\n",
    "def calc(z):\n",
    "    wid = (100*100 // 2)**0.5\n",
    "    x = [0, *[(wid - 50) / 2 + 10 * i for i in range(6)], wid]\n",
    "    y = [0, *z, wid]\n",
    "    dist = 0\n",
    "    for i in range(len(x) - 1):\n",
    "        r = 10 - i\n",
    "        if i == 0 or i == len(x) - 2:\n",
    "            r = 10\n",
    "        # print(i, r)\n",
    "        dist += days((x[i], y[i]), (x[i + 1], y[i + 1]), r)\n",
    "    return dist\n",
    "\n",
    "minimize(calc, [21, 25, 29, 33, 35, 39])"
   ]
  }
 ],
 "metadata": {
  "kernelspec": {
   "display_name": "Python 3 (ipykernel)",
   "language": "python",
   "name": "python3"
  },
  "language_info": {
   "codemirror_mode": {
    "name": "ipython",
    "version": 3
   },
   "file_extension": ".py",
   "mimetype": "text/x-python",
   "name": "python",
   "nbconvert_exporter": "python",
   "pygments_lexer": "ipython3",
   "version": "3.12.4"
  }
 },
 "nbformat": 4,
 "nbformat_minor": 5
}
