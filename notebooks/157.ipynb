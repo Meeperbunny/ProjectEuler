{
 "cells": [
  {
   "cell_type": "code",
   "execution_count": 7,
   "id": "c5cd94b6-5585-4ade-83aa-2c61cf2ed170",
   "metadata": {},
   "outputs": [],
   "source": [
    "def get_divs(n):\n",
    "    divs = set()\n",
    "    for i in range(1, int(n**0.5+1)):\n",
    "        if n % i == 0:\n",
    "            divs.add(n // i)\n",
    "            divs.add(i)\n",
    "    return sorted(list(divs))\n",
    "\n",
    "tot = 0\n",
    "s = set()\n",
    "for n in range(1, 10):\n",
    "    print(f\"On n = {n}\")\n",
    "    N = 10**n\n",
    "    divs = get_divs(N)\n",
    "    for a in range(len(divs)):\n",
    "        for b in range(a, len(divs)):\n",
    "            A, B = divs[a], divs[b]\n",
    "            if N * (A + B) % (A * B) == 0:\n",
    "                p = N * (A + B) // (A * B)\n",
    "                for div in get_divs(p):\n",
    "                    s.add((A * div, B * div, p // div))\n",
    "len(s)"
   ]
  }
 ],
 "metadata": {
  "kernelspec": {
   "display_name": "Python 3 (ipykernel)",
   "language": "python",
   "name": "python3"
  },
  "language_info": {
   "codemirror_mode": {
    "name": "ipython",
    "version": 3
   },
   "file_extension": ".py",
   "mimetype": "text/x-python",
   "name": "python",
   "nbconvert_exporter": "python",
   "pygments_lexer": "ipython3",
   "version": "3.12.4"
  }
 },
 "nbformat": 4,
 "nbformat_minor": 5
}
