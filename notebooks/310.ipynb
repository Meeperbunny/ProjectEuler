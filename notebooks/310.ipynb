{
 "cells": [
  {
   "cell_type": "code",
   "execution_count": null,
   "id": "30694960-e594-4966-a0bc-5817f126103b",
   "metadata": {},
   "outputs": [],
   "source": [
    "def xormul(a, b, c, mod):\n",
    "    m = len(a)\n",
    "    \n",
    "    if m == 1:\n",
    "        c[0] = a[0] * b[0] % mod\n",
    "        return\n",
    "    \n",
    "    inv2 = pow(2, mod - 2, mod)  # Modular multiplicative inverse of 2 under mod\n",
    "    \n",
    "    ap, bp, an, bn = [], [], [], []\n",
    "    mdiv = m // 2\n",
    "    for i in range(mdiv):\n",
    "        ap.append((a[i] + a[i + mdiv]) % mod)\n",
    "        an.append((a[i] - a[i + mdiv] + mod) % mod)\n",
    "    \n",
    "    d0 = [0] * (mdiv)\n",
    "    d1 = [0] * (mdiv)\n",
    "    \n",
    "    xormul(ap, ap, d0, mod)\n",
    "    xormul(an, an, d1, mod)\n",
    "    \n",
    "    for i in range(mdiv):\n",
    "        c[i] = (d0[i] + d1[i]) * inv2 % mod\n",
    "        c[i + mdiv] = (d0[i] - d1[i] + mod) * inv2 % mod"
   ]
  },
  {
   "cell_type": "code",
   "execution_count": 8,
   "id": "218cec17-f4cf-461c-b8bf-031ab340085d",
   "metadata": {},
   "outputs": [],
   "source": [
    "from math import log2"
   ]
  },
  {
   "cell_type": "code",
   "execution_count": 22,
   "id": "276b46c9-6b40-4028-8f6d-cc3b0f87422c",
   "metadata": {},
   "outputs": [
    {
     "name": "stdout",
     "output_type": "stream",
     "text": [
      "8\n"
     ]
    },
    {
     "data": {
      "text/plain": [
       "1160"
      ]
     },
     "execution_count": 22,
     "metadata": {},
     "output_type": "execute_result"
    }
   ],
   "source": [
    "def ans(n):\n",
    "    grundy = [0 for _ in range(n + 1)]\n",
    "    max_nimber = int(pow(2, int(1+log2(int(n**0.5+1)))))\n",
    "    # print(max_nimber)\n",
    "    for i in range(1, n + 1):\n",
    "        q = 1\n",
    "        c_nims = [0] * max_nimber\n",
    "        while i - q * q >= 0:\n",
    "            c_nims[grundy[i - q * q]] = 1\n",
    "            q += 1\n",
    "        for q in range(max_nimber):\n",
    "            if not c_nims[q]:\n",
    "                grundy[i] = q\n",
    "                break\n",
    "    # Collect grundys\n",
    "    pre_nim = [[0 for _ in range(max_nimber)] for _ in range(n + 1)]\n",
    "    nxt_nim = [[0 for _ in range(max_nimber)] for _ in range(n + 1)]\n",
    "    last_nim = [[0 for _ in range(max_nimber)] for _ in range(n + 1)]\n",
    "\n",
    "    # Construct Prefix for first\n",
    "    for i, e in enumerate(grundy):\n",
    "        if i:\n",
    "            pre_nim[i] = pre_nim[i - 1].copy()\n",
    "        pre_nim[i][e] += 1\n",
    "\n",
    "        for q in range(max_nimber):\n",
    "            # print(e ^ q, nxt_nim[i])\n",
    "            nxt_nim[i][e ^ q] += 1 * pre_nim[i][q]\n",
    "\n",
    "    # Construct last\n",
    "    for i, e in enumerate(grundy):\n",
    "        if i:\n",
    "            for q in range(max_nimber):\n",
    "                nxt_nim[i][q] += nxt_nim[i - 1][q]\n",
    "\n",
    "        for q in range(max_nimber):\n",
    "            last_nim[i][e ^ q] += 1 * nxt_nim[i][q]\n",
    "\n",
    "    tot = 0\n",
    "    for e in last_nim:\n",
    "        tot += e[0]\n",
    "    return tot\n",
    "ans(29)"
   ]
  },
  {
   "cell_type": "code",
   "execution_count": 3,
   "id": "c059ace4-2fff-4682-940b-ba1ea2701897",
   "metadata": {},
   "outputs": [
    {
     "name": "stdout",
     "output_type": "stream",
     "text": [
      "[0, 1, 0, 1, 1, 0, 1, 0, 1, 1, 0, 1, 0, 1, 1, 0, 1, 0, 1, 1, 0, 1, 0, 1, 1, 1, 1, 1, 1, 1]\n"
     ]
    }
   ],
   "source": []
  },
  {
   "cell_type": "code",
   "execution_count": null,
   "id": "e574649f-be73-4031-ad3a-d23a7a8f412f",
   "metadata": {},
   "outputs": [],
   "source": []
  }
 ],
 "metadata": {
  "kernelspec": {
   "display_name": "Python 3 (ipykernel)",
   "language": "python",
   "name": "python3"
  },
  "language_info": {
   "codemirror_mode": {
    "name": "ipython",
    "version": 3
   },
   "file_extension": ".py",
   "mimetype": "text/x-python",
   "name": "python",
   "nbconvert_exporter": "python",
   "pygments_lexer": "ipython3",
   "version": "3.12.4"
  }
 },
 "nbformat": 4,
 "nbformat_minor": 5
}
