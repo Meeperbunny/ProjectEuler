{
 "cells": [
  {
   "cell_type": "code",
   "execution_count": 31,
   "metadata": {},
   "outputs": [
    {
     "data": {
      "text/plain": [
       "5.499602909301725"
      ]
     },
     "execution_count": 31,
     "metadata": {},
     "output_type": "execute_result"
    }
   ],
   "source": [
    "B = 0.6734\n",
    "((6 * 0.2 + 1)**2 + (6 * B + 1)**2)**0.5"
   ]
  },
  {
   "cell_type": "code",
   "execution_count": 62,
   "metadata": {},
   "outputs": [],
   "source": [
    "def f(A, k) -> tuple:\n",
    "    \"\"\"Given a and k, gives bounds for b\"\"\"\n",
    "    v = []\n",
    "    for C in [1/2, -1/2]:\n",
    "        K = (k + C)**2\n",
    "        a, b, c = k**2, \\\n",
    "                  2 * k, \\\n",
    "                  A**2 * k**2 + 2 * A * k + 2 - K\n",
    "        v.append((-b + (b**2 - 4 * a * c)**0.5) / (2 * a))\n",
    "    return v[1], v[0]"
   ]
  },
  {
   "cell_type": "code",
   "execution_count": 218,
   "metadata": {},
   "outputs": [],
   "source": [
    "def geta(k, C):\n",
    "    a, b, c = k**2, 2*k, 2-(k+C)**2\n",
    "    if (b**2 - 4*a*c) < 0:\n",
    "        return 0\n",
    "    # print(min((-b + (b**2 - 4*a*c)**0.5) / (2*a), 1))\n",
    "    return min((-b + (b**2 - 4*a*c)**0.5) / (2*a), 1)"
   ]
  },
  {
   "cell_type": "code",
   "execution_count": 219,
   "metadata": {},
   "outputs": [],
   "source": [
    "from scipy import integrate"
   ]
  },
  {
   "cell_type": "code",
   "execution_count": 220,
   "metadata": {},
   "outputs": [],
   "source": [
    "def solve(k):\n",
    "    def u(A):\n",
    "        C = -1/2\n",
    "        K = (k + C)**2\n",
    "        a, b, c = k**2, \\\n",
    "                    2 * k, \\\n",
    "                    A**2 * k**2 + 2 * A * k + 2 - K\n",
    "        if (b**2 - 4 * a * c) < 0:\n",
    "            return 0\n",
    "        \n",
    "        return min((-b + (b**2 - 4 * a * c)**0.5) / (2 * a), 1)\n",
    "    def l(A):\n",
    "        C = 1/2\n",
    "        K = (k + C)**2\n",
    "        a, b, c = k**2, \\\n",
    "                    2 * k, \\\n",
    "                    A**2 * k**2 + 2 * A * k + 2 - K\n",
    "        if (b**2 - 4 * a * c) < 0:\n",
    "            return 0\n",
    "        return min((-b + (b**2 - 4 * a * c)**0.5) / (2 * a), 1)\n",
    "    j = geta(k, -0.5)\n",
    "    q = geta(k, 0.5)\n",
    "    # print(j, q)\n",
    "    # print(j, q)\n",
    "    return k * (integrate.quad(l, 0, q)[0] - integrate.quad(u, 0, j)[0])"
   ]
  },
  {
   "cell_type": "code",
   "execution_count": 228,
   "metadata": {},
   "outputs": [
    {
     "data": {
      "application/vnd.jupyter.widget-view+json": {
       "model_id": "073c4fb285fe4204b9002d0519a656df",
       "version_major": 2,
       "version_minor": 0
      },
      "text/plain": [
       "  0%|          | 0/100000 [00:00<?, ?it/s]"
      ]
     },
     "metadata": {},
     "output_type": "display_data"
    },
    {
     "data": {
      "text/plain": [
       "157055.80999"
      ]
     },
     "execution_count": 228,
     "metadata": {},
     "output_type": "execute_result"
    }
   ],
   "source": [
    "from tqdm.notebook import trange\n",
    "T = 0\n",
    "for k in trange(1, 10**5 + 1):\n",
    "   T += solve(k)\n",
    "round(T, 5)"
   ]
  }
 ],
 "metadata": {
  "kernelspec": {
   "display_name": "Python 3",
   "language": "python",
   "name": "python3"
  },
  "language_info": {
   "codemirror_mode": {
    "name": "ipython",
    "version": 3
   },
   "file_extension": ".py",
   "mimetype": "text/x-python",
   "name": "python",
   "nbconvert_exporter": "python",
   "pygments_lexer": "ipython3",
   "version": "3.9.6"
  }
 },
 "nbformat": 4,
 "nbformat_minor": 2
}
