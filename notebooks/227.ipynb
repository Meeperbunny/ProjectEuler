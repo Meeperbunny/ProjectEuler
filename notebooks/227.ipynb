{
 "cells": [
  {
   "cell_type": "code",
   "execution_count": 4,
   "id": "7355f58f-6d88-4f51-a2a6-a7d6744071e7",
   "metadata": {},
   "outputs": [],
   "source": [
    "# from mpmath import mp\n",
    "import numpy as np"
   ]
  },
  {
   "cell_type": "code",
   "execution_count": 15,
   "id": "5ce92715-acc9-4bb2-b836-a45a56c2f188",
   "metadata": {},
   "outputs": [],
   "source": [
    "N = 50"
   ]
  },
  {
   "cell_type": "code",
   "execution_count": 16,
   "id": "9b040e68-be6c-4c07-be52-5e1c798aaa88",
   "metadata": {},
   "outputs": [
    {
     "data": {
      "text/plain": [
       "array([3780.61862178])"
      ]
     },
     "execution_count": 16,
     "metadata": {},
     "output_type": "execute_result"
    }
   ],
   "source": [
    "a = np.zeros((N + 1, N + 1))\n",
    "b = -np.ones((N + 1, 1))\n",
    "\n",
    "b[0] = 0\n",
    "\n",
    "a[0][0] = 1\n",
    "\n",
    "a[1, 0] = 8 / 36\n",
    "a[1, 1] = 19 / 36 - 1\n",
    "a[1, 2] = 8 / 36\n",
    "a[1, 3] = 1 / 36\n",
    "\n",
    "for n in range(2, N - 1):\n",
    "    a[n, n - 2] = 1 / 36\n",
    "    a[n, n - 1] = 8 / 36\n",
    "    a[n, n - 0] = 18 / 36 - 1\n",
    "    a[n, n + 1] = 8 / 36\n",
    "    a[n, n + 2] = 1 / 36\n",
    "\n",
    "a[N - 1, N - 3] = 1 / 36\n",
    "a[N - 1, N - 2] = 8 / 36\n",
    "a[N - 1, N - 1] = 19 / 36 - 1\n",
    "a[N - 1, N - 0] = 8 / 36\n",
    "\n",
    "a[N, N - 2] = 2 / 36\n",
    "a[N, N - 1] = 16 / 36\n",
    "a[N, N - 0] = 18 / 36 - 1\n",
    "\n",
    "x = np.linalg.solve(a, b)[N]\n",
    "x"
   ]
  },
  {
   "cell_type": "code",
   "execution_count": null,
   "id": "0ca10d32-a1f3-4629-b0b0-6932149e6643",
   "metadata": {},
   "outputs": [],
   "source": [
    "3780.618621"
   ]
  },
  {
   "cell_type": "code",
   "execution_count": 17,
   "id": "7141124e-522f-48e0-b00d-02fc04c52f52",
   "metadata": {},
   "outputs": [
    {
     "data": {
      "text/plain": [
       "11"
      ]
     },
     "execution_count": 17,
     "metadata": {},
     "output_type": "execute_result"
    }
   ],
   "source": [
    "idx = 11\n",
    "\n",
    "if idx < 0:\n",
    "    idx = -idx\n",
    "elif idx > N:\n",
    "    idx = 2 * N - idx\n",
    "idx"
   ]
  },
  {
   "cell_type": "code",
   "execution_count": 8,
   "id": "9dd386d8-7f42-4d32-9dfb-e418764aaa3f",
   "metadata": {},
   "outputs": [
    {
     "data": {
      "text/plain": [
       "array([15061.23724356])"
      ]
     },
     "execution_count": 8,
     "metadata": {},
     "output_type": "execute_result"
    }
   ],
   "source": [
    "a = np.zeros((N + 1, N + 1))\n",
    "b = -np.ones((N + 1, 1))\n",
    "\n",
    "b[0] = 0\n",
    "\n",
    "a[0][0] = 1\n",
    "\n",
    "for n in range(1, N + 1):\n",
    "    conts = [\n",
    "        (n - 2, 1 / 36), \n",
    "        (n - 1, 8 / 36), \n",
    "        (n - 0, 18 / 36), \n",
    "        (n + 1, 8 / 36), \n",
    "        (n + 2, 1 / 36)\n",
    "    ]\n",
    "    for idx, val in conts:\n",
    "        if idx < 0:\n",
    "            idx = 0 - idx\n",
    "        elif idx > N:\n",
    "            idx = 2 * N - idx\n",
    "        a[n][idx] += val\n",
    "    a[n][n] -= 1\n",
    "\n",
    "# display(a, b)\n",
    "\n",
    "x = np.linalg.solve(a, b)[N]\n",
    "x"
   ]
  },
  {
   "cell_type": "code",
   "execution_count": null,
   "id": "cb776d91-941e-4a2e-a32f-2001c96d785c",
   "metadata": {},
   "outputs": [],
   "source": []
  }
 ],
 "metadata": {
  "kernelspec": {
   "display_name": "Python 3 (ipykernel)",
   "language": "python",
   "name": "python3"
  },
  "language_info": {
   "codemirror_mode": {
    "name": "ipython",
    "version": 3
   },
   "file_extension": ".py",
   "mimetype": "text/x-python",
   "name": "python",
   "nbconvert_exporter": "python",
   "pygments_lexer": "ipython3",
   "version": "3.12.6"
  }
 },
 "nbformat": 4,
 "nbformat_minor": 5
}
