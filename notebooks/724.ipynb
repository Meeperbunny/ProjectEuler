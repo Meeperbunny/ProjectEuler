{
 "cells": [
  {
   "cell_type": "code",
   "execution_count": 10,
   "metadata": {},
   "outputs": [],
   "source": [
    "def tri(n):\n",
    "    return n * (n + 1) / 2"
   ]
  },
  {
   "cell_type": "code",
   "execution_count": null,
   "metadata": {},
   "outputs": [],
   "source": []
  },
  {
   "cell_type": "code",
   "execution_count": 14,
   "metadata": {},
   "outputs": [
    {
     "name": "stdout",
     "output_type": "stream",
     "text": [
      "5 4\n",
      "5 3\n",
      "5 2\n",
      "5 1\n",
      "5 1 11.416666666666668\n",
      "4 3\n",
      "4 2\n",
      "4 1\n",
      "4 1 8.333333333333332\n",
      "3 2\n",
      "3 1\n",
      "3 1 5.5\n",
      "2 1\n",
      "2 1 3.0\n",
      "1 1 1\n"
     ]
    },
    {
     "data": {
      "text/plain": [
       "26.928472222222222"
      ]
     },
     "execution_count": 14,
     "metadata": {},
     "output_type": "execute_result"
    }
   ],
   "source": [
    "def ans(n):\n",
    "    T = 0\n",
    "    for i in range(n, 0, -1):\n",
    "        t = 1\n",
    "        for q in range(i - 1, 0, -1):\n",
    "            print(i, q)\n",
    "            t += i / q\n",
    "        T += tri(t)\n",
    "        print(i, q, t)\n",
    "    return T / n\n",
    "ans(5)"
   ]
  },
  {
   "cell_type": "code",
   "execution_count": 15,
   "metadata": {},
   "outputs": [
    {
     "data": {
      "text/plain": [
       "16.693055555555556"
      ]
     },
     "execution_count": 15,
     "metadata": {},
     "output_type": "execute_result"
    }
   ],
   "source": [
    "12019 / 720"
   ]
  }
 ],
 "metadata": {
  "kernelspec": {
   "display_name": "Python 3",
   "language": "python",
   "name": "python3"
  },
  "language_info": {
   "codemirror_mode": {
    "name": "ipython",
    "version": 3
   },
   "file_extension": ".py",
   "mimetype": "text/x-python",
   "name": "python",
   "nbconvert_exporter": "python",
   "pygments_lexer": "ipython3",
   "version": "3.9.6"
  }
 },
 "nbformat": 4,
 "nbformat_minor": 2
}
