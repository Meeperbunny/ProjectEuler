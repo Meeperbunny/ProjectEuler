{
 "cells": [
  {
   "cell_type": "code",
   "execution_count": 7,
   "id": "6eb2f707-24bf-41ae-b5a8-1b3d529ea198",
   "metadata": {},
   "outputs": [],
   "source": [
    "import itertools\n",
    "from math import lcm\n",
    "from collections import Counter"
   ]
  },
  {
   "cell_type": "code",
   "execution_count": 8,
   "id": "658bdd15-83b8-4347-a0fe-4b920b98ddb0",
   "metadata": {},
   "outputs": [],
   "source": [
    "maxn = 45"
   ]
  },
  {
   "cell_type": "code",
   "execution_count": 9,
   "id": "0a57f52a-15bc-4116-a168-7aaedccee207",
   "metadata": {},
   "outputs": [],
   "source": [
    "def gen_primes(n):\n",
    "    sieve = [1 for _ in range(n + 1)]\n",
    "    primes = []\n",
    "    for i in range(2, n + 1):\n",
    "        if sieve[i]:\n",
    "            primes.append(i)\n",
    "            for q in range(2 * i, n + 1, i):\n",
    "                sieve[q] = 0\n",
    "    return primes"
   ]
  },
  {
   "cell_type": "code",
   "execution_count": 10,
   "id": "3ddb29d2-94ff-4a1c-8ede-47461a498c35",
   "metadata": {
    "scrolled": true
   },
   "outputs": [
    {
     "data": {
      "text/plain": [
       "[2, 3, 5, 7, 11, 13, 17, 19, 23, 29, 31, 37, 41, 43]"
      ]
     },
     "execution_count": 10,
     "metadata": {},
     "output_type": "execute_result"
    }
   ],
   "source": [
    "primes = gen_primes(maxn)\n",
    "primes"
   ]
  },
  {
   "cell_type": "code",
   "execution_count": 11,
   "id": "03d7bc18-adfb-427e-b08b-8ced8813c2f2",
   "metadata": {},
   "outputs": [],
   "source": [
    "def get_groups(p, n, plist):\n",
    "    cands = list(range(p, n + 1, p))\n",
    "    cands = [e for e in cands if e in plist]\n",
    "    valid_cands = []\n",
    "    for n_g in range(2, len(cands) + 1):\n",
    "        for cand in itertools.combinations(cands, n_g):\n",
    "            n, d = 0, 1\n",
    "            for el in cand:\n",
    "                n = d + el * el * n\n",
    "                d = d * el * el\n",
    "            if n % pow(p, 2 * len(cand)) == 0:\n",
    "                # print(n, d, cand)\n",
    "                valid_cands.append(cand)\n",
    "    return valid_cands\n",
    "# _ = get_groups(7, maxn)"
   ]
  },
  {
   "cell_type": "code",
   "execution_count": 12,
   "id": "16cb3aee-53f4-462e-b6c5-25da28e03f16",
   "metadata": {},
   "outputs": [
    {
     "name": "stdout",
     "output_type": "stream",
     "text": [
      "43 0 True\n",
      "41 0 True\n",
      "37 0 True\n",
      "31 0 True\n",
      "29 0 True\n",
      "23 0 True\n",
      "19 0 True\n",
      "17 0 True\n",
      "13 0 True\n",
      "11 0 True\n",
      "7 3 False\n",
      "5 13 False\n",
      "3 6683 False\n",
      "CPU times: total: 15.6 ms\n",
      "Wall time: 9 ms\n"
     ]
    }
   ],
   "source": [
    "%%time\n",
    "g = {}\n",
    "n_list = list(range(2, maxn + 1))\n",
    "\n",
    "fnd = False\n",
    "\n",
    "for p in reversed(primes[1:]):\n",
    "    groups = get_groups(p, maxn, n_list)\n",
    "    g[p] = groups\n",
    "    opr = False\n",
    "    if not len(groups) and not fnd:\n",
    "        opr = True\n",
    "        for el in range(p, maxn + 1, p):\n",
    "            if el in n_list:\n",
    "                n_list.remove(el)\n",
    "    else:\n",
    "        opr = False\n",
    "        fnd = True\n",
    "    print(p, len(groups), opr)\n"
   ]
  },
  {
   "cell_type": "code",
   "execution_count": 13,
   "id": "872dc051-587e-4ed6-816a-ab94e8cc18d4",
   "metadata": {},
   "outputs": [
    {
     "data": {
      "text/plain": [
       "27"
      ]
     },
     "execution_count": 13,
     "metadata": {},
     "output_type": "execute_result"
    }
   ],
   "source": [
    "len(n_list)"
   ]
  },
  {
   "cell_type": "code",
   "execution_count": 14,
   "id": "dbcb890d-b265-48e5-86a1-4804c274d765",
   "metadata": {},
   "outputs": [],
   "source": [
    "from math import lcm\n",
    "from collections import Counter"
   ]
  },
  {
   "cell_type": "code",
   "execution_count": 15,
   "id": "0dce7305-ea28-4291-8c2b-32d2b440e6c7",
   "metadata": {},
   "outputs": [],
   "source": [
    "l_a = 1\n",
    "for e in n_list:\n",
    "    l_a = lcm(l_a, e * e)\n",
    "l_a\n",
    "tar = l_a // 2"
   ]
  },
  {
   "cell_type": "code",
   "execution_count": 16,
   "id": "10f0e8fa-3572-4a8e-9a32-157d2d5a8a74",
   "metadata": {},
   "outputs": [],
   "source": [
    "n_list_f, n_list_s = n_list[:len(n_list)//2], n_list[len(n_list)//2:]\n",
    "# n_list_f, n_list_s"
   ]
  },
  {
   "cell_type": "code",
   "execution_count": 17,
   "id": "08ed1dc2",
   "metadata": {},
   "outputs": [],
   "source": [
    "from math import lcm"
   ]
  },
  {
   "cell_type": "code",
   "execution_count": 18,
   "id": "d2cb2a5c-bc95-4b5e-a946-280e0bd52819",
   "metadata": {},
   "outputs": [
    {
     "name": "stdout",
     "output_type": "stream",
     "text": [
      "2\n",
      "3\n",
      "4\n",
      "5\n",
      "6\n",
      "7\n",
      "8\n",
      "9\n",
      "10\n",
      "12\n",
      "14\n",
      "15\n",
      "16\n",
      "18\n",
      "20\n",
      "21\n",
      "24\n",
      "25\n",
      "27\n",
      "28\n",
      "30\n",
      "32\n",
      "35\n",
      "36\n",
      "40\n",
      "42\n",
      "45\n"
     ]
    }
   ],
   "source": [
    "ways_f, ways_s = Counter(), Counter()\n",
    "ways_f[0], ways_s[0] = 1, 1\n",
    "\n",
    "for e in n_list_f:\n",
    "    print(e)\n",
    "    for b_v in ways_f.copy():\n",
    "        cnt = ways_f[b_v]\n",
    "        t_a = l_a // (e * e)\n",
    "        ways_f[b_v + t_a] += cnt\n",
    "for e in n_list_s:\n",
    "    print(e)\n",
    "    for b_v in ways_s.copy():\n",
    "        cnt = ways_s[b_v]\n",
    "        t_a = l_a // (e * e)\n",
    "        ways_s[b_v + t_a] += cnt"
   ]
  },
  {
   "cell_type": "code",
   "execution_count": 19,
   "id": "12dbfc2f-8fff-42c2-b4a1-319102135ec0",
   "metadata": {},
   "outputs": [
    {
     "name": "stdout",
     "output_type": "stream",
     "text": [
      "3\n"
     ]
    }
   ],
   "source": [
    "# MEET IN THE MIDDLE\n",
    "tot = 0\n",
    "for e in ways_f:\n",
    "    cnt_f = ways_f[e]\n",
    "    t_s = tar - e\n",
    "    cnt_s = ways_s[t_s]\n",
    "    tot += cnt_f * cnt_s\n",
    "print(tot)"
   ]
  },
  {
   "cell_type": "code",
   "execution_count": null,
   "id": "09c4d73b-312c-40f1-9d16-533a8880bdd4",
   "metadata": {},
   "outputs": [],
   "source": []
  },
  {
   "cell_type": "code",
   "execution_count": 20,
   "id": "f8fb46aa-aa18-478d-b970-1f491476247f",
   "metadata": {
    "scrolled": true
   },
   "outputs": [
    {
     "name": "stdout",
     "output_type": "stream",
     "text": [
      "43 0\n",
      "41 0\n",
      "37 0\n",
      "31 0\n",
      "29 0\n",
      "23 0\n",
      "19 0\n",
      "17 0\n",
      "13 0\n",
      "11 0\n",
      "7 3\n",
      "5 13\n",
      "3 6683\n",
      "2\n",
      "3\n",
      "4\n",
      "5\n",
      "6\n",
      "7\n",
      "8\n",
      "9\n",
      "10\n",
      "12\n",
      "14\n",
      "15\n",
      "16\n",
      "18\n",
      "20\n",
      "21\n",
      "24\n",
      "25\n",
      "27\n",
      "28\n",
      "30\n",
      "32\n",
      "35\n",
      "36\n",
      "40\n",
      "42\n",
      "45\n",
      "Answer: 3\n"
     ]
    }
   ],
   "source": [
    "import itertools\n",
    "\n",
    "maxn = 45\n",
    "\n",
    "def gen_primes(n):\n",
    "    sieve = [1 for _ in range(n + 1)]\n",
    "    primes = []\n",
    "    for i in range(2, n + 1):\n",
    "        if sieve[i]:\n",
    "            primes.append(i)\n",
    "            for q in range(2 * i, n + 1, i):\n",
    "                sieve[q] = 0\n",
    "    return primes\n",
    "\n",
    "primes = gen_primes(maxn)\n",
    "primes\n",
    "\n",
    "def get_groups(p, n, plist):\n",
    "    cands = list(range(p, n + 1, p))\n",
    "    cands = [e for e in cands if e in plist]\n",
    "    valid_cands = []\n",
    "    for n_g in range(2, len(cands) + 1):\n",
    "        for cand in itertools.combinations(cands, n_g):\n",
    "            n, d = 0, 1\n",
    "            for el in cand:\n",
    "                n = d + el * el * n\n",
    "                d = d * el * el\n",
    "            if n % pow(p, 2 * len(cand)) == 0:\n",
    "                # print(n, d, cand)\n",
    "                valid_cands.append(cand)\n",
    "    return valid_cands\n",
    "\n",
    "g = {}\n",
    "n_list = list(range(2, maxn + 1))\n",
    "for p in reversed(primes[1:]):\n",
    "    groups = get_groups(p, maxn, n_list)\n",
    "    g[p] = groups\n",
    "    if not len(groups):\n",
    "        for el in range(p, maxn + 1, p):\n",
    "            if el in n_list:\n",
    "                n_list.remove(el)\n",
    "    print(p, len(groups))\n",
    "\n",
    "len(n_list)\n",
    "\n",
    "from math import lcm\n",
    "from collections import Counter\n",
    "\n",
    "l_a = 1\n",
    "for e in n_list:\n",
    "    l_a = lcm(l_a, e * e)\n",
    "l_a\n",
    "tar = l_a // 2\n",
    "\n",
    "n_list_f, n_list_s = n_list[:len(n_list)//2], n_list[len(n_list)//2:]\n",
    "# n_list_f, n_list_s\n",
    "\n",
    "ways_f, ways_s = Counter(), Counter()\n",
    "ways_f[0], ways_s[0] = 1, 1\n",
    "\n",
    "for e in n_list_f:\n",
    "    print(e)\n",
    "    for b_v in ways_f.copy():\n",
    "        cnt = ways_f[b_v]\n",
    "        t_a = l_a // (e * e)\n",
    "        ways_f[b_v + t_a] += cnt\n",
    "for e in n_list_s:\n",
    "    print(e)\n",
    "    for b_v in ways_s.copy():\n",
    "        cnt = ways_s[b_v]\n",
    "        t_a = l_a // (e * e)\n",
    "        ways_s[b_v + t_a] += cnt\n",
    "\n",
    "# MEET IN THE MIDDLE\n",
    "tot = 0\n",
    "for e in ways_f:\n",
    "    cnt_f = ways_f[e]\n",
    "    t_s = tar - e\n",
    "    cnt_s = ways_s[t_s]\n",
    "    tot += cnt_f * cnt_s\n",
    "print(\"Answer:\", tot)"
   ]
  },
  {
   "cell_type": "code",
   "execution_count": 21,
   "id": "7519fb8d-11aa-454f-859d-8c2498c22e7f",
   "metadata": {},
   "outputs": [],
   "source": [
    "# Try just based on proximity"
   ]
  },
  {
   "cell_type": "code",
   "execution_count": 22,
   "id": "26e0e6fd",
   "metadata": {},
   "outputs": [],
   "source": [
    "from math import pi"
   ]
  },
  {
   "cell_type": "code",
   "execution_count": 23,
   "id": "8d28ba54",
   "metadata": {},
   "outputs": [
    {
     "data": {
      "text/plain": [
       "1.6449340668482264"
      ]
     },
     "execution_count": 23,
     "metadata": {},
     "output_type": "execute_result"
    }
   ],
   "source": [
    "pi**2/6"
   ]
  },
  {
   "cell_type": "code",
   "execution_count": 24,
   "id": "99b2d5ed",
   "metadata": {},
   "outputs": [],
   "source": [
    "from itertools import combinations\n"
   ]
  },
  {
   "cell_type": "code",
   "execution_count": 25,
   "id": "76dc427a",
   "metadata": {},
   "outputs": [
    {
     "name": "stdout",
     "output_type": "stream",
     "text": [
      "(1,)\n",
      "(2,)\n",
      "(3,)\n"
     ]
    }
   ],
   "source": [
    "for e in combinations([1, 2, 3], r=1):\n",
    "    print(e)"
   ]
  },
  {
   "cell_type": "code",
   "execution_count": null,
   "id": "aad26be7",
   "metadata": {},
   "outputs": [
    {
     "name": "stdout",
     "output_type": "stream",
     "text": [
      "2 [2, 4, 8, 16, 32, 64] 1365/4096\n",
      "3 [3, 6, 9, 12, 18, 24, 27, 36, 48, 54, 72] 31001/186624\n",
      "5 [5, 10, 15, 20, 25, 30, 40, 45, 50, 60, 75, 80] 800749/12960000\n",
      "7 [7, 14, 21, 28, 35, 42, 49, 56, 63, 70] 1968329/62233920\n",
      "11 [11, 22, 33, 44, 55, 66, 77] 266681/21344400\n",
      "13 [13, 26, 39, 52, 65, 78] 413/46800\n",
      "17 [17, 34, 51, 68] 205/41616\n",
      "19 [19, 38, 57, 76] 205/51984\n",
      "23 [23, 46, 69] 49/19044\n",
      "29 [29, 58] 5/3364\n",
      "31 [31, 62] 5/3844\n",
      "37 [37, 74] 5/5476\n",
      "41 [41] 1/1681\n",
      "43 [43] 1/1849\n",
      "47 [47] 1/2209\n",
      "53 [53] 1/2809\n",
      "59 [59] 1/3481\n",
      "61 [61] 1/3721\n",
      "67 [67] 1/4489\n",
      "71 [71] 1/5041\n",
      "73 [73] 1/5329\n",
      "79 [79] 1/6241\n",
      "9559535124874775040000\n",
      "[2389883781218693760000, 597470945304673440000, 149367736326168360000, 37341934081542090000, 9335483520385522500, 2333870880096380625, 1062170569430530560000, 265542642357632640000, 118018952158947840000, 66385660589408160000, 29504738039736960000, 16596415147352040000, 13113216906549760000, 7376184509934240000, 4149103786838010000, 3278304226637440000, 1844046127483560000, 382381404994991001600, 95595351248747750400, 42486822777221222400, 23898837812186937600, 15295256199799640064, 10621705694305305600, 5974709453046734400, 4720758086357913600, 3823814049949910016, 2655426423576326400] [1699472911088848896, 1493677363261683600, 195092553568872960000, 48773138392218240000, 21676950396541440000, 12193284598054560000, 7803702142754918400, 5419237599135360000, 3981480685079040000, 3048321149513640000, 2408550044060160000, 1950925535688729600, 79004422519626240000, 19751105629906560000, 8778269168847360000, 4937776407476640000, 3160176900785049600, 2194567292211840000, 1612335153461760000, 56565296596892160000, 14141324149223040000, 6285032955210240000, 3535331037305760000, 2262611863875686400, 1571258238802560000, 33077976210639360000, 8269494052659840000, 3675330690071040000, 2067373513164960000, 26480706717104640000, 6620176679276160000, 2942300746344960000, 1655044169819040000, 659607923616359477760000]\n"
     ]
    },
    {
     "name": "stderr",
     "output_type": "stream",
     "text": [
      "0it [00:00, ?it/s]"
     ]
    },
    {
     "name": "stdout",
     "output_type": "stream",
     "text": [
      "0\n",
      "1\n",
      "2\n",
      "3\n",
      "4\n",
      "5\n",
      "6\n",
      "7\n",
      "8\n",
      "9\n",
      "10\n",
      "11\n",
      "12\n",
      "13\n",
      "14\n",
      "15\n",
      "16\n",
      "17\n",
      "18\n"
     ]
    },
    {
     "name": "stderr",
     "output_type": "stream",
     "text": [
      "20it [00:00, 155.00it/s]"
     ]
    },
    {
     "name": "stdout",
     "output_type": "stream",
     "text": [
      "19\n",
      "20\n",
      "21\n",
      "22\n",
      "23\n",
      "24\n",
      "25\n",
      "26\n"
     ]
    },
    {
     "name": "stderr",
     "output_type": "stream",
     "text": [
      "27it [00:18,  1.45it/s] \n"
     ]
    },
    {
     "name": "stdout",
     "output_type": "stream",
     "text": [
      "0.08979412168264389\n"
     ]
    },
    {
     "name": "stderr",
     "output_type": "stream",
     "text": [
      "  9%|▉         | 47576648/536870912 [02:23<24:53, 327687.95it/s]"
     ]
    }
   ],
   "source": [
    "from math import lcm\n",
    "from fractions import Fraction\n",
    "s = [2, 3, 4, 5, 7, 12, 15, 20, 28, 35]\n",
    "def pfs(n):\n",
    "    pfs = []\n",
    "    for i in range(2, n):\n",
    "        if i * i > n:\n",
    "            break\n",
    "        while n % i == 0:\n",
    "            n //= i\n",
    "            pfs.append(i)\n",
    "    if n - 1:\n",
    "        pfs.append(n)\n",
    "    return pfs\n",
    "def get_lpf(i):\n",
    "    ps = set(pfs(i))\n",
    "    return max(ps)\n",
    "def get_spf(i):\n",
    "    ps = set(pfs(i))\n",
    "    return min(ps)\n",
    "s = [2, 3, 4, 6, 7, 9, 12, 15, 28, 30, 35, 36, 45]\n",
    "s = [2, 3, 4, 6, 7, 9, 10, 20, 28, 35, 36, 45]\n",
    "from fractions import Fraction\n",
    "N = 80\n",
    "s = [i for i in range(2, N + 1)]\n",
    "c = {}\n",
    "for e in s:\n",
    "    # lp = get_spf(e)\n",
    "    lp = get_lpf(e)\n",
    "    if lp not in c:\n",
    "        c[lp] = []\n",
    "    c[lp].append(e)\n",
    "T = Fraction(0)\n",
    "for e, v in c.items():\n",
    "    f = Fraction(0)\n",
    "    for i in v:\n",
    "        f += Fraction(1, i * i)\n",
    "    print(e, v, f)\n",
    "    T += f\n",
    "T\n",
    "nums = []\n",
    "for e, v in c.items():\n",
    "    if len(v) < 3:\n",
    "        continue\n",
    "    if len(v) == 3:\n",
    "        f = Fraction(0)\n",
    "        for k in v:\n",
    "            f += Fraction(1, k * k)\n",
    "        nums.append(k)\n",
    "        continue\n",
    "    for k in v:\n",
    "        nums.append(Fraction(1, k * k))\n",
    "lc = 1\n",
    "for i in nums:\n",
    "    lc = lcm(lc, i.denominator)\n",
    "\n",
    "for i in range(len(nums)):\n",
    "    nums[i] = lc * nums[i].numerator // nums[i].denominator\n",
    "\n",
    "t = 27\n",
    "l1 = nums[:t]\n",
    "l2 = nums[t:]\n",
    "\n",
    "print(lc)\n",
    "print(l1, l2)\n",
    "from tqdm import tqdm\n",
    "def gen_cset(l, lc):\n",
    "    s = [0]\n",
    "    for q, n in tqdm(enumerate(l)):\n",
    "        print(q)\n",
    "        ssz = len(s)\n",
    "        for i in range(ssz):\n",
    "            if s[i] + n > lc // 2:\n",
    "                continue\n",
    "            s.append(s[i] + n)\n",
    "    return s\n",
    "from collections import Counter\n",
    "ss = None\n",
    "ss = Counter(gen_cset(l1, lc))\n",
    "print(len(ss) / pow(2, len(l1)))\n",
    "c = 0\n",
    "tar = lc // 2\n",
    "for i in tqdm(range(0, int(pow(2, len(l2) - 5)))):\n",
    "    s = 0\n",
    "    # print(l2)\n",
    "    # print(bin(i))\n",
    "    for q in range(len(l2)):\n",
    "        if (i >> q) & 1:\n",
    "            s += l2[q]\n",
    "    # print(s)\n",
    "    comp = tar - s\n",
    "    if comp in ss:\n",
    "        c += ss[comp]\n",
    "    # break\n",
    "print(c)"
   ]
  },
  {
   "cell_type": "code",
   "execution_count": null,
   "id": "1f58d62e",
   "metadata": {},
   "outputs": [
    {
     "data": {
      "text/plain": [
       "67108864"
      ]
     },
     "execution_count": 4,
     "metadata": {},
     "output_type": "execute_result"
    }
   ],
   "source": [
    "len(ss)"
   ]
  },
  {
   "cell_type": "code",
   "execution_count": null,
   "id": "ef6b577a",
   "metadata": {},
   "outputs": [
    {
     "data": {
      "text/plain": [
       "34"
      ]
     },
     "execution_count": 37,
     "metadata": {},
     "output_type": "execute_result"
    }
   ],
   "source": [
    "len(nums) - 27"
   ]
  },
  {
   "cell_type": "code",
   "execution_count": null,
   "id": "07840ec4",
   "metadata": {},
   "outputs": [
    {
     "data": {
      "text/plain": [
       "Fraction(9, 400)"
      ]
     },
     "execution_count": 41,
     "metadata": {},
     "output_type": "execute_result"
    }
   ],
   "source": [
    "f = Fraction(0)\n",
    "for i in [7, 28, 35]:\n",
    "        f += Fraction(1, i * i)\n",
    "f"
   ]
  },
  {
   "cell_type": "code",
   "execution_count": null,
   "id": "b303e610",
   "metadata": {},
   "outputs": [
    {
     "name": "stdout",
     "output_type": "stream",
     "text": [
      "2 [2, 4] 5/16\n",
      "3 [3, 6, 9, 12, 36] 103/648\n",
      "7 [7, 28, 35] 9/400\n",
      "5 [15, 30, 45] 49/8100\n"
     ]
    },
    {
     "data": {
      "text/plain": [
       "Fraction(1, 2)"
      ]
     },
     "execution_count": 32,
     "metadata": {},
     "output_type": "execute_result"
    }
   ],
   "source": [
    "T = Fraction(0)\n",
    "for e, v in c.items():\n",
    "    f = Fraction(0)\n",
    "    for i in v:\n",
    "        f += Fraction(1, i * i)\n",
    "    print(e, v, f)\n",
    "    T += f\n",
    "T"
   ]
  },
  {
   "cell_type": "code",
   "execution_count": null,
   "id": "07373e4e",
   "metadata": {},
   "outputs": [
    {
     "name": "stdout",
     "output_type": "stream",
     "text": [
      "1\n",
      "16\n",
      "25\n"
     ]
    },
    {
     "data": {
      "text/plain": [
       "Fraction(49, 400)"
      ]
     },
     "execution_count": 16,
     "metadata": {},
     "output_type": "execute_result"
    }
   ],
   "source": [
    "t = 0\n",
    "for i in s:\n",
    "    if i % 3 == 0:\n",
    "        print(i * i // 9)\n",
    "        t += Fraction(1, i * i)\n",
    "t"
   ]
  },
  {
   "cell_type": "code",
   "execution_count": null,
   "id": "4e6a37f1",
   "metadata": {},
   "outputs": [
    {
     "data": {
      "text/plain": [
       "48773138392218240000"
      ]
     },
     "execution_count": 4,
     "metadata": {},
     "output_type": "execute_result"
    }
   ],
   "source": [
    "lc"
   ]
  },
  {
   "cell_type": "code",
   "execution_count": null,
   "id": "ed6fae41",
   "metadata": {},
   "outputs": [
    {
     "name": "stderr",
     "output_type": "stream",
     "text": [
      "100%|██████████| 1/1 [00:00<?, ?it/s]\n",
      "100%|██████████| 2/2 [00:00<?, ?it/s]\n",
      "100%|██████████| 4/4 [00:00<?, ?it/s]\n",
      "100%|██████████| 8/8 [00:00<?, ?it/s]\n",
      "100%|██████████| 16/16 [00:00<00:00, 15985.91it/s]\n",
      "100%|██████████| 32/32 [00:00<00:00, 31895.85it/s]\n",
      "100%|██████████| 64/64 [00:00<?, ?it/s]\n",
      "100%|██████████| 128/128 [00:00<00:00, 127948.26it/s]\n",
      "100%|██████████| 256/256 [00:00<00:00, 255409.57it/s]\n",
      "100%|██████████| 512/512 [00:00<?, ?it/s]\n",
      "100%|██████████| 1024/1024 [00:00<00:00, 1023586.10it/s]\n",
      "100%|██████████| 2048/2048 [00:00<00:00, 2047660.21it/s]\n",
      "100%|██████████| 4096/4096 [00:00<00:00, 1364998.35it/s]\n",
      "100%|██████████| 8192/8192 [00:00<00:00, 2047538.19it/s]\n",
      "100%|██████████| 16384/16384 [00:00<00:00, 4095076.38it/s]\n",
      "100%|██████████| 32768/32768 [00:00<00:00, 4095076.38it/s]\n",
      "100%|██████████| 65536/65536 [00:00<00:00, 3639947.39it/s]\n",
      "100%|██████████| 131072/131072 [00:00<00:00, 4368098.83it/s]\n",
      "100%|██████████| 262144/262144 [00:00<00:00, 4095106.88it/s]\n",
      "100%|██████████| 524288/524288 [00:00<00:00, 4404812.30it/s]\n",
      "100%|██████████| 48/48 [00:00<?, ?it/s]\n",
      "100%|██████████| 1128/1128 [00:00<00:00, 1128081.76it/s]\n"
     ]
    },
    {
     "name": "stdout",
     "output_type": "stream",
     "text": [
      "28, 35, \n",
      "Counter({7: 2})\n",
      "\n",
      "1\n",
      "30, 60, \n",
      "Counter({5: 2})\n",
      "\n",
      "2\n",
      "39, 52, \n",
      "Counter({13: 2})\n",
      "\n",
      "3\n"
     ]
    },
    {
     "name": "stderr",
     "output_type": "stream",
     "text": [
      "100%|██████████| 17296/17296 [00:00<00:00, 1729189.38it/s]\n"
     ]
    },
    {
     "name": "stdout",
     "output_type": "stream",
     "text": [
      "28, 42, 70, \n",
      "Counter({7: 3})\n",
      "\n",
      "4\n",
      "36, 45, 60, \n",
      "Counter({5: 2, 3: 1})\n",
      "\n",
      "6\n",
      "36, 63, 70, \n",
      "Counter({7: 2, 3: 1})\n",
      "\n",
      "7\n"
     ]
    },
    {
     "name": "stderr",
     "output_type": "stream",
     "text": [
      "100%|██████████| 194580/194580 [00:00<00:00, 1369973.85it/s]\n"
     ]
    },
    {
     "name": "stdout",
     "output_type": "stream",
     "text": [
      "24, 30, 40, 72, \n",
      "Counter({3: 2, 5: 2})\n",
      "\n",
      "9\n",
      "24, 35, 56, 72, \n",
      "Counter({3: 2, 7: 2})\n",
      "\n",
      "10\n",
      "24, 40, 60, 72, \n",
      "Counter({3: 2, 5: 2})\n",
      "\n",
      "12\n",
      "24, 56, 70, 72, \n",
      "Counter({3: 2, 7: 2})\n",
      "\n",
      "13\n",
      "28, 30, 35, 60, \n",
      "Counter({7: 2, 5: 2})\n",
      "\n",
      "14\n",
      "28, 35, 36, 45, \n",
      "Counter({7: 2, 3: 1, 5: 1})\n",
      "\n",
      "15\n",
      "28, 35, 39, 52, \n",
      "Counter({7: 2, 13: 2})\n",
      "\n",
      "17\n",
      "28, 42, 60, 70, \n",
      "Counter({7: 3, 5: 1})\n",
      "\n",
      "18\n",
      "30, 36, 45, 60, \n",
      "Counter({5: 3, 3: 1})\n",
      "\n",
      "19\n",
      "30, 39, 52, 60, \n",
      "Counter({5: 2, 13: 2})\n",
      "\n",
      "20\n",
      "35, 36, 63, 70, \n",
      "Counter({7: 3, 3: 1})\n",
      "\n",
      "21\n",
      "36, 60, 63, 70, \n",
      "Counter({7: 2, 3: 1, 5: 1})\n",
      "\n",
      "22\n",
      "45, 60, 63, 70, \n",
      "Counter({5: 2, 7: 2})\n",
      "\n",
      "23\n"
     ]
    },
    {
     "name": "stderr",
     "output_type": "stream",
     "text": [
      " 20%|█▉        | 340475/1712304 [00:00<00:00, 1710955.16it/s]"
     ]
    },
    {
     "name": "stdout",
     "output_type": "stream",
     "text": [
      "24, 30, 35, 40, 56, \n",
      "Counter({5: 2, 7: 2, 3: 1})\n",
      "\n",
      "24\n",
      "24, 30, 40, 56, 70, \n",
      "Counter({5: 2, 7: 2, 3: 1})\n",
      "\n",
      "25\n",
      "24, 35, 56, 63, 72, \n",
      "Counter({7: 3, 3: 2})\n",
      "\n",
      "26\n",
      "24, 36, 40, 45, 72, \n",
      "Counter({3: 3, 5: 2})\n",
      "\n",
      "29\n",
      "24, 40, 56, 60, 70, \n",
      "Counter({5: 2, 7: 2, 3: 1})\n",
      "\n",
      "30\n"
     ]
    },
    {
     "name": "stderr",
     "output_type": "stream",
     "text": [
      " 61%|██████▏   | 1051377/1712304 [00:00<00:00, 1745450.56it/s]"
     ]
    },
    {
     "name": "stdout",
     "output_type": "stream",
     "text": [
      "28, 30, 35, 36, 45, \n",
      "Counter({7: 2, 5: 2, 3: 1})\n",
      "\n",
      "31\n",
      "28, 30, 39, 42, 52, \n",
      "Counter({7: 2, 13: 2, 5: 1})\n",
      "\n",
      "32\n",
      "28, 35, 36, 42, 63, \n",
      "Counter({7: 4, 3: 1})\n",
      "\n",
      "34\n",
      "28, 35, 36, 45, 60, \n",
      "Counter({7: 2, 5: 2, 3: 1})\n",
      "\n",
      "35\n",
      "28, 35, 42, 45, 63, \n",
      "Counter({7: 4, 5: 1})\n",
      "\n",
      "36\n",
      "28, 36, 42, 63, 70, \n",
      "Counter({7: 4, 3: 1})\n",
      "\n",
      "38\n",
      "28, 39, 42, 52, 70, \n",
      "Counter({7: 3, 13: 2})\n",
      "\n",
      "40\n",
      "30, 35, 40, 56, 72, \n",
      "Counter({5: 2, 7: 2, 3: 1})\n",
      "\n",
      "41\n",
      "30, 40, 56, 70, 72, \n",
      "Counter({5: 2, 7: 2, 3: 1})\n",
      "\n",
      "42\n"
     ]
    },
    {
     "name": "stderr",
     "output_type": "stream",
     "text": [
      "100%|██████████| 1712304/1712304 [00:01<00:00, 1693295.17it/s]"
     ]
    },
    {
     "name": "stdout",
     "output_type": "stream",
     "text": [
      "35, 45, 60, 63, 70, \n",
      "Counter({7: 3, 5: 2})\n",
      "\n",
      "43\n",
      "36, 39, 45, 52, 60, \n",
      "Counter({13: 2, 5: 2, 3: 1})\n",
      "\n",
      "44\n",
      "36, 39, 52, 63, 70, \n",
      "Counter({13: 2, 7: 2, 3: 1})\n",
      "\n",
      "46\n"
     ]
    },
    {
     "name": "stderr",
     "output_type": "stream",
     "text": [
      "\n",
      " 20%|█▉        | 2415377/12271512 [00:01<00:05, 1745551.87it/s]"
     ]
    },
    {
     "name": "stdout",
     "output_type": "stream",
     "text": [
      "24, 28, 30, 35, 40, 72, \n",
      "Counter({3: 2, 7: 2, 5: 2})\n",
      "\n",
      "47\n",
      "24, 28, 30, 40, 42, 56, \n",
      "Counter({7: 3, 5: 2, 3: 1})\n",
      "\n",
      "49\n",
      "24, 28, 30, 40, 42, 72, \n",
      "Counter({3: 2, 7: 2, 5: 2})\n",
      "\n",
      "51\n",
      "24, 28, 30, 42, 56, 72, \n",
      "Counter({7: 3, 3: 2, 5: 1})\n",
      "\n",
      "52\n",
      "24, 28, 35, 40, 56, 70, \n",
      "Counter({7: 4, 3: 1, 5: 1})\n",
      "\n",
      "53\n",
      "24, 28, 35, 56, 70, 72, \n",
      "Counter({7: 4, 3: 2})\n",
      "\n",
      "54\n",
      "24, 30, 35, 40, 56, 72, \n",
      "Counter({3: 2, 5: 2, 7: 2})\n",
      "\n",
      "55\n",
      "24, 30, 39, 40, 52, 72, \n",
      "Counter({3: 2, 5: 2, 13: 2})\n",
      "\n",
      "59\n",
      "24, 30, 40, 42, 63, 72, \n",
      "Counter({3: 2, 5: 2, 7: 2})\n",
      "\n",
      "60\n",
      "24, 30, 40, 56, 60, 70, \n",
      "Counter({5: 3, 7: 2, 3: 1})\n",
      "\n",
      "61\n",
      "24, 30, 40, 56, 70, 72, \n",
      "Counter({3: 2, 5: 2, 7: 2})\n",
      "\n",
      "62\n",
      "24, 30, 40, 63, 70, 72, \n",
      "Counter({3: 2, 5: 2, 7: 2})\n",
      "\n",
      "63\n"
     ]
    },
    {
     "name": "stderr",
     "output_type": "stream",
     "text": [
      " 24%|██▍       | 2939727/12271512 [00:01<00:05, 1746573.75it/s]"
     ]
    },
    {
     "name": "stdout",
     "output_type": "stream",
     "text": [
      "24, 35, 40, 63, 70, 72, \n",
      "Counter({7: 3, 3: 2, 5: 1})\n",
      "\n",
      "64\n",
      "24, 35, 56, 63, 70, 72, \n",
      "Counter({7: 4, 3: 2})\n",
      "\n",
      "66\n",
      "24, 36, 40, 45, 56, 70, \n",
      "Counter({3: 2, 5: 2, 7: 2})\n",
      "\n",
      "67\n",
      "24, 39, 40, 52, 60, 72, \n",
      "Counter({3: 2, 13: 2, 5: 2})\n",
      "\n",
      "68\n",
      "24, 40, 42, 60, 63, 72, \n",
      "Counter({3: 2, 5: 2, 7: 2})\n",
      "\n",
      "69\n",
      "24, 40, 56, 60, 70, 72, \n",
      "Counter({3: 2, 5: 2, 7: 2})\n",
      "\n",
      "70\n",
      "24, 40, 60, 63, 70, 72, \n",
      "Counter({3: 2, 5: 2, 7: 2})\n",
      "\n",
      "71\n",
      "24, 42, 56, 63, 70, 72, \n",
      "Counter({7: 4, 3: 2})\n",
      "\n",
      "72\n"
     ]
    },
    {
     "name": "stderr",
     "output_type": "stream",
     "text": [
      " 54%|█████▍    | 6667552/12271512 [00:03<00:03, 1767771.70it/s]"
     ]
    },
    {
     "name": "stdout",
     "output_type": "stream",
     "text": [
      "28, 30, 36, 42, 45, 60, \n",
      "Counter({5: 3, 7: 2, 3: 1})\n",
      "\n",
      "73\n"
     ]
    },
    {
     "name": "stderr",
     "output_type": "stream",
     "text": [
      " 57%|█████▋    | 7019580/12271512 [00:04<00:03, 1741577.27it/s]"
     ]
    },
    {
     "name": "stdout",
     "output_type": "stream",
     "text": [
      "28, 35, 42, 45, 60, 63, \n",
      "Counter({7: 4, 5: 2})\n",
      "\n",
      "75\n",
      "28, 36, 42, 45, 60, 70, \n",
      "Counter({7: 3, 5: 2, 3: 1})\n",
      "\n",
      "76\n",
      "28, 36, 42, 60, 63, 70, \n",
      "Counter({7: 4, 3: 1, 5: 1})\n",
      "\n",
      "77\n",
      "28, 39, 42, 52, 60, 70, \n",
      "Counter({7: 3, 13: 2, 5: 1})\n",
      "\n",
      "78\n",
      "28, 42, 45, 60, 63, 70, \n",
      "Counter({7: 4, 5: 2})\n",
      "\n",
      "80\n"
     ]
    },
    {
     "name": "stderr",
     "output_type": "stream",
     "text": [
      " 69%|██████▊   | 8419692/12271512 [00:04<00:02, 1752958.71it/s]"
     ]
    },
    {
     "name": "stdout",
     "output_type": "stream",
     "text": [
      "30, 35, 40, 56, 63, 72, \n",
      "Counter({7: 3, 5: 2, 3: 1})\n",
      "\n",
      "81\n",
      "30, 36, 39, 42, 52, 63, \n",
      "Counter({13: 2, 7: 2, 5: 1, 3: 1})\n",
      "\n",
      "82\n",
      "30, 36, 39, 45, 52, 60, \n",
      "Counter({5: 3, 13: 2, 3: 1})\n",
      "\n",
      "84\n"
     ]
    },
    {
     "name": "stderr",
     "output_type": "stream",
     "text": [
      " 87%|████████▋ | 10737143/12271512 [00:06<00:00, 1758716.32it/s]"
     ]
    },
    {
     "name": "stdout",
     "output_type": "stream",
     "text": [
      "35, 36, 39, 52, 63, 70, \n",
      "Counter({7: 3, 13: 2, 3: 1})\n",
      "\n",
      "86\n",
      "36, 39, 52, 60, 63, 70, \n",
      "Counter({13: 2, 7: 2, 3: 1, 5: 1})\n",
      "\n",
      "87\n"
     ]
    },
    {
     "name": "stderr",
     "output_type": "stream",
     "text": [
      " 95%|█████████▍| 11616627/12271512 [00:06<00:00, 1739049.85it/s]"
     ]
    },
    {
     "name": "stdout",
     "output_type": "stream",
     "text": [
      "39, 45, 52, 60, 63, 70, \n",
      "Counter({13: 2, 5: 2, 7: 2})\n",
      "\n",
      "89\n"
     ]
    },
    {
     "name": "stderr",
     "output_type": "stream",
     "text": [
      "100%|██████████| 12271512/12271512 [00:07<00:00, 1742969.19it/s]\n",
      " 20%|█▉        | 14588669/73629072 [00:08<00:36, 1616792.93it/s]"
     ]
    },
    {
     "name": "stdout",
     "output_type": "stream",
     "text": [
      "24, 28, 30, 35, 40, 42, 56, \n",
      "Counter({7: 4, 5: 2, 3: 1})\n",
      "\n",
      "91\n",
      "24, 28, 30, 35, 40, 56, 70, \n",
      "Counter({7: 4, 5: 2, 3: 1})\n",
      "\n",
      "92\n",
      "24, 28, 30, 40, 42, 56, 72, \n",
      "Counter({7: 3, 3: 2, 5: 2})\n",
      "\n",
      "94\n",
      "24, 28, 30, 40, 42, 70, 72, \n",
      "Counter({7: 3, 3: 2, 5: 2})\n",
      "\n",
      "96\n",
      "24, 28, 30, 42, 56, 60, 72, \n",
      "Counter({7: 3, 3: 2, 5: 2})\n",
      "\n",
      "97\n",
      "24, 28, 35, 40, 56, 70, 72, \n",
      "Counter({7: 4, 3: 2, 5: 1})\n",
      "\n",
      "98\n",
      "24, 28, 36, 40, 42, 45, 56, \n",
      "Counter({7: 3, 3: 2, 5: 2})\n",
      "\n",
      "100\n",
      "24, 28, 36, 40, 42, 45, 72, \n",
      "Counter({3: 3, 7: 2, 5: 2})\n",
      "\n",
      "101\n"
     ]
    },
    {
     "name": "stderr",
     "output_type": "stream",
     "text": [
      " 20%|██        | 15074958/73629072 [00:09<00:37, 1574128.42it/s]"
     ]
    },
    {
     "name": "stdout",
     "output_type": "stream",
     "text": [
      "24, 28, 39, 42, 52, 56, 72, \n",
      "Counter({7: 3, 3: 2, 13: 2})\n",
      "\n",
      "102\n",
      "24, 28, 40, 42, 60, 70, 72, \n",
      "Counter({7: 3, 3: 2, 5: 2})\n",
      "\n",
      "103\n"
     ]
    },
    {
     "name": "stderr",
     "output_type": "stream",
     "text": [
      " 22%|██▏       | 16113583/73629072 [00:09<00:39, 1444770.40it/s]"
     ]
    },
    {
     "name": "stdout",
     "output_type": "stream",
     "text": [
      "24, 30, 35, 36, 40, 45, 56, \n",
      "Counter({5: 3, 3: 2, 7: 2})\n",
      "\n",
      "104\n",
      "24, 30, 35, 36, 40, 56, 63, \n",
      "Counter({7: 3, 3: 2, 5: 2})\n",
      "\n",
      "106\n",
      "24, 30, 35, 39, 40, 52, 56, \n",
      "Counter({5: 2, 7: 2, 13: 2, 3: 1})\n",
      "\n",
      "108\n",
      "24, 30, 35, 40, 45, 56, 63, \n",
      "Counter({5: 3, 7: 3, 3: 1})\n",
      "\n",
      "109\n",
      "24, 30, 35, 40, 56, 63, 72, \n",
      "Counter({7: 3, 3: 2, 5: 2})\n",
      "\n",
      "110\n",
      "24, 30, 36, 40, 45, 60, 72, \n",
      "Counter({5: 4, 3: 3})\n",
      "\n",
      "111\n",
      "24, 30, 39, 40, 52, 56, 70, \n",
      "Counter({5: 2, 13: 2, 7: 2, 3: 1})\n",
      "\n",
      "113\n",
      "24, 30, 40, 56, 60, 70, 72, \n",
      "Counter({5: 3, 3: 2, 7: 2})\n",
      "\n",
      "114\n"
     ]
    },
    {
     "name": "stderr",
     "output_type": "stream",
     "text": [
      " 25%|██▌       | 18416054/73629072 [00:11<00:36, 1531369.60it/s]"
     ]
    },
    {
     "name": "stdout",
     "output_type": "stream",
     "text": [
      "24, 35, 36, 40, 56, 63, 70, \n",
      "Counter({7: 4, 3: 2, 5: 1})\n",
      "\n",
      "115\n",
      "24, 35, 36, 45, 56, 60, 72, \n",
      "Counter({3: 3, 7: 2, 5: 2})\n",
      "\n",
      "116\n",
      "24, 35, 40, 56, 63, 70, 72, \n",
      "Counter({7: 4, 3: 2, 5: 1})\n",
      "\n",
      "117\n",
      "24, 36, 39, 40, 45, 52, 72, \n",
      "Counter({3: 3, 13: 2, 5: 2})\n",
      "\n",
      "120\n"
     ]
    },
    {
     "name": "stderr",
     "output_type": "stream",
     "text": [
      " 26%|██▌       | 18880130/73629072 [00:11<00:35, 1530964.65it/s]"
     ]
    },
    {
     "name": "stdout",
     "output_type": "stream",
     "text": [
      "24, 36, 45, 56, 60, 70, 72, \n",
      "Counter({3: 3, 5: 2, 7: 2})\n",
      "\n",
      "121\n"
     ]
    },
    {
     "name": "stderr",
     "output_type": "stream",
     "text": [
      " 58%|█████▊    | 42874630/73629072 [00:26<00:19, 1551447.54it/s]"
     ]
    },
    {
     "name": "stdout",
     "output_type": "stream",
     "text": [
      "28, 30, 35, 36, 39, 45, 52, \n",
      "Counter({7: 2, 5: 2, 13: 2, 3: 1})\n",
      "\n",
      "122\n",
      "28, 30, 35, 40, 56, 70, 72, \n",
      "Counter({7: 4, 5: 2, 3: 1})\n",
      "\n",
      "123\n"
     ]
    },
    {
     "name": "stderr",
     "output_type": "stream",
     "text": [
      " 61%|██████▏   | 45112324/73629072 [00:28<00:17, 1615787.76it/s]"
     ]
    },
    {
     "name": "stdout",
     "output_type": "stream",
     "text": [
      "28, 35, 36, 39, 42, 52, 63, \n",
      "Counter({7: 4, 13: 2, 3: 1})\n",
      "\n",
      "124\n",
      "28, 35, 39, 42, 45, 52, 63, \n",
      "Counter({7: 4, 13: 2, 5: 1})\n",
      "\n",
      "125\n",
      "28, 36, 39, 42, 52, 63, 70, \n",
      "Counter({7: 4, 13: 2, 3: 1})\n",
      "\n",
      "126\n"
     ]
    },
    {
     "name": "stderr",
     "output_type": "stream",
     "text": [
      " 73%|███████▎  | 53546766/73629072 [00:33<00:12, 1567541.61it/s]"
     ]
    },
    {
     "name": "stdout",
     "output_type": "stream",
     "text": [
      "30, 35, 40, 56, 63, 70, 72, \n",
      "Counter({7: 4, 5: 2, 3: 1})\n",
      "\n",
      "128\n"
     ]
    },
    {
     "name": "stderr",
     "output_type": "stream",
     "text": [
      " 74%|███████▍  | 54514129/73629072 [00:34<00:11, 1610688.90it/s]"
     ]
    },
    {
     "name": "stdout",
     "output_type": "stream",
     "text": [
      "30, 39, 42, 45, 52, 60, 63, \n",
      "Counter({5: 3, 13: 2, 7: 2})\n",
      "\n",
      "129\n",
      "30, 40, 42, 56, 63, 70, 72, \n",
      "Counter({7: 4, 5: 2, 3: 1})\n",
      "\n",
      "130\n"
     ]
    },
    {
     "name": "stderr",
     "output_type": "stream",
     "text": [
      " 90%|█████████ | 66402203/73629072 [00:41<00:04, 1697007.70it/s]"
     ]
    },
    {
     "name": "stdout",
     "output_type": "stream",
     "text": [
      "35, 39, 45, 52, 60, 63, 70, \n",
      "Counter({7: 3, 13: 2, 5: 2})\n",
      "\n",
      "132\n"
     ]
    },
    {
     "name": "stderr",
     "output_type": "stream",
     "text": [
      "100%|██████████| 73629072/73629072 [00:46<00:00, 1595901.58it/s]\n",
      "  9%|▉         | 35113950/377348994 [00:22<03:39, 1562492.16it/s]\n"
     ]
    },
    {
     "ename": "KeyboardInterrupt",
     "evalue": "",
     "output_type": "error",
     "traceback": [
      "\u001b[1;31m---------------------------------------------------------------------------\u001b[0m",
      "\u001b[1;31mKeyboardInterrupt\u001b[0m                         Traceback (most recent call last)",
      "Cell \u001b[1;32mIn[6], line 98\u001b[0m\n\u001b[0;32m     96\u001b[0m combo \u001b[38;5;241m=\u001b[39m \u001b[38;5;28mnext\u001b[39m(gen)\n\u001b[0;32m     97\u001b[0m comp \u001b[38;5;241m=\u001b[39m tar \u001b[38;5;241m-\u001b[39m \u001b[38;5;28msum\u001b[39m(combo)\n\u001b[1;32m---> 98\u001b[0m \u001b[38;5;28;01mif\u001b[39;00m comp \u001b[38;5;129;01min\u001b[39;00m ss:\n\u001b[0;32m     99\u001b[0m     tt \u001b[38;5;241m=\u001b[39m Counter()\n\u001b[0;32m    100\u001b[0m     \u001b[38;5;28;01mfor\u001b[39;00m e \u001b[38;5;129;01min\u001b[39;00m combo:\n",
      "\u001b[1;31mKeyboardInterrupt\u001b[0m: "
     ]
    }
   ],
   "source": [
    "def pfs(n):\n",
    "    pfs = []\n",
    "    for i in range(2, n):\n",
    "        if i * i > n:\n",
    "            break\n",
    "        while n % i == 0:\n",
    "            n //= i\n",
    "            pfs.append(i)\n",
    "    if n - 1:\n",
    "        pfs.append(n)\n",
    "    return pfs\n",
    "from collections import Counter\n",
    "from math import lcm\n",
    "from fractions import Fraction\n",
    "def pfs(n):\n",
    "    pfs = []\n",
    "    for i in range(2, n):\n",
    "        if i * i > n:\n",
    "            break\n",
    "        while n % i == 0:\n",
    "            n //= i\n",
    "            pfs.append(i)\n",
    "    if n - 1:\n",
    "        pfs.append(n)\n",
    "    return pfs\n",
    "def get_lpf(i):\n",
    "    ps = set(pfs(i))\n",
    "    return max(ps)\n",
    "def get_spf(i):\n",
    "    ps = set(pfs(i))\n",
    "    return min(ps)\n",
    "from fractions import Fraction\n",
    "N = 80\n",
    "t = 27\n",
    "# N = 45\n",
    "# t = 20\n",
    "s = [i for i in range(3, N + 1)]\n",
    "c = {}\n",
    "cc = Counter()\n",
    "for e in s:\n",
    "    P = set(pfs(e * e))\n",
    "    for p in P:\n",
    "        cc[p] += 1\n",
    "\n",
    "T = Fraction(0)\n",
    "for e, v in c.items():\n",
    "    f = Fraction(0)\n",
    "    for i in v:\n",
    "        f += Fraction(1, i * i)\n",
    "    T += f\n",
    "T\n",
    "nums = []\n",
    "for k in s:\n",
    "    P = set(pfs(k * k))\n",
    "    has = False\n",
    "    for p in P:\n",
    "        if cc[p] >= 2:\n",
    "            has = True\n",
    "    if has:\n",
    "        nums.append(Fraction(1, k * k))\n",
    "lc = 1\n",
    "for i in nums:\n",
    "    lc = lcm(lc, i.denominator)\n",
    "\n",
    "for i in range(len(nums)):\n",
    "    nums[i] = lc * nums[i].numerator // nums[i].denominator\n",
    "\n",
    "l1 = nums[:t]\n",
    "l2 = nums[t:]\n",
    "\n",
    "from tqdm import tqdm\n",
    "def gen_cset(l, lc):\n",
    "    s = [0]\n",
    "    for q, n in enumerate(l):\n",
    "        ssz = len(s)\n",
    "        for i in tqdm(range(ssz)):\n",
    "            if s[i] + n > lc // 2:\n",
    "                continue\n",
    "            s.append(s[i] + n)\n",
    "    return s\n",
    "def fac(n):\n",
    "    return 1 if n <= 1 else fac(n - 1) * n\n",
    "def binom(n, k):\n",
    "    return fac(n) // fac(n - k) // fac(k)\n",
    "from collections import Counter\n",
    "ss = None\n",
    "ss = Counter(gen_cset(l1, lc))\n",
    "# print(len(ss) / pow(2, len(l1)))\n",
    "c = 0\n",
    "tar = lc // 2 - lc // 4\n",
    "from itertools import combinations\n",
    "for sz in range(1, len(l2) + 1):\n",
    "    print(\"CHECKING SZ\", sz)\n",
    "    b = binom(len(l2), sz)\n",
    "    gen = combinations(l2, r=sz)\n",
    "    for _ in tqdm(range(b)):\n",
    "        combo = next(gen)\n",
    "        comp = tar - sum(combo)\n",
    "        if comp in ss:\n",
    "            tt = Counter()\n",
    "            for e in combo:\n",
    "                q = int((lc // e)**0.5)\n",
    "                tt[get_lpf(q)] += 1\n",
    "                print(q, end=\", \")\n",
    "            print()\n",
    "            print(tt)\n",
    "            print()\n",
    "            c += ss[comp]\n",
    "            print(c)\n",
    "print(c)"
   ]
  },
  {
   "cell_type": "code",
   "execution_count": 1,
   "id": "4f5fd240",
   "metadata": {},
   "outputs": [],
   "source": [
    "from math import lcm"
   ]
  },
  {
   "cell_type": "code",
   "execution_count": 105,
   "id": "82dd888b",
   "metadata": {},
   "outputs": [],
   "source": [
    "def isprime(x):\n",
    "    if x <= 2:\n",
    "        return False\n",
    "    for i in range(2, x):\n",
    "        if x % i == 0:\n",
    "            return False\n",
    "    return True"
   ]
  },
  {
   "cell_type": "code",
   "execution_count": 107,
   "id": "8dd4d839",
   "metadata": {},
   "outputs": [
    {
     "name": "stdout",
     "output_type": "stream",
     "text": [
      "5 14455 65536\n",
      "7 293 2048\n",
      "11 10 128\n",
      "13 9 64\n",
      "17 1 16\n",
      "19 0 16\n",
      "19  HAS NONE\n",
      "23 0 8\n",
      "23  HAS NONE\n",
      "29 0 4\n",
      "29  HAS NONE\n",
      "31 0 4\n",
      "31  HAS NONE\n",
      "37 0 4\n",
      "37  HAS NONE\n",
      "41 0 2\n",
      "41  HAS NONE\n",
      "43 0 2\n",
      "43  HAS NONE\n",
      "47 0 2\n",
      "47  HAS NONE\n",
      "53 0 2\n",
      "53  HAS NONE\n",
      "59 0 2\n",
      "59  HAS NONE\n",
      "61 0 2\n",
      "61  HAS NONE\n",
      "67 0 2\n",
      "67  HAS NONE\n",
      "71 0 2\n",
      "71  HAS NONE\n",
      "73 0 2\n",
      "73  HAS NONE\n",
      "79 0 2\n",
      "79  HAS NONE\n"
     ]
    },
    {
     "data": {
      "text/plain": [
       "[19, 23, 29, 31, 37, 41, 43, 47, 53, 59, 61, 67, 71, 73, 79]"
      ]
     },
     "execution_count": 107,
     "metadata": {},
     "output_type": "execute_result"
    }
   ],
   "source": [
    "N = 80\n",
    "B = []\n",
    "for K in range(5, 80):\n",
    "    if isprime(K):\n",
    "        lc = 1\n",
    "        for i in range(1, N + 1):\n",
    "            lc = lcm(lc, i * i)\n",
    "        lc\n",
    "        s = [k for k in range(K, N + 1, K)]\n",
    "        from copy import deepcopy\n",
    "        working_sets = [[] for _ in range(K * K)]\n",
    "        for e in s:\n",
    "            new_working_sets = deepcopy(working_sets)\n",
    "            adding = ((e // K)**2) % (K*K)\n",
    "            new_working_sets[adding].append([e])\n",
    "            for i in range(K * K):\n",
    "                for el in working_sets[i]:\n",
    "                    new_working_sets[(i + adding) % (K * K)].append(el + [e])\n",
    "            working_sets = deepcopy(new_working_sets)\n",
    "        from fractions import Fraction\n",
    "        T = 0\n",
    "        for i in range(0, K * K, K):\n",
    "            # print(working_sets[i])\n",
    "            T += len(working_sets[i])\n",
    "            for e in working_sets[i]:\n",
    "                f = Fraction(0)\n",
    "                for q in e:\n",
    "                    f += Fraction(1, q * q)\n",
    "        print(K, T, 2**len(s))\n",
    "        if T == 0:\n",
    "            print(K, \" HAS NONE\")\n",
    "            B.append(K)\n",
    "B"
   ]
  },
  {
   "cell_type": "code",
   "execution_count": null,
   "id": "ef38acb6",
   "metadata": {},
   "outputs": [],
   "source": []
  }
 ],
 "metadata": {
  "kernelspec": {
   "display_name": "Python 3",
   "language": "python",
   "name": "python3"
  },
  "language_info": {
   "codemirror_mode": {
    "name": "ipython",
    "version": 3
   },
   "file_extension": ".py",
   "mimetype": "text/x-python",
   "name": "python",
   "nbconvert_exporter": "python",
   "pygments_lexer": "ipython3",
   "version": "3.12.4"
  }
 },
 "nbformat": 4,
 "nbformat_minor": 5
}
