{
 "cells": [
  {
   "cell_type": "code",
   "execution_count": 2,
   "metadata": {},
   "outputs": [
    {
     "data": {
      "text/plain": [
       "'123432123432123432123432123432123432123432123432123432123432123432123432123432123432123432123432123432123432123432123432123432123432123432123432123432123432123432123432123432123432123432123432123432123432123432123432123432123432123432123432123432123432123432123432123432123432123432123432123432123432123432123432123432123432123432123432123432123432123432123432123432123432123432123432123432123432123432123432123432123432123432123432123432123432123432123432123432123432123432123432123432123432123432123432123432123432123432123432123432123432123432123432123432123432123432123432123432123432123432123432'"
      ]
     },
     "execution_count": 2,
     "metadata": {},
     "output_type": "execute_result"
    }
   ],
   "source": [
    "pat = \"123432\"\n",
    "seq = \"\"\n",
    "for i in range(100):\n",
    "    seq += pat\n",
    "seq"
   ]
  },
  {
   "cell_type": "code",
   "execution_count": 7,
   "metadata": {},
   "outputs": [],
   "source": [
    "d = []\n",
    "ct = 0\n",
    "cs = \"\"\n",
    "tar = 1\n",
    "for c in seq:\n",
    "    cs += c\n",
    "    ct += int(c)\n",
    "    if ct == tar:\n",
    "        d += [cs]\n",
    "        cs = \"\"\n",
    "        ct = 0\n",
    "        tar += 1"
   ]
  },
  {
   "cell_type": "code",
   "execution_count": 21,
   "metadata": {},
   "outputs": [],
   "source": [
    "oint = [int(e) for e in d[0:15]]\n",
    "def calc_one_sum(N):\n",
    "    T = 0\n",
    "    os = sum(oint)\n",
    "    cnt = N // len(oint)\n",
    "    T += cnt * os\n",
    "    for i in range(cnt * len(oint), N):\n",
    "        T += oint[i % len(oint)]\n",
    "    return T"
   ]
  },
  {
   "cell_type": "code",
   "execution_count": 32,
   "metadata": {},
   "outputs": [
    {
     "data": {
      "text/plain": [
       "260518"
      ]
     },
     "execution_count": 32,
     "metadata": {},
     "output_type": "execute_result"
    }
   ],
   "source": [
    "calc_one_sum(16)"
   ]
  },
  {
   "cell_type": "code",
   "execution_count": 36,
   "metadata": {},
   "outputs": [
    {
     "data": {
      "text/plain": [
       "1234321234320"
      ]
     },
     "execution_count": 36,
     "metadata": {},
     "output_type": "execute_result"
    }
   ],
   "source": [
    "1234320 * 1000001"
   ]
  },
  {
   "cell_type": "code",
   "execution_count": 37,
   "metadata": {},
   "outputs": [],
   "source": [
    "r = 10**6"
   ]
  },
  {
   "cell_type": "code",
   "execution_count": 46,
   "metadata": {},
   "outputs": [],
   "source": [
    "def sub(n):\n",
    "    return (1 - r**(n+1)) // (1 - r)"
   ]
  },
  {
   "cell_type": "code",
   "execution_count": 51,
   "metadata": {},
   "outputs": [
    {
     "data": {
      "text/plain": [
       "1"
      ]
     },
     "execution_count": 51,
     "metadata": {},
     "output_type": "execute_result"
    }
   ],
   "source": [
    "sum(sub(i) for i in range(0, 1))"
   ]
  },
  {
   "cell_type": "code",
   "execution_count": 116,
   "metadata": {},
   "outputs": [],
   "source": [
    "r = 10**6\n",
    "mod = 123454321"
   ]
  },
  {
   "cell_type": "code",
   "execution_count": 131,
   "metadata": {},
   "outputs": [],
   "source": [
    "def Smod(N):\n",
    "   U = pow(r, N + 1, mod) - r\n",
    "   L = r - 1\n",
    "   top = (N - U * pow(L, -1, mod))\n",
    "   return top * pow(1 - r, -1, mod) % mod"
   ]
  },
  {
   "cell_type": "code",
   "execution_count": 134,
   "metadata": {},
   "outputs": [
    {
     "data": {
      "text/plain": [
       "1"
      ]
     },
     "execution_count": 134,
     "metadata": {},
     "output_type": "execute_result"
    }
   ],
   "source": [
    "Smod(1)"
   ]
  },
  {
   "cell_type": "code",
   "execution_count": 146,
   "metadata": {},
   "outputs": [
    {
     "name": "stdout",
     "output_type": "stream",
     "text": [
      "[1, 2, 3, 4, 32, 123, 43, 2123, 432, 1234, 32123, 43212, 34321, 23432, 123432, 1234321, 2343212, 3432123, 4321234, 32123432] 20\n"
     ]
    },
    {
     "data": {
      "text/plain": [
       "43714839"
      ]
     },
     "execution_count": 146,
     "metadata": {},
     "output_type": "execute_result"
    }
   ],
   "source": [
    "def A(N):\n",
    "    print([int(i) for i in d[:N]], len([int(i) for i in d[:N]]))\n",
    "    return sum([int(i) for i in d[:N]])\n",
    "A(20)"
   ]
  },
  {
   "cell_type": "code",
   "execution_count": 151,
   "metadata": {},
   "outputs": [],
   "source": [
    "# for i, e in enumerate(d):\n",
    "#     ie = int(e)\n",
    "#     print(i, ie - oint[i % len(oint)])"
   ]
  },
  {
   "cell_type": "code",
   "execution_count": 154,
   "metadata": {},
   "outputs": [
    {
     "data": {
      "text/plain": [
       "18934502"
      ]
     },
     "execution_count": 154,
     "metadata": {},
     "output_type": "execute_result"
    }
   ],
   "source": [
    "def ans(N):\n",
    "    T = calc_one_sum(N)\n",
    "\n",
    "    for i in range(0, len(ones)):\n",
    "        dind = i + 15\n",
    "        num = int(d[dind]) - oint[i % len(oint)]\n",
    "        cnt = (N - dind + 14) // 15\n",
    "        T += num * Smod(cnt)\n",
    "        # print(num, num * Smod(cnt))\n",
    "        T %= mod        \n",
    "    return T\n",
    "ans(10**14)"
   ]
  },
  {
   "cell_type": "code",
   "execution_count": 113,
   "metadata": {},
   "outputs": [
    {
     "data": {
      "text/plain": [
       "1000002000003"
      ]
     },
     "execution_count": 113,
     "metadata": {},
     "output_type": "execute_result"
    }
   ],
   "source": [
    "def S(N):\n",
    "    return (N - (r**(N + 1) - r) // (r - 1)) // (1 - r)\n",
    "S(3)"
   ]
  },
  {
   "cell_type": "code",
   "execution_count": 33,
   "metadata": {},
   "outputs": [
    {
     "name": "stdout",
     "output_type": "stream",
     "text": [
      "0 0\n",
      "1 0\n",
      "2 0\n",
      "3 0\n",
      "4 0\n",
      "5 0\n",
      "6 0\n",
      "7 0\n",
      "8 0\n",
      "9 0\n",
      "10 0\n",
      "11 0\n",
      "12 0\n",
      "13 0\n",
      "14 0\n",
      "15 1234320\n",
      "16 2343210\n",
      "17 3432120\n",
      "18 4321230\n",
      "19 32123400\n",
      "20 123432000\n",
      "21 43212300\n",
      "22 2123430000\n",
      "23 432123000\n",
      "24 1234320000\n",
      "25 32123400000\n",
      "26 43212300000\n",
      "27 34321200000\n",
      "28 23432100000\n",
      "29 123432000000\n",
      "30 1234321234320\n",
      "31 2343212343210\n",
      "32 3432123432120\n",
      "33 4321234321230\n",
      "34 32123432123400\n",
      "35 123432123432000\n",
      "36 43212343212300\n",
      "37 2123432123430000\n",
      "38 432123432123000\n",
      "39 1234321234320000\n",
      "40 32123432123400000\n",
      "41 43212343212300000\n",
      "42 34321234321200000\n",
      "43 23432123432100000\n",
      "44 123432123432000000\n",
      "45 1234321234321234320\n",
      "46 2343212343212343210\n",
      "47 3432123432123432120\n",
      "48 4321234321234321230\n",
      "49 32123432123432123400\n",
      "50 123432123432123432000\n",
      "51 43212343212343212300\n",
      "52 2123432123432123430000\n",
      "53 432123432123432123000\n"
     ]
    }
   ],
   "source": [
    "for i, e in enumerate(d):\n",
    "    ie = int(e)\n",
    "    print(i, ie - oint[i % len(oint)])"
   ]
  },
  {
   "cell_type": "code",
   "execution_count": 10,
   "metadata": {},
   "outputs": [
    {
     "name": "stdout",
     "output_type": "stream",
     "text": [
      "1 1 1\n",
      "2 1 2\n",
      "3 1 3\n",
      "4 1 4\n",
      "5 2 32\n",
      "6 3 123\n",
      "7 2 43\n",
      "8 4 2123\n",
      "9 3 432\n",
      "10 4 1234\n",
      "11 5 32123\n",
      "12 5 43212\n",
      "13 5 34321\n",
      "14 5 23432\n",
      "15 6 123432\n",
      "16 7 1234321\n",
      "17 7 2343212\n",
      "18 7 3432123\n",
      "19 7 4321234\n",
      "20 8 32123432\n",
      "21 9 123432123\n",
      "22 8 43212343\n",
      "23 10 2123432123\n",
      "24 9 432123432\n",
      "25 10 1234321234\n",
      "26 11 32123432123\n",
      "27 11 43212343212\n",
      "28 11 34321234321\n",
      "29 11 23432123432\n",
      "30 12 123432123432\n",
      "31 13 1234321234321\n",
      "32 13 2343212343212\n",
      "33 13 3432123432123\n",
      "34 13 4321234321234\n",
      "35 14 32123432123432\n",
      "36 15 123432123432123\n",
      "37 14 43212343212343\n",
      "38 16 2123432123432123\n",
      "39 15 432123432123432\n",
      "40 16 1234321234321234\n",
      "41 17 32123432123432123\n",
      "42 17 43212343212343212\n",
      "43 17 34321234321234321\n",
      "44 17 23432123432123432\n",
      "45 18 123432123432123432\n",
      "46 19 1234321234321234321\n",
      "47 19 2343212343212343212\n",
      "48 19 3432123432123432123\n",
      "49 19 4321234321234321234\n",
      "50 20 32123432123432123432\n",
      "51 21 123432123432123432123\n",
      "52 20 43212343212343212343\n",
      "53 22 2123432123432123432123\n",
      "54 21 432123432123432123432\n"
     ]
    }
   ],
   "source": [
    "for i, e in enumerate(d):\n",
    "    print(i + 1, len(e), e)"
   ]
  }
 ],
 "metadata": {
  "kernelspec": {
   "display_name": "Python 3",
   "language": "python",
   "name": "python3"
  },
  "language_info": {
   "codemirror_mode": {
    "name": "ipython",
    "version": 3
   },
   "file_extension": ".py",
   "mimetype": "text/x-python",
   "name": "python",
   "nbconvert_exporter": "python",
   "pygments_lexer": "ipython3",
   "version": "3.12.4"
  }
 },
 "nbformat": 4,
 "nbformat_minor": 2
}
