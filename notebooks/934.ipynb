{
 "cells": [
  {
   "cell_type": "code",
   "execution_count": null,
   "metadata": {},
   "outputs": [],
   "source": [
    "def sieve(n):\n",
    "    s = [1 for _ in range(n + 1)]\n",
    "    primes = []\n",
    "    for q in range(2, n + 1):\n",
    "        if s[q]:\n",
    "            primes.append(q)\n",
    "            for i in range(2 * q, n + 1, q):\n",
    "                s[i] = 0\n",
    "    return primes\n",
    "primes = sieve(10000)\n",
    "def u(n):\n",
    "    for p in primes:\n",
    "        if (n % p) % 7 != 0:\n",
    "            return p\n",
    "for i in range(1, 10 + 1):\n",
    "    print(i, u(i))\n",
    "def A(n):\n",
    "    return sum([u(i) for i in range(1, n + 1)])\n",
    "\n",
    "def solve(n, i, m = 1):\n",
    "    T = 0\n",
    "    if n == 0:\n",
    "        return 0\n",
    "    p = primes[i]\n",
    "    cycle_len = -1\n",
    "    # Find cycle len. It is at least p\n",
    "    to_verify = p\n",
    "    print(\"Finding\", p)\n",
    "    t = 1\n",
    "    for p_c_len in range(p, n + 1):\n",
    "        if p_c_len > t:\n",
    "            print(p_c_len)\n",
    "            t *= 2\n",
    "        # print(i, p, p_c_len, [u((e * p_c_len) * m) for e in range(1, p_c_len + 1)])\n",
    "        isg = True\n",
    "        for c in range(1, p_c_len):\n",
    "            if not isg:\n",
    "                break\n",
    "            b = u((0 * p_c_len + c) * m)\n",
    "            for q in range(1, to_verify):\n",
    "                if u((q * p_c_len + c) * m) != b:\n",
    "                    isg = False\n",
    "                    break\n",
    "        if isg:\n",
    "            cycle_len = p_c_len\n",
    "            break    \n",
    "    print(\"Cycle\", p, \"is\", cycle_len)\n",
    "    if cycle_len == -1:\n",
    "        cycle_len = n + 1\n",
    "    cnt = n // cycle_len\n",
    "    R = 0\n",
    "    for tp in range(1, cycle_len):\n",
    "        R += u(m * tp)\n",
    "    T += R * cnt\n",
    "    over = n - cycle_len * cnt\n",
    "    assert(over >= 0)\n",
    "    print(primes[i], n, cycle_len, over, T, R)\n",
    "    for tp in range(1, over + 1):\n",
    "        T += u(m * tp)\n",
    "    print(primes[i], n, cycle_len, over, T, R)\n",
    "    T += solve(cnt, i + 1, m * cycle_len)\n",
    "    return T\n",
    "print(solve(1470, 0))"
   ]
  },
  {
   "cell_type": "code",
   "execution_count": 296,
   "metadata": {},
   "outputs": [
    {
     "name": "stdout",
     "output_type": "stream",
     "text": [
      "13020\n",
      "18480\n",
      "24570\n",
      "30030\n",
      "43050\n",
      "48510\n",
      "54600\n",
      "60060\n",
      "84630\n",
      "103110\n"
     ]
    }
   ],
   "source": [
    "K = 2 * 3 * 5 * 7\n",
    "for i in range(K, K * 500, K):\n",
    "    if u(i) == 17:\n",
    "        print(i)\n",
    "    # print(i, u(i))"
   ]
  },
  {
   "cell_type": "code",
   "execution_count": null,
   "metadata": {},
   "outputs": [
    {
     "ename": "KeyboardInterrupt",
     "evalue": "",
     "output_type": "error",
     "traceback": [
      "\u001b[1;31m---------------------------------------------------------------------------\u001b[0m",
      "\u001b[1;31mKeyboardInterrupt\u001b[0m                         Traceback (most recent call last)",
      "Cell \u001b[1;32mIn[257], line 2\u001b[0m\n\u001b[0;32m      1\u001b[0m N \u001b[38;5;241m=\u001b[39m \u001b[38;5;241m13020\u001b[39m\n\u001b[1;32m----> 2\u001b[0m \u001b[43msolve\u001b[49m\u001b[43m(\u001b[49m\u001b[43mN\u001b[49m\u001b[43m,\u001b[49m\u001b[43m \u001b[49m\u001b[38;5;241;43m0\u001b[39;49m\u001b[43m)\u001b[49m, A(N)\n",
      "Cell \u001b[1;32mIn[255], line 16\u001b[0m, in \u001b[0;36msolve\u001b[1;34m(n, i, m)\u001b[0m\n\u001b[0;32m     14\u001b[0m         \u001b[38;5;28;01mif\u001b[39;00m u((q \u001b[38;5;241m*\u001b[39m cycle_len \u001b[38;5;241m+\u001b[39m c) \u001b[38;5;241m*\u001b[39m m) \u001b[38;5;241m!=\u001b[39m b:\n\u001b[0;32m     15\u001b[0m             isg \u001b[38;5;241m=\u001b[39m \u001b[38;5;28;01mFalse\u001b[39;00m\n\u001b[1;32m---> 16\u001b[0m             \u001b[38;5;28;01mbreak\u001b[39;00m\n\u001b[0;32m     17\u001b[0m \u001b[38;5;28;01mif\u001b[39;00m isg:\n\u001b[0;32m     18\u001b[0m     cycle_len \u001b[38;5;241m=\u001b[39m p_c_len\n",
      "\u001b[1;31mKeyboardInterrupt\u001b[0m: "
     ]
    }
   ],
   "source": [
    "N = 13020\n",
    "solve(N, 0), A(N)"
   ]
  },
  {
   "cell_type": "code",
   "execution_count": null,
   "metadata": {},
   "outputs": [
    {
     "name": "stdout",
     "output_type": "stream",
     "text": [
      "2 13020 2 0 13020 2\n",
      "2 13020 2 0 13020 2\n",
      "3 6510 3 0 13020 6\n",
      "3 6510 3 0 13020 6\n",
      "5 2170 5 0 8680 20\n",
      "5 2170 5 0 8680 20\n",
      "7 434 7 0 2604 42\n",
      "7 434 7 0 2604 42\n",
      "11 62 11 7 560 112\n",
      "11 62 11 7 639 112\n",
      "13 5 13 5 0 160\n",
      "13 5 13 5 65 160\n"
     ]
    },
    {
     "data": {
      "text/plain": [
       "(38028, 38032)"
      ]
     },
     "execution_count": 248,
     "metadata": {},
     "output_type": "execute_result"
    }
   ],
   "source": [
    "N = 13020\n",
    "solve(N, 0), A(N)"
   ]
  },
  {
   "cell_type": "code",
   "execution_count": null,
   "metadata": {},
   "outputs": [
    {
     "data": {
      "text/plain": [
       "0"
      ]
     },
     "execution_count": 35,
     "metadata": {},
     "output_type": "execute_result"
    }
   ],
   "source": [
    "(18480  % 13) % 7"
   ]
  },
  {
   "cell_type": "code",
   "execution_count": null,
   "metadata": {},
   "outputs": [
    {
     "name": "stdout",
     "output_type": "stream",
     "text": [
      "2310 13\n",
      "4620 13\n",
      "6930 13\n",
      "9240 13\n",
      "11550 13\n",
      "13860 13\n",
      "16170 13\n",
      "18480 17\n",
      "20790 13\n",
      "23100 13\n",
      "25410 13\n",
      "27720 13\n",
      "30030 17\n",
      "32340 13\n"
     ]
    }
   ],
   "source": [
    "for i in range(2310  , 34000, 2310 ):\n",
    "    print(i, u(i))"
   ]
  }
 ],
 "metadata": {
  "kernelspec": {
   "display_name": "Python 3",
   "language": "python",
   "name": "python3"
  },
  "language_info": {
   "codemirror_mode": {
    "name": "ipython",
    "version": 3
   },
   "file_extension": ".py",
   "mimetype": "text/x-python",
   "name": "python",
   "nbconvert_exporter": "python",
   "pygments_lexer": "ipython3",
   "version": "3.12.4"
  }
 },
 "nbformat": 4,
 "nbformat_minor": 2
}
