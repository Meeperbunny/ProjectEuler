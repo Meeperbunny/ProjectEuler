{
 "cells": [
  {
   "cell_type": "code",
   "execution_count": 1,
   "metadata": {},
   "outputs": [
    {
     "name": "stdout",
     "output_type": "stream",
     "text": [
      "1 2\n",
      "2 3\n",
      "3 2\n",
      "4 3\n",
      "5 2\n",
      "6 5\n",
      "7 2\n",
      "8 3\n",
      "9 2\n",
      "10 3\n"
     ]
    }
   ],
   "source": [
    "def sieve(n):\n",
    "    s = [1 for _ in range(n + 1)]\n",
    "    primes = []\n",
    "    for q in range(2, n + 1):\n",
    "        if s[q]:\n",
    "            primes.append(q)\n",
    "            for i in range(2 * q, n + 1, q):\n",
    "                s[i] = 0\n",
    "    return primes\n",
    "primes = sieve(10000)\n",
    "def u(n):\n",
    "    for p in primes:\n",
    "        if (n % p) % 7 != 0:\n",
    "            return p\n",
    "for i in range(1, 10 + 1):\n",
    "    print(i, u(i))\n",
    "def A(n):\n",
    "    return sum([u(i) for i in range(1, n + 1)])"
   ]
  },
  {
   "cell_type": "code",
   "execution_count": null,
   "metadata": {},
   "outputs": [
    {
     "name": "stdout",
     "output_type": "stream",
     "text": [
      "Current cycle: 2\n",
      "2 3 \n",
      "Cycle values\n",
      "2 2 2 2 \n",
      "Current cycle: 3\n",
      "3 3 5 \n",
      "Cycle values\n",
      "6 6 6 6 6 6 \n",
      "Current cycle: 5\n",
      "5 5 5 5 7 \n",
      "Cycle values\n",
      "20 20 20 20 20 20 20 20 20 20 \n",
      "Current cycle: 7\n",
      "7 7 7 7 7 7 11 \n",
      "Cycle values\n",
      "42 42 42 42 42 42 42 42 42 42 42 42 42 42 \n",
      "Current cycle: 11\n",
      "11 11 11 11 11 11 13 11 11 11 13 \n",
      "Cycle values\n",
      "112 112 112 112 112 116 112 112 112 112 116 112 112 112 112 112 112 112 116 112 112 112 \n",
      "Current cycle: 13\n",
      "13 13 13 13 13 13 13 17 13 13 13 13 17 \n",
      "Cycle values\n",
      "160 160 162 160 160 162 160 160 162 160 160 160 160 160 160 160 160 160 160 162 160 160 162 160 160 162 \n",
      "Current cycle: 17\n",
      "17 17 19 17 17 19 17 17 17 17 17 17 17 17 17 17 19 \n",
      "Cycle values\n",
      "276 276 276 280 288 276 276 276 286 276 276 286 276 276 276 280 280 276 276 276 276 276 280 280 276 276 276 280 276 276 280 276 276 276 \n",
      "Current cycle: 19\n",
      "19 19 19 19 23 19 19 19 19 19 19 23 19 19 19 19 19 19 23 \n",
      "Cycle values\n",
      "350 350 350 364 350 356 350 364 350 362 350 358 350 356 350 350 350 350 350 350 350 350 350 350 350 350 356 350 356 350 362 350 370 350 356 350 356 350 \n",
      "Current cycle: 23\n",
      "23 29 23 29 23 29 23 23 23 23 23 23 23 23 23 23 23 23 23 23 23 23 29 \n",
      "Cycle values\n",
      "524 528 524 524 532 524 524 526 532 524 526 526 524 524 526 524 524 526 526 524 526 526 524 524 532 524 524 534 524 524 528 524 524 526 524 524 526 526 524 532 526 524 524 532 524 524 \n",
      "Current cycle: 29\n",
      "29 29 29 29 29 29 29 29 29 29 29 29 29 29 29 29 31 29 29 31 29 29 37 29 29 31 29 29 31 \n",
      "Cycle values\n",
      "826 826 830 820 830 820 820 820 820 820 830 820 830 826 826 826 826 826 826 826 820 826 820 820 826 820 826 826 826 826 826 826 826 826 820 826 820 820 820 820 820 826 820 826 830 826 830 830 826 830 826 820 826 820 820 830 820 826 \n",
      "Current cycle: 31\n",
      "31 41 31 37 31 37 31 37 31 31 31 31 31 31 31 31 31 31 31 31 31 31 31 31 31 31 31 31 31 31 37 \n",
      "Cycle values\n",
      "958 962 954 954 958 962 954 954 958 964 954 954 954 962 954 954 954 964 954 954 954 964 954 954 954 964 958 954 954 968 958 954 954 964 958 954 954 960 962 954 954 958 962 954 954 958 962 954 954 954 962 954 954 954 962 954 954 954 968 954 954 954 \n",
      "Current cycle: 37\n",
      "37 37 37 43 37 37 37 41 37 37 37 41 37 37 37 41 37 37 37 41 37 37 37 37 37 37 37 37 37 37 37 37 37 37 37 37 41 \n",
      "Cycle values\n",
      "1354 1356 1360 1356 1356 1358 1352 1352 1352 1358 1354 1354 1354 1354 1352 1352 1352 1354 1354 1354 1354 1372 1352 1352 1352 1358 1354 1354 1354 1354 1352 1352 1352 1354 1354 1354 1354 1358 1352 1352 1352 1354 1356 1356 1356 1356 1354 1352 1352 1352 1354 1358 1354 1354 1354 1352 1352 1352 1358 1354 1354 1354 1354 1352 1352 1352 1354 1364 1354 1354 1354 1352 1352 1352 \n",
      "Current cycle: 41\n",
      "41 41 41 41 41 41 41 43 41 41 41 41 41 41 41 47 41 41 41 41 41 41 41 43 41 41 41 41 41 41 41 47 41 41 41 41 41 41 41 43 43 \n",
      "Cycle values\n",
      "1658 1650 1650 1654 1668 1650 1650 1658 1658 1650 1650 1658 1658 1650 1650 1662 1654 1650 1650 1658 1654 1650 1650 1662 1650 1650 1650 1658 1650 1650 1650 1668 1650 1650 1650 1670 1650 1650 1650 1662 1650 1650 1660 1658 1650 1650 1654 1676 1650 1650 1658 1658 1650 1650 1658 1658 1650 1650 1668 1654 1650 1650 1658 1660 1650 1650 1662 1650 1650 1650 1664 1650 1650 1650 1674 1650 1650 1650 1658 1650 1650 1650 \n",
      "Current cycle: 43\n",
      "43 43 47 43 43 43 43 43 43 43 47 43 43 43 43 43 43 43 47 43 43 43 43 43 43 43 47 43 43 43 43 43 43 43 47 43 43 47 43 43 43 43 53 \n",
      "Cycle values\n",
      "1830 1836 1830 1836 1830 1842 1836 1836 1842 1836 1836 1836 1842 1836 1836 1842 1836 1836 1836 1830 1836 1830 1836 1830 1842 1830 1836 1836 1830 1836 1830 1836 1830 1842 1836 1836 1836 1836 1836 1842 1836 1836 1836 1848 1836 1836 1836 1830 1836 1830 1836 1830 1848 1836 1836 1836 1836 1836 1836 1836 1836 1842 1842 1836 1836 1836 1830 1836 1830 1836 1830 1842 1830 1836 1842 1830 1836 1830 1836 1830 1842 1836 1836 1842 1836 1836 \n",
      "Current cycle: 47\n",
      "53 47 47 47 47 47 47 47 47 53 47 47 47 47 47 47 47 47 53 53 47 47 47 47 47 47 47 47 53 47 47 47 47 47 47 47 47 53 47 47 47 47 47 47 47 47 53 \n",
      "Cycle values\n",
      "2198 2216 2204 2198 2206 2198 2198 2198 2198 2212 2210 2198 2216 2220 2198 2210 2204 2198 2198 2198 2198 2204 2198 2206 2216 2198 2216 2212 2198 2210 2198 2198 2198 2198 2198 2204 2198 2210 2216 2198 2218 2210 2198 2204 2198 2198 2198 2198 2198 2210 2198 2210 2216 2198 2220 2204 2198 2204 2198 2198 2198 2198 2204 2212 2198 2216 2216 2198 2212 2204 2198 2198 2198 2198 2204 2198 2204 2224 2198 2216 2210 2198 2210 2198 2198 2198 2198 2198 2204 2198 2210 2216 2198 2216 \n",
      "554633987048410665\n"
     ]
    }
   ],
   "source": [
    "def solve(n, i, m = 1):\n",
    "    T = 0\n",
    "    if n == 0:\n",
    "        return 0\n",
    "    p = primes[i]\n",
    "    cycle_len = p\n",
    "    cnt = n // cycle_len\n",
    "    R = 0\n",
    "    # print(\"Current cycle:\", p)\n",
    "    for tp in range(1, cycle_len + 1):\n",
    "        # print(u(m * tp), end=\" \")\n",
    "        R += u(m * tp)\n",
    "    # print()\n",
    "    # print(\"Cycle values\")\n",
    "    for q in range(p * 2):\n",
    "        tmp = 0\n",
    "        for tp in range(1, cycle_len):\n",
    "            tmp += u(cycle_len * q * m + m * tp)\n",
    "        # print(tmp, end=\" \")\n",
    "    print()\n",
    "    T += R * cnt\n",
    "    over = n - cycle_len * cnt\n",
    "    assert(over >= 0)\n",
    "    # print(primes[i], n, cycle_len, over, T, R)\n",
    "    for tp in range(1, over + 1):\n",
    "        T += u(m * tp)\n",
    "    # print(primes[i], n, cycle_len, over, T, R)\n",
    "    T += solve(cnt, i + 1, m * cycle_len)\n",
    "    return T\n",
    "print(solve(10**17, 0))"
   ]
  },
  {
   "cell_type": "code",
   "execution_count": 2,
   "metadata": {},
   "outputs": [],
   "source": [
    "def sieve(n):\n",
    "    s = [1 for _ in range(n + 1)]\n",
    "    primes = []\n",
    "    for q in range(2, n + 1):\n",
    "        if s[q]:\n",
    "            primes.append(q)\n",
    "            for i in range(2 * q, n + 1, q):\n",
    "                s[i] = 0\n",
    "    return primes\n",
    "primes = sieve(10000)"
   ]
  },
  {
   "cell_type": "code",
   "execution_count": null,
   "metadata": {},
   "outputs": [],
   "source": []
  },
  {
   "cell_type": "code",
   "execution_count": null,
   "metadata": {},
   "outputs": [],
   "source": []
  },
  {
   "cell_type": "code",
   "execution_count": 296,
   "metadata": {},
   "outputs": [
    {
     "name": "stdout",
     "output_type": "stream",
     "text": [
      "13020\n",
      "18480\n",
      "24570\n",
      "30030\n",
      "43050\n",
      "48510\n",
      "54600\n",
      "60060\n",
      "84630\n",
      "103110\n"
     ]
    }
   ],
   "source": [
    "K = 2 * 3 * 5 * 7\n",
    "for i in range(K, K * 500, K):\n",
    "    if u(i) == 17:\n",
    "        print(i)\n",
    "    # print(i, u(i))"
   ]
  },
  {
   "cell_type": "code",
   "execution_count": null,
   "metadata": {},
   "outputs": [
    {
     "ename": "KeyboardInterrupt",
     "evalue": "",
     "output_type": "error",
     "traceback": [
      "\u001b[1;31m---------------------------------------------------------------------------\u001b[0m",
      "\u001b[1;31mKeyboardInterrupt\u001b[0m                         Traceback (most recent call last)",
      "Cell \u001b[1;32mIn[257], line 2\u001b[0m\n\u001b[0;32m      1\u001b[0m N \u001b[38;5;241m=\u001b[39m \u001b[38;5;241m13020\u001b[39m\n\u001b[1;32m----> 2\u001b[0m \u001b[43msolve\u001b[49m\u001b[43m(\u001b[49m\u001b[43mN\u001b[49m\u001b[43m,\u001b[49m\u001b[43m \u001b[49m\u001b[38;5;241;43m0\u001b[39;49m\u001b[43m)\u001b[49m, A(N)\n",
      "Cell \u001b[1;32mIn[255], line 16\u001b[0m, in \u001b[0;36msolve\u001b[1;34m(n, i, m)\u001b[0m\n\u001b[0;32m     14\u001b[0m         \u001b[38;5;28;01mif\u001b[39;00m u((q \u001b[38;5;241m*\u001b[39m cycle_len \u001b[38;5;241m+\u001b[39m c) \u001b[38;5;241m*\u001b[39m m) \u001b[38;5;241m!=\u001b[39m b:\n\u001b[0;32m     15\u001b[0m             isg \u001b[38;5;241m=\u001b[39m \u001b[38;5;28;01mFalse\u001b[39;00m\n\u001b[1;32m---> 16\u001b[0m             \u001b[38;5;28;01mbreak\u001b[39;00m\n\u001b[0;32m     17\u001b[0m \u001b[38;5;28;01mif\u001b[39;00m isg:\n\u001b[0;32m     18\u001b[0m     cycle_len \u001b[38;5;241m=\u001b[39m p_c_len\n",
      "\u001b[1;31mKeyboardInterrupt\u001b[0m: "
     ]
    }
   ],
   "source": [
    "N = 13020\n",
    "solve(N, 0), A(N)"
   ]
  },
  {
   "cell_type": "code",
   "execution_count": null,
   "metadata": {},
   "outputs": [
    {
     "name": "stdout",
     "output_type": "stream",
     "text": [
      "2 13020 2 0 13020 2\n",
      "2 13020 2 0 13020 2\n",
      "3 6510 3 0 13020 6\n",
      "3 6510 3 0 13020 6\n",
      "5 2170 5 0 8680 20\n",
      "5 2170 5 0 8680 20\n",
      "7 434 7 0 2604 42\n",
      "7 434 7 0 2604 42\n",
      "11 62 11 7 560 112\n",
      "11 62 11 7 639 112\n",
      "13 5 13 5 0 160\n",
      "13 5 13 5 65 160\n"
     ]
    },
    {
     "data": {
      "text/plain": [
       "(38028, 38032)"
      ]
     },
     "execution_count": 248,
     "metadata": {},
     "output_type": "execute_result"
    }
   ],
   "source": [
    "N = 13020\n",
    "solve(N, 0), A(N)"
   ]
  },
  {
   "cell_type": "code",
   "execution_count": null,
   "metadata": {},
   "outputs": [
    {
     "data": {
      "text/plain": [
       "0"
      ]
     },
     "execution_count": 35,
     "metadata": {},
     "output_type": "execute_result"
    }
   ],
   "source": [
    "(18480  % 13) % 7"
   ]
  },
  {
   "cell_type": "code",
   "execution_count": null,
   "metadata": {},
   "outputs": [
    {
     "name": "stdout",
     "output_type": "stream",
     "text": [
      "2310 13\n",
      "4620 13\n",
      "6930 13\n",
      "9240 13\n",
      "11550 13\n",
      "13860 13\n",
      "16170 13\n",
      "18480 17\n",
      "20790 13\n",
      "23100 13\n",
      "25410 13\n",
      "27720 13\n",
      "30030 17\n",
      "32340 13\n"
     ]
    }
   ],
   "source": [
    "for i in range(2310  , 34000, 2310 ):\n",
    "    print(i, u(i))"
   ]
  },
  {
   "cell_type": "code",
   "execution_count": 65,
   "metadata": {},
   "outputs": [],
   "source": [
    "def u(n):\n",
    "    for p in primes:\n",
    "        if (n % p) % 7 != 0:\n",
    "            return p\n",
    "            # return p, (n % p)\n",
    "    print(n)\n",
    "    assert(False)"
   ]
  },
  {
   "cell_type": "code",
   "execution_count": 21,
   "metadata": {},
   "outputs": [
    {
     "name": "stdout",
     "output_type": "stream",
     "text": [
      "1 2\n",
      "2 3\n",
      "3 2\n",
      "4 3\n",
      "5 2\n",
      "6 5\n",
      "7 2\n",
      "8 3\n",
      "9 2\n",
      "10 3\n",
      "11 2\n",
      "12 5\n",
      "13 2\n",
      "14 3\n",
      "15 2\n",
      "16 3\n",
      "17 2\n",
      "18 5\n",
      "19 2\n",
      "20 3\n",
      "21 2\n",
      "22 3\n",
      "23 2\n",
      "24 5\n",
      "25 2\n",
      "26 3\n",
      "27 2\n",
      "28 3\n",
      "29 2\n",
      "30 7\n",
      "31 2\n",
      "32 3\n",
      "33 2\n",
      "34 3\n",
      "35 2\n",
      "36 5\n",
      "37 2\n",
      "38 3\n",
      "39 2\n",
      "40 3\n",
      "41 2\n",
      "42 5\n",
      "43 2\n",
      "44 3\n",
      "45 2\n",
      "46 3\n",
      "47 2\n",
      "48 5\n",
      "49 2\n",
      "50 3\n",
      "51 2\n",
      "52 3\n",
      "53 2\n",
      "54 5\n",
      "55 2\n",
      "56 3\n",
      "57 2\n",
      "58 3\n",
      "59 2\n",
      "60 7\n",
      "61 2\n",
      "62 3\n",
      "63 2\n",
      "64 3\n",
      "65 2\n",
      "66 5\n",
      "67 2\n",
      "68 3\n",
      "69 2\n",
      "70 3\n",
      "71 2\n",
      "72 5\n",
      "73 2\n",
      "74 3\n",
      "75 2\n",
      "76 3\n",
      "77 2\n",
      "78 5\n",
      "79 2\n",
      "80 3\n",
      "81 2\n",
      "82 3\n",
      "83 2\n",
      "84 5\n",
      "85 2\n",
      "86 3\n",
      "87 2\n",
      "88 3\n",
      "89 2\n",
      "90 7\n",
      "91 2\n",
      "92 3\n",
      "93 2\n",
      "94 3\n",
      "95 2\n",
      "96 5\n",
      "97 2\n",
      "98 3\n",
      "99 2\n"
     ]
    }
   ],
   "source": [
    "for i in range(1, 100):\n",
    "    print(i, u(i))"
   ]
  },
  {
   "cell_type": "code",
   "execution_count": 33,
   "metadata": {},
   "outputs": [],
   "source": [
    "from collections import Counter"
   ]
  },
  {
   "cell_type": "code",
   "execution_count": 52,
   "metadata": {},
   "outputs": [
    {
     "data": {
      "text/plain": [
       "16380"
      ]
     },
     "execution_count": 52,
     "metadata": {},
     "output_type": "execute_result"
    }
   ],
   "source": [
    "5460 * 3"
   ]
  },
  {
   "cell_type": "code",
   "execution_count": 62,
   "metadata": {},
   "outputs": [
    {
     "name": "stdout",
     "output_type": "stream",
     "text": [
      "1 2\n",
      "2 3\n",
      "3 2\n",
      "4 3\n",
      "5 2\n",
      "6 5\n",
      "7 2\n",
      "8 3\n",
      "9 2\n",
      "10 3\n",
      "11 2\n",
      "12 5\n",
      "13 2\n",
      "14 3\n",
      "15 2\n",
      "16 3\n",
      "17 2\n",
      "18 5\n",
      "19 2\n",
      "20 3\n",
      "21 2\n",
      "22 3\n",
      "23 2\n",
      "24 5\n",
      "25 2\n",
      "26 3\n",
      "27 2\n",
      "28 3\n",
      "29 2\n",
      "30 7\n",
      "31 2\n",
      "32 3\n",
      "33 2\n",
      "34 3\n",
      "35 2\n",
      "36 5\n",
      "37 2\n",
      "38 3\n",
      "39 2\n",
      "40 3\n",
      "41 2\n",
      "42 5\n",
      "43 2\n",
      "44 3\n",
      "45 2\n",
      "46 3\n",
      "47 2\n",
      "48 5\n",
      "49 2\n",
      "50 3\n",
      "51 2\n",
      "52 3\n",
      "53 2\n",
      "54 5\n",
      "55 2\n",
      "56 3\n",
      "57 2\n",
      "58 3\n",
      "59 2\n",
      "60 7\n",
      "61 2\n",
      "62 3\n",
      "63 2\n",
      "64 3\n",
      "65 2\n",
      "66 5\n",
      "67 2\n",
      "68 3\n",
      "69 2\n",
      "70 3\n",
      "71 2\n",
      "72 5\n",
      "73 2\n",
      "74 3\n",
      "75 2\n",
      "76 3\n",
      "77 2\n",
      "78 5\n",
      "79 2\n",
      "80 3\n",
      "81 2\n",
      "82 3\n",
      "83 2\n",
      "84 5\n",
      "85 2\n",
      "86 3\n",
      "87 2\n",
      "88 3\n",
      "89 2\n",
      "90 7\n",
      "91 2\n",
      "92 3\n",
      "93 2\n",
      "94 3\n",
      "95 2\n",
      "96 5\n",
      "97 2\n",
      "98 3\n",
      "99 2\n"
     ]
    },
    {
     "data": {
      "text/plain": [
       "(285, Counter({2: 50, 3: 33, 5: 13, 7: 3}))"
      ]
     },
     "execution_count": 62,
     "metadata": {},
     "output_type": "execute_result"
    }
   ],
   "source": [
    "A = 0\n",
    "C = Counter()\n",
    "I = 1\n",
    "for i in range(1, 100, I):\n",
    "    U = u(i)\n",
    "    print(i, U)\n",
    "    A += U\n",
    "    C[U] += 1\n",
    "A, C"
   ]
  },
  {
   "cell_type": "code",
   "execution_count": 296,
   "metadata": {},
   "outputs": [],
   "source": [
    "def solve(O, N, M, ind):\n",
    "    p = primes[ind]\n",
    "    to_check = []\n",
    "    f_c = 0\n",
    "    times = (N - O + M) // (M * p)\n",
    "    for i in range(0, p):\n",
    "        ci = O + i * M\n",
    "        if ci > N:\n",
    "            break\n",
    "        if u(ci) != p:\n",
    "            to_check.append(ci)\n",
    "        else:\n",
    "            f_c += p\n",
    "    T = times * f_c\n",
    "    for i in range(O + times * M * p, N + 1, M):\n",
    "        isg = True\n",
    "        for e in to_check:\n",
    "            if (i - e) % (p * M) == 0:\n",
    "                isg = False\n",
    "        if isg:\n",
    "            T += u(i)\n",
    "    # print(p, to_check, times, O, N, M, f_c, T)\n",
    "    for e in to_check:\n",
    "        T += solve(e, N, M * p, ind + 1)\n",
    "    return T\n"
   ]
  },
  {
   "cell_type": "code",
   "execution_count": 304,
   "metadata": {},
   "outputs": [
    {
     "data": {
      "text/plain": [
       "292137809490441370"
      ]
     },
     "execution_count": 304,
     "metadata": {},
     "output_type": "execute_result"
    }
   ],
   "source": [
    "k = 10**17\n",
    "solve(1, k, 1, 0)"
   ]
  },
  {
   "cell_type": "code",
   "execution_count": 278,
   "metadata": {},
   "outputs": [
    {
     "data": {
      "text/plain": [
       "Counter({3: 20001, 2: 20000, 5: 13335, 7: 3997, 11: 858, 13: 195, 17: 34})"
      ]
     },
     "execution_count": 278,
     "metadata": {},
     "output_type": "execute_result"
    }
   ],
   "source": [
    "C = Counter()\n",
    "for i in range(1, 20_000 + 1):\n",
    "    U = u(i)\n",
    "    C[U] += U\n",
    "C"
   ]
  },
  {
   "cell_type": "code",
   "execution_count": 290,
   "metadata": {},
   "outputs": [
    {
     "data": {
      "text/plain": [
       "58420"
      ]
     },
     "execution_count": 290,
     "metadata": {},
     "output_type": "execute_result"
    }
   ],
   "source": [
    "sum(u(i) for i in range(1, 20_000 + 1))"
   ]
  },
  {
   "cell_type": "code",
   "execution_count": null,
   "metadata": {},
   "outputs": [],
   "source": []
  },
  {
   "cell_type": "code",
   "execution_count": 42,
   "metadata": {},
   "outputs": [
    {
     "data": {
      "text/plain": [
       "(292097,\n",
       " Counter({2: 50000,\n",
       "          3: 33333,\n",
       "          5: 13333,\n",
       "          7: 2857,\n",
       "          11: 390,\n",
       "          13: 80,\n",
       "          17: 5,\n",
       "          19: 1}))"
      ]
     },
     "execution_count": 42,
     "metadata": {},
     "output_type": "execute_result"
    }
   ],
   "source": [
    "def ans(N):\n",
    "    GC = Counter()\n",
    "    T = 0\n",
    "    b = 1\n",
    "    for q, p in enumerate(primes):\n",
    "        if b > N:\n",
    "            break\n",
    "        times = N // (b * p)\n",
    "        to_add = 0\n",
    "        C = Counter()\n",
    "        for i in range(b, b * p, b):\n",
    "            to_add += u(i)\n",
    "            C[u(i)] += 1\n",
    "        T += times * to_add\n",
    "        # print(p, times * to_add)\n",
    "        for e in C:\n",
    "            GC[e] += C[e] * times\n",
    "        for i in range(times * b * p + b, N, b):\n",
    "            T += u(i)\n",
    "            GC[u(i)] += 1\n",
    "        b *= p\n",
    "    return T, GC\n",
    "ans(100_000)"
   ]
  },
  {
   "cell_type": "code",
   "execution_count": null,
   "metadata": {},
   "outputs": [],
   "source": []
  }
 ],
 "metadata": {
  "kernelspec": {
   "display_name": "Python 3",
   "language": "python",
   "name": "python3"
  },
  "language_info": {
   "codemirror_mode": {
    "name": "ipython",
    "version": 3
   },
   "file_extension": ".py",
   "mimetype": "text/x-python",
   "name": "python",
   "nbconvert_exporter": "python",
   "pygments_lexer": "ipython3",
   "version": "3.9.6"
  }
 },
 "nbformat": 4,
 "nbformat_minor": 2
}
