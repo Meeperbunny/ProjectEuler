{
 "cells": [
  {
   "cell_type": "code",
   "execution_count": 4,
   "metadata": {},
   "outputs": [],
   "source": [
    "def gci(s: str):\n",
    "    return s.index('P')"
   ]
  },
  {
   "cell_type": "code",
   "execution_count": 5,
   "metadata": {},
   "outputs": [],
   "source": [
    "def itoc(i: int) -> tuple:\n",
    "    return (i // 4), i % 4\n",
    "def ttoi(t: tuple) -> int:\n",
    "    return t[0] * 4 + t[1]"
   ]
  },
  {
   "cell_type": "code",
   "execution_count": 17,
   "metadata": {},
   "outputs": [],
   "source": [
    "def displayState(s):\n",
    "    for i in range(4):\n",
    "        for q in range(4):\n",
    "            print(s[i * 4 + q] if s[i * 4 + q] != 'P' else ' ', end=\"\")\n",
    "        print()"
   ]
  },
  {
   "cell_type": "code",
   "execution_count": 18,
   "metadata": {},
   "outputs": [],
   "source": [
    "trs = [\n",
    "    (1, 0),\n",
    "    (-1, 0),\n",
    "    (0, -1),\n",
    "    (0, 1),\n",
    "]"
   ]
  },
  {
   "cell_type": "code",
   "execution_count": null,
   "metadata": {},
   "outputs": [
    {
     "name": "stdout",
     "output_type": "stream",
     "text": [
      "44729 44729\n",
      "79152 34423\n",
      "116607 37455\n",
      "143527 26920\n",
      "170408 26881\n",
      "196199 25791\n",
      "218902 22703\n",
      "241846 22944\n",
      "264146 22300\n",
      "285146 21000\n",
      "301775 16629\n",
      "318655 16880\n",
      "338390 19735\n",
      "352752 14362\n"
     ]
    },
    {
     "ename": "KeyboardInterrupt",
     "evalue": "",
     "output_type": "error",
     "traceback": [
      "\u001b[0;31m---------------------------------------------------------------------------\u001b[0m",
      "\u001b[0;31mKeyboardInterrupt\u001b[0m                         Traceback (most recent call last)",
      "Cell \u001b[0;32mIn[24], line 38\u001b[0m\n\u001b[1;32m     35\u001b[0m stl[gi], stl[ind] \u001b[38;5;241m=\u001b[39m stl[ind], stl[gi]\n\u001b[1;32m     37\u001b[0m stt \u001b[38;5;241m=\u001b[39m \u001b[38;5;28mtuple\u001b[39m(stl)\n\u001b[0;32m---> 38\u001b[0m \u001b[43mQ\u001b[49m\u001b[38;5;241;43m.\u001b[39;49m\u001b[43minsert\u001b[49m\u001b[43m(\u001b[49m\u001b[38;5;241;43m0\u001b[39;49m\u001b[43m,\u001b[49m\u001b[43m \u001b[49m\u001b[43m(\u001b[49m\u001b[43mstt\u001b[49m\u001b[43m,\u001b[49m\u001b[43m \u001b[49m\u001b[43md\u001b[49m\u001b[43m \u001b[49m\u001b[38;5;241;43m+\u001b[39;49m\u001b[43m \u001b[49m\u001b[38;5;241;43m1\u001b[39;49m\u001b[43m)\u001b[49m\u001b[43m)\u001b[49m\n\u001b[1;32m     40\u001b[0m stl[gi], stl[ind] \u001b[38;5;241m=\u001b[39m stl[ind], stl[gi]\n",
      "\u001b[0;31mKeyboardInterrupt\u001b[0m: "
     ]
    }
   ],
   "source": [
    "md = {}\n",
    "Q = []\n",
    "\n",
    "Q.insert(0, (tuple((c for c in \"PRBBRRBBRRBBRRBB\")), 0))\n",
    "ta = 1\n",
    "i = 1\n",
    "lc = 0\n",
    "while len(Q):\n",
    "    if i % 100_000 == 0:\n",
    "        print(len(Q), len(Q) - lc)\n",
    "        lc = len(Q)\n",
    "    i += 1\n",
    "    state, d = Q.pop()\n",
    "    if state not in md:\n",
    "        md[state] = [d, [state]]\n",
    "        # print(d)\n",
    "        # displayState(state)\n",
    "    elif d < md[state][0]:\n",
    "        md[state] = [d, [state]]\n",
    "    elif d == md[state][0]:\n",
    "        md[state][1].append(state)\n",
    "        continue\n",
    "    else:\n",
    "        continue\n",
    "\n",
    "    # Bfs here?\n",
    "    gi = gci(state)\n",
    "    cp = itoc(gi)\n",
    "    stl = list(state)\n",
    "    for t in trs:\n",
    "        ccp = cp[0] + t[0], cp[1] + t[1]\n",
    "        if ccp[0] < 0 or ccp[0] >= 4 or ccp[1] < 0 or ccp[1] >= 4:\n",
    "            continue\n",
    "        # Swap the pos\n",
    "        ind = ttoi(ccp)\n",
    "        stl[gi], stl[ind] = stl[ind], stl[gi]\n",
    "\n",
    "        stt = tuple(stl)\n",
    "        Q.insert(0, (stt, d + 1))\n",
    "\n",
    "        stl[gi], stl[ind] = stl[ind], stl[gi]"
   ]
  },
  {
   "cell_type": "code",
   "execution_count": null,
   "metadata": {},
   "outputs": [],
   "source": []
  },
  {
   "cell_type": "code",
   "execution_count": null,
   "metadata": {},
   "outputs": [],
   "source": []
  },
  {
   "cell_type": "code",
   "execution_count": null,
   "metadata": {},
   "outputs": [],
   "source": []
  },
  {
   "cell_type": "code",
   "execution_count": null,
   "metadata": {},
   "outputs": [],
   "source": [
    "def gci(s: str):\n",
    "    return s.index('P')\n",
    "def itoc(i: int) -> tuple:\n",
    "    return (i // 4), i % 4\n",
    "def ttoi(t: tuple) -> int:\n",
    "    return t[0] * 4 + t[1]\n",
    "def displayState(s):\n",
    "    for i in range(4):\n",
    "        for q in range(4):\n",
    "            print(s[i * 4 + q] if s[i * 4 + q] != 'P' else ' ', end=\"\")\n",
    "        print()\n",
    "trs = [\n",
    "    (1, 0),\n",
    "    (-1, 0),\n",
    "    (0, -1),\n",
    "    (0, 1),\n",
    "]\n",
    "md = {}\n",
    "Q = []\n",
    "\n",
    "Q.insert(0, (tuple((c for c in \"PRBBRRBBRRBBRRBB\")), 0))\n",
    "ta = 1\n",
    "i = 1\n",
    "lc = 0\n",
    "while len(Q):\n",
    "    if i % 100_000 == 0:\n",
    "        print(len(Q), len(Q) - lc)\n",
    "        lc = len(Q)\n",
    "    i += 1\n",
    "    state, d = Q.pop()\n",
    "    if state not in md:\n",
    "        md[state] = [d, [state]]\n",
    "        # print(d)\n",
    "        # displayState(state)\n",
    "    elif d < md[state][0]:\n",
    "        md[state] = [d, [state]]\n",
    "    elif d == md[state][0]:\n",
    "        md[state][1].append(state)\n",
    "    else:\n",
    "        continue\n",
    "\n",
    "    # Bfs here?\n",
    "    gi = gci(state)\n",
    "    cp = itoc(gi)\n",
    "    stl = list(state)\n",
    "    for t in trs:\n",
    "        ccp = cp[0] + t[0], cp[1] + t[1]\n",
    "        if ccp[0] < 0 or ccp[0] >= 4 or ccp[1] < 0 or ccp[1] >= 4:\n",
    "            continue\n",
    "        # Swap the pos\n",
    "        ind = ttoi(ccp)\n",
    "        stl[gi], stl[ind] = stl[ind], stl[gi]\n",
    "\n",
    "        stt = tuple(stl)\n",
    "        Q.insert(0, (stt, d + 1))\n",
    "\n",
    "        stl[gi], stl[ind] = stl[ind], stl[gi]"
   ]
  }
 ],
 "metadata": {
  "kernelspec": {
   "display_name": "Python 3",
   "language": "python",
   "name": "python3"
  },
  "language_info": {
   "codemirror_mode": {
    "name": "ipython",
    "version": 3
   },
   "file_extension": ".py",
   "mimetype": "text/x-python",
   "name": "python",
   "nbconvert_exporter": "python",
   "pygments_lexer": "ipython3",
   "version": "3.9.6"
  }
 },
 "nbformat": 4,
 "nbformat_minor": 2
}
