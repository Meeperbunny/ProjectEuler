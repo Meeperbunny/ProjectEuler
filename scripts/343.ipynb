{
 "cells": [
  {
   "cell_type": "code",
   "execution_count": 33,
   "metadata": {},
   "outputs": [],
   "source": [
    "from utils.divisor import get_divs, combine_divs\n",
    "from utils.miller_rabin import miller_rabin"
   ]
  },
  {
   "cell_type": "code",
   "execution_count": 14,
   "metadata": {},
   "outputs": [],
   "source": [
    "D = get_divs(4 * 10**6)"
   ]
  },
  {
   "cell_type": "code",
   "execution_count": 1,
   "metadata": {},
   "outputs": [],
   "source": [
    "from fractions import Fraction"
   ]
  },
  {
   "cell_type": "code",
   "execution_count": null,
   "metadata": {},
   "outputs": [],
   "source": [
    "def next(f: Fraction):\n",
    "    combined = f.numerator + f.denominator\n",
    "    \n"
   ]
  },
  {
   "cell_type": "code",
   "execution_count": 46,
   "metadata": {},
   "outputs": [],
   "source": [
    "def f(n):\n",
    "    F = Fraction(1, n)\n",
    "    while F.denominator != 1:\n",
    "        # print(F)\n",
    "        F = Fraction(F.numerator + 1, F.denominator - 1)\n",
    "    return F.numerator"
   ]
  },
  {
   "cell_type": "code",
   "execution_count": 41,
   "metadata": {},
   "outputs": [],
   "source": [
    "from utils.prime_factors import pfs"
   ]
  },
  {
   "cell_type": "code",
   "execution_count": 42,
   "metadata": {},
   "outputs": [
    {
     "data": {
      "text/plain": [
       "[2, 3, 3, 3, 7, 13]"
      ]
     },
     "execution_count": 42,
     "metadata": {},
     "output_type": "execute_result"
    }
   ],
   "source": [
    "pfs(17**3+1)"
   ]
  },
  {
   "cell_type": "code",
   "execution_count": 45,
   "metadata": {},
   "outputs": [
    {
     "data": {
      "text/plain": [
       "(4914,\n",
       " [1,\n",
       "  2,\n",
       "  3,\n",
       "  6,\n",
       "  7,\n",
       "  9,\n",
       "  13,\n",
       "  14,\n",
       "  18,\n",
       "  21,\n",
       "  26,\n",
       "  27,\n",
       "  39,\n",
       "  42,\n",
       "  54,\n",
       "  63,\n",
       "  78,\n",
       "  91,\n",
       "  117,\n",
       "  126,\n",
       "  182,\n",
       "  189,\n",
       "  234,\n",
       "  273,\n",
       "  351,\n",
       "  378,\n",
       "  546,\n",
       "  702,\n",
       "  819,\n",
       "  1638,\n",
       "  2457,\n",
       "  4914])"
      ]
     },
     "execution_count": 45,
     "metadata": {},
     "output_type": "execute_result"
    }
   ],
   "source": [
    "17**3+1, D[17**3+1]"
   ]
  },
  {
   "cell_type": "code",
   "execution_count": 43,
   "metadata": {},
   "outputs": [
    {
     "name": "stdout",
     "output_type": "stream",
     "text": [
      "1/20\n",
      "2/19\n",
      "1/6\n",
      "2/5\n",
      "3/4\n",
      "4/3\n",
      "5/2\n"
     ]
    },
    {
     "data": {
      "text/plain": [
       "6"
      ]
     },
     "execution_count": 43,
     "metadata": {},
     "output_type": "execute_result"
    }
   ],
   "source": [
    "f(20)"
   ]
  },
  {
   "cell_type": "code",
   "execution_count": 7,
   "metadata": {},
   "outputs": [],
   "source": [
    "from tqdm.notebook import trange"
   ]
  },
  {
   "cell_type": "code",
   "execution_count": 51,
   "metadata": {},
   "outputs": [],
   "source": [
    "from sympy import primefactors"
   ]
  },
  {
   "cell_type": "code",
   "execution_count": null,
   "metadata": {},
   "outputs": [],
   "source": [
    "# N = 2 * 10**6\n",
    "# T = 0\n",
    "# for k in trange(1, N + 1):\n",
    "#     if miller_rabin(k**3 + 1):\n",
    "#         T += k**3\n",
    "#     else:\n",
    "#         T += max(primefactors(k**3 + 1)) - 1\n",
    "# T"
   ]
  },
  {
   "cell_type": "code",
   "execution_count": null,
   "metadata": {},
   "outputs": [
    {
     "data": {
      "application/vnd.jupyter.widget-view+json": {
       "model_id": "cb10625e7c6648d6b4ebda46b03fb497",
       "version_major": 2,
       "version_minor": 0
      },
      "text/plain": [
       "  0%|          | 0/2000000 [00:00<?, ?it/s]"
      ]
     },
     "metadata": {},
     "output_type": "display_data"
    }
   ],
   "source": [
    "N = 2 * 10**6\n",
    "T = 0\n",
    "for k in trange(1, N + 1):\n",
    "    T += max(primefactors(k + 1) + primefactors(k**2 - k + 1)) - 1\n",
    "T"
   ]
  },
  {
   "cell_type": "code",
   "execution_count": 52,
   "metadata": {},
   "outputs": [
    {
     "data": {
      "text/plain": [
       "[2, 5]"
      ]
     },
     "execution_count": 52,
     "metadata": {},
     "output_type": "execute_result"
    }
   ],
   "source": [
    "primefactors(100)"
   ]
  },
  {
   "cell_type": "code",
   "execution_count": 48,
   "metadata": {},
   "outputs": [
    {
     "data": {
      "application/vnd.jupyter.widget-view+json": {
       "model_id": "df2157c4579640c3b5ab5891a0ac5d80",
       "version_major": 2,
       "version_minor": 0
      },
      "text/plain": [
       "  0%|          | 0/100 [00:00<?, ?it/s]"
      ]
     },
     "metadata": {},
     "output_type": "display_data"
    },
    {
     "name": "stdout",
     "output_type": "stream",
     "text": [
      "1 1 1\n",
      "2 2 2\n",
      "3 6 6\n",
      "4 12 12\n",
      "5 6 6\n",
      "6 30 30\n",
      "7 42 42\n",
      "8 18 18\n",
      "9 72 72\n",
      "10 12 12\n",
      "11 36 36\n",
      "12 18 18\n",
      "13 156 156\n",
      "14 60 60\n",
      "15 210 210\n",
      "16 240 240\n",
      "17 12 12\n",
      "18 306 306\n",
      "19 6 6\n",
      "20 126 126\n",
      "21 420 420\n",
      "22 462 462\n",
      "23 12 12\n",
      "24 78 78\n",
      "25 600 600\n",
      "26 30 30\n",
      "27 36 36\n",
      "28 756 756\n",
      "29 270 270\n",
      "30 66 66\n",
      "31 18 18\n",
      "32 330 330\n",
      "33 150 150\n",
      "34 1122 1122\n",
      "35 396 396\n",
      "36 96 96\n",
      "37 42 42\n",
      "38 66 66\n",
      "39 1482 1482\n",
      "40 222 222\n",
      "41 546 546\n",
      "42 1722 1722\n",
      "43 138 138\n",
      "44 630 630\n",
      "45 282 282\n",
      "46 108 108\n",
      "47 102 102\n",
      "48 60 60\n",
      "49 180 180\n",
      "50 42 42\n",
      "51 2550 2550\n",
      "52 378 378\n",
      "53 918 918\n",
      "54 408 408\n",
      "55 2970 2970\n",
      "56 78 78\n",
      "57 102 102\n",
      "58 3306 3306\n",
      "59 162 162\n",
      "60 3540 3540\n",
      "61 522 522\n",
      "62 96 96\n",
      "63 3906 3906\n",
      "64 108 108\n",
      "65 72 72\n",
      "66 612 612\n",
      "67 4422 4422\n",
      "68 30 30\n",
      "69 18 18\n",
      "70 4830 4830\n",
      "71 1656 1656\n",
      "72 5112 5112\n",
      "73 750 750\n",
      "74 1800 1800\n",
      "75 60 60\n",
      "76 5700 5700\n",
      "77 1950 1950\n",
      "78 6006 6006\n",
      "79 6162 6162\n",
      "80 42 42\n",
      "81 6480 6480\n",
      "82 82 82\n",
      "83 2268 2268\n",
      "84 366 366\n",
      "85 192 192\n",
      "86 2436 2436\n",
      "87 1068 1068\n",
      "88 88 88\n",
      "89 372 372\n",
      "90 8010 8010\n",
      "91 8190 8190\n",
      "92 2790 2790\n",
      "93 198 198\n",
      "94 1248 1248\n",
      "95 228 228\n",
      "96 1302 1302\n",
      "97 138 138\n",
      "98 3168 3168\n",
      "99 312 312\n",
      "100 9900 9900\n"
     ]
    },
    {
     "data": {
      "text/plain": [
       "118937"
      ]
     },
     "execution_count": 48,
     "metadata": {},
     "output_type": "execute_result"
    }
   ],
   "source": [
    "T = 0\n",
    "for k in trange(1, 100 + 1):\n",
    "    print(k, f(k**3), max(pfs(k**3+1)) - 1)\n",
    "    T += f(k**3)\n",
    "T"
   ]
  }
 ],
 "metadata": {
  "kernelspec": {
   "display_name": "Python 3",
   "language": "python",
   "name": "python3"
  },
  "language_info": {
   "codemirror_mode": {
    "name": "ipython",
    "version": 3
   },
   "file_extension": ".py",
   "mimetype": "text/x-python",
   "name": "python",
   "nbconvert_exporter": "python",
   "pygments_lexer": "ipython3",
   "version": "3.9.6"
  }
 },
 "nbformat": 4,
 "nbformat_minor": 2
}
