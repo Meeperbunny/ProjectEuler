{
 "cells": [
  {
   "cell_type": "code",
   "execution_count": 10,
   "metadata": {},
   "outputs": [],
   "source": [
    "from utils.sieve import sieve\n",
    "from math import gcd"
   ]
  },
  {
   "cell_type": "code",
   "execution_count": 4,
   "metadata": {},
   "outputs": [],
   "source": [
    "primes = sieve(100)"
   ]
  },
  {
   "cell_type": "code",
   "execution_count": null,
   "metadata": {},
   "outputs": [],
   "source": [
    "def ad(n):\n",
    "    if n in primes:\n",
    "        return 1\n",
    "    for p in primes:\n",
    "        if n % p == 0:\n",
    "            return ad(n // p) * p + ad(p) * (n // p)"
   ]
  },
  {
   "cell_type": "code",
   "execution_count": 12,
   "metadata": {},
   "outputs": [
    {
     "name": "stdout",
     "output_type": "stream",
     "text": [
      "27 12 324 540\n"
     ]
    }
   ],
   "source": [
    "A, B = 27, 8\n",
    "assert(gcd(A, B) == 1)\n",
    "print(ad(A), ad(B), ad(A) * ad(B), ad(A * B))"
   ]
  },
  {
   "cell_type": "code",
   "execution_count": 11,
   "metadata": {},
   "outputs": [
    {
     "name": "stdout",
     "output_type": "stream",
     "text": [
      "2 1 1\n",
      "3 1 1\n",
      "4 4 4\n",
      "5 1 1\n",
      "6 5 1\n",
      "7 1 1\n",
      "8 12 4\n",
      "9 6 3\n",
      "10 7 1\n",
      "11 1 1\n",
      "12 16 4\n",
      "13 1 1\n",
      "14 9 1\n",
      "15 8 1\n",
      "16 32 16\n",
      "17 1 1\n",
      "18 21 3\n",
      "19 1 1\n",
      "20 24 4\n",
      "21 10 1\n",
      "22 13 1\n",
      "23 1 1\n",
      "24 44 4\n",
      "25 10 5\n",
      "26 15 1\n",
      "27 27 27\n",
      "28 32 4\n",
      "29 1 1\n",
      "30 31 1\n",
      "31 1 1\n",
      "32 80 16\n",
      "33 14 1\n",
      "34 19 1\n",
      "35 12 1\n",
      "36 60 12\n",
      "37 1 1\n",
      "38 21 1\n",
      "39 16 1\n",
      "40 68 4\n",
      "41 1 1\n",
      "42 41 1\n",
      "43 1 1\n",
      "44 48 4\n",
      "45 39 3\n",
      "46 25 1\n",
      "47 1 1\n",
      "48 112 16\n",
      "49 14 7\n",
      "50 45 5\n",
      "51 20 1\n",
      "52 56 4\n",
      "53 1 1\n",
      "54 81 27\n",
      "55 16 1\n",
      "56 92 4\n",
      "57 22 1\n",
      "58 31 1\n",
      "59 1 1\n",
      "60 92 4\n",
      "61 1 1\n",
      "62 33 1\n",
      "63 51 3\n",
      "64 192 64\n",
      "65 18 1\n",
      "66 61 1\n",
      "67 1 1\n",
      "68 72 4\n",
      "69 26 1\n",
      "70 59 1\n",
      "71 1 1\n",
      "72 156 12\n",
      "73 1 1\n",
      "74 39 1\n",
      "75 55 5\n",
      "76 80 4\n",
      "77 18 1\n",
      "78 71 1\n",
      "79 1 1\n",
      "80 176 16\n",
      "81 108 27\n",
      "82 43 1\n",
      "83 1 1\n",
      "84 124 4\n",
      "85 22 1\n",
      "86 45 1\n",
      "87 32 1\n",
      "88 140 4\n",
      "89 1 1\n",
      "90 123 3\n",
      "91 20 1\n",
      "92 96 4\n",
      "93 34 1\n",
      "94 49 1\n",
      "95 24 1\n",
      "96 272 16\n",
      "97 1 1\n",
      "98 77 7\n",
      "99 75 3\n"
     ]
    }
   ],
   "source": [
    "for k in range(2, 100):\n",
    "    print(k, ad(k), gcd(k, ad(k)))"
   ]
  }
 ],
 "metadata": {
  "kernelspec": {
   "display_name": "Python 3",
   "language": "python",
   "name": "python3"
  },
  "language_info": {
   "codemirror_mode": {
    "name": "ipython",
    "version": 3
   },
   "file_extension": ".py",
   "mimetype": "text/x-python",
   "name": "python",
   "nbconvert_exporter": "python",
   "pygments_lexer": "ipython3",
   "version": "3.9.6"
  }
 },
 "nbformat": 4,
 "nbformat_minor": 2
}
