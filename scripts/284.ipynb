{
 "cells": [
  {
   "cell_type": "code",
   "execution_count": 178,
   "metadata": {},
   "outputs": [],
   "source": [
    "md = 10_000\n",
    "md = 9\n"
   ]
  },
  {
   "cell_type": "code",
   "execution_count": 179,
   "metadata": {},
   "outputs": [],
   "source": [
    "def todec(s):\n",
    "    num = 0\n",
    "    for c in s:\n",
    "        num *= 14\n",
    "        if c in \"ABCD\":\n",
    "            num += ord(c) - ord('A') + 10\n",
    "        else:\n",
    "            num += ord(c) - ord('0')\n",
    "    return num"
   ]
  },
  {
   "cell_type": "code",
   "execution_count": 180,
   "metadata": {},
   "outputs": [],
   "source": [
    "def b14(num):\n",
    "    if num == 0:\n",
    "        return '0'\n",
    "    digits = \"0123456789ABCD\"\n",
    "    result = ''\n",
    "    while num > 0:\n",
    "        result = digits[num % 14] + result\n",
    "        num //= 14\n",
    "    return result"
   ]
  },
  {
   "cell_type": "code",
   "execution_count": 183,
   "metadata": {},
   "outputs": [],
   "source": [
    "ls = []\n",
    "for i in range(1, 14):\n",
    "    si = b14(i)\n",
    "    if si == b14(i * i)[-len(si):]:\n",
    "        ls.append(si)\n",
    "        # print(i, b14(i), b14(i * i))"
   ]
  },
  {
   "cell_type": "code",
   "execution_count": 184,
   "metadata": {},
   "outputs": [],
   "source": [
    "def expand(ls):\n",
    "    isg = []\n",
    "    for num in ls:\n",
    "        if len(num) >= md:\n",
    "            continue\n",
    "        cnum = num\n",
    "        for pre in range(0, 14):\n",
    "            ta = b14(pre)\n",
    "            nbnum = ta + cnum\n",
    "            sqnum = b14(todec(nbnum)**2)\n",
    "            if nbnum == sqnum[-len(nbnum):]:\n",
    "                isg.append(nbnum)\n",
    "    return isg"
   ]
  },
  {
   "cell_type": "code",
   "execution_count": 193,
   "metadata": {},
   "outputs": [
    {
     "name": "stdout",
     "output_type": "stream",
     "text": [
      "3 1\n",
      "2 2\n",
      "2 3\n",
      "2 4\n",
      "2 5\n",
      "2 6\n",
      "2 7\n",
      "2 8\n",
      "2 9\n"
     ]
    }
   ],
   "source": [
    "mds = 0\n",
    "base = ls\n",
    "goods = set()\n",
    "while len(base):\n",
    "    print(len(base), len(str(list(base)[0])))\n",
    "    base = set(base)\n",
    "    goods |= set(base)\n",
    "    base = expand(base)"
   ]
  },
  {
   "cell_type": "code",
   "execution_count": 194,
   "metadata": {},
   "outputs": [],
   "source": [
    "def b14dsum(s):\n",
    "    T = 0\n",
    "    for c in s:\n",
    "        if c in \"ABCD\":\n",
    "            T += ord(c) - ord('A') + 10\n",
    "        else:\n",
    "            T += ord(c) - ord('0')\n",
    "    return T"
   ]
  },
  {
   "cell_type": "code",
   "execution_count": 195,
   "metadata": {},
   "outputs": [
    {
     "data": {
      "text/plain": [
       "582"
      ]
     },
     "execution_count": 195,
     "metadata": {},
     "output_type": "execute_result"
    }
   ],
   "source": [
    "goods = {todec(e) for e in goods if len(e) <= md}\n",
    "sum(b14dsum(b14(e)) for e in goods)"
   ]
  },
  {
   "cell_type": "code",
   "execution_count": null,
   "metadata": {},
   "outputs": [],
   "source": []
  },
  {
   "cell_type": "code",
   "execution_count": 197,
   "metadata": {},
   "outputs": [
    {
     "data": {
      "text/plain": [
       "'5a411d7b'"
      ]
     },
     "execution_count": 197,
     "metadata": {},
     "output_type": "execute_result"
    }
   ],
   "source": [
    "b14(604557993).lower()"
   ]
  },
  {
   "cell_type": "code",
   "execution_count": null,
   "metadata": {},
   "outputs": [],
   "source": [
    "md = 10_000\n",
    "md = 9\n",
    "\n",
    "def todec(s):\n",
    "    num = 0\n",
    "    for c in s:\n",
    "        num *= 14\n",
    "        if c in \"ABCD\":\n",
    "            num += ord(c) - ord('A') + 10\n",
    "        else:\n",
    "            num += ord(c) - ord('0')\n",
    "    return num\n",
    "def b14(num):\n",
    "    if num == 0:\n",
    "        return '0'\n",
    "    digits = \"0123456789ABCD\"\n",
    "    result = ''\n",
    "    while num > 0:\n",
    "        result = digits[num % 14] + result\n",
    "        num //= 14\n",
    "    return result\n",
    "ls = []\n",
    "for i in range(1, 14):\n",
    "    si = b14(i)\n",
    "    if si == b14(i * i)[-len(si):]:\n",
    "        ls.append(si)\n",
    "        # print(i, b14(i), b14(i * i))\n",
    "def expand(ls):\n",
    "    isg = []\n",
    "    for num in ls:\n",
    "        if len(num) >= md:\n",
    "            continue\n",
    "        cnum = num\n",
    "        for pre in range(0, 14):\n",
    "            ta = b14(pre)\n",
    "            nbnum = ta + cnum\n",
    "            sqnum = b14(todec(nbnum)**2)\n",
    "            if nbnum == sqnum[-len(nbnum):]:\n",
    "                isg.append(nbnum)\n",
    "    return isg\n",
    "mds = 0\n",
    "base = ls\n",
    "goods = set()\n",
    "while len(base):\n",
    "    print(len(base), len(str(list(base)[0])))\n",
    "    base = set(base)\n",
    "    goods |= set(base)\n",
    "    base = expand(base)\n",
    "def b14dsum(s):\n",
    "    T = 0\n",
    "    for c in s:\n",
    "        if c in \"ABCD\":\n",
    "            T += ord(c) - ord('A') + 10\n",
    "        else:\n",
    "            T += ord(c) - ord('0')\n",
    "    return T\n",
    "goods = {todec(e) for e in goods if len(e) <= md}\n",
    "sum(b14dsum(b14(e)) for e in goods)"
   ]
  }
 ],
 "metadata": {
  "kernelspec": {
   "display_name": "Python 3",
   "language": "python",
   "name": "python3"
  },
  "language_info": {
   "codemirror_mode": {
    "name": "ipython",
    "version": 3
   },
   "file_extension": ".py",
   "mimetype": "text/x-python",
   "name": "python",
   "nbconvert_exporter": "python",
   "pygments_lexer": "ipython3",
   "version": "3.9.6"
  }
 },
 "nbformat": 4,
 "nbformat_minor": 2
}
