{
 "cells": [
  {
   "cell_type": "code",
   "execution_count": 1,
   "metadata": {},
   "outputs": [],
   "source": [
    "from tqdm.notebook import trange"
   ]
  },
  {
   "cell_type": "code",
   "execution_count": 4,
   "metadata": {},
   "outputs": [
    {
     "data": {
      "application/vnd.jupyter.widget-view+json": {
       "model_id": "dd88a687d3474bab9c5d29c08487aa75",
       "version_major": 2,
       "version_minor": 0
      },
      "text/plain": [
       "  0%|          | 0/10000 [00:00<?, ?it/s]"
      ]
     },
     "metadata": {},
     "output_type": "display_data"
    },
    {
     "name": "stdout",
     "output_type": "stream",
     "text": [
      "193 193\n",
      "337 144\n",
      "457 120\n",
      "673 216\n",
      "772 99\n",
      "1009 237\n",
      "1033 24\n",
      "1129 96\n",
      "1201 72\n",
      "1297 96\n",
      "1348 51\n",
      "1737 389\n",
      "1801 64\n",
      "1828 27\n",
      "1873 45\n",
      "2017 144\n",
      "2137 120\n",
      "2377 240\n",
      "2473 96\n",
      "2521 48\n",
      "2689 168\n",
      "2692 3\n",
      "2713 21\n",
      "2857 144\n",
      "3033 176\n",
      "3049 16\n",
      "3088 39\n",
      "3217 129\n",
      "3313 96\n",
      "3361 48\n",
      "3529 168\n",
      "3600 71\n",
      "3697 97\n",
      "3889 192\n",
      "4036 147\n",
      "4057 21\n",
      "4113 56\n",
      "4132 19\n",
      "4153 21\n",
      "4201 48\n",
      "4516 315\n",
      "4561 45\n",
      "4624 63\n",
      "4657 33\n",
      "4729 72\n",
      "4804 75\n",
      "4825 21\n",
      "4993 168\n",
      "5188 195\n",
      "5209 21\n",
      "5233 24\n",
      "5392 159\n",
      "5569 177\n",
      "5737 168\n",
      "5881 144\n",
      "6057 176\n",
      "6073 16\n",
      "6217 144\n",
      "6337 120\n",
      "6553 216\n",
      "6577 24\n",
      "6673 96\n",
      "6841 168\n",
      "6948 107\n",
      "7057 109\n",
      "7177 120\n",
      "7204 27\n",
      "7312 108\n",
      "7393 81\n",
      "7417 24\n",
      "7492 75\n",
      "7561 69\n",
      "7681 120\n",
      "7753 72\n",
      "8017 264\n",
      "8068 51\n",
      "8089 21\n",
      "8233 144\n",
      "8353 120\n",
      "8425 72\n",
      "8521 96\n",
      "8548 27\n",
      "8689 141\n",
      "8737 48\n",
      "8761 24\n",
      "8929 168\n",
      "9081 152\n",
      "9241 160\n",
      "9297 56\n",
      "9433 136\n",
      "9457 24\n",
      "9508 51\n",
      "9601 93\n",
      "9697 96\n",
      "9769 72\n",
      "9892 123\n"
     ]
    },
    {
     "data": {
      "text/plain": [
       "96"
      ]
     },
     "execution_count": 4,
     "metadata": {},
     "output_type": "execute_result"
    }
   ],
   "source": [
    "N = 10**4\n",
    "\n",
    "squares = {i * i for i in range(1, int(N**0.5+1))}\n",
    "la = 0\n",
    "C = 0\n",
    "for i in trange(1, N + 1):\n",
    "    isg = [0 for _ in range(8)]\n",
    "    for q in range(1, int(i**0.5+1)):\n",
    "        for e in [1, 2, 3, 7]:\n",
    "            if i - q * q * e in squares:\n",
    "                isg[e] = 1\n",
    "    if sum(isg) == 4:\n",
    "        C += 1\n",
    "        print(i, i - la)\n",
    "        la = i\n",
    "C"
   ]
  }
 ],
 "metadata": {
  "kernelspec": {
   "display_name": "Python 3",
   "language": "python",
   "name": "python3"
  },
  "language_info": {
   "codemirror_mode": {
    "name": "ipython",
    "version": 3
   },
   "file_extension": ".py",
   "mimetype": "text/x-python",
   "name": "python",
   "nbconvert_exporter": "python",
   "pygments_lexer": "ipython3",
   "version": "3.9.6"
  }
 },
 "nbformat": 4,
 "nbformat_minor": 2
}
