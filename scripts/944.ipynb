{
 "cells": [
  {
   "cell_type": "code",
   "execution_count": null,
   "metadata": {},
   "outputs": [],
   "source": [
    "mod = 1234567891\n",
    "n = 10**14\n",
    "# mod = 7\n",
    "# n = 10**1\n",
    "def rra(n, i):\n",
    "    return n * (n + 1) // 2 - (n - i) * (n - i + 1) // 2\n",
    "def frr(n, i):\n",
    "    return (n + i) * (n + i - 1) // 2 - n * (n - 1) // 2\n",
    "frr(3, 2)\n",
    "# T = 0\n",
    "# for i in range(1, n + 1):\n",
    "#     T += i * (2**(n - 1) - pow(2, n - (n // i - 1) - 1))\n",
    "# T % mod\n",
    "from tqdm.notebook import trange\n",
    "T = 0\n",
    "\n",
    "b = int(n**0.5 + 1)\n",
    "\n",
    "for i in trange(1, b):\n",
    "    T += i * (pow(2, (n - 1), mod) - pow(2, n - (n // i - 1) - 1, mod)) % mod\n",
    "\n",
    "cc = b\n",
    "while cc <= n:\n",
    "    print(cc)\n",
    "    cn = n // cc\n",
    "    maxnum = n // cn\n",
    "    nxt = maxnum + 1\n",
    "    T += frr(cc, nxt - cc) * (pow(2, n - 1, mod) - pow(2, n - (cn - 1) - 1, mod)) % mod\n",
    "    cc = nxt\n",
    "print(T, T % mod)"
   ]
  },
  {
   "cell_type": "code",
   "execution_count": 88,
   "metadata": {},
   "outputs": [
    {
     "data": {
      "text/plain": [
       "(21, 25)"
      ]
     },
     "execution_count": 88,
     "metadata": {},
     "output_type": "execute_result"
    }
   ],
   "source": [
    "(n + b + 1) // (b + 1), (n // b)"
   ]
  },
  {
   "cell_type": "code",
   "execution_count": 60,
   "metadata": {},
   "outputs": [
    {
     "data": {
      "text/plain": [
       "6.666666666666667"
      ]
     },
     "execution_count": 60,
     "metadata": {},
     "output_type": "execute_result"
    }
   ],
   "source": [
    "n = 100\n",
    "n / 15"
   ]
  },
  {
   "cell_type": "code",
   "execution_count": null,
   "metadata": {},
   "outputs": [
    {
     "data": {
      "text/plain": [
       "20.0"
      ]
     },
     "execution_count": 62,
     "metadata": {},
     "output_type": "execute_result"
    }
   ],
   "source": [
    "100 / "
   ]
  },
  {
   "cell_type": "code",
   "execution_count": null,
   "metadata": {},
   "outputs": [],
   "source": [
    "\"\"\"\n",
    "n // i = k\n",
    "n / (i + 1)\n",
    "Looking for max and min numbers \"i\" such that n // i == b\n",
    "\n",
    "n // i == b\n",
    "\"\"\""
   ]
  },
  {
   "cell_type": "code",
   "execution_count": 74,
   "metadata": {},
   "outputs": [
    {
     "data": {
      "text/plain": [
       "2.9411764705882355"
      ]
     },
     "execution_count": 74,
     "metadata": {},
     "output_type": "execute_result"
    }
   ],
   "source": [
    "n / 34"
   ]
  },
  {
   "cell_type": "code",
   "execution_count": null,
   "metadata": {},
   "outputs": [
    {
     "data": {
      "text/plain": [
       "(21, 25)"
      ]
     },
     "execution_count": 85,
     "metadata": {},
     "output_type": "execute_result"
    }
   ],
   "source": [
    "(n + b + 1) // (b + 1), (n // b)"
   ]
  }
 ],
 "metadata": {
  "kernelspec": {
   "display_name": "Python 3",
   "language": "python",
   "name": "python3"
  },
  "language_info": {
   "codemirror_mode": {
    "name": "ipython",
    "version": 3
   },
   "file_extension": ".py",
   "mimetype": "text/x-python",
   "name": "python",
   "nbconvert_exporter": "python",
   "pygments_lexer": "ipython3",
   "version": "3.9.6"
  }
 },
 "nbformat": 4,
 "nbformat_minor": 2
}
