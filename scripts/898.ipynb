{
 "cells": [
  {
   "cell_type": "code",
   "execution_count": 13,
   "metadata": {},
   "outputs": [
    {
     "name": "stdout",
     "output_type": "stream",
     "text": [
      "0.1352\n",
      "-2 0.07039999999999999\n",
      "-4 0.006399999999999998\n",
      "0.21199999999999997\n"
     ]
    }
   ],
   "source": [
    "m = [{0: 1}]\n",
    "for p in [0.4, 0.2, 0.2, 0.4]:\n",
    "    m.append({})\n",
    "    for e in m[-2]:\n",
    "        ma = max(1 - p, p)\n",
    "        mi = 1 - ma\n",
    "        if e + 1 not in m[-1]:\n",
    "            m[-1][e + 1] = 0\n",
    "        if e - 1 not in m[-1]:\n",
    "            m[-1][e - 1] = 0\n",
    "        m[-1][e + 1] += m[-2][e] * ma\n",
    "        m[-1][e - 1] += m[-2][e] * mi\n",
    "la = m[-1]\n",
    "t = la[0] / 2\n",
    "print(t)\n",
    "for e in la:\n",
    "    if e < 0:\n",
    "        print(e, la[e])\n",
    "        t += la[e]\n",
    "print(t)"
   ]
  },
  {
   "cell_type": "code",
   "execution_count": null,
   "metadata": {},
   "outputs": [],
   "source": [
    "# P(H | {p1, p2, p3, p4}) = P({p1, p2, p3, p4} | H) * P(H) / P({p1, p2, p3, p4})\n"
   ]
  },
  {
   "cell_type": "code",
   "execution_count": 17,
   "metadata": {},
   "outputs": [
    {
     "data": {
      "text/plain": [
       "0.006400000000000002"
      ]
     },
     "execution_count": 17,
     "metadata": {},
     "output_type": "execute_result"
    }
   ],
   "source": [
    "0.2**2 * 0.4 * 0.4"
   ]
  }
 ],
 "metadata": {
  "kernelspec": {
   "display_name": "Python 3",
   "language": "python",
   "name": "python3"
  },
  "language_info": {
   "codemirror_mode": {
    "name": "ipython",
    "version": 3
   },
   "file_extension": ".py",
   "mimetype": "text/x-python",
   "name": "python",
   "nbconvert_exporter": "python",
   "pygments_lexer": "ipython3",
   "version": "3.12.4"
  }
 },
 "nbformat": 4,
 "nbformat_minor": 2
}
