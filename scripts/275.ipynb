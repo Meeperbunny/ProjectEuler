{
 "cells": [
  {
   "cell_type": "code",
   "execution_count": null,
   "metadata": {},
   "outputs": [],
   "source": [
    "# 13 on one side is the max\n",
    "\n",
    "\n",
    "\n",
    "# #\n",
    "# ##\n",
    "# ###\n",
    "# ####\n",
    "# #####\n",
    "# ######\n",
    "# #######\n",
    "# ########\n",
    "# #########\n",
    "# ##########\n",
    "# ###########\n",
    "# ############\n",
    "# #############\n"
   ]
  },
  {
   "cell_type": "code",
   "execution_count": 1,
   "metadata": {},
   "outputs": [],
   "source": [
    "N = 18"
   ]
  },
  {
   "cell_type": "code",
   "execution_count": 6,
   "metadata": {},
   "outputs": [
    {
     "data": {
      "text/plain": [
       "{1: [1],\n",
       " 2: [2, 3, 4],\n",
       " 3: [2, 3, 4, 5, 6, 7, 8, 9],\n",
       " 4: [2, 3, 4, 5, 6, 7, 8, 9, 10, 11, 12, 13],\n",
       " 5: [3, 4, 5, 6, 7, 8, 9, 10, 11, 12],\n",
       " 6: [3, 4, 5, 6, 7, 8, 9, 10, 11],\n",
       " 7: [3, 4, 5, 6, 7, 8, 9, 10],\n",
       " 8: [3, 4, 5, 6, 7, 8, 9],\n",
       " 9: [3, 4, 5, 6, 7, 8],\n",
       " 10: [4, 5, 6, 7],\n",
       " 11: [4, 5, 6],\n",
       " 12: [4, 5],\n",
       " 13: [4]}"
      ]
     },
     "execution_count": 6,
     "metadata": {},
     "output_type": "execute_result"
    }
   ],
   "source": [
    "def max_weight(tiles):\n",
    "    return (tiles * (tiles + 1) // 2) - (tiles / 2)\n",
    "def min_weight(tiles):\n",
    "    return tiles / 2\n",
    "\n",
    "valid_rights = {}\n",
    "for right in range(1, N):\n",
    "    for left in range(1, N):\n",
    "        center = N - left - right\n",
    "        if center <= 0:\n",
    "            continue\n",
    "        if left <= 0:\n",
    "            break\n",
    "        if min_weight(left) > max_weight(right) or min_weight(right) > max_weight(left):\n",
    "            continue\n",
    "        if left not in valid_rights:\n",
    "            valid_rights[left] = []\n",
    "        valid_rights[left].append(right)\n",
    "valid_rights"
   ]
  },
  {
   "cell_type": "code",
   "execution_count": null,
   "metadata": {},
   "outputs": [],
   "source": []
  }
 ],
 "metadata": {
  "kernelspec": {
   "display_name": "Python 3",
   "language": "python",
   "name": "python3"
  },
  "language_info": {
   "codemirror_mode": {
    "name": "ipython",
    "version": 3
   },
   "file_extension": ".py",
   "mimetype": "text/x-python",
   "name": "python",
   "nbconvert_exporter": "python",
   "pygments_lexer": "ipython3",
   "version": "3.9.6"
  }
 },
 "nbformat": 4,
 "nbformat_minor": 2
}
