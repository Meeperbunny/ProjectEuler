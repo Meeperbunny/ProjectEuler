{
 "cells": [
  {
   "cell_type": "code",
   "execution_count": 18,
   "metadata": {},
   "outputs": [],
   "source": [
    "from math import gcd\n",
    "from utils.sieve import *\n",
    "from random import randint, random"
   ]
  },
  {
   "cell_type": "code",
   "execution_count": null,
   "metadata": {},
   "outputs": [
    {
     "data": {
      "text/plain": [
       "166"
      ]
     },
     "execution_count": 19,
     "metadata": {},
     "output_type": "execute_result"
    }
   ],
   "source": [
    "primes = [p for p in sieve(1000) if gcd(p, 10) == 1]\n",
    "len(primes)"
   ]
  },
  {
   "cell_type": "code",
   "execution_count": 55,
   "metadata": {},
   "outputs": [],
   "source": [
    "def get_dm(p):\n",
    "    # XX9\n",
    "    if p % 10 == 1:\n",
    "        return (p // 10) * 9 + 1\n",
    "    if p % 10 == 3:\n",
    "        return (p // 10) * 3 + 1\n",
    "    if p % 10 == 7:\n",
    "        return (p // 10) * 7 + 5\n",
    "    if p % 10 == 9:\n",
    "        return (p + 1) // 10\n",
    "    \n",
    "\n",
    "    wset = set()\n",
    "    for m in range(1, p):\n",
    "        w = True\n",
    "        for _ in range(100):\n",
    "            if random() < 0.5:\n",
    "                tnum = p * randint(1, 1000)\n",
    "            else:\n",
    "                tnum = randint(1, 100 * p)\n",
    "            if (tnum % p == 0) != ((tnum // 10 + tnum % 10 * m) % p == 0):\n",
    "                w = False\n",
    "        if w:\n",
    "            wset.add(m)\n",
    "    return list(wset)[0]"
   ]
  },
  {
   "cell_type": "code",
   "execution_count": 56,
   "metadata": {},
   "outputs": [
    {
     "data": {
      "text/plain": [
       "39517"
      ]
     },
     "execution_count": 56,
     "metadata": {},
     "output_type": "execute_result"
    }
   ],
   "source": [
    "T = 0\n",
    "for p in primes:\n",
    "    dm = get_dm(p)\n",
    "    T += dm\n",
    "    # print(p, dm)\n",
    "T"
   ]
  },
  {
   "cell_type": "code",
   "execution_count": null,
   "metadata": {},
   "outputs": [],
   "source": []
  },
  {
   "cell_type": "code",
   "execution_count": 57,
   "metadata": {},
   "outputs": [
    {
     "data": {
      "application/vnd.jupyter.widget-view+json": {
       "model_id": "07b9496b51c24ccca7225f91e9a8884b",
       "version_major": 2,
       "version_minor": 0
      },
      "text/plain": [
       "  0%|          | 0/664577 [00:00<?, ?it/s]"
      ]
     },
     "metadata": {},
     "output_type": "display_data"
    },
    {
     "data": {
      "text/plain": [
       "1601912348822"
      ]
     },
     "execution_count": 57,
     "metadata": {},
     "output_type": "execute_result"
    }
   ],
   "source": [
    "from tqdm.notebook import tqdm\n",
    "primes = [p for p in sieve(10**7) if gcd(p, 10) == 1]\n",
    "T = 0\n",
    "for p in tqdm(primes):\n",
    "    dm = get_dm(p)\n",
    "    T += dm\n",
    "    # print(p, dm)\n",
    "T"
   ]
  },
  {
   "cell_type": "code",
   "execution_count": null,
   "metadata": {},
   "outputs": [],
   "source": []
  }
 ],
 "metadata": {
  "kernelspec": {
   "display_name": "Python 3",
   "language": "python",
   "name": "python3"
  },
  "language_info": {
   "codemirror_mode": {
    "name": "ipython",
    "version": 3
   },
   "file_extension": ".py",
   "mimetype": "text/x-python",
   "name": "python",
   "nbconvert_exporter": "python",
   "pygments_lexer": "ipython3",
   "version": "3.9.6"
  }
 },
 "nbformat": 4,
 "nbformat_minor": 2
}
