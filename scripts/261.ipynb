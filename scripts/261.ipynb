{
 "cells": [
  {
   "cell_type": "code",
   "execution_count": 37,
   "metadata": {},
   "outputs": [
    {
     "data": {
      "text/plain": [
       "49"
      ]
     },
     "execution_count": 37,
     "metadata": {},
     "output_type": "execute_result"
    }
   ],
   "source": [
    "7 * 7"
   ]
  },
  {
   "cell_type": "code",
   "execution_count": 36,
   "metadata": {},
   "outputs": [
    {
     "data": {
      "text/plain": [
       "288"
      ]
     },
     "execution_count": 36,
     "metadata": {},
     "output_type": "execute_result"
    }
   ],
   "source": [
    "7 * 41 + 1"
   ]
  },
  {
   "cell_type": "code",
   "execution_count": 35,
   "metadata": {},
   "outputs": [
    {
     "data": {
      "text/plain": [
       "1681"
      ]
     },
     "execution_count": 35,
     "metadata": {},
     "output_type": "execute_result"
    }
   ],
   "source": [
    "7 * 240 + 1"
   ]
  },
  {
   "cell_type": "code",
   "execution_count": 39,
   "metadata": {},
   "outputs": [
    {
     "data": {
      "text/plain": [
       "736"
      ]
     },
     "execution_count": 39,
     "metadata": {},
     "output_type": "execute_result"
    }
   ],
   "source": [
    "46 * 16"
   ]
  },
  {
   "cell_type": "code",
   "execution_count": null,
   "metadata": {},
   "outputs": [],
   "source": []
  },
  {
   "cell_type": "code",
   "execution_count": 38,
   "metadata": {},
   "outputs": [
    {
     "name": "stdout",
     "output_type": "stream",
     "text": [
      "21 29 1 8\n",
      "110 133 2 23\n",
      "120 169 1 49\n",
      "315 361 3 46\n",
      "684 761 4 77\n",
      "697 985 1 288\n",
      "820 862 8 42\n",
      "1080 1321 2 241\n",
      "1265 1381 5 116\n",
      "2106 2269 6 163\n",
      "3255 3473 7 218\n",
      "4060 5741 1 1681\n",
      "4368 5041 3 673\n",
      "4760 5041 8 281\n",
      "6669 7021 9 352\n",
      "9030 9461 10 431\n"
     ]
    }
   ],
   "source": [
    "for l in range(1, 10000):\n",
    "    # print(l)\n",
    "    for r in range(l + 1, 20000):\n",
    "        for sz in range(1, min(l, 50)):\n",
    "            ls = sum(i*i for i in range(l, l - sz - 1, -1))\n",
    "            rs = sum(i*i for i in range(r, r + sz))\n",
    "            if rs > ls:\n",
    "                break\n",
    "            # print(l, r, sz, ls, rs)\n",
    "            if ls == rs and l != r - 1:\n",
    "                print(l, r, sz, r - l)\n"
   ]
  },
  {
   "cell_type": "code",
   "execution_count": 40,
   "metadata": {},
   "outputs": [],
   "source": [
    "def sosq(n):\n",
    "    return n * (n + 1) * (2 * n + 1) / 6"
   ]
  },
  {
   "cell_type": "code",
   "execution_count": 43,
   "metadata": {},
   "outputs": [],
   "source": [
    "def sosq_range(n, m):\n",
    "    return sosq(n + m - 1) - sosq(n - 1)"
   ]
  },
  {
   "cell_type": "code",
   "execution_count": 83,
   "metadata": {},
   "outputs": [],
   "source": [
    "n, m = 21, 1\n",
    "k = 8"
   ]
  },
  {
   "cell_type": "code",
   "execution_count": null,
   "metadata": {},
   "outputs": [
    {
     "data": {
      "text/plain": [
       "66150"
      ]
     },
     "execution_count": 103,
     "metadata": {},
     "output_type": "execute_result"
    }
   ],
   "source": [
    "2 * n**3 + 2 * n**2 + n**2 + n + \\\n",
    "2 * k**3 + 4 * n * k**2 + 2 * k * n**2 - 2 * k**2 - 2 * k * n + 2 * n * k**2 + 4 * n**2 * k + 2 * n**3 - 2 * k * n - 2 * n**2 - k**2 - 2 * n * k - n**2 + k + n"
   ]
  },
  {
   "cell_type": "code",
   "execution_count": 116,
   "metadata": {},
   "outputs": [
    {
     "data": {
      "text/plain": [
       "66150"
      ]
     },
     "execution_count": 116,
     "metadata": {},
     "output_type": "execute_result"
    }
   ],
   "source": [
    "4 * n**3 + 2 * n + 2 * k**3 + 6 * n * k**2 + 6 * n**2 * k - 3 * k**2 - 6 * k * n + k"
   ]
  },
  {
   "cell_type": "code",
   "execution_count": 205,
   "metadata": {},
   "outputs": [
    {
     "data": {
      "text/plain": [
       "4468830286052880"
      ]
     },
     "execution_count": 205,
     "metadata": {},
     "output_type": "execute_result"
    }
   ],
   "source": [
    "n * (n + 1) * (2 * n + 1) + (k + n - 1) * (k + n) * (2 * (k + n) - 1)"
   ]
  },
  {
   "cell_type": "code",
   "execution_count": 204,
   "metadata": {},
   "outputs": [
    {
     "data": {
      "text/plain": [
       "4468830308460720"
      ]
     },
     "execution_count": 204,
     "metadata": {},
     "output_type": "execute_result"
    }
   ],
   "source": [
    "(n - m - 1) * (n - m) * (2 * (n - m) - 1) + (k + n + m - 1) * (k + n + m) * (2 * (k + n + m) - 1)"
   ]
  },
  {
   "cell_type": "code",
   "execution_count": 203,
   "metadata": {},
   "outputs": [
    {
     "data": {
      "text/plain": [
       "8937618810470176"
      ]
     },
     "execution_count": 203,
     "metadata": {},
     "output_type": "execute_result"
    }
   ],
   "source": [
    "4 * n**3 + 2 * n + 2 * k**3 + 6 * n * k**2 + 6 * n**2 * k - 3 * k**2 - 6 * k * n + k - \\\n",
    "2*k**3 + (6*m + 6*n - 3)*k**2 + (6*m**2 + 12*m*n - 6*m + 6*n**2 - 6*n + 1)*k + (12*m**2*n - 6*m**2 + 4*n**3 - 6*n**2 + 2*n)"
   ]
  },
  {
   "cell_type": "code",
   "execution_count": 201,
   "metadata": {},
   "outputs": [
    {
     "data": {
      "text/plain": [
       "-22407840"
      ]
     },
     "execution_count": 201,
     "metadata": {},
     "output_type": "execute_result"
    }
   ],
   "source": [
    "-6*k**2*m - 6*k*m**2 - 12*k*m*n + 6*k*m - 12*m**2*n + 6*m**2 + 6*n**2"
   ]
  },
  {
   "cell_type": "code",
   "execution_count": 125,
   "metadata": {},
   "outputs": [
    {
     "data": {
      "text/plain": [
       "0"
      ]
     },
     "execution_count": 125,
     "metadata": {},
     "output_type": "execute_result"
    }
   ],
   "source": [
    "-k**2*m - k*m**2 - 2*k*m*n + k*m - 2*m**2*n + m**2 + n**2"
   ]
  },
  {
   "cell_type": "code",
   "execution_count": 126,
   "metadata": {},
   "outputs": [
    {
     "data": {
      "text/plain": [
       "0"
      ]
     },
     "execution_count": 126,
     "metadata": {},
     "output_type": "execute_result"
    }
   ],
   "source": [
    "k**2*(-m) + k*(-m**2 - 2*m*n + m) + (- 2*m**2*n + m**2 + n**2)"
   ]
  },
  {
   "cell_type": "code",
   "execution_count": 135,
   "metadata": {},
   "outputs": [],
   "source": [
    "squares = {i*i: i for i in range(0, 100_000)}"
   ]
  },
  {
   "cell_type": "code",
   "execution_count": null,
   "metadata": {},
   "outputs": [],
   "source": []
  },
  {
   "cell_type": "code",
   "execution_count": 141,
   "metadata": {},
   "outputs": [],
   "source": [
    "from tqdm.notebook import trange"
   ]
  },
  {
   "cell_type": "code",
   "execution_count": null,
   "metadata": {},
   "outputs": [
    {
     "data": {
      "application/vnd.jupyter.widget-view+json": {
       "model_id": "f0547cbef3b14798bf1c7a87f12b90f5",
       "version_major": 2,
       "version_minor": 0
      },
      "text/plain": [
       "  0%|          | 0/10000000000 [00:00<?, ?it/s]"
      ]
     },
     "metadata": {},
     "output_type": "display_data"
    },
    {
     "ename": "KeyboardInterrupt",
     "evalue": "",
     "output_type": "error",
     "traceback": [
      "\u001b[0;31m---------------------------------------------------------------------------\u001b[0m",
      "\u001b[0;31mKeyboardInterrupt\u001b[0m                         Traceback (most recent call last)",
      "Cell \u001b[0;32mIn[145], line 6\u001b[0m\n\u001b[1;32m      4\u001b[0m \u001b[38;5;28;01mfor\u001b[39;00m n \u001b[38;5;129;01min\u001b[39;00m trange(\u001b[38;5;241m1\u001b[39m, N \u001b[38;5;241m+\u001b[39m \u001b[38;5;241m1\u001b[39m):\n\u001b[1;32m      5\u001b[0m     \u001b[38;5;28;01mfor\u001b[39;00m m \u001b[38;5;129;01min\u001b[39;00m \u001b[38;5;28mrange\u001b[39m(\u001b[38;5;241m1\u001b[39m, \u001b[38;5;28mmin\u001b[39m(n \u001b[38;5;241m+\u001b[39m \u001b[38;5;241m1\u001b[39m, K \u001b[38;5;241m+\u001b[39m \u001b[38;5;241m1\u001b[39m)):\n\u001b[0;32m----> 6\u001b[0m         a, b, c \u001b[38;5;241m=\u001b[39m \u001b[38;5;241m-\u001b[39mm, \u001b[38;5;241m-\u001b[39m\u001b[43mm\u001b[49m\u001b[38;5;241;43m*\u001b[39;49m\u001b[38;5;241;43m*\u001b[39;49m\u001b[38;5;241;43m2\u001b[39;49m \u001b[38;5;241m-\u001b[39m \u001b[38;5;241m2\u001b[39m\u001b[38;5;241m*\u001b[39mm\u001b[38;5;241m*\u001b[39mn \u001b[38;5;241m+\u001b[39m m, \u001b[38;5;241m-\u001b[39m \u001b[38;5;241m2\u001b[39m\u001b[38;5;241m*\u001b[39mm\u001b[38;5;241m*\u001b[39m\u001b[38;5;241m*\u001b[39m\u001b[38;5;241m2\u001b[39m\u001b[38;5;241m*\u001b[39mn \u001b[38;5;241m+\u001b[39m m\u001b[38;5;241m*\u001b[39m\u001b[38;5;241m*\u001b[39m\u001b[38;5;241m2\u001b[39m \u001b[38;5;241m+\u001b[39m n\u001b[38;5;241m*\u001b[39m\u001b[38;5;241m*\u001b[39m\u001b[38;5;241m2\u001b[39m\n\u001b[1;32m      7\u001b[0m         inner \u001b[38;5;241m=\u001b[39m b\u001b[38;5;241m*\u001b[39m\u001b[38;5;241m*\u001b[39m\u001b[38;5;241m2\u001b[39m \u001b[38;5;241m-\u001b[39m \u001b[38;5;241m4\u001b[39m \u001b[38;5;241m*\u001b[39m a \u001b[38;5;241m*\u001b[39m c\n\u001b[1;32m      8\u001b[0m         \u001b[38;5;28;01mif\u001b[39;00m inner \u001b[38;5;129;01min\u001b[39;00m squares:\n",
      "\u001b[0;31mKeyboardInterrupt\u001b[0m: "
     ]
    }
   ],
   "source": [
    "s = set()\n",
    "N = 10**10\n",
    "K = 30\n",
    "for n in trange(1, N + 1):\n",
    "    for m in range(1, min(n + 1, K + 1)):\n",
    "        a, b, c = -m, -m**2 - 2*m*n + m, - 2*m**2*n + m**2 + n**2\n",
    "        inner = b**2 - 4 * a * c\n",
    "        if inner in squares:\n",
    "            for e in (-b - squares[inner], -b + squares[inner]):\n",
    "                if e % (2 * a) == 0:\n",
    "                    k = e // (2 * a)\n",
    "                    if k > 0:\n",
    "                        s.add(n)\n",
    "                        # print(n, m, k)\n",
    "print(sum(s))"
   ]
  },
  {
   "cell_type": "code",
   "execution_count": 120,
   "metadata": {},
   "outputs": [
    {
     "data": {
      "text/plain": [
       "0"
      ]
     },
     "execution_count": 120,
     "metadata": {},
     "output_type": "execute_result"
    }
   ],
   "source": [
    "4 * n**3 + 2 * n+ 6 * n * k**2 + 6 * n**2 * k - 3 * k**2 - 6 * k * n + k \\\n",
    "- (6*m + 6*n - 3)*k**2 - (6*m**2 + 12*m*n - 6*m + 6*n**2 - 6*n + 1)*k - (12*m**2*n - 6*m**2 + 4*n**3 - 6*n**2 + 2*n)"
   ]
  },
  {
   "cell_type": "code",
   "execution_count": 96,
   "metadata": {},
   "outputs": [
    {
     "data": {
      "text/plain": [
       "66150"
      ]
     },
     "execution_count": 96,
     "metadata": {},
     "output_type": "execute_result"
    }
   ],
   "source": [
    "(n - m - 1) * (n - m) * (2 * (n - m) - 1) + (k + n + m - 1) * (k + n + m) * (2 * (k + n + m) - 1)"
   ]
  },
  {
   "cell_type": "code",
   "execution_count": 111,
   "metadata": {},
   "outputs": [
    {
     "data": {
      "text/plain": [
       "0"
      ]
     },
     "execution_count": 111,
     "metadata": {},
     "output_type": "execute_result"
    }
   ],
   "source": [
    "n * (n + 1) * (2 * n + 1) - (n - m - 1) * (n - m) * (2 * (n - m) - 1)    \\\n",
    "- (k + n + m - 1) * (k + n + m) * (2 * (k + n + m) - 1) + (k + n - 1) * (k + n) * (2 * (k + n) - 1)"
   ]
  },
  {
   "cell_type": "code",
   "execution_count": 47,
   "metadata": {},
   "outputs": [
    {
     "data": {
      "text/plain": [
       "25.0"
      ]
     },
     "execution_count": 47,
     "metadata": {},
     "output_type": "execute_result"
    }
   ],
   "source": [
    "sosq_range(3, 2)"
   ]
  },
  {
   "cell_type": "code",
   "execution_count": 28,
   "metadata": {},
   "outputs": [
    {
     "name": "stdout",
     "output_type": "stream",
     "text": [
      "4 5 1 1\n",
      "12 13 2 1\n",
      "24 25 3 1\n",
      "40 41 4 1\n",
      "60 61 5 1\n",
      "84 85 6 1\n",
      "112 113 7 1\n",
      "144 145 8 1\n",
      "180 181 9 1\n",
      "220 221 10 1\n",
      "264 265 11 1\n",
      "312 313 12 1\n",
      "364 365 13 1\n",
      "420 421 14 1\n",
      "480 481 15 1\n",
      "544 545 16 1\n",
      "612 613 17 1\n",
      "684 685 18 1\n",
      "760 761 19 1\n",
      "840 841 20 1\n",
      "924 925 21 1\n",
      "1012 1013 22 1\n",
      "1104 1105 23 1\n",
      "1200 1201 24 1\n",
      "1300 1301 25 1\n",
      "1404 1405 26 1\n",
      "1512 1513 27 1\n",
      "1624 1625 28 1\n",
      "1740 1741 29 1\n",
      "1860 1861 30 1\n",
      "1984 1985 31 1\n",
      "2112 2113 32 1\n",
      "2244 2245 33 1\n",
      "2380 2381 34 1\n",
      "2520 2521 35 1\n",
      "2664 2665 36 1\n",
      "2812 2813 37 1\n",
      "2964 2965 38 1\n",
      "3120 3121 39 1\n",
      "3280 3281 40 1\n",
      "3444 3445 41 1\n",
      "3612 3613 42 1\n",
      "3784 3785 43 1\n",
      "3960 3961 44 1\n",
      "4140 4141 45 1\n",
      "4324 4325 46 1\n",
      "4512 4513 47 1\n",
      "4704 4705 48 1\n",
      "4900 4901 49 1\n"
     ]
    }
   ],
   "source": [
    "for l in range(1, 5000):\n",
    "    # print(l)\n",
    "    for r in range(l + 1, l + 2):\n",
    "        for sz in range(1, min(l, 50)):\n",
    "            ls = sum(i*i for i in range(l, l - sz - 1, -1))\n",
    "            rs = sum(i*i for i in range(r, r + sz))\n",
    "            if rs > ls:\n",
    "                break\n",
    "            # print(l, r, sz, ls, rs)\n",
    "            if ls == rs:\n",
    "                print(l, r, sz, r - l)\n"
   ]
  },
  {
   "cell_type": "markdown",
   "metadata": {},
   "source": [
    "Two types:\n",
    "* $l + 1 = r$\n",
    "* $l + 1 < r$"
   ]
  },
  {
   "cell_type": "code",
   "execution_count": null,
   "metadata": {},
   "outputs": [
    {
     "ename": "KeyboardInterrupt",
     "evalue": "",
     "output_type": "error",
     "traceback": [
      "\u001b[0;31m---------------------------------------------------------------------------\u001b[0m",
      "\u001b[0;31mKeyboardInterrupt\u001b[0m                         Traceback (most recent call last)",
      "Cell \u001b[0;32mIn[154], line 20\u001b[0m\n\u001b[1;32m     18\u001b[0m m \u001b[38;5;241m=\u001b[39m \u001b[38;5;241m1\u001b[39m\n\u001b[1;32m     19\u001b[0m \u001b[38;5;28;01mwhile\u001b[39;00m \u001b[38;5;28;01mTrue\u001b[39;00m:\n\u001b[0;32m---> 20\u001b[0m     n \u001b[38;5;241m=\u001b[39m \u001b[38;5;241m2\u001b[39m \u001b[38;5;241m*\u001b[39m m \u001b[38;5;241m+\u001b[39m \u001b[38;5;241m2\u001b[39m \u001b[38;5;241m*\u001b[39m \u001b[43mm\u001b[49m\u001b[38;5;241;43m*\u001b[39;49m\u001b[38;5;241;43m*\u001b[39;49m\u001b[38;5;241;43m2\u001b[39;49m\n\u001b[1;32m     21\u001b[0m     \u001b[38;5;28;01mif\u001b[39;00m n \u001b[38;5;241m>\u001b[39m N:\n\u001b[1;32m     22\u001b[0m         \u001b[38;5;28;01mbreak\u001b[39;00m\n",
      "\u001b[0;31mKeyboardInterrupt\u001b[0m: "
     ]
    }
   ],
   "source": [
    "from tqdm import trange\n",
    "\n",
    "from collections import Counter\n",
    "cc = Counter()\n",
    "\n",
    "def get_square(n):\n",
    "    l = int(n**0.5)\n",
    "    if l * l == n:\n",
    "        return l\n",
    "    if (l + 1) * (l + 1) == n:\n",
    "        return l + 1\n",
    "    return -1\n",
    "\n",
    "s = set()\n",
    "N = 10**5\n",
    "K = int((N//2)**0.5 + 1)\n",
    "for n in trange(1, N + 1):\n",
    "    for m in range(1, min(n + 1, K + 1)):\n",
    "        a, b, c = -m, -m**2 - 2*m*n + m, - 2*m**2*n + m**2 + n**2\n",
    "        inner = b**2 - 4 * a * c\n",
    "        sq = get_square(inner)\n",
    "        if sq != -1:\n",
    "            for e in (-b - sq, -b + sq):\n",
    "                if e % (2 * a) == 0:\n",
    "                    k = e // (2 * a)\n",
    "                    if k > 0:\n",
    "                        s.add(n)\n",
    "                        cc[k] += 1\n",
    "print(sum(s), cc, cc.values())"
   ]
  },
  {
   "cell_type": "code",
   "execution_count": null,
   "metadata": {},
   "outputs": [],
   "source": [
    "# m = i, k = 1 GIVEN M, What is n?\n",
    "\n",
    "n = 2 * m + 2 * m**2\n",
    "\n",
    "n = 2 * m + 2 * m**2"
   ]
  },
  {
   "cell_type": "code",
   "execution_count": 221,
   "metadata": {},
   "outputs": [],
   "source": [
    "from sympy import divisors"
   ]
  },
  {
   "cell_type": "code",
   "execution_count": 278,
   "metadata": {},
   "outputs": [
    {
     "data": {
      "text/plain": [
       "(False, [])"
      ]
     },
     "execution_count": 278,
     "metadata": {},
     "output_type": "execute_result"
    }
   ],
   "source": [
    "j = 0\n",
    "m in divisors(k-1), divisors(k**3-1)[j:j+10]"
   ]
  },
  {
   "cell_type": "code",
   "execution_count": 279,
   "metadata": {},
   "outputs": [],
   "source": [
    "n, m, k = 183540, 28, 3221"
   ]
  },
  {
   "cell_type": "code",
   "execution_count": 285,
   "metadata": {},
   "outputs": [
    {
     "data": {
      "text/plain": [
       "[1, 7, 41, 287]"
      ]
     },
     "execution_count": 285,
     "metadata": {},
     "output_type": "execute_result"
    }
   ],
   "source": [
    "divisors(288 - 1)"
   ]
  },
  {
   "cell_type": "code",
   "execution_count": 286,
   "metadata": {},
   "outputs": [
    {
     "data": {
      "text/plain": [
       "0"
      ]
     },
     "execution_count": 286,
     "metadata": {},
     "output_type": "execute_result"
    }
   ],
   "source": [
    "get_square(0)"
   ]
  },
  {
   "cell_type": "code",
   "execution_count": 289,
   "metadata": {},
   "outputs": [
    {
     "name": "stdout",
     "output_type": "stream",
     "text": [
      "21 1 8\n",
      "110 2 23\n",
      "315 3 46\n",
      "120 1 49\n",
      "684 4 77\n",
      "1265 5 116\n",
      "2106 6 163\n",
      "3255 7 218\n",
      "1080 2 241\n",
      "4760 8 281\n",
      "697 1 288\n"
     ]
    }
   ],
   "source": [
    "# -k**2*m - k*m**2 - 2*k*m*n + k*m - 2*m**2*n + m**2 + n**2 = 0\n",
    "\n",
    "# n**2 (1) + n (- 2*m**2 - 2*k*m) + 1 (-k**2*m - k*m**2 + k*m + m**2) = 0\n",
    "\n",
    "for k in range(1, 300):\n",
    "    for m in divisors(k - 1):\n",
    "        a, b, c = 1, - 2*m**2 - 2*k*m, -k**2*m - k*m**2 + k*m + m**2\n",
    "        inner = b**2 - 4*a*c\n",
    "        sq = get_square(inner)\n",
    "        if sq != -1:\n",
    "            n = -b + sq\n",
    "            if n % 2 == 0:\n",
    "                n //= 2\n",
    "                print(n, m, k)"
   ]
  },
  {
   "cell_type": "code",
   "execution_count": 1157,
   "metadata": {},
   "outputs": [
    {
     "name": "stderr",
     "output_type": "stream",
     "text": [
      " 50%|█████     | 501499/1000000 [00:15<00:15, 32662.95it/s]\n"
     ]
    },
    {
     "ename": "KeyboardInterrupt",
     "evalue": "",
     "output_type": "error",
     "traceback": [
      "\u001b[0;31m---------------------------------------------------------------------------\u001b[0m",
      "\u001b[0;31mKeyboardInterrupt\u001b[0m                         Traceback (most recent call last)",
      "Cell \u001b[0;32mIn[1157], line 34\u001b[0m\n\u001b[1;32m     32\u001b[0m mk \u001b[38;5;241m=\u001b[39m \u001b[38;5;241m0\u001b[39m\n\u001b[1;32m     33\u001b[0m \u001b[38;5;28;01mfor\u001b[39;00m k \u001b[38;5;129;01min\u001b[39;00m trange(\u001b[38;5;241m1\u001b[39m, N \u001b[38;5;241m+\u001b[39m \u001b[38;5;241m1\u001b[39m):\n\u001b[0;32m---> 34\u001b[0m     \u001b[38;5;28;01mfor\u001b[39;00m m \u001b[38;5;129;01min\u001b[39;00m \u001b[43mdivisors\u001b[49m\u001b[43m(\u001b[49m\u001b[43mk\u001b[49m\u001b[43m \u001b[49m\u001b[38;5;241;43m-\u001b[39;49m\u001b[43m \u001b[49m\u001b[38;5;241;43m1\u001b[39;49m\u001b[43m)\u001b[49m:\n\u001b[1;32m     35\u001b[0m         a, b, c \u001b[38;5;241m=\u001b[39m \u001b[38;5;241m1\u001b[39m, \u001b[38;5;241m-\u001b[39m \u001b[38;5;241m2\u001b[39m\u001b[38;5;241m*\u001b[39mm\u001b[38;5;241m*\u001b[39m\u001b[38;5;241m*\u001b[39m\u001b[38;5;241m2\u001b[39m \u001b[38;5;241m-\u001b[39m \u001b[38;5;241m2\u001b[39m\u001b[38;5;241m*\u001b[39mk\u001b[38;5;241m*\u001b[39mm, \u001b[38;5;241m-\u001b[39mk\u001b[38;5;241m*\u001b[39m\u001b[38;5;241m*\u001b[39m\u001b[38;5;241m2\u001b[39m\u001b[38;5;241m*\u001b[39mm \u001b[38;5;241m-\u001b[39m k\u001b[38;5;241m*\u001b[39mm\u001b[38;5;241m*\u001b[39m\u001b[38;5;241m*\u001b[39m\u001b[38;5;241m2\u001b[39m \u001b[38;5;241m+\u001b[39m k\u001b[38;5;241m*\u001b[39mm \u001b[38;5;241m+\u001b[39m m\u001b[38;5;241m*\u001b[39m\u001b[38;5;241m*\u001b[39m\u001b[38;5;241m2\u001b[39m\n\u001b[1;32m     36\u001b[0m         inner \u001b[38;5;241m=\u001b[39m b\u001b[38;5;241m*\u001b[39m\u001b[38;5;241m*\u001b[39m\u001b[38;5;241m2\u001b[39m \u001b[38;5;241m-\u001b[39m \u001b[38;5;241m4\u001b[39m\u001b[38;5;241m*\u001b[39ma\u001b[38;5;241m*\u001b[39mc\n",
      "File \u001b[0;32m~/Library/Python/3.9/lib/python/site-packages/sympy/ntheory/factor_.py:1668\u001b[0m, in \u001b[0;36mdivisors\u001b[0;34m(n, generator, proper)\u001b[0m\n\u001b[1;32m   1636\u001b[0m \u001b[38;5;250m\u001b[39m\u001b[38;5;124mr\u001b[39m\u001b[38;5;124;03m\"\"\"\u001b[39;00m\n\u001b[1;32m   1637\u001b[0m \u001b[38;5;124;03mReturn all divisors of n sorted from 1..n by default.\u001b[39;00m\n\u001b[1;32m   1638\u001b[0m \u001b[38;5;124;03mIf generator is ``True`` an unordered generator is returned.\u001b[39;00m\n\u001b[0;32m   (...)\u001b[0m\n\u001b[1;32m   1665\u001b[0m \u001b[38;5;124;03mprimefactors, factorint, divisor_count\u001b[39;00m\n\u001b[1;32m   1666\u001b[0m \u001b[38;5;124;03m\"\"\"\u001b[39;00m\n\u001b[1;32m   1667\u001b[0m rv \u001b[38;5;241m=\u001b[39m _divisors(as_int(\u001b[38;5;28mabs\u001b[39m(n)), proper)\n\u001b[0;32m-> 1668\u001b[0m \u001b[38;5;28;01mreturn\u001b[39;00m rv \u001b[38;5;28;01mif\u001b[39;00m generator \u001b[38;5;28;01melse\u001b[39;00m \u001b[38;5;28;43msorted\u001b[39;49m\u001b[43m(\u001b[49m\u001b[43mrv\u001b[49m\u001b[43m)\u001b[49m\n",
      "File \u001b[0;32m~/Library/Python/3.9/lib/python/site-packages/sympy/ntheory/factor_.py:1617\u001b[0m, in \u001b[0;36m_divisors\u001b[0;34m(n, proper)\u001b[0m\n\u001b[1;32m   1614\u001b[0m         \u001b[38;5;28;01myield\u001b[39;00m \u001b[38;5;241m1\u001b[39m\n\u001b[1;32m   1615\u001b[0m     \u001b[38;5;28;01mreturn\u001b[39;00m\n\u001b[0;32m-> 1617\u001b[0m factordict \u001b[38;5;241m=\u001b[39m \u001b[43mfactorint\u001b[49m\u001b[43m(\u001b[49m\u001b[43mn\u001b[49m\u001b[43m)\u001b[49m\n\u001b[1;32m   1618\u001b[0m ps \u001b[38;5;241m=\u001b[39m \u001b[38;5;28msorted\u001b[39m(factordict\u001b[38;5;241m.\u001b[39mkeys())\n\u001b[1;32m   1620\u001b[0m \u001b[38;5;28;01mdef\u001b[39;00m\u001b[38;5;250m \u001b[39m\u001b[38;5;21mrec_gen\u001b[39m(n\u001b[38;5;241m=\u001b[39m\u001b[38;5;241m0\u001b[39m):\n",
      "File \u001b[0;32m~/Library/Python/3.9/lib/python/site-packages/sympy/ntheory/factor_.py:1318\u001b[0m, in \u001b[0;36mfactorint\u001b[0;34m(n, limit, use_trial, use_rho, use_pm1, use_ecm, verbose, visual, multiple)\u001b[0m\n\u001b[1;32m   1316\u001b[0m \u001b[38;5;28;01mif\u001b[39;00m verbose:\n\u001b[1;32m   1317\u001b[0m     \u001b[38;5;28mprint\u001b[39m(trial_int_msg \u001b[38;5;241m%\u001b[39m (\u001b[38;5;241m2\u001b[39m, small, fail_max))\n\u001b[0;32m-> 1318\u001b[0m n, next_p \u001b[38;5;241m=\u001b[39m \u001b[43m_factorint_small\u001b[49m\u001b[43m(\u001b[49m\u001b[43mfactors\u001b[49m\u001b[43m,\u001b[49m\u001b[43m \u001b[49m\u001b[43mn\u001b[49m\u001b[43m,\u001b[49m\u001b[43m \u001b[49m\u001b[43msmall\u001b[49m\u001b[43m,\u001b[49m\u001b[43m \u001b[49m\u001b[43mfail_max\u001b[49m\u001b[43m)\u001b[49m\n\u001b[1;32m   1319\u001b[0m \u001b[38;5;28;01mif\u001b[39;00m factors \u001b[38;5;129;01mand\u001b[39;00m verbose:\n\u001b[1;32m   1320\u001b[0m     \u001b[38;5;28;01mfor\u001b[39;00m k \u001b[38;5;129;01min\u001b[39;00m \u001b[38;5;28msorted\u001b[39m(factors):\n",
      "File \u001b[0;32m~/Library/Python/3.9/lib/python/site-packages/sympy/ntheory/factor_.py:1027\u001b[0m, in \u001b[0;36m_factorint_small\u001b[0;34m(factors, n, limit, fail_max, next_p)\u001b[0m\n\u001b[1;32m   1025\u001b[0m     threshold2 \u001b[38;5;241m=\u001b[39m \u001b[38;5;28mmin\u001b[39m(n, limit2)\n\u001b[1;32m   1026\u001b[0m next_p \u001b[38;5;241m+\u001b[39m\u001b[38;5;241m=\u001b[39m \u001b[38;5;241m2\u001b[39m\n\u001b[0;32m-> 1027\u001b[0m \u001b[38;5;28;01mif\u001b[39;00m threshold2 \u001b[38;5;241m<\u001b[39m \u001b[43mnext_p\u001b[49m\u001b[38;5;241;43m*\u001b[39;49m\u001b[38;5;241;43m*\u001b[39;49m\u001b[38;5;241;43m2\u001b[39;49m:\n\u001b[1;32m   1028\u001b[0m     \u001b[38;5;28;01mreturn\u001b[39;00m done(n, next_p)\n\u001b[1;32m   1030\u001b[0m \u001b[38;5;66;03m# next_p % 6 == 1\u001b[39;00m\n",
      "\u001b[0;31mKeyboardInterrupt\u001b[0m: "
     ]
    }
   ],
   "source": [
    "from tqdm import trange\n",
    "\n",
    "from collections import Counter\n",
    "cc = Counter()\n",
    "\n",
    "def get_square(n):\n",
    "    l = int(n**0.5)\n",
    "    if l * l == n:\n",
    "        return l\n",
    "    if (l + 1) * (l + 1) == n:\n",
    "        return l + 1\n",
    "    return -1\n",
    "\n",
    "S = set()\n",
    "N = 10**6\n",
    "K = 300\n",
    "\n",
    "m = 1\n",
    "while True:\n",
    "    n = 2 * m + 2 * m**2\n",
    "    if n > N:\n",
    "        break\n",
    "    # S.add(n)\n",
    "    m += 1\n",
    "\n",
    "mm = 0\n",
    "# -k**2*m - k*m**2 - 2*k*m*n + k*m - 2*m**2*n + m**2 + n**2 = 0\n",
    "\n",
    "# n**2 (1) + n (- 2*m**2 - 2*k*m) + 1 (-k**2*m - k*m**2 + k*m + m**2) = 0\n",
    "\n",
    "from sympy import divisors\n",
    "mk = 0\n",
    "for k in trange(1, N + 1):\n",
    "    for m in divisors(k - 1):\n",
    "        a, b, c = 1, - 2*m**2 - 2*k*m, -k**2*m - k*m**2 + k*m + m**2\n",
    "        inner = b**2 - 4*a*c\n",
    "        sq = get_square(inner)\n",
    "        if sq != -1:\n",
    "            n = -b + sq\n",
    "            if n % 2 == 0:\n",
    "                n //= 2\n",
    "                if n <= N:\n",
    "                    S.add(n)\n",
    "                    mk = max(mk, k)\n",
    "                    # print(n, m, k)\n",
    "# print(sum(s), cc, cc.values(), mm)\n",
    "print(sum(S), mm, mk)"
   ]
  },
  {
   "cell_type": "code",
   "execution_count": null,
   "metadata": {},
   "outputs": [],
   "source": []
  },
  {
   "cell_type": "code",
   "execution_count": null,
   "metadata": {},
   "outputs": [],
   "source": [
    "N = 10**6\n"
   ]
  },
  {
   "cell_type": "code",
   "execution_count": 1291,
   "metadata": {},
   "outputs": [
    {
     "name": "stderr",
     "output_type": "stream",
     "text": [
      "  0%|          | 4452/1000000 [00:02<10:14, 1619.59it/s]\n"
     ]
    },
    {
     "ename": "KeyboardInterrupt",
     "evalue": "",
     "output_type": "error",
     "traceback": [
      "\u001b[0;31m---------------------------------------------------------------------------\u001b[0m",
      "\u001b[0;31mKeyboardInterrupt\u001b[0m                         Traceback (most recent call last)",
      "Cell \u001b[0;32mIn[1291], line 29\u001b[0m\n\u001b[1;32m     27\u001b[0m \u001b[38;5;28;01mfor\u001b[39;00m n \u001b[38;5;129;01min\u001b[39;00m trange(\u001b[38;5;241m1\u001b[39m, N \u001b[38;5;241m+\u001b[39m \u001b[38;5;241m1\u001b[39m):\n\u001b[1;32m     28\u001b[0m     \u001b[38;5;28;01mfor\u001b[39;00m m \u001b[38;5;129;01min\u001b[39;00m \u001b[38;5;28mrange\u001b[39m(\u001b[38;5;241m1\u001b[39m, \u001b[38;5;28mmin\u001b[39m(n \u001b[38;5;241m+\u001b[39m \u001b[38;5;241m1\u001b[39m, K \u001b[38;5;241m+\u001b[39m \u001b[38;5;241m1\u001b[39m)):\n\u001b[0;32m---> 29\u001b[0m         \u001b[38;5;28;01mif\u001b[39;00m n \u001b[38;5;241m==\u001b[39m \u001b[38;5;241m2\u001b[39m \u001b[38;5;241m*\u001b[39m m \u001b[38;5;241m+\u001b[39m \u001b[38;5;241m2\u001b[39m \u001b[38;5;241m*\u001b[39m \u001b[43mm\u001b[49m\u001b[38;5;241;43m*\u001b[39;49m\u001b[38;5;241;43m*\u001b[39;49m\u001b[38;5;241;43m2\u001b[39;49m:\n\u001b[1;32m     30\u001b[0m             \u001b[38;5;28;01mcontinue\u001b[39;00m\n\u001b[1;32m     31\u001b[0m         a, b, c \u001b[38;5;241m=\u001b[39m \u001b[38;5;241m-\u001b[39mm, \u001b[38;5;241m-\u001b[39mm\u001b[38;5;241m*\u001b[39m\u001b[38;5;241m*\u001b[39m\u001b[38;5;241m2\u001b[39m \u001b[38;5;241m-\u001b[39m \u001b[38;5;241m2\u001b[39m\u001b[38;5;241m*\u001b[39mm\u001b[38;5;241m*\u001b[39mn \u001b[38;5;241m+\u001b[39m m, \u001b[38;5;241m-\u001b[39m \u001b[38;5;241m2\u001b[39m\u001b[38;5;241m*\u001b[39mm\u001b[38;5;241m*\u001b[39m\u001b[38;5;241m*\u001b[39m\u001b[38;5;241m2\u001b[39m\u001b[38;5;241m*\u001b[39mn \u001b[38;5;241m+\u001b[39m m\u001b[38;5;241m*\u001b[39m\u001b[38;5;241m*\u001b[39m\u001b[38;5;241m2\u001b[39m \u001b[38;5;241m+\u001b[39m n\u001b[38;5;241m*\u001b[39m\u001b[38;5;241m*\u001b[39m\u001b[38;5;241m2\u001b[39m\n",
      "\u001b[0;31mKeyboardInterrupt\u001b[0m: "
     ]
    }
   ],
   "source": [
    "from tqdm import trange\n",
    "\n",
    "from collections import Counter\n",
    "cc = Counter()\n",
    "\n",
    "def get_square(n):\n",
    "    l = int(n**0.5)\n",
    "    if l * l == n:\n",
    "        return l\n",
    "    if (l + 1) * (l + 1) == n:\n",
    "        return l + 1\n",
    "    return -1\n",
    "\n",
    "s = set()\n",
    "N = 10**6\n",
    "K = 500\n",
    "\n",
    "m = 1\n",
    "while True:\n",
    "    n = 2 * m + 2 * m**2\n",
    "    if n > N:\n",
    "        break\n",
    "    # s.add(n)\n",
    "    m += 1\n",
    "\n",
    "mm = 0\n",
    "for n in trange(1, N + 1):\n",
    "    for m in range(1, min(n + 1, K + 1)):\n",
    "        if n == 2 * m + 2 * m**2:\n",
    "            continue\n",
    "        a, b, c = -m, -m**2 - 2*m*n + m, - 2*m**2*n + m**2 + n**2\n",
    "        inner = b**2 - 4 * a * c\n",
    "        sq = get_square(inner)\n",
    "        if sq != -1:\n",
    "            for e in (-b - sq, -b + sq):\n",
    "                if e % (2 * a) == 0:\n",
    "                    k = e // (2 * a)\n",
    "                    if k > 0:\n",
    "                        # if n not in S:\n",
    "                        #     print(\"NOT IN\", n, m, k)\n",
    "                        # print(n, m, k)\n",
    "                        s.add((n, m, k))\n",
    "                        cc[k] += 1\n",
    "                        mm = max(m, mm)\n",
    "# print(sum(s), cc, cc.values(), mm)\n",
    "# print(sum(s))\n",
    "print(s)"
   ]
  },
  {
   "cell_type": "code",
   "execution_count": 1292,
   "metadata": {},
   "outputs": [],
   "source": [
    "s = {(21, 1, 8), (110, 2, 23), (120, 1, 49), (315, 3, 46), (684, 4, 77), (697, 1, 288), (820, 8, 42), (1080, 2, 241), (1265, 5, 116), (2106, 6, 163), (3255, 7, 218), (4060, 1, 1681), (4368, 3, 673), (4760, 8, 281), (6669, 9, 352), (9030, 10, 431), (10682, 2, 2399), (11772, 24, 219), (11891, 11, 518), (12240, 4, 1441), (15300, 12, 613), (19305, 13, 716), (23661, 1, 9800), (23954, 14, 827), (27720, 5, 2641), (27724, 8, 1674), (28441, 49, 240), (29295, 15, 946), (35376, 16, 1073), (42245, 17, 1208), (49950, 18, 1351), (54600, 6, 4369), (58539, 19, 1502), (60819, 3, 9406), (65208, 48, 628), (68060, 20, 1661), (78561, 21, 1828), (90090, 22, 2003), (97440, 7, 6721), (102695, 23, 2186), (105732, 2, 23761), (116424, 24, 2377), (131325, 25, 2576), (137904, 1, 57121), (147446, 26, 2783), (161568, 8, 9793), (164835, 27, 2998), (165648, 49, 1633), (183540, 28, 3221), (203609, 29, 3452), (219604, 4, 25917), (225090, 30, 3691), (231880, 80, 1365), (248031, 31, 3938), (253080, 9, 13681), (272480, 32, 4193), (298485, 33, 4456), (326094, 34, 4727), (355355, 35, 5006), (378840, 10, 18481), (386316, 36, 5293), (419025, 37, 5588), (453530, 38, 5891), (489879, 39, 6202), (528120, 40, 6521), (546480, 11, 24289), (568301, 41, 6848), (608525, 5, 58076), (610470, 42, 7183), (636300, 120, 2526), (654675, 43, 7526), (700964, 44, 7877), (749385, 45, 8236), (764400, 12, 31201), (799986, 46, 8603), (803761, 1, 332928), (847080, 3, 131041), (852815, 47, 8978), (907920, 48, 9361), (941668, 8, 57114), (965349, 49, 9752), (969528, 288, 1394)}"
   ]
  },
  {
   "cell_type": "code",
   "execution_count": 1325,
   "metadata": {},
   "outputs": [],
   "source": [
    "g = {}\n",
    "for n, m, k in s:\n",
    "    tg = m\n",
    "    if tg not in g:\n",
    "        g[tg] = []\n",
    "    g[tg].append((n, m, k))"
   ]
  },
  {
   "cell_type": "code",
   "execution_count": 1315,
   "metadata": {},
   "outputs": [],
   "source": [
    "N = 3 * 10**6"
   ]
  },
  {
   "cell_type": "code",
   "execution_count": 1316,
   "metadata": {},
   "outputs": [
    {
     "name": "stdout",
     "output_type": "stream",
     "text": [
      "1 6 8 2\n",
      "\t 42 1 8\n",
      "\t 240 1 49\n",
      "\t 1394 1 288\n",
      "\t 8120 1 1681\n",
      "\t 47322 1 9800\n",
      "\t 275808 1 57121\n",
      "\t 1607522 1 332928\n",
      "\t 9369320 1 1940449\n",
      "\t 54608394 1 11309768\n",
      "\t 318281040 1 65918161\n",
      "\t 1855077842 1 384199200\n",
      "\t 10812186008 1 2239277041\n",
      "\t 63018038202 1 13051463048\n",
      "\t 367296043200 1 76069501249\n",
      "\t 2140758220994 1 443365544448\n",
      "\t 12477253282760 1 2584123765441\n",
      "\t 72722761475562 1 15061377048200\n",
      "\t 423859315570608 1 87784138523761\n",
      "\t 2470433131948082 1 511643454094368\n",
      "\t 14398739476117880 1 2982076586042449\n",
      "\t 83922003724759194 1 17380816062160328\n",
      "2 10 23 12\n",
      "\t 220 2 23\n",
      "\t 2160 2 241\n",
      "\t 21364 2 2399\n",
      "\t 211464 2 23761\n",
      "\t 2093260 2 235223\n",
      "\t 20721120 2 2328481\n",
      "\t 205117924 2 23049599\n",
      "\t 2030458104 2 228167521\n",
      "\t 20099463100 2 2258625623\n",
      "\t 198964172880 2 22358088721\n",
      "\t 1969542265684 2 221322261599\n",
      "\t 19496458483944 2 2190864527281\n",
      "\t 192995042573740 2 21687323011223\n",
      "\t 1910453967253440 2 214682365584961\n",
      "\t 18911544629960644 2 2125136332838399\n",
      "3 14 46 30\n",
      "\t 630 3 46\n",
      "\t 8736 3 673\n",
      "\t 121638 3 9406\n",
      "\t 1694160 3 131041\n",
      "\t 23596566 3 1825198\n",
      "\t 328657728 3 25421761\n",
      "\t 4577611590 3 354079486\n",
      "\t 63757904496 3 4931691073\n",
      "\t 888033051318 3 68689595566\n",
      "\t 12368704813920 3 956722646881\n",
      "\t 172273834343526 3 13325427460798\n",
      "\t 2399464975995408 3 185599261804321\n",
      "\t 33420235829592150 3 2585064237799726\n",
      "4 18 77 56\n",
      "\t 1368 4 77\n",
      "\t 24480 4 1441\n",
      "\t 439208 4 25917\n",
      "\t 7881200 4 465121\n",
      "\t 141422328 4 8346317\n",
      "\t 2537720640 4 149768641\n",
      "\t 45537549128 4 2687489277\n",
      "\t 817138163600 4 48225038401\n",
      "\t 14662949395608 4 865363201997\n",
      "\t 263115950957280 4 15528312597601\n",
      "\t 4721424167835368 4 278644263554877\n",
      "\t 84722519070079280 4 5000068431390241\n",
      "5 22 116 90\n",
      "\t 2530 5 116\n",
      "\t 55440 5 2641\n",
      "\t 1217050 5 58076\n",
      "\t 26719560 5 1275121\n",
      "\t 586613170 5 27994676\n",
      "\t 12878770080 5 614607841\n",
      "\t 282746328490 5 13493377916\n",
      "\t 6207540456600 5 296239706401\n",
      "\t 136283143716610 5 6503780162996\n",
      "\t 2992021621308720 5 142786923879601\n",
      "\t 65688192525075130 5 3134808545188316\n",
      "6 26 163 132\n",
      "\t 4212 6 163\n",
      "\t 109200 6 4369\n",
      "\t 2834844 6 113563\n",
      "\t 73596600 6 2948401\n",
      "\t 1910676612 6 76544995\n",
      "\t 49603995168 6 1987221601\n",
      "\t 1287793197612 6 51591216763\n",
      "\t 33433019142600 6 1339384414369\n",
      "\t 867970704509844 6 34772403556963\n",
      "\t 22533805298113200 6 902743108066801\n",
      "7 30 218 182\n",
      "\t 6510 7 218\n",
      "\t 194880 7 6721\n",
      "\t 5839694 7 201594\n",
      "\t 174995744 7 6041281\n",
      "\t 5244032430 7 181037018\n",
      "\t 157145976960 7 5425069441\n",
      "\t 4709135276174 7 162571046394\n",
      "\t 141116912308064 7 4871706322561\n",
      "\t 4228798233965550 7 145988618630618\n",
      "\t 126722830106658240 7 4374786852596161\n",
      "8 34 281 240\n",
      "\t 9520 8 281\n",
      "\t 323136 8 9793\n",
      "\t 10976848 8 332921\n",
      "\t 372889440 8 11309761\n",
      "\t 12667263856 8 384199193\n",
      "\t 430314081408 8 13051463041\n",
      "\t 14618011503760 8 443365544441\n",
      "\t 496582077046176 8 15061377048193\n",
      "\t 16869172608065968 8 511643454094361\n",
      "9 38 352 306\n",
      "\t 13338 9 352\n",
      "\t 506160 9 13681\n",
      "\t 19220418 9 519832\n",
      "\t 729869400 9 19740241\n",
      "\t 27715816458 9 749609632\n",
      "\t 1052471155680 9 28465426081\n",
      "\t 39966188099058 9 1080936581752\n",
      "\t 1517662676608200 9 41047124680801\n",
      "\t 57631215523012218 9 1558709801288992\n",
      "10 42 431 380\n",
      "\t 18060 10 431\n",
      "\t 757680 10 18481\n",
      "\t 31804100 10 776151\n",
      "\t 1335014120 10 32580241\n",
      "\t 56038788540 10 1367594351\n",
      "\t 2352294104160 10 57406382881\n",
      "\t 98740313585780 10 2409700487031\n",
      "\t 4144740876498200 10 101150014072801\n",
      "11 46 518 462\n",
      "\t 23782 11 518\n",
      "\t 1092960 11 24289\n",
      "\t 50251894 11 1117238\n",
      "\t 2310493680 11 51369121\n",
      "\t 106232456902 11 2361862790\n",
      "\t 4884382523328 11 108594319681\n",
      "\t 224575363615702 11 4992976842998\n",
      "\t 10325582343798480 11 229568340458689\n",
      "12 50 613 552\n",
      "\t 30600 12 613\n",
      "\t 1528800 12 31201\n",
      "\t 76408824 12 1559989\n",
      "\t 3818911824 12 77968801\n",
      "\t 190869181800 12 3896880613\n",
      "\t 9539640177600 12 194766062401\n",
      "\t 476791139697624 12 9734406239989\n",
      "\t 23830017344703024 12 486525545937601\n",
      "13 54 716 650\n",
      "\t 38610 13 716\n",
      "\t 2083536 13 39313\n",
      "\t 112471658 13 2122836\n",
      "\t 6071385320 13 114594481\n",
      "\t 327742334946 13 6185979788\n",
      "\t 17692014701088 13 333928314721\n",
      "\t 955041051523130 13 18025943015796\n",
      "\t 51554524767547256 13 973066994538913\n",
      "14 58 827 756\n",
      "\t 47908 14 827\n",
      "\t 2777040 14 48721\n",
      "\t 161019628 14 2825747\n",
      "\t 9336360600 14 163845361\n",
      "\t 541347894388 14 9500205947\n",
      "\t 31388841513120 14 550848100321\n",
      "\t 1820011459865788 14 31939689613427\n",
      "15 62 946 870\n",
      "\t 58590 15 946\n",
      "\t 3630720 15 59521\n",
      "\t 225045150 15 3690226\n",
      "\t 13949167680 15 228735361\n",
      "\t 864623350110 15 14177903026\n",
      "\t 53592698538240 15 878801253121\n",
      "\t 3321882686019870 15 54471499791346\n",
      "\t 205903133834692800 15 3376354185811201\n",
      "16 66 1073 992\n",
      "\t 70752 16 1073\n",
      "\t 4667520 16 71809\n",
      "\t 307984544 16 4739313\n",
      "\t 20322311360 16 312723841\n",
      "\t 1340964564192 16 20635035185\n",
      "\t 88483338924288 16 1361599599361\n",
      "\t 5838559404437792 16 89844938523633\n",
      "\t 385256437353968960 16 5928404342961409\n",
      "17 70 1208 1122\n",
      "\t 84490 17 1208\n",
      "\t 5911920 17 85681\n",
      "\t 413748754 17 5997584\n",
      "\t 28956499704 17 419746321\n",
      "\t 2026541229370 17 29376246008\n",
      "\t 141828929555040 17 2055917475361\n",
      "\t 9925998527622274 17 143884847030384\n",
      "18 74 1351 1260\n",
      "\t 99900 18 1351\n",
      "\t 7389936 18 101233\n",
      "\t 546754068 18 7491151\n",
      "\t 40452409800 18 554245201\n",
      "\t 2992931569836 18 41006654983\n",
      "\t 221436483756768 18 3033938224801\n",
      "\t 16383306866429700 18 224470421981551\n",
      "19 78 1502 1406\n",
      "\t 117078 19 1502\n",
      "\t 9129120 19 118561\n",
      "\t 711952838 19 9247662\n",
      "\t 55523190800 19 721200481\n",
      "\t 4330096928118 19 56244391262\n",
      "\t 337692037200960 19 4386341319361\n",
      "\t 26335648804745318 19 342078378520302\n",
      "20 82 1661 1560\n",
      "\t 136120 20 1661\n",
      "\t 11158560 20 137761\n",
      "\t 914864200 20 11296301\n",
      "\t 75007704240 20 926160481\n",
      "\t 6149716881880 20 75933864701\n",
      "\t 504201776608320 20 6225650746561\n",
      "\t 41338395964998760 20 510427427354861\n",
      "21 86 1828 1722\n",
      "\t 157122 21 1828\n",
      "\t 13508880 21 158929\n",
      "\t 1161604794 21 13667788\n",
      "\t 99884501640 21 1175272561\n",
      "\t 8588905534482 21 101059774180\n",
      "\t 738545991462048 21 8689965308641\n",
      "\t 63506366360199882 21 747235956770668\n",
      "22 90 2003 1892\n",
      "\t 180180 22 2003\n",
      "\t 16212240 22 182161\n",
      "\t 1458919484 22 16394379\n",
      "\t 131286539384 22 1475313841\n",
      "\t 11814329623140 22 132761853203\n",
      "\t 1063158379541280 22 11947091476321\n",
      "\t 95672439829090124 22 1075105471017579\n",
      "23 94 2186 2070\n",
      "\t 205390 23 2186\n",
      "\t 19302336 23 207553\n",
      "\t 1814212078 23 19509866\n",
      "\t 170516630880 23 1833721921\n",
      "\t 16026749088526 23 172350352778\n",
      "\t 1506343897688448 23 16199099441281\n",
      "\t 141580299633623470 23 1522542997129706\n",
      "24 98 2377 2256\n",
      "\t 232848 24 2377\n",
      "\t 22814400 24 235201\n",
      "\t 2235576048 24 23049577\n",
      "\t 219063636000 24 2258625601\n",
      "\t 21466000749648 24 221322261577\n",
      "\t 2103449009827200 24 21687323011201\n",
      "\t 206116536962313648 24 2125136332838377\n",
      "25 102 2576 2450\n",
      "\t 262650 25 2576\n",
      "\t 26785200 25 265201\n",
      "\t 2731825250 25 27050376\n",
      "\t 278619387800 25 2758875601\n",
      "\t 28416445727850 25 281378263376\n",
      "\t 2898198844850400 25 28697823991201\n",
      "\t 295587865729010450 25 2926896668841576\n",
      "26 106 2783 2652\n",
      "\t 294892 26 2783\n",
      "\t 31253040 26 297649\n",
      "\t 3312524644 26 31550663\n",
      "\t 351096356520 26 3344075281\n",
      "\t 37212901263772 26 354440431775\n",
      "\t 3944216437600608 26 37567341695521\n",
      "\t 418049729484397972 26 3981783779296103\n",
      "27 110 2998 2862\n",
      "\t 329670 27 2998\n",
      "\t 36257760 27 332641\n",
      "\t 3988021014 27 36590374\n",
      "\t 438646050864 27 4024611361\n",
      "\t 48247077571110 27 442670662198\n",
      "\t 5306739886768320 27 48689748233281\n",
      "\t 583693140466941174 27 5355429635001574\n",
      "28 114 3221 3080\n",
      "\t 367080 28 3221\n",
      "\t 41840736 28 370273\n",
      "\t 4769473688 28 42210981\n",
      "\t 543678156560 28 4811684641\n",
      "\t 61974540371016 28 548489841173\n",
      "\t 7064553924136128 28 62523030212161\n",
      "\t 805297172811144440 28 7127076954348261\n",
      "29 118 3452 3306\n",
      "\t 407218 29 3452\n",
      "\t 48044880 29 410641\n",
      "\t 5668885258 29 48455492\n",
      "\t 668880412200 29 5717340721\n",
      "\t 78922219750978 29 674597752892\n",
      "\t 9312153050199840 29 79596817503841\n",
      "30 122 3691 3540\n",
      "\t 450180 30 3691\n",
      "\t 54914640 30 453841\n",
      "\t 6699132300 30 55368451\n",
      "\t 817239222360 30 6754500721\n",
      "\t 99696485992020 30 823993723051\n",
      "\t 12162154051800480 30 100520479715041\n",
      "31 126 3938 3782\n",
      "\t 496062 31 3938\n",
      "\t 62496000 31 499969\n",
      "\t 7873996094 31 62995938\n",
      "\t 992061008000 31 7936992001\n",
      "\t 124991813008062 31 999997999970\n",
      "\t 15747976378003968 31 125991811008001\n",
      "\t 1984120031815488062 31 15873968189011938\n",
      "32 130 4193 4032\n",
      "\t 544960 32 4193\n",
      "\t 70836480 32 549121\n",
      "\t 9208193344 32 71385569\n",
      "\t 1196994294144 32 9279578881\n",
      "\t 155600050041280 32 1206273872993\n",
      "\t 20226809511068160 32 156806323914241\n",
      "\t 2629329636388815424 32 20383615834982369\n",
      "33 134 4456 4290\n",
      "\t 596970 33 4456\n",
      "\t 79985136 33 601393\n",
      "\t 10717406898 33 80586496\n",
      "\t 1436052534840 33 10797993361\n",
      "\t 192420322257306 33 1446850528168\n",
      "\t 25782887129939808 33 193867172785441\n",
      "34 138 4727 4556\n",
      "\t 652188 34 4727\n",
      "\t 89992560 34 656881\n",
      "\t 12418316468 34 90649407\n",
      "\t 1713637675400 34 12508965841\n",
      "\t 236469580884108 34 1726146641207\n",
      "\t 32631088524326880 34 238195727525281\n",
      "35 142 5006 4830\n",
      "\t 710710 35 5006\n",
      "\t 100910880 35 715681\n",
      "\t 14328629350 35 101626526\n",
      "\t 2034564451920 35 14430255841\n",
      "\t 288893823538390 35 2048994707726\n",
      "\t 41020888377994560 35 290942818246081\n",
      "36 146 5293 5112\n",
      "\t 772632 36 5293\n",
      "\t 112793760 36 777889\n",
      "\t 16467111144 36 113571613\n",
      "\t 2404085428080 36 16580682721\n",
      "\t 350980005383352 36 2420666110765\n",
      "\t 51240676700536128 36 353400671494081\n",
      "37 150 5588 5402\n",
      "\t 838050 37 5588\n",
      "\t 125696400 37 843601\n",
      "\t 18853616474 37 126539964\n",
      "\t 2827916769224 37 18980156401\n",
      "\t 424168661761650 37 2846896925588\n",
      "\t 63622471347472800 37 427015558687201\n",
      "38 154 5891 5700\n",
      "\t 907060 38 5891\n",
      "\t 139675536 38 912913\n",
      "\t 21509119708 38 140588411\n",
      "\t 3312264753720 38 21649708081\n",
      "\t 510067262947396 38 3333914461763\n",
      "39 158 6202 6006\n",
      "\t 979758 39 6202\n",
      "\t 154789440 39 985921\n",
      "\t 24455745678 39 155775322\n",
      "\t 3863853021600 39 24611520961\n",
      "\t 610464321661038 39 3888464542522\n",
      "\t 96449498969416320 39 614352786203521\n",
      "40 162 6521 6320\n",
      "\t 1056240 40 6521\n",
      "\t 171097920 40 1062721\n",
      "\t 27716800400 40 172160601\n",
      "\t 4489950560480 40 27888960961\n",
      "\t 727344273990960 40 4517839521401\n",
      "\t 117825282435968640 40 731862113512321\n",
      "41 166 6848 6642\n",
      "\t 1136602 41 6848\n",
      "\t 188662320 41 1143409\n",
      "\t 31316801794 41 189805688\n",
      "\t 5198400428760 41 31506607441\n",
      "\t 862903154365642 41 5229907036160\n",
      "42 170 7183 6972\n",
      "\t 1220940 42 7183\n",
      "\t 207545520 42 1228081\n",
      "\t 35281510404 42 208773559\n",
      "\t 5997649216104 42 35490283921\n",
      "\t 1019565085220220 42 6033139499983\n",
      "43 174 7526 7310\n",
      "\t 1309350 43 7526\n",
      "\t 227811936 43 1316833\n",
      "\t 39637960118 43 229128726\n",
      "\t 6896777241200 43 39867088801\n",
      "\t 1199999602001286 43 6936644329958\n",
      "44 178 7877 7656\n",
      "\t 1401928 44 7877\n",
      "\t 249527520 44 1409761\n",
      "\t 44414488888 44 250937237\n",
      "\t 7905529486800 44 44665426081\n",
      "\t 1407139834153768 44 7950194912837\n",
      "45 182 8236 8010\n",
      "\t 1498770 45 8236\n",
      "\t 272759760 45 1506961\n",
      "\t 49640769450 45 274266676\n",
      "\t 9034347272040 45 49915036081\n",
      "\t 1644201562733730 45 9084262308076\n",
      "46 186 8603 8372\n",
      "\t 1599972 46 8603\n",
      "\t 297577680 46 1608529\n",
      "\t 55347840044 46 299186163\n",
      "\t 10294400662040 46 55647026161\n",
      "\t 1914703175290932 46 10350047688155\n",
      "47 190 8978 8742\n",
      "\t 1705630 47 8978\n",
      "\t 324051840 47 1714561\n",
      "\t 61568135134 47 325766354\n",
      "\t 11697621614784 47 61893901441\n",
      "\t 2222486538664990 47 11759515516178\n",
      "\t 422260744724724480 47 2234246054181121\n",
      "48 194 9361 9120\n",
      "\t 1815840 48 9361\n",
      "\t 352254336 48 1825153\n",
      "\t 68335516128 48 354079441\n",
      "\t 13256737865280 48 68689595521\n",
      "\t 2571738810338976 48 13325427460753\n",
      "\t 498904072467886848 48 2585064237799681\n",
      "49 198 9752 9506\n",
      "\t 1930698 49 9752\n",
      "\t 382258800 49 1940401\n",
      "\t 75685302098 49 384199152\n",
      "\t 14985307547000 49 76069501201\n",
      "\t 2967015208994298 49 15061377048152\n",
      "50 202 10151 9900\n",
      "\t 2050300 50 10151\n",
      "\t 414140400 50 2060401\n",
      "\t 83654300500 50 416200751\n",
      "\t 16897754550600 50 84070501201\n",
      "\t 3413262764910700 50 16981825051751\n",
      "51 206 10558 10302\n",
      "\t 2174742 51 10558\n",
      "\t 447975840 51 2185249\n",
      "\t 92280837894 51 450161038\n",
      "\t 19009404619920 51 92730998881\n",
      "\t 3915845070855222 51 19102135618750\n",
      "52 210 10973 10712\n",
      "\t 2304120 52 10973\n",
      "\t 483843360 52 2315041\n",
      "\t 101604790664 52 486158349\n",
      "\t 21336522185264 52 102090948961\n",
      "\t 4480568054103960 52 21438613134173\n",
      "53 214 11396 11130\n",
      "\t 2438530 53 11396\n",
      "\t 521822736 53 2449873\n",
      "\t 111667615738 53 524272556\n",
      "\t 23896347933960 53 112191888241\n",
      "\t 5113706790240466 53 24008539822148\n",
      "54 218 11827 11556\n",
      "\t 2578068 54 11827\n",
      "\t 561995280 54 2589841\n",
      "\t 122512381308 54 564585067\n",
      "\t 26707137118200 54 123076966321\n",
      "\t 5822033379374628 54 26830214084467\n",
      "55 222 12266 11990\n",
      "\t 2722830 55 12266\n",
      "\t 604443840 55 2735041\n",
      "\t 134183797550 55 607178826\n",
      "\t 29788198600160 55 134790976321\n",
      "\t 6612845905425870 55 29922989576426\n",
      "56 226 12713 12432\n",
      "\t 2872912 56 12713\n",
      "\t 649252800 56 2885569\n",
      "\t 146728247344 56 652138313\n",
      "\t 33159934634400 56 147380385601\n",
      "\t 7493998499114512 56 33307315019945\n",
      "57 230 13168 12882\n",
      "\t 3028410 57 13168\n",
      "\t 696508080 57 3041521\n",
      "\t 160193816994 57 699549544\n",
      "\t 36843881387544 57 160893366481\n",
      "\t 8473932525305130 57 37004774753968\n",
      "58 234 13631 13340\n",
      "\t 3189420 58 13631\n",
      "\t 746297136 58 3202993\n",
      "\t 174630326948 58 749500071\n",
      "\t 40862750195240 58 175379826961\n",
      "\t 9561708915345756 58 41038130022143\n",
      "59 238 14102 13806\n",
      "\t 3356038 59 14102\n",
      "\t 798708960 59 3370081\n",
      "\t 190089362518 59 802078982\n",
      "\t 45240469556400 59 190891441441\n",
      "\t 10767041665046758 59 45431360997782\n",
      "60 242 14581 14280\n",
      "\t 3528360 60 14581\n",
      "\t 853834080 60 3542881\n",
      "\t 206624304600 60 857376901\n",
      "\t 50002227864720 60 207481681441\n",
      "\t 12100332518943240 60 50209709546101\n",
      "61 246 15068 14762\n",
      "\t 3706482 61 15068\n",
      "\t 911764560 61 3721489\n",
      "\t 224290360394 61 915485988\n",
      "\t 55174516877480 61 225205846321\n",
      "\t 13572706861484802 61 55399722723740\n",
      "62 250 15563 15252\n",
      "\t 3890500 62 15563\n",
      "\t 972594000 62 3906001\n",
      "\t 243144594124 62 976499939\n",
      "\t 60785175921624 62 244121094001\n",
      "\t 15196050835796500 62 61029297015563\n",
      "63 254 16066 15750\n",
      "\t 4080510 63 16066\n",
      "\t 1036417536 63 4096513\n",
      "\t 263245957758 63 1040513986\n",
      "\t 66863436837120 63 264286471681\n",
      "\t 16983049710654846 63 67127723308738\n",
      "64 258 16577 16256\n",
      "\t 4276608 64 16577\n",
      "\t 1103331840 64 4293121\n",
      "\t 284655321728 64 1107624897\n",
      "\t 73439969657600 64 285762946561\n",
      "\t 18947227516322688 64 73725732604097\n",
      "65 262 17096 16770\n",
      "\t 4478890 65 17096\n",
      "\t 1173435120 65 4495921\n",
      "\t 307435505650 65 1177930976\n",
      "\t 80546929028280 65 308613436561\n",
      "\t 21102987969886810 65 80855542464776\n",
      "66 266 17623 17292\n",
      "\t 4687452 66 17623\n",
      "\t 1246827120 66 4705009\n",
      "\t 331651309044 66 1251532063\n",
      "\t 88218001361160 66 332902841041\n",
      "\t 23465656710742092 66 88550904202135\n",
      "67 270 18158 17822\n",
      "\t 4902390 67 18158\n",
      "\t 1323609120 67 4920481\n",
      "\t 357369542054 67 1328529534\n",
      "\t 96488452727504 67 358698071521\n",
      "\t 26051524866866070 67 96847150798958\n",
      "68 274 18701 18360\n",
      "\t 5123800 68 18701\n",
      "\t 1403883936 68 5142433\n",
      "\t 384659056168 68 1409026301\n",
      "\t 105395177487600 68 386068082401\n",
      "\t 28877893972527736 68 105781245569933\n",
      "69 278 19252 18906\n",
      "\t 5351778 69 19252\n",
      "\t 1487755920 69 5370961\n",
      "\t 413590774938 69 1493126812\n",
      "\t 114976747657800 69 415083901681\n",
      "\t 31963122258074418 69 115391831559412\n",
      "70 282 19811 19460\n",
      "\t 5586420 70 19811\n",
      "\t 1575330960 70 5606161\n",
      "\t 444237724700 70 1580937051\n",
      "\t 125273463014840 70 445818661681\n",
      "\t 35326672332440580 70 125719281676451\n",
      "71 286 20378 20022\n",
      "\t 5827822 71 20378\n",
      "\t 1666716480 71 5848129\n",
      "\t 476675065294 71 1672564538\n",
      "\t 136327401937440 71 478347629761\n",
      "\t 38989160279022382 71 136805749567130\n",
      "72 290 20953 20592\n",
      "\t 6076080 72 20953\n",
      "\t 1762021440 72 6096961\n",
      "\t 510980120784 72 1768118329\n",
      "\t 148182472985184 72 512748239041\n",
      "\t 42972406185561840 72 148695221224153\n",
      "73 294 21536 21170\n",
      "\t 6331290 73 21536\n",
      "\t 1861356336 73 6352753\n",
      "\t 547232410178 73 1867709016\n",
      "\t 160884467214680 73 549100119121\n",
      "\t 47299486128684426 73 161433567333728\n",
      "74 298 22127 21756\n",
      "\t 6593548 74 22127\n",
      "\t 1964833200 74 6615601\n",
      "\t 585513678148 74 1971448727\n",
      "\t 174481111233000 74 587485126801\n",
      "\t 51994785633733948 74 175068596359727\n",
      "75 302 22726 22350\n",
      "\t 6862950 75 22726\n",
      "\t 2072565600 75 6885601\n",
      "\t 625907925750 75 2079451126\n",
      "\t 189022120988400 75 627987376801\n",
      "\t 57084054630548550 75 189650108365126\n",
      "76 306 23333 22952\n",
      "\t 7139592 76 23333\n",
      "\t 2184668640 76 7162849\n",
      "\t 668501441144 76 2191831413\n",
      "\t 204559256298320 76 670693272481\n",
      "\t 62594463925821672 76 205229949570725\n",
      "77 310 23948 23562\n",
      "\t 7423570 77 23948\n",
      "\t 2301258960 77 7447441\n",
      "\t 713382830314 77 2308706324\n",
      "\t 221146376114664 77 715691536561\n",
      "\t 68554663212691810 77 221862067651148\n",
      "78 314 24571 24180\n",
      "\t 7714980 78 24571\n",
      "\t 2422454736 78 7739473\n",
      "\t 760643047788 78 2430194131\n",
      "\t 238839494526360 78 763073241841\n",
      "\t 74994840638204916 78 239602567768123\n",
      "79 318 25202 24806\n",
      "\t 8013918 79 25202\n",
      "\t 2548375680 79 8039041\n",
      "\t 810375427358 79 2556414642\n",
      "\t 257696837499200 79 812931841921\n",
      "\t 81946783949293278 79 258509769341042\n",
      "80 322 25841 25440\n",
      "\t 8320480 80 25841\n",
      "\t 2679143040 80 8346241\n",
      "\t 862675712800 80 2687489201\n",
      "\t 277778900352960 80 865363201921\n",
      "\t 89443943237914720 80 278644263554801\n",
      "81 326 26488 26082\n",
      "\t 8634762 81 26488\n",
      "\t 2814879600 81 8661169\n",
      "\t 917642088594 81 2823540688\n",
      "\t 299148505975800 81 920465629201\n",
      "\t 97521495305995962 81 300068971604920\n",
      "82 330 27143 26732\n",
      "\t 8956860 82 27143\n",
      "\t 2955709680 82 8983921\n",
      "\t 975375210644 82 2964693519\n",
      "\t 321870863775944 82 978339904081\n",
      "\t 106216409670823980 82 322849203679943\n",
      "83 334 27806 27390\n",
      "\t 9286870 83 27806\n",
      "\t 3101759136 83 9314593\n",
      "\t 1035978236998 83 3111073646\n",
      "\t 346013629370640 83 1039089310561\n",
      "\t 115567516231529206 83 347052718681118\n",
      "84 338 28477 28056\n",
      "\t 9624888 84 28477\n",
      "\t 3253155360 84 9653281\n",
      "\t 1099556858568 84 3262808557\n",
      "\t 371646965012400 84 1102819667041\n",
      "\t 125615574617304408 84 372749784679357\n",
      "85 342 29156 28730\n",
      "\t 9971010 85 29156\n",
      "\t 3410027280 85 10000081\n",
      "\t 1166219329850 85 3420027276\n",
      "\t 398843600752520 85 1169639357041\n",
      "\t 136403345238003090 85 400013240109476\n",
      "86 346 29843 29412\n",
      "\t 10325332 86 29843\n",
      "\t 3572505360 86 10355089\n",
      "\t 1236076499644 86 3582860363\n",
      "\t 427678896341880 86 1239659359921\n",
      "87 350 30538 30102\n",
      "\t 10687950 87 30538\n",
      "\t 3740721600 87 10718401\n",
      "\t 1309241841774 87 3751439914\n",
      "\t 458230903869024 87 1312993281601\n",
      "\t 160379507112286350 87 459543897150538\n",
      "88 354 31241 30800\n",
      "\t 11058960 88 31241\n",
      "\t 3914809536 88 11090113\n",
      "\t 1385831485808 88 3925899561\n",
      "\t 490580431135520 88 1389757385281\n",
      "\t 173664086790457296 88 491970188520713\n",
      "89 358 31952 31506\n",
      "\t 11438458 89 31952\n",
      "\t 4094904240 89 11470321\n",
      "\t 1465964247778 89 4106374472\n",
      "\t 524811105768600 89 1470070622161\n",
      "90 362 32671 32220\n",
      "\t 11826540 90 32671\n",
      "\t 4281142320 90 11859121\n",
      "\t 1549761660900 90 4293001351\n",
      "\t 561009440071080 90 1554054662161\n",
      "91 366 33398 32942\n",
      "\t 12223302 91 33398\n",
      "\t 4473661920 91 12256609\n",
      "\t 1637348006294 91 4485918438\n",
      "\t 599264896608560 91 1641833924641\n",
      "\t 219329314810693542 91 600906730533110\n",
      "92 370 34133 33672\n",
      "\t 12628840 92 34133\n",
      "\t 4672602720 92 12662881\n",
      "\t 1728850343704 92 4685265509\n",
      "\t 639669954533904 92 1733535609121\n",
      "\t 236676154327166920 92 641403490142933\n",
      "93 374 34876 34410\n",
      "\t 13043250 93 34876\n",
      "\t 4878105936 93 13078033\n",
      "\t 1824398542218 93 4891183876\n",
      "\t 682320176649000 93 1829289726001\n",
      "94 378 35627 35156\n",
      "\t 13466628 94 35627\n",
      "\t 5090314320 94 13502161\n",
      "\t 1924125310988 94 5103816387\n",
      "\t 727314277203800 94 1929229127281\n",
      "95 382 36386 35910\n",
      "\t 13899070 95 36386\n",
      "\t 5309372160 95 13935361\n",
      "\t 2028166229950 95 5323307426\n",
      "\t 774754190432640 95 2033489537281\n",
      "\t 295954072579002430 95 776787679969826\n",
      "96 386 37153 36672\n",
      "\t 14340672 96 37153\n",
      "\t 5535425280 96 14377729\n",
      "\t 2136659780544 96 5549802913\n",
      "\t 824745139827840 96 2142209583361\n",
      "\t 318349487313728832 96 826887349411105\n",
      "97 390 37928 37442\n",
      "\t 14791530 97 37928\n",
      "\t 5768621040 97 14829361\n",
      "\t 2249747376434 97 5783450304\n",
      "\t 877395708150584 97 2255530826641\n",
      "98 394 38711 38220\n",
      "\t 15251740 98 38711\n",
      "\t 6009108336 98 15290353\n",
      "\t 2367573394228 98 6024398591\n",
      "\t 932817908179080 98 2373597792721\n",
      "99 398 39502 39006\n",
      "\t 15721398 99 39502\n",
      "\t 6257037600 99 15760801\n",
      "\t 2490285204198 99 6272798302\n",
      "\t 991127254194000 99 2496558002401\n",
      "100 402 40301 39800\n",
      "\t 16200600 100 40301\n",
      "\t 6512560800 100 16240801\n",
      "\t 2618033201000 100 6528801501\n",
      "\t 1052442834201200 100 2624562002401\n"
     ]
    }
   ],
   "source": [
    "m = 0\n",
    "inc = 7\n",
    "snum = 1\n",
    "ts = set()\n",
    "done = False\n",
    "for _ in range(100):\n",
    "    snum += inc\n",
    "    inc += 8\n",
    "    m += 1\n",
    "\n",
    "    mul = m * 4 + 2\n",
    "    onum = (m * 2 - 1) * (m * 2)\n",
    "    print(m, mul, snum, onum)\n",
    "\n",
    "    cn = snum\n",
    "    la = 1\n",
    "    for q in range(50):\n",
    "        k = cn\n",
    "        # print(m, k)\n",
    "        a, b, c = 1, - 2*m**2 - 2*k*m, -k**2*m - k*m**2 + k*m + m**2\n",
    "        inner = b**2 - 4*a*c\n",
    "        sq = get_square(inner)\n",
    "        hn = -b * inner**0.5\n",
    "        # if hn**0.5 > N:\n",
    "        #     break\n",
    "        \n",
    "        if sq != -1:\n",
    "            n = -b + sq\n",
    "            print('\\t', n, m, k)\n",
    "            if n % 2 == 0:\n",
    "                n //= 2\n",
    "                if n <= N:\n",
    "                    # print('\\t', n, m, k)\n",
    "                    ts.add((n, m, k))\n",
    "        nxt = cn * mul - la + onum\n",
    "        la = cn\n",
    "        cn = nxt"
   ]
  },
  {
   "cell_type": "code",
   "execution_count": 1468,
   "metadata": {},
   "outputs": [
    {
     "data": {
      "text/plain": [
       "26"
      ]
     },
     "execution_count": 1468,
     "metadata": {},
     "output_type": "execute_result"
    }
   ],
   "source": [
    "s = {(820, 8, 42), (4760, 8, 281), (11772, 24, 219), (27724, 8, 1674), (28441, 49, 240), (65208, 48, 628), (116424, 24, 2377), (161568, 8, 9793), (165648, 49, 1633), (231880, 80, 1365), (636300, 120, 2526), (907920, 48, 9361), (941668, 8, 57114), (965349, 49, 9752), (969528, 288, 1394), (1152372, 24, 23739), (1163162, 242, 2159), (1472100, 168, 4207), (4160240, 80, 25841), (5488424, 8, 332921), (5626348, 49, 57073), (5650128, 288, 9513), (11407200, 24, 235201), (11513040, 242, 23521), (12645384, 48, 130996), (13968360, 120, 57961)}\n",
    "len(s)"
   ]
  },
  {
   "cell_type": "code",
   "execution_count": 1469,
   "metadata": {},
   "outputs": [
    {
     "data": {
      "text/plain": [
       "[(820, 8, 42),\n",
       " (4760, 8, 281),\n",
       " (27724, 8, 1674),\n",
       " (161568, 8, 9793),\n",
       " (941668, 8, 57114)]"
      ]
     },
     "execution_count": 1469,
     "metadata": {},
     "output_type": "execute_result"
    }
   ],
   "source": [
    "sorted(g[8])"
   ]
  },
  {
   "cell_type": "code",
   "execution_count": 1329,
   "metadata": {},
   "outputs": [
    {
     "data": {
      "text/plain": [
       "(33.80975609756098, 33.96580580002885)"
      ]
     },
     "execution_count": 1329,
     "metadata": {},
     "output_type": "execute_result"
    }
   ],
   "source": [
    "27724 / 820, 941668 / 27724"
   ]
  },
  {
   "cell_type": "code",
   "execution_count": 1332,
   "metadata": {},
   "outputs": [
    {
     "data": {
      "text/plain": [
       "(5.824267782426778, 49)"
      ]
     },
     "execution_count": 1332,
     "metadata": {},
     "output_type": "execute_result"
    }
   ],
   "source": [
    "165648/28441, 49"
   ]
  },
  {
   "cell_type": "code",
   "execution_count": 1513,
   "metadata": {},
   "outputs": [
    {
     "name": "stdout",
     "output_type": "stream",
     "text": [
      "-449.0 -13650.0\n"
     ]
    }
   ],
   "source": [
    "k = 36\n",
    "\n",
    "c = 6931.0 - 205 * k\n",
    "print(c, 235417.0 - (6931.0 * k + c))"
   ]
  },
  {
   "cell_type": "code",
   "execution_count": null,
   "metadata": {},
   "outputs": [],
   "source": [
    "8: 39, 237, 6632072"
   ]
  },
  {
   "cell_type": "code",
   "execution_count": 1530,
   "metadata": {},
   "outputs": [],
   "source": [
    "l = (205, 6931, 235417, 1372106)"
   ]
  },
  {
   "cell_type": "code",
   "execution_count": 1527,
   "metadata": {},
   "outputs": [],
   "source": [
    "l = 981.0, 96031.0, 950600.0"
   ]
  },
  {
   "cell_type": "code",
   "execution_count": 1531,
   "metadata": {},
   "outputs": [
    {
     "name": "stdout",
     "output_type": "stream",
     "text": [
      "33.80975609756098\n",
      "33.96580580002885\n",
      "5.828406614645502\n"
     ]
    }
   ],
   "source": [
    "for i in range(len(l) - 1):\n",
    "    print(l[i + 1] / l[i])"
   ]
  },
  {
   "cell_type": "code",
   "execution_count": 1536,
   "metadata": {},
   "outputs": [
    {
     "data": {
      "text/plain": [
       "0"
      ]
     },
     "execution_count": 1536,
     "metadata": {},
     "output_type": "execute_result"
    }
   ],
   "source": [
    "c[120]"
   ]
  },
  {
   "cell_type": "code",
   "execution_count": 1505,
   "metadata": {},
   "outputs": [
    {
     "name": "stdout",
     "output_type": "stream",
     "text": [
      "BAD (820, 8, 42) 205.0\n",
      "BAD (27724, 8, 1674) 6931.0\n",
      "BAD (941668, 8, 57114) 235417.0\n",
      "BAD (5488424, 8, 332921) 1372106.0\n",
      "BAD (11772, 24, 219) 981.0\n",
      "BAD (1152372, 24, 23739) 96031.0\n",
      "BAD (11407200, 24, 235201) 950600.0\n",
      "BAD (65208, 48, 628) 5434.0\n",
      "BAD (12645384, 48, 130996) 1053782.0\n",
      "BAD (28441, 49, 240) 4063.0\n",
      "BAD (165648, 49, 1633) 23664.0\n",
      "BAD (5626348, 49, 57073) 803764.0\n",
      "BAD (231880, 80, 1365) 11594.0\n",
      "BAD (4160240, 80, 25841) 208012.0\n",
      "BAD (636300, 120, 2526) 10605.0\n",
      "BAD (13968360, 120, 57961) 232806.0\n",
      "BAD (1472100, 168, 4207) 17525.0\n",
      "BAD (1163162, 242, 2159) 52870.99999999999\n",
      "BAD (11513040, 242, 23521) 523320.0\n",
      "BAD (969528, 288, 1394) 40397.0\n",
      "BAD (5650128, 288, 9513) 235422.0\n"
     ]
    }
   ],
   "source": [
    "for e in sorted(s, key=lambda x: (x[1] - 1 / x[2])):\n",
    "    if e not in ts:\n",
    "        # if e[1] % 8:\n",
    "        print(\"BAD\", e, e[0] / e[1] * lsq(e[1]))"
   ]
  },
  {
   "cell_type": "code",
   "execution_count": 1485,
   "metadata": {},
   "outputs": [
    {
     "data": {
      "text/plain": [
       "(4160240, 74665360)"
      ]
     },
     "execution_count": 1485,
     "metadata": {},
     "output_type": "execute_result"
    }
   ],
   "source": [
    "4160240, 231880 * (80 * 4 + 2)"
   ]
  },
  {
   "cell_type": "code",
   "execution_count": 1368,
   "metadata": {},
   "outputs": [
    {
     "data": {
      "text/plain": [
       "1358.5"
      ]
     },
     "execution_count": 1368,
     "metadata": {},
     "output_type": "execute_result"
    }
   ],
   "source": [
    "65208 / 48"
   ]
  },
  {
   "cell_type": "code",
   "execution_count": 1370,
   "metadata": {},
   "outputs": [
    {
     "data": {
      "text/plain": [
       "2898.5"
      ]
     },
     "execution_count": 1370,
     "metadata": {},
     "output_type": "execute_result"
    }
   ],
   "source": [
    "231880 / 80"
   ]
  },
  {
   "cell_type": "code",
   "execution_count": 1381,
   "metadata": {},
   "outputs": [
    {
     "data": {
      "text/plain": [
       "[2, 2, 2, 2, 2, 3, 3]"
      ]
     },
     "execution_count": 1381,
     "metadata": {},
     "output_type": "execute_result"
    }
   ],
   "source": [
    "pfs(288)"
   ]
  },
  {
   "cell_type": "code",
   "execution_count": 1392,
   "metadata": {},
   "outputs": [
    {
     "data": {
      "text/plain": [
       "Fraction(5, 12)"
      ]
     },
     "execution_count": 1392,
     "metadata": {},
     "output_type": "execute_result"
    }
   ],
   "source": [
    "from fractions import Fraction\n",
    "Fraction(5, 12)"
   ]
  },
  {
   "cell_type": "code",
   "execution_count": 1394,
   "metadata": {},
   "outputs": [],
   "source": [
    "def lsq(k):\n",
    "    for i in reversed(range(1, 1000)):\n",
    "        if k % (i * i) == 0:\n",
    "            return i"
   ]
  },
  {
   "cell_type": "code",
   "execution_count": 1404,
   "metadata": {},
   "outputs": [
    {
     "data": {
      "text/plain": [
       "[5, 41]"
      ]
     },
     "execution_count": 1404,
     "metadata": {},
     "output_type": "execute_result"
    }
   ],
   "source": [
    "pfs(205)"
   ]
  },
  {
   "cell_type": "code",
   "execution_count": 1409,
   "metadata": {},
   "outputs": [
    {
     "data": {
      "text/plain": [
       "[2, 2, 29, 239]"
      ]
     },
     "execution_count": 1409,
     "metadata": {},
     "output_type": "execute_result"
    }
   ],
   "source": [
    "pfs(27724)"
   ]
  },
  {
   "cell_type": "code",
   "execution_count": 1428,
   "metadata": {},
   "outputs": [
    {
     "data": {
      "text/plain": [
       "(96, 32)"
      ]
     },
     "execution_count": 1428,
     "metadata": {},
     "output_type": "execute_result"
    }
   ],
   "source": [
    "24 * 4, 8 * 4"
   ]
  },
  {
   "cell_type": "code",
   "execution_count": 1427,
   "metadata": {},
   "outputs": [
    {
     "data": {
      "text/plain": [
       "96031.0"
      ]
     },
     "execution_count": 1427,
     "metadata": {},
     "output_type": "execute_result"
    }
   ],
   "source": [
    "981.0 * (24 * 4 + 2) - 107 # 24"
   ]
  },
  {
   "cell_type": "code",
   "execution_count": null,
   "metadata": {},
   "outputs": [
    {
     "data": {
      "text/plain": [
       "6931.0"
      ]
     },
     "execution_count": 1421,
     "metadata": {},
     "output_type": "execute_result"
    }
   ],
   "source": [
    "205.0 * (8 * 4 + 2) - 39 # 8"
   ]
  },
  {
   "cell_type": "code",
   "execution_count": 1435,
   "metadata": {},
   "outputs": [
    {
     "data": {
      "text/plain": [
       "714"
      ]
     },
     "execution_count": 1435,
     "metadata": {},
     "output_type": "execute_result"
    }
   ],
   "source": [
    "4063 * (6) - 23664"
   ]
  },
  {
   "cell_type": "code",
   "execution_count": 1438,
   "metadata": {},
   "outputs": [
    {
     "data": {
      "text/plain": [
       "(5.827712981744422, 5.824267782426778)"
      ]
     },
     "execution_count": 1438,
     "metadata": {},
     "output_type": "execute_result"
    }
   ],
   "source": [
    "965349 / 165648, 165648 / 28441"
   ]
  },
  {
   "cell_type": "code",
   "execution_count": 1436,
   "metadata": {},
   "outputs": [
    {
     "data": {
      "text/plain": [
       "[(28441, 49, 240), (165648, 49, 1633), (965349, 49, 9752)]"
      ]
     },
     "execution_count": 1436,
     "metadata": {},
     "output_type": "execute_result"
    }
   ],
   "source": [
    "g[49]"
   ]
  },
  {
   "cell_type": "code",
   "execution_count": 1446,
   "metadata": {},
   "outputs": [
    {
     "data": {
      "text/plain": [
       "([5, 41], [3, 3, 109])"
      ]
     },
     "execution_count": 1446,
     "metadata": {},
     "output_type": "execute_result"
    }
   ],
   "source": [
    "pfs(205), pfs(981)"
   ]
  },
  {
   "cell_type": "code",
   "execution_count": 1458,
   "metadata": {},
   "outputs": [
    {
     "data": {
      "text/plain": [
       "180152"
      ]
     },
     "execution_count": 1458,
     "metadata": {},
     "output_type": "execute_result"
    }
   ],
   "source": [
    "28441 * 6 + 9506"
   ]
  },
  {
   "cell_type": "code",
   "execution_count": 1455,
   "metadata": {},
   "outputs": [
    {
     "data": {
      "text/plain": [
       "[(28441, 49, 240), (165648, 49, 1633), (965349, 49, 9752)]"
      ]
     },
     "execution_count": 1455,
     "metadata": {},
     "output_type": "execute_result"
    }
   ],
   "source": [
    "g[49]"
   ]
  },
  {
   "cell_type": "code",
   "execution_count": 1463,
   "metadata": {},
   "outputs": [
    {
     "data": {
      "text/plain": [
       "-1284"
      ]
     },
     "execution_count": 1463,
     "metadata": {},
     "output_type": "execute_result"
    }
   ],
   "source": [
    "1152372 - 11772 * (24 * 4 + 2)"
   ]
  },
  {
   "cell_type": "code",
   "execution_count": 1464,
   "metadata": {},
   "outputs": [
    {
     "data": {
      "text/plain": [
       "[2, 2, 3, 107]"
      ]
     },
     "execution_count": 1464,
     "metadata": {},
     "output_type": "execute_result"
    }
   ],
   "source": [
    "pfs(1284)"
   ]
  },
  {
   "cell_type": "code",
   "execution_count": 1470,
   "metadata": {},
   "outputs": [
    {
     "data": {
      "text/plain": [
       "{8, 24, 48, 49, 80, 120, 168, 242, 288}"
      ]
     },
     "execution_count": 1470,
     "metadata": {},
     "output_type": "execute_result"
    }
   ],
   "source": [
    "ks = set()\n",
    "for e in sorted(s, key=lambda x: (x[1] - 1 / x[2])):\n",
    "    if e not in ts:\n",
    "        ks.add(e[1])\n",
    "        # print(\"BAD\", e, e[0]* lsq(e[1]) / e[1])\n",
    "ks"
   ]
  },
  {
   "cell_type": "code",
   "execution_count": null,
   "metadata": {},
   "outputs": [
    {
     "data": {
      "text/plain": [
       "40397.0"
      ]
     },
     "execution_count": 1397,
     "metadata": {},
     "output_type": "execute_result"
    }
   ],
   "source": [
    "3366.4166666666665 * 12"
   ]
  },
  {
   "cell_type": "code",
   "execution_count": 1361,
   "metadata": {},
   "outputs": [
    {
     "data": {
      "text/plain": [
       "1600"
      ]
     },
     "execution_count": 1361,
     "metadata": {},
     "output_type": "execute_result"
    }
   ],
   "source": [
    "80 * 20"
   ]
  },
  {
   "cell_type": "code",
   "execution_count": null,
   "metadata": {},
   "outputs": [],
   "source": [
    "7, 11"
   ]
  },
  {
   "cell_type": "code",
   "execution_count": 985,
   "metadata": {},
   "outputs": [
    {
     "data": {
      "text/plain": [
       "288"
      ]
     },
     "execution_count": 985,
     "metadata": {},
     "output_type": "execute_result"
    }
   ],
   "source": [
    "49 * m - 49 - m + 1"
   ]
  },
  {
   "cell_type": "code",
   "execution_count": null,
   "metadata": {},
   "outputs": [
    {
     "data": {
      "text/plain": [
       "49"
      ]
     },
     "execution_count": 981,
     "metadata": {},
     "output_type": "execute_result"
    }
   ],
   "source": [
    "8 * 7 - m"
   ]
  },
  {
   "cell_type": "code",
   "execution_count": 975,
   "metadata": {},
   "outputs": [
    {
     "data": {
      "text/plain": [
       "23761"
      ]
     },
     "execution_count": 975,
     "metadata": {},
     "output_type": "execute_result"
    }
   ],
   "source": [
    "2399 * m - 2399 - 241 + 23 - m"
   ]
  },
  {
   "cell_type": "code",
   "execution_count": 970,
   "metadata": {},
   "outputs": [
    {
     "data": {
      "text/plain": [
       "2399"
      ]
     },
     "execution_count": 970,
     "metadata": {},
     "output_type": "execute_result"
    }
   ],
   "source": [
    "241 * m - 241 - 23 + m + 1"
   ]
  },
  {
   "cell_type": "code",
   "execution_count": 964,
   "metadata": {},
   "outputs": [
    {
     "data": {
      "text/plain": [
       "241"
      ]
     },
     "execution_count": 964,
     "metadata": {},
     "output_type": "execute_result"
    }
   ],
   "source": [
    "23 * m - 23 + m"
   ]
  },
  {
   "cell_type": "code",
   "execution_count": 961,
   "metadata": {},
   "outputs": [
    {
     "data": {
      "text/plain": [
       "23"
      ]
     },
     "execution_count": 961,
     "metadata": {},
     "output_type": "execute_result"
    }
   ],
   "source": [
    "2 * m + 1"
   ]
  },
  {
   "cell_type": "code",
   "execution_count": 959,
   "metadata": {},
   "outputs": [
    {
     "data": {
      "text/plain": [
       "23761"
      ]
     },
     "execution_count": 959,
     "metadata": {},
     "output_type": "execute_result"
    }
   ],
   "source": [
    "2399 * (m - 1) - (241 - 1) + 23 - m - 1"
   ]
  },
  {
   "cell_type": "code",
   "execution_count": 947,
   "metadata": {},
   "outputs": [
    {
     "data": {
      "text/plain": [
       "2399"
      ]
     },
     "execution_count": 947,
     "metadata": {},
     "output_type": "execute_result"
    }
   ],
   "source": [
    "241 * (m - 1) - m"
   ]
  },
  {
   "cell_type": "code",
   "execution_count": 945,
   "metadata": {},
   "outputs": [
    {
     "data": {
      "text/plain": [
       "241"
      ]
     },
     "execution_count": 945,
     "metadata": {},
     "output_type": "execute_result"
    }
   ],
   "source": [
    "23 * m - m - 1"
   ]
  },
  {
   "cell_type": "code",
   "execution_count": 941,
   "metadata": {},
   "outputs": [],
   "source": [
    "m = 11"
   ]
  },
  {
   "cell_type": "code",
   "execution_count": null,
   "metadata": {},
   "outputs": [
    {
     "data": {
      "text/plain": [
       "628"
      ]
     },
     "execution_count": 938,
     "metadata": {},
     "output_type": "execute_result"
    }
   ],
   "source": []
  },
  {
   "cell_type": "code",
   "execution_count": 913,
   "metadata": {},
   "outputs": [
    {
     "data": {
      "text/plain": [
       "46"
      ]
     },
     "execution_count": 913,
     "metadata": {},
     "output_type": "execute_result"
    }
   ],
   "source": [
    "3 * m + 1"
   ]
  },
  {
   "cell_type": "code",
   "execution_count": 921,
   "metadata": {},
   "outputs": [
    {
     "data": {
      "text/plain": [
       "673"
      ]
     },
     "execution_count": 921,
     "metadata": {},
     "output_type": "execute_result"
    }
   ],
   "source": [
    "3 * m * m - 2"
   ]
  },
  {
   "cell_type": "code",
   "execution_count": null,
   "metadata": {},
   "outputs": [],
   "source": []
  },
  {
   "cell_type": "code",
   "execution_count": 928,
   "metadata": {},
   "outputs": [
    {
     "data": {
      "text/plain": [
       "9406"
      ]
     },
     "execution_count": 928,
     "metadata": {},
     "output_type": "execute_result"
    }
   ],
   "source": [
    "673 * (m - 1) - m - 1"
   ]
  },
  {
   "cell_type": "code",
   "execution_count": 924,
   "metadata": {},
   "outputs": [
    {
     "data": {
      "text/plain": [
       "9406"
      ]
     },
     "execution_count": 924,
     "metadata": {},
     "output_type": "execute_result"
    }
   ],
   "source": [
    "3 * m * m * m - 3 * m * m - 3 * m + 1"
   ]
  },
  {
   "cell_type": "code",
   "execution_count": null,
   "metadata": {},
   "outputs": [
    {
     "data": {
      "text/plain": [
       "9406"
      ]
     },
     "execution_count": 916,
     "metadata": {},
     "output_type": "execute_result"
    }
   ],
   "source": [
    "3 * m * m * m - 3 * m * m - 3 * m + 1\n",
    "(3 * m * m - 2) * (m - 1) - m - 1"
   ]
  },
  {
   "cell_type": "code",
   "execution_count": 915,
   "metadata": {},
   "outputs": [
    {
     "data": {
      "text/plain": [
       "(46, 673, 9406)"
      ]
     },
     "execution_count": 915,
     "metadata": {},
     "output_type": "execute_result"
    }
   ],
   "source": [
    "3 * m + 1, (3 * m + 1) * m - (m + 2), 673 * (m - 1) - m - 1"
   ]
  },
  {
   "cell_type": "code",
   "execution_count": 878,
   "metadata": {},
   "outputs": [],
   "source": [
    "m = 3 * 4 + 3"
   ]
  },
  {
   "cell_type": "code",
   "execution_count": null,
   "metadata": {},
   "outputs": [],
   "source": []
  },
  {
   "cell_type": "code",
   "execution_count": null,
   "metadata": {},
   "outputs": [
    {
     "data": {
      "text/plain": [
       "77"
      ]
     },
     "execution_count": 873,
     "metadata": {},
     "output_type": "execute_result"
    }
   ],
   "source": [
    "4 * 19 + 1"
   ]
  },
  {
   "cell_type": "code",
   "execution_count": 865,
   "metadata": {},
   "outputs": [
    {
     "data": {
      "text/plain": [
       "25917"
      ]
     },
     "execution_count": 865,
     "metadata": {},
     "output_type": "execute_result"
    }
   ],
   "source": [
    "1441 * 19 - 1441 - 19 - 2"
   ]
  },
  {
   "cell_type": "code",
   "execution_count": null,
   "metadata": {},
   "outputs": [
    {
     "data": {
      "text/plain": [
       "1442"
      ]
     },
     "execution_count": 867,
     "metadata": {},
     "output_type": "execute_result"
    }
   ],
   "source": [
    "77 * 19 - "
   ]
  },
  {
   "cell_type": "code",
   "execution_count": 839,
   "metadata": {},
   "outputs": [
    {
     "data": {
      "text/plain": [
       "13728"
      ]
     },
     "execution_count": 839,
     "metadata": {},
     "output_type": "execute_result"
    }
   ],
   "source": [
    "352 * (9 * 4 + 3)"
   ]
  },
  {
   "cell_type": "code",
   "execution_count": null,
   "metadata": {},
   "outputs": [
    {
     "data": {
      "text/plain": [
       "-2"
      ]
     },
     "execution_count": 785,
     "metadata": {},
     "output_type": "execute_result"
    }
   ],
   "source": [
    "9800 * 7 - 57121 - 9800 - 1681 = -2"
   ]
  },
  {
   "cell_type": "code",
   "execution_count": null,
   "metadata": {},
   "outputs": [
    {
     "data": {
      "text/plain": [
       "1673"
      ]
     },
     "metadata": {},
     "output_type": "display_data"
    }
   ],
   "source": [
    "(281 - 42) * (8 - 1)"
   ]
  },
  {
   "cell_type": "code",
   "execution_count": null,
   "metadata": {},
   "outputs": [
    {
     "data": {
      "text/plain": [
       "5712"
      ]
     },
     "metadata": {},
     "output_type": "display_data"
    }
   ],
   "source": [
    "(120 - 1) * (49 - 1)"
   ]
  },
  {
   "cell_type": "code",
   "execution_count": null,
   "metadata": {},
   "outputs": [],
   "source": [
    "(4060, 1, 1681),\n",
    "  (697, 1, 288),\n",
    "  (21, 1, 8),\n",
    "  (120, 1, 49),\n",
    "  (23661, 1, 9800)],"
   ]
  },
  {
   "cell_type": "code",
   "execution_count": null,
   "metadata": {},
   "outputs": [],
   "source": [
    "2 -> 11\n",
    "1 -> 6"
   ]
  },
  {
   "cell_type": "code",
   "execution_count": null,
   "metadata": {},
   "outputs": [
    {
     "name": "stdout",
     "output_type": "stream",
     "text": [
      "4368 3 673\n",
      "60819 3 9406\n",
      "315 3 46\n"
     ]
    }
   ],
   "source": [
    "for n, m, k in g[3]:\n",
    "    print(n, m, k)"
   ]
  },
  {
   "cell_type": "code",
   "execution_count": null,
   "metadata": {},
   "outputs": [
    {
     "data": {
      "text/plain": [
       "1681"
      ]
     },
     "metadata": {},
     "output_type": "display_data"
    }
   ],
   "source": [
    "287 * 6 - 48 + 7"
   ]
  },
  {
   "cell_type": "code",
   "execution_count": null,
   "metadata": {},
   "outputs": [
    {
     "data": {
      "text/plain": [
       "1679"
      ]
     },
     "metadata": {},
     "output_type": "display_data"
    }
   ],
   "source": [
    "288 * 6 - 49"
   ]
  },
  {
   "cell_type": "code",
   "execution_count": null,
   "metadata": {},
   "outputs": [
    {
     "data": {
      "text/plain": [
       "9800"
      ]
     },
     "metadata": {},
     "output_type": "display_data"
    }
   ],
   "source": [
    "(1681) * 6 - 286"
   ]
  },
  {
   "cell_type": "code",
   "execution_count": null,
   "metadata": {},
   "outputs": [
    {
     "data": {
      "text/plain": [
       "[(4060, 1, 1681), (697, 1, 288), (21, 1, 8), (120, 1, 49), (23661, 1, 9800)]"
      ]
     },
     "metadata": {},
     "output_type": "display_data"
    }
   ],
   "source": [
    "g[1]"
   ]
  },
  {
   "cell_type": "code",
   "execution_count": null,
   "metadata": {},
   "outputs": [
    {
     "data": {
      "text/plain": [
       "(644, 9422)"
      ]
     },
     "metadata": {},
     "output_type": "display_data"
    }
   ],
   "source": [
    "46 * 14, 673 * 14"
   ]
  },
  {
   "cell_type": "code",
   "execution_count": null,
   "metadata": {},
   "outputs": [
    {
     "data": {
      "text/plain": [
       "241"
      ]
     },
     "metadata": {},
     "output_type": "display_data"
    }
   ],
   "source": [
    "23 * 11 - 11 - 1"
   ]
  },
  {
   "cell_type": "code",
   "execution_count": null,
   "metadata": {},
   "outputs": [
    {
     "data": {
      "text/plain": [
       "2399"
      ]
     },
     "metadata": {},
     "output_type": "display_data"
    }
   ],
   "source": [
    "241 * 11 - 241 - 11"
   ]
  },
  {
   "cell_type": "code",
   "execution_count": null,
   "metadata": {},
   "outputs": [
    {
     "data": {
      "text/plain": [
       "[(4060, 1, 1681), (697, 1, 288), (21, 1, 8), (120, 1, 49), (23661, 1, 9800)]"
      ]
     },
     "metadata": {},
     "output_type": "display_data"
    }
   ],
   "source": [
    "# g[1] --> Pattern is nextK = lastK * 6 - (lastlastK - 2) [APPROX]"
   ]
  },
  {
   "cell_type": "code",
   "execution_count": null,
   "metadata": {},
   "outputs": [
    {
     "data": {
      "text/plain": [
       "[1, 41, 1681]"
      ]
     },
     "metadata": {},
     "output_type": "display_data"
    }
   ],
   "source": [
    "divisors(1681)"
   ]
  },
  {
   "cell_type": "code",
   "execution_count": null,
   "metadata": {},
   "outputs": [
    {
     "data": {
      "text/plain": [
       "9800"
      ]
     },
     "metadata": {},
     "output_type": "display_data"
    }
   ],
   "source": [
    "1681 * 6 - 286"
   ]
  },
  {
   "cell_type": "code",
   "execution_count": null,
   "metadata": {},
   "outputs": [
    {
     "data": {
      "text/plain": [
       "1681"
      ]
     },
     "metadata": {},
     "output_type": "display_data"
    }
   ],
   "source": [
    "288 * 6 - 47"
   ]
  },
  {
   "cell_type": "code",
   "execution_count": null,
   "metadata": {},
   "outputs": [
    {
     "data": {
      "text/plain": [
       "288"
      ]
     },
     "metadata": {},
     "output_type": "display_data"
    }
   ],
   "source": [
    "48 * 6"
   ]
  },
  {
   "cell_type": "code",
   "execution_count": null,
   "metadata": {},
   "outputs": [
    {
     "data": {
      "text/plain": [
       "(118, 11)"
      ]
     },
     "metadata": {},
     "output_type": "display_data"
    }
   ],
   "source": [
    "1080 * 10 - 10682, 241 * 10 - 2399"
   ]
  },
  {
   "cell_type": "code",
   "execution_count": null,
   "metadata": {},
   "outputs": [
    {
     "data": {
      "text/plain": [
       "{(21, 1, 8),\n",
       " (110, 2, 23),\n",
       " (120, 1, 49),\n",
       " (315, 3, 46),\n",
       " (684, 4, 77),\n",
       " (697, 1, 288),\n",
       " (820, 8, 42),\n",
       " (1080, 2, 241),\n",
       " (1265, 5, 116),\n",
       " (2106, 6, 163),\n",
       " (3255, 7, 218),\n",
       " (4060, 1, 1681),\n",
       " (4368, 3, 673),\n",
       " (4760, 8, 281),\n",
       " (6669, 9, 352),\n",
       " (9030, 10, 431),\n",
       " (10682, 2, 2399),\n",
       " (11772, 24, 219),\n",
       " (11891, 11, 518),\n",
       " (12240, 4, 1441),\n",
       " (15300, 12, 613),\n",
       " (19305, 13, 716),\n",
       " (23661, 1, 9800),\n",
       " (23954, 14, 827),\n",
       " (27720, 5, 2641),\n",
       " (27724, 8, 1674),\n",
       " (28441, 49, 240),\n",
       " (29295, 15, 946),\n",
       " (35376, 16, 1073),\n",
       " (42245, 17, 1208),\n",
       " (49950, 18, 1351),\n",
       " (54600, 6, 4369),\n",
       " (58539, 19, 1502),\n",
       " (60819, 3, 9406),\n",
       " (65208, 48, 628),\n",
       " (68060, 20, 1661),\n",
       " (78561, 21, 1828),\n",
       " (90090, 22, 2003),\n",
       " (97440, 7, 6721)}"
      ]
     },
     "metadata": {},
     "output_type": "display_data"
    }
   ],
   "source": [
    "s"
   ]
  },
  {
   "cell_type": "code",
   "execution_count": null,
   "metadata": {},
   "outputs": [
    {
     "data": {
      "text/plain": [
       "(5992764.0, 5992764.0)"
      ]
     },
     "metadata": {},
     "output_type": "display_data"
    }
   ],
   "source": [
    "sosq_range(820 - 8, 9), sosq_range(820 + 42, 8)"
   ]
  },
  {
   "cell_type": "code",
   "execution_count": null,
   "metadata": {},
   "outputs": [
    {
     "data": {
      "text/plain": [
       "[5, 7, 7]"
      ]
     },
     "metadata": {},
     "output_type": "display_data"
    }
   ],
   "source": [
    "pfs(240+5)"
   ]
  },
  {
   "cell_type": "code",
   "execution_count": null,
   "metadata": {},
   "outputs": [
    {
     "data": {
      "text/plain": [
       "[3, 11, 17, 19, 37]"
      ]
     },
     "metadata": {},
     "output_type": "display_data"
    }
   ],
   "source": [
    "pfs(628**2-1)"
   ]
  },
  {
   "cell_type": "code",
   "execution_count": null,
   "metadata": {},
   "outputs": [
    {
     "data": {
      "text/plain": [
       "[3, 73]"
      ]
     },
     "metadata": {},
     "output_type": "display_data"
    }
   ],
   "source": [
    "pfs(219)"
   ]
  },
  {
   "cell_type": "code",
   "execution_count": null,
   "metadata": {},
   "outputs": [],
   "source": [
    "pfs(219)"
   ]
  },
  {
   "cell_type": "code",
   "execution_count": null,
   "metadata": {},
   "outputs": [
    {
     "data": {
      "text/plain": [
       "277236"
      ]
     },
     "metadata": {},
     "output_type": "display_data"
    }
   ],
   "source": [
    "276416 + 820"
   ]
  },
  {
   "cell_type": "code",
   "execution_count": null,
   "metadata": {},
   "outputs": [
    {
     "data": {
      "text/plain": [
       "[1, 2, 4, 8, 13, 16, 26, 52, 104, 208]"
      ]
     },
     "metadata": {},
     "output_type": "display_data"
    }
   ],
   "source": [
    "divisors((1674 // 8 - 1))"
   ]
  },
  {
   "cell_type": "code",
   "execution_count": null,
   "metadata": {},
   "outputs": [
    {
     "data": {
      "text/plain": [
       "2"
      ]
     },
     "metadata": {},
     "output_type": "display_data"
    }
   ],
   "source": [
    "gcd(27724, 1674)"
   ]
  },
  {
   "cell_type": "code",
   "execution_count": null,
   "metadata": {},
   "outputs": [
    {
     "data": {
      "text/plain": [
       "[2, 3, 7]"
      ]
     },
     "metadata": {},
     "output_type": "display_data"
    }
   ],
   "source": [
    "pfs(42)"
   ]
  },
  {
   "cell_type": "code",
   "execution_count": null,
   "metadata": {},
   "outputs": [
    {
     "data": {
      "text/plain": [
       "[3, 73]"
      ]
     },
     "metadata": {},
     "output_type": "display_data"
    }
   ],
   "source": [
    "pfs(219)"
   ]
  },
  {
   "cell_type": "code",
   "execution_count": null,
   "metadata": {},
   "outputs": [
    {
     "data": {
      "text/plain": [
       "[1, 239]"
      ]
     },
     "metadata": {},
     "output_type": "display_data"
    }
   ],
   "source": [
    "divisors(240**1-1)"
   ]
  },
  {
   "cell_type": "code",
   "execution_count": null,
   "metadata": {},
   "outputs": [
    {
     "data": {
      "text/plain": [
       "[8,\n",
       " 23,\n",
       " 42,\n",
       " 46,\n",
       " 49,\n",
       " 77,\n",
       " 116,\n",
       " 163,\n",
       " 218,\n",
       " 219,\n",
       " 240,\n",
       " 241,\n",
       " 281,\n",
       " 288,\n",
       " 352,\n",
       " 431,\n",
       " 518,\n",
       " 613,\n",
       " 628,\n",
       " 673,\n",
       " 716,\n",
       " 827,\n",
       " 946,\n",
       " 1073,\n",
       " 1208,\n",
       " 1351,\n",
       " 1441,\n",
       " 1502,\n",
       " 1661,\n",
       " 1674,\n",
       " 1681,\n",
       " 1828,\n",
       " 2003,\n",
       " 2399,\n",
       " 2641,\n",
       " 4369,\n",
       " 6721,\n",
       " 9406,\n",
       " 9800]"
      ]
     },
     "metadata": {},
     "output_type": "display_data"
    }
   ],
   "source": [
    "sorted(cc.keys())"
   ]
  },
  {
   "cell_type": "code",
   "execution_count": null,
   "metadata": {},
   "outputs": [
    {
     "data": {
      "text/plain": [
       "[1, 2, 4, 157, 314, 628]"
      ]
     },
     "metadata": {},
     "output_type": "display_data"
    }
   ],
   "source": [
    "divisors(628)"
   ]
  },
  {
   "cell_type": "code",
   "execution_count": null,
   "metadata": {},
   "outputs": [
    {
     "data": {
      "text/plain": [
       "245"
      ]
     },
     "metadata": {},
     "output_type": "display_data"
    }
   ],
   "source": [
    "49 * 5"
   ]
  },
  {
   "cell_type": "code",
   "execution_count": null,
   "metadata": {},
   "outputs": [],
   "source": [
    "1, - 2*m**2 - 2*k*m, -k**2*m - k*m**2 + k*m + m**2"
   ]
  },
  {
   "cell_type": "code",
   "execution_count": null,
   "metadata": {},
   "outputs": [],
   "source": [
    "N = m**2 + k*m +- sqrt((-m**2 - k*m)^2 + k**2*m + k*m**2 - k*m - m**2)"
   ]
  },
  {
   "cell_type": "code",
   "execution_count": null,
   "metadata": {},
   "outputs": [],
   "source": [
    "m**4 + 2 * k*m**3 + k**2 * m**2 + k**2*m + k*m**2 - k*m - m**2\n",
    "\n"
   ]
  },
  {
   "cell_type": "code",
   "execution_count": null,
   "metadata": {},
   "outputs": [
    {
     "data": {
      "text/plain": [
       "624"
      ]
     },
     "metadata": {},
     "output_type": "display_data"
    }
   ],
   "source": [
    "48 * 13"
   ]
  },
  {
   "cell_type": "code",
   "execution_count": null,
   "metadata": {},
   "outputs": [
    {
     "data": {
      "text/plain": [
       "[2, 2, 2, 2, 3, 5]"
      ]
     },
     "metadata": {},
     "output_type": "display_data"
    }
   ],
   "source": [
    "pfs(240)"
   ]
  },
  {
   "cell_type": "code",
   "execution_count": null,
   "metadata": {},
   "outputs": [
    {
     "name": "stdout",
     "output_type": "stream",
     "text": [
      "820\n"
     ]
    }
   ],
   "source": [
    "for e in s:\n",
    "    if e not in S:\n",
    "        print(e)"
   ]
  }
 ],
 "metadata": {
  "kernelspec": {
   "display_name": "Python 3",
   "language": "python",
   "name": "python3"
  },
  "language_info": {
   "codemirror_mode": {
    "name": "ipython",
    "version": 3
   },
   "file_extension": ".py",
   "mimetype": "text/x-python",
   "name": "python",
   "nbconvert_exporter": "python",
   "pygments_lexer": "ipython3",
   "version": "3.9.6"
  }
 },
 "nbformat": 4,
 "nbformat_minor": 2
}
