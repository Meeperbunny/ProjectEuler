{
 "cells": [
  {
   "cell_type": "code",
   "execution_count": 49,
   "id": "7bfd69af-05c6-472b-aa07-2b0851f53f8a",
   "metadata": {},
   "outputs": [],
   "source": [
    "m = 10**9"
   ]
  },
  {
   "cell_type": "code",
   "execution_count": null,
   "id": "cb2ee5fe-f1db-4066-8859-e498dbe6d720",
   "metadata": {},
   "outputs": [],
   "source": [
    "def E(n, k, a, b, c, mod):\n",
    "    \n",
    "    A = [\n",
    "        [0, n - 1, n - 1],\n",
    "        [n - 1, 0, n - 1],\n",
    "        [n - 1, n - 1, 0],\n",
    "    ]\n",
    "    if n & 1:\n",
    "        A[0][2] = n\n",
    "    else:\n",
    "        A[2][0] = n - 2\n",
    "\n",
    "    # Add one for b to a\n",
    "    A[1][0] += 1\n",
    "    \n",
    "    m = [\n",
    "        [0, (b + a - 2), (c + a - 2)],\n",
    "        [(2 * k - b - a), 0, (c + b - 2)],\n",
    "        [(2 * k - c - a), (2 * k - c - b), 0],\n",
    "    ]\n",
    "\n",
    "    mm = [\n",
    "        [0, (b - a), (c - a)],\n",
    "        [(b - a), 0, (c - b)],\n",
    "        [(c - a), (c - b), 0],\n",
    "    ]\n",
    "\n",
    "    t = 0\n",
    "    # print(m)\n",
    "    # print(A)\n",
    "    for i in range(3):\n",
    "        for q in range(3):\n",
    "            m[i][q] %= mod\n",
    "            m[i][q] += mod\n",
    "            m[i][q] %= mod\n",
    "            mm[i][q] %= mod\n",
    "            mm[i][q] += mod\n",
    "            mm[i][q] %= mod\n",
    "            A[i][q] %= mod\n",
    "            A[i][q] += mod\n",
    "            A[i][q] %= mod\n",
    "            t += A[i][q] * m[i][q] * mm[i][q]\n",
    "            t %= mod\n",
    "    return t"
   ]
  },
  {
   "cell_type": "code",
   "execution_count": 163,
   "id": "c7521ca8-9d32-4078-948f-95dc5dfd4018",
   "metadata": {},
   "outputs": [],
   "source": [
    "def E(n, k, a, b, c):\n",
    "    \n",
    "    A = [\n",
    "        [0, n - 1, n - 1],\n",
    "        [n - 1, 0, n - 1],\n",
    "        [n - 1, n - 1, 0],\n",
    "    ]\n",
    "    if n & 1:\n",
    "        A[0][2] = n\n",
    "    else:\n",
    "        A[2][0] = n - 2\n",
    "\n",
    "    # Add one for b to a\n",
    "    A[1][0] += 1\n",
    "    \n",
    "    m = [\n",
    "        [0, (b + a - 2), (c + a - 2)],\n",
    "        [(2 * k - b - a), 0, (c + b - 2)],\n",
    "        [(2 * k - c - a), (2 * k - c - b), 0],\n",
    "    ]\n",
    "\n",
    "    mm = [\n",
    "        [0, (b - a), (c - a)],\n",
    "        [(b - a), 0, (c - b)],\n",
    "        [(c - a), (c - b), 0],\n",
    "    ]\n",
    "\n",
    "    t = 0\n",
    "    # print(m)\n",
    "    # print(A)\n",
    "    for i in range(3):\n",
    "        for q in range(3):\n",
    "            t += A[i][q] * m[i][q] * mm[i][q]\n",
    "    return t"
   ]
  },
  {
   "cell_type": "code",
   "execution_count": 165,
   "id": "c412c217-31a5-4388-a5f3-c7fc1415c615",
   "metadata": {},
   "outputs": [
    {
     "data": {
      "text/plain": [
       "(60, 2358)"
      ]
     },
     "execution_count": 165,
     "metadata": {},
     "output_type": "execute_result"
    }
   ],
   "source": [
    "m = 10**9\n",
    "# E(2, 5, 1, 3, 5, m), E(3, 20, 4, 9, 17, m)\n",
    "E(2, 5, 1, 3, 5), E(3, 20, 4, 9, 17)"
   ]
  },
  {
   "cell_type": "code",
   "execution_count": 162,
   "id": "a84bcb56-a105-48a9-9300-cf5c5f0118df",
   "metadata": {},
   "outputs": [
    {
     "name": "stdout",
     "output_type": "stream",
     "text": [
      "99741545697\n"
     ]
    }
   ],
   "source": [
    "t = 0\n",
    "m = 10**100\n",
    "for n in range(1, 5 + 1):\n",
    "    t += E(n, pow(10, n), pow(3, n), pow(6, n), pow(9, n), m)\n",
    "    # t += E(n, pow(10, n, m), pow(3, n, m), pow(6, n, m), pow(9, n, m), m)\n",
    "print(t)"
   ]
  },
  {
   "cell_type": "code",
   "execution_count": 122,
   "id": "a0465e83-0af8-4c62-a066-87e1e08787ec",
   "metadata": {},
   "outputs": [
    {
     "data": {
      "text/plain": [
       "324198860"
      ]
     },
     "execution_count": 122,
     "metadata": {},
     "output_type": "execute_result"
    }
   ],
   "source": [
    "99741545697"
   ]
  }
 ],
 "metadata": {
  "kernelspec": {
   "display_name": "Python 3 (ipykernel)",
   "language": "python",
   "name": "python3"
  },
  "language_info": {
   "codemirror_mode": {
    "name": "ipython",
    "version": 3
   },
   "file_extension": ".py",
   "mimetype": "text/x-python",
   "name": "python",
   "nbconvert_exporter": "python",
   "pygments_lexer": "ipython3",
   "version": "3.12.4"
  }
 },
 "nbformat": 4,
 "nbformat_minor": 5
}
